{
 "cells": [
  {
   "cell_type": "code",
   "execution_count": 170,
   "metadata": {},
   "outputs": [],
   "source": [
    "import pandas as pd \n",
    "import plotly.express as px\n",
    "import plotly.graph_objects as go\n",
    "import numpy as np \n",
    "import seaborn as sns\n",
    "import matplotlib.pyplot as plt\n",
    "\n",
    "%matplotlib inline"
   ]
  },
  {
   "cell_type": "code",
   "execution_count": 2,
   "metadata": {},
   "outputs": [],
   "source": [
    "tech_areas = pd.read_csv(\"data/3rd_block/industry_4_0_technological_areas_of_acquisitions.csv\")"
   ]
  },
  {
   "cell_type": "code",
   "execution_count": 3,
   "metadata": {},
   "outputs": [
    {
     "output_type": "execute_result",
     "data": {
      "text/plain": "  ITTER107   Territory          VARICT                Data type  ATECO_2007  \\\n0      ITC  Nord-ovest  E_INV_IOT_PERC  Internet of things area          35   \n1      ITC  Nord-ovest   E_INV_3D_PERC         3D printing area          35   \n2      ITC  Nord-ovest  E_INV_ROB_PERC             robotic area          35   \n3      ITC  Nord-ovest   E_INV_CC_PERC     cloud computing area          35   \n4      ITC  Nord-ovest  E_INV_APP_PERC     web application area          35   \n\n                                           NACE 2007   CLLVT  \\\n0  total economic activities  (c-n, including 951...  W_GE10   \n1  total economic activities  (c-n, including 951...  W_GE10   \n2  total economic activities  (c-n, including 951...  W_GE10   \n3  total economic activities  (c-n, including 951...  W_GE10   \n4  total economic activities  (c-n, including 951...  W_GE10   \n\n  Size classes of persons employed  TIME  Select time  Value  Flag Codes  \\\n0                      10 and over  2017         2017  11.04         NaN   \n1                      10 and over  2017         2017   2.93         NaN   \n2                      10 and over  2017         2017   4.78         NaN   \n3                      10 and over  2017         2017  18.24         NaN   \n4                      10 and over  2017         2017  29.16         NaN   \n\n   Flags  \n0    NaN  \n1    NaN  \n2    NaN  \n3    NaN  \n4    NaN  ",
      "text/html": "<div>\n<style scoped>\n    .dataframe tbody tr th:only-of-type {\n        vertical-align: middle;\n    }\n\n    .dataframe tbody tr th {\n        vertical-align: top;\n    }\n\n    .dataframe thead th {\n        text-align: right;\n    }\n</style>\n<table border=\"1\" class=\"dataframe\">\n  <thead>\n    <tr style=\"text-align: right;\">\n      <th></th>\n      <th>ITTER107</th>\n      <th>Territory</th>\n      <th>VARICT</th>\n      <th>Data type</th>\n      <th>ATECO_2007</th>\n      <th>NACE 2007</th>\n      <th>CLLVT</th>\n      <th>Size classes of persons employed</th>\n      <th>TIME</th>\n      <th>Select time</th>\n      <th>Value</th>\n      <th>Flag Codes</th>\n      <th>Flags</th>\n    </tr>\n  </thead>\n  <tbody>\n    <tr>\n      <th>0</th>\n      <td>ITC</td>\n      <td>Nord-ovest</td>\n      <td>E_INV_IOT_PERC</td>\n      <td>Internet of things area</td>\n      <td>35</td>\n      <td>total economic activities  (c-n, including 951...</td>\n      <td>W_GE10</td>\n      <td>10 and over</td>\n      <td>2017</td>\n      <td>2017</td>\n      <td>11.04</td>\n      <td>NaN</td>\n      <td>NaN</td>\n    </tr>\n    <tr>\n      <th>1</th>\n      <td>ITC</td>\n      <td>Nord-ovest</td>\n      <td>E_INV_3D_PERC</td>\n      <td>3D printing area</td>\n      <td>35</td>\n      <td>total economic activities  (c-n, including 951...</td>\n      <td>W_GE10</td>\n      <td>10 and over</td>\n      <td>2017</td>\n      <td>2017</td>\n      <td>2.93</td>\n      <td>NaN</td>\n      <td>NaN</td>\n    </tr>\n    <tr>\n      <th>2</th>\n      <td>ITC</td>\n      <td>Nord-ovest</td>\n      <td>E_INV_ROB_PERC</td>\n      <td>robotic area</td>\n      <td>35</td>\n      <td>total economic activities  (c-n, including 951...</td>\n      <td>W_GE10</td>\n      <td>10 and over</td>\n      <td>2017</td>\n      <td>2017</td>\n      <td>4.78</td>\n      <td>NaN</td>\n      <td>NaN</td>\n    </tr>\n    <tr>\n      <th>3</th>\n      <td>ITC</td>\n      <td>Nord-ovest</td>\n      <td>E_INV_CC_PERC</td>\n      <td>cloud computing area</td>\n      <td>35</td>\n      <td>total economic activities  (c-n, including 951...</td>\n      <td>W_GE10</td>\n      <td>10 and over</td>\n      <td>2017</td>\n      <td>2017</td>\n      <td>18.24</td>\n      <td>NaN</td>\n      <td>NaN</td>\n    </tr>\n    <tr>\n      <th>4</th>\n      <td>ITC</td>\n      <td>Nord-ovest</td>\n      <td>E_INV_APP_PERC</td>\n      <td>web application area</td>\n      <td>35</td>\n      <td>total economic activities  (c-n, including 951...</td>\n      <td>W_GE10</td>\n      <td>10 and over</td>\n      <td>2017</td>\n      <td>2017</td>\n      <td>29.16</td>\n      <td>NaN</td>\n      <td>NaN</td>\n    </tr>\n  </tbody>\n</table>\n</div>"
     },
     "metadata": {},
     "execution_count": 3
    }
   ],
   "source": [
    "tech_areas.head()"
   ]
  },
  {
   "cell_type": "code",
   "execution_count": 5,
   "metadata": {},
   "outputs": [],
   "source": [
    "tech_areas = tech_areas.drop([\"ITTER107\", \"VARICT\", \"ATECO_2007\", \"CLLVT\", \"Select time\", \"Flag Codes\", \"Flags\"], axis=1)"
   ]
  },
  {
   "cell_type": "code",
   "execution_count": 182,
   "metadata": {},
   "outputs": [
    {
     "output_type": "execute_result",
     "data": {
      "text/plain": "    Territory                      Data type  \\\n0  Nord-ovest        Internet of things area   \n1  Nord-ovest               3D printing area   \n2  Nord-ovest                   robotic area   \n3  Nord-ovest           cloud computing area   \n4  Nord-ovest           web application area   \n5  Nord-ovest              online sales area   \n6  Nord-ovest              social media area   \n7  Nord-ovest        Big Data Analytics area   \n8  Nord-ovest  augmented and virtual reality   \n9  Nord-ovest               IT security area   \n\n                                           NACE 2007  \\\n0  total economic activities  (c-n, including 951...   \n1  total economic activities  (c-n, including 951...   \n2  total economic activities  (c-n, including 951...   \n3  total economic activities  (c-n, including 951...   \n4  total economic activities  (c-n, including 951...   \n5  total economic activities  (c-n, including 951...   \n6  total economic activities  (c-n, including 951...   \n7  total economic activities  (c-n, including 951...   \n8  total economic activities  (c-n, including 951...   \n9  total economic activities  (c-n, including 951...   \n\n  Size classes of persons employed  TIME  Value  Italy  \n0                      10 and over  2017  11.04  Italy  \n1                      10 and over  2017   2.93  Italy  \n2                      10 and over  2017   4.78  Italy  \n3                      10 and over  2017  18.24  Italy  \n4                      10 and over  2017  29.16  Italy  \n5                      10 and over  2017  10.20  Italy  \n6                      10 and over  2017  16.30  Italy  \n7                      10 and over  2017   5.08  Italy  \n8                      10 and over  2017   1.10  Italy  \n9                      10 and over  2017  49.46  Italy  ",
      "text/html": "<div>\n<style scoped>\n    .dataframe tbody tr th:only-of-type {\n        vertical-align: middle;\n    }\n\n    .dataframe tbody tr th {\n        vertical-align: top;\n    }\n\n    .dataframe thead th {\n        text-align: right;\n    }\n</style>\n<table border=\"1\" class=\"dataframe\">\n  <thead>\n    <tr style=\"text-align: right;\">\n      <th></th>\n      <th>Territory</th>\n      <th>Data type</th>\n      <th>NACE 2007</th>\n      <th>Size classes of persons employed</th>\n      <th>TIME</th>\n      <th>Value</th>\n      <th>Italy</th>\n    </tr>\n  </thead>\n  <tbody>\n    <tr>\n      <th>0</th>\n      <td>Nord-ovest</td>\n      <td>Internet of things area</td>\n      <td>total economic activities  (c-n, including 951...</td>\n      <td>10 and over</td>\n      <td>2017</td>\n      <td>11.04</td>\n      <td>Italy</td>\n    </tr>\n    <tr>\n      <th>1</th>\n      <td>Nord-ovest</td>\n      <td>3D printing area</td>\n      <td>total economic activities  (c-n, including 951...</td>\n      <td>10 and over</td>\n      <td>2017</td>\n      <td>2.93</td>\n      <td>Italy</td>\n    </tr>\n    <tr>\n      <th>2</th>\n      <td>Nord-ovest</td>\n      <td>robotic area</td>\n      <td>total economic activities  (c-n, including 951...</td>\n      <td>10 and over</td>\n      <td>2017</td>\n      <td>4.78</td>\n      <td>Italy</td>\n    </tr>\n    <tr>\n      <th>3</th>\n      <td>Nord-ovest</td>\n      <td>cloud computing area</td>\n      <td>total economic activities  (c-n, including 951...</td>\n      <td>10 and over</td>\n      <td>2017</td>\n      <td>18.24</td>\n      <td>Italy</td>\n    </tr>\n    <tr>\n      <th>4</th>\n      <td>Nord-ovest</td>\n      <td>web application area</td>\n      <td>total economic activities  (c-n, including 951...</td>\n      <td>10 and over</td>\n      <td>2017</td>\n      <td>29.16</td>\n      <td>Italy</td>\n    </tr>\n    <tr>\n      <th>5</th>\n      <td>Nord-ovest</td>\n      <td>online sales area</td>\n      <td>total economic activities  (c-n, including 951...</td>\n      <td>10 and over</td>\n      <td>2017</td>\n      <td>10.20</td>\n      <td>Italy</td>\n    </tr>\n    <tr>\n      <th>6</th>\n      <td>Nord-ovest</td>\n      <td>social media area</td>\n      <td>total economic activities  (c-n, including 951...</td>\n      <td>10 and over</td>\n      <td>2017</td>\n      <td>16.30</td>\n      <td>Italy</td>\n    </tr>\n    <tr>\n      <th>7</th>\n      <td>Nord-ovest</td>\n      <td>Big Data Analytics area</td>\n      <td>total economic activities  (c-n, including 951...</td>\n      <td>10 and over</td>\n      <td>2017</td>\n      <td>5.08</td>\n      <td>Italy</td>\n    </tr>\n    <tr>\n      <th>8</th>\n      <td>Nord-ovest</td>\n      <td>augmented and virtual reality</td>\n      <td>total economic activities  (c-n, including 951...</td>\n      <td>10 and over</td>\n      <td>2017</td>\n      <td>1.10</td>\n      <td>Italy</td>\n    </tr>\n    <tr>\n      <th>9</th>\n      <td>Nord-ovest</td>\n      <td>IT security area</td>\n      <td>total economic activities  (c-n, including 951...</td>\n      <td>10 and over</td>\n      <td>2017</td>\n      <td>49.46</td>\n      <td>Italy</td>\n    </tr>\n  </tbody>\n</table>\n</div>"
     },
     "metadata": {},
     "execution_count": 182
    }
   ],
   "source": [
    "tech_areas.head(10)"
   ]
  },
  {
   "cell_type": "code",
   "execution_count": 202,
   "metadata": {},
   "outputs": [],
   "source": [
    "# Enterprises which had acquired goods/services in technological areas in the previous three years (percentages)\n",
    "types = ['Internet of things area', '3D printing area', 'robotic area', 'cloud computing area', 'web application area', 'online sales area', 'social media area', 'Big Data Analytics area', 'augmented and virtual reality', 'IT security area']\n",
    "tech_areas_acquired = tech_areas.loc[tech_areas['Data type'].isin(types)]\n",
    "\n",
    "# Enterprises indicating the first five technological areas with greater impact on development in the two-year period, by indicated area (percentages)\n",
    "tech_areas_impact = tech_areas.loc[~tech_areas['Data type'].isin(types)]"
   ]
  },
  {
   "cell_type": "code",
   "execution_count": 205,
   "metadata": {},
   "outputs": [
    {
     "output_type": "display_data",
     "data": {
      "application/vnd.plotly.v1+json": {
       "config": {
        "plotlyServerURL": "https://plot.ly"
       },
       "data": [
        {
         "branchvalues": "total",
         "customdata": [
          [
           1.78
          ],
          [
           2.7
          ],
          [
           3.07
          ],
          [
           2.93
          ],
          [
           4
          ],
          [
           5.96
          ],
          [
           4.52
          ],
          [
           5.08
          ],
          [
           40.05
          ],
          [
           35.11
          ],
          [
           50.21
          ],
          [
           49.46
          ],
          [
           8.78
          ],
          [
           10.16
          ],
          [
           9.29
          ],
          [
           11.04
          ],
          [
           1.62
          ],
          [
           1.24
          ],
          [
           1.37
          ],
          [
           1.1
          ],
          [
           14.56
          ],
          [
           13.71
          ],
          [
           16.26
          ],
          [
           18.24
          ],
          [
           11.59
          ],
          [
           11.92
          ],
          [
           12.29
          ],
          [
           10.2
          ],
          [
           2.2
          ],
          [
           1.65
          ],
          [
           4.12
          ],
          [
           4.78
          ],
          [
           19.85
          ],
          [
           17.2
          ],
          [
           20.66
          ],
          [
           16.3
          ],
          [
           26.62
          ],
          [
           23.57
          ],
          [
           30.33
          ],
          [
           29.16
          ],
          [
           13.105
          ],
          [
           12.322
          ],
          [
           15.212
          ],
          [
           14.828999999999999
          ],
          [
           13.867
          ]
         ],
         "domain": {
          "x": [
           0,
           1
          ],
          "y": [
           0,
           1
          ]
         },
         "hovertemplate": "labels=%{label}<br>count=%{value}<br>parent=%{parent}<br>id=%{id}<br>Value=%{color}<extra></extra>",
         "ids": [
          "Italy/Centro (I)/3D printing area",
          "Italy/Mezzogiorno/3D printing area",
          "Italy/Nord-est/3D printing area",
          "Italy/Nord-ovest/3D printing area",
          "Italy/Centro (I)/Big Data Analytics area",
          "Italy/Mezzogiorno/Big Data Analytics area",
          "Italy/Nord-est/Big Data Analytics area",
          "Italy/Nord-ovest/Big Data Analytics area",
          "Italy/Centro (I)/IT security area",
          "Italy/Mezzogiorno/IT security area",
          "Italy/Nord-est/IT security area",
          "Italy/Nord-ovest/IT security area",
          "Italy/Centro (I)/Internet of things area",
          "Italy/Mezzogiorno/Internet of things area",
          "Italy/Nord-est/Internet of things area",
          "Italy/Nord-ovest/Internet of things area",
          "Italy/Centro (I)/augmented and virtual reality",
          "Italy/Mezzogiorno/augmented and virtual reality",
          "Italy/Nord-est/augmented and virtual reality",
          "Italy/Nord-ovest/augmented and virtual reality",
          "Italy/Centro (I)/cloud computing area",
          "Italy/Mezzogiorno/cloud computing area",
          "Italy/Nord-est/cloud computing area",
          "Italy/Nord-ovest/cloud computing area",
          "Italy/Centro (I)/online sales area",
          "Italy/Mezzogiorno/online sales area",
          "Italy/Nord-est/online sales area",
          "Italy/Nord-ovest/online sales area",
          "Italy/Centro (I)/robotic area",
          "Italy/Mezzogiorno/robotic area",
          "Italy/Nord-est/robotic area",
          "Italy/Nord-ovest/robotic area",
          "Italy/Centro (I)/social media area",
          "Italy/Mezzogiorno/social media area",
          "Italy/Nord-est/social media area",
          "Italy/Nord-ovest/social media area",
          "Italy/Centro (I)/web application area",
          "Italy/Mezzogiorno/web application area",
          "Italy/Nord-est/web application area",
          "Italy/Nord-ovest/web application area",
          "Italy/Centro (I)",
          "Italy/Mezzogiorno",
          "Italy/Nord-est",
          "Italy/Nord-ovest",
          "Italy"
         ],
         "labels": [
          "3D printing area",
          "3D printing area",
          "3D printing area",
          "3D printing area",
          "Big Data Analytics area",
          "Big Data Analytics area",
          "Big Data Analytics area",
          "Big Data Analytics area",
          "IT security area",
          "IT security area",
          "IT security area",
          "IT security area",
          "Internet of things area",
          "Internet of things area",
          "Internet of things area",
          "Internet of things area",
          "augmented and virtual reality",
          "augmented and virtual reality",
          "augmented and virtual reality",
          "augmented and virtual reality",
          "cloud computing area",
          "cloud computing area",
          "cloud computing area",
          "cloud computing area",
          "online sales area",
          "online sales area",
          "online sales area",
          "online sales area",
          "robotic area",
          "robotic area",
          "robotic area",
          "robotic area",
          "social media area",
          "social media area",
          "social media area",
          "social media area",
          "web application area",
          "web application area",
          "web application area",
          "web application area",
          "Centro (I)",
          "Mezzogiorno",
          "Nord-est",
          "Nord-ovest",
          "Italy"
         ],
         "marker": {
          "coloraxis": "coloraxis",
          "colors": [
           1.78,
           2.7,
           3.07,
           2.93,
           4,
           5.96,
           4.52,
           5.08,
           40.05,
           35.11,
           50.21,
           49.46,
           8.78,
           10.16,
           9.29,
           11.04,
           1.62,
           1.24,
           1.37,
           1.1,
           14.56,
           13.71,
           16.26,
           18.24,
           11.59,
           11.92,
           12.29,
           10.2,
           2.2,
           1.65,
           4.12,
           4.78,
           19.85,
           17.2,
           20.66,
           16.3,
           26.62,
           23.57,
           30.33,
           29.16,
           13.105,
           12.322,
           15.212,
           14.828999999999999,
           13.867
          ]
         },
         "name": "",
         "parents": [
          "Italy/Centro (I)",
          "Italy/Mezzogiorno",
          "Italy/Nord-est",
          "Italy/Nord-ovest",
          "Italy/Centro (I)",
          "Italy/Mezzogiorno",
          "Italy/Nord-est",
          "Italy/Nord-ovest",
          "Italy/Centro (I)",
          "Italy/Mezzogiorno",
          "Italy/Nord-est",
          "Italy/Nord-ovest",
          "Italy/Centro (I)",
          "Italy/Mezzogiorno",
          "Italy/Nord-est",
          "Italy/Nord-ovest",
          "Italy/Centro (I)",
          "Italy/Mezzogiorno",
          "Italy/Nord-est",
          "Italy/Nord-ovest",
          "Italy/Centro (I)",
          "Italy/Mezzogiorno",
          "Italy/Nord-est",
          "Italy/Nord-ovest",
          "Italy/Centro (I)",
          "Italy/Mezzogiorno",
          "Italy/Nord-est",
          "Italy/Nord-ovest",
          "Italy/Centro (I)",
          "Italy/Mezzogiorno",
          "Italy/Nord-est",
          "Italy/Nord-ovest",
          "Italy/Centro (I)",
          "Italy/Mezzogiorno",
          "Italy/Nord-est",
          "Italy/Nord-ovest",
          "Italy/Centro (I)",
          "Italy/Mezzogiorno",
          "Italy/Nord-est",
          "Italy/Nord-ovest",
          "Italy",
          "Italy",
          "Italy",
          "Italy",
          ""
         ],
         "type": "treemap",
         "values": [
          1,
          1,
          1,
          1,
          1,
          1,
          1,
          1,
          1,
          1,
          1,
          1,
          1,
          1,
          1,
          1,
          1,
          1,
          1,
          1,
          1,
          1,
          1,
          1,
          1,
          1,
          1,
          1,
          1,
          1,
          1,
          1,
          1,
          1,
          1,
          1,
          1,
          1,
          1,
          1,
          10,
          10,
          10,
          10,
          40
         ]
        }
       ],
       "layout": {
        "coloraxis": {
         "cmax": 50.21,
         "cmid": 13.867,
         "cmin": 0,
         "colorbar": {
          "title": {
           "text": "Value"
          }
         },
         "colorscale": [
          [
           0,
           "#440154"
          ],
          [
           0.1111111111111111,
           "#482878"
          ],
          [
           0.2222222222222222,
           "#3e4989"
          ],
          [
           0.3333333333333333,
           "#31688e"
          ],
          [
           0.4444444444444444,
           "#26828e"
          ],
          [
           0.5555555555555556,
           "#1f9e89"
          ],
          [
           0.6666666666666666,
           "#35b779"
          ],
          [
           0.7777777777777778,
           "#6ece58"
          ],
          [
           0.8888888888888888,
           "#b5de2b"
          ],
          [
           1,
           "#fde725"
          ]
         ]
        },
        "height": 800,
        "legend": {
         "tracegroupgap": 0
        },
        "margin": {
         "t": 60
        },
        "template": {
         "data": {
          "bar": [
           {
            "error_x": {
             "color": "#2a3f5f"
            },
            "error_y": {
             "color": "#2a3f5f"
            },
            "marker": {
             "line": {
              "color": "#E5ECF6",
              "width": 0.5
             }
            },
            "type": "bar"
           }
          ],
          "barpolar": [
           {
            "marker": {
             "line": {
              "color": "#E5ECF6",
              "width": 0.5
             }
            },
            "type": "barpolar"
           }
          ],
          "carpet": [
           {
            "aaxis": {
             "endlinecolor": "#2a3f5f",
             "gridcolor": "white",
             "linecolor": "white",
             "minorgridcolor": "white",
             "startlinecolor": "#2a3f5f"
            },
            "baxis": {
             "endlinecolor": "#2a3f5f",
             "gridcolor": "white",
             "linecolor": "white",
             "minorgridcolor": "white",
             "startlinecolor": "#2a3f5f"
            },
            "type": "carpet"
           }
          ],
          "choropleth": [
           {
            "colorbar": {
             "outlinewidth": 0,
             "ticks": ""
            },
            "type": "choropleth"
           }
          ],
          "contour": [
           {
            "colorbar": {
             "outlinewidth": 0,
             "ticks": ""
            },
            "colorscale": [
             [
              0,
              "#0d0887"
             ],
             [
              0.1111111111111111,
              "#46039f"
             ],
             [
              0.2222222222222222,
              "#7201a8"
             ],
             [
              0.3333333333333333,
              "#9c179e"
             ],
             [
              0.4444444444444444,
              "#bd3786"
             ],
             [
              0.5555555555555556,
              "#d8576b"
             ],
             [
              0.6666666666666666,
              "#ed7953"
             ],
             [
              0.7777777777777778,
              "#fb9f3a"
             ],
             [
              0.8888888888888888,
              "#fdca26"
             ],
             [
              1,
              "#f0f921"
             ]
            ],
            "type": "contour"
           }
          ],
          "contourcarpet": [
           {
            "colorbar": {
             "outlinewidth": 0,
             "ticks": ""
            },
            "type": "contourcarpet"
           }
          ],
          "heatmap": [
           {
            "colorbar": {
             "outlinewidth": 0,
             "ticks": ""
            },
            "colorscale": [
             [
              0,
              "#0d0887"
             ],
             [
              0.1111111111111111,
              "#46039f"
             ],
             [
              0.2222222222222222,
              "#7201a8"
             ],
             [
              0.3333333333333333,
              "#9c179e"
             ],
             [
              0.4444444444444444,
              "#bd3786"
             ],
             [
              0.5555555555555556,
              "#d8576b"
             ],
             [
              0.6666666666666666,
              "#ed7953"
             ],
             [
              0.7777777777777778,
              "#fb9f3a"
             ],
             [
              0.8888888888888888,
              "#fdca26"
             ],
             [
              1,
              "#f0f921"
             ]
            ],
            "type": "heatmap"
           }
          ],
          "heatmapgl": [
           {
            "colorbar": {
             "outlinewidth": 0,
             "ticks": ""
            },
            "colorscale": [
             [
              0,
              "#0d0887"
             ],
             [
              0.1111111111111111,
              "#46039f"
             ],
             [
              0.2222222222222222,
              "#7201a8"
             ],
             [
              0.3333333333333333,
              "#9c179e"
             ],
             [
              0.4444444444444444,
              "#bd3786"
             ],
             [
              0.5555555555555556,
              "#d8576b"
             ],
             [
              0.6666666666666666,
              "#ed7953"
             ],
             [
              0.7777777777777778,
              "#fb9f3a"
             ],
             [
              0.8888888888888888,
              "#fdca26"
             ],
             [
              1,
              "#f0f921"
             ]
            ],
            "type": "heatmapgl"
           }
          ],
          "histogram": [
           {
            "marker": {
             "colorbar": {
              "outlinewidth": 0,
              "ticks": ""
             }
            },
            "type": "histogram"
           }
          ],
          "histogram2d": [
           {
            "colorbar": {
             "outlinewidth": 0,
             "ticks": ""
            },
            "colorscale": [
             [
              0,
              "#0d0887"
             ],
             [
              0.1111111111111111,
              "#46039f"
             ],
             [
              0.2222222222222222,
              "#7201a8"
             ],
             [
              0.3333333333333333,
              "#9c179e"
             ],
             [
              0.4444444444444444,
              "#bd3786"
             ],
             [
              0.5555555555555556,
              "#d8576b"
             ],
             [
              0.6666666666666666,
              "#ed7953"
             ],
             [
              0.7777777777777778,
              "#fb9f3a"
             ],
             [
              0.8888888888888888,
              "#fdca26"
             ],
             [
              1,
              "#f0f921"
             ]
            ],
            "type": "histogram2d"
           }
          ],
          "histogram2dcontour": [
           {
            "colorbar": {
             "outlinewidth": 0,
             "ticks": ""
            },
            "colorscale": [
             [
              0,
              "#0d0887"
             ],
             [
              0.1111111111111111,
              "#46039f"
             ],
             [
              0.2222222222222222,
              "#7201a8"
             ],
             [
              0.3333333333333333,
              "#9c179e"
             ],
             [
              0.4444444444444444,
              "#bd3786"
             ],
             [
              0.5555555555555556,
              "#d8576b"
             ],
             [
              0.6666666666666666,
              "#ed7953"
             ],
             [
              0.7777777777777778,
              "#fb9f3a"
             ],
             [
              0.8888888888888888,
              "#fdca26"
             ],
             [
              1,
              "#f0f921"
             ]
            ],
            "type": "histogram2dcontour"
           }
          ],
          "mesh3d": [
           {
            "colorbar": {
             "outlinewidth": 0,
             "ticks": ""
            },
            "type": "mesh3d"
           }
          ],
          "parcoords": [
           {
            "line": {
             "colorbar": {
              "outlinewidth": 0,
              "ticks": ""
             }
            },
            "type": "parcoords"
           }
          ],
          "pie": [
           {
            "automargin": true,
            "type": "pie"
           }
          ],
          "scatter": [
           {
            "marker": {
             "colorbar": {
              "outlinewidth": 0,
              "ticks": ""
             }
            },
            "type": "scatter"
           }
          ],
          "scatter3d": [
           {
            "line": {
             "colorbar": {
              "outlinewidth": 0,
              "ticks": ""
             }
            },
            "marker": {
             "colorbar": {
              "outlinewidth": 0,
              "ticks": ""
             }
            },
            "type": "scatter3d"
           }
          ],
          "scattercarpet": [
           {
            "marker": {
             "colorbar": {
              "outlinewidth": 0,
              "ticks": ""
             }
            },
            "type": "scattercarpet"
           }
          ],
          "scattergeo": [
           {
            "marker": {
             "colorbar": {
              "outlinewidth": 0,
              "ticks": ""
             }
            },
            "type": "scattergeo"
           }
          ],
          "scattergl": [
           {
            "marker": {
             "colorbar": {
              "outlinewidth": 0,
              "ticks": ""
             }
            },
            "type": "scattergl"
           }
          ],
          "scattermapbox": [
           {
            "marker": {
             "colorbar": {
              "outlinewidth": 0,
              "ticks": ""
             }
            },
            "type": "scattermapbox"
           }
          ],
          "scatterpolar": [
           {
            "marker": {
             "colorbar": {
              "outlinewidth": 0,
              "ticks": ""
             }
            },
            "type": "scatterpolar"
           }
          ],
          "scatterpolargl": [
           {
            "marker": {
             "colorbar": {
              "outlinewidth": 0,
              "ticks": ""
             }
            },
            "type": "scatterpolargl"
           }
          ],
          "scatterternary": [
           {
            "marker": {
             "colorbar": {
              "outlinewidth": 0,
              "ticks": ""
             }
            },
            "type": "scatterternary"
           }
          ],
          "surface": [
           {
            "colorbar": {
             "outlinewidth": 0,
             "ticks": ""
            },
            "colorscale": [
             [
              0,
              "#0d0887"
             ],
             [
              0.1111111111111111,
              "#46039f"
             ],
             [
              0.2222222222222222,
              "#7201a8"
             ],
             [
              0.3333333333333333,
              "#9c179e"
             ],
             [
              0.4444444444444444,
              "#bd3786"
             ],
             [
              0.5555555555555556,
              "#d8576b"
             ],
             [
              0.6666666666666666,
              "#ed7953"
             ],
             [
              0.7777777777777778,
              "#fb9f3a"
             ],
             [
              0.8888888888888888,
              "#fdca26"
             ],
             [
              1,
              "#f0f921"
             ]
            ],
            "type": "surface"
           }
          ],
          "table": [
           {
            "cells": {
             "fill": {
              "color": "#EBF0F8"
             },
             "line": {
              "color": "white"
             }
            },
            "header": {
             "fill": {
              "color": "#C8D4E3"
             },
             "line": {
              "color": "white"
             }
            },
            "type": "table"
           }
          ]
         },
         "layout": {
          "annotationdefaults": {
           "arrowcolor": "#2a3f5f",
           "arrowhead": 0,
           "arrowwidth": 1
          },
          "coloraxis": {
           "colorbar": {
            "outlinewidth": 0,
            "ticks": ""
           }
          },
          "colorscale": {
           "diverging": [
            [
             0,
             "#8e0152"
            ],
            [
             0.1,
             "#c51b7d"
            ],
            [
             0.2,
             "#de77ae"
            ],
            [
             0.3,
             "#f1b6da"
            ],
            [
             0.4,
             "#fde0ef"
            ],
            [
             0.5,
             "#f7f7f7"
            ],
            [
             0.6,
             "#e6f5d0"
            ],
            [
             0.7,
             "#b8e186"
            ],
            [
             0.8,
             "#7fbc41"
            ],
            [
             0.9,
             "#4d9221"
            ],
            [
             1,
             "#276419"
            ]
           ],
           "sequential": [
            [
             0,
             "#0d0887"
            ],
            [
             0.1111111111111111,
             "#46039f"
            ],
            [
             0.2222222222222222,
             "#7201a8"
            ],
            [
             0.3333333333333333,
             "#9c179e"
            ],
            [
             0.4444444444444444,
             "#bd3786"
            ],
            [
             0.5555555555555556,
             "#d8576b"
            ],
            [
             0.6666666666666666,
             "#ed7953"
            ],
            [
             0.7777777777777778,
             "#fb9f3a"
            ],
            [
             0.8888888888888888,
             "#fdca26"
            ],
            [
             1,
             "#f0f921"
            ]
           ],
           "sequentialminus": [
            [
             0,
             "#0d0887"
            ],
            [
             0.1111111111111111,
             "#46039f"
            ],
            [
             0.2222222222222222,
             "#7201a8"
            ],
            [
             0.3333333333333333,
             "#9c179e"
            ],
            [
             0.4444444444444444,
             "#bd3786"
            ],
            [
             0.5555555555555556,
             "#d8576b"
            ],
            [
             0.6666666666666666,
             "#ed7953"
            ],
            [
             0.7777777777777778,
             "#fb9f3a"
            ],
            [
             0.8888888888888888,
             "#fdca26"
            ],
            [
             1,
             "#f0f921"
            ]
           ]
          },
          "colorway": [
           "#636efa",
           "#EF553B",
           "#00cc96",
           "#ab63fa",
           "#FFA15A",
           "#19d3f3",
           "#FF6692",
           "#B6E880",
           "#FF97FF",
           "#FECB52"
          ],
          "font": {
           "color": "#2a3f5f"
          },
          "geo": {
           "bgcolor": "white",
           "lakecolor": "white",
           "landcolor": "#E5ECF6",
           "showlakes": true,
           "showland": true,
           "subunitcolor": "white"
          },
          "hoverlabel": {
           "align": "left"
          },
          "hovermode": "closest",
          "mapbox": {
           "style": "light"
          },
          "paper_bgcolor": "white",
          "plot_bgcolor": "#E5ECF6",
          "polar": {
           "angularaxis": {
            "gridcolor": "white",
            "linecolor": "white",
            "ticks": ""
           },
           "bgcolor": "#E5ECF6",
           "radialaxis": {
            "gridcolor": "white",
            "linecolor": "white",
            "ticks": ""
           }
          },
          "scene": {
           "xaxis": {
            "backgroundcolor": "#E5ECF6",
            "gridcolor": "white",
            "gridwidth": 2,
            "linecolor": "white",
            "showbackground": true,
            "ticks": "",
            "zerolinecolor": "white"
           },
           "yaxis": {
            "backgroundcolor": "#E5ECF6",
            "gridcolor": "white",
            "gridwidth": 2,
            "linecolor": "white",
            "showbackground": true,
            "ticks": "",
            "zerolinecolor": "white"
           },
           "zaxis": {
            "backgroundcolor": "#E5ECF6",
            "gridcolor": "white",
            "gridwidth": 2,
            "linecolor": "white",
            "showbackground": true,
            "ticks": "",
            "zerolinecolor": "white"
           }
          },
          "shapedefaults": {
           "line": {
            "color": "#2a3f5f"
           }
          },
          "ternary": {
           "aaxis": {
            "gridcolor": "white",
            "linecolor": "white",
            "ticks": ""
           },
           "baxis": {
            "gridcolor": "white",
            "linecolor": "white",
            "ticks": ""
           },
           "bgcolor": "#E5ECF6",
           "caxis": {
            "gridcolor": "white",
            "linecolor": "white",
            "ticks": ""
           }
          },
          "title": {
           "x": 0.05
          },
          "xaxis": {
           "automargin": true,
           "gridcolor": "white",
           "linecolor": "white",
           "ticks": "",
           "title": {
            "standoff": 15
           },
           "zerolinecolor": "white",
           "zerolinewidth": 2
          },
          "yaxis": {
           "automargin": true,
           "gridcolor": "white",
           "linecolor": "white",
           "ticks": "",
           "title": {
            "standoff": 15
           },
           "zerolinecolor": "white",
           "zerolinewidth": 2
          }
         }
        },
        "width": 1000
       }
      }
     },
     "metadata": {}
    }
   ],
   "source": [
    "tech_areas_acquired[\"Italy\"] = \"Italy\"\n",
    "fig = px.treemap(tech_areas_acquired, path=['Italy', 'Territory', 'Data type'], color='Value',\n",
    "                  color_continuous_scale='viridis', range_color=[0, max(tech_areas_acquired['Value'])],\n",
    "                  color_continuous_midpoint=np.average(tech_areas_acquired['Value']),\n",
    "                  width=1000, height=800)\n",
    "fig.show()"
   ]
  },
  {
   "cell_type": "code",
   "execution_count": 208,
   "metadata": {},
   "outputs": [
    {
     "output_type": "display_data",
     "data": {
      "application/vnd.plotly.v1+json": {
       "config": {
        "plotlyServerURL": "https://plot.ly"
       },
       "data": [
        {
         "marker": {
          "color": "indianred"
         },
         "name": "Nord-ovest",
         "type": "bar",
         "x": [
          "Internet of things area",
          "3D printing area",
          "robotic area",
          "cloud computing area",
          "web application area",
          "online sales area",
          "social media area",
          "Big Data Analytics area",
          "augmented and virtual reality",
          "IT security area"
         ],
         "y": [
          11.04,
          2.93,
          4.78,
          18.24,
          29.16,
          10.2,
          16.3,
          5.08,
          1.1,
          49.46
         ]
        },
        {
         "marker": {
          "color": "lightsalmon"
         },
         "name": "Nord-est",
         "type": "bar",
         "x": [
          "Internet of things area",
          "3D printing area",
          "robotic area",
          "cloud computing area",
          "web application area",
          "online sales area",
          "social media area",
          "Big Data Analytics area",
          "augmented and virtual reality",
          "IT security area"
         ],
         "y": [
          9.29,
          3.07,
          4.12,
          16.26,
          30.33,
          12.29,
          20.66,
          4.52,
          1.37,
          50.21
         ]
        },
        {
         "marker": {
          "color": "rgb(20, 180, 0)"
         },
         "name": "Centro (I)",
         "type": "bar",
         "x": [
          "Internet of things area",
          "3D printing area",
          "robotic area",
          "cloud computing area",
          "web application area",
          "online sales area",
          "social media area",
          "Big Data Analytics area",
          "augmented and virtual reality",
          "IT security area"
         ],
         "y": [
          8.78,
          1.78,
          2.2,
          14.56,
          26.62,
          11.59,
          19.85,
          4,
          1.62,
          40.05
         ]
        },
        {
         "marker": {
          "color": "rgb(26, 118, 255)"
         },
         "name": "Mezzogiorno",
         "type": "bar",
         "x": [
          "Internet of things area",
          "3D printing area",
          "robotic area",
          "cloud computing area",
          "web application area",
          "online sales area",
          "social media area",
          "Big Data Analytics area",
          "augmented and virtual reality",
          "IT security area"
         ],
         "y": [
          10.16,
          2.7,
          1.65,
          13.71,
          23.57,
          11.92,
          17.2,
          5.96,
          1.24,
          35.11
         ]
        }
       ],
       "layout": {
        "barmode": "group",
        "height": 600,
        "template": {
         "data": {
          "bar": [
           {
            "error_x": {
             "color": "#2a3f5f"
            },
            "error_y": {
             "color": "#2a3f5f"
            },
            "marker": {
             "line": {
              "color": "#E5ECF6",
              "width": 0.5
             }
            },
            "type": "bar"
           }
          ],
          "barpolar": [
           {
            "marker": {
             "line": {
              "color": "#E5ECF6",
              "width": 0.5
             }
            },
            "type": "barpolar"
           }
          ],
          "carpet": [
           {
            "aaxis": {
             "endlinecolor": "#2a3f5f",
             "gridcolor": "white",
             "linecolor": "white",
             "minorgridcolor": "white",
             "startlinecolor": "#2a3f5f"
            },
            "baxis": {
             "endlinecolor": "#2a3f5f",
             "gridcolor": "white",
             "linecolor": "white",
             "minorgridcolor": "white",
             "startlinecolor": "#2a3f5f"
            },
            "type": "carpet"
           }
          ],
          "choropleth": [
           {
            "colorbar": {
             "outlinewidth": 0,
             "ticks": ""
            },
            "type": "choropleth"
           }
          ],
          "contour": [
           {
            "colorbar": {
             "outlinewidth": 0,
             "ticks": ""
            },
            "colorscale": [
             [
              0,
              "#0d0887"
             ],
             [
              0.1111111111111111,
              "#46039f"
             ],
             [
              0.2222222222222222,
              "#7201a8"
             ],
             [
              0.3333333333333333,
              "#9c179e"
             ],
             [
              0.4444444444444444,
              "#bd3786"
             ],
             [
              0.5555555555555556,
              "#d8576b"
             ],
             [
              0.6666666666666666,
              "#ed7953"
             ],
             [
              0.7777777777777778,
              "#fb9f3a"
             ],
             [
              0.8888888888888888,
              "#fdca26"
             ],
             [
              1,
              "#f0f921"
             ]
            ],
            "type": "contour"
           }
          ],
          "contourcarpet": [
           {
            "colorbar": {
             "outlinewidth": 0,
             "ticks": ""
            },
            "type": "contourcarpet"
           }
          ],
          "heatmap": [
           {
            "colorbar": {
             "outlinewidth": 0,
             "ticks": ""
            },
            "colorscale": [
             [
              0,
              "#0d0887"
             ],
             [
              0.1111111111111111,
              "#46039f"
             ],
             [
              0.2222222222222222,
              "#7201a8"
             ],
             [
              0.3333333333333333,
              "#9c179e"
             ],
             [
              0.4444444444444444,
              "#bd3786"
             ],
             [
              0.5555555555555556,
              "#d8576b"
             ],
             [
              0.6666666666666666,
              "#ed7953"
             ],
             [
              0.7777777777777778,
              "#fb9f3a"
             ],
             [
              0.8888888888888888,
              "#fdca26"
             ],
             [
              1,
              "#f0f921"
             ]
            ],
            "type": "heatmap"
           }
          ],
          "heatmapgl": [
           {
            "colorbar": {
             "outlinewidth": 0,
             "ticks": ""
            },
            "colorscale": [
             [
              0,
              "#0d0887"
             ],
             [
              0.1111111111111111,
              "#46039f"
             ],
             [
              0.2222222222222222,
              "#7201a8"
             ],
             [
              0.3333333333333333,
              "#9c179e"
             ],
             [
              0.4444444444444444,
              "#bd3786"
             ],
             [
              0.5555555555555556,
              "#d8576b"
             ],
             [
              0.6666666666666666,
              "#ed7953"
             ],
             [
              0.7777777777777778,
              "#fb9f3a"
             ],
             [
              0.8888888888888888,
              "#fdca26"
             ],
             [
              1,
              "#f0f921"
             ]
            ],
            "type": "heatmapgl"
           }
          ],
          "histogram": [
           {
            "marker": {
             "colorbar": {
              "outlinewidth": 0,
              "ticks": ""
             }
            },
            "type": "histogram"
           }
          ],
          "histogram2d": [
           {
            "colorbar": {
             "outlinewidth": 0,
             "ticks": ""
            },
            "colorscale": [
             [
              0,
              "#0d0887"
             ],
             [
              0.1111111111111111,
              "#46039f"
             ],
             [
              0.2222222222222222,
              "#7201a8"
             ],
             [
              0.3333333333333333,
              "#9c179e"
             ],
             [
              0.4444444444444444,
              "#bd3786"
             ],
             [
              0.5555555555555556,
              "#d8576b"
             ],
             [
              0.6666666666666666,
              "#ed7953"
             ],
             [
              0.7777777777777778,
              "#fb9f3a"
             ],
             [
              0.8888888888888888,
              "#fdca26"
             ],
             [
              1,
              "#f0f921"
             ]
            ],
            "type": "histogram2d"
           }
          ],
          "histogram2dcontour": [
           {
            "colorbar": {
             "outlinewidth": 0,
             "ticks": ""
            },
            "colorscale": [
             [
              0,
              "#0d0887"
             ],
             [
              0.1111111111111111,
              "#46039f"
             ],
             [
              0.2222222222222222,
              "#7201a8"
             ],
             [
              0.3333333333333333,
              "#9c179e"
             ],
             [
              0.4444444444444444,
              "#bd3786"
             ],
             [
              0.5555555555555556,
              "#d8576b"
             ],
             [
              0.6666666666666666,
              "#ed7953"
             ],
             [
              0.7777777777777778,
              "#fb9f3a"
             ],
             [
              0.8888888888888888,
              "#fdca26"
             ],
             [
              1,
              "#f0f921"
             ]
            ],
            "type": "histogram2dcontour"
           }
          ],
          "mesh3d": [
           {
            "colorbar": {
             "outlinewidth": 0,
             "ticks": ""
            },
            "type": "mesh3d"
           }
          ],
          "parcoords": [
           {
            "line": {
             "colorbar": {
              "outlinewidth": 0,
              "ticks": ""
             }
            },
            "type": "parcoords"
           }
          ],
          "pie": [
           {
            "automargin": true,
            "type": "pie"
           }
          ],
          "scatter": [
           {
            "marker": {
             "colorbar": {
              "outlinewidth": 0,
              "ticks": ""
             }
            },
            "type": "scatter"
           }
          ],
          "scatter3d": [
           {
            "line": {
             "colorbar": {
              "outlinewidth": 0,
              "ticks": ""
             }
            },
            "marker": {
             "colorbar": {
              "outlinewidth": 0,
              "ticks": ""
             }
            },
            "type": "scatter3d"
           }
          ],
          "scattercarpet": [
           {
            "marker": {
             "colorbar": {
              "outlinewidth": 0,
              "ticks": ""
             }
            },
            "type": "scattercarpet"
           }
          ],
          "scattergeo": [
           {
            "marker": {
             "colorbar": {
              "outlinewidth": 0,
              "ticks": ""
             }
            },
            "type": "scattergeo"
           }
          ],
          "scattergl": [
           {
            "marker": {
             "colorbar": {
              "outlinewidth": 0,
              "ticks": ""
             }
            },
            "type": "scattergl"
           }
          ],
          "scattermapbox": [
           {
            "marker": {
             "colorbar": {
              "outlinewidth": 0,
              "ticks": ""
             }
            },
            "type": "scattermapbox"
           }
          ],
          "scatterpolar": [
           {
            "marker": {
             "colorbar": {
              "outlinewidth": 0,
              "ticks": ""
             }
            },
            "type": "scatterpolar"
           }
          ],
          "scatterpolargl": [
           {
            "marker": {
             "colorbar": {
              "outlinewidth": 0,
              "ticks": ""
             }
            },
            "type": "scatterpolargl"
           }
          ],
          "scatterternary": [
           {
            "marker": {
             "colorbar": {
              "outlinewidth": 0,
              "ticks": ""
             }
            },
            "type": "scatterternary"
           }
          ],
          "surface": [
           {
            "colorbar": {
             "outlinewidth": 0,
             "ticks": ""
            },
            "colorscale": [
             [
              0,
              "#0d0887"
             ],
             [
              0.1111111111111111,
              "#46039f"
             ],
             [
              0.2222222222222222,
              "#7201a8"
             ],
             [
              0.3333333333333333,
              "#9c179e"
             ],
             [
              0.4444444444444444,
              "#bd3786"
             ],
             [
              0.5555555555555556,
              "#d8576b"
             ],
             [
              0.6666666666666666,
              "#ed7953"
             ],
             [
              0.7777777777777778,
              "#fb9f3a"
             ],
             [
              0.8888888888888888,
              "#fdca26"
             ],
             [
              1,
              "#f0f921"
             ]
            ],
            "type": "surface"
           }
          ],
          "table": [
           {
            "cells": {
             "fill": {
              "color": "#EBF0F8"
             },
             "line": {
              "color": "white"
             }
            },
            "header": {
             "fill": {
              "color": "#C8D4E3"
             },
             "line": {
              "color": "white"
             }
            },
            "type": "table"
           }
          ]
         },
         "layout": {
          "annotationdefaults": {
           "arrowcolor": "#2a3f5f",
           "arrowhead": 0,
           "arrowwidth": 1
          },
          "coloraxis": {
           "colorbar": {
            "outlinewidth": 0,
            "ticks": ""
           }
          },
          "colorscale": {
           "diverging": [
            [
             0,
             "#8e0152"
            ],
            [
             0.1,
             "#c51b7d"
            ],
            [
             0.2,
             "#de77ae"
            ],
            [
             0.3,
             "#f1b6da"
            ],
            [
             0.4,
             "#fde0ef"
            ],
            [
             0.5,
             "#f7f7f7"
            ],
            [
             0.6,
             "#e6f5d0"
            ],
            [
             0.7,
             "#b8e186"
            ],
            [
             0.8,
             "#7fbc41"
            ],
            [
             0.9,
             "#4d9221"
            ],
            [
             1,
             "#276419"
            ]
           ],
           "sequential": [
            [
             0,
             "#0d0887"
            ],
            [
             0.1111111111111111,
             "#46039f"
            ],
            [
             0.2222222222222222,
             "#7201a8"
            ],
            [
             0.3333333333333333,
             "#9c179e"
            ],
            [
             0.4444444444444444,
             "#bd3786"
            ],
            [
             0.5555555555555556,
             "#d8576b"
            ],
            [
             0.6666666666666666,
             "#ed7953"
            ],
            [
             0.7777777777777778,
             "#fb9f3a"
            ],
            [
             0.8888888888888888,
             "#fdca26"
            ],
            [
             1,
             "#f0f921"
            ]
           ],
           "sequentialminus": [
            [
             0,
             "#0d0887"
            ],
            [
             0.1111111111111111,
             "#46039f"
            ],
            [
             0.2222222222222222,
             "#7201a8"
            ],
            [
             0.3333333333333333,
             "#9c179e"
            ],
            [
             0.4444444444444444,
             "#bd3786"
            ],
            [
             0.5555555555555556,
             "#d8576b"
            ],
            [
             0.6666666666666666,
             "#ed7953"
            ],
            [
             0.7777777777777778,
             "#fb9f3a"
            ],
            [
             0.8888888888888888,
             "#fdca26"
            ],
            [
             1,
             "#f0f921"
            ]
           ]
          },
          "colorway": [
           "#636efa",
           "#EF553B",
           "#00cc96",
           "#ab63fa",
           "#FFA15A",
           "#19d3f3",
           "#FF6692",
           "#B6E880",
           "#FF97FF",
           "#FECB52"
          ],
          "font": {
           "color": "#2a3f5f"
          },
          "geo": {
           "bgcolor": "white",
           "lakecolor": "white",
           "landcolor": "#E5ECF6",
           "showlakes": true,
           "showland": true,
           "subunitcolor": "white"
          },
          "hoverlabel": {
           "align": "left"
          },
          "hovermode": "closest",
          "mapbox": {
           "style": "light"
          },
          "paper_bgcolor": "white",
          "plot_bgcolor": "#E5ECF6",
          "polar": {
           "angularaxis": {
            "gridcolor": "white",
            "linecolor": "white",
            "ticks": ""
           },
           "bgcolor": "#E5ECF6",
           "radialaxis": {
            "gridcolor": "white",
            "linecolor": "white",
            "ticks": ""
           }
          },
          "scene": {
           "xaxis": {
            "backgroundcolor": "#E5ECF6",
            "gridcolor": "white",
            "gridwidth": 2,
            "linecolor": "white",
            "showbackground": true,
            "ticks": "",
            "zerolinecolor": "white"
           },
           "yaxis": {
            "backgroundcolor": "#E5ECF6",
            "gridcolor": "white",
            "gridwidth": 2,
            "linecolor": "white",
            "showbackground": true,
            "ticks": "",
            "zerolinecolor": "white"
           },
           "zaxis": {
            "backgroundcolor": "#E5ECF6",
            "gridcolor": "white",
            "gridwidth": 2,
            "linecolor": "white",
            "showbackground": true,
            "ticks": "",
            "zerolinecolor": "white"
           }
          },
          "shapedefaults": {
           "line": {
            "color": "#2a3f5f"
           }
          },
          "ternary": {
           "aaxis": {
            "gridcolor": "white",
            "linecolor": "white",
            "ticks": ""
           },
           "baxis": {
            "gridcolor": "white",
            "linecolor": "white",
            "ticks": ""
           },
           "bgcolor": "#E5ECF6",
           "caxis": {
            "gridcolor": "white",
            "linecolor": "white",
            "ticks": ""
           }
          },
          "title": {
           "x": 0.05
          },
          "xaxis": {
           "automargin": true,
           "gridcolor": "white",
           "linecolor": "white",
           "ticks": "",
           "title": {
            "standoff": 15
           },
           "zerolinecolor": "white",
           "zerolinewidth": 2
          },
          "yaxis": {
           "automargin": true,
           "gridcolor": "white",
           "linecolor": "white",
           "ticks": "",
           "title": {
            "standoff": 15
           },
           "zerolinecolor": "white",
           "zerolinewidth": 2
          }
         }
        },
        "width": 800,
        "xaxis": {
         "tickangle": -45
        }
       }
      }
     },
     "metadata": {}
    }
   ],
   "source": [
    "x_data = list(tech_areas_acquired['Data type'].unique())\n",
    "\n",
    "y_data = []\n",
    "for territory in tech_areas_acquired['Territory'].unique():\n",
    "    y_data.append(list(tech_areas_acquired.loc[tech_areas_acquired['Territory'] == territory]['Value']))\n",
    "\n",
    "fig = go.Figure()\n",
    "\n",
    "marker_colors = ['indianred', 'lightsalmon', 'rgb(20, 180, 0)', 'rgb(26, 118, 255)']\n",
    "\n",
    "for index, values in enumerate(y_data):\n",
    "    fig.add_trace(go.Bar(\n",
    "        x=x_data,\n",
    "        y=values,\n",
    "        name=tech_areas_acquired['Territory'].unique()[index],\n",
    "        marker_color=marker_colors[index]\n",
    "    ))\n",
    "\n",
    "# Here we modify the tickangle of the xaxis, resulting in rotated labels.\n",
    "fig.update_layout(barmode='group', xaxis_tickangle=-45, width=800, height=600)\n",
    "fig.show()"
   ]
  },
  {
   "cell_type": "code",
   "execution_count": 269,
   "metadata": {
    "tags": []
   },
   "outputs": [
    {
     "output_type": "execute_result",
     "data": {
      "text/plain": "<matplotlib.legend.Legend at 0x243c89f7ba8>"
     },
     "metadata": {},
     "execution_count": 269
    },
    {
     "output_type": "display_data",
     "data": {
      "text/plain": "<Figure size 822.85x720 with 1 Axes>",
      "image/svg+xml": "<?xml version=\"1.0\" encoding=\"utf-8\" standalone=\"no\"?>\r\n<!DOCTYPE svg PUBLIC \"-//W3C//DTD SVG 1.1//EN\"\r\n  \"http://www.w3.org/Graphics/SVG/1.1/DTD/svg11.dtd\">\r\n<!-- Created with matplotlib (https://matplotlib.org/) -->\r\n<svg height=\"734.930781pt\" version=\"1.1\" viewBox=\"0 0 902.82375 734.930781\" width=\"902.82375pt\" xmlns=\"http://www.w3.org/2000/svg\" xmlns:xlink=\"http://www.w3.org/1999/xlink\">\r\n <defs>\r\n  <style type=\"text/css\">\r\n*{stroke-linecap:butt;stroke-linejoin:round;}\r\n  </style>\r\n </defs>\r\n <g id=\"figure_1\">\r\n  <g id=\"patch_1\">\r\n   <path d=\"M 0 734.930781 \r\nL 902.82375 734.930781 \r\nL 902.82375 -0 \r\nL 0 -0 \r\nz\r\n\" style=\"fill:none;\"/>\r\n  </g>\r\n  <g id=\"axes_1\">\r\n   <g id=\"patch_2\">\r\n    <path d=\"M 196.223465 691.203438 \r\nL 706.600285 691.203438 \r\nL 706.600285 26.303438 \r\nL 196.223465 26.303438 \r\nz\r\n\" style=\"fill:#ffffff;\"/>\r\n   </g>\r\n   <g id=\"matplotlib.axis_1\">\r\n    <g id=\"xtick_1\">\r\n     <g id=\"line2d_1\">\r\n      <path clip-path=\"url(#p2ba9408b0a)\" d=\"M 196.223465 691.203438 \r\nL 196.223465 26.303438 \r\n\" style=\"fill:none;stroke:#cccccc;stroke-linecap:round;\"/>\r\n     </g>\r\n     <g id=\"text_1\">\r\n      <!-- 0 -->\r\n      <defs>\r\n       <path d=\"M 4.15625 35.296875 \r\nQ 4.15625 48 6.765625 55.734375 \r\nQ 9.375 63.484375 14.515625 67.671875 \r\nQ 19.671875 71.875 27.484375 71.875 \r\nQ 33.25 71.875 37.59375 69.546875 \r\nQ 41.9375 67.234375 44.765625 62.859375 \r\nQ 47.609375 58.5 49.21875 52.21875 \r\nQ 50.828125 45.953125 50.828125 35.296875 \r\nQ 50.828125 22.703125 48.234375 14.96875 \r\nQ 45.65625 7.234375 40.5 3 \r\nQ 35.359375 -1.21875 27.484375 -1.21875 \r\nQ 17.140625 -1.21875 11.234375 6.203125 \r\nQ 4.15625 15.140625 4.15625 35.296875 \r\nz\r\nM 13.1875 35.296875 \r\nQ 13.1875 17.671875 17.3125 11.828125 \r\nQ 21.4375 6 27.484375 6 \r\nQ 33.546875 6 37.671875 11.859375 \r\nQ 41.796875 17.71875 41.796875 35.296875 \r\nQ 41.796875 52.984375 37.671875 58.78125 \r\nQ 33.546875 64.59375 27.390625 64.59375 \r\nQ 21.34375 64.59375 17.71875 59.46875 \r\nQ 13.1875 52.9375 13.1875 35.296875 \r\nz\r\n\" id=\"ArialMT-48\"/>\r\n      </defs>\r\n      <g style=\"fill:#262626;\" transform=\"translate(193.16495 708.577031)scale(0.11 -0.11)\">\r\n       <use xlink:href=\"#ArialMT-48\"/>\r\n      </g>\r\n     </g>\r\n    </g>\r\n    <g id=\"xtick_2\">\r\n     <g id=\"line2d_2\">\r\n      <path clip-path=\"url(#p2ba9408b0a)\" d=\"M 293.031504 691.203438 \r\nL 293.031504 26.303438 \r\n\" style=\"fill:none;stroke:#cccccc;stroke-linecap:round;\"/>\r\n     </g>\r\n     <g id=\"text_2\">\r\n      <!-- 10 -->\r\n      <defs>\r\n       <path d=\"M 37.25 0 \r\nL 28.46875 0 \r\nL 28.46875 56 \r\nQ 25.296875 52.984375 20.140625 49.953125 \r\nQ 14.984375 46.921875 10.890625 45.40625 \r\nL 10.890625 53.90625 \r\nQ 18.265625 57.375 23.78125 62.296875 \r\nQ 29.296875 67.234375 31.59375 71.875 \r\nL 37.25 71.875 \r\nz\r\n\" id=\"ArialMT-49\"/>\r\n      </defs>\r\n      <g style=\"fill:#262626;\" transform=\"translate(286.914472 708.577031)scale(0.11 -0.11)\">\r\n       <use xlink:href=\"#ArialMT-49\"/>\r\n       <use x=\"55.615234\" xlink:href=\"#ArialMT-48\"/>\r\n      </g>\r\n     </g>\r\n    </g>\r\n    <g id=\"xtick_3\">\r\n     <g id=\"line2d_3\">\r\n      <path clip-path=\"url(#p2ba9408b0a)\" d=\"M 389.839542 691.203438 \r\nL 389.839542 26.303438 \r\n\" style=\"fill:none;stroke:#cccccc;stroke-linecap:round;\"/>\r\n     </g>\r\n     <g id=\"text_3\">\r\n      <!-- 20 -->\r\n      <defs>\r\n       <path d=\"M 50.34375 8.453125 \r\nL 50.34375 0 \r\nL 3.03125 0 \r\nQ 2.9375 3.171875 4.046875 6.109375 \r\nQ 5.859375 10.9375 9.828125 15.625 \r\nQ 13.8125 20.3125 21.34375 26.46875 \r\nQ 33.015625 36.03125 37.109375 41.625 \r\nQ 41.21875 47.21875 41.21875 52.203125 \r\nQ 41.21875 57.421875 37.46875 61 \r\nQ 33.734375 64.59375 27.734375 64.59375 \r\nQ 21.390625 64.59375 17.578125 60.78125 \r\nQ 13.765625 56.984375 13.71875 50.25 \r\nL 4.6875 51.171875 \r\nQ 5.609375 61.28125 11.65625 66.578125 \r\nQ 17.71875 71.875 27.9375 71.875 \r\nQ 38.234375 71.875 44.234375 66.15625 \r\nQ 50.25 60.453125 50.25 52 \r\nQ 50.25 47.703125 48.484375 43.546875 \r\nQ 46.734375 39.40625 42.65625 34.8125 \r\nQ 38.578125 30.21875 29.109375 22.21875 \r\nQ 21.1875 15.578125 18.9375 13.203125 \r\nQ 16.703125 10.84375 15.234375 8.453125 \r\nz\r\n\" id=\"ArialMT-50\"/>\r\n      </defs>\r\n      <g style=\"fill:#262626;\" transform=\"translate(383.722511 708.577031)scale(0.11 -0.11)\">\r\n       <use xlink:href=\"#ArialMT-50\"/>\r\n       <use x=\"55.615234\" xlink:href=\"#ArialMT-48\"/>\r\n      </g>\r\n     </g>\r\n    </g>\r\n    <g id=\"xtick_4\">\r\n     <g id=\"line2d_4\">\r\n      <path clip-path=\"url(#p2ba9408b0a)\" d=\"M 486.647581 691.203438 \r\nL 486.647581 26.303438 \r\n\" style=\"fill:none;stroke:#cccccc;stroke-linecap:round;\"/>\r\n     </g>\r\n     <g id=\"text_4\">\r\n      <!-- 30 -->\r\n      <defs>\r\n       <path d=\"M 4.203125 18.890625 \r\nL 12.984375 20.0625 \r\nQ 14.5 12.59375 18.140625 9.296875 \r\nQ 21.78125 6 27 6 \r\nQ 33.203125 6 37.46875 10.296875 \r\nQ 41.75 14.59375 41.75 20.953125 \r\nQ 41.75 27 37.796875 30.921875 \r\nQ 33.84375 34.859375 27.734375 34.859375 \r\nQ 25.25 34.859375 21.53125 33.890625 \r\nL 22.515625 41.609375 \r\nQ 23.390625 41.5 23.921875 41.5 \r\nQ 29.546875 41.5 34.03125 44.421875 \r\nQ 38.53125 47.359375 38.53125 53.46875 \r\nQ 38.53125 58.296875 35.25 61.46875 \r\nQ 31.984375 64.65625 26.8125 64.65625 \r\nQ 21.6875 64.65625 18.265625 61.421875 \r\nQ 14.84375 58.203125 13.875 51.765625 \r\nL 5.078125 53.328125 \r\nQ 6.6875 62.15625 12.390625 67.015625 \r\nQ 18.109375 71.875 26.609375 71.875 \r\nQ 32.46875 71.875 37.390625 69.359375 \r\nQ 42.328125 66.84375 44.9375 62.5 \r\nQ 47.5625 58.15625 47.5625 53.265625 \r\nQ 47.5625 48.640625 45.0625 44.828125 \r\nQ 42.578125 41.015625 37.703125 38.765625 \r\nQ 44.046875 37.3125 47.5625 32.6875 \r\nQ 51.078125 28.078125 51.078125 21.140625 \r\nQ 51.078125 11.765625 44.234375 5.25 \r\nQ 37.40625 -1.265625 26.953125 -1.265625 \r\nQ 17.53125 -1.265625 11.296875 4.34375 \r\nQ 5.078125 9.96875 4.203125 18.890625 \r\nz\r\n\" id=\"ArialMT-51\"/>\r\n      </defs>\r\n      <g style=\"fill:#262626;\" transform=\"translate(480.53055 708.577031)scale(0.11 -0.11)\">\r\n       <use xlink:href=\"#ArialMT-51\"/>\r\n       <use x=\"55.615234\" xlink:href=\"#ArialMT-48\"/>\r\n      </g>\r\n     </g>\r\n    </g>\r\n    <g id=\"xtick_5\">\r\n     <g id=\"line2d_5\">\r\n      <path clip-path=\"url(#p2ba9408b0a)\" d=\"M 583.455619 691.203438 \r\nL 583.455619 26.303438 \r\n\" style=\"fill:none;stroke:#cccccc;stroke-linecap:round;\"/>\r\n     </g>\r\n     <g id=\"text_5\">\r\n      <!-- 40 -->\r\n      <defs>\r\n       <path d=\"M 32.328125 0 \r\nL 32.328125 17.140625 \r\nL 1.265625 17.140625 \r\nL 1.265625 25.203125 \r\nL 33.9375 71.578125 \r\nL 41.109375 71.578125 \r\nL 41.109375 25.203125 \r\nL 50.78125 25.203125 \r\nL 50.78125 17.140625 \r\nL 41.109375 17.140625 \r\nL 41.109375 0 \r\nz\r\nM 32.328125 25.203125 \r\nL 32.328125 57.46875 \r\nL 9.90625 25.203125 \r\nz\r\n\" id=\"ArialMT-52\"/>\r\n      </defs>\r\n      <g style=\"fill:#262626;\" transform=\"translate(577.338588 708.577031)scale(0.11 -0.11)\">\r\n       <use xlink:href=\"#ArialMT-52\"/>\r\n       <use x=\"55.615234\" xlink:href=\"#ArialMT-48\"/>\r\n      </g>\r\n     </g>\r\n    </g>\r\n    <g id=\"xtick_6\">\r\n     <g id=\"line2d_6\">\r\n      <path clip-path=\"url(#p2ba9408b0a)\" d=\"M 680.263658 691.203438 \r\nL 680.263658 26.303438 \r\n\" style=\"fill:none;stroke:#cccccc;stroke-linecap:round;\"/>\r\n     </g>\r\n     <g id=\"text_6\">\r\n      <!-- 50 -->\r\n      <defs>\r\n       <path d=\"M 4.15625 18.75 \r\nL 13.375 19.53125 \r\nQ 14.40625 12.796875 18.140625 9.390625 \r\nQ 21.875 6 27.15625 6 \r\nQ 33.5 6 37.890625 10.78125 \r\nQ 42.28125 15.578125 42.28125 23.484375 \r\nQ 42.28125 31 38.0625 35.34375 \r\nQ 33.84375 39.703125 27 39.703125 \r\nQ 22.75 39.703125 19.328125 37.765625 \r\nQ 15.921875 35.84375 13.96875 32.765625 \r\nL 5.71875 33.84375 \r\nL 12.640625 70.609375 \r\nL 48.25 70.609375 \r\nL 48.25 62.203125 \r\nL 19.671875 62.203125 \r\nL 15.828125 42.96875 \r\nQ 22.265625 47.46875 29.34375 47.46875 \r\nQ 38.71875 47.46875 45.15625 40.96875 \r\nQ 51.609375 34.46875 51.609375 24.265625 \r\nQ 51.609375 14.546875 45.953125 7.46875 \r\nQ 39.0625 -1.21875 27.15625 -1.21875 \r\nQ 17.390625 -1.21875 11.203125 4.25 \r\nQ 5.03125 9.71875 4.15625 18.75 \r\nz\r\n\" id=\"ArialMT-53\"/>\r\n      </defs>\r\n      <g style=\"fill:#262626;\" transform=\"translate(674.146627 708.577031)scale(0.11 -0.11)\">\r\n       <use xlink:href=\"#ArialMT-53\"/>\r\n       <use x=\"55.615234\" xlink:href=\"#ArialMT-48\"/>\r\n      </g>\r\n     </g>\r\n    </g>\r\n    <g id=\"text_7\">\r\n     <!-- Percentage -->\r\n     <defs>\r\n      <path d=\"M 7.71875 0 \r\nL 7.71875 71.578125 \r\nL 34.71875 71.578125 \r\nQ 41.84375 71.578125 45.609375 70.90625 \r\nQ 50.875 70.015625 54.4375 67.546875 \r\nQ 58.015625 65.09375 60.1875 60.640625 \r\nQ 62.359375 56.203125 62.359375 50.875 \r\nQ 62.359375 41.75 56.546875 35.421875 \r\nQ 50.734375 29.109375 35.546875 29.109375 \r\nL 17.1875 29.109375 \r\nL 17.1875 0 \r\nz\r\nM 17.1875 37.546875 \r\nL 35.6875 37.546875 \r\nQ 44.875 37.546875 48.734375 40.96875 \r\nQ 52.59375 44.390625 52.59375 50.59375 \r\nQ 52.59375 55.078125 50.3125 58.265625 \r\nQ 48.046875 61.46875 44.34375 62.5 \r\nQ 41.9375 63.140625 35.5 63.140625 \r\nL 17.1875 63.140625 \r\nz\r\n\" id=\"ArialMT-80\"/>\r\n      <path d=\"M 42.09375 16.703125 \r\nL 51.171875 15.578125 \r\nQ 49.03125 7.625 43.21875 3.21875 \r\nQ 37.40625 -1.171875 28.375 -1.171875 \r\nQ 17 -1.171875 10.328125 5.828125 \r\nQ 3.65625 12.84375 3.65625 25.484375 \r\nQ 3.65625 38.578125 10.390625 45.796875 \r\nQ 17.140625 53.03125 27.875 53.03125 \r\nQ 38.28125 53.03125 44.875 45.953125 \r\nQ 51.46875 38.875 51.46875 26.03125 \r\nQ 51.46875 25.25 51.421875 23.6875 \r\nL 12.75 23.6875 \r\nQ 13.234375 15.140625 17.578125 10.59375 \r\nQ 21.921875 6.0625 28.421875 6.0625 \r\nQ 33.25 6.0625 36.671875 8.59375 \r\nQ 40.09375 11.140625 42.09375 16.703125 \r\nz\r\nM 13.234375 30.90625 \r\nL 42.1875 30.90625 \r\nQ 41.609375 37.453125 38.875 40.71875 \r\nQ 34.671875 45.796875 27.984375 45.796875 \r\nQ 21.921875 45.796875 17.796875 41.75 \r\nQ 13.671875 37.703125 13.234375 30.90625 \r\nz\r\n\" id=\"ArialMT-101\"/>\r\n      <path d=\"M 6.5 0 \r\nL 6.5 51.859375 \r\nL 14.40625 51.859375 \r\nL 14.40625 44 \r\nQ 17.4375 49.515625 20 51.265625 \r\nQ 22.5625 53.03125 25.640625 53.03125 \r\nQ 30.078125 53.03125 34.671875 50.203125 \r\nL 31.640625 42.046875 \r\nQ 28.421875 43.953125 25.203125 43.953125 \r\nQ 22.3125 43.953125 20.015625 42.21875 \r\nQ 17.71875 40.484375 16.75 37.40625 \r\nQ 15.28125 32.71875 15.28125 27.15625 \r\nL 15.28125 0 \r\nz\r\n\" id=\"ArialMT-114\"/>\r\n      <path d=\"M 40.4375 19 \r\nL 49.078125 17.875 \r\nQ 47.65625 8.9375 41.8125 3.875 \r\nQ 35.984375 -1.171875 27.484375 -1.171875 \r\nQ 16.84375 -1.171875 10.375 5.78125 \r\nQ 3.90625 12.75 3.90625 25.734375 \r\nQ 3.90625 34.125 6.6875 40.421875 \r\nQ 9.46875 46.734375 15.15625 49.875 \r\nQ 20.84375 53.03125 27.546875 53.03125 \r\nQ 35.984375 53.03125 41.359375 48.75 \r\nQ 46.734375 44.484375 48.25 36.625 \r\nL 39.703125 35.296875 \r\nQ 38.484375 40.53125 35.375 43.15625 \r\nQ 32.28125 45.796875 27.875 45.796875 \r\nQ 21.234375 45.796875 17.078125 41.03125 \r\nQ 12.9375 36.28125 12.9375 25.984375 \r\nQ 12.9375 15.53125 16.9375 10.796875 \r\nQ 20.953125 6.0625 27.390625 6.0625 \r\nQ 32.5625 6.0625 36.03125 9.234375 \r\nQ 39.5 12.40625 40.4375 19 \r\nz\r\n\" id=\"ArialMT-99\"/>\r\n      <path d=\"M 6.59375 0 \r\nL 6.59375 51.859375 \r\nL 14.5 51.859375 \r\nL 14.5 44.484375 \r\nQ 20.21875 53.03125 31 53.03125 \r\nQ 35.6875 53.03125 39.625 51.34375 \r\nQ 43.5625 49.65625 45.515625 46.921875 \r\nQ 47.46875 44.1875 48.25 40.4375 \r\nQ 48.734375 37.984375 48.734375 31.890625 \r\nL 48.734375 0 \r\nL 39.9375 0 \r\nL 39.9375 31.546875 \r\nQ 39.9375 36.921875 38.90625 39.578125 \r\nQ 37.890625 42.234375 35.28125 43.8125 \r\nQ 32.671875 45.40625 29.15625 45.40625 \r\nQ 23.53125 45.40625 19.453125 41.84375 \r\nQ 15.375 38.28125 15.375 28.328125 \r\nL 15.375 0 \r\nz\r\n\" id=\"ArialMT-110\"/>\r\n      <path d=\"M 25.78125 7.859375 \r\nL 27.046875 0.09375 \r\nQ 23.34375 -0.6875 20.40625 -0.6875 \r\nQ 15.625 -0.6875 12.984375 0.828125 \r\nQ 10.359375 2.34375 9.28125 4.8125 \r\nQ 8.203125 7.28125 8.203125 15.1875 \r\nL 8.203125 45.015625 \r\nL 1.765625 45.015625 \r\nL 1.765625 51.859375 \r\nL 8.203125 51.859375 \r\nL 8.203125 64.703125 \r\nL 16.9375 69.96875 \r\nL 16.9375 51.859375 \r\nL 25.78125 51.859375 \r\nL 25.78125 45.015625 \r\nL 16.9375 45.015625 \r\nL 16.9375 14.703125 \r\nQ 16.9375 10.9375 17.40625 9.859375 \r\nQ 17.875 8.796875 18.921875 8.15625 \r\nQ 19.96875 7.515625 21.921875 7.515625 \r\nQ 23.390625 7.515625 25.78125 7.859375 \r\nz\r\n\" id=\"ArialMT-116\"/>\r\n      <path d=\"M 40.4375 6.390625 \r\nQ 35.546875 2.25 31.03125 0.53125 \r\nQ 26.515625 -1.171875 21.34375 -1.171875 \r\nQ 12.796875 -1.171875 8.203125 3 \r\nQ 3.609375 7.171875 3.609375 13.671875 \r\nQ 3.609375 17.484375 5.34375 20.625 \r\nQ 7.078125 23.78125 9.890625 25.6875 \r\nQ 12.703125 27.59375 16.21875 28.5625 \r\nQ 18.796875 29.25 24.03125 29.890625 \r\nQ 34.671875 31.15625 39.703125 32.90625 \r\nQ 39.75 34.71875 39.75 35.203125 \r\nQ 39.75 40.578125 37.25 42.78125 \r\nQ 33.890625 45.75 27.25 45.75 \r\nQ 21.046875 45.75 18.09375 43.578125 \r\nQ 15.140625 41.40625 13.71875 35.890625 \r\nL 5.125 37.0625 \r\nQ 6.296875 42.578125 8.984375 45.96875 \r\nQ 11.671875 49.359375 16.75 51.1875 \r\nQ 21.828125 53.03125 28.515625 53.03125 \r\nQ 35.15625 53.03125 39.296875 51.46875 \r\nQ 43.453125 49.90625 45.40625 47.53125 \r\nQ 47.359375 45.171875 48.140625 41.546875 \r\nQ 48.578125 39.3125 48.578125 33.453125 \r\nL 48.578125 21.734375 \r\nQ 48.578125 9.46875 49.140625 6.21875 \r\nQ 49.703125 2.984375 51.375 0 \r\nL 42.1875 0 \r\nQ 40.828125 2.734375 40.4375 6.390625 \r\nz\r\nM 39.703125 26.03125 \r\nQ 34.90625 24.078125 25.34375 22.703125 \r\nQ 19.921875 21.921875 17.671875 20.9375 \r\nQ 15.4375 19.96875 14.203125 18.09375 \r\nQ 12.984375 16.21875 12.984375 13.921875 \r\nQ 12.984375 10.40625 15.640625 8.0625 \r\nQ 18.3125 5.71875 23.4375 5.71875 \r\nQ 28.515625 5.71875 32.46875 7.9375 \r\nQ 36.421875 10.15625 38.28125 14.015625 \r\nQ 39.703125 17 39.703125 22.796875 \r\nz\r\n\" id=\"ArialMT-97\"/>\r\n      <path d=\"M 4.984375 -4.296875 \r\nL 13.53125 -5.5625 \r\nQ 14.0625 -9.515625 16.5 -11.328125 \r\nQ 19.78125 -13.765625 25.4375 -13.765625 \r\nQ 31.546875 -13.765625 34.859375 -11.328125 \r\nQ 38.1875 -8.890625 39.359375 -4.5 \r\nQ 40.046875 -1.8125 39.984375 6.78125 \r\nQ 34.234375 0 25.640625 0 \r\nQ 14.9375 0 9.078125 7.71875 \r\nQ 3.21875 15.4375 3.21875 26.21875 \r\nQ 3.21875 33.640625 5.90625 39.90625 \r\nQ 8.59375 46.1875 13.6875 49.609375 \r\nQ 18.796875 53.03125 25.6875 53.03125 \r\nQ 34.859375 53.03125 40.828125 45.609375 \r\nL 40.828125 51.859375 \r\nL 48.921875 51.859375 \r\nL 48.921875 7.03125 \r\nQ 48.921875 -5.078125 46.453125 -10.125 \r\nQ 44 -15.1875 38.640625 -18.109375 \r\nQ 33.296875 -21.046875 25.484375 -21.046875 \r\nQ 16.21875 -21.046875 10.5 -16.875 \r\nQ 4.78125 -12.703125 4.984375 -4.296875 \r\nz\r\nM 12.25 26.859375 \r\nQ 12.25 16.65625 16.296875 11.96875 \r\nQ 20.359375 7.28125 26.46875 7.28125 \r\nQ 32.515625 7.28125 36.609375 11.9375 \r\nQ 40.71875 16.609375 40.71875 26.5625 \r\nQ 40.71875 36.078125 36.5 40.90625 \r\nQ 32.28125 45.75 26.3125 45.75 \r\nQ 20.453125 45.75 16.34375 40.984375 \r\nQ 12.25 36.234375 12.25 26.859375 \r\nz\r\n\" id=\"ArialMT-103\"/>\r\n     </defs>\r\n     <g style=\"fill:#262626;\" transform=\"translate(415.61125 724.784219)scale(0.14 -0.14)\">\r\n      <use xlink:href=\"#ArialMT-80\"/>\r\n      <use x=\"66.699219\" xlink:href=\"#ArialMT-101\"/>\r\n      <use x=\"122.314453\" xlink:href=\"#ArialMT-114\"/>\r\n      <use x=\"155.615234\" xlink:href=\"#ArialMT-99\"/>\r\n      <use x=\"205.615234\" xlink:href=\"#ArialMT-101\"/>\r\n      <use x=\"261.230469\" xlink:href=\"#ArialMT-110\"/>\r\n      <use x=\"316.845703\" xlink:href=\"#ArialMT-116\"/>\r\n      <use x=\"344.628906\" xlink:href=\"#ArialMT-97\"/>\r\n      <use x=\"400.244141\" xlink:href=\"#ArialMT-103\"/>\r\n      <use x=\"455.859375\" xlink:href=\"#ArialMT-101\"/>\r\n     </g>\r\n    </g>\r\n   </g>\r\n   <g id=\"matplotlib.axis_2\">\r\n    <g id=\"ytick_1\">\r\n     <g id=\"text_8\">\r\n      <!-- Internet of things area -->\r\n      <defs>\r\n       <path d=\"M 9.328125 0 \r\nL 9.328125 71.578125 \r\nL 18.796875 71.578125 \r\nL 18.796875 0 \r\nz\r\n\" id=\"ArialMT-73\"/>\r\n       <path id=\"ArialMT-32\"/>\r\n       <path d=\"M 3.328125 25.921875 \r\nQ 3.328125 40.328125 11.328125 47.265625 \r\nQ 18.015625 53.03125 27.640625 53.03125 \r\nQ 38.328125 53.03125 45.109375 46.015625 \r\nQ 51.90625 39.015625 51.90625 26.65625 \r\nQ 51.90625 16.65625 48.90625 10.90625 \r\nQ 45.90625 5.171875 40.15625 2 \r\nQ 34.421875 -1.171875 27.640625 -1.171875 \r\nQ 16.75 -1.171875 10.03125 5.8125 \r\nQ 3.328125 12.796875 3.328125 25.921875 \r\nz\r\nM 12.359375 25.921875 \r\nQ 12.359375 15.96875 16.703125 11.015625 \r\nQ 21.046875 6.0625 27.640625 6.0625 \r\nQ 34.1875 6.0625 38.53125 11.03125 \r\nQ 42.875 16.015625 42.875 26.21875 \r\nQ 42.875 35.84375 38.5 40.796875 \r\nQ 34.125 45.75 27.640625 45.75 \r\nQ 21.046875 45.75 16.703125 40.8125 \r\nQ 12.359375 35.890625 12.359375 25.921875 \r\nz\r\n\" id=\"ArialMT-111\"/>\r\n       <path d=\"M 8.6875 0 \r\nL 8.6875 45.015625 \r\nL 0.921875 45.015625 \r\nL 0.921875 51.859375 \r\nL 8.6875 51.859375 \r\nL 8.6875 57.375 \r\nQ 8.6875 62.59375 9.625 65.140625 \r\nQ 10.890625 68.5625 14.078125 70.671875 \r\nQ 17.28125 72.796875 23.046875 72.796875 \r\nQ 26.765625 72.796875 31.25 71.921875 \r\nL 29.9375 64.265625 \r\nQ 27.203125 64.75 24.75 64.75 \r\nQ 20.75 64.75 19.09375 63.03125 \r\nQ 17.4375 61.328125 17.4375 56.640625 \r\nL 17.4375 51.859375 \r\nL 27.546875 51.859375 \r\nL 27.546875 45.015625 \r\nL 17.4375 45.015625 \r\nL 17.4375 0 \r\nz\r\n\" id=\"ArialMT-102\"/>\r\n       <path d=\"M 6.59375 0 \r\nL 6.59375 71.578125 \r\nL 15.375 71.578125 \r\nL 15.375 45.90625 \r\nQ 21.53125 53.03125 30.90625 53.03125 \r\nQ 36.671875 53.03125 40.921875 50.75 \r\nQ 45.171875 48.484375 47 44.484375 \r\nQ 48.828125 40.484375 48.828125 32.859375 \r\nL 48.828125 0 \r\nL 40.046875 0 \r\nL 40.046875 32.859375 \r\nQ 40.046875 39.453125 37.1875 42.453125 \r\nQ 34.328125 45.453125 29.109375 45.453125 \r\nQ 25.203125 45.453125 21.75 43.421875 \r\nQ 18.3125 41.40625 16.84375 37.9375 \r\nQ 15.375 34.46875 15.375 28.375 \r\nL 15.375 0 \r\nz\r\n\" id=\"ArialMT-104\"/>\r\n       <path d=\"M 6.640625 61.46875 \r\nL 6.640625 71.578125 \r\nL 15.4375 71.578125 \r\nL 15.4375 61.46875 \r\nz\r\nM 6.640625 0 \r\nL 6.640625 51.859375 \r\nL 15.4375 51.859375 \r\nL 15.4375 0 \r\nz\r\n\" id=\"ArialMT-105\"/>\r\n       <path d=\"M 3.078125 15.484375 \r\nL 11.765625 16.84375 \r\nQ 12.5 11.625 15.84375 8.84375 \r\nQ 19.1875 6.0625 25.203125 6.0625 \r\nQ 31.25 6.0625 34.171875 8.515625 \r\nQ 37.109375 10.984375 37.109375 14.3125 \r\nQ 37.109375 17.28125 34.515625 19 \r\nQ 32.71875 20.171875 25.53125 21.96875 \r\nQ 15.875 24.421875 12.140625 26.203125 \r\nQ 8.40625 27.984375 6.46875 31.125 \r\nQ 4.546875 34.28125 4.546875 38.09375 \r\nQ 4.546875 41.546875 6.125 44.5 \r\nQ 7.71875 47.46875 10.453125 49.421875 \r\nQ 12.5 50.921875 16.03125 51.96875 \r\nQ 19.578125 53.03125 23.640625 53.03125 \r\nQ 29.734375 53.03125 34.34375 51.265625 \r\nQ 38.96875 49.515625 41.15625 46.5 \r\nQ 43.359375 43.5 44.1875 38.484375 \r\nL 35.59375 37.3125 \r\nQ 35.015625 41.3125 32.203125 43.546875 \r\nQ 29.390625 45.796875 24.265625 45.796875 \r\nQ 18.21875 45.796875 15.625 43.796875 \r\nQ 13.03125 41.796875 13.03125 39.109375 \r\nQ 13.03125 37.40625 14.109375 36.03125 \r\nQ 15.1875 34.625 17.484375 33.6875 \r\nQ 18.796875 33.203125 25.25 31.453125 \r\nQ 34.578125 28.953125 38.25 27.359375 \r\nQ 41.9375 25.78125 44.03125 22.75 \r\nQ 46.140625 19.734375 46.140625 15.234375 \r\nQ 46.140625 10.84375 43.578125 6.953125 \r\nQ 41.015625 3.078125 36.171875 0.953125 \r\nQ 31.34375 -1.171875 25.25 -1.171875 \r\nQ 15.140625 -1.171875 9.84375 3.03125 \r\nQ 4.546875 7.234375 3.078125 15.484375 \r\nz\r\n\" id=\"ArialMT-115\"/>\r\n      </defs>\r\n      <g style=\"fill:#262626;\" transform=\"translate(79.719246 63.552266)scale(0.11 -0.11)\">\r\n       <use xlink:href=\"#ArialMT-73\"/>\r\n       <use x=\"27.783203\" xlink:href=\"#ArialMT-110\"/>\r\n       <use x=\"83.398438\" xlink:href=\"#ArialMT-116\"/>\r\n       <use x=\"111.181641\" xlink:href=\"#ArialMT-101\"/>\r\n       <use x=\"166.796875\" xlink:href=\"#ArialMT-114\"/>\r\n       <use x=\"200.097656\" xlink:href=\"#ArialMT-110\"/>\r\n       <use x=\"255.712891\" xlink:href=\"#ArialMT-101\"/>\r\n       <use x=\"311.328125\" xlink:href=\"#ArialMT-116\"/>\r\n       <use x=\"339.111328\" xlink:href=\"#ArialMT-32\"/>\r\n       <use x=\"366.894531\" xlink:href=\"#ArialMT-111\"/>\r\n       <use x=\"422.509766\" xlink:href=\"#ArialMT-102\"/>\r\n       <use x=\"450.292969\" xlink:href=\"#ArialMT-32\"/>\r\n       <use x=\"478.076172\" xlink:href=\"#ArialMT-116\"/>\r\n       <use x=\"505.859375\" xlink:href=\"#ArialMT-104\"/>\r\n       <use x=\"561.474609\" xlink:href=\"#ArialMT-105\"/>\r\n       <use x=\"583.691406\" xlink:href=\"#ArialMT-110\"/>\r\n       <use x=\"639.306641\" xlink:href=\"#ArialMT-103\"/>\r\n       <use x=\"694.921875\" xlink:href=\"#ArialMT-115\"/>\r\n       <use x=\"744.921875\" xlink:href=\"#ArialMT-32\"/>\r\n       <use x=\"772.705078\" xlink:href=\"#ArialMT-97\"/>\r\n       <use x=\"828.320312\" xlink:href=\"#ArialMT-114\"/>\r\n       <use x=\"861.621094\" xlink:href=\"#ArialMT-101\"/>\r\n       <use x=\"917.236328\" xlink:href=\"#ArialMT-97\"/>\r\n      </g>\r\n     </g>\r\n    </g>\r\n    <g id=\"ytick_2\">\r\n     <g id=\"text_9\">\r\n      <!-- 3D printing area -->\r\n      <defs>\r\n       <path d=\"M 7.71875 0 \r\nL 7.71875 71.578125 \r\nL 32.375 71.578125 \r\nQ 40.71875 71.578125 45.125 70.5625 \r\nQ 51.265625 69.140625 55.609375 65.4375 \r\nQ 61.28125 60.640625 64.078125 53.1875 \r\nQ 66.890625 45.75 66.890625 36.1875 \r\nQ 66.890625 28.03125 64.984375 21.734375 \r\nQ 63.09375 15.4375 60.109375 11.296875 \r\nQ 57.125 7.171875 53.578125 4.796875 \r\nQ 50.046875 2.4375 45.046875 1.21875 \r\nQ 40.046875 0 33.546875 0 \r\nz\r\nM 17.1875 8.453125 \r\nL 32.46875 8.453125 \r\nQ 39.546875 8.453125 43.578125 9.765625 \r\nQ 47.609375 11.078125 50 13.484375 \r\nQ 53.375 16.84375 55.25 22.53125 \r\nQ 57.125 28.21875 57.125 36.328125 \r\nQ 57.125 47.5625 53.4375 53.59375 \r\nQ 49.75 59.625 44.484375 61.671875 \r\nQ 40.671875 63.140625 32.234375 63.140625 \r\nL 17.1875 63.140625 \r\nz\r\n\" id=\"ArialMT-68\"/>\r\n       <path d=\"M 6.59375 -19.875 \r\nL 6.59375 51.859375 \r\nL 14.59375 51.859375 \r\nL 14.59375 45.125 \r\nQ 17.4375 49.078125 21 51.046875 \r\nQ 24.5625 53.03125 29.640625 53.03125 \r\nQ 36.28125 53.03125 41.359375 49.609375 \r\nQ 46.4375 46.1875 49.015625 39.953125 \r\nQ 51.609375 33.734375 51.609375 26.3125 \r\nQ 51.609375 18.359375 48.75 11.984375 \r\nQ 45.90625 5.609375 40.453125 2.21875 \r\nQ 35.015625 -1.171875 29 -1.171875 \r\nQ 24.609375 -1.171875 21.109375 0.6875 \r\nQ 17.625 2.546875 15.375 5.375 \r\nL 15.375 -19.875 \r\nz\r\nM 14.546875 25.640625 \r\nQ 14.546875 15.625 18.59375 10.84375 \r\nQ 22.65625 6.0625 28.421875 6.0625 \r\nQ 34.28125 6.0625 38.453125 11.015625 \r\nQ 42.625 15.96875 42.625 26.375 \r\nQ 42.625 36.28125 38.546875 41.203125 \r\nQ 34.46875 46.140625 28.8125 46.140625 \r\nQ 23.1875 46.140625 18.859375 40.890625 \r\nQ 14.546875 35.640625 14.546875 25.640625 \r\nz\r\n\" id=\"ArialMT-112\"/>\r\n      </defs>\r\n      <g style=\"fill:#262626;\" transform=\"translate(108.461903 129.991563)scale(0.11 -0.11)\">\r\n       <use xlink:href=\"#ArialMT-51\"/>\r\n       <use x=\"55.615234\" xlink:href=\"#ArialMT-68\"/>\r\n       <use x=\"127.832031\" xlink:href=\"#ArialMT-32\"/>\r\n       <use x=\"155.615234\" xlink:href=\"#ArialMT-112\"/>\r\n       <use x=\"211.230469\" xlink:href=\"#ArialMT-114\"/>\r\n       <use x=\"244.53125\" xlink:href=\"#ArialMT-105\"/>\r\n       <use x=\"266.748047\" xlink:href=\"#ArialMT-110\"/>\r\n       <use x=\"322.363281\" xlink:href=\"#ArialMT-116\"/>\r\n       <use x=\"350.146484\" xlink:href=\"#ArialMT-105\"/>\r\n       <use x=\"372.363281\" xlink:href=\"#ArialMT-110\"/>\r\n       <use x=\"427.978516\" xlink:href=\"#ArialMT-103\"/>\r\n       <use x=\"483.59375\" xlink:href=\"#ArialMT-32\"/>\r\n       <use x=\"511.376953\" xlink:href=\"#ArialMT-97\"/>\r\n       <use x=\"566.992188\" xlink:href=\"#ArialMT-114\"/>\r\n       <use x=\"600.292969\" xlink:href=\"#ArialMT-101\"/>\r\n       <use x=\"655.908203\" xlink:href=\"#ArialMT-97\"/>\r\n      </g>\r\n     </g>\r\n    </g>\r\n    <g id=\"ytick_3\">\r\n     <g id=\"text_10\">\r\n      <!-- robotic area -->\r\n      <defs>\r\n       <path d=\"M 14.703125 0 \r\nL 6.546875 0 \r\nL 6.546875 71.578125 \r\nL 15.328125 71.578125 \r\nL 15.328125 46.046875 \r\nQ 20.90625 53.03125 29.546875 53.03125 \r\nQ 34.328125 53.03125 38.59375 51.09375 \r\nQ 42.875 49.171875 45.625 45.671875 \r\nQ 48.390625 42.1875 49.953125 37.25 \r\nQ 51.515625 32.328125 51.515625 26.703125 \r\nQ 51.515625 13.375 44.921875 6.09375 \r\nQ 38.328125 -1.171875 29.109375 -1.171875 \r\nQ 19.921875 -1.171875 14.703125 6.5 \r\nz\r\nM 14.59375 26.3125 \r\nQ 14.59375 17 17.140625 12.84375 \r\nQ 21.296875 6.0625 28.375 6.0625 \r\nQ 34.125 6.0625 38.328125 11.0625 \r\nQ 42.53125 16.0625 42.53125 25.984375 \r\nQ 42.53125 36.140625 38.5 40.96875 \r\nQ 34.46875 45.796875 28.765625 45.796875 \r\nQ 23 45.796875 18.796875 40.796875 \r\nQ 14.59375 35.796875 14.59375 26.3125 \r\nz\r\n\" id=\"ArialMT-98\"/>\r\n      </defs>\r\n      <g style=\"fill:#262626;\" transform=\"translate(128.640028 196.465234)scale(0.11 -0.11)\">\r\n       <use xlink:href=\"#ArialMT-114\"/>\r\n       <use x=\"33.300781\" xlink:href=\"#ArialMT-111\"/>\r\n       <use x=\"88.916016\" xlink:href=\"#ArialMT-98\"/>\r\n       <use x=\"144.53125\" xlink:href=\"#ArialMT-111\"/>\r\n       <use x=\"200.146484\" xlink:href=\"#ArialMT-116\"/>\r\n       <use x=\"227.929688\" xlink:href=\"#ArialMT-105\"/>\r\n       <use x=\"250.146484\" xlink:href=\"#ArialMT-99\"/>\r\n       <use x=\"300.146484\" xlink:href=\"#ArialMT-32\"/>\r\n       <use x=\"327.929688\" xlink:href=\"#ArialMT-97\"/>\r\n       <use x=\"383.544922\" xlink:href=\"#ArialMT-114\"/>\r\n       <use x=\"416.845703\" xlink:href=\"#ArialMT-101\"/>\r\n       <use x=\"472.460938\" xlink:href=\"#ArialMT-97\"/>\r\n      </g>\r\n     </g>\r\n    </g>\r\n    <g id=\"ytick_4\">\r\n     <g id=\"text_11\">\r\n      <!-- cloud computing area -->\r\n      <defs>\r\n       <path d=\"M 6.390625 0 \r\nL 6.390625 71.578125 \r\nL 15.1875 71.578125 \r\nL 15.1875 0 \r\nz\r\n\" id=\"ArialMT-108\"/>\r\n       <path d=\"M 40.578125 0 \r\nL 40.578125 7.625 \r\nQ 34.515625 -1.171875 24.125 -1.171875 \r\nQ 19.53125 -1.171875 15.546875 0.578125 \r\nQ 11.578125 2.34375 9.640625 5 \r\nQ 7.71875 7.671875 6.9375 11.53125 \r\nQ 6.390625 14.109375 6.390625 19.734375 \r\nL 6.390625 51.859375 \r\nL 15.1875 51.859375 \r\nL 15.1875 23.09375 \r\nQ 15.1875 16.21875 15.71875 13.8125 \r\nQ 16.546875 10.359375 19.234375 8.375 \r\nQ 21.921875 6.390625 25.875 6.390625 \r\nQ 29.828125 6.390625 33.296875 8.421875 \r\nQ 36.765625 10.453125 38.203125 13.9375 \r\nQ 39.65625 17.4375 39.65625 24.078125 \r\nL 39.65625 51.859375 \r\nL 48.4375 51.859375 \r\nL 48.4375 0 \r\nz\r\n\" id=\"ArialMT-117\"/>\r\n       <path d=\"M 40.234375 0 \r\nL 40.234375 6.546875 \r\nQ 35.296875 -1.171875 25.734375 -1.171875 \r\nQ 19.53125 -1.171875 14.328125 2.25 \r\nQ 9.125 5.671875 6.265625 11.796875 \r\nQ 3.421875 17.921875 3.421875 25.875 \r\nQ 3.421875 33.640625 6 39.96875 \r\nQ 8.59375 46.296875 13.765625 49.65625 \r\nQ 18.953125 53.03125 25.34375 53.03125 \r\nQ 30.03125 53.03125 33.6875 51.046875 \r\nQ 37.359375 49.078125 39.65625 45.90625 \r\nL 39.65625 71.578125 \r\nL 48.390625 71.578125 \r\nL 48.390625 0 \r\nz\r\nM 12.453125 25.875 \r\nQ 12.453125 15.921875 16.640625 10.984375 \r\nQ 20.84375 6.0625 26.5625 6.0625 \r\nQ 32.328125 6.0625 36.34375 10.765625 \r\nQ 40.375 15.484375 40.375 25.140625 \r\nQ 40.375 35.796875 36.265625 40.765625 \r\nQ 32.171875 45.75 26.171875 45.75 \r\nQ 20.3125 45.75 16.375 40.96875 \r\nQ 12.453125 36.1875 12.453125 25.875 \r\nz\r\n\" id=\"ArialMT-100\"/>\r\n       <path d=\"M 6.59375 0 \r\nL 6.59375 51.859375 \r\nL 14.453125 51.859375 \r\nL 14.453125 44.578125 \r\nQ 16.890625 48.390625 20.9375 50.703125 \r\nQ 25 53.03125 30.171875 53.03125 \r\nQ 35.9375 53.03125 39.625 50.640625 \r\nQ 43.3125 48.25 44.828125 43.953125 \r\nQ 50.984375 53.03125 60.84375 53.03125 \r\nQ 68.5625 53.03125 72.703125 48.75 \r\nQ 76.859375 44.484375 76.859375 35.59375 \r\nL 76.859375 0 \r\nL 68.109375 0 \r\nL 68.109375 32.671875 \r\nQ 68.109375 37.9375 67.25 40.25 \r\nQ 66.40625 42.578125 64.15625 43.984375 \r\nQ 61.921875 45.40625 58.890625 45.40625 \r\nQ 53.421875 45.40625 49.796875 41.765625 \r\nQ 46.1875 38.140625 46.1875 30.125 \r\nL 46.1875 0 \r\nL 37.40625 0 \r\nL 37.40625 33.6875 \r\nQ 37.40625 39.546875 35.25 42.46875 \r\nQ 33.109375 45.40625 28.21875 45.40625 \r\nQ 24.515625 45.40625 21.359375 43.453125 \r\nQ 18.21875 41.5 16.796875 37.734375 \r\nQ 15.375 33.984375 15.375 26.90625 \r\nL 15.375 0 \r\nz\r\n\" id=\"ArialMT-109\"/>\r\n      </defs>\r\n      <g style=\"fill:#262626;\" transform=\"translate(81.554871 262.955234)scale(0.11 -0.11)\">\r\n       <use xlink:href=\"#ArialMT-99\"/>\r\n       <use x=\"50\" xlink:href=\"#ArialMT-108\"/>\r\n       <use x=\"72.216797\" xlink:href=\"#ArialMT-111\"/>\r\n       <use x=\"127.832031\" xlink:href=\"#ArialMT-117\"/>\r\n       <use x=\"183.447266\" xlink:href=\"#ArialMT-100\"/>\r\n       <use x=\"239.0625\" xlink:href=\"#ArialMT-32\"/>\r\n       <use x=\"266.845703\" xlink:href=\"#ArialMT-99\"/>\r\n       <use x=\"316.845703\" xlink:href=\"#ArialMT-111\"/>\r\n       <use x=\"372.460938\" xlink:href=\"#ArialMT-109\"/>\r\n       <use x=\"455.761719\" xlink:href=\"#ArialMT-112\"/>\r\n       <use x=\"511.376953\" xlink:href=\"#ArialMT-117\"/>\r\n       <use x=\"566.992188\" xlink:href=\"#ArialMT-116\"/>\r\n       <use x=\"594.775391\" xlink:href=\"#ArialMT-105\"/>\r\n       <use x=\"616.992188\" xlink:href=\"#ArialMT-110\"/>\r\n       <use x=\"672.607422\" xlink:href=\"#ArialMT-103\"/>\r\n       <use x=\"728.222656\" xlink:href=\"#ArialMT-32\"/>\r\n       <use x=\"756.005859\" xlink:href=\"#ArialMT-97\"/>\r\n       <use x=\"811.621094\" xlink:href=\"#ArialMT-114\"/>\r\n       <use x=\"844.921875\" xlink:href=\"#ArialMT-101\"/>\r\n       <use x=\"900.537109\" xlink:href=\"#ArialMT-97\"/>\r\n      </g>\r\n     </g>\r\n    </g>\r\n    <g id=\"ytick_5\">\r\n     <g id=\"text_12\">\r\n      <!-- web application area -->\r\n      <defs>\r\n       <path d=\"M 16.15625 0 \r\nL 0.296875 51.859375 \r\nL 9.375 51.859375 \r\nL 17.625 21.921875 \r\nL 20.703125 10.796875 \r\nQ 20.90625 11.625 23.390625 21.484375 \r\nL 31.640625 51.859375 \r\nL 40.671875 51.859375 \r\nL 48.4375 21.78125 \r\nL 51.03125 11.859375 \r\nL 54 21.875 \r\nL 62.890625 51.859375 \r\nL 71.4375 51.859375 \r\nL 55.21875 0 \r\nL 46.09375 0 \r\nL 37.84375 31.0625 \r\nL 35.84375 39.890625 \r\nL 25.34375 0 \r\nz\r\n\" id=\"ArialMT-119\"/>\r\n      </defs>\r\n      <g style=\"fill:#262626;\" transform=\"translate(85.829403 329.445234)scale(0.11 -0.11)\">\r\n       <use xlink:href=\"#ArialMT-119\"/>\r\n       <use x=\"72.216797\" xlink:href=\"#ArialMT-101\"/>\r\n       <use x=\"127.832031\" xlink:href=\"#ArialMT-98\"/>\r\n       <use x=\"183.447266\" xlink:href=\"#ArialMT-32\"/>\r\n       <use x=\"211.230469\" xlink:href=\"#ArialMT-97\"/>\r\n       <use x=\"266.845703\" xlink:href=\"#ArialMT-112\"/>\r\n       <use x=\"322.460938\" xlink:href=\"#ArialMT-112\"/>\r\n       <use x=\"378.076172\" xlink:href=\"#ArialMT-108\"/>\r\n       <use x=\"400.292969\" xlink:href=\"#ArialMT-105\"/>\r\n       <use x=\"422.509766\" xlink:href=\"#ArialMT-99\"/>\r\n       <use x=\"472.509766\" xlink:href=\"#ArialMT-97\"/>\r\n       <use x=\"528.125\" xlink:href=\"#ArialMT-116\"/>\r\n       <use x=\"555.908203\" xlink:href=\"#ArialMT-105\"/>\r\n       <use x=\"578.125\" xlink:href=\"#ArialMT-111\"/>\r\n       <use x=\"633.740234\" xlink:href=\"#ArialMT-110\"/>\r\n       <use x=\"689.355469\" xlink:href=\"#ArialMT-32\"/>\r\n       <use x=\"717.138672\" xlink:href=\"#ArialMT-97\"/>\r\n       <use x=\"772.753906\" xlink:href=\"#ArialMT-114\"/>\r\n       <use x=\"806.054688\" xlink:href=\"#ArialMT-101\"/>\r\n       <use x=\"861.669922\" xlink:href=\"#ArialMT-97\"/>\r\n      </g>\r\n     </g>\r\n    </g>\r\n    <g id=\"ytick_6\">\r\n     <g id=\"text_13\">\r\n      <!-- online sales area -->\r\n      <g style=\"fill:#262626;\" transform=\"translate(103.563465 395.935234)scale(0.11 -0.11)\">\r\n       <use xlink:href=\"#ArialMT-111\"/>\r\n       <use x=\"55.615234\" xlink:href=\"#ArialMT-110\"/>\r\n       <use x=\"111.230469\" xlink:href=\"#ArialMT-108\"/>\r\n       <use x=\"133.447266\" xlink:href=\"#ArialMT-105\"/>\r\n       <use x=\"155.664062\" xlink:href=\"#ArialMT-110\"/>\r\n       <use x=\"211.279297\" xlink:href=\"#ArialMT-101\"/>\r\n       <use x=\"266.894531\" xlink:href=\"#ArialMT-32\"/>\r\n       <use x=\"294.677734\" xlink:href=\"#ArialMT-115\"/>\r\n       <use x=\"344.677734\" xlink:href=\"#ArialMT-97\"/>\r\n       <use x=\"400.292969\" xlink:href=\"#ArialMT-108\"/>\r\n       <use x=\"422.509766\" xlink:href=\"#ArialMT-101\"/>\r\n       <use x=\"478.125\" xlink:href=\"#ArialMT-115\"/>\r\n       <use x=\"528.125\" xlink:href=\"#ArialMT-32\"/>\r\n       <use x=\"555.908203\" xlink:href=\"#ArialMT-97\"/>\r\n       <use x=\"611.523438\" xlink:href=\"#ArialMT-114\"/>\r\n       <use x=\"644.824219\" xlink:href=\"#ArialMT-101\"/>\r\n       <use x=\"700.439453\" xlink:href=\"#ArialMT-97\"/>\r\n      </g>\r\n     </g>\r\n    </g>\r\n    <g id=\"ytick_7\">\r\n     <g id=\"text_14\">\r\n      <!-- social media area -->\r\n      <g style=\"fill:#262626;\" transform=\"translate(100.51784 462.425234)scale(0.11 -0.11)\">\r\n       <use xlink:href=\"#ArialMT-115\"/>\r\n       <use x=\"50\" xlink:href=\"#ArialMT-111\"/>\r\n       <use x=\"105.615234\" xlink:href=\"#ArialMT-99\"/>\r\n       <use x=\"155.615234\" xlink:href=\"#ArialMT-105\"/>\r\n       <use x=\"177.832031\" xlink:href=\"#ArialMT-97\"/>\r\n       <use x=\"233.447266\" xlink:href=\"#ArialMT-108\"/>\r\n       <use x=\"255.664062\" xlink:href=\"#ArialMT-32\"/>\r\n       <use x=\"283.447266\" xlink:href=\"#ArialMT-109\"/>\r\n       <use x=\"366.748047\" xlink:href=\"#ArialMT-101\"/>\r\n       <use x=\"422.363281\" xlink:href=\"#ArialMT-100\"/>\r\n       <use x=\"477.978516\" xlink:href=\"#ArialMT-105\"/>\r\n       <use x=\"500.195312\" xlink:href=\"#ArialMT-97\"/>\r\n       <use x=\"555.810547\" xlink:href=\"#ArialMT-32\"/>\r\n       <use x=\"583.59375\" xlink:href=\"#ArialMT-97\"/>\r\n       <use x=\"639.208984\" xlink:href=\"#ArialMT-114\"/>\r\n       <use x=\"672.509766\" xlink:href=\"#ArialMT-101\"/>\r\n       <use x=\"728.125\" xlink:href=\"#ArialMT-97\"/>\r\n      </g>\r\n     </g>\r\n    </g>\r\n    <g id=\"ytick_8\">\r\n     <g id=\"text_15\">\r\n      <!-- Big Data Analytics area -->\r\n      <defs>\r\n       <path d=\"M 7.328125 0 \r\nL 7.328125 71.578125 \r\nL 34.1875 71.578125 \r\nQ 42.390625 71.578125 47.34375 69.40625 \r\nQ 52.296875 67.234375 55.09375 62.71875 \r\nQ 57.90625 58.203125 57.90625 53.265625 \r\nQ 57.90625 48.6875 55.421875 44.625 \r\nQ 52.9375 40.578125 47.90625 38.09375 \r\nQ 54.390625 36.1875 57.875 31.59375 \r\nQ 61.375 27 61.375 20.75 \r\nQ 61.375 15.71875 59.25 11.390625 \r\nQ 57.125 7.078125 54 4.734375 \r\nQ 50.875 2.390625 46.15625 1.1875 \r\nQ 41.453125 0 34.625 0 \r\nz\r\nM 16.796875 41.5 \r\nL 32.28125 41.5 \r\nQ 38.578125 41.5 41.3125 42.328125 \r\nQ 44.921875 43.40625 46.75 45.890625 \r\nQ 48.578125 48.390625 48.578125 52.15625 \r\nQ 48.578125 55.71875 46.875 58.421875 \r\nQ 45.171875 61.140625 41.984375 62.140625 \r\nQ 38.8125 63.140625 31.109375 63.140625 \r\nL 16.796875 63.140625 \r\nz\r\nM 16.796875 8.453125 \r\nL 34.625 8.453125 \r\nQ 39.203125 8.453125 41.0625 8.796875 \r\nQ 44.34375 9.375 46.53125 10.734375 \r\nQ 48.734375 12.109375 50.140625 14.71875 \r\nQ 51.5625 17.328125 51.5625 20.75 \r\nQ 51.5625 24.75 49.515625 27.703125 \r\nQ 47.46875 30.671875 43.828125 31.859375 \r\nQ 40.1875 33.0625 33.34375 33.0625 \r\nL 16.796875 33.0625 \r\nz\r\n\" id=\"ArialMT-66\"/>\r\n       <path d=\"M -0.140625 0 \r\nL 27.34375 71.578125 \r\nL 37.546875 71.578125 \r\nL 66.84375 0 \r\nL 56.0625 0 \r\nL 47.703125 21.6875 \r\nL 17.78125 21.6875 \r\nL 9.90625 0 \r\nz\r\nM 20.515625 29.390625 \r\nL 44.78125 29.390625 \r\nL 37.3125 49.21875 \r\nQ 33.890625 58.25 32.234375 64.0625 \r\nQ 30.859375 57.171875 28.375 50.390625 \r\nz\r\n\" id=\"ArialMT-65\"/>\r\n       <path d=\"M 6.203125 -19.96875 \r\nL 5.21875 -11.71875 \r\nQ 8.109375 -12.5 10.25 -12.5 \r\nQ 13.1875 -12.5 14.9375 -11.515625 \r\nQ 16.703125 -10.546875 17.828125 -8.796875 \r\nQ 18.65625 -7.46875 20.515625 -2.25 \r\nQ 20.75 -1.515625 21.296875 -0.09375 \r\nL 1.609375 51.859375 \r\nL 11.078125 51.859375 \r\nL 21.875 21.828125 \r\nQ 23.96875 16.109375 25.640625 9.8125 \r\nQ 27.15625 15.875 29.25 21.625 \r\nL 40.328125 51.859375 \r\nL 49.125 51.859375 \r\nL 29.390625 -0.875 \r\nQ 26.21875 -9.421875 24.46875 -12.640625 \r\nQ 22.125 -17 19.09375 -19.015625 \r\nQ 16.0625 -21.046875 11.859375 -21.046875 \r\nQ 9.328125 -21.046875 6.203125 -19.96875 \r\nz\r\n\" id=\"ArialMT-121\"/>\r\n      </defs>\r\n      <g style=\"fill:#262626;\" transform=\"translate(72.998934 528.915234)scale(0.11 -0.11)\">\r\n       <use xlink:href=\"#ArialMT-66\"/>\r\n       <use x=\"66.699219\" xlink:href=\"#ArialMT-105\"/>\r\n       <use x=\"88.916016\" xlink:href=\"#ArialMT-103\"/>\r\n       <use x=\"144.53125\" xlink:href=\"#ArialMT-32\"/>\r\n       <use x=\"172.314453\" xlink:href=\"#ArialMT-68\"/>\r\n       <use x=\"244.53125\" xlink:href=\"#ArialMT-97\"/>\r\n       <use x=\"300.146484\" xlink:href=\"#ArialMT-116\"/>\r\n       <use x=\"327.929688\" xlink:href=\"#ArialMT-97\"/>\r\n       <use x=\"383.544922\" xlink:href=\"#ArialMT-32\"/>\r\n       <use x=\"405.828125\" xlink:href=\"#ArialMT-65\"/>\r\n       <use x=\"472.527344\" xlink:href=\"#ArialMT-110\"/>\r\n       <use x=\"528.142578\" xlink:href=\"#ArialMT-97\"/>\r\n       <use x=\"583.757812\" xlink:href=\"#ArialMT-108\"/>\r\n       <use x=\"605.974609\" xlink:href=\"#ArialMT-121\"/>\r\n       <use x=\"655.974609\" xlink:href=\"#ArialMT-116\"/>\r\n       <use x=\"683.757812\" xlink:href=\"#ArialMT-105\"/>\r\n       <use x=\"705.974609\" xlink:href=\"#ArialMT-99\"/>\r\n       <use x=\"755.974609\" xlink:href=\"#ArialMT-115\"/>\r\n       <use x=\"805.974609\" xlink:href=\"#ArialMT-32\"/>\r\n       <use x=\"833.757812\" xlink:href=\"#ArialMT-97\"/>\r\n       <use x=\"889.373047\" xlink:href=\"#ArialMT-114\"/>\r\n       <use x=\"922.673828\" xlink:href=\"#ArialMT-101\"/>\r\n       <use x=\"978.289062\" xlink:href=\"#ArialMT-97\"/>\r\n      </g>\r\n     </g>\r\n    </g>\r\n    <g id=\"ytick_9\">\r\n     <g id=\"text_16\">\r\n      <!-- augmented and virtual reality -->\r\n      <defs>\r\n       <path d=\"M 21 0 \r\nL 1.265625 51.859375 \r\nL 10.546875 51.859375 \r\nL 21.6875 20.796875 \r\nQ 23.484375 15.765625 25 10.359375 \r\nQ 26.171875 14.453125 28.265625 20.21875 \r\nL 39.796875 51.859375 \r\nL 48.828125 51.859375 \r\nL 29.203125 0 \r\nz\r\n\" id=\"ArialMT-118\"/>\r\n      </defs>\r\n      <g style=\"fill:#262626;\" transform=\"translate(45.485184 595.405234)scale(0.11 -0.11)\">\r\n       <use xlink:href=\"#ArialMT-97\"/>\r\n       <use x=\"55.615234\" xlink:href=\"#ArialMT-117\"/>\r\n       <use x=\"111.230469\" xlink:href=\"#ArialMT-103\"/>\r\n       <use x=\"166.845703\" xlink:href=\"#ArialMT-109\"/>\r\n       <use x=\"250.146484\" xlink:href=\"#ArialMT-101\"/>\r\n       <use x=\"305.761719\" xlink:href=\"#ArialMT-110\"/>\r\n       <use x=\"361.376953\" xlink:href=\"#ArialMT-116\"/>\r\n       <use x=\"389.160156\" xlink:href=\"#ArialMT-101\"/>\r\n       <use x=\"444.775391\" xlink:href=\"#ArialMT-100\"/>\r\n       <use x=\"500.390625\" xlink:href=\"#ArialMT-32\"/>\r\n       <use x=\"528.173828\" xlink:href=\"#ArialMT-97\"/>\r\n       <use x=\"583.789062\" xlink:href=\"#ArialMT-110\"/>\r\n       <use x=\"639.404297\" xlink:href=\"#ArialMT-100\"/>\r\n       <use x=\"695.019531\" xlink:href=\"#ArialMT-32\"/>\r\n       <use x=\"722.802734\" xlink:href=\"#ArialMT-118\"/>\r\n       <use x=\"772.802734\" xlink:href=\"#ArialMT-105\"/>\r\n       <use x=\"795.019531\" xlink:href=\"#ArialMT-114\"/>\r\n       <use x=\"828.320312\" xlink:href=\"#ArialMT-116\"/>\r\n       <use x=\"856.103516\" xlink:href=\"#ArialMT-117\"/>\r\n       <use x=\"911.71875\" xlink:href=\"#ArialMT-97\"/>\r\n       <use x=\"967.333984\" xlink:href=\"#ArialMT-108\"/>\r\n       <use x=\"989.550781\" xlink:href=\"#ArialMT-32\"/>\r\n       <use x=\"1017.333984\" xlink:href=\"#ArialMT-114\"/>\r\n       <use x=\"1050.634766\" xlink:href=\"#ArialMT-101\"/>\r\n       <use x=\"1106.25\" xlink:href=\"#ArialMT-97\"/>\r\n       <use x=\"1161.865234\" xlink:href=\"#ArialMT-108\"/>\r\n       <use x=\"1184.082031\" xlink:href=\"#ArialMT-105\"/>\r\n       <use x=\"1206.298828\" xlink:href=\"#ArialMT-116\"/>\r\n       <use x=\"1234.082031\" xlink:href=\"#ArialMT-121\"/>\r\n      </g>\r\n     </g>\r\n    </g>\r\n    <g id=\"ytick_10\">\r\n     <g id=\"text_17\">\r\n      <!-- IT security area -->\r\n      <defs>\r\n       <path d=\"M 25.921875 0 \r\nL 25.921875 63.140625 \r\nL 2.34375 63.140625 \r\nL 2.34375 71.578125 \r\nL 59.078125 71.578125 \r\nL 59.078125 63.140625 \r\nL 35.40625 63.140625 \r\nL 35.40625 0 \r\nz\r\n\" id=\"ArialMT-84\"/>\r\n      </defs>\r\n      <g style=\"fill:#262626;\" transform=\"translate(111.11909 661.895234)scale(0.11 -0.11)\">\r\n       <use xlink:href=\"#ArialMT-73\"/>\r\n       <use x=\"27.783203\" xlink:href=\"#ArialMT-84\"/>\r\n       <use x=\"87.117188\" xlink:href=\"#ArialMT-32\"/>\r\n       <use x=\"114.900391\" xlink:href=\"#ArialMT-115\"/>\r\n       <use x=\"164.900391\" xlink:href=\"#ArialMT-101\"/>\r\n       <use x=\"220.515625\" xlink:href=\"#ArialMT-99\"/>\r\n       <use x=\"270.515625\" xlink:href=\"#ArialMT-117\"/>\r\n       <use x=\"326.130859\" xlink:href=\"#ArialMT-114\"/>\r\n       <use x=\"359.431641\" xlink:href=\"#ArialMT-105\"/>\r\n       <use x=\"381.648438\" xlink:href=\"#ArialMT-116\"/>\r\n       <use x=\"409.431641\" xlink:href=\"#ArialMT-121\"/>\r\n       <use x=\"459.431641\" xlink:href=\"#ArialMT-32\"/>\r\n       <use x=\"487.214844\" xlink:href=\"#ArialMT-97\"/>\r\n       <use x=\"542.830078\" xlink:href=\"#ArialMT-114\"/>\r\n       <use x=\"576.130859\" xlink:href=\"#ArialMT-101\"/>\r\n       <use x=\"631.746094\" xlink:href=\"#ArialMT-97\"/>\r\n      </g>\r\n     </g>\r\n    </g>\r\n    <g id=\"text_18\">\r\n     <!-- Area -->\r\n     <g style=\"fill:#262626;\" transform=\"translate(38.702684 373.53875)rotate(-90)scale(0.14 -0.14)\">\r\n      <use xlink:href=\"#ArialMT-65\"/>\r\n      <use x=\"66.699219\" xlink:href=\"#ArialMT-114\"/>\r\n      <use x=\"100\" xlink:href=\"#ArialMT-101\"/>\r\n      <use x=\"155.615234\" xlink:href=\"#ArialMT-97\"/>\r\n     </g>\r\n    </g>\r\n   </g>\r\n   <g id=\"patch_3\">\r\n    <path clip-path=\"url(#p2ba9408b0a)\" d=\"M 196.223465 32.952438 \r\nL 303.09954 32.952438 \r\nL 303.09954 46.250438 \r\nL 196.223465 46.250438 \r\nz\r\n\" style=\"fill:#5875a4;stroke:#ffffff;stroke-linejoin:miter;\"/>\r\n   </g>\r\n   <g id=\"patch_4\">\r\n    <path clip-path=\"url(#p2ba9408b0a)\" d=\"M 196.223465 99.442438 \r\nL 224.58822 99.442438 \r\nL 224.58822 112.740438 \r\nL 196.223465 112.740438 \r\nz\r\n\" style=\"fill:#5875a4;stroke:#ffffff;stroke-linejoin:miter;\"/>\r\n   </g>\r\n   <g id=\"patch_5\">\r\n    <path clip-path=\"url(#p2ba9408b0a)\" d=\"M 196.223465 165.932438 \r\nL 242.497708 165.932438 \r\nL 242.497708 179.230438 \r\nL 196.223465 179.230438 \r\nz\r\n\" style=\"fill:#5875a4;stroke:#ffffff;stroke-linejoin:miter;\"/>\r\n   </g>\r\n   <g id=\"patch_6\">\r\n    <path clip-path=\"url(#p2ba9408b0a)\" d=\"M 196.223465 232.422438 \r\nL 372.801327 232.422438 \r\nL 372.801327 245.720438 \r\nL 196.223465 245.720438 \r\nz\r\n\" style=\"fill:#5875a4;stroke:#ffffff;stroke-linejoin:miter;\"/>\r\n   </g>\r\n   <g id=\"patch_7\">\r\n    <path clip-path=\"url(#p2ba9408b0a)\" d=\"M 196.223465 298.912438 \r\nL 478.515706 298.912438 \r\nL 478.515706 312.210438 \r\nL 196.223465 312.210438 \r\nz\r\n\" style=\"fill:#5875a4;stroke:#ffffff;stroke-linejoin:miter;\"/>\r\n   </g>\r\n   <g id=\"patch_8\">\r\n    <path clip-path=\"url(#p2ba9408b0a)\" d=\"M 196.223465 365.402438 \r\nL 294.967664 365.402438 \r\nL 294.967664 378.700438 \r\nL 196.223465 378.700438 \r\nz\r\n\" style=\"fill:#5875a4;stroke:#ffffff;stroke-linejoin:miter;\"/>\r\n   </g>\r\n   <g id=\"patch_9\">\r\n    <path clip-path=\"url(#p2ba9408b0a)\" d=\"M 196.223465 431.892438 \r\nL 354.020568 431.892438 \r\nL 354.020568 445.190438 \r\nL 196.223465 445.190438 \r\nz\r\n\" style=\"fill:#5875a4;stroke:#ffffff;stroke-linejoin:miter;\"/>\r\n   </g>\r\n   <g id=\"patch_10\">\r\n    <path clip-path=\"url(#p2ba9408b0a)\" d=\"M 196.223465 498.382438 \r\nL 245.401949 498.382438 \r\nL 245.401949 511.680438 \r\nL 196.223465 511.680438 \r\nz\r\n\" style=\"fill:#5875a4;stroke:#ffffff;stroke-linejoin:miter;\"/>\r\n   </g>\r\n   <g id=\"patch_11\">\r\n    <path clip-path=\"url(#p2ba9408b0a)\" d=\"M 196.223465 564.872438 \r\nL 206.872349 564.872438 \r\nL 206.872349 578.170438 \r\nL 196.223465 578.170438 \r\nz\r\n\" style=\"fill:#5875a4;stroke:#ffffff;stroke-linejoin:miter;\"/>\r\n   </g>\r\n   <g id=\"patch_12\">\r\n    <path clip-path=\"url(#p2ba9408b0a)\" d=\"M 196.223465 631.362438 \r\nL 675.036024 631.362438 \r\nL 675.036024 644.660438 \r\nL 196.223465 644.660438 \r\nz\r\n\" style=\"fill:#5875a4;stroke:#ffffff;stroke-linejoin:miter;\"/>\r\n   </g>\r\n   <g id=\"patch_13\">\r\n    <path clip-path=\"url(#p2ba9408b0a)\" d=\"M 196.223465 46.250438 \r\nL 286.158133 46.250438 \r\nL 286.158133 59.548438 \r\nL 196.223465 59.548438 \r\nz\r\n\" style=\"fill:#cc8963;stroke:#ffffff;stroke-linejoin:miter;\"/>\r\n   </g>\r\n   <g id=\"patch_14\">\r\n    <path clip-path=\"url(#p2ba9408b0a)\" d=\"M 196.223465 112.740438 \r\nL 225.943533 112.740438 \r\nL 225.943533 126.038438 \r\nL 196.223465 126.038438 \r\nz\r\n\" style=\"fill:#cc8963;stroke:#ffffff;stroke-linejoin:miter;\"/>\r\n   </g>\r\n   <g id=\"patch_15\">\r\n    <path clip-path=\"url(#p2ba9408b0a)\" d=\"M 196.223465 179.230438 \r\nL 236.108377 179.230438 \r\nL 236.108377 192.528438 \r\nL 196.223465 192.528438 \r\nz\r\n\" style=\"fill:#cc8963;stroke:#ffffff;stroke-linejoin:miter;\"/>\r\n   </g>\r\n   <g id=\"patch_16\">\r\n    <path clip-path=\"url(#p2ba9408b0a)\" d=\"M 196.223465 245.720438 \r\nL 353.633336 245.720438 \r\nL 353.633336 259.018438 \r\nL 196.223465 259.018438 \r\nz\r\n\" style=\"fill:#cc8963;stroke:#ffffff;stroke-linejoin:miter;\"/>\r\n   </g>\r\n   <g id=\"patch_17\">\r\n    <path clip-path=\"url(#p2ba9408b0a)\" d=\"M 196.223465 312.210438 \r\nL 489.842246 312.210438 \r\nL 489.842246 325.508438 \r\nL 196.223465 325.508438 \r\nz\r\n\" style=\"fill:#cc8963;stroke:#ffffff;stroke-linejoin:miter;\"/>\r\n   </g>\r\n   <g id=\"patch_18\">\r\n    <path clip-path=\"url(#p2ba9408b0a)\" d=\"M 196.223465 378.700438 \r\nL 315.200545 378.700438 \r\nL 315.200545 391.998438 \r\nL 196.223465 391.998438 \r\nz\r\n\" style=\"fill:#cc8963;stroke:#ffffff;stroke-linejoin:miter;\"/>\r\n   </g>\r\n   <g id=\"patch_19\">\r\n    <path clip-path=\"url(#p2ba9408b0a)\" d=\"M 196.223465 445.190438 \r\nL 396.228873 445.190438 \r\nL 396.228873 458.488438 \r\nL 196.223465 458.488438 \r\nz\r\n\" style=\"fill:#cc8963;stroke:#ffffff;stroke-linejoin:miter;\"/>\r\n   </g>\r\n   <g id=\"patch_20\">\r\n    <path clip-path=\"url(#p2ba9408b0a)\" d=\"M 196.223465 511.680438 \r\nL 239.980699 511.680438 \r\nL 239.980699 524.978438 \r\nL 196.223465 524.978438 \r\nz\r\n\" style=\"fill:#cc8963;stroke:#ffffff;stroke-linejoin:miter;\"/>\r\n   </g>\r\n   <g id=\"patch_21\">\r\n    <path clip-path=\"url(#p2ba9408b0a)\" d=\"M 196.223465 578.170438 \r\nL 209.486166 578.170438 \r\nL 209.486166 591.468438 \r\nL 196.223465 591.468438 \r\nz\r\n\" style=\"fill:#cc8963;stroke:#ffffff;stroke-linejoin:miter;\"/>\r\n   </g>\r\n   <g id=\"patch_22\">\r\n    <path clip-path=\"url(#p2ba9408b0a)\" d=\"M 196.223465 644.660438 \r\nL 682.296627 644.660438 \r\nL 682.296627 657.958438 \r\nL 196.223465 657.958438 \r\nz\r\n\" style=\"fill:#cc8963;stroke:#ffffff;stroke-linejoin:miter;\"/>\r\n   </g>\r\n   <g id=\"patch_23\">\r\n    <path clip-path=\"url(#p2ba9408b0a)\" d=\"M 196.223465 59.548438 \r\nL 281.220923 59.548438 \r\nL 281.220923 72.846438 \r\nL 196.223465 72.846438 \r\nz\r\n\" style=\"fill:#5f9e6e;stroke:#ffffff;stroke-linejoin:miter;\"/>\r\n   </g>\r\n   <g id=\"patch_24\">\r\n    <path clip-path=\"url(#p2ba9408b0a)\" d=\"M 196.223465 126.038438 \r\nL 213.455296 126.038438 \r\nL 213.455296 139.336438 \r\nL 196.223465 139.336438 \r\nz\r\n\" style=\"fill:#5f9e6e;stroke:#ffffff;stroke-linejoin:miter;\"/>\r\n   </g>\r\n   <g id=\"patch_25\">\r\n    <path clip-path=\"url(#p2ba9408b0a)\" d=\"M 196.223465 192.528438 \r\nL 217.521234 192.528438 \r\nL 217.521234 205.826438 \r\nL 196.223465 205.826438 \r\nz\r\n\" style=\"fill:#5f9e6e;stroke:#ffffff;stroke-linejoin:miter;\"/>\r\n   </g>\r\n   <g id=\"patch_26\">\r\n    <path clip-path=\"url(#p2ba9408b0a)\" d=\"M 196.223465 259.018438 \r\nL 337.175969 259.018438 \r\nL 337.175969 272.316438 \r\nL 196.223465 272.316438 \r\nz\r\n\" style=\"fill:#5f9e6e;stroke:#ffffff;stroke-linejoin:miter;\"/>\r\n   </g>\r\n   <g id=\"patch_27\">\r\n    <path clip-path=\"url(#p2ba9408b0a)\" d=\"M 196.223465 325.508438 \r\nL 453.926464 325.508438 \r\nL 453.926464 338.806438 \r\nL 196.223465 338.806438 \r\nz\r\n\" style=\"fill:#5f9e6e;stroke:#ffffff;stroke-linejoin:miter;\"/>\r\n   </g>\r\n   <g id=\"patch_28\">\r\n    <path clip-path=\"url(#p2ba9408b0a)\" d=\"M 196.223465 391.998438 \r\nL 308.423982 391.998438 \r\nL 308.423982 405.296438 \r\nL 196.223465 405.296438 \r\nz\r\n\" style=\"fill:#5f9e6e;stroke:#ffffff;stroke-linejoin:miter;\"/>\r\n   </g>\r\n   <g id=\"patch_29\">\r\n    <path clip-path=\"url(#p2ba9408b0a)\" d=\"M 196.223465 458.488438 \r\nL 388.387422 458.488438 \r\nL 388.387422 471.786438 \r\nL 196.223465 471.786438 \r\nz\r\n\" style=\"fill:#5f9e6e;stroke:#ffffff;stroke-linejoin:miter;\"/>\r\n   </g>\r\n   <g id=\"patch_30\">\r\n    <path clip-path=\"url(#p2ba9408b0a)\" d=\"M 196.223465 524.978438 \r\nL 234.946681 524.978438 \r\nL 234.946681 538.276438 \r\nL 196.223465 538.276438 \r\nz\r\n\" style=\"fill:#5f9e6e;stroke:#ffffff;stroke-linejoin:miter;\"/>\r\n   </g>\r\n   <g id=\"patch_31\">\r\n    <path clip-path=\"url(#p2ba9408b0a)\" d=\"M 196.223465 591.468438 \r\nL 211.906367 591.468438 \r\nL 211.906367 604.766438 \r\nL 196.223465 604.766438 \r\nz\r\n\" style=\"fill:#5f9e6e;stroke:#ffffff;stroke-linejoin:miter;\"/>\r\n   </g>\r\n   <g id=\"patch_32\">\r\n    <path clip-path=\"url(#p2ba9408b0a)\" d=\"M 196.223465 657.958438 \r\nL 583.93966 657.958438 \r\nL 583.93966 671.256438 \r\nL 196.223465 671.256438 \r\nz\r\n\" style=\"fill:#5f9e6e;stroke:#ffffff;stroke-linejoin:miter;\"/>\r\n   </g>\r\n   <g id=\"patch_33\">\r\n    <path clip-path=\"url(#p2ba9408b0a)\" d=\"M 196.223465 72.846438 \r\nL 294.580432 72.846438 \r\nL 294.580432 86.144438 \r\nL 196.223465 86.144438 \r\nz\r\n\" style=\"fill:#b55d60;stroke:#ffffff;stroke-linejoin:miter;\"/>\r\n   </g>\r\n   <g id=\"patch_34\">\r\n    <path clip-path=\"url(#p2ba9408b0a)\" d=\"M 196.223465 139.336438 \r\nL 222.361636 139.336438 \r\nL 222.361636 152.634438 \r\nL 196.223465 152.634438 \r\nz\r\n\" style=\"fill:#b55d60;stroke:#ffffff;stroke-linejoin:miter;\"/>\r\n   </g>\r\n   <g id=\"patch_35\">\r\n    <path clip-path=\"url(#p2ba9408b0a)\" d=\"M 196.223465 205.826438 \r\nL 212.196792 205.826438 \r\nL 212.196792 219.124438 \r\nL 196.223465 219.124438 \r\nz\r\n\" style=\"fill:#b55d60;stroke:#ffffff;stroke-linejoin:miter;\"/>\r\n   </g>\r\n   <g id=\"patch_36\">\r\n    <path clip-path=\"url(#p2ba9408b0a)\" d=\"M 196.223465 272.316438 \r\nL 328.947286 272.316438 \r\nL 328.947286 285.614438 \r\nL 196.223465 285.614438 \r\nz\r\n\" style=\"fill:#b55d60;stroke:#ffffff;stroke-linejoin:miter;\"/>\r\n   </g>\r\n   <g id=\"patch_37\">\r\n    <path clip-path=\"url(#p2ba9408b0a)\" d=\"M 196.223465 338.806438 \r\nL 424.400012 338.806438 \r\nL 424.400012 352.104438 \r\nL 196.223465 352.104438 \r\nz\r\n\" style=\"fill:#b55d60;stroke:#ffffff;stroke-linejoin:miter;\"/>\r\n   </g>\r\n   <g id=\"patch_38\">\r\n    <path clip-path=\"url(#p2ba9408b0a)\" d=\"M 196.223465 405.296438 \r\nL 311.618647 405.296438 \r\nL 311.618647 418.594438 \r\nL 196.223465 418.594438 \r\nz\r\n\" style=\"fill:#b55d60;stroke:#ffffff;stroke-linejoin:miter;\"/>\r\n   </g>\r\n   <g id=\"patch_39\">\r\n    <path clip-path=\"url(#p2ba9408b0a)\" d=\"M 196.223465 471.786438 \r\nL 362.733291 471.786438 \r\nL 362.733291 485.084438 \r\nL 196.223465 485.084438 \r\nz\r\n\" style=\"fill:#b55d60;stroke:#ffffff;stroke-linejoin:miter;\"/>\r\n   </g>\r\n   <g id=\"patch_40\">\r\n    <path clip-path=\"url(#p2ba9408b0a)\" d=\"M 196.223465 538.276438 \r\nL 253.921056 538.276438 \r\nL 253.921056 551.574438 \r\nL 196.223465 551.574438 \r\nz\r\n\" style=\"fill:#b55d60;stroke:#ffffff;stroke-linejoin:miter;\"/>\r\n   </g>\r\n   <g id=\"patch_41\">\r\n    <path clip-path=\"url(#p2ba9408b0a)\" d=\"M 196.223465 604.766438 \r\nL 208.227662 604.766438 \r\nL 208.227662 618.064438 \r\nL 196.223465 618.064438 \r\nz\r\n\" style=\"fill:#b55d60;stroke:#ffffff;stroke-linejoin:miter;\"/>\r\n   </g>\r\n   <g id=\"patch_42\">\r\n    <path clip-path=\"url(#p2ba9408b0a)\" d=\"M 196.223465 671.256438 \r\nL 536.116489 671.256438 \r\nL 536.116489 684.554438 \r\nL 196.223465 684.554438 \r\nz\r\n\" style=\"fill:#b55d60;stroke:#ffffff;stroke-linejoin:miter;\"/>\r\n   </g>\r\n   <g id=\"line2d_7\">\r\n    <path clip-path=\"url(#p2ba9408b0a)\" d=\"M 0 0 \r\n\" style=\"fill:none;stroke:#424242;stroke-linecap:round;stroke-width:2.7;\"/>\r\n   </g>\r\n   <g id=\"line2d_8\">\r\n    <path clip-path=\"url(#p2ba9408b0a)\" d=\"M 0 0 \r\n\" style=\"fill:none;stroke:#424242;stroke-linecap:round;stroke-width:2.7;\"/>\r\n   </g>\r\n   <g id=\"line2d_9\">\r\n    <path clip-path=\"url(#p2ba9408b0a)\" d=\"M 0 0 \r\n\" style=\"fill:none;stroke:#424242;stroke-linecap:round;stroke-width:2.7;\"/>\r\n   </g>\r\n   <g id=\"line2d_10\">\r\n    <path clip-path=\"url(#p2ba9408b0a)\" d=\"M 0 0 \r\n\" style=\"fill:none;stroke:#424242;stroke-linecap:round;stroke-width:2.7;\"/>\r\n   </g>\r\n   <g id=\"line2d_11\">\r\n    <path clip-path=\"url(#p2ba9408b0a)\" d=\"M 0 0 \r\n\" style=\"fill:none;stroke:#424242;stroke-linecap:round;stroke-width:2.7;\"/>\r\n   </g>\r\n   <g id=\"line2d_12\">\r\n    <path clip-path=\"url(#p2ba9408b0a)\" d=\"M 0 0 \r\n\" style=\"fill:none;stroke:#424242;stroke-linecap:round;stroke-width:2.7;\"/>\r\n   </g>\r\n   <g id=\"line2d_13\">\r\n    <path clip-path=\"url(#p2ba9408b0a)\" d=\"M 0 0 \r\n\" style=\"fill:none;stroke:#424242;stroke-linecap:round;stroke-width:2.7;\"/>\r\n   </g>\r\n   <g id=\"line2d_14\">\r\n    <path clip-path=\"url(#p2ba9408b0a)\" d=\"M 0 0 \r\n\" style=\"fill:none;stroke:#424242;stroke-linecap:round;stroke-width:2.7;\"/>\r\n   </g>\r\n   <g id=\"line2d_15\">\r\n    <path clip-path=\"url(#p2ba9408b0a)\" d=\"M 0 0 \r\n\" style=\"fill:none;stroke:#424242;stroke-linecap:round;stroke-width:2.7;\"/>\r\n   </g>\r\n   <g id=\"line2d_16\">\r\n    <path clip-path=\"url(#p2ba9408b0a)\" d=\"M 0 0 \r\n\" style=\"fill:none;stroke:#424242;stroke-linecap:round;stroke-width:2.7;\"/>\r\n   </g>\r\n   <g id=\"line2d_17\">\r\n    <path clip-path=\"url(#p2ba9408b0a)\" d=\"M 0 0 \r\n\" style=\"fill:none;stroke:#424242;stroke-linecap:round;stroke-width:2.7;\"/>\r\n   </g>\r\n   <g id=\"line2d_18\">\r\n    <path clip-path=\"url(#p2ba9408b0a)\" d=\"M 0 0 \r\n\" style=\"fill:none;stroke:#424242;stroke-linecap:round;stroke-width:2.7;\"/>\r\n   </g>\r\n   <g id=\"line2d_19\">\r\n    <path clip-path=\"url(#p2ba9408b0a)\" d=\"M 0 0 \r\n\" style=\"fill:none;stroke:#424242;stroke-linecap:round;stroke-width:2.7;\"/>\r\n   </g>\r\n   <g id=\"line2d_20\">\r\n    <path clip-path=\"url(#p2ba9408b0a)\" d=\"M 0 0 \r\n\" style=\"fill:none;stroke:#424242;stroke-linecap:round;stroke-width:2.7;\"/>\r\n   </g>\r\n   <g id=\"line2d_21\">\r\n    <path clip-path=\"url(#p2ba9408b0a)\" d=\"M 0 0 \r\n\" style=\"fill:none;stroke:#424242;stroke-linecap:round;stroke-width:2.7;\"/>\r\n   </g>\r\n   <g id=\"line2d_22\">\r\n    <path clip-path=\"url(#p2ba9408b0a)\" d=\"M 0 0 \r\n\" style=\"fill:none;stroke:#424242;stroke-linecap:round;stroke-width:2.7;\"/>\r\n   </g>\r\n   <g id=\"line2d_23\">\r\n    <path clip-path=\"url(#p2ba9408b0a)\" d=\"M 0 0 \r\n\" style=\"fill:none;stroke:#424242;stroke-linecap:round;stroke-width:2.7;\"/>\r\n   </g>\r\n   <g id=\"line2d_24\">\r\n    <path clip-path=\"url(#p2ba9408b0a)\" d=\"M 0 0 \r\n\" style=\"fill:none;stroke:#424242;stroke-linecap:round;stroke-width:2.7;\"/>\r\n   </g>\r\n   <g id=\"line2d_25\">\r\n    <path clip-path=\"url(#p2ba9408b0a)\" d=\"M 0 0 \r\n\" style=\"fill:none;stroke:#424242;stroke-linecap:round;stroke-width:2.7;\"/>\r\n   </g>\r\n   <g id=\"line2d_26\">\r\n    <path clip-path=\"url(#p2ba9408b0a)\" d=\"M 0 0 \r\n\" style=\"fill:none;stroke:#424242;stroke-linecap:round;stroke-width:2.7;\"/>\r\n   </g>\r\n   <g id=\"line2d_27\">\r\n    <path clip-path=\"url(#p2ba9408b0a)\" d=\"M 0 0 \r\n\" style=\"fill:none;stroke:#424242;stroke-linecap:round;stroke-width:2.7;\"/>\r\n   </g>\r\n   <g id=\"line2d_28\">\r\n    <path clip-path=\"url(#p2ba9408b0a)\" d=\"M 0 0 \r\n\" style=\"fill:none;stroke:#424242;stroke-linecap:round;stroke-width:2.7;\"/>\r\n   </g>\r\n   <g id=\"line2d_29\">\r\n    <path clip-path=\"url(#p2ba9408b0a)\" d=\"M 0 0 \r\n\" style=\"fill:none;stroke:#424242;stroke-linecap:round;stroke-width:2.7;\"/>\r\n   </g>\r\n   <g id=\"line2d_30\">\r\n    <path clip-path=\"url(#p2ba9408b0a)\" d=\"M 0 0 \r\n\" style=\"fill:none;stroke:#424242;stroke-linecap:round;stroke-width:2.7;\"/>\r\n   </g>\r\n   <g id=\"line2d_31\">\r\n    <path clip-path=\"url(#p2ba9408b0a)\" d=\"M 0 0 \r\n\" style=\"fill:none;stroke:#424242;stroke-linecap:round;stroke-width:2.7;\"/>\r\n   </g>\r\n   <g id=\"line2d_32\">\r\n    <path clip-path=\"url(#p2ba9408b0a)\" d=\"M 0 0 \r\n\" style=\"fill:none;stroke:#424242;stroke-linecap:round;stroke-width:2.7;\"/>\r\n   </g>\r\n   <g id=\"line2d_33\">\r\n    <path clip-path=\"url(#p2ba9408b0a)\" d=\"M 0 0 \r\n\" style=\"fill:none;stroke:#424242;stroke-linecap:round;stroke-width:2.7;\"/>\r\n   </g>\r\n   <g id=\"line2d_34\">\r\n    <path clip-path=\"url(#p2ba9408b0a)\" d=\"M 0 0 \r\n\" style=\"fill:none;stroke:#424242;stroke-linecap:round;stroke-width:2.7;\"/>\r\n   </g>\r\n   <g id=\"line2d_35\">\r\n    <path clip-path=\"url(#p2ba9408b0a)\" d=\"M 0 0 \r\n\" style=\"fill:none;stroke:#424242;stroke-linecap:round;stroke-width:2.7;\"/>\r\n   </g>\r\n   <g id=\"line2d_36\">\r\n    <path clip-path=\"url(#p2ba9408b0a)\" d=\"M 0 0 \r\n\" style=\"fill:none;stroke:#424242;stroke-linecap:round;stroke-width:2.7;\"/>\r\n   </g>\r\n   <g id=\"line2d_37\">\r\n    <path clip-path=\"url(#p2ba9408b0a)\" d=\"M 0 0 \r\n\" style=\"fill:none;stroke:#424242;stroke-linecap:round;stroke-width:2.7;\"/>\r\n   </g>\r\n   <g id=\"line2d_38\">\r\n    <path clip-path=\"url(#p2ba9408b0a)\" d=\"M 0 0 \r\n\" style=\"fill:none;stroke:#424242;stroke-linecap:round;stroke-width:2.7;\"/>\r\n   </g>\r\n   <g id=\"line2d_39\">\r\n    <path clip-path=\"url(#p2ba9408b0a)\" d=\"M 0 0 \r\n\" style=\"fill:none;stroke:#424242;stroke-linecap:round;stroke-width:2.7;\"/>\r\n   </g>\r\n   <g id=\"line2d_40\">\r\n    <path clip-path=\"url(#p2ba9408b0a)\" d=\"M 0 0 \r\n\" style=\"fill:none;stroke:#424242;stroke-linecap:round;stroke-width:2.7;\"/>\r\n   </g>\r\n   <g id=\"line2d_41\">\r\n    <path clip-path=\"url(#p2ba9408b0a)\" d=\"M 0 0 \r\n\" style=\"fill:none;stroke:#424242;stroke-linecap:round;stroke-width:2.7;\"/>\r\n   </g>\r\n   <g id=\"line2d_42\">\r\n    <path clip-path=\"url(#p2ba9408b0a)\" d=\"M 0 0 \r\n\" style=\"fill:none;stroke:#424242;stroke-linecap:round;stroke-width:2.7;\"/>\r\n   </g>\r\n   <g id=\"line2d_43\">\r\n    <path clip-path=\"url(#p2ba9408b0a)\" d=\"M 0 0 \r\n\" style=\"fill:none;stroke:#424242;stroke-linecap:round;stroke-width:2.7;\"/>\r\n   </g>\r\n   <g id=\"line2d_44\">\r\n    <path clip-path=\"url(#p2ba9408b0a)\" d=\"M 0 0 \r\n\" style=\"fill:none;stroke:#424242;stroke-linecap:round;stroke-width:2.7;\"/>\r\n   </g>\r\n   <g id=\"line2d_45\">\r\n    <path clip-path=\"url(#p2ba9408b0a)\" d=\"M 0 0 \r\n\" style=\"fill:none;stroke:#424242;stroke-linecap:round;stroke-width:2.7;\"/>\r\n   </g>\r\n   <g id=\"line2d_46\">\r\n    <path clip-path=\"url(#p2ba9408b0a)\" d=\"M 0 0 \r\n\" style=\"fill:none;stroke:#424242;stroke-linecap:round;stroke-width:2.7;\"/>\r\n   </g>\r\n   <g id=\"patch_43\">\r\n    <path d=\"M 196.223465 691.203438 \r\nL 196.223465 26.303438 \r\n\" style=\"fill:none;stroke:#cccccc;stroke-linecap:square;stroke-linejoin:miter;stroke-width:1.25;\"/>\r\n   </g>\r\n   <g id=\"patch_44\">\r\n    <path d=\"M 196.223465 691.203438 \r\nL 706.600285 691.203438 \r\n\" style=\"fill:none;stroke:#cccccc;stroke-linecap:square;stroke-linejoin:miter;stroke-width:1.25;\"/>\r\n   </g>\r\n   <g id=\"text_19\">\r\n    <!-- Enterprises which had acquired goods/services in technological areas in the previous three years (percentages) -->\r\n    <defs>\r\n     <path d=\"M 7.90625 0 \r\nL 7.90625 71.578125 \r\nL 59.671875 71.578125 \r\nL 59.671875 63.140625 \r\nL 17.390625 63.140625 \r\nL 17.390625 41.21875 \r\nL 56.984375 41.21875 \r\nL 56.984375 32.8125 \r\nL 17.390625 32.8125 \r\nL 17.390625 8.453125 \r\nL 61.328125 8.453125 \r\nL 61.328125 0 \r\nz\r\n\" id=\"ArialMT-69\"/>\r\n     <path d=\"M 39.65625 -19.875 \r\nL 39.65625 5.515625 \r\nQ 37.59375 2.640625 33.90625 0.734375 \r\nQ 30.21875 -1.171875 26.078125 -1.171875 \r\nQ 16.84375 -1.171875 10.171875 6.203125 \r\nQ 3.515625 13.578125 3.515625 26.421875 \r\nQ 3.515625 34.234375 6.21875 40.421875 \r\nQ 8.9375 46.625 14.078125 49.828125 \r\nQ 19.234375 53.03125 25.390625 53.03125 \r\nQ 35.015625 53.03125 40.53125 44.921875 \r\nL 40.53125 51.859375 \r\nL 48.4375 51.859375 \r\nL 48.4375 -19.875 \r\nz\r\nM 12.546875 26.078125 \r\nQ 12.546875 16.0625 16.75 11.0625 \r\nQ 20.953125 6.0625 26.8125 6.0625 \r\nQ 32.421875 6.0625 36.46875 10.8125 \r\nQ 40.53125 15.578125 40.53125 25.296875 \r\nQ 40.53125 35.640625 36.25 40.859375 \r\nQ 31.984375 46.09375 26.21875 46.09375 \r\nQ 20.515625 46.09375 16.53125 41.234375 \r\nQ 12.546875 36.375 12.546875 26.078125 \r\nz\r\n\" id=\"ArialMT-113\"/>\r\n     <path d=\"M 0 -1.21875 \r\nL 20.75 72.796875 \r\nL 27.78125 72.796875 \r\nL 7.078125 -1.21875 \r\nz\r\n\" id=\"ArialMT-47\"/>\r\n     <path d=\"M 23.390625 -21.046875 \r\nQ 16.109375 -11.859375 11.078125 0.4375 \r\nQ 6.0625 12.75 6.0625 25.921875 \r\nQ 6.0625 37.546875 9.8125 48.1875 \r\nQ 14.203125 60.546875 23.390625 72.796875 \r\nL 29.6875 72.796875 \r\nQ 23.78125 62.640625 21.875 58.296875 \r\nQ 18.890625 51.5625 17.1875 44.234375 \r\nQ 15.09375 35.109375 15.09375 25.875 \r\nQ 15.09375 2.390625 29.6875 -21.046875 \r\nz\r\n\" id=\"ArialMT-40\"/>\r\n     <path d=\"M 12.359375 -21.046875 \r\nL 6.0625 -21.046875 \r\nQ 20.65625 2.390625 20.65625 25.875 \r\nQ 20.65625 35.0625 18.5625 44.09375 \r\nQ 16.890625 51.421875 13.921875 58.15625 \r\nQ 12.015625 62.546875 6.0625 72.796875 \r\nL 12.359375 72.796875 \r\nQ 21.53125 60.546875 25.921875 48.1875 \r\nQ 29.6875 37.546875 29.6875 25.921875 \r\nQ 29.6875 12.75 24.625 0.4375 \r\nQ 19.578125 -11.859375 12.359375 -21.046875 \r\nz\r\n\" id=\"ArialMT-41\"/>\r\n    </defs>\r\n    <g style=\"fill:#262626;\" transform=\"translate(7.2 20.303438)scale(0.18 -0.18)\">\r\n     <use xlink:href=\"#ArialMT-69\"/>\r\n     <use x=\"66.699219\" xlink:href=\"#ArialMT-110\"/>\r\n     <use x=\"122.314453\" xlink:href=\"#ArialMT-116\"/>\r\n     <use x=\"150.097656\" xlink:href=\"#ArialMT-101\"/>\r\n     <use x=\"205.712891\" xlink:href=\"#ArialMT-114\"/>\r\n     <use x=\"239.013672\" xlink:href=\"#ArialMT-112\"/>\r\n     <use x=\"294.628906\" xlink:href=\"#ArialMT-114\"/>\r\n     <use x=\"327.929688\" xlink:href=\"#ArialMT-105\"/>\r\n     <use x=\"350.146484\" xlink:href=\"#ArialMT-115\"/>\r\n     <use x=\"400.146484\" xlink:href=\"#ArialMT-101\"/>\r\n     <use x=\"455.761719\" xlink:href=\"#ArialMT-115\"/>\r\n     <use x=\"505.761719\" xlink:href=\"#ArialMT-32\"/>\r\n     <use x=\"533.544922\" xlink:href=\"#ArialMT-119\"/>\r\n     <use x=\"605.761719\" xlink:href=\"#ArialMT-104\"/>\r\n     <use x=\"661.376953\" xlink:href=\"#ArialMT-105\"/>\r\n     <use x=\"683.59375\" xlink:href=\"#ArialMT-99\"/>\r\n     <use x=\"733.59375\" xlink:href=\"#ArialMT-104\"/>\r\n     <use x=\"789.208984\" xlink:href=\"#ArialMT-32\"/>\r\n     <use x=\"816.992188\" xlink:href=\"#ArialMT-104\"/>\r\n     <use x=\"872.607422\" xlink:href=\"#ArialMT-97\"/>\r\n     <use x=\"928.222656\" xlink:href=\"#ArialMT-100\"/>\r\n     <use x=\"983.837891\" xlink:href=\"#ArialMT-32\"/>\r\n     <use x=\"1011.621094\" xlink:href=\"#ArialMT-97\"/>\r\n     <use x=\"1067.236328\" xlink:href=\"#ArialMT-99\"/>\r\n     <use x=\"1117.236328\" xlink:href=\"#ArialMT-113\"/>\r\n     <use x=\"1172.851562\" xlink:href=\"#ArialMT-117\"/>\r\n     <use x=\"1228.466797\" xlink:href=\"#ArialMT-105\"/>\r\n     <use x=\"1250.683594\" xlink:href=\"#ArialMT-114\"/>\r\n     <use x=\"1283.984375\" xlink:href=\"#ArialMT-101\"/>\r\n     <use x=\"1339.599609\" xlink:href=\"#ArialMT-100\"/>\r\n     <use x=\"1395.214844\" xlink:href=\"#ArialMT-32\"/>\r\n     <use x=\"1422.998047\" xlink:href=\"#ArialMT-103\"/>\r\n     <use x=\"1478.613281\" xlink:href=\"#ArialMT-111\"/>\r\n     <use x=\"1534.228516\" xlink:href=\"#ArialMT-111\"/>\r\n     <use x=\"1589.84375\" xlink:href=\"#ArialMT-100\"/>\r\n     <use x=\"1645.458984\" xlink:href=\"#ArialMT-115\"/>\r\n     <use x=\"1695.458984\" xlink:href=\"#ArialMT-47\"/>\r\n     <use x=\"1723.242188\" xlink:href=\"#ArialMT-115\"/>\r\n     <use x=\"1773.242188\" xlink:href=\"#ArialMT-101\"/>\r\n     <use x=\"1828.857422\" xlink:href=\"#ArialMT-114\"/>\r\n     <use x=\"1862.158203\" xlink:href=\"#ArialMT-118\"/>\r\n     <use x=\"1912.158203\" xlink:href=\"#ArialMT-105\"/>\r\n     <use x=\"1934.375\" xlink:href=\"#ArialMT-99\"/>\r\n     <use x=\"1984.375\" xlink:href=\"#ArialMT-101\"/>\r\n     <use x=\"2039.990234\" xlink:href=\"#ArialMT-115\"/>\r\n     <use x=\"2089.990234\" xlink:href=\"#ArialMT-32\"/>\r\n     <use x=\"2117.773438\" xlink:href=\"#ArialMT-105\"/>\r\n     <use x=\"2139.990234\" xlink:href=\"#ArialMT-110\"/>\r\n     <use x=\"2195.605469\" xlink:href=\"#ArialMT-32\"/>\r\n     <use x=\"2223.388672\" xlink:href=\"#ArialMT-116\"/>\r\n     <use x=\"2251.171875\" xlink:href=\"#ArialMT-101\"/>\r\n     <use x=\"2306.787109\" xlink:href=\"#ArialMT-99\"/>\r\n     <use x=\"2356.787109\" xlink:href=\"#ArialMT-104\"/>\r\n     <use x=\"2412.402344\" xlink:href=\"#ArialMT-110\"/>\r\n     <use x=\"2468.017578\" xlink:href=\"#ArialMT-111\"/>\r\n     <use x=\"2523.632812\" xlink:href=\"#ArialMT-108\"/>\r\n     <use x=\"2545.849609\" xlink:href=\"#ArialMT-111\"/>\r\n     <use x=\"2601.464844\" xlink:href=\"#ArialMT-103\"/>\r\n     <use x=\"2657.080078\" xlink:href=\"#ArialMT-105\"/>\r\n     <use x=\"2679.296875\" xlink:href=\"#ArialMT-99\"/>\r\n     <use x=\"2729.296875\" xlink:href=\"#ArialMT-97\"/>\r\n     <use x=\"2784.912109\" xlink:href=\"#ArialMT-108\"/>\r\n     <use x=\"2807.128906\" xlink:href=\"#ArialMT-32\"/>\r\n     <use x=\"2834.912109\" xlink:href=\"#ArialMT-97\"/>\r\n     <use x=\"2890.527344\" xlink:href=\"#ArialMT-114\"/>\r\n     <use x=\"2923.828125\" xlink:href=\"#ArialMT-101\"/>\r\n     <use x=\"2979.443359\" xlink:href=\"#ArialMT-97\"/>\r\n     <use x=\"3035.058594\" xlink:href=\"#ArialMT-115\"/>\r\n     <use x=\"3085.058594\" xlink:href=\"#ArialMT-32\"/>\r\n     <use x=\"3112.841797\" xlink:href=\"#ArialMT-105\"/>\r\n     <use x=\"3135.058594\" xlink:href=\"#ArialMT-110\"/>\r\n     <use x=\"3190.673828\" xlink:href=\"#ArialMT-32\"/>\r\n     <use x=\"3218.457031\" xlink:href=\"#ArialMT-116\"/>\r\n     <use x=\"3246.240234\" xlink:href=\"#ArialMT-104\"/>\r\n     <use x=\"3301.855469\" xlink:href=\"#ArialMT-101\"/>\r\n     <use x=\"3357.470703\" xlink:href=\"#ArialMT-32\"/>\r\n     <use x=\"3385.253906\" xlink:href=\"#ArialMT-112\"/>\r\n     <use x=\"3440.869141\" xlink:href=\"#ArialMT-114\"/>\r\n     <use x=\"3474.169922\" xlink:href=\"#ArialMT-101\"/>\r\n     <use x=\"3529.785156\" xlink:href=\"#ArialMT-118\"/>\r\n     <use x=\"3579.785156\" xlink:href=\"#ArialMT-105\"/>\r\n     <use x=\"3602.001953\" xlink:href=\"#ArialMT-111\"/>\r\n     <use x=\"3657.617188\" xlink:href=\"#ArialMT-117\"/>\r\n     <use x=\"3713.232422\" xlink:href=\"#ArialMT-115\"/>\r\n     <use x=\"3763.232422\" xlink:href=\"#ArialMT-32\"/>\r\n     <use x=\"3791.015625\" xlink:href=\"#ArialMT-116\"/>\r\n     <use x=\"3818.798828\" xlink:href=\"#ArialMT-104\"/>\r\n     <use x=\"3874.414062\" xlink:href=\"#ArialMT-114\"/>\r\n     <use x=\"3907.714844\" xlink:href=\"#ArialMT-101\"/>\r\n     <use x=\"3963.330078\" xlink:href=\"#ArialMT-101\"/>\r\n     <use x=\"4018.945312\" xlink:href=\"#ArialMT-32\"/>\r\n     <use x=\"4046.728516\" xlink:href=\"#ArialMT-121\"/>\r\n     <use x=\"4096.728516\" xlink:href=\"#ArialMT-101\"/>\r\n     <use x=\"4152.34375\" xlink:href=\"#ArialMT-97\"/>\r\n     <use x=\"4207.958984\" xlink:href=\"#ArialMT-114\"/>\r\n     <use x=\"4241.259766\" xlink:href=\"#ArialMT-115\"/>\r\n     <use x=\"4291.259766\" xlink:href=\"#ArialMT-32\"/>\r\n     <use x=\"4319.042969\" xlink:href=\"#ArialMT-40\"/>\r\n     <use x=\"4352.34375\" xlink:href=\"#ArialMT-112\"/>\r\n     <use x=\"4407.958984\" xlink:href=\"#ArialMT-101\"/>\r\n     <use x=\"4463.574219\" xlink:href=\"#ArialMT-114\"/>\r\n     <use x=\"4496.875\" xlink:href=\"#ArialMT-99\"/>\r\n     <use x=\"4546.875\" xlink:href=\"#ArialMT-101\"/>\r\n     <use x=\"4602.490234\" xlink:href=\"#ArialMT-110\"/>\r\n     <use x=\"4658.105469\" xlink:href=\"#ArialMT-116\"/>\r\n     <use x=\"4685.888672\" xlink:href=\"#ArialMT-97\"/>\r\n     <use x=\"4741.503906\" xlink:href=\"#ArialMT-103\"/>\r\n     <use x=\"4797.119141\" xlink:href=\"#ArialMT-101\"/>\r\n     <use x=\"4852.734375\" xlink:href=\"#ArialMT-115\"/>\r\n     <use x=\"4902.734375\" xlink:href=\"#ArialMT-41\"/>\r\n    </g>\r\n   </g>\r\n   <g id=\"legend_1\">\r\n    <g id=\"patch_45\">\r\n     <path d=\"M 568.004785 119.813438 \r\nL 696.520285 119.813438 \r\nQ 699.400285 119.813438 699.400285 116.933438 \r\nL 699.400285 36.383438 \r\nQ 699.400285 33.503438 696.520285 33.503438 \r\nL 568.004785 33.503438 \r\nQ 565.124785 33.503438 565.124785 36.383438 \r\nL 565.124785 116.933438 \r\nQ 565.124785 119.813438 568.004785 119.813438 \r\nz\r\n\" style=\"fill:#ffffff;opacity:0.8;stroke:#cccccc;stroke-linejoin:miter;\"/>\r\n    </g>\r\n    <g id=\"patch_46\">\r\n     <path d=\"M 570.884785 49.570688 \r\nL 599.684785 49.570688 \r\nL 599.684785 39.490688 \r\nL 570.884785 39.490688 \r\nz\r\n\" style=\"fill:#5875a4;stroke:#ffffff;stroke-linejoin:miter;\"/>\r\n    </g>\r\n    <g id=\"text_20\">\r\n     <!-- Nord-ovest -->\r\n     <defs>\r\n      <path d=\"M 7.625 0 \r\nL 7.625 71.578125 \r\nL 17.328125 71.578125 \r\nL 54.9375 15.375 \r\nL 54.9375 71.578125 \r\nL 64.015625 71.578125 \r\nL 64.015625 0 \r\nL 54.296875 0 \r\nL 16.703125 56.25 \r\nL 16.703125 0 \r\nz\r\n\" id=\"ArialMT-78\"/>\r\n      <path d=\"M 3.171875 21.484375 \r\nL 3.171875 30.328125 \r\nL 30.171875 30.328125 \r\nL 30.171875 21.484375 \r\nz\r\n\" id=\"ArialMT-45\"/>\r\n     </defs>\r\n     <g style=\"fill:#262626;\" transform=\"translate(611.204785 49.570688)scale(0.144 -0.144)\">\r\n      <use xlink:href=\"#ArialMT-78\"/>\r\n      <use x=\"72.216797\" xlink:href=\"#ArialMT-111\"/>\r\n      <use x=\"127.832031\" xlink:href=\"#ArialMT-114\"/>\r\n      <use x=\"161.132812\" xlink:href=\"#ArialMT-100\"/>\r\n      <use x=\"216.748047\" xlink:href=\"#ArialMT-45\"/>\r\n      <use x=\"250.048828\" xlink:href=\"#ArialMT-111\"/>\r\n      <use x=\"305.664062\" xlink:href=\"#ArialMT-118\"/>\r\n      <use x=\"355.664062\" xlink:href=\"#ArialMT-101\"/>\r\n      <use x=\"411.279297\" xlink:href=\"#ArialMT-115\"/>\r\n      <use x=\"461.279297\" xlink:href=\"#ArialMT-116\"/>\r\n     </g>\r\n    </g>\r\n    <g id=\"patch_47\">\r\n     <path d=\"M 570.884785 69.939938 \r\nL 599.684785 69.939938 \r\nL 599.684785 59.859938 \r\nL 570.884785 59.859938 \r\nz\r\n\" style=\"fill:#cc8963;stroke:#ffffff;stroke-linejoin:miter;\"/>\r\n    </g>\r\n    <g id=\"text_21\">\r\n     <!-- Nord-est -->\r\n     <g style=\"fill:#262626;\" transform=\"translate(611.204785 69.939938)scale(0.144 -0.144)\">\r\n      <use xlink:href=\"#ArialMT-78\"/>\r\n      <use x=\"72.216797\" xlink:href=\"#ArialMT-111\"/>\r\n      <use x=\"127.832031\" xlink:href=\"#ArialMT-114\"/>\r\n      <use x=\"161.132812\" xlink:href=\"#ArialMT-100\"/>\r\n      <use x=\"216.748047\" xlink:href=\"#ArialMT-45\"/>\r\n      <use x=\"250.048828\" xlink:href=\"#ArialMT-101\"/>\r\n      <use x=\"305.664062\" xlink:href=\"#ArialMT-115\"/>\r\n      <use x=\"355.664062\" xlink:href=\"#ArialMT-116\"/>\r\n     </g>\r\n    </g>\r\n    <g id=\"patch_48\">\r\n     <path d=\"M 570.884785 90.484688 \r\nL 599.684785 90.484688 \r\nL 599.684785 80.404688 \r\nL 570.884785 80.404688 \r\nz\r\n\" style=\"fill:#5f9e6e;stroke:#ffffff;stroke-linejoin:miter;\"/>\r\n    </g>\r\n    <g id=\"text_22\">\r\n     <!-- Centro (I) -->\r\n     <defs>\r\n      <path d=\"M 58.796875 25.09375 \r\nL 68.265625 22.703125 \r\nQ 65.28125 11.03125 57.546875 4.90625 \r\nQ 49.8125 -1.21875 38.625 -1.21875 \r\nQ 27.046875 -1.21875 19.796875 3.484375 \r\nQ 12.546875 8.203125 8.765625 17.140625 \r\nQ 4.984375 26.078125 4.984375 36.328125 \r\nQ 4.984375 47.515625 9.25 55.828125 \r\nQ 13.53125 64.15625 21.40625 68.46875 \r\nQ 29.296875 72.796875 38.765625 72.796875 \r\nQ 49.515625 72.796875 56.828125 67.328125 \r\nQ 64.15625 61.859375 67.046875 51.953125 \r\nL 57.71875 49.75 \r\nQ 55.21875 57.5625 50.484375 61.125 \r\nQ 45.75 64.703125 38.578125 64.703125 \r\nQ 30.328125 64.703125 24.78125 60.734375 \r\nQ 19.234375 56.78125 16.984375 50.109375 \r\nQ 14.75 43.453125 14.75 36.375 \r\nQ 14.75 27.25 17.40625 20.4375 \r\nQ 20.0625 13.625 25.671875 10.25 \r\nQ 31.296875 6.890625 37.84375 6.890625 \r\nQ 45.796875 6.890625 51.3125 11.46875 \r\nQ 56.84375 16.0625 58.796875 25.09375 \r\nz\r\n\" id=\"ArialMT-67\"/>\r\n     </defs>\r\n     <g style=\"fill:#262626;\" transform=\"translate(611.204785 90.484688)scale(0.144 -0.144)\">\r\n      <use xlink:href=\"#ArialMT-67\"/>\r\n      <use x=\"72.216797\" xlink:href=\"#ArialMT-101\"/>\r\n      <use x=\"127.832031\" xlink:href=\"#ArialMT-110\"/>\r\n      <use x=\"183.447266\" xlink:href=\"#ArialMT-116\"/>\r\n      <use x=\"211.230469\" xlink:href=\"#ArialMT-114\"/>\r\n      <use x=\"244.53125\" xlink:href=\"#ArialMT-111\"/>\r\n      <use x=\"300.146484\" xlink:href=\"#ArialMT-32\"/>\r\n      <use x=\"327.929688\" xlink:href=\"#ArialMT-40\"/>\r\n      <use x=\"361.230469\" xlink:href=\"#ArialMT-73\"/>\r\n      <use x=\"389.013672\" xlink:href=\"#ArialMT-41\"/>\r\n     </g>\r\n    </g>\r\n    <g id=\"patch_49\">\r\n     <path d=\"M 570.884785 111.022688 \r\nL 599.684785 111.022688 \r\nL 599.684785 100.942688 \r\nL 570.884785 100.942688 \r\nz\r\n\" style=\"fill:#b55d60;stroke:#ffffff;stroke-linejoin:miter;\"/>\r\n    </g>\r\n    <g id=\"text_23\">\r\n     <!-- Mezzogiorno -->\r\n     <defs>\r\n      <path d=\"M 7.421875 0 \r\nL 7.421875 71.578125 \r\nL 21.6875 71.578125 \r\nL 38.625 20.90625 \r\nQ 40.96875 13.8125 42.046875 10.296875 \r\nQ 43.265625 14.203125 45.84375 21.78125 \r\nL 62.984375 71.578125 \r\nL 75.734375 71.578125 \r\nL 75.734375 0 \r\nL 66.609375 0 \r\nL 66.609375 59.90625 \r\nL 45.796875 0 \r\nL 37.25 0 \r\nL 16.546875 60.9375 \r\nL 16.546875 0 \r\nz\r\n\" id=\"ArialMT-77\"/>\r\n      <path d=\"M 1.953125 0 \r\nL 1.953125 7.125 \r\nL 34.96875 45.015625 \r\nQ 29.34375 44.734375 25.046875 44.734375 \r\nL 3.90625 44.734375 \r\nL 3.90625 51.859375 \r\nL 46.296875 51.859375 \r\nL 46.296875 46.046875 \r\nL 18.21875 13.140625 \r\nL 12.796875 7.125 \r\nQ 18.703125 7.5625 23.875 7.5625 \r\nL 47.859375 7.5625 \r\nL 47.859375 0 \r\nz\r\n\" id=\"ArialMT-122\"/>\r\n     </defs>\r\n     <g style=\"fill:#262626;\" transform=\"translate(611.204785 111.022688)scale(0.144 -0.144)\">\r\n      <use xlink:href=\"#ArialMT-77\"/>\r\n      <use x=\"83.300781\" xlink:href=\"#ArialMT-101\"/>\r\n      <use x=\"138.916016\" xlink:href=\"#ArialMT-122\"/>\r\n      <use x=\"188.916016\" xlink:href=\"#ArialMT-122\"/>\r\n      <use x=\"238.916016\" xlink:href=\"#ArialMT-111\"/>\r\n      <use x=\"294.53125\" xlink:href=\"#ArialMT-103\"/>\r\n      <use x=\"350.146484\" xlink:href=\"#ArialMT-105\"/>\r\n      <use x=\"372.363281\" xlink:href=\"#ArialMT-111\"/>\r\n      <use x=\"427.978516\" xlink:href=\"#ArialMT-114\"/>\r\n      <use x=\"461.279297\" xlink:href=\"#ArialMT-110\"/>\r\n      <use x=\"516.894531\" xlink:href=\"#ArialMT-111\"/>\r\n     </g>\r\n    </g>\r\n   </g>\r\n  </g>\r\n </g>\r\n <defs>\r\n  <clipPath id=\"p2ba9408b0a\">\r\n   <rect height=\"664.9\" width=\"510.37682\" x=\"196.223465\" y=\"26.303438\"/>\r\n  </clipPath>\r\n </defs>\r\n</svg>\r\n",
      "image/png": "[encoded data removed]"
     },
     "metadata": {
      "needs_background": "light"
     }
    }
   ],
   "source": [
    "ax = sns.catplot(x='Value', y='Data type', hue='Territory', data=tech_areas_acquired, kind='bar', height=10, aspect=1)\n",
    "plt.title('Enterprises which had acquired goods/services in technological areas in the previous three years (percentages)', fontsize=18)\n",
    "plt.xlabel('Percentage', fontsize=14)\n",
    "plt.ylabel('Area', fontsize=14)\n",
    "ax._legend.remove()\n",
    "plt.legend(fontsize='x-large', title_fontsize='40')"
   ]
  },
  {
   "cell_type": "code",
   "execution_count": 270,
   "metadata": {},
   "outputs": [
    {
     "output_type": "execute_result",
     "data": {
      "text/plain": "<matplotlib.legend.Legend at 0x243c89f7588>"
     },
     "metadata": {},
     "execution_count": 270
    },
    {
     "output_type": "display_data",
     "data": {
      "text/plain": "<Figure size 1110.85x720 with 1 Axes>",
      "image/svg+xml": "<?xml version=\"1.0\" encoding=\"utf-8\" standalone=\"no\"?>\r\n<!DOCTYPE svg PUBLIC \"-//W3C//DTD SVG 1.1//EN\"\r\n  \"http://www.w3.org/Graphics/SVG/1.1/DTD/svg11.dtd\">\r\n<!-- Created with matplotlib (https://matplotlib.org/) -->\r\n<svg height=\"734.930781pt\" version=\"1.1\" viewBox=\"0 0 1322.614552 734.930781\" width=\"1322.614552pt\" xmlns=\"http://www.w3.org/2000/svg\" xmlns:xlink=\"http://www.w3.org/1999/xlink\">\r\n <defs>\r\n  <style type=\"text/css\">\r\n*{stroke-linecap:butt;stroke-linejoin:round;}\r\n  </style>\r\n </defs>\r\n <g id=\"figure_1\">\r\n  <g id=\"patch_1\">\r\n   <path d=\"M 0 734.930781 \r\nL 1322.614552 734.930781 \r\nL 1322.614552 -0 \r\nL 0 -0 \r\nz\r\n\" style=\"fill:none;\"/>\r\n  </g>\r\n  <g id=\"axes_1\">\r\n   <g id=\"patch_2\">\r\n    <path d=\"M 529.962656 691.203438 \r\nL 940.327698 691.203438 \r\nL 940.327698 26.303438 \r\nL 529.962656 26.303438 \r\nz\r\n\" style=\"fill:#ffffff;\"/>\r\n   </g>\r\n   <g id=\"matplotlib.axis_1\">\r\n    <g id=\"xtick_1\">\r\n     <g id=\"line2d_1\">\r\n      <path clip-path=\"url(#pa90b7fbf98)\" d=\"M 529.962656 691.203438 \r\nL 529.962656 26.303438 \r\n\" style=\"fill:none;stroke:#cccccc;stroke-linecap:round;\"/>\r\n     </g>\r\n     <g id=\"text_1\">\r\n      <!-- 0 -->\r\n      <defs>\r\n       <path d=\"M 4.15625 35.296875 \r\nQ 4.15625 48 6.765625 55.734375 \r\nQ 9.375 63.484375 14.515625 67.671875 \r\nQ 19.671875 71.875 27.484375 71.875 \r\nQ 33.25 71.875 37.59375 69.546875 \r\nQ 41.9375 67.234375 44.765625 62.859375 \r\nQ 47.609375 58.5 49.21875 52.21875 \r\nQ 50.828125 45.953125 50.828125 35.296875 \r\nQ 50.828125 22.703125 48.234375 14.96875 \r\nQ 45.65625 7.234375 40.5 3 \r\nQ 35.359375 -1.21875 27.484375 -1.21875 \r\nQ 17.140625 -1.21875 11.234375 6.203125 \r\nQ 4.15625 15.140625 4.15625 35.296875 \r\nz\r\nM 13.1875 35.296875 \r\nQ 13.1875 17.671875 17.3125 11.828125 \r\nQ 21.4375 6 27.484375 6 \r\nQ 33.546875 6 37.671875 11.859375 \r\nQ 41.796875 17.71875 41.796875 35.296875 \r\nQ 41.796875 52.984375 37.671875 58.78125 \r\nQ 33.546875 64.59375 27.390625 64.59375 \r\nQ 21.34375 64.59375 17.71875 59.46875 \r\nQ 13.1875 52.9375 13.1875 35.296875 \r\nz\r\n\" id=\"ArialMT-48\"/>\r\n      </defs>\r\n      <g style=\"fill:#262626;\" transform=\"translate(526.904141 708.577031)scale(0.11 -0.11)\">\r\n       <use xlink:href=\"#ArialMT-48\"/>\r\n      </g>\r\n     </g>\r\n    </g>\r\n    <g id=\"xtick_2\">\r\n     <g id=\"line2d_2\">\r\n      <path clip-path=\"url(#pa90b7fbf98)\" d=\"M 587.657349 691.203438 \r\nL 587.657349 26.303438 \r\n\" style=\"fill:none;stroke:#cccccc;stroke-linecap:round;\"/>\r\n     </g>\r\n     <g id=\"text_2\">\r\n      <!-- 5 -->\r\n      <defs>\r\n       <path d=\"M 4.15625 18.75 \r\nL 13.375 19.53125 \r\nQ 14.40625 12.796875 18.140625 9.390625 \r\nQ 21.875 6 27.15625 6 \r\nQ 33.5 6 37.890625 10.78125 \r\nQ 42.28125 15.578125 42.28125 23.484375 \r\nQ 42.28125 31 38.0625 35.34375 \r\nQ 33.84375 39.703125 27 39.703125 \r\nQ 22.75 39.703125 19.328125 37.765625 \r\nQ 15.921875 35.84375 13.96875 32.765625 \r\nL 5.71875 33.84375 \r\nL 12.640625 70.609375 \r\nL 48.25 70.609375 \r\nL 48.25 62.203125 \r\nL 19.671875 62.203125 \r\nL 15.828125 42.96875 \r\nQ 22.265625 47.46875 29.34375 47.46875 \r\nQ 38.71875 47.46875 45.15625 40.96875 \r\nQ 51.609375 34.46875 51.609375 24.265625 \r\nQ 51.609375 14.546875 45.953125 7.46875 \r\nQ 39.0625 -1.21875 27.15625 -1.21875 \r\nQ 17.390625 -1.21875 11.203125 4.25 \r\nQ 5.03125 9.71875 4.15625 18.75 \r\nz\r\n\" id=\"ArialMT-53\"/>\r\n      </defs>\r\n      <g style=\"fill:#262626;\" transform=\"translate(584.598833 708.577031)scale(0.11 -0.11)\">\r\n       <use xlink:href=\"#ArialMT-53\"/>\r\n      </g>\r\n     </g>\r\n    </g>\r\n    <g id=\"xtick_3\">\r\n     <g id=\"line2d_3\">\r\n      <path clip-path=\"url(#pa90b7fbf98)\" d=\"M 645.352042 691.203438 \r\nL 645.352042 26.303438 \r\n\" style=\"fill:none;stroke:#cccccc;stroke-linecap:round;\"/>\r\n     </g>\r\n     <g id=\"text_3\">\r\n      <!-- 10 -->\r\n      <defs>\r\n       <path d=\"M 37.25 0 \r\nL 28.46875 0 \r\nL 28.46875 56 \r\nQ 25.296875 52.984375 20.140625 49.953125 \r\nQ 14.984375 46.921875 10.890625 45.40625 \r\nL 10.890625 53.90625 \r\nQ 18.265625 57.375 23.78125 62.296875 \r\nQ 29.296875 67.234375 31.59375 71.875 \r\nL 37.25 71.875 \r\nz\r\n\" id=\"ArialMT-49\"/>\r\n      </defs>\r\n      <g style=\"fill:#262626;\" transform=\"translate(639.235011 708.577031)scale(0.11 -0.11)\">\r\n       <use xlink:href=\"#ArialMT-49\"/>\r\n       <use x=\"55.615234\" xlink:href=\"#ArialMT-48\"/>\r\n      </g>\r\n     </g>\r\n    </g>\r\n    <g id=\"xtick_4\">\r\n     <g id=\"line2d_4\">\r\n      <path clip-path=\"url(#pa90b7fbf98)\" d=\"M 703.046735 691.203438 \r\nL 703.046735 26.303438 \r\n\" style=\"fill:none;stroke:#cccccc;stroke-linecap:round;\"/>\r\n     </g>\r\n     <g id=\"text_4\">\r\n      <!-- 15 -->\r\n      <g style=\"fill:#262626;\" transform=\"translate(696.929704 708.577031)scale(0.11 -0.11)\">\r\n       <use xlink:href=\"#ArialMT-49\"/>\r\n       <use x=\"55.615234\" xlink:href=\"#ArialMT-53\"/>\r\n      </g>\r\n     </g>\r\n    </g>\r\n    <g id=\"xtick_5\">\r\n     <g id=\"line2d_5\">\r\n      <path clip-path=\"url(#pa90b7fbf98)\" d=\"M 760.741428 691.203438 \r\nL 760.741428 26.303438 \r\n\" style=\"fill:none;stroke:#cccccc;stroke-linecap:round;\"/>\r\n     </g>\r\n     <g id=\"text_5\">\r\n      <!-- 20 -->\r\n      <defs>\r\n       <path d=\"M 50.34375 8.453125 \r\nL 50.34375 0 \r\nL 3.03125 0 \r\nQ 2.9375 3.171875 4.046875 6.109375 \r\nQ 5.859375 10.9375 9.828125 15.625 \r\nQ 13.8125 20.3125 21.34375 26.46875 \r\nQ 33.015625 36.03125 37.109375 41.625 \r\nQ 41.21875 47.21875 41.21875 52.203125 \r\nQ 41.21875 57.421875 37.46875 61 \r\nQ 33.734375 64.59375 27.734375 64.59375 \r\nQ 21.390625 64.59375 17.578125 60.78125 \r\nQ 13.765625 56.984375 13.71875 50.25 \r\nL 4.6875 51.171875 \r\nQ 5.609375 61.28125 11.65625 66.578125 \r\nQ 17.71875 71.875 27.9375 71.875 \r\nQ 38.234375 71.875 44.234375 66.15625 \r\nQ 50.25 60.453125 50.25 52 \r\nQ 50.25 47.703125 48.484375 43.546875 \r\nQ 46.734375 39.40625 42.65625 34.8125 \r\nQ 38.578125 30.21875 29.109375 22.21875 \r\nQ 21.1875 15.578125 18.9375 13.203125 \r\nQ 16.703125 10.84375 15.234375 8.453125 \r\nz\r\n\" id=\"ArialMT-50\"/>\r\n      </defs>\r\n      <g style=\"fill:#262626;\" transform=\"translate(754.624396 708.577031)scale(0.11 -0.11)\">\r\n       <use xlink:href=\"#ArialMT-50\"/>\r\n       <use x=\"55.615234\" xlink:href=\"#ArialMT-48\"/>\r\n      </g>\r\n     </g>\r\n    </g>\r\n    <g id=\"xtick_6\">\r\n     <g id=\"line2d_6\">\r\n      <path clip-path=\"url(#pa90b7fbf98)\" d=\"M 818.43612 691.203438 \r\nL 818.43612 26.303438 \r\n\" style=\"fill:none;stroke:#cccccc;stroke-linecap:round;\"/>\r\n     </g>\r\n     <g id=\"text_6\">\r\n      <!-- 25 -->\r\n      <g style=\"fill:#262626;\" transform=\"translate(812.319089 708.577031)scale(0.11 -0.11)\">\r\n       <use xlink:href=\"#ArialMT-50\"/>\r\n       <use x=\"55.615234\" xlink:href=\"#ArialMT-53\"/>\r\n      </g>\r\n     </g>\r\n    </g>\r\n    <g id=\"xtick_7\">\r\n     <g id=\"line2d_7\">\r\n      <path clip-path=\"url(#pa90b7fbf98)\" d=\"M 876.130813 691.203438 \r\nL 876.130813 26.303438 \r\n\" style=\"fill:none;stroke:#cccccc;stroke-linecap:round;\"/>\r\n     </g>\r\n     <g id=\"text_7\">\r\n      <!-- 30 -->\r\n      <defs>\r\n       <path d=\"M 4.203125 18.890625 \r\nL 12.984375 20.0625 \r\nQ 14.5 12.59375 18.140625 9.296875 \r\nQ 21.78125 6 27 6 \r\nQ 33.203125 6 37.46875 10.296875 \r\nQ 41.75 14.59375 41.75 20.953125 \r\nQ 41.75 27 37.796875 30.921875 \r\nQ 33.84375 34.859375 27.734375 34.859375 \r\nQ 25.25 34.859375 21.53125 33.890625 \r\nL 22.515625 41.609375 \r\nQ 23.390625 41.5 23.921875 41.5 \r\nQ 29.546875 41.5 34.03125 44.421875 \r\nQ 38.53125 47.359375 38.53125 53.46875 \r\nQ 38.53125 58.296875 35.25 61.46875 \r\nQ 31.984375 64.65625 26.8125 64.65625 \r\nQ 21.6875 64.65625 18.265625 61.421875 \r\nQ 14.84375 58.203125 13.875 51.765625 \r\nL 5.078125 53.328125 \r\nQ 6.6875 62.15625 12.390625 67.015625 \r\nQ 18.109375 71.875 26.609375 71.875 \r\nQ 32.46875 71.875 37.390625 69.359375 \r\nQ 42.328125 66.84375 44.9375 62.5 \r\nQ 47.5625 58.15625 47.5625 53.265625 \r\nQ 47.5625 48.640625 45.0625 44.828125 \r\nQ 42.578125 41.015625 37.703125 38.765625 \r\nQ 44.046875 37.3125 47.5625 32.6875 \r\nQ 51.078125 28.078125 51.078125 21.140625 \r\nQ 51.078125 11.765625 44.234375 5.25 \r\nQ 37.40625 -1.265625 26.953125 -1.265625 \r\nQ 17.53125 -1.265625 11.296875 4.34375 \r\nQ 5.078125 9.96875 4.203125 18.890625 \r\nz\r\n\" id=\"ArialMT-51\"/>\r\n      </defs>\r\n      <g style=\"fill:#262626;\" transform=\"translate(870.013782 708.577031)scale(0.11 -0.11)\">\r\n       <use xlink:href=\"#ArialMT-51\"/>\r\n       <use x=\"55.615234\" xlink:href=\"#ArialMT-48\"/>\r\n      </g>\r\n     </g>\r\n    </g>\r\n    <g id=\"xtick_8\">\r\n     <g id=\"line2d_8\">\r\n      <path clip-path=\"url(#pa90b7fbf98)\" d=\"M 933.825506 691.203438 \r\nL 933.825506 26.303438 \r\n\" style=\"fill:none;stroke:#cccccc;stroke-linecap:round;\"/>\r\n     </g>\r\n     <g id=\"text_8\">\r\n      <!-- 35 -->\r\n      <g style=\"fill:#262626;\" transform=\"translate(927.708475 708.577031)scale(0.11 -0.11)\">\r\n       <use xlink:href=\"#ArialMT-51\"/>\r\n       <use x=\"55.615234\" xlink:href=\"#ArialMT-53\"/>\r\n      </g>\r\n     </g>\r\n    </g>\r\n    <g id=\"text_9\">\r\n     <!-- Percentage -->\r\n     <defs>\r\n      <path d=\"M 7.71875 0 \r\nL 7.71875 71.578125 \r\nL 34.71875 71.578125 \r\nQ 41.84375 71.578125 45.609375 70.90625 \r\nQ 50.875 70.015625 54.4375 67.546875 \r\nQ 58.015625 65.09375 60.1875 60.640625 \r\nQ 62.359375 56.203125 62.359375 50.875 \r\nQ 62.359375 41.75 56.546875 35.421875 \r\nQ 50.734375 29.109375 35.546875 29.109375 \r\nL 17.1875 29.109375 \r\nL 17.1875 0 \r\nz\r\nM 17.1875 37.546875 \r\nL 35.6875 37.546875 \r\nQ 44.875 37.546875 48.734375 40.96875 \r\nQ 52.59375 44.390625 52.59375 50.59375 \r\nQ 52.59375 55.078125 50.3125 58.265625 \r\nQ 48.046875 61.46875 44.34375 62.5 \r\nQ 41.9375 63.140625 35.5 63.140625 \r\nL 17.1875 63.140625 \r\nz\r\n\" id=\"ArialMT-80\"/>\r\n      <path d=\"M 42.09375 16.703125 \r\nL 51.171875 15.578125 \r\nQ 49.03125 7.625 43.21875 3.21875 \r\nQ 37.40625 -1.171875 28.375 -1.171875 \r\nQ 17 -1.171875 10.328125 5.828125 \r\nQ 3.65625 12.84375 3.65625 25.484375 \r\nQ 3.65625 38.578125 10.390625 45.796875 \r\nQ 17.140625 53.03125 27.875 53.03125 \r\nQ 38.28125 53.03125 44.875 45.953125 \r\nQ 51.46875 38.875 51.46875 26.03125 \r\nQ 51.46875 25.25 51.421875 23.6875 \r\nL 12.75 23.6875 \r\nQ 13.234375 15.140625 17.578125 10.59375 \r\nQ 21.921875 6.0625 28.421875 6.0625 \r\nQ 33.25 6.0625 36.671875 8.59375 \r\nQ 40.09375 11.140625 42.09375 16.703125 \r\nz\r\nM 13.234375 30.90625 \r\nL 42.1875 30.90625 \r\nQ 41.609375 37.453125 38.875 40.71875 \r\nQ 34.671875 45.796875 27.984375 45.796875 \r\nQ 21.921875 45.796875 17.796875 41.75 \r\nQ 13.671875 37.703125 13.234375 30.90625 \r\nz\r\n\" id=\"ArialMT-101\"/>\r\n      <path d=\"M 6.5 0 \r\nL 6.5 51.859375 \r\nL 14.40625 51.859375 \r\nL 14.40625 44 \r\nQ 17.4375 49.515625 20 51.265625 \r\nQ 22.5625 53.03125 25.640625 53.03125 \r\nQ 30.078125 53.03125 34.671875 50.203125 \r\nL 31.640625 42.046875 \r\nQ 28.421875 43.953125 25.203125 43.953125 \r\nQ 22.3125 43.953125 20.015625 42.21875 \r\nQ 17.71875 40.484375 16.75 37.40625 \r\nQ 15.28125 32.71875 15.28125 27.15625 \r\nL 15.28125 0 \r\nz\r\n\" id=\"ArialMT-114\"/>\r\n      <path d=\"M 40.4375 19 \r\nL 49.078125 17.875 \r\nQ 47.65625 8.9375 41.8125 3.875 \r\nQ 35.984375 -1.171875 27.484375 -1.171875 \r\nQ 16.84375 -1.171875 10.375 5.78125 \r\nQ 3.90625 12.75 3.90625 25.734375 \r\nQ 3.90625 34.125 6.6875 40.421875 \r\nQ 9.46875 46.734375 15.15625 49.875 \r\nQ 20.84375 53.03125 27.546875 53.03125 \r\nQ 35.984375 53.03125 41.359375 48.75 \r\nQ 46.734375 44.484375 48.25 36.625 \r\nL 39.703125 35.296875 \r\nQ 38.484375 40.53125 35.375 43.15625 \r\nQ 32.28125 45.796875 27.875 45.796875 \r\nQ 21.234375 45.796875 17.078125 41.03125 \r\nQ 12.9375 36.28125 12.9375 25.984375 \r\nQ 12.9375 15.53125 16.9375 10.796875 \r\nQ 20.953125 6.0625 27.390625 6.0625 \r\nQ 32.5625 6.0625 36.03125 9.234375 \r\nQ 39.5 12.40625 40.4375 19 \r\nz\r\n\" id=\"ArialMT-99\"/>\r\n      <path d=\"M 6.59375 0 \r\nL 6.59375 51.859375 \r\nL 14.5 51.859375 \r\nL 14.5 44.484375 \r\nQ 20.21875 53.03125 31 53.03125 \r\nQ 35.6875 53.03125 39.625 51.34375 \r\nQ 43.5625 49.65625 45.515625 46.921875 \r\nQ 47.46875 44.1875 48.25 40.4375 \r\nQ 48.734375 37.984375 48.734375 31.890625 \r\nL 48.734375 0 \r\nL 39.9375 0 \r\nL 39.9375 31.546875 \r\nQ 39.9375 36.921875 38.90625 39.578125 \r\nQ 37.890625 42.234375 35.28125 43.8125 \r\nQ 32.671875 45.40625 29.15625 45.40625 \r\nQ 23.53125 45.40625 19.453125 41.84375 \r\nQ 15.375 38.28125 15.375 28.328125 \r\nL 15.375 0 \r\nz\r\n\" id=\"ArialMT-110\"/>\r\n      <path d=\"M 25.78125 7.859375 \r\nL 27.046875 0.09375 \r\nQ 23.34375 -0.6875 20.40625 -0.6875 \r\nQ 15.625 -0.6875 12.984375 0.828125 \r\nQ 10.359375 2.34375 9.28125 4.8125 \r\nQ 8.203125 7.28125 8.203125 15.1875 \r\nL 8.203125 45.015625 \r\nL 1.765625 45.015625 \r\nL 1.765625 51.859375 \r\nL 8.203125 51.859375 \r\nL 8.203125 64.703125 \r\nL 16.9375 69.96875 \r\nL 16.9375 51.859375 \r\nL 25.78125 51.859375 \r\nL 25.78125 45.015625 \r\nL 16.9375 45.015625 \r\nL 16.9375 14.703125 \r\nQ 16.9375 10.9375 17.40625 9.859375 \r\nQ 17.875 8.796875 18.921875 8.15625 \r\nQ 19.96875 7.515625 21.921875 7.515625 \r\nQ 23.390625 7.515625 25.78125 7.859375 \r\nz\r\n\" id=\"ArialMT-116\"/>\r\n      <path d=\"M 40.4375 6.390625 \r\nQ 35.546875 2.25 31.03125 0.53125 \r\nQ 26.515625 -1.171875 21.34375 -1.171875 \r\nQ 12.796875 -1.171875 8.203125 3 \r\nQ 3.609375 7.171875 3.609375 13.671875 \r\nQ 3.609375 17.484375 5.34375 20.625 \r\nQ 7.078125 23.78125 9.890625 25.6875 \r\nQ 12.703125 27.59375 16.21875 28.5625 \r\nQ 18.796875 29.25 24.03125 29.890625 \r\nQ 34.671875 31.15625 39.703125 32.90625 \r\nQ 39.75 34.71875 39.75 35.203125 \r\nQ 39.75 40.578125 37.25 42.78125 \r\nQ 33.890625 45.75 27.25 45.75 \r\nQ 21.046875 45.75 18.09375 43.578125 \r\nQ 15.140625 41.40625 13.71875 35.890625 \r\nL 5.125 37.0625 \r\nQ 6.296875 42.578125 8.984375 45.96875 \r\nQ 11.671875 49.359375 16.75 51.1875 \r\nQ 21.828125 53.03125 28.515625 53.03125 \r\nQ 35.15625 53.03125 39.296875 51.46875 \r\nQ 43.453125 49.90625 45.40625 47.53125 \r\nQ 47.359375 45.171875 48.140625 41.546875 \r\nQ 48.578125 39.3125 48.578125 33.453125 \r\nL 48.578125 21.734375 \r\nQ 48.578125 9.46875 49.140625 6.21875 \r\nQ 49.703125 2.984375 51.375 0 \r\nL 42.1875 0 \r\nQ 40.828125 2.734375 40.4375 6.390625 \r\nz\r\nM 39.703125 26.03125 \r\nQ 34.90625 24.078125 25.34375 22.703125 \r\nQ 19.921875 21.921875 17.671875 20.9375 \r\nQ 15.4375 19.96875 14.203125 18.09375 \r\nQ 12.984375 16.21875 12.984375 13.921875 \r\nQ 12.984375 10.40625 15.640625 8.0625 \r\nQ 18.3125 5.71875 23.4375 5.71875 \r\nQ 28.515625 5.71875 32.46875 7.9375 \r\nQ 36.421875 10.15625 38.28125 14.015625 \r\nQ 39.703125 17 39.703125 22.796875 \r\nz\r\n\" id=\"ArialMT-97\"/>\r\n      <path d=\"M 4.984375 -4.296875 \r\nL 13.53125 -5.5625 \r\nQ 14.0625 -9.515625 16.5 -11.328125 \r\nQ 19.78125 -13.765625 25.4375 -13.765625 \r\nQ 31.546875 -13.765625 34.859375 -11.328125 \r\nQ 38.1875 -8.890625 39.359375 -4.5 \r\nQ 40.046875 -1.8125 39.984375 6.78125 \r\nQ 34.234375 0 25.640625 0 \r\nQ 14.9375 0 9.078125 7.71875 \r\nQ 3.21875 15.4375 3.21875 26.21875 \r\nQ 3.21875 33.640625 5.90625 39.90625 \r\nQ 8.59375 46.1875 13.6875 49.609375 \r\nQ 18.796875 53.03125 25.6875 53.03125 \r\nQ 34.859375 53.03125 40.828125 45.609375 \r\nL 40.828125 51.859375 \r\nL 48.921875 51.859375 \r\nL 48.921875 7.03125 \r\nQ 48.921875 -5.078125 46.453125 -10.125 \r\nQ 44 -15.1875 38.640625 -18.109375 \r\nQ 33.296875 -21.046875 25.484375 -21.046875 \r\nQ 16.21875 -21.046875 10.5 -16.875 \r\nQ 4.78125 -12.703125 4.984375 -4.296875 \r\nz\r\nM 12.25 26.859375 \r\nQ 12.25 16.65625 16.296875 11.96875 \r\nQ 20.359375 7.28125 26.46875 7.28125 \r\nQ 32.515625 7.28125 36.609375 11.9375 \r\nQ 40.71875 16.609375 40.71875 26.5625 \r\nQ 40.71875 36.078125 36.5 40.90625 \r\nQ 32.28125 45.75 26.3125 45.75 \r\nQ 20.453125 45.75 16.34375 40.984375 \r\nQ 12.25 36.234375 12.25 26.859375 \r\nz\r\n\" id=\"ArialMT-103\"/>\r\n     </defs>\r\n     <g style=\"fill:#262626;\" transform=\"translate(699.344552 724.784219)scale(0.14 -0.14)\">\r\n      <use xlink:href=\"#ArialMT-80\"/>\r\n      <use x=\"66.699219\" xlink:href=\"#ArialMT-101\"/>\r\n      <use x=\"122.314453\" xlink:href=\"#ArialMT-114\"/>\r\n      <use x=\"155.615234\" xlink:href=\"#ArialMT-99\"/>\r\n      <use x=\"205.615234\" xlink:href=\"#ArialMT-101\"/>\r\n      <use x=\"261.230469\" xlink:href=\"#ArialMT-110\"/>\r\n      <use x=\"316.845703\" xlink:href=\"#ArialMT-116\"/>\r\n      <use x=\"344.628906\" xlink:href=\"#ArialMT-97\"/>\r\n      <use x=\"400.244141\" xlink:href=\"#ArialMT-103\"/>\r\n      <use x=\"455.859375\" xlink:href=\"#ArialMT-101\"/>\r\n     </g>\r\n    </g>\r\n   </g>\r\n   <g id=\"matplotlib.axis_2\">\r\n    <g id=\"ytick_1\">\r\n     <g id=\"text_10\">\r\n      <!-- enterprises that consider the Internet of things as an important area  for their development -->\r\n      <defs>\r\n       <path d=\"M 6.59375 -19.875 \r\nL 6.59375 51.859375 \r\nL 14.59375 51.859375 \r\nL 14.59375 45.125 \r\nQ 17.4375 49.078125 21 51.046875 \r\nQ 24.5625 53.03125 29.640625 53.03125 \r\nQ 36.28125 53.03125 41.359375 49.609375 \r\nQ 46.4375 46.1875 49.015625 39.953125 \r\nQ 51.609375 33.734375 51.609375 26.3125 \r\nQ 51.609375 18.359375 48.75 11.984375 \r\nQ 45.90625 5.609375 40.453125 2.21875 \r\nQ 35.015625 -1.171875 29 -1.171875 \r\nQ 24.609375 -1.171875 21.109375 0.6875 \r\nQ 17.625 2.546875 15.375 5.375 \r\nL 15.375 -19.875 \r\nz\r\nM 14.546875 25.640625 \r\nQ 14.546875 15.625 18.59375 10.84375 \r\nQ 22.65625 6.0625 28.421875 6.0625 \r\nQ 34.28125 6.0625 38.453125 11.015625 \r\nQ 42.625 15.96875 42.625 26.375 \r\nQ 42.625 36.28125 38.546875 41.203125 \r\nQ 34.46875 46.140625 28.8125 46.140625 \r\nQ 23.1875 46.140625 18.859375 40.890625 \r\nQ 14.546875 35.640625 14.546875 25.640625 \r\nz\r\n\" id=\"ArialMT-112\"/>\r\n       <path d=\"M 6.640625 61.46875 \r\nL 6.640625 71.578125 \r\nL 15.4375 71.578125 \r\nL 15.4375 61.46875 \r\nz\r\nM 6.640625 0 \r\nL 6.640625 51.859375 \r\nL 15.4375 51.859375 \r\nL 15.4375 0 \r\nz\r\n\" id=\"ArialMT-105\"/>\r\n       <path d=\"M 3.078125 15.484375 \r\nL 11.765625 16.84375 \r\nQ 12.5 11.625 15.84375 8.84375 \r\nQ 19.1875 6.0625 25.203125 6.0625 \r\nQ 31.25 6.0625 34.171875 8.515625 \r\nQ 37.109375 10.984375 37.109375 14.3125 \r\nQ 37.109375 17.28125 34.515625 19 \r\nQ 32.71875 20.171875 25.53125 21.96875 \r\nQ 15.875 24.421875 12.140625 26.203125 \r\nQ 8.40625 27.984375 6.46875 31.125 \r\nQ 4.546875 34.28125 4.546875 38.09375 \r\nQ 4.546875 41.546875 6.125 44.5 \r\nQ 7.71875 47.46875 10.453125 49.421875 \r\nQ 12.5 50.921875 16.03125 51.96875 \r\nQ 19.578125 53.03125 23.640625 53.03125 \r\nQ 29.734375 53.03125 34.34375 51.265625 \r\nQ 38.96875 49.515625 41.15625 46.5 \r\nQ 43.359375 43.5 44.1875 38.484375 \r\nL 35.59375 37.3125 \r\nQ 35.015625 41.3125 32.203125 43.546875 \r\nQ 29.390625 45.796875 24.265625 45.796875 \r\nQ 18.21875 45.796875 15.625 43.796875 \r\nQ 13.03125 41.796875 13.03125 39.109375 \r\nQ 13.03125 37.40625 14.109375 36.03125 \r\nQ 15.1875 34.625 17.484375 33.6875 \r\nQ 18.796875 33.203125 25.25 31.453125 \r\nQ 34.578125 28.953125 38.25 27.359375 \r\nQ 41.9375 25.78125 44.03125 22.75 \r\nQ 46.140625 19.734375 46.140625 15.234375 \r\nQ 46.140625 10.84375 43.578125 6.953125 \r\nQ 41.015625 3.078125 36.171875 0.953125 \r\nQ 31.34375 -1.171875 25.25 -1.171875 \r\nQ 15.140625 -1.171875 9.84375 3.03125 \r\nQ 4.546875 7.234375 3.078125 15.484375 \r\nz\r\n\" id=\"ArialMT-115\"/>\r\n       <path id=\"ArialMT-32\"/>\r\n       <path d=\"M 6.59375 0 \r\nL 6.59375 71.578125 \r\nL 15.375 71.578125 \r\nL 15.375 45.90625 \r\nQ 21.53125 53.03125 30.90625 53.03125 \r\nQ 36.671875 53.03125 40.921875 50.75 \r\nQ 45.171875 48.484375 47 44.484375 \r\nQ 48.828125 40.484375 48.828125 32.859375 \r\nL 48.828125 0 \r\nL 40.046875 0 \r\nL 40.046875 32.859375 \r\nQ 40.046875 39.453125 37.1875 42.453125 \r\nQ 34.328125 45.453125 29.109375 45.453125 \r\nQ 25.203125 45.453125 21.75 43.421875 \r\nQ 18.3125 41.40625 16.84375 37.9375 \r\nQ 15.375 34.46875 15.375 28.375 \r\nL 15.375 0 \r\nz\r\n\" id=\"ArialMT-104\"/>\r\n       <path d=\"M 3.328125 25.921875 \r\nQ 3.328125 40.328125 11.328125 47.265625 \r\nQ 18.015625 53.03125 27.640625 53.03125 \r\nQ 38.328125 53.03125 45.109375 46.015625 \r\nQ 51.90625 39.015625 51.90625 26.65625 \r\nQ 51.90625 16.65625 48.90625 10.90625 \r\nQ 45.90625 5.171875 40.15625 2 \r\nQ 34.421875 -1.171875 27.640625 -1.171875 \r\nQ 16.75 -1.171875 10.03125 5.8125 \r\nQ 3.328125 12.796875 3.328125 25.921875 \r\nz\r\nM 12.359375 25.921875 \r\nQ 12.359375 15.96875 16.703125 11.015625 \r\nQ 21.046875 6.0625 27.640625 6.0625 \r\nQ 34.1875 6.0625 38.53125 11.03125 \r\nQ 42.875 16.015625 42.875 26.21875 \r\nQ 42.875 35.84375 38.5 40.796875 \r\nQ 34.125 45.75 27.640625 45.75 \r\nQ 21.046875 45.75 16.703125 40.8125 \r\nQ 12.359375 35.890625 12.359375 25.921875 \r\nz\r\n\" id=\"ArialMT-111\"/>\r\n       <path d=\"M 40.234375 0 \r\nL 40.234375 6.546875 \r\nQ 35.296875 -1.171875 25.734375 -1.171875 \r\nQ 19.53125 -1.171875 14.328125 2.25 \r\nQ 9.125 5.671875 6.265625 11.796875 \r\nQ 3.421875 17.921875 3.421875 25.875 \r\nQ 3.421875 33.640625 6 39.96875 \r\nQ 8.59375 46.296875 13.765625 49.65625 \r\nQ 18.953125 53.03125 25.34375 53.03125 \r\nQ 30.03125 53.03125 33.6875 51.046875 \r\nQ 37.359375 49.078125 39.65625 45.90625 \r\nL 39.65625 71.578125 \r\nL 48.390625 71.578125 \r\nL 48.390625 0 \r\nz\r\nM 12.453125 25.875 \r\nQ 12.453125 15.921875 16.640625 10.984375 \r\nQ 20.84375 6.0625 26.5625 6.0625 \r\nQ 32.328125 6.0625 36.34375 10.765625 \r\nQ 40.375 15.484375 40.375 25.140625 \r\nQ 40.375 35.796875 36.265625 40.765625 \r\nQ 32.171875 45.75 26.171875 45.75 \r\nQ 20.3125 45.75 16.375 40.96875 \r\nQ 12.453125 36.1875 12.453125 25.875 \r\nz\r\n\" id=\"ArialMT-100\"/>\r\n       <path d=\"M 9.328125 0 \r\nL 9.328125 71.578125 \r\nL 18.796875 71.578125 \r\nL 18.796875 0 \r\nz\r\n\" id=\"ArialMT-73\"/>\r\n       <path d=\"M 8.6875 0 \r\nL 8.6875 45.015625 \r\nL 0.921875 45.015625 \r\nL 0.921875 51.859375 \r\nL 8.6875 51.859375 \r\nL 8.6875 57.375 \r\nQ 8.6875 62.59375 9.625 65.140625 \r\nQ 10.890625 68.5625 14.078125 70.671875 \r\nQ 17.28125 72.796875 23.046875 72.796875 \r\nQ 26.765625 72.796875 31.25 71.921875 \r\nL 29.9375 64.265625 \r\nQ 27.203125 64.75 24.75 64.75 \r\nQ 20.75 64.75 19.09375 63.03125 \r\nQ 17.4375 61.328125 17.4375 56.640625 \r\nL 17.4375 51.859375 \r\nL 27.546875 51.859375 \r\nL 27.546875 45.015625 \r\nL 17.4375 45.015625 \r\nL 17.4375 0 \r\nz\r\n\" id=\"ArialMT-102\"/>\r\n       <path d=\"M 6.59375 0 \r\nL 6.59375 51.859375 \r\nL 14.453125 51.859375 \r\nL 14.453125 44.578125 \r\nQ 16.890625 48.390625 20.9375 50.703125 \r\nQ 25 53.03125 30.171875 53.03125 \r\nQ 35.9375 53.03125 39.625 50.640625 \r\nQ 43.3125 48.25 44.828125 43.953125 \r\nQ 50.984375 53.03125 60.84375 53.03125 \r\nQ 68.5625 53.03125 72.703125 48.75 \r\nQ 76.859375 44.484375 76.859375 35.59375 \r\nL 76.859375 0 \r\nL 68.109375 0 \r\nL 68.109375 32.671875 \r\nQ 68.109375 37.9375 67.25 40.25 \r\nQ 66.40625 42.578125 64.15625 43.984375 \r\nQ 61.921875 45.40625 58.890625 45.40625 \r\nQ 53.421875 45.40625 49.796875 41.765625 \r\nQ 46.1875 38.140625 46.1875 30.125 \r\nL 46.1875 0 \r\nL 37.40625 0 \r\nL 37.40625 33.6875 \r\nQ 37.40625 39.546875 35.25 42.46875 \r\nQ 33.109375 45.40625 28.21875 45.40625 \r\nQ 24.515625 45.40625 21.359375 43.453125 \r\nQ 18.21875 41.5 16.796875 37.734375 \r\nQ 15.375 33.984375 15.375 26.90625 \r\nL 15.375 0 \r\nz\r\n\" id=\"ArialMT-109\"/>\r\n       <path d=\"M 21 0 \r\nL 1.265625 51.859375 \r\nL 10.546875 51.859375 \r\nL 21.6875 20.796875 \r\nQ 23.484375 15.765625 25 10.359375 \r\nQ 26.171875 14.453125 28.265625 20.21875 \r\nL 39.796875 51.859375 \r\nL 48.828125 51.859375 \r\nL 29.203125 0 \r\nz\r\n\" id=\"ArialMT-118\"/>\r\n       <path d=\"M 6.390625 0 \r\nL 6.390625 71.578125 \r\nL 15.1875 71.578125 \r\nL 15.1875 0 \r\nz\r\n\" id=\"ArialMT-108\"/>\r\n      </defs>\r\n      <g style=\"fill:#262626;\" transform=\"translate(83.307187 55.880343)scale(0.11 -0.11)\">\r\n       <use xlink:href=\"#ArialMT-101\"/>\r\n       <use x=\"55.615234\" xlink:href=\"#ArialMT-110\"/>\r\n       <use x=\"111.230469\" xlink:href=\"#ArialMT-116\"/>\r\n       <use x=\"139.013672\" xlink:href=\"#ArialMT-101\"/>\r\n       <use x=\"194.628906\" xlink:href=\"#ArialMT-114\"/>\r\n       <use x=\"227.929688\" xlink:href=\"#ArialMT-112\"/>\r\n       <use x=\"283.544922\" xlink:href=\"#ArialMT-114\"/>\r\n       <use x=\"316.845703\" xlink:href=\"#ArialMT-105\"/>\r\n       <use x=\"339.0625\" xlink:href=\"#ArialMT-115\"/>\r\n       <use x=\"389.0625\" xlink:href=\"#ArialMT-101\"/>\r\n       <use x=\"444.677734\" xlink:href=\"#ArialMT-115\"/>\r\n       <use x=\"494.677734\" xlink:href=\"#ArialMT-32\"/>\r\n       <use x=\"522.460938\" xlink:href=\"#ArialMT-116\"/>\r\n       <use x=\"550.244141\" xlink:href=\"#ArialMT-104\"/>\r\n       <use x=\"605.859375\" xlink:href=\"#ArialMT-97\"/>\r\n       <use x=\"661.474609\" xlink:href=\"#ArialMT-116\"/>\r\n       <use x=\"689.257812\" xlink:href=\"#ArialMT-32\"/>\r\n       <use x=\"717.041016\" xlink:href=\"#ArialMT-99\"/>\r\n       <use x=\"767.041016\" xlink:href=\"#ArialMT-111\"/>\r\n       <use x=\"822.65625\" xlink:href=\"#ArialMT-110\"/>\r\n       <use x=\"878.271484\" xlink:href=\"#ArialMT-115\"/>\r\n       <use x=\"928.271484\" xlink:href=\"#ArialMT-105\"/>\r\n       <use x=\"950.488281\" xlink:href=\"#ArialMT-100\"/>\r\n       <use x=\"1006.103516\" xlink:href=\"#ArialMT-101\"/>\r\n       <use x=\"1061.71875\" xlink:href=\"#ArialMT-114\"/>\r\n       <use x=\"1095.019531\" xlink:href=\"#ArialMT-32\"/>\r\n       <use x=\"1122.802734\" xlink:href=\"#ArialMT-116\"/>\r\n       <use x=\"1150.585938\" xlink:href=\"#ArialMT-104\"/>\r\n       <use x=\"1206.201172\" xlink:href=\"#ArialMT-101\"/>\r\n       <use x=\"1261.816406\" xlink:href=\"#ArialMT-32\"/>\r\n       <use x=\"1289.599609\" xlink:href=\"#ArialMT-73\"/>\r\n       <use x=\"1317.382812\" xlink:href=\"#ArialMT-110\"/>\r\n       <use x=\"1372.998047\" xlink:href=\"#ArialMT-116\"/>\r\n       <use x=\"1400.78125\" xlink:href=\"#ArialMT-101\"/>\r\n       <use x=\"1456.396484\" xlink:href=\"#ArialMT-114\"/>\r\n       <use x=\"1489.697266\" xlink:href=\"#ArialMT-110\"/>\r\n       <use x=\"1545.3125\" xlink:href=\"#ArialMT-101\"/>\r\n       <use x=\"1600.927734\" xlink:href=\"#ArialMT-116\"/>\r\n       <use x=\"1628.710938\" xlink:href=\"#ArialMT-32\"/>\r\n       <use x=\"1656.494141\" xlink:href=\"#ArialMT-111\"/>\r\n       <use x=\"1712.109375\" xlink:href=\"#ArialMT-102\"/>\r\n       <use x=\"1739.892578\" xlink:href=\"#ArialMT-32\"/>\r\n       <use x=\"1767.675781\" xlink:href=\"#ArialMT-116\"/>\r\n       <use x=\"1795.458984\" xlink:href=\"#ArialMT-104\"/>\r\n       <use x=\"1851.074219\" xlink:href=\"#ArialMT-105\"/>\r\n       <use x=\"1873.291016\" xlink:href=\"#ArialMT-110\"/>\r\n       <use x=\"1928.90625\" xlink:href=\"#ArialMT-103\"/>\r\n       <use x=\"1984.521484\" xlink:href=\"#ArialMT-115\"/>\r\n       <use x=\"2034.521484\" xlink:href=\"#ArialMT-32\"/>\r\n       <use x=\"2062.304688\" xlink:href=\"#ArialMT-97\"/>\r\n       <use x=\"2117.919922\" xlink:href=\"#ArialMT-115\"/>\r\n       <use x=\"2167.919922\" xlink:href=\"#ArialMT-32\"/>\r\n       <use x=\"2195.703125\" xlink:href=\"#ArialMT-97\"/>\r\n       <use x=\"2251.318359\" xlink:href=\"#ArialMT-110\"/>\r\n       <use x=\"2306.933594\" xlink:href=\"#ArialMT-32\"/>\r\n       <use x=\"2334.716797\" xlink:href=\"#ArialMT-105\"/>\r\n       <use x=\"2356.933594\" xlink:href=\"#ArialMT-109\"/>\r\n       <use x=\"2440.234375\" xlink:href=\"#ArialMT-112\"/>\r\n       <use x=\"2495.849609\" xlink:href=\"#ArialMT-111\"/>\r\n       <use x=\"2551.464844\" xlink:href=\"#ArialMT-114\"/>\r\n       <use x=\"2584.765625\" xlink:href=\"#ArialMT-116\"/>\r\n       <use x=\"2612.548828\" xlink:href=\"#ArialMT-97\"/>\r\n       <use x=\"2668.164062\" xlink:href=\"#ArialMT-110\"/>\r\n       <use x=\"2723.779297\" xlink:href=\"#ArialMT-116\"/>\r\n       <use x=\"2751.5625\" xlink:href=\"#ArialMT-32\"/>\r\n       <use x=\"2779.345703\" xlink:href=\"#ArialMT-97\"/>\r\n       <use x=\"2834.960938\" xlink:href=\"#ArialMT-114\"/>\r\n       <use x=\"2868.261719\" xlink:href=\"#ArialMT-101\"/>\r\n       <use x=\"2923.876953\" xlink:href=\"#ArialMT-97\"/>\r\n       <use x=\"2979.492188\" xlink:href=\"#ArialMT-32\"/>\r\n       <use x=\"3007.275391\" xlink:href=\"#ArialMT-32\"/>\r\n       <use x=\"3035.058594\" xlink:href=\"#ArialMT-102\"/>\r\n       <use x=\"3062.841797\" xlink:href=\"#ArialMT-111\"/>\r\n       <use x=\"3118.457031\" xlink:href=\"#ArialMT-114\"/>\r\n       <use x=\"3151.757812\" xlink:href=\"#ArialMT-32\"/>\r\n       <use x=\"3179.541016\" xlink:href=\"#ArialMT-116\"/>\r\n       <use x=\"3207.324219\" xlink:href=\"#ArialMT-104\"/>\r\n       <use x=\"3262.939453\" xlink:href=\"#ArialMT-101\"/>\r\n       <use x=\"3318.554688\" xlink:href=\"#ArialMT-105\"/>\r\n       <use x=\"3340.771484\" xlink:href=\"#ArialMT-114\"/>\r\n       <use x=\"3374.072266\" xlink:href=\"#ArialMT-32\"/>\r\n       <use x=\"3401.855469\" xlink:href=\"#ArialMT-100\"/>\r\n       <use x=\"3457.470703\" xlink:href=\"#ArialMT-101\"/>\r\n       <use x=\"3513.085938\" xlink:href=\"#ArialMT-118\"/>\r\n       <use x=\"3563.085938\" xlink:href=\"#ArialMT-101\"/>\r\n       <use x=\"3618.701172\" xlink:href=\"#ArialMT-108\"/>\r\n       <use x=\"3640.917969\" xlink:href=\"#ArialMT-111\"/>\r\n       <use x=\"3696.533203\" xlink:href=\"#ArialMT-112\"/>\r\n       <use x=\"3752.148438\" xlink:href=\"#ArialMT-109\"/>\r\n       <use x=\"3835.449219\" xlink:href=\"#ArialMT-101\"/>\r\n       <use x=\"3891.064453\" xlink:href=\"#ArialMT-110\"/>\r\n       <use x=\"3946.679688\" xlink:href=\"#ArialMT-116\"/>\r\n      </g>\r\n     </g>\r\n    </g>\r\n    <g id=\"ytick_2\">\r\n     <g id=\"text_11\">\r\n      <!-- enterprises that consider the 3D printing as an important area  for their development -->\r\n      <defs>\r\n       <path d=\"M 7.71875 0 \r\nL 7.71875 71.578125 \r\nL 32.375 71.578125 \r\nQ 40.71875 71.578125 45.125 70.5625 \r\nQ 51.265625 69.140625 55.609375 65.4375 \r\nQ 61.28125 60.640625 64.078125 53.1875 \r\nQ 66.890625 45.75 66.890625 36.1875 \r\nQ 66.890625 28.03125 64.984375 21.734375 \r\nQ 63.09375 15.4375 60.109375 11.296875 \r\nQ 57.125 7.171875 53.578125 4.796875 \r\nQ 50.046875 2.4375 45.046875 1.21875 \r\nQ 40.046875 0 33.546875 0 \r\nz\r\nM 17.1875 8.453125 \r\nL 32.46875 8.453125 \r\nQ 39.546875 8.453125 43.578125 9.765625 \r\nQ 47.609375 11.078125 50 13.484375 \r\nQ 53.375 16.84375 55.25 22.53125 \r\nQ 57.125 28.21875 57.125 36.328125 \r\nQ 57.125 47.5625 53.4375 53.59375 \r\nQ 49.75 59.625 44.484375 61.671875 \r\nQ 40.671875 63.140625 32.234375 63.140625 \r\nL 17.1875 63.140625 \r\nz\r\n\" id=\"ArialMT-68\"/>\r\n      </defs>\r\n      <g style=\"fill:#262626;\" transform=\"translate(112.049844 107.026496)scale(0.11 -0.11)\">\r\n       <use xlink:href=\"#ArialMT-101\"/>\r\n       <use x=\"55.615234\" xlink:href=\"#ArialMT-110\"/>\r\n       <use x=\"111.230469\" xlink:href=\"#ArialMT-116\"/>\r\n       <use x=\"139.013672\" xlink:href=\"#ArialMT-101\"/>\r\n       <use x=\"194.628906\" xlink:href=\"#ArialMT-114\"/>\r\n       <use x=\"227.929688\" xlink:href=\"#ArialMT-112\"/>\r\n       <use x=\"283.544922\" xlink:href=\"#ArialMT-114\"/>\r\n       <use x=\"316.845703\" xlink:href=\"#ArialMT-105\"/>\r\n       <use x=\"339.0625\" xlink:href=\"#ArialMT-115\"/>\r\n       <use x=\"389.0625\" xlink:href=\"#ArialMT-101\"/>\r\n       <use x=\"444.677734\" xlink:href=\"#ArialMT-115\"/>\r\n       <use x=\"494.677734\" xlink:href=\"#ArialMT-32\"/>\r\n       <use x=\"522.460938\" xlink:href=\"#ArialMT-116\"/>\r\n       <use x=\"550.244141\" xlink:href=\"#ArialMT-104\"/>\r\n       <use x=\"605.859375\" xlink:href=\"#ArialMT-97\"/>\r\n       <use x=\"661.474609\" xlink:href=\"#ArialMT-116\"/>\r\n       <use x=\"689.257812\" xlink:href=\"#ArialMT-32\"/>\r\n       <use x=\"717.041016\" xlink:href=\"#ArialMT-99\"/>\r\n       <use x=\"767.041016\" xlink:href=\"#ArialMT-111\"/>\r\n       <use x=\"822.65625\" xlink:href=\"#ArialMT-110\"/>\r\n       <use x=\"878.271484\" xlink:href=\"#ArialMT-115\"/>\r\n       <use x=\"928.271484\" xlink:href=\"#ArialMT-105\"/>\r\n       <use x=\"950.488281\" xlink:href=\"#ArialMT-100\"/>\r\n       <use x=\"1006.103516\" xlink:href=\"#ArialMT-101\"/>\r\n       <use x=\"1061.71875\" xlink:href=\"#ArialMT-114\"/>\r\n       <use x=\"1095.019531\" xlink:href=\"#ArialMT-32\"/>\r\n       <use x=\"1122.802734\" xlink:href=\"#ArialMT-116\"/>\r\n       <use x=\"1150.585938\" xlink:href=\"#ArialMT-104\"/>\r\n       <use x=\"1206.201172\" xlink:href=\"#ArialMT-101\"/>\r\n       <use x=\"1261.816406\" xlink:href=\"#ArialMT-32\"/>\r\n       <use x=\"1289.599609\" xlink:href=\"#ArialMT-51\"/>\r\n       <use x=\"1345.214844\" xlink:href=\"#ArialMT-68\"/>\r\n       <use x=\"1417.431641\" xlink:href=\"#ArialMT-32\"/>\r\n       <use x=\"1445.214844\" xlink:href=\"#ArialMT-112\"/>\r\n       <use x=\"1500.830078\" xlink:href=\"#ArialMT-114\"/>\r\n       <use x=\"1534.130859\" xlink:href=\"#ArialMT-105\"/>\r\n       <use x=\"1556.347656\" xlink:href=\"#ArialMT-110\"/>\r\n       <use x=\"1611.962891\" xlink:href=\"#ArialMT-116\"/>\r\n       <use x=\"1639.746094\" xlink:href=\"#ArialMT-105\"/>\r\n       <use x=\"1661.962891\" xlink:href=\"#ArialMT-110\"/>\r\n       <use x=\"1717.578125\" xlink:href=\"#ArialMT-103\"/>\r\n       <use x=\"1773.193359\" xlink:href=\"#ArialMT-32\"/>\r\n       <use x=\"1800.976562\" xlink:href=\"#ArialMT-97\"/>\r\n       <use x=\"1856.591797\" xlink:href=\"#ArialMT-115\"/>\r\n       <use x=\"1906.591797\" xlink:href=\"#ArialMT-32\"/>\r\n       <use x=\"1934.375\" xlink:href=\"#ArialMT-97\"/>\r\n       <use x=\"1989.990234\" xlink:href=\"#ArialMT-110\"/>\r\n       <use x=\"2045.605469\" xlink:href=\"#ArialMT-32\"/>\r\n       <use x=\"2073.388672\" xlink:href=\"#ArialMT-105\"/>\r\n       <use x=\"2095.605469\" xlink:href=\"#ArialMT-109\"/>\r\n       <use x=\"2178.90625\" xlink:href=\"#ArialMT-112\"/>\r\n       <use x=\"2234.521484\" xlink:href=\"#ArialMT-111\"/>\r\n       <use x=\"2290.136719\" xlink:href=\"#ArialMT-114\"/>\r\n       <use x=\"2323.4375\" xlink:href=\"#ArialMT-116\"/>\r\n       <use x=\"2351.220703\" xlink:href=\"#ArialMT-97\"/>\r\n       <use x=\"2406.835938\" xlink:href=\"#ArialMT-110\"/>\r\n       <use x=\"2462.451172\" xlink:href=\"#ArialMT-116\"/>\r\n       <use x=\"2490.234375\" xlink:href=\"#ArialMT-32\"/>\r\n       <use x=\"2518.017578\" xlink:href=\"#ArialMT-97\"/>\r\n       <use x=\"2573.632812\" xlink:href=\"#ArialMT-114\"/>\r\n       <use x=\"2606.933594\" xlink:href=\"#ArialMT-101\"/>\r\n       <use x=\"2662.548828\" xlink:href=\"#ArialMT-97\"/>\r\n       <use x=\"2718.164062\" xlink:href=\"#ArialMT-32\"/>\r\n       <use x=\"2745.947266\" xlink:href=\"#ArialMT-32\"/>\r\n       <use x=\"2773.730469\" xlink:href=\"#ArialMT-102\"/>\r\n       <use x=\"2801.513672\" xlink:href=\"#ArialMT-111\"/>\r\n       <use x=\"2857.128906\" xlink:href=\"#ArialMT-114\"/>\r\n       <use x=\"2890.429688\" xlink:href=\"#ArialMT-32\"/>\r\n       <use x=\"2918.212891\" xlink:href=\"#ArialMT-116\"/>\r\n       <use x=\"2945.996094\" xlink:href=\"#ArialMT-104\"/>\r\n       <use x=\"3001.611328\" xlink:href=\"#ArialMT-101\"/>\r\n       <use x=\"3057.226562\" xlink:href=\"#ArialMT-105\"/>\r\n       <use x=\"3079.443359\" xlink:href=\"#ArialMT-114\"/>\r\n       <use x=\"3112.744141\" xlink:href=\"#ArialMT-32\"/>\r\n       <use x=\"3140.527344\" xlink:href=\"#ArialMT-100\"/>\r\n       <use x=\"3196.142578\" xlink:href=\"#ArialMT-101\"/>\r\n       <use x=\"3251.757812\" xlink:href=\"#ArialMT-118\"/>\r\n       <use x=\"3301.757812\" xlink:href=\"#ArialMT-101\"/>\r\n       <use x=\"3357.373047\" xlink:href=\"#ArialMT-108\"/>\r\n       <use x=\"3379.589844\" xlink:href=\"#ArialMT-111\"/>\r\n       <use x=\"3435.205078\" xlink:href=\"#ArialMT-112\"/>\r\n       <use x=\"3490.820312\" xlink:href=\"#ArialMT-109\"/>\r\n       <use x=\"3574.121094\" xlink:href=\"#ArialMT-101\"/>\r\n       <use x=\"3629.736328\" xlink:href=\"#ArialMT-110\"/>\r\n       <use x=\"3685.351562\" xlink:href=\"#ArialMT-116\"/>\r\n      </g>\r\n     </g>\r\n    </g>\r\n    <g id=\"ytick_3\">\r\n     <g id=\"text_12\">\r\n      <!-- enterprises that consider the robotic as an important area  for their development -->\r\n      <defs>\r\n       <path d=\"M 14.703125 0 \r\nL 6.546875 0 \r\nL 6.546875 71.578125 \r\nL 15.328125 71.578125 \r\nL 15.328125 46.046875 \r\nQ 20.90625 53.03125 29.546875 53.03125 \r\nQ 34.328125 53.03125 38.59375 51.09375 \r\nQ 42.875 49.171875 45.625 45.671875 \r\nQ 48.390625 42.1875 49.953125 37.25 \r\nQ 51.515625 32.328125 51.515625 26.703125 \r\nQ 51.515625 13.375 44.921875 6.09375 \r\nQ 38.328125 -1.171875 29.109375 -1.171875 \r\nQ 19.921875 -1.171875 14.703125 6.5 \r\nz\r\nM 14.59375 26.3125 \r\nQ 14.59375 17 17.140625 12.84375 \r\nQ 21.296875 6.0625 28.375 6.0625 \r\nQ 34.125 6.0625 38.328125 11.0625 \r\nQ 42.53125 16.0625 42.53125 25.984375 \r\nQ 42.53125 36.140625 38.5 40.96875 \r\nQ 34.46875 45.796875 28.765625 45.796875 \r\nQ 23 45.796875 18.796875 40.796875 \r\nQ 14.59375 35.796875 14.59375 26.3125 \r\nz\r\n\" id=\"ArialMT-98\"/>\r\n      </defs>\r\n      <g style=\"fill:#262626;\" transform=\"translate(132.227969 158.17265)scale(0.11 -0.11)\">\r\n       <use xlink:href=\"#ArialMT-101\"/>\r\n       <use x=\"55.615234\" xlink:href=\"#ArialMT-110\"/>\r\n       <use x=\"111.230469\" xlink:href=\"#ArialMT-116\"/>\r\n       <use x=\"139.013672\" xlink:href=\"#ArialMT-101\"/>\r\n       <use x=\"194.628906\" xlink:href=\"#ArialMT-114\"/>\r\n       <use x=\"227.929688\" xlink:href=\"#ArialMT-112\"/>\r\n       <use x=\"283.544922\" xlink:href=\"#ArialMT-114\"/>\r\n       <use x=\"316.845703\" xlink:href=\"#ArialMT-105\"/>\r\n       <use x=\"339.0625\" xlink:href=\"#ArialMT-115\"/>\r\n       <use x=\"389.0625\" xlink:href=\"#ArialMT-101\"/>\r\n       <use x=\"444.677734\" xlink:href=\"#ArialMT-115\"/>\r\n       <use x=\"494.677734\" xlink:href=\"#ArialMT-32\"/>\r\n       <use x=\"522.460938\" xlink:href=\"#ArialMT-116\"/>\r\n       <use x=\"550.244141\" xlink:href=\"#ArialMT-104\"/>\r\n       <use x=\"605.859375\" xlink:href=\"#ArialMT-97\"/>\r\n       <use x=\"661.474609\" xlink:href=\"#ArialMT-116\"/>\r\n       <use x=\"689.257812\" xlink:href=\"#ArialMT-32\"/>\r\n       <use x=\"717.041016\" xlink:href=\"#ArialMT-99\"/>\r\n       <use x=\"767.041016\" xlink:href=\"#ArialMT-111\"/>\r\n       <use x=\"822.65625\" xlink:href=\"#ArialMT-110\"/>\r\n       <use x=\"878.271484\" xlink:href=\"#ArialMT-115\"/>\r\n       <use x=\"928.271484\" xlink:href=\"#ArialMT-105\"/>\r\n       <use x=\"950.488281\" xlink:href=\"#ArialMT-100\"/>\r\n       <use x=\"1006.103516\" xlink:href=\"#ArialMT-101\"/>\r\n       <use x=\"1061.71875\" xlink:href=\"#ArialMT-114\"/>\r\n       <use x=\"1095.019531\" xlink:href=\"#ArialMT-32\"/>\r\n       <use x=\"1122.802734\" xlink:href=\"#ArialMT-116\"/>\r\n       <use x=\"1150.585938\" xlink:href=\"#ArialMT-104\"/>\r\n       <use x=\"1206.201172\" xlink:href=\"#ArialMT-101\"/>\r\n       <use x=\"1261.816406\" xlink:href=\"#ArialMT-32\"/>\r\n       <use x=\"1289.599609\" xlink:href=\"#ArialMT-114\"/>\r\n       <use x=\"1322.900391\" xlink:href=\"#ArialMT-111\"/>\r\n       <use x=\"1378.515625\" xlink:href=\"#ArialMT-98\"/>\r\n       <use x=\"1434.130859\" xlink:href=\"#ArialMT-111\"/>\r\n       <use x=\"1489.746094\" xlink:href=\"#ArialMT-116\"/>\r\n       <use x=\"1517.529297\" xlink:href=\"#ArialMT-105\"/>\r\n       <use x=\"1539.746094\" xlink:href=\"#ArialMT-99\"/>\r\n       <use x=\"1589.746094\" xlink:href=\"#ArialMT-32\"/>\r\n       <use x=\"1617.529297\" xlink:href=\"#ArialMT-97\"/>\r\n       <use x=\"1673.144531\" xlink:href=\"#ArialMT-115\"/>\r\n       <use x=\"1723.144531\" xlink:href=\"#ArialMT-32\"/>\r\n       <use x=\"1750.927734\" xlink:href=\"#ArialMT-97\"/>\r\n       <use x=\"1806.542969\" xlink:href=\"#ArialMT-110\"/>\r\n       <use x=\"1862.158203\" xlink:href=\"#ArialMT-32\"/>\r\n       <use x=\"1889.941406\" xlink:href=\"#ArialMT-105\"/>\r\n       <use x=\"1912.158203\" xlink:href=\"#ArialMT-109\"/>\r\n       <use x=\"1995.458984\" xlink:href=\"#ArialMT-112\"/>\r\n       <use x=\"2051.074219\" xlink:href=\"#ArialMT-111\"/>\r\n       <use x=\"2106.689453\" xlink:href=\"#ArialMT-114\"/>\r\n       <use x=\"2139.990234\" xlink:href=\"#ArialMT-116\"/>\r\n       <use x=\"2167.773438\" xlink:href=\"#ArialMT-97\"/>\r\n       <use x=\"2223.388672\" xlink:href=\"#ArialMT-110\"/>\r\n       <use x=\"2279.003906\" xlink:href=\"#ArialMT-116\"/>\r\n       <use x=\"2306.787109\" xlink:href=\"#ArialMT-32\"/>\r\n       <use x=\"2334.570312\" xlink:href=\"#ArialMT-97\"/>\r\n       <use x=\"2390.185547\" xlink:href=\"#ArialMT-114\"/>\r\n       <use x=\"2423.486328\" xlink:href=\"#ArialMT-101\"/>\r\n       <use x=\"2479.101562\" xlink:href=\"#ArialMT-97\"/>\r\n       <use x=\"2534.716797\" xlink:href=\"#ArialMT-32\"/>\r\n       <use x=\"2562.5\" xlink:href=\"#ArialMT-32\"/>\r\n       <use x=\"2590.283203\" xlink:href=\"#ArialMT-102\"/>\r\n       <use x=\"2618.066406\" xlink:href=\"#ArialMT-111\"/>\r\n       <use x=\"2673.681641\" xlink:href=\"#ArialMT-114\"/>\r\n       <use x=\"2706.982422\" xlink:href=\"#ArialMT-32\"/>\r\n       <use x=\"2734.765625\" xlink:href=\"#ArialMT-116\"/>\r\n       <use x=\"2762.548828\" xlink:href=\"#ArialMT-104\"/>\r\n       <use x=\"2818.164062\" xlink:href=\"#ArialMT-101\"/>\r\n       <use x=\"2873.779297\" xlink:href=\"#ArialMT-105\"/>\r\n       <use x=\"2895.996094\" xlink:href=\"#ArialMT-114\"/>\r\n       <use x=\"2929.296875\" xlink:href=\"#ArialMT-32\"/>\r\n       <use x=\"2957.080078\" xlink:href=\"#ArialMT-100\"/>\r\n       <use x=\"3012.695312\" xlink:href=\"#ArialMT-101\"/>\r\n       <use x=\"3068.310547\" xlink:href=\"#ArialMT-118\"/>\r\n       <use x=\"3118.310547\" xlink:href=\"#ArialMT-101\"/>\r\n       <use x=\"3173.925781\" xlink:href=\"#ArialMT-108\"/>\r\n       <use x=\"3196.142578\" xlink:href=\"#ArialMT-111\"/>\r\n       <use x=\"3251.757812\" xlink:href=\"#ArialMT-112\"/>\r\n       <use x=\"3307.373047\" xlink:href=\"#ArialMT-109\"/>\r\n       <use x=\"3390.673828\" xlink:href=\"#ArialMT-101\"/>\r\n       <use x=\"3446.289062\" xlink:href=\"#ArialMT-110\"/>\r\n       <use x=\"3501.904297\" xlink:href=\"#ArialMT-116\"/>\r\n      </g>\r\n     </g>\r\n    </g>\r\n    <g id=\"ytick_4\">\r\n     <g id=\"text_13\">\r\n      <!-- enterprises that consider the cloud computing as an important area  for their development -->\r\n      <defs>\r\n       <path d=\"M 40.578125 0 \r\nL 40.578125 7.625 \r\nQ 34.515625 -1.171875 24.125 -1.171875 \r\nQ 19.53125 -1.171875 15.546875 0.578125 \r\nQ 11.578125 2.34375 9.640625 5 \r\nQ 7.71875 7.671875 6.9375 11.53125 \r\nQ 6.390625 14.109375 6.390625 19.734375 \r\nL 6.390625 51.859375 \r\nL 15.1875 51.859375 \r\nL 15.1875 23.09375 \r\nQ 15.1875 16.21875 15.71875 13.8125 \r\nQ 16.546875 10.359375 19.234375 8.375 \r\nQ 21.921875 6.390625 25.875 6.390625 \r\nQ 29.828125 6.390625 33.296875 8.421875 \r\nQ 36.765625 10.453125 38.203125 13.9375 \r\nQ 39.65625 17.4375 39.65625 24.078125 \r\nL 39.65625 51.859375 \r\nL 48.4375 51.859375 \r\nL 48.4375 0 \r\nz\r\n\" id=\"ArialMT-117\"/>\r\n      </defs>\r\n      <g style=\"fill:#262626;\" transform=\"translate(85.142812 209.318804)scale(0.11 -0.11)\">\r\n       <use xlink:href=\"#ArialMT-101\"/>\r\n       <use x=\"55.615234\" xlink:href=\"#ArialMT-110\"/>\r\n       <use x=\"111.230469\" xlink:href=\"#ArialMT-116\"/>\r\n       <use x=\"139.013672\" xlink:href=\"#ArialMT-101\"/>\r\n       <use x=\"194.628906\" xlink:href=\"#ArialMT-114\"/>\r\n       <use x=\"227.929688\" xlink:href=\"#ArialMT-112\"/>\r\n       <use x=\"283.544922\" xlink:href=\"#ArialMT-114\"/>\r\n       <use x=\"316.845703\" xlink:href=\"#ArialMT-105\"/>\r\n       <use x=\"339.0625\" xlink:href=\"#ArialMT-115\"/>\r\n       <use x=\"389.0625\" xlink:href=\"#ArialMT-101\"/>\r\n       <use x=\"444.677734\" xlink:href=\"#ArialMT-115\"/>\r\n       <use x=\"494.677734\" xlink:href=\"#ArialMT-32\"/>\r\n       <use x=\"522.460938\" xlink:href=\"#ArialMT-116\"/>\r\n       <use x=\"550.244141\" xlink:href=\"#ArialMT-104\"/>\r\n       <use x=\"605.859375\" xlink:href=\"#ArialMT-97\"/>\r\n       <use x=\"661.474609\" xlink:href=\"#ArialMT-116\"/>\r\n       <use x=\"689.257812\" xlink:href=\"#ArialMT-32\"/>\r\n       <use x=\"717.041016\" xlink:href=\"#ArialMT-99\"/>\r\n       <use x=\"767.041016\" xlink:href=\"#ArialMT-111\"/>\r\n       <use x=\"822.65625\" xlink:href=\"#ArialMT-110\"/>\r\n       <use x=\"878.271484\" xlink:href=\"#ArialMT-115\"/>\r\n       <use x=\"928.271484\" xlink:href=\"#ArialMT-105\"/>\r\n       <use x=\"950.488281\" xlink:href=\"#ArialMT-100\"/>\r\n       <use x=\"1006.103516\" xlink:href=\"#ArialMT-101\"/>\r\n       <use x=\"1061.71875\" xlink:href=\"#ArialMT-114\"/>\r\n       <use x=\"1095.019531\" xlink:href=\"#ArialMT-32\"/>\r\n       <use x=\"1122.802734\" xlink:href=\"#ArialMT-116\"/>\r\n       <use x=\"1150.585938\" xlink:href=\"#ArialMT-104\"/>\r\n       <use x=\"1206.201172\" xlink:href=\"#ArialMT-101\"/>\r\n       <use x=\"1261.816406\" xlink:href=\"#ArialMT-32\"/>\r\n       <use x=\"1289.599609\" xlink:href=\"#ArialMT-99\"/>\r\n       <use x=\"1339.599609\" xlink:href=\"#ArialMT-108\"/>\r\n       <use x=\"1361.816406\" xlink:href=\"#ArialMT-111\"/>\r\n       <use x=\"1417.431641\" xlink:href=\"#ArialMT-117\"/>\r\n       <use x=\"1473.046875\" xlink:href=\"#ArialMT-100\"/>\r\n       <use x=\"1528.662109\" xlink:href=\"#ArialMT-32\"/>\r\n       <use x=\"1556.445312\" xlink:href=\"#ArialMT-99\"/>\r\n       <use x=\"1606.445312\" xlink:href=\"#ArialMT-111\"/>\r\n       <use x=\"1662.060547\" xlink:href=\"#ArialMT-109\"/>\r\n       <use x=\"1745.361328\" xlink:href=\"#ArialMT-112\"/>\r\n       <use x=\"1800.976562\" xlink:href=\"#ArialMT-117\"/>\r\n       <use x=\"1856.591797\" xlink:href=\"#ArialMT-116\"/>\r\n       <use x=\"1884.375\" xlink:href=\"#ArialMT-105\"/>\r\n       <use x=\"1906.591797\" xlink:href=\"#ArialMT-110\"/>\r\n       <use x=\"1962.207031\" xlink:href=\"#ArialMT-103\"/>\r\n       <use x=\"2017.822266\" xlink:href=\"#ArialMT-32\"/>\r\n       <use x=\"2045.605469\" xlink:href=\"#ArialMT-97\"/>\r\n       <use x=\"2101.220703\" xlink:href=\"#ArialMT-115\"/>\r\n       <use x=\"2151.220703\" xlink:href=\"#ArialMT-32\"/>\r\n       <use x=\"2179.003906\" xlink:href=\"#ArialMT-97\"/>\r\n       <use x=\"2234.619141\" xlink:href=\"#ArialMT-110\"/>\r\n       <use x=\"2290.234375\" xlink:href=\"#ArialMT-32\"/>\r\n       <use x=\"2318.017578\" xlink:href=\"#ArialMT-105\"/>\r\n       <use x=\"2340.234375\" xlink:href=\"#ArialMT-109\"/>\r\n       <use x=\"2423.535156\" xlink:href=\"#ArialMT-112\"/>\r\n       <use x=\"2479.150391\" xlink:href=\"#ArialMT-111\"/>\r\n       <use x=\"2534.765625\" xlink:href=\"#ArialMT-114\"/>\r\n       <use x=\"2568.066406\" xlink:href=\"#ArialMT-116\"/>\r\n       <use x=\"2595.849609\" xlink:href=\"#ArialMT-97\"/>\r\n       <use x=\"2651.464844\" xlink:href=\"#ArialMT-110\"/>\r\n       <use x=\"2707.080078\" xlink:href=\"#ArialMT-116\"/>\r\n       <use x=\"2734.863281\" xlink:href=\"#ArialMT-32\"/>\r\n       <use x=\"2762.646484\" xlink:href=\"#ArialMT-97\"/>\r\n       <use x=\"2818.261719\" xlink:href=\"#ArialMT-114\"/>\r\n       <use x=\"2851.5625\" xlink:href=\"#ArialMT-101\"/>\r\n       <use x=\"2907.177734\" xlink:href=\"#ArialMT-97\"/>\r\n       <use x=\"2962.792969\" xlink:href=\"#ArialMT-32\"/>\r\n       <use x=\"2990.576172\" xlink:href=\"#ArialMT-32\"/>\r\n       <use x=\"3018.359375\" xlink:href=\"#ArialMT-102\"/>\r\n       <use x=\"3046.142578\" xlink:href=\"#ArialMT-111\"/>\r\n       <use x=\"3101.757812\" xlink:href=\"#ArialMT-114\"/>\r\n       <use x=\"3135.058594\" xlink:href=\"#ArialMT-32\"/>\r\n       <use x=\"3162.841797\" xlink:href=\"#ArialMT-116\"/>\r\n       <use x=\"3190.625\" xlink:href=\"#ArialMT-104\"/>\r\n       <use x=\"3246.240234\" xlink:href=\"#ArialMT-101\"/>\r\n       <use x=\"3301.855469\" xlink:href=\"#ArialMT-105\"/>\r\n       <use x=\"3324.072266\" xlink:href=\"#ArialMT-114\"/>\r\n       <use x=\"3357.373047\" xlink:href=\"#ArialMT-32\"/>\r\n       <use x=\"3385.15625\" xlink:href=\"#ArialMT-100\"/>\r\n       <use x=\"3440.771484\" xlink:href=\"#ArialMT-101\"/>\r\n       <use x=\"3496.386719\" xlink:href=\"#ArialMT-118\"/>\r\n       <use x=\"3546.386719\" xlink:href=\"#ArialMT-101\"/>\r\n       <use x=\"3602.001953\" xlink:href=\"#ArialMT-108\"/>\r\n       <use x=\"3624.21875\" xlink:href=\"#ArialMT-111\"/>\r\n       <use x=\"3679.833984\" xlink:href=\"#ArialMT-112\"/>\r\n       <use x=\"3735.449219\" xlink:href=\"#ArialMT-109\"/>\r\n       <use x=\"3818.75\" xlink:href=\"#ArialMT-101\"/>\r\n       <use x=\"3874.365234\" xlink:href=\"#ArialMT-110\"/>\r\n       <use x=\"3929.980469\" xlink:href=\"#ArialMT-116\"/>\r\n      </g>\r\n     </g>\r\n    </g>\r\n    <g id=\"ytick_5\">\r\n     <g id=\"text_14\">\r\n      <!-- enterprises that consider the web application as an important area  for their development -->\r\n      <defs>\r\n       <path d=\"M 16.15625 0 \r\nL 0.296875 51.859375 \r\nL 9.375 51.859375 \r\nL 17.625 21.921875 \r\nL 20.703125 10.796875 \r\nQ 20.90625 11.625 23.390625 21.484375 \r\nL 31.640625 51.859375 \r\nL 40.671875 51.859375 \r\nL 48.4375 21.78125 \r\nL 51.03125 11.859375 \r\nL 54 21.875 \r\nL 62.890625 51.859375 \r\nL 71.4375 51.859375 \r\nL 55.21875 0 \r\nL 46.09375 0 \r\nL 37.84375 31.0625 \r\nL 35.84375 39.890625 \r\nL 25.34375 0 \r\nz\r\n\" id=\"ArialMT-119\"/>\r\n      </defs>\r\n      <g style=\"fill:#262626;\" transform=\"translate(89.417344 260.464958)scale(0.11 -0.11)\">\r\n       <use xlink:href=\"#ArialMT-101\"/>\r\n       <use x=\"55.615234\" xlink:href=\"#ArialMT-110\"/>\r\n       <use x=\"111.230469\" xlink:href=\"#ArialMT-116\"/>\r\n       <use x=\"139.013672\" xlink:href=\"#ArialMT-101\"/>\r\n       <use x=\"194.628906\" xlink:href=\"#ArialMT-114\"/>\r\n       <use x=\"227.929688\" xlink:href=\"#ArialMT-112\"/>\r\n       <use x=\"283.544922\" xlink:href=\"#ArialMT-114\"/>\r\n       <use x=\"316.845703\" xlink:href=\"#ArialMT-105\"/>\r\n       <use x=\"339.0625\" xlink:href=\"#ArialMT-115\"/>\r\n       <use x=\"389.0625\" xlink:href=\"#ArialMT-101\"/>\r\n       <use x=\"444.677734\" xlink:href=\"#ArialMT-115\"/>\r\n       <use x=\"494.677734\" xlink:href=\"#ArialMT-32\"/>\r\n       <use x=\"522.460938\" xlink:href=\"#ArialMT-116\"/>\r\n       <use x=\"550.244141\" xlink:href=\"#ArialMT-104\"/>\r\n       <use x=\"605.859375\" xlink:href=\"#ArialMT-97\"/>\r\n       <use x=\"661.474609\" xlink:href=\"#ArialMT-116\"/>\r\n       <use x=\"689.257812\" xlink:href=\"#ArialMT-32\"/>\r\n       <use x=\"717.041016\" xlink:href=\"#ArialMT-99\"/>\r\n       <use x=\"767.041016\" xlink:href=\"#ArialMT-111\"/>\r\n       <use x=\"822.65625\" xlink:href=\"#ArialMT-110\"/>\r\n       <use x=\"878.271484\" xlink:href=\"#ArialMT-115\"/>\r\n       <use x=\"928.271484\" xlink:href=\"#ArialMT-105\"/>\r\n       <use x=\"950.488281\" xlink:href=\"#ArialMT-100\"/>\r\n       <use x=\"1006.103516\" xlink:href=\"#ArialMT-101\"/>\r\n       <use x=\"1061.71875\" xlink:href=\"#ArialMT-114\"/>\r\n       <use x=\"1095.019531\" xlink:href=\"#ArialMT-32\"/>\r\n       <use x=\"1122.802734\" xlink:href=\"#ArialMT-116\"/>\r\n       <use x=\"1150.585938\" xlink:href=\"#ArialMT-104\"/>\r\n       <use x=\"1206.201172\" xlink:href=\"#ArialMT-101\"/>\r\n       <use x=\"1261.816406\" xlink:href=\"#ArialMT-32\"/>\r\n       <use x=\"1289.599609\" xlink:href=\"#ArialMT-119\"/>\r\n       <use x=\"1361.816406\" xlink:href=\"#ArialMT-101\"/>\r\n       <use x=\"1417.431641\" xlink:href=\"#ArialMT-98\"/>\r\n       <use x=\"1473.046875\" xlink:href=\"#ArialMT-32\"/>\r\n       <use x=\"1500.830078\" xlink:href=\"#ArialMT-97\"/>\r\n       <use x=\"1556.445312\" xlink:href=\"#ArialMT-112\"/>\r\n       <use x=\"1612.060547\" xlink:href=\"#ArialMT-112\"/>\r\n       <use x=\"1667.675781\" xlink:href=\"#ArialMT-108\"/>\r\n       <use x=\"1689.892578\" xlink:href=\"#ArialMT-105\"/>\r\n       <use x=\"1712.109375\" xlink:href=\"#ArialMT-99\"/>\r\n       <use x=\"1762.109375\" xlink:href=\"#ArialMT-97\"/>\r\n       <use x=\"1817.724609\" xlink:href=\"#ArialMT-116\"/>\r\n       <use x=\"1845.507812\" xlink:href=\"#ArialMT-105\"/>\r\n       <use x=\"1867.724609\" xlink:href=\"#ArialMT-111\"/>\r\n       <use x=\"1923.339844\" xlink:href=\"#ArialMT-110\"/>\r\n       <use x=\"1978.955078\" xlink:href=\"#ArialMT-32\"/>\r\n       <use x=\"2006.738281\" xlink:href=\"#ArialMT-97\"/>\r\n       <use x=\"2062.353516\" xlink:href=\"#ArialMT-115\"/>\r\n       <use x=\"2112.353516\" xlink:href=\"#ArialMT-32\"/>\r\n       <use x=\"2140.136719\" xlink:href=\"#ArialMT-97\"/>\r\n       <use x=\"2195.751953\" xlink:href=\"#ArialMT-110\"/>\r\n       <use x=\"2251.367188\" xlink:href=\"#ArialMT-32\"/>\r\n       <use x=\"2279.150391\" xlink:href=\"#ArialMT-105\"/>\r\n       <use x=\"2301.367188\" xlink:href=\"#ArialMT-109\"/>\r\n       <use x=\"2384.667969\" xlink:href=\"#ArialMT-112\"/>\r\n       <use x=\"2440.283203\" xlink:href=\"#ArialMT-111\"/>\r\n       <use x=\"2495.898438\" xlink:href=\"#ArialMT-114\"/>\r\n       <use x=\"2529.199219\" xlink:href=\"#ArialMT-116\"/>\r\n       <use x=\"2556.982422\" xlink:href=\"#ArialMT-97\"/>\r\n       <use x=\"2612.597656\" xlink:href=\"#ArialMT-110\"/>\r\n       <use x=\"2668.212891\" xlink:href=\"#ArialMT-116\"/>\r\n       <use x=\"2695.996094\" xlink:href=\"#ArialMT-32\"/>\r\n       <use x=\"2723.779297\" xlink:href=\"#ArialMT-97\"/>\r\n       <use x=\"2779.394531\" xlink:href=\"#ArialMT-114\"/>\r\n       <use x=\"2812.695312\" xlink:href=\"#ArialMT-101\"/>\r\n       <use x=\"2868.310547\" xlink:href=\"#ArialMT-97\"/>\r\n       <use x=\"2923.925781\" xlink:href=\"#ArialMT-32\"/>\r\n       <use x=\"2951.708984\" xlink:href=\"#ArialMT-32\"/>\r\n       <use x=\"2979.492188\" xlink:href=\"#ArialMT-102\"/>\r\n       <use x=\"3007.275391\" xlink:href=\"#ArialMT-111\"/>\r\n       <use x=\"3062.890625\" xlink:href=\"#ArialMT-114\"/>\r\n       <use x=\"3096.191406\" xlink:href=\"#ArialMT-32\"/>\r\n       <use x=\"3123.974609\" xlink:href=\"#ArialMT-116\"/>\r\n       <use x=\"3151.757812\" xlink:href=\"#ArialMT-104\"/>\r\n       <use x=\"3207.373047\" xlink:href=\"#ArialMT-101\"/>\r\n       <use x=\"3262.988281\" xlink:href=\"#ArialMT-105\"/>\r\n       <use x=\"3285.205078\" xlink:href=\"#ArialMT-114\"/>\r\n       <use x=\"3318.505859\" xlink:href=\"#ArialMT-32\"/>\r\n       <use x=\"3346.289062\" xlink:href=\"#ArialMT-100\"/>\r\n       <use x=\"3401.904297\" xlink:href=\"#ArialMT-101\"/>\r\n       <use x=\"3457.519531\" xlink:href=\"#ArialMT-118\"/>\r\n       <use x=\"3507.519531\" xlink:href=\"#ArialMT-101\"/>\r\n       <use x=\"3563.134766\" xlink:href=\"#ArialMT-108\"/>\r\n       <use x=\"3585.351562\" xlink:href=\"#ArialMT-111\"/>\r\n       <use x=\"3640.966797\" xlink:href=\"#ArialMT-112\"/>\r\n       <use x=\"3696.582031\" xlink:href=\"#ArialMT-109\"/>\r\n       <use x=\"3779.882812\" xlink:href=\"#ArialMT-101\"/>\r\n       <use x=\"3835.498047\" xlink:href=\"#ArialMT-110\"/>\r\n       <use x=\"3891.113281\" xlink:href=\"#ArialMT-116\"/>\r\n      </g>\r\n     </g>\r\n    </g>\r\n    <g id=\"ytick_6\">\r\n     <g id=\"text_15\">\r\n      <!-- enterprises that consider the online sales as an important area  for their development -->\r\n      <g style=\"fill:#262626;\" transform=\"translate(107.151406 311.611112)scale(0.11 -0.11)\">\r\n       <use xlink:href=\"#ArialMT-101\"/>\r\n       <use x=\"55.615234\" xlink:href=\"#ArialMT-110\"/>\r\n       <use x=\"111.230469\" xlink:href=\"#ArialMT-116\"/>\r\n       <use x=\"139.013672\" xlink:href=\"#ArialMT-101\"/>\r\n       <use x=\"194.628906\" xlink:href=\"#ArialMT-114\"/>\r\n       <use x=\"227.929688\" xlink:href=\"#ArialMT-112\"/>\r\n       <use x=\"283.544922\" xlink:href=\"#ArialMT-114\"/>\r\n       <use x=\"316.845703\" xlink:href=\"#ArialMT-105\"/>\r\n       <use x=\"339.0625\" xlink:href=\"#ArialMT-115\"/>\r\n       <use x=\"389.0625\" xlink:href=\"#ArialMT-101\"/>\r\n       <use x=\"444.677734\" xlink:href=\"#ArialMT-115\"/>\r\n       <use x=\"494.677734\" xlink:href=\"#ArialMT-32\"/>\r\n       <use x=\"522.460938\" xlink:href=\"#ArialMT-116\"/>\r\n       <use x=\"550.244141\" xlink:href=\"#ArialMT-104\"/>\r\n       <use x=\"605.859375\" xlink:href=\"#ArialMT-97\"/>\r\n       <use x=\"661.474609\" xlink:href=\"#ArialMT-116\"/>\r\n       <use x=\"689.257812\" xlink:href=\"#ArialMT-32\"/>\r\n       <use x=\"717.041016\" xlink:href=\"#ArialMT-99\"/>\r\n       <use x=\"767.041016\" xlink:href=\"#ArialMT-111\"/>\r\n       <use x=\"822.65625\" xlink:href=\"#ArialMT-110\"/>\r\n       <use x=\"878.271484\" xlink:href=\"#ArialMT-115\"/>\r\n       <use x=\"928.271484\" xlink:href=\"#ArialMT-105\"/>\r\n       <use x=\"950.488281\" xlink:href=\"#ArialMT-100\"/>\r\n       <use x=\"1006.103516\" xlink:href=\"#ArialMT-101\"/>\r\n       <use x=\"1061.71875\" xlink:href=\"#ArialMT-114\"/>\r\n       <use x=\"1095.019531\" xlink:href=\"#ArialMT-32\"/>\r\n       <use x=\"1122.802734\" xlink:href=\"#ArialMT-116\"/>\r\n       <use x=\"1150.585938\" xlink:href=\"#ArialMT-104\"/>\r\n       <use x=\"1206.201172\" xlink:href=\"#ArialMT-101\"/>\r\n       <use x=\"1261.816406\" xlink:href=\"#ArialMT-32\"/>\r\n       <use x=\"1289.599609\" xlink:href=\"#ArialMT-111\"/>\r\n       <use x=\"1345.214844\" xlink:href=\"#ArialMT-110\"/>\r\n       <use x=\"1400.830078\" xlink:href=\"#ArialMT-108\"/>\r\n       <use x=\"1423.046875\" xlink:href=\"#ArialMT-105\"/>\r\n       <use x=\"1445.263672\" xlink:href=\"#ArialMT-110\"/>\r\n       <use x=\"1500.878906\" xlink:href=\"#ArialMT-101\"/>\r\n       <use x=\"1556.494141\" xlink:href=\"#ArialMT-32\"/>\r\n       <use x=\"1584.277344\" xlink:href=\"#ArialMT-115\"/>\r\n       <use x=\"1634.277344\" xlink:href=\"#ArialMT-97\"/>\r\n       <use x=\"1689.892578\" xlink:href=\"#ArialMT-108\"/>\r\n       <use x=\"1712.109375\" xlink:href=\"#ArialMT-101\"/>\r\n       <use x=\"1767.724609\" xlink:href=\"#ArialMT-115\"/>\r\n       <use x=\"1817.724609\" xlink:href=\"#ArialMT-32\"/>\r\n       <use x=\"1845.507812\" xlink:href=\"#ArialMT-97\"/>\r\n       <use x=\"1901.123047\" xlink:href=\"#ArialMT-115\"/>\r\n       <use x=\"1951.123047\" xlink:href=\"#ArialMT-32\"/>\r\n       <use x=\"1978.90625\" xlink:href=\"#ArialMT-97\"/>\r\n       <use x=\"2034.521484\" xlink:href=\"#ArialMT-110\"/>\r\n       <use x=\"2090.136719\" xlink:href=\"#ArialMT-32\"/>\r\n       <use x=\"2117.919922\" xlink:href=\"#ArialMT-105\"/>\r\n       <use x=\"2140.136719\" xlink:href=\"#ArialMT-109\"/>\r\n       <use x=\"2223.4375\" xlink:href=\"#ArialMT-112\"/>\r\n       <use x=\"2279.052734\" xlink:href=\"#ArialMT-111\"/>\r\n       <use x=\"2334.667969\" xlink:href=\"#ArialMT-114\"/>\r\n       <use x=\"2367.96875\" xlink:href=\"#ArialMT-116\"/>\r\n       <use x=\"2395.751953\" xlink:href=\"#ArialMT-97\"/>\r\n       <use x=\"2451.367188\" xlink:href=\"#ArialMT-110\"/>\r\n       <use x=\"2506.982422\" xlink:href=\"#ArialMT-116\"/>\r\n       <use x=\"2534.765625\" xlink:href=\"#ArialMT-32\"/>\r\n       <use x=\"2562.548828\" xlink:href=\"#ArialMT-97\"/>\r\n       <use x=\"2618.164062\" xlink:href=\"#ArialMT-114\"/>\r\n       <use x=\"2651.464844\" xlink:href=\"#ArialMT-101\"/>\r\n       <use x=\"2707.080078\" xlink:href=\"#ArialMT-97\"/>\r\n       <use x=\"2762.695312\" xlink:href=\"#ArialMT-32\"/>\r\n       <use x=\"2790.478516\" xlink:href=\"#ArialMT-32\"/>\r\n       <use x=\"2818.261719\" xlink:href=\"#ArialMT-102\"/>\r\n       <use x=\"2846.044922\" xlink:href=\"#ArialMT-111\"/>\r\n       <use x=\"2901.660156\" xlink:href=\"#ArialMT-114\"/>\r\n       <use x=\"2934.960938\" xlink:href=\"#ArialMT-32\"/>\r\n       <use x=\"2962.744141\" xlink:href=\"#ArialMT-116\"/>\r\n       <use x=\"2990.527344\" xlink:href=\"#ArialMT-104\"/>\r\n       <use x=\"3046.142578\" xlink:href=\"#ArialMT-101\"/>\r\n       <use x=\"3101.757812\" xlink:href=\"#ArialMT-105\"/>\r\n       <use x=\"3123.974609\" xlink:href=\"#ArialMT-114\"/>\r\n       <use x=\"3157.275391\" xlink:href=\"#ArialMT-32\"/>\r\n       <use x=\"3185.058594\" xlink:href=\"#ArialMT-100\"/>\r\n       <use x=\"3240.673828\" xlink:href=\"#ArialMT-101\"/>\r\n       <use x=\"3296.289062\" xlink:href=\"#ArialMT-118\"/>\r\n       <use x=\"3346.289062\" xlink:href=\"#ArialMT-101\"/>\r\n       <use x=\"3401.904297\" xlink:href=\"#ArialMT-108\"/>\r\n       <use x=\"3424.121094\" xlink:href=\"#ArialMT-111\"/>\r\n       <use x=\"3479.736328\" xlink:href=\"#ArialMT-112\"/>\r\n       <use x=\"3535.351562\" xlink:href=\"#ArialMT-109\"/>\r\n       <use x=\"3618.652344\" xlink:href=\"#ArialMT-101\"/>\r\n       <use x=\"3674.267578\" xlink:href=\"#ArialMT-110\"/>\r\n       <use x=\"3729.882812\" xlink:href=\"#ArialMT-116\"/>\r\n      </g>\r\n     </g>\r\n    </g>\r\n    <g id=\"ytick_7\">\r\n     <g id=\"text_16\">\r\n      <!-- enterprises that consider the social media as an important area  for their development -->\r\n      <g style=\"fill:#262626;\" transform=\"translate(104.105781 362.757266)scale(0.11 -0.11)\">\r\n       <use xlink:href=\"#ArialMT-101\"/>\r\n       <use x=\"55.615234\" xlink:href=\"#ArialMT-110\"/>\r\n       <use x=\"111.230469\" xlink:href=\"#ArialMT-116\"/>\r\n       <use x=\"139.013672\" xlink:href=\"#ArialMT-101\"/>\r\n       <use x=\"194.628906\" xlink:href=\"#ArialMT-114\"/>\r\n       <use x=\"227.929688\" xlink:href=\"#ArialMT-112\"/>\r\n       <use x=\"283.544922\" xlink:href=\"#ArialMT-114\"/>\r\n       <use x=\"316.845703\" xlink:href=\"#ArialMT-105\"/>\r\n       <use x=\"339.0625\" xlink:href=\"#ArialMT-115\"/>\r\n       <use x=\"389.0625\" xlink:href=\"#ArialMT-101\"/>\r\n       <use x=\"444.677734\" xlink:href=\"#ArialMT-115\"/>\r\n       <use x=\"494.677734\" xlink:href=\"#ArialMT-32\"/>\r\n       <use x=\"522.460938\" xlink:href=\"#ArialMT-116\"/>\r\n       <use x=\"550.244141\" xlink:href=\"#ArialMT-104\"/>\r\n       <use x=\"605.859375\" xlink:href=\"#ArialMT-97\"/>\r\n       <use x=\"661.474609\" xlink:href=\"#ArialMT-116\"/>\r\n       <use x=\"689.257812\" xlink:href=\"#ArialMT-32\"/>\r\n       <use x=\"717.041016\" xlink:href=\"#ArialMT-99\"/>\r\n       <use x=\"767.041016\" xlink:href=\"#ArialMT-111\"/>\r\n       <use x=\"822.65625\" xlink:href=\"#ArialMT-110\"/>\r\n       <use x=\"878.271484\" xlink:href=\"#ArialMT-115\"/>\r\n       <use x=\"928.271484\" xlink:href=\"#ArialMT-105\"/>\r\n       <use x=\"950.488281\" xlink:href=\"#ArialMT-100\"/>\r\n       <use x=\"1006.103516\" xlink:href=\"#ArialMT-101\"/>\r\n       <use x=\"1061.71875\" xlink:href=\"#ArialMT-114\"/>\r\n       <use x=\"1095.019531\" xlink:href=\"#ArialMT-32\"/>\r\n       <use x=\"1122.802734\" xlink:href=\"#ArialMT-116\"/>\r\n       <use x=\"1150.585938\" xlink:href=\"#ArialMT-104\"/>\r\n       <use x=\"1206.201172\" xlink:href=\"#ArialMT-101\"/>\r\n       <use x=\"1261.816406\" xlink:href=\"#ArialMT-32\"/>\r\n       <use x=\"1289.599609\" xlink:href=\"#ArialMT-115\"/>\r\n       <use x=\"1339.599609\" xlink:href=\"#ArialMT-111\"/>\r\n       <use x=\"1395.214844\" xlink:href=\"#ArialMT-99\"/>\r\n       <use x=\"1445.214844\" xlink:href=\"#ArialMT-105\"/>\r\n       <use x=\"1467.431641\" xlink:href=\"#ArialMT-97\"/>\r\n       <use x=\"1523.046875\" xlink:href=\"#ArialMT-108\"/>\r\n       <use x=\"1545.263672\" xlink:href=\"#ArialMT-32\"/>\r\n       <use x=\"1573.046875\" xlink:href=\"#ArialMT-109\"/>\r\n       <use x=\"1656.347656\" xlink:href=\"#ArialMT-101\"/>\r\n       <use x=\"1711.962891\" xlink:href=\"#ArialMT-100\"/>\r\n       <use x=\"1767.578125\" xlink:href=\"#ArialMT-105\"/>\r\n       <use x=\"1789.794922\" xlink:href=\"#ArialMT-97\"/>\r\n       <use x=\"1845.410156\" xlink:href=\"#ArialMT-32\"/>\r\n       <use x=\"1873.193359\" xlink:href=\"#ArialMT-97\"/>\r\n       <use x=\"1928.808594\" xlink:href=\"#ArialMT-115\"/>\r\n       <use x=\"1978.808594\" xlink:href=\"#ArialMT-32\"/>\r\n       <use x=\"2006.591797\" xlink:href=\"#ArialMT-97\"/>\r\n       <use x=\"2062.207031\" xlink:href=\"#ArialMT-110\"/>\r\n       <use x=\"2117.822266\" xlink:href=\"#ArialMT-32\"/>\r\n       <use x=\"2145.605469\" xlink:href=\"#ArialMT-105\"/>\r\n       <use x=\"2167.822266\" xlink:href=\"#ArialMT-109\"/>\r\n       <use x=\"2251.123047\" xlink:href=\"#ArialMT-112\"/>\r\n       <use x=\"2306.738281\" xlink:href=\"#ArialMT-111\"/>\r\n       <use x=\"2362.353516\" xlink:href=\"#ArialMT-114\"/>\r\n       <use x=\"2395.654297\" xlink:href=\"#ArialMT-116\"/>\r\n       <use x=\"2423.4375\" xlink:href=\"#ArialMT-97\"/>\r\n       <use x=\"2479.052734\" xlink:href=\"#ArialMT-110\"/>\r\n       <use x=\"2534.667969\" xlink:href=\"#ArialMT-116\"/>\r\n       <use x=\"2562.451172\" xlink:href=\"#ArialMT-32\"/>\r\n       <use x=\"2590.234375\" xlink:href=\"#ArialMT-97\"/>\r\n       <use x=\"2645.849609\" xlink:href=\"#ArialMT-114\"/>\r\n       <use x=\"2679.150391\" xlink:href=\"#ArialMT-101\"/>\r\n       <use x=\"2734.765625\" xlink:href=\"#ArialMT-97\"/>\r\n       <use x=\"2790.380859\" xlink:href=\"#ArialMT-32\"/>\r\n       <use x=\"2818.164062\" xlink:href=\"#ArialMT-32\"/>\r\n       <use x=\"2845.947266\" xlink:href=\"#ArialMT-102\"/>\r\n       <use x=\"2873.730469\" xlink:href=\"#ArialMT-111\"/>\r\n       <use x=\"2929.345703\" xlink:href=\"#ArialMT-114\"/>\r\n       <use x=\"2962.646484\" xlink:href=\"#ArialMT-32\"/>\r\n       <use x=\"2990.429688\" xlink:href=\"#ArialMT-116\"/>\r\n       <use x=\"3018.212891\" xlink:href=\"#ArialMT-104\"/>\r\n       <use x=\"3073.828125\" xlink:href=\"#ArialMT-101\"/>\r\n       <use x=\"3129.443359\" xlink:href=\"#ArialMT-105\"/>\r\n       <use x=\"3151.660156\" xlink:href=\"#ArialMT-114\"/>\r\n       <use x=\"3184.960938\" xlink:href=\"#ArialMT-32\"/>\r\n       <use x=\"3212.744141\" xlink:href=\"#ArialMT-100\"/>\r\n       <use x=\"3268.359375\" xlink:href=\"#ArialMT-101\"/>\r\n       <use x=\"3323.974609\" xlink:href=\"#ArialMT-118\"/>\r\n       <use x=\"3373.974609\" xlink:href=\"#ArialMT-101\"/>\r\n       <use x=\"3429.589844\" xlink:href=\"#ArialMT-108\"/>\r\n       <use x=\"3451.806641\" xlink:href=\"#ArialMT-111\"/>\r\n       <use x=\"3507.421875\" xlink:href=\"#ArialMT-112\"/>\r\n       <use x=\"3563.037109\" xlink:href=\"#ArialMT-109\"/>\r\n       <use x=\"3646.337891\" xlink:href=\"#ArialMT-101\"/>\r\n       <use x=\"3701.953125\" xlink:href=\"#ArialMT-110\"/>\r\n       <use x=\"3757.568359\" xlink:href=\"#ArialMT-116\"/>\r\n      </g>\r\n     </g>\r\n    </g>\r\n    <g id=\"ytick_8\">\r\n     <g id=\"text_17\">\r\n      <!-- enterprises that consider the Big Data Analytics as an important area  for their development -->\r\n      <defs>\r\n       <path d=\"M 7.328125 0 \r\nL 7.328125 71.578125 \r\nL 34.1875 71.578125 \r\nQ 42.390625 71.578125 47.34375 69.40625 \r\nQ 52.296875 67.234375 55.09375 62.71875 \r\nQ 57.90625 58.203125 57.90625 53.265625 \r\nQ 57.90625 48.6875 55.421875 44.625 \r\nQ 52.9375 40.578125 47.90625 38.09375 \r\nQ 54.390625 36.1875 57.875 31.59375 \r\nQ 61.375 27 61.375 20.75 \r\nQ 61.375 15.71875 59.25 11.390625 \r\nQ 57.125 7.078125 54 4.734375 \r\nQ 50.875 2.390625 46.15625 1.1875 \r\nQ 41.453125 0 34.625 0 \r\nz\r\nM 16.796875 41.5 \r\nL 32.28125 41.5 \r\nQ 38.578125 41.5 41.3125 42.328125 \r\nQ 44.921875 43.40625 46.75 45.890625 \r\nQ 48.578125 48.390625 48.578125 52.15625 \r\nQ 48.578125 55.71875 46.875 58.421875 \r\nQ 45.171875 61.140625 41.984375 62.140625 \r\nQ 38.8125 63.140625 31.109375 63.140625 \r\nL 16.796875 63.140625 \r\nz\r\nM 16.796875 8.453125 \r\nL 34.625 8.453125 \r\nQ 39.203125 8.453125 41.0625 8.796875 \r\nQ 44.34375 9.375 46.53125 10.734375 \r\nQ 48.734375 12.109375 50.140625 14.71875 \r\nQ 51.5625 17.328125 51.5625 20.75 \r\nQ 51.5625 24.75 49.515625 27.703125 \r\nQ 47.46875 30.671875 43.828125 31.859375 \r\nQ 40.1875 33.0625 33.34375 33.0625 \r\nL 16.796875 33.0625 \r\nz\r\n\" id=\"ArialMT-66\"/>\r\n       <path d=\"M -0.140625 0 \r\nL 27.34375 71.578125 \r\nL 37.546875 71.578125 \r\nL 66.84375 0 \r\nL 56.0625 0 \r\nL 47.703125 21.6875 \r\nL 17.78125 21.6875 \r\nL 9.90625 0 \r\nz\r\nM 20.515625 29.390625 \r\nL 44.78125 29.390625 \r\nL 37.3125 49.21875 \r\nQ 33.890625 58.25 32.234375 64.0625 \r\nQ 30.859375 57.171875 28.375 50.390625 \r\nz\r\n\" id=\"ArialMT-65\"/>\r\n       <path d=\"M 6.203125 -19.96875 \r\nL 5.21875 -11.71875 \r\nQ 8.109375 -12.5 10.25 -12.5 \r\nQ 13.1875 -12.5 14.9375 -11.515625 \r\nQ 16.703125 -10.546875 17.828125 -8.796875 \r\nQ 18.65625 -7.46875 20.515625 -2.25 \r\nQ 20.75 -1.515625 21.296875 -0.09375 \r\nL 1.609375 51.859375 \r\nL 11.078125 51.859375 \r\nL 21.875 21.828125 \r\nQ 23.96875 16.109375 25.640625 9.8125 \r\nQ 27.15625 15.875 29.25 21.625 \r\nL 40.328125 51.859375 \r\nL 49.125 51.859375 \r\nL 29.390625 -0.875 \r\nQ 26.21875 -9.421875 24.46875 -12.640625 \r\nQ 22.125 -17 19.09375 -19.015625 \r\nQ 16.0625 -21.046875 11.859375 -21.046875 \r\nQ 9.328125 -21.046875 6.203125 -19.96875 \r\nz\r\n\" id=\"ArialMT-121\"/>\r\n      </defs>\r\n      <g style=\"fill:#262626;\" transform=\"translate(76.586875 413.903419)scale(0.11 -0.11)\">\r\n       <use xlink:href=\"#ArialMT-101\"/>\r\n       <use x=\"55.615234\" xlink:href=\"#ArialMT-110\"/>\r\n       <use x=\"111.230469\" xlink:href=\"#ArialMT-116\"/>\r\n       <use x=\"139.013672\" xlink:href=\"#ArialMT-101\"/>\r\n       <use x=\"194.628906\" xlink:href=\"#ArialMT-114\"/>\r\n       <use x=\"227.929688\" xlink:href=\"#ArialMT-112\"/>\r\n       <use x=\"283.544922\" xlink:href=\"#ArialMT-114\"/>\r\n       <use x=\"316.845703\" xlink:href=\"#ArialMT-105\"/>\r\n       <use x=\"339.0625\" xlink:href=\"#ArialMT-115\"/>\r\n       <use x=\"389.0625\" xlink:href=\"#ArialMT-101\"/>\r\n       <use x=\"444.677734\" xlink:href=\"#ArialMT-115\"/>\r\n       <use x=\"494.677734\" xlink:href=\"#ArialMT-32\"/>\r\n       <use x=\"522.460938\" xlink:href=\"#ArialMT-116\"/>\r\n       <use x=\"550.244141\" xlink:href=\"#ArialMT-104\"/>\r\n       <use x=\"605.859375\" xlink:href=\"#ArialMT-97\"/>\r\n       <use x=\"661.474609\" xlink:href=\"#ArialMT-116\"/>\r\n       <use x=\"689.257812\" xlink:href=\"#ArialMT-32\"/>\r\n       <use x=\"717.041016\" xlink:href=\"#ArialMT-99\"/>\r\n       <use x=\"767.041016\" xlink:href=\"#ArialMT-111\"/>\r\n       <use x=\"822.65625\" xlink:href=\"#ArialMT-110\"/>\r\n       <use x=\"878.271484\" xlink:href=\"#ArialMT-115\"/>\r\n       <use x=\"928.271484\" xlink:href=\"#ArialMT-105\"/>\r\n       <use x=\"950.488281\" xlink:href=\"#ArialMT-100\"/>\r\n       <use x=\"1006.103516\" xlink:href=\"#ArialMT-101\"/>\r\n       <use x=\"1061.71875\" xlink:href=\"#ArialMT-114\"/>\r\n       <use x=\"1095.019531\" xlink:href=\"#ArialMT-32\"/>\r\n       <use x=\"1122.802734\" xlink:href=\"#ArialMT-116\"/>\r\n       <use x=\"1150.585938\" xlink:href=\"#ArialMT-104\"/>\r\n       <use x=\"1206.201172\" xlink:href=\"#ArialMT-101\"/>\r\n       <use x=\"1261.816406\" xlink:href=\"#ArialMT-32\"/>\r\n       <use x=\"1289.599609\" xlink:href=\"#ArialMT-66\"/>\r\n       <use x=\"1356.298828\" xlink:href=\"#ArialMT-105\"/>\r\n       <use x=\"1378.515625\" xlink:href=\"#ArialMT-103\"/>\r\n       <use x=\"1434.130859\" xlink:href=\"#ArialMT-32\"/>\r\n       <use x=\"1461.914062\" xlink:href=\"#ArialMT-68\"/>\r\n       <use x=\"1534.130859\" xlink:href=\"#ArialMT-97\"/>\r\n       <use x=\"1589.746094\" xlink:href=\"#ArialMT-116\"/>\r\n       <use x=\"1617.529297\" xlink:href=\"#ArialMT-97\"/>\r\n       <use x=\"1673.144531\" xlink:href=\"#ArialMT-32\"/>\r\n       <use x=\"1695.427734\" xlink:href=\"#ArialMT-65\"/>\r\n       <use x=\"1762.126953\" xlink:href=\"#ArialMT-110\"/>\r\n       <use x=\"1817.742188\" xlink:href=\"#ArialMT-97\"/>\r\n       <use x=\"1873.357422\" xlink:href=\"#ArialMT-108\"/>\r\n       <use x=\"1895.574219\" xlink:href=\"#ArialMT-121\"/>\r\n       <use x=\"1945.574219\" xlink:href=\"#ArialMT-116\"/>\r\n       <use x=\"1973.357422\" xlink:href=\"#ArialMT-105\"/>\r\n       <use x=\"1995.574219\" xlink:href=\"#ArialMT-99\"/>\r\n       <use x=\"2045.574219\" xlink:href=\"#ArialMT-115\"/>\r\n       <use x=\"2095.574219\" xlink:href=\"#ArialMT-32\"/>\r\n       <use x=\"2123.357422\" xlink:href=\"#ArialMT-97\"/>\r\n       <use x=\"2178.972656\" xlink:href=\"#ArialMT-115\"/>\r\n       <use x=\"2228.972656\" xlink:href=\"#ArialMT-32\"/>\r\n       <use x=\"2256.755859\" xlink:href=\"#ArialMT-97\"/>\r\n       <use x=\"2312.371094\" xlink:href=\"#ArialMT-110\"/>\r\n       <use x=\"2367.986328\" xlink:href=\"#ArialMT-32\"/>\r\n       <use x=\"2395.769531\" xlink:href=\"#ArialMT-105\"/>\r\n       <use x=\"2417.986328\" xlink:href=\"#ArialMT-109\"/>\r\n       <use x=\"2501.287109\" xlink:href=\"#ArialMT-112\"/>\r\n       <use x=\"2556.902344\" xlink:href=\"#ArialMT-111\"/>\r\n       <use x=\"2612.517578\" xlink:href=\"#ArialMT-114\"/>\r\n       <use x=\"2645.818359\" xlink:href=\"#ArialMT-116\"/>\r\n       <use x=\"2673.601562\" xlink:href=\"#ArialMT-97\"/>\r\n       <use x=\"2729.216797\" xlink:href=\"#ArialMT-110\"/>\r\n       <use x=\"2784.832031\" xlink:href=\"#ArialMT-116\"/>\r\n       <use x=\"2812.615234\" xlink:href=\"#ArialMT-32\"/>\r\n       <use x=\"2840.398438\" xlink:href=\"#ArialMT-97\"/>\r\n       <use x=\"2896.013672\" xlink:href=\"#ArialMT-114\"/>\r\n       <use x=\"2929.314453\" xlink:href=\"#ArialMT-101\"/>\r\n       <use x=\"2984.929688\" xlink:href=\"#ArialMT-97\"/>\r\n       <use x=\"3040.544922\" xlink:href=\"#ArialMT-32\"/>\r\n       <use x=\"3068.328125\" xlink:href=\"#ArialMT-32\"/>\r\n       <use x=\"3096.111328\" xlink:href=\"#ArialMT-102\"/>\r\n       <use x=\"3123.894531\" xlink:href=\"#ArialMT-111\"/>\r\n       <use x=\"3179.509766\" xlink:href=\"#ArialMT-114\"/>\r\n       <use x=\"3212.810547\" xlink:href=\"#ArialMT-32\"/>\r\n       <use x=\"3240.59375\" xlink:href=\"#ArialMT-116\"/>\r\n       <use x=\"3268.376953\" xlink:href=\"#ArialMT-104\"/>\r\n       <use x=\"3323.992188\" xlink:href=\"#ArialMT-101\"/>\r\n       <use x=\"3379.607422\" xlink:href=\"#ArialMT-105\"/>\r\n       <use x=\"3401.824219\" xlink:href=\"#ArialMT-114\"/>\r\n       <use x=\"3435.125\" xlink:href=\"#ArialMT-32\"/>\r\n       <use x=\"3462.908203\" xlink:href=\"#ArialMT-100\"/>\r\n       <use x=\"3518.523438\" xlink:href=\"#ArialMT-101\"/>\r\n       <use x=\"3574.138672\" xlink:href=\"#ArialMT-118\"/>\r\n       <use x=\"3624.138672\" xlink:href=\"#ArialMT-101\"/>\r\n       <use x=\"3679.753906\" xlink:href=\"#ArialMT-108\"/>\r\n       <use x=\"3701.970703\" xlink:href=\"#ArialMT-111\"/>\r\n       <use x=\"3757.585938\" xlink:href=\"#ArialMT-112\"/>\r\n       <use x=\"3813.201172\" xlink:href=\"#ArialMT-109\"/>\r\n       <use x=\"3896.501953\" xlink:href=\"#ArialMT-101\"/>\r\n       <use x=\"3952.117188\" xlink:href=\"#ArialMT-110\"/>\r\n       <use x=\"4007.732422\" xlink:href=\"#ArialMT-116\"/>\r\n      </g>\r\n     </g>\r\n    </g>\r\n    <g id=\"ytick_9\">\r\n     <g id=\"text_18\">\r\n      <!-- enterprises that consider the augmented and virtual reality as an important area  for their development -->\r\n      <g style=\"fill:#262626;\" transform=\"translate(24.003438 465.049573)scale(0.11 -0.11)\">\r\n       <use xlink:href=\"#ArialMT-101\"/>\r\n       <use x=\"55.615234\" xlink:href=\"#ArialMT-110\"/>\r\n       <use x=\"111.230469\" xlink:href=\"#ArialMT-116\"/>\r\n       <use x=\"139.013672\" xlink:href=\"#ArialMT-101\"/>\r\n       <use x=\"194.628906\" xlink:href=\"#ArialMT-114\"/>\r\n       <use x=\"227.929688\" xlink:href=\"#ArialMT-112\"/>\r\n       <use x=\"283.544922\" xlink:href=\"#ArialMT-114\"/>\r\n       <use x=\"316.845703\" xlink:href=\"#ArialMT-105\"/>\r\n       <use x=\"339.0625\" xlink:href=\"#ArialMT-115\"/>\r\n       <use x=\"389.0625\" xlink:href=\"#ArialMT-101\"/>\r\n       <use x=\"444.677734\" xlink:href=\"#ArialMT-115\"/>\r\n       <use x=\"494.677734\" xlink:href=\"#ArialMT-32\"/>\r\n       <use x=\"522.460938\" xlink:href=\"#ArialMT-116\"/>\r\n       <use x=\"550.244141\" xlink:href=\"#ArialMT-104\"/>\r\n       <use x=\"605.859375\" xlink:href=\"#ArialMT-97\"/>\r\n       <use x=\"661.474609\" xlink:href=\"#ArialMT-116\"/>\r\n       <use x=\"689.257812\" xlink:href=\"#ArialMT-32\"/>\r\n       <use x=\"717.041016\" xlink:href=\"#ArialMT-99\"/>\r\n       <use x=\"767.041016\" xlink:href=\"#ArialMT-111\"/>\r\n       <use x=\"822.65625\" xlink:href=\"#ArialMT-110\"/>\r\n       <use x=\"878.271484\" xlink:href=\"#ArialMT-115\"/>\r\n       <use x=\"928.271484\" xlink:href=\"#ArialMT-105\"/>\r\n       <use x=\"950.488281\" xlink:href=\"#ArialMT-100\"/>\r\n       <use x=\"1006.103516\" xlink:href=\"#ArialMT-101\"/>\r\n       <use x=\"1061.71875\" xlink:href=\"#ArialMT-114\"/>\r\n       <use x=\"1095.019531\" xlink:href=\"#ArialMT-32\"/>\r\n       <use x=\"1122.802734\" xlink:href=\"#ArialMT-116\"/>\r\n       <use x=\"1150.585938\" xlink:href=\"#ArialMT-104\"/>\r\n       <use x=\"1206.201172\" xlink:href=\"#ArialMT-101\"/>\r\n       <use x=\"1261.816406\" xlink:href=\"#ArialMT-32\"/>\r\n       <use x=\"1289.599609\" xlink:href=\"#ArialMT-97\"/>\r\n       <use x=\"1345.214844\" xlink:href=\"#ArialMT-117\"/>\r\n       <use x=\"1400.830078\" xlink:href=\"#ArialMT-103\"/>\r\n       <use x=\"1456.445312\" xlink:href=\"#ArialMT-109\"/>\r\n       <use x=\"1539.746094\" xlink:href=\"#ArialMT-101\"/>\r\n       <use x=\"1595.361328\" xlink:href=\"#ArialMT-110\"/>\r\n       <use x=\"1650.976562\" xlink:href=\"#ArialMT-116\"/>\r\n       <use x=\"1678.759766\" xlink:href=\"#ArialMT-101\"/>\r\n       <use x=\"1734.375\" xlink:href=\"#ArialMT-100\"/>\r\n       <use x=\"1789.990234\" xlink:href=\"#ArialMT-32\"/>\r\n       <use x=\"1817.773438\" xlink:href=\"#ArialMT-97\"/>\r\n       <use x=\"1873.388672\" xlink:href=\"#ArialMT-110\"/>\r\n       <use x=\"1929.003906\" xlink:href=\"#ArialMT-100\"/>\r\n       <use x=\"1984.619141\" xlink:href=\"#ArialMT-32\"/>\r\n       <use x=\"2012.402344\" xlink:href=\"#ArialMT-118\"/>\r\n       <use x=\"2062.402344\" xlink:href=\"#ArialMT-105\"/>\r\n       <use x=\"2084.619141\" xlink:href=\"#ArialMT-114\"/>\r\n       <use x=\"2117.919922\" xlink:href=\"#ArialMT-116\"/>\r\n       <use x=\"2145.703125\" xlink:href=\"#ArialMT-117\"/>\r\n       <use x=\"2201.318359\" xlink:href=\"#ArialMT-97\"/>\r\n       <use x=\"2256.933594\" xlink:href=\"#ArialMT-108\"/>\r\n       <use x=\"2279.150391\" xlink:href=\"#ArialMT-32\"/>\r\n       <use x=\"2306.933594\" xlink:href=\"#ArialMT-114\"/>\r\n       <use x=\"2340.234375\" xlink:href=\"#ArialMT-101\"/>\r\n       <use x=\"2395.849609\" xlink:href=\"#ArialMT-97\"/>\r\n       <use x=\"2451.464844\" xlink:href=\"#ArialMT-108\"/>\r\n       <use x=\"2473.681641\" xlink:href=\"#ArialMT-105\"/>\r\n       <use x=\"2495.898438\" xlink:href=\"#ArialMT-116\"/>\r\n       <use x=\"2523.681641\" xlink:href=\"#ArialMT-121\"/>\r\n       <use x=\"2573.681641\" xlink:href=\"#ArialMT-32\"/>\r\n       <use x=\"2601.464844\" xlink:href=\"#ArialMT-97\"/>\r\n       <use x=\"2657.080078\" xlink:href=\"#ArialMT-115\"/>\r\n       <use x=\"2707.080078\" xlink:href=\"#ArialMT-32\"/>\r\n       <use x=\"2734.863281\" xlink:href=\"#ArialMT-97\"/>\r\n       <use x=\"2790.478516\" xlink:href=\"#ArialMT-110\"/>\r\n       <use x=\"2846.09375\" xlink:href=\"#ArialMT-32\"/>\r\n       <use x=\"2873.876953\" xlink:href=\"#ArialMT-105\"/>\r\n       <use x=\"2896.09375\" xlink:href=\"#ArialMT-109\"/>\r\n       <use x=\"2979.394531\" xlink:href=\"#ArialMT-112\"/>\r\n       <use x=\"3035.009766\" xlink:href=\"#ArialMT-111\"/>\r\n       <use x=\"3090.625\" xlink:href=\"#ArialMT-114\"/>\r\n       <use x=\"3123.925781\" xlink:href=\"#ArialMT-116\"/>\r\n       <use x=\"3151.708984\" xlink:href=\"#ArialMT-97\"/>\r\n       <use x=\"3207.324219\" xlink:href=\"#ArialMT-110\"/>\r\n       <use x=\"3262.939453\" xlink:href=\"#ArialMT-116\"/>\r\n       <use x=\"3290.722656\" xlink:href=\"#ArialMT-32\"/>\r\n       <use x=\"3318.505859\" xlink:href=\"#ArialMT-97\"/>\r\n       <use x=\"3374.121094\" xlink:href=\"#ArialMT-114\"/>\r\n       <use x=\"3407.421875\" xlink:href=\"#ArialMT-101\"/>\r\n       <use x=\"3463.037109\" xlink:href=\"#ArialMT-97\"/>\r\n       <use x=\"3518.652344\" xlink:href=\"#ArialMT-32\"/>\r\n       <use x=\"3546.435547\" xlink:href=\"#ArialMT-32\"/>\r\n       <use x=\"3574.21875\" xlink:href=\"#ArialMT-102\"/>\r\n       <use x=\"3602.001953\" xlink:href=\"#ArialMT-111\"/>\r\n       <use x=\"3657.617188\" xlink:href=\"#ArialMT-114\"/>\r\n       <use x=\"3690.917969\" xlink:href=\"#ArialMT-32\"/>\r\n       <use x=\"3718.701172\" xlink:href=\"#ArialMT-116\"/>\r\n       <use x=\"3746.484375\" xlink:href=\"#ArialMT-104\"/>\r\n       <use x=\"3802.099609\" xlink:href=\"#ArialMT-101\"/>\r\n       <use x=\"3857.714844\" xlink:href=\"#ArialMT-105\"/>\r\n       <use x=\"3879.931641\" xlink:href=\"#ArialMT-114\"/>\r\n       <use x=\"3913.232422\" xlink:href=\"#ArialMT-32\"/>\r\n       <use x=\"3941.015625\" xlink:href=\"#ArialMT-100\"/>\r\n       <use x=\"3996.630859\" xlink:href=\"#ArialMT-101\"/>\r\n       <use x=\"4052.246094\" xlink:href=\"#ArialMT-118\"/>\r\n       <use x=\"4102.246094\" xlink:href=\"#ArialMT-101\"/>\r\n       <use x=\"4157.861328\" xlink:href=\"#ArialMT-108\"/>\r\n       <use x=\"4180.078125\" xlink:href=\"#ArialMT-111\"/>\r\n       <use x=\"4235.693359\" xlink:href=\"#ArialMT-112\"/>\r\n       <use x=\"4291.308594\" xlink:href=\"#ArialMT-109\"/>\r\n       <use x=\"4374.609375\" xlink:href=\"#ArialMT-101\"/>\r\n       <use x=\"4430.224609\" xlink:href=\"#ArialMT-110\"/>\r\n       <use x=\"4485.839844\" xlink:href=\"#ArialMT-116\"/>\r\n      </g>\r\n     </g>\r\n    </g>\r\n    <g id=\"ytick_10\">\r\n     <g id=\"text_19\">\r\n      <!-- enterprises that consider the IT security as an important area  for their development -->\r\n      <defs>\r\n       <path d=\"M 25.921875 0 \r\nL 25.921875 63.140625 \r\nL 2.34375 63.140625 \r\nL 2.34375 71.578125 \r\nL 59.078125 71.578125 \r\nL 59.078125 63.140625 \r\nL 35.40625 63.140625 \r\nL 35.40625 0 \r\nz\r\n\" id=\"ArialMT-84\"/>\r\n      </defs>\r\n      <g style=\"fill:#262626;\" transform=\"translate(114.707031 516.195727)scale(0.11 -0.11)\">\r\n       <use xlink:href=\"#ArialMT-101\"/>\r\n       <use x=\"55.615234\" xlink:href=\"#ArialMT-110\"/>\r\n       <use x=\"111.230469\" xlink:href=\"#ArialMT-116\"/>\r\n       <use x=\"139.013672\" xlink:href=\"#ArialMT-101\"/>\r\n       <use x=\"194.628906\" xlink:href=\"#ArialMT-114\"/>\r\n       <use x=\"227.929688\" xlink:href=\"#ArialMT-112\"/>\r\n       <use x=\"283.544922\" xlink:href=\"#ArialMT-114\"/>\r\n       <use x=\"316.845703\" xlink:href=\"#ArialMT-105\"/>\r\n       <use x=\"339.0625\" xlink:href=\"#ArialMT-115\"/>\r\n       <use x=\"389.0625\" xlink:href=\"#ArialMT-101\"/>\r\n       <use x=\"444.677734\" xlink:href=\"#ArialMT-115\"/>\r\n       <use x=\"494.677734\" xlink:href=\"#ArialMT-32\"/>\r\n       <use x=\"522.460938\" xlink:href=\"#ArialMT-116\"/>\r\n       <use x=\"550.244141\" xlink:href=\"#ArialMT-104\"/>\r\n       <use x=\"605.859375\" xlink:href=\"#ArialMT-97\"/>\r\n       <use x=\"661.474609\" xlink:href=\"#ArialMT-116\"/>\r\n       <use x=\"689.257812\" xlink:href=\"#ArialMT-32\"/>\r\n       <use x=\"717.041016\" xlink:href=\"#ArialMT-99\"/>\r\n       <use x=\"767.041016\" xlink:href=\"#ArialMT-111\"/>\r\n       <use x=\"822.65625\" xlink:href=\"#ArialMT-110\"/>\r\n       <use x=\"878.271484\" xlink:href=\"#ArialMT-115\"/>\r\n       <use x=\"928.271484\" xlink:href=\"#ArialMT-105\"/>\r\n       <use x=\"950.488281\" xlink:href=\"#ArialMT-100\"/>\r\n       <use x=\"1006.103516\" xlink:href=\"#ArialMT-101\"/>\r\n       <use x=\"1061.71875\" xlink:href=\"#ArialMT-114\"/>\r\n       <use x=\"1095.019531\" xlink:href=\"#ArialMT-32\"/>\r\n       <use x=\"1122.802734\" xlink:href=\"#ArialMT-116\"/>\r\n       <use x=\"1150.585938\" xlink:href=\"#ArialMT-104\"/>\r\n       <use x=\"1206.201172\" xlink:href=\"#ArialMT-101\"/>\r\n       <use x=\"1261.816406\" xlink:href=\"#ArialMT-32\"/>\r\n       <use x=\"1289.599609\" xlink:href=\"#ArialMT-73\"/>\r\n       <use x=\"1317.382812\" xlink:href=\"#ArialMT-84\"/>\r\n       <use x=\"1376.716797\" xlink:href=\"#ArialMT-32\"/>\r\n       <use x=\"1404.5\" xlink:href=\"#ArialMT-115\"/>\r\n       <use x=\"1454.5\" xlink:href=\"#ArialMT-101\"/>\r\n       <use x=\"1510.115234\" xlink:href=\"#ArialMT-99\"/>\r\n       <use x=\"1560.115234\" xlink:href=\"#ArialMT-117\"/>\r\n       <use x=\"1615.730469\" xlink:href=\"#ArialMT-114\"/>\r\n       <use x=\"1649.03125\" xlink:href=\"#ArialMT-105\"/>\r\n       <use x=\"1671.248047\" xlink:href=\"#ArialMT-116\"/>\r\n       <use x=\"1699.03125\" xlink:href=\"#ArialMT-121\"/>\r\n       <use x=\"1749.03125\" xlink:href=\"#ArialMT-32\"/>\r\n       <use x=\"1776.814453\" xlink:href=\"#ArialMT-97\"/>\r\n       <use x=\"1832.429688\" xlink:href=\"#ArialMT-115\"/>\r\n       <use x=\"1882.429688\" xlink:href=\"#ArialMT-32\"/>\r\n       <use x=\"1910.212891\" xlink:href=\"#ArialMT-97\"/>\r\n       <use x=\"1965.828125\" xlink:href=\"#ArialMT-110\"/>\r\n       <use x=\"2021.443359\" xlink:href=\"#ArialMT-32\"/>\r\n       <use x=\"2049.226562\" xlink:href=\"#ArialMT-105\"/>\r\n       <use x=\"2071.443359\" xlink:href=\"#ArialMT-109\"/>\r\n       <use x=\"2154.744141\" xlink:href=\"#ArialMT-112\"/>\r\n       <use x=\"2210.359375\" xlink:href=\"#ArialMT-111\"/>\r\n       <use x=\"2265.974609\" xlink:href=\"#ArialMT-114\"/>\r\n       <use x=\"2299.275391\" xlink:href=\"#ArialMT-116\"/>\r\n       <use x=\"2327.058594\" xlink:href=\"#ArialMT-97\"/>\r\n       <use x=\"2382.673828\" xlink:href=\"#ArialMT-110\"/>\r\n       <use x=\"2438.289062\" xlink:href=\"#ArialMT-116\"/>\r\n       <use x=\"2466.072266\" xlink:href=\"#ArialMT-32\"/>\r\n       <use x=\"2493.855469\" xlink:href=\"#ArialMT-97\"/>\r\n       <use x=\"2549.470703\" xlink:href=\"#ArialMT-114\"/>\r\n       <use x=\"2582.771484\" xlink:href=\"#ArialMT-101\"/>\r\n       <use x=\"2638.386719\" xlink:href=\"#ArialMT-97\"/>\r\n       <use x=\"2694.001953\" xlink:href=\"#ArialMT-32\"/>\r\n       <use x=\"2721.785156\" xlink:href=\"#ArialMT-32\"/>\r\n       <use x=\"2749.568359\" xlink:href=\"#ArialMT-102\"/>\r\n       <use x=\"2777.351562\" xlink:href=\"#ArialMT-111\"/>\r\n       <use x=\"2832.966797\" xlink:href=\"#ArialMT-114\"/>\r\n       <use x=\"2866.267578\" xlink:href=\"#ArialMT-32\"/>\r\n       <use x=\"2894.050781\" xlink:href=\"#ArialMT-116\"/>\r\n       <use x=\"2921.833984\" xlink:href=\"#ArialMT-104\"/>\r\n       <use x=\"2977.449219\" xlink:href=\"#ArialMT-101\"/>\r\n       <use x=\"3033.064453\" xlink:href=\"#ArialMT-105\"/>\r\n       <use x=\"3055.28125\" xlink:href=\"#ArialMT-114\"/>\r\n       <use x=\"3088.582031\" xlink:href=\"#ArialMT-32\"/>\r\n       <use x=\"3116.365234\" xlink:href=\"#ArialMT-100\"/>\r\n       <use x=\"3171.980469\" xlink:href=\"#ArialMT-101\"/>\r\n       <use x=\"3227.595703\" xlink:href=\"#ArialMT-118\"/>\r\n       <use x=\"3277.595703\" xlink:href=\"#ArialMT-101\"/>\r\n       <use x=\"3333.210938\" xlink:href=\"#ArialMT-108\"/>\r\n       <use x=\"3355.427734\" xlink:href=\"#ArialMT-111\"/>\r\n       <use x=\"3411.042969\" xlink:href=\"#ArialMT-112\"/>\r\n       <use x=\"3466.658203\" xlink:href=\"#ArialMT-109\"/>\r\n       <use x=\"3549.958984\" xlink:href=\"#ArialMT-101\"/>\r\n       <use x=\"3605.574219\" xlink:href=\"#ArialMT-110\"/>\r\n       <use x=\"3661.189453\" xlink:href=\"#ArialMT-116\"/>\r\n      </g>\r\n     </g>\r\n    </g>\r\n    <g id=\"ytick_11\">\r\n     <g id=\"text_20\">\r\n      <!-- enterprises that consider other important areas for their development -->\r\n      <g style=\"fill:#262626;\" transform=\"translate(186.036875 567.341881)scale(0.11 -0.11)\">\r\n       <use xlink:href=\"#ArialMT-101\"/>\r\n       <use x=\"55.615234\" xlink:href=\"#ArialMT-110\"/>\r\n       <use x=\"111.230469\" xlink:href=\"#ArialMT-116\"/>\r\n       <use x=\"139.013672\" xlink:href=\"#ArialMT-101\"/>\r\n       <use x=\"194.628906\" xlink:href=\"#ArialMT-114\"/>\r\n       <use x=\"227.929688\" xlink:href=\"#ArialMT-112\"/>\r\n       <use x=\"283.544922\" xlink:href=\"#ArialMT-114\"/>\r\n       <use x=\"316.845703\" xlink:href=\"#ArialMT-105\"/>\r\n       <use x=\"339.0625\" xlink:href=\"#ArialMT-115\"/>\r\n       <use x=\"389.0625\" xlink:href=\"#ArialMT-101\"/>\r\n       <use x=\"444.677734\" xlink:href=\"#ArialMT-115\"/>\r\n       <use x=\"494.677734\" xlink:href=\"#ArialMT-32\"/>\r\n       <use x=\"522.460938\" xlink:href=\"#ArialMT-116\"/>\r\n       <use x=\"550.244141\" xlink:href=\"#ArialMT-104\"/>\r\n       <use x=\"605.859375\" xlink:href=\"#ArialMT-97\"/>\r\n       <use x=\"661.474609\" xlink:href=\"#ArialMT-116\"/>\r\n       <use x=\"689.257812\" xlink:href=\"#ArialMT-32\"/>\r\n       <use x=\"717.041016\" xlink:href=\"#ArialMT-99\"/>\r\n       <use x=\"767.041016\" xlink:href=\"#ArialMT-111\"/>\r\n       <use x=\"822.65625\" xlink:href=\"#ArialMT-110\"/>\r\n       <use x=\"878.271484\" xlink:href=\"#ArialMT-115\"/>\r\n       <use x=\"928.271484\" xlink:href=\"#ArialMT-105\"/>\r\n       <use x=\"950.488281\" xlink:href=\"#ArialMT-100\"/>\r\n       <use x=\"1006.103516\" xlink:href=\"#ArialMT-101\"/>\r\n       <use x=\"1061.71875\" xlink:href=\"#ArialMT-114\"/>\r\n       <use x=\"1095.019531\" xlink:href=\"#ArialMT-32\"/>\r\n       <use x=\"1122.802734\" xlink:href=\"#ArialMT-111\"/>\r\n       <use x=\"1178.417969\" xlink:href=\"#ArialMT-116\"/>\r\n       <use x=\"1206.201172\" xlink:href=\"#ArialMT-104\"/>\r\n       <use x=\"1261.816406\" xlink:href=\"#ArialMT-101\"/>\r\n       <use x=\"1317.431641\" xlink:href=\"#ArialMT-114\"/>\r\n       <use x=\"1350.732422\" xlink:href=\"#ArialMT-32\"/>\r\n       <use x=\"1378.515625\" xlink:href=\"#ArialMT-105\"/>\r\n       <use x=\"1400.732422\" xlink:href=\"#ArialMT-109\"/>\r\n       <use x=\"1484.033203\" xlink:href=\"#ArialMT-112\"/>\r\n       <use x=\"1539.648438\" xlink:href=\"#ArialMT-111\"/>\r\n       <use x=\"1595.263672\" xlink:href=\"#ArialMT-114\"/>\r\n       <use x=\"1628.564453\" xlink:href=\"#ArialMT-116\"/>\r\n       <use x=\"1656.347656\" xlink:href=\"#ArialMT-97\"/>\r\n       <use x=\"1711.962891\" xlink:href=\"#ArialMT-110\"/>\r\n       <use x=\"1767.578125\" xlink:href=\"#ArialMT-116\"/>\r\n       <use x=\"1795.361328\" xlink:href=\"#ArialMT-32\"/>\r\n       <use x=\"1823.144531\" xlink:href=\"#ArialMT-97\"/>\r\n       <use x=\"1878.759766\" xlink:href=\"#ArialMT-114\"/>\r\n       <use x=\"1912.060547\" xlink:href=\"#ArialMT-101\"/>\r\n       <use x=\"1967.675781\" xlink:href=\"#ArialMT-97\"/>\r\n       <use x=\"2023.291016\" xlink:href=\"#ArialMT-115\"/>\r\n       <use x=\"2073.291016\" xlink:href=\"#ArialMT-32\"/>\r\n       <use x=\"2101.074219\" xlink:href=\"#ArialMT-102\"/>\r\n       <use x=\"2128.857422\" xlink:href=\"#ArialMT-111\"/>\r\n       <use x=\"2184.472656\" xlink:href=\"#ArialMT-114\"/>\r\n       <use x=\"2217.773438\" xlink:href=\"#ArialMT-32\"/>\r\n       <use x=\"2245.556641\" xlink:href=\"#ArialMT-116\"/>\r\n       <use x=\"2273.339844\" xlink:href=\"#ArialMT-104\"/>\r\n       <use x=\"2328.955078\" xlink:href=\"#ArialMT-101\"/>\r\n       <use x=\"2384.570312\" xlink:href=\"#ArialMT-105\"/>\r\n       <use x=\"2406.787109\" xlink:href=\"#ArialMT-114\"/>\r\n       <use x=\"2440.087891\" xlink:href=\"#ArialMT-32\"/>\r\n       <use x=\"2467.871094\" xlink:href=\"#ArialMT-100\"/>\r\n       <use x=\"2523.486328\" xlink:href=\"#ArialMT-101\"/>\r\n       <use x=\"2579.101562\" xlink:href=\"#ArialMT-118\"/>\r\n       <use x=\"2629.101562\" xlink:href=\"#ArialMT-101\"/>\r\n       <use x=\"2684.716797\" xlink:href=\"#ArialMT-108\"/>\r\n       <use x=\"2706.933594\" xlink:href=\"#ArialMT-111\"/>\r\n       <use x=\"2762.548828\" xlink:href=\"#ArialMT-112\"/>\r\n       <use x=\"2818.164062\" xlink:href=\"#ArialMT-109\"/>\r\n       <use x=\"2901.464844\" xlink:href=\"#ArialMT-101\"/>\r\n       <use x=\"2957.080078\" xlink:href=\"#ArialMT-110\"/>\r\n       <use x=\"3012.695312\" xlink:href=\"#ArialMT-116\"/>\r\n      </g>\r\n     </g>\r\n    </g>\r\n    <g id=\"ytick_12\">\r\n     <g id=\"text_21\">\r\n      <!-- enterprises that consider technological areas not relevant to their development -->\r\n      <g style=\"fill:#262626;\" transform=\"translate(138.934531 618.421004)scale(0.11 -0.11)\">\r\n       <use xlink:href=\"#ArialMT-101\"/>\r\n       <use x=\"55.615234\" xlink:href=\"#ArialMT-110\"/>\r\n       <use x=\"111.230469\" xlink:href=\"#ArialMT-116\"/>\r\n       <use x=\"139.013672\" xlink:href=\"#ArialMT-101\"/>\r\n       <use x=\"194.628906\" xlink:href=\"#ArialMT-114\"/>\r\n       <use x=\"227.929688\" xlink:href=\"#ArialMT-112\"/>\r\n       <use x=\"283.544922\" xlink:href=\"#ArialMT-114\"/>\r\n       <use x=\"316.845703\" xlink:href=\"#ArialMT-105\"/>\r\n       <use x=\"339.0625\" xlink:href=\"#ArialMT-115\"/>\r\n       <use x=\"389.0625\" xlink:href=\"#ArialMT-101\"/>\r\n       <use x=\"444.677734\" xlink:href=\"#ArialMT-115\"/>\r\n       <use x=\"494.677734\" xlink:href=\"#ArialMT-32\"/>\r\n       <use x=\"522.460938\" xlink:href=\"#ArialMT-116\"/>\r\n       <use x=\"550.244141\" xlink:href=\"#ArialMT-104\"/>\r\n       <use x=\"605.859375\" xlink:href=\"#ArialMT-97\"/>\r\n       <use x=\"661.474609\" xlink:href=\"#ArialMT-116\"/>\r\n       <use x=\"689.257812\" xlink:href=\"#ArialMT-32\"/>\r\n       <use x=\"717.041016\" xlink:href=\"#ArialMT-99\"/>\r\n       <use x=\"767.041016\" xlink:href=\"#ArialMT-111\"/>\r\n       <use x=\"822.65625\" xlink:href=\"#ArialMT-110\"/>\r\n       <use x=\"878.271484\" xlink:href=\"#ArialMT-115\"/>\r\n       <use x=\"928.271484\" xlink:href=\"#ArialMT-105\"/>\r\n       <use x=\"950.488281\" xlink:href=\"#ArialMT-100\"/>\r\n       <use x=\"1006.103516\" xlink:href=\"#ArialMT-101\"/>\r\n       <use x=\"1061.71875\" xlink:href=\"#ArialMT-114\"/>\r\n       <use x=\"1095.019531\" xlink:href=\"#ArialMT-32\"/>\r\n       <use x=\"1122.802734\" xlink:href=\"#ArialMT-116\"/>\r\n       <use x=\"1150.585938\" xlink:href=\"#ArialMT-101\"/>\r\n       <use x=\"1206.201172\" xlink:href=\"#ArialMT-99\"/>\r\n       <use x=\"1256.201172\" xlink:href=\"#ArialMT-104\"/>\r\n       <use x=\"1311.816406\" xlink:href=\"#ArialMT-110\"/>\r\n       <use x=\"1367.431641\" xlink:href=\"#ArialMT-111\"/>\r\n       <use x=\"1423.046875\" xlink:href=\"#ArialMT-108\"/>\r\n       <use x=\"1445.263672\" xlink:href=\"#ArialMT-111\"/>\r\n       <use x=\"1500.878906\" xlink:href=\"#ArialMT-103\"/>\r\n       <use x=\"1556.494141\" xlink:href=\"#ArialMT-105\"/>\r\n       <use x=\"1578.710938\" xlink:href=\"#ArialMT-99\"/>\r\n       <use x=\"1628.710938\" xlink:href=\"#ArialMT-97\"/>\r\n       <use x=\"1684.326172\" xlink:href=\"#ArialMT-108\"/>\r\n       <use x=\"1706.542969\" xlink:href=\"#ArialMT-32\"/>\r\n       <use x=\"1734.326172\" xlink:href=\"#ArialMT-97\"/>\r\n       <use x=\"1789.941406\" xlink:href=\"#ArialMT-114\"/>\r\n       <use x=\"1823.242188\" xlink:href=\"#ArialMT-101\"/>\r\n       <use x=\"1878.857422\" xlink:href=\"#ArialMT-97\"/>\r\n       <use x=\"1934.472656\" xlink:href=\"#ArialMT-115\"/>\r\n       <use x=\"1984.472656\" xlink:href=\"#ArialMT-32\"/>\r\n       <use x=\"2012.255859\" xlink:href=\"#ArialMT-110\"/>\r\n       <use x=\"2067.871094\" xlink:href=\"#ArialMT-111\"/>\r\n       <use x=\"2123.486328\" xlink:href=\"#ArialMT-116\"/>\r\n       <use x=\"2151.269531\" xlink:href=\"#ArialMT-32\"/>\r\n       <use x=\"2179.052734\" xlink:href=\"#ArialMT-114\"/>\r\n       <use x=\"2212.353516\" xlink:href=\"#ArialMT-101\"/>\r\n       <use x=\"2267.96875\" xlink:href=\"#ArialMT-108\"/>\r\n       <use x=\"2290.185547\" xlink:href=\"#ArialMT-101\"/>\r\n       <use x=\"2345.800781\" xlink:href=\"#ArialMT-118\"/>\r\n       <use x=\"2395.800781\" xlink:href=\"#ArialMT-97\"/>\r\n       <use x=\"2451.416016\" xlink:href=\"#ArialMT-110\"/>\r\n       <use x=\"2507.03125\" xlink:href=\"#ArialMT-116\"/>\r\n       <use x=\"2534.814453\" xlink:href=\"#ArialMT-32\"/>\r\n       <use x=\"2562.597656\" xlink:href=\"#ArialMT-116\"/>\r\n       <use x=\"2590.380859\" xlink:href=\"#ArialMT-111\"/>\r\n       <use x=\"2645.996094\" xlink:href=\"#ArialMT-32\"/>\r\n       <use x=\"2673.779297\" xlink:href=\"#ArialMT-116\"/>\r\n       <use x=\"2701.5625\" xlink:href=\"#ArialMT-104\"/>\r\n       <use x=\"2757.177734\" xlink:href=\"#ArialMT-101\"/>\r\n       <use x=\"2812.792969\" xlink:href=\"#ArialMT-105\"/>\r\n       <use x=\"2835.009766\" xlink:href=\"#ArialMT-114\"/>\r\n       <use x=\"2868.310547\" xlink:href=\"#ArialMT-32\"/>\r\n       <use x=\"2896.09375\" xlink:href=\"#ArialMT-100\"/>\r\n       <use x=\"2951.708984\" xlink:href=\"#ArialMT-101\"/>\r\n       <use x=\"3007.324219\" xlink:href=\"#ArialMT-118\"/>\r\n       <use x=\"3057.324219\" xlink:href=\"#ArialMT-101\"/>\r\n       <use x=\"3112.939453\" xlink:href=\"#ArialMT-108\"/>\r\n       <use x=\"3135.15625\" xlink:href=\"#ArialMT-111\"/>\r\n       <use x=\"3190.771484\" xlink:href=\"#ArialMT-112\"/>\r\n       <use x=\"3246.386719\" xlink:href=\"#ArialMT-109\"/>\r\n       <use x=\"3329.6875\" xlink:href=\"#ArialMT-101\"/>\r\n       <use x=\"3385.302734\" xlink:href=\"#ArialMT-110\"/>\r\n       <use x=\"3440.917969\" xlink:href=\"#ArialMT-116\"/>\r\n      </g>\r\n     </g>\r\n    </g>\r\n    <g id=\"ytick_13\">\r\n     <g id=\"text_22\">\r\n      <!-- enterprises that do not know how to respond -->\r\n      <defs>\r\n       <path d=\"M 6.640625 0 \r\nL 6.640625 71.578125 \r\nL 15.4375 71.578125 \r\nL 15.4375 30.765625 \r\nL 36.234375 51.859375 \r\nL 47.609375 51.859375 \r\nL 27.78125 32.625 \r\nL 49.609375 0 \r\nL 38.765625 0 \r\nL 21.625 26.515625 \r\nL 15.4375 20.5625 \r\nL 15.4375 0 \r\nz\r\n\" id=\"ArialMT-107\"/>\r\n      </defs>\r\n      <g style=\"fill:#262626;\" transform=\"translate(304.013594 669.567157)scale(0.11 -0.11)\">\r\n       <use xlink:href=\"#ArialMT-101\"/>\r\n       <use x=\"55.615234\" xlink:href=\"#ArialMT-110\"/>\r\n       <use x=\"111.230469\" xlink:href=\"#ArialMT-116\"/>\r\n       <use x=\"139.013672\" xlink:href=\"#ArialMT-101\"/>\r\n       <use x=\"194.628906\" xlink:href=\"#ArialMT-114\"/>\r\n       <use x=\"227.929688\" xlink:href=\"#ArialMT-112\"/>\r\n       <use x=\"283.544922\" xlink:href=\"#ArialMT-114\"/>\r\n       <use x=\"316.845703\" xlink:href=\"#ArialMT-105\"/>\r\n       <use x=\"339.0625\" xlink:href=\"#ArialMT-115\"/>\r\n       <use x=\"389.0625\" xlink:href=\"#ArialMT-101\"/>\r\n       <use x=\"444.677734\" xlink:href=\"#ArialMT-115\"/>\r\n       <use x=\"494.677734\" xlink:href=\"#ArialMT-32\"/>\r\n       <use x=\"522.460938\" xlink:href=\"#ArialMT-116\"/>\r\n       <use x=\"550.244141\" xlink:href=\"#ArialMT-104\"/>\r\n       <use x=\"605.859375\" xlink:href=\"#ArialMT-97\"/>\r\n       <use x=\"661.474609\" xlink:href=\"#ArialMT-116\"/>\r\n       <use x=\"689.257812\" xlink:href=\"#ArialMT-32\"/>\r\n       <use x=\"717.041016\" xlink:href=\"#ArialMT-100\"/>\r\n       <use x=\"772.65625\" xlink:href=\"#ArialMT-111\"/>\r\n       <use x=\"828.271484\" xlink:href=\"#ArialMT-32\"/>\r\n       <use x=\"856.054688\" xlink:href=\"#ArialMT-110\"/>\r\n       <use x=\"911.669922\" xlink:href=\"#ArialMT-111\"/>\r\n       <use x=\"967.285156\" xlink:href=\"#ArialMT-116\"/>\r\n       <use x=\"995.068359\" xlink:href=\"#ArialMT-32\"/>\r\n       <use x=\"1022.851562\" xlink:href=\"#ArialMT-107\"/>\r\n       <use x=\"1072.851562\" xlink:href=\"#ArialMT-110\"/>\r\n       <use x=\"1128.466797\" xlink:href=\"#ArialMT-111\"/>\r\n       <use x=\"1184.082031\" xlink:href=\"#ArialMT-119\"/>\r\n       <use x=\"1256.298828\" xlink:href=\"#ArialMT-32\"/>\r\n       <use x=\"1284.082031\" xlink:href=\"#ArialMT-104\"/>\r\n       <use x=\"1339.697266\" xlink:href=\"#ArialMT-111\"/>\r\n       <use x=\"1395.3125\" xlink:href=\"#ArialMT-119\"/>\r\n       <use x=\"1467.529297\" xlink:href=\"#ArialMT-32\"/>\r\n       <use x=\"1495.3125\" xlink:href=\"#ArialMT-116\"/>\r\n       <use x=\"1523.095703\" xlink:href=\"#ArialMT-111\"/>\r\n       <use x=\"1578.710938\" xlink:href=\"#ArialMT-32\"/>\r\n       <use x=\"1606.494141\" xlink:href=\"#ArialMT-114\"/>\r\n       <use x=\"1639.794922\" xlink:href=\"#ArialMT-101\"/>\r\n       <use x=\"1695.410156\" xlink:href=\"#ArialMT-115\"/>\r\n       <use x=\"1745.410156\" xlink:href=\"#ArialMT-112\"/>\r\n       <use x=\"1801.025391\" xlink:href=\"#ArialMT-111\"/>\r\n       <use x=\"1856.640625\" xlink:href=\"#ArialMT-110\"/>\r\n       <use x=\"1912.255859\" xlink:href=\"#ArialMT-100\"/>\r\n      </g>\r\n     </g>\r\n    </g>\r\n    <g id=\"text_23\">\r\n     <!-- Classes -->\r\n     <defs>\r\n      <path d=\"M 58.796875 25.09375 \r\nL 68.265625 22.703125 \r\nQ 65.28125 11.03125 57.546875 4.90625 \r\nQ 49.8125 -1.21875 38.625 -1.21875 \r\nQ 27.046875 -1.21875 19.796875 3.484375 \r\nQ 12.546875 8.203125 8.765625 17.140625 \r\nQ 4.984375 26.078125 4.984375 36.328125 \r\nQ 4.984375 47.515625 9.25 55.828125 \r\nQ 13.53125 64.15625 21.40625 68.46875 \r\nQ 29.296875 72.796875 38.765625 72.796875 \r\nQ 49.515625 72.796875 56.828125 67.328125 \r\nQ 64.15625 61.859375 67.046875 51.953125 \r\nL 57.71875 49.75 \r\nQ 55.21875 57.5625 50.484375 61.125 \r\nQ 45.75 64.703125 38.578125 64.703125 \r\nQ 30.328125 64.703125 24.78125 60.734375 \r\nQ 19.234375 56.78125 16.984375 50.109375 \r\nQ 14.75 43.453125 14.75 36.375 \r\nQ 14.75 27.25 17.40625 20.4375 \r\nQ 20.0625 13.625 25.671875 10.25 \r\nQ 31.296875 6.890625 37.84375 6.890625 \r\nQ 45.796875 6.890625 51.3125 11.46875 \r\nQ 56.84375 16.0625 58.796875 25.09375 \r\nz\r\n\" id=\"ArialMT-67\"/>\r\n     </defs>\r\n     <g style=\"fill:#262626;\" transform=\"translate(17.220938 383.649375)rotate(-90)scale(0.14 -0.14)\">\r\n      <use xlink:href=\"#ArialMT-67\"/>\r\n      <use x=\"72.216797\" xlink:href=\"#ArialMT-108\"/>\r\n      <use x=\"94.433594\" xlink:href=\"#ArialMT-97\"/>\r\n      <use x=\"150.048828\" xlink:href=\"#ArialMT-115\"/>\r\n      <use x=\"200.048828\" xlink:href=\"#ArialMT-115\"/>\r\n      <use x=\"250.048828\" xlink:href=\"#ArialMT-101\"/>\r\n      <use x=\"305.664062\" xlink:href=\"#ArialMT-115\"/>\r\n     </g>\r\n    </g>\r\n   </g>\r\n   <g id=\"patch_3\">\r\n    <path clip-path=\"url(#pa90b7fbf98)\" d=\"M 529.962656 31.418053 \r\nL 670.391539 31.418053 \r\nL 670.391539 41.647284 \r\nL 529.962656 41.647284 \r\nz\r\n\" style=\"fill:#5875a4;stroke:#ffffff;stroke-linejoin:miter;\"/>\r\n   </g>\r\n   <g id=\"patch_4\">\r\n    <path clip-path=\"url(#pa90b7fbf98)\" d=\"M 529.962656 82.564207 \r\nL 605.773483 82.564207 \r\nL 605.773483 92.793437 \r\nL 529.962656 92.793437 \r\nz\r\n\" style=\"fill:#5875a4;stroke:#ffffff;stroke-linejoin:miter;\"/>\r\n   </g>\r\n   <g id=\"patch_5\">\r\n    <path clip-path=\"url(#pa90b7fbf98)\" d=\"M 529.962656 133.710361 \r\nL 640.04413 133.710361 \r\nL 640.04413 143.939591 \r\nL 529.962656 143.939591 \r\nz\r\n\" style=\"fill:#5875a4;stroke:#ffffff;stroke-linejoin:miter;\"/>\r\n   </g>\r\n   <g id=\"patch_6\">\r\n    <path clip-path=\"url(#pa90b7fbf98)\" d=\"M 529.962656 184.856514 \r\nL 758.779808 184.856514 \r\nL 758.779808 195.085745 \r\nL 529.962656 195.085745 \r\nz\r\n\" style=\"fill:#5875a4;stroke:#ffffff;stroke-linejoin:miter;\"/>\r\n   </g>\r\n   <g id=\"patch_7\">\r\n    <path clip-path=\"url(#pa90b7fbf98)\" d=\"M 529.962656 236.002668 \r\nL 865.51499 236.002668 \r\nL 865.51499 246.231899 \r\nL 529.962656 246.231899 \r\nz\r\n\" style=\"fill:#5875a4;stroke:#ffffff;stroke-linejoin:miter;\"/>\r\n   </g>\r\n   <g id=\"patch_8\">\r\n    <path clip-path=\"url(#pa90b7fbf98)\" d=\"M 529.962656 287.148822 \r\nL 750.587162 287.148822 \r\nL 750.587162 297.378053 \r\nL 529.962656 297.378053 \r\nz\r\n\" style=\"fill:#5875a4;stroke:#ffffff;stroke-linejoin:miter;\"/>\r\n   </g>\r\n   <g id=\"patch_9\">\r\n    <path clip-path=\"url(#pa90b7fbf98)\" d=\"M 529.962656 338.294976 \r\nL 776.549773 338.294976 \r\nL 776.549773 348.524207 \r\nL 529.962656 348.524207 \r\nz\r\n\" style=\"fill:#5875a4;stroke:#ffffff;stroke-linejoin:miter;\"/>\r\n   </g>\r\n   <g id=\"patch_10\">\r\n    <path clip-path=\"url(#pa90b7fbf98)\" d=\"M 529.962656 389.44113 \r\nL 628.389802 389.44113 \r\nL 628.389802 399.670361 \r\nL 529.962656 399.670361 \r\nz\r\n\" style=\"fill:#5875a4;stroke:#ffffff;stroke-linejoin:miter;\"/>\r\n   </g>\r\n   <g id=\"patch_11\">\r\n    <path clip-path=\"url(#pa90b7fbf98)\" d=\"M 529.962656 440.587284 \r\nL 558.579224 440.587284 \r\nL 558.579224 450.816514 \r\nL 529.962656 450.816514 \r\nz\r\n\" style=\"fill:#5875a4;stroke:#ffffff;stroke-linejoin:miter;\"/>\r\n   </g>\r\n   <g id=\"patch_12\">\r\n    <path clip-path=\"url(#pa90b7fbf98)\" d=\"M 529.962656 491.733438 \r\nL 889.169814 491.733438 \r\nL 889.169814 501.962668 \r\nL 529.962656 501.962668 \r\nz\r\n\" style=\"fill:#5875a4;stroke:#ffffff;stroke-linejoin:miter;\"/>\r\n   </g>\r\n   <g id=\"patch_13\">\r\n    <path clip-path=\"url(#pa90b7fbf98)\" d=\"M 529.962656 542.879591 \r\nL 608.542828 542.879591 \r\nL 608.542828 553.108822 \r\nL 529.962656 553.108822 \r\nz\r\n\" style=\"fill:#5875a4;stroke:#ffffff;stroke-linejoin:miter;\"/>\r\n   </g>\r\n   <g id=\"patch_14\">\r\n    <path clip-path=\"url(#pa90b7fbf98)\" d=\"M 529.962656 594.025745 \r\nL 625.505068 594.025745 \r\nL 625.505068 604.254976 \r\nL 529.962656 604.254976 \r\nz\r\n\" style=\"fill:#5875a4;stroke:#ffffff;stroke-linejoin:miter;\"/>\r\n   </g>\r\n   <g id=\"patch_15\">\r\n    <path clip-path=\"url(#pa90b7fbf98)\" d=\"M 529.962656 645.171899 \r\nL 865.51499 645.171899 \r\nL 865.51499 655.40113 \r\nL 529.962656 655.40113 \r\nz\r\n\" style=\"fill:#5875a4;stroke:#ffffff;stroke-linejoin:miter;\"/>\r\n   </g>\r\n   <g id=\"patch_16\">\r\n    <path clip-path=\"url(#pa90b7fbf98)\" d=\"M 529.962656 41.647284 \r\nL 672.237769 41.647284 \r\nL 672.237769 51.876514 \r\nL 529.962656 51.876514 \r\nz\r\n\" style=\"fill:#cc8963;stroke:#ffffff;stroke-linejoin:miter;\"/>\r\n   </g>\r\n   <g id=\"patch_17\">\r\n    <path clip-path=\"url(#pa90b7fbf98)\" d=\"M 529.962656 92.793438 \r\nL 615.004634 92.793438 \r\nL 615.004634 103.022668 \r\nL 529.962656 103.022668 \r\nz\r\n\" style=\"fill:#cc8963;stroke:#ffffff;stroke-linejoin:miter;\"/>\r\n   </g>\r\n   <g id=\"patch_18\">\r\n    <path clip-path=\"url(#pa90b7fbf98)\" d=\"M 529.962656 143.939591 \r\nL 638.890236 143.939591 \r\nL 638.890236 154.168822 \r\nL 529.962656 154.168822 \r\nz\r\n\" style=\"fill:#cc8963;stroke:#ffffff;stroke-linejoin:miter;\"/>\r\n   </g>\r\n   <g id=\"patch_19\">\r\n    <path clip-path=\"url(#pa90b7fbf98)\" d=\"M 529.962656 195.085745 \r\nL 760.164481 195.085745 \r\nL 760.164481 205.314976 \r\nL 529.962656 205.314976 \r\nz\r\n\" style=\"fill:#cc8963;stroke:#ffffff;stroke-linejoin:miter;\"/>\r\n   </g>\r\n   <g id=\"patch_20\">\r\n    <path clip-path=\"url(#pa90b7fbf98)\" d=\"M 529.962656 246.231899 \r\nL 883.631123 246.231899 \r\nL 883.631123 256.46113 \r\nL 529.962656 256.46113 \r\nz\r\n\" style=\"fill:#cc8963;stroke:#ffffff;stroke-linejoin:miter;\"/>\r\n   </g>\r\n   <g id=\"patch_21\">\r\n    <path clip-path=\"url(#pa90b7fbf98)\" d=\"M 529.962656 297.378053 \r\nL 820.628519 297.378053 \r\nL 820.628519 307.607284 \r\nL 529.962656 307.607284 \r\nz\r\n\" style=\"fill:#cc8963;stroke:#ffffff;stroke-linejoin:miter;\"/>\r\n   </g>\r\n   <g id=\"patch_22\">\r\n    <path clip-path=\"url(#pa90b7fbf98)\" d=\"M 529.962656 348.524207 \r\nL 828.590386 348.524207 \r\nL 828.590386 358.753438 \r\nL 529.962656 358.753438 \r\nz\r\n\" style=\"fill:#cc8963;stroke:#ffffff;stroke-linejoin:miter;\"/>\r\n   </g>\r\n   <g id=\"patch_23\">\r\n    <path clip-path=\"url(#pa90b7fbf98)\" d=\"M 529.962656 399.670361 \r\nL 617.427811 399.670361 \r\nL 617.427811 409.899591 \r\nL 529.962656 409.899591 \r\nz\r\n\" style=\"fill:#cc8963;stroke:#ffffff;stroke-linejoin:miter;\"/>\r\n   </g>\r\n   <g id=\"patch_24\">\r\n    <path clip-path=\"url(#pa90b7fbf98)\" d=\"M 529.962656 450.816514 \r\nL 562.156295 450.816514 \r\nL 562.156295 461.045745 \r\nL 529.962656 461.045745 \r\nz\r\n\" style=\"fill:#cc8963;stroke:#ffffff;stroke-linejoin:miter;\"/>\r\n   </g>\r\n   <g id=\"patch_25\">\r\n    <path clip-path=\"url(#pa90b7fbf98)\" d=\"M 529.962656 501.962668 \r\nL 920.786506 501.962668 \r\nL 920.786506 512.191899 \r\nL 529.962656 512.191899 \r\nz\r\n\" style=\"fill:#cc8963;stroke:#ffffff;stroke-linejoin:miter;\"/>\r\n   </g>\r\n   <g id=\"patch_26\">\r\n    <path clip-path=\"url(#pa90b7fbf98)\" d=\"M 529.962656 553.108822 \r\nL 601.504075 553.108822 \r\nL 601.504075 563.338053 \r\nL 529.962656 563.338053 \r\nz\r\n\" style=\"fill:#cc8963;stroke:#ffffff;stroke-linejoin:miter;\"/>\r\n   </g>\r\n   <g id=\"patch_27\">\r\n    <path clip-path=\"url(#pa90b7fbf98)\" d=\"M 529.962656 604.254976 \r\nL 626.543572 604.254976 \r\nL 626.543572 614.484207 \r\nL 529.962656 614.484207 \r\nz\r\n\" style=\"fill:#cc8963;stroke:#ffffff;stroke-linejoin:miter;\"/>\r\n   </g>\r\n   <g id=\"patch_28\">\r\n    <path clip-path=\"url(#pa90b7fbf98)\" d=\"M 529.962656 655.40113 \r\nL 824.0902 655.40113 \r\nL 824.0902 665.630361 \r\nL 529.962656 665.630361 \r\nz\r\n\" style=\"fill:#cc8963;stroke:#ffffff;stroke-linejoin:miter;\"/>\r\n   </g>\r\n   <g id=\"patch_29\">\r\n    <path clip-path=\"url(#pa90b7fbf98)\" d=\"M 529.962656 51.876514 \r\nL 681.35353 51.876514 \r\nL 681.35353 62.105745 \r\nL 529.962656 62.105745 \r\nz\r\n\" style=\"fill:#5f9e6e;stroke:#ffffff;stroke-linejoin:miter;\"/>\r\n   </g>\r\n   <g id=\"patch_30\">\r\n    <path clip-path=\"url(#pa90b7fbf98)\" d=\"M 529.962656 103.022668 \r\nL 597.927004 103.022668 \r\nL 597.927004 113.251899 \r\nL 529.962656 113.251899 \r\nz\r\n\" style=\"fill:#5f9e6e;stroke:#ffffff;stroke-linejoin:miter;\"/>\r\n   </g>\r\n   <g id=\"patch_31\">\r\n    <path clip-path=\"url(#pa90b7fbf98)\" d=\"M 529.962656 154.168822 \r\nL 604.619589 154.168822 \r\nL 604.619589 164.398053 \r\nL 529.962656 164.398053 \r\nz\r\n\" style=\"fill:#5f9e6e;stroke:#ffffff;stroke-linejoin:miter;\"/>\r\n   </g>\r\n   <g id=\"patch_32\">\r\n    <path clip-path=\"url(#pa90b7fbf98)\" d=\"M 529.962656 205.314976 \r\nL 764.549277 205.314976 \r\nL 764.549277 215.544207 \r\nL 529.962656 215.544207 \r\nz\r\n\" style=\"fill:#5f9e6e;stroke:#ffffff;stroke-linejoin:miter;\"/>\r\n   </g>\r\n   <g id=\"patch_33\">\r\n    <path clip-path=\"url(#pa90b7fbf98)\" d=\"M 529.962656 256.46113 \r\nL 858.01468 256.46113 \r\nL 858.01468 266.690361 \r\nL 529.962656 266.690361 \r\nz\r\n\" style=\"fill:#5f9e6e;stroke:#ffffff;stroke-linejoin:miter;\"/>\r\n   </g>\r\n   <g id=\"patch_34\">\r\n    <path clip-path=\"url(#pa90b7fbf98)\" d=\"M 529.962656 307.607284 \r\nL 832.052068 307.607284 \r\nL 832.052068 317.836514 \r\nL 529.962656 317.836514 \r\nz\r\n\" style=\"fill:#5f9e6e;stroke:#ffffff;stroke-linejoin:miter;\"/>\r\n   </g>\r\n   <g id=\"patch_35\">\r\n    <path clip-path=\"url(#pa90b7fbf98)\" d=\"M 529.962656 358.753438 \r\nL 803.55089 358.753438 \r\nL 803.55089 368.982668 \r\nL 529.962656 368.982668 \r\nz\r\n\" style=\"fill:#5f9e6e;stroke:#ffffff;stroke-linejoin:miter;\"/>\r\n   </g>\r\n   <g id=\"patch_36\">\r\n    <path clip-path=\"url(#pa90b7fbf98)\" d=\"M 529.962656 409.899591 \r\nL 632.774599 409.899591 \r\nL 632.774599 420.128822 \r\nL 529.962656 420.128822 \r\nz\r\n\" style=\"fill:#5f9e6e;stroke:#ffffff;stroke-linejoin:miter;\"/>\r\n   </g>\r\n   <g id=\"patch_37\">\r\n    <path clip-path=\"url(#pa90b7fbf98)\" d=\"M 529.962656 461.045745 \r\nL 555.002153 461.045745 \r\nL 555.002153 471.274976 \r\nL 529.962656 471.274976 \r\nz\r\n\" style=\"fill:#5f9e6e;stroke:#ffffff;stroke-linejoin:miter;\"/>\r\n   </g>\r\n   <g id=\"patch_38\">\r\n    <path clip-path=\"url(#pa90b7fbf98)\" d=\"M 529.962656 512.191899 \r\nL 886.400469 512.191899 \r\nL 886.400469 522.42113 \r\nL 529.962656 522.42113 \r\nz\r\n\" style=\"fill:#5f9e6e;stroke:#ffffff;stroke-linejoin:miter;\"/>\r\n   </g>\r\n   <g id=\"patch_39\">\r\n    <path clip-path=\"url(#pa90b7fbf98)\" d=\"M 529.962656 563.338053 \r\nL 584.195668 563.338053 \r\nL 584.195668 573.567284 \r\nL 529.962656 573.567284 \r\nz\r\n\" style=\"fill:#5f9e6e;stroke:#ffffff;stroke-linejoin:miter;\"/>\r\n   </g>\r\n   <g id=\"patch_40\">\r\n    <path clip-path=\"url(#pa90b7fbf98)\" d=\"M 529.962656 614.484207 \r\nL 631.159148 614.484207 \r\nL 631.159148 624.713438 \r\nL 529.962656 624.713438 \r\nz\r\n\" style=\"fill:#5f9e6e;stroke:#ffffff;stroke-linejoin:miter;\"/>\r\n   </g>\r\n   <g id=\"patch_41\">\r\n    <path clip-path=\"url(#pa90b7fbf98)\" d=\"M 529.962656 665.630361 \r\nL 881.900283 665.630361 \r\nL 881.900283 675.859591 \r\nL 529.962656 675.859591 \r\nz\r\n\" style=\"fill:#5f9e6e;stroke:#ffffff;stroke-linejoin:miter;\"/>\r\n   </g>\r\n   <g id=\"patch_42\">\r\n    <path clip-path=\"url(#pa90b7fbf98)\" d=\"M 529.962656 62.105745 \r\nL 679.853468 62.105745 \r\nL 679.853468 72.334976 \r\nL 529.962656 72.334976 \r\nz\r\n\" style=\"fill:#b55d60;stroke:#ffffff;stroke-linejoin:miter;\"/>\r\n   </g>\r\n   <g id=\"patch_43\">\r\n    <path clip-path=\"url(#pa90b7fbf98)\" d=\"M 529.962656 113.251899 \r\nL 595.965385 113.251899 \r\nL 595.965385 123.48113 \r\nL 529.962656 123.48113 \r\nz\r\n\" style=\"fill:#b55d60;stroke:#ffffff;stroke-linejoin:miter;\"/>\r\n   </g>\r\n   <g id=\"patch_44\">\r\n    <path clip-path=\"url(#pa90b7fbf98)\" d=\"M 529.962656 164.398053 \r\nL 624.120395 164.398053 \r\nL 624.120395 174.627284 \r\nL 529.962656 174.627284 \r\nz\r\n\" style=\"fill:#b55d60;stroke:#ffffff;stroke-linejoin:miter;\"/>\r\n   </g>\r\n   <g id=\"patch_45\">\r\n    <path clip-path=\"url(#pa90b7fbf98)\" d=\"M 529.962656 215.544207 \r\nL 769.280242 215.544207 \r\nL 769.280242 225.773438 \r\nL 529.962656 225.773438 \r\nz\r\n\" style=\"fill:#b55d60;stroke:#ffffff;stroke-linejoin:miter;\"/>\r\n   </g>\r\n   <g id=\"patch_46\">\r\n    <path clip-path=\"url(#pa90b7fbf98)\" d=\"M 529.962656 266.690361 \r\nL 858.130069 266.690361 \r\nL 858.130069 276.919591 \r\nL 529.962656 276.919591 \r\nz\r\n\" style=\"fill:#b55d60;stroke:#ffffff;stroke-linejoin:miter;\"/>\r\n   </g>\r\n   <g id=\"patch_47\">\r\n    <path clip-path=\"url(#pa90b7fbf98)\" d=\"M 529.962656 317.836514 \r\nL 853.052936 317.836514 \r\nL 853.052936 328.065745 \r\nL 529.962656 328.065745 \r\nz\r\n\" style=\"fill:#b55d60;stroke:#ffffff;stroke-linejoin:miter;\"/>\r\n   </g>\r\n   <g id=\"patch_48\">\r\n    <path clip-path=\"url(#pa90b7fbf98)\" d=\"M 529.962656 368.982668 \r\nL 839.20621 368.982668 \r\nL 839.20621 379.211899 \r\nL 529.962656 379.211899 \r\nz\r\n\" style=\"fill:#b55d60;stroke:#ffffff;stroke-linejoin:miter;\"/>\r\n   </g>\r\n   <g id=\"patch_49\">\r\n    <path clip-path=\"url(#pa90b7fbf98)\" d=\"M 529.962656 420.128822 \r\nL 646.044378 420.128822 \r\nL 646.044378 430.358053 \r\nL 529.962656 430.358053 \r\nz\r\n\" style=\"fill:#b55d60;stroke:#ffffff;stroke-linejoin:miter;\"/>\r\n   </g>\r\n   <g id=\"patch_50\">\r\n    <path clip-path=\"url(#pa90b7fbf98)\" d=\"M 529.962656 471.274976 \r\nL 564.810251 471.274976 \r\nL 564.810251 481.504207 \r\nL 529.962656 481.504207 \r\nz\r\n\" style=\"fill:#b55d60;stroke:#ffffff;stroke-linejoin:miter;\"/>\r\n   </g>\r\n   <g id=\"patch_51\">\r\n    <path clip-path=\"url(#pa90b7fbf98)\" d=\"M 529.962656 522.42113 \r\nL 918.13255 522.42113 \r\nL 918.13255 532.650361 \r\nL 529.962656 532.650361 \r\nz\r\n\" style=\"fill:#b55d60;stroke:#ffffff;stroke-linejoin:miter;\"/>\r\n   </g>\r\n   <g id=\"patch_52\">\r\n    <path clip-path=\"url(#pa90b7fbf98)\" d=\"M 529.962656 573.567284 \r\nL 627.812855 573.567284 \r\nL 627.812855 583.796514 \r\nL 529.962656 583.796514 \r\nz\r\n\" style=\"fill:#b55d60;stroke:#ffffff;stroke-linejoin:miter;\"/>\r\n   </g>\r\n   <g id=\"patch_53\">\r\n    <path clip-path=\"url(#pa90b7fbf98)\" d=\"M 529.962656 624.713438 \r\nL 623.428059 624.713438 \r\nL 623.428059 634.942668 \r\nL 529.962656 634.942668 \r\nz\r\n\" style=\"fill:#b55d60;stroke:#ffffff;stroke-linejoin:miter;\"/>\r\n   </g>\r\n   <g id=\"patch_54\">\r\n    <path clip-path=\"url(#pa90b7fbf98)\" d=\"M 529.962656 675.859591 \r\nL 846.244962 675.859591 \r\nL 846.244962 686.088822 \r\nL 529.962656 686.088822 \r\nz\r\n\" style=\"fill:#b55d60;stroke:#ffffff;stroke-linejoin:miter;\"/>\r\n   </g>\r\n   <g id=\"line2d_9\">\r\n    <path clip-path=\"url(#pa90b7fbf98)\" d=\"M 0 0 \r\n\" style=\"fill:none;stroke:#424242;stroke-linecap:round;stroke-width:2.7;\"/>\r\n   </g>\r\n   <g id=\"line2d_10\">\r\n    <path clip-path=\"url(#pa90b7fbf98)\" d=\"M 0 0 \r\n\" style=\"fill:none;stroke:#424242;stroke-linecap:round;stroke-width:2.7;\"/>\r\n   </g>\r\n   <g id=\"line2d_11\">\r\n    <path clip-path=\"url(#pa90b7fbf98)\" d=\"M 0 0 \r\n\" style=\"fill:none;stroke:#424242;stroke-linecap:round;stroke-width:2.7;\"/>\r\n   </g>\r\n   <g id=\"line2d_12\">\r\n    <path clip-path=\"url(#pa90b7fbf98)\" d=\"M 0 0 \r\n\" style=\"fill:none;stroke:#424242;stroke-linecap:round;stroke-width:2.7;\"/>\r\n   </g>\r\n   <g id=\"line2d_13\">\r\n    <path clip-path=\"url(#pa90b7fbf98)\" d=\"M 0 0 \r\n\" style=\"fill:none;stroke:#424242;stroke-linecap:round;stroke-width:2.7;\"/>\r\n   </g>\r\n   <g id=\"line2d_14\">\r\n    <path clip-path=\"url(#pa90b7fbf98)\" d=\"M 0 0 \r\n\" style=\"fill:none;stroke:#424242;stroke-linecap:round;stroke-width:2.7;\"/>\r\n   </g>\r\n   <g id=\"line2d_15\">\r\n    <path clip-path=\"url(#pa90b7fbf98)\" d=\"M 0 0 \r\n\" style=\"fill:none;stroke:#424242;stroke-linecap:round;stroke-width:2.7;\"/>\r\n   </g>\r\n   <g id=\"line2d_16\">\r\n    <path clip-path=\"url(#pa90b7fbf98)\" d=\"M 0 0 \r\n\" style=\"fill:none;stroke:#424242;stroke-linecap:round;stroke-width:2.7;\"/>\r\n   </g>\r\n   <g id=\"line2d_17\">\r\n    <path clip-path=\"url(#pa90b7fbf98)\" d=\"M 0 0 \r\n\" style=\"fill:none;stroke:#424242;stroke-linecap:round;stroke-width:2.7;\"/>\r\n   </g>\r\n   <g id=\"line2d_18\">\r\n    <path clip-path=\"url(#pa90b7fbf98)\" d=\"M 0 0 \r\n\" style=\"fill:none;stroke:#424242;stroke-linecap:round;stroke-width:2.7;\"/>\r\n   </g>\r\n   <g id=\"line2d_19\">\r\n    <path clip-path=\"url(#pa90b7fbf98)\" d=\"M 0 0 \r\n\" style=\"fill:none;stroke:#424242;stroke-linecap:round;stroke-width:2.7;\"/>\r\n   </g>\r\n   <g id=\"line2d_20\">\r\n    <path clip-path=\"url(#pa90b7fbf98)\" d=\"M 0 0 \r\n\" style=\"fill:none;stroke:#424242;stroke-linecap:round;stroke-width:2.7;\"/>\r\n   </g>\r\n   <g id=\"line2d_21\">\r\n    <path clip-path=\"url(#pa90b7fbf98)\" d=\"M 0 0 \r\n\" style=\"fill:none;stroke:#424242;stroke-linecap:round;stroke-width:2.7;\"/>\r\n   </g>\r\n   <g id=\"line2d_22\">\r\n    <path clip-path=\"url(#pa90b7fbf98)\" d=\"M 0 0 \r\n\" style=\"fill:none;stroke:#424242;stroke-linecap:round;stroke-width:2.7;\"/>\r\n   </g>\r\n   <g id=\"line2d_23\">\r\n    <path clip-path=\"url(#pa90b7fbf98)\" d=\"M 0 0 \r\n\" style=\"fill:none;stroke:#424242;stroke-linecap:round;stroke-width:2.7;\"/>\r\n   </g>\r\n   <g id=\"line2d_24\">\r\n    <path clip-path=\"url(#pa90b7fbf98)\" d=\"M 0 0 \r\n\" style=\"fill:none;stroke:#424242;stroke-linecap:round;stroke-width:2.7;\"/>\r\n   </g>\r\n   <g id=\"line2d_25\">\r\n    <path clip-path=\"url(#pa90b7fbf98)\" d=\"M 0 0 \r\n\" style=\"fill:none;stroke:#424242;stroke-linecap:round;stroke-width:2.7;\"/>\r\n   </g>\r\n   <g id=\"line2d_26\">\r\n    <path clip-path=\"url(#pa90b7fbf98)\" d=\"M 0 0 \r\n\" style=\"fill:none;stroke:#424242;stroke-linecap:round;stroke-width:2.7;\"/>\r\n   </g>\r\n   <g id=\"line2d_27\">\r\n    <path clip-path=\"url(#pa90b7fbf98)\" d=\"M 0 0 \r\n\" style=\"fill:none;stroke:#424242;stroke-linecap:round;stroke-width:2.7;\"/>\r\n   </g>\r\n   <g id=\"line2d_28\">\r\n    <path clip-path=\"url(#pa90b7fbf98)\" d=\"M 0 0 \r\n\" style=\"fill:none;stroke:#424242;stroke-linecap:round;stroke-width:2.7;\"/>\r\n   </g>\r\n   <g id=\"line2d_29\">\r\n    <path clip-path=\"url(#pa90b7fbf98)\" d=\"M 0 0 \r\n\" style=\"fill:none;stroke:#424242;stroke-linecap:round;stroke-width:2.7;\"/>\r\n   </g>\r\n   <g id=\"line2d_30\">\r\n    <path clip-path=\"url(#pa90b7fbf98)\" d=\"M 0 0 \r\n\" style=\"fill:none;stroke:#424242;stroke-linecap:round;stroke-width:2.7;\"/>\r\n   </g>\r\n   <g id=\"line2d_31\">\r\n    <path clip-path=\"url(#pa90b7fbf98)\" d=\"M 0 0 \r\n\" style=\"fill:none;stroke:#424242;stroke-linecap:round;stroke-width:2.7;\"/>\r\n   </g>\r\n   <g id=\"line2d_32\">\r\n    <path clip-path=\"url(#pa90b7fbf98)\" d=\"M 0 0 \r\n\" style=\"fill:none;stroke:#424242;stroke-linecap:round;stroke-width:2.7;\"/>\r\n   </g>\r\n   <g id=\"line2d_33\">\r\n    <path clip-path=\"url(#pa90b7fbf98)\" d=\"M 0 0 \r\n\" style=\"fill:none;stroke:#424242;stroke-linecap:round;stroke-width:2.7;\"/>\r\n   </g>\r\n   <g id=\"line2d_34\">\r\n    <path clip-path=\"url(#pa90b7fbf98)\" d=\"M 0 0 \r\n\" style=\"fill:none;stroke:#424242;stroke-linecap:round;stroke-width:2.7;\"/>\r\n   </g>\r\n   <g id=\"line2d_35\">\r\n    <path clip-path=\"url(#pa90b7fbf98)\" d=\"M 0 0 \r\n\" style=\"fill:none;stroke:#424242;stroke-linecap:round;stroke-width:2.7;\"/>\r\n   </g>\r\n   <g id=\"line2d_36\">\r\n    <path clip-path=\"url(#pa90b7fbf98)\" d=\"M 0 0 \r\n\" style=\"fill:none;stroke:#424242;stroke-linecap:round;stroke-width:2.7;\"/>\r\n   </g>\r\n   <g id=\"line2d_37\">\r\n    <path clip-path=\"url(#pa90b7fbf98)\" d=\"M 0 0 \r\n\" style=\"fill:none;stroke:#424242;stroke-linecap:round;stroke-width:2.7;\"/>\r\n   </g>\r\n   <g id=\"line2d_38\">\r\n    <path clip-path=\"url(#pa90b7fbf98)\" d=\"M 0 0 \r\n\" style=\"fill:none;stroke:#424242;stroke-linecap:round;stroke-width:2.7;\"/>\r\n   </g>\r\n   <g id=\"line2d_39\">\r\n    <path clip-path=\"url(#pa90b7fbf98)\" d=\"M 0 0 \r\n\" style=\"fill:none;stroke:#424242;stroke-linecap:round;stroke-width:2.7;\"/>\r\n   </g>\r\n   <g id=\"line2d_40\">\r\n    <path clip-path=\"url(#pa90b7fbf98)\" d=\"M 0 0 \r\n\" style=\"fill:none;stroke:#424242;stroke-linecap:round;stroke-width:2.7;\"/>\r\n   </g>\r\n   <g id=\"line2d_41\">\r\n    <path clip-path=\"url(#pa90b7fbf98)\" d=\"M 0 0 \r\n\" style=\"fill:none;stroke:#424242;stroke-linecap:round;stroke-width:2.7;\"/>\r\n   </g>\r\n   <g id=\"line2d_42\">\r\n    <path clip-path=\"url(#pa90b7fbf98)\" d=\"M 0 0 \r\n\" style=\"fill:none;stroke:#424242;stroke-linecap:round;stroke-width:2.7;\"/>\r\n   </g>\r\n   <g id=\"line2d_43\">\r\n    <path clip-path=\"url(#pa90b7fbf98)\" d=\"M 0 0 \r\n\" style=\"fill:none;stroke:#424242;stroke-linecap:round;stroke-width:2.7;\"/>\r\n   </g>\r\n   <g id=\"line2d_44\">\r\n    <path clip-path=\"url(#pa90b7fbf98)\" d=\"M 0 0 \r\n\" style=\"fill:none;stroke:#424242;stroke-linecap:round;stroke-width:2.7;\"/>\r\n   </g>\r\n   <g id=\"line2d_45\">\r\n    <path clip-path=\"url(#pa90b7fbf98)\" d=\"M 0 0 \r\n\" style=\"fill:none;stroke:#424242;stroke-linecap:round;stroke-width:2.7;\"/>\r\n   </g>\r\n   <g id=\"line2d_46\">\r\n    <path clip-path=\"url(#pa90b7fbf98)\" d=\"M 0 0 \r\n\" style=\"fill:none;stroke:#424242;stroke-linecap:round;stroke-width:2.7;\"/>\r\n   </g>\r\n   <g id=\"line2d_47\">\r\n    <path clip-path=\"url(#pa90b7fbf98)\" d=\"M 0 0 \r\n\" style=\"fill:none;stroke:#424242;stroke-linecap:round;stroke-width:2.7;\"/>\r\n   </g>\r\n   <g id=\"line2d_48\">\r\n    <path clip-path=\"url(#pa90b7fbf98)\" d=\"M 0 0 \r\n\" style=\"fill:none;stroke:#424242;stroke-linecap:round;stroke-width:2.7;\"/>\r\n   </g>\r\n   <g id=\"line2d_49\">\r\n    <path clip-path=\"url(#pa90b7fbf98)\" d=\"M 0 0 \r\n\" style=\"fill:none;stroke:#424242;stroke-linecap:round;stroke-width:2.7;\"/>\r\n   </g>\r\n   <g id=\"line2d_50\">\r\n    <path clip-path=\"url(#pa90b7fbf98)\" d=\"M 0 0 \r\n\" style=\"fill:none;stroke:#424242;stroke-linecap:round;stroke-width:2.7;\"/>\r\n   </g>\r\n   <g id=\"line2d_51\">\r\n    <path clip-path=\"url(#pa90b7fbf98)\" d=\"M 0 0 \r\n\" style=\"fill:none;stroke:#424242;stroke-linecap:round;stroke-width:2.7;\"/>\r\n   </g>\r\n   <g id=\"line2d_52\">\r\n    <path clip-path=\"url(#pa90b7fbf98)\" d=\"M 0 0 \r\n\" style=\"fill:none;stroke:#424242;stroke-linecap:round;stroke-width:2.7;\"/>\r\n   </g>\r\n   <g id=\"line2d_53\">\r\n    <path clip-path=\"url(#pa90b7fbf98)\" d=\"M 0 0 \r\n\" style=\"fill:none;stroke:#424242;stroke-linecap:round;stroke-width:2.7;\"/>\r\n   </g>\r\n   <g id=\"line2d_54\">\r\n    <path clip-path=\"url(#pa90b7fbf98)\" d=\"M 0 0 \r\n\" style=\"fill:none;stroke:#424242;stroke-linecap:round;stroke-width:2.7;\"/>\r\n   </g>\r\n   <g id=\"line2d_55\">\r\n    <path clip-path=\"url(#pa90b7fbf98)\" d=\"M 0 0 \r\n\" style=\"fill:none;stroke:#424242;stroke-linecap:round;stroke-width:2.7;\"/>\r\n   </g>\r\n   <g id=\"line2d_56\">\r\n    <path clip-path=\"url(#pa90b7fbf98)\" d=\"M 0 0 \r\n\" style=\"fill:none;stroke:#424242;stroke-linecap:round;stroke-width:2.7;\"/>\r\n   </g>\r\n   <g id=\"line2d_57\">\r\n    <path clip-path=\"url(#pa90b7fbf98)\" d=\"M 0 0 \r\n\" style=\"fill:none;stroke:#424242;stroke-linecap:round;stroke-width:2.7;\"/>\r\n   </g>\r\n   <g id=\"line2d_58\">\r\n    <path clip-path=\"url(#pa90b7fbf98)\" d=\"M 0 0 \r\n\" style=\"fill:none;stroke:#424242;stroke-linecap:round;stroke-width:2.7;\"/>\r\n   </g>\r\n   <g id=\"line2d_59\">\r\n    <path clip-path=\"url(#pa90b7fbf98)\" d=\"M 0 0 \r\n\" style=\"fill:none;stroke:#424242;stroke-linecap:round;stroke-width:2.7;\"/>\r\n   </g>\r\n   <g id=\"line2d_60\">\r\n    <path clip-path=\"url(#pa90b7fbf98)\" d=\"M 0 0 \r\n\" style=\"fill:none;stroke:#424242;stroke-linecap:round;stroke-width:2.7;\"/>\r\n   </g>\r\n   <g id=\"patch_55\">\r\n    <path d=\"M 529.962656 691.203438 \r\nL 529.962656 26.303438 \r\n\" style=\"fill:none;stroke:#cccccc;stroke-linecap:square;stroke-linejoin:miter;stroke-width:1.25;\"/>\r\n   </g>\r\n   <g id=\"patch_56\">\r\n    <path d=\"M 529.962656 691.203438 \r\nL 940.327698 691.203438 \r\n\" style=\"fill:none;stroke:#cccccc;stroke-linecap:square;stroke-linejoin:miter;stroke-width:1.25;\"/>\r\n   </g>\r\n   <g id=\"text_24\">\r\n    <!-- Enterprises indicating the first five technological areas with greater impact on development in the two-year period, by indicated area (percentages) -->\r\n    <defs>\r\n     <path d=\"M 7.90625 0 \r\nL 7.90625 71.578125 \r\nL 59.671875 71.578125 \r\nL 59.671875 63.140625 \r\nL 17.390625 63.140625 \r\nL 17.390625 41.21875 \r\nL 56.984375 41.21875 \r\nL 56.984375 32.8125 \r\nL 17.390625 32.8125 \r\nL 17.390625 8.453125 \r\nL 61.328125 8.453125 \r\nL 61.328125 0 \r\nz\r\n\" id=\"ArialMT-69\"/>\r\n     <path d=\"M 3.171875 21.484375 \r\nL 3.171875 30.328125 \r\nL 30.171875 30.328125 \r\nL 30.171875 21.484375 \r\nz\r\n\" id=\"ArialMT-45\"/>\r\n     <path d=\"M 8.890625 0 \r\nL 8.890625 10.015625 \r\nL 18.890625 10.015625 \r\nL 18.890625 0 \r\nQ 18.890625 -5.515625 16.9375 -8.90625 \r\nQ 14.984375 -12.3125 10.75 -14.15625 \r\nL 8.296875 -10.40625 \r\nQ 11.078125 -9.1875 12.390625 -6.8125 \r\nQ 13.71875 -4.4375 13.875 0 \r\nz\r\n\" id=\"ArialMT-44\"/>\r\n     <path d=\"M 23.390625 -21.046875 \r\nQ 16.109375 -11.859375 11.078125 0.4375 \r\nQ 6.0625 12.75 6.0625 25.921875 \r\nQ 6.0625 37.546875 9.8125 48.1875 \r\nQ 14.203125 60.546875 23.390625 72.796875 \r\nL 29.6875 72.796875 \r\nQ 23.78125 62.640625 21.875 58.296875 \r\nQ 18.890625 51.5625 17.1875 44.234375 \r\nQ 15.09375 35.109375 15.09375 25.875 \r\nQ 15.09375 2.390625 29.6875 -21.046875 \r\nz\r\n\" id=\"ArialMT-40\"/>\r\n     <path d=\"M 12.359375 -21.046875 \r\nL 6.0625 -21.046875 \r\nQ 20.65625 2.390625 20.65625 25.875 \r\nQ 20.65625 35.0625 18.5625 44.09375 \r\nQ 16.890625 51.421875 13.921875 58.15625 \r\nQ 12.015625 62.546875 6.0625 72.796875 \r\nL 12.359375 72.796875 \r\nQ 21.53125 60.546875 25.921875 48.1875 \r\nQ 29.6875 37.546875 29.6875 25.921875 \r\nQ 29.6875 12.75 24.625 0.4375 \r\nQ 19.578125 -11.859375 12.359375 -21.046875 \r\nz\r\n\" id=\"ArialMT-41\"/>\r\n    </defs>\r\n    <g style=\"fill:#262626;\" transform=\"translate(154.875802 20.303438)scale(0.18 -0.18)\">\r\n     <use xlink:href=\"#ArialMT-69\"/>\r\n     <use x=\"66.699219\" xlink:href=\"#ArialMT-110\"/>\r\n     <use x=\"122.314453\" xlink:href=\"#ArialMT-116\"/>\r\n     <use x=\"150.097656\" xlink:href=\"#ArialMT-101\"/>\r\n     <use x=\"205.712891\" xlink:href=\"#ArialMT-114\"/>\r\n     <use x=\"239.013672\" xlink:href=\"#ArialMT-112\"/>\r\n     <use x=\"294.628906\" xlink:href=\"#ArialMT-114\"/>\r\n     <use x=\"327.929688\" xlink:href=\"#ArialMT-105\"/>\r\n     <use x=\"350.146484\" xlink:href=\"#ArialMT-115\"/>\r\n     <use x=\"400.146484\" xlink:href=\"#ArialMT-101\"/>\r\n     <use x=\"455.761719\" xlink:href=\"#ArialMT-115\"/>\r\n     <use x=\"505.761719\" xlink:href=\"#ArialMT-32\"/>\r\n     <use x=\"533.544922\" xlink:href=\"#ArialMT-105\"/>\r\n     <use x=\"555.761719\" xlink:href=\"#ArialMT-110\"/>\r\n     <use x=\"611.376953\" xlink:href=\"#ArialMT-100\"/>\r\n     <use x=\"666.992188\" xlink:href=\"#ArialMT-105\"/>\r\n     <use x=\"689.208984\" xlink:href=\"#ArialMT-99\"/>\r\n     <use x=\"739.208984\" xlink:href=\"#ArialMT-97\"/>\r\n     <use x=\"794.824219\" xlink:href=\"#ArialMT-116\"/>\r\n     <use x=\"822.607422\" xlink:href=\"#ArialMT-105\"/>\r\n     <use x=\"844.824219\" xlink:href=\"#ArialMT-110\"/>\r\n     <use x=\"900.439453\" xlink:href=\"#ArialMT-103\"/>\r\n     <use x=\"956.054688\" xlink:href=\"#ArialMT-32\"/>\r\n     <use x=\"983.837891\" xlink:href=\"#ArialMT-116\"/>\r\n     <use x=\"1011.621094\" xlink:href=\"#ArialMT-104\"/>\r\n     <use x=\"1067.236328\" xlink:href=\"#ArialMT-101\"/>\r\n     <use x=\"1122.851562\" xlink:href=\"#ArialMT-32\"/>\r\n     <use x=\"1150.634766\" xlink:href=\"#ArialMT-102\"/>\r\n     <use x=\"1178.417969\" xlink:href=\"#ArialMT-105\"/>\r\n     <use x=\"1200.634766\" xlink:href=\"#ArialMT-114\"/>\r\n     <use x=\"1233.935547\" xlink:href=\"#ArialMT-115\"/>\r\n     <use x=\"1283.935547\" xlink:href=\"#ArialMT-116\"/>\r\n     <use x=\"1311.71875\" xlink:href=\"#ArialMT-32\"/>\r\n     <use x=\"1339.501953\" xlink:href=\"#ArialMT-102\"/>\r\n     <use x=\"1367.285156\" xlink:href=\"#ArialMT-105\"/>\r\n     <use x=\"1389.501953\" xlink:href=\"#ArialMT-118\"/>\r\n     <use x=\"1439.501953\" xlink:href=\"#ArialMT-101\"/>\r\n     <use x=\"1495.117188\" xlink:href=\"#ArialMT-32\"/>\r\n     <use x=\"1522.900391\" xlink:href=\"#ArialMT-116\"/>\r\n     <use x=\"1550.683594\" xlink:href=\"#ArialMT-101\"/>\r\n     <use x=\"1606.298828\" xlink:href=\"#ArialMT-99\"/>\r\n     <use x=\"1656.298828\" xlink:href=\"#ArialMT-104\"/>\r\n     <use x=\"1711.914062\" xlink:href=\"#ArialMT-110\"/>\r\n     <use x=\"1767.529297\" xlink:href=\"#ArialMT-111\"/>\r\n     <use x=\"1823.144531\" xlink:href=\"#ArialMT-108\"/>\r\n     <use x=\"1845.361328\" xlink:href=\"#ArialMT-111\"/>\r\n     <use x=\"1900.976562\" xlink:href=\"#ArialMT-103\"/>\r\n     <use x=\"1956.591797\" xlink:href=\"#ArialMT-105\"/>\r\n     <use x=\"1978.808594\" xlink:href=\"#ArialMT-99\"/>\r\n     <use x=\"2028.808594\" xlink:href=\"#ArialMT-97\"/>\r\n     <use x=\"2084.423828\" xlink:href=\"#ArialMT-108\"/>\r\n     <use x=\"2106.640625\" xlink:href=\"#ArialMT-32\"/>\r\n     <use x=\"2134.423828\" xlink:href=\"#ArialMT-97\"/>\r\n     <use x=\"2190.039062\" xlink:href=\"#ArialMT-114\"/>\r\n     <use x=\"2223.339844\" xlink:href=\"#ArialMT-101\"/>\r\n     <use x=\"2278.955078\" xlink:href=\"#ArialMT-97\"/>\r\n     <use x=\"2334.570312\" xlink:href=\"#ArialMT-115\"/>\r\n     <use x=\"2384.570312\" xlink:href=\"#ArialMT-32\"/>\r\n     <use x=\"2412.353516\" xlink:href=\"#ArialMT-119\"/>\r\n     <use x=\"2484.570312\" xlink:href=\"#ArialMT-105\"/>\r\n     <use x=\"2506.787109\" xlink:href=\"#ArialMT-116\"/>\r\n     <use x=\"2534.570312\" xlink:href=\"#ArialMT-104\"/>\r\n     <use x=\"2590.185547\" xlink:href=\"#ArialMT-32\"/>\r\n     <use x=\"2617.96875\" xlink:href=\"#ArialMT-103\"/>\r\n     <use x=\"2673.583984\" xlink:href=\"#ArialMT-114\"/>\r\n     <use x=\"2706.884766\" xlink:href=\"#ArialMT-101\"/>\r\n     <use x=\"2762.5\" xlink:href=\"#ArialMT-97\"/>\r\n     <use x=\"2818.115234\" xlink:href=\"#ArialMT-116\"/>\r\n     <use x=\"2845.898438\" xlink:href=\"#ArialMT-101\"/>\r\n     <use x=\"2901.513672\" xlink:href=\"#ArialMT-114\"/>\r\n     <use x=\"2934.814453\" xlink:href=\"#ArialMT-32\"/>\r\n     <use x=\"2962.597656\" xlink:href=\"#ArialMT-105\"/>\r\n     <use x=\"2984.814453\" xlink:href=\"#ArialMT-109\"/>\r\n     <use x=\"3068.115234\" xlink:href=\"#ArialMT-112\"/>\r\n     <use x=\"3123.730469\" xlink:href=\"#ArialMT-97\"/>\r\n     <use x=\"3179.345703\" xlink:href=\"#ArialMT-99\"/>\r\n     <use x=\"3229.345703\" xlink:href=\"#ArialMT-116\"/>\r\n     <use x=\"3257.128906\" xlink:href=\"#ArialMT-32\"/>\r\n     <use x=\"3284.912109\" xlink:href=\"#ArialMT-111\"/>\r\n     <use x=\"3340.527344\" xlink:href=\"#ArialMT-110\"/>\r\n     <use x=\"3396.142578\" xlink:href=\"#ArialMT-32\"/>\r\n     <use x=\"3423.925781\" xlink:href=\"#ArialMT-100\"/>\r\n     <use x=\"3479.541016\" xlink:href=\"#ArialMT-101\"/>\r\n     <use x=\"3535.15625\" xlink:href=\"#ArialMT-118\"/>\r\n     <use x=\"3585.15625\" xlink:href=\"#ArialMT-101\"/>\r\n     <use x=\"3640.771484\" xlink:href=\"#ArialMT-108\"/>\r\n     <use x=\"3662.988281\" xlink:href=\"#ArialMT-111\"/>\r\n     <use x=\"3718.603516\" xlink:href=\"#ArialMT-112\"/>\r\n     <use x=\"3774.21875\" xlink:href=\"#ArialMT-109\"/>\r\n     <use x=\"3857.519531\" xlink:href=\"#ArialMT-101\"/>\r\n     <use x=\"3913.134766\" xlink:href=\"#ArialMT-110\"/>\r\n     <use x=\"3968.75\" xlink:href=\"#ArialMT-116\"/>\r\n     <use x=\"3996.533203\" xlink:href=\"#ArialMT-32\"/>\r\n     <use x=\"4024.316406\" xlink:href=\"#ArialMT-105\"/>\r\n     <use x=\"4046.533203\" xlink:href=\"#ArialMT-110\"/>\r\n     <use x=\"4102.148438\" xlink:href=\"#ArialMT-32\"/>\r\n     <use x=\"4129.931641\" xlink:href=\"#ArialMT-116\"/>\r\n     <use x=\"4157.714844\" xlink:href=\"#ArialMT-104\"/>\r\n     <use x=\"4213.330078\" xlink:href=\"#ArialMT-101\"/>\r\n     <use x=\"4268.945312\" xlink:href=\"#ArialMT-32\"/>\r\n     <use x=\"4296.728516\" xlink:href=\"#ArialMT-116\"/>\r\n     <use x=\"4324.511719\" xlink:href=\"#ArialMT-119\"/>\r\n     <use x=\"4396.728516\" xlink:href=\"#ArialMT-111\"/>\r\n     <use x=\"4452.34375\" xlink:href=\"#ArialMT-45\"/>\r\n     <use x=\"4485.644531\" xlink:href=\"#ArialMT-121\"/>\r\n     <use x=\"4535.644531\" xlink:href=\"#ArialMT-101\"/>\r\n     <use x=\"4591.259766\" xlink:href=\"#ArialMT-97\"/>\r\n     <use x=\"4646.875\" xlink:href=\"#ArialMT-114\"/>\r\n     <use x=\"4680.175781\" xlink:href=\"#ArialMT-32\"/>\r\n     <use x=\"4707.958984\" xlink:href=\"#ArialMT-112\"/>\r\n     <use x=\"4763.574219\" xlink:href=\"#ArialMT-101\"/>\r\n     <use x=\"4819.189453\" xlink:href=\"#ArialMT-114\"/>\r\n     <use x=\"4852.490234\" xlink:href=\"#ArialMT-105\"/>\r\n     <use x=\"4874.707031\" xlink:href=\"#ArialMT-111\"/>\r\n     <use x=\"4930.322266\" xlink:href=\"#ArialMT-100\"/>\r\n     <use x=\"4985.9375\" xlink:href=\"#ArialMT-44\"/>\r\n     <use x=\"5013.720703\" xlink:href=\"#ArialMT-32\"/>\r\n     <use x=\"5041.503906\" xlink:href=\"#ArialMT-98\"/>\r\n     <use x=\"5097.119141\" xlink:href=\"#ArialMT-121\"/>\r\n     <use x=\"5147.119141\" xlink:href=\"#ArialMT-32\"/>\r\n     <use x=\"5174.902344\" xlink:href=\"#ArialMT-105\"/>\r\n     <use x=\"5197.119141\" xlink:href=\"#ArialMT-110\"/>\r\n     <use x=\"5252.734375\" xlink:href=\"#ArialMT-100\"/>\r\n     <use x=\"5308.349609\" xlink:href=\"#ArialMT-105\"/>\r\n     <use x=\"5330.566406\" xlink:href=\"#ArialMT-99\"/>\r\n     <use x=\"5380.566406\" xlink:href=\"#ArialMT-97\"/>\r\n     <use x=\"5436.181641\" xlink:href=\"#ArialMT-116\"/>\r\n     <use x=\"5463.964844\" xlink:href=\"#ArialMT-101\"/>\r\n     <use x=\"5519.580078\" xlink:href=\"#ArialMT-100\"/>\r\n     <use x=\"5575.195312\" xlink:href=\"#ArialMT-32\"/>\r\n     <use x=\"5602.978516\" xlink:href=\"#ArialMT-97\"/>\r\n     <use x=\"5658.59375\" xlink:href=\"#ArialMT-114\"/>\r\n     <use x=\"5691.894531\" xlink:href=\"#ArialMT-101\"/>\r\n     <use x=\"5747.509766\" xlink:href=\"#ArialMT-97\"/>\r\n     <use x=\"5803.125\" xlink:href=\"#ArialMT-32\"/>\r\n     <use x=\"5830.908203\" xlink:href=\"#ArialMT-40\"/>\r\n     <use x=\"5864.208984\" xlink:href=\"#ArialMT-112\"/>\r\n     <use x=\"5919.824219\" xlink:href=\"#ArialMT-101\"/>\r\n     <use x=\"5975.439453\" xlink:href=\"#ArialMT-114\"/>\r\n     <use x=\"6008.740234\" xlink:href=\"#ArialMT-99\"/>\r\n     <use x=\"6058.740234\" xlink:href=\"#ArialMT-101\"/>\r\n     <use x=\"6114.355469\" xlink:href=\"#ArialMT-110\"/>\r\n     <use x=\"6169.970703\" xlink:href=\"#ArialMT-116\"/>\r\n     <use x=\"6197.753906\" xlink:href=\"#ArialMT-97\"/>\r\n     <use x=\"6253.369141\" xlink:href=\"#ArialMT-103\"/>\r\n     <use x=\"6308.984375\" xlink:href=\"#ArialMT-101\"/>\r\n     <use x=\"6364.599609\" xlink:href=\"#ArialMT-115\"/>\r\n     <use x=\"6414.599609\" xlink:href=\"#ArialMT-41\"/>\r\n    </g>\r\n   </g>\r\n   <g id=\"legend_1\">\r\n    <g id=\"patch_57\">\r\n     <path d=\"M 801.732198 119.813438 \r\nL 930.247698 119.813438 \r\nQ 933.127698 119.813438 933.127698 116.933438 \r\nL 933.127698 36.383438 \r\nQ 933.127698 33.503438 930.247698 33.503438 \r\nL 801.732198 33.503438 \r\nQ 798.852198 33.503438 798.852198 36.383438 \r\nL 798.852198 116.933438 \r\nQ 798.852198 119.813438 801.732198 119.813438 \r\nz\r\n\" style=\"fill:#ffffff;opacity:0.8;stroke:#cccccc;stroke-linejoin:miter;\"/>\r\n    </g>\r\n    <g id=\"patch_58\">\r\n     <path d=\"M 804.612198 49.570688 \r\nL 833.412198 49.570688 \r\nL 833.412198 39.490688 \r\nL 804.612198 39.490688 \r\nz\r\n\" style=\"fill:#5875a4;stroke:#ffffff;stroke-linejoin:miter;\"/>\r\n    </g>\r\n    <g id=\"text_25\">\r\n     <!-- Nord-ovest -->\r\n     <defs>\r\n      <path d=\"M 7.625 0 \r\nL 7.625 71.578125 \r\nL 17.328125 71.578125 \r\nL 54.9375 15.375 \r\nL 54.9375 71.578125 \r\nL 64.015625 71.578125 \r\nL 64.015625 0 \r\nL 54.296875 0 \r\nL 16.703125 56.25 \r\nL 16.703125 0 \r\nz\r\n\" id=\"ArialMT-78\"/>\r\n     </defs>\r\n     <g style=\"fill:#262626;\" transform=\"translate(844.932198 49.570688)scale(0.144 -0.144)\">\r\n      <use xlink:href=\"#ArialMT-78\"/>\r\n      <use x=\"72.216797\" xlink:href=\"#ArialMT-111\"/>\r\n      <use x=\"127.832031\" xlink:href=\"#ArialMT-114\"/>\r\n      <use x=\"161.132812\" xlink:href=\"#ArialMT-100\"/>\r\n      <use x=\"216.748047\" xlink:href=\"#ArialMT-45\"/>\r\n      <use x=\"250.048828\" xlink:href=\"#ArialMT-111\"/>\r\n      <use x=\"305.664062\" xlink:href=\"#ArialMT-118\"/>\r\n      <use x=\"355.664062\" xlink:href=\"#ArialMT-101\"/>\r\n      <use x=\"411.279297\" xlink:href=\"#ArialMT-115\"/>\r\n      <use x=\"461.279297\" xlink:href=\"#ArialMT-116\"/>\r\n     </g>\r\n    </g>\r\n    <g id=\"patch_59\">\r\n     <path d=\"M 804.612198 69.939938 \r\nL 833.412198 69.939938 \r\nL 833.412198 59.859938 \r\nL 804.612198 59.859938 \r\nz\r\n\" style=\"fill:#cc8963;stroke:#ffffff;stroke-linejoin:miter;\"/>\r\n    </g>\r\n    <g id=\"text_26\">\r\n     <!-- Nord-est -->\r\n     <g style=\"fill:#262626;\" transform=\"translate(844.932198 69.939938)scale(0.144 -0.144)\">\r\n      <use xlink:href=\"#ArialMT-78\"/>\r\n      <use x=\"72.216797\" xlink:href=\"#ArialMT-111\"/>\r\n      <use x=\"127.832031\" xlink:href=\"#ArialMT-114\"/>\r\n      <use x=\"161.132812\" xlink:href=\"#ArialMT-100\"/>\r\n      <use x=\"216.748047\" xlink:href=\"#ArialMT-45\"/>\r\n      <use x=\"250.048828\" xlink:href=\"#ArialMT-101\"/>\r\n      <use x=\"305.664062\" xlink:href=\"#ArialMT-115\"/>\r\n      <use x=\"355.664062\" xlink:href=\"#ArialMT-116\"/>\r\n     </g>\r\n    </g>\r\n    <g id=\"patch_60\">\r\n     <path d=\"M 804.612198 90.484688 \r\nL 833.412198 90.484688 \r\nL 833.412198 80.404688 \r\nL 804.612198 80.404688 \r\nz\r\n\" style=\"fill:#5f9e6e;stroke:#ffffff;stroke-linejoin:miter;\"/>\r\n    </g>\r\n    <g id=\"text_27\">\r\n     <!-- Centro (I) -->\r\n     <g style=\"fill:#262626;\" transform=\"translate(844.932198 90.484688)scale(0.144 -0.144)\">\r\n      <use xlink:href=\"#ArialMT-67\"/>\r\n      <use x=\"72.216797\" xlink:href=\"#ArialMT-101\"/>\r\n      <use x=\"127.832031\" xlink:href=\"#ArialMT-110\"/>\r\n      <use x=\"183.447266\" xlink:href=\"#ArialMT-116\"/>\r\n      <use x=\"211.230469\" xlink:href=\"#ArialMT-114\"/>\r\n      <use x=\"244.53125\" xlink:href=\"#ArialMT-111\"/>\r\n      <use x=\"300.146484\" xlink:href=\"#ArialMT-32\"/>\r\n      <use x=\"327.929688\" xlink:href=\"#ArialMT-40\"/>\r\n      <use x=\"361.230469\" xlink:href=\"#ArialMT-73\"/>\r\n      <use x=\"389.013672\" xlink:href=\"#ArialMT-41\"/>\r\n     </g>\r\n    </g>\r\n    <g id=\"patch_61\">\r\n     <path d=\"M 804.612198 111.022688 \r\nL 833.412198 111.022688 \r\nL 833.412198 100.942688 \r\nL 804.612198 100.942688 \r\nz\r\n\" style=\"fill:#b55d60;stroke:#ffffff;stroke-linejoin:miter;\"/>\r\n    </g>\r\n    <g id=\"text_28\">\r\n     <!-- Mezzogiorno -->\r\n     <defs>\r\n      <path d=\"M 7.421875 0 \r\nL 7.421875 71.578125 \r\nL 21.6875 71.578125 \r\nL 38.625 20.90625 \r\nQ 40.96875 13.8125 42.046875 10.296875 \r\nQ 43.265625 14.203125 45.84375 21.78125 \r\nL 62.984375 71.578125 \r\nL 75.734375 71.578125 \r\nL 75.734375 0 \r\nL 66.609375 0 \r\nL 66.609375 59.90625 \r\nL 45.796875 0 \r\nL 37.25 0 \r\nL 16.546875 60.9375 \r\nL 16.546875 0 \r\nz\r\n\" id=\"ArialMT-77\"/>\r\n      <path d=\"M 1.953125 0 \r\nL 1.953125 7.125 \r\nL 34.96875 45.015625 \r\nQ 29.34375 44.734375 25.046875 44.734375 \r\nL 3.90625 44.734375 \r\nL 3.90625 51.859375 \r\nL 46.296875 51.859375 \r\nL 46.296875 46.046875 \r\nL 18.21875 13.140625 \r\nL 12.796875 7.125 \r\nQ 18.703125 7.5625 23.875 7.5625 \r\nL 47.859375 7.5625 \r\nL 47.859375 0 \r\nz\r\n\" id=\"ArialMT-122\"/>\r\n     </defs>\r\n     <g style=\"fill:#262626;\" transform=\"translate(844.932198 111.022688)scale(0.144 -0.144)\">\r\n      <use xlink:href=\"#ArialMT-77\"/>\r\n      <use x=\"83.300781\" xlink:href=\"#ArialMT-101\"/>\r\n      <use x=\"138.916016\" xlink:href=\"#ArialMT-122\"/>\r\n      <use x=\"188.916016\" xlink:href=\"#ArialMT-122\"/>\r\n      <use x=\"238.916016\" xlink:href=\"#ArialMT-111\"/>\r\n      <use x=\"294.53125\" xlink:href=\"#ArialMT-103\"/>\r\n      <use x=\"350.146484\" xlink:href=\"#ArialMT-105\"/>\r\n      <use x=\"372.363281\" xlink:href=\"#ArialMT-111\"/>\r\n      <use x=\"427.978516\" xlink:href=\"#ArialMT-114\"/>\r\n      <use x=\"461.279297\" xlink:href=\"#ArialMT-110\"/>\r\n      <use x=\"516.894531\" xlink:href=\"#ArialMT-111\"/>\r\n     </g>\r\n    </g>\r\n   </g>\r\n  </g>\r\n </g>\r\n <defs>\r\n  <clipPath id=\"pa90b7fbf98\">\r\n   <rect height=\"664.9\" width=\"410.365042\" x=\"529.962656\" y=\"26.303438\"/>\r\n  </clipPath>\r\n </defs>\r\n</svg>\r\n",
      "image/png": "[encoded data removed]"
     },
     "metadata": {
      "needs_background": "light"
     }
    }
   ],
   "source": [
    "ax = sns.catplot(x='Value', y='Data type', hue='Territory', data=tech_areas_impact, kind='bar', height=10, aspect=1.4)\n",
    "plt.title('Enterprises indicating the first five technological areas with greater impact on development in the two-year period, by indicated area (percentages)', fontsize=18)\n",
    "plt.xlabel('Percentage', fontsize=14)\n",
    "plt.ylabel('Classes', fontsize=14)\n",
    "ax._legend.remove()\n",
    "plt.legend(fontsize='x-large', title_fontsize='40')"
   ]
  }
 ],
 "metadata": {
  "kernelspec": {
   "display_name": "Python 3",
   "language": "python",
   "name": "python3"
  },
  "language_info": {
   "codemirror_mode": {
    "name": "ipython",
    "version": 3
   },
   "file_extension": ".py",
   "mimetype": "text/x-python",
   "name": "python",
   "nbconvert_exporter": "python",
   "pygments_lexer": "ipython3",
   "version": "3.6.9"
  }
 },
 "nbformat": 4,
 "nbformat_minor": 4
}