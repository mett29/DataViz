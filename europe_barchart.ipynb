{
 "cells": [
  {
   "cell_type": "markdown",
   "metadata": {},
   "source": [
    "# Europe"
   ]
  },
  {
   "cell_type": "markdown",
   "metadata": {},
   "source": [
    "### Import Libraries"
   ]
  },
  {
   "cell_type": "code",
   "execution_count": 1,
   "metadata": {},
   "outputs": [],
   "source": [
    "import pandas as pd\n",
    "import plotly.graph_objects as go\n",
    "import numpy as np \n",
    "import matplotlib.pyplot as plt\n",
    "import plotly.express as px"
   ]
  },
  {
   "cell_type": "markdown",
   "metadata": {},
   "source": [
    "## DESI"
   ]
  },
  {
   "cell_type": "markdown",
   "metadata": {},
   "source": [
    "**Source: [https://digital-agenda-data.eu/datasets/desi/](https://digital-agenda-data.eu/datasets/desi/)**\n",
    "\n",
    "### DESI indicators used: https://digital-agenda-data.eu/datasets/desi/indicators\n",
    "#### Digital Economy and Society Index (desi)\n",
    "DESI overall index, calculated as the weighted average of the five main DESI dimensions:\n",
    "- 1 Connectivity (25%) \n",
    "- 2 Human Capital (25%) \n",
    "- 3 Use of Internet (15%)\n",
    "- 4 Integration of Digital Technology (20%)\n",
    "- 5 Digital Public Services (15%) "
   ]
  },
  {
   "cell_type": "code",
   "execution_count": 2,
   "metadata": {},
   "outputs": [],
   "source": [
    "desi = pd.read_csv(\"data/DESI.csv\")\n",
    "# Drop useless columns\n",
    "desi = desi.drop(['observation', 'flag', 'note'], axis=1)\n",
    "desi = desi.loc[desi['indicator'] == 'desi']\n",
    "\n",
    "# Mapping between 'ref_area' and the name of the country\n",
    "countries_mapping =  { 'EE' : 'Estonia',\n",
    "                        'EL' : 'Greece',\n",
    "                        'ES' : 'Spain',\n",
    "                        'FI' : 'Finland',\n",
    "                        'FR' : 'France',\n",
    "                        'HR' : 'Croatia',\n",
    "                        'HU' : 'Hungary',\n",
    "                        'IE' : 'Ireland',\n",
    "                        'IS' : 'Iceland',\n",
    "                        'DE' : 'Deutschland',\n",
    "                        'CZ' : 'Czech Rep.',\n",
    "                        'DK' : 'Denmark',\n",
    "                        'IT' : 'Italy',\n",
    "                        'LT' : 'Lithuania',\n",
    "                        'LU' : 'Luxembourg',\n",
    "                        'LV' : 'Latvia',\n",
    "                        'MT' : 'Malta',\n",
    "                        'NL' : 'Netherlands',\n",
    "                        'NO' : 'Norway',\n",
    "                        'PT' : 'Portugal',\n",
    "                        'PL' : 'Poland',\n",
    "                        'EU' : 'Europe',\n",
    "                        'RO' : 'Romania',\n",
    "                        'SE' : 'Sweden',\n",
    "                        'SI' : 'Slovenia',\n",
    "                        'SK' : 'Slovakia',\n",
    "                        'UK' : 'United Kingdom',\n",
    "                        'AT' : 'Austria',\n",
    "                        'BE' : 'Belgium',\n",
    "                        'BG' : 'Bulgaria',\n",
    "                        'CY' : 'Cyprus',\n",
    "                        'CH' : 'Switzerland'\n",
    "                     }\n",
    "desi['ref_area'] = desi['ref_area'].replace(countries_mapping)\n",
    "\n",
    "# Mapping between 'ref_area' and the name of the country\n",
    "bd_mapping =  { 'desi_1_conn' : 'Connectivity',\n",
    "                        'desi_2_hc' : 'Human Capital',\n",
    "                        'desi_3_ui' : 'Use of Internet Services',\n",
    "                        'desi_4_idt' : 'Integration of Digital Technology',\n",
    "                        'desi_5_dps' : 'Digital Public Services'\n",
    "                     }\n",
    "desi['breakdown'] = desi['breakdown'].replace(bd_mapping)\n",
    "\n",
    "# Drop the index column\n",
    "desi.reset_index(drop=True, inplace=True)"
   ]
  },
  {
   "cell_type": "code",
   "execution_count": 17,
   "metadata": {},
   "outputs": [
    {
     "data": {
      "application/vnd.plotly.v1+json": {
       "config": {
        "plotlyServerURL": "https://plot.ly"
       },
       "data": [
        {
         "alignmentgroup": "True",
         "customdata": [
          [
           7.0647,
           "Austria",
           2015,
           "Connectivity"
          ],
          [
           10.0916,
           "Netherlands",
           2015,
           "Connectivity"
          ],
          [
           7.78229,
           "Europe",
           2015,
           "Connectivity"
          ],
          [
           8.38408,
           "Spain",
           2015,
           "Connectivity"
          ],
          [
           6.959810000000001,
           "Poland",
           2015,
           "Connectivity"
          ],
          [
           8.92415,
           "Deutschland",
           2015,
           "Connectivity"
          ],
          [
           6.52572,
           "Bulgaria",
           2015,
           "Connectivity"
          ],
          [
           9.91113,
           "Finland",
           2015,
           "Connectivity"
          ],
          [
           8.096,
           "Czech Rep.",
           2015,
           "Connectivity"
          ],
          [
           7.65813,
           "France",
           2015,
           "Connectivity"
          ],
          [
           11.3794,
           "Latvia",
           2015,
           "Connectivity"
          ],
          [
           8.58184,
           "Lithuania",
           2015,
           "Connectivity"
          ],
          [
           11.2773,
           "Denmark",
           2015,
           "Connectivity"
          ],
          [
           7.350219999999999,
           "Hungary",
           2015,
           "Connectivity"
          ],
          [
           6.5734699999999995,
           "Ireland",
           2015,
           "Connectivity"
          ],
          [
           11.1992,
           "Sweden",
           2015,
           "Connectivity"
          ],
          [
           5.89582,
           "Italy",
           2015,
           "Connectivity"
          ],
          [
           9.07057,
           "Slovenia",
           2015,
           "Connectivity"
          ],
          [
           5.65107,
           "Croatia",
           2015,
           "Connectivity"
          ],
          [
           8.18213,
           "Malta",
           2015,
           "Connectivity"
          ],
          [
           4.3609800000000005,
           "Cyprus",
           2015,
           "Connectivity"
          ],
          [
           7.71197,
           "Portugal",
           2015,
           "Connectivity"
          ],
          [
           4.73184,
           "Greece",
           2015,
           "Connectivity"
          ],
          [
           8.55669,
           "United Kingdom",
           2015,
           "Connectivity"
          ],
          [
           11.2743,
           "Luxembourg",
           2015,
           "Connectivity"
          ],
          [
           8.73385,
           "Romania",
           2015,
           "Connectivity"
          ],
          [
           9.67203,
           "Estonia",
           2015,
           "Connectivity"
          ],
          [
           7.86075,
           "Belgium",
           2015,
           "Connectivity"
          ],
          [
           7.22112,
           "Slovakia",
           2015,
           "Connectivity"
          ]
         ],
         "hovertemplate": "<b>%{hovertext}</b><br><br><extra></extra>",
         "hovertext": [
          7.0647,
          10.0916,
          7.78229,
          8.38408,
          6.959810000000001,
          8.92415,
          6.52572,
          9.91113,
          8.096,
          7.65813,
          11.3794,
          8.58184,
          11.2773,
          7.350219999999999,
          6.5734699999999995,
          11.1992,
          5.89582,
          9.07057,
          5.65107,
          8.18213,
          4.3609800000000005,
          7.71197,
          4.73184,
          8.55669,
          11.2743,
          8.73385,
          9.67203,
          7.86075,
          7.22112
         ],
         "ids": [
          "Austria",
          "Netherlands",
          "Europe",
          "Spain",
          "Poland",
          "Deutschland",
          "Bulgaria",
          "Finland",
          "Czech Rep.",
          "France",
          "Latvia",
          "Lithuania",
          "Denmark",
          "Hungary",
          "Ireland",
          "Sweden",
          "Italy",
          "Slovenia",
          "Croatia",
          "Malta",
          "Cyprus",
          "Portugal",
          "Greece",
          "United Kingdom",
          "Luxembourg",
          "Romania",
          "Estonia",
          "Belgium",
          "Slovakia"
         ],
         "legendgroup": "Connectivity",
         "marker": {
          "color": "#F16913"
         },
         "name": "Connectivity",
         "offsetgroup": "Connectivity",
         "orientation": "v",
         "showlegend": true,
         "textposition": "auto",
         "type": "bar",
         "x": [
          "Austria",
          "Netherlands",
          "Europe",
          "Spain",
          "Poland",
          "Deutschland",
          "Bulgaria",
          "Finland",
          "Czech Rep.",
          "France",
          "Latvia",
          "Lithuania",
          "Denmark",
          "Hungary",
          "Ireland",
          "Sweden",
          "Italy",
          "Slovenia",
          "Croatia",
          "Malta",
          "Cyprus",
          "Portugal",
          "Greece",
          "United Kingdom",
          "Luxembourg",
          "Romania",
          "Estonia",
          "Belgium",
          "Slovakia"
         ],
         "xaxis": "x",
         "y": [
          7.0647,
          10.0916,
          7.78229,
          8.38408,
          6.959810000000001,
          8.92415,
          6.52572,
          9.91113,
          8.096,
          7.65813,
          11.3794,
          8.58184,
          11.2773,
          7.350219999999999,
          6.5734699999999995,
          11.1992,
          5.89582,
          9.07057,
          5.65107,
          8.18213,
          4.3609800000000005,
          7.71197,
          4.73184,
          8.55669,
          11.2743,
          8.73385,
          9.67203,
          7.86075,
          7.22112
         ],
         "yaxis": "y"
        },
        {
         "alignmentgroup": "True",
         "customdata": [
          [
           9.09689,
           "Lithuania",
           2015,
           "Digital Public Services"
          ],
          [
           7.53211,
           "Europe",
           2015,
           "Digital Public Services"
          ],
          [
           10.8173,
           "Finland",
           2015,
           "Digital Public Services"
          ],
          [
           11.1576,
           "Denmark",
           2015,
           "Digital Public Services"
          ],
          [
           9.9463,
           "Netherlands",
           2015,
           "Digital Public Services"
          ],
          [
           10.1328,
           "Portugal",
           2015,
           "Digital Public Services"
          ],
          [
           4.66594,
           "Romania",
           2015,
           "Digital Public Services"
          ],
          [
           9.84623,
           "Sweden",
           2015,
           "Digital Public Services"
          ],
          [
           9.15099,
           "Ireland",
           2015,
           "Digital Public Services"
          ],
          [
           9.608460000000001,
           "Spain",
           2015,
           "Digital Public Services"
          ],
          [
           7.959739999999999,
           "Poland",
           2015,
           "Digital Public Services"
          ],
          [
           4.95589,
           "Czech Rep.",
           2015,
           "Digital Public Services"
          ],
          [
           6.90362,
           "Slovenia",
           2015,
           "Digital Public Services"
          ],
          [
           6.34576,
           "Deutschland",
           2015,
           "Digital Public Services"
          ],
          [
           8.98968,
           "Austria",
           2015,
           "Digital Public Services"
          ],
          [
           11.5939,
           "Estonia",
           2015,
           "Digital Public Services"
          ],
          [
           6.869689999999999,
           "France",
           2015,
           "Digital Public Services"
          ],
          [
           4.590330000000001,
           "Slovakia",
           2015,
           "Digital Public Services"
          ],
          [
           6.23641,
           "Luxembourg",
           2015,
           "Digital Public Services"
          ],
          [
           7.32045,
           "United Kingdom",
           2015,
           "Digital Public Services"
          ],
          [
           10.6802,
           "Malta",
           2015,
           "Digital Public Services"
          ],
          [
           7.277419999999999,
           "Cyprus",
           2015,
           "Digital Public Services"
          ],
          [
           7.71922,
           "Belgium",
           2015,
           "Digital Public Services"
          ],
          [
           4.07108,
           "Croatia",
           2015,
           "Digital Public Services"
          ],
          [
           3.09321,
           "Greece",
           2015,
           "Digital Public Services"
          ],
          [
           6.90543,
           "Italy",
           2015,
           "Digital Public Services"
          ],
          [
           8.19661,
           "Latvia",
           2015,
           "Digital Public Services"
          ],
          [
           4.23128,
           "Hungary",
           2015,
           "Digital Public Services"
          ],
          [
           5.50959,
           "Bulgaria",
           2015,
           "Digital Public Services"
          ]
         ],
         "hovertemplate": "<b>%{hovertext}</b><br><br><extra></extra>",
         "hovertext": [
          9.09689,
          7.53211,
          10.8173,
          11.1576,
          9.9463,
          10.1328,
          4.66594,
          9.84623,
          9.15099,
          9.608460000000001,
          7.959739999999999,
          4.95589,
          6.90362,
          6.34576,
          8.98968,
          11.5939,
          6.869689999999999,
          4.590330000000001,
          6.23641,
          7.32045,
          10.6802,
          7.277419999999999,
          7.71922,
          4.07108,
          3.09321,
          6.90543,
          8.19661,
          4.23128,
          5.50959
         ],
         "ids": [
          "Lithuania",
          "Europe",
          "Finland",
          "Denmark",
          "Netherlands",
          "Portugal",
          "Romania",
          "Sweden",
          "Ireland",
          "Spain",
          "Poland",
          "Czech Rep.",
          "Slovenia",
          "Deutschland",
          "Austria",
          "Estonia",
          "France",
          "Slovakia",
          "Luxembourg",
          "United Kingdom",
          "Malta",
          "Cyprus",
          "Belgium",
          "Croatia",
          "Greece",
          "Italy",
          "Latvia",
          "Hungary",
          "Bulgaria"
         ],
         "legendgroup": "Digital Public Services",
         "marker": {
          "color": "#EF3B2C"
         },
         "name": "Digital Public Services",
         "offsetgroup": "Digital Public Services",
         "orientation": "v",
         "showlegend": true,
         "textposition": "auto",
         "type": "bar",
         "x": [
          "Lithuania",
          "Europe",
          "Finland",
          "Denmark",
          "Netherlands",
          "Portugal",
          "Romania",
          "Sweden",
          "Ireland",
          "Spain",
          "Poland",
          "Czech Rep.",
          "Slovenia",
          "Deutschland",
          "Austria",
          "Estonia",
          "France",
          "Slovakia",
          "Luxembourg",
          "United Kingdom",
          "Malta",
          "Cyprus",
          "Belgium",
          "Croatia",
          "Greece",
          "Italy",
          "Latvia",
          "Hungary",
          "Bulgaria"
         ],
         "xaxis": "x",
         "y": [
          9.09689,
          7.53211,
          10.8173,
          11.1576,
          9.9463,
          10.1328,
          4.66594,
          9.84623,
          9.15099,
          9.608460000000001,
          7.959739999999999,
          4.95589,
          6.90362,
          6.34576,
          8.98968,
          11.5939,
          6.869689999999999,
          4.590330000000001,
          6.23641,
          7.32045,
          10.6802,
          7.277419999999999,
          7.71922,
          4.07108,
          3.09321,
          6.90543,
          8.19661,
          4.23128,
          5.50959
         ],
         "yaxis": "y"
        },
        {
         "alignmentgroup": "True",
         "customdata": [
          [
           9.24162,
           "Slovakia",
           2015,
           "Human Capital"
          ],
          [
           9.18325,
           "Latvia",
           2015,
           "Human Capital"
          ],
          [
           12.5472,
           "Austria",
           2015,
           "Human Capital"
          ],
          [
           10.414000000000001,
           "Slovenia",
           2015,
           "Human Capital"
          ],
          [
           9.60926,
           "Hungary",
           2015,
           "Human Capital"
          ],
          [
           11.8648,
           "Ireland",
           2015,
           "Human Capital"
          ],
          [
           8.388530000000001,
           "Cyprus",
           2015,
           "Human Capital"
          ],
          [
           7.91995,
           "Poland",
           2015,
           "Human Capital"
          ],
          [
           13.9732,
           "Estonia",
           2015,
           "Human Capital"
          ],
          [
           10.9983,
           "Europe",
           2015,
           "Human Capital"
          ],
          [
           8.55204,
           "Greece",
           2015,
           "Human Capital"
          ],
          [
           7.701289999999999,
           "Italy",
           2015,
           "Human Capital"
          ],
          [
           10.2502,
           "Croatia",
           2015,
           "Human Capital"
          ],
          [
           13.34,
           "Malta",
           2015,
           "Human Capital"
          ],
          [
           7.976789999999999,
           "Portugal",
           2015,
           "Human Capital"
          ],
          [
           6.86706,
           "Romania",
           2015,
           "Human Capital"
          ],
          [
           11.0647,
           "France",
           2015,
           "Human Capital"
          ],
          [
           8.73623,
           "Lithuania",
           2015,
           "Human Capital"
          ],
          [
           18.0519,
           "Finland",
           2015,
           "Human Capital"
          ],
          [
           15.1573,
           "Denmark",
           2015,
           "Human Capital"
          ],
          [
           11.2147,
           "Czech Rep.",
           2015,
           "Human Capital"
          ],
          [
           15.3152,
           "Sweden",
           2015,
           "Human Capital"
          ],
          [
           7.29471,
           "Bulgaria",
           2015,
           "Human Capital"
          ],
          [
           11.5957,
           "Belgium",
           2015,
           "Human Capital"
          ],
          [
           14.088,
           "United Kingdom",
           2015,
           "Human Capital"
          ],
          [
           12.8161,
           "Deutschland",
           2015,
           "Human Capital"
          ],
          [
           10.7992,
           "Spain",
           2015,
           "Human Capital"
          ],
          [
           13.5831,
           "Netherlands",
           2015,
           "Human Capital"
          ],
          [
           13.1423,
           "Luxembourg",
           2015,
           "Human Capital"
          ]
         ],
         "hovertemplate": "<b>%{hovertext}</b><br><br><extra></extra>",
         "hovertext": [
          9.24162,
          9.18325,
          12.5472,
          10.414000000000001,
          9.60926,
          11.8648,
          8.388530000000001,
          7.91995,
          13.9732,
          10.9983,
          8.55204,
          7.701289999999999,
          10.2502,
          13.34,
          7.976789999999999,
          6.86706,
          11.0647,
          8.73623,
          18.0519,
          15.1573,
          11.2147,
          15.3152,
          7.29471,
          11.5957,
          14.088,
          12.8161,
          10.7992,
          13.5831,
          13.1423
         ],
         "ids": [
          "Slovakia",
          "Latvia",
          "Austria",
          "Slovenia",
          "Hungary",
          "Ireland",
          "Cyprus",
          "Poland",
          "Estonia",
          "Europe",
          "Greece",
          "Italy",
          "Croatia",
          "Malta",
          "Portugal",
          "Romania",
          "France",
          "Lithuania",
          "Finland",
          "Denmark",
          "Czech Rep.",
          "Sweden",
          "Bulgaria",
          "Belgium",
          "United Kingdom",
          "Deutschland",
          "Spain",
          "Netherlands",
          "Luxembourg"
         ],
         "legendgroup": "Human Capital",
         "marker": {
          "color": "#41AB5D"
         },
         "name": "Human Capital",
         "offsetgroup": "Human Capital",
         "orientation": "v",
         "showlegend": true,
         "textposition": "auto",
         "type": "bar",
         "x": [
          "Slovakia",
          "Latvia",
          "Austria",
          "Slovenia",
          "Hungary",
          "Ireland",
          "Cyprus",
          "Poland",
          "Estonia",
          "Europe",
          "Greece",
          "Italy",
          "Croatia",
          "Malta",
          "Portugal",
          "Romania",
          "France",
          "Lithuania",
          "Finland",
          "Denmark",
          "Czech Rep.",
          "Sweden",
          "Bulgaria",
          "Belgium",
          "United Kingdom",
          "Deutschland",
          "Spain",
          "Netherlands",
          "Luxembourg"
         ],
         "xaxis": "x",
         "y": [
          9.24162,
          9.18325,
          12.5472,
          10.414000000000001,
          9.60926,
          11.8648,
          8.388530000000001,
          7.91995,
          13.9732,
          10.9983,
          8.55204,
          7.701289999999999,
          10.2502,
          13.34,
          7.976789999999999,
          6.86706,
          11.0647,
          8.73623,
          18.0519,
          15.1573,
          11.2147,
          15.3152,
          7.29471,
          11.5957,
          14.088,
          12.8161,
          10.7992,
          13.5831,
          13.1423
         ],
         "yaxis": "y"
        },
        {
         "alignmentgroup": "True",
         "customdata": [
          [
           9.46597,
           "Finland",
           2015,
           "Use of Internet Services"
          ],
          [
           7.22226,
           "Lithuania",
           2015,
           "Use of Internet Services"
          ],
          [
           6.75529,
           "Latvia",
           2015,
           "Use of Internet Services"
          ],
          [
           6.39002,
           "Czech Rep.",
           2015,
           "Use of Internet Services"
          ],
          [
           7.15562,
           "Malta",
           2015,
           "Use of Internet Services"
          ],
          [
           9.7598,
           "Sweden",
           2015,
           "Use of Internet Services"
          ],
          [
           5.6226199999999995,
           "Cyprus",
           2015,
           "Use of Internet Services"
          ],
          [
           4.901,
           "Greece",
           2015,
           "Use of Internet Services"
          ],
          [
           7.298839999999999,
           "Deutschland",
           2015,
           "Use of Internet Services"
          ],
          [
           3.25604,
           "Romania",
           2015,
           "Use of Internet Services"
          ],
          [
           6.41774,
           "Slovakia",
           2015,
           "Use of Internet Services"
          ],
          [
           6.68507,
           "France",
           2015,
           "Use of Internet Services"
          ],
          [
           6.33007,
           "Austria",
           2015,
           "Use of Internet Services"
          ],
          [
           6.715039999999999,
           "Spain",
           2015,
           "Use of Internet Services"
          ],
          [
           8.93206,
           "Netherlands",
           2015,
           "Use of Internet Services"
          ],
          [
           9.79622,
           "Denmark",
           2015,
           "Use of Internet Services"
          ],
          [
           6.22316,
           "Ireland",
           2015,
           "Use of Internet Services"
          ],
          [
           6.75127,
           "Europe",
           2015,
           "Use of Internet Services"
          ],
          [
           4.8125599999999995,
           "Italy",
           2015,
           "Use of Internet Services"
          ],
          [
           6.90422,
           "Hungary",
           2015,
           "Use of Internet Services"
          ],
          [
           5.88007,
           "Croatia",
           2015,
           "Use of Internet Services"
          ],
          [
           6.5115099999999995,
           "Slovenia",
           2015,
           "Use of Internet Services"
          ],
          [
           8.73296,
           "Luxembourg",
           2015,
           "Use of Internet Services"
          ],
          [
           8.50934,
           "Estonia",
           2015,
           "Use of Internet Services"
          ],
          [
           5.23077,
           "Portugal",
           2015,
           "Use of Internet Services"
          ],
          [
           7.078410000000001,
           "Belgium",
           2015,
           "Use of Internet Services"
          ],
          [
           8.7379,
           "United Kingdom",
           2015,
           "Use of Internet Services"
          ],
          [
           4.42656,
           "Bulgaria",
           2015,
           "Use of Internet Services"
          ],
          [
           5.01313,
           "Poland",
           2015,
           "Use of Internet Services"
          ]
         ],
         "hovertemplate": "<b>%{hovertext}</b><br><br><extra></extra>",
         "hovertext": [
          9.46597,
          7.22226,
          6.75529,
          6.39002,
          7.15562,
          9.7598,
          5.6226199999999995,
          4.901,
          7.298839999999999,
          3.25604,
          6.41774,
          6.68507,
          6.33007,
          6.715039999999999,
          8.93206,
          9.79622,
          6.22316,
          6.75127,
          4.8125599999999995,
          6.90422,
          5.88007,
          6.5115099999999995,
          8.73296,
          8.50934,
          5.23077,
          7.078410000000001,
          8.7379,
          4.42656,
          5.01313
         ],
         "ids": [
          "Finland",
          "Lithuania",
          "Latvia",
          "Czech Rep.",
          "Malta",
          "Sweden",
          "Cyprus",
          "Greece",
          "Deutschland",
          "Romania",
          "Slovakia",
          "France",
          "Austria",
          "Spain",
          "Netherlands",
          "Denmark",
          "Ireland",
          "Europe",
          "Italy",
          "Hungary",
          "Croatia",
          "Slovenia",
          "Luxembourg",
          "Estonia",
          "Portugal",
          "Belgium",
          "United Kingdom",
          "Bulgaria",
          "Poland"
         ],
         "legendgroup": "Use of Internet Services",
         "marker": {
          "color": "#4292C6"
         },
         "name": "Use of Internet Services",
         "offsetgroup": "Use of Internet Services",
         "orientation": "v",
         "showlegend": true,
         "textposition": "auto",
         "type": "bar",
         "x": [
          "Finland",
          "Lithuania",
          "Latvia",
          "Czech Rep.",
          "Malta",
          "Sweden",
          "Cyprus",
          "Greece",
          "Deutschland",
          "Romania",
          "Slovakia",
          "France",
          "Austria",
          "Spain",
          "Netherlands",
          "Denmark",
          "Ireland",
          "Europe",
          "Italy",
          "Hungary",
          "Croatia",
          "Slovenia",
          "Luxembourg",
          "Estonia",
          "Portugal",
          "Belgium",
          "United Kingdom",
          "Bulgaria",
          "Poland"
         ],
         "xaxis": "x",
         "y": [
          9.46597,
          7.22226,
          6.75529,
          6.39002,
          7.15562,
          9.7598,
          5.6226199999999995,
          4.901,
          7.298839999999999,
          3.25604,
          6.41774,
          6.68507,
          6.33007,
          6.715039999999999,
          8.93206,
          9.79622,
          6.22316,
          6.75127,
          4.8125599999999995,
          6.90422,
          5.88007,
          6.5115099999999995,
          8.73296,
          8.50934,
          5.23077,
          7.078410000000001,
          8.7379,
          4.42656,
          5.01313
         ],
         "yaxis": "y"
        },
        {
         "alignmentgroup": "True",
         "customdata": [
          [
           5.69643,
           "Deutschland",
           2015,
           "Integration of Digital Technology"
          ],
          [
           8.676919999999999,
           "Netherlands",
           2015,
           "Integration of Digital Technology"
          ],
          [
           5.85388,
           "Spain",
           2015,
           "Integration of Digital Technology"
          ],
          [
           9.009319999999999,
           "Sweden",
           2015,
           "Integration of Digital Technology"
          ],
          [
           5.589169999999999,
           "Slovakia",
           2015,
           "Integration of Digital Technology"
          ],
          [
           8.426969999999999,
           "Finland",
           2015,
           "Integration of Digital Technology"
          ],
          [
           5.60393,
           "Austria",
           2015,
           "Integration of Digital Technology"
          ],
          [
           3.05672,
           "Bulgaria",
           2015,
           "Integration of Digital Technology"
          ],
          [
           5.18109,
           "France",
           2015,
           "Integration of Digital Technology"
          ],
          [
           9.59295,
           "Denmark",
           2015,
           "Integration of Digital Technology"
          ],
          [
           9.25737,
           "Ireland",
           2015,
           "Integration of Digital Technology"
          ],
          [
           3.45362,
           "Poland",
           2015,
           "Integration of Digital Technology"
          ],
          [
           6.7355100000000006,
           "Lithuania",
           2015,
           "Integration of Digital Technology"
          ],
          [
           7.12971,
           "Malta",
           2015,
           "Integration of Digital Technology"
          ],
          [
           6.02412,
           "Portugal",
           2015,
           "Integration of Digital Technology"
          ],
          [
           8.56758,
           "Belgium",
           2015,
           "Integration of Digital Technology"
          ],
          [
           5.38068,
           "Luxembourg",
           2015,
           "Integration of Digital Technology"
          ],
          [
           7.0004100000000005,
           "United Kingdom",
           2015,
           "Integration of Digital Technology"
          ],
          [
           3.10604,
           "Latvia",
           2015,
           "Integration of Digital Technology"
          ],
          [
           7.4405600000000005,
           "Czech Rep.",
           2015,
           "Integration of Digital Technology"
          ],
          [
           4.9422,
           "Estonia",
           2015,
           "Integration of Digital Technology"
          ],
          [
           4.99911,
           "Cyprus",
           2015,
           "Integration of Digital Technology"
          ],
          [
           4.4357,
           "Italy",
           2015,
           "Integration of Digital Technology"
          ],
          [
           7.14795,
           "Croatia",
           2015,
           "Integration of Digital Technology"
          ],
          [
           5.3345,
           "Slovenia",
           2015,
           "Integration of Digital Technology"
          ],
          [
           3.59053,
           "Hungary",
           2015,
           "Integration of Digital Technology"
          ],
          [
           4.854769999999999,
           "Greece",
           2015,
           "Integration of Digital Technology"
          ],
          [
           5.8445800000000006,
           "Europe",
           2015,
           "Integration of Digital Technology"
          ],
          [
           3.3450900000000003,
           "Romania",
           2015,
           "Integration of Digital Technology"
          ]
         ],
         "hovertemplate": "<b>%{hovertext}</b><br><br><extra></extra>",
         "hovertext": [
          5.69643,
          8.676919999999999,
          5.85388,
          9.009319999999999,
          5.589169999999999,
          8.426969999999999,
          5.60393,
          3.05672,
          5.18109,
          9.59295,
          9.25737,
          3.45362,
          6.7355100000000006,
          7.12971,
          6.02412,
          8.56758,
          5.38068,
          7.0004100000000005,
          3.10604,
          7.4405600000000005,
          4.9422,
          4.99911,
          4.4357,
          7.14795,
          5.3345,
          3.59053,
          4.854769999999999,
          5.8445800000000006,
          3.3450900000000003
         ],
         "ids": [
          "Deutschland",
          "Netherlands",
          "Spain",
          "Sweden",
          "Slovakia",
          "Finland",
          "Austria",
          "Bulgaria",
          "France",
          "Denmark",
          "Ireland",
          "Poland",
          "Lithuania",
          "Malta",
          "Portugal",
          "Belgium",
          "Luxembourg",
          "United Kingdom",
          "Latvia",
          "Czech Rep.",
          "Estonia",
          "Cyprus",
          "Italy",
          "Croatia",
          "Slovenia",
          "Hungary",
          "Greece",
          "Europe",
          "Romania"
         ],
         "legendgroup": "Integration of Digital Technology",
         "marker": {
          "color": "#DD3497"
         },
         "name": "Integration of Digital Technology",
         "offsetgroup": "Integration of Digital Technology",
         "orientation": "v",
         "showlegend": true,
         "textposition": "auto",
         "type": "bar",
         "x": [
          "Deutschland",
          "Netherlands",
          "Spain",
          "Sweden",
          "Slovakia",
          "Finland",
          "Austria",
          "Bulgaria",
          "France",
          "Denmark",
          "Ireland",
          "Poland",
          "Lithuania",
          "Malta",
          "Portugal",
          "Belgium",
          "Luxembourg",
          "United Kingdom",
          "Latvia",
          "Czech Rep.",
          "Estonia",
          "Cyprus",
          "Italy",
          "Croatia",
          "Slovenia",
          "Hungary",
          "Greece",
          "Europe",
          "Romania"
         ],
         "xaxis": "x",
         "y": [
          5.69643,
          8.676919999999999,
          5.85388,
          9.009319999999999,
          5.589169999999999,
          8.426969999999999,
          5.60393,
          3.05672,
          5.18109,
          9.59295,
          9.25737,
          3.45362,
          6.7355100000000006,
          7.12971,
          6.02412,
          8.56758,
          5.38068,
          7.0004100000000005,
          3.10604,
          7.4405600000000005,
          4.9422,
          4.99911,
          4.4357,
          7.14795,
          5.3345,
          3.59053,
          4.854769999999999,
          5.8445800000000006,
          3.3450900000000003
         ],
         "yaxis": "y"
        }
       ],
       "frames": [
        {
         "data": [
          {
           "alignmentgroup": "True",
           "customdata": [
            [
             7.0647,
             "Austria",
             2015,
             "Connectivity"
            ],
            [
             10.0916,
             "Netherlands",
             2015,
             "Connectivity"
            ],
            [
             7.78229,
             "Europe",
             2015,
             "Connectivity"
            ],
            [
             8.38408,
             "Spain",
             2015,
             "Connectivity"
            ],
            [
             6.959810000000001,
             "Poland",
             2015,
             "Connectivity"
            ],
            [
             8.92415,
             "Deutschland",
             2015,
             "Connectivity"
            ],
            [
             6.52572,
             "Bulgaria",
             2015,
             "Connectivity"
            ],
            [
             9.91113,
             "Finland",
             2015,
             "Connectivity"
            ],
            [
             8.096,
             "Czech Rep.",
             2015,
             "Connectivity"
            ],
            [
             7.65813,
             "France",
             2015,
             "Connectivity"
            ],
            [
             11.3794,
             "Latvia",
             2015,
             "Connectivity"
            ],
            [
             8.58184,
             "Lithuania",
             2015,
             "Connectivity"
            ],
            [
             11.2773,
             "Denmark",
             2015,
             "Connectivity"
            ],
            [
             7.350219999999999,
             "Hungary",
             2015,
             "Connectivity"
            ],
            [
             6.5734699999999995,
             "Ireland",
             2015,
             "Connectivity"
            ],
            [
             11.1992,
             "Sweden",
             2015,
             "Connectivity"
            ],
            [
             5.89582,
             "Italy",
             2015,
             "Connectivity"
            ],
            [
             9.07057,
             "Slovenia",
             2015,
             "Connectivity"
            ],
            [
             5.65107,
             "Croatia",
             2015,
             "Connectivity"
            ],
            [
             8.18213,
             "Malta",
             2015,
             "Connectivity"
            ],
            [
             4.3609800000000005,
             "Cyprus",
             2015,
             "Connectivity"
            ],
            [
             7.71197,
             "Portugal",
             2015,
             "Connectivity"
            ],
            [
             4.73184,
             "Greece",
             2015,
             "Connectivity"
            ],
            [
             8.55669,
             "United Kingdom",
             2015,
             "Connectivity"
            ],
            [
             11.2743,
             "Luxembourg",
             2015,
             "Connectivity"
            ],
            [
             8.73385,
             "Romania",
             2015,
             "Connectivity"
            ],
            [
             9.67203,
             "Estonia",
             2015,
             "Connectivity"
            ],
            [
             7.86075,
             "Belgium",
             2015,
             "Connectivity"
            ],
            [
             7.22112,
             "Slovakia",
             2015,
             "Connectivity"
            ]
           ],
           "hovertemplate": "<b>%{hovertext}</b><br><br><extra></extra>",
           "hovertext": [
            7.0647,
            10.0916,
            7.78229,
            8.38408,
            6.959810000000001,
            8.92415,
            6.52572,
            9.91113,
            8.096,
            7.65813,
            11.3794,
            8.58184,
            11.2773,
            7.350219999999999,
            6.5734699999999995,
            11.1992,
            5.89582,
            9.07057,
            5.65107,
            8.18213,
            4.3609800000000005,
            7.71197,
            4.73184,
            8.55669,
            11.2743,
            8.73385,
            9.67203,
            7.86075,
            7.22112
           ],
           "ids": [
            "Austria",
            "Netherlands",
            "Europe",
            "Spain",
            "Poland",
            "Deutschland",
            "Bulgaria",
            "Finland",
            "Czech Rep.",
            "France",
            "Latvia",
            "Lithuania",
            "Denmark",
            "Hungary",
            "Ireland",
            "Sweden",
            "Italy",
            "Slovenia",
            "Croatia",
            "Malta",
            "Cyprus",
            "Portugal",
            "Greece",
            "United Kingdom",
            "Luxembourg",
            "Romania",
            "Estonia",
            "Belgium",
            "Slovakia"
           ],
           "legendgroup": "Connectivity",
           "marker": {
            "color": "#F16913"
           },
           "name": "Connectivity",
           "offsetgroup": "Connectivity",
           "orientation": "v",
           "showlegend": true,
           "textposition": "auto",
           "type": "bar",
           "x": [
            "Austria",
            "Netherlands",
            "Europe",
            "Spain",
            "Poland",
            "Deutschland",
            "Bulgaria",
            "Finland",
            "Czech Rep.",
            "France",
            "Latvia",
            "Lithuania",
            "Denmark",
            "Hungary",
            "Ireland",
            "Sweden",
            "Italy",
            "Slovenia",
            "Croatia",
            "Malta",
            "Cyprus",
            "Portugal",
            "Greece",
            "United Kingdom",
            "Luxembourg",
            "Romania",
            "Estonia",
            "Belgium",
            "Slovakia"
           ],
           "xaxis": "x",
           "y": [
            7.0647,
            10.0916,
            7.78229,
            8.38408,
            6.959810000000001,
            8.92415,
            6.52572,
            9.91113,
            8.096,
            7.65813,
            11.3794,
            8.58184,
            11.2773,
            7.350219999999999,
            6.5734699999999995,
            11.1992,
            5.89582,
            9.07057,
            5.65107,
            8.18213,
            4.3609800000000005,
            7.71197,
            4.73184,
            8.55669,
            11.2743,
            8.73385,
            9.67203,
            7.86075,
            7.22112
           ],
           "yaxis": "y"
          },
          {
           "alignmentgroup": "True",
           "customdata": [
            [
             9.09689,
             "Lithuania",
             2015,
             "Digital Public Services"
            ],
            [
             7.53211,
             "Europe",
             2015,
             "Digital Public Services"
            ],
            [
             10.8173,
             "Finland",
             2015,
             "Digital Public Services"
            ],
            [
             11.1576,
             "Denmark",
             2015,
             "Digital Public Services"
            ],
            [
             9.9463,
             "Netherlands",
             2015,
             "Digital Public Services"
            ],
            [
             10.1328,
             "Portugal",
             2015,
             "Digital Public Services"
            ],
            [
             4.66594,
             "Romania",
             2015,
             "Digital Public Services"
            ],
            [
             9.84623,
             "Sweden",
             2015,
             "Digital Public Services"
            ],
            [
             9.15099,
             "Ireland",
             2015,
             "Digital Public Services"
            ],
            [
             9.608460000000001,
             "Spain",
             2015,
             "Digital Public Services"
            ],
            [
             7.959739999999999,
             "Poland",
             2015,
             "Digital Public Services"
            ],
            [
             4.95589,
             "Czech Rep.",
             2015,
             "Digital Public Services"
            ],
            [
             6.90362,
             "Slovenia",
             2015,
             "Digital Public Services"
            ],
            [
             6.34576,
             "Deutschland",
             2015,
             "Digital Public Services"
            ],
            [
             8.98968,
             "Austria",
             2015,
             "Digital Public Services"
            ],
            [
             11.5939,
             "Estonia",
             2015,
             "Digital Public Services"
            ],
            [
             6.869689999999999,
             "France",
             2015,
             "Digital Public Services"
            ],
            [
             4.590330000000001,
             "Slovakia",
             2015,
             "Digital Public Services"
            ],
            [
             6.23641,
             "Luxembourg",
             2015,
             "Digital Public Services"
            ],
            [
             7.32045,
             "United Kingdom",
             2015,
             "Digital Public Services"
            ],
            [
             10.6802,
             "Malta",
             2015,
             "Digital Public Services"
            ],
            [
             7.277419999999999,
             "Cyprus",
             2015,
             "Digital Public Services"
            ],
            [
             7.71922,
             "Belgium",
             2015,
             "Digital Public Services"
            ],
            [
             4.07108,
             "Croatia",
             2015,
             "Digital Public Services"
            ],
            [
             3.09321,
             "Greece",
             2015,
             "Digital Public Services"
            ],
            [
             6.90543,
             "Italy",
             2015,
             "Digital Public Services"
            ],
            [
             8.19661,
             "Latvia",
             2015,
             "Digital Public Services"
            ],
            [
             4.23128,
             "Hungary",
             2015,
             "Digital Public Services"
            ],
            [
             5.50959,
             "Bulgaria",
             2015,
             "Digital Public Services"
            ]
           ],
           "hovertemplate": "<b>%{hovertext}</b><br><br><extra></extra>",
           "hovertext": [
            9.09689,
            7.53211,
            10.8173,
            11.1576,
            9.9463,
            10.1328,
            4.66594,
            9.84623,
            9.15099,
            9.608460000000001,
            7.959739999999999,
            4.95589,
            6.90362,
            6.34576,
            8.98968,
            11.5939,
            6.869689999999999,
            4.590330000000001,
            6.23641,
            7.32045,
            10.6802,
            7.277419999999999,
            7.71922,
            4.07108,
            3.09321,
            6.90543,
            8.19661,
            4.23128,
            5.50959
           ],
           "ids": [
            "Lithuania",
            "Europe",
            "Finland",
            "Denmark",
            "Netherlands",
            "Portugal",
            "Romania",
            "Sweden",
            "Ireland",
            "Spain",
            "Poland",
            "Czech Rep.",
            "Slovenia",
            "Deutschland",
            "Austria",
            "Estonia",
            "France",
            "Slovakia",
            "Luxembourg",
            "United Kingdom",
            "Malta",
            "Cyprus",
            "Belgium",
            "Croatia",
            "Greece",
            "Italy",
            "Latvia",
            "Hungary",
            "Bulgaria"
           ],
           "legendgroup": "Digital Public Services",
           "marker": {
            "color": "#EF3B2C"
           },
           "name": "Digital Public Services",
           "offsetgroup": "Digital Public Services",
           "orientation": "v",
           "showlegend": true,
           "textposition": "auto",
           "type": "bar",
           "x": [
            "Lithuania",
            "Europe",
            "Finland",
            "Denmark",
            "Netherlands",
            "Portugal",
            "Romania",
            "Sweden",
            "Ireland",
            "Spain",
            "Poland",
            "Czech Rep.",
            "Slovenia",
            "Deutschland",
            "Austria",
            "Estonia",
            "France",
            "Slovakia",
            "Luxembourg",
            "United Kingdom",
            "Malta",
            "Cyprus",
            "Belgium",
            "Croatia",
            "Greece",
            "Italy",
            "Latvia",
            "Hungary",
            "Bulgaria"
           ],
           "xaxis": "x",
           "y": [
            9.09689,
            7.53211,
            10.8173,
            11.1576,
            9.9463,
            10.1328,
            4.66594,
            9.84623,
            9.15099,
            9.608460000000001,
            7.959739999999999,
            4.95589,
            6.90362,
            6.34576,
            8.98968,
            11.5939,
            6.869689999999999,
            4.590330000000001,
            6.23641,
            7.32045,
            10.6802,
            7.277419999999999,
            7.71922,
            4.07108,
            3.09321,
            6.90543,
            8.19661,
            4.23128,
            5.50959
           ],
           "yaxis": "y"
          },
          {
           "alignmentgroup": "True",
           "customdata": [
            [
             9.24162,
             "Slovakia",
             2015,
             "Human Capital"
            ],
            [
             9.18325,
             "Latvia",
             2015,
             "Human Capital"
            ],
            [
             12.5472,
             "Austria",
             2015,
             "Human Capital"
            ],
            [
             10.414000000000001,
             "Slovenia",
             2015,
             "Human Capital"
            ],
            [
             9.60926,
             "Hungary",
             2015,
             "Human Capital"
            ],
            [
             11.8648,
             "Ireland",
             2015,
             "Human Capital"
            ],
            [
             8.388530000000001,
             "Cyprus",
             2015,
             "Human Capital"
            ],
            [
             7.91995,
             "Poland",
             2015,
             "Human Capital"
            ],
            [
             13.9732,
             "Estonia",
             2015,
             "Human Capital"
            ],
            [
             10.9983,
             "Europe",
             2015,
             "Human Capital"
            ],
            [
             8.55204,
             "Greece",
             2015,
             "Human Capital"
            ],
            [
             7.701289999999999,
             "Italy",
             2015,
             "Human Capital"
            ],
            [
             10.2502,
             "Croatia",
             2015,
             "Human Capital"
            ],
            [
             13.34,
             "Malta",
             2015,
             "Human Capital"
            ],
            [
             7.976789999999999,
             "Portugal",
             2015,
             "Human Capital"
            ],
            [
             6.86706,
             "Romania",
             2015,
             "Human Capital"
            ],
            [
             11.0647,
             "France",
             2015,
             "Human Capital"
            ],
            [
             8.73623,
             "Lithuania",
             2015,
             "Human Capital"
            ],
            [
             18.0519,
             "Finland",
             2015,
             "Human Capital"
            ],
            [
             15.1573,
             "Denmark",
             2015,
             "Human Capital"
            ],
            [
             11.2147,
             "Czech Rep.",
             2015,
             "Human Capital"
            ],
            [
             15.3152,
             "Sweden",
             2015,
             "Human Capital"
            ],
            [
             7.29471,
             "Bulgaria",
             2015,
             "Human Capital"
            ],
            [
             11.5957,
             "Belgium",
             2015,
             "Human Capital"
            ],
            [
             14.088,
             "United Kingdom",
             2015,
             "Human Capital"
            ],
            [
             12.8161,
             "Deutschland",
             2015,
             "Human Capital"
            ],
            [
             10.7992,
             "Spain",
             2015,
             "Human Capital"
            ],
            [
             13.5831,
             "Netherlands",
             2015,
             "Human Capital"
            ],
            [
             13.1423,
             "Luxembourg",
             2015,
             "Human Capital"
            ]
           ],
           "hovertemplate": "<b>%{hovertext}</b><br><br><extra></extra>",
           "hovertext": [
            9.24162,
            9.18325,
            12.5472,
            10.414000000000001,
            9.60926,
            11.8648,
            8.388530000000001,
            7.91995,
            13.9732,
            10.9983,
            8.55204,
            7.701289999999999,
            10.2502,
            13.34,
            7.976789999999999,
            6.86706,
            11.0647,
            8.73623,
            18.0519,
            15.1573,
            11.2147,
            15.3152,
            7.29471,
            11.5957,
            14.088,
            12.8161,
            10.7992,
            13.5831,
            13.1423
           ],
           "ids": [
            "Slovakia",
            "Latvia",
            "Austria",
            "Slovenia",
            "Hungary",
            "Ireland",
            "Cyprus",
            "Poland",
            "Estonia",
            "Europe",
            "Greece",
            "Italy",
            "Croatia",
            "Malta",
            "Portugal",
            "Romania",
            "France",
            "Lithuania",
            "Finland",
            "Denmark",
            "Czech Rep.",
            "Sweden",
            "Bulgaria",
            "Belgium",
            "United Kingdom",
            "Deutschland",
            "Spain",
            "Netherlands",
            "Luxembourg"
           ],
           "legendgroup": "Human Capital",
           "marker": {
            "color": "#41AB5D"
           },
           "name": "Human Capital",
           "offsetgroup": "Human Capital",
           "orientation": "v",
           "showlegend": true,
           "textposition": "auto",
           "type": "bar",
           "x": [
            "Slovakia",
            "Latvia",
            "Austria",
            "Slovenia",
            "Hungary",
            "Ireland",
            "Cyprus",
            "Poland",
            "Estonia",
            "Europe",
            "Greece",
            "Italy",
            "Croatia",
            "Malta",
            "Portugal",
            "Romania",
            "France",
            "Lithuania",
            "Finland",
            "Denmark",
            "Czech Rep.",
            "Sweden",
            "Bulgaria",
            "Belgium",
            "United Kingdom",
            "Deutschland",
            "Spain",
            "Netherlands",
            "Luxembourg"
           ],
           "xaxis": "x",
           "y": [
            9.24162,
            9.18325,
            12.5472,
            10.414000000000001,
            9.60926,
            11.8648,
            8.388530000000001,
            7.91995,
            13.9732,
            10.9983,
            8.55204,
            7.701289999999999,
            10.2502,
            13.34,
            7.976789999999999,
            6.86706,
            11.0647,
            8.73623,
            18.0519,
            15.1573,
            11.2147,
            15.3152,
            7.29471,
            11.5957,
            14.088,
            12.8161,
            10.7992,
            13.5831,
            13.1423
           ],
           "yaxis": "y"
          },
          {
           "alignmentgroup": "True",
           "customdata": [
            [
             9.46597,
             "Finland",
             2015,
             "Use of Internet Services"
            ],
            [
             7.22226,
             "Lithuania",
             2015,
             "Use of Internet Services"
            ],
            [
             6.75529,
             "Latvia",
             2015,
             "Use of Internet Services"
            ],
            [
             6.39002,
             "Czech Rep.",
             2015,
             "Use of Internet Services"
            ],
            [
             7.15562,
             "Malta",
             2015,
             "Use of Internet Services"
            ],
            [
             9.7598,
             "Sweden",
             2015,
             "Use of Internet Services"
            ],
            [
             5.6226199999999995,
             "Cyprus",
             2015,
             "Use of Internet Services"
            ],
            [
             4.901,
             "Greece",
             2015,
             "Use of Internet Services"
            ],
            [
             7.298839999999999,
             "Deutschland",
             2015,
             "Use of Internet Services"
            ],
            [
             3.25604,
             "Romania",
             2015,
             "Use of Internet Services"
            ],
            [
             6.41774,
             "Slovakia",
             2015,
             "Use of Internet Services"
            ],
            [
             6.68507,
             "France",
             2015,
             "Use of Internet Services"
            ],
            [
             6.33007,
             "Austria",
             2015,
             "Use of Internet Services"
            ],
            [
             6.715039999999999,
             "Spain",
             2015,
             "Use of Internet Services"
            ],
            [
             8.93206,
             "Netherlands",
             2015,
             "Use of Internet Services"
            ],
            [
             9.79622,
             "Denmark",
             2015,
             "Use of Internet Services"
            ],
            [
             6.22316,
             "Ireland",
             2015,
             "Use of Internet Services"
            ],
            [
             6.75127,
             "Europe",
             2015,
             "Use of Internet Services"
            ],
            [
             4.8125599999999995,
             "Italy",
             2015,
             "Use of Internet Services"
            ],
            [
             6.90422,
             "Hungary",
             2015,
             "Use of Internet Services"
            ],
            [
             5.88007,
             "Croatia",
             2015,
             "Use of Internet Services"
            ],
            [
             6.5115099999999995,
             "Slovenia",
             2015,
             "Use of Internet Services"
            ],
            [
             8.73296,
             "Luxembourg",
             2015,
             "Use of Internet Services"
            ],
            [
             8.50934,
             "Estonia",
             2015,
             "Use of Internet Services"
            ],
            [
             5.23077,
             "Portugal",
             2015,
             "Use of Internet Services"
            ],
            [
             7.078410000000001,
             "Belgium",
             2015,
             "Use of Internet Services"
            ],
            [
             8.7379,
             "United Kingdom",
             2015,
             "Use of Internet Services"
            ],
            [
             4.42656,
             "Bulgaria",
             2015,
             "Use of Internet Services"
            ],
            [
             5.01313,
             "Poland",
             2015,
             "Use of Internet Services"
            ]
           ],
           "hovertemplate": "<b>%{hovertext}</b><br><br><extra></extra>",
           "hovertext": [
            9.46597,
            7.22226,
            6.75529,
            6.39002,
            7.15562,
            9.7598,
            5.6226199999999995,
            4.901,
            7.298839999999999,
            3.25604,
            6.41774,
            6.68507,
            6.33007,
            6.715039999999999,
            8.93206,
            9.79622,
            6.22316,
            6.75127,
            4.8125599999999995,
            6.90422,
            5.88007,
            6.5115099999999995,
            8.73296,
            8.50934,
            5.23077,
            7.078410000000001,
            8.7379,
            4.42656,
            5.01313
           ],
           "ids": [
            "Finland",
            "Lithuania",
            "Latvia",
            "Czech Rep.",
            "Malta",
            "Sweden",
            "Cyprus",
            "Greece",
            "Deutschland",
            "Romania",
            "Slovakia",
            "France",
            "Austria",
            "Spain",
            "Netherlands",
            "Denmark",
            "Ireland",
            "Europe",
            "Italy",
            "Hungary",
            "Croatia",
            "Slovenia",
            "Luxembourg",
            "Estonia",
            "Portugal",
            "Belgium",
            "United Kingdom",
            "Bulgaria",
            "Poland"
           ],
           "legendgroup": "Use of Internet Services",
           "marker": {
            "color": "#4292C6"
           },
           "name": "Use of Internet Services",
           "offsetgroup": "Use of Internet Services",
           "orientation": "v",
           "showlegend": true,
           "textposition": "auto",
           "type": "bar",
           "x": [
            "Finland",
            "Lithuania",
            "Latvia",
            "Czech Rep.",
            "Malta",
            "Sweden",
            "Cyprus",
            "Greece",
            "Deutschland",
            "Romania",
            "Slovakia",
            "France",
            "Austria",
            "Spain",
            "Netherlands",
            "Denmark",
            "Ireland",
            "Europe",
            "Italy",
            "Hungary",
            "Croatia",
            "Slovenia",
            "Luxembourg",
            "Estonia",
            "Portugal",
            "Belgium",
            "United Kingdom",
            "Bulgaria",
            "Poland"
           ],
           "xaxis": "x",
           "y": [
            9.46597,
            7.22226,
            6.75529,
            6.39002,
            7.15562,
            9.7598,
            5.6226199999999995,
            4.901,
            7.298839999999999,
            3.25604,
            6.41774,
            6.68507,
            6.33007,
            6.715039999999999,
            8.93206,
            9.79622,
            6.22316,
            6.75127,
            4.8125599999999995,
            6.90422,
            5.88007,
            6.5115099999999995,
            8.73296,
            8.50934,
            5.23077,
            7.078410000000001,
            8.7379,
            4.42656,
            5.01313
           ],
           "yaxis": "y"
          },
          {
           "alignmentgroup": "True",
           "customdata": [
            [
             5.69643,
             "Deutschland",
             2015,
             "Integration of Digital Technology"
            ],
            [
             8.676919999999999,
             "Netherlands",
             2015,
             "Integration of Digital Technology"
            ],
            [
             5.85388,
             "Spain",
             2015,
             "Integration of Digital Technology"
            ],
            [
             9.009319999999999,
             "Sweden",
             2015,
             "Integration of Digital Technology"
            ],
            [
             5.589169999999999,
             "Slovakia",
             2015,
             "Integration of Digital Technology"
            ],
            [
             8.426969999999999,
             "Finland",
             2015,
             "Integration of Digital Technology"
            ],
            [
             5.60393,
             "Austria",
             2015,
             "Integration of Digital Technology"
            ],
            [
             3.05672,
             "Bulgaria",
             2015,
             "Integration of Digital Technology"
            ],
            [
             5.18109,
             "France",
             2015,
             "Integration of Digital Technology"
            ],
            [
             9.59295,
             "Denmark",
             2015,
             "Integration of Digital Technology"
            ],
            [
             9.25737,
             "Ireland",
             2015,
             "Integration of Digital Technology"
            ],
            [
             3.45362,
             "Poland",
             2015,
             "Integration of Digital Technology"
            ],
            [
             6.7355100000000006,
             "Lithuania",
             2015,
             "Integration of Digital Technology"
            ],
            [
             7.12971,
             "Malta",
             2015,
             "Integration of Digital Technology"
            ],
            [
             6.02412,
             "Portugal",
             2015,
             "Integration of Digital Technology"
            ],
            [
             8.56758,
             "Belgium",
             2015,
             "Integration of Digital Technology"
            ],
            [
             5.38068,
             "Luxembourg",
             2015,
             "Integration of Digital Technology"
            ],
            [
             7.0004100000000005,
             "United Kingdom",
             2015,
             "Integration of Digital Technology"
            ],
            [
             3.10604,
             "Latvia",
             2015,
             "Integration of Digital Technology"
            ],
            [
             7.4405600000000005,
             "Czech Rep.",
             2015,
             "Integration of Digital Technology"
            ],
            [
             4.9422,
             "Estonia",
             2015,
             "Integration of Digital Technology"
            ],
            [
             4.99911,
             "Cyprus",
             2015,
             "Integration of Digital Technology"
            ],
            [
             4.4357,
             "Italy",
             2015,
             "Integration of Digital Technology"
            ],
            [
             7.14795,
             "Croatia",
             2015,
             "Integration of Digital Technology"
            ],
            [
             5.3345,
             "Slovenia",
             2015,
             "Integration of Digital Technology"
            ],
            [
             3.59053,
             "Hungary",
             2015,
             "Integration of Digital Technology"
            ],
            [
             4.854769999999999,
             "Greece",
             2015,
             "Integration of Digital Technology"
            ],
            [
             5.8445800000000006,
             "Europe",
             2015,
             "Integration of Digital Technology"
            ],
            [
             3.3450900000000003,
             "Romania",
             2015,
             "Integration of Digital Technology"
            ]
           ],
           "hovertemplate": "<b>%{hovertext}</b><br><br><extra></extra>",
           "hovertext": [
            5.69643,
            8.676919999999999,
            5.85388,
            9.009319999999999,
            5.589169999999999,
            8.426969999999999,
            5.60393,
            3.05672,
            5.18109,
            9.59295,
            9.25737,
            3.45362,
            6.7355100000000006,
            7.12971,
            6.02412,
            8.56758,
            5.38068,
            7.0004100000000005,
            3.10604,
            7.4405600000000005,
            4.9422,
            4.99911,
            4.4357,
            7.14795,
            5.3345,
            3.59053,
            4.854769999999999,
            5.8445800000000006,
            3.3450900000000003
           ],
           "ids": [
            "Deutschland",
            "Netherlands",
            "Spain",
            "Sweden",
            "Slovakia",
            "Finland",
            "Austria",
            "Bulgaria",
            "France",
            "Denmark",
            "Ireland",
            "Poland",
            "Lithuania",
            "Malta",
            "Portugal",
            "Belgium",
            "Luxembourg",
            "United Kingdom",
            "Latvia",
            "Czech Rep.",
            "Estonia",
            "Cyprus",
            "Italy",
            "Croatia",
            "Slovenia",
            "Hungary",
            "Greece",
            "Europe",
            "Romania"
           ],
           "legendgroup": "Integration of Digital Technology",
           "marker": {
            "color": "#DD3497"
           },
           "name": "Integration of Digital Technology",
           "offsetgroup": "Integration of Digital Technology",
           "orientation": "v",
           "showlegend": true,
           "textposition": "auto",
           "type": "bar",
           "x": [
            "Deutschland",
            "Netherlands",
            "Spain",
            "Sweden",
            "Slovakia",
            "Finland",
            "Austria",
            "Bulgaria",
            "France",
            "Denmark",
            "Ireland",
            "Poland",
            "Lithuania",
            "Malta",
            "Portugal",
            "Belgium",
            "Luxembourg",
            "United Kingdom",
            "Latvia",
            "Czech Rep.",
            "Estonia",
            "Cyprus",
            "Italy",
            "Croatia",
            "Slovenia",
            "Hungary",
            "Greece",
            "Europe",
            "Romania"
           ],
           "xaxis": "x",
           "y": [
            5.69643,
            8.676919999999999,
            5.85388,
            9.009319999999999,
            5.589169999999999,
            8.426969999999999,
            5.60393,
            3.05672,
            5.18109,
            9.59295,
            9.25737,
            3.45362,
            6.7355100000000006,
            7.12971,
            6.02412,
            8.56758,
            5.38068,
            7.0004100000000005,
            3.10604,
            7.4405600000000005,
            4.9422,
            4.99911,
            4.4357,
            7.14795,
            5.3345,
            3.59053,
            4.854769999999999,
            5.8445800000000006,
            3.3450900000000003
           ],
           "yaxis": "y"
          }
         ],
         "name": "2015"
        },
        {
         "data": [
          {
           "alignmentgroup": "True",
           "customdata": [
            [
             8.04293,
             "France",
             2016,
             "Connectivity"
            ],
            [
             9.3908,
             "Spain",
             2016,
             "Connectivity"
            ],
            [
             7.65665,
             "Poland",
             2016,
             "Connectivity"
            ],
            [
             8.521,
             "Hungary",
             2016,
             "Connectivity"
            ],
            [
             8.70171,
             "Portugal",
             2016,
             "Connectivity"
            ],
            [
             9.3144,
             "Lithuania",
             2016,
             "Connectivity"
            ],
            [
             7.38922,
             "Bulgaria",
             2016,
             "Connectivity"
            ],
            [
             7.9614199999999995,
             "Austria",
             2016,
             "Connectivity"
            ],
            [
             10.054,
             "Romania",
             2016,
             "Connectivity"
            ],
            [
             11.5879,
             "Sweden",
             2016,
             "Connectivity"
            ],
            [
             11.683,
             "Denmark",
             2016,
             "Connectivity"
            ],
            [
             6.00218,
             "Cyprus",
             2016,
             "Connectivity"
            ],
            [
             8.5199,
             "Europe",
             2016,
             "Connectivity"
            ],
            [
             9.8273,
             "Slovenia",
             2016,
             "Connectivity"
            ],
            [
             10.7892,
             "Estonia",
             2016,
             "Connectivity"
            ],
            [
             12.2315,
             "Luxembourg",
             2016,
             "Connectivity"
            ],
            [
             8.75152,
             "Malta",
             2016,
             "Connectivity"
            ],
            [
             9.29168,
             "United Kingdom",
             2016,
             "Connectivity"
            ],
            [
             8.56219,
             "Belgium",
             2016,
             "Connectivity"
            ],
            [
             11.269,
             "Netherlands",
             2016,
             "Connectivity"
            ],
            [
             6.786860000000001,
             "Italy",
             2016,
             "Connectivity"
            ],
            [
             6.6798399999999996,
             "Croatia",
             2016,
             "Connectivity"
            ],
            [
             9.36607,
             "Deutschland",
             2016,
             "Connectivity"
            ],
            [
             5.28291,
             "Greece",
             2016,
             "Connectivity"
            ],
            [
             10.0877,
             "Finland",
             2016,
             "Connectivity"
            ],
            [
             7.45574,
             "Ireland",
             2016,
             "Connectivity"
            ],
            [
             7.9615,
             "Slovakia",
             2016,
             "Connectivity"
            ],
            [
             12.4397,
             "Latvia",
             2016,
             "Connectivity"
            ],
            [
             8.67957,
             "Czech Rep.",
             2016,
             "Connectivity"
            ]
           ],
           "hovertemplate": "<b>%{hovertext}</b><br><br><extra></extra>",
           "hovertext": [
            8.04293,
            9.3908,
            7.65665,
            8.521,
            8.70171,
            9.3144,
            7.38922,
            7.9614199999999995,
            10.054,
            11.5879,
            11.683,
            6.00218,
            8.5199,
            9.8273,
            10.7892,
            12.2315,
            8.75152,
            9.29168,
            8.56219,
            11.269,
            6.786860000000001,
            6.6798399999999996,
            9.36607,
            5.28291,
            10.0877,
            7.45574,
            7.9615,
            12.4397,
            8.67957
           ],
           "ids": [
            "France",
            "Spain",
            "Poland",
            "Hungary",
            "Portugal",
            "Lithuania",
            "Bulgaria",
            "Austria",
            "Romania",
            "Sweden",
            "Denmark",
            "Cyprus",
            "Europe",
            "Slovenia",
            "Estonia",
            "Luxembourg",
            "Malta",
            "United Kingdom",
            "Belgium",
            "Netherlands",
            "Italy",
            "Croatia",
            "Deutschland",
            "Greece",
            "Finland",
            "Ireland",
            "Slovakia",
            "Latvia",
            "Czech Rep."
           ],
           "legendgroup": "Connectivity",
           "marker": {
            "color": "#F16913"
           },
           "name": "Connectivity",
           "offsetgroup": "Connectivity",
           "orientation": "v",
           "showlegend": true,
           "textposition": "auto",
           "type": "bar",
           "x": [
            "France",
            "Spain",
            "Poland",
            "Hungary",
            "Portugal",
            "Lithuania",
            "Bulgaria",
            "Austria",
            "Romania",
            "Sweden",
            "Denmark",
            "Cyprus",
            "Europe",
            "Slovenia",
            "Estonia",
            "Luxembourg",
            "Malta",
            "United Kingdom",
            "Belgium",
            "Netherlands",
            "Italy",
            "Croatia",
            "Deutschland",
            "Greece",
            "Finland",
            "Ireland",
            "Slovakia",
            "Latvia",
            "Czech Rep."
           ],
           "xaxis": "x",
           "y": [
            8.04293,
            9.3908,
            7.65665,
            8.521,
            8.70171,
            9.3144,
            7.38922,
            7.9614199999999995,
            10.054,
            11.5879,
            11.683,
            6.00218,
            8.5199,
            9.8273,
            10.7892,
            12.2315,
            8.75152,
            9.29168,
            8.56219,
            11.269,
            6.786860000000001,
            6.6798399999999996,
            9.36607,
            5.28291,
            10.0877,
            7.45574,
            7.9615,
            12.4397,
            8.67957
           ],
           "yaxis": "y"
          },
          {
           "alignmentgroup": "True",
           "customdata": [
            [
             7.843389999999999,
             "Slovenia",
             2016,
             "Digital Public Services"
            ],
            [
             9.98507,
             "Spain",
             2016,
             "Digital Public Services"
            ],
            [
             7.39716,
             "Deutschland",
             2016,
             "Digital Public Services"
            ],
            [
             8.13097,
             "Europe",
             2016,
             "Digital Public Services"
            ],
            [
             10.4901,
             "Netherlands",
             2016,
             "Digital Public Services"
            ],
            [
             10.1228,
             "Lithuania",
             2016,
             "Digital Public Services"
            ],
            [
             6.20368,
             "Bulgaria",
             2016,
             "Digital Public Services"
            ],
            [
             11.5573,
             "Denmark",
             2016,
             "Digital Public Services"
            ],
            [
             9.45825,
             "Ireland",
             2016,
             "Digital Public Services"
            ],
            [
             7.9875300000000005,
             "Poland",
             2016,
             "Digital Public Services"
            ],
            [
             7.36923,
             "Italy",
             2016,
             "Digital Public Services"
            ],
            [
             7.982589999999999,
             "France",
             2016,
             "Digital Public Services"
            ],
            [
             4.66144,
             "Slovakia",
             2016,
             "Digital Public Services"
            ],
            [
             8.59278,
             "Belgium",
             2016,
             "Digital Public Services"
            ],
            [
             8.21519,
             "Cyprus",
             2016,
             "Digital Public Services"
            ],
            [
             10.7141,
             "Malta",
             2016,
             "Digital Public Services"
            ],
            [
             11.1308,
             "Finland",
             2016,
             "Digital Public Services"
            ],
            [
             4.3331800000000005,
             "Hungary",
             2016,
             "Digital Public Services"
            ],
            [
             5.7314,
             "Croatia",
             2016,
             "Digital Public Services"
            ],
            [
             4.04601,
             "Greece",
             2016,
             "Digital Public Services"
            ],
            [
             5.63025,
             "Czech Rep.",
             2016,
             "Digital Public Services"
            ],
            [
             9.96632,
             "Austria",
             2016,
             "Digital Public Services"
            ],
            [
             10.7337,
             "Sweden",
             2016,
             "Digital Public Services"
            ],
            [
             6.73077,
             "Luxembourg",
             2016,
             "Digital Public Services"
            ],
            [
             5.12475,
             "Romania",
             2016,
             "Digital Public Services"
            ],
            [
             8.00073,
             "United Kingdom",
             2016,
             "Digital Public Services"
            ],
            [
             12.0676,
             "Estonia",
             2016,
             "Digital Public Services"
            ],
            [
             9.24145,
             "Latvia",
             2016,
             "Digital Public Services"
            ],
            [
             10.2168,
             "Portugal",
             2016,
             "Digital Public Services"
            ]
           ],
           "hovertemplate": "<b>%{hovertext}</b><br><br><extra></extra>",
           "hovertext": [
            7.843389999999999,
            9.98507,
            7.39716,
            8.13097,
            10.4901,
            10.1228,
            6.20368,
            11.5573,
            9.45825,
            7.9875300000000005,
            7.36923,
            7.982589999999999,
            4.66144,
            8.59278,
            8.21519,
            10.7141,
            11.1308,
            4.3331800000000005,
            5.7314,
            4.04601,
            5.63025,
            9.96632,
            10.7337,
            6.73077,
            5.12475,
            8.00073,
            12.0676,
            9.24145,
            10.2168
           ],
           "ids": [
            "Slovenia",
            "Spain",
            "Deutschland",
            "Europe",
            "Netherlands",
            "Lithuania",
            "Bulgaria",
            "Denmark",
            "Ireland",
            "Poland",
            "Italy",
            "France",
            "Slovakia",
            "Belgium",
            "Cyprus",
            "Malta",
            "Finland",
            "Hungary",
            "Croatia",
            "Greece",
            "Czech Rep.",
            "Austria",
            "Sweden",
            "Luxembourg",
            "Romania",
            "United Kingdom",
            "Estonia",
            "Latvia",
            "Portugal"
           ],
           "legendgroup": "Digital Public Services",
           "marker": {
            "color": "#EF3B2C"
           },
           "name": "Digital Public Services",
           "offsetgroup": "Digital Public Services",
           "orientation": "v",
           "showlegend": true,
           "textposition": "auto",
           "type": "bar",
           "x": [
            "Slovenia",
            "Spain",
            "Deutschland",
            "Europe",
            "Netherlands",
            "Lithuania",
            "Bulgaria",
            "Denmark",
            "Ireland",
            "Poland",
            "Italy",
            "France",
            "Slovakia",
            "Belgium",
            "Cyprus",
            "Malta",
            "Finland",
            "Hungary",
            "Croatia",
            "Greece",
            "Czech Rep.",
            "Austria",
            "Sweden",
            "Luxembourg",
            "Romania",
            "United Kingdom",
            "Estonia",
            "Latvia",
            "Portugal"
           ],
           "xaxis": "x",
           "y": [
            7.843389999999999,
            9.98507,
            7.39716,
            8.13097,
            10.4901,
            10.1228,
            6.20368,
            11.5573,
            9.45825,
            7.9875300000000005,
            7.36923,
            7.982589999999999,
            4.66144,
            8.59278,
            8.21519,
            10.7141,
            11.1308,
            4.3331800000000005,
            5.7314,
            4.04601,
            5.63025,
            9.96632,
            10.7337,
            6.73077,
            5.12475,
            8.00073,
            12.0676,
            9.24145,
            10.2168
           ],
           "yaxis": "y"
          },
          {
           "alignmentgroup": "True",
           "customdata": [
            [
             9.74277,
             "Slovakia",
             2016,
             "Human Capital"
            ],
            [
             10.7067,
             "Slovenia",
             2016,
             "Human Capital"
            ],
            [
             15.5666,
             "Sweden",
             2016,
             "Human Capital"
            ],
            [
             8.32975,
             "Greece",
             2016,
             "Human Capital"
            ],
            [
             9.87278,
             "Hungary",
             2016,
             "Human Capital"
            ],
            [
             11.1315,
             "Europe",
             2016,
             "Human Capital"
            ],
            [
             13.363,
             "Luxembourg",
             2016,
             "Human Capital"
            ],
            [
             11.7351,
             "Belgium",
             2016,
             "Human Capital"
            ],
            [
             13.9155,
             "Estonia",
             2016,
             "Human Capital"
            ],
            [
             10.4143,
             "Croatia",
             2016,
             "Human Capital"
            ],
            [
             11.9205,
             "Ireland",
             2016,
             "Human Capital"
            ],
            [
             8.76808,
             "Lithuania",
             2016,
             "Human Capital"
            ],
            [
             18.3585,
             "Finland",
             2016,
             "Human Capital"
            ],
            [
             14.3399,
             "United Kingdom",
             2016,
             "Human Capital"
            ],
            [
             15.0626,
             "Denmark",
             2016,
             "Human Capital"
            ],
            [
             8.00569,
             "Poland",
             2016,
             "Human Capital"
            ],
            [
             11.1397,
             "Czech Rep.",
             2016,
             "Human Capital"
            ],
            [
             13.1446,
             "Deutschland",
             2016,
             "Human Capital"
            ],
            [
             11.3716,
             "Spain",
             2016,
             "Human Capital"
            ],
            [
             13.8246,
             "Netherlands",
             2016,
             "Human Capital"
            ],
            [
             7.78954,
             "Italy",
             2016,
             "Human Capital"
            ],
            [
             10.867,
             "France",
             2016,
             "Human Capital"
            ],
            [
             12.5832,
             "Austria",
             2016,
             "Human Capital"
            ],
            [
             7.110939999999999,
             "Bulgaria",
             2016,
             "Human Capital"
            ],
            [
             8.43621,
             "Cyprus",
             2016,
             "Human Capital"
            ],
            [
             13.9845,
             "Malta",
             2016,
             "Human Capital"
            ],
            [
             8.73376,
             "Portugal",
             2016,
             "Human Capital"
            ],
            [
             9.45307,
             "Latvia",
             2016,
             "Human Capital"
            ],
            [
             6.88903,
             "Romania",
             2016,
             "Human Capital"
            ]
           ],
           "hovertemplate": "<b>%{hovertext}</b><br><br><extra></extra>",
           "hovertext": [
            9.74277,
            10.7067,
            15.5666,
            8.32975,
            9.87278,
            11.1315,
            13.363,
            11.7351,
            13.9155,
            10.4143,
            11.9205,
            8.76808,
            18.3585,
            14.3399,
            15.0626,
            8.00569,
            11.1397,
            13.1446,
            11.3716,
            13.8246,
            7.78954,
            10.867,
            12.5832,
            7.110939999999999,
            8.43621,
            13.9845,
            8.73376,
            9.45307,
            6.88903
           ],
           "ids": [
            "Slovakia",
            "Slovenia",
            "Sweden",
            "Greece",
            "Hungary",
            "Europe",
            "Luxembourg",
            "Belgium",
            "Estonia",
            "Croatia",
            "Ireland",
            "Lithuania",
            "Finland",
            "United Kingdom",
            "Denmark",
            "Poland",
            "Czech Rep.",
            "Deutschland",
            "Spain",
            "Netherlands",
            "Italy",
            "France",
            "Austria",
            "Bulgaria",
            "Cyprus",
            "Malta",
            "Portugal",
            "Latvia",
            "Romania"
           ],
           "legendgroup": "Human Capital",
           "marker": {
            "color": "#41AB5D"
           },
           "name": "Human Capital",
           "offsetgroup": "Human Capital",
           "orientation": "v",
           "showlegend": true,
           "textposition": "auto",
           "type": "bar",
           "x": [
            "Slovakia",
            "Slovenia",
            "Sweden",
            "Greece",
            "Hungary",
            "Europe",
            "Luxembourg",
            "Belgium",
            "Estonia",
            "Croatia",
            "Ireland",
            "Lithuania",
            "Finland",
            "United Kingdom",
            "Denmark",
            "Poland",
            "Czech Rep.",
            "Deutschland",
            "Spain",
            "Netherlands",
            "Italy",
            "France",
            "Austria",
            "Bulgaria",
            "Cyprus",
            "Malta",
            "Portugal",
            "Latvia",
            "Romania"
           ],
           "xaxis": "x",
           "y": [
            9.74277,
            10.7067,
            15.5666,
            8.32975,
            9.87278,
            11.1315,
            13.363,
            11.7351,
            13.9155,
            10.4143,
            11.9205,
            8.76808,
            18.3585,
            14.3399,
            15.0626,
            8.00569,
            11.1397,
            13.1446,
            11.3716,
            13.8246,
            7.78954,
            10.867,
            12.5832,
            7.110939999999999,
            8.43621,
            13.9845,
            8.73376,
            9.45307,
            6.88903
           ],
           "yaxis": "y"
          },
          {
           "alignmentgroup": "True",
           "customdata": [
            [
             7.24052,
             "Latvia",
             2016,
             "Use of Internet Services"
            ],
            [
             7.08427,
             "Hungary",
             2016,
             "Use of Internet Services"
            ],
            [
             7.71351,
             "Deutschland",
             2016,
             "Use of Internet Services"
            ],
            [
             6.63704,
             "Austria",
             2016,
             "Use of Internet Services"
            ],
            [
             4.7099,
             "Bulgaria",
             2016,
             "Use of Internet Services"
            ],
            [
             6.31311,
             "Slovakia",
             2016,
             "Use of Internet Services"
            ],
            [
             3.90596,
             "Romania",
             2016,
             "Use of Internet Services"
            ],
            [
             8.00262,
             "Malta",
             2016,
             "Use of Internet Services"
            ],
            [
             6.893689999999999,
             "Croatia",
             2016,
             "Use of Internet Services"
            ],
            [
             5.9559,
             "Cyprus",
             2016,
             "Use of Internet Services"
            ],
            [
             9.02975,
             "Netherlands",
             2016,
             "Use of Internet Services"
            ],
            [
             9.98132,
             "Denmark",
             2016,
             "Use of Internet Services"
            ],
            [
             5.28095,
             "Greece",
             2016,
             "Use of Internet Services"
            ],
            [
             6.99938,
             "Europe",
             2016,
             "Use of Internet Services"
            ],
            [
             9.246839999999999,
             "Luxembourg",
             2016,
             "Use of Internet Services"
            ],
            [
             5.18565,
             "Poland",
             2016,
             "Use of Internet Services"
            ],
            [
             5.685630000000001,
             "Portugal",
             2016,
             "Use of Internet Services"
            ],
            [
             8.86777,
             "Estonia",
             2016,
             "Use of Internet Services"
            ],
            [
             6.38236,
             "Ireland",
             2016,
             "Use of Internet Services"
            ],
            [
             8.99819,
             "United Kingdom",
             2016,
             "Use of Internet Services"
            ],
            [
             6.44895,
             "Czech Rep.",
             2016,
             "Use of Internet Services"
            ],
            [
             6.02821,
             "Slovenia",
             2016,
             "Use of Internet Services"
            ],
            [
             6.70262,
             "France",
             2016,
             "Use of Internet Services"
            ],
            [
             6.955360000000001,
             "Spain",
             2016,
             "Use of Internet Services"
            ],
            [
             6.83149,
             "Lithuania",
             2016,
             "Use of Internet Services"
            ],
            [
             9.58601,
             "Finland",
             2016,
             "Use of Internet Services"
            ],
            [
             9.59623,
             "Sweden",
             2016,
             "Use of Internet Services"
            ],
            [
             7.54961,
             "Belgium",
             2016,
             "Use of Internet Services"
            ],
            [
             4.9288099999999995,
             "Italy",
             2016,
             "Use of Internet Services"
            ]
           ],
           "hovertemplate": "<b>%{hovertext}</b><br><br><extra></extra>",
           "hovertext": [
            7.24052,
            7.08427,
            7.71351,
            6.63704,
            4.7099,
            6.31311,
            3.90596,
            8.00262,
            6.893689999999999,
            5.9559,
            9.02975,
            9.98132,
            5.28095,
            6.99938,
            9.246839999999999,
            5.18565,
            5.685630000000001,
            8.86777,
            6.38236,
            8.99819,
            6.44895,
            6.02821,
            6.70262,
            6.955360000000001,
            6.83149,
            9.58601,
            9.59623,
            7.54961,
            4.9288099999999995
           ],
           "ids": [
            "Latvia",
            "Hungary",
            "Deutschland",
            "Austria",
            "Bulgaria",
            "Slovakia",
            "Romania",
            "Malta",
            "Croatia",
            "Cyprus",
            "Netherlands",
            "Denmark",
            "Greece",
            "Europe",
            "Luxembourg",
            "Poland",
            "Portugal",
            "Estonia",
            "Ireland",
            "United Kingdom",
            "Czech Rep.",
            "Slovenia",
            "France",
            "Spain",
            "Lithuania",
            "Finland",
            "Sweden",
            "Belgium",
            "Italy"
           ],
           "legendgroup": "Use of Internet Services",
           "marker": {
            "color": "#4292C6"
           },
           "name": "Use of Internet Services",
           "offsetgroup": "Use of Internet Services",
           "orientation": "v",
           "showlegend": true,
           "textposition": "auto",
           "type": "bar",
           "x": [
            "Latvia",
            "Hungary",
            "Deutschland",
            "Austria",
            "Bulgaria",
            "Slovakia",
            "Romania",
            "Malta",
            "Croatia",
            "Cyprus",
            "Netherlands",
            "Denmark",
            "Greece",
            "Europe",
            "Luxembourg",
            "Poland",
            "Portugal",
            "Estonia",
            "Ireland",
            "United Kingdom",
            "Czech Rep.",
            "Slovenia",
            "France",
            "Spain",
            "Lithuania",
            "Finland",
            "Sweden",
            "Belgium",
            "Italy"
           ],
           "xaxis": "x",
           "y": [
            7.24052,
            7.08427,
            7.71351,
            6.63704,
            4.7099,
            6.31311,
            3.90596,
            8.00262,
            6.893689999999999,
            5.9559,
            9.02975,
            9.98132,
            5.28095,
            6.99938,
            9.246839999999999,
            5.18565,
            5.685630000000001,
            8.86777,
            6.38236,
            8.99819,
            6.44895,
            6.02821,
            6.70262,
            6.955360000000001,
            6.83149,
            9.58601,
            9.59623,
            7.54961,
            4.9288099999999995
           ],
           "yaxis": "y"
          },
          {
           "alignmentgroup": "True",
           "customdata": [
            [
             8.12543,
             "United Kingdom",
             2016,
             "Integration of Digital Technology"
            ],
            [
             9.96224,
             "Belgium",
             2016,
             "Integration of Digital Technology"
            ],
            [
             6.6235,
             "Europe",
             2016,
             "Integration of Digital Technology"
            ],
            [
             9.93634,
             "Denmark",
             2016,
             "Integration of Digital Technology"
            ],
            [
             3.1932,
             "Bulgaria",
             2016,
             "Integration of Digital Technology"
            ],
            [
             10.0791,
             "Netherlands",
             2016,
             "Integration of Digital Technology"
            ],
            [
             6.03927,
             "Austria",
             2016,
             "Integration of Digital Technology"
            ],
            [
             6.171,
             "Spain",
             2016,
             "Integration of Digital Technology"
            ],
            [
             11.3485,
             "Ireland",
             2016,
             "Integration of Digital Technology"
            ],
            [
             5.76933,
             "Cyprus",
             2016,
             "Integration of Digital Technology"
            ],
            [
             3.7452699999999997,
             "Romania",
             2016,
             "Integration of Digital Technology"
            ],
            [
             7.464919999999999,
             "Czech Rep.",
             2016,
             "Integration of Digital Technology"
            ],
            [
             9.118089999999999,
             "Finland",
             2016,
             "Integration of Digital Technology"
            ],
            [
             5.24535,
             "Italy",
             2016,
             "Integration of Digital Technology"
            ],
            [
             6.717039999999999,
             "Croatia",
             2016,
             "Integration of Digital Technology"
            ],
            [
             4.01658,
             "Hungary",
             2016,
             "Integration of Digital Technology"
            ],
            [
             6.76501,
             "Slovenia",
             2016,
             "Integration of Digital Technology"
            ],
            [
             6.66063,
             "France",
             2016,
             "Integration of Digital Technology"
            ],
            [
             5.69842,
             "Estonia",
             2016,
             "Integration of Digital Technology"
            ],
            [
             4.5892599999999995,
             "Greece",
             2016,
             "Integration of Digital Technology"
            ],
            [
             3.72171,
             "Latvia",
             2016,
             "Integration of Digital Technology"
            ],
            [
             3.69049,
             "Poland",
             2016,
             "Integration of Digital Technology"
            ],
            [
             9.83455,
             "Sweden",
             2016,
             "Integration of Digital Technology"
            ],
            [
             7.47485,
             "Lithuania",
             2016,
             "Integration of Digital Technology"
            ],
            [
             7.45907,
             "Portugal",
             2016,
             "Integration of Digital Technology"
            ],
            [
             6.37691,
             "Deutschland",
             2016,
             "Integration of Digital Technology"
            ],
            [
             5.2870800000000004,
             "Luxembourg",
             2016,
             "Integration of Digital Technology"
            ],
            [
             7.697210000000001,
             "Malta",
             2016,
             "Integration of Digital Technology"
            ],
            [
             6.1833599999999995,
             "Slovakia",
             2016,
             "Integration of Digital Technology"
            ]
           ],
           "hovertemplate": "<b>%{hovertext}</b><br><br><extra></extra>",
           "hovertext": [
            8.12543,
            9.96224,
            6.6235,
            9.93634,
            3.1932,
            10.0791,
            6.03927,
            6.171,
            11.3485,
            5.76933,
            3.7452699999999997,
            7.464919999999999,
            9.118089999999999,
            5.24535,
            6.717039999999999,
            4.01658,
            6.76501,
            6.66063,
            5.69842,
            4.5892599999999995,
            3.72171,
            3.69049,
            9.83455,
            7.47485,
            7.45907,
            6.37691,
            5.2870800000000004,
            7.697210000000001,
            6.1833599999999995
           ],
           "ids": [
            "United Kingdom",
            "Belgium",
            "Europe",
            "Denmark",
            "Bulgaria",
            "Netherlands",
            "Austria",
            "Spain",
            "Ireland",
            "Cyprus",
            "Romania",
            "Czech Rep.",
            "Finland",
            "Italy",
            "Croatia",
            "Hungary",
            "Slovenia",
            "France",
            "Estonia",
            "Greece",
            "Latvia",
            "Poland",
            "Sweden",
            "Lithuania",
            "Portugal",
            "Deutschland",
            "Luxembourg",
            "Malta",
            "Slovakia"
           ],
           "legendgroup": "Integration of Digital Technology",
           "marker": {
            "color": "#DD3497"
           },
           "name": "Integration of Digital Technology",
           "offsetgroup": "Integration of Digital Technology",
           "orientation": "v",
           "showlegend": true,
           "textposition": "auto",
           "type": "bar",
           "x": [
            "United Kingdom",
            "Belgium",
            "Europe",
            "Denmark",
            "Bulgaria",
            "Netherlands",
            "Austria",
            "Spain",
            "Ireland",
            "Cyprus",
            "Romania",
            "Czech Rep.",
            "Finland",
            "Italy",
            "Croatia",
            "Hungary",
            "Slovenia",
            "France",
            "Estonia",
            "Greece",
            "Latvia",
            "Poland",
            "Sweden",
            "Lithuania",
            "Portugal",
            "Deutschland",
            "Luxembourg",
            "Malta",
            "Slovakia"
           ],
           "xaxis": "x",
           "y": [
            8.12543,
            9.96224,
            6.6235,
            9.93634,
            3.1932,
            10.0791,
            6.03927,
            6.171,
            11.3485,
            5.76933,
            3.7452699999999997,
            7.464919999999999,
            9.118089999999999,
            5.24535,
            6.717039999999999,
            4.01658,
            6.76501,
            6.66063,
            5.69842,
            4.5892599999999995,
            3.72171,
            3.69049,
            9.83455,
            7.47485,
            7.45907,
            6.37691,
            5.2870800000000004,
            7.697210000000001,
            6.1833599999999995
           ],
           "yaxis": "y"
          }
         ],
         "name": "2016"
        },
        {
         "data": [
          {
           "alignmentgroup": "True",
           "customdata": [
            [
             12.5615,
             "Latvia",
             2017,
             "Connectivity"
            ],
            [
             8.56495,
             "Austria",
             2017,
             "Connectivity"
            ],
            [
             9.34853,
             "Hungary",
             2017,
             "Connectivity"
            ],
            [
             8.09246,
             "Ireland",
             2017,
             "Connectivity"
            ],
            [
             9.39356,
             "Belgium",
             2017,
             "Connectivity"
            ],
            [
             13.2761,
             "Luxembourg",
             2017,
             "Connectivity"
            ],
            [
             9.7962,
             "United Kingdom",
             2017,
             "Connectivity"
            ],
            [
             10.7291,
             "Romania",
             2017,
             "Connectivity"
            ],
            [
             8.88166,
             "France",
             2017,
             "Connectivity"
            ],
            [
             8.46599,
             "Bulgaria",
             2017,
             "Connectivity"
            ],
            [
             8.98806,
             "Czech Rep.",
             2017,
             "Connectivity"
            ],
            [
             9.936860000000001,
             "Lithuania",
             2017,
             "Connectivity"
            ],
            [
             8.80974,
             "Poland",
             2017,
             "Connectivity"
            ],
            [
             12.3536,
             "Denmark",
             2017,
             "Connectivity"
            ],
            [
             10.6036,
             "Finland",
             2017,
             "Connectivity"
            ],
            [
             12.2639,
             "Sweden",
             2017,
             "Connectivity"
            ],
            [
             9.68783,
             "Malta",
             2017,
             "Connectivity"
            ],
            [
             11.3625,
             "Estonia",
             2017,
             "Connectivity"
            ],
            [
             9.70383,
             "Portugal",
             2017,
             "Connectivity"
            ],
            [
             8.00891,
             "Italy",
             2017,
             "Connectivity"
            ],
            [
             11.9343,
             "Netherlands",
             2017,
             "Connectivity"
            ],
            [
             9.7305,
             "Deutschland",
             2017,
             "Connectivity"
            ],
            [
             6.822019999999999,
             "Cyprus",
             2017,
             "Connectivity"
            ],
            [
             10.6297,
             "Spain",
             2017,
             "Connectivity"
            ],
            [
             10.4567,
             "Slovenia",
             2017,
             "Connectivity"
            ],
            [
             7.51693,
             "Croatia",
             2017,
             "Connectivity"
            ],
            [
             9.27541,
             "Europe",
             2017,
             "Connectivity"
            ],
            [
             5.86353,
             "Greece",
             2017,
             "Connectivity"
            ],
            [
             9.018410000000001,
             "Slovakia",
             2017,
             "Connectivity"
            ]
           ],
           "hovertemplate": "<b>%{hovertext}</b><br><br><extra></extra>",
           "hovertext": [
            12.5615,
            8.56495,
            9.34853,
            8.09246,
            9.39356,
            13.2761,
            9.7962,
            10.7291,
            8.88166,
            8.46599,
            8.98806,
            9.936860000000001,
            8.80974,
            12.3536,
            10.6036,
            12.2639,
            9.68783,
            11.3625,
            9.70383,
            8.00891,
            11.9343,
            9.7305,
            6.822019999999999,
            10.6297,
            10.4567,
            7.51693,
            9.27541,
            5.86353,
            9.018410000000001
           ],
           "ids": [
            "Latvia",
            "Austria",
            "Hungary",
            "Ireland",
            "Belgium",
            "Luxembourg",
            "United Kingdom",
            "Romania",
            "France",
            "Bulgaria",
            "Czech Rep.",
            "Lithuania",
            "Poland",
            "Denmark",
            "Finland",
            "Sweden",
            "Malta",
            "Estonia",
            "Portugal",
            "Italy",
            "Netherlands",
            "Deutschland",
            "Cyprus",
            "Spain",
            "Slovenia",
            "Croatia",
            "Europe",
            "Greece",
            "Slovakia"
           ],
           "legendgroup": "Connectivity",
           "marker": {
            "color": "#F16913"
           },
           "name": "Connectivity",
           "offsetgroup": "Connectivity",
           "orientation": "v",
           "showlegend": true,
           "textposition": "auto",
           "type": "bar",
           "x": [
            "Latvia",
            "Austria",
            "Hungary",
            "Ireland",
            "Belgium",
            "Luxembourg",
            "United Kingdom",
            "Romania",
            "France",
            "Bulgaria",
            "Czech Rep.",
            "Lithuania",
            "Poland",
            "Denmark",
            "Finland",
            "Sweden",
            "Malta",
            "Estonia",
            "Portugal",
            "Italy",
            "Netherlands",
            "Deutschland",
            "Cyprus",
            "Spain",
            "Slovenia",
            "Croatia",
            "Europe",
            "Greece",
            "Slovakia"
           ],
           "xaxis": "x",
           "y": [
            12.5615,
            8.56495,
            9.34853,
            8.09246,
            9.39356,
            13.2761,
            9.7962,
            10.7291,
            8.88166,
            8.46599,
            8.98806,
            9.936860000000001,
            8.80974,
            12.3536,
            10.6036,
            12.2639,
            9.68783,
            11.3625,
            9.70383,
            8.00891,
            11.9343,
            9.7305,
            6.822019999999999,
            10.6297,
            10.4567,
            7.51693,
            9.27541,
            5.86353,
            9.018410000000001
           ],
           "yaxis": "y"
          },
          {
           "alignmentgroup": "True",
           "customdata": [
            [
             8.13393,
             "Poland",
             2017,
             "Digital Public Services"
            ],
            [
             8.68626,
             "Europe",
             2017,
             "Digital Public Services"
            ],
            [
             8.82518,
             "France",
             2017,
             "Digital Public Services"
            ],
            [
             11.317,
             "Finland",
             2017,
             "Digital Public Services"
            ],
            [
             7.94413,
             "Deutschland",
             2017,
             "Digital Public Services"
            ],
            [
             10.4648,
             "Austria",
             2017,
             "Digital Public Services"
            ],
            [
             10.4546,
             "Spain",
             2017,
             "Digital Public Services"
            ],
            [
             12.1075,
             "Estonia",
             2017,
             "Digital Public Services"
            ],
            [
             8.230310000000001,
             "United Kingdom",
             2017,
             "Digital Public Services"
            ],
            [
             7.19145,
             "Czech Rep.",
             2017,
             "Digital Public Services"
            ],
            [
             7.37575,
             "Luxembourg",
             2017,
             "Digital Public Services"
            ],
            [
             6.07955,
             "Slovakia",
             2017,
             "Digital Public Services"
            ],
            [
             7.9317,
             "Slovenia",
             2017,
             "Digital Public Services"
            ],
            [
             10.0023,
             "Ireland",
             2017,
             "Digital Public Services"
            ],
            [
             8.594619999999999,
             "Cyprus",
             2017,
             "Digital Public Services"
            ],
            [
             11.1792,
             "Malta",
             2017,
             "Digital Public Services"
            ],
            [
             5.28336,
             "Hungary",
             2017,
             "Digital Public Services"
            ],
            [
             5.05756,
             "Greece",
             2017,
             "Digital Public Services"
            ],
            [
             10.6265,
             "Netherlands",
             2017,
             "Digital Public Services"
            ],
            [
             6.73895,
             "Bulgaria",
             2017,
             "Digital Public Services"
            ],
            [
             7.58086,
             "Italy",
             2017,
             "Digital Public Services"
            ],
            [
             6.234719999999999,
             "Croatia",
             2017,
             "Digital Public Services"
            ],
            [
             11.8067,
             "Denmark",
             2017,
             "Digital Public Services"
            ],
            [
             10.4988,
             "Lithuania",
             2017,
             "Digital Public Services"
            ],
            [
             10.9667,
             "Sweden",
             2017,
             "Digital Public Services"
            ],
            [
             9.9763,
             "Portugal",
             2017,
             "Digital Public Services"
            ],
            [
             5.56979,
             "Romania",
             2017,
             "Digital Public Services"
            ],
            [
             10.2856,
             "Latvia",
             2017,
             "Digital Public Services"
            ],
            [
             8.611189999999999,
             "Belgium",
             2017,
             "Digital Public Services"
            ]
           ],
           "hovertemplate": "<b>%{hovertext}</b><br><br><extra></extra>",
           "hovertext": [
            8.13393,
            8.68626,
            8.82518,
            11.317,
            7.94413,
            10.4648,
            10.4546,
            12.1075,
            8.230310000000001,
            7.19145,
            7.37575,
            6.07955,
            7.9317,
            10.0023,
            8.594619999999999,
            11.1792,
            5.28336,
            5.05756,
            10.6265,
            6.73895,
            7.58086,
            6.234719999999999,
            11.8067,
            10.4988,
            10.9667,
            9.9763,
            5.56979,
            10.2856,
            8.611189999999999
           ],
           "ids": [
            "Poland",
            "Europe",
            "France",
            "Finland",
            "Deutschland",
            "Austria",
            "Spain",
            "Estonia",
            "United Kingdom",
            "Czech Rep.",
            "Luxembourg",
            "Slovakia",
            "Slovenia",
            "Ireland",
            "Cyprus",
            "Malta",
            "Hungary",
            "Greece",
            "Netherlands",
            "Bulgaria",
            "Italy",
            "Croatia",
            "Denmark",
            "Lithuania",
            "Sweden",
            "Portugal",
            "Romania",
            "Latvia",
            "Belgium"
           ],
           "legendgroup": "Digital Public Services",
           "marker": {
            "color": "#EF3B2C"
           },
           "name": "Digital Public Services",
           "offsetgroup": "Digital Public Services",
           "orientation": "v",
           "showlegend": true,
           "textposition": "auto",
           "type": "bar",
           "x": [
            "Poland",
            "Europe",
            "France",
            "Finland",
            "Deutschland",
            "Austria",
            "Spain",
            "Estonia",
            "United Kingdom",
            "Czech Rep.",
            "Luxembourg",
            "Slovakia",
            "Slovenia",
            "Ireland",
            "Cyprus",
            "Malta",
            "Hungary",
            "Greece",
            "Netherlands",
            "Bulgaria",
            "Italy",
            "Croatia",
            "Denmark",
            "Lithuania",
            "Sweden",
            "Portugal",
            "Romania",
            "Latvia",
            "Belgium"
           ],
           "xaxis": "x",
           "y": [
            8.13393,
            8.68626,
            8.82518,
            11.317,
            7.94413,
            10.4648,
            10.4546,
            12.1075,
            8.230310000000001,
            7.19145,
            7.37575,
            6.07955,
            7.9317,
            10.0023,
            8.594619999999999,
            11.1792,
            5.28336,
            5.05756,
            10.6265,
            6.73895,
            7.58086,
            6.234719999999999,
            11.8067,
            10.4988,
            10.9667,
            9.9763,
            5.56979,
            10.2856,
            8.611189999999999
           ],
           "yaxis": "y"
          },
          {
           "alignmentgroup": "True",
           "customdata": [
            [
             8.30112,
             "Greece",
             2017,
             "Human Capital"
            ],
            [
             13.2063,
             "Deutschland",
             2017,
             "Human Capital"
            ],
            [
             10.5602,
             "Spain",
             2017,
             "Human Capital"
            ],
            [
             14.4974,
             "Netherlands",
             2017,
             "Human Capital"
            ],
            [
             10.1544,
             "Slovakia",
             2017,
             "Human Capital"
            ],
            [
             11.5203,
             "Slovenia",
             2017,
             "Human Capital"
            ],
            [
             10.8112,
             "Croatia",
             2017,
             "Human Capital"
            ],
            [
             14.7625,
             "United Kingdom",
             2017,
             "Human Capital"
            ],
            [
             7.7835600000000005,
             "Italy",
             2017,
             "Human Capital"
            ],
            [
             11.8504,
             "Belgium",
             2017,
             "Human Capital"
            ],
            [
             11.3539,
             "Europe",
             2017,
             "Human Capital"
            ],
            [
             10.3125,
             "Hungary",
             2017,
             "Human Capital"
            ],
            [
             13.3078,
             "Austria",
             2017,
             "Human Capital"
            ],
            [
             11.7612,
             "Ireland",
             2017,
             "Human Capital"
            ],
            [
             8.62359,
             "Poland",
             2017,
             "Human Capital"
            ],
            [
             10.0275,
             "Latvia",
             2017,
             "Human Capital"
            ],
            [
             9.22834,
             "Lithuania",
             2017,
             "Human Capital"
            ],
            [
             15.8558,
             "Sweden",
             2017,
             "Human Capital"
            ],
            [
             11.2401,
             "France",
             2017,
             "Human Capital"
            ],
            [
             10.7035,
             "Czech Rep.",
             2017,
             "Human Capital"
            ],
            [
             18.6676,
             "Finland",
             2017,
             "Human Capital"
            ],
            [
             13.9654,
             "Estonia",
             2017,
             "Human Capital"
            ],
            [
             12.9202,
             "Luxembourg",
             2017,
             "Human Capital"
            ],
            [
             8.56166,
             "Portugal",
             2017,
             "Human Capital"
            ],
            [
             7.54426,
             "Romania",
             2017,
             "Human Capital"
            ],
            [
             14.2652,
             "Malta",
             2017,
             "Human Capital"
            ],
            [
             15.6225,
             "Denmark",
             2017,
             "Human Capital"
            ],
            [
             6.81628,
             "Bulgaria",
             2017,
             "Human Capital"
            ],
            [
             8.554689999999999,
             "Cyprus",
             2017,
             "Human Capital"
            ]
           ],
           "hovertemplate": "<b>%{hovertext}</b><br><br><extra></extra>",
           "hovertext": [
            8.30112,
            13.2063,
            10.5602,
            14.4974,
            10.1544,
            11.5203,
            10.8112,
            14.7625,
            7.7835600000000005,
            11.8504,
            11.3539,
            10.3125,
            13.3078,
            11.7612,
            8.62359,
            10.0275,
            9.22834,
            15.8558,
            11.2401,
            10.7035,
            18.6676,
            13.9654,
            12.9202,
            8.56166,
            7.54426,
            14.2652,
            15.6225,
            6.81628,
            8.554689999999999
           ],
           "ids": [
            "Greece",
            "Deutschland",
            "Spain",
            "Netherlands",
            "Slovakia",
            "Slovenia",
            "Croatia",
            "United Kingdom",
            "Italy",
            "Belgium",
            "Europe",
            "Hungary",
            "Austria",
            "Ireland",
            "Poland",
            "Latvia",
            "Lithuania",
            "Sweden",
            "France",
            "Czech Rep.",
            "Finland",
            "Estonia",
            "Luxembourg",
            "Portugal",
            "Romania",
            "Malta",
            "Denmark",
            "Bulgaria",
            "Cyprus"
           ],
           "legendgroup": "Human Capital",
           "marker": {
            "color": "#41AB5D"
           },
           "name": "Human Capital",
           "offsetgroup": "Human Capital",
           "orientation": "v",
           "showlegend": true,
           "textposition": "auto",
           "type": "bar",
           "x": [
            "Greece",
            "Deutschland",
            "Spain",
            "Netherlands",
            "Slovakia",
            "Slovenia",
            "Croatia",
            "United Kingdom",
            "Italy",
            "Belgium",
            "Europe",
            "Hungary",
            "Austria",
            "Ireland",
            "Poland",
            "Latvia",
            "Lithuania",
            "Sweden",
            "France",
            "Czech Rep.",
            "Finland",
            "Estonia",
            "Luxembourg",
            "Portugal",
            "Romania",
            "Malta",
            "Denmark",
            "Bulgaria",
            "Cyprus"
           ],
           "xaxis": "x",
           "y": [
            8.30112,
            13.2063,
            10.5602,
            14.4974,
            10.1544,
            11.5203,
            10.8112,
            14.7625,
            7.7835600000000005,
            11.8504,
            11.3539,
            10.3125,
            13.3078,
            11.7612,
            8.62359,
            10.0275,
            9.22834,
            15.8558,
            11.2401,
            10.7035,
            18.6676,
            13.9654,
            12.9202,
            8.56166,
            7.54426,
            14.2652,
            15.6225,
            6.81628,
            8.554689999999999
           ],
           "yaxis": "y"
          },
          {
           "alignmentgroup": "True",
           "customdata": [
            [
             8.06832,
             "Malta",
             2017,
             "Use of Internet Services"
            ],
            [
             3.9367199999999998,
             "Romania",
             2017,
             "Use of Internet Services"
            ],
            [
             7.0746199999999995,
             "Slovakia",
             2017,
             "Use of Internet Services"
            ],
            [
             6.3003599999999995,
             "Slovenia",
             2017,
             "Use of Internet Services"
            ],
            [
             6.0205400000000004,
             "Poland",
             2017,
             "Use of Internet Services"
            ],
            [
             6.68348,
             "Cyprus",
             2017,
             "Use of Internet Services"
            ],
            [
             6.927919999999999,
             "Ireland",
             2017,
             "Use of Internet Services"
            ],
            [
             6.7415199999999995,
             "Czech Rep.",
             2017,
             "Use of Internet Services"
            ],
            [
             7.324660000000001,
             "Latvia",
             2017,
             "Use of Internet Services"
            ],
            [
             9.83911,
             "Netherlands",
             2017,
             "Use of Internet Services"
            ],
            [
             4.63959,
             "Bulgaria",
             2017,
             "Use of Internet Services"
            ],
            [
             5.61615,
             "Greece",
             2017,
             "Use of Internet Services"
            ],
            [
             7.358110000000001,
             "Europe",
             2017,
             "Use of Internet Services"
            ],
            [
             8.92065,
             "Estonia",
             2017,
             "Use of Internet Services"
            ],
            [
             6.01727,
             "Portugal",
             2017,
             "Use of Internet Services"
            ],
            [
             5.332000000000001,
             "Italy",
             2017,
             "Use of Internet Services"
            ],
            [
             10.6749,
             "Denmark",
             2017,
             "Use of Internet Services"
            ],
            [
             10.2947,
             "Sweden",
             2017,
             "Use of Internet Services"
            ],
            [
             7.41621,
             "Croatia",
             2017,
             "Use of Internet Services"
            ],
            [
             8.007810000000001,
             "Belgium",
             2017,
             "Use of Internet Services"
            ],
            [
             9.3837,
             "United Kingdom",
             2017,
             "Use of Internet Services"
            ],
            [
             7.33971,
             "Spain",
             2017,
             "Use of Internet Services"
            ],
            [
             7.2713399999999995,
             "Hungary",
             2017,
             "Use of Internet Services"
            ],
            [
             9.4976,
             "Luxembourg",
             2017,
             "Use of Internet Services"
            ],
            [
             7.277710000000001,
             "Lithuania",
             2017,
             "Use of Internet Services"
            ],
            [
             6.894760000000001,
             "Austria",
             2017,
             "Use of Internet Services"
            ],
            [
             7.97495,
             "Deutschland",
             2017,
             "Use of Internet Services"
            ],
            [
             9.78275,
             "Finland",
             2017,
             "Use of Internet Services"
            ],
            [
             7.00011,
             "France",
             2017,
             "Use of Internet Services"
            ]
           ],
           "hovertemplate": "<b>%{hovertext}</b><br><br><extra></extra>",
           "hovertext": [
            8.06832,
            3.9367199999999998,
            7.0746199999999995,
            6.3003599999999995,
            6.0205400000000004,
            6.68348,
            6.927919999999999,
            6.7415199999999995,
            7.324660000000001,
            9.83911,
            4.63959,
            5.61615,
            7.358110000000001,
            8.92065,
            6.01727,
            5.332000000000001,
            10.6749,
            10.2947,
            7.41621,
            8.007810000000001,
            9.3837,
            7.33971,
            7.2713399999999995,
            9.4976,
            7.277710000000001,
            6.894760000000001,
            7.97495,
            9.78275,
            7.00011
           ],
           "ids": [
            "Malta",
            "Romania",
            "Slovakia",
            "Slovenia",
            "Poland",
            "Cyprus",
            "Ireland",
            "Czech Rep.",
            "Latvia",
            "Netherlands",
            "Bulgaria",
            "Greece",
            "Europe",
            "Estonia",
            "Portugal",
            "Italy",
            "Denmark",
            "Sweden",
            "Croatia",
            "Belgium",
            "United Kingdom",
            "Spain",
            "Hungary",
            "Luxembourg",
            "Lithuania",
            "Austria",
            "Deutschland",
            "Finland",
            "France"
           ],
           "legendgroup": "Use of Internet Services",
           "marker": {
            "color": "#4292C6"
           },
           "name": "Use of Internet Services",
           "offsetgroup": "Use of Internet Services",
           "orientation": "v",
           "showlegend": true,
           "textposition": "auto",
           "type": "bar",
           "x": [
            "Malta",
            "Romania",
            "Slovakia",
            "Slovenia",
            "Poland",
            "Cyprus",
            "Ireland",
            "Czech Rep.",
            "Latvia",
            "Netherlands",
            "Bulgaria",
            "Greece",
            "Europe",
            "Estonia",
            "Portugal",
            "Italy",
            "Denmark",
            "Sweden",
            "Croatia",
            "Belgium",
            "United Kingdom",
            "Spain",
            "Hungary",
            "Luxembourg",
            "Lithuania",
            "Austria",
            "Deutschland",
            "Finland",
            "France"
           ],
           "xaxis": "x",
           "y": [
            8.06832,
            3.9367199999999998,
            7.0746199999999995,
            6.3003599999999995,
            6.0205400000000004,
            6.68348,
            6.927919999999999,
            6.7415199999999995,
            7.324660000000001,
            9.83911,
            4.63959,
            5.61615,
            7.358110000000001,
            8.92065,
            6.01727,
            5.332000000000001,
            10.6749,
            10.2947,
            7.41621,
            8.007810000000001,
            9.3837,
            7.33971,
            7.2713399999999995,
            9.4976,
            7.277710000000001,
            6.894760000000001,
            7.97495,
            9.78275,
            7.00011
           ],
           "yaxis": "y"
          },
          {
           "alignmentgroup": "True",
           "customdata": [
            [
             11.0816,
             "Denmark",
             2017,
             "Integration of Digital Technology"
            ],
            [
             10.11,
             "Finland",
             2017,
             "Integration of Digital Technology"
            ],
            [
             12.0778,
             "Ireland",
             2017,
             "Integration of Digital Technology"
            ],
            [
             3.3140199999999997,
             "Bulgaria",
             2017,
             "Integration of Digital Technology"
            ],
            [
             6.28298,
             "Austria",
             2017,
             "Integration of Digital Technology"
            ],
            [
             8.06484,
             "Lithuania",
             2017,
             "Integration of Digital Technology"
            ],
            [
             7.930960000000001,
             "Portugal",
             2017,
             "Integration of Digital Technology"
            ],
            [
             6.84375,
             "Estonia",
             2017,
             "Integration of Digital Technology"
            ],
            [
             6.16746,
             "Luxembourg",
             2017,
             "Integration of Digital Technology"
            ],
            [
             9.04071,
             "United Kingdom",
             2017,
             "Integration of Digital Technology"
            ],
            [
             8.65242,
             "Malta",
             2017,
             "Integration of Digital Technology"
            ],
            [
             3.92949,
             "Poland",
             2017,
             "Integration of Digital Technology"
            ],
            [
             3.9409300000000003,
             "Latvia",
             2017,
             "Integration of Digital Technology"
            ],
            [
             7.1706,
             "France",
             2017,
             "Integration of Digital Technology"
            ],
            [
             7.143439999999999,
             "Slovenia",
             2017,
             "Integration of Digital Technology"
            ],
            [
             11.064,
             "Belgium",
             2017,
             "Integration of Digital Technology"
            ],
            [
             8.3926,
             "Czech Rep.",
             2017,
             "Integration of Digital Technology"
            ],
            [
             10.8322,
             "Netherlands",
             2017,
             "Integration of Digital Technology"
            ],
            [
             7.081639999999999,
             "Spain",
             2017,
             "Integration of Digital Technology"
            ],
            [
             6.68192,
             "Deutschland",
             2017,
             "Integration of Digital Technology"
            ],
            [
             3.97421,
             "Romania",
             2017,
             "Integration of Digital Technology"
            ],
            [
             6.0879,
             "Cyprus",
             2017,
             "Integration of Digital Technology"
            ],
            [
             5.503480000000001,
             "Italy",
             2017,
             "Integration of Digital Technology"
            ],
            [
             7.008260000000001,
             "Croatia",
             2017,
             "Integration of Digital Technology"
            ],
            [
             10.5127,
             "Sweden",
             2017,
             "Integration of Digital Technology"
            ],
            [
             6.24406,
             "Slovakia",
             2017,
             "Integration of Digital Technology"
            ],
            [
             5.49329,
             "Greece",
             2017,
             "Integration of Digital Technology"
            ],
            [
             7.13651,
             "Europe",
             2017,
             "Integration of Digital Technology"
            ],
            [
             4.58327,
             "Hungary",
             2017,
             "Integration of Digital Technology"
            ]
           ],
           "hovertemplate": "<b>%{hovertext}</b><br><br><extra></extra>",
           "hovertext": [
            11.0816,
            10.11,
            12.0778,
            3.3140199999999997,
            6.28298,
            8.06484,
            7.930960000000001,
            6.84375,
            6.16746,
            9.04071,
            8.65242,
            3.92949,
            3.9409300000000003,
            7.1706,
            7.143439999999999,
            11.064,
            8.3926,
            10.8322,
            7.081639999999999,
            6.68192,
            3.97421,
            6.0879,
            5.503480000000001,
            7.008260000000001,
            10.5127,
            6.24406,
            5.49329,
            7.13651,
            4.58327
           ],
           "ids": [
            "Denmark",
            "Finland",
            "Ireland",
            "Bulgaria",
            "Austria",
            "Lithuania",
            "Portugal",
            "Estonia",
            "Luxembourg",
            "United Kingdom",
            "Malta",
            "Poland",
            "Latvia",
            "France",
            "Slovenia",
            "Belgium",
            "Czech Rep.",
            "Netherlands",
            "Spain",
            "Deutschland",
            "Romania",
            "Cyprus",
            "Italy",
            "Croatia",
            "Sweden",
            "Slovakia",
            "Greece",
            "Europe",
            "Hungary"
           ],
           "legendgroup": "Integration of Digital Technology",
           "marker": {
            "color": "#DD3497"
           },
           "name": "Integration of Digital Technology",
           "offsetgroup": "Integration of Digital Technology",
           "orientation": "v",
           "showlegend": true,
           "textposition": "auto",
           "type": "bar",
           "x": [
            "Denmark",
            "Finland",
            "Ireland",
            "Bulgaria",
            "Austria",
            "Lithuania",
            "Portugal",
            "Estonia",
            "Luxembourg",
            "United Kingdom",
            "Malta",
            "Poland",
            "Latvia",
            "France",
            "Slovenia",
            "Belgium",
            "Czech Rep.",
            "Netherlands",
            "Spain",
            "Deutschland",
            "Romania",
            "Cyprus",
            "Italy",
            "Croatia",
            "Sweden",
            "Slovakia",
            "Greece",
            "Europe",
            "Hungary"
           ],
           "xaxis": "x",
           "y": [
            11.0816,
            10.11,
            12.0778,
            3.3140199999999997,
            6.28298,
            8.06484,
            7.930960000000001,
            6.84375,
            6.16746,
            9.04071,
            8.65242,
            3.92949,
            3.9409300000000003,
            7.1706,
            7.143439999999999,
            11.064,
            8.3926,
            10.8322,
            7.081639999999999,
            6.68192,
            3.97421,
            6.0879,
            5.503480000000001,
            7.008260000000001,
            10.5127,
            6.24406,
            5.49329,
            7.13651,
            4.58327
           ],
           "yaxis": "y"
          }
         ],
         "name": "2017"
        },
        {
         "data": [
          {
           "alignmentgroup": "True",
           "customdata": [
            [
             8.89374,
             "Bulgaria",
             2018,
             "Connectivity"
            ],
            [
             13.0627,
             "Denmark",
             2018,
             "Connectivity"
            ],
            [
             9.8546,
             "Poland",
             2018,
             "Connectivity"
            ],
            [
             11.7695,
             "Estonia",
             2018,
             "Connectivity"
            ],
            [
             12.2024,
             "Romania",
             2018,
             "Connectivity"
            ],
            [
             9.36298,
             "Austria",
             2018,
             "Connectivity"
            ],
            [
             10.96,
             "Slovenia",
             2018,
             "Connectivity"
            ],
            [
             10.8734,
             "Lithuania",
             2018,
             "Connectivity"
            ],
            [
             11.0768,
             "Portugal",
             2018,
             "Connectivity"
            ],
            [
             8.762889999999999,
             "Italy",
             2018,
             "Connectivity"
            ],
            [
             13.3753,
             "Sweden",
             2018,
             "Connectivity"
            ],
            [
             8.03186,
             "Croatia",
             2018,
             "Connectivity"
            ],
            [
             10.6042,
             "Malta",
             2018,
             "Connectivity"
            ],
            [
             13.8193,
             "Luxembourg",
             2018,
             "Connectivity"
            ],
            [
             10.2066,
             "United Kingdom",
             2018,
             "Connectivity"
            ],
            [
             9.947460000000001,
             "Belgium",
             2018,
             "Connectivity"
            ],
            [
             8.98061,
             "Ireland",
             2018,
             "Connectivity"
            ],
            [
             10.286,
             "Hungary",
             2018,
             "Connectivity"
            ],
            [
             6.491969999999999,
             "Greece",
             2018,
             "Connectivity"
            ],
            [
             9.98109,
             "Europe",
             2018,
             "Connectivity"
            ],
            [
             9.607560000000001,
             "France",
             2018,
             "Connectivity"
            ],
            [
             10.394,
             "Finland",
             2018,
             "Connectivity"
            ],
            [
             9.85144,
             "Czech Rep.",
             2018,
             "Connectivity"
            ],
            [
             13.254000000000001,
             "Latvia",
             2018,
             "Connectivity"
            ],
            [
             7.51196,
             "Cyprus",
             2018,
             "Connectivity"
            ],
            [
             12.4038,
             "Netherlands",
             2018,
             "Connectivity"
            ],
            [
             11.4875,
             "Spain",
             2018,
             "Connectivity"
            ],
            [
             9.47888,
             "Slovakia",
             2018,
             "Connectivity"
            ],
            [
             10.1587,
             "Deutschland",
             2018,
             "Connectivity"
            ]
           ],
           "hovertemplate": "<b>%{hovertext}</b><br><br><extra></extra>",
           "hovertext": [
            8.89374,
            13.0627,
            9.8546,
            11.7695,
            12.2024,
            9.36298,
            10.96,
            10.8734,
            11.0768,
            8.762889999999999,
            13.3753,
            8.03186,
            10.6042,
            13.8193,
            10.2066,
            9.947460000000001,
            8.98061,
            10.286,
            6.491969999999999,
            9.98109,
            9.607560000000001,
            10.394,
            9.85144,
            13.254000000000001,
            7.51196,
            12.4038,
            11.4875,
            9.47888,
            10.1587
           ],
           "ids": [
            "Bulgaria",
            "Denmark",
            "Poland",
            "Estonia",
            "Romania",
            "Austria",
            "Slovenia",
            "Lithuania",
            "Portugal",
            "Italy",
            "Sweden",
            "Croatia",
            "Malta",
            "Luxembourg",
            "United Kingdom",
            "Belgium",
            "Ireland",
            "Hungary",
            "Greece",
            "Europe",
            "France",
            "Finland",
            "Czech Rep.",
            "Latvia",
            "Cyprus",
            "Netherlands",
            "Spain",
            "Slovakia",
            "Deutschland"
           ],
           "legendgroup": "Connectivity",
           "marker": {
            "color": "#F16913"
           },
           "name": "Connectivity",
           "offsetgroup": "Connectivity",
           "orientation": "v",
           "showlegend": true,
           "textposition": "auto",
           "type": "bar",
           "x": [
            "Bulgaria",
            "Denmark",
            "Poland",
            "Estonia",
            "Romania",
            "Austria",
            "Slovenia",
            "Lithuania",
            "Portugal",
            "Italy",
            "Sweden",
            "Croatia",
            "Malta",
            "Luxembourg",
            "United Kingdom",
            "Belgium",
            "Ireland",
            "Hungary",
            "Greece",
            "Europe",
            "France",
            "Finland",
            "Czech Rep.",
            "Latvia",
            "Cyprus",
            "Netherlands",
            "Spain",
            "Slovakia",
            "Deutschland"
           ],
           "xaxis": "x",
           "y": [
            8.89374,
            13.0627,
            9.8546,
            11.7695,
            12.2024,
            9.36298,
            10.96,
            10.8734,
            11.0768,
            8.762889999999999,
            13.3753,
            8.03186,
            10.6042,
            13.8193,
            10.2066,
            9.947460000000001,
            8.98061,
            10.286,
            6.491969999999999,
            9.98109,
            9.607560000000001,
            10.394,
            9.85144,
            13.254000000000001,
            7.51196,
            12.4038,
            11.4875,
            9.47888,
            10.1587
           ],
           "yaxis": "y"
          },
          {
           "alignmentgroup": "True",
           "customdata": [
            [
             11.7511,
             "Finland",
             2018,
             "Digital Public Services"
            ],
            [
             11.4906,
             "Spain",
             2018,
             "Digital Public Services"
            ],
            [
             9.57715,
             "France",
             2018,
             "Digital Public Services"
            ],
            [
             7.869910000000001,
             "Bulgaria",
             2018,
             "Digital Public Services"
            ],
            [
             10.8414,
             "Austria",
             2018,
             "Digital Public Services"
            ],
            [
             8.576989999999999,
             "Luxembourg",
             2018,
             "Digital Public Services"
            ],
            [
             10.1174,
             "Portugal",
             2018,
             "Digital Public Services"
            ],
            [
             12.4471,
             "Estonia",
             2018,
             "Digital Public Services"
            ],
            [
             6.53924,
             "Hungary",
             2018,
             "Digital Public Services"
            ],
            [
             8.85187,
             "United Kingdom",
             2018,
             "Digital Public Services"
            ],
            [
             8.11169,
             "Italy",
             2018,
             "Digital Public Services"
            ],
            [
             10.6798,
             "Ireland",
             2018,
             "Digital Public Services"
            ],
            [
             8.8024,
             "Slovenia",
             2018,
             "Digital Public Services"
            ],
            [
             8.45913,
             "Deutschland",
             2018,
             "Digital Public Services"
            ],
            [
             6.55885,
             "Croatia",
             2018,
             "Digital Public Services"
            ],
            [
             6.18349,
             "Greece",
             2018,
             "Digital Public Services"
            ],
            [
             11.4877,
             "Lithuania",
             2018,
             "Digital Public Services"
            ],
            [
             9.27712,
             "Europe",
             2018,
             "Digital Public Services"
            ],
            [
             6.16326,
             "Romania",
             2018,
             "Digital Public Services"
            ],
            [
             11.1727,
             "Latvia",
             2018,
             "Digital Public Services"
            ],
            [
             7.195139999999999,
             "Slovakia",
             2018,
             "Digital Public Services"
            ],
            [
             9.35437,
             "Belgium",
             2018,
             "Digital Public Services"
            ],
            [
             11.0246,
             "Malta",
             2018,
             "Digital Public Services"
            ],
            [
             9.32072,
             "Cyprus",
             2018,
             "Digital Public Services"
            ],
            [
             11.995999999999999,
             "Denmark",
             2018,
             "Digital Public Services"
            ],
            [
             11.198,
             "Netherlands",
             2018,
             "Digital Public Services"
            ],
            [
             8.23893,
             "Poland",
             2018,
             "Digital Public Services"
            ],
            [
             8.11524,
             "Czech Rep.",
             2018,
             "Digital Public Services"
            ],
            [
             11.2158,
             "Sweden",
             2018,
             "Digital Public Services"
            ]
           ],
           "hovertemplate": "<b>%{hovertext}</b><br><br><extra></extra>",
           "hovertext": [
            11.7511,
            11.4906,
            9.57715,
            7.869910000000001,
            10.8414,
            8.576989999999999,
            10.1174,
            12.4471,
            6.53924,
            8.85187,
            8.11169,
            10.6798,
            8.8024,
            8.45913,
            6.55885,
            6.18349,
            11.4877,
            9.27712,
            6.16326,
            11.1727,
            7.195139999999999,
            9.35437,
            11.0246,
            9.32072,
            11.995999999999999,
            11.198,
            8.23893,
            8.11524,
            11.2158
           ],
           "ids": [
            "Finland",
            "Spain",
            "France",
            "Bulgaria",
            "Austria",
            "Luxembourg",
            "Portugal",
            "Estonia",
            "Hungary",
            "United Kingdom",
            "Italy",
            "Ireland",
            "Slovenia",
            "Deutschland",
            "Croatia",
            "Greece",
            "Lithuania",
            "Europe",
            "Romania",
            "Latvia",
            "Slovakia",
            "Belgium",
            "Malta",
            "Cyprus",
            "Denmark",
            "Netherlands",
            "Poland",
            "Czech Rep.",
            "Sweden"
           ],
           "legendgroup": "Digital Public Services",
           "marker": {
            "color": "#EF3B2C"
           },
           "name": "Digital Public Services",
           "offsetgroup": "Digital Public Services",
           "orientation": "v",
           "showlegend": true,
           "textposition": "auto",
           "type": "bar",
           "x": [
            "Finland",
            "Spain",
            "France",
            "Bulgaria",
            "Austria",
            "Luxembourg",
            "Portugal",
            "Estonia",
            "Hungary",
            "United Kingdom",
            "Italy",
            "Ireland",
            "Slovenia",
            "Deutschland",
            "Croatia",
            "Greece",
            "Lithuania",
            "Europe",
            "Romania",
            "Latvia",
            "Slovakia",
            "Belgium",
            "Malta",
            "Cyprus",
            "Denmark",
            "Netherlands",
            "Poland",
            "Czech Rep.",
            "Sweden"
           ],
           "xaxis": "x",
           "y": [
            11.7511,
            11.4906,
            9.57715,
            7.869910000000001,
            10.8414,
            8.576989999999999,
            10.1174,
            12.4471,
            6.53924,
            8.85187,
            8.11169,
            10.6798,
            8.8024,
            8.45913,
            6.55885,
            6.18349,
            11.4877,
            9.27712,
            6.16326,
            11.1727,
            7.195139999999999,
            9.35437,
            11.0246,
            9.32072,
            11.995999999999999,
            11.198,
            8.23893,
            8.11524,
            11.2158
           ],
           "yaxis": "y"
          },
          {
           "alignmentgroup": "True",
           "customdata": [
            [
             15.2959,
             "Netherlands",
             2018,
             "Human Capital"
            ],
            [
             11.2133,
             "Spain",
             2018,
             "Human Capital"
            ],
            [
             11.46,
             "Croatia",
             2018,
             "Human Capital"
            ],
            [
             9.99704,
             "Latvia",
             2018,
             "Human Capital"
            ],
            [
             13.7792,
             "Luxembourg",
             2018,
             "Human Capital"
            ],
            [
             14.5846,
             "Estonia",
             2018,
             "Human Capital"
            ],
            [
             11.255,
             "Czech Rep.",
             2018,
             "Human Capital"
            ],
            [
             11.4057,
             "Belgium",
             2018,
             "Human Capital"
            ],
            [
             11.9016,
             "Europe",
             2018,
             "Human Capital"
            ],
            [
             11.4171,
             "Slovenia",
             2018,
             "Human Capital"
            ],
            [
             10.630999999999998,
             "Hungary",
             2018,
             "Human Capital"
            ],
            [
             13.5489,
             "Deutschland",
             2018,
             "Human Capital"
            ],
            [
             7.89124,
             "Italy",
             2018,
             "Human Capital"
            ],
            [
             7.986000000000001,
             "Greece",
             2018,
             "Human Capital"
            ],
            [
             9.06212,
             "Cyprus",
             2018,
             "Human Capital"
            ],
            [
             15.2571,
             "United Kingdom",
             2018,
             "Human Capital"
            ],
            [
             9.060080000000001,
             "Portugal",
             2018,
             "Human Capital"
            ],
            [
             10.7367,
             "Slovakia",
             2018,
             "Human Capital"
            ],
            [
             11.7667,
             "France",
             2018,
             "Human Capital"
            ],
            [
             7.8659300000000005,
             "Romania",
             2018,
             "Human Capital"
            ],
            [
             17.4854,
             "Sweden",
             2018,
             "Human Capital"
            ],
            [
             15.1397,
             "Denmark",
             2018,
             "Human Capital"
            ],
            [
             13.2564,
             "Ireland",
             2018,
             "Human Capital"
            ],
            [
             13.8416,
             "Austria",
             2018,
             "Human Capital"
            ],
            [
             9.05781,
             "Poland",
             2018,
             "Human Capital"
            ],
            [
             19.0364,
             "Finland",
             2018,
             "Human Capital"
            ],
            [
             14.319,
             "Malta",
             2018,
             "Human Capital"
            ],
            [
             7.92651,
             "Bulgaria",
             2018,
             "Human Capital"
            ],
            [
             10.1871,
             "Lithuania",
             2018,
             "Human Capital"
            ]
           ],
           "hovertemplate": "<b>%{hovertext}</b><br><br><extra></extra>",
           "hovertext": [
            15.2959,
            11.2133,
            11.46,
            9.99704,
            13.7792,
            14.5846,
            11.255,
            11.4057,
            11.9016,
            11.4171,
            10.630999999999998,
            13.5489,
            7.89124,
            7.986000000000001,
            9.06212,
            15.2571,
            9.060080000000001,
            10.7367,
            11.7667,
            7.8659300000000005,
            17.4854,
            15.1397,
            13.2564,
            13.8416,
            9.05781,
            19.0364,
            14.319,
            7.92651,
            10.1871
           ],
           "ids": [
            "Netherlands",
            "Spain",
            "Croatia",
            "Latvia",
            "Luxembourg",
            "Estonia",
            "Czech Rep.",
            "Belgium",
            "Europe",
            "Slovenia",
            "Hungary",
            "Deutschland",
            "Italy",
            "Greece",
            "Cyprus",
            "United Kingdom",
            "Portugal",
            "Slovakia",
            "France",
            "Romania",
            "Sweden",
            "Denmark",
            "Ireland",
            "Austria",
            "Poland",
            "Finland",
            "Malta",
            "Bulgaria",
            "Lithuania"
           ],
           "legendgroup": "Human Capital",
           "marker": {
            "color": "#41AB5D"
           },
           "name": "Human Capital",
           "offsetgroup": "Human Capital",
           "orientation": "v",
           "showlegend": true,
           "textposition": "auto",
           "type": "bar",
           "x": [
            "Netherlands",
            "Spain",
            "Croatia",
            "Latvia",
            "Luxembourg",
            "Estonia",
            "Czech Rep.",
            "Belgium",
            "Europe",
            "Slovenia",
            "Hungary",
            "Deutschland",
            "Italy",
            "Greece",
            "Cyprus",
            "United Kingdom",
            "Portugal",
            "Slovakia",
            "France",
            "Romania",
            "Sweden",
            "Denmark",
            "Ireland",
            "Austria",
            "Poland",
            "Finland",
            "Malta",
            "Bulgaria",
            "Lithuania"
           ],
           "xaxis": "x",
           "y": [
            15.2959,
            11.2133,
            11.46,
            9.99704,
            13.7792,
            14.5846,
            11.255,
            11.4057,
            11.9016,
            11.4171,
            10.630999999999998,
            13.5489,
            7.89124,
            7.986000000000001,
            9.06212,
            15.2571,
            9.060080000000001,
            10.7367,
            11.7667,
            7.8659300000000005,
            17.4854,
            15.1397,
            13.2564,
            13.8416,
            9.05781,
            19.0364,
            14.319,
            7.92651,
            10.1871
           ],
           "yaxis": "y"
          },
          {
           "alignmentgroup": "True",
           "customdata": [
            [
             7.30883,
             "Slovakia",
             2018,
             "Use of Internet Services"
            ],
            [
             4.726,
             "Romania",
             2018,
             "Use of Internet Services"
            ],
            [
             7.50208,
             "Ireland",
             2018,
             "Use of Internet Services"
            ],
            [
             7.49558,
             "Austria",
             2018,
             "Use of Internet Services"
            ],
            [
             7.06865,
             "Slovenia",
             2018,
             "Use of Internet Services"
            ],
            [
             6.32446,
             "Poland",
             2018,
             "Use of Internet Services"
            ],
            [
             7.1497,
             "Czech Rep.",
             2018,
             "Use of Internet Services"
            ],
            [
             5.10878,
             "Bulgaria",
             2018,
             "Use of Internet Services"
            ],
            [
             6.48555,
             "Portugal",
             2018,
             "Use of Internet Services"
            ],
            [
             7.50529,
             "Latvia",
             2018,
             "Use of Internet Services"
            ],
            [
             8.54256,
             "Deutschland",
             2018,
             "Use of Internet Services"
            ],
            [
             10.9362,
             "Denmark",
             2018,
             "Use of Internet Services"
            ],
            [
             10.4046,
             "Netherlands",
             2018,
             "Use of Internet Services"
            ],
            [
             8.15123,
             "Belgium",
             2018,
             "Use of Internet Services"
            ],
            [
             7.81349,
             "Spain",
             2018,
             "Use of Internet Services"
            ],
            [
             7.14998,
             "Cyprus",
             2018,
             "Use of Internet Services"
            ],
            [
             7.622669999999999,
             "Lithuania",
             2018,
             "Use of Internet Services"
            ],
            [
             8.93845,
             "Malta",
             2018,
             "Use of Internet Services"
            ],
            [
             5.6164,
             "Italy",
             2018,
             "Use of Internet Services"
            ],
            [
             10.2163,
             "Finland",
             2018,
             "Use of Internet Services"
            ],
            [
             9.22457,
             "Estonia",
             2018,
             "Use of Internet Services"
            ],
            [
             7.41752,
             "Hungary",
             2018,
             "Use of Internet Services"
            ],
            [
             9.757610000000001,
             "Luxembourg",
             2018,
             "Use of Internet Services"
            ],
            [
             11.0503,
             "Sweden",
             2018,
             "Use of Internet Services"
            ],
            [
             9.65558,
             "United Kingdom",
             2018,
             "Use of Internet Services"
            ],
            [
             5.89518,
             "Greece",
             2018,
             "Use of Internet Services"
            ],
            [
             7.76722,
             "Europe",
             2018,
             "Use of Internet Services"
            ],
            [
             7.3872,
             "Croatia",
             2018,
             "Use of Internet Services"
            ],
            [
             7.270060000000001,
             "France",
             2018,
             "Use of Internet Services"
            ]
           ],
           "hovertemplate": "<b>%{hovertext}</b><br><br><extra></extra>",
           "hovertext": [
            7.30883,
            4.726,
            7.50208,
            7.49558,
            7.06865,
            6.32446,
            7.1497,
            5.10878,
            6.48555,
            7.50529,
            8.54256,
            10.9362,
            10.4046,
            8.15123,
            7.81349,
            7.14998,
            7.622669999999999,
            8.93845,
            5.6164,
            10.2163,
            9.22457,
            7.41752,
            9.757610000000001,
            11.0503,
            9.65558,
            5.89518,
            7.76722,
            7.3872,
            7.270060000000001
           ],
           "ids": [
            "Slovakia",
            "Romania",
            "Ireland",
            "Austria",
            "Slovenia",
            "Poland",
            "Czech Rep.",
            "Bulgaria",
            "Portugal",
            "Latvia",
            "Deutschland",
            "Denmark",
            "Netherlands",
            "Belgium",
            "Spain",
            "Cyprus",
            "Lithuania",
            "Malta",
            "Italy",
            "Finland",
            "Estonia",
            "Hungary",
            "Luxembourg",
            "Sweden",
            "United Kingdom",
            "Greece",
            "Europe",
            "Croatia",
            "France"
           ],
           "legendgroup": "Use of Internet Services",
           "marker": {
            "color": "#4292C6"
           },
           "name": "Use of Internet Services",
           "offsetgroup": "Use of Internet Services",
           "orientation": "v",
           "showlegend": true,
           "textposition": "auto",
           "type": "bar",
           "x": [
            "Slovakia",
            "Romania",
            "Ireland",
            "Austria",
            "Slovenia",
            "Poland",
            "Czech Rep.",
            "Bulgaria",
            "Portugal",
            "Latvia",
            "Deutschland",
            "Denmark",
            "Netherlands",
            "Belgium",
            "Spain",
            "Cyprus",
            "Lithuania",
            "Malta",
            "Italy",
            "Finland",
            "Estonia",
            "Hungary",
            "Luxembourg",
            "Sweden",
            "United Kingdom",
            "Greece",
            "Europe",
            "Croatia",
            "France"
           ],
           "xaxis": "x",
           "y": [
            7.30883,
            4.726,
            7.50208,
            7.49558,
            7.06865,
            6.32446,
            7.1497,
            5.10878,
            6.48555,
            7.50529,
            8.54256,
            10.9362,
            10.4046,
            8.15123,
            7.81349,
            7.14998,
            7.622669999999999,
            8.93845,
            5.6164,
            10.2163,
            9.22457,
            7.41752,
            9.757610000000001,
            11.0503,
            9.65558,
            5.89518,
            7.76722,
            7.3872,
            7.270060000000001
           ],
           "yaxis": "y"
          },
          {
           "alignmentgroup": "True",
           "customdata": [
            [
             11.3341,
             "Denmark",
             2018,
             "Integration of Digital Technology"
            ],
            [
             8.05894,
             "Portugal",
             2018,
             "Integration of Digital Technology"
            ],
            [
             6.981339999999999,
             "Austria",
             2018,
             "Integration of Digital Technology"
            ],
            [
             3.66546,
             "Bulgaria",
             2018,
             "Integration of Digital Technology"
            ],
            [
             9.18684,
             "Lithuania",
             2018,
             "Integration of Digital Technology"
            ],
            [
             8.42347,
             "Malta",
             2018,
             "Integration of Digital Technology"
            ],
            [
             9.55044,
             "United Kingdom",
             2018,
             "Integration of Digital Technology"
            ],
            [
             11.5031,
             "Netherlands",
             2018,
             "Integration of Digital Technology"
            ],
            [
             6.50546,
             "Luxembourg",
             2018,
             "Integration of Digital Technology"
            ],
            [
             11.3777,
             "Finland",
             2018,
             "Integration of Digital Technology"
            ],
            [
             7.49062,
             "France",
             2018,
             "Integration of Digital Technology"
            ],
            [
             10.8396,
             "Sweden",
             2018,
             "Integration of Digital Technology"
            ],
            [
             7.7211,
             "Estonia",
             2018,
             "Integration of Digital Technology"
            ],
            [
             11.2895,
             "Belgium",
             2018,
             "Integration of Digital Technology"
            ],
            [
             7.64945,
             "Slovenia",
             2018,
             "Integration of Digital Technology"
            ],
            [
             6.31919,
             "Cyprus",
             2018,
             "Integration of Digital Technology"
            ],
            [
             7.160239999999999,
             "Slovakia",
             2018,
             "Integration of Digital Technology"
            ],
            [
             8.22947,
             "Spain",
             2018,
             "Integration of Digital Technology"
            ],
            [
             4.16514,
             "Romania",
             2018,
             "Integration of Digital Technology"
            ],
            [
             7.34525,
             "Croatia",
             2018,
             "Integration of Digital Technology"
            ],
            [
             12.6899,
             "Ireland",
             2018,
             "Integration of Digital Technology"
            ],
            [
             5.724,
             "Greece",
             2018,
             "Integration of Digital Technology"
            ],
            [
             8.29673,
             "Czech Rep.",
             2018,
             "Integration of Digital Technology"
            ],
            [
             4.19566,
             "Poland",
             2018,
             "Integration of Digital Technology"
            ],
            [
             7.558789999999999,
             "Europe",
             2018,
             "Integration of Digital Technology"
            ],
            [
             4.9209,
             "Latvia",
             2018,
             "Integration of Digital Technology"
            ],
            [
             7.166980000000001,
             "Deutschland",
             2018,
             "Integration of Digital Technology"
            ],
            [
             5.8215699999999995,
             "Italy",
             2018,
             "Integration of Digital Technology"
            ],
            [
             5.13786,
             "Hungary",
             2018,
             "Integration of Digital Technology"
            ]
           ],
           "hovertemplate": "<b>%{hovertext}</b><br><br><extra></extra>",
           "hovertext": [
            11.3341,
            8.05894,
            6.981339999999999,
            3.66546,
            9.18684,
            8.42347,
            9.55044,
            11.5031,
            6.50546,
            11.3777,
            7.49062,
            10.8396,
            7.7211,
            11.2895,
            7.64945,
            6.31919,
            7.160239999999999,
            8.22947,
            4.16514,
            7.34525,
            12.6899,
            5.724,
            8.29673,
            4.19566,
            7.558789999999999,
            4.9209,
            7.166980000000001,
            5.8215699999999995,
            5.13786
           ],
           "ids": [
            "Denmark",
            "Portugal",
            "Austria",
            "Bulgaria",
            "Lithuania",
            "Malta",
            "United Kingdom",
            "Netherlands",
            "Luxembourg",
            "Finland",
            "France",
            "Sweden",
            "Estonia",
            "Belgium",
            "Slovenia",
            "Cyprus",
            "Slovakia",
            "Spain",
            "Romania",
            "Croatia",
            "Ireland",
            "Greece",
            "Czech Rep.",
            "Poland",
            "Europe",
            "Latvia",
            "Deutschland",
            "Italy",
            "Hungary"
           ],
           "legendgroup": "Integration of Digital Technology",
           "marker": {
            "color": "#DD3497"
           },
           "name": "Integration of Digital Technology",
           "offsetgroup": "Integration of Digital Technology",
           "orientation": "v",
           "showlegend": true,
           "textposition": "auto",
           "type": "bar",
           "x": [
            "Denmark",
            "Portugal",
            "Austria",
            "Bulgaria",
            "Lithuania",
            "Malta",
            "United Kingdom",
            "Netherlands",
            "Luxembourg",
            "Finland",
            "France",
            "Sweden",
            "Estonia",
            "Belgium",
            "Slovenia",
            "Cyprus",
            "Slovakia",
            "Spain",
            "Romania",
            "Croatia",
            "Ireland",
            "Greece",
            "Czech Rep.",
            "Poland",
            "Europe",
            "Latvia",
            "Deutschland",
            "Italy",
            "Hungary"
           ],
           "xaxis": "x",
           "y": [
            11.3341,
            8.05894,
            6.981339999999999,
            3.66546,
            9.18684,
            8.42347,
            9.55044,
            11.5031,
            6.50546,
            11.3777,
            7.49062,
            10.8396,
            7.7211,
            11.2895,
            7.64945,
            6.31919,
            7.160239999999999,
            8.22947,
            4.16514,
            7.34525,
            12.6899,
            5.724,
            8.29673,
            4.19566,
            7.558789999999999,
            4.9209,
            7.166980000000001,
            5.8215699999999995,
            5.13786
           ],
           "yaxis": "y"
          }
         ],
         "name": "2018"
        },
        {
         "data": [
          {
           "alignmentgroup": "True",
           "customdata": [
            [
             14.2739,
             "Luxembourg",
             2019,
             "Connectivity"
            ],
            [
             11.9964,
             "France",
             2019,
             "Connectivity"
            ],
            [
             12.4861,
             "Estonia",
             2019,
             "Connectivity"
            ],
            [
             10.7078,
             "United Kingdom",
             2019,
             "Connectivity"
            ],
            [
             15.0147,
             "Sweden",
             2019,
             "Connectivity"
            ],
            [
             10.9627,
             "Malta",
             2019,
             "Connectivity"
            ],
            [
             11.9143,
             "Deutschland",
             2019,
             "Connectivity"
            ],
            [
             12.6313,
             "Netherlands",
             2019,
             "Connectivity"
            ],
            [
             12.1378,
             "Slovenia",
             2019,
             "Connectivity"
            ],
            [
             10.7095,
             "Poland",
             2019,
             "Connectivity"
            ],
            [
             12.0431,
             "Italy",
             2019,
             "Connectivity"
            ],
            [
             9.98193,
             "Belgium",
             2019,
             "Connectivity"
            ],
            [
             14.9456,
             "Latvia",
             2019,
             "Connectivity"
            ],
            [
             9.30199,
             "Croatia",
             2019,
             "Connectivity"
            ],
            [
             12.1013,
             "Portugal",
             2019,
             "Connectivity"
            ],
            [
             9.910810000000001,
             "Slovakia",
             2019,
             "Connectivity"
            ],
            [
             10.8636,
             "Czech Rep.",
             2019,
             "Connectivity"
            ],
            [
             12.5041,
             "Romania",
             2019,
             "Connectivity"
            ],
            [
             11.5014,
             "Lithuania",
             2019,
             "Connectivity"
            ],
            [
             8.64476,
             "Cyprus",
             2019,
             "Connectivity"
            ],
            [
             13.6365,
             "Finland",
             2019,
             "Connectivity"
            ],
            [
             7.37375,
             "Greece",
             2019,
             "Connectivity"
            ],
            [
             9.29255,
             "Bulgaria",
             2019,
             "Connectivity"
            ],
            [
             11.1867,
             "Europe",
             2019,
             "Connectivity"
            ],
            [
             10.8698,
             "Austria",
             2019,
             "Connectivity"
            ],
            [
             13.8499,
             "Spain",
             2019,
             "Connectivity"
            ],
            [
             11.4819,
             "Hungary",
             2019,
             "Connectivity"
            ],
            [
             14.7966,
             "Denmark",
             2019,
             "Connectivity"
            ],
            [
             10.6281,
             "Ireland",
             2019,
             "Connectivity"
            ]
           ],
           "hovertemplate": "<b>%{hovertext}</b><br><br><extra></extra>",
           "hovertext": [
            14.2739,
            11.9964,
            12.4861,
            10.7078,
            15.0147,
            10.9627,
            11.9143,
            12.6313,
            12.1378,
            10.7095,
            12.0431,
            9.98193,
            14.9456,
            9.30199,
            12.1013,
            9.910810000000001,
            10.8636,
            12.5041,
            11.5014,
            8.64476,
            13.6365,
            7.37375,
            9.29255,
            11.1867,
            10.8698,
            13.8499,
            11.4819,
            14.7966,
            10.6281
           ],
           "ids": [
            "Luxembourg",
            "France",
            "Estonia",
            "United Kingdom",
            "Sweden",
            "Malta",
            "Deutschland",
            "Netherlands",
            "Slovenia",
            "Poland",
            "Italy",
            "Belgium",
            "Latvia",
            "Croatia",
            "Portugal",
            "Slovakia",
            "Czech Rep.",
            "Romania",
            "Lithuania",
            "Cyprus",
            "Finland",
            "Greece",
            "Bulgaria",
            "Europe",
            "Austria",
            "Spain",
            "Hungary",
            "Denmark",
            "Ireland"
           ],
           "legendgroup": "Connectivity",
           "marker": {
            "color": "#F16913"
           },
           "name": "Connectivity",
           "offsetgroup": "Connectivity",
           "orientation": "v",
           "showlegend": true,
           "textposition": "auto",
           "type": "bar",
           "x": [
            "Luxembourg",
            "France",
            "Estonia",
            "United Kingdom",
            "Sweden",
            "Malta",
            "Deutschland",
            "Netherlands",
            "Slovenia",
            "Poland",
            "Italy",
            "Belgium",
            "Latvia",
            "Croatia",
            "Portugal",
            "Slovakia",
            "Czech Rep.",
            "Romania",
            "Lithuania",
            "Cyprus",
            "Finland",
            "Greece",
            "Bulgaria",
            "Europe",
            "Austria",
            "Spain",
            "Hungary",
            "Denmark",
            "Ireland"
           ],
           "xaxis": "x",
           "y": [
            14.2739,
            11.9964,
            12.4861,
            10.7078,
            15.0147,
            10.9627,
            11.9143,
            12.6313,
            12.1378,
            10.7095,
            12.0431,
            9.98193,
            14.9456,
            9.30199,
            12.1013,
            9.910810000000001,
            10.8636,
            12.5041,
            11.5014,
            8.64476,
            13.6365,
            7.37375,
            9.29255,
            11.1867,
            10.8698,
            13.8499,
            11.4819,
            14.7966,
            10.6281
           ],
           "yaxis": "y"
          },
          {
           "alignmentgroup": "True",
           "customdata": [
            [
             8.98333,
             "Czech Rep.",
             2019,
             "Digital Public Services"
            ],
            [
             11.2849,
             "Malta",
             2019,
             "Digital Public Services"
            ],
            [
             9.73435,
             "Luxembourg",
             2019,
             "Digital Public Services"
            ],
            [
             7.60798,
             "Hungary",
             2019,
             "Digital Public Services"
            ],
            [
             11.9461,
             "Netherlands",
             2019,
             "Digital Public Services"
            ],
            [
             11.4431,
             "Austria",
             2019,
             "Digital Public Services"
            ],
            [
             11.7185,
             "Ireland",
             2019,
             "Digital Public Services"
            ],
            [
             9.22891,
             "Poland",
             2019,
             "Digital Public Services"
            ],
            [
             9.67817,
             "Slovenia",
             2019,
             "Digital Public Services"
            ],
            [
             9.85138,
             "Cyprus",
             2019,
             "Digital Public Services"
            ],
            [
             7.62195,
             "Croatia",
             2019,
             "Digital Public Services"
            ],
            [
             10.0464,
             "Europe",
             2019,
             "Digital Public Services"
            ],
            [
             7.6103,
             "Slovakia",
             2019,
             "Digital Public Services"
            ],
            [
             9.289069999999999,
             "Italy",
             2019,
             "Digital Public Services"
            ],
            [
             12.7446,
             "Estonia",
             2019,
             "Digital Public Services"
            ],
            [
             12.0364,
             "Latvia",
             2019,
             "Digital Public Services"
            ],
            [
             11.6905,
             "Sweden",
             2019,
             "Digital Public Services"
            ],
            [
             12.135,
             "Spain",
             2019,
             "Digital Public Services"
            ],
            [
             10.389000000000001,
             "France",
             2019,
             "Digital Public Services"
            ],
            [
             9.86558,
             "Belgium",
             2019,
             "Digital Public Services"
            ],
            [
             9.72463,
             "United Kingdom",
             2019,
             "Digital Public Services"
            ],
            [
             8.82722,
             "Deutschland",
             2019,
             "Digital Public Services"
            ],
            [
             12.2987,
             "Finland",
             2019,
             "Digital Public Services"
            ],
            [
             12.4093,
             "Denmark",
             2019,
             "Digital Public Services"
            ],
            [
             8.470930000000001,
             "Bulgaria",
             2019,
             "Digital Public Services"
            ],
            [
             6.966019999999999,
             "Greece",
             2019,
             "Digital Public Services"
            ],
            [
             11.9122,
             "Lithuania",
             2019,
             "Digital Public Services"
            ],
            [
             6.74879,
             "Romania",
             2019,
             "Digital Public Services"
            ],
            [
             11.015999999999998,
             "Portugal",
             2019,
             "Digital Public Services"
            ]
           ],
           "hovertemplate": "<b>%{hovertext}</b><br><br><extra></extra>",
           "hovertext": [
            8.98333,
            11.2849,
            9.73435,
            7.60798,
            11.9461,
            11.4431,
            11.7185,
            9.22891,
            9.67817,
            9.85138,
            7.62195,
            10.0464,
            7.6103,
            9.289069999999999,
            12.7446,
            12.0364,
            11.6905,
            12.135,
            10.389000000000001,
            9.86558,
            9.72463,
            8.82722,
            12.2987,
            12.4093,
            8.470930000000001,
            6.966019999999999,
            11.9122,
            6.74879,
            11.015999999999998
           ],
           "ids": [
            "Czech Rep.",
            "Malta",
            "Luxembourg",
            "Hungary",
            "Netherlands",
            "Austria",
            "Ireland",
            "Poland",
            "Slovenia",
            "Cyprus",
            "Croatia",
            "Europe",
            "Slovakia",
            "Italy",
            "Estonia",
            "Latvia",
            "Sweden",
            "Spain",
            "France",
            "Belgium",
            "United Kingdom",
            "Deutschland",
            "Finland",
            "Denmark",
            "Bulgaria",
            "Greece",
            "Lithuania",
            "Romania",
            "Portugal"
           ],
           "legendgroup": "Digital Public Services",
           "marker": {
            "color": "#EF3B2C"
           },
           "name": "Digital Public Services",
           "offsetgroup": "Digital Public Services",
           "orientation": "v",
           "showlegend": true,
           "textposition": "auto",
           "type": "bar",
           "x": [
            "Czech Rep.",
            "Malta",
            "Luxembourg",
            "Hungary",
            "Netherlands",
            "Austria",
            "Ireland",
            "Poland",
            "Slovenia",
            "Cyprus",
            "Croatia",
            "Europe",
            "Slovakia",
            "Italy",
            "Estonia",
            "Latvia",
            "Sweden",
            "Spain",
            "France",
            "Belgium",
            "United Kingdom",
            "Deutschland",
            "Finland",
            "Denmark",
            "Bulgaria",
            "Greece",
            "Lithuania",
            "Romania",
            "Portugal"
           ],
           "xaxis": "x",
           "y": [
            8.98333,
            11.2849,
            9.73435,
            7.60798,
            11.9461,
            11.4431,
            11.7185,
            9.22891,
            9.67817,
            9.85138,
            7.62195,
            10.0464,
            7.6103,
            9.289069999999999,
            12.7446,
            12.0364,
            11.6905,
            12.135,
            10.389000000000001,
            9.86558,
            9.72463,
            8.82722,
            12.2987,
            12.4093,
            8.470930000000001,
            6.966019999999999,
            11.9122,
            6.74879,
            11.015999999999998
           ],
           "yaxis": "y"
          },
          {
           "alignmentgroup": "True",
           "customdata": [
            [
             15.4998,
             "Netherlands",
             2019,
             "Human Capital"
            ],
            [
             11.5829,
             "Slovenia",
             2019,
             "Human Capital"
            ],
            [
             11.1238,
             "Spain",
             2019,
             "Human Capital"
            ],
            [
             13.6077,
             "Deutschland",
             2019,
             "Human Capital"
            ],
            [
             8.007060000000001,
             "Italy",
             2019,
             "Human Capital"
            ],
            [
             12.4039,
             "Belgium",
             2019,
             "Human Capital"
            ],
            [
             7.12805,
             "Bulgaria",
             2019,
             "Human Capital"
            ],
            [
             13.9133,
             "Austria",
             2019,
             "Human Capital"
            ],
            [
             10.1114,
             "Latvia",
             2019,
             "Human Capital"
            ],
            [
             17.9074,
             "Sweden",
             2019,
             "Human Capital"
            ],
            [
             15.6117,
             "Estonia",
             2019,
             "Human Capital"
            ],
            [
             13.7622,
             "Malta",
             2019,
             "Human Capital"
            ],
            [
             11.2026,
             "Czech Rep.",
             2019,
             "Human Capital"
            ],
            [
             8.80688,
             "Portugal",
             2019,
             "Human Capital"
            ],
            [
             15.4052,
             "United Kingdom",
             2019,
             "Human Capital"
            ],
            [
             14.3533,
             "Luxembourg",
             2019,
             "Human Capital"
            ],
            [
             7.77146,
             "Romania",
             2019,
             "Human Capital"
            ],
            [
             10.5455,
             "Lithuania",
             2019,
             "Human Capital"
            ],
            [
             10.5298,
             "Hungary",
             2019,
             "Human Capital"
            ],
            [
             11.9732,
             "Europe",
             2019,
             "Human Capital"
            ],
            [
             11.705,
             "Croatia",
             2019,
             "Human Capital"
            ],
            [
             19.3848,
             "Finland",
             2019,
             "Human Capital"
            ],
            [
             8.1871,
             "Greece",
             2019,
             "Human Capital"
            ],
            [
             8.66126,
             "Cyprus",
             2019,
             "Human Capital"
            ],
            [
             9.2114,
             "Poland",
             2019,
             "Human Capital"
            ],
            [
             11.0483,
             "Slovakia",
             2019,
             "Human Capital"
            ],
            [
             11.7536,
             "France",
             2019,
             "Human Capital"
            ],
            [
             15.2873,
             "Denmark",
             2019,
             "Human Capital"
            ],
            [
             13.5395,
             "Ireland",
             2019,
             "Human Capital"
            ]
           ],
           "hovertemplate": "<b>%{hovertext}</b><br><br><extra></extra>",
           "hovertext": [
            15.4998,
            11.5829,
            11.1238,
            13.6077,
            8.007060000000001,
            12.4039,
            7.12805,
            13.9133,
            10.1114,
            17.9074,
            15.6117,
            13.7622,
            11.2026,
            8.80688,
            15.4052,
            14.3533,
            7.77146,
            10.5455,
            10.5298,
            11.9732,
            11.705,
            19.3848,
            8.1871,
            8.66126,
            9.2114,
            11.0483,
            11.7536,
            15.2873,
            13.5395
           ],
           "ids": [
            "Netherlands",
            "Slovenia",
            "Spain",
            "Deutschland",
            "Italy",
            "Belgium",
            "Bulgaria",
            "Austria",
            "Latvia",
            "Sweden",
            "Estonia",
            "Malta",
            "Czech Rep.",
            "Portugal",
            "United Kingdom",
            "Luxembourg",
            "Romania",
            "Lithuania",
            "Hungary",
            "Europe",
            "Croatia",
            "Finland",
            "Greece",
            "Cyprus",
            "Poland",
            "Slovakia",
            "France",
            "Denmark",
            "Ireland"
           ],
           "legendgroup": "Human Capital",
           "marker": {
            "color": "#41AB5D"
           },
           "name": "Human Capital",
           "offsetgroup": "Human Capital",
           "orientation": "v",
           "showlegend": true,
           "textposition": "auto",
           "type": "bar",
           "x": [
            "Netherlands",
            "Slovenia",
            "Spain",
            "Deutschland",
            "Italy",
            "Belgium",
            "Bulgaria",
            "Austria",
            "Latvia",
            "Sweden",
            "Estonia",
            "Malta",
            "Czech Rep.",
            "Portugal",
            "United Kingdom",
            "Luxembourg",
            "Romania",
            "Lithuania",
            "Hungary",
            "Europe",
            "Croatia",
            "Finland",
            "Greece",
            "Cyprus",
            "Poland",
            "Slovakia",
            "France",
            "Denmark",
            "Ireland"
           ],
           "xaxis": "x",
           "y": [
            15.4998,
            11.5829,
            11.1238,
            13.6077,
            8.007060000000001,
            12.4039,
            7.12805,
            13.9133,
            10.1114,
            17.9074,
            15.6117,
            13.7622,
            11.2026,
            8.80688,
            15.4052,
            14.3533,
            7.77146,
            10.5455,
            10.5298,
            11.9732,
            11.705,
            19.3848,
            8.1871,
            8.66126,
            9.2114,
            11.0483,
            11.7536,
            15.2873,
            13.5395
           ],
           "yaxis": "y"
          },
          {
           "alignmentgroup": "True",
           "customdata": [
            [
             9.46973,
             "Estonia",
             2019,
             "Use of Internet Services"
            ],
            [
             7.48538,
             "France",
             2019,
             "Use of Internet Services"
            ],
            [
             5.50705,
             "Bulgaria",
             2019,
             "Use of Internet Services"
            ],
            [
             7.88162,
             "Austria",
             2019,
             "Use of Internet Services"
            ],
            [
             8.33084,
             "Lithuania",
             2019,
             "Use of Internet Services"
            ],
            [
             6.869160000000001,
             "Poland",
             2019,
             "Use of Internet Services"
            ],
            [
             7.46846,
             "Slovenia",
             2019,
             "Use of Internet Services"
            ],
            [
             8.00464,
             "Croatia",
             2019,
             "Use of Internet Services"
            ],
            [
             8.31115,
             "Ireland",
             2019,
             "Use of Internet Services"
            ],
            [
             10.7724,
             "Finland",
             2019,
             "Use of Internet Services"
            ],
            [
             7.68998,
             "Czech Rep.",
             2019,
             "Use of Internet Services"
            ],
            [
             7.90497,
             "Latvia",
             2019,
             "Use of Internet Services"
            ],
            [
             8.26719,
             "Spain",
             2019,
             "Use of Internet Services"
            ],
            [
             10.995999999999999,
             "Netherlands",
             2019,
             "Use of Internet Services"
            ],
            [
             11.2871,
             "Denmark",
             2019,
             "Use of Internet Services"
            ],
            [
             6.25246,
             "Italy",
             2019,
             "Use of Internet Services"
            ],
            [
             9.04382,
             "Deutschland",
             2019,
             "Use of Internet Services"
            ],
            [
             9.35361,
             "Malta",
             2019,
             "Use of Internet Services"
            ],
            [
             7.696789999999999,
             "Slovakia",
             2019,
             "Use of Internet Services"
            ],
            [
             7.67852,
             "Hungary",
             2019,
             "Use of Internet Services"
            ],
            [
             5.244759999999999,
             "Romania",
             2019,
             "Use of Internet Services"
            ],
            [
             8.42495,
             "Belgium",
             2019,
             "Use of Internet Services"
            ],
            [
             6.7854600000000005,
             "Portugal",
             2019,
             "Use of Internet Services"
            ],
            [
             11.2513,
             "Sweden",
             2019,
             "Use of Internet Services"
            ],
            [
             8.632719999999999,
             "Luxembourg",
             2019,
             "Use of Internet Services"
            ],
            [
             10.3452,
             "United Kingdom",
             2019,
             "Use of Internet Services"
            ],
            [
             7.59444,
             "Cyprus",
             2019,
             "Use of Internet Services"
            ],
            [
             6.49859,
             "Greece",
             2019,
             "Use of Internet Services"
            ],
            [
             8.25158,
             "Europe",
             2019,
             "Use of Internet Services"
            ]
           ],
           "hovertemplate": "<b>%{hovertext}</b><br><br><extra></extra>",
           "hovertext": [
            9.46973,
            7.48538,
            5.50705,
            7.88162,
            8.33084,
            6.869160000000001,
            7.46846,
            8.00464,
            8.31115,
            10.7724,
            7.68998,
            7.90497,
            8.26719,
            10.995999999999999,
            11.2871,
            6.25246,
            9.04382,
            9.35361,
            7.696789999999999,
            7.67852,
            5.244759999999999,
            8.42495,
            6.7854600000000005,
            11.2513,
            8.632719999999999,
            10.3452,
            7.59444,
            6.49859,
            8.25158
           ],
           "ids": [
            "Estonia",
            "France",
            "Bulgaria",
            "Austria",
            "Lithuania",
            "Poland",
            "Slovenia",
            "Croatia",
            "Ireland",
            "Finland",
            "Czech Rep.",
            "Latvia",
            "Spain",
            "Netherlands",
            "Denmark",
            "Italy",
            "Deutschland",
            "Malta",
            "Slovakia",
            "Hungary",
            "Romania",
            "Belgium",
            "Portugal",
            "Sweden",
            "Luxembourg",
            "United Kingdom",
            "Cyprus",
            "Greece",
            "Europe"
           ],
           "legendgroup": "Use of Internet Services",
           "marker": {
            "color": "#4292C6"
           },
           "name": "Use of Internet Services",
           "offsetgroup": "Use of Internet Services",
           "orientation": "v",
           "showlegend": true,
           "textposition": "auto",
           "type": "bar",
           "x": [
            "Estonia",
            "France",
            "Bulgaria",
            "Austria",
            "Lithuania",
            "Poland",
            "Slovenia",
            "Croatia",
            "Ireland",
            "Finland",
            "Czech Rep.",
            "Latvia",
            "Spain",
            "Netherlands",
            "Denmark",
            "Italy",
            "Deutschland",
            "Malta",
            "Slovakia",
            "Hungary",
            "Romania",
            "Belgium",
            "Portugal",
            "Sweden",
            "Luxembourg",
            "United Kingdom",
            "Cyprus",
            "Greece",
            "Europe"
           ],
           "xaxis": "x",
           "y": [
            9.46973,
            7.48538,
            5.50705,
            7.88162,
            8.33084,
            6.869160000000001,
            7.46846,
            8.00464,
            8.31115,
            10.7724,
            7.68998,
            7.90497,
            8.26719,
            10.995999999999999,
            11.2871,
            6.25246,
            9.04382,
            9.35361,
            7.696789999999999,
            7.67852,
            5.244759999999999,
            8.42495,
            6.7854600000000005,
            11.2513,
            8.632719999999999,
            10.3452,
            7.59444,
            6.49859,
            8.25158
           ],
           "yaxis": "y"
          },
          {
           "alignmentgroup": "True",
           "customdata": [
            [
             4.26419,
             "Romania",
             2019,
             "Integration of Digital Technology"
            ],
            [
             12.0295,
             "Finland",
             2019,
             "Integration of Digital Technology"
            ],
            [
             9.92234,
             "Malta",
             2019,
             "Integration of Digital Technology"
            ],
            [
             7.48482,
             "Luxembourg",
             2019,
             "Integration of Digital Technology"
            ],
            [
             7.96787,
             "Estonia",
             2019,
             "Integration of Digital Technology"
            ],
            [
             4.94057,
             "Latvia",
             2019,
             "Integration of Digital Technology"
            ],
            [
             8.54251,
             "Czech Rep.",
             2019,
             "Integration of Digital Technology"
            ],
            [
             4.70142,
             "Poland",
             2019,
             "Integration of Digital Technology"
            ],
            [
             12.28,
             "Belgium",
             2019,
             "Integration of Digital Technology"
            ],
            [
             10.4031,
             "United Kingdom",
             2019,
             "Integration of Digital Technology"
            ],
            [
             11.5879,
             "Sweden",
             2019,
             "Integration of Digital Technology"
            ],
            [
             8.28075,
             "Portugal",
             2019,
             "Integration of Digital Technology"
            ],
            [
             6.70158,
             "Cyprus",
             2019,
             "Integration of Digital Technology"
            ],
            [
             6.04896,
             "Greece",
             2019,
             "Integration of Digital Technology"
            ],
            [
             6.612419999999999,
             "Slovakia",
             2019,
             "Integration of Digital Technology"
            ],
            [
             9.51275,
             "Lithuania",
             2019,
             "Integration of Digital Technology"
            ],
            [
             8.256739999999999,
             "Spain",
             2019,
             "Integration of Digital Technology"
            ],
            [
             7.82335,
             "Slovenia",
             2019,
             "Integration of Digital Technology"
            ],
            [
             12.5225,
             "Netherlands",
             2019,
             "Integration of Digital Technology"
            ],
            [
             7.8313,
             "Deutschland",
             2019,
             "Integration of Digital Technology"
            ],
            [
             6.95489,
             "Austria",
             2019,
             "Integration of Digital Technology"
            ],
            [
             7.95291,
             "Europe",
             2019,
             "Integration of Digital Technology"
            ],
            [
             4.9701900000000006,
             "Hungary",
             2019,
             "Integration of Digital Technology"
            ],
            [
             7.705419999999999,
             "Croatia",
             2019,
             "Integration of Digital Technology"
            ],
            [
             6.00481,
             "Italy",
             2019,
             "Integration of Digital Technology"
            ],
            [
             3.37848,
             "Bulgaria",
             2019,
             "Integration of Digital Technology"
            ],
            [
             13.8237,
             "Ireland",
             2019,
             "Integration of Digital Technology"
            ],
            [
             12.2375,
             "Denmark",
             2019,
             "Integration of Digital Technology"
            ],
            [
             8.15121,
             "France",
             2019,
             "Integration of Digital Technology"
            ]
           ],
           "hovertemplate": "<b>%{hovertext}</b><br><br><extra></extra>",
           "hovertext": [
            4.26419,
            12.0295,
            9.92234,
            7.48482,
            7.96787,
            4.94057,
            8.54251,
            4.70142,
            12.28,
            10.4031,
            11.5879,
            8.28075,
            6.70158,
            6.04896,
            6.612419999999999,
            9.51275,
            8.256739999999999,
            7.82335,
            12.5225,
            7.8313,
            6.95489,
            7.95291,
            4.9701900000000006,
            7.705419999999999,
            6.00481,
            3.37848,
            13.8237,
            12.2375,
            8.15121
           ],
           "ids": [
            "Romania",
            "Finland",
            "Malta",
            "Luxembourg",
            "Estonia",
            "Latvia",
            "Czech Rep.",
            "Poland",
            "Belgium",
            "United Kingdom",
            "Sweden",
            "Portugal",
            "Cyprus",
            "Greece",
            "Slovakia",
            "Lithuania",
            "Spain",
            "Slovenia",
            "Netherlands",
            "Deutschland",
            "Austria",
            "Europe",
            "Hungary",
            "Croatia",
            "Italy",
            "Bulgaria",
            "Ireland",
            "Denmark",
            "France"
           ],
           "legendgroup": "Integration of Digital Technology",
           "marker": {
            "color": "#DD3497"
           },
           "name": "Integration of Digital Technology",
           "offsetgroup": "Integration of Digital Technology",
           "orientation": "v",
           "showlegend": true,
           "textposition": "auto",
           "type": "bar",
           "x": [
            "Romania",
            "Finland",
            "Malta",
            "Luxembourg",
            "Estonia",
            "Latvia",
            "Czech Rep.",
            "Poland",
            "Belgium",
            "United Kingdom",
            "Sweden",
            "Portugal",
            "Cyprus",
            "Greece",
            "Slovakia",
            "Lithuania",
            "Spain",
            "Slovenia",
            "Netherlands",
            "Deutschland",
            "Austria",
            "Europe",
            "Hungary",
            "Croatia",
            "Italy",
            "Bulgaria",
            "Ireland",
            "Denmark",
            "France"
           ],
           "xaxis": "x",
           "y": [
            4.26419,
            12.0295,
            9.92234,
            7.48482,
            7.96787,
            4.94057,
            8.54251,
            4.70142,
            12.28,
            10.4031,
            11.5879,
            8.28075,
            6.70158,
            6.04896,
            6.612419999999999,
            9.51275,
            8.256739999999999,
            7.82335,
            12.5225,
            7.8313,
            6.95489,
            7.95291,
            4.9701900000000006,
            7.705419999999999,
            6.00481,
            3.37848,
            13.8237,
            12.2375,
            8.15121
           ],
           "yaxis": "y"
          }
         ],
         "name": "2019"
        },
        {
         "data": [
          {
           "alignmentgroup": "True",
           "customdata": [
            [
             16.4551,
             "Denmark",
             2020,
             "Connectivity"
            ],
            [
             10.2882,
             "Croatia",
             2020,
             "Connectivity"
            ],
            [
             13.4802,
             "Portugal",
             2020,
             "Connectivity"
            ],
            [
             12.5146,
             "Europe",
             2020,
             "Connectivity"
            ],
            [
             9.6238,
             "Bulgaria",
             2020,
             "Connectivity"
            ],
            [
             12.2205,
             "Lithuania",
             2020,
             "Connectivity"
            ],
            [
             11.2203,
             "Czech Rep.",
             2020,
             "Connectivity"
            ],
            [
             15.8372,
             "Luxembourg",
             2020,
             "Connectivity"
            ],
            [
             14.7929,
             "Finland",
             2020,
             "Connectivity"
            ],
            [
             12.4966,
             "Italy",
             2020,
             "Connectivity"
            ],
            [
             14.6796,
             "Malta",
             2020,
             "Connectivity"
            ],
            [
             12.964,
             "Estonia",
             2020,
             "Connectivity"
            ],
            [
             11.7886,
             "Austria",
             2020,
             "Connectivity"
            ],
            [
             13.0068,
             "Belgium",
             2020,
             "Connectivity"
            ],
            [
             12.8358,
             "Poland",
             2020,
             "Connectivity"
            ],
            [
             11.4228,
             "Ireland",
             2020,
             "Connectivity"
            ],
            [
             14.9468,
             "Hungary",
             2020,
             "Connectivity"
            ],
            [
             12.2045,
             "United Kingdom",
             2020,
             "Connectivity"
            ],
            [
             12.460999999999999,
             "France",
             2020,
             "Connectivity"
            ],
            [
             16.0923,
             "Sweden",
             2020,
             "Connectivity"
            ],
            [
             15.1985,
             "Spain",
             2020,
             "Connectivity"
            ],
            [
             14.0463,
             "Romania",
             2020,
             "Connectivity"
            ],
            [
             15.4403,
             "Latvia",
             2020,
             "Connectivity"
            ],
            [
             14.8489,
             "Deutschland",
             2020,
             "Connectivity"
            ],
            [
             15.0807,
             "Netherlands",
             2020,
             "Connectivity"
            ],
            [
             12.5581,
             "Slovenia",
             2020,
             "Connectivity"
            ],
            [
             11.8659,
             "Slovakia",
             2020,
             "Connectivity"
            ],
            [
             8.34223,
             "Greece",
             2020,
             "Connectivity"
            ],
            [
             9.614339999999999,
             "Cyprus",
             2020,
             "Connectivity"
            ]
           ],
           "hovertemplate": "<b>%{hovertext}</b><br><br><extra></extra>",
           "hovertext": [
            16.4551,
            10.2882,
            13.4802,
            12.5146,
            9.6238,
            12.2205,
            11.2203,
            15.8372,
            14.7929,
            12.4966,
            14.6796,
            12.964,
            11.7886,
            13.0068,
            12.8358,
            11.4228,
            14.9468,
            12.2045,
            12.460999999999999,
            16.0923,
            15.1985,
            14.0463,
            15.4403,
            14.8489,
            15.0807,
            12.5581,
            11.8659,
            8.34223,
            9.614339999999999
           ],
           "ids": [
            "Denmark",
            "Croatia",
            "Portugal",
            "Europe",
            "Bulgaria",
            "Lithuania",
            "Czech Rep.",
            "Luxembourg",
            "Finland",
            "Italy",
            "Malta",
            "Estonia",
            "Austria",
            "Belgium",
            "Poland",
            "Ireland",
            "Hungary",
            "United Kingdom",
            "France",
            "Sweden",
            "Spain",
            "Romania",
            "Latvia",
            "Deutschland",
            "Netherlands",
            "Slovenia",
            "Slovakia",
            "Greece",
            "Cyprus"
           ],
           "legendgroup": "Connectivity",
           "marker": {
            "color": "#F16913"
           },
           "name": "Connectivity",
           "offsetgroup": "Connectivity",
           "orientation": "v",
           "showlegend": true,
           "textposition": "auto",
           "type": "bar",
           "x": [
            "Denmark",
            "Croatia",
            "Portugal",
            "Europe",
            "Bulgaria",
            "Lithuania",
            "Czech Rep.",
            "Luxembourg",
            "Finland",
            "Italy",
            "Malta",
            "Estonia",
            "Austria",
            "Belgium",
            "Poland",
            "Ireland",
            "Hungary",
            "United Kingdom",
            "France",
            "Sweden",
            "Spain",
            "Romania",
            "Latvia",
            "Deutschland",
            "Netherlands",
            "Slovenia",
            "Slovakia",
            "Greece",
            "Cyprus"
           ],
           "xaxis": "x",
           "y": [
            16.4551,
            10.2882,
            13.4802,
            12.5146,
            9.6238,
            12.2205,
            11.2203,
            15.8372,
            14.7929,
            12.4966,
            14.6796,
            12.964,
            11.7886,
            13.0068,
            12.8358,
            11.4228,
            14.9468,
            12.2045,
            12.460999999999999,
            16.0923,
            15.1985,
            14.0463,
            15.4403,
            14.8489,
            15.0807,
            12.5581,
            11.8659,
            8.34223,
            9.614339999999999
           ],
           "yaxis": "y"
          },
          {
           "alignmentgroup": "True",
           "customdata": [
            [
             12.7595,
             "Latvia",
             2020,
             "Digital Public Services"
            ],
            [
             9.35661,
             "Czech Rep.",
             2020,
             "Digital Public Services"
            ],
            [
             10.8,
             "Europe",
             2020,
             "Digital Public Services"
            ],
            [
             12.1441,
             "Netherlands",
             2020,
             "Digital Public Services"
            ],
            [
             10.7597,
             "Belgium",
             2020,
             "Digital Public Services"
            ],
            [
             11.7193,
             "Malta",
             2020,
             "Digital Public Services"
            ],
            [
             10.3433,
             "Cyprus",
             2020,
             "Digital Public Services"
            ],
            [
             9.26416,
             "Bulgaria",
             2020,
             "Digital Public Services"
            ],
            [
             13.4001,
             "Estonia",
             2020,
             "Digital Public Services"
            ],
            [
             11.0612,
             "Luxembourg",
             2020,
             "Digital Public Services"
            ],
            [
             7.26127,
             "Romania",
             2020,
             "Digital Public Services"
            ],
            [
             8.36315,
             "Croatia",
             2020,
             "Digital Public Services"
            ],
            [
             10.1218,
             "Italy",
             2020,
             "Digital Public Services"
            ],
            [
             12.0943,
             "Ireland",
             2020,
             "Digital Public Services"
            ],
            [
             10.1111,
             "Poland",
             2020,
             "Digital Public Services"
            ],
            [
             8.34183,
             "Slovakia",
             2020,
             "Digital Public Services"
            ],
            [
             13.0695,
             "Denmark",
             2020,
             "Digital Public Services"
            ],
            [
             13.0492,
             "Finland",
             2020,
             "Digital Public Services"
            ],
            [
             12.2169,
             "Lithuania",
             2020,
             "Digital Public Services"
            ],
            [
             10.6132,
             "Slovenia",
             2020,
             "Digital Public Services"
            ],
            [
             8.66502,
             "Hungary",
             2020,
             "Digital Public Services"
            ],
            [
             13.0913,
             "Spain",
             2020,
             "Digital Public Services"
            ],
            [
             9.95575,
             "Deutschland",
             2020,
             "Digital Public Services"
            ],
            [
             11.5063,
             "France",
             2020,
             "Digital Public Services"
            ],
            [
             11.2681,
             "Portugal",
             2020,
             "Digital Public Services"
            ],
            [
             7.72501,
             "Greece",
             2020,
             "Digital Public Services"
            ],
            [
             12.1253,
             "Austria",
             2020,
             "Digital Public Services"
            ],
            [
             11.9012,
             "Sweden",
             2020,
             "Digital Public Services"
            ],
            [
             10.6158,
             "United Kingdom",
             2020,
             "Digital Public Services"
            ]
           ],
           "hovertemplate": "<b>%{hovertext}</b><br><br><extra></extra>",
           "hovertext": [
            12.7595,
            9.35661,
            10.8,
            12.1441,
            10.7597,
            11.7193,
            10.3433,
            9.26416,
            13.4001,
            11.0612,
            7.26127,
            8.36315,
            10.1218,
            12.0943,
            10.1111,
            8.34183,
            13.0695,
            13.0492,
            12.2169,
            10.6132,
            8.66502,
            13.0913,
            9.95575,
            11.5063,
            11.2681,
            7.72501,
            12.1253,
            11.9012,
            10.6158
           ],
           "ids": [
            "Latvia",
            "Czech Rep.",
            "Europe",
            "Netherlands",
            "Belgium",
            "Malta",
            "Cyprus",
            "Bulgaria",
            "Estonia",
            "Luxembourg",
            "Romania",
            "Croatia",
            "Italy",
            "Ireland",
            "Poland",
            "Slovakia",
            "Denmark",
            "Finland",
            "Lithuania",
            "Slovenia",
            "Hungary",
            "Spain",
            "Deutschland",
            "France",
            "Portugal",
            "Greece",
            "Austria",
            "Sweden",
            "United Kingdom"
           ],
           "legendgroup": "Digital Public Services",
           "marker": {
            "color": "#EF3B2C"
           },
           "name": "Digital Public Services",
           "offsetgroup": "Digital Public Services",
           "orientation": "v",
           "showlegend": true,
           "textposition": "auto",
           "type": "bar",
           "x": [
            "Latvia",
            "Czech Rep.",
            "Europe",
            "Netherlands",
            "Belgium",
            "Malta",
            "Cyprus",
            "Bulgaria",
            "Estonia",
            "Luxembourg",
            "Romania",
            "Croatia",
            "Italy",
            "Ireland",
            "Poland",
            "Slovakia",
            "Denmark",
            "Finland",
            "Lithuania",
            "Slovenia",
            "Hungary",
            "Spain",
            "Deutschland",
            "France",
            "Portugal",
            "Greece",
            "Austria",
            "Sweden",
            "United Kingdom"
           ],
           "xaxis": "x",
           "y": [
            12.7595,
            9.35661,
            10.8,
            12.1441,
            10.7597,
            11.7193,
            10.3433,
            9.26416,
            13.4001,
            11.0612,
            7.26127,
            8.36315,
            10.1218,
            12.0943,
            10.1111,
            8.34183,
            13.0695,
            13.0492,
            12.2169,
            10.6132,
            8.66502,
            13.0913,
            9.95575,
            11.5063,
            11.2681,
            7.72501,
            12.1253,
            11.9012,
            10.6158
           ],
           "yaxis": "y"
          },
          {
           "alignmentgroup": "True",
           "customdata": [
            [
             14.1047,
             "Deutschland",
             2020,
             "Human Capital"
            ],
            [
             16.0404,
             "Netherlands",
             2020,
             "Human Capital"
            ],
            [
             12.0872,
             "Slovenia",
             2020,
             "Human Capital"
            ],
            [
             11.8895,
             "Spain",
             2020,
             "Human Capital"
            ],
            [
             11.8577,
             "France",
             2020,
             "Human Capital"
            ],
            [
             9.44128,
             "Portugal",
             2020,
             "Human Capital"
            ],
            [
             19.6105,
             "Finland",
             2020,
             "Human Capital"
            ],
            [
             12.2886,
             "Croatia",
             2020,
             "Human Capital"
            ],
            [
             16.6647,
             "Estonia",
             2020,
             "Human Capital"
            ],
            [
             15.4398,
             "Malta",
             2020,
             "Human Capital"
            ],
            [
             17.930999999999997,
             "Sweden",
             2020,
             "Human Capital"
            ],
            [
             12.3224,
             "Europe",
             2020,
             "Human Capital"
            ],
            [
             8.69778,
             "Greece",
             2020,
             "Human Capital"
            ],
            [
             10.4588,
             "Hungary",
             2020,
             "Human Capital"
            ],
            [
             8.113999999999999,
             "Italy",
             2020,
             "Human Capital"
            ],
            [
             8.75522,
             "Latvia",
             2020,
             "Human Capital"
            ],
            [
             8.28947,
             "Romania",
             2020,
             "Human Capital"
            ],
            [
             12.161,
             "Czech Rep.",
             2020,
             "Human Capital"
            ],
            [
             14.1825,
             "Austria",
             2020,
             "Human Capital"
            ],
            [
             10.9577,
             "Lithuania",
             2020,
             "Human Capital"
            ],
            [
             8.950660000000001,
             "Cyprus",
             2020,
             "Human Capital"
            ],
            [
             10.4517,
             "Slovakia",
             2020,
             "Human Capital"
            ],
            [
             14.5546,
             "Luxembourg",
             2020,
             "Human Capital"
            ],
            [
             12.5969,
             "Belgium",
             2020,
             "Human Capital"
            ],
            [
             15.751,
             "United Kingdom",
             2020,
             "Human Capital"
            ],
            [
             9.31793,
             "Poland",
             2020,
             "Human Capital"
            ],
            [
             15.3191,
             "Denmark",
             2020,
             "Human Capital"
            ],
            [
             8.4789,
             "Bulgaria",
             2020,
             "Human Capital"
            ],
            [
             14.0997,
             "Ireland",
             2020,
             "Human Capital"
            ]
           ],
           "hovertemplate": "<b>%{hovertext}</b><br><br><extra></extra>",
           "hovertext": [
            14.1047,
            16.0404,
            12.0872,
            11.8895,
            11.8577,
            9.44128,
            19.6105,
            12.2886,
            16.6647,
            15.4398,
            17.930999999999997,
            12.3224,
            8.69778,
            10.4588,
            8.113999999999999,
            8.75522,
            8.28947,
            12.161,
            14.1825,
            10.9577,
            8.950660000000001,
            10.4517,
            14.5546,
            12.5969,
            15.751,
            9.31793,
            15.3191,
            8.4789,
            14.0997
           ],
           "ids": [
            "Deutschland",
            "Netherlands",
            "Slovenia",
            "Spain",
            "France",
            "Portugal",
            "Finland",
            "Croatia",
            "Estonia",
            "Malta",
            "Sweden",
            "Europe",
            "Greece",
            "Hungary",
            "Italy",
            "Latvia",
            "Romania",
            "Czech Rep.",
            "Austria",
            "Lithuania",
            "Cyprus",
            "Slovakia",
            "Luxembourg",
            "Belgium",
            "United Kingdom",
            "Poland",
            "Denmark",
            "Bulgaria",
            "Ireland"
           ],
           "legendgroup": "Human Capital",
           "marker": {
            "color": "#41AB5D"
           },
           "name": "Human Capital",
           "offsetgroup": "Human Capital",
           "orientation": "v",
           "showlegend": true,
           "textposition": "auto",
           "type": "bar",
           "x": [
            "Deutschland",
            "Netherlands",
            "Slovenia",
            "Spain",
            "France",
            "Portugal",
            "Finland",
            "Croatia",
            "Estonia",
            "Malta",
            "Sweden",
            "Europe",
            "Greece",
            "Hungary",
            "Italy",
            "Latvia",
            "Romania",
            "Czech Rep.",
            "Austria",
            "Lithuania",
            "Cyprus",
            "Slovakia",
            "Luxembourg",
            "Belgium",
            "United Kingdom",
            "Poland",
            "Denmark",
            "Bulgaria",
            "Ireland"
           ],
           "xaxis": "x",
           "y": [
            14.1047,
            16.0404,
            12.0872,
            11.8895,
            11.8577,
            9.44128,
            19.6105,
            12.2886,
            16.6647,
            15.4398,
            17.930999999999997,
            12.3224,
            8.69778,
            10.4588,
            8.113999999999999,
            8.75522,
            8.28947,
            12.161,
            14.1825,
            10.9577,
            8.950660000000001,
            10.4517,
            14.5546,
            12.5969,
            15.751,
            9.31793,
            15.3191,
            8.4789,
            14.0997
           ],
           "yaxis": "y"
          },
          {
           "alignmentgroup": "True",
           "customdata": [
            [
             8.102960000000001,
             "Austria",
             2020,
             "Use of Internet Services"
            ],
            [
             8.12155,
             "Czech Rep.",
             2020,
             "Use of Internet Services"
            ],
            [
             8.09762,
             "Latvia",
             2020,
             "Use of Internet Services"
            ],
            [
             7.4458899999999995,
             "Poland",
             2020,
             "Use of Internet Services"
            ],
            [
             5.4973,
             "Bulgaria",
             2020,
             "Use of Internet Services"
            ],
            [
             10.9968,
             "United Kingdom",
             2020,
             "Use of Internet Services"
            ],
            [
             8.827630000000001,
             "Luxembourg",
             2020,
             "Use of Internet Services"
            ],
            [
             8.00468,
             "Slovakia",
             2020,
             "Use of Internet Services"
            ],
            [
             5.38408,
             "Romania",
             2020,
             "Use of Internet Services"
            ],
            [
             9.31329,
             "Ireland",
             2020,
             "Use of Internet Services"
            ],
            [
             9.812289999999999,
             "Estonia",
             2020,
             "Use of Internet Services"
            ],
            [
             8.32179,
             "Croatia",
             2020,
             "Use of Internet Services"
            ],
            [
             8.59822,
             "Lithuania",
             2020,
             "Use of Internet Services"
            ],
            [
             7.75714,
             "Slovenia",
             2020,
             "Use of Internet Services"
            ],
            [
             11.4512,
             "Finland",
             2020,
             "Use of Internet Services"
            ],
            [
             7.95892,
             "France",
             2020,
             "Use of Internet Services"
            ],
            [
             6.67212,
             "Italy",
             2020,
             "Use of Internet Services"
            ],
            [
             8.384780000000001,
             "Hungary",
             2020,
             "Use of Internet Services"
            ],
            [
             9.23478,
             "Deutschland",
             2020,
             "Use of Internet Services"
            ],
            [
             8.17172,
             "Cyprus",
             2020,
             "Use of Internet Services"
            ],
            [
             11.273,
             "Denmark",
             2020,
             "Use of Internet Services"
            ],
            [
             11.2805,
             "Netherlands",
             2020,
             "Use of Internet Services"
            ],
            [
             9.11638,
             "Spain",
             2020,
             "Use of Internet Services"
            ],
            [
             7.213239999999999,
             "Portugal",
             2020,
             "Use of Internet Services"
            ],
            [
             9.17408,
             "Belgium",
             2020,
             "Use of Internet Services"
            ],
            [
             11.3931,
             "Sweden",
             2020,
             "Use of Internet Services"
            ],
            [
             6.91335,
             "Greece",
             2020,
             "Use of Internet Services"
            ],
            [
             8.70398,
             "Europe",
             2020,
             "Use of Internet Services"
            ],
            [
             9.88537,
             "Malta",
             2020,
             "Use of Internet Services"
            ]
           ],
           "hovertemplate": "<b>%{hovertext}</b><br><br><extra></extra>",
           "hovertext": [
            8.102960000000001,
            8.12155,
            8.09762,
            7.4458899999999995,
            5.4973,
            10.9968,
            8.827630000000001,
            8.00468,
            5.38408,
            9.31329,
            9.812289999999999,
            8.32179,
            8.59822,
            7.75714,
            11.4512,
            7.95892,
            6.67212,
            8.384780000000001,
            9.23478,
            8.17172,
            11.273,
            11.2805,
            9.11638,
            7.213239999999999,
            9.17408,
            11.3931,
            6.91335,
            8.70398,
            9.88537
           ],
           "ids": [
            "Austria",
            "Czech Rep.",
            "Latvia",
            "Poland",
            "Bulgaria",
            "United Kingdom",
            "Luxembourg",
            "Slovakia",
            "Romania",
            "Ireland",
            "Estonia",
            "Croatia",
            "Lithuania",
            "Slovenia",
            "Finland",
            "France",
            "Italy",
            "Hungary",
            "Deutschland",
            "Cyprus",
            "Denmark",
            "Netherlands",
            "Spain",
            "Portugal",
            "Belgium",
            "Sweden",
            "Greece",
            "Europe",
            "Malta"
           ],
           "legendgroup": "Use of Internet Services",
           "marker": {
            "color": "#4292C6"
           },
           "name": "Use of Internet Services",
           "offsetgroup": "Use of Internet Services",
           "orientation": "v",
           "showlegend": true,
           "textposition": "auto",
           "type": "bar",
           "x": [
            "Austria",
            "Czech Rep.",
            "Latvia",
            "Poland",
            "Bulgaria",
            "United Kingdom",
            "Luxembourg",
            "Slovakia",
            "Romania",
            "Ireland",
            "Estonia",
            "Croatia",
            "Lithuania",
            "Slovenia",
            "Finland",
            "France",
            "Italy",
            "Hungary",
            "Deutschland",
            "Cyprus",
            "Denmark",
            "Netherlands",
            "Spain",
            "Portugal",
            "Belgium",
            "Sweden",
            "Greece",
            "Europe",
            "Malta"
           ],
           "xaxis": "x",
           "y": [
            8.102960000000001,
            8.12155,
            8.09762,
            7.4458899999999995,
            5.4973,
            10.9968,
            8.827630000000001,
            8.00468,
            5.38408,
            9.31329,
            9.812289999999999,
            8.32179,
            8.59822,
            7.75714,
            11.4512,
            7.95892,
            6.67212,
            8.384780000000001,
            9.23478,
            8.17172,
            11.273,
            11.2805,
            9.11638,
            7.213239999999999,
            9.17408,
            11.3931,
            6.91335,
            8.70398,
            9.88537
           ],
           "yaxis": "y"
          },
          {
           "alignmentgroup": "True",
           "customdata": [
            [
             13.1492,
             "Netherlands",
             2020,
             "Integration of Digital Technology"
            ],
            [
             13.1739,
             "Belgium",
             2020,
             "Integration of Digital Technology"
            ],
            [
             8.18928,
             "Slovenia",
             2020,
             "Integration of Digital Technology"
            ],
            [
             14.8641,
             "Ireland",
             2020,
             "Integration of Digital Technology"
            ],
            [
             5.24851,
             "Poland",
             2020,
             "Integration of Digital Technology"
            ],
            [
             10.9807,
             "Malta",
             2020,
             "Integration of Digital Technology"
            ],
            [
             8.22989,
             "Estonia",
             2020,
             "Integration of Digital Technology"
            ],
            [
             6.51409,
             "Slovakia",
             2020,
             "Integration of Digital Technology"
            ],
            [
             12.4269,
             "Sweden",
             2020,
             "Integration of Digital Technology"
            ],
            [
             7.90631,
             "Deutschland",
             2020,
             "Integration of Digital Technology"
            ],
            [
             7.641939999999999,
             "Luxembourg",
             2020,
             "Integration of Digital Technology"
            ],
            [
             8.17436,
             "Portugal",
             2020,
             "Integration of Digital Technology"
            ],
            [
             8.27422,
             "Europe",
             2020,
             "Integration of Digital Technology"
            ],
            [
             8.115160000000001,
             "Austria",
             2020,
             "Integration of Digital Technology"
            ],
            [
             3.57291,
             "Bulgaria",
             2020,
             "Integration of Digital Technology"
            ],
            [
             5.63917,
             "Greece",
             2020,
             "Integration of Digital Technology"
            ],
            [
             9.91893,
             "Czech Rep.",
             2020,
             "Integration of Digital Technology"
            ],
            [
             4.98538,
             "Romania",
             2020,
             "Integration of Digital Technology"
            ],
            [
             5.66108,
             "Latvia",
             2020,
             "Integration of Digital Technology"
            ],
            [
             13.0295,
             "Denmark",
             2020,
             "Integration of Digital Technology"
            ],
            [
             8.40954,
             "France",
             2020,
             "Integration of Digital Technology"
            ],
            [
             8.24311,
             "Spain",
             2020,
             "Integration of Digital Technology"
            ],
            [
             13.409,
             "Finland",
             2020,
             "Integration of Digital Technology"
            ],
            [
             6.89687,
             "Cyprus",
             2020,
             "Integration of Digital Technology"
            ],
            [
             6.245080000000001,
             "Italy",
             2020,
             "Integration of Digital Technology"
            ],
            [
             8.29335,
             "Croatia",
             2020,
             "Integration of Digital Technology"
            ],
            [
             5.06139,
             "Hungary",
             2020,
             "Integration of Digital Technology"
            ],
            [
             9.893839999999999,
             "Lithuania",
             2020,
             "Integration of Digital Technology"
            ],
            [
             10.8377,
             "United Kingdom",
             2020,
             "Integration of Digital Technology"
            ]
           ],
           "hovertemplate": "<b>%{hovertext}</b><br><br><extra></extra>",
           "hovertext": [
            13.1492,
            13.1739,
            8.18928,
            14.8641,
            5.24851,
            10.9807,
            8.22989,
            6.51409,
            12.4269,
            7.90631,
            7.641939999999999,
            8.17436,
            8.27422,
            8.115160000000001,
            3.57291,
            5.63917,
            9.91893,
            4.98538,
            5.66108,
            13.0295,
            8.40954,
            8.24311,
            13.409,
            6.89687,
            6.245080000000001,
            8.29335,
            5.06139,
            9.893839999999999,
            10.8377
           ],
           "ids": [
            "Netherlands",
            "Belgium",
            "Slovenia",
            "Ireland",
            "Poland",
            "Malta",
            "Estonia",
            "Slovakia",
            "Sweden",
            "Deutschland",
            "Luxembourg",
            "Portugal",
            "Europe",
            "Austria",
            "Bulgaria",
            "Greece",
            "Czech Rep.",
            "Romania",
            "Latvia",
            "Denmark",
            "France",
            "Spain",
            "Finland",
            "Cyprus",
            "Italy",
            "Croatia",
            "Hungary",
            "Lithuania",
            "United Kingdom"
           ],
           "legendgroup": "Integration of Digital Technology",
           "marker": {
            "color": "#DD3497"
           },
           "name": "Integration of Digital Technology",
           "offsetgroup": "Integration of Digital Technology",
           "orientation": "v",
           "showlegend": true,
           "textposition": "auto",
           "type": "bar",
           "x": [
            "Netherlands",
            "Belgium",
            "Slovenia",
            "Ireland",
            "Poland",
            "Malta",
            "Estonia",
            "Slovakia",
            "Sweden",
            "Deutschland",
            "Luxembourg",
            "Portugal",
            "Europe",
            "Austria",
            "Bulgaria",
            "Greece",
            "Czech Rep.",
            "Romania",
            "Latvia",
            "Denmark",
            "France",
            "Spain",
            "Finland",
            "Cyprus",
            "Italy",
            "Croatia",
            "Hungary",
            "Lithuania",
            "United Kingdom"
           ],
           "xaxis": "x",
           "y": [
            13.1492,
            13.1739,
            8.18928,
            14.8641,
            5.24851,
            10.9807,
            8.22989,
            6.51409,
            12.4269,
            7.90631,
            7.641939999999999,
            8.17436,
            8.27422,
            8.115160000000001,
            3.57291,
            5.63917,
            9.91893,
            4.98538,
            5.66108,
            13.0295,
            8.40954,
            8.24311,
            13.409,
            6.89687,
            6.245080000000001,
            8.29335,
            5.06139,
            9.893839999999999,
            10.8377
           ],
           "yaxis": "y"
          }
         ],
         "name": "2020"
        }
       ],
       "layout": {
        "barmode": "relative",
        "height": 600,
        "hovermode": "x",
        "legend": {
         "orientation": "h",
         "title": {
          "text": ""
         },
         "tracegroupgap": 0,
         "x": 0.99,
         "xanchor": "right",
         "y": 0.9,
         "yanchor": "bottom"
        },
        "margin": {
         "b": 200,
         "l": 20,
         "r": 10,
         "t": 50
        },
        "showlegend": true,
        "sliders": [
         {
          "active": 0,
          "currentvalue": {
           "prefix": "Year: "
          },
          "len": 0.9,
          "pad": {
           "r": 40,
           "t": 130
          },
          "steps": [
           {
            "args": [
             [
              "2015"
             ],
             {
              "frame": {
               "duration": 0,
               "redraw": true
              },
              "fromcurrent": true,
              "mode": "immediate",
              "transition": {
               "duration": 0,
               "easing": "linear"
              }
             }
            ],
            "label": "2015",
            "method": "animate"
           },
           {
            "args": [
             [
              "2016"
             ],
             {
              "frame": {
               "duration": 0,
               "redraw": true
              },
              "fromcurrent": true,
              "mode": "immediate",
              "redraw": false,
              "transition": {
               "duration": 0,
               "easing": "linear"
              }
             }
            ],
            "label": "2016",
            "method": "animate"
           },
           {
            "args": [
             [
              "2017"
             ],
             {
              "frame": {
               "duration": 0,
               "redraw": true
              },
              "fromcurrent": true,
              "mode": "immediate",
              "transition": {
               "duration": 0,
               "easing": "linear"
              }
             }
            ],
            "label": "2017",
            "method": "animate"
           },
           {
            "args": [
             [
              "2018"
             ],
             {
              "frame": {
               "duration": 0,
               "redraw": true
              },
              "fromcurrent": true,
              "mode": "immediate",
              "transition": {
               "duration": 0,
               "easing": "linear"
              }
             }
            ],
            "label": "2018",
            "method": "animate"
           },
           {
            "args": [
             [
              "2019"
             ],
             {
              "frame": {
               "duration": 0,
               "redraw": true
              },
              "fromcurrent": true,
              "mode": "immediate",
              "transition": {
               "duration": 0,
               "easing": "linear"
              }
             }
            ],
            "label": "2019",
            "method": "animate"
           },
           {
            "args": [
             [
              "2020"
             ],
             {
              "frame": {
               "duration": 0,
               "redraw": true
              },
              "fromcurrent": true,
              "mode": "immediate",
              "transition": {
               "duration": 0,
               "easing": "linear"
              }
             }
            ],
            "label": "2020",
            "method": "animate"
           }
          ],
          "x": 0.1,
          "xanchor": "left",
          "y": 0,
          "yanchor": "top"
         }
        ],
        "template": {
         "data": {
          "bar": [
           {
            "error_x": {
             "color": "#2a3f5f"
            },
            "error_y": {
             "color": "#2a3f5f"
            },
            "marker": {
             "line": {
              "color": "#E5ECF6",
              "width": 0.5
             }
            },
            "type": "bar"
           }
          ],
          "barpolar": [
           {
            "marker": {
             "line": {
              "color": "#E5ECF6",
              "width": 0.5
             }
            },
            "type": "barpolar"
           }
          ],
          "carpet": [
           {
            "aaxis": {
             "endlinecolor": "#2a3f5f",
             "gridcolor": "white",
             "linecolor": "white",
             "minorgridcolor": "white",
             "startlinecolor": "#2a3f5f"
            },
            "baxis": {
             "endlinecolor": "#2a3f5f",
             "gridcolor": "white",
             "linecolor": "white",
             "minorgridcolor": "white",
             "startlinecolor": "#2a3f5f"
            },
            "type": "carpet"
           }
          ],
          "choropleth": [
           {
            "colorbar": {
             "outlinewidth": 0,
             "ticks": ""
            },
            "type": "choropleth"
           }
          ],
          "contour": [
           {
            "colorbar": {
             "outlinewidth": 0,
             "ticks": ""
            },
            "colorscale": [
             [
              0,
              "#0d0887"
             ],
             [
              0.1111111111111111,
              "#46039f"
             ],
             [
              0.2222222222222222,
              "#7201a8"
             ],
             [
              0.3333333333333333,
              "#9c179e"
             ],
             [
              0.4444444444444444,
              "#bd3786"
             ],
             [
              0.5555555555555556,
              "#d8576b"
             ],
             [
              0.6666666666666666,
              "#ed7953"
             ],
             [
              0.7777777777777778,
              "#fb9f3a"
             ],
             [
              0.8888888888888888,
              "#fdca26"
             ],
             [
              1,
              "#f0f921"
             ]
            ],
            "type": "contour"
           }
          ],
          "contourcarpet": [
           {
            "colorbar": {
             "outlinewidth": 0,
             "ticks": ""
            },
            "type": "contourcarpet"
           }
          ],
          "heatmap": [
           {
            "colorbar": {
             "outlinewidth": 0,
             "ticks": ""
            },
            "colorscale": [
             [
              0,
              "#0d0887"
             ],
             [
              0.1111111111111111,
              "#46039f"
             ],
             [
              0.2222222222222222,
              "#7201a8"
             ],
             [
              0.3333333333333333,
              "#9c179e"
             ],
             [
              0.4444444444444444,
              "#bd3786"
             ],
             [
              0.5555555555555556,
              "#d8576b"
             ],
             [
              0.6666666666666666,
              "#ed7953"
             ],
             [
              0.7777777777777778,
              "#fb9f3a"
             ],
             [
              0.8888888888888888,
              "#fdca26"
             ],
             [
              1,
              "#f0f921"
             ]
            ],
            "type": "heatmap"
           }
          ],
          "heatmapgl": [
           {
            "colorbar": {
             "outlinewidth": 0,
             "ticks": ""
            },
            "colorscale": [
             [
              0,
              "#0d0887"
             ],
             [
              0.1111111111111111,
              "#46039f"
             ],
             [
              0.2222222222222222,
              "#7201a8"
             ],
             [
              0.3333333333333333,
              "#9c179e"
             ],
             [
              0.4444444444444444,
              "#bd3786"
             ],
             [
              0.5555555555555556,
              "#d8576b"
             ],
             [
              0.6666666666666666,
              "#ed7953"
             ],
             [
              0.7777777777777778,
              "#fb9f3a"
             ],
             [
              0.8888888888888888,
              "#fdca26"
             ],
             [
              1,
              "#f0f921"
             ]
            ],
            "type": "heatmapgl"
           }
          ],
          "histogram": [
           {
            "marker": {
             "colorbar": {
              "outlinewidth": 0,
              "ticks": ""
             }
            },
            "type": "histogram"
           }
          ],
          "histogram2d": [
           {
            "colorbar": {
             "outlinewidth": 0,
             "ticks": ""
            },
            "colorscale": [
             [
              0,
              "#0d0887"
             ],
             [
              0.1111111111111111,
              "#46039f"
             ],
             [
              0.2222222222222222,
              "#7201a8"
             ],
             [
              0.3333333333333333,
              "#9c179e"
             ],
             [
              0.4444444444444444,
              "#bd3786"
             ],
             [
              0.5555555555555556,
              "#d8576b"
             ],
             [
              0.6666666666666666,
              "#ed7953"
             ],
             [
              0.7777777777777778,
              "#fb9f3a"
             ],
             [
              0.8888888888888888,
              "#fdca26"
             ],
             [
              1,
              "#f0f921"
             ]
            ],
            "type": "histogram2d"
           }
          ],
          "histogram2dcontour": [
           {
            "colorbar": {
             "outlinewidth": 0,
             "ticks": ""
            },
            "colorscale": [
             [
              0,
              "#0d0887"
             ],
             [
              0.1111111111111111,
              "#46039f"
             ],
             [
              0.2222222222222222,
              "#7201a8"
             ],
             [
              0.3333333333333333,
              "#9c179e"
             ],
             [
              0.4444444444444444,
              "#bd3786"
             ],
             [
              0.5555555555555556,
              "#d8576b"
             ],
             [
              0.6666666666666666,
              "#ed7953"
             ],
             [
              0.7777777777777778,
              "#fb9f3a"
             ],
             [
              0.8888888888888888,
              "#fdca26"
             ],
             [
              1,
              "#f0f921"
             ]
            ],
            "type": "histogram2dcontour"
           }
          ],
          "mesh3d": [
           {
            "colorbar": {
             "outlinewidth": 0,
             "ticks": ""
            },
            "type": "mesh3d"
           }
          ],
          "parcoords": [
           {
            "line": {
             "colorbar": {
              "outlinewidth": 0,
              "ticks": ""
             }
            },
            "type": "parcoords"
           }
          ],
          "pie": [
           {
            "automargin": true,
            "type": "pie"
           }
          ],
          "scatter": [
           {
            "marker": {
             "colorbar": {
              "outlinewidth": 0,
              "ticks": ""
             }
            },
            "type": "scatter"
           }
          ],
          "scatter3d": [
           {
            "line": {
             "colorbar": {
              "outlinewidth": 0,
              "ticks": ""
             }
            },
            "marker": {
             "colorbar": {
              "outlinewidth": 0,
              "ticks": ""
             }
            },
            "type": "scatter3d"
           }
          ],
          "scattercarpet": [
           {
            "marker": {
             "colorbar": {
              "outlinewidth": 0,
              "ticks": ""
             }
            },
            "type": "scattercarpet"
           }
          ],
          "scattergeo": [
           {
            "marker": {
             "colorbar": {
              "outlinewidth": 0,
              "ticks": ""
             }
            },
            "type": "scattergeo"
           }
          ],
          "scattergl": [
           {
            "marker": {
             "colorbar": {
              "outlinewidth": 0,
              "ticks": ""
             }
            },
            "type": "scattergl"
           }
          ],
          "scattermapbox": [
           {
            "marker": {
             "colorbar": {
              "outlinewidth": 0,
              "ticks": ""
             }
            },
            "type": "scattermapbox"
           }
          ],
          "scatterpolar": [
           {
            "marker": {
             "colorbar": {
              "outlinewidth": 0,
              "ticks": ""
             }
            },
            "type": "scatterpolar"
           }
          ],
          "scatterpolargl": [
           {
            "marker": {
             "colorbar": {
              "outlinewidth": 0,
              "ticks": ""
             }
            },
            "type": "scatterpolargl"
           }
          ],
          "scatterternary": [
           {
            "marker": {
             "colorbar": {
              "outlinewidth": 0,
              "ticks": ""
             }
            },
            "type": "scatterternary"
           }
          ],
          "surface": [
           {
            "colorbar": {
             "outlinewidth": 0,
             "ticks": ""
            },
            "colorscale": [
             [
              0,
              "#0d0887"
             ],
             [
              0.1111111111111111,
              "#46039f"
             ],
             [
              0.2222222222222222,
              "#7201a8"
             ],
             [
              0.3333333333333333,
              "#9c179e"
             ],
             [
              0.4444444444444444,
              "#bd3786"
             ],
             [
              0.5555555555555556,
              "#d8576b"
             ],
             [
              0.6666666666666666,
              "#ed7953"
             ],
             [
              0.7777777777777778,
              "#fb9f3a"
             ],
             [
              0.8888888888888888,
              "#fdca26"
             ],
             [
              1,
              "#f0f921"
             ]
            ],
            "type": "surface"
           }
          ],
          "table": [
           {
            "cells": {
             "fill": {
              "color": "#EBF0F8"
             },
             "line": {
              "color": "white"
             }
            },
            "header": {
             "fill": {
              "color": "#C8D4E3"
             },
             "line": {
              "color": "white"
             }
            },
            "type": "table"
           }
          ]
         },
         "layout": {
          "annotationdefaults": {
           "arrowcolor": "#2a3f5f",
           "arrowhead": 0,
           "arrowwidth": 1
          },
          "coloraxis": {
           "colorbar": {
            "outlinewidth": 0,
            "ticks": ""
           }
          },
          "colorscale": {
           "diverging": [
            [
             0,
             "#8e0152"
            ],
            [
             0.1,
             "#c51b7d"
            ],
            [
             0.2,
             "#de77ae"
            ],
            [
             0.3,
             "#f1b6da"
            ],
            [
             0.4,
             "#fde0ef"
            ],
            [
             0.5,
             "#f7f7f7"
            ],
            [
             0.6,
             "#e6f5d0"
            ],
            [
             0.7,
             "#b8e186"
            ],
            [
             0.8,
             "#7fbc41"
            ],
            [
             0.9,
             "#4d9221"
            ],
            [
             1,
             "#276419"
            ]
           ],
           "sequential": [
            [
             0,
             "#0d0887"
            ],
            [
             0.1111111111111111,
             "#46039f"
            ],
            [
             0.2222222222222222,
             "#7201a8"
            ],
            [
             0.3333333333333333,
             "#9c179e"
            ],
            [
             0.4444444444444444,
             "#bd3786"
            ],
            [
             0.5555555555555556,
             "#d8576b"
            ],
            [
             0.6666666666666666,
             "#ed7953"
            ],
            [
             0.7777777777777778,
             "#fb9f3a"
            ],
            [
             0.8888888888888888,
             "#fdca26"
            ],
            [
             1,
             "#f0f921"
            ]
           ],
           "sequentialminus": [
            [
             0,
             "#0d0887"
            ],
            [
             0.1111111111111111,
             "#46039f"
            ],
            [
             0.2222222222222222,
             "#7201a8"
            ],
            [
             0.3333333333333333,
             "#9c179e"
            ],
            [
             0.4444444444444444,
             "#bd3786"
            ],
            [
             0.5555555555555556,
             "#d8576b"
            ],
            [
             0.6666666666666666,
             "#ed7953"
            ],
            [
             0.7777777777777778,
             "#fb9f3a"
            ],
            [
             0.8888888888888888,
             "#fdca26"
            ],
            [
             1,
             "#f0f921"
            ]
           ]
          },
          "colorway": [
           "#636efa",
           "#EF553B",
           "#00cc96",
           "#ab63fa",
           "#FFA15A",
           "#19d3f3",
           "#FF6692",
           "#B6E880",
           "#FF97FF",
           "#FECB52"
          ],
          "font": {
           "color": "#2a3f5f"
          },
          "geo": {
           "bgcolor": "white",
           "lakecolor": "white",
           "landcolor": "#E5ECF6",
           "showlakes": true,
           "showland": true,
           "subunitcolor": "white"
          },
          "hoverlabel": {
           "align": "left"
          },
          "hovermode": "closest",
          "mapbox": {
           "style": "light"
          },
          "paper_bgcolor": "white",
          "plot_bgcolor": "#E5ECF6",
          "polar": {
           "angularaxis": {
            "gridcolor": "white",
            "linecolor": "white",
            "ticks": ""
           },
           "bgcolor": "#E5ECF6",
           "radialaxis": {
            "gridcolor": "white",
            "linecolor": "white",
            "ticks": ""
           }
          },
          "scene": {
           "xaxis": {
            "backgroundcolor": "#E5ECF6",
            "gridcolor": "white",
            "gridwidth": 2,
            "linecolor": "white",
            "showbackground": true,
            "ticks": "",
            "zerolinecolor": "white"
           },
           "yaxis": {
            "backgroundcolor": "#E5ECF6",
            "gridcolor": "white",
            "gridwidth": 2,
            "linecolor": "white",
            "showbackground": true,
            "ticks": "",
            "zerolinecolor": "white"
           },
           "zaxis": {
            "backgroundcolor": "#E5ECF6",
            "gridcolor": "white",
            "gridwidth": 2,
            "linecolor": "white",
            "showbackground": true,
            "ticks": "",
            "zerolinecolor": "white"
           }
          },
          "shapedefaults": {
           "line": {
            "color": "#2a3f5f"
           }
          },
          "ternary": {
           "aaxis": {
            "gridcolor": "white",
            "linecolor": "white",
            "ticks": ""
           },
           "baxis": {
            "gridcolor": "white",
            "linecolor": "white",
            "ticks": ""
           },
           "bgcolor": "#E5ECF6",
           "caxis": {
            "gridcolor": "white",
            "linecolor": "white",
            "ticks": ""
           }
          },
          "title": {
           "x": 0.05
          },
          "xaxis": {
           "automargin": true,
           "gridcolor": "white",
           "linecolor": "white",
           "ticks": "",
           "title": {
            "standoff": 15
           },
           "zerolinecolor": "white",
           "zerolinewidth": 2
          },
          "yaxis": {
           "automargin": true,
           "gridcolor": "white",
           "linecolor": "white",
           "ticks": "",
           "title": {
            "standoff": 15
           },
           "zerolinecolor": "white",
           "zerolinewidth": 2
          }
         }
        },
        "title": {
         "text": "Select a year and compare the countries"
        },
        "updatemenus": [
         {
          "buttons": [
           {
            "args": [
             null,
             {
              "frame": {
               "duration": 2000,
               "frame": 200,
               "redraw": true
              },
              "fromcurrent": true,
              "mode": "immediate",
              "transition": {
               "duration": 500,
               "easing": "linear"
              }
             }
            ],
            "label": "&#9654;",
            "method": "animate"
           },
           {
            "args": [
             [
              null
             ],
             {
              "frame": {
               "duration": 0,
               "redraw": true
              },
              "fromcurrent": true,
              "mode": "immediate",
              "transition": {
               "duration": 0,
               "easing": "linear"
              }
             }
            ],
            "label": "&#9724;",
            "method": "animate"
           }
          ],
          "direction": "left",
          "pad": {
           "r": 30,
           "t": 150
          },
          "showactive": false,
          "type": "buttons",
          "x": 0.1,
          "xanchor": "right",
          "y": 0,
          "yanchor": "top"
         }
        ],
        "width": 1200,
        "xaxis": {
         "anchor": "y",
         "categoryorder": "total descending",
         "domain": [
          0,
          1
         ],
         "showgrid": false,
         "tickangle": 60,
         "title": {
          "text": "Country"
         }
        },
        "yaxis": {
         "anchor": "x",
         "domain": [
          0,
          1
         ],
         "range": [
          0,
          80
         ],
         "title": {
          "text": "Value"
         }
        }
       }
      },
      "text/html": [
       "<div>\n",
       "        \n",
       "        \n",
       "            <div id=\"a8c2b674-780a-45e4-a2df-9cd2acffe970\" class=\"plotly-graph-div\" style=\"height:600px; width:1200px;\"></div>\n",
       "            <script type=\"text/javascript\">\n",
       "                require([\"plotly\"], function(Plotly) {\n",
       "                    window.PLOTLYENV=window.PLOTLYENV || {};\n",
       "                    \n",
       "                if (document.getElementById(\"a8c2b674-780a-45e4-a2df-9cd2acffe970\")) {\n",
       "                    Plotly.newPlot(\n",
       "                        'a8c2b674-780a-45e4-a2df-9cd2acffe970',\n",
       "                        [{\"alignmentgroup\": \"True\", \"customdata\": [[7.0647, \"Austria\", 2015, \"Connectivity\"], [10.0916, \"Netherlands\", 2015, \"Connectivity\"], [7.78229, \"Europe\", 2015, \"Connectivity\"], [8.38408, \"Spain\", 2015, \"Connectivity\"], [6.959810000000001, \"Poland\", 2015, \"Connectivity\"], [8.92415, \"Deutschland\", 2015, \"Connectivity\"], [6.52572, \"Bulgaria\", 2015, \"Connectivity\"], [9.91113, \"Finland\", 2015, \"Connectivity\"], [8.096, \"Czech Rep.\", 2015, \"Connectivity\"], [7.65813, \"France\", 2015, \"Connectivity\"], [11.3794, \"Latvia\", 2015, \"Connectivity\"], [8.58184, \"Lithuania\", 2015, \"Connectivity\"], [11.2773, \"Denmark\", 2015, \"Connectivity\"], [7.350219999999999, \"Hungary\", 2015, \"Connectivity\"], [6.5734699999999995, \"Ireland\", 2015, \"Connectivity\"], [11.1992, \"Sweden\", 2015, \"Connectivity\"], [5.89582, \"Italy\", 2015, \"Connectivity\"], [9.07057, \"Slovenia\", 2015, \"Connectivity\"], [5.65107, \"Croatia\", 2015, \"Connectivity\"], [8.18213, \"Malta\", 2015, \"Connectivity\"], [4.3609800000000005, \"Cyprus\", 2015, \"Connectivity\"], [7.71197, \"Portugal\", 2015, \"Connectivity\"], [4.73184, \"Greece\", 2015, \"Connectivity\"], [8.55669, \"United Kingdom\", 2015, \"Connectivity\"], [11.2743, \"Luxembourg\", 2015, \"Connectivity\"], [8.73385, \"Romania\", 2015, \"Connectivity\"], [9.67203, \"Estonia\", 2015, \"Connectivity\"], [7.86075, \"Belgium\", 2015, \"Connectivity\"], [7.22112, \"Slovakia\", 2015, \"Connectivity\"]], \"hovertemplate\": \"<b>%{hovertext}</b><br><br><extra></extra>\", \"hovertext\": [7.0647, 10.0916, 7.78229, 8.38408, 6.959810000000001, 8.92415, 6.52572, 9.91113, 8.096, 7.65813, 11.3794, 8.58184, 11.2773, 7.350219999999999, 6.5734699999999995, 11.1992, 5.89582, 9.07057, 5.65107, 8.18213, 4.3609800000000005, 7.71197, 4.73184, 8.55669, 11.2743, 8.73385, 9.67203, 7.86075, 7.22112], \"ids\": [\"Austria\", \"Netherlands\", \"Europe\", \"Spain\", \"Poland\", \"Deutschland\", \"Bulgaria\", \"Finland\", \"Czech Rep.\", \"France\", \"Latvia\", \"Lithuania\", \"Denmark\", \"Hungary\", \"Ireland\", \"Sweden\", \"Italy\", \"Slovenia\", \"Croatia\", \"Malta\", \"Cyprus\", \"Portugal\", \"Greece\", \"United Kingdom\", \"Luxembourg\", \"Romania\", \"Estonia\", \"Belgium\", \"Slovakia\"], \"legendgroup\": \"Connectivity\", \"marker\": {\"color\": \"#F16913\"}, \"name\": \"Connectivity\", \"offsetgroup\": \"Connectivity\", \"orientation\": \"v\", \"showlegend\": true, \"textposition\": \"auto\", \"type\": \"bar\", \"x\": [\"Austria\", \"Netherlands\", \"Europe\", \"Spain\", \"Poland\", \"Deutschland\", \"Bulgaria\", \"Finland\", \"Czech Rep.\", \"France\", \"Latvia\", \"Lithuania\", \"Denmark\", \"Hungary\", \"Ireland\", \"Sweden\", \"Italy\", \"Slovenia\", \"Croatia\", \"Malta\", \"Cyprus\", \"Portugal\", \"Greece\", \"United Kingdom\", \"Luxembourg\", \"Romania\", \"Estonia\", \"Belgium\", \"Slovakia\"], \"xaxis\": \"x\", \"y\": [7.0647, 10.0916, 7.78229, 8.38408, 6.959810000000001, 8.92415, 6.52572, 9.91113, 8.096, 7.65813, 11.3794, 8.58184, 11.2773, 7.350219999999999, 6.5734699999999995, 11.1992, 5.89582, 9.07057, 5.65107, 8.18213, 4.3609800000000005, 7.71197, 4.73184, 8.55669, 11.2743, 8.73385, 9.67203, 7.86075, 7.22112], \"yaxis\": \"y\"}, {\"alignmentgroup\": \"True\", \"customdata\": [[9.09689, \"Lithuania\", 2015, \"Digital Public Services\"], [7.53211, \"Europe\", 2015, \"Digital Public Services\"], [10.8173, \"Finland\", 2015, \"Digital Public Services\"], [11.1576, \"Denmark\", 2015, \"Digital Public Services\"], [9.9463, \"Netherlands\", 2015, \"Digital Public Services\"], [10.1328, \"Portugal\", 2015, \"Digital Public Services\"], [4.66594, \"Romania\", 2015, \"Digital Public Services\"], [9.84623, \"Sweden\", 2015, \"Digital Public Services\"], [9.15099, \"Ireland\", 2015, \"Digital Public Services\"], [9.608460000000001, \"Spain\", 2015, \"Digital Public Services\"], [7.959739999999999, \"Poland\", 2015, \"Digital Public Services\"], [4.95589, \"Czech Rep.\", 2015, \"Digital Public Services\"], [6.90362, \"Slovenia\", 2015, \"Digital Public Services\"], [6.34576, \"Deutschland\", 2015, \"Digital Public Services\"], [8.98968, \"Austria\", 2015, \"Digital Public Services\"], [11.5939, \"Estonia\", 2015, \"Digital Public Services\"], [6.869689999999999, \"France\", 2015, \"Digital Public Services\"], [4.590330000000001, \"Slovakia\", 2015, \"Digital Public Services\"], [6.23641, \"Luxembourg\", 2015, \"Digital Public Services\"], [7.32045, \"United Kingdom\", 2015, \"Digital Public Services\"], [10.6802, \"Malta\", 2015, \"Digital Public Services\"], [7.277419999999999, \"Cyprus\", 2015, \"Digital Public Services\"], [7.71922, \"Belgium\", 2015, \"Digital Public Services\"], [4.07108, \"Croatia\", 2015, \"Digital Public Services\"], [3.09321, \"Greece\", 2015, \"Digital Public Services\"], [6.90543, \"Italy\", 2015, \"Digital Public Services\"], [8.19661, \"Latvia\", 2015, \"Digital Public Services\"], [4.23128, \"Hungary\", 2015, \"Digital Public Services\"], [5.50959, \"Bulgaria\", 2015, \"Digital Public Services\"]], \"hovertemplate\": \"<b>%{hovertext}</b><br><br><extra></extra>\", \"hovertext\": [9.09689, 7.53211, 10.8173, 11.1576, 9.9463, 10.1328, 4.66594, 9.84623, 9.15099, 9.608460000000001, 7.959739999999999, 4.95589, 6.90362, 6.34576, 8.98968, 11.5939, 6.869689999999999, 4.590330000000001, 6.23641, 7.32045, 10.6802, 7.277419999999999, 7.71922, 4.07108, 3.09321, 6.90543, 8.19661, 4.23128, 5.50959], \"ids\": [\"Lithuania\", \"Europe\", \"Finland\", \"Denmark\", \"Netherlands\", \"Portugal\", \"Romania\", \"Sweden\", \"Ireland\", \"Spain\", \"Poland\", \"Czech Rep.\", \"Slovenia\", \"Deutschland\", \"Austria\", \"Estonia\", \"France\", \"Slovakia\", \"Luxembourg\", \"United Kingdom\", \"Malta\", \"Cyprus\", \"Belgium\", \"Croatia\", \"Greece\", \"Italy\", \"Latvia\", \"Hungary\", \"Bulgaria\"], \"legendgroup\": \"Digital Public Services\", \"marker\": {\"color\": \"#EF3B2C\"}, \"name\": \"Digital Public Services\", \"offsetgroup\": \"Digital Public Services\", \"orientation\": \"v\", \"showlegend\": true, \"textposition\": \"auto\", \"type\": \"bar\", \"x\": [\"Lithuania\", \"Europe\", \"Finland\", \"Denmark\", \"Netherlands\", \"Portugal\", \"Romania\", \"Sweden\", \"Ireland\", \"Spain\", \"Poland\", \"Czech Rep.\", \"Slovenia\", \"Deutschland\", \"Austria\", \"Estonia\", \"France\", \"Slovakia\", \"Luxembourg\", \"United Kingdom\", \"Malta\", \"Cyprus\", \"Belgium\", \"Croatia\", \"Greece\", \"Italy\", \"Latvia\", \"Hungary\", \"Bulgaria\"], \"xaxis\": \"x\", \"y\": [9.09689, 7.53211, 10.8173, 11.1576, 9.9463, 10.1328, 4.66594, 9.84623, 9.15099, 9.608460000000001, 7.959739999999999, 4.95589, 6.90362, 6.34576, 8.98968, 11.5939, 6.869689999999999, 4.590330000000001, 6.23641, 7.32045, 10.6802, 7.277419999999999, 7.71922, 4.07108, 3.09321, 6.90543, 8.19661, 4.23128, 5.50959], \"yaxis\": \"y\"}, {\"alignmentgroup\": \"True\", \"customdata\": [[9.24162, \"Slovakia\", 2015, \"Human Capital\"], [9.18325, \"Latvia\", 2015, \"Human Capital\"], [12.5472, \"Austria\", 2015, \"Human Capital\"], [10.414000000000001, \"Slovenia\", 2015, \"Human Capital\"], [9.60926, \"Hungary\", 2015, \"Human Capital\"], [11.8648, \"Ireland\", 2015, \"Human Capital\"], [8.388530000000001, \"Cyprus\", 2015, \"Human Capital\"], [7.91995, \"Poland\", 2015, \"Human Capital\"], [13.9732, \"Estonia\", 2015, \"Human Capital\"], [10.9983, \"Europe\", 2015, \"Human Capital\"], [8.55204, \"Greece\", 2015, \"Human Capital\"], [7.701289999999999, \"Italy\", 2015, \"Human Capital\"], [10.2502, \"Croatia\", 2015, \"Human Capital\"], [13.34, \"Malta\", 2015, \"Human Capital\"], [7.976789999999999, \"Portugal\", 2015, \"Human Capital\"], [6.86706, \"Romania\", 2015, \"Human Capital\"], [11.0647, \"France\", 2015, \"Human Capital\"], [8.73623, \"Lithuania\", 2015, \"Human Capital\"], [18.0519, \"Finland\", 2015, \"Human Capital\"], [15.1573, \"Denmark\", 2015, \"Human Capital\"], [11.2147, \"Czech Rep.\", 2015, \"Human Capital\"], [15.3152, \"Sweden\", 2015, \"Human Capital\"], [7.29471, \"Bulgaria\", 2015, \"Human Capital\"], [11.5957, \"Belgium\", 2015, \"Human Capital\"], [14.088, \"United Kingdom\", 2015, \"Human Capital\"], [12.8161, \"Deutschland\", 2015, \"Human Capital\"], [10.7992, \"Spain\", 2015, \"Human Capital\"], [13.5831, \"Netherlands\", 2015, \"Human Capital\"], [13.1423, \"Luxembourg\", 2015, \"Human Capital\"]], \"hovertemplate\": \"<b>%{hovertext}</b><br><br><extra></extra>\", \"hovertext\": [9.24162, 9.18325, 12.5472, 10.414000000000001, 9.60926, 11.8648, 8.388530000000001, 7.91995, 13.9732, 10.9983, 8.55204, 7.701289999999999, 10.2502, 13.34, 7.976789999999999, 6.86706, 11.0647, 8.73623, 18.0519, 15.1573, 11.2147, 15.3152, 7.29471, 11.5957, 14.088, 12.8161, 10.7992, 13.5831, 13.1423], \"ids\": [\"Slovakia\", \"Latvia\", \"Austria\", \"Slovenia\", \"Hungary\", \"Ireland\", \"Cyprus\", \"Poland\", \"Estonia\", \"Europe\", \"Greece\", \"Italy\", \"Croatia\", \"Malta\", \"Portugal\", \"Romania\", \"France\", \"Lithuania\", \"Finland\", \"Denmark\", \"Czech Rep.\", \"Sweden\", \"Bulgaria\", \"Belgium\", \"United Kingdom\", \"Deutschland\", \"Spain\", \"Netherlands\", \"Luxembourg\"], \"legendgroup\": \"Human Capital\", \"marker\": {\"color\": \"#41AB5D\"}, \"name\": \"Human Capital\", \"offsetgroup\": \"Human Capital\", \"orientation\": \"v\", \"showlegend\": true, \"textposition\": \"auto\", \"type\": \"bar\", \"x\": [\"Slovakia\", \"Latvia\", \"Austria\", \"Slovenia\", \"Hungary\", \"Ireland\", \"Cyprus\", \"Poland\", \"Estonia\", \"Europe\", \"Greece\", \"Italy\", \"Croatia\", \"Malta\", \"Portugal\", \"Romania\", \"France\", \"Lithuania\", \"Finland\", \"Denmark\", \"Czech Rep.\", \"Sweden\", \"Bulgaria\", \"Belgium\", \"United Kingdom\", \"Deutschland\", \"Spain\", \"Netherlands\", \"Luxembourg\"], \"xaxis\": \"x\", \"y\": [9.24162, 9.18325, 12.5472, 10.414000000000001, 9.60926, 11.8648, 8.388530000000001, 7.91995, 13.9732, 10.9983, 8.55204, 7.701289999999999, 10.2502, 13.34, 7.976789999999999, 6.86706, 11.0647, 8.73623, 18.0519, 15.1573, 11.2147, 15.3152, 7.29471, 11.5957, 14.088, 12.8161, 10.7992, 13.5831, 13.1423], \"yaxis\": \"y\"}, {\"alignmentgroup\": \"True\", \"customdata\": [[9.46597, \"Finland\", 2015, \"Use of Internet Services\"], [7.22226, \"Lithuania\", 2015, \"Use of Internet Services\"], [6.75529, \"Latvia\", 2015, \"Use of Internet Services\"], [6.39002, \"Czech Rep.\", 2015, \"Use of Internet Services\"], [7.15562, \"Malta\", 2015, \"Use of Internet Services\"], [9.7598, \"Sweden\", 2015, \"Use of Internet Services\"], [5.6226199999999995, \"Cyprus\", 2015, \"Use of Internet Services\"], [4.901, \"Greece\", 2015, \"Use of Internet Services\"], [7.298839999999999, \"Deutschland\", 2015, \"Use of Internet Services\"], [3.25604, \"Romania\", 2015, \"Use of Internet Services\"], [6.41774, \"Slovakia\", 2015, \"Use of Internet Services\"], [6.68507, \"France\", 2015, \"Use of Internet Services\"], [6.33007, \"Austria\", 2015, \"Use of Internet Services\"], [6.715039999999999, \"Spain\", 2015, \"Use of Internet Services\"], [8.93206, \"Netherlands\", 2015, \"Use of Internet Services\"], [9.79622, \"Denmark\", 2015, \"Use of Internet Services\"], [6.22316, \"Ireland\", 2015, \"Use of Internet Services\"], [6.75127, \"Europe\", 2015, \"Use of Internet Services\"], [4.8125599999999995, \"Italy\", 2015, \"Use of Internet Services\"], [6.90422, \"Hungary\", 2015, \"Use of Internet Services\"], [5.88007, \"Croatia\", 2015, \"Use of Internet Services\"], [6.5115099999999995, \"Slovenia\", 2015, \"Use of Internet Services\"], [8.73296, \"Luxembourg\", 2015, \"Use of Internet Services\"], [8.50934, \"Estonia\", 2015, \"Use of Internet Services\"], [5.23077, \"Portugal\", 2015, \"Use of Internet Services\"], [7.078410000000001, \"Belgium\", 2015, \"Use of Internet Services\"], [8.7379, \"United Kingdom\", 2015, \"Use of Internet Services\"], [4.42656, \"Bulgaria\", 2015, \"Use of Internet Services\"], [5.01313, \"Poland\", 2015, \"Use of Internet Services\"]], \"hovertemplate\": \"<b>%{hovertext}</b><br><br><extra></extra>\", \"hovertext\": [9.46597, 7.22226, 6.75529, 6.39002, 7.15562, 9.7598, 5.6226199999999995, 4.901, 7.298839999999999, 3.25604, 6.41774, 6.68507, 6.33007, 6.715039999999999, 8.93206, 9.79622, 6.22316, 6.75127, 4.8125599999999995, 6.90422, 5.88007, 6.5115099999999995, 8.73296, 8.50934, 5.23077, 7.078410000000001, 8.7379, 4.42656, 5.01313], \"ids\": [\"Finland\", \"Lithuania\", \"Latvia\", \"Czech Rep.\", \"Malta\", \"Sweden\", \"Cyprus\", \"Greece\", \"Deutschland\", \"Romania\", \"Slovakia\", \"France\", \"Austria\", \"Spain\", \"Netherlands\", \"Denmark\", \"Ireland\", \"Europe\", \"Italy\", \"Hungary\", \"Croatia\", \"Slovenia\", \"Luxembourg\", \"Estonia\", \"Portugal\", \"Belgium\", \"United Kingdom\", \"Bulgaria\", \"Poland\"], \"legendgroup\": \"Use of Internet Services\", \"marker\": {\"color\": \"#4292C6\"}, \"name\": \"Use of Internet Services\", \"offsetgroup\": \"Use of Internet Services\", \"orientation\": \"v\", \"showlegend\": true, \"textposition\": \"auto\", \"type\": \"bar\", \"x\": [\"Finland\", \"Lithuania\", \"Latvia\", \"Czech Rep.\", \"Malta\", \"Sweden\", \"Cyprus\", \"Greece\", \"Deutschland\", \"Romania\", \"Slovakia\", \"France\", \"Austria\", \"Spain\", \"Netherlands\", \"Denmark\", \"Ireland\", \"Europe\", \"Italy\", \"Hungary\", \"Croatia\", \"Slovenia\", \"Luxembourg\", \"Estonia\", \"Portugal\", \"Belgium\", \"United Kingdom\", \"Bulgaria\", \"Poland\"], \"xaxis\": \"x\", \"y\": [9.46597, 7.22226, 6.75529, 6.39002, 7.15562, 9.7598, 5.6226199999999995, 4.901, 7.298839999999999, 3.25604, 6.41774, 6.68507, 6.33007, 6.715039999999999, 8.93206, 9.79622, 6.22316, 6.75127, 4.8125599999999995, 6.90422, 5.88007, 6.5115099999999995, 8.73296, 8.50934, 5.23077, 7.078410000000001, 8.7379, 4.42656, 5.01313], \"yaxis\": \"y\"}, {\"alignmentgroup\": \"True\", \"customdata\": [[5.69643, \"Deutschland\", 2015, \"Integration of Digital Technology\"], [8.676919999999999, \"Netherlands\", 2015, \"Integration of Digital Technology\"], [5.85388, \"Spain\", 2015, \"Integration of Digital Technology\"], [9.009319999999999, \"Sweden\", 2015, \"Integration of Digital Technology\"], [5.589169999999999, \"Slovakia\", 2015, \"Integration of Digital Technology\"], [8.426969999999999, \"Finland\", 2015, \"Integration of Digital Technology\"], [5.60393, \"Austria\", 2015, \"Integration of Digital Technology\"], [3.05672, \"Bulgaria\", 2015, \"Integration of Digital Technology\"], [5.18109, \"France\", 2015, \"Integration of Digital Technology\"], [9.59295, \"Denmark\", 2015, \"Integration of Digital Technology\"], [9.25737, \"Ireland\", 2015, \"Integration of Digital Technology\"], [3.45362, \"Poland\", 2015, \"Integration of Digital Technology\"], [6.7355100000000006, \"Lithuania\", 2015, \"Integration of Digital Technology\"], [7.12971, \"Malta\", 2015, \"Integration of Digital Technology\"], [6.02412, \"Portugal\", 2015, \"Integration of Digital Technology\"], [8.56758, \"Belgium\", 2015, \"Integration of Digital Technology\"], [5.38068, \"Luxembourg\", 2015, \"Integration of Digital Technology\"], [7.0004100000000005, \"United Kingdom\", 2015, \"Integration of Digital Technology\"], [3.10604, \"Latvia\", 2015, \"Integration of Digital Technology\"], [7.4405600000000005, \"Czech Rep.\", 2015, \"Integration of Digital Technology\"], [4.9422, \"Estonia\", 2015, \"Integration of Digital Technology\"], [4.99911, \"Cyprus\", 2015, \"Integration of Digital Technology\"], [4.4357, \"Italy\", 2015, \"Integration of Digital Technology\"], [7.14795, \"Croatia\", 2015, \"Integration of Digital Technology\"], [5.3345, \"Slovenia\", 2015, \"Integration of Digital Technology\"], [3.59053, \"Hungary\", 2015, \"Integration of Digital Technology\"], [4.854769999999999, \"Greece\", 2015, \"Integration of Digital Technology\"], [5.8445800000000006, \"Europe\", 2015, \"Integration of Digital Technology\"], [3.3450900000000003, \"Romania\", 2015, \"Integration of Digital Technology\"]], \"hovertemplate\": \"<b>%{hovertext}</b><br><br><extra></extra>\", \"hovertext\": [5.69643, 8.676919999999999, 5.85388, 9.009319999999999, 5.589169999999999, 8.426969999999999, 5.60393, 3.05672, 5.18109, 9.59295, 9.25737, 3.45362, 6.7355100000000006, 7.12971, 6.02412, 8.56758, 5.38068, 7.0004100000000005, 3.10604, 7.4405600000000005, 4.9422, 4.99911, 4.4357, 7.14795, 5.3345, 3.59053, 4.854769999999999, 5.8445800000000006, 3.3450900000000003], \"ids\": [\"Deutschland\", \"Netherlands\", \"Spain\", \"Sweden\", \"Slovakia\", \"Finland\", \"Austria\", \"Bulgaria\", \"France\", \"Denmark\", \"Ireland\", \"Poland\", \"Lithuania\", \"Malta\", \"Portugal\", \"Belgium\", \"Luxembourg\", \"United Kingdom\", \"Latvia\", \"Czech Rep.\", \"Estonia\", \"Cyprus\", \"Italy\", \"Croatia\", \"Slovenia\", \"Hungary\", \"Greece\", \"Europe\", \"Romania\"], \"legendgroup\": \"Integration of Digital Technology\", \"marker\": {\"color\": \"#DD3497\"}, \"name\": \"Integration of Digital Technology\", \"offsetgroup\": \"Integration of Digital Technology\", \"orientation\": \"v\", \"showlegend\": true, \"textposition\": \"auto\", \"type\": \"bar\", \"x\": [\"Deutschland\", \"Netherlands\", \"Spain\", \"Sweden\", \"Slovakia\", \"Finland\", \"Austria\", \"Bulgaria\", \"France\", \"Denmark\", \"Ireland\", \"Poland\", \"Lithuania\", \"Malta\", \"Portugal\", \"Belgium\", \"Luxembourg\", \"United Kingdom\", \"Latvia\", \"Czech Rep.\", \"Estonia\", \"Cyprus\", \"Italy\", \"Croatia\", \"Slovenia\", \"Hungary\", \"Greece\", \"Europe\", \"Romania\"], \"xaxis\": \"x\", \"y\": [5.69643, 8.676919999999999, 5.85388, 9.009319999999999, 5.589169999999999, 8.426969999999999, 5.60393, 3.05672, 5.18109, 9.59295, 9.25737, 3.45362, 6.7355100000000006, 7.12971, 6.02412, 8.56758, 5.38068, 7.0004100000000005, 3.10604, 7.4405600000000005, 4.9422, 4.99911, 4.4357, 7.14795, 5.3345, 3.59053, 4.854769999999999, 5.8445800000000006, 3.3450900000000003], \"yaxis\": \"y\"}],\n",
       "                        {\"barmode\": \"relative\", \"height\": 600, \"hovermode\": \"x\", \"legend\": {\"orientation\": \"h\", \"title\": {\"text\": \"\"}, \"tracegroupgap\": 0, \"x\": 0.99, \"xanchor\": \"right\", \"y\": 0.9, \"yanchor\": \"bottom\"}, \"margin\": {\"b\": 200, \"l\": 20, \"r\": 10, \"t\": 50}, \"showlegend\": true, \"sliders\": [{\"active\": 0, \"currentvalue\": {\"prefix\": \"Year: \"}, \"len\": 0.9, \"pad\": {\"r\": 40, \"t\": 130}, \"steps\": [{\"args\": [[\"2015\"], {\"frame\": {\"duration\": 0, \"redraw\": true}, \"fromcurrent\": true, \"mode\": \"immediate\", \"transition\": {\"duration\": 0, \"easing\": \"linear\"}}], \"label\": \"2015\", \"method\": \"animate\"}, {\"args\": [[\"2016\"], {\"frame\": {\"duration\": 0, \"redraw\": true}, \"fromcurrent\": true, \"mode\": \"immediate\", \"redraw\": false, \"transition\": {\"duration\": 0, \"easing\": \"linear\"}}], \"label\": \"2016\", \"method\": \"animate\"}, {\"args\": [[\"2017\"], {\"frame\": {\"duration\": 0, \"redraw\": true}, \"fromcurrent\": true, \"mode\": \"immediate\", \"transition\": {\"duration\": 0, \"easing\": \"linear\"}}], \"label\": \"2017\", \"method\": \"animate\"}, {\"args\": [[\"2018\"], {\"frame\": {\"duration\": 0, \"redraw\": true}, \"fromcurrent\": true, \"mode\": \"immediate\", \"transition\": {\"duration\": 0, \"easing\": \"linear\"}}], \"label\": \"2018\", \"method\": \"animate\"}, {\"args\": [[\"2019\"], {\"frame\": {\"duration\": 0, \"redraw\": true}, \"fromcurrent\": true, \"mode\": \"immediate\", \"transition\": {\"duration\": 0, \"easing\": \"linear\"}}], \"label\": \"2019\", \"method\": \"animate\"}, {\"args\": [[\"2020\"], {\"frame\": {\"duration\": 0, \"redraw\": true}, \"fromcurrent\": true, \"mode\": \"immediate\", \"transition\": {\"duration\": 0, \"easing\": \"linear\"}}], \"label\": \"2020\", \"method\": \"animate\"}], \"x\": 0.1, \"xanchor\": \"left\", \"y\": 0, \"yanchor\": \"top\"}], \"template\": {\"data\": {\"bar\": [{\"error_x\": {\"color\": \"#2a3f5f\"}, \"error_y\": {\"color\": \"#2a3f5f\"}, \"marker\": {\"line\": {\"color\": \"#E5ECF6\", \"width\": 0.5}}, \"type\": \"bar\"}], \"barpolar\": [{\"marker\": {\"line\": {\"color\": \"#E5ECF6\", \"width\": 0.5}}, \"type\": \"barpolar\"}], \"carpet\": [{\"aaxis\": {\"endlinecolor\": \"#2a3f5f\", \"gridcolor\": \"white\", \"linecolor\": \"white\", \"minorgridcolor\": \"white\", \"startlinecolor\": \"#2a3f5f\"}, \"baxis\": {\"endlinecolor\": \"#2a3f5f\", \"gridcolor\": \"white\", \"linecolor\": \"white\", \"minorgridcolor\": \"white\", \"startlinecolor\": \"#2a3f5f\"}, \"type\": \"carpet\"}], \"choropleth\": [{\"colorbar\": {\"outlinewidth\": 0, \"ticks\": \"\"}, \"type\": \"choropleth\"}], \"contour\": [{\"colorbar\": {\"outlinewidth\": 0, \"ticks\": \"\"}, \"colorscale\": [[0.0, \"#0d0887\"], [0.1111111111111111, \"#46039f\"], [0.2222222222222222, \"#7201a8\"], [0.3333333333333333, \"#9c179e\"], [0.4444444444444444, \"#bd3786\"], [0.5555555555555556, \"#d8576b\"], [0.6666666666666666, \"#ed7953\"], [0.7777777777777778, \"#fb9f3a\"], [0.8888888888888888, \"#fdca26\"], [1.0, \"#f0f921\"]], \"type\": \"contour\"}], \"contourcarpet\": [{\"colorbar\": {\"outlinewidth\": 0, \"ticks\": \"\"}, \"type\": \"contourcarpet\"}], \"heatmap\": [{\"colorbar\": {\"outlinewidth\": 0, \"ticks\": \"\"}, \"colorscale\": [[0.0, \"#0d0887\"], [0.1111111111111111, \"#46039f\"], [0.2222222222222222, \"#7201a8\"], [0.3333333333333333, \"#9c179e\"], [0.4444444444444444, \"#bd3786\"], [0.5555555555555556, \"#d8576b\"], [0.6666666666666666, \"#ed7953\"], [0.7777777777777778, \"#fb9f3a\"], [0.8888888888888888, \"#fdca26\"], [1.0, \"#f0f921\"]], \"type\": \"heatmap\"}], \"heatmapgl\": [{\"colorbar\": {\"outlinewidth\": 0, \"ticks\": \"\"}, \"colorscale\": [[0.0, \"#0d0887\"], [0.1111111111111111, \"#46039f\"], [0.2222222222222222, \"#7201a8\"], [0.3333333333333333, \"#9c179e\"], [0.4444444444444444, \"#bd3786\"], [0.5555555555555556, \"#d8576b\"], [0.6666666666666666, \"#ed7953\"], [0.7777777777777778, \"#fb9f3a\"], [0.8888888888888888, \"#fdca26\"], [1.0, \"#f0f921\"]], \"type\": \"heatmapgl\"}], \"histogram\": [{\"marker\": {\"colorbar\": {\"outlinewidth\": 0, \"ticks\": \"\"}}, \"type\": \"histogram\"}], \"histogram2d\": [{\"colorbar\": {\"outlinewidth\": 0, \"ticks\": \"\"}, \"colorscale\": [[0.0, \"#0d0887\"], [0.1111111111111111, \"#46039f\"], [0.2222222222222222, \"#7201a8\"], [0.3333333333333333, \"#9c179e\"], [0.4444444444444444, \"#bd3786\"], [0.5555555555555556, \"#d8576b\"], [0.6666666666666666, \"#ed7953\"], [0.7777777777777778, \"#fb9f3a\"], [0.8888888888888888, \"#fdca26\"], [1.0, \"#f0f921\"]], \"type\": \"histogram2d\"}], \"histogram2dcontour\": [{\"colorbar\": {\"outlinewidth\": 0, \"ticks\": \"\"}, \"colorscale\": [[0.0, \"#0d0887\"], [0.1111111111111111, \"#46039f\"], [0.2222222222222222, \"#7201a8\"], [0.3333333333333333, \"#9c179e\"], [0.4444444444444444, \"#bd3786\"], [0.5555555555555556, \"#d8576b\"], [0.6666666666666666, \"#ed7953\"], [0.7777777777777778, \"#fb9f3a\"], [0.8888888888888888, \"#fdca26\"], [1.0, \"#f0f921\"]], \"type\": \"histogram2dcontour\"}], \"mesh3d\": [{\"colorbar\": {\"outlinewidth\": 0, \"ticks\": \"\"}, \"type\": \"mesh3d\"}], \"parcoords\": [{\"line\": {\"colorbar\": {\"outlinewidth\": 0, \"ticks\": \"\"}}, \"type\": \"parcoords\"}], \"pie\": [{\"automargin\": true, \"type\": \"pie\"}], \"scatter\": [{\"marker\": {\"colorbar\": {\"outlinewidth\": 0, \"ticks\": \"\"}}, \"type\": \"scatter\"}], \"scatter3d\": [{\"line\": {\"colorbar\": {\"outlinewidth\": 0, \"ticks\": \"\"}}, \"marker\": {\"colorbar\": {\"outlinewidth\": 0, \"ticks\": \"\"}}, \"type\": \"scatter3d\"}], \"scattercarpet\": [{\"marker\": {\"colorbar\": {\"outlinewidth\": 0, \"ticks\": \"\"}}, \"type\": \"scattercarpet\"}], \"scattergeo\": [{\"marker\": {\"colorbar\": {\"outlinewidth\": 0, \"ticks\": \"\"}}, \"type\": \"scattergeo\"}], \"scattergl\": [{\"marker\": {\"colorbar\": {\"outlinewidth\": 0, \"ticks\": \"\"}}, \"type\": \"scattergl\"}], \"scattermapbox\": [{\"marker\": {\"colorbar\": {\"outlinewidth\": 0, \"ticks\": \"\"}}, \"type\": \"scattermapbox\"}], \"scatterpolar\": [{\"marker\": {\"colorbar\": {\"outlinewidth\": 0, \"ticks\": \"\"}}, \"type\": \"scatterpolar\"}], \"scatterpolargl\": [{\"marker\": {\"colorbar\": {\"outlinewidth\": 0, \"ticks\": \"\"}}, \"type\": \"scatterpolargl\"}], \"scatterternary\": [{\"marker\": {\"colorbar\": {\"outlinewidth\": 0, \"ticks\": \"\"}}, \"type\": \"scatterternary\"}], \"surface\": [{\"colorbar\": {\"outlinewidth\": 0, \"ticks\": \"\"}, \"colorscale\": [[0.0, \"#0d0887\"], [0.1111111111111111, \"#46039f\"], [0.2222222222222222, \"#7201a8\"], [0.3333333333333333, \"#9c179e\"], [0.4444444444444444, \"#bd3786\"], [0.5555555555555556, \"#d8576b\"], [0.6666666666666666, \"#ed7953\"], [0.7777777777777778, \"#fb9f3a\"], [0.8888888888888888, \"#fdca26\"], [1.0, \"#f0f921\"]], \"type\": \"surface\"}], \"table\": [{\"cells\": {\"fill\": {\"color\": \"#EBF0F8\"}, \"line\": {\"color\": \"white\"}}, \"header\": {\"fill\": {\"color\": \"#C8D4E3\"}, \"line\": {\"color\": \"white\"}}, \"type\": \"table\"}]}, \"layout\": {\"annotationdefaults\": {\"arrowcolor\": \"#2a3f5f\", \"arrowhead\": 0, \"arrowwidth\": 1}, \"coloraxis\": {\"colorbar\": {\"outlinewidth\": 0, \"ticks\": \"\"}}, \"colorscale\": {\"diverging\": [[0, \"#8e0152\"], [0.1, \"#c51b7d\"], [0.2, \"#de77ae\"], [0.3, \"#f1b6da\"], [0.4, \"#fde0ef\"], [0.5, \"#f7f7f7\"], [0.6, \"#e6f5d0\"], [0.7, \"#b8e186\"], [0.8, \"#7fbc41\"], [0.9, \"#4d9221\"], [1, \"#276419\"]], \"sequential\": [[0.0, \"#0d0887\"], [0.1111111111111111, \"#46039f\"], [0.2222222222222222, \"#7201a8\"], [0.3333333333333333, \"#9c179e\"], [0.4444444444444444, \"#bd3786\"], [0.5555555555555556, \"#d8576b\"], [0.6666666666666666, \"#ed7953\"], [0.7777777777777778, \"#fb9f3a\"], [0.8888888888888888, \"#fdca26\"], [1.0, \"#f0f921\"]], \"sequentialminus\": [[0.0, \"#0d0887\"], [0.1111111111111111, \"#46039f\"], [0.2222222222222222, \"#7201a8\"], [0.3333333333333333, \"#9c179e\"], [0.4444444444444444, \"#bd3786\"], [0.5555555555555556, \"#d8576b\"], [0.6666666666666666, \"#ed7953\"], [0.7777777777777778, \"#fb9f3a\"], [0.8888888888888888, \"#fdca26\"], [1.0, \"#f0f921\"]]}, \"colorway\": [\"#636efa\", \"#EF553B\", \"#00cc96\", \"#ab63fa\", \"#FFA15A\", \"#19d3f3\", \"#FF6692\", \"#B6E880\", \"#FF97FF\", \"#FECB52\"], \"font\": {\"color\": \"#2a3f5f\"}, \"geo\": {\"bgcolor\": \"white\", \"lakecolor\": \"white\", \"landcolor\": \"#E5ECF6\", \"showlakes\": true, \"showland\": true, \"subunitcolor\": \"white\"}, \"hoverlabel\": {\"align\": \"left\"}, \"hovermode\": \"closest\", \"mapbox\": {\"style\": \"light\"}, \"paper_bgcolor\": \"white\", \"plot_bgcolor\": \"#E5ECF6\", \"polar\": {\"angularaxis\": {\"gridcolor\": \"white\", \"linecolor\": \"white\", \"ticks\": \"\"}, \"bgcolor\": \"#E5ECF6\", \"radialaxis\": {\"gridcolor\": \"white\", \"linecolor\": \"white\", \"ticks\": \"\"}}, \"scene\": {\"xaxis\": {\"backgroundcolor\": \"#E5ECF6\", \"gridcolor\": \"white\", \"gridwidth\": 2, \"linecolor\": \"white\", \"showbackground\": true, \"ticks\": \"\", \"zerolinecolor\": \"white\"}, \"yaxis\": {\"backgroundcolor\": \"#E5ECF6\", \"gridcolor\": \"white\", \"gridwidth\": 2, \"linecolor\": \"white\", \"showbackground\": true, \"ticks\": \"\", \"zerolinecolor\": \"white\"}, \"zaxis\": {\"backgroundcolor\": \"#E5ECF6\", \"gridcolor\": \"white\", \"gridwidth\": 2, \"linecolor\": \"white\", \"showbackground\": true, \"ticks\": \"\", \"zerolinecolor\": \"white\"}}, \"shapedefaults\": {\"line\": {\"color\": \"#2a3f5f\"}}, \"ternary\": {\"aaxis\": {\"gridcolor\": \"white\", \"linecolor\": \"white\", \"ticks\": \"\"}, \"baxis\": {\"gridcolor\": \"white\", \"linecolor\": \"white\", \"ticks\": \"\"}, \"bgcolor\": \"#E5ECF6\", \"caxis\": {\"gridcolor\": \"white\", \"linecolor\": \"white\", \"ticks\": \"\"}}, \"title\": {\"x\": 0.05}, \"xaxis\": {\"automargin\": true, \"gridcolor\": \"white\", \"linecolor\": \"white\", \"ticks\": \"\", \"title\": {\"standoff\": 15}, \"zerolinecolor\": \"white\", \"zerolinewidth\": 2}, \"yaxis\": {\"automargin\": true, \"gridcolor\": \"white\", \"linecolor\": \"white\", \"ticks\": \"\", \"title\": {\"standoff\": 15}, \"zerolinecolor\": \"white\", \"zerolinewidth\": 2}}}, \"title\": {\"text\": \"Select a year and compare the countries\"}, \"updatemenus\": [{\"buttons\": [{\"args\": [null, {\"frame\": {\"duration\": 2000, \"frame\": 200, \"redraw\": true}, \"fromcurrent\": true, \"mode\": \"immediate\", \"transition\": {\"duration\": 500, \"easing\": \"linear\"}}], \"label\": \"&#9654;\", \"method\": \"animate\"}, {\"args\": [[null], {\"frame\": {\"duration\": 0, \"redraw\": true}, \"fromcurrent\": true, \"mode\": \"immediate\", \"transition\": {\"duration\": 0, \"easing\": \"linear\"}}], \"label\": \"&#9724;\", \"method\": \"animate\"}], \"direction\": \"left\", \"pad\": {\"r\": 30, \"t\": 150}, \"showactive\": false, \"type\": \"buttons\", \"x\": 0.1, \"xanchor\": \"right\", \"y\": 0, \"yanchor\": \"top\"}], \"width\": 1200, \"xaxis\": {\"anchor\": \"y\", \"categoryorder\": \"total descending\", \"domain\": [0.0, 1.0], \"showgrid\": false, \"tickangle\": 60, \"title\": {\"text\": \"Country\"}}, \"yaxis\": {\"anchor\": \"x\", \"domain\": [0.0, 1.0], \"range\": [0, 80], \"title\": {\"text\": \"Value\"}}},\n",
       "                        {\"responsive\": true}\n",
       "                    ).then(function(){\n",
       "                            Plotly.addFrames('a8c2b674-780a-45e4-a2df-9cd2acffe970', [{\"data\": [{\"alignmentgroup\": \"True\", \"customdata\": [[7.0647, \"Austria\", 2015, \"Connectivity\"], [10.0916, \"Netherlands\", 2015, \"Connectivity\"], [7.78229, \"Europe\", 2015, \"Connectivity\"], [8.38408, \"Spain\", 2015, \"Connectivity\"], [6.959810000000001, \"Poland\", 2015, \"Connectivity\"], [8.92415, \"Deutschland\", 2015, \"Connectivity\"], [6.52572, \"Bulgaria\", 2015, \"Connectivity\"], [9.91113, \"Finland\", 2015, \"Connectivity\"], [8.096, \"Czech Rep.\", 2015, \"Connectivity\"], [7.65813, \"France\", 2015, \"Connectivity\"], [11.3794, \"Latvia\", 2015, \"Connectivity\"], [8.58184, \"Lithuania\", 2015, \"Connectivity\"], [11.2773, \"Denmark\", 2015, \"Connectivity\"], [7.350219999999999, \"Hungary\", 2015, \"Connectivity\"], [6.5734699999999995, \"Ireland\", 2015, \"Connectivity\"], [11.1992, \"Sweden\", 2015, \"Connectivity\"], [5.89582, \"Italy\", 2015, \"Connectivity\"], [9.07057, \"Slovenia\", 2015, \"Connectivity\"], [5.65107, \"Croatia\", 2015, \"Connectivity\"], [8.18213, \"Malta\", 2015, \"Connectivity\"], [4.3609800000000005, \"Cyprus\", 2015, \"Connectivity\"], [7.71197, \"Portugal\", 2015, \"Connectivity\"], [4.73184, \"Greece\", 2015, \"Connectivity\"], [8.55669, \"United Kingdom\", 2015, \"Connectivity\"], [11.2743, \"Luxembourg\", 2015, \"Connectivity\"], [8.73385, \"Romania\", 2015, \"Connectivity\"], [9.67203, \"Estonia\", 2015, \"Connectivity\"], [7.86075, \"Belgium\", 2015, \"Connectivity\"], [7.22112, \"Slovakia\", 2015, \"Connectivity\"]], \"hovertemplate\": \"<b>%{hovertext}</b><br><br><extra></extra>\", \"hovertext\": [7.0647, 10.0916, 7.78229, 8.38408, 6.959810000000001, 8.92415, 6.52572, 9.91113, 8.096, 7.65813, 11.3794, 8.58184, 11.2773, 7.350219999999999, 6.5734699999999995, 11.1992, 5.89582, 9.07057, 5.65107, 8.18213, 4.3609800000000005, 7.71197, 4.73184, 8.55669, 11.2743, 8.73385, 9.67203, 7.86075, 7.22112], \"ids\": [\"Austria\", \"Netherlands\", \"Europe\", \"Spain\", \"Poland\", \"Deutschland\", \"Bulgaria\", \"Finland\", \"Czech Rep.\", \"France\", \"Latvia\", \"Lithuania\", \"Denmark\", \"Hungary\", \"Ireland\", \"Sweden\", \"Italy\", \"Slovenia\", \"Croatia\", \"Malta\", \"Cyprus\", \"Portugal\", \"Greece\", \"United Kingdom\", \"Luxembourg\", \"Romania\", \"Estonia\", \"Belgium\", \"Slovakia\"], \"legendgroup\": \"Connectivity\", \"marker\": {\"color\": \"#F16913\"}, \"name\": \"Connectivity\", \"offsetgroup\": \"Connectivity\", \"orientation\": \"v\", \"showlegend\": true, \"textposition\": \"auto\", \"x\": [\"Austria\", \"Netherlands\", \"Europe\", \"Spain\", \"Poland\", \"Deutschland\", \"Bulgaria\", \"Finland\", \"Czech Rep.\", \"France\", \"Latvia\", \"Lithuania\", \"Denmark\", \"Hungary\", \"Ireland\", \"Sweden\", \"Italy\", \"Slovenia\", \"Croatia\", \"Malta\", \"Cyprus\", \"Portugal\", \"Greece\", \"United Kingdom\", \"Luxembourg\", \"Romania\", \"Estonia\", \"Belgium\", \"Slovakia\"], \"xaxis\": \"x\", \"y\": [7.0647, 10.0916, 7.78229, 8.38408, 6.959810000000001, 8.92415, 6.52572, 9.91113, 8.096, 7.65813, 11.3794, 8.58184, 11.2773, 7.350219999999999, 6.5734699999999995, 11.1992, 5.89582, 9.07057, 5.65107, 8.18213, 4.3609800000000005, 7.71197, 4.73184, 8.55669, 11.2743, 8.73385, 9.67203, 7.86075, 7.22112], \"yaxis\": \"y\", \"type\": \"bar\"}, {\"alignmentgroup\": \"True\", \"customdata\": [[9.09689, \"Lithuania\", 2015, \"Digital Public Services\"], [7.53211, \"Europe\", 2015, \"Digital Public Services\"], [10.8173, \"Finland\", 2015, \"Digital Public Services\"], [11.1576, \"Denmark\", 2015, \"Digital Public Services\"], [9.9463, \"Netherlands\", 2015, \"Digital Public Services\"], [10.1328, \"Portugal\", 2015, \"Digital Public Services\"], [4.66594, \"Romania\", 2015, \"Digital Public Services\"], [9.84623, \"Sweden\", 2015, \"Digital Public Services\"], [9.15099, \"Ireland\", 2015, \"Digital Public Services\"], [9.608460000000001, \"Spain\", 2015, \"Digital Public Services\"], [7.959739999999999, \"Poland\", 2015, \"Digital Public Services\"], [4.95589, \"Czech Rep.\", 2015, \"Digital Public Services\"], [6.90362, \"Slovenia\", 2015, \"Digital Public Services\"], [6.34576, \"Deutschland\", 2015, \"Digital Public Services\"], [8.98968, \"Austria\", 2015, \"Digital Public Services\"], [11.5939, \"Estonia\", 2015, \"Digital Public Services\"], [6.869689999999999, \"France\", 2015, \"Digital Public Services\"], [4.590330000000001, \"Slovakia\", 2015, \"Digital Public Services\"], [6.23641, \"Luxembourg\", 2015, \"Digital Public Services\"], [7.32045, \"United Kingdom\", 2015, \"Digital Public Services\"], [10.6802, \"Malta\", 2015, \"Digital Public Services\"], [7.277419999999999, \"Cyprus\", 2015, \"Digital Public Services\"], [7.71922, \"Belgium\", 2015, \"Digital Public Services\"], [4.07108, \"Croatia\", 2015, \"Digital Public Services\"], [3.09321, \"Greece\", 2015, \"Digital Public Services\"], [6.90543, \"Italy\", 2015, \"Digital Public Services\"], [8.19661, \"Latvia\", 2015, \"Digital Public Services\"], [4.23128, \"Hungary\", 2015, \"Digital Public Services\"], [5.50959, \"Bulgaria\", 2015, \"Digital Public Services\"]], \"hovertemplate\": \"<b>%{hovertext}</b><br><br><extra></extra>\", \"hovertext\": [9.09689, 7.53211, 10.8173, 11.1576, 9.9463, 10.1328, 4.66594, 9.84623, 9.15099, 9.608460000000001, 7.959739999999999, 4.95589, 6.90362, 6.34576, 8.98968, 11.5939, 6.869689999999999, 4.590330000000001, 6.23641, 7.32045, 10.6802, 7.277419999999999, 7.71922, 4.07108, 3.09321, 6.90543, 8.19661, 4.23128, 5.50959], \"ids\": [\"Lithuania\", \"Europe\", \"Finland\", \"Denmark\", \"Netherlands\", \"Portugal\", \"Romania\", \"Sweden\", \"Ireland\", \"Spain\", \"Poland\", \"Czech Rep.\", \"Slovenia\", \"Deutschland\", \"Austria\", \"Estonia\", \"France\", \"Slovakia\", \"Luxembourg\", \"United Kingdom\", \"Malta\", \"Cyprus\", \"Belgium\", \"Croatia\", \"Greece\", \"Italy\", \"Latvia\", \"Hungary\", \"Bulgaria\"], \"legendgroup\": \"Digital Public Services\", \"marker\": {\"color\": \"#EF3B2C\"}, \"name\": \"Digital Public Services\", \"offsetgroup\": \"Digital Public Services\", \"orientation\": \"v\", \"showlegend\": true, \"textposition\": \"auto\", \"x\": [\"Lithuania\", \"Europe\", \"Finland\", \"Denmark\", \"Netherlands\", \"Portugal\", \"Romania\", \"Sweden\", \"Ireland\", \"Spain\", \"Poland\", \"Czech Rep.\", \"Slovenia\", \"Deutschland\", \"Austria\", \"Estonia\", \"France\", \"Slovakia\", \"Luxembourg\", \"United Kingdom\", \"Malta\", \"Cyprus\", \"Belgium\", \"Croatia\", \"Greece\", \"Italy\", \"Latvia\", \"Hungary\", \"Bulgaria\"], \"xaxis\": \"x\", \"y\": [9.09689, 7.53211, 10.8173, 11.1576, 9.9463, 10.1328, 4.66594, 9.84623, 9.15099, 9.608460000000001, 7.959739999999999, 4.95589, 6.90362, 6.34576, 8.98968, 11.5939, 6.869689999999999, 4.590330000000001, 6.23641, 7.32045, 10.6802, 7.277419999999999, 7.71922, 4.07108, 3.09321, 6.90543, 8.19661, 4.23128, 5.50959], \"yaxis\": \"y\", \"type\": \"bar\"}, {\"alignmentgroup\": \"True\", \"customdata\": [[9.24162, \"Slovakia\", 2015, \"Human Capital\"], [9.18325, \"Latvia\", 2015, \"Human Capital\"], [12.5472, \"Austria\", 2015, \"Human Capital\"], [10.414000000000001, \"Slovenia\", 2015, \"Human Capital\"], [9.60926, \"Hungary\", 2015, \"Human Capital\"], [11.8648, \"Ireland\", 2015, \"Human Capital\"], [8.388530000000001, \"Cyprus\", 2015, \"Human Capital\"], [7.91995, \"Poland\", 2015, \"Human Capital\"], [13.9732, \"Estonia\", 2015, \"Human Capital\"], [10.9983, \"Europe\", 2015, \"Human Capital\"], [8.55204, \"Greece\", 2015, \"Human Capital\"], [7.701289999999999, \"Italy\", 2015, \"Human Capital\"], [10.2502, \"Croatia\", 2015, \"Human Capital\"], [13.34, \"Malta\", 2015, \"Human Capital\"], [7.976789999999999, \"Portugal\", 2015, \"Human Capital\"], [6.86706, \"Romania\", 2015, \"Human Capital\"], [11.0647, \"France\", 2015, \"Human Capital\"], [8.73623, \"Lithuania\", 2015, \"Human Capital\"], [18.0519, \"Finland\", 2015, \"Human Capital\"], [15.1573, \"Denmark\", 2015, \"Human Capital\"], [11.2147, \"Czech Rep.\", 2015, \"Human Capital\"], [15.3152, \"Sweden\", 2015, \"Human Capital\"], [7.29471, \"Bulgaria\", 2015, \"Human Capital\"], [11.5957, \"Belgium\", 2015, \"Human Capital\"], [14.088, \"United Kingdom\", 2015, \"Human Capital\"], [12.8161, \"Deutschland\", 2015, \"Human Capital\"], [10.7992, \"Spain\", 2015, \"Human Capital\"], [13.5831, \"Netherlands\", 2015, \"Human Capital\"], [13.1423, \"Luxembourg\", 2015, \"Human Capital\"]], \"hovertemplate\": \"<b>%{hovertext}</b><br><br><extra></extra>\", \"hovertext\": [9.24162, 9.18325, 12.5472, 10.414000000000001, 9.60926, 11.8648, 8.388530000000001, 7.91995, 13.9732, 10.9983, 8.55204, 7.701289999999999, 10.2502, 13.34, 7.976789999999999, 6.86706, 11.0647, 8.73623, 18.0519, 15.1573, 11.2147, 15.3152, 7.29471, 11.5957, 14.088, 12.8161, 10.7992, 13.5831, 13.1423], \"ids\": [\"Slovakia\", \"Latvia\", \"Austria\", \"Slovenia\", \"Hungary\", \"Ireland\", \"Cyprus\", \"Poland\", \"Estonia\", \"Europe\", \"Greece\", \"Italy\", \"Croatia\", \"Malta\", \"Portugal\", \"Romania\", \"France\", \"Lithuania\", \"Finland\", \"Denmark\", \"Czech Rep.\", \"Sweden\", \"Bulgaria\", \"Belgium\", \"United Kingdom\", \"Deutschland\", \"Spain\", \"Netherlands\", \"Luxembourg\"], \"legendgroup\": \"Human Capital\", \"marker\": {\"color\": \"#41AB5D\"}, \"name\": \"Human Capital\", \"offsetgroup\": \"Human Capital\", \"orientation\": \"v\", \"showlegend\": true, \"textposition\": \"auto\", \"x\": [\"Slovakia\", \"Latvia\", \"Austria\", \"Slovenia\", \"Hungary\", \"Ireland\", \"Cyprus\", \"Poland\", \"Estonia\", \"Europe\", \"Greece\", \"Italy\", \"Croatia\", \"Malta\", \"Portugal\", \"Romania\", \"France\", \"Lithuania\", \"Finland\", \"Denmark\", \"Czech Rep.\", \"Sweden\", \"Bulgaria\", \"Belgium\", \"United Kingdom\", \"Deutschland\", \"Spain\", \"Netherlands\", \"Luxembourg\"], \"xaxis\": \"x\", \"y\": [9.24162, 9.18325, 12.5472, 10.414000000000001, 9.60926, 11.8648, 8.388530000000001, 7.91995, 13.9732, 10.9983, 8.55204, 7.701289999999999, 10.2502, 13.34, 7.976789999999999, 6.86706, 11.0647, 8.73623, 18.0519, 15.1573, 11.2147, 15.3152, 7.29471, 11.5957, 14.088, 12.8161, 10.7992, 13.5831, 13.1423], \"yaxis\": \"y\", \"type\": \"bar\"}, {\"alignmentgroup\": \"True\", \"customdata\": [[9.46597, \"Finland\", 2015, \"Use of Internet Services\"], [7.22226, \"Lithuania\", 2015, \"Use of Internet Services\"], [6.75529, \"Latvia\", 2015, \"Use of Internet Services\"], [6.39002, \"Czech Rep.\", 2015, \"Use of Internet Services\"], [7.15562, \"Malta\", 2015, \"Use of Internet Services\"], [9.7598, \"Sweden\", 2015, \"Use of Internet Services\"], [5.6226199999999995, \"Cyprus\", 2015, \"Use of Internet Services\"], [4.901, \"Greece\", 2015, \"Use of Internet Services\"], [7.298839999999999, \"Deutschland\", 2015, \"Use of Internet Services\"], [3.25604, \"Romania\", 2015, \"Use of Internet Services\"], [6.41774, \"Slovakia\", 2015, \"Use of Internet Services\"], [6.68507, \"France\", 2015, \"Use of Internet Services\"], [6.33007, \"Austria\", 2015, \"Use of Internet Services\"], [6.715039999999999, \"Spain\", 2015, \"Use of Internet Services\"], [8.93206, \"Netherlands\", 2015, \"Use of Internet Services\"], [9.79622, \"Denmark\", 2015, \"Use of Internet Services\"], [6.22316, \"Ireland\", 2015, \"Use of Internet Services\"], [6.75127, \"Europe\", 2015, \"Use of Internet Services\"], [4.8125599999999995, \"Italy\", 2015, \"Use of Internet Services\"], [6.90422, \"Hungary\", 2015, \"Use of Internet Services\"], [5.88007, \"Croatia\", 2015, \"Use of Internet Services\"], [6.5115099999999995, \"Slovenia\", 2015, \"Use of Internet Services\"], [8.73296, \"Luxembourg\", 2015, \"Use of Internet Services\"], [8.50934, \"Estonia\", 2015, \"Use of Internet Services\"], [5.23077, \"Portugal\", 2015, \"Use of Internet Services\"], [7.078410000000001, \"Belgium\", 2015, \"Use of Internet Services\"], [8.7379, \"United Kingdom\", 2015, \"Use of Internet Services\"], [4.42656, \"Bulgaria\", 2015, \"Use of Internet Services\"], [5.01313, \"Poland\", 2015, \"Use of Internet Services\"]], \"hovertemplate\": \"<b>%{hovertext}</b><br><br><extra></extra>\", \"hovertext\": [9.46597, 7.22226, 6.75529, 6.39002, 7.15562, 9.7598, 5.6226199999999995, 4.901, 7.298839999999999, 3.25604, 6.41774, 6.68507, 6.33007, 6.715039999999999, 8.93206, 9.79622, 6.22316, 6.75127, 4.8125599999999995, 6.90422, 5.88007, 6.5115099999999995, 8.73296, 8.50934, 5.23077, 7.078410000000001, 8.7379, 4.42656, 5.01313], \"ids\": [\"Finland\", \"Lithuania\", \"Latvia\", \"Czech Rep.\", \"Malta\", \"Sweden\", \"Cyprus\", \"Greece\", \"Deutschland\", \"Romania\", \"Slovakia\", \"France\", \"Austria\", \"Spain\", \"Netherlands\", \"Denmark\", \"Ireland\", \"Europe\", \"Italy\", \"Hungary\", \"Croatia\", \"Slovenia\", \"Luxembourg\", \"Estonia\", \"Portugal\", \"Belgium\", \"United Kingdom\", \"Bulgaria\", \"Poland\"], \"legendgroup\": \"Use of Internet Services\", \"marker\": {\"color\": \"#4292C6\"}, \"name\": \"Use of Internet Services\", \"offsetgroup\": \"Use of Internet Services\", \"orientation\": \"v\", \"showlegend\": true, \"textposition\": \"auto\", \"x\": [\"Finland\", \"Lithuania\", \"Latvia\", \"Czech Rep.\", \"Malta\", \"Sweden\", \"Cyprus\", \"Greece\", \"Deutschland\", \"Romania\", \"Slovakia\", \"France\", \"Austria\", \"Spain\", \"Netherlands\", \"Denmark\", \"Ireland\", \"Europe\", \"Italy\", \"Hungary\", \"Croatia\", \"Slovenia\", \"Luxembourg\", \"Estonia\", \"Portugal\", \"Belgium\", \"United Kingdom\", \"Bulgaria\", \"Poland\"], \"xaxis\": \"x\", \"y\": [9.46597, 7.22226, 6.75529, 6.39002, 7.15562, 9.7598, 5.6226199999999995, 4.901, 7.298839999999999, 3.25604, 6.41774, 6.68507, 6.33007, 6.715039999999999, 8.93206, 9.79622, 6.22316, 6.75127, 4.8125599999999995, 6.90422, 5.88007, 6.5115099999999995, 8.73296, 8.50934, 5.23077, 7.078410000000001, 8.7379, 4.42656, 5.01313], \"yaxis\": \"y\", \"type\": \"bar\"}, {\"alignmentgroup\": \"True\", \"customdata\": [[5.69643, \"Deutschland\", 2015, \"Integration of Digital Technology\"], [8.676919999999999, \"Netherlands\", 2015, \"Integration of Digital Technology\"], [5.85388, \"Spain\", 2015, \"Integration of Digital Technology\"], [9.009319999999999, \"Sweden\", 2015, \"Integration of Digital Technology\"], [5.589169999999999, \"Slovakia\", 2015, \"Integration of Digital Technology\"], [8.426969999999999, \"Finland\", 2015, \"Integration of Digital Technology\"], [5.60393, \"Austria\", 2015, \"Integration of Digital Technology\"], [3.05672, \"Bulgaria\", 2015, \"Integration of Digital Technology\"], [5.18109, \"France\", 2015, \"Integration of Digital Technology\"], [9.59295, \"Denmark\", 2015, \"Integration of Digital Technology\"], [9.25737, \"Ireland\", 2015, \"Integration of Digital Technology\"], [3.45362, \"Poland\", 2015, \"Integration of Digital Technology\"], [6.7355100000000006, \"Lithuania\", 2015, \"Integration of Digital Technology\"], [7.12971, \"Malta\", 2015, \"Integration of Digital Technology\"], [6.02412, \"Portugal\", 2015, \"Integration of Digital Technology\"], [8.56758, \"Belgium\", 2015, \"Integration of Digital Technology\"], [5.38068, \"Luxembourg\", 2015, \"Integration of Digital Technology\"], [7.0004100000000005, \"United Kingdom\", 2015, \"Integration of Digital Technology\"], [3.10604, \"Latvia\", 2015, \"Integration of Digital Technology\"], [7.4405600000000005, \"Czech Rep.\", 2015, \"Integration of Digital Technology\"], [4.9422, \"Estonia\", 2015, \"Integration of Digital Technology\"], [4.99911, \"Cyprus\", 2015, \"Integration of Digital Technology\"], [4.4357, \"Italy\", 2015, \"Integration of Digital Technology\"], [7.14795, \"Croatia\", 2015, \"Integration of Digital Technology\"], [5.3345, \"Slovenia\", 2015, \"Integration of Digital Technology\"], [3.59053, \"Hungary\", 2015, \"Integration of Digital Technology\"], [4.854769999999999, \"Greece\", 2015, \"Integration of Digital Technology\"], [5.8445800000000006, \"Europe\", 2015, \"Integration of Digital Technology\"], [3.3450900000000003, \"Romania\", 2015, \"Integration of Digital Technology\"]], \"hovertemplate\": \"<b>%{hovertext}</b><br><br><extra></extra>\", \"hovertext\": [5.69643, 8.676919999999999, 5.85388, 9.009319999999999, 5.589169999999999, 8.426969999999999, 5.60393, 3.05672, 5.18109, 9.59295, 9.25737, 3.45362, 6.7355100000000006, 7.12971, 6.02412, 8.56758, 5.38068, 7.0004100000000005, 3.10604, 7.4405600000000005, 4.9422, 4.99911, 4.4357, 7.14795, 5.3345, 3.59053, 4.854769999999999, 5.8445800000000006, 3.3450900000000003], \"ids\": [\"Deutschland\", \"Netherlands\", \"Spain\", \"Sweden\", \"Slovakia\", \"Finland\", \"Austria\", \"Bulgaria\", \"France\", \"Denmark\", \"Ireland\", \"Poland\", \"Lithuania\", \"Malta\", \"Portugal\", \"Belgium\", \"Luxembourg\", \"United Kingdom\", \"Latvia\", \"Czech Rep.\", \"Estonia\", \"Cyprus\", \"Italy\", \"Croatia\", \"Slovenia\", \"Hungary\", \"Greece\", \"Europe\", \"Romania\"], \"legendgroup\": \"Integration of Digital Technology\", \"marker\": {\"color\": \"#DD3497\"}, \"name\": \"Integration of Digital Technology\", \"offsetgroup\": \"Integration of Digital Technology\", \"orientation\": \"v\", \"showlegend\": true, \"textposition\": \"auto\", \"x\": [\"Deutschland\", \"Netherlands\", \"Spain\", \"Sweden\", \"Slovakia\", \"Finland\", \"Austria\", \"Bulgaria\", \"France\", \"Denmark\", \"Ireland\", \"Poland\", \"Lithuania\", \"Malta\", \"Portugal\", \"Belgium\", \"Luxembourg\", \"United Kingdom\", \"Latvia\", \"Czech Rep.\", \"Estonia\", \"Cyprus\", \"Italy\", \"Croatia\", \"Slovenia\", \"Hungary\", \"Greece\", \"Europe\", \"Romania\"], \"xaxis\": \"x\", \"y\": [5.69643, 8.676919999999999, 5.85388, 9.009319999999999, 5.589169999999999, 8.426969999999999, 5.60393, 3.05672, 5.18109, 9.59295, 9.25737, 3.45362, 6.7355100000000006, 7.12971, 6.02412, 8.56758, 5.38068, 7.0004100000000005, 3.10604, 7.4405600000000005, 4.9422, 4.99911, 4.4357, 7.14795, 5.3345, 3.59053, 4.854769999999999, 5.8445800000000006, 3.3450900000000003], \"yaxis\": \"y\", \"type\": \"bar\"}], \"name\": \"2015\"}, {\"data\": [{\"alignmentgroup\": \"True\", \"customdata\": [[8.04293, \"France\", 2016, \"Connectivity\"], [9.3908, \"Spain\", 2016, \"Connectivity\"], [7.65665, \"Poland\", 2016, \"Connectivity\"], [8.521, \"Hungary\", 2016, \"Connectivity\"], [8.70171, \"Portugal\", 2016, \"Connectivity\"], [9.3144, \"Lithuania\", 2016, \"Connectivity\"], [7.38922, \"Bulgaria\", 2016, \"Connectivity\"], [7.9614199999999995, \"Austria\", 2016, \"Connectivity\"], [10.054, \"Romania\", 2016, \"Connectivity\"], [11.5879, \"Sweden\", 2016, \"Connectivity\"], [11.683, \"Denmark\", 2016, \"Connectivity\"], [6.00218, \"Cyprus\", 2016, \"Connectivity\"], [8.5199, \"Europe\", 2016, \"Connectivity\"], [9.8273, \"Slovenia\", 2016, \"Connectivity\"], [10.7892, \"Estonia\", 2016, \"Connectivity\"], [12.2315, \"Luxembourg\", 2016, \"Connectivity\"], [8.75152, \"Malta\", 2016, \"Connectivity\"], [9.29168, \"United Kingdom\", 2016, \"Connectivity\"], [8.56219, \"Belgium\", 2016, \"Connectivity\"], [11.269, \"Netherlands\", 2016, \"Connectivity\"], [6.786860000000001, \"Italy\", 2016, \"Connectivity\"], [6.6798399999999996, \"Croatia\", 2016, \"Connectivity\"], [9.36607, \"Deutschland\", 2016, \"Connectivity\"], [5.28291, \"Greece\", 2016, \"Connectivity\"], [10.0877, \"Finland\", 2016, \"Connectivity\"], [7.45574, \"Ireland\", 2016, \"Connectivity\"], [7.9615, \"Slovakia\", 2016, \"Connectivity\"], [12.4397, \"Latvia\", 2016, \"Connectivity\"], [8.67957, \"Czech Rep.\", 2016, \"Connectivity\"]], \"hovertemplate\": \"<b>%{hovertext}</b><br><br><extra></extra>\", \"hovertext\": [8.04293, 9.3908, 7.65665, 8.521, 8.70171, 9.3144, 7.38922, 7.9614199999999995, 10.054, 11.5879, 11.683, 6.00218, 8.5199, 9.8273, 10.7892, 12.2315, 8.75152, 9.29168, 8.56219, 11.269, 6.786860000000001, 6.6798399999999996, 9.36607, 5.28291, 10.0877, 7.45574, 7.9615, 12.4397, 8.67957], \"ids\": [\"France\", \"Spain\", \"Poland\", \"Hungary\", \"Portugal\", \"Lithuania\", \"Bulgaria\", \"Austria\", \"Romania\", \"Sweden\", \"Denmark\", \"Cyprus\", \"Europe\", \"Slovenia\", \"Estonia\", \"Luxembourg\", \"Malta\", \"United Kingdom\", \"Belgium\", \"Netherlands\", \"Italy\", \"Croatia\", \"Deutschland\", \"Greece\", \"Finland\", \"Ireland\", \"Slovakia\", \"Latvia\", \"Czech Rep.\"], \"legendgroup\": \"Connectivity\", \"marker\": {\"color\": \"#F16913\"}, \"name\": \"Connectivity\", \"offsetgroup\": \"Connectivity\", \"orientation\": \"v\", \"showlegend\": true, \"textposition\": \"auto\", \"x\": [\"France\", \"Spain\", \"Poland\", \"Hungary\", \"Portugal\", \"Lithuania\", \"Bulgaria\", \"Austria\", \"Romania\", \"Sweden\", \"Denmark\", \"Cyprus\", \"Europe\", \"Slovenia\", \"Estonia\", \"Luxembourg\", \"Malta\", \"United Kingdom\", \"Belgium\", \"Netherlands\", \"Italy\", \"Croatia\", \"Deutschland\", \"Greece\", \"Finland\", \"Ireland\", \"Slovakia\", \"Latvia\", \"Czech Rep.\"], \"xaxis\": \"x\", \"y\": [8.04293, 9.3908, 7.65665, 8.521, 8.70171, 9.3144, 7.38922, 7.9614199999999995, 10.054, 11.5879, 11.683, 6.00218, 8.5199, 9.8273, 10.7892, 12.2315, 8.75152, 9.29168, 8.56219, 11.269, 6.786860000000001, 6.6798399999999996, 9.36607, 5.28291, 10.0877, 7.45574, 7.9615, 12.4397, 8.67957], \"yaxis\": \"y\", \"type\": \"bar\"}, {\"alignmentgroup\": \"True\", \"customdata\": [[7.843389999999999, \"Slovenia\", 2016, \"Digital Public Services\"], [9.98507, \"Spain\", 2016, \"Digital Public Services\"], [7.39716, \"Deutschland\", 2016, \"Digital Public Services\"], [8.13097, \"Europe\", 2016, \"Digital Public Services\"], [10.4901, \"Netherlands\", 2016, \"Digital Public Services\"], [10.1228, \"Lithuania\", 2016, \"Digital Public Services\"], [6.20368, \"Bulgaria\", 2016, \"Digital Public Services\"], [11.5573, \"Denmark\", 2016, \"Digital Public Services\"], [9.45825, \"Ireland\", 2016, \"Digital Public Services\"], [7.9875300000000005, \"Poland\", 2016, \"Digital Public Services\"], [7.36923, \"Italy\", 2016, \"Digital Public Services\"], [7.982589999999999, \"France\", 2016, \"Digital Public Services\"], [4.66144, \"Slovakia\", 2016, \"Digital Public Services\"], [8.59278, \"Belgium\", 2016, \"Digital Public Services\"], [8.21519, \"Cyprus\", 2016, \"Digital Public Services\"], [10.7141, \"Malta\", 2016, \"Digital Public Services\"], [11.1308, \"Finland\", 2016, \"Digital Public Services\"], [4.3331800000000005, \"Hungary\", 2016, \"Digital Public Services\"], [5.7314, \"Croatia\", 2016, \"Digital Public Services\"], [4.04601, \"Greece\", 2016, \"Digital Public Services\"], [5.63025, \"Czech Rep.\", 2016, \"Digital Public Services\"], [9.96632, \"Austria\", 2016, \"Digital Public Services\"], [10.7337, \"Sweden\", 2016, \"Digital Public Services\"], [6.73077, \"Luxembourg\", 2016, \"Digital Public Services\"], [5.12475, \"Romania\", 2016, \"Digital Public Services\"], [8.00073, \"United Kingdom\", 2016, \"Digital Public Services\"], [12.0676, \"Estonia\", 2016, \"Digital Public Services\"], [9.24145, \"Latvia\", 2016, \"Digital Public Services\"], [10.2168, \"Portugal\", 2016, \"Digital Public Services\"]], \"hovertemplate\": \"<b>%{hovertext}</b><br><br><extra></extra>\", \"hovertext\": [7.843389999999999, 9.98507, 7.39716, 8.13097, 10.4901, 10.1228, 6.20368, 11.5573, 9.45825, 7.9875300000000005, 7.36923, 7.982589999999999, 4.66144, 8.59278, 8.21519, 10.7141, 11.1308, 4.3331800000000005, 5.7314, 4.04601, 5.63025, 9.96632, 10.7337, 6.73077, 5.12475, 8.00073, 12.0676, 9.24145, 10.2168], \"ids\": [\"Slovenia\", \"Spain\", \"Deutschland\", \"Europe\", \"Netherlands\", \"Lithuania\", \"Bulgaria\", \"Denmark\", \"Ireland\", \"Poland\", \"Italy\", \"France\", \"Slovakia\", \"Belgium\", \"Cyprus\", \"Malta\", \"Finland\", \"Hungary\", \"Croatia\", \"Greece\", \"Czech Rep.\", \"Austria\", \"Sweden\", \"Luxembourg\", \"Romania\", \"United Kingdom\", \"Estonia\", \"Latvia\", \"Portugal\"], \"legendgroup\": \"Digital Public Services\", \"marker\": {\"color\": \"#EF3B2C\"}, \"name\": \"Digital Public Services\", \"offsetgroup\": \"Digital Public Services\", \"orientation\": \"v\", \"showlegend\": true, \"textposition\": \"auto\", \"x\": [\"Slovenia\", \"Spain\", \"Deutschland\", \"Europe\", \"Netherlands\", \"Lithuania\", \"Bulgaria\", \"Denmark\", \"Ireland\", \"Poland\", \"Italy\", \"France\", \"Slovakia\", \"Belgium\", \"Cyprus\", \"Malta\", \"Finland\", \"Hungary\", \"Croatia\", \"Greece\", \"Czech Rep.\", \"Austria\", \"Sweden\", \"Luxembourg\", \"Romania\", \"United Kingdom\", \"Estonia\", \"Latvia\", \"Portugal\"], \"xaxis\": \"x\", \"y\": [7.843389999999999, 9.98507, 7.39716, 8.13097, 10.4901, 10.1228, 6.20368, 11.5573, 9.45825, 7.9875300000000005, 7.36923, 7.982589999999999, 4.66144, 8.59278, 8.21519, 10.7141, 11.1308, 4.3331800000000005, 5.7314, 4.04601, 5.63025, 9.96632, 10.7337, 6.73077, 5.12475, 8.00073, 12.0676, 9.24145, 10.2168], \"yaxis\": \"y\", \"type\": \"bar\"}, {\"alignmentgroup\": \"True\", \"customdata\": [[9.74277, \"Slovakia\", 2016, \"Human Capital\"], [10.7067, \"Slovenia\", 2016, \"Human Capital\"], [15.5666, \"Sweden\", 2016, \"Human Capital\"], [8.32975, \"Greece\", 2016, \"Human Capital\"], [9.87278, \"Hungary\", 2016, \"Human Capital\"], [11.1315, \"Europe\", 2016, \"Human Capital\"], [13.363, \"Luxembourg\", 2016, \"Human Capital\"], [11.7351, \"Belgium\", 2016, \"Human Capital\"], [13.9155, \"Estonia\", 2016, \"Human Capital\"], [10.4143, \"Croatia\", 2016, \"Human Capital\"], [11.9205, \"Ireland\", 2016, \"Human Capital\"], [8.76808, \"Lithuania\", 2016, \"Human Capital\"], [18.3585, \"Finland\", 2016, \"Human Capital\"], [14.3399, \"United Kingdom\", 2016, \"Human Capital\"], [15.0626, \"Denmark\", 2016, \"Human Capital\"], [8.00569, \"Poland\", 2016, \"Human Capital\"], [11.1397, \"Czech Rep.\", 2016, \"Human Capital\"], [13.1446, \"Deutschland\", 2016, \"Human Capital\"], [11.3716, \"Spain\", 2016, \"Human Capital\"], [13.8246, \"Netherlands\", 2016, \"Human Capital\"], [7.78954, \"Italy\", 2016, \"Human Capital\"], [10.867, \"France\", 2016, \"Human Capital\"], [12.5832, \"Austria\", 2016, \"Human Capital\"], [7.110939999999999, \"Bulgaria\", 2016, \"Human Capital\"], [8.43621, \"Cyprus\", 2016, \"Human Capital\"], [13.9845, \"Malta\", 2016, \"Human Capital\"], [8.73376, \"Portugal\", 2016, \"Human Capital\"], [9.45307, \"Latvia\", 2016, \"Human Capital\"], [6.88903, \"Romania\", 2016, \"Human Capital\"]], \"hovertemplate\": \"<b>%{hovertext}</b><br><br><extra></extra>\", \"hovertext\": [9.74277, 10.7067, 15.5666, 8.32975, 9.87278, 11.1315, 13.363, 11.7351, 13.9155, 10.4143, 11.9205, 8.76808, 18.3585, 14.3399, 15.0626, 8.00569, 11.1397, 13.1446, 11.3716, 13.8246, 7.78954, 10.867, 12.5832, 7.110939999999999, 8.43621, 13.9845, 8.73376, 9.45307, 6.88903], \"ids\": [\"Slovakia\", \"Slovenia\", \"Sweden\", \"Greece\", \"Hungary\", \"Europe\", \"Luxembourg\", \"Belgium\", \"Estonia\", \"Croatia\", \"Ireland\", \"Lithuania\", \"Finland\", \"United Kingdom\", \"Denmark\", \"Poland\", \"Czech Rep.\", \"Deutschland\", \"Spain\", \"Netherlands\", \"Italy\", \"France\", \"Austria\", \"Bulgaria\", \"Cyprus\", \"Malta\", \"Portugal\", \"Latvia\", \"Romania\"], \"legendgroup\": \"Human Capital\", \"marker\": {\"color\": \"#41AB5D\"}, \"name\": \"Human Capital\", \"offsetgroup\": \"Human Capital\", \"orientation\": \"v\", \"showlegend\": true, \"textposition\": \"auto\", \"x\": [\"Slovakia\", \"Slovenia\", \"Sweden\", \"Greece\", \"Hungary\", \"Europe\", \"Luxembourg\", \"Belgium\", \"Estonia\", \"Croatia\", \"Ireland\", \"Lithuania\", \"Finland\", \"United Kingdom\", \"Denmark\", \"Poland\", \"Czech Rep.\", \"Deutschland\", \"Spain\", \"Netherlands\", \"Italy\", \"France\", \"Austria\", \"Bulgaria\", \"Cyprus\", \"Malta\", \"Portugal\", \"Latvia\", \"Romania\"], \"xaxis\": \"x\", \"y\": [9.74277, 10.7067, 15.5666, 8.32975, 9.87278, 11.1315, 13.363, 11.7351, 13.9155, 10.4143, 11.9205, 8.76808, 18.3585, 14.3399, 15.0626, 8.00569, 11.1397, 13.1446, 11.3716, 13.8246, 7.78954, 10.867, 12.5832, 7.110939999999999, 8.43621, 13.9845, 8.73376, 9.45307, 6.88903], \"yaxis\": \"y\", \"type\": \"bar\"}, {\"alignmentgroup\": \"True\", \"customdata\": [[7.24052, \"Latvia\", 2016, \"Use of Internet Services\"], [7.08427, \"Hungary\", 2016, \"Use of Internet Services\"], [7.71351, \"Deutschland\", 2016, \"Use of Internet Services\"], [6.63704, \"Austria\", 2016, \"Use of Internet Services\"], [4.7099, \"Bulgaria\", 2016, \"Use of Internet Services\"], [6.31311, \"Slovakia\", 2016, \"Use of Internet Services\"], [3.90596, \"Romania\", 2016, \"Use of Internet Services\"], [8.00262, \"Malta\", 2016, \"Use of Internet Services\"], [6.893689999999999, \"Croatia\", 2016, \"Use of Internet Services\"], [5.9559, \"Cyprus\", 2016, \"Use of Internet Services\"], [9.02975, \"Netherlands\", 2016, \"Use of Internet Services\"], [9.98132, \"Denmark\", 2016, \"Use of Internet Services\"], [5.28095, \"Greece\", 2016, \"Use of Internet Services\"], [6.99938, \"Europe\", 2016, \"Use of Internet Services\"], [9.246839999999999, \"Luxembourg\", 2016, \"Use of Internet Services\"], [5.18565, \"Poland\", 2016, \"Use of Internet Services\"], [5.685630000000001, \"Portugal\", 2016, \"Use of Internet Services\"], [8.86777, \"Estonia\", 2016, \"Use of Internet Services\"], [6.38236, \"Ireland\", 2016, \"Use of Internet Services\"], [8.99819, \"United Kingdom\", 2016, \"Use of Internet Services\"], [6.44895, \"Czech Rep.\", 2016, \"Use of Internet Services\"], [6.02821, \"Slovenia\", 2016, \"Use of Internet Services\"], [6.70262, \"France\", 2016, \"Use of Internet Services\"], [6.955360000000001, \"Spain\", 2016, \"Use of Internet Services\"], [6.83149, \"Lithuania\", 2016, \"Use of Internet Services\"], [9.58601, \"Finland\", 2016, \"Use of Internet Services\"], [9.59623, \"Sweden\", 2016, \"Use of Internet Services\"], [7.54961, \"Belgium\", 2016, \"Use of Internet Services\"], [4.9288099999999995, \"Italy\", 2016, \"Use of Internet Services\"]], \"hovertemplate\": \"<b>%{hovertext}</b><br><br><extra></extra>\", \"hovertext\": [7.24052, 7.08427, 7.71351, 6.63704, 4.7099, 6.31311, 3.90596, 8.00262, 6.893689999999999, 5.9559, 9.02975, 9.98132, 5.28095, 6.99938, 9.246839999999999, 5.18565, 5.685630000000001, 8.86777, 6.38236, 8.99819, 6.44895, 6.02821, 6.70262, 6.955360000000001, 6.83149, 9.58601, 9.59623, 7.54961, 4.9288099999999995], \"ids\": [\"Latvia\", \"Hungary\", \"Deutschland\", \"Austria\", \"Bulgaria\", \"Slovakia\", \"Romania\", \"Malta\", \"Croatia\", \"Cyprus\", \"Netherlands\", \"Denmark\", \"Greece\", \"Europe\", \"Luxembourg\", \"Poland\", \"Portugal\", \"Estonia\", \"Ireland\", \"United Kingdom\", \"Czech Rep.\", \"Slovenia\", \"France\", \"Spain\", \"Lithuania\", \"Finland\", \"Sweden\", \"Belgium\", \"Italy\"], \"legendgroup\": \"Use of Internet Services\", \"marker\": {\"color\": \"#4292C6\"}, \"name\": \"Use of Internet Services\", \"offsetgroup\": \"Use of Internet Services\", \"orientation\": \"v\", \"showlegend\": true, \"textposition\": \"auto\", \"x\": [\"Latvia\", \"Hungary\", \"Deutschland\", \"Austria\", \"Bulgaria\", \"Slovakia\", \"Romania\", \"Malta\", \"Croatia\", \"Cyprus\", \"Netherlands\", \"Denmark\", \"Greece\", \"Europe\", \"Luxembourg\", \"Poland\", \"Portugal\", \"Estonia\", \"Ireland\", \"United Kingdom\", \"Czech Rep.\", \"Slovenia\", \"France\", \"Spain\", \"Lithuania\", \"Finland\", \"Sweden\", \"Belgium\", \"Italy\"], \"xaxis\": \"x\", \"y\": [7.24052, 7.08427, 7.71351, 6.63704, 4.7099, 6.31311, 3.90596, 8.00262, 6.893689999999999, 5.9559, 9.02975, 9.98132, 5.28095, 6.99938, 9.246839999999999, 5.18565, 5.685630000000001, 8.86777, 6.38236, 8.99819, 6.44895, 6.02821, 6.70262, 6.955360000000001, 6.83149, 9.58601, 9.59623, 7.54961, 4.9288099999999995], \"yaxis\": \"y\", \"type\": \"bar\"}, {\"alignmentgroup\": \"True\", \"customdata\": [[8.12543, \"United Kingdom\", 2016, \"Integration of Digital Technology\"], [9.96224, \"Belgium\", 2016, \"Integration of Digital Technology\"], [6.6235, \"Europe\", 2016, \"Integration of Digital Technology\"], [9.93634, \"Denmark\", 2016, \"Integration of Digital Technology\"], [3.1932, \"Bulgaria\", 2016, \"Integration of Digital Technology\"], [10.0791, \"Netherlands\", 2016, \"Integration of Digital Technology\"], [6.03927, \"Austria\", 2016, \"Integration of Digital Technology\"], [6.171, \"Spain\", 2016, \"Integration of Digital Technology\"], [11.3485, \"Ireland\", 2016, \"Integration of Digital Technology\"], [5.76933, \"Cyprus\", 2016, \"Integration of Digital Technology\"], [3.7452699999999997, \"Romania\", 2016, \"Integration of Digital Technology\"], [7.464919999999999, \"Czech Rep.\", 2016, \"Integration of Digital Technology\"], [9.118089999999999, \"Finland\", 2016, \"Integration of Digital Technology\"], [5.24535, \"Italy\", 2016, \"Integration of Digital Technology\"], [6.717039999999999, \"Croatia\", 2016, \"Integration of Digital Technology\"], [4.01658, \"Hungary\", 2016, \"Integration of Digital Technology\"], [6.76501, \"Slovenia\", 2016, \"Integration of Digital Technology\"], [6.66063, \"France\", 2016, \"Integration of Digital Technology\"], [5.69842, \"Estonia\", 2016, \"Integration of Digital Technology\"], [4.5892599999999995, \"Greece\", 2016, \"Integration of Digital Technology\"], [3.72171, \"Latvia\", 2016, \"Integration of Digital Technology\"], [3.69049, \"Poland\", 2016, \"Integration of Digital Technology\"], [9.83455, \"Sweden\", 2016, \"Integration of Digital Technology\"], [7.47485, \"Lithuania\", 2016, \"Integration of Digital Technology\"], [7.45907, \"Portugal\", 2016, \"Integration of Digital Technology\"], [6.37691, \"Deutschland\", 2016, \"Integration of Digital Technology\"], [5.2870800000000004, \"Luxembourg\", 2016, \"Integration of Digital Technology\"], [7.697210000000001, \"Malta\", 2016, \"Integration of Digital Technology\"], [6.1833599999999995, \"Slovakia\", 2016, \"Integration of Digital Technology\"]], \"hovertemplate\": \"<b>%{hovertext}</b><br><br><extra></extra>\", \"hovertext\": [8.12543, 9.96224, 6.6235, 9.93634, 3.1932, 10.0791, 6.03927, 6.171, 11.3485, 5.76933, 3.7452699999999997, 7.464919999999999, 9.118089999999999, 5.24535, 6.717039999999999, 4.01658, 6.76501, 6.66063, 5.69842, 4.5892599999999995, 3.72171, 3.69049, 9.83455, 7.47485, 7.45907, 6.37691, 5.2870800000000004, 7.697210000000001, 6.1833599999999995], \"ids\": [\"United Kingdom\", \"Belgium\", \"Europe\", \"Denmark\", \"Bulgaria\", \"Netherlands\", \"Austria\", \"Spain\", \"Ireland\", \"Cyprus\", \"Romania\", \"Czech Rep.\", \"Finland\", \"Italy\", \"Croatia\", \"Hungary\", \"Slovenia\", \"France\", \"Estonia\", \"Greece\", \"Latvia\", \"Poland\", \"Sweden\", \"Lithuania\", \"Portugal\", \"Deutschland\", \"Luxembourg\", \"Malta\", \"Slovakia\"], \"legendgroup\": \"Integration of Digital Technology\", \"marker\": {\"color\": \"#DD3497\"}, \"name\": \"Integration of Digital Technology\", \"offsetgroup\": \"Integration of Digital Technology\", \"orientation\": \"v\", \"showlegend\": true, \"textposition\": \"auto\", \"x\": [\"United Kingdom\", \"Belgium\", \"Europe\", \"Denmark\", \"Bulgaria\", \"Netherlands\", \"Austria\", \"Spain\", \"Ireland\", \"Cyprus\", \"Romania\", \"Czech Rep.\", \"Finland\", \"Italy\", \"Croatia\", \"Hungary\", \"Slovenia\", \"France\", \"Estonia\", \"Greece\", \"Latvia\", \"Poland\", \"Sweden\", \"Lithuania\", \"Portugal\", \"Deutschland\", \"Luxembourg\", \"Malta\", \"Slovakia\"], \"xaxis\": \"x\", \"y\": [8.12543, 9.96224, 6.6235, 9.93634, 3.1932, 10.0791, 6.03927, 6.171, 11.3485, 5.76933, 3.7452699999999997, 7.464919999999999, 9.118089999999999, 5.24535, 6.717039999999999, 4.01658, 6.76501, 6.66063, 5.69842, 4.5892599999999995, 3.72171, 3.69049, 9.83455, 7.47485, 7.45907, 6.37691, 5.2870800000000004, 7.697210000000001, 6.1833599999999995], \"yaxis\": \"y\", \"type\": \"bar\"}], \"name\": \"2016\"}, {\"data\": [{\"alignmentgroup\": \"True\", \"customdata\": [[12.5615, \"Latvia\", 2017, \"Connectivity\"], [8.56495, \"Austria\", 2017, \"Connectivity\"], [9.34853, \"Hungary\", 2017, \"Connectivity\"], [8.09246, \"Ireland\", 2017, \"Connectivity\"], [9.39356, \"Belgium\", 2017, \"Connectivity\"], [13.2761, \"Luxembourg\", 2017, \"Connectivity\"], [9.7962, \"United Kingdom\", 2017, \"Connectivity\"], [10.7291, \"Romania\", 2017, \"Connectivity\"], [8.88166, \"France\", 2017, \"Connectivity\"], [8.46599, \"Bulgaria\", 2017, \"Connectivity\"], [8.98806, \"Czech Rep.\", 2017, \"Connectivity\"], [9.936860000000001, \"Lithuania\", 2017, \"Connectivity\"], [8.80974, \"Poland\", 2017, \"Connectivity\"], [12.3536, \"Denmark\", 2017, \"Connectivity\"], [10.6036, \"Finland\", 2017, \"Connectivity\"], [12.2639, \"Sweden\", 2017, \"Connectivity\"], [9.68783, \"Malta\", 2017, \"Connectivity\"], [11.3625, \"Estonia\", 2017, \"Connectivity\"], [9.70383, \"Portugal\", 2017, \"Connectivity\"], [8.00891, \"Italy\", 2017, \"Connectivity\"], [11.9343, \"Netherlands\", 2017, \"Connectivity\"], [9.7305, \"Deutschland\", 2017, \"Connectivity\"], [6.822019999999999, \"Cyprus\", 2017, \"Connectivity\"], [10.6297, \"Spain\", 2017, \"Connectivity\"], [10.4567, \"Slovenia\", 2017, \"Connectivity\"], [7.51693, \"Croatia\", 2017, \"Connectivity\"], [9.27541, \"Europe\", 2017, \"Connectivity\"], [5.86353, \"Greece\", 2017, \"Connectivity\"], [9.018410000000001, \"Slovakia\", 2017, \"Connectivity\"]], \"hovertemplate\": \"<b>%{hovertext}</b><br><br><extra></extra>\", \"hovertext\": [12.5615, 8.56495, 9.34853, 8.09246, 9.39356, 13.2761, 9.7962, 10.7291, 8.88166, 8.46599, 8.98806, 9.936860000000001, 8.80974, 12.3536, 10.6036, 12.2639, 9.68783, 11.3625, 9.70383, 8.00891, 11.9343, 9.7305, 6.822019999999999, 10.6297, 10.4567, 7.51693, 9.27541, 5.86353, 9.018410000000001], \"ids\": [\"Latvia\", \"Austria\", \"Hungary\", \"Ireland\", \"Belgium\", \"Luxembourg\", \"United Kingdom\", \"Romania\", \"France\", \"Bulgaria\", \"Czech Rep.\", \"Lithuania\", \"Poland\", \"Denmark\", \"Finland\", \"Sweden\", \"Malta\", \"Estonia\", \"Portugal\", \"Italy\", \"Netherlands\", \"Deutschland\", \"Cyprus\", \"Spain\", \"Slovenia\", \"Croatia\", \"Europe\", \"Greece\", \"Slovakia\"], \"legendgroup\": \"Connectivity\", \"marker\": {\"color\": \"#F16913\"}, \"name\": \"Connectivity\", \"offsetgroup\": \"Connectivity\", \"orientation\": \"v\", \"showlegend\": true, \"textposition\": \"auto\", \"x\": [\"Latvia\", \"Austria\", \"Hungary\", \"Ireland\", \"Belgium\", \"Luxembourg\", \"United Kingdom\", \"Romania\", \"France\", \"Bulgaria\", \"Czech Rep.\", \"Lithuania\", \"Poland\", \"Denmark\", \"Finland\", \"Sweden\", \"Malta\", \"Estonia\", \"Portugal\", \"Italy\", \"Netherlands\", \"Deutschland\", \"Cyprus\", \"Spain\", \"Slovenia\", \"Croatia\", \"Europe\", \"Greece\", \"Slovakia\"], \"xaxis\": \"x\", \"y\": [12.5615, 8.56495, 9.34853, 8.09246, 9.39356, 13.2761, 9.7962, 10.7291, 8.88166, 8.46599, 8.98806, 9.936860000000001, 8.80974, 12.3536, 10.6036, 12.2639, 9.68783, 11.3625, 9.70383, 8.00891, 11.9343, 9.7305, 6.822019999999999, 10.6297, 10.4567, 7.51693, 9.27541, 5.86353, 9.018410000000001], \"yaxis\": \"y\", \"type\": \"bar\"}, {\"alignmentgroup\": \"True\", \"customdata\": [[8.13393, \"Poland\", 2017, \"Digital Public Services\"], [8.68626, \"Europe\", 2017, \"Digital Public Services\"], [8.82518, \"France\", 2017, \"Digital Public Services\"], [11.317, \"Finland\", 2017, \"Digital Public Services\"], [7.94413, \"Deutschland\", 2017, \"Digital Public Services\"], [10.4648, \"Austria\", 2017, \"Digital Public Services\"], [10.4546, \"Spain\", 2017, \"Digital Public Services\"], [12.1075, \"Estonia\", 2017, \"Digital Public Services\"], [8.230310000000001, \"United Kingdom\", 2017, \"Digital Public Services\"], [7.19145, \"Czech Rep.\", 2017, \"Digital Public Services\"], [7.37575, \"Luxembourg\", 2017, \"Digital Public Services\"], [6.07955, \"Slovakia\", 2017, \"Digital Public Services\"], [7.9317, \"Slovenia\", 2017, \"Digital Public Services\"], [10.0023, \"Ireland\", 2017, \"Digital Public Services\"], [8.594619999999999, \"Cyprus\", 2017, \"Digital Public Services\"], [11.1792, \"Malta\", 2017, \"Digital Public Services\"], [5.28336, \"Hungary\", 2017, \"Digital Public Services\"], [5.05756, \"Greece\", 2017, \"Digital Public Services\"], [10.6265, \"Netherlands\", 2017, \"Digital Public Services\"], [6.73895, \"Bulgaria\", 2017, \"Digital Public Services\"], [7.58086, \"Italy\", 2017, \"Digital Public Services\"], [6.234719999999999, \"Croatia\", 2017, \"Digital Public Services\"], [11.8067, \"Denmark\", 2017, \"Digital Public Services\"], [10.4988, \"Lithuania\", 2017, \"Digital Public Services\"], [10.9667, \"Sweden\", 2017, \"Digital Public Services\"], [9.9763, \"Portugal\", 2017, \"Digital Public Services\"], [5.56979, \"Romania\", 2017, \"Digital Public Services\"], [10.2856, \"Latvia\", 2017, \"Digital Public Services\"], [8.611189999999999, \"Belgium\", 2017, \"Digital Public Services\"]], \"hovertemplate\": \"<b>%{hovertext}</b><br><br><extra></extra>\", \"hovertext\": [8.13393, 8.68626, 8.82518, 11.317, 7.94413, 10.4648, 10.4546, 12.1075, 8.230310000000001, 7.19145, 7.37575, 6.07955, 7.9317, 10.0023, 8.594619999999999, 11.1792, 5.28336, 5.05756, 10.6265, 6.73895, 7.58086, 6.234719999999999, 11.8067, 10.4988, 10.9667, 9.9763, 5.56979, 10.2856, 8.611189999999999], \"ids\": [\"Poland\", \"Europe\", \"France\", \"Finland\", \"Deutschland\", \"Austria\", \"Spain\", \"Estonia\", \"United Kingdom\", \"Czech Rep.\", \"Luxembourg\", \"Slovakia\", \"Slovenia\", \"Ireland\", \"Cyprus\", \"Malta\", \"Hungary\", \"Greece\", \"Netherlands\", \"Bulgaria\", \"Italy\", \"Croatia\", \"Denmark\", \"Lithuania\", \"Sweden\", \"Portugal\", \"Romania\", \"Latvia\", \"Belgium\"], \"legendgroup\": \"Digital Public Services\", \"marker\": {\"color\": \"#EF3B2C\"}, \"name\": \"Digital Public Services\", \"offsetgroup\": \"Digital Public Services\", \"orientation\": \"v\", \"showlegend\": true, \"textposition\": \"auto\", \"x\": [\"Poland\", \"Europe\", \"France\", \"Finland\", \"Deutschland\", \"Austria\", \"Spain\", \"Estonia\", \"United Kingdom\", \"Czech Rep.\", \"Luxembourg\", \"Slovakia\", \"Slovenia\", \"Ireland\", \"Cyprus\", \"Malta\", \"Hungary\", \"Greece\", \"Netherlands\", \"Bulgaria\", \"Italy\", \"Croatia\", \"Denmark\", \"Lithuania\", \"Sweden\", \"Portugal\", \"Romania\", \"Latvia\", \"Belgium\"], \"xaxis\": \"x\", \"y\": [8.13393, 8.68626, 8.82518, 11.317, 7.94413, 10.4648, 10.4546, 12.1075, 8.230310000000001, 7.19145, 7.37575, 6.07955, 7.9317, 10.0023, 8.594619999999999, 11.1792, 5.28336, 5.05756, 10.6265, 6.73895, 7.58086, 6.234719999999999, 11.8067, 10.4988, 10.9667, 9.9763, 5.56979, 10.2856, 8.611189999999999], \"yaxis\": \"y\", \"type\": \"bar\"}, {\"alignmentgroup\": \"True\", \"customdata\": [[8.30112, \"Greece\", 2017, \"Human Capital\"], [13.2063, \"Deutschland\", 2017, \"Human Capital\"], [10.5602, \"Spain\", 2017, \"Human Capital\"], [14.4974, \"Netherlands\", 2017, \"Human Capital\"], [10.1544, \"Slovakia\", 2017, \"Human Capital\"], [11.5203, \"Slovenia\", 2017, \"Human Capital\"], [10.8112, \"Croatia\", 2017, \"Human Capital\"], [14.7625, \"United Kingdom\", 2017, \"Human Capital\"], [7.7835600000000005, \"Italy\", 2017, \"Human Capital\"], [11.8504, \"Belgium\", 2017, \"Human Capital\"], [11.3539, \"Europe\", 2017, \"Human Capital\"], [10.3125, \"Hungary\", 2017, \"Human Capital\"], [13.3078, \"Austria\", 2017, \"Human Capital\"], [11.7612, \"Ireland\", 2017, \"Human Capital\"], [8.62359, \"Poland\", 2017, \"Human Capital\"], [10.0275, \"Latvia\", 2017, \"Human Capital\"], [9.22834, \"Lithuania\", 2017, \"Human Capital\"], [15.8558, \"Sweden\", 2017, \"Human Capital\"], [11.2401, \"France\", 2017, \"Human Capital\"], [10.7035, \"Czech Rep.\", 2017, \"Human Capital\"], [18.6676, \"Finland\", 2017, \"Human Capital\"], [13.9654, \"Estonia\", 2017, \"Human Capital\"], [12.9202, \"Luxembourg\", 2017, \"Human Capital\"], [8.56166, \"Portugal\", 2017, \"Human Capital\"], [7.54426, \"Romania\", 2017, \"Human Capital\"], [14.2652, \"Malta\", 2017, \"Human Capital\"], [15.6225, \"Denmark\", 2017, \"Human Capital\"], [6.81628, \"Bulgaria\", 2017, \"Human Capital\"], [8.554689999999999, \"Cyprus\", 2017, \"Human Capital\"]], \"hovertemplate\": \"<b>%{hovertext}</b><br><br><extra></extra>\", \"hovertext\": [8.30112, 13.2063, 10.5602, 14.4974, 10.1544, 11.5203, 10.8112, 14.7625, 7.7835600000000005, 11.8504, 11.3539, 10.3125, 13.3078, 11.7612, 8.62359, 10.0275, 9.22834, 15.8558, 11.2401, 10.7035, 18.6676, 13.9654, 12.9202, 8.56166, 7.54426, 14.2652, 15.6225, 6.81628, 8.554689999999999], \"ids\": [\"Greece\", \"Deutschland\", \"Spain\", \"Netherlands\", \"Slovakia\", \"Slovenia\", \"Croatia\", \"United Kingdom\", \"Italy\", \"Belgium\", \"Europe\", \"Hungary\", \"Austria\", \"Ireland\", \"Poland\", \"Latvia\", \"Lithuania\", \"Sweden\", \"France\", \"Czech Rep.\", \"Finland\", \"Estonia\", \"Luxembourg\", \"Portugal\", \"Romania\", \"Malta\", \"Denmark\", \"Bulgaria\", \"Cyprus\"], \"legendgroup\": \"Human Capital\", \"marker\": {\"color\": \"#41AB5D\"}, \"name\": \"Human Capital\", \"offsetgroup\": \"Human Capital\", \"orientation\": \"v\", \"showlegend\": true, \"textposition\": \"auto\", \"x\": [\"Greece\", \"Deutschland\", \"Spain\", \"Netherlands\", \"Slovakia\", \"Slovenia\", \"Croatia\", \"United Kingdom\", \"Italy\", \"Belgium\", \"Europe\", \"Hungary\", \"Austria\", \"Ireland\", \"Poland\", \"Latvia\", \"Lithuania\", \"Sweden\", \"France\", \"Czech Rep.\", \"Finland\", \"Estonia\", \"Luxembourg\", \"Portugal\", \"Romania\", \"Malta\", \"Denmark\", \"Bulgaria\", \"Cyprus\"], \"xaxis\": \"x\", \"y\": [8.30112, 13.2063, 10.5602, 14.4974, 10.1544, 11.5203, 10.8112, 14.7625, 7.7835600000000005, 11.8504, 11.3539, 10.3125, 13.3078, 11.7612, 8.62359, 10.0275, 9.22834, 15.8558, 11.2401, 10.7035, 18.6676, 13.9654, 12.9202, 8.56166, 7.54426, 14.2652, 15.6225, 6.81628, 8.554689999999999], \"yaxis\": \"y\", \"type\": \"bar\"}, {\"alignmentgroup\": \"True\", \"customdata\": [[8.06832, \"Malta\", 2017, \"Use of Internet Services\"], [3.9367199999999998, \"Romania\", 2017, \"Use of Internet Services\"], [7.0746199999999995, \"Slovakia\", 2017, \"Use of Internet Services\"], [6.3003599999999995, \"Slovenia\", 2017, \"Use of Internet Services\"], [6.0205400000000004, \"Poland\", 2017, \"Use of Internet Services\"], [6.68348, \"Cyprus\", 2017, \"Use of Internet Services\"], [6.927919999999999, \"Ireland\", 2017, \"Use of Internet Services\"], [6.7415199999999995, \"Czech Rep.\", 2017, \"Use of Internet Services\"], [7.324660000000001, \"Latvia\", 2017, \"Use of Internet Services\"], [9.83911, \"Netherlands\", 2017, \"Use of Internet Services\"], [4.63959, \"Bulgaria\", 2017, \"Use of Internet Services\"], [5.61615, \"Greece\", 2017, \"Use of Internet Services\"], [7.358110000000001, \"Europe\", 2017, \"Use of Internet Services\"], [8.92065, \"Estonia\", 2017, \"Use of Internet Services\"], [6.01727, \"Portugal\", 2017, \"Use of Internet Services\"], [5.332000000000001, \"Italy\", 2017, \"Use of Internet Services\"], [10.6749, \"Denmark\", 2017, \"Use of Internet Services\"], [10.2947, \"Sweden\", 2017, \"Use of Internet Services\"], [7.41621, \"Croatia\", 2017, \"Use of Internet Services\"], [8.007810000000001, \"Belgium\", 2017, \"Use of Internet Services\"], [9.3837, \"United Kingdom\", 2017, \"Use of Internet Services\"], [7.33971, \"Spain\", 2017, \"Use of Internet Services\"], [7.2713399999999995, \"Hungary\", 2017, \"Use of Internet Services\"], [9.4976, \"Luxembourg\", 2017, \"Use of Internet Services\"], [7.277710000000001, \"Lithuania\", 2017, \"Use of Internet Services\"], [6.894760000000001, \"Austria\", 2017, \"Use of Internet Services\"], [7.97495, \"Deutschland\", 2017, \"Use of Internet Services\"], [9.78275, \"Finland\", 2017, \"Use of Internet Services\"], [7.00011, \"France\", 2017, \"Use of Internet Services\"]], \"hovertemplate\": \"<b>%{hovertext}</b><br><br><extra></extra>\", \"hovertext\": [8.06832, 3.9367199999999998, 7.0746199999999995, 6.3003599999999995, 6.0205400000000004, 6.68348, 6.927919999999999, 6.7415199999999995, 7.324660000000001, 9.83911, 4.63959, 5.61615, 7.358110000000001, 8.92065, 6.01727, 5.332000000000001, 10.6749, 10.2947, 7.41621, 8.007810000000001, 9.3837, 7.33971, 7.2713399999999995, 9.4976, 7.277710000000001, 6.894760000000001, 7.97495, 9.78275, 7.00011], \"ids\": [\"Malta\", \"Romania\", \"Slovakia\", \"Slovenia\", \"Poland\", \"Cyprus\", \"Ireland\", \"Czech Rep.\", \"Latvia\", \"Netherlands\", \"Bulgaria\", \"Greece\", \"Europe\", \"Estonia\", \"Portugal\", \"Italy\", \"Denmark\", \"Sweden\", \"Croatia\", \"Belgium\", \"United Kingdom\", \"Spain\", \"Hungary\", \"Luxembourg\", \"Lithuania\", \"Austria\", \"Deutschland\", \"Finland\", \"France\"], \"legendgroup\": \"Use of Internet Services\", \"marker\": {\"color\": \"#4292C6\"}, \"name\": \"Use of Internet Services\", \"offsetgroup\": \"Use of Internet Services\", \"orientation\": \"v\", \"showlegend\": true, \"textposition\": \"auto\", \"x\": [\"Malta\", \"Romania\", \"Slovakia\", \"Slovenia\", \"Poland\", \"Cyprus\", \"Ireland\", \"Czech Rep.\", \"Latvia\", \"Netherlands\", \"Bulgaria\", \"Greece\", \"Europe\", \"Estonia\", \"Portugal\", \"Italy\", \"Denmark\", \"Sweden\", \"Croatia\", \"Belgium\", \"United Kingdom\", \"Spain\", \"Hungary\", \"Luxembourg\", \"Lithuania\", \"Austria\", \"Deutschland\", \"Finland\", \"France\"], \"xaxis\": \"x\", \"y\": [8.06832, 3.9367199999999998, 7.0746199999999995, 6.3003599999999995, 6.0205400000000004, 6.68348, 6.927919999999999, 6.7415199999999995, 7.324660000000001, 9.83911, 4.63959, 5.61615, 7.358110000000001, 8.92065, 6.01727, 5.332000000000001, 10.6749, 10.2947, 7.41621, 8.007810000000001, 9.3837, 7.33971, 7.2713399999999995, 9.4976, 7.277710000000001, 6.894760000000001, 7.97495, 9.78275, 7.00011], \"yaxis\": \"y\", \"type\": \"bar\"}, {\"alignmentgroup\": \"True\", \"customdata\": [[11.0816, \"Denmark\", 2017, \"Integration of Digital Technology\"], [10.11, \"Finland\", 2017, \"Integration of Digital Technology\"], [12.0778, \"Ireland\", 2017, \"Integration of Digital Technology\"], [3.3140199999999997, \"Bulgaria\", 2017, \"Integration of Digital Technology\"], [6.28298, \"Austria\", 2017, \"Integration of Digital Technology\"], [8.06484, \"Lithuania\", 2017, \"Integration of Digital Technology\"], [7.930960000000001, \"Portugal\", 2017, \"Integration of Digital Technology\"], [6.84375, \"Estonia\", 2017, \"Integration of Digital Technology\"], [6.16746, \"Luxembourg\", 2017, \"Integration of Digital Technology\"], [9.04071, \"United Kingdom\", 2017, \"Integration of Digital Technology\"], [8.65242, \"Malta\", 2017, \"Integration of Digital Technology\"], [3.92949, \"Poland\", 2017, \"Integration of Digital Technology\"], [3.9409300000000003, \"Latvia\", 2017, \"Integration of Digital Technology\"], [7.1706, \"France\", 2017, \"Integration of Digital Technology\"], [7.143439999999999, \"Slovenia\", 2017, \"Integration of Digital Technology\"], [11.064, \"Belgium\", 2017, \"Integration of Digital Technology\"], [8.3926, \"Czech Rep.\", 2017, \"Integration of Digital Technology\"], [10.8322, \"Netherlands\", 2017, \"Integration of Digital Technology\"], [7.081639999999999, \"Spain\", 2017, \"Integration of Digital Technology\"], [6.68192, \"Deutschland\", 2017, \"Integration of Digital Technology\"], [3.97421, \"Romania\", 2017, \"Integration of Digital Technology\"], [6.0879, \"Cyprus\", 2017, \"Integration of Digital Technology\"], [5.503480000000001, \"Italy\", 2017, \"Integration of Digital Technology\"], [7.008260000000001, \"Croatia\", 2017, \"Integration of Digital Technology\"], [10.5127, \"Sweden\", 2017, \"Integration of Digital Technology\"], [6.24406, \"Slovakia\", 2017, \"Integration of Digital Technology\"], [5.49329, \"Greece\", 2017, \"Integration of Digital Technology\"], [7.13651, \"Europe\", 2017, \"Integration of Digital Technology\"], [4.58327, \"Hungary\", 2017, \"Integration of Digital Technology\"]], \"hovertemplate\": \"<b>%{hovertext}</b><br><br><extra></extra>\", \"hovertext\": [11.0816, 10.11, 12.0778, 3.3140199999999997, 6.28298, 8.06484, 7.930960000000001, 6.84375, 6.16746, 9.04071, 8.65242, 3.92949, 3.9409300000000003, 7.1706, 7.143439999999999, 11.064, 8.3926, 10.8322, 7.081639999999999, 6.68192, 3.97421, 6.0879, 5.503480000000001, 7.008260000000001, 10.5127, 6.24406, 5.49329, 7.13651, 4.58327], \"ids\": [\"Denmark\", \"Finland\", \"Ireland\", \"Bulgaria\", \"Austria\", \"Lithuania\", \"Portugal\", \"Estonia\", \"Luxembourg\", \"United Kingdom\", \"Malta\", \"Poland\", \"Latvia\", \"France\", \"Slovenia\", \"Belgium\", \"Czech Rep.\", \"Netherlands\", \"Spain\", \"Deutschland\", \"Romania\", \"Cyprus\", \"Italy\", \"Croatia\", \"Sweden\", \"Slovakia\", \"Greece\", \"Europe\", \"Hungary\"], \"legendgroup\": \"Integration of Digital Technology\", \"marker\": {\"color\": \"#DD3497\"}, \"name\": \"Integration of Digital Technology\", \"offsetgroup\": \"Integration of Digital Technology\", \"orientation\": \"v\", \"showlegend\": true, \"textposition\": \"auto\", \"x\": [\"Denmark\", \"Finland\", \"Ireland\", \"Bulgaria\", \"Austria\", \"Lithuania\", \"Portugal\", \"Estonia\", \"Luxembourg\", \"United Kingdom\", \"Malta\", \"Poland\", \"Latvia\", \"France\", \"Slovenia\", \"Belgium\", \"Czech Rep.\", \"Netherlands\", \"Spain\", \"Deutschland\", \"Romania\", \"Cyprus\", \"Italy\", \"Croatia\", \"Sweden\", \"Slovakia\", \"Greece\", \"Europe\", \"Hungary\"], \"xaxis\": \"x\", \"y\": [11.0816, 10.11, 12.0778, 3.3140199999999997, 6.28298, 8.06484, 7.930960000000001, 6.84375, 6.16746, 9.04071, 8.65242, 3.92949, 3.9409300000000003, 7.1706, 7.143439999999999, 11.064, 8.3926, 10.8322, 7.081639999999999, 6.68192, 3.97421, 6.0879, 5.503480000000001, 7.008260000000001, 10.5127, 6.24406, 5.49329, 7.13651, 4.58327], \"yaxis\": \"y\", \"type\": \"bar\"}], \"name\": \"2017\"}, {\"data\": [{\"alignmentgroup\": \"True\", \"customdata\": [[8.89374, \"Bulgaria\", 2018, \"Connectivity\"], [13.0627, \"Denmark\", 2018, \"Connectivity\"], [9.8546, \"Poland\", 2018, \"Connectivity\"], [11.7695, \"Estonia\", 2018, \"Connectivity\"], [12.2024, \"Romania\", 2018, \"Connectivity\"], [9.36298, \"Austria\", 2018, \"Connectivity\"], [10.96, \"Slovenia\", 2018, \"Connectivity\"], [10.8734, \"Lithuania\", 2018, \"Connectivity\"], [11.0768, \"Portugal\", 2018, \"Connectivity\"], [8.762889999999999, \"Italy\", 2018, \"Connectivity\"], [13.3753, \"Sweden\", 2018, \"Connectivity\"], [8.03186, \"Croatia\", 2018, \"Connectivity\"], [10.6042, \"Malta\", 2018, \"Connectivity\"], [13.8193, \"Luxembourg\", 2018, \"Connectivity\"], [10.2066, \"United Kingdom\", 2018, \"Connectivity\"], [9.947460000000001, \"Belgium\", 2018, \"Connectivity\"], [8.98061, \"Ireland\", 2018, \"Connectivity\"], [10.286, \"Hungary\", 2018, \"Connectivity\"], [6.491969999999999, \"Greece\", 2018, \"Connectivity\"], [9.98109, \"Europe\", 2018, \"Connectivity\"], [9.607560000000001, \"France\", 2018, \"Connectivity\"], [10.394, \"Finland\", 2018, \"Connectivity\"], [9.85144, \"Czech Rep.\", 2018, \"Connectivity\"], [13.254000000000001, \"Latvia\", 2018, \"Connectivity\"], [7.51196, \"Cyprus\", 2018, \"Connectivity\"], [12.4038, \"Netherlands\", 2018, \"Connectivity\"], [11.4875, \"Spain\", 2018, \"Connectivity\"], [9.47888, \"Slovakia\", 2018, \"Connectivity\"], [10.1587, \"Deutschland\", 2018, \"Connectivity\"]], \"hovertemplate\": \"<b>%{hovertext}</b><br><br><extra></extra>\", \"hovertext\": [8.89374, 13.0627, 9.8546, 11.7695, 12.2024, 9.36298, 10.96, 10.8734, 11.0768, 8.762889999999999, 13.3753, 8.03186, 10.6042, 13.8193, 10.2066, 9.947460000000001, 8.98061, 10.286, 6.491969999999999, 9.98109, 9.607560000000001, 10.394, 9.85144, 13.254000000000001, 7.51196, 12.4038, 11.4875, 9.47888, 10.1587], \"ids\": [\"Bulgaria\", \"Denmark\", \"Poland\", \"Estonia\", \"Romania\", \"Austria\", \"Slovenia\", \"Lithuania\", \"Portugal\", \"Italy\", \"Sweden\", \"Croatia\", \"Malta\", \"Luxembourg\", \"United Kingdom\", \"Belgium\", \"Ireland\", \"Hungary\", \"Greece\", \"Europe\", \"France\", \"Finland\", \"Czech Rep.\", \"Latvia\", \"Cyprus\", \"Netherlands\", \"Spain\", \"Slovakia\", \"Deutschland\"], \"legendgroup\": \"Connectivity\", \"marker\": {\"color\": \"#F16913\"}, \"name\": \"Connectivity\", \"offsetgroup\": \"Connectivity\", \"orientation\": \"v\", \"showlegend\": true, \"textposition\": \"auto\", \"x\": [\"Bulgaria\", \"Denmark\", \"Poland\", \"Estonia\", \"Romania\", \"Austria\", \"Slovenia\", \"Lithuania\", \"Portugal\", \"Italy\", \"Sweden\", \"Croatia\", \"Malta\", \"Luxembourg\", \"United Kingdom\", \"Belgium\", \"Ireland\", \"Hungary\", \"Greece\", \"Europe\", \"France\", \"Finland\", \"Czech Rep.\", \"Latvia\", \"Cyprus\", \"Netherlands\", \"Spain\", \"Slovakia\", \"Deutschland\"], \"xaxis\": \"x\", \"y\": [8.89374, 13.0627, 9.8546, 11.7695, 12.2024, 9.36298, 10.96, 10.8734, 11.0768, 8.762889999999999, 13.3753, 8.03186, 10.6042, 13.8193, 10.2066, 9.947460000000001, 8.98061, 10.286, 6.491969999999999, 9.98109, 9.607560000000001, 10.394, 9.85144, 13.254000000000001, 7.51196, 12.4038, 11.4875, 9.47888, 10.1587], \"yaxis\": \"y\", \"type\": \"bar\"}, {\"alignmentgroup\": \"True\", \"customdata\": [[11.7511, \"Finland\", 2018, \"Digital Public Services\"], [11.4906, \"Spain\", 2018, \"Digital Public Services\"], [9.57715, \"France\", 2018, \"Digital Public Services\"], [7.869910000000001, \"Bulgaria\", 2018, \"Digital Public Services\"], [10.8414, \"Austria\", 2018, \"Digital Public Services\"], [8.576989999999999, \"Luxembourg\", 2018, \"Digital Public Services\"], [10.1174, \"Portugal\", 2018, \"Digital Public Services\"], [12.4471, \"Estonia\", 2018, \"Digital Public Services\"], [6.53924, \"Hungary\", 2018, \"Digital Public Services\"], [8.85187, \"United Kingdom\", 2018, \"Digital Public Services\"], [8.11169, \"Italy\", 2018, \"Digital Public Services\"], [10.6798, \"Ireland\", 2018, \"Digital Public Services\"], [8.8024, \"Slovenia\", 2018, \"Digital Public Services\"], [8.45913, \"Deutschland\", 2018, \"Digital Public Services\"], [6.55885, \"Croatia\", 2018, \"Digital Public Services\"], [6.18349, \"Greece\", 2018, \"Digital Public Services\"], [11.4877, \"Lithuania\", 2018, \"Digital Public Services\"], [9.27712, \"Europe\", 2018, \"Digital Public Services\"], [6.16326, \"Romania\", 2018, \"Digital Public Services\"], [11.1727, \"Latvia\", 2018, \"Digital Public Services\"], [7.195139999999999, \"Slovakia\", 2018, \"Digital Public Services\"], [9.35437, \"Belgium\", 2018, \"Digital Public Services\"], [11.0246, \"Malta\", 2018, \"Digital Public Services\"], [9.32072, \"Cyprus\", 2018, \"Digital Public Services\"], [11.995999999999999, \"Denmark\", 2018, \"Digital Public Services\"], [11.198, \"Netherlands\", 2018, \"Digital Public Services\"], [8.23893, \"Poland\", 2018, \"Digital Public Services\"], [8.11524, \"Czech Rep.\", 2018, \"Digital Public Services\"], [11.2158, \"Sweden\", 2018, \"Digital Public Services\"]], \"hovertemplate\": \"<b>%{hovertext}</b><br><br><extra></extra>\", \"hovertext\": [11.7511, 11.4906, 9.57715, 7.869910000000001, 10.8414, 8.576989999999999, 10.1174, 12.4471, 6.53924, 8.85187, 8.11169, 10.6798, 8.8024, 8.45913, 6.55885, 6.18349, 11.4877, 9.27712, 6.16326, 11.1727, 7.195139999999999, 9.35437, 11.0246, 9.32072, 11.995999999999999, 11.198, 8.23893, 8.11524, 11.2158], \"ids\": [\"Finland\", \"Spain\", \"France\", \"Bulgaria\", \"Austria\", \"Luxembourg\", \"Portugal\", \"Estonia\", \"Hungary\", \"United Kingdom\", \"Italy\", \"Ireland\", \"Slovenia\", \"Deutschland\", \"Croatia\", \"Greece\", \"Lithuania\", \"Europe\", \"Romania\", \"Latvia\", \"Slovakia\", \"Belgium\", \"Malta\", \"Cyprus\", \"Denmark\", \"Netherlands\", \"Poland\", \"Czech Rep.\", \"Sweden\"], \"legendgroup\": \"Digital Public Services\", \"marker\": {\"color\": \"#EF3B2C\"}, \"name\": \"Digital Public Services\", \"offsetgroup\": \"Digital Public Services\", \"orientation\": \"v\", \"showlegend\": true, \"textposition\": \"auto\", \"x\": [\"Finland\", \"Spain\", \"France\", \"Bulgaria\", \"Austria\", \"Luxembourg\", \"Portugal\", \"Estonia\", \"Hungary\", \"United Kingdom\", \"Italy\", \"Ireland\", \"Slovenia\", \"Deutschland\", \"Croatia\", \"Greece\", \"Lithuania\", \"Europe\", \"Romania\", \"Latvia\", \"Slovakia\", \"Belgium\", \"Malta\", \"Cyprus\", \"Denmark\", \"Netherlands\", \"Poland\", \"Czech Rep.\", \"Sweden\"], \"xaxis\": \"x\", \"y\": [11.7511, 11.4906, 9.57715, 7.869910000000001, 10.8414, 8.576989999999999, 10.1174, 12.4471, 6.53924, 8.85187, 8.11169, 10.6798, 8.8024, 8.45913, 6.55885, 6.18349, 11.4877, 9.27712, 6.16326, 11.1727, 7.195139999999999, 9.35437, 11.0246, 9.32072, 11.995999999999999, 11.198, 8.23893, 8.11524, 11.2158], \"yaxis\": \"y\", \"type\": \"bar\"}, {\"alignmentgroup\": \"True\", \"customdata\": [[15.2959, \"Netherlands\", 2018, \"Human Capital\"], [11.2133, \"Spain\", 2018, \"Human Capital\"], [11.46, \"Croatia\", 2018, \"Human Capital\"], [9.99704, \"Latvia\", 2018, \"Human Capital\"], [13.7792, \"Luxembourg\", 2018, \"Human Capital\"], [14.5846, \"Estonia\", 2018, \"Human Capital\"], [11.255, \"Czech Rep.\", 2018, \"Human Capital\"], [11.4057, \"Belgium\", 2018, \"Human Capital\"], [11.9016, \"Europe\", 2018, \"Human Capital\"], [11.4171, \"Slovenia\", 2018, \"Human Capital\"], [10.630999999999998, \"Hungary\", 2018, \"Human Capital\"], [13.5489, \"Deutschland\", 2018, \"Human Capital\"], [7.89124, \"Italy\", 2018, \"Human Capital\"], [7.986000000000001, \"Greece\", 2018, \"Human Capital\"], [9.06212, \"Cyprus\", 2018, \"Human Capital\"], [15.2571, \"United Kingdom\", 2018, \"Human Capital\"], [9.060080000000001, \"Portugal\", 2018, \"Human Capital\"], [10.7367, \"Slovakia\", 2018, \"Human Capital\"], [11.7667, \"France\", 2018, \"Human Capital\"], [7.8659300000000005, \"Romania\", 2018, \"Human Capital\"], [17.4854, \"Sweden\", 2018, \"Human Capital\"], [15.1397, \"Denmark\", 2018, \"Human Capital\"], [13.2564, \"Ireland\", 2018, \"Human Capital\"], [13.8416, \"Austria\", 2018, \"Human Capital\"], [9.05781, \"Poland\", 2018, \"Human Capital\"], [19.0364, \"Finland\", 2018, \"Human Capital\"], [14.319, \"Malta\", 2018, \"Human Capital\"], [7.92651, \"Bulgaria\", 2018, \"Human Capital\"], [10.1871, \"Lithuania\", 2018, \"Human Capital\"]], \"hovertemplate\": \"<b>%{hovertext}</b><br><br><extra></extra>\", \"hovertext\": [15.2959, 11.2133, 11.46, 9.99704, 13.7792, 14.5846, 11.255, 11.4057, 11.9016, 11.4171, 10.630999999999998, 13.5489, 7.89124, 7.986000000000001, 9.06212, 15.2571, 9.060080000000001, 10.7367, 11.7667, 7.8659300000000005, 17.4854, 15.1397, 13.2564, 13.8416, 9.05781, 19.0364, 14.319, 7.92651, 10.1871], \"ids\": [\"Netherlands\", \"Spain\", \"Croatia\", \"Latvia\", \"Luxembourg\", \"Estonia\", \"Czech Rep.\", \"Belgium\", \"Europe\", \"Slovenia\", \"Hungary\", \"Deutschland\", \"Italy\", \"Greece\", \"Cyprus\", \"United Kingdom\", \"Portugal\", \"Slovakia\", \"France\", \"Romania\", \"Sweden\", \"Denmark\", \"Ireland\", \"Austria\", \"Poland\", \"Finland\", \"Malta\", \"Bulgaria\", \"Lithuania\"], \"legendgroup\": \"Human Capital\", \"marker\": {\"color\": \"#41AB5D\"}, \"name\": \"Human Capital\", \"offsetgroup\": \"Human Capital\", \"orientation\": \"v\", \"showlegend\": true, \"textposition\": \"auto\", \"x\": [\"Netherlands\", \"Spain\", \"Croatia\", \"Latvia\", \"Luxembourg\", \"Estonia\", \"Czech Rep.\", \"Belgium\", \"Europe\", \"Slovenia\", \"Hungary\", \"Deutschland\", \"Italy\", \"Greece\", \"Cyprus\", \"United Kingdom\", \"Portugal\", \"Slovakia\", \"France\", \"Romania\", \"Sweden\", \"Denmark\", \"Ireland\", \"Austria\", \"Poland\", \"Finland\", \"Malta\", \"Bulgaria\", \"Lithuania\"], \"xaxis\": \"x\", \"y\": [15.2959, 11.2133, 11.46, 9.99704, 13.7792, 14.5846, 11.255, 11.4057, 11.9016, 11.4171, 10.630999999999998, 13.5489, 7.89124, 7.986000000000001, 9.06212, 15.2571, 9.060080000000001, 10.7367, 11.7667, 7.8659300000000005, 17.4854, 15.1397, 13.2564, 13.8416, 9.05781, 19.0364, 14.319, 7.92651, 10.1871], \"yaxis\": \"y\", \"type\": \"bar\"}, {\"alignmentgroup\": \"True\", \"customdata\": [[7.30883, \"Slovakia\", 2018, \"Use of Internet Services\"], [4.726, \"Romania\", 2018, \"Use of Internet Services\"], [7.50208, \"Ireland\", 2018, \"Use of Internet Services\"], [7.49558, \"Austria\", 2018, \"Use of Internet Services\"], [7.06865, \"Slovenia\", 2018, \"Use of Internet Services\"], [6.32446, \"Poland\", 2018, \"Use of Internet Services\"], [7.1497, \"Czech Rep.\", 2018, \"Use of Internet Services\"], [5.10878, \"Bulgaria\", 2018, \"Use of Internet Services\"], [6.48555, \"Portugal\", 2018, \"Use of Internet Services\"], [7.50529, \"Latvia\", 2018, \"Use of Internet Services\"], [8.54256, \"Deutschland\", 2018, \"Use of Internet Services\"], [10.9362, \"Denmark\", 2018, \"Use of Internet Services\"], [10.4046, \"Netherlands\", 2018, \"Use of Internet Services\"], [8.15123, \"Belgium\", 2018, \"Use of Internet Services\"], [7.81349, \"Spain\", 2018, \"Use of Internet Services\"], [7.14998, \"Cyprus\", 2018, \"Use of Internet Services\"], [7.622669999999999, \"Lithuania\", 2018, \"Use of Internet Services\"], [8.93845, \"Malta\", 2018, \"Use of Internet Services\"], [5.6164, \"Italy\", 2018, \"Use of Internet Services\"], [10.2163, \"Finland\", 2018, \"Use of Internet Services\"], [9.22457, \"Estonia\", 2018, \"Use of Internet Services\"], [7.41752, \"Hungary\", 2018, \"Use of Internet Services\"], [9.757610000000001, \"Luxembourg\", 2018, \"Use of Internet Services\"], [11.0503, \"Sweden\", 2018, \"Use of Internet Services\"], [9.65558, \"United Kingdom\", 2018, \"Use of Internet Services\"], [5.89518, \"Greece\", 2018, \"Use of Internet Services\"], [7.76722, \"Europe\", 2018, \"Use of Internet Services\"], [7.3872, \"Croatia\", 2018, \"Use of Internet Services\"], [7.270060000000001, \"France\", 2018, \"Use of Internet Services\"]], \"hovertemplate\": \"<b>%{hovertext}</b><br><br><extra></extra>\", \"hovertext\": [7.30883, 4.726, 7.50208, 7.49558, 7.06865, 6.32446, 7.1497, 5.10878, 6.48555, 7.50529, 8.54256, 10.9362, 10.4046, 8.15123, 7.81349, 7.14998, 7.622669999999999, 8.93845, 5.6164, 10.2163, 9.22457, 7.41752, 9.757610000000001, 11.0503, 9.65558, 5.89518, 7.76722, 7.3872, 7.270060000000001], \"ids\": [\"Slovakia\", \"Romania\", \"Ireland\", \"Austria\", \"Slovenia\", \"Poland\", \"Czech Rep.\", \"Bulgaria\", \"Portugal\", \"Latvia\", \"Deutschland\", \"Denmark\", \"Netherlands\", \"Belgium\", \"Spain\", \"Cyprus\", \"Lithuania\", \"Malta\", \"Italy\", \"Finland\", \"Estonia\", \"Hungary\", \"Luxembourg\", \"Sweden\", \"United Kingdom\", \"Greece\", \"Europe\", \"Croatia\", \"France\"], \"legendgroup\": \"Use of Internet Services\", \"marker\": {\"color\": \"#4292C6\"}, \"name\": \"Use of Internet Services\", \"offsetgroup\": \"Use of Internet Services\", \"orientation\": \"v\", \"showlegend\": true, \"textposition\": \"auto\", \"x\": [\"Slovakia\", \"Romania\", \"Ireland\", \"Austria\", \"Slovenia\", \"Poland\", \"Czech Rep.\", \"Bulgaria\", \"Portugal\", \"Latvia\", \"Deutschland\", \"Denmark\", \"Netherlands\", \"Belgium\", \"Spain\", \"Cyprus\", \"Lithuania\", \"Malta\", \"Italy\", \"Finland\", \"Estonia\", \"Hungary\", \"Luxembourg\", \"Sweden\", \"United Kingdom\", \"Greece\", \"Europe\", \"Croatia\", \"France\"], \"xaxis\": \"x\", \"y\": [7.30883, 4.726, 7.50208, 7.49558, 7.06865, 6.32446, 7.1497, 5.10878, 6.48555, 7.50529, 8.54256, 10.9362, 10.4046, 8.15123, 7.81349, 7.14998, 7.622669999999999, 8.93845, 5.6164, 10.2163, 9.22457, 7.41752, 9.757610000000001, 11.0503, 9.65558, 5.89518, 7.76722, 7.3872, 7.270060000000001], \"yaxis\": \"y\", \"type\": \"bar\"}, {\"alignmentgroup\": \"True\", \"customdata\": [[11.3341, \"Denmark\", 2018, \"Integration of Digital Technology\"], [8.05894, \"Portugal\", 2018, \"Integration of Digital Technology\"], [6.981339999999999, \"Austria\", 2018, \"Integration of Digital Technology\"], [3.66546, \"Bulgaria\", 2018, \"Integration of Digital Technology\"], [9.18684, \"Lithuania\", 2018, \"Integration of Digital Technology\"], [8.42347, \"Malta\", 2018, \"Integration of Digital Technology\"], [9.55044, \"United Kingdom\", 2018, \"Integration of Digital Technology\"], [11.5031, \"Netherlands\", 2018, \"Integration of Digital Technology\"], [6.50546, \"Luxembourg\", 2018, \"Integration of Digital Technology\"], [11.3777, \"Finland\", 2018, \"Integration of Digital Technology\"], [7.49062, \"France\", 2018, \"Integration of Digital Technology\"], [10.8396, \"Sweden\", 2018, \"Integration of Digital Technology\"], [7.7211, \"Estonia\", 2018, \"Integration of Digital Technology\"], [11.2895, \"Belgium\", 2018, \"Integration of Digital Technology\"], [7.64945, \"Slovenia\", 2018, \"Integration of Digital Technology\"], [6.31919, \"Cyprus\", 2018, \"Integration of Digital Technology\"], [7.160239999999999, \"Slovakia\", 2018, \"Integration of Digital Technology\"], [8.22947, \"Spain\", 2018, \"Integration of Digital Technology\"], [4.16514, \"Romania\", 2018, \"Integration of Digital Technology\"], [7.34525, \"Croatia\", 2018, \"Integration of Digital Technology\"], [12.6899, \"Ireland\", 2018, \"Integration of Digital Technology\"], [5.724, \"Greece\", 2018, \"Integration of Digital Technology\"], [8.29673, \"Czech Rep.\", 2018, \"Integration of Digital Technology\"], [4.19566, \"Poland\", 2018, \"Integration of Digital Technology\"], [7.558789999999999, \"Europe\", 2018, \"Integration of Digital Technology\"], [4.9209, \"Latvia\", 2018, \"Integration of Digital Technology\"], [7.166980000000001, \"Deutschland\", 2018, \"Integration of Digital Technology\"], [5.8215699999999995, \"Italy\", 2018, \"Integration of Digital Technology\"], [5.13786, \"Hungary\", 2018, \"Integration of Digital Technology\"]], \"hovertemplate\": \"<b>%{hovertext}</b><br><br><extra></extra>\", \"hovertext\": [11.3341, 8.05894, 6.981339999999999, 3.66546, 9.18684, 8.42347, 9.55044, 11.5031, 6.50546, 11.3777, 7.49062, 10.8396, 7.7211, 11.2895, 7.64945, 6.31919, 7.160239999999999, 8.22947, 4.16514, 7.34525, 12.6899, 5.724, 8.29673, 4.19566, 7.558789999999999, 4.9209, 7.166980000000001, 5.8215699999999995, 5.13786], \"ids\": [\"Denmark\", \"Portugal\", \"Austria\", \"Bulgaria\", \"Lithuania\", \"Malta\", \"United Kingdom\", \"Netherlands\", \"Luxembourg\", \"Finland\", \"France\", \"Sweden\", \"Estonia\", \"Belgium\", \"Slovenia\", \"Cyprus\", \"Slovakia\", \"Spain\", \"Romania\", \"Croatia\", \"Ireland\", \"Greece\", \"Czech Rep.\", \"Poland\", \"Europe\", \"Latvia\", \"Deutschland\", \"Italy\", \"Hungary\"], \"legendgroup\": \"Integration of Digital Technology\", \"marker\": {\"color\": \"#DD3497\"}, \"name\": \"Integration of Digital Technology\", \"offsetgroup\": \"Integration of Digital Technology\", \"orientation\": \"v\", \"showlegend\": true, \"textposition\": \"auto\", \"x\": [\"Denmark\", \"Portugal\", \"Austria\", \"Bulgaria\", \"Lithuania\", \"Malta\", \"United Kingdom\", \"Netherlands\", \"Luxembourg\", \"Finland\", \"France\", \"Sweden\", \"Estonia\", \"Belgium\", \"Slovenia\", \"Cyprus\", \"Slovakia\", \"Spain\", \"Romania\", \"Croatia\", \"Ireland\", \"Greece\", \"Czech Rep.\", \"Poland\", \"Europe\", \"Latvia\", \"Deutschland\", \"Italy\", \"Hungary\"], \"xaxis\": \"x\", \"y\": [11.3341, 8.05894, 6.981339999999999, 3.66546, 9.18684, 8.42347, 9.55044, 11.5031, 6.50546, 11.3777, 7.49062, 10.8396, 7.7211, 11.2895, 7.64945, 6.31919, 7.160239999999999, 8.22947, 4.16514, 7.34525, 12.6899, 5.724, 8.29673, 4.19566, 7.558789999999999, 4.9209, 7.166980000000001, 5.8215699999999995, 5.13786], \"yaxis\": \"y\", \"type\": \"bar\"}], \"name\": \"2018\"}, {\"data\": [{\"alignmentgroup\": \"True\", \"customdata\": [[14.2739, \"Luxembourg\", 2019, \"Connectivity\"], [11.9964, \"France\", 2019, \"Connectivity\"], [12.4861, \"Estonia\", 2019, \"Connectivity\"], [10.7078, \"United Kingdom\", 2019, \"Connectivity\"], [15.0147, \"Sweden\", 2019, \"Connectivity\"], [10.9627, \"Malta\", 2019, \"Connectivity\"], [11.9143, \"Deutschland\", 2019, \"Connectivity\"], [12.6313, \"Netherlands\", 2019, \"Connectivity\"], [12.1378, \"Slovenia\", 2019, \"Connectivity\"], [10.7095, \"Poland\", 2019, \"Connectivity\"], [12.0431, \"Italy\", 2019, \"Connectivity\"], [9.98193, \"Belgium\", 2019, \"Connectivity\"], [14.9456, \"Latvia\", 2019, \"Connectivity\"], [9.30199, \"Croatia\", 2019, \"Connectivity\"], [12.1013, \"Portugal\", 2019, \"Connectivity\"], [9.910810000000001, \"Slovakia\", 2019, \"Connectivity\"], [10.8636, \"Czech Rep.\", 2019, \"Connectivity\"], [12.5041, \"Romania\", 2019, \"Connectivity\"], [11.5014, \"Lithuania\", 2019, \"Connectivity\"], [8.64476, \"Cyprus\", 2019, \"Connectivity\"], [13.6365, \"Finland\", 2019, \"Connectivity\"], [7.37375, \"Greece\", 2019, \"Connectivity\"], [9.29255, \"Bulgaria\", 2019, \"Connectivity\"], [11.1867, \"Europe\", 2019, \"Connectivity\"], [10.8698, \"Austria\", 2019, \"Connectivity\"], [13.8499, \"Spain\", 2019, \"Connectivity\"], [11.4819, \"Hungary\", 2019, \"Connectivity\"], [14.7966, \"Denmark\", 2019, \"Connectivity\"], [10.6281, \"Ireland\", 2019, \"Connectivity\"]], \"hovertemplate\": \"<b>%{hovertext}</b><br><br><extra></extra>\", \"hovertext\": [14.2739, 11.9964, 12.4861, 10.7078, 15.0147, 10.9627, 11.9143, 12.6313, 12.1378, 10.7095, 12.0431, 9.98193, 14.9456, 9.30199, 12.1013, 9.910810000000001, 10.8636, 12.5041, 11.5014, 8.64476, 13.6365, 7.37375, 9.29255, 11.1867, 10.8698, 13.8499, 11.4819, 14.7966, 10.6281], \"ids\": [\"Luxembourg\", \"France\", \"Estonia\", \"United Kingdom\", \"Sweden\", \"Malta\", \"Deutschland\", \"Netherlands\", \"Slovenia\", \"Poland\", \"Italy\", \"Belgium\", \"Latvia\", \"Croatia\", \"Portugal\", \"Slovakia\", \"Czech Rep.\", \"Romania\", \"Lithuania\", \"Cyprus\", \"Finland\", \"Greece\", \"Bulgaria\", \"Europe\", \"Austria\", \"Spain\", \"Hungary\", \"Denmark\", \"Ireland\"], \"legendgroup\": \"Connectivity\", \"marker\": {\"color\": \"#F16913\"}, \"name\": \"Connectivity\", \"offsetgroup\": \"Connectivity\", \"orientation\": \"v\", \"showlegend\": true, \"textposition\": \"auto\", \"x\": [\"Luxembourg\", \"France\", \"Estonia\", \"United Kingdom\", \"Sweden\", \"Malta\", \"Deutschland\", \"Netherlands\", \"Slovenia\", \"Poland\", \"Italy\", \"Belgium\", \"Latvia\", \"Croatia\", \"Portugal\", \"Slovakia\", \"Czech Rep.\", \"Romania\", \"Lithuania\", \"Cyprus\", \"Finland\", \"Greece\", \"Bulgaria\", \"Europe\", \"Austria\", \"Spain\", \"Hungary\", \"Denmark\", \"Ireland\"], \"xaxis\": \"x\", \"y\": [14.2739, 11.9964, 12.4861, 10.7078, 15.0147, 10.9627, 11.9143, 12.6313, 12.1378, 10.7095, 12.0431, 9.98193, 14.9456, 9.30199, 12.1013, 9.910810000000001, 10.8636, 12.5041, 11.5014, 8.64476, 13.6365, 7.37375, 9.29255, 11.1867, 10.8698, 13.8499, 11.4819, 14.7966, 10.6281], \"yaxis\": \"y\", \"type\": \"bar\"}, {\"alignmentgroup\": \"True\", \"customdata\": [[8.98333, \"Czech Rep.\", 2019, \"Digital Public Services\"], [11.2849, \"Malta\", 2019, \"Digital Public Services\"], [9.73435, \"Luxembourg\", 2019, \"Digital Public Services\"], [7.60798, \"Hungary\", 2019, \"Digital Public Services\"], [11.9461, \"Netherlands\", 2019, \"Digital Public Services\"], [11.4431, \"Austria\", 2019, \"Digital Public Services\"], [11.7185, \"Ireland\", 2019, \"Digital Public Services\"], [9.22891, \"Poland\", 2019, \"Digital Public Services\"], [9.67817, \"Slovenia\", 2019, \"Digital Public Services\"], [9.85138, \"Cyprus\", 2019, \"Digital Public Services\"], [7.62195, \"Croatia\", 2019, \"Digital Public Services\"], [10.0464, \"Europe\", 2019, \"Digital Public Services\"], [7.6103, \"Slovakia\", 2019, \"Digital Public Services\"], [9.289069999999999, \"Italy\", 2019, \"Digital Public Services\"], [12.7446, \"Estonia\", 2019, \"Digital Public Services\"], [12.0364, \"Latvia\", 2019, \"Digital Public Services\"], [11.6905, \"Sweden\", 2019, \"Digital Public Services\"], [12.135, \"Spain\", 2019, \"Digital Public Services\"], [10.389000000000001, \"France\", 2019, \"Digital Public Services\"], [9.86558, \"Belgium\", 2019, \"Digital Public Services\"], [9.72463, \"United Kingdom\", 2019, \"Digital Public Services\"], [8.82722, \"Deutschland\", 2019, \"Digital Public Services\"], [12.2987, \"Finland\", 2019, \"Digital Public Services\"], [12.4093, \"Denmark\", 2019, \"Digital Public Services\"], [8.470930000000001, \"Bulgaria\", 2019, \"Digital Public Services\"], [6.966019999999999, \"Greece\", 2019, \"Digital Public Services\"], [11.9122, \"Lithuania\", 2019, \"Digital Public Services\"], [6.74879, \"Romania\", 2019, \"Digital Public Services\"], [11.015999999999998, \"Portugal\", 2019, \"Digital Public Services\"]], \"hovertemplate\": \"<b>%{hovertext}</b><br><br><extra></extra>\", \"hovertext\": [8.98333, 11.2849, 9.73435, 7.60798, 11.9461, 11.4431, 11.7185, 9.22891, 9.67817, 9.85138, 7.62195, 10.0464, 7.6103, 9.289069999999999, 12.7446, 12.0364, 11.6905, 12.135, 10.389000000000001, 9.86558, 9.72463, 8.82722, 12.2987, 12.4093, 8.470930000000001, 6.966019999999999, 11.9122, 6.74879, 11.015999999999998], \"ids\": [\"Czech Rep.\", \"Malta\", \"Luxembourg\", \"Hungary\", \"Netherlands\", \"Austria\", \"Ireland\", \"Poland\", \"Slovenia\", \"Cyprus\", \"Croatia\", \"Europe\", \"Slovakia\", \"Italy\", \"Estonia\", \"Latvia\", \"Sweden\", \"Spain\", \"France\", \"Belgium\", \"United Kingdom\", \"Deutschland\", \"Finland\", \"Denmark\", \"Bulgaria\", \"Greece\", \"Lithuania\", \"Romania\", \"Portugal\"], \"legendgroup\": \"Digital Public Services\", \"marker\": {\"color\": \"#EF3B2C\"}, \"name\": \"Digital Public Services\", \"offsetgroup\": \"Digital Public Services\", \"orientation\": \"v\", \"showlegend\": true, \"textposition\": \"auto\", \"x\": [\"Czech Rep.\", \"Malta\", \"Luxembourg\", \"Hungary\", \"Netherlands\", \"Austria\", \"Ireland\", \"Poland\", \"Slovenia\", \"Cyprus\", \"Croatia\", \"Europe\", \"Slovakia\", \"Italy\", \"Estonia\", \"Latvia\", \"Sweden\", \"Spain\", \"France\", \"Belgium\", \"United Kingdom\", \"Deutschland\", \"Finland\", \"Denmark\", \"Bulgaria\", \"Greece\", \"Lithuania\", \"Romania\", \"Portugal\"], \"xaxis\": \"x\", \"y\": [8.98333, 11.2849, 9.73435, 7.60798, 11.9461, 11.4431, 11.7185, 9.22891, 9.67817, 9.85138, 7.62195, 10.0464, 7.6103, 9.289069999999999, 12.7446, 12.0364, 11.6905, 12.135, 10.389000000000001, 9.86558, 9.72463, 8.82722, 12.2987, 12.4093, 8.470930000000001, 6.966019999999999, 11.9122, 6.74879, 11.015999999999998], \"yaxis\": \"y\", \"type\": \"bar\"}, {\"alignmentgroup\": \"True\", \"customdata\": [[15.4998, \"Netherlands\", 2019, \"Human Capital\"], [11.5829, \"Slovenia\", 2019, \"Human Capital\"], [11.1238, \"Spain\", 2019, \"Human Capital\"], [13.6077, \"Deutschland\", 2019, \"Human Capital\"], [8.007060000000001, \"Italy\", 2019, \"Human Capital\"], [12.4039, \"Belgium\", 2019, \"Human Capital\"], [7.12805, \"Bulgaria\", 2019, \"Human Capital\"], [13.9133, \"Austria\", 2019, \"Human Capital\"], [10.1114, \"Latvia\", 2019, \"Human Capital\"], [17.9074, \"Sweden\", 2019, \"Human Capital\"], [15.6117, \"Estonia\", 2019, \"Human Capital\"], [13.7622, \"Malta\", 2019, \"Human Capital\"], [11.2026, \"Czech Rep.\", 2019, \"Human Capital\"], [8.80688, \"Portugal\", 2019, \"Human Capital\"], [15.4052, \"United Kingdom\", 2019, \"Human Capital\"], [14.3533, \"Luxembourg\", 2019, \"Human Capital\"], [7.77146, \"Romania\", 2019, \"Human Capital\"], [10.5455, \"Lithuania\", 2019, \"Human Capital\"], [10.5298, \"Hungary\", 2019, \"Human Capital\"], [11.9732, \"Europe\", 2019, \"Human Capital\"], [11.705, \"Croatia\", 2019, \"Human Capital\"], [19.3848, \"Finland\", 2019, \"Human Capital\"], [8.1871, \"Greece\", 2019, \"Human Capital\"], [8.66126, \"Cyprus\", 2019, \"Human Capital\"], [9.2114, \"Poland\", 2019, \"Human Capital\"], [11.0483, \"Slovakia\", 2019, \"Human Capital\"], [11.7536, \"France\", 2019, \"Human Capital\"], [15.2873, \"Denmark\", 2019, \"Human Capital\"], [13.5395, \"Ireland\", 2019, \"Human Capital\"]], \"hovertemplate\": \"<b>%{hovertext}</b><br><br><extra></extra>\", \"hovertext\": [15.4998, 11.5829, 11.1238, 13.6077, 8.007060000000001, 12.4039, 7.12805, 13.9133, 10.1114, 17.9074, 15.6117, 13.7622, 11.2026, 8.80688, 15.4052, 14.3533, 7.77146, 10.5455, 10.5298, 11.9732, 11.705, 19.3848, 8.1871, 8.66126, 9.2114, 11.0483, 11.7536, 15.2873, 13.5395], \"ids\": [\"Netherlands\", \"Slovenia\", \"Spain\", \"Deutschland\", \"Italy\", \"Belgium\", \"Bulgaria\", \"Austria\", \"Latvia\", \"Sweden\", \"Estonia\", \"Malta\", \"Czech Rep.\", \"Portugal\", \"United Kingdom\", \"Luxembourg\", \"Romania\", \"Lithuania\", \"Hungary\", \"Europe\", \"Croatia\", \"Finland\", \"Greece\", \"Cyprus\", \"Poland\", \"Slovakia\", \"France\", \"Denmark\", \"Ireland\"], \"legendgroup\": \"Human Capital\", \"marker\": {\"color\": \"#41AB5D\"}, \"name\": \"Human Capital\", \"offsetgroup\": \"Human Capital\", \"orientation\": \"v\", \"showlegend\": true, \"textposition\": \"auto\", \"x\": [\"Netherlands\", \"Slovenia\", \"Spain\", \"Deutschland\", \"Italy\", \"Belgium\", \"Bulgaria\", \"Austria\", \"Latvia\", \"Sweden\", \"Estonia\", \"Malta\", \"Czech Rep.\", \"Portugal\", \"United Kingdom\", \"Luxembourg\", \"Romania\", \"Lithuania\", \"Hungary\", \"Europe\", \"Croatia\", \"Finland\", \"Greece\", \"Cyprus\", \"Poland\", \"Slovakia\", \"France\", \"Denmark\", \"Ireland\"], \"xaxis\": \"x\", \"y\": [15.4998, 11.5829, 11.1238, 13.6077, 8.007060000000001, 12.4039, 7.12805, 13.9133, 10.1114, 17.9074, 15.6117, 13.7622, 11.2026, 8.80688, 15.4052, 14.3533, 7.77146, 10.5455, 10.5298, 11.9732, 11.705, 19.3848, 8.1871, 8.66126, 9.2114, 11.0483, 11.7536, 15.2873, 13.5395], \"yaxis\": \"y\", \"type\": \"bar\"}, {\"alignmentgroup\": \"True\", \"customdata\": [[9.46973, \"Estonia\", 2019, \"Use of Internet Services\"], [7.48538, \"France\", 2019, \"Use of Internet Services\"], [5.50705, \"Bulgaria\", 2019, \"Use of Internet Services\"], [7.88162, \"Austria\", 2019, \"Use of Internet Services\"], [8.33084, \"Lithuania\", 2019, \"Use of Internet Services\"], [6.869160000000001, \"Poland\", 2019, \"Use of Internet Services\"], [7.46846, \"Slovenia\", 2019, \"Use of Internet Services\"], [8.00464, \"Croatia\", 2019, \"Use of Internet Services\"], [8.31115, \"Ireland\", 2019, \"Use of Internet Services\"], [10.7724, \"Finland\", 2019, \"Use of Internet Services\"], [7.68998, \"Czech Rep.\", 2019, \"Use of Internet Services\"], [7.90497, \"Latvia\", 2019, \"Use of Internet Services\"], [8.26719, \"Spain\", 2019, \"Use of Internet Services\"], [10.995999999999999, \"Netherlands\", 2019, \"Use of Internet Services\"], [11.2871, \"Denmark\", 2019, \"Use of Internet Services\"], [6.25246, \"Italy\", 2019, \"Use of Internet Services\"], [9.04382, \"Deutschland\", 2019, \"Use of Internet Services\"], [9.35361, \"Malta\", 2019, \"Use of Internet Services\"], [7.696789999999999, \"Slovakia\", 2019, \"Use of Internet Services\"], [7.67852, \"Hungary\", 2019, \"Use of Internet Services\"], [5.244759999999999, \"Romania\", 2019, \"Use of Internet Services\"], [8.42495, \"Belgium\", 2019, \"Use of Internet Services\"], [6.7854600000000005, \"Portugal\", 2019, \"Use of Internet Services\"], [11.2513, \"Sweden\", 2019, \"Use of Internet Services\"], [8.632719999999999, \"Luxembourg\", 2019, \"Use of Internet Services\"], [10.3452, \"United Kingdom\", 2019, \"Use of Internet Services\"], [7.59444, \"Cyprus\", 2019, \"Use of Internet Services\"], [6.49859, \"Greece\", 2019, \"Use of Internet Services\"], [8.25158, \"Europe\", 2019, \"Use of Internet Services\"]], \"hovertemplate\": \"<b>%{hovertext}</b><br><br><extra></extra>\", \"hovertext\": [9.46973, 7.48538, 5.50705, 7.88162, 8.33084, 6.869160000000001, 7.46846, 8.00464, 8.31115, 10.7724, 7.68998, 7.90497, 8.26719, 10.995999999999999, 11.2871, 6.25246, 9.04382, 9.35361, 7.696789999999999, 7.67852, 5.244759999999999, 8.42495, 6.7854600000000005, 11.2513, 8.632719999999999, 10.3452, 7.59444, 6.49859, 8.25158], \"ids\": [\"Estonia\", \"France\", \"Bulgaria\", \"Austria\", \"Lithuania\", \"Poland\", \"Slovenia\", \"Croatia\", \"Ireland\", \"Finland\", \"Czech Rep.\", \"Latvia\", \"Spain\", \"Netherlands\", \"Denmark\", \"Italy\", \"Deutschland\", \"Malta\", \"Slovakia\", \"Hungary\", \"Romania\", \"Belgium\", \"Portugal\", \"Sweden\", \"Luxembourg\", \"United Kingdom\", \"Cyprus\", \"Greece\", \"Europe\"], \"legendgroup\": \"Use of Internet Services\", \"marker\": {\"color\": \"#4292C6\"}, \"name\": \"Use of Internet Services\", \"offsetgroup\": \"Use of Internet Services\", \"orientation\": \"v\", \"showlegend\": true, \"textposition\": \"auto\", \"x\": [\"Estonia\", \"France\", \"Bulgaria\", \"Austria\", \"Lithuania\", \"Poland\", \"Slovenia\", \"Croatia\", \"Ireland\", \"Finland\", \"Czech Rep.\", \"Latvia\", \"Spain\", \"Netherlands\", \"Denmark\", \"Italy\", \"Deutschland\", \"Malta\", \"Slovakia\", \"Hungary\", \"Romania\", \"Belgium\", \"Portugal\", \"Sweden\", \"Luxembourg\", \"United Kingdom\", \"Cyprus\", \"Greece\", \"Europe\"], \"xaxis\": \"x\", \"y\": [9.46973, 7.48538, 5.50705, 7.88162, 8.33084, 6.869160000000001, 7.46846, 8.00464, 8.31115, 10.7724, 7.68998, 7.90497, 8.26719, 10.995999999999999, 11.2871, 6.25246, 9.04382, 9.35361, 7.696789999999999, 7.67852, 5.244759999999999, 8.42495, 6.7854600000000005, 11.2513, 8.632719999999999, 10.3452, 7.59444, 6.49859, 8.25158], \"yaxis\": \"y\", \"type\": \"bar\"}, {\"alignmentgroup\": \"True\", \"customdata\": [[4.26419, \"Romania\", 2019, \"Integration of Digital Technology\"], [12.0295, \"Finland\", 2019, \"Integration of Digital Technology\"], [9.92234, \"Malta\", 2019, \"Integration of Digital Technology\"], [7.48482, \"Luxembourg\", 2019, \"Integration of Digital Technology\"], [7.96787, \"Estonia\", 2019, \"Integration of Digital Technology\"], [4.94057, \"Latvia\", 2019, \"Integration of Digital Technology\"], [8.54251, \"Czech Rep.\", 2019, \"Integration of Digital Technology\"], [4.70142, \"Poland\", 2019, \"Integration of Digital Technology\"], [12.28, \"Belgium\", 2019, \"Integration of Digital Technology\"], [10.4031, \"United Kingdom\", 2019, \"Integration of Digital Technology\"], [11.5879, \"Sweden\", 2019, \"Integration of Digital Technology\"], [8.28075, \"Portugal\", 2019, \"Integration of Digital Technology\"], [6.70158, \"Cyprus\", 2019, \"Integration of Digital Technology\"], [6.04896, \"Greece\", 2019, \"Integration of Digital Technology\"], [6.612419999999999, \"Slovakia\", 2019, \"Integration of Digital Technology\"], [9.51275, \"Lithuania\", 2019, \"Integration of Digital Technology\"], [8.256739999999999, \"Spain\", 2019, \"Integration of Digital Technology\"], [7.82335, \"Slovenia\", 2019, \"Integration of Digital Technology\"], [12.5225, \"Netherlands\", 2019, \"Integration of Digital Technology\"], [7.8313, \"Deutschland\", 2019, \"Integration of Digital Technology\"], [6.95489, \"Austria\", 2019, \"Integration of Digital Technology\"], [7.95291, \"Europe\", 2019, \"Integration of Digital Technology\"], [4.9701900000000006, \"Hungary\", 2019, \"Integration of Digital Technology\"], [7.705419999999999, \"Croatia\", 2019, \"Integration of Digital Technology\"], [6.00481, \"Italy\", 2019, \"Integration of Digital Technology\"], [3.37848, \"Bulgaria\", 2019, \"Integration of Digital Technology\"], [13.8237, \"Ireland\", 2019, \"Integration of Digital Technology\"], [12.2375, \"Denmark\", 2019, \"Integration of Digital Technology\"], [8.15121, \"France\", 2019, \"Integration of Digital Technology\"]], \"hovertemplate\": \"<b>%{hovertext}</b><br><br><extra></extra>\", \"hovertext\": [4.26419, 12.0295, 9.92234, 7.48482, 7.96787, 4.94057, 8.54251, 4.70142, 12.28, 10.4031, 11.5879, 8.28075, 6.70158, 6.04896, 6.612419999999999, 9.51275, 8.256739999999999, 7.82335, 12.5225, 7.8313, 6.95489, 7.95291, 4.9701900000000006, 7.705419999999999, 6.00481, 3.37848, 13.8237, 12.2375, 8.15121], \"ids\": [\"Romania\", \"Finland\", \"Malta\", \"Luxembourg\", \"Estonia\", \"Latvia\", \"Czech Rep.\", \"Poland\", \"Belgium\", \"United Kingdom\", \"Sweden\", \"Portugal\", \"Cyprus\", \"Greece\", \"Slovakia\", \"Lithuania\", \"Spain\", \"Slovenia\", \"Netherlands\", \"Deutschland\", \"Austria\", \"Europe\", \"Hungary\", \"Croatia\", \"Italy\", \"Bulgaria\", \"Ireland\", \"Denmark\", \"France\"], \"legendgroup\": \"Integration of Digital Technology\", \"marker\": {\"color\": \"#DD3497\"}, \"name\": \"Integration of Digital Technology\", \"offsetgroup\": \"Integration of Digital Technology\", \"orientation\": \"v\", \"showlegend\": true, \"textposition\": \"auto\", \"x\": [\"Romania\", \"Finland\", \"Malta\", \"Luxembourg\", \"Estonia\", \"Latvia\", \"Czech Rep.\", \"Poland\", \"Belgium\", \"United Kingdom\", \"Sweden\", \"Portugal\", \"Cyprus\", \"Greece\", \"Slovakia\", \"Lithuania\", \"Spain\", \"Slovenia\", \"Netherlands\", \"Deutschland\", \"Austria\", \"Europe\", \"Hungary\", \"Croatia\", \"Italy\", \"Bulgaria\", \"Ireland\", \"Denmark\", \"France\"], \"xaxis\": \"x\", \"y\": [4.26419, 12.0295, 9.92234, 7.48482, 7.96787, 4.94057, 8.54251, 4.70142, 12.28, 10.4031, 11.5879, 8.28075, 6.70158, 6.04896, 6.612419999999999, 9.51275, 8.256739999999999, 7.82335, 12.5225, 7.8313, 6.95489, 7.95291, 4.9701900000000006, 7.705419999999999, 6.00481, 3.37848, 13.8237, 12.2375, 8.15121], \"yaxis\": \"y\", \"type\": \"bar\"}], \"name\": \"2019\"}, {\"data\": [{\"alignmentgroup\": \"True\", \"customdata\": [[16.4551, \"Denmark\", 2020, \"Connectivity\"], [10.2882, \"Croatia\", 2020, \"Connectivity\"], [13.4802, \"Portugal\", 2020, \"Connectivity\"], [12.5146, \"Europe\", 2020, \"Connectivity\"], [9.6238, \"Bulgaria\", 2020, \"Connectivity\"], [12.2205, \"Lithuania\", 2020, \"Connectivity\"], [11.2203, \"Czech Rep.\", 2020, \"Connectivity\"], [15.8372, \"Luxembourg\", 2020, \"Connectivity\"], [14.7929, \"Finland\", 2020, \"Connectivity\"], [12.4966, \"Italy\", 2020, \"Connectivity\"], [14.6796, \"Malta\", 2020, \"Connectivity\"], [12.964, \"Estonia\", 2020, \"Connectivity\"], [11.7886, \"Austria\", 2020, \"Connectivity\"], [13.0068, \"Belgium\", 2020, \"Connectivity\"], [12.8358, \"Poland\", 2020, \"Connectivity\"], [11.4228, \"Ireland\", 2020, \"Connectivity\"], [14.9468, \"Hungary\", 2020, \"Connectivity\"], [12.2045, \"United Kingdom\", 2020, \"Connectivity\"], [12.460999999999999, \"France\", 2020, \"Connectivity\"], [16.0923, \"Sweden\", 2020, \"Connectivity\"], [15.1985, \"Spain\", 2020, \"Connectivity\"], [14.0463, \"Romania\", 2020, \"Connectivity\"], [15.4403, \"Latvia\", 2020, \"Connectivity\"], [14.8489, \"Deutschland\", 2020, \"Connectivity\"], [15.0807, \"Netherlands\", 2020, \"Connectivity\"], [12.5581, \"Slovenia\", 2020, \"Connectivity\"], [11.8659, \"Slovakia\", 2020, \"Connectivity\"], [8.34223, \"Greece\", 2020, \"Connectivity\"], [9.614339999999999, \"Cyprus\", 2020, \"Connectivity\"]], \"hovertemplate\": \"<b>%{hovertext}</b><br><br><extra></extra>\", \"hovertext\": [16.4551, 10.2882, 13.4802, 12.5146, 9.6238, 12.2205, 11.2203, 15.8372, 14.7929, 12.4966, 14.6796, 12.964, 11.7886, 13.0068, 12.8358, 11.4228, 14.9468, 12.2045, 12.460999999999999, 16.0923, 15.1985, 14.0463, 15.4403, 14.8489, 15.0807, 12.5581, 11.8659, 8.34223, 9.614339999999999], \"ids\": [\"Denmark\", \"Croatia\", \"Portugal\", \"Europe\", \"Bulgaria\", \"Lithuania\", \"Czech Rep.\", \"Luxembourg\", \"Finland\", \"Italy\", \"Malta\", \"Estonia\", \"Austria\", \"Belgium\", \"Poland\", \"Ireland\", \"Hungary\", \"United Kingdom\", \"France\", \"Sweden\", \"Spain\", \"Romania\", \"Latvia\", \"Deutschland\", \"Netherlands\", \"Slovenia\", \"Slovakia\", \"Greece\", \"Cyprus\"], \"legendgroup\": \"Connectivity\", \"marker\": {\"color\": \"#F16913\"}, \"name\": \"Connectivity\", \"offsetgroup\": \"Connectivity\", \"orientation\": \"v\", \"showlegend\": true, \"textposition\": \"auto\", \"x\": [\"Denmark\", \"Croatia\", \"Portugal\", \"Europe\", \"Bulgaria\", \"Lithuania\", \"Czech Rep.\", \"Luxembourg\", \"Finland\", \"Italy\", \"Malta\", \"Estonia\", \"Austria\", \"Belgium\", \"Poland\", \"Ireland\", \"Hungary\", \"United Kingdom\", \"France\", \"Sweden\", \"Spain\", \"Romania\", \"Latvia\", \"Deutschland\", \"Netherlands\", \"Slovenia\", \"Slovakia\", \"Greece\", \"Cyprus\"], \"xaxis\": \"x\", \"y\": [16.4551, 10.2882, 13.4802, 12.5146, 9.6238, 12.2205, 11.2203, 15.8372, 14.7929, 12.4966, 14.6796, 12.964, 11.7886, 13.0068, 12.8358, 11.4228, 14.9468, 12.2045, 12.460999999999999, 16.0923, 15.1985, 14.0463, 15.4403, 14.8489, 15.0807, 12.5581, 11.8659, 8.34223, 9.614339999999999], \"yaxis\": \"y\", \"type\": \"bar\"}, {\"alignmentgroup\": \"True\", \"customdata\": [[12.7595, \"Latvia\", 2020, \"Digital Public Services\"], [9.35661, \"Czech Rep.\", 2020, \"Digital Public Services\"], [10.8, \"Europe\", 2020, \"Digital Public Services\"], [12.1441, \"Netherlands\", 2020, \"Digital Public Services\"], [10.7597, \"Belgium\", 2020, \"Digital Public Services\"], [11.7193, \"Malta\", 2020, \"Digital Public Services\"], [10.3433, \"Cyprus\", 2020, \"Digital Public Services\"], [9.26416, \"Bulgaria\", 2020, \"Digital Public Services\"], [13.4001, \"Estonia\", 2020, \"Digital Public Services\"], [11.0612, \"Luxembourg\", 2020, \"Digital Public Services\"], [7.26127, \"Romania\", 2020, \"Digital Public Services\"], [8.36315, \"Croatia\", 2020, \"Digital Public Services\"], [10.1218, \"Italy\", 2020, \"Digital Public Services\"], [12.0943, \"Ireland\", 2020, \"Digital Public Services\"], [10.1111, \"Poland\", 2020, \"Digital Public Services\"], [8.34183, \"Slovakia\", 2020, \"Digital Public Services\"], [13.0695, \"Denmark\", 2020, \"Digital Public Services\"], [13.0492, \"Finland\", 2020, \"Digital Public Services\"], [12.2169, \"Lithuania\", 2020, \"Digital Public Services\"], [10.6132, \"Slovenia\", 2020, \"Digital Public Services\"], [8.66502, \"Hungary\", 2020, \"Digital Public Services\"], [13.0913, \"Spain\", 2020, \"Digital Public Services\"], [9.95575, \"Deutschland\", 2020, \"Digital Public Services\"], [11.5063, \"France\", 2020, \"Digital Public Services\"], [11.2681, \"Portugal\", 2020, \"Digital Public Services\"], [7.72501, \"Greece\", 2020, \"Digital Public Services\"], [12.1253, \"Austria\", 2020, \"Digital Public Services\"], [11.9012, \"Sweden\", 2020, \"Digital Public Services\"], [10.6158, \"United Kingdom\", 2020, \"Digital Public Services\"]], \"hovertemplate\": \"<b>%{hovertext}</b><br><br><extra></extra>\", \"hovertext\": [12.7595, 9.35661, 10.8, 12.1441, 10.7597, 11.7193, 10.3433, 9.26416, 13.4001, 11.0612, 7.26127, 8.36315, 10.1218, 12.0943, 10.1111, 8.34183, 13.0695, 13.0492, 12.2169, 10.6132, 8.66502, 13.0913, 9.95575, 11.5063, 11.2681, 7.72501, 12.1253, 11.9012, 10.6158], \"ids\": [\"Latvia\", \"Czech Rep.\", \"Europe\", \"Netherlands\", \"Belgium\", \"Malta\", \"Cyprus\", \"Bulgaria\", \"Estonia\", \"Luxembourg\", \"Romania\", \"Croatia\", \"Italy\", \"Ireland\", \"Poland\", \"Slovakia\", \"Denmark\", \"Finland\", \"Lithuania\", \"Slovenia\", \"Hungary\", \"Spain\", \"Deutschland\", \"France\", \"Portugal\", \"Greece\", \"Austria\", \"Sweden\", \"United Kingdom\"], \"legendgroup\": \"Digital Public Services\", \"marker\": {\"color\": \"#EF3B2C\"}, \"name\": \"Digital Public Services\", \"offsetgroup\": \"Digital Public Services\", \"orientation\": \"v\", \"showlegend\": true, \"textposition\": \"auto\", \"x\": [\"Latvia\", \"Czech Rep.\", \"Europe\", \"Netherlands\", \"Belgium\", \"Malta\", \"Cyprus\", \"Bulgaria\", \"Estonia\", \"Luxembourg\", \"Romania\", \"Croatia\", \"Italy\", \"Ireland\", \"Poland\", \"Slovakia\", \"Denmark\", \"Finland\", \"Lithuania\", \"Slovenia\", \"Hungary\", \"Spain\", \"Deutschland\", \"France\", \"Portugal\", \"Greece\", \"Austria\", \"Sweden\", \"United Kingdom\"], \"xaxis\": \"x\", \"y\": [12.7595, 9.35661, 10.8, 12.1441, 10.7597, 11.7193, 10.3433, 9.26416, 13.4001, 11.0612, 7.26127, 8.36315, 10.1218, 12.0943, 10.1111, 8.34183, 13.0695, 13.0492, 12.2169, 10.6132, 8.66502, 13.0913, 9.95575, 11.5063, 11.2681, 7.72501, 12.1253, 11.9012, 10.6158], \"yaxis\": \"y\", \"type\": \"bar\"}, {\"alignmentgroup\": \"True\", \"customdata\": [[14.1047, \"Deutschland\", 2020, \"Human Capital\"], [16.0404, \"Netherlands\", 2020, \"Human Capital\"], [12.0872, \"Slovenia\", 2020, \"Human Capital\"], [11.8895, \"Spain\", 2020, \"Human Capital\"], [11.8577, \"France\", 2020, \"Human Capital\"], [9.44128, \"Portugal\", 2020, \"Human Capital\"], [19.6105, \"Finland\", 2020, \"Human Capital\"], [12.2886, \"Croatia\", 2020, \"Human Capital\"], [16.6647, \"Estonia\", 2020, \"Human Capital\"], [15.4398, \"Malta\", 2020, \"Human Capital\"], [17.930999999999997, \"Sweden\", 2020, \"Human Capital\"], [12.3224, \"Europe\", 2020, \"Human Capital\"], [8.69778, \"Greece\", 2020, \"Human Capital\"], [10.4588, \"Hungary\", 2020, \"Human Capital\"], [8.113999999999999, \"Italy\", 2020, \"Human Capital\"], [8.75522, \"Latvia\", 2020, \"Human Capital\"], [8.28947, \"Romania\", 2020, \"Human Capital\"], [12.161, \"Czech Rep.\", 2020, \"Human Capital\"], [14.1825, \"Austria\", 2020, \"Human Capital\"], [10.9577, \"Lithuania\", 2020, \"Human Capital\"], [8.950660000000001, \"Cyprus\", 2020, \"Human Capital\"], [10.4517, \"Slovakia\", 2020, \"Human Capital\"], [14.5546, \"Luxembourg\", 2020, \"Human Capital\"], [12.5969, \"Belgium\", 2020, \"Human Capital\"], [15.751, \"United Kingdom\", 2020, \"Human Capital\"], [9.31793, \"Poland\", 2020, \"Human Capital\"], [15.3191, \"Denmark\", 2020, \"Human Capital\"], [8.4789, \"Bulgaria\", 2020, \"Human Capital\"], [14.0997, \"Ireland\", 2020, \"Human Capital\"]], \"hovertemplate\": \"<b>%{hovertext}</b><br><br><extra></extra>\", \"hovertext\": [14.1047, 16.0404, 12.0872, 11.8895, 11.8577, 9.44128, 19.6105, 12.2886, 16.6647, 15.4398, 17.930999999999997, 12.3224, 8.69778, 10.4588, 8.113999999999999, 8.75522, 8.28947, 12.161, 14.1825, 10.9577, 8.950660000000001, 10.4517, 14.5546, 12.5969, 15.751, 9.31793, 15.3191, 8.4789, 14.0997], \"ids\": [\"Deutschland\", \"Netherlands\", \"Slovenia\", \"Spain\", \"France\", \"Portugal\", \"Finland\", \"Croatia\", \"Estonia\", \"Malta\", \"Sweden\", \"Europe\", \"Greece\", \"Hungary\", \"Italy\", \"Latvia\", \"Romania\", \"Czech Rep.\", \"Austria\", \"Lithuania\", \"Cyprus\", \"Slovakia\", \"Luxembourg\", \"Belgium\", \"United Kingdom\", \"Poland\", \"Denmark\", \"Bulgaria\", \"Ireland\"], \"legendgroup\": \"Human Capital\", \"marker\": {\"color\": \"#41AB5D\"}, \"name\": \"Human Capital\", \"offsetgroup\": \"Human Capital\", \"orientation\": \"v\", \"showlegend\": true, \"textposition\": \"auto\", \"x\": [\"Deutschland\", \"Netherlands\", \"Slovenia\", \"Spain\", \"France\", \"Portugal\", \"Finland\", \"Croatia\", \"Estonia\", \"Malta\", \"Sweden\", \"Europe\", \"Greece\", \"Hungary\", \"Italy\", \"Latvia\", \"Romania\", \"Czech Rep.\", \"Austria\", \"Lithuania\", \"Cyprus\", \"Slovakia\", \"Luxembourg\", \"Belgium\", \"United Kingdom\", \"Poland\", \"Denmark\", \"Bulgaria\", \"Ireland\"], \"xaxis\": \"x\", \"y\": [14.1047, 16.0404, 12.0872, 11.8895, 11.8577, 9.44128, 19.6105, 12.2886, 16.6647, 15.4398, 17.930999999999997, 12.3224, 8.69778, 10.4588, 8.113999999999999, 8.75522, 8.28947, 12.161, 14.1825, 10.9577, 8.950660000000001, 10.4517, 14.5546, 12.5969, 15.751, 9.31793, 15.3191, 8.4789, 14.0997], \"yaxis\": \"y\", \"type\": \"bar\"}, {\"alignmentgroup\": \"True\", \"customdata\": [[8.102960000000001, \"Austria\", 2020, \"Use of Internet Services\"], [8.12155, \"Czech Rep.\", 2020, \"Use of Internet Services\"], [8.09762, \"Latvia\", 2020, \"Use of Internet Services\"], [7.4458899999999995, \"Poland\", 2020, \"Use of Internet Services\"], [5.4973, \"Bulgaria\", 2020, \"Use of Internet Services\"], [10.9968, \"United Kingdom\", 2020, \"Use of Internet Services\"], [8.827630000000001, \"Luxembourg\", 2020, \"Use of Internet Services\"], [8.00468, \"Slovakia\", 2020, \"Use of Internet Services\"], [5.38408, \"Romania\", 2020, \"Use of Internet Services\"], [9.31329, \"Ireland\", 2020, \"Use of Internet Services\"], [9.812289999999999, \"Estonia\", 2020, \"Use of Internet Services\"], [8.32179, \"Croatia\", 2020, \"Use of Internet Services\"], [8.59822, \"Lithuania\", 2020, \"Use of Internet Services\"], [7.75714, \"Slovenia\", 2020, \"Use of Internet Services\"], [11.4512, \"Finland\", 2020, \"Use of Internet Services\"], [7.95892, \"France\", 2020, \"Use of Internet Services\"], [6.67212, \"Italy\", 2020, \"Use of Internet Services\"], [8.384780000000001, \"Hungary\", 2020, \"Use of Internet Services\"], [9.23478, \"Deutschland\", 2020, \"Use of Internet Services\"], [8.17172, \"Cyprus\", 2020, \"Use of Internet Services\"], [11.273, \"Denmark\", 2020, \"Use of Internet Services\"], [11.2805, \"Netherlands\", 2020, \"Use of Internet Services\"], [9.11638, \"Spain\", 2020, \"Use of Internet Services\"], [7.213239999999999, \"Portugal\", 2020, \"Use of Internet Services\"], [9.17408, \"Belgium\", 2020, \"Use of Internet Services\"], [11.3931, \"Sweden\", 2020, \"Use of Internet Services\"], [6.91335, \"Greece\", 2020, \"Use of Internet Services\"], [8.70398, \"Europe\", 2020, \"Use of Internet Services\"], [9.88537, \"Malta\", 2020, \"Use of Internet Services\"]], \"hovertemplate\": \"<b>%{hovertext}</b><br><br><extra></extra>\", \"hovertext\": [8.102960000000001, 8.12155, 8.09762, 7.4458899999999995, 5.4973, 10.9968, 8.827630000000001, 8.00468, 5.38408, 9.31329, 9.812289999999999, 8.32179, 8.59822, 7.75714, 11.4512, 7.95892, 6.67212, 8.384780000000001, 9.23478, 8.17172, 11.273, 11.2805, 9.11638, 7.213239999999999, 9.17408, 11.3931, 6.91335, 8.70398, 9.88537], \"ids\": [\"Austria\", \"Czech Rep.\", \"Latvia\", \"Poland\", \"Bulgaria\", \"United Kingdom\", \"Luxembourg\", \"Slovakia\", \"Romania\", \"Ireland\", \"Estonia\", \"Croatia\", \"Lithuania\", \"Slovenia\", \"Finland\", \"France\", \"Italy\", \"Hungary\", \"Deutschland\", \"Cyprus\", \"Denmark\", \"Netherlands\", \"Spain\", \"Portugal\", \"Belgium\", \"Sweden\", \"Greece\", \"Europe\", \"Malta\"], \"legendgroup\": \"Use of Internet Services\", \"marker\": {\"color\": \"#4292C6\"}, \"name\": \"Use of Internet Services\", \"offsetgroup\": \"Use of Internet Services\", \"orientation\": \"v\", \"showlegend\": true, \"textposition\": \"auto\", \"x\": [\"Austria\", \"Czech Rep.\", \"Latvia\", \"Poland\", \"Bulgaria\", \"United Kingdom\", \"Luxembourg\", \"Slovakia\", \"Romania\", \"Ireland\", \"Estonia\", \"Croatia\", \"Lithuania\", \"Slovenia\", \"Finland\", \"France\", \"Italy\", \"Hungary\", \"Deutschland\", \"Cyprus\", \"Denmark\", \"Netherlands\", \"Spain\", \"Portugal\", \"Belgium\", \"Sweden\", \"Greece\", \"Europe\", \"Malta\"], \"xaxis\": \"x\", \"y\": [8.102960000000001, 8.12155, 8.09762, 7.4458899999999995, 5.4973, 10.9968, 8.827630000000001, 8.00468, 5.38408, 9.31329, 9.812289999999999, 8.32179, 8.59822, 7.75714, 11.4512, 7.95892, 6.67212, 8.384780000000001, 9.23478, 8.17172, 11.273, 11.2805, 9.11638, 7.213239999999999, 9.17408, 11.3931, 6.91335, 8.70398, 9.88537], \"yaxis\": \"y\", \"type\": \"bar\"}, {\"alignmentgroup\": \"True\", \"customdata\": [[13.1492, \"Netherlands\", 2020, \"Integration of Digital Technology\"], [13.1739, \"Belgium\", 2020, \"Integration of Digital Technology\"], [8.18928, \"Slovenia\", 2020, \"Integration of Digital Technology\"], [14.8641, \"Ireland\", 2020, \"Integration of Digital Technology\"], [5.24851, \"Poland\", 2020, \"Integration of Digital Technology\"], [10.9807, \"Malta\", 2020, \"Integration of Digital Technology\"], [8.22989, \"Estonia\", 2020, \"Integration of Digital Technology\"], [6.51409, \"Slovakia\", 2020, \"Integration of Digital Technology\"], [12.4269, \"Sweden\", 2020, \"Integration of Digital Technology\"], [7.90631, \"Deutschland\", 2020, \"Integration of Digital Technology\"], [7.641939999999999, \"Luxembourg\", 2020, \"Integration of Digital Technology\"], [8.17436, \"Portugal\", 2020, \"Integration of Digital Technology\"], [8.27422, \"Europe\", 2020, \"Integration of Digital Technology\"], [8.115160000000001, \"Austria\", 2020, \"Integration of Digital Technology\"], [3.57291, \"Bulgaria\", 2020, \"Integration of Digital Technology\"], [5.63917, \"Greece\", 2020, \"Integration of Digital Technology\"], [9.91893, \"Czech Rep.\", 2020, \"Integration of Digital Technology\"], [4.98538, \"Romania\", 2020, \"Integration of Digital Technology\"], [5.66108, \"Latvia\", 2020, \"Integration of Digital Technology\"], [13.0295, \"Denmark\", 2020, \"Integration of Digital Technology\"], [8.40954, \"France\", 2020, \"Integration of Digital Technology\"], [8.24311, \"Spain\", 2020, \"Integration of Digital Technology\"], [13.409, \"Finland\", 2020, \"Integration of Digital Technology\"], [6.89687, \"Cyprus\", 2020, \"Integration of Digital Technology\"], [6.245080000000001, \"Italy\", 2020, \"Integration of Digital Technology\"], [8.29335, \"Croatia\", 2020, \"Integration of Digital Technology\"], [5.06139, \"Hungary\", 2020, \"Integration of Digital Technology\"], [9.893839999999999, \"Lithuania\", 2020, \"Integration of Digital Technology\"], [10.8377, \"United Kingdom\", 2020, \"Integration of Digital Technology\"]], \"hovertemplate\": \"<b>%{hovertext}</b><br><br><extra></extra>\", \"hovertext\": [13.1492, 13.1739, 8.18928, 14.8641, 5.24851, 10.9807, 8.22989, 6.51409, 12.4269, 7.90631, 7.641939999999999, 8.17436, 8.27422, 8.115160000000001, 3.57291, 5.63917, 9.91893, 4.98538, 5.66108, 13.0295, 8.40954, 8.24311, 13.409, 6.89687, 6.245080000000001, 8.29335, 5.06139, 9.893839999999999, 10.8377], \"ids\": [\"Netherlands\", \"Belgium\", \"Slovenia\", \"Ireland\", \"Poland\", \"Malta\", \"Estonia\", \"Slovakia\", \"Sweden\", \"Deutschland\", \"Luxembourg\", \"Portugal\", \"Europe\", \"Austria\", \"Bulgaria\", \"Greece\", \"Czech Rep.\", \"Romania\", \"Latvia\", \"Denmark\", \"France\", \"Spain\", \"Finland\", \"Cyprus\", \"Italy\", \"Croatia\", \"Hungary\", \"Lithuania\", \"United Kingdom\"], \"legendgroup\": \"Integration of Digital Technology\", \"marker\": {\"color\": \"#DD3497\"}, \"name\": \"Integration of Digital Technology\", \"offsetgroup\": \"Integration of Digital Technology\", \"orientation\": \"v\", \"showlegend\": true, \"textposition\": \"auto\", \"x\": [\"Netherlands\", \"Belgium\", \"Slovenia\", \"Ireland\", \"Poland\", \"Malta\", \"Estonia\", \"Slovakia\", \"Sweden\", \"Deutschland\", \"Luxembourg\", \"Portugal\", \"Europe\", \"Austria\", \"Bulgaria\", \"Greece\", \"Czech Rep.\", \"Romania\", \"Latvia\", \"Denmark\", \"France\", \"Spain\", \"Finland\", \"Cyprus\", \"Italy\", \"Croatia\", \"Hungary\", \"Lithuania\", \"United Kingdom\"], \"xaxis\": \"x\", \"y\": [13.1492, 13.1739, 8.18928, 14.8641, 5.24851, 10.9807, 8.22989, 6.51409, 12.4269, 7.90631, 7.641939999999999, 8.17436, 8.27422, 8.115160000000001, 3.57291, 5.63917, 9.91893, 4.98538, 5.66108, 13.0295, 8.40954, 8.24311, 13.409, 6.89687, 6.245080000000001, 8.29335, 5.06139, 9.893839999999999, 10.8377], \"yaxis\": \"y\", \"type\": \"bar\"}], \"name\": \"2020\"}]);\n",
       "                        }).then(function(){\n",
       "                            \n",
       "var gd = document.getElementById('a8c2b674-780a-45e4-a2df-9cd2acffe970');\n",
       "var x = new MutationObserver(function (mutations, observer) {{\n",
       "        var display = window.getComputedStyle(gd).display;\n",
       "        if (!display || display === 'none') {{\n",
       "            console.log([gd, 'removed!']);\n",
       "            Plotly.purge(gd);\n",
       "            observer.disconnect();\n",
       "        }}\n",
       "}});\n",
       "\n",
       "// Listen for the removal of the full notebook cells\n",
       "var notebookContainer = gd.closest('#notebook-container');\n",
       "if (notebookContainer) {{\n",
       "    x.observe(notebookContainer, {childList: true});\n",
       "}}\n",
       "\n",
       "// Listen for the clearing of the current output cell\n",
       "var outputEl = gd.closest('.output');\n",
       "if (outputEl) {{\n",
       "    x.observe(outputEl, {childList: true});\n",
       "}}\n",
       "\n",
       "                        })\n",
       "                };\n",
       "                });\n",
       "            </script>\n",
       "        </div>"
      ]
     },
     "metadata": {},
     "output_type": "display_data"
    }
   ],
   "source": [
    "desi = desi.sort_values('time_period')\n",
    "\n",
    "fig = px.bar(desi, x=\"ref_area\", y=\"value\", animation_frame=\"time_period\",\n",
    "            color=\"breakdown\", range_y=[0,80], barmode = 'relative', animation_group = 'ref_area',\n",
    "            hover_name = 'value', \n",
    "            hover_data = {'value' : False, 'ref_area' : False, \"time_period\" : False, 'breakdown' : False },\n",
    "            color_discrete_sequence =['#F16913', '#EF3B2C', '#41AB5D', '#4292C6', '#DD3497']\n",
    "            )\n",
    "\n",
    "fig.update_layout(width = 1200, height = 600, title='Select a year and compare the countries',\n",
    "                  xaxis_title='Country',\n",
    "                  yaxis_title='Value',\n",
    "                  legend_title_text='',\n",
    "                  showlegend=True,\n",
    "                  xaxis={'categoryorder':'total descending', 'tickangle' : 60, 'showgrid':False},\n",
    "                  margin=dict(l=20, r=10, t=50, b=200), hovermode=\"x\", \n",
    "                  legend=dict(\n",
    "                            orientation=\"h\",\n",
    "                            yanchor=\"bottom\",\n",
    "                            y=0.9,\n",
    "                            xanchor=\"right\",\n",
    "                            x=0.99)\n",
    "                 )\n",
    "\n",
    "fig['layout']['sliders'][0]['pad']=dict(r= 40, t= 130)\n",
    "fig['layout']['sliders'][0]['currentvalue']['prefix']= 'Year: '\n",
    "fig['layout']['sliders'][0]['steps'][1]['args'][1]['redraw']= False\n",
    "\n",
    "# animation button\n",
    "#fig[\"layout\"].pop(\"updatemenus\") # optional, drop animation buttons\n",
    "fig['layout']['updatemenus'][0]['pad']=dict(r= 30, t= 150)\n",
    "fig.layout.updatemenus[0].buttons[0].args[1][\"frame\"][\"duration\"] = 2000\n",
    "fig.layout.updatemenus[0].buttons[0].args[1][\"frame\"][\"frame\"] = 200\n",
    "\n",
    "#fig.update_traces(hovertemplate='%{y}%', overwrite=True)\n",
    "#fig.for_each_trace(lambda trace: update_trace(trace))\n",
    "\n",
    "fig.show()"
   ]
  },
  {
   "cell_type": "code",
   "execution_count": 18,
   "metadata": {},
   "outputs": [],
   "source": [
    "fig.write_html(\"europe_barchart.html\", auto_play = False)"
   ]
  },
  {
   "cell_type": "code",
   "execution_count": null,
   "metadata": {},
   "outputs": [],
   "source": []
  }
 ],
 "metadata": {
  "kernelspec": {
   "display_name": "Python 3",
   "language": "python",
   "name": "python3"
  },
  "language_info": {
   "codemirror_mode": {
    "name": "ipython",
    "version": 3
   },
   "file_extension": ".py",
   "mimetype": "text/x-python",
   "name": "python",
   "nbconvert_exporter": "python",
   "pygments_lexer": "ipython3",
   "version": "3.7.7"
  }
 },
 "nbformat": 4,
 "nbformat_minor": 2
}
