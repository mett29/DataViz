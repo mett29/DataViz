{
 "cells": [
  {
   "cell_type": "markdown",
   "metadata": {},
   "source": [
    "# Europe"
   ]
  },
  {
   "cell_type": "markdown",
   "metadata": {},
   "source": [
    "### Import Libraries"
   ]
  },
  {
   "cell_type": "code",
   "execution_count": 1,
   "metadata": {},
   "outputs": [],
   "source": [
    "import pandas as pd\n",
    "import seaborn as sns\n",
    "import plotly.graph_objects as go\n",
    "from ipywidgets import widgets\n",
    "import numpy as np \n",
    "import seaborn as sns\n",
    "import geopandas as gpd\n",
    "import matplotlib.pyplot as plt\n",
    "from datetime import datetime\n",
    "from ipywidgets.embed import embed_minimal_html\n",
    "\n",
    "%matplotlib inline"
   ]
  },
  {
   "cell_type": "markdown",
   "metadata": {},
   "source": [
    "## Key indicators"
   ]
  },
  {
   "cell_type": "markdown",
   "metadata": {},
   "source": [
    "**Source: [https://digital-agenda-data.eu/](https://digital-agenda-data.eu/)**\n",
    "\n",
    "### Key indicators used:\n",
    "1) Broadband take-up and coverage\n",
    "- Standard fixed broadband coverage/availability (bb_scov)\n",
    "- NGA broadband coverage/availability (bb_ngacov)\n",
    "- Households with a broadband connection (h_broad)\n",
    "- Households with fixed broadband connection (h_bbfix)\n",
    "\n",
    "2) Broadband speeds and prices\n",
    "- Share of fixed broadband subscriptions >= 100 Mbps (bb_speed100)\n",
    "- Households with no access to Internet at home, because the costs are too high (all households) (h_xcost)\n",
    "\n",
    "3) Mobile market\n",
    "- 4G mobile broadband coverage (total) (mbb_ltecov)\n",
    "\n",
    "4) Internet usage\n",
    "- Households with access to the Internet at home (h_iacc)\n",
    "- Individuals who have never used the internet (all individuals) (i_iux)\n",
    "\n",
    "5) Take up of internet services (all individuals)\n",
    "- Using online banking (i_iubk)\n",
    "- Uploading self-created content to be shared (i_iuupl)\n",
    "- Participating in social networks, over the internet, last 3 months (i_iusnet)\n",
    "- Looking for a job or sending a job application (i_iujob)\n",
    "- Doing an online course (i_iuolc)\n",
    "- Taking part in on-line consultations or voting to define civic or political issues (i_iuvote)\n",
    "\n",
    "6) eGovernment\n",
    "- Individuals interacting online with public authorities, last 12 months (i_iugov12)\n",
    "\n",
    "7) Digital skills\n",
    "- Individuals with at least basic digital skills (i_dsk_bab)\n",
    "- Science and technology graduates (st_grad)\n",
    "\n",
    "8) ICT Specialists\n",
    "- Individuals who have obtained ICT skills through formal educational institutions (i_skedu)\n",
    "\n",
    "9) Security and privacy\n",
    "- Individuals caught a virus or other computer infection resulting in loss of information or time (i_secvir1)\n",
    "- Security concerns kept individual from ordering or buying goods or services for private use (i_sbgood)"
   ]
  },
  {
   "cell_type": "markdown",
   "metadata": {},
   "source": [
    "### Preprocessing"
   ]
  },
  {
   "cell_type": "code",
   "execution_count": null,
   "metadata": {},
   "outputs": [],
   "source": [
    "key_indicators = pd.read_csv(\"data/digital-agenda-scoreboard-key-indicators.csv\")\n",
    "# Drop useless columns\n",
    "key_indicators = key_indicators.drop(['observation', 'flag', 'note'], axis=1)\n",
    "# Filter out some indicators\n",
    "my_indicators = ['bb_scov', 'bb_ngacov', 'h_broad', 'h_bbfix', 'bb_speed100', 'h_xcost', 'mbb_ltecov', 'h_iacc', 'i_iux', 'i_iubk', 'i_iuupl', 'i_iusnet', 'i_iujob', 'i_iuolc', 'i_iuvote', 'i_iugov12', 'i_dsk_s_bab', 'i_skedu', 'i_secvir1', 'i_sbgood']\n",
    "key_indicators = key_indicators[key_indicators['indicator'].isin(my_indicators)]\n",
    "# Map the indicators' codes to the corresponding name\n",
    "indicators_mapping = {'bb_scov' : 'Standard fixed broadband coverage/availability',\n",
    "           \"bb_ngacov\" : 'NGA broadband coverage/availability',\n",
    "           'h_broad' : 'Households with a broadband connection',\n",
    "           'h_bbfix' : 'Households with fixed broadband connection',\n",
    "           'bb_speed100' : 'Share of fixed broadband subscriptions >= 100 Mbps',\n",
    "           'h_xcost' : 'Households with no access to Internet at home, because the costs are too high',\n",
    "           'mbb_ltecov' : '4G mobile broadband coverage',\n",
    "           'h_iacc' : 'Households with access to the Internet at home',\n",
    "           'i_iux' : 'Individuals who have never used the internet (all individuals)',\n",
    "           'i_iubk' : 'Using online banking',\n",
    "           'i_iuupl' : 'Uploading self-created content to be shared',\n",
    "           'i_iusnet' : 'Participating in social networks, over the internet, last 3 months',\n",
    "           'i_iujob' : 'Looking for a job or sending a job application',\n",
    "           'i_iuolc' : 'Doing an online course',\n",
    "           'i_iuvote' : 'Taking part in on-line consultations or voting to define civic or political issues',\n",
    "           'i_iugov12' : 'Individuals interacting online with public authorities, last 12 months',\n",
    "           'i_dsk_s_bab' : 'Individuals with at least basic digital skills in Software domain',\n",
    "           'i_skedu' : 'Individuals who have obtained ICT skills through formal educational institutions',\n",
    "           'i_secvir1' : 'Individuals caught a virus or other computer infection resulting in loss of information or time',\n",
    "           'i_sbgood' : 'Security concerns kept individual from ordering or buying goods or services for private use',\n",
    "          }\n",
    "key_indicators['indicator'] = key_indicators['indicator'].replace(indicators_mapping)\n",
    "\n",
    "    \n",
    "# Mapping between 'ref_area' and the name of the country\n",
    "countries_mapping =  { 'EE' : 'Estonia',\n",
    "                        'EL' : 'Greece',\n",
    "                        'ES' : 'Spain',\n",
    "                        'FI' : 'Finland',\n",
    "                        'FR' : 'France',\n",
    "                        'HR' : 'Croatia',\n",
    "                        'HU' : 'Hungary',\n",
    "                        'IE' : 'Ireland',\n",
    "                        'IS' : 'Iceland',\n",
    "                        'DE' : 'Deutschland',\n",
    "                        'CZ' : 'Czech Rep.',\n",
    "                        'DK' : 'Denmark',\n",
    "                        'IT' : 'Italy',\n",
    "                        'LT' : 'Lithuania',\n",
    "                        'LU' : 'Luxembourg',\n",
    "                        'LV' : 'Latvia',\n",
    "                        'MT' : 'Malta',\n",
    "                        'NL' : 'Netherlands',\n",
    "                        'NO' : 'Norway',\n",
    "                        'PT' : 'Portugal',\n",
    "                        'PL' : 'Poland',\n",
    "                        'EU' : 'Europe',\n",
    "                        'RO' : 'Romania',\n",
    "                        'SE' : 'Sweden',\n",
    "                        'SI' : 'Slovenia',\n",
    "                        'SK' : 'Slovakia',\n",
    "                        'UK' : 'United Kingdom',\n",
    "                        'AT' : 'Austria',\n",
    "                        'BE' : 'Belgium',\n",
    "                        'BG' : 'Bulgaria',\n",
    "                        'CY' : 'Cyprus',\n",
    "                        'CH' : 'Switzerland'\n",
    "                     }\n",
    "key_indicators['ref_area'] = key_indicators['ref_area'].replace(countries_mapping)\n",
    "\n",
    "# Drop the index column\n",
    "key_indicators.reset_index(drop=True, inplace=True)\n",
    "\n",
    "# In some cases the types in 'time_period' are mixed ==> cast all to strings \n",
    "key_indicators['time_period'] = key_indicators['time_period'].apply(lambda j: str(j))\n",
    "key_indicators['time_period'] = key_indicators['time_period'].apply(lambda j: j[:4])\n",
    "def convert_to_date(j):\n",
    "   if len(j.split('-')) == 1:\n",
    "      return str(datetime.strptime(j, '%Y'))\n",
    "   elif len(j.split('-')) == 2:\n",
    "      return str(datetime.strptime(j, '%Y-%m'))\n",
    "   else:\n",
    "      return str(datetime.strptime(j, '%Y-%m-%d'))\n",
    "# key_indicators['time_period'] = key_indicators['time_period'].apply(lambda j: convert_to_date(j))"
   ]
  },
  {
   "cell_type": "code",
   "execution_count": null,
   "metadata": {},
   "outputs": [],
   "source": [
    "labels = list(key_indicators['indicator'].unique())\n",
    "key_indicators.head() \n"
   ]
  },
  {
   "cell_type": "markdown",
   "metadata": {},
   "source": [
    "### Plot"
   ]
  },
  {
   "cell_type": "code",
   "execution_count": null,
   "metadata": {},
   "outputs": [],
   "source": [
    "#key_indicators['indicator'].unique()\n",
    "key_indicators['time_period'].unique()"
   ]
  },
  {
   "cell_type": "code",
   "execution_count": null,
   "metadata": {},
   "outputs": [],
   "source": [
    "countries_list = [country for country in countries_mapping.values()]\n",
    "\n",
    "for country in countries_list:\n",
    "        # Check if there are multiple breakdowns: if so, keep only the 'total' one\n",
    "        if len(key_indicators['breakdown'].unique()) > 1:\n",
    "            if len(key_indicators['unit_measure'].unique()) > 1:\n",
    "                key_indicators = key_indicators.loc[(key_indicators['breakdown'].str.contains('total')) & (key_indicators['unit_measure'] == 'pc_ind')]\n",
    "            else:\n",
    "                key_indicators = key_indicators.loc[(data['breakdown'].str.contains('total'))]\n",
    "                \n",
    "#key_indicators.loc[key_indicators['time_period'] == '2019'].to_csv('indicators.csv')"
   ]
  },
  {
   "cell_type": "code",
   "execution_count": null,
   "metadata": {},
   "outputs": [],
   "source": [
    "year1 = widgets.IntSlider(\n",
    "    value=2019,\n",
    "    min=2002,\n",
    "    max=2019,\n",
    "    step=1,\n",
    "    description='Year:',\n",
    "    continuous_update=True\n",
    ")\n",
    "\n",
    "year  = widgets.Dropdown(\n",
    "    options=list(key_indicators['time_period'].unique()),\n",
    "    value='2019',\n",
    "    description='Years: ',\n",
    ")\n",
    "\n",
    "\n",
    "container = widgets.HBox([year])\n",
    "\n",
    "indicators_menu = widgets.Dropdown(\n",
    "    options=list(key_indicators['indicator'].unique()),\n",
    "    value='Uploading self-created content to be shared',\n",
    "    description='Indicators: ',\n",
    ")\n",
    "\n",
    "trace1 = go.Bar(x=key_indicators['ref_area'], y = key_indicators['value'], opacity=0.75, textposition='auto')\n",
    "layout=go.Layout(\n",
    "                        title=dict(\n",
    "                            text='Europe digital divide key indicators'\n",
    "                        ),\n",
    "                        barmode='overlay',\n",
    "                        xaxis={'categoryorder':'total descending'}\n",
    "                    )\n",
    "g = go.FigureWidget(data=trace1,\n",
    "                    layout = layout\n",
    "                    )"
   ]
  },
  {
   "cell_type": "code",
   "execution_count": null,
   "metadata": {},
   "outputs": [],
   "source": [
    "def response(change):\n",
    "    filter_list = [i and j for i, j in\n",
    "                    zip(key_indicators['time_period'] == year.value,\n",
    "                    key_indicators['indicator'] == indicators_menu.value)]\n",
    "    temp_df = key_indicators[filter_list]\n",
    "    x1 = temp_df['ref_area']\n",
    "    y1 = temp_df['value']\n",
    "    #x2 = temp_df['dep_delay']\n",
    "    with g.batch_update():\n",
    "        g.data[0].x = x1\n",
    "        g.data[0].y = y1\n",
    "        #g.data[1].x = x2\n",
    "        g.layout.barmode = 'overlay'\n",
    "        g.layout.xaxis.title = 'Area'\n",
    "        g.layout.yaxis.title = 'Percentage'\n",
    "\n",
    "\n",
    "indicators_menu.observe(response, names=\"value\")\n",
    "year.observe(response, names=\"value\")"
   ]
  },
  {
   "cell_type": "code",
   "execution_count": null,
   "metadata": {},
   "outputs": [],
   "source": [
    "container2 = widgets.HBox([indicators_menu])\n",
    "xd = widgets.VBox([container,\n",
    "              container2,\n",
    "              g])\n",
    "xd"
   ]
  },
  {
   "cell_type": "code",
   "execution_count": null,
   "metadata": {},
   "outputs": [],
   "source": [
    "embed_minimal_html('export.html', views=[xd], title='Widgets')\n"
   ]
  },
  {
   "cell_type": "markdown",
   "metadata": {},
   "source": [
    "### Experiment (no widget)"
   ]
  },
  {
   "cell_type": "code",
   "execution_count": null,
   "metadata": {},
   "outputs": [],
   "source": [
    " labels = ['Standard fixed broadband coverage/availability',\n",
    "          'NGA broadband coverage/availability',\n",
    "          'Households with a broadband connection',\n",
    "          'Households with fixed broadband connection',\n",
    "          'Share of fixed broadband subscriptions >= 100 Mbps',\n",
    "          'Households with no access to Internet at home, because the costs are too high',\n",
    "          '4G mobile broadband coverage',\n",
    "          'Households with access to the Internet at home',\n",
    "          'Individuals who have never used the internet',\n",
    "          'Individuals using online banking',\n",
    "          'Individuals uploading self-created content to be shared',\n",
    "          'Individuals participating in social networks, over the internet, last 3 months',\n",
    "          'Individuals looking for a job or sending a job application',\n",
    "          'Individuals doing an online course',\n",
    "          'Individuals taking part in on-line consultations or voting to define civic or political issues',\n",
    "          'Individuals interacting online with public authorities, last 12 months',\n",
    "          'Individuals with at least basic digital skills in Software domain',\n",
    "          'Individuals who have obtained ICT skills through formal educational institutions']"
   ]
  },
  {
   "cell_type": "code",
   "execution_count": null,
   "metadata": {},
   "outputs": [],
   "source": [
    "def generate_rgb_colors():\n",
    "    palette = sns.color_palette('Paired') + sns.color_palette('Spectral') + sns.color_palette('bright') + sns.color_palette('Dark2')\n",
    "    return palette\n",
    "\n",
    "countries_list = [country for country in countries_mapping.values()]\n",
    "\n",
    "# Get the x,y data of all the countries given a label\n",
    "def get_data(label):\n",
    "    x_data = []\n",
    "    y_data = []\n",
    "    for country in countries_list:\n",
    "        data = key_indicators.loc[(key_indicators['indicator'] == label) & (key_indicators['ref_area'] == country)]\n",
    "        # Check if there are multiple breakdowns: if so, keep only the 'total' one\n",
    "        if len(data['breakdown'].unique()) > 1:\n",
    "            if len(data['unit_measure'].unique()) > 1:\n",
    "                data = data.loc[(data['breakdown'].str.contains('total')) & (data['unit_measure'] == 'pc_ind')]\n",
    "            else:\n",
    "                data = data.loc[(data['breakdown'].str.contains('total'))]\n",
    "        data = data.sort_values('time_period')\n",
    "        x_data.append(list(data['time_period']))\n",
    "        y_data.append(list(data['value']))\n",
    "    return x_data, y_data\n",
    "\n",
    "current_indicator = labels[0]\n",
    "\n",
    "# Build Figure\n",
    "fig = go.FigureWidget()\n",
    "palette = generate_rgb_colors() # Obtain n different hex colors, where n is the number of countries\n",
    "\n",
    "for index, country in enumerate(countries_list):\n",
    "    current_data = key_indicators.loc[(key_indicators['indicator'] == current_indicator) & (key_indicators['ref_area'] == country)]\n",
    "    # Check if there are multiple breakdowns: if so, keep only the 'total' one\n",
    "    if len(current_data['breakdown'].unique()) > 1:\n",
    "        current_data = current_data.loc[current_data['breakdown'].str.contains('total')]\n",
    "    current_data = current_data.sort_values('time_period')\n",
    "    #if (country == 'Italy') or (country == 'Europe'):\n",
    "    visible = True\n",
    "    #else:\n",
    "        #visible = 'legendonly'\n",
    "    fig.add_trace(go.Bar(\n",
    "        x=list(current_data['ref_area']),\n",
    "        y=list(current_data['value']),\n",
    "        name=country,\n",
    "        visible=visible,\n",
    "        textposition='auto',\n",
    "        text=country,\n",
    "        color=\"time_period\"))\n",
    "\n",
    "# Create one button for each label\n",
    "buttons = []\n",
    "for index, label in enumerate(labels):\n",
    "    x_data, y_data = get_data(label)\n",
    "    btn = dict(label=label, method='update', args=[{'x': x_data, 'y': y_data}])\n",
    "    buttons.append(btn)\n",
    "\n",
    "\n",
    "fig.update_layout(width=1200, height=600, title='Select an indicator and compare countries',\n",
    "                  xaxis_title='Country',\n",
    "                  yaxis_title='Percentage',\n",
    "                  legend_title_text='Year',\n",
    "                  showlegend=True,\n",
    "                  updatemenus=[\n",
    "                    dict(active=0, buttons=buttons, xanchor='right', yanchor='top', showactive=True, x=1.1, y=1.17)\n",
    "                  ], xaxis={'categoryorder':'total descending'})\n",
    "\n",
    "fig.show()"
   ]
  },
  {
   "cell_type": "markdown",
   "metadata": {},
   "source": [
    "## DESI"
   ]
  },
  {
   "cell_type": "markdown",
   "metadata": {},
   "source": [
    "**Source: [https://digital-agenda-data.eu/datasets/desi/](https://digital-agenda-data.eu/datasets/desi/)**\n",
    "\n",
    "### DESI indicators used: https://digital-agenda-data.eu/datasets/desi/indicators\n",
    "#### Digital Economy and Society Index (desi)\n",
    "DESI overall index, calculated as the weighted average of the five main DESI dimensions:\n",
    "- 1 Connectivity (25%) \n",
    "- 2 Human Capital (25%) \n",
    "- 3 Use of Internet (15%)\n",
    "- 4 Integration of Digital Technology (20%)\n",
    "- 5 Digital Public Services (15%) \n",
    "\n",
    "#### DESI Dimensions \n",
    "#### DESI Sub-dimensions \n",
    "#### DESI Individual Indicators "
   ]
  },
  {
   "cell_type": "code",
   "execution_count": 2,
   "metadata": {},
   "outputs": [],
   "source": [
    "desi = pd.read_csv(\"data/DESI.csv\")\n",
    "# Drop useless columns\n",
    "desi = desi.drop(['observation', 'flag', 'note'], axis=1)\n",
    "desi = desi.loc[desi['indicator'] == 'desi']\n",
    "\n",
    "\n",
    "# Mapping between 'ref_area' and the name of the country\n",
    "countries_mapping =  { 'EE' : 'Estonia',\n",
    "                        'EL' : 'Greece',\n",
    "                        'ES' : 'Spain',\n",
    "                        'FI' : 'Finland',\n",
    "                        'FR' : 'France',\n",
    "                        'HR' : 'Croatia',\n",
    "                        'HU' : 'Hungary',\n",
    "                        'IE' : 'Ireland',\n",
    "                        'IS' : 'Iceland',\n",
    "                        'DE' : 'Deutschland',\n",
    "                        'CZ' : 'Czech Rep.',\n",
    "                        'DK' : 'Denmark',\n",
    "                        'IT' : 'Italy',\n",
    "                        'LT' : 'Lithuania',\n",
    "                        'LU' : 'Luxembourg',\n",
    "                        'LV' : 'Latvia',\n",
    "                        'MT' : 'Malta',\n",
    "                        'NL' : 'Netherlands',\n",
    "                        'NO' : 'Norway',\n",
    "                        'PT' : 'Portugal',\n",
    "                        'PL' : 'Poland',\n",
    "                        'EU' : 'Europe',\n",
    "                        'RO' : 'Romania',\n",
    "                        'SE' : 'Sweden',\n",
    "                        'SI' : 'Slovenia',\n",
    "                        'SK' : 'Slovakia',\n",
    "                        'UK' : 'United Kingdom',\n",
    "                        'AT' : 'Austria',\n",
    "                        'BE' : 'Belgium',\n",
    "                        'BG' : 'Bulgaria',\n",
    "                        'CY' : 'Cyprus',\n",
    "                        'CH' : 'Switzerland'\n",
    "                     }\n",
    "desi['ref_area'] = desi['ref_area'].replace(countries_mapping)\n",
    "\n",
    "# Mapping between 'ref_area' and the name of the country\n",
    "bd_mapping =  { 'desi_1_conn' : 'Connectivity',\n",
    "                        'desi_2_hc' : 'Human Capital',\n",
    "                        'desi_3_ui' : 'Use of Internet Services',\n",
    "                        'desi_4_idt' : 'Integration of Digital Technology',\n",
    "                        'desi_5_dps' : 'Digital Public Services'\n",
    "                     }\n",
    "desi['breakdown'] = desi['breakdown'].replace(bd_mapping)\n",
    "\n",
    "# Drop the index column\n",
    "desi.reset_index(drop=True, inplace=True)"
   ]
  },
  {
   "cell_type": "code",
   "execution_count": 42,
   "metadata": {},
   "outputs": [
    {
     "name": "stdout",
     "output_type": "stream",
     "text": [
      "(layout.Slider({\n",
      "    'active': 0,\n",
      "    'currentvalue': {'prefix': 'Year: '},\n",
      "    'len': 0.9,\n",
      "    'pad': {'r': 40, 't': 130},\n",
      "    'steps': [{'args': [['2015'], {'frame': {'duration': 0, 'redraw': True},\n",
      "                        'mode': 'immediate', 'fromcurrent': True, 'transition':\n",
      "                        {'duration': 0, 'easing': 'linear'}}],\n",
      "               'label': '2015',\n",
      "               'method': 'animate'},\n",
      "              {'args': [['2016'], {'frame': {'duration': 0, 'redraw': True},\n",
      "                        'mode': 'immediate', 'fromcurrent': True, 'transition':\n",
      "                        {'duration': 0, 'easing': 'linear'}, 'redraw': False}],\n",
      "               'label': '2016',\n",
      "               'method': 'animate'},\n",
      "              {'args': [['2017'], {'frame': {'duration': 0, 'redraw': True},\n",
      "                        'mode': 'immediate', 'fromcurrent': True, 'transition':\n",
      "                        {'duration': 0, 'easing': 'linear'}}],\n",
      "               'label': '2017',\n",
      "               'method': 'animate'},\n",
      "              {'args': [['2018'], {'frame': {'duration': 0, 'redraw': True},\n",
      "                        'mode': 'immediate', 'fromcurrent': True, 'transition':\n",
      "                        {'duration': 0, 'easing': 'linear'}}],\n",
      "               'label': '2018',\n",
      "               'method': 'animate'},\n",
      "              {'args': [['2019'], {'frame': {'duration': 0, 'redraw': True},\n",
      "                        'mode': 'immediate', 'fromcurrent': True, 'transition':\n",
      "                        {'duration': 0, 'easing': 'linear'}}],\n",
      "               'label': '2019',\n",
      "               'method': 'animate'},\n",
      "              {'args': [['2020'], {'frame': {'duration': 0, 'redraw': True},\n",
      "                        'mode': 'immediate', 'fromcurrent': True, 'transition':\n",
      "                        {'duration': 0, 'easing': 'linear'}}],\n",
      "               'label': '2020',\n",
      "               'method': 'animate'}],\n",
      "    'x': 0.1,\n",
      "    'xanchor': 'left',\n",
      "    'y': 0,\n",
      "    'yanchor': 'top'\n",
      "}),)\n"
     ]
    },
    {
     "data": {
      "application/vnd.plotly.v1+json": {
       "config": {
        "plotlyServerURL": "https://plot.ly"
       },
       "data": [
        {
         "alignmentgroup": "True",
         "customdata": [
          [
           7.0647,
           "Austria",
           2015,
           "Connectivity"
          ],
          [
           6.959810000000001,
           "Poland",
           2015,
           "Connectivity"
          ],
          [
           7.78229,
           "Europe",
           2015,
           "Connectivity"
          ],
          [
           8.38408,
           "Spain",
           2015,
           "Connectivity"
          ],
          [
           10.0916,
           "Netherlands",
           2015,
           "Connectivity"
          ],
          [
           9.07057,
           "Slovenia",
           2015,
           "Connectivity"
          ],
          [
           8.92415,
           "Deutschland",
           2015,
           "Connectivity"
          ],
          [
           6.52572,
           "Bulgaria",
           2015,
           "Connectivity"
          ],
          [
           8.096,
           "Czech Rep.",
           2015,
           "Connectivity"
          ],
          [
           7.65813,
           "France",
           2015,
           "Connectivity"
          ],
          [
           9.91113,
           "Finland",
           2015,
           "Connectivity"
          ],
          [
           11.3794,
           "Latvia",
           2015,
           "Connectivity"
          ],
          [
           11.2773,
           "Denmark",
           2015,
           "Connectivity"
          ],
          [
           7.350219999999999,
           "Hungary",
           2015,
           "Connectivity"
          ],
          [
           6.5734699999999995,
           "Ireland",
           2015,
           "Connectivity"
          ],
          [
           11.1992,
           "Sweden",
           2015,
           "Connectivity"
          ],
          [
           8.58184,
           "Lithuania",
           2015,
           "Connectivity"
          ],
          [
           5.89582,
           "Italy",
           2015,
           "Connectivity"
          ],
          [
           8.18213,
           "Malta",
           2015,
           "Connectivity"
          ],
          [
           5.65107,
           "Croatia",
           2015,
           "Connectivity"
          ],
          [
           4.3609800000000005,
           "Cyprus",
           2015,
           "Connectivity"
          ],
          [
           7.71197,
           "Portugal",
           2015,
           "Connectivity"
          ],
          [
           4.73184,
           "Greece",
           2015,
           "Connectivity"
          ],
          [
           11.2743,
           "Luxembourg",
           2015,
           "Connectivity"
          ],
          [
           7.86075,
           "Belgium",
           2015,
           "Connectivity"
          ],
          [
           8.55669,
           "United Kingdom",
           2015,
           "Connectivity"
          ],
          [
           9.67203,
           "Estonia",
           2015,
           "Connectivity"
          ],
          [
           8.73385,
           "Romania",
           2015,
           "Connectivity"
          ],
          [
           7.22112,
           "Slovakia",
           2015,
           "Connectivity"
          ]
         ],
         "hovertemplate": "<b>%{hovertext}</b><br><br><extra></extra>",
         "hovertext": [
          7.0647,
          6.959810000000001,
          7.78229,
          8.38408,
          10.0916,
          9.07057,
          8.92415,
          6.52572,
          8.096,
          7.65813,
          9.91113,
          11.3794,
          11.2773,
          7.350219999999999,
          6.5734699999999995,
          11.1992,
          8.58184,
          5.89582,
          8.18213,
          5.65107,
          4.3609800000000005,
          7.71197,
          4.73184,
          11.2743,
          7.86075,
          8.55669,
          9.67203,
          8.73385,
          7.22112
         ],
         "ids": [
          "Austria",
          "Poland",
          "Europe",
          "Spain",
          "Netherlands",
          "Slovenia",
          "Deutschland",
          "Bulgaria",
          "Czech Rep.",
          "France",
          "Finland",
          "Latvia",
          "Denmark",
          "Hungary",
          "Ireland",
          "Sweden",
          "Lithuania",
          "Italy",
          "Malta",
          "Croatia",
          "Cyprus",
          "Portugal",
          "Greece",
          "Luxembourg",
          "Belgium",
          "United Kingdom",
          "Estonia",
          "Romania",
          "Slovakia"
         ],
         "legendgroup": "Connectivity",
         "marker": {
          "color": "#636efa"
         },
         "name": "Connectivity",
         "offsetgroup": "Connectivity",
         "orientation": "v",
         "showlegend": true,
         "textposition": "auto",
         "type": "bar",
         "x": [
          "Austria",
          "Poland",
          "Europe",
          "Spain",
          "Netherlands",
          "Slovenia",
          "Deutschland",
          "Bulgaria",
          "Czech Rep.",
          "France",
          "Finland",
          "Latvia",
          "Denmark",
          "Hungary",
          "Ireland",
          "Sweden",
          "Lithuania",
          "Italy",
          "Malta",
          "Croatia",
          "Cyprus",
          "Portugal",
          "Greece",
          "Luxembourg",
          "Belgium",
          "United Kingdom",
          "Estonia",
          "Romania",
          "Slovakia"
         ],
         "xaxis": "x",
         "y": [
          7.0647,
          6.959810000000001,
          7.78229,
          8.38408,
          10.0916,
          9.07057,
          8.92415,
          6.52572,
          8.096,
          7.65813,
          9.91113,
          11.3794,
          11.2773,
          7.350219999999999,
          6.5734699999999995,
          11.1992,
          8.58184,
          5.89582,
          8.18213,
          5.65107,
          4.3609800000000005,
          7.71197,
          4.73184,
          11.2743,
          7.86075,
          8.55669,
          9.67203,
          8.73385,
          7.22112
         ],
         "yaxis": "y"
        },
        {
         "alignmentgroup": "True",
         "customdata": [
          [
           9.9463,
           "Netherlands",
           2015,
           "Digital Public Services"
          ],
          [
           11.1576,
           "Denmark",
           2015,
           "Digital Public Services"
          ],
          [
           10.8173,
           "Finland",
           2015,
           "Digital Public Services"
          ],
          [
           7.53211,
           "Europe",
           2015,
           "Digital Public Services"
          ],
          [
           10.1328,
           "Portugal",
           2015,
           "Digital Public Services"
          ],
          [
           4.66594,
           "Romania",
           2015,
           "Digital Public Services"
          ],
          [
           9.84623,
           "Sweden",
           2015,
           "Digital Public Services"
          ],
          [
           9.15099,
           "Ireland",
           2015,
           "Digital Public Services"
          ],
          [
           9.608460000000001,
           "Spain",
           2015,
           "Digital Public Services"
          ],
          [
           7.959739999999999,
           "Poland",
           2015,
           "Digital Public Services"
          ],
          [
           6.34576,
           "Deutschland",
           2015,
           "Digital Public Services"
          ],
          [
           6.90362,
           "Slovenia",
           2015,
           "Digital Public Services"
          ],
          [
           4.95589,
           "Czech Rep.",
           2015,
           "Digital Public Services"
          ],
          [
           8.98968,
           "Austria",
           2015,
           "Digital Public Services"
          ],
          [
           9.09689,
           "Lithuania",
           2015,
           "Digital Public Services"
          ],
          [
           6.869689999999999,
           "France",
           2015,
           "Digital Public Services"
          ],
          [
           4.590330000000001,
           "Slovakia",
           2015,
           "Digital Public Services"
          ],
          [
           7.32045,
           "United Kingdom",
           2015,
           "Digital Public Services"
          ],
          [
           11.5939,
           "Estonia",
           2015,
           "Digital Public Services"
          ],
          [
           6.23641,
           "Luxembourg",
           2015,
           "Digital Public Services"
          ],
          [
           10.6802,
           "Malta",
           2015,
           "Digital Public Services"
          ],
          [
           7.277419999999999,
           "Cyprus",
           2015,
           "Digital Public Services"
          ],
          [
           7.71922,
           "Belgium",
           2015,
           "Digital Public Services"
          ],
          [
           8.19661,
           "Latvia",
           2015,
           "Digital Public Services"
          ],
          [
           4.07108,
           "Croatia",
           2015,
           "Digital Public Services"
          ],
          [
           3.09321,
           "Greece",
           2015,
           "Digital Public Services"
          ],
          [
           4.23128,
           "Hungary",
           2015,
           "Digital Public Services"
          ],
          [
           6.90543,
           "Italy",
           2015,
           "Digital Public Services"
          ],
          [
           5.50959,
           "Bulgaria",
           2015,
           "Digital Public Services"
          ]
         ],
         "hovertemplate": "<b>%{hovertext}</b><br><br><extra></extra>",
         "hovertext": [
          9.9463,
          11.1576,
          10.8173,
          7.53211,
          10.1328,
          4.66594,
          9.84623,
          9.15099,
          9.608460000000001,
          7.959739999999999,
          6.34576,
          6.90362,
          4.95589,
          8.98968,
          9.09689,
          6.869689999999999,
          4.590330000000001,
          7.32045,
          11.5939,
          6.23641,
          10.6802,
          7.277419999999999,
          7.71922,
          8.19661,
          4.07108,
          3.09321,
          4.23128,
          6.90543,
          5.50959
         ],
         "ids": [
          "Netherlands",
          "Denmark",
          "Finland",
          "Europe",
          "Portugal",
          "Romania",
          "Sweden",
          "Ireland",
          "Spain",
          "Poland",
          "Deutschland",
          "Slovenia",
          "Czech Rep.",
          "Austria",
          "Lithuania",
          "France",
          "Slovakia",
          "United Kingdom",
          "Estonia",
          "Luxembourg",
          "Malta",
          "Cyprus",
          "Belgium",
          "Latvia",
          "Croatia",
          "Greece",
          "Hungary",
          "Italy",
          "Bulgaria"
         ],
         "legendgroup": "Digital Public Services",
         "marker": {
          "color": "#EF553B"
         },
         "name": "Digital Public Services",
         "offsetgroup": "Digital Public Services",
         "orientation": "v",
         "showlegend": true,
         "textposition": "auto",
         "type": "bar",
         "x": [
          "Netherlands",
          "Denmark",
          "Finland",
          "Europe",
          "Portugal",
          "Romania",
          "Sweden",
          "Ireland",
          "Spain",
          "Poland",
          "Deutschland",
          "Slovenia",
          "Czech Rep.",
          "Austria",
          "Lithuania",
          "France",
          "Slovakia",
          "United Kingdom",
          "Estonia",
          "Luxembourg",
          "Malta",
          "Cyprus",
          "Belgium",
          "Latvia",
          "Croatia",
          "Greece",
          "Hungary",
          "Italy",
          "Bulgaria"
         ],
         "xaxis": "x",
         "y": [
          9.9463,
          11.1576,
          10.8173,
          7.53211,
          10.1328,
          4.66594,
          9.84623,
          9.15099,
          9.608460000000001,
          7.959739999999999,
          6.34576,
          6.90362,
          4.95589,
          8.98968,
          9.09689,
          6.869689999999999,
          4.590330000000001,
          7.32045,
          11.5939,
          6.23641,
          10.6802,
          7.277419999999999,
          7.71922,
          8.19661,
          4.07108,
          3.09321,
          4.23128,
          6.90543,
          5.50959
         ],
         "yaxis": "y"
        },
        {
         "alignmentgroup": "True",
         "customdata": [
          [
           5.6226199999999995,
           "Cyprus",
           2015,
           "Use of Internet Services"
          ],
          [
           6.39002,
           "Czech Rep.",
           2015,
           "Use of Internet Services"
          ],
          [
           7.15562,
           "Malta",
           2015,
           "Use of Internet Services"
          ],
          [
           6.75529,
           "Latvia",
           2015,
           "Use of Internet Services"
          ],
          [
           6.68507,
           "France",
           2015,
           "Use of Internet Services"
          ],
          [
           7.298839999999999,
           "Deutschland",
           2015,
           "Use of Internet Services"
          ],
          [
           9.46597,
           "Finland",
           2015,
           "Use of Internet Services"
          ],
          [
           7.22226,
           "Lithuania",
           2015,
           "Use of Internet Services"
          ],
          [
           4.901,
           "Greece",
           2015,
           "Use of Internet Services"
          ],
          [
           3.25604,
           "Romania",
           2015,
           "Use of Internet Services"
          ],
          [
           6.41774,
           "Slovakia",
           2015,
           "Use of Internet Services"
          ],
          [
           9.7598,
           "Sweden",
           2015,
           "Use of Internet Services"
          ],
          [
           9.79622,
           "Denmark",
           2015,
           "Use of Internet Services"
          ],
          [
           6.22316,
           "Ireland",
           2015,
           "Use of Internet Services"
          ],
          [
           8.93206,
           "Netherlands",
           2015,
           "Use of Internet Services"
          ],
          [
           6.5115099999999995,
           "Slovenia",
           2015,
           "Use of Internet Services"
          ],
          [
           6.715039999999999,
           "Spain",
           2015,
           "Use of Internet Services"
          ],
          [
           4.8125599999999995,
           "Italy",
           2015,
           "Use of Internet Services"
          ],
          [
           6.90422,
           "Hungary",
           2015,
           "Use of Internet Services"
          ],
          [
           5.88007,
           "Croatia",
           2015,
           "Use of Internet Services"
          ],
          [
           6.75127,
           "Europe",
           2015,
           "Use of Internet Services"
          ],
          [
           6.33007,
           "Austria",
           2015,
           "Use of Internet Services"
          ],
          [
           8.73296,
           "Luxembourg",
           2015,
           "Use of Internet Services"
          ],
          [
           8.50934,
           "Estonia",
           2015,
           "Use of Internet Services"
          ],
          [
           7.078410000000001,
           "Belgium",
           2015,
           "Use of Internet Services"
          ],
          [
           5.23077,
           "Portugal",
           2015,
           "Use of Internet Services"
          ],
          [
           8.7379,
           "United Kingdom",
           2015,
           "Use of Internet Services"
          ],
          [
           5.01313,
           "Poland",
           2015,
           "Use of Internet Services"
          ],
          [
           4.42656,
           "Bulgaria",
           2015,
           "Use of Internet Services"
          ]
         ],
         "hovertemplate": "<b>%{hovertext}</b><br><br><extra></extra>",
         "hovertext": [
          5.6226199999999995,
          6.39002,
          7.15562,
          6.75529,
          6.68507,
          7.298839999999999,
          9.46597,
          7.22226,
          4.901,
          3.25604,
          6.41774,
          9.7598,
          9.79622,
          6.22316,
          8.93206,
          6.5115099999999995,
          6.715039999999999,
          4.8125599999999995,
          6.90422,
          5.88007,
          6.75127,
          6.33007,
          8.73296,
          8.50934,
          7.078410000000001,
          5.23077,
          8.7379,
          5.01313,
          4.42656
         ],
         "ids": [
          "Cyprus",
          "Czech Rep.",
          "Malta",
          "Latvia",
          "France",
          "Deutschland",
          "Finland",
          "Lithuania",
          "Greece",
          "Romania",
          "Slovakia",
          "Sweden",
          "Denmark",
          "Ireland",
          "Netherlands",
          "Slovenia",
          "Spain",
          "Italy",
          "Hungary",
          "Croatia",
          "Europe",
          "Austria",
          "Luxembourg",
          "Estonia",
          "Belgium",
          "Portugal",
          "United Kingdom",
          "Poland",
          "Bulgaria"
         ],
         "legendgroup": "Use of Internet Services",
         "marker": {
          "color": "#00cc96"
         },
         "name": "Use of Internet Services",
         "offsetgroup": "Use of Internet Services",
         "orientation": "v",
         "showlegend": true,
         "textposition": "auto",
         "type": "bar",
         "x": [
          "Cyprus",
          "Czech Rep.",
          "Malta",
          "Latvia",
          "France",
          "Deutschland",
          "Finland",
          "Lithuania",
          "Greece",
          "Romania",
          "Slovakia",
          "Sweden",
          "Denmark",
          "Ireland",
          "Netherlands",
          "Slovenia",
          "Spain",
          "Italy",
          "Hungary",
          "Croatia",
          "Europe",
          "Austria",
          "Luxembourg",
          "Estonia",
          "Belgium",
          "Portugal",
          "United Kingdom",
          "Poland",
          "Bulgaria"
         ],
         "xaxis": "x",
         "y": [
          5.6226199999999995,
          6.39002,
          7.15562,
          6.75529,
          6.68507,
          7.298839999999999,
          9.46597,
          7.22226,
          4.901,
          3.25604,
          6.41774,
          9.7598,
          9.79622,
          6.22316,
          8.93206,
          6.5115099999999995,
          6.715039999999999,
          4.8125599999999995,
          6.90422,
          5.88007,
          6.75127,
          6.33007,
          8.73296,
          8.50934,
          7.078410000000001,
          5.23077,
          8.7379,
          5.01313,
          4.42656
         ],
         "yaxis": "y"
        },
        {
         "alignmentgroup": "True",
         "customdata": [
          [
           8.676919999999999,
           "Netherlands",
           2015,
           "Integration of Digital Technology"
          ],
          [
           5.85388,
           "Spain",
           2015,
           "Integration of Digital Technology"
          ],
          [
           5.69643,
           "Deutschland",
           2015,
           "Integration of Digital Technology"
          ],
          [
           9.009319999999999,
           "Sweden",
           2015,
           "Integration of Digital Technology"
          ],
          [
           5.589169999999999,
           "Slovakia",
           2015,
           "Integration of Digital Technology"
          ],
          [
           8.426969999999999,
           "Finland",
           2015,
           "Integration of Digital Technology"
          ],
          [
           5.60393,
           "Austria",
           2015,
           "Integration of Digital Technology"
          ],
          [
           3.05672,
           "Bulgaria",
           2015,
           "Integration of Digital Technology"
          ],
          [
           5.18109,
           "France",
           2015,
           "Integration of Digital Technology"
          ],
          [
           9.59295,
           "Denmark",
           2015,
           "Integration of Digital Technology"
          ],
          [
           6.7355100000000006,
           "Lithuania",
           2015,
           "Integration of Digital Technology"
          ],
          [
           9.25737,
           "Ireland",
           2015,
           "Integration of Digital Technology"
          ],
          [
           3.45362,
           "Poland",
           2015,
           "Integration of Digital Technology"
          ],
          [
           4.9422,
           "Estonia",
           2015,
           "Integration of Digital Technology"
          ],
          [
           8.56758,
           "Belgium",
           2015,
           "Integration of Digital Technology"
          ],
          [
           5.38068,
           "Luxembourg",
           2015,
           "Integration of Digital Technology"
          ],
          [
           7.0004100000000005,
           "United Kingdom",
           2015,
           "Integration of Digital Technology"
          ],
          [
           3.10604,
           "Latvia",
           2015,
           "Integration of Digital Technology"
          ],
          [
           7.4405600000000005,
           "Czech Rep.",
           2015,
           "Integration of Digital Technology"
          ],
          [
           7.12971,
           "Malta",
           2015,
           "Integration of Digital Technology"
          ],
          [
           6.02412,
           "Portugal",
           2015,
           "Integration of Digital Technology"
          ],
          [
           4.99911,
           "Cyprus",
           2015,
           "Integration of Digital Technology"
          ],
          [
           5.3345,
           "Slovenia",
           2015,
           "Integration of Digital Technology"
          ],
          [
           4.4357,
           "Italy",
           2015,
           "Integration of Digital Technology"
          ],
          [
           7.14795,
           "Croatia",
           2015,
           "Integration of Digital Technology"
          ],
          [
           4.854769999999999,
           "Greece",
           2015,
           "Integration of Digital Technology"
          ],
          [
           5.8445800000000006,
           "Europe",
           2015,
           "Integration of Digital Technology"
          ],
          [
           3.59053,
           "Hungary",
           2015,
           "Integration of Digital Technology"
          ],
          [
           3.3450900000000003,
           "Romania",
           2015,
           "Integration of Digital Technology"
          ]
         ],
         "hovertemplate": "<b>%{hovertext}</b><br><br><extra></extra>",
         "hovertext": [
          8.676919999999999,
          5.85388,
          5.69643,
          9.009319999999999,
          5.589169999999999,
          8.426969999999999,
          5.60393,
          3.05672,
          5.18109,
          9.59295,
          6.7355100000000006,
          9.25737,
          3.45362,
          4.9422,
          8.56758,
          5.38068,
          7.0004100000000005,
          3.10604,
          7.4405600000000005,
          7.12971,
          6.02412,
          4.99911,
          5.3345,
          4.4357,
          7.14795,
          4.854769999999999,
          5.8445800000000006,
          3.59053,
          3.3450900000000003
         ],
         "ids": [
          "Netherlands",
          "Spain",
          "Deutschland",
          "Sweden",
          "Slovakia",
          "Finland",
          "Austria",
          "Bulgaria",
          "France",
          "Denmark",
          "Lithuania",
          "Ireland",
          "Poland",
          "Estonia",
          "Belgium",
          "Luxembourg",
          "United Kingdom",
          "Latvia",
          "Czech Rep.",
          "Malta",
          "Portugal",
          "Cyprus",
          "Slovenia",
          "Italy",
          "Croatia",
          "Greece",
          "Europe",
          "Hungary",
          "Romania"
         ],
         "legendgroup": "Integration of Digital Technology",
         "marker": {
          "color": "#ab63fa"
         },
         "name": "Integration of Digital Technology",
         "offsetgroup": "Integration of Digital Technology",
         "orientation": "v",
         "showlegend": true,
         "textposition": "auto",
         "type": "bar",
         "x": [
          "Netherlands",
          "Spain",
          "Deutschland",
          "Sweden",
          "Slovakia",
          "Finland",
          "Austria",
          "Bulgaria",
          "France",
          "Denmark",
          "Lithuania",
          "Ireland",
          "Poland",
          "Estonia",
          "Belgium",
          "Luxembourg",
          "United Kingdom",
          "Latvia",
          "Czech Rep.",
          "Malta",
          "Portugal",
          "Cyprus",
          "Slovenia",
          "Italy",
          "Croatia",
          "Greece",
          "Europe",
          "Hungary",
          "Romania"
         ],
         "xaxis": "x",
         "y": [
          8.676919999999999,
          5.85388,
          5.69643,
          9.009319999999999,
          5.589169999999999,
          8.426969999999999,
          5.60393,
          3.05672,
          5.18109,
          9.59295,
          6.7355100000000006,
          9.25737,
          3.45362,
          4.9422,
          8.56758,
          5.38068,
          7.0004100000000005,
          3.10604,
          7.4405600000000005,
          7.12971,
          6.02412,
          4.99911,
          5.3345,
          4.4357,
          7.14795,
          4.854769999999999,
          5.8445800000000006,
          3.59053,
          3.3450900000000003
         ],
         "yaxis": "y"
        },
        {
         "alignmentgroup": "True",
         "customdata": [
          [
           12.5472,
           "Austria",
           2015,
           "Human Capital"
          ],
          [
           10.414000000000001,
           "Slovenia",
           2015,
           "Human Capital"
          ],
          [
           9.60926,
           "Hungary",
           2015,
           "Human Capital"
          ],
          [
           9.18325,
           "Latvia",
           2015,
           "Human Capital"
          ],
          [
           9.24162,
           "Slovakia",
           2015,
           "Human Capital"
          ],
          [
           8.388530000000001,
           "Cyprus",
           2015,
           "Human Capital"
          ],
          [
           11.8648,
           "Ireland",
           2015,
           "Human Capital"
          ],
          [
           7.91995,
           "Poland",
           2015,
           "Human Capital"
          ],
          [
           7.976789999999999,
           "Portugal",
           2015,
           "Human Capital"
          ],
          [
           8.55204,
           "Greece",
           2015,
           "Human Capital"
          ],
          [
           10.9983,
           "Europe",
           2015,
           "Human Capital"
          ],
          [
           7.701289999999999,
           "Italy",
           2015,
           "Human Capital"
          ],
          [
           10.2502,
           "Croatia",
           2015,
           "Human Capital"
          ],
          [
           13.9732,
           "Estonia",
           2015,
           "Human Capital"
          ],
          [
           13.34,
           "Malta",
           2015,
           "Human Capital"
          ],
          [
           6.86706,
           "Romania",
           2015,
           "Human Capital"
          ],
          [
           11.2147,
           "Czech Rep.",
           2015,
           "Human Capital"
          ],
          [
           15.3152,
           "Sweden",
           2015,
           "Human Capital"
          ],
          [
           15.1573,
           "Denmark",
           2015,
           "Human Capital"
          ],
          [
           7.29471,
           "Bulgaria",
           2015,
           "Human Capital"
          ],
          [
           18.0519,
           "Finland",
           2015,
           "Human Capital"
          ],
          [
           8.73623,
           "Lithuania",
           2015,
           "Human Capital"
          ],
          [
           11.0647,
           "France",
           2015,
           "Human Capital"
          ],
          [
           11.5957,
           "Belgium",
           2015,
           "Human Capital"
          ],
          [
           14.088,
           "United Kingdom",
           2015,
           "Human Capital"
          ],
          [
           12.8161,
           "Deutschland",
           2015,
           "Human Capital"
          ],
          [
           10.7992,
           "Spain",
           2015,
           "Human Capital"
          ],
          [
           13.5831,
           "Netherlands",
           2015,
           "Human Capital"
          ],
          [
           13.1423,
           "Luxembourg",
           2015,
           "Human Capital"
          ]
         ],
         "hovertemplate": "<b>%{hovertext}</b><br><br><extra></extra>",
         "hovertext": [
          12.5472,
          10.414000000000001,
          9.60926,
          9.18325,
          9.24162,
          8.388530000000001,
          11.8648,
          7.91995,
          7.976789999999999,
          8.55204,
          10.9983,
          7.701289999999999,
          10.2502,
          13.9732,
          13.34,
          6.86706,
          11.2147,
          15.3152,
          15.1573,
          7.29471,
          18.0519,
          8.73623,
          11.0647,
          11.5957,
          14.088,
          12.8161,
          10.7992,
          13.5831,
          13.1423
         ],
         "ids": [
          "Austria",
          "Slovenia",
          "Hungary",
          "Latvia",
          "Slovakia",
          "Cyprus",
          "Ireland",
          "Poland",
          "Portugal",
          "Greece",
          "Europe",
          "Italy",
          "Croatia",
          "Estonia",
          "Malta",
          "Romania",
          "Czech Rep.",
          "Sweden",
          "Denmark",
          "Bulgaria",
          "Finland",
          "Lithuania",
          "France",
          "Belgium",
          "United Kingdom",
          "Deutschland",
          "Spain",
          "Netherlands",
          "Luxembourg"
         ],
         "legendgroup": "Human Capital",
         "marker": {
          "color": "#FFA15A"
         },
         "name": "Human Capital",
         "offsetgroup": "Human Capital",
         "orientation": "v",
         "showlegend": true,
         "textposition": "auto",
         "type": "bar",
         "x": [
          "Austria",
          "Slovenia",
          "Hungary",
          "Latvia",
          "Slovakia",
          "Cyprus",
          "Ireland",
          "Poland",
          "Portugal",
          "Greece",
          "Europe",
          "Italy",
          "Croatia",
          "Estonia",
          "Malta",
          "Romania",
          "Czech Rep.",
          "Sweden",
          "Denmark",
          "Bulgaria",
          "Finland",
          "Lithuania",
          "France",
          "Belgium",
          "United Kingdom",
          "Deutschland",
          "Spain",
          "Netherlands",
          "Luxembourg"
         ],
         "xaxis": "x",
         "y": [
          12.5472,
          10.414000000000001,
          9.60926,
          9.18325,
          9.24162,
          8.388530000000001,
          11.8648,
          7.91995,
          7.976789999999999,
          8.55204,
          10.9983,
          7.701289999999999,
          10.2502,
          13.9732,
          13.34,
          6.86706,
          11.2147,
          15.3152,
          15.1573,
          7.29471,
          18.0519,
          8.73623,
          11.0647,
          11.5957,
          14.088,
          12.8161,
          10.7992,
          13.5831,
          13.1423
         ],
         "yaxis": "y"
        }
       ],
       "frames": [
        {
         "data": [
          {
           "alignmentgroup": "True",
           "customdata": [
            [
             7.0647,
             "Austria",
             2015,
             "Connectivity"
            ],
            [
             6.959810000000001,
             "Poland",
             2015,
             "Connectivity"
            ],
            [
             7.78229,
             "Europe",
             2015,
             "Connectivity"
            ],
            [
             8.38408,
             "Spain",
             2015,
             "Connectivity"
            ],
            [
             10.0916,
             "Netherlands",
             2015,
             "Connectivity"
            ],
            [
             9.07057,
             "Slovenia",
             2015,
             "Connectivity"
            ],
            [
             8.92415,
             "Deutschland",
             2015,
             "Connectivity"
            ],
            [
             6.52572,
             "Bulgaria",
             2015,
             "Connectivity"
            ],
            [
             8.096,
             "Czech Rep.",
             2015,
             "Connectivity"
            ],
            [
             7.65813,
             "France",
             2015,
             "Connectivity"
            ],
            [
             9.91113,
             "Finland",
             2015,
             "Connectivity"
            ],
            [
             11.3794,
             "Latvia",
             2015,
             "Connectivity"
            ],
            [
             11.2773,
             "Denmark",
             2015,
             "Connectivity"
            ],
            [
             7.350219999999999,
             "Hungary",
             2015,
             "Connectivity"
            ],
            [
             6.5734699999999995,
             "Ireland",
             2015,
             "Connectivity"
            ],
            [
             11.1992,
             "Sweden",
             2015,
             "Connectivity"
            ],
            [
             8.58184,
             "Lithuania",
             2015,
             "Connectivity"
            ],
            [
             5.89582,
             "Italy",
             2015,
             "Connectivity"
            ],
            [
             8.18213,
             "Malta",
             2015,
             "Connectivity"
            ],
            [
             5.65107,
             "Croatia",
             2015,
             "Connectivity"
            ],
            [
             4.3609800000000005,
             "Cyprus",
             2015,
             "Connectivity"
            ],
            [
             7.71197,
             "Portugal",
             2015,
             "Connectivity"
            ],
            [
             4.73184,
             "Greece",
             2015,
             "Connectivity"
            ],
            [
             11.2743,
             "Luxembourg",
             2015,
             "Connectivity"
            ],
            [
             7.86075,
             "Belgium",
             2015,
             "Connectivity"
            ],
            [
             8.55669,
             "United Kingdom",
             2015,
             "Connectivity"
            ],
            [
             9.67203,
             "Estonia",
             2015,
             "Connectivity"
            ],
            [
             8.73385,
             "Romania",
             2015,
             "Connectivity"
            ],
            [
             7.22112,
             "Slovakia",
             2015,
             "Connectivity"
            ]
           ],
           "hovertemplate": "<b>%{hovertext}</b><br><br><extra></extra>",
           "hovertext": [
            7.0647,
            6.959810000000001,
            7.78229,
            8.38408,
            10.0916,
            9.07057,
            8.92415,
            6.52572,
            8.096,
            7.65813,
            9.91113,
            11.3794,
            11.2773,
            7.350219999999999,
            6.5734699999999995,
            11.1992,
            8.58184,
            5.89582,
            8.18213,
            5.65107,
            4.3609800000000005,
            7.71197,
            4.73184,
            11.2743,
            7.86075,
            8.55669,
            9.67203,
            8.73385,
            7.22112
           ],
           "ids": [
            "Austria",
            "Poland",
            "Europe",
            "Spain",
            "Netherlands",
            "Slovenia",
            "Deutschland",
            "Bulgaria",
            "Czech Rep.",
            "France",
            "Finland",
            "Latvia",
            "Denmark",
            "Hungary",
            "Ireland",
            "Sweden",
            "Lithuania",
            "Italy",
            "Malta",
            "Croatia",
            "Cyprus",
            "Portugal",
            "Greece",
            "Luxembourg",
            "Belgium",
            "United Kingdom",
            "Estonia",
            "Romania",
            "Slovakia"
           ],
           "legendgroup": "Connectivity",
           "marker": {
            "color": "#636efa"
           },
           "name": "Connectivity",
           "offsetgroup": "Connectivity",
           "orientation": "v",
           "showlegend": true,
           "textposition": "auto",
           "type": "bar",
           "x": [
            "Austria",
            "Poland",
            "Europe",
            "Spain",
            "Netherlands",
            "Slovenia",
            "Deutschland",
            "Bulgaria",
            "Czech Rep.",
            "France",
            "Finland",
            "Latvia",
            "Denmark",
            "Hungary",
            "Ireland",
            "Sweden",
            "Lithuania",
            "Italy",
            "Malta",
            "Croatia",
            "Cyprus",
            "Portugal",
            "Greece",
            "Luxembourg",
            "Belgium",
            "United Kingdom",
            "Estonia",
            "Romania",
            "Slovakia"
           ],
           "xaxis": "x",
           "y": [
            7.0647,
            6.959810000000001,
            7.78229,
            8.38408,
            10.0916,
            9.07057,
            8.92415,
            6.52572,
            8.096,
            7.65813,
            9.91113,
            11.3794,
            11.2773,
            7.350219999999999,
            6.5734699999999995,
            11.1992,
            8.58184,
            5.89582,
            8.18213,
            5.65107,
            4.3609800000000005,
            7.71197,
            4.73184,
            11.2743,
            7.86075,
            8.55669,
            9.67203,
            8.73385,
            7.22112
           ],
           "yaxis": "y"
          },
          {
           "alignmentgroup": "True",
           "customdata": [
            [
             9.9463,
             "Netherlands",
             2015,
             "Digital Public Services"
            ],
            [
             11.1576,
             "Denmark",
             2015,
             "Digital Public Services"
            ],
            [
             10.8173,
             "Finland",
             2015,
             "Digital Public Services"
            ],
            [
             7.53211,
             "Europe",
             2015,
             "Digital Public Services"
            ],
            [
             10.1328,
             "Portugal",
             2015,
             "Digital Public Services"
            ],
            [
             4.66594,
             "Romania",
             2015,
             "Digital Public Services"
            ],
            [
             9.84623,
             "Sweden",
             2015,
             "Digital Public Services"
            ],
            [
             9.15099,
             "Ireland",
             2015,
             "Digital Public Services"
            ],
            [
             9.608460000000001,
             "Spain",
             2015,
             "Digital Public Services"
            ],
            [
             7.959739999999999,
             "Poland",
             2015,
             "Digital Public Services"
            ],
            [
             6.34576,
             "Deutschland",
             2015,
             "Digital Public Services"
            ],
            [
             6.90362,
             "Slovenia",
             2015,
             "Digital Public Services"
            ],
            [
             4.95589,
             "Czech Rep.",
             2015,
             "Digital Public Services"
            ],
            [
             8.98968,
             "Austria",
             2015,
             "Digital Public Services"
            ],
            [
             9.09689,
             "Lithuania",
             2015,
             "Digital Public Services"
            ],
            [
             6.869689999999999,
             "France",
             2015,
             "Digital Public Services"
            ],
            [
             4.590330000000001,
             "Slovakia",
             2015,
             "Digital Public Services"
            ],
            [
             7.32045,
             "United Kingdom",
             2015,
             "Digital Public Services"
            ],
            [
             11.5939,
             "Estonia",
             2015,
             "Digital Public Services"
            ],
            [
             6.23641,
             "Luxembourg",
             2015,
             "Digital Public Services"
            ],
            [
             10.6802,
             "Malta",
             2015,
             "Digital Public Services"
            ],
            [
             7.277419999999999,
             "Cyprus",
             2015,
             "Digital Public Services"
            ],
            [
             7.71922,
             "Belgium",
             2015,
             "Digital Public Services"
            ],
            [
             8.19661,
             "Latvia",
             2015,
             "Digital Public Services"
            ],
            [
             4.07108,
             "Croatia",
             2015,
             "Digital Public Services"
            ],
            [
             3.09321,
             "Greece",
             2015,
             "Digital Public Services"
            ],
            [
             4.23128,
             "Hungary",
             2015,
             "Digital Public Services"
            ],
            [
             6.90543,
             "Italy",
             2015,
             "Digital Public Services"
            ],
            [
             5.50959,
             "Bulgaria",
             2015,
             "Digital Public Services"
            ]
           ],
           "hovertemplate": "<b>%{hovertext}</b><br><br><extra></extra>",
           "hovertext": [
            9.9463,
            11.1576,
            10.8173,
            7.53211,
            10.1328,
            4.66594,
            9.84623,
            9.15099,
            9.608460000000001,
            7.959739999999999,
            6.34576,
            6.90362,
            4.95589,
            8.98968,
            9.09689,
            6.869689999999999,
            4.590330000000001,
            7.32045,
            11.5939,
            6.23641,
            10.6802,
            7.277419999999999,
            7.71922,
            8.19661,
            4.07108,
            3.09321,
            4.23128,
            6.90543,
            5.50959
           ],
           "ids": [
            "Netherlands",
            "Denmark",
            "Finland",
            "Europe",
            "Portugal",
            "Romania",
            "Sweden",
            "Ireland",
            "Spain",
            "Poland",
            "Deutschland",
            "Slovenia",
            "Czech Rep.",
            "Austria",
            "Lithuania",
            "France",
            "Slovakia",
            "United Kingdom",
            "Estonia",
            "Luxembourg",
            "Malta",
            "Cyprus",
            "Belgium",
            "Latvia",
            "Croatia",
            "Greece",
            "Hungary",
            "Italy",
            "Bulgaria"
           ],
           "legendgroup": "Digital Public Services",
           "marker": {
            "color": "#EF553B"
           },
           "name": "Digital Public Services",
           "offsetgroup": "Digital Public Services",
           "orientation": "v",
           "showlegend": true,
           "textposition": "auto",
           "type": "bar",
           "x": [
            "Netherlands",
            "Denmark",
            "Finland",
            "Europe",
            "Portugal",
            "Romania",
            "Sweden",
            "Ireland",
            "Spain",
            "Poland",
            "Deutschland",
            "Slovenia",
            "Czech Rep.",
            "Austria",
            "Lithuania",
            "France",
            "Slovakia",
            "United Kingdom",
            "Estonia",
            "Luxembourg",
            "Malta",
            "Cyprus",
            "Belgium",
            "Latvia",
            "Croatia",
            "Greece",
            "Hungary",
            "Italy",
            "Bulgaria"
           ],
           "xaxis": "x",
           "y": [
            9.9463,
            11.1576,
            10.8173,
            7.53211,
            10.1328,
            4.66594,
            9.84623,
            9.15099,
            9.608460000000001,
            7.959739999999999,
            6.34576,
            6.90362,
            4.95589,
            8.98968,
            9.09689,
            6.869689999999999,
            4.590330000000001,
            7.32045,
            11.5939,
            6.23641,
            10.6802,
            7.277419999999999,
            7.71922,
            8.19661,
            4.07108,
            3.09321,
            4.23128,
            6.90543,
            5.50959
           ],
           "yaxis": "y"
          },
          {
           "alignmentgroup": "True",
           "customdata": [
            [
             5.6226199999999995,
             "Cyprus",
             2015,
             "Use of Internet Services"
            ],
            [
             6.39002,
             "Czech Rep.",
             2015,
             "Use of Internet Services"
            ],
            [
             7.15562,
             "Malta",
             2015,
             "Use of Internet Services"
            ],
            [
             6.75529,
             "Latvia",
             2015,
             "Use of Internet Services"
            ],
            [
             6.68507,
             "France",
             2015,
             "Use of Internet Services"
            ],
            [
             7.298839999999999,
             "Deutschland",
             2015,
             "Use of Internet Services"
            ],
            [
             9.46597,
             "Finland",
             2015,
             "Use of Internet Services"
            ],
            [
             7.22226,
             "Lithuania",
             2015,
             "Use of Internet Services"
            ],
            [
             4.901,
             "Greece",
             2015,
             "Use of Internet Services"
            ],
            [
             3.25604,
             "Romania",
             2015,
             "Use of Internet Services"
            ],
            [
             6.41774,
             "Slovakia",
             2015,
             "Use of Internet Services"
            ],
            [
             9.7598,
             "Sweden",
             2015,
             "Use of Internet Services"
            ],
            [
             9.79622,
             "Denmark",
             2015,
             "Use of Internet Services"
            ],
            [
             6.22316,
             "Ireland",
             2015,
             "Use of Internet Services"
            ],
            [
             8.93206,
             "Netherlands",
             2015,
             "Use of Internet Services"
            ],
            [
             6.5115099999999995,
             "Slovenia",
             2015,
             "Use of Internet Services"
            ],
            [
             6.715039999999999,
             "Spain",
             2015,
             "Use of Internet Services"
            ],
            [
             4.8125599999999995,
             "Italy",
             2015,
             "Use of Internet Services"
            ],
            [
             6.90422,
             "Hungary",
             2015,
             "Use of Internet Services"
            ],
            [
             5.88007,
             "Croatia",
             2015,
             "Use of Internet Services"
            ],
            [
             6.75127,
             "Europe",
             2015,
             "Use of Internet Services"
            ],
            [
             6.33007,
             "Austria",
             2015,
             "Use of Internet Services"
            ],
            [
             8.73296,
             "Luxembourg",
             2015,
             "Use of Internet Services"
            ],
            [
             8.50934,
             "Estonia",
             2015,
             "Use of Internet Services"
            ],
            [
             7.078410000000001,
             "Belgium",
             2015,
             "Use of Internet Services"
            ],
            [
             5.23077,
             "Portugal",
             2015,
             "Use of Internet Services"
            ],
            [
             8.7379,
             "United Kingdom",
             2015,
             "Use of Internet Services"
            ],
            [
             5.01313,
             "Poland",
             2015,
             "Use of Internet Services"
            ],
            [
             4.42656,
             "Bulgaria",
             2015,
             "Use of Internet Services"
            ]
           ],
           "hovertemplate": "<b>%{hovertext}</b><br><br><extra></extra>",
           "hovertext": [
            5.6226199999999995,
            6.39002,
            7.15562,
            6.75529,
            6.68507,
            7.298839999999999,
            9.46597,
            7.22226,
            4.901,
            3.25604,
            6.41774,
            9.7598,
            9.79622,
            6.22316,
            8.93206,
            6.5115099999999995,
            6.715039999999999,
            4.8125599999999995,
            6.90422,
            5.88007,
            6.75127,
            6.33007,
            8.73296,
            8.50934,
            7.078410000000001,
            5.23077,
            8.7379,
            5.01313,
            4.42656
           ],
           "ids": [
            "Cyprus",
            "Czech Rep.",
            "Malta",
            "Latvia",
            "France",
            "Deutschland",
            "Finland",
            "Lithuania",
            "Greece",
            "Romania",
            "Slovakia",
            "Sweden",
            "Denmark",
            "Ireland",
            "Netherlands",
            "Slovenia",
            "Spain",
            "Italy",
            "Hungary",
            "Croatia",
            "Europe",
            "Austria",
            "Luxembourg",
            "Estonia",
            "Belgium",
            "Portugal",
            "United Kingdom",
            "Poland",
            "Bulgaria"
           ],
           "legendgroup": "Use of Internet Services",
           "marker": {
            "color": "#00cc96"
           },
           "name": "Use of Internet Services",
           "offsetgroup": "Use of Internet Services",
           "orientation": "v",
           "showlegend": true,
           "textposition": "auto",
           "type": "bar",
           "x": [
            "Cyprus",
            "Czech Rep.",
            "Malta",
            "Latvia",
            "France",
            "Deutschland",
            "Finland",
            "Lithuania",
            "Greece",
            "Romania",
            "Slovakia",
            "Sweden",
            "Denmark",
            "Ireland",
            "Netherlands",
            "Slovenia",
            "Spain",
            "Italy",
            "Hungary",
            "Croatia",
            "Europe",
            "Austria",
            "Luxembourg",
            "Estonia",
            "Belgium",
            "Portugal",
            "United Kingdom",
            "Poland",
            "Bulgaria"
           ],
           "xaxis": "x",
           "y": [
            5.6226199999999995,
            6.39002,
            7.15562,
            6.75529,
            6.68507,
            7.298839999999999,
            9.46597,
            7.22226,
            4.901,
            3.25604,
            6.41774,
            9.7598,
            9.79622,
            6.22316,
            8.93206,
            6.5115099999999995,
            6.715039999999999,
            4.8125599999999995,
            6.90422,
            5.88007,
            6.75127,
            6.33007,
            8.73296,
            8.50934,
            7.078410000000001,
            5.23077,
            8.7379,
            5.01313,
            4.42656
           ],
           "yaxis": "y"
          },
          {
           "alignmentgroup": "True",
           "customdata": [
            [
             8.676919999999999,
             "Netherlands",
             2015,
             "Integration of Digital Technology"
            ],
            [
             5.85388,
             "Spain",
             2015,
             "Integration of Digital Technology"
            ],
            [
             5.69643,
             "Deutschland",
             2015,
             "Integration of Digital Technology"
            ],
            [
             9.009319999999999,
             "Sweden",
             2015,
             "Integration of Digital Technology"
            ],
            [
             5.589169999999999,
             "Slovakia",
             2015,
             "Integration of Digital Technology"
            ],
            [
             8.426969999999999,
             "Finland",
             2015,
             "Integration of Digital Technology"
            ],
            [
             5.60393,
             "Austria",
             2015,
             "Integration of Digital Technology"
            ],
            [
             3.05672,
             "Bulgaria",
             2015,
             "Integration of Digital Technology"
            ],
            [
             5.18109,
             "France",
             2015,
             "Integration of Digital Technology"
            ],
            [
             9.59295,
             "Denmark",
             2015,
             "Integration of Digital Technology"
            ],
            [
             6.7355100000000006,
             "Lithuania",
             2015,
             "Integration of Digital Technology"
            ],
            [
             9.25737,
             "Ireland",
             2015,
             "Integration of Digital Technology"
            ],
            [
             3.45362,
             "Poland",
             2015,
             "Integration of Digital Technology"
            ],
            [
             4.9422,
             "Estonia",
             2015,
             "Integration of Digital Technology"
            ],
            [
             8.56758,
             "Belgium",
             2015,
             "Integration of Digital Technology"
            ],
            [
             5.38068,
             "Luxembourg",
             2015,
             "Integration of Digital Technology"
            ],
            [
             7.0004100000000005,
             "United Kingdom",
             2015,
             "Integration of Digital Technology"
            ],
            [
             3.10604,
             "Latvia",
             2015,
             "Integration of Digital Technology"
            ],
            [
             7.4405600000000005,
             "Czech Rep.",
             2015,
             "Integration of Digital Technology"
            ],
            [
             7.12971,
             "Malta",
             2015,
             "Integration of Digital Technology"
            ],
            [
             6.02412,
             "Portugal",
             2015,
             "Integration of Digital Technology"
            ],
            [
             4.99911,
             "Cyprus",
             2015,
             "Integration of Digital Technology"
            ],
            [
             5.3345,
             "Slovenia",
             2015,
             "Integration of Digital Technology"
            ],
            [
             4.4357,
             "Italy",
             2015,
             "Integration of Digital Technology"
            ],
            [
             7.14795,
             "Croatia",
             2015,
             "Integration of Digital Technology"
            ],
            [
             4.854769999999999,
             "Greece",
             2015,
             "Integration of Digital Technology"
            ],
            [
             5.8445800000000006,
             "Europe",
             2015,
             "Integration of Digital Technology"
            ],
            [
             3.59053,
             "Hungary",
             2015,
             "Integration of Digital Technology"
            ],
            [
             3.3450900000000003,
             "Romania",
             2015,
             "Integration of Digital Technology"
            ]
           ],
           "hovertemplate": "<b>%{hovertext}</b><br><br><extra></extra>",
           "hovertext": [
            8.676919999999999,
            5.85388,
            5.69643,
            9.009319999999999,
            5.589169999999999,
            8.426969999999999,
            5.60393,
            3.05672,
            5.18109,
            9.59295,
            6.7355100000000006,
            9.25737,
            3.45362,
            4.9422,
            8.56758,
            5.38068,
            7.0004100000000005,
            3.10604,
            7.4405600000000005,
            7.12971,
            6.02412,
            4.99911,
            5.3345,
            4.4357,
            7.14795,
            4.854769999999999,
            5.8445800000000006,
            3.59053,
            3.3450900000000003
           ],
           "ids": [
            "Netherlands",
            "Spain",
            "Deutschland",
            "Sweden",
            "Slovakia",
            "Finland",
            "Austria",
            "Bulgaria",
            "France",
            "Denmark",
            "Lithuania",
            "Ireland",
            "Poland",
            "Estonia",
            "Belgium",
            "Luxembourg",
            "United Kingdom",
            "Latvia",
            "Czech Rep.",
            "Malta",
            "Portugal",
            "Cyprus",
            "Slovenia",
            "Italy",
            "Croatia",
            "Greece",
            "Europe",
            "Hungary",
            "Romania"
           ],
           "legendgroup": "Integration of Digital Technology",
           "marker": {
            "color": "#ab63fa"
           },
           "name": "Integration of Digital Technology",
           "offsetgroup": "Integration of Digital Technology",
           "orientation": "v",
           "showlegend": true,
           "textposition": "auto",
           "type": "bar",
           "x": [
            "Netherlands",
            "Spain",
            "Deutschland",
            "Sweden",
            "Slovakia",
            "Finland",
            "Austria",
            "Bulgaria",
            "France",
            "Denmark",
            "Lithuania",
            "Ireland",
            "Poland",
            "Estonia",
            "Belgium",
            "Luxembourg",
            "United Kingdom",
            "Latvia",
            "Czech Rep.",
            "Malta",
            "Portugal",
            "Cyprus",
            "Slovenia",
            "Italy",
            "Croatia",
            "Greece",
            "Europe",
            "Hungary",
            "Romania"
           ],
           "xaxis": "x",
           "y": [
            8.676919999999999,
            5.85388,
            5.69643,
            9.009319999999999,
            5.589169999999999,
            8.426969999999999,
            5.60393,
            3.05672,
            5.18109,
            9.59295,
            6.7355100000000006,
            9.25737,
            3.45362,
            4.9422,
            8.56758,
            5.38068,
            7.0004100000000005,
            3.10604,
            7.4405600000000005,
            7.12971,
            6.02412,
            4.99911,
            5.3345,
            4.4357,
            7.14795,
            4.854769999999999,
            5.8445800000000006,
            3.59053,
            3.3450900000000003
           ],
           "yaxis": "y"
          },
          {
           "alignmentgroup": "True",
           "customdata": [
            [
             12.5472,
             "Austria",
             2015,
             "Human Capital"
            ],
            [
             10.414000000000001,
             "Slovenia",
             2015,
             "Human Capital"
            ],
            [
             9.60926,
             "Hungary",
             2015,
             "Human Capital"
            ],
            [
             9.18325,
             "Latvia",
             2015,
             "Human Capital"
            ],
            [
             9.24162,
             "Slovakia",
             2015,
             "Human Capital"
            ],
            [
             8.388530000000001,
             "Cyprus",
             2015,
             "Human Capital"
            ],
            [
             11.8648,
             "Ireland",
             2015,
             "Human Capital"
            ],
            [
             7.91995,
             "Poland",
             2015,
             "Human Capital"
            ],
            [
             7.976789999999999,
             "Portugal",
             2015,
             "Human Capital"
            ],
            [
             8.55204,
             "Greece",
             2015,
             "Human Capital"
            ],
            [
             10.9983,
             "Europe",
             2015,
             "Human Capital"
            ],
            [
             7.701289999999999,
             "Italy",
             2015,
             "Human Capital"
            ],
            [
             10.2502,
             "Croatia",
             2015,
             "Human Capital"
            ],
            [
             13.9732,
             "Estonia",
             2015,
             "Human Capital"
            ],
            [
             13.34,
             "Malta",
             2015,
             "Human Capital"
            ],
            [
             6.86706,
             "Romania",
             2015,
             "Human Capital"
            ],
            [
             11.2147,
             "Czech Rep.",
             2015,
             "Human Capital"
            ],
            [
             15.3152,
             "Sweden",
             2015,
             "Human Capital"
            ],
            [
             15.1573,
             "Denmark",
             2015,
             "Human Capital"
            ],
            [
             7.29471,
             "Bulgaria",
             2015,
             "Human Capital"
            ],
            [
             18.0519,
             "Finland",
             2015,
             "Human Capital"
            ],
            [
             8.73623,
             "Lithuania",
             2015,
             "Human Capital"
            ],
            [
             11.0647,
             "France",
             2015,
             "Human Capital"
            ],
            [
             11.5957,
             "Belgium",
             2015,
             "Human Capital"
            ],
            [
             14.088,
             "United Kingdom",
             2015,
             "Human Capital"
            ],
            [
             12.8161,
             "Deutschland",
             2015,
             "Human Capital"
            ],
            [
             10.7992,
             "Spain",
             2015,
             "Human Capital"
            ],
            [
             13.5831,
             "Netherlands",
             2015,
             "Human Capital"
            ],
            [
             13.1423,
             "Luxembourg",
             2015,
             "Human Capital"
            ]
           ],
           "hovertemplate": "<b>%{hovertext}</b><br><br><extra></extra>",
           "hovertext": [
            12.5472,
            10.414000000000001,
            9.60926,
            9.18325,
            9.24162,
            8.388530000000001,
            11.8648,
            7.91995,
            7.976789999999999,
            8.55204,
            10.9983,
            7.701289999999999,
            10.2502,
            13.9732,
            13.34,
            6.86706,
            11.2147,
            15.3152,
            15.1573,
            7.29471,
            18.0519,
            8.73623,
            11.0647,
            11.5957,
            14.088,
            12.8161,
            10.7992,
            13.5831,
            13.1423
           ],
           "ids": [
            "Austria",
            "Slovenia",
            "Hungary",
            "Latvia",
            "Slovakia",
            "Cyprus",
            "Ireland",
            "Poland",
            "Portugal",
            "Greece",
            "Europe",
            "Italy",
            "Croatia",
            "Estonia",
            "Malta",
            "Romania",
            "Czech Rep.",
            "Sweden",
            "Denmark",
            "Bulgaria",
            "Finland",
            "Lithuania",
            "France",
            "Belgium",
            "United Kingdom",
            "Deutschland",
            "Spain",
            "Netherlands",
            "Luxembourg"
           ],
           "legendgroup": "Human Capital",
           "marker": {
            "color": "#FFA15A"
           },
           "name": "Human Capital",
           "offsetgroup": "Human Capital",
           "orientation": "v",
           "showlegend": true,
           "textposition": "auto",
           "type": "bar",
           "x": [
            "Austria",
            "Slovenia",
            "Hungary",
            "Latvia",
            "Slovakia",
            "Cyprus",
            "Ireland",
            "Poland",
            "Portugal",
            "Greece",
            "Europe",
            "Italy",
            "Croatia",
            "Estonia",
            "Malta",
            "Romania",
            "Czech Rep.",
            "Sweden",
            "Denmark",
            "Bulgaria",
            "Finland",
            "Lithuania",
            "France",
            "Belgium",
            "United Kingdom",
            "Deutschland",
            "Spain",
            "Netherlands",
            "Luxembourg"
           ],
           "xaxis": "x",
           "y": [
            12.5472,
            10.414000000000001,
            9.60926,
            9.18325,
            9.24162,
            8.388530000000001,
            11.8648,
            7.91995,
            7.976789999999999,
            8.55204,
            10.9983,
            7.701289999999999,
            10.2502,
            13.9732,
            13.34,
            6.86706,
            11.2147,
            15.3152,
            15.1573,
            7.29471,
            18.0519,
            8.73623,
            11.0647,
            11.5957,
            14.088,
            12.8161,
            10.7992,
            13.5831,
            13.1423
           ],
           "yaxis": "y"
          }
         ],
         "name": "2015"
        },
        {
         "data": [
          {
           "alignmentgroup": "True",
           "customdata": [
            [
             8.04293,
             "France",
             2016,
             "Connectivity"
            ],
            [
             9.3908,
             "Spain",
             2016,
             "Connectivity"
            ],
            [
             5.28291,
             "Greece",
             2016,
             "Connectivity"
            ],
            [
             8.521,
             "Hungary",
             2016,
             "Connectivity"
            ],
            [
             8.70171,
             "Portugal",
             2016,
             "Connectivity"
            ],
            [
             9.3144,
             "Lithuania",
             2016,
             "Connectivity"
            ],
            [
             11.5879,
             "Sweden",
             2016,
             "Connectivity"
            ],
            [
             7.38922,
             "Bulgaria",
             2016,
             "Connectivity"
            ],
            [
             7.9614199999999995,
             "Austria",
             2016,
             "Connectivity"
            ],
            [
             10.054,
             "Romania",
             2016,
             "Connectivity"
            ],
            [
             11.683,
             "Denmark",
             2016,
             "Connectivity"
            ],
            [
             6.00218,
             "Cyprus",
             2016,
             "Connectivity"
            ],
            [
             10.0877,
             "Finland",
             2016,
             "Connectivity"
            ],
            [
             8.5199,
             "Europe",
             2016,
             "Connectivity"
            ],
            [
             9.8273,
             "Slovenia",
             2016,
             "Connectivity"
            ],
            [
             7.45574,
             "Ireland",
             2016,
             "Connectivity"
            ],
            [
             8.56219,
             "Belgium",
             2016,
             "Connectivity"
            ],
            [
             10.7892,
             "Estonia",
             2016,
             "Connectivity"
            ],
            [
             12.2315,
             "Luxembourg",
             2016,
             "Connectivity"
            ],
            [
             8.75152,
             "Malta",
             2016,
             "Connectivity"
            ],
            [
             9.29168,
             "United Kingdom",
             2016,
             "Connectivity"
            ],
            [
             11.269,
             "Netherlands",
             2016,
             "Connectivity"
            ],
            [
             6.786860000000001,
             "Italy",
             2016,
             "Connectivity"
            ],
            [
             6.6798399999999996,
             "Croatia",
             2016,
             "Connectivity"
            ],
            [
             9.36607,
             "Deutschland",
             2016,
             "Connectivity"
            ],
            [
             7.65665,
             "Poland",
             2016,
             "Connectivity"
            ],
            [
             7.9615,
             "Slovakia",
             2016,
             "Connectivity"
            ],
            [
             12.4397,
             "Latvia",
             2016,
             "Connectivity"
            ],
            [
             8.67957,
             "Czech Rep.",
             2016,
             "Connectivity"
            ]
           ],
           "hovertemplate": "<b>%{hovertext}</b><br><br><extra></extra>",
           "hovertext": [
            8.04293,
            9.3908,
            5.28291,
            8.521,
            8.70171,
            9.3144,
            11.5879,
            7.38922,
            7.9614199999999995,
            10.054,
            11.683,
            6.00218,
            10.0877,
            8.5199,
            9.8273,
            7.45574,
            8.56219,
            10.7892,
            12.2315,
            8.75152,
            9.29168,
            11.269,
            6.786860000000001,
            6.6798399999999996,
            9.36607,
            7.65665,
            7.9615,
            12.4397,
            8.67957
           ],
           "ids": [
            "France",
            "Spain",
            "Greece",
            "Hungary",
            "Portugal",
            "Lithuania",
            "Sweden",
            "Bulgaria",
            "Austria",
            "Romania",
            "Denmark",
            "Cyprus",
            "Finland",
            "Europe",
            "Slovenia",
            "Ireland",
            "Belgium",
            "Estonia",
            "Luxembourg",
            "Malta",
            "United Kingdom",
            "Netherlands",
            "Italy",
            "Croatia",
            "Deutschland",
            "Poland",
            "Slovakia",
            "Latvia",
            "Czech Rep."
           ],
           "legendgroup": "Connectivity",
           "marker": {
            "color": "#636efa"
           },
           "name": "Connectivity",
           "offsetgroup": "Connectivity",
           "orientation": "v",
           "showlegend": true,
           "textposition": "auto",
           "type": "bar",
           "x": [
            "France",
            "Spain",
            "Greece",
            "Hungary",
            "Portugal",
            "Lithuania",
            "Sweden",
            "Bulgaria",
            "Austria",
            "Romania",
            "Denmark",
            "Cyprus",
            "Finland",
            "Europe",
            "Slovenia",
            "Ireland",
            "Belgium",
            "Estonia",
            "Luxembourg",
            "Malta",
            "United Kingdom",
            "Netherlands",
            "Italy",
            "Croatia",
            "Deutschland",
            "Poland",
            "Slovakia",
            "Latvia",
            "Czech Rep."
           ],
           "xaxis": "x",
           "y": [
            8.04293,
            9.3908,
            5.28291,
            8.521,
            8.70171,
            9.3144,
            11.5879,
            7.38922,
            7.9614199999999995,
            10.054,
            11.683,
            6.00218,
            10.0877,
            8.5199,
            9.8273,
            7.45574,
            8.56219,
            10.7892,
            12.2315,
            8.75152,
            9.29168,
            11.269,
            6.786860000000001,
            6.6798399999999996,
            9.36607,
            7.65665,
            7.9615,
            12.4397,
            8.67957
           ],
           "yaxis": "y"
          },
          {
           "alignmentgroup": "True",
           "customdata": [
            [
             7.843389999999999,
             "Slovenia",
             2016,
             "Digital Public Services"
            ],
            [
             9.96632,
             "Austria",
             2016,
             "Digital Public Services"
            ],
            [
             4.3331800000000005,
             "Hungary",
             2016,
             "Digital Public Services"
            ],
            [
             5.7314,
             "Croatia",
             2016,
             "Digital Public Services"
            ],
            [
             4.04601,
             "Greece",
             2016,
             "Digital Public Services"
            ],
            [
             8.13097,
             "Europe",
             2016,
             "Digital Public Services"
            ],
            [
             10.4901,
             "Netherlands",
             2016,
             "Digital Public Services"
            ],
            [
             6.20368,
             "Bulgaria",
             2016,
             "Digital Public Services"
            ],
            [
             11.5573,
             "Denmark",
             2016,
             "Digital Public Services"
            ],
            [
             7.9875300000000005,
             "Poland",
             2016,
             "Digital Public Services"
            ],
            [
             9.45825,
             "Ireland",
             2016,
             "Digital Public Services"
            ],
            [
             7.36923,
             "Italy",
             2016,
             "Digital Public Services"
            ],
            [
             10.1228,
             "Lithuania",
             2016,
             "Digital Public Services"
            ],
            [
             9.98507,
             "Spain",
             2016,
             "Digital Public Services"
            ],
            [
             4.66144,
             "Slovakia",
             2016,
             "Digital Public Services"
            ],
            [
             8.59278,
             "Belgium",
             2016,
             "Digital Public Services"
            ],
            [
             8.21519,
             "Cyprus",
             2016,
             "Digital Public Services"
            ],
            [
             10.7141,
             "Malta",
             2016,
             "Digital Public Services"
            ],
            [
             7.39716,
             "Deutschland",
             2016,
             "Digital Public Services"
            ],
            [
             7.982589999999999,
             "France",
             2016,
             "Digital Public Services"
            ],
            [
             11.1308,
             "Finland",
             2016,
             "Digital Public Services"
            ],
            [
             5.63025,
             "Czech Rep.",
             2016,
             "Digital Public Services"
            ],
            [
             10.7337,
             "Sweden",
             2016,
             "Digital Public Services"
            ],
            [
             8.00073,
             "United Kingdom",
             2016,
             "Digital Public Services"
            ],
            [
             5.12475,
             "Romania",
             2016,
             "Digital Public Services"
            ],
            [
             6.73077,
             "Luxembourg",
             2016,
             "Digital Public Services"
            ],
            [
             9.24145,
             "Latvia",
             2016,
             "Digital Public Services"
            ],
            [
             12.0676,
             "Estonia",
             2016,
             "Digital Public Services"
            ],
            [
             10.2168,
             "Portugal",
             2016,
             "Digital Public Services"
            ]
           ],
           "hovertemplate": "<b>%{hovertext}</b><br><br><extra></extra>",
           "hovertext": [
            7.843389999999999,
            9.96632,
            4.3331800000000005,
            5.7314,
            4.04601,
            8.13097,
            10.4901,
            6.20368,
            11.5573,
            7.9875300000000005,
            9.45825,
            7.36923,
            10.1228,
            9.98507,
            4.66144,
            8.59278,
            8.21519,
            10.7141,
            7.39716,
            7.982589999999999,
            11.1308,
            5.63025,
            10.7337,
            8.00073,
            5.12475,
            6.73077,
            9.24145,
            12.0676,
            10.2168
           ],
           "ids": [
            "Slovenia",
            "Austria",
            "Hungary",
            "Croatia",
            "Greece",
            "Europe",
            "Netherlands",
            "Bulgaria",
            "Denmark",
            "Poland",
            "Ireland",
            "Italy",
            "Lithuania",
            "Spain",
            "Slovakia",
            "Belgium",
            "Cyprus",
            "Malta",
            "Deutschland",
            "France",
            "Finland",
            "Czech Rep.",
            "Sweden",
            "United Kingdom",
            "Romania",
            "Luxembourg",
            "Latvia",
            "Estonia",
            "Portugal"
           ],
           "legendgroup": "Digital Public Services",
           "marker": {
            "color": "#EF553B"
           },
           "name": "Digital Public Services",
           "offsetgroup": "Digital Public Services",
           "orientation": "v",
           "showlegend": true,
           "textposition": "auto",
           "type": "bar",
           "x": [
            "Slovenia",
            "Austria",
            "Hungary",
            "Croatia",
            "Greece",
            "Europe",
            "Netherlands",
            "Bulgaria",
            "Denmark",
            "Poland",
            "Ireland",
            "Italy",
            "Lithuania",
            "Spain",
            "Slovakia",
            "Belgium",
            "Cyprus",
            "Malta",
            "Deutschland",
            "France",
            "Finland",
            "Czech Rep.",
            "Sweden",
            "United Kingdom",
            "Romania",
            "Luxembourg",
            "Latvia",
            "Estonia",
            "Portugal"
           ],
           "xaxis": "x",
           "y": [
            7.843389999999999,
            9.96632,
            4.3331800000000005,
            5.7314,
            4.04601,
            8.13097,
            10.4901,
            6.20368,
            11.5573,
            7.9875300000000005,
            9.45825,
            7.36923,
            10.1228,
            9.98507,
            4.66144,
            8.59278,
            8.21519,
            10.7141,
            7.39716,
            7.982589999999999,
            11.1308,
            5.63025,
            10.7337,
            8.00073,
            5.12475,
            6.73077,
            9.24145,
            12.0676,
            10.2168
           ],
           "yaxis": "y"
          },
          {
           "alignmentgroup": "True",
           "customdata": [
            [
             6.44895,
             "Czech Rep.",
             2016,
             "Use of Internet Services"
            ],
            [
             4.7099,
             "Bulgaria",
             2016,
             "Use of Internet Services"
            ],
            [
             6.31311,
             "Slovakia",
             2016,
             "Use of Internet Services"
            ],
            [
             3.90596,
             "Romania",
             2016,
             "Use of Internet Services"
            ],
            [
             6.63704,
             "Austria",
             2016,
             "Use of Internet Services"
            ],
            [
             6.893689999999999,
             "Croatia",
             2016,
             "Use of Internet Services"
            ],
            [
             8.00262,
             "Malta",
             2016,
             "Use of Internet Services"
            ],
            [
             5.9559,
             "Cyprus",
             2016,
             "Use of Internet Services"
            ],
            [
             9.02975,
             "Netherlands",
             2016,
             "Use of Internet Services"
            ],
            [
             9.98132,
             "Denmark",
             2016,
             "Use of Internet Services"
            ],
            [
             5.28095,
             "Greece",
             2016,
             "Use of Internet Services"
            ],
            [
             6.99938,
             "Europe",
             2016,
             "Use of Internet Services"
            ],
            [
             5.685630000000001,
             "Portugal",
             2016,
             "Use of Internet Services"
            ],
            [
             8.86777,
             "Estonia",
             2016,
             "Use of Internet Services"
            ],
            [
             6.38236,
             "Ireland",
             2016,
             "Use of Internet Services"
            ],
            [
             8.99819,
             "United Kingdom",
             2016,
             "Use of Internet Services"
            ],
            [
             5.18565,
             "Poland",
             2016,
             "Use of Internet Services"
            ],
            [
             7.71351,
             "Deutschland",
             2016,
             "Use of Internet Services"
            ],
            [
             7.24052,
             "Latvia",
             2016,
             "Use of Internet Services"
            ],
            [
             7.08427,
             "Hungary",
             2016,
             "Use of Internet Services"
            ],
            [
             9.246839999999999,
             "Luxembourg",
             2016,
             "Use of Internet Services"
            ],
            [
             6.02821,
             "Slovenia",
             2016,
             "Use of Internet Services"
            ],
            [
             6.955360000000001,
             "Spain",
             2016,
             "Use of Internet Services"
            ],
            [
             6.70262,
             "France",
             2016,
             "Use of Internet Services"
            ],
            [
             6.83149,
             "Lithuania",
             2016,
             "Use of Internet Services"
            ],
            [
             9.58601,
             "Finland",
             2016,
             "Use of Internet Services"
            ],
            [
             9.59623,
             "Sweden",
             2016,
             "Use of Internet Services"
            ],
            [
             4.9288099999999995,
             "Italy",
             2016,
             "Use of Internet Services"
            ],
            [
             7.54961,
             "Belgium",
             2016,
             "Use of Internet Services"
            ]
           ],
           "hovertemplate": "<b>%{hovertext}</b><br><br><extra></extra>",
           "hovertext": [
            6.44895,
            4.7099,
            6.31311,
            3.90596,
            6.63704,
            6.893689999999999,
            8.00262,
            5.9559,
            9.02975,
            9.98132,
            5.28095,
            6.99938,
            5.685630000000001,
            8.86777,
            6.38236,
            8.99819,
            5.18565,
            7.71351,
            7.24052,
            7.08427,
            9.246839999999999,
            6.02821,
            6.955360000000001,
            6.70262,
            6.83149,
            9.58601,
            9.59623,
            4.9288099999999995,
            7.54961
           ],
           "ids": [
            "Czech Rep.",
            "Bulgaria",
            "Slovakia",
            "Romania",
            "Austria",
            "Croatia",
            "Malta",
            "Cyprus",
            "Netherlands",
            "Denmark",
            "Greece",
            "Europe",
            "Portugal",
            "Estonia",
            "Ireland",
            "United Kingdom",
            "Poland",
            "Deutschland",
            "Latvia",
            "Hungary",
            "Luxembourg",
            "Slovenia",
            "Spain",
            "France",
            "Lithuania",
            "Finland",
            "Sweden",
            "Italy",
            "Belgium"
           ],
           "legendgroup": "Use of Internet Services",
           "marker": {
            "color": "#00cc96"
           },
           "name": "Use of Internet Services",
           "offsetgroup": "Use of Internet Services",
           "orientation": "v",
           "showlegend": true,
           "textposition": "auto",
           "type": "bar",
           "x": [
            "Czech Rep.",
            "Bulgaria",
            "Slovakia",
            "Romania",
            "Austria",
            "Croatia",
            "Malta",
            "Cyprus",
            "Netherlands",
            "Denmark",
            "Greece",
            "Europe",
            "Portugal",
            "Estonia",
            "Ireland",
            "United Kingdom",
            "Poland",
            "Deutschland",
            "Latvia",
            "Hungary",
            "Luxembourg",
            "Slovenia",
            "Spain",
            "France",
            "Lithuania",
            "Finland",
            "Sweden",
            "Italy",
            "Belgium"
           ],
           "xaxis": "x",
           "y": [
            6.44895,
            4.7099,
            6.31311,
            3.90596,
            6.63704,
            6.893689999999999,
            8.00262,
            5.9559,
            9.02975,
            9.98132,
            5.28095,
            6.99938,
            5.685630000000001,
            8.86777,
            6.38236,
            8.99819,
            5.18565,
            7.71351,
            7.24052,
            7.08427,
            9.246839999999999,
            6.02821,
            6.955360000000001,
            6.70262,
            6.83149,
            9.58601,
            9.59623,
            4.9288099999999995,
            7.54961
           ],
           "yaxis": "y"
          },
          {
           "alignmentgroup": "True",
           "customdata": [
            [
             5.24535,
             "Italy",
             2016,
             "Integration of Digital Technology"
            ],
            [
             7.47485,
             "Lithuania",
             2016,
             "Integration of Digital Technology"
            ],
            [
             6.76501,
             "Slovenia",
             2016,
             "Integration of Digital Technology"
            ],
            [
             6.66063,
             "France",
             2016,
             "Integration of Digital Technology"
            ],
            [
             9.93634,
             "Denmark",
             2016,
             "Integration of Digital Technology"
            ],
            [
             11.3485,
             "Ireland",
             2016,
             "Integration of Digital Technology"
            ],
            [
             3.1932,
             "Bulgaria",
             2016,
             "Integration of Digital Technology"
            ],
            [
             10.0791,
             "Netherlands",
             2016,
             "Integration of Digital Technology"
            ],
            [
             6.03927,
             "Austria",
             2016,
             "Integration of Digital Technology"
            ],
            [
             6.171,
             "Spain",
             2016,
             "Integration of Digital Technology"
            ],
            [
             5.76933,
             "Cyprus",
             2016,
             "Integration of Digital Technology"
            ],
            [
             3.7452699999999997,
             "Romania",
             2016,
             "Integration of Digital Technology"
            ],
            [
             7.464919999999999,
             "Czech Rep.",
             2016,
             "Integration of Digital Technology"
            ],
            [
             9.118089999999999,
             "Finland",
             2016,
             "Integration of Digital Technology"
            ],
            [
             6.717039999999999,
             "Croatia",
             2016,
             "Integration of Digital Technology"
            ],
            [
             4.01658,
             "Hungary",
             2016,
             "Integration of Digital Technology"
            ],
            [
             8.12543,
             "United Kingdom",
             2016,
             "Integration of Digital Technology"
            ],
            [
             9.96224,
             "Belgium",
             2016,
             "Integration of Digital Technology"
            ],
            [
             6.6235,
             "Europe",
             2016,
             "Integration of Digital Technology"
            ],
            [
             5.69842,
             "Estonia",
             2016,
             "Integration of Digital Technology"
            ],
            [
             4.5892599999999995,
             "Greece",
             2016,
             "Integration of Digital Technology"
            ],
            [
             3.72171,
             "Latvia",
             2016,
             "Integration of Digital Technology"
            ],
            [
             9.83455,
             "Sweden",
             2016,
             "Integration of Digital Technology"
            ],
            [
             3.69049,
             "Poland",
             2016,
             "Integration of Digital Technology"
            ],
            [
             5.2870800000000004,
             "Luxembourg",
             2016,
             "Integration of Digital Technology"
            ],
            [
             7.45907,
             "Portugal",
             2016,
             "Integration of Digital Technology"
            ],
            [
             6.37691,
             "Deutschland",
             2016,
             "Integration of Digital Technology"
            ],
            [
             7.697210000000001,
             "Malta",
             2016,
             "Integration of Digital Technology"
            ],
            [
             6.1833599999999995,
             "Slovakia",
             2016,
             "Integration of Digital Technology"
            ]
           ],
           "hovertemplate": "<b>%{hovertext}</b><br><br><extra></extra>",
           "hovertext": [
            5.24535,
            7.47485,
            6.76501,
            6.66063,
            9.93634,
            11.3485,
            3.1932,
            10.0791,
            6.03927,
            6.171,
            5.76933,
            3.7452699999999997,
            7.464919999999999,
            9.118089999999999,
            6.717039999999999,
            4.01658,
            8.12543,
            9.96224,
            6.6235,
            5.69842,
            4.5892599999999995,
            3.72171,
            9.83455,
            3.69049,
            5.2870800000000004,
            7.45907,
            6.37691,
            7.697210000000001,
            6.1833599999999995
           ],
           "ids": [
            "Italy",
            "Lithuania",
            "Slovenia",
            "France",
            "Denmark",
            "Ireland",
            "Bulgaria",
            "Netherlands",
            "Austria",
            "Spain",
            "Cyprus",
            "Romania",
            "Czech Rep.",
            "Finland",
            "Croatia",
            "Hungary",
            "United Kingdom",
            "Belgium",
            "Europe",
            "Estonia",
            "Greece",
            "Latvia",
            "Sweden",
            "Poland",
            "Luxembourg",
            "Portugal",
            "Deutschland",
            "Malta",
            "Slovakia"
           ],
           "legendgroup": "Integration of Digital Technology",
           "marker": {
            "color": "#ab63fa"
           },
           "name": "Integration of Digital Technology",
           "offsetgroup": "Integration of Digital Technology",
           "orientation": "v",
           "showlegend": true,
           "textposition": "auto",
           "type": "bar",
           "x": [
            "Italy",
            "Lithuania",
            "Slovenia",
            "France",
            "Denmark",
            "Ireland",
            "Bulgaria",
            "Netherlands",
            "Austria",
            "Spain",
            "Cyprus",
            "Romania",
            "Czech Rep.",
            "Finland",
            "Croatia",
            "Hungary",
            "United Kingdom",
            "Belgium",
            "Europe",
            "Estonia",
            "Greece",
            "Latvia",
            "Sweden",
            "Poland",
            "Luxembourg",
            "Portugal",
            "Deutschland",
            "Malta",
            "Slovakia"
           ],
           "xaxis": "x",
           "y": [
            5.24535,
            7.47485,
            6.76501,
            6.66063,
            9.93634,
            11.3485,
            3.1932,
            10.0791,
            6.03927,
            6.171,
            5.76933,
            3.7452699999999997,
            7.464919999999999,
            9.118089999999999,
            6.717039999999999,
            4.01658,
            8.12543,
            9.96224,
            6.6235,
            5.69842,
            4.5892599999999995,
            3.72171,
            9.83455,
            3.69049,
            5.2870800000000004,
            7.45907,
            6.37691,
            7.697210000000001,
            6.1833599999999995
           ],
           "yaxis": "y"
          },
          {
           "alignmentgroup": "True",
           "customdata": [
            [
             9.74277,
             "Slovakia",
             2016,
             "Human Capital"
            ],
            [
             10.867,
             "France",
             2016,
             "Human Capital"
            ],
            [
             15.5666,
             "Sweden",
             2016,
             "Human Capital"
            ],
            [
             11.1315,
             "Europe",
             2016,
             "Human Capital"
            ],
            [
             8.32975,
             "Greece",
             2016,
             "Human Capital"
            ],
            [
             11.7351,
             "Belgium",
             2016,
             "Human Capital"
            ],
            [
             13.9155,
             "Estonia",
             2016,
             "Human Capital"
            ],
            [
             13.363,
             "Luxembourg",
             2016,
             "Human Capital"
            ],
            [
             9.87278,
             "Hungary",
             2016,
             "Human Capital"
            ],
            [
             10.4143,
             "Croatia",
             2016,
             "Human Capital"
            ],
            [
             18.3585,
             "Finland",
             2016,
             "Human Capital"
            ],
            [
             8.76808,
             "Lithuania",
             2016,
             "Human Capital"
            ],
            [
             14.3399,
             "United Kingdom",
             2016,
             "Human Capital"
            ],
            [
             15.0626,
             "Denmark",
             2016,
             "Human Capital"
            ],
            [
             8.00569,
             "Poland",
             2016,
             "Human Capital"
            ],
            [
             11.1397,
             "Czech Rep.",
             2016,
             "Human Capital"
            ],
            [
             11.3716,
             "Spain",
             2016,
             "Human Capital"
            ],
            [
             13.8246,
             "Netherlands",
             2016,
             "Human Capital"
            ],
            [
             13.1446,
             "Deutschland",
             2016,
             "Human Capital"
            ],
            [
             11.9205,
             "Ireland",
             2016,
             "Human Capital"
            ],
            [
             10.7067,
             "Slovenia",
             2016,
             "Human Capital"
            ],
            [
             7.78954,
             "Italy",
             2016,
             "Human Capital"
            ],
            [
             13.9845,
             "Malta",
             2016,
             "Human Capital"
            ],
            [
             8.73376,
             "Portugal",
             2016,
             "Human Capital"
            ],
            [
             8.43621,
             "Cyprus",
             2016,
             "Human Capital"
            ],
            [
             12.5832,
             "Austria",
             2016,
             "Human Capital"
            ],
            [
             7.110939999999999,
             "Bulgaria",
             2016,
             "Human Capital"
            ],
            [
             9.45307,
             "Latvia",
             2016,
             "Human Capital"
            ],
            [
             6.88903,
             "Romania",
             2016,
             "Human Capital"
            ]
           ],
           "hovertemplate": "<b>%{hovertext}</b><br><br><extra></extra>",
           "hovertext": [
            9.74277,
            10.867,
            15.5666,
            11.1315,
            8.32975,
            11.7351,
            13.9155,
            13.363,
            9.87278,
            10.4143,
            18.3585,
            8.76808,
            14.3399,
            15.0626,
            8.00569,
            11.1397,
            11.3716,
            13.8246,
            13.1446,
            11.9205,
            10.7067,
            7.78954,
            13.9845,
            8.73376,
            8.43621,
            12.5832,
            7.110939999999999,
            9.45307,
            6.88903
           ],
           "ids": [
            "Slovakia",
            "France",
            "Sweden",
            "Europe",
            "Greece",
            "Belgium",
            "Estonia",
            "Luxembourg",
            "Hungary",
            "Croatia",
            "Finland",
            "Lithuania",
            "United Kingdom",
            "Denmark",
            "Poland",
            "Czech Rep.",
            "Spain",
            "Netherlands",
            "Deutschland",
            "Ireland",
            "Slovenia",
            "Italy",
            "Malta",
            "Portugal",
            "Cyprus",
            "Austria",
            "Bulgaria",
            "Latvia",
            "Romania"
           ],
           "legendgroup": "Human Capital",
           "marker": {
            "color": "#FFA15A"
           },
           "name": "Human Capital",
           "offsetgroup": "Human Capital",
           "orientation": "v",
           "showlegend": true,
           "textposition": "auto",
           "type": "bar",
           "x": [
            "Slovakia",
            "France",
            "Sweden",
            "Europe",
            "Greece",
            "Belgium",
            "Estonia",
            "Luxembourg",
            "Hungary",
            "Croatia",
            "Finland",
            "Lithuania",
            "United Kingdom",
            "Denmark",
            "Poland",
            "Czech Rep.",
            "Spain",
            "Netherlands",
            "Deutschland",
            "Ireland",
            "Slovenia",
            "Italy",
            "Malta",
            "Portugal",
            "Cyprus",
            "Austria",
            "Bulgaria",
            "Latvia",
            "Romania"
           ],
           "xaxis": "x",
           "y": [
            9.74277,
            10.867,
            15.5666,
            11.1315,
            8.32975,
            11.7351,
            13.9155,
            13.363,
            9.87278,
            10.4143,
            18.3585,
            8.76808,
            14.3399,
            15.0626,
            8.00569,
            11.1397,
            11.3716,
            13.8246,
            13.1446,
            11.9205,
            10.7067,
            7.78954,
            13.9845,
            8.73376,
            8.43621,
            12.5832,
            7.110939999999999,
            9.45307,
            6.88903
           ],
           "yaxis": "y"
          }
         ],
         "name": "2016"
        },
        {
         "data": [
          {
           "alignmentgroup": "True",
           "customdata": [
            [
             8.09246,
             "Ireland",
             2017,
             "Connectivity"
            ],
            [
             12.5615,
             "Latvia",
             2017,
             "Connectivity"
            ],
            [
             8.56495,
             "Austria",
             2017,
             "Connectivity"
            ],
            [
             9.34853,
             "Hungary",
             2017,
             "Connectivity"
            ],
            [
             9.39356,
             "Belgium",
             2017,
             "Connectivity"
            ],
            [
             13.2761,
             "Luxembourg",
             2017,
             "Connectivity"
            ],
            [
             9.7962,
             "United Kingdom",
             2017,
             "Connectivity"
            ],
            [
             12.2639,
             "Sweden",
             2017,
             "Connectivity"
            ],
            [
             8.80974,
             "Poland",
             2017,
             "Connectivity"
            ],
            [
             9.936860000000001,
             "Lithuania",
             2017,
             "Connectivity"
            ],
            [
             9.68783,
             "Malta",
             2017,
             "Connectivity"
            ],
            [
             9.018410000000001,
             "Slovakia",
             2017,
             "Connectivity"
            ],
            [
             10.7291,
             "Romania",
             2017,
             "Connectivity"
            ],
            [
             12.3536,
             "Denmark",
             2017,
             "Connectivity"
            ],
            [
             10.6036,
             "Finland",
             2017,
             "Connectivity"
            ],
            [
             5.86353,
             "Greece",
             2017,
             "Connectivity"
            ],
            [
             8.46599,
             "Bulgaria",
             2017,
             "Connectivity"
            ],
            [
             11.3625,
             "Estonia",
             2017,
             "Connectivity"
            ],
            [
             9.70383,
             "Portugal",
             2017,
             "Connectivity"
            ],
            [
             8.00891,
             "Italy",
             2017,
             "Connectivity"
            ],
            [
             11.9343,
             "Netherlands",
             2017,
             "Connectivity"
            ],
            [
             9.7305,
             "Deutschland",
             2017,
             "Connectivity"
            ],
            [
             6.822019999999999,
             "Cyprus",
             2017,
             "Connectivity"
            ],
            [
             10.6297,
             "Spain",
             2017,
             "Connectivity"
            ],
            [
             10.4567,
             "Slovenia",
             2017,
             "Connectivity"
            ],
            [
             8.98806,
             "Czech Rep.",
             2017,
             "Connectivity"
            ],
            [
             8.88166,
             "France",
             2017,
             "Connectivity"
            ],
            [
             9.27541,
             "Europe",
             2017,
             "Connectivity"
            ],
            [
             7.51693,
             "Croatia",
             2017,
             "Connectivity"
            ]
           ],
           "hovertemplate": "<b>%{hovertext}</b><br><br><extra></extra>",
           "hovertext": [
            8.09246,
            12.5615,
            8.56495,
            9.34853,
            9.39356,
            13.2761,
            9.7962,
            12.2639,
            8.80974,
            9.936860000000001,
            9.68783,
            9.018410000000001,
            10.7291,
            12.3536,
            10.6036,
            5.86353,
            8.46599,
            11.3625,
            9.70383,
            8.00891,
            11.9343,
            9.7305,
            6.822019999999999,
            10.6297,
            10.4567,
            8.98806,
            8.88166,
            9.27541,
            7.51693
           ],
           "ids": [
            "Ireland",
            "Latvia",
            "Austria",
            "Hungary",
            "Belgium",
            "Luxembourg",
            "United Kingdom",
            "Sweden",
            "Poland",
            "Lithuania",
            "Malta",
            "Slovakia",
            "Romania",
            "Denmark",
            "Finland",
            "Greece",
            "Bulgaria",
            "Estonia",
            "Portugal",
            "Italy",
            "Netherlands",
            "Deutschland",
            "Cyprus",
            "Spain",
            "Slovenia",
            "Czech Rep.",
            "France",
            "Europe",
            "Croatia"
           ],
           "legendgroup": "Connectivity",
           "marker": {
            "color": "#636efa"
           },
           "name": "Connectivity",
           "offsetgroup": "Connectivity",
           "orientation": "v",
           "showlegend": true,
           "textposition": "auto",
           "type": "bar",
           "x": [
            "Ireland",
            "Latvia",
            "Austria",
            "Hungary",
            "Belgium",
            "Luxembourg",
            "United Kingdom",
            "Sweden",
            "Poland",
            "Lithuania",
            "Malta",
            "Slovakia",
            "Romania",
            "Denmark",
            "Finland",
            "Greece",
            "Bulgaria",
            "Estonia",
            "Portugal",
            "Italy",
            "Netherlands",
            "Deutschland",
            "Cyprus",
            "Spain",
            "Slovenia",
            "Czech Rep.",
            "France",
            "Europe",
            "Croatia"
           ],
           "xaxis": "x",
           "y": [
            8.09246,
            12.5615,
            8.56495,
            9.34853,
            9.39356,
            13.2761,
            9.7962,
            12.2639,
            8.80974,
            9.936860000000001,
            9.68783,
            9.018410000000001,
            10.7291,
            12.3536,
            10.6036,
            5.86353,
            8.46599,
            11.3625,
            9.70383,
            8.00891,
            11.9343,
            9.7305,
            6.822019999999999,
            10.6297,
            10.4567,
            8.98806,
            8.88166,
            9.27541,
            7.51693
           ],
           "yaxis": "y"
          },
          {
           "alignmentgroup": "True",
           "customdata": [
            [
             8.68626,
             "Europe",
             2017,
             "Digital Public Services"
            ],
            [
             8.13393,
             "Poland",
             2017,
             "Digital Public Services"
            ],
            [
             8.82518,
             "France",
             2017,
             "Digital Public Services"
            ],
            [
             11.317,
             "Finland",
             2017,
             "Digital Public Services"
            ],
            [
             7.94413,
             "Deutschland",
             2017,
             "Digital Public Services"
            ],
            [
             10.4648,
             "Austria",
             2017,
             "Digital Public Services"
            ],
            [
             10.4546,
             "Spain",
             2017,
             "Digital Public Services"
            ],
            [
             6.07955,
             "Slovakia",
             2017,
             "Digital Public Services"
            ],
            [
             7.9317,
             "Slovenia",
             2017,
             "Digital Public Services"
            ],
            [
             10.0023,
             "Ireland",
             2017,
             "Digital Public Services"
            ],
            [
             8.594619999999999,
             "Cyprus",
             2017,
             "Digital Public Services"
            ],
            [
             11.1792,
             "Malta",
             2017,
             "Digital Public Services"
            ],
            [
             7.19145,
             "Czech Rep.",
             2017,
             "Digital Public Services"
            ],
            [
             8.230310000000001,
             "United Kingdom",
             2017,
             "Digital Public Services"
            ],
            [
             7.37575,
             "Luxembourg",
             2017,
             "Digital Public Services"
            ],
            [
             5.28336,
             "Hungary",
             2017,
             "Digital Public Services"
            ],
            [
             8.611189999999999,
             "Belgium",
             2017,
             "Digital Public Services"
            ],
            [
             5.05756,
             "Greece",
             2017,
             "Digital Public Services"
            ],
            [
             10.6265,
             "Netherlands",
             2017,
             "Digital Public Services"
            ],
            [
             6.234719999999999,
             "Croatia",
             2017,
             "Digital Public Services"
            ],
            [
             11.8067,
             "Denmark",
             2017,
             "Digital Public Services"
            ],
            [
             6.73895,
             "Bulgaria",
             2017,
             "Digital Public Services"
            ],
            [
             7.58086,
             "Italy",
             2017,
             "Digital Public Services"
            ],
            [
             12.1075,
             "Estonia",
             2017,
             "Digital Public Services"
            ],
            [
             10.4988,
             "Lithuania",
             2017,
             "Digital Public Services"
            ],
            [
             10.9667,
             "Sweden",
             2017,
             "Digital Public Services"
            ],
            [
             10.2856,
             "Latvia",
             2017,
             "Digital Public Services"
            ],
            [
             5.56979,
             "Romania",
             2017,
             "Digital Public Services"
            ],
            [
             9.9763,
             "Portugal",
             2017,
             "Digital Public Services"
            ]
           ],
           "hovertemplate": "<b>%{hovertext}</b><br><br><extra></extra>",
           "hovertext": [
            8.68626,
            8.13393,
            8.82518,
            11.317,
            7.94413,
            10.4648,
            10.4546,
            6.07955,
            7.9317,
            10.0023,
            8.594619999999999,
            11.1792,
            7.19145,
            8.230310000000001,
            7.37575,
            5.28336,
            8.611189999999999,
            5.05756,
            10.6265,
            6.234719999999999,
            11.8067,
            6.73895,
            7.58086,
            12.1075,
            10.4988,
            10.9667,
            10.2856,
            5.56979,
            9.9763
           ],
           "ids": [
            "Europe",
            "Poland",
            "France",
            "Finland",
            "Deutschland",
            "Austria",
            "Spain",
            "Slovakia",
            "Slovenia",
            "Ireland",
            "Cyprus",
            "Malta",
            "Czech Rep.",
            "United Kingdom",
            "Luxembourg",
            "Hungary",
            "Belgium",
            "Greece",
            "Netherlands",
            "Croatia",
            "Denmark",
            "Bulgaria",
            "Italy",
            "Estonia",
            "Lithuania",
            "Sweden",
            "Latvia",
            "Romania",
            "Portugal"
           ],
           "legendgroup": "Digital Public Services",
           "marker": {
            "color": "#EF553B"
           },
           "name": "Digital Public Services",
           "offsetgroup": "Digital Public Services",
           "orientation": "v",
           "showlegend": true,
           "textposition": "auto",
           "type": "bar",
           "x": [
            "Europe",
            "Poland",
            "France",
            "Finland",
            "Deutschland",
            "Austria",
            "Spain",
            "Slovakia",
            "Slovenia",
            "Ireland",
            "Cyprus",
            "Malta",
            "Czech Rep.",
            "United Kingdom",
            "Luxembourg",
            "Hungary",
            "Belgium",
            "Greece",
            "Netherlands",
            "Croatia",
            "Denmark",
            "Bulgaria",
            "Italy",
            "Estonia",
            "Lithuania",
            "Sweden",
            "Latvia",
            "Romania",
            "Portugal"
           ],
           "xaxis": "x",
           "y": [
            8.68626,
            8.13393,
            8.82518,
            11.317,
            7.94413,
            10.4648,
            10.4546,
            6.07955,
            7.9317,
            10.0023,
            8.594619999999999,
            11.1792,
            7.19145,
            8.230310000000001,
            7.37575,
            5.28336,
            8.611189999999999,
            5.05756,
            10.6265,
            6.234719999999999,
            11.8067,
            6.73895,
            7.58086,
            12.1075,
            10.4988,
            10.9667,
            10.2856,
            5.56979,
            9.9763
           ],
           "yaxis": "y"
          },
          {
           "alignmentgroup": "True",
           "customdata": [
            [
             7.0746199999999995,
             "Slovakia",
             2017,
             "Use of Internet Services"
            ],
            [
             8.06832,
             "Malta",
             2017,
             "Use of Internet Services"
            ],
            [
             3.9367199999999998,
             "Romania",
             2017,
             "Use of Internet Services"
            ],
            [
             6.3003599999999995,
             "Slovenia",
             2017,
             "Use of Internet Services"
            ],
            [
             6.0205400000000004,
             "Poland",
             2017,
             "Use of Internet Services"
            ],
            [
             6.68348,
             "Cyprus",
             2017,
             "Use of Internet Services"
            ],
            [
             9.83911,
             "Netherlands",
             2017,
             "Use of Internet Services"
            ],
            [
             9.78275,
             "Finland",
             2017,
             "Use of Internet Services"
            ],
            [
             7.00011,
             "France",
             2017,
             "Use of Internet Services"
            ],
            [
             7.97495,
             "Deutschland",
             2017,
             "Use of Internet Services"
            ],
            [
             6.927919999999999,
             "Ireland",
             2017,
             "Use of Internet Services"
            ],
            [
             4.63959,
             "Bulgaria",
             2017,
             "Use of Internet Services"
            ],
            [
             5.61615,
             "Greece",
             2017,
             "Use of Internet Services"
            ],
            [
             7.358110000000001,
             "Europe",
             2017,
             "Use of Internet Services"
            ],
            [
             8.92065,
             "Estonia",
             2017,
             "Use of Internet Services"
            ],
            [
             10.6749,
             "Denmark",
             2017,
             "Use of Internet Services"
            ],
            [
             6.01727,
             "Portugal",
             2017,
             "Use of Internet Services"
            ],
            [
             5.332000000000001,
             "Italy",
             2017,
             "Use of Internet Services"
            ],
            [
             10.2947,
             "Sweden",
             2017,
             "Use of Internet Services"
            ],
            [
             7.41621,
             "Croatia",
             2017,
             "Use of Internet Services"
            ],
            [
             6.7415199999999995,
             "Czech Rep.",
             2017,
             "Use of Internet Services"
            ],
            [
             7.324660000000001,
             "Latvia",
             2017,
             "Use of Internet Services"
            ],
            [
             7.2713399999999995,
             "Hungary",
             2017,
             "Use of Internet Services"
            ],
            [
             9.4976,
             "Luxembourg",
             2017,
             "Use of Internet Services"
            ],
            [
             7.277710000000001,
             "Lithuania",
             2017,
             "Use of Internet Services"
            ],
            [
             6.894760000000001,
             "Austria",
             2017,
             "Use of Internet Services"
            ],
            [
             7.33971,
             "Spain",
             2017,
             "Use of Internet Services"
            ],
            [
             9.3837,
             "United Kingdom",
             2017,
             "Use of Internet Services"
            ],
            [
             8.007810000000001,
             "Belgium",
             2017,
             "Use of Internet Services"
            ]
           ],
           "hovertemplate": "<b>%{hovertext}</b><br><br><extra></extra>",
           "hovertext": [
            7.0746199999999995,
            8.06832,
            3.9367199999999998,
            6.3003599999999995,
            6.0205400000000004,
            6.68348,
            9.83911,
            9.78275,
            7.00011,
            7.97495,
            6.927919999999999,
            4.63959,
            5.61615,
            7.358110000000001,
            8.92065,
            10.6749,
            6.01727,
            5.332000000000001,
            10.2947,
            7.41621,
            6.7415199999999995,
            7.324660000000001,
            7.2713399999999995,
            9.4976,
            7.277710000000001,
            6.894760000000001,
            7.33971,
            9.3837,
            8.007810000000001
           ],
           "ids": [
            "Slovakia",
            "Malta",
            "Romania",
            "Slovenia",
            "Poland",
            "Cyprus",
            "Netherlands",
            "Finland",
            "France",
            "Deutschland",
            "Ireland",
            "Bulgaria",
            "Greece",
            "Europe",
            "Estonia",
            "Denmark",
            "Portugal",
            "Italy",
            "Sweden",
            "Croatia",
            "Czech Rep.",
            "Latvia",
            "Hungary",
            "Luxembourg",
            "Lithuania",
            "Austria",
            "Spain",
            "United Kingdom",
            "Belgium"
           ],
           "legendgroup": "Use of Internet Services",
           "marker": {
            "color": "#00cc96"
           },
           "name": "Use of Internet Services",
           "offsetgroup": "Use of Internet Services",
           "orientation": "v",
           "showlegend": true,
           "textposition": "auto",
           "type": "bar",
           "x": [
            "Slovakia",
            "Malta",
            "Romania",
            "Slovenia",
            "Poland",
            "Cyprus",
            "Netherlands",
            "Finland",
            "France",
            "Deutschland",
            "Ireland",
            "Bulgaria",
            "Greece",
            "Europe",
            "Estonia",
            "Denmark",
            "Portugal",
            "Italy",
            "Sweden",
            "Croatia",
            "Czech Rep.",
            "Latvia",
            "Hungary",
            "Luxembourg",
            "Lithuania",
            "Austria",
            "Spain",
            "United Kingdom",
            "Belgium"
           ],
           "xaxis": "x",
           "y": [
            7.0746199999999995,
            8.06832,
            3.9367199999999998,
            6.3003599999999995,
            6.0205400000000004,
            6.68348,
            9.83911,
            9.78275,
            7.00011,
            7.97495,
            6.927919999999999,
            4.63959,
            5.61615,
            7.358110000000001,
            8.92065,
            10.6749,
            6.01727,
            5.332000000000001,
            10.2947,
            7.41621,
            6.7415199999999995,
            7.324660000000001,
            7.2713399999999995,
            9.4976,
            7.277710000000001,
            6.894760000000001,
            7.33971,
            9.3837,
            8.007810000000001
           ],
           "yaxis": "y"
          },
          {
           "alignmentgroup": "True",
           "customdata": [
            [
             3.3140199999999997,
             "Bulgaria",
             2017,
             "Integration of Digital Technology"
            ],
            [
             11.0816,
             "Denmark",
             2017,
             "Integration of Digital Technology"
            ],
            [
             10.11,
             "Finland",
             2017,
             "Integration of Digital Technology"
            ],
            [
             12.0778,
             "Ireland",
             2017,
             "Integration of Digital Technology"
            ],
            [
             6.28298,
             "Austria",
             2017,
             "Integration of Digital Technology"
            ],
            [
             8.06484,
             "Lithuania",
             2017,
             "Integration of Digital Technology"
            ],
            [
             7.930960000000001,
             "Portugal",
             2017,
             "Integration of Digital Technology"
            ],
            [
             6.84375,
             "Estonia",
             2017,
             "Integration of Digital Technology"
            ],
            [
             6.16746,
             "Luxembourg",
             2017,
             "Integration of Digital Technology"
            ],
            [
             9.04071,
             "United Kingdom",
             2017,
             "Integration of Digital Technology"
            ],
            [
             8.65242,
             "Malta",
             2017,
             "Integration of Digital Technology"
            ],
            [
             3.92949,
             "Poland",
             2017,
             "Integration of Digital Technology"
            ],
            [
             7.143439999999999,
             "Slovenia",
             2017,
             "Integration of Digital Technology"
            ],
            [
             4.58327,
             "Hungary",
             2017,
             "Integration of Digital Technology"
            ],
            [
             7.13651,
             "Europe",
             2017,
             "Integration of Digital Technology"
            ],
            [
             10.5127,
             "Sweden",
             2017,
             "Integration of Digital Technology"
            ],
            [
             6.24406,
             "Slovakia",
             2017,
             "Integration of Digital Technology"
            ],
            [
             3.97421,
             "Romania",
             2017,
             "Integration of Digital Technology"
            ],
            [
             7.081639999999999,
             "Spain",
             2017,
             "Integration of Digital Technology"
            ],
            [
             6.68192,
             "Deutschland",
             2017,
             "Integration of Digital Technology"
            ],
            [
             10.8322,
             "Netherlands",
             2017,
             "Integration of Digital Technology"
            ],
            [
             6.0879,
             "Cyprus",
             2017,
             "Integration of Digital Technology"
            ],
            [
             11.064,
             "Belgium",
             2017,
             "Integration of Digital Technology"
            ],
            [
             3.9409300000000003,
             "Latvia",
             2017,
             "Integration of Digital Technology"
            ],
            [
             8.3926,
             "Czech Rep.",
             2017,
             "Integration of Digital Technology"
            ],
            [
             7.1706,
             "France",
             2017,
             "Integration of Digital Technology"
            ],
            [
             7.008260000000001,
             "Croatia",
             2017,
             "Integration of Digital Technology"
            ],
            [
             5.503480000000001,
             "Italy",
             2017,
             "Integration of Digital Technology"
            ],
            [
             5.49329,
             "Greece",
             2017,
             "Integration of Digital Technology"
            ]
           ],
           "hovertemplate": "<b>%{hovertext}</b><br><br><extra></extra>",
           "hovertext": [
            3.3140199999999997,
            11.0816,
            10.11,
            12.0778,
            6.28298,
            8.06484,
            7.930960000000001,
            6.84375,
            6.16746,
            9.04071,
            8.65242,
            3.92949,
            7.143439999999999,
            4.58327,
            7.13651,
            10.5127,
            6.24406,
            3.97421,
            7.081639999999999,
            6.68192,
            10.8322,
            6.0879,
            11.064,
            3.9409300000000003,
            8.3926,
            7.1706,
            7.008260000000001,
            5.503480000000001,
            5.49329
           ],
           "ids": [
            "Bulgaria",
            "Denmark",
            "Finland",
            "Ireland",
            "Austria",
            "Lithuania",
            "Portugal",
            "Estonia",
            "Luxembourg",
            "United Kingdom",
            "Malta",
            "Poland",
            "Slovenia",
            "Hungary",
            "Europe",
            "Sweden",
            "Slovakia",
            "Romania",
            "Spain",
            "Deutschland",
            "Netherlands",
            "Cyprus",
            "Belgium",
            "Latvia",
            "Czech Rep.",
            "France",
            "Croatia",
            "Italy",
            "Greece"
           ],
           "legendgroup": "Integration of Digital Technology",
           "marker": {
            "color": "#ab63fa"
           },
           "name": "Integration of Digital Technology",
           "offsetgroup": "Integration of Digital Technology",
           "orientation": "v",
           "showlegend": true,
           "textposition": "auto",
           "type": "bar",
           "x": [
            "Bulgaria",
            "Denmark",
            "Finland",
            "Ireland",
            "Austria",
            "Lithuania",
            "Portugal",
            "Estonia",
            "Luxembourg",
            "United Kingdom",
            "Malta",
            "Poland",
            "Slovenia",
            "Hungary",
            "Europe",
            "Sweden",
            "Slovakia",
            "Romania",
            "Spain",
            "Deutschland",
            "Netherlands",
            "Cyprus",
            "Belgium",
            "Latvia",
            "Czech Rep.",
            "France",
            "Croatia",
            "Italy",
            "Greece"
           ],
           "xaxis": "x",
           "y": [
            3.3140199999999997,
            11.0816,
            10.11,
            12.0778,
            6.28298,
            8.06484,
            7.930960000000001,
            6.84375,
            6.16746,
            9.04071,
            8.65242,
            3.92949,
            7.143439999999999,
            4.58327,
            7.13651,
            10.5127,
            6.24406,
            3.97421,
            7.081639999999999,
            6.68192,
            10.8322,
            6.0879,
            11.064,
            3.9409300000000003,
            8.3926,
            7.1706,
            7.008260000000001,
            5.503480000000001,
            5.49329
           ],
           "yaxis": "y"
          },
          {
           "alignmentgroup": "True",
           "customdata": [
            [
             8.30112,
             "Greece",
             2017,
             "Human Capital"
            ],
            [
             13.2063,
             "Deutschland",
             2017,
             "Human Capital"
            ],
            [
             10.5602,
             "Spain",
             2017,
             "Human Capital"
            ],
            [
             14.4974,
             "Netherlands",
             2017,
             "Human Capital"
            ],
            [
             10.1544,
             "Slovakia",
             2017,
             "Human Capital"
            ],
            [
             11.5203,
             "Slovenia",
             2017,
             "Human Capital"
            ],
            [
             7.7835600000000005,
             "Italy",
             2017,
             "Human Capital"
            ],
            [
             10.3125,
             "Hungary",
             2017,
             "Human Capital"
            ],
            [
             11.8504,
             "Belgium",
             2017,
             "Human Capital"
            ],
            [
             11.3539,
             "Europe",
             2017,
             "Human Capital"
            ],
            [
             8.554689999999999,
             "Cyprus",
             2017,
             "Human Capital"
            ],
            [
             13.3078,
             "Austria",
             2017,
             "Human Capital"
            ],
            [
             11.7612,
             "Ireland",
             2017,
             "Human Capital"
            ],
            [
             8.62359,
             "Poland",
             2017,
             "Human Capital"
            ],
            [
             10.0275,
             "Latvia",
             2017,
             "Human Capital"
            ],
            [
             9.22834,
             "Lithuania",
             2017,
             "Human Capital"
            ],
            [
             15.8558,
             "Sweden",
             2017,
             "Human Capital"
            ],
            [
             11.2401,
             "France",
             2017,
             "Human Capital"
            ],
            [
             10.7035,
             "Czech Rep.",
             2017,
             "Human Capital"
            ],
            [
             18.6676,
             "Finland",
             2017,
             "Human Capital"
            ],
            [
             13.9654,
             "Estonia",
             2017,
             "Human Capital"
            ],
            [
             10.8112,
             "Croatia",
             2017,
             "Human Capital"
            ],
            [
             14.7625,
             "United Kingdom",
             2017,
             "Human Capital"
            ],
            [
             7.54426,
             "Romania",
             2017,
             "Human Capital"
            ],
            [
             14.2652,
             "Malta",
             2017,
             "Human Capital"
            ],
            [
             8.56166,
             "Portugal",
             2017,
             "Human Capital"
            ],
            [
             12.9202,
             "Luxembourg",
             2017,
             "Human Capital"
            ],
            [
             6.81628,
             "Bulgaria",
             2017,
             "Human Capital"
            ],
            [
             15.6225,
             "Denmark",
             2017,
             "Human Capital"
            ]
           ],
           "hovertemplate": "<b>%{hovertext}</b><br><br><extra></extra>",
           "hovertext": [
            8.30112,
            13.2063,
            10.5602,
            14.4974,
            10.1544,
            11.5203,
            7.7835600000000005,
            10.3125,
            11.8504,
            11.3539,
            8.554689999999999,
            13.3078,
            11.7612,
            8.62359,
            10.0275,
            9.22834,
            15.8558,
            11.2401,
            10.7035,
            18.6676,
            13.9654,
            10.8112,
            14.7625,
            7.54426,
            14.2652,
            8.56166,
            12.9202,
            6.81628,
            15.6225
           ],
           "ids": [
            "Greece",
            "Deutschland",
            "Spain",
            "Netherlands",
            "Slovakia",
            "Slovenia",
            "Italy",
            "Hungary",
            "Belgium",
            "Europe",
            "Cyprus",
            "Austria",
            "Ireland",
            "Poland",
            "Latvia",
            "Lithuania",
            "Sweden",
            "France",
            "Czech Rep.",
            "Finland",
            "Estonia",
            "Croatia",
            "United Kingdom",
            "Romania",
            "Malta",
            "Portugal",
            "Luxembourg",
            "Bulgaria",
            "Denmark"
           ],
           "legendgroup": "Human Capital",
           "marker": {
            "color": "#FFA15A"
           },
           "name": "Human Capital",
           "offsetgroup": "Human Capital",
           "orientation": "v",
           "showlegend": true,
           "textposition": "auto",
           "type": "bar",
           "x": [
            "Greece",
            "Deutschland",
            "Spain",
            "Netherlands",
            "Slovakia",
            "Slovenia",
            "Italy",
            "Hungary",
            "Belgium",
            "Europe",
            "Cyprus",
            "Austria",
            "Ireland",
            "Poland",
            "Latvia",
            "Lithuania",
            "Sweden",
            "France",
            "Czech Rep.",
            "Finland",
            "Estonia",
            "Croatia",
            "United Kingdom",
            "Romania",
            "Malta",
            "Portugal",
            "Luxembourg",
            "Bulgaria",
            "Denmark"
           ],
           "xaxis": "x",
           "y": [
            8.30112,
            13.2063,
            10.5602,
            14.4974,
            10.1544,
            11.5203,
            7.7835600000000005,
            10.3125,
            11.8504,
            11.3539,
            8.554689999999999,
            13.3078,
            11.7612,
            8.62359,
            10.0275,
            9.22834,
            15.8558,
            11.2401,
            10.7035,
            18.6676,
            13.9654,
            10.8112,
            14.7625,
            7.54426,
            14.2652,
            8.56166,
            12.9202,
            6.81628,
            15.6225
           ],
           "yaxis": "y"
          }
         ],
         "name": "2017"
        },
        {
         "data": [
          {
           "alignmentgroup": "True",
           "customdata": [
            [
             13.0627,
             "Denmark",
             2018,
             "Connectivity"
            ],
            [
             8.89374,
             "Bulgaria",
             2018,
             "Connectivity"
            ],
            [
             9.8546,
             "Poland",
             2018,
             "Connectivity"
            ],
            [
             10.286,
             "Hungary",
             2018,
             "Connectivity"
            ],
            [
             9.36298,
             "Austria",
             2018,
             "Connectivity"
            ],
            [
             11.7695,
             "Estonia",
             2018,
             "Connectivity"
            ],
            [
             8.98061,
             "Ireland",
             2018,
             "Connectivity"
            ],
            [
             11.0768,
             "Portugal",
             2018,
             "Connectivity"
            ],
            [
             12.2024,
             "Romania",
             2018,
             "Connectivity"
            ],
            [
             10.96,
             "Slovenia",
             2018,
             "Connectivity"
            ],
            [
             10.6042,
             "Malta",
             2018,
             "Connectivity"
            ],
            [
             10.8734,
             "Lithuania",
             2018,
             "Connectivity"
            ],
            [
             9.947460000000001,
             "Belgium",
             2018,
             "Connectivity"
            ],
            [
             13.3753,
             "Sweden",
             2018,
             "Connectivity"
            ],
            [
             13.8193,
             "Luxembourg",
             2018,
             "Connectivity"
            ],
            [
             8.762889999999999,
             "Italy",
             2018,
             "Connectivity"
            ],
            [
             10.2066,
             "United Kingdom",
             2018,
             "Connectivity"
            ],
            [
             8.03186,
             "Croatia",
             2018,
             "Connectivity"
            ],
            [
             7.51196,
             "Cyprus",
             2018,
             "Connectivity"
            ],
            [
             9.98109,
             "Europe",
             2018,
             "Connectivity"
            ],
            [
             12.4038,
             "Netherlands",
             2018,
             "Connectivity"
            ],
            [
             9.85144,
             "Czech Rep.",
             2018,
             "Connectivity"
            ],
            [
             13.254000000000001,
             "Latvia",
             2018,
             "Connectivity"
            ],
            [
             10.394,
             "Finland",
             2018,
             "Connectivity"
            ],
            [
             9.47888,
             "Slovakia",
             2018,
             "Connectivity"
            ],
            [
             6.491969999999999,
             "Greece",
             2018,
             "Connectivity"
            ],
            [
             10.1587,
             "Deutschland",
             2018,
             "Connectivity"
            ],
            [
             11.4875,
             "Spain",
             2018,
             "Connectivity"
            ],
            [
             9.607560000000001,
             "France",
             2018,
             "Connectivity"
            ]
           ],
           "hovertemplate": "<b>%{hovertext}</b><br><br><extra></extra>",
           "hovertext": [
            13.0627,
            8.89374,
            9.8546,
            10.286,
            9.36298,
            11.7695,
            8.98061,
            11.0768,
            12.2024,
            10.96,
            10.6042,
            10.8734,
            9.947460000000001,
            13.3753,
            13.8193,
            8.762889999999999,
            10.2066,
            8.03186,
            7.51196,
            9.98109,
            12.4038,
            9.85144,
            13.254000000000001,
            10.394,
            9.47888,
            6.491969999999999,
            10.1587,
            11.4875,
            9.607560000000001
           ],
           "ids": [
            "Denmark",
            "Bulgaria",
            "Poland",
            "Hungary",
            "Austria",
            "Estonia",
            "Ireland",
            "Portugal",
            "Romania",
            "Slovenia",
            "Malta",
            "Lithuania",
            "Belgium",
            "Sweden",
            "Luxembourg",
            "Italy",
            "United Kingdom",
            "Croatia",
            "Cyprus",
            "Europe",
            "Netherlands",
            "Czech Rep.",
            "Latvia",
            "Finland",
            "Slovakia",
            "Greece",
            "Deutschland",
            "Spain",
            "France"
           ],
           "legendgroup": "Connectivity",
           "marker": {
            "color": "#636efa"
           },
           "name": "Connectivity",
           "offsetgroup": "Connectivity",
           "orientation": "v",
           "showlegend": true,
           "textposition": "auto",
           "type": "bar",
           "x": [
            "Denmark",
            "Bulgaria",
            "Poland",
            "Hungary",
            "Austria",
            "Estonia",
            "Ireland",
            "Portugal",
            "Romania",
            "Slovenia",
            "Malta",
            "Lithuania",
            "Belgium",
            "Sweden",
            "Luxembourg",
            "Italy",
            "United Kingdom",
            "Croatia",
            "Cyprus",
            "Europe",
            "Netherlands",
            "Czech Rep.",
            "Latvia",
            "Finland",
            "Slovakia",
            "Greece",
            "Deutschland",
            "Spain",
            "France"
           ],
           "xaxis": "x",
           "y": [
            13.0627,
            8.89374,
            9.8546,
            10.286,
            9.36298,
            11.7695,
            8.98061,
            11.0768,
            12.2024,
            10.96,
            10.6042,
            10.8734,
            9.947460000000001,
            13.3753,
            13.8193,
            8.762889999999999,
            10.2066,
            8.03186,
            7.51196,
            9.98109,
            12.4038,
            9.85144,
            13.254000000000001,
            10.394,
            9.47888,
            6.491969999999999,
            10.1587,
            11.4875,
            9.607560000000001
           ],
           "yaxis": "y"
          },
          {
           "alignmentgroup": "True",
           "customdata": [
            [
             11.4906,
             "Spain",
             2018,
             "Digital Public Services"
            ],
            [
             12.4471,
             "Estonia",
             2018,
             "Digital Public Services"
            ],
            [
             9.57715,
             "France",
             2018,
             "Digital Public Services"
            ],
            [
             11.7511,
             "Finland",
             2018,
             "Digital Public Services"
            ],
            [
             8.8024,
             "Slovenia",
             2018,
             "Digital Public Services"
            ],
            [
             10.8414,
             "Austria",
             2018,
             "Digital Public Services"
            ],
            [
             8.576989999999999,
             "Luxembourg",
             2018,
             "Digital Public Services"
            ],
            [
             10.6798,
             "Ireland",
             2018,
             "Digital Public Services"
            ],
            [
             8.45913,
             "Deutschland",
             2018,
             "Digital Public Services"
            ],
            [
             10.1174,
             "Portugal",
             2018,
             "Digital Public Services"
            ],
            [
             8.85187,
             "United Kingdom",
             2018,
             "Digital Public Services"
            ],
            [
             6.53924,
             "Hungary",
             2018,
             "Digital Public Services"
            ],
            [
             7.869910000000001,
             "Bulgaria",
             2018,
             "Digital Public Services"
            ],
            [
             8.11169,
             "Italy",
             2018,
             "Digital Public Services"
            ],
            [
             6.55885,
             "Croatia",
             2018,
             "Digital Public Services"
            ],
            [
             6.18349,
             "Greece",
             2018,
             "Digital Public Services"
            ],
            [
             11.995999999999999,
             "Denmark",
             2018,
             "Digital Public Services"
            ],
            [
             9.32072,
             "Cyprus",
             2018,
             "Digital Public Services"
            ],
            [
             7.195139999999999,
             "Slovakia",
             2018,
             "Digital Public Services"
            ],
            [
             8.11524,
             "Czech Rep.",
             2018,
             "Digital Public Services"
            ],
            [
             11.0246,
             "Malta",
             2018,
             "Digital Public Services"
            ],
            [
             8.23893,
             "Poland",
             2018,
             "Digital Public Services"
            ],
            [
             9.27712,
             "Europe",
             2018,
             "Digital Public Services"
            ],
            [
             11.2158,
             "Sweden",
             2018,
             "Digital Public Services"
            ],
            [
             9.35437,
             "Belgium",
             2018,
             "Digital Public Services"
            ],
            [
             11.4877,
             "Lithuania",
             2018,
             "Digital Public Services"
            ],
            [
             11.1727,
             "Latvia",
             2018,
             "Digital Public Services"
            ],
            [
             6.16326,
             "Romania",
             2018,
             "Digital Public Services"
            ],
            [
             11.198,
             "Netherlands",
             2018,
             "Digital Public Services"
            ]
           ],
           "hovertemplate": "<b>%{hovertext}</b><br><br><extra></extra>",
           "hovertext": [
            11.4906,
            12.4471,
            9.57715,
            11.7511,
            8.8024,
            10.8414,
            8.576989999999999,
            10.6798,
            8.45913,
            10.1174,
            8.85187,
            6.53924,
            7.869910000000001,
            8.11169,
            6.55885,
            6.18349,
            11.995999999999999,
            9.32072,
            7.195139999999999,
            8.11524,
            11.0246,
            8.23893,
            9.27712,
            11.2158,
            9.35437,
            11.4877,
            11.1727,
            6.16326,
            11.198
           ],
           "ids": [
            "Spain",
            "Estonia",
            "France",
            "Finland",
            "Slovenia",
            "Austria",
            "Luxembourg",
            "Ireland",
            "Deutschland",
            "Portugal",
            "United Kingdom",
            "Hungary",
            "Bulgaria",
            "Italy",
            "Croatia",
            "Greece",
            "Denmark",
            "Cyprus",
            "Slovakia",
            "Czech Rep.",
            "Malta",
            "Poland",
            "Europe",
            "Sweden",
            "Belgium",
            "Lithuania",
            "Latvia",
            "Romania",
            "Netherlands"
           ],
           "legendgroup": "Digital Public Services",
           "marker": {
            "color": "#EF553B"
           },
           "name": "Digital Public Services",
           "offsetgroup": "Digital Public Services",
           "orientation": "v",
           "showlegend": true,
           "textposition": "auto",
           "type": "bar",
           "x": [
            "Spain",
            "Estonia",
            "France",
            "Finland",
            "Slovenia",
            "Austria",
            "Luxembourg",
            "Ireland",
            "Deutschland",
            "Portugal",
            "United Kingdom",
            "Hungary",
            "Bulgaria",
            "Italy",
            "Croatia",
            "Greece",
            "Denmark",
            "Cyprus",
            "Slovakia",
            "Czech Rep.",
            "Malta",
            "Poland",
            "Europe",
            "Sweden",
            "Belgium",
            "Lithuania",
            "Latvia",
            "Romania",
            "Netherlands"
           ],
           "xaxis": "x",
           "y": [
            11.4906,
            12.4471,
            9.57715,
            11.7511,
            8.8024,
            10.8414,
            8.576989999999999,
            10.6798,
            8.45913,
            10.1174,
            8.85187,
            6.53924,
            7.869910000000001,
            8.11169,
            6.55885,
            6.18349,
            11.995999999999999,
            9.32072,
            7.195139999999999,
            8.11524,
            11.0246,
            8.23893,
            9.27712,
            11.2158,
            9.35437,
            11.4877,
            11.1727,
            6.16326,
            11.198
           ],
           "yaxis": "y"
          },
          {
           "alignmentgroup": "True",
           "customdata": [
            [
             7.06865,
             "Slovenia",
             2018,
             "Use of Internet Services"
            ],
            [
             7.50208,
             "Ireland",
             2018,
             "Use of Internet Services"
            ],
            [
             4.726,
             "Romania",
             2018,
             "Use of Internet Services"
            ],
            [
             7.49558,
             "Austria",
             2018,
             "Use of Internet Services"
            ],
            [
             7.30883,
             "Slovakia",
             2018,
             "Use of Internet Services"
            ],
            [
             8.54256,
             "Deutschland",
             2018,
             "Use of Internet Services"
            ],
            [
             7.50529,
             "Latvia",
             2018,
             "Use of Internet Services"
            ],
            [
             6.32446,
             "Poland",
             2018,
             "Use of Internet Services"
            ],
            [
             7.1497,
             "Czech Rep.",
             2018,
             "Use of Internet Services"
            ],
            [
             5.10878,
             "Bulgaria",
             2018,
             "Use of Internet Services"
            ],
            [
             6.48555,
             "Portugal",
             2018,
             "Use of Internet Services"
            ],
            [
             10.9362,
             "Denmark",
             2018,
             "Use of Internet Services"
            ],
            [
             8.15123,
             "Belgium",
             2018,
             "Use of Internet Services"
            ],
            [
             9.22457,
             "Estonia",
             2018,
             "Use of Internet Services"
            ],
            [
             9.757610000000001,
             "Luxembourg",
             2018,
             "Use of Internet Services"
            ],
            [
             8.93845,
             "Malta",
             2018,
             "Use of Internet Services"
            ],
            [
             5.6164,
             "Italy",
             2018,
             "Use of Internet Services"
            ],
            [
             7.14998,
             "Cyprus",
             2018,
             "Use of Internet Services"
            ],
            [
             10.2163,
             "Finland",
             2018,
             "Use of Internet Services"
            ],
            [
             7.622669999999999,
             "Lithuania",
             2018,
             "Use of Internet Services"
            ],
            [
             7.81349,
             "Spain",
             2018,
             "Use of Internet Services"
            ],
            [
             7.41752,
             "Hungary",
             2018,
             "Use of Internet Services"
            ],
            [
             10.4046,
             "Netherlands",
             2018,
             "Use of Internet Services"
            ],
            [
             9.65558,
             "United Kingdom",
             2018,
             "Use of Internet Services"
            ],
            [
             11.0503,
             "Sweden",
             2018,
             "Use of Internet Services"
            ],
            [
             7.270060000000001,
             "France",
             2018,
             "Use of Internet Services"
            ],
            [
             7.76722,
             "Europe",
             2018,
             "Use of Internet Services"
            ],
            [
             5.89518,
             "Greece",
             2018,
             "Use of Internet Services"
            ],
            [
             7.3872,
             "Croatia",
             2018,
             "Use of Internet Services"
            ]
           ],
           "hovertemplate": "<b>%{hovertext}</b><br><br><extra></extra>",
           "hovertext": [
            7.06865,
            7.50208,
            4.726,
            7.49558,
            7.30883,
            8.54256,
            7.50529,
            6.32446,
            7.1497,
            5.10878,
            6.48555,
            10.9362,
            8.15123,
            9.22457,
            9.757610000000001,
            8.93845,
            5.6164,
            7.14998,
            10.2163,
            7.622669999999999,
            7.81349,
            7.41752,
            10.4046,
            9.65558,
            11.0503,
            7.270060000000001,
            7.76722,
            5.89518,
            7.3872
           ],
           "ids": [
            "Slovenia",
            "Ireland",
            "Romania",
            "Austria",
            "Slovakia",
            "Deutschland",
            "Latvia",
            "Poland",
            "Czech Rep.",
            "Bulgaria",
            "Portugal",
            "Denmark",
            "Belgium",
            "Estonia",
            "Luxembourg",
            "Malta",
            "Italy",
            "Cyprus",
            "Finland",
            "Lithuania",
            "Spain",
            "Hungary",
            "Netherlands",
            "United Kingdom",
            "Sweden",
            "France",
            "Europe",
            "Greece",
            "Croatia"
           ],
           "legendgroup": "Use of Internet Services",
           "marker": {
            "color": "#00cc96"
           },
           "name": "Use of Internet Services",
           "offsetgroup": "Use of Internet Services",
           "orientation": "v",
           "showlegend": true,
           "textposition": "auto",
           "type": "bar",
           "x": [
            "Slovenia",
            "Ireland",
            "Romania",
            "Austria",
            "Slovakia",
            "Deutschland",
            "Latvia",
            "Poland",
            "Czech Rep.",
            "Bulgaria",
            "Portugal",
            "Denmark",
            "Belgium",
            "Estonia",
            "Luxembourg",
            "Malta",
            "Italy",
            "Cyprus",
            "Finland",
            "Lithuania",
            "Spain",
            "Hungary",
            "Netherlands",
            "United Kingdom",
            "Sweden",
            "France",
            "Europe",
            "Greece",
            "Croatia"
           ],
           "xaxis": "x",
           "y": [
            7.06865,
            7.50208,
            4.726,
            7.49558,
            7.30883,
            8.54256,
            7.50529,
            6.32446,
            7.1497,
            5.10878,
            6.48555,
            10.9362,
            8.15123,
            9.22457,
            9.757610000000001,
            8.93845,
            5.6164,
            7.14998,
            10.2163,
            7.622669999999999,
            7.81349,
            7.41752,
            10.4046,
            9.65558,
            11.0503,
            7.270060000000001,
            7.76722,
            5.89518,
            7.3872
           ],
           "yaxis": "y"
          },
          {
           "alignmentgroup": "True",
           "customdata": [
            [
             11.3341,
             "Denmark",
             2018,
             "Integration of Digital Technology"
            ],
            [
             6.981339999999999,
             "Austria",
             2018,
             "Integration of Digital Technology"
            ],
            [
             3.66546,
             "Bulgaria",
             2018,
             "Integration of Digital Technology"
            ],
            [
             8.42347,
             "Malta",
             2018,
             "Integration of Digital Technology"
            ],
            [
             11.2895,
             "Belgium",
             2018,
             "Integration of Digital Technology"
            ],
            [
             8.05894,
             "Portugal",
             2018,
             "Integration of Digital Technology"
            ],
            [
             9.55044,
             "United Kingdom",
             2018,
             "Integration of Digital Technology"
            ],
            [
             11.3777,
             "Finland",
             2018,
             "Integration of Digital Technology"
            ],
            [
             6.50546,
             "Luxembourg",
             2018,
             "Integration of Digital Technology"
            ],
            [
             11.5031,
             "Netherlands",
             2018,
             "Integration of Digital Technology"
            ],
            [
             7.49062,
             "France",
             2018,
             "Integration of Digital Technology"
            ],
            [
             9.18684,
             "Lithuania",
             2018,
             "Integration of Digital Technology"
            ],
            [
             10.8396,
             "Sweden",
             2018,
             "Integration of Digital Technology"
            ],
            [
             7.7211,
             "Estonia",
             2018,
             "Integration of Digital Technology"
            ],
            [
             7.64945,
             "Slovenia",
             2018,
             "Integration of Digital Technology"
            ],
            [
             6.31919,
             "Cyprus",
             2018,
             "Integration of Digital Technology"
            ],
            [
             8.22947,
             "Spain",
             2018,
             "Integration of Digital Technology"
            ],
            [
             7.34525,
             "Croatia",
             2018,
             "Integration of Digital Technology"
            ],
            [
             5.13786,
             "Hungary",
             2018,
             "Integration of Digital Technology"
            ],
            [
             5.8215699999999995,
             "Italy",
             2018,
             "Integration of Digital Technology"
            ],
            [
             4.9209,
             "Latvia",
             2018,
             "Integration of Digital Technology"
            ],
            [
             8.29673,
             "Czech Rep.",
             2018,
             "Integration of Digital Technology"
            ],
            [
             5.724,
             "Greece",
             2018,
             "Integration of Digital Technology"
            ],
            [
             4.19566,
             "Poland",
             2018,
             "Integration of Digital Technology"
            ],
            [
             7.558789999999999,
             "Europe",
             2018,
             "Integration of Digital Technology"
            ],
            [
             7.166980000000001,
             "Deutschland",
             2018,
             "Integration of Digital Technology"
            ],
            [
             7.160239999999999,
             "Slovakia",
             2018,
             "Integration of Digital Technology"
            ],
            [
             12.6899,
             "Ireland",
             2018,
             "Integration of Digital Technology"
            ],
            [
             4.16514,
             "Romania",
             2018,
             "Integration of Digital Technology"
            ]
           ],
           "hovertemplate": "<b>%{hovertext}</b><br><br><extra></extra>",
           "hovertext": [
            11.3341,
            6.981339999999999,
            3.66546,
            8.42347,
            11.2895,
            8.05894,
            9.55044,
            11.3777,
            6.50546,
            11.5031,
            7.49062,
            9.18684,
            10.8396,
            7.7211,
            7.64945,
            6.31919,
            8.22947,
            7.34525,
            5.13786,
            5.8215699999999995,
            4.9209,
            8.29673,
            5.724,
            4.19566,
            7.558789999999999,
            7.166980000000001,
            7.160239999999999,
            12.6899,
            4.16514
           ],
           "ids": [
            "Denmark",
            "Austria",
            "Bulgaria",
            "Malta",
            "Belgium",
            "Portugal",
            "United Kingdom",
            "Finland",
            "Luxembourg",
            "Netherlands",
            "France",
            "Lithuania",
            "Sweden",
            "Estonia",
            "Slovenia",
            "Cyprus",
            "Spain",
            "Croatia",
            "Hungary",
            "Italy",
            "Latvia",
            "Czech Rep.",
            "Greece",
            "Poland",
            "Europe",
            "Deutschland",
            "Slovakia",
            "Ireland",
            "Romania"
           ],
           "legendgroup": "Integration of Digital Technology",
           "marker": {
            "color": "#ab63fa"
           },
           "name": "Integration of Digital Technology",
           "offsetgroup": "Integration of Digital Technology",
           "orientation": "v",
           "showlegend": true,
           "textposition": "auto",
           "type": "bar",
           "x": [
            "Denmark",
            "Austria",
            "Bulgaria",
            "Malta",
            "Belgium",
            "Portugal",
            "United Kingdom",
            "Finland",
            "Luxembourg",
            "Netherlands",
            "France",
            "Lithuania",
            "Sweden",
            "Estonia",
            "Slovenia",
            "Cyprus",
            "Spain",
            "Croatia",
            "Hungary",
            "Italy",
            "Latvia",
            "Czech Rep.",
            "Greece",
            "Poland",
            "Europe",
            "Deutschland",
            "Slovakia",
            "Ireland",
            "Romania"
           ],
           "xaxis": "x",
           "y": [
            11.3341,
            6.981339999999999,
            3.66546,
            8.42347,
            11.2895,
            8.05894,
            9.55044,
            11.3777,
            6.50546,
            11.5031,
            7.49062,
            9.18684,
            10.8396,
            7.7211,
            7.64945,
            6.31919,
            8.22947,
            7.34525,
            5.13786,
            5.8215699999999995,
            4.9209,
            8.29673,
            5.724,
            4.19566,
            7.558789999999999,
            7.166980000000001,
            7.160239999999999,
            12.6899,
            4.16514
           ],
           "yaxis": "y"
          },
          {
           "alignmentgroup": "True",
           "customdata": [
            [
             11.2133,
             "Spain",
             2018,
             "Human Capital"
            ],
            [
             15.2959,
             "Netherlands",
             2018,
             "Human Capital"
            ],
            [
             7.986000000000001,
             "Greece",
             2018,
             "Human Capital"
            ],
            [
             10.630999999999998,
             "Hungary",
             2018,
             "Human Capital"
            ],
            [
             11.46,
             "Croatia",
             2018,
             "Human Capital"
            ],
            [
             13.5489,
             "Deutschland",
             2018,
             "Human Capital"
            ],
            [
             11.4171,
             "Slovenia",
             2018,
             "Human Capital"
            ],
            [
             11.255,
             "Czech Rep.",
             2018,
             "Human Capital"
            ],
            [
             14.5846,
             "Estonia",
             2018,
             "Human Capital"
            ],
            [
             11.9016,
             "Europe",
             2018,
             "Human Capital"
            ],
            [
             7.89124,
             "Italy",
             2018,
             "Human Capital"
            ],
            [
             13.7792,
             "Luxembourg",
             2018,
             "Human Capital"
            ],
            [
             11.4057,
             "Belgium",
             2018,
             "Human Capital"
            ],
            [
             9.99704,
             "Latvia",
             2018,
             "Human Capital"
            ],
            [
             13.2564,
             "Ireland",
             2018,
             "Human Capital"
            ],
            [
             7.8659300000000005,
             "Romania",
             2018,
             "Human Capital"
            ],
            [
             15.1397,
             "Denmark",
             2018,
             "Human Capital"
            ],
            [
             15.2571,
             "United Kingdom",
             2018,
             "Human Capital"
            ],
            [
             10.7367,
             "Slovakia",
             2018,
             "Human Capital"
            ],
            [
             9.060080000000001,
             "Portugal",
             2018,
             "Human Capital"
            ],
            [
             11.7667,
             "France",
             2018,
             "Human Capital"
            ],
            [
             17.4854,
             "Sweden",
             2018,
             "Human Capital"
            ],
            [
             14.319,
             "Malta",
             2018,
             "Human Capital"
            ],
            [
             13.8416,
             "Austria",
             2018,
             "Human Capital"
            ],
            [
             10.1871,
             "Lithuania",
             2018,
             "Human Capital"
            ],
            [
             9.06212,
             "Cyprus",
             2018,
             "Human Capital"
            ],
            [
             9.05781,
             "Poland",
             2018,
             "Human Capital"
            ],
            [
             7.92651,
             "Bulgaria",
             2018,
             "Human Capital"
            ],
            [
             19.0364,
             "Finland",
             2018,
             "Human Capital"
            ]
           ],
           "hovertemplate": "<b>%{hovertext}</b><br><br><extra></extra>",
           "hovertext": [
            11.2133,
            15.2959,
            7.986000000000001,
            10.630999999999998,
            11.46,
            13.5489,
            11.4171,
            11.255,
            14.5846,
            11.9016,
            7.89124,
            13.7792,
            11.4057,
            9.99704,
            13.2564,
            7.8659300000000005,
            15.1397,
            15.2571,
            10.7367,
            9.060080000000001,
            11.7667,
            17.4854,
            14.319,
            13.8416,
            10.1871,
            9.06212,
            9.05781,
            7.92651,
            19.0364
           ],
           "ids": [
            "Spain",
            "Netherlands",
            "Greece",
            "Hungary",
            "Croatia",
            "Deutschland",
            "Slovenia",
            "Czech Rep.",
            "Estonia",
            "Europe",
            "Italy",
            "Luxembourg",
            "Belgium",
            "Latvia",
            "Ireland",
            "Romania",
            "Denmark",
            "United Kingdom",
            "Slovakia",
            "Portugal",
            "France",
            "Sweden",
            "Malta",
            "Austria",
            "Lithuania",
            "Cyprus",
            "Poland",
            "Bulgaria",
            "Finland"
           ],
           "legendgroup": "Human Capital",
           "marker": {
            "color": "#FFA15A"
           },
           "name": "Human Capital",
           "offsetgroup": "Human Capital",
           "orientation": "v",
           "showlegend": true,
           "textposition": "auto",
           "type": "bar",
           "x": [
            "Spain",
            "Netherlands",
            "Greece",
            "Hungary",
            "Croatia",
            "Deutschland",
            "Slovenia",
            "Czech Rep.",
            "Estonia",
            "Europe",
            "Italy",
            "Luxembourg",
            "Belgium",
            "Latvia",
            "Ireland",
            "Romania",
            "Denmark",
            "United Kingdom",
            "Slovakia",
            "Portugal",
            "France",
            "Sweden",
            "Malta",
            "Austria",
            "Lithuania",
            "Cyprus",
            "Poland",
            "Bulgaria",
            "Finland"
           ],
           "xaxis": "x",
           "y": [
            11.2133,
            15.2959,
            7.986000000000001,
            10.630999999999998,
            11.46,
            13.5489,
            11.4171,
            11.255,
            14.5846,
            11.9016,
            7.89124,
            13.7792,
            11.4057,
            9.99704,
            13.2564,
            7.8659300000000005,
            15.1397,
            15.2571,
            10.7367,
            9.060080000000001,
            11.7667,
            17.4854,
            14.319,
            13.8416,
            10.1871,
            9.06212,
            9.05781,
            7.92651,
            19.0364
           ],
           "yaxis": "y"
          }
         ],
         "name": "2018"
        },
        {
         "data": [
          {
           "alignmentgroup": "True",
           "customdata": [
            [
             14.2739,
             "Luxembourg",
             2019,
             "Connectivity"
            ],
            [
             11.9964,
             "France",
             2019,
             "Connectivity"
            ],
            [
             10.7078,
             "United Kingdom",
             2019,
             "Connectivity"
            ],
            [
             15.0147,
             "Sweden",
             2019,
             "Connectivity"
            ],
            [
             10.9627,
             "Malta",
             2019,
             "Connectivity"
            ],
            [
             9.98193,
             "Belgium",
             2019,
             "Connectivity"
            ],
            [
             14.7966,
             "Denmark",
             2019,
             "Connectivity"
            ],
            [
             10.6281,
             "Ireland",
             2019,
             "Connectivity"
            ],
            [
             11.4819,
             "Hungary",
             2019,
             "Connectivity"
            ],
            [
             12.0431,
             "Italy",
             2019,
             "Connectivity"
            ],
            [
             12.1378,
             "Slovenia",
             2019,
             "Connectivity"
            ],
            [
             10.7095,
             "Poland",
             2019,
             "Connectivity"
            ],
            [
             12.4861,
             "Estonia",
             2019,
             "Connectivity"
            ],
            [
             11.9143,
             "Deutschland",
             2019,
             "Connectivity"
            ],
            [
             12.6313,
             "Netherlands",
             2019,
             "Connectivity"
            ],
            [
             10.8636,
             "Czech Rep.",
             2019,
             "Connectivity"
            ],
            [
             14.9456,
             "Latvia",
             2019,
             "Connectivity"
            ],
            [
             9.910810000000001,
             "Slovakia",
             2019,
             "Connectivity"
            ],
            [
             11.5014,
             "Lithuania",
             2019,
             "Connectivity"
            ],
            [
             8.64476,
             "Cyprus",
             2019,
             "Connectivity"
            ],
            [
             9.30199,
             "Croatia",
             2019,
             "Connectivity"
            ],
            [
             7.37375,
             "Greece",
             2019,
             "Connectivity"
            ],
            [
             9.29255,
             "Bulgaria",
             2019,
             "Connectivity"
            ],
            [
             13.6365,
             "Finland",
             2019,
             "Connectivity"
            ],
            [
             11.1867,
             "Europe",
             2019,
             "Connectivity"
            ],
            [
             10.8698,
             "Austria",
             2019,
             "Connectivity"
            ],
            [
             12.5041,
             "Romania",
             2019,
             "Connectivity"
            ],
            [
             12.1013,
             "Portugal",
             2019,
             "Connectivity"
            ],
            [
             13.8499,
             "Spain",
             2019,
             "Connectivity"
            ]
           ],
           "hovertemplate": "<b>%{hovertext}</b><br><br><extra></extra>",
           "hovertext": [
            14.2739,
            11.9964,
            10.7078,
            15.0147,
            10.9627,
            9.98193,
            14.7966,
            10.6281,
            11.4819,
            12.0431,
            12.1378,
            10.7095,
            12.4861,
            11.9143,
            12.6313,
            10.8636,
            14.9456,
            9.910810000000001,
            11.5014,
            8.64476,
            9.30199,
            7.37375,
            9.29255,
            13.6365,
            11.1867,
            10.8698,
            12.5041,
            12.1013,
            13.8499
           ],
           "ids": [
            "Luxembourg",
            "France",
            "United Kingdom",
            "Sweden",
            "Malta",
            "Belgium",
            "Denmark",
            "Ireland",
            "Hungary",
            "Italy",
            "Slovenia",
            "Poland",
            "Estonia",
            "Deutschland",
            "Netherlands",
            "Czech Rep.",
            "Latvia",
            "Slovakia",
            "Lithuania",
            "Cyprus",
            "Croatia",
            "Greece",
            "Bulgaria",
            "Finland",
            "Europe",
            "Austria",
            "Romania",
            "Portugal",
            "Spain"
           ],
           "legendgroup": "Connectivity",
           "marker": {
            "color": "#636efa"
           },
           "name": "Connectivity",
           "offsetgroup": "Connectivity",
           "orientation": "v",
           "showlegend": true,
           "textposition": "auto",
           "type": "bar",
           "x": [
            "Luxembourg",
            "France",
            "United Kingdom",
            "Sweden",
            "Malta",
            "Belgium",
            "Denmark",
            "Ireland",
            "Hungary",
            "Italy",
            "Slovenia",
            "Poland",
            "Estonia",
            "Deutschland",
            "Netherlands",
            "Czech Rep.",
            "Latvia",
            "Slovakia",
            "Lithuania",
            "Cyprus",
            "Croatia",
            "Greece",
            "Bulgaria",
            "Finland",
            "Europe",
            "Austria",
            "Romania",
            "Portugal",
            "Spain"
           ],
           "xaxis": "x",
           "y": [
            14.2739,
            11.9964,
            10.7078,
            15.0147,
            10.9627,
            9.98193,
            14.7966,
            10.6281,
            11.4819,
            12.0431,
            12.1378,
            10.7095,
            12.4861,
            11.9143,
            12.6313,
            10.8636,
            14.9456,
            9.910810000000001,
            11.5014,
            8.64476,
            9.30199,
            7.37375,
            9.29255,
            13.6365,
            11.1867,
            10.8698,
            12.5041,
            12.1013,
            13.8499
           ],
           "yaxis": "y"
          },
          {
           "alignmentgroup": "True",
           "customdata": [
            [
             8.98333,
             "Czech Rep.",
             2019,
             "Digital Public Services"
            ],
            [
             11.2849,
             "Malta",
             2019,
             "Digital Public Services"
            ],
            [
             11.9461,
             "Netherlands",
             2019,
             "Digital Public Services"
            ],
            [
             11.7185,
             "Ireland",
             2019,
             "Digital Public Services"
            ],
            [
             9.22891,
             "Poland",
             2019,
             "Digital Public Services"
            ],
            [
             9.67817,
             "Slovenia",
             2019,
             "Digital Public Services"
            ],
            [
             11.4431,
             "Austria",
             2019,
             "Digital Public Services"
            ],
            [
             10.0464,
             "Europe",
             2019,
             "Digital Public Services"
            ],
            [
             9.289069999999999,
             "Italy",
             2019,
             "Digital Public Services"
            ],
            [
             9.85138,
             "Cyprus",
             2019,
             "Digital Public Services"
            ],
            [
             9.73435,
             "Luxembourg",
             2019,
             "Digital Public Services"
            ],
            [
             11.9122,
             "Lithuania",
             2019,
             "Digital Public Services"
            ],
            [
             7.60798,
             "Hungary",
             2019,
             "Digital Public Services"
            ],
            [
             7.62195,
             "Croatia",
             2019,
             "Digital Public Services"
            ],
            [
             7.6103,
             "Slovakia",
             2019,
             "Digital Public Services"
            ],
            [
             12.0364,
             "Latvia",
             2019,
             "Digital Public Services"
            ],
            [
             11.6905,
             "Sweden",
             2019,
             "Digital Public Services"
            ],
            [
             12.2987,
             "Finland",
             2019,
             "Digital Public Services"
            ],
            [
             12.135,
             "Spain",
             2019,
             "Digital Public Services"
            ],
            [
             9.86558,
             "Belgium",
             2019,
             "Digital Public Services"
            ],
            [
             9.72463,
             "United Kingdom",
             2019,
             "Digital Public Services"
            ],
            [
             8.82722,
             "Deutschland",
             2019,
             "Digital Public Services"
            ],
            [
             10.389000000000001,
             "France",
             2019,
             "Digital Public Services"
            ],
            [
             12.4093,
             "Denmark",
             2019,
             "Digital Public Services"
            ],
            [
             6.966019999999999,
             "Greece",
             2019,
             "Digital Public Services"
            ],
            [
             8.470930000000001,
             "Bulgaria",
             2019,
             "Digital Public Services"
            ],
            [
             12.7446,
             "Estonia",
             2019,
             "Digital Public Services"
            ],
            [
             11.015999999999998,
             "Portugal",
             2019,
             "Digital Public Services"
            ],
            [
             6.74879,
             "Romania",
             2019,
             "Digital Public Services"
            ]
           ],
           "hovertemplate": "<b>%{hovertext}</b><br><br><extra></extra>",
           "hovertext": [
            8.98333,
            11.2849,
            11.9461,
            11.7185,
            9.22891,
            9.67817,
            11.4431,
            10.0464,
            9.289069999999999,
            9.85138,
            9.73435,
            11.9122,
            7.60798,
            7.62195,
            7.6103,
            12.0364,
            11.6905,
            12.2987,
            12.135,
            9.86558,
            9.72463,
            8.82722,
            10.389000000000001,
            12.4093,
            6.966019999999999,
            8.470930000000001,
            12.7446,
            11.015999999999998,
            6.74879
           ],
           "ids": [
            "Czech Rep.",
            "Malta",
            "Netherlands",
            "Ireland",
            "Poland",
            "Slovenia",
            "Austria",
            "Europe",
            "Italy",
            "Cyprus",
            "Luxembourg",
            "Lithuania",
            "Hungary",
            "Croatia",
            "Slovakia",
            "Latvia",
            "Sweden",
            "Finland",
            "Spain",
            "Belgium",
            "United Kingdom",
            "Deutschland",
            "France",
            "Denmark",
            "Greece",
            "Bulgaria",
            "Estonia",
            "Portugal",
            "Romania"
           ],
           "legendgroup": "Digital Public Services",
           "marker": {
            "color": "#EF553B"
           },
           "name": "Digital Public Services",
           "offsetgroup": "Digital Public Services",
           "orientation": "v",
           "showlegend": true,
           "textposition": "auto",
           "type": "bar",
           "x": [
            "Czech Rep.",
            "Malta",
            "Netherlands",
            "Ireland",
            "Poland",
            "Slovenia",
            "Austria",
            "Europe",
            "Italy",
            "Cyprus",
            "Luxembourg",
            "Lithuania",
            "Hungary",
            "Croatia",
            "Slovakia",
            "Latvia",
            "Sweden",
            "Finland",
            "Spain",
            "Belgium",
            "United Kingdom",
            "Deutschland",
            "France",
            "Denmark",
            "Greece",
            "Bulgaria",
            "Estonia",
            "Portugal",
            "Romania"
           ],
           "xaxis": "x",
           "y": [
            8.98333,
            11.2849,
            11.9461,
            11.7185,
            9.22891,
            9.67817,
            11.4431,
            10.0464,
            9.289069999999999,
            9.85138,
            9.73435,
            11.9122,
            7.60798,
            7.62195,
            7.6103,
            12.0364,
            11.6905,
            12.2987,
            12.135,
            9.86558,
            9.72463,
            8.82722,
            10.389000000000001,
            12.4093,
            6.966019999999999,
            8.470930000000001,
            12.7446,
            11.015999999999998,
            6.74879
           ],
           "yaxis": "y"
          },
          {
           "alignmentgroup": "True",
           "customdata": [
            [
             7.59444,
             "Cyprus",
             2019,
             "Use of Internet Services"
            ],
            [
             9.46973,
             "Estonia",
             2019,
             "Use of Internet Services"
            ],
            [
             7.48538,
             "France",
             2019,
             "Use of Internet Services"
            ],
            [
             8.26719,
             "Spain",
             2019,
             "Use of Internet Services"
            ],
            [
             7.68998,
             "Czech Rep.",
             2019,
             "Use of Internet Services"
            ],
            [
             10.7724,
             "Finland",
             2019,
             "Use of Internet Services"
            ],
            [
             7.90497,
             "Latvia",
             2019,
             "Use of Internet Services"
            ],
            [
             6.25246,
             "Italy",
             2019,
             "Use of Internet Services"
            ],
            [
             10.995999999999999,
             "Netherlands",
             2019,
             "Use of Internet Services"
            ],
            [
             11.2871,
             "Denmark",
             2019,
             "Use of Internet Services"
            ],
            [
             7.46846,
             "Slovenia",
             2019,
             "Use of Internet Services"
            ],
            [
             8.00464,
             "Croatia",
             2019,
             "Use of Internet Services"
            ],
            [
             7.88162,
             "Austria",
             2019,
             "Use of Internet Services"
            ],
            [
             6.869160000000001,
             "Poland",
             2019,
             "Use of Internet Services"
            ],
            [
             9.35361,
             "Malta",
             2019,
             "Use of Internet Services"
            ],
            [
             7.696789999999999,
             "Slovakia",
             2019,
             "Use of Internet Services"
            ],
            [
             8.33084,
             "Lithuania",
             2019,
             "Use of Internet Services"
            ],
            [
             5.244759999999999,
             "Romania",
             2019,
             "Use of Internet Services"
            ],
            [
             7.67852,
             "Hungary",
             2019,
             "Use of Internet Services"
            ],
            [
             8.42495,
             "Belgium",
             2019,
             "Use of Internet Services"
            ],
            [
             11.2513,
             "Sweden",
             2019,
             "Use of Internet Services"
            ],
            [
             6.7854600000000005,
             "Portugal",
             2019,
             "Use of Internet Services"
            ],
            [
             8.632719999999999,
             "Luxembourg",
             2019,
             "Use of Internet Services"
            ],
            [
             10.3452,
             "United Kingdom",
             2019,
             "Use of Internet Services"
            ],
            [
             6.49859,
             "Greece",
             2019,
             "Use of Internet Services"
            ],
            [
             9.04382,
             "Deutschland",
             2019,
             "Use of Internet Services"
            ],
            [
             5.50705,
             "Bulgaria",
             2019,
             "Use of Internet Services"
            ],
            [
             8.25158,
             "Europe",
             2019,
             "Use of Internet Services"
            ],
            [
             8.31115,
             "Ireland",
             2019,
             "Use of Internet Services"
            ]
           ],
           "hovertemplate": "<b>%{hovertext}</b><br><br><extra></extra>",
           "hovertext": [
            7.59444,
            9.46973,
            7.48538,
            8.26719,
            7.68998,
            10.7724,
            7.90497,
            6.25246,
            10.995999999999999,
            11.2871,
            7.46846,
            8.00464,
            7.88162,
            6.869160000000001,
            9.35361,
            7.696789999999999,
            8.33084,
            5.244759999999999,
            7.67852,
            8.42495,
            11.2513,
            6.7854600000000005,
            8.632719999999999,
            10.3452,
            6.49859,
            9.04382,
            5.50705,
            8.25158,
            8.31115
           ],
           "ids": [
            "Cyprus",
            "Estonia",
            "France",
            "Spain",
            "Czech Rep.",
            "Finland",
            "Latvia",
            "Italy",
            "Netherlands",
            "Denmark",
            "Slovenia",
            "Croatia",
            "Austria",
            "Poland",
            "Malta",
            "Slovakia",
            "Lithuania",
            "Romania",
            "Hungary",
            "Belgium",
            "Sweden",
            "Portugal",
            "Luxembourg",
            "United Kingdom",
            "Greece",
            "Deutschland",
            "Bulgaria",
            "Europe",
            "Ireland"
           ],
           "legendgroup": "Use of Internet Services",
           "marker": {
            "color": "#00cc96"
           },
           "name": "Use of Internet Services",
           "offsetgroup": "Use of Internet Services",
           "orientation": "v",
           "showlegend": true,
           "textposition": "auto",
           "type": "bar",
           "x": [
            "Cyprus",
            "Estonia",
            "France",
            "Spain",
            "Czech Rep.",
            "Finland",
            "Latvia",
            "Italy",
            "Netherlands",
            "Denmark",
            "Slovenia",
            "Croatia",
            "Austria",
            "Poland",
            "Malta",
            "Slovakia",
            "Lithuania",
            "Romania",
            "Hungary",
            "Belgium",
            "Sweden",
            "Portugal",
            "Luxembourg",
            "United Kingdom",
            "Greece",
            "Deutschland",
            "Bulgaria",
            "Europe",
            "Ireland"
           ],
           "xaxis": "x",
           "y": [
            7.59444,
            9.46973,
            7.48538,
            8.26719,
            7.68998,
            10.7724,
            7.90497,
            6.25246,
            10.995999999999999,
            11.2871,
            7.46846,
            8.00464,
            7.88162,
            6.869160000000001,
            9.35361,
            7.696789999999999,
            8.33084,
            5.244759999999999,
            7.67852,
            8.42495,
            11.2513,
            6.7854600000000005,
            8.632719999999999,
            10.3452,
            6.49859,
            9.04382,
            5.50705,
            8.25158,
            8.31115
           ],
           "yaxis": "y"
          },
          {
           "alignmentgroup": "True",
           "customdata": [
            [
             4.26419,
             "Romania",
             2019,
             "Integration of Digital Technology"
            ],
            [
             12.28,
             "Belgium",
             2019,
             "Integration of Digital Technology"
            ],
            [
             12.0295,
             "Finland",
             2019,
             "Integration of Digital Technology"
            ],
            [
             9.51275,
             "Lithuania",
             2019,
             "Integration of Digital Technology"
            ],
            [
             13.8237,
             "Ireland",
             2019,
             "Integration of Digital Technology"
            ],
            [
             12.2375,
             "Denmark",
             2019,
             "Integration of Digital Technology"
            ],
            [
             3.37848,
             "Bulgaria",
             2019,
             "Integration of Digital Technology"
            ],
            [
             4.94057,
             "Latvia",
             2019,
             "Integration of Digital Technology"
            ],
            [
             4.70142,
             "Poland",
             2019,
             "Integration of Digital Technology"
            ],
            [
             8.54251,
             "Czech Rep.",
             2019,
             "Integration of Digital Technology"
            ],
            [
             10.4031,
             "United Kingdom",
             2019,
             "Integration of Digital Technology"
            ],
            [
             7.96787,
             "Estonia",
             2019,
             "Integration of Digital Technology"
            ],
            [
             6.70158,
             "Cyprus",
             2019,
             "Integration of Digital Technology"
            ],
            [
             6.04896,
             "Greece",
             2019,
             "Integration of Digital Technology"
            ],
            [
             6.612419999999999,
             "Slovakia",
             2019,
             "Integration of Digital Technology"
            ],
            [
             8.256739999999999,
             "Spain",
             2019,
             "Integration of Digital Technology"
            ],
            [
             7.82335,
             "Slovenia",
             2019,
             "Integration of Digital Technology"
            ],
            [
             12.5225,
             "Netherlands",
             2019,
             "Integration of Digital Technology"
            ],
            [
             4.9701900000000006,
             "Hungary",
             2019,
             "Integration of Digital Technology"
            ],
            [
             6.00481,
             "Italy",
             2019,
             "Integration of Digital Technology"
            ],
            [
             7.8313,
             "Deutschland",
             2019,
             "Integration of Digital Technology"
            ],
            [
             7.705419999999999,
             "Croatia",
             2019,
             "Integration of Digital Technology"
            ],
            [
             6.95489,
             "Austria",
             2019,
             "Integration of Digital Technology"
            ],
            [
             7.95291,
             "Europe",
             2019,
             "Integration of Digital Technology"
            ],
            [
             8.28075,
             "Portugal",
             2019,
             "Integration of Digital Technology"
            ],
            [
             8.15121,
             "France",
             2019,
             "Integration of Digital Technology"
            ],
            [
             11.5879,
             "Sweden",
             2019,
             "Integration of Digital Technology"
            ],
            [
             9.92234,
             "Malta",
             2019,
             "Integration of Digital Technology"
            ],
            [
             7.48482,
             "Luxembourg",
             2019,
             "Integration of Digital Technology"
            ]
           ],
           "hovertemplate": "<b>%{hovertext}</b><br><br><extra></extra>",
           "hovertext": [
            4.26419,
            12.28,
            12.0295,
            9.51275,
            13.8237,
            12.2375,
            3.37848,
            4.94057,
            4.70142,
            8.54251,
            10.4031,
            7.96787,
            6.70158,
            6.04896,
            6.612419999999999,
            8.256739999999999,
            7.82335,
            12.5225,
            4.9701900000000006,
            6.00481,
            7.8313,
            7.705419999999999,
            6.95489,
            7.95291,
            8.28075,
            8.15121,
            11.5879,
            9.92234,
            7.48482
           ],
           "ids": [
            "Romania",
            "Belgium",
            "Finland",
            "Lithuania",
            "Ireland",
            "Denmark",
            "Bulgaria",
            "Latvia",
            "Poland",
            "Czech Rep.",
            "United Kingdom",
            "Estonia",
            "Cyprus",
            "Greece",
            "Slovakia",
            "Spain",
            "Slovenia",
            "Netherlands",
            "Hungary",
            "Italy",
            "Deutschland",
            "Croatia",
            "Austria",
            "Europe",
            "Portugal",
            "France",
            "Sweden",
            "Malta",
            "Luxembourg"
           ],
           "legendgroup": "Integration of Digital Technology",
           "marker": {
            "color": "#ab63fa"
           },
           "name": "Integration of Digital Technology",
           "offsetgroup": "Integration of Digital Technology",
           "orientation": "v",
           "showlegend": true,
           "textposition": "auto",
           "type": "bar",
           "x": [
            "Romania",
            "Belgium",
            "Finland",
            "Lithuania",
            "Ireland",
            "Denmark",
            "Bulgaria",
            "Latvia",
            "Poland",
            "Czech Rep.",
            "United Kingdom",
            "Estonia",
            "Cyprus",
            "Greece",
            "Slovakia",
            "Spain",
            "Slovenia",
            "Netherlands",
            "Hungary",
            "Italy",
            "Deutschland",
            "Croatia",
            "Austria",
            "Europe",
            "Portugal",
            "France",
            "Sweden",
            "Malta",
            "Luxembourg"
           ],
           "xaxis": "x",
           "y": [
            4.26419,
            12.28,
            12.0295,
            9.51275,
            13.8237,
            12.2375,
            3.37848,
            4.94057,
            4.70142,
            8.54251,
            10.4031,
            7.96787,
            6.70158,
            6.04896,
            6.612419999999999,
            8.256739999999999,
            7.82335,
            12.5225,
            4.9701900000000006,
            6.00481,
            7.8313,
            7.705419999999999,
            6.95489,
            7.95291,
            8.28075,
            8.15121,
            11.5879,
            9.92234,
            7.48482
           ],
           "yaxis": "y"
          },
          {
           "alignmentgroup": "True",
           "customdata": [
            [
             8.007060000000001,
             "Italy",
             2019,
             "Human Capital"
            ],
            [
             15.4998,
             "Netherlands",
             2019,
             "Human Capital"
            ],
            [
             11.5829,
             "Slovenia",
             2019,
             "Human Capital"
            ],
            [
             11.1238,
             "Spain",
             2019,
             "Human Capital"
            ],
            [
             12.4039,
             "Belgium",
             2019,
             "Human Capital"
            ],
            [
             13.6077,
             "Deutschland",
             2019,
             "Human Capital"
            ],
            [
             17.9074,
             "Sweden",
             2019,
             "Human Capital"
            ],
            [
             11.0483,
             "Slovakia",
             2019,
             "Human Capital"
            ],
            [
             7.12805,
             "Bulgaria",
             2019,
             "Human Capital"
            ],
            [
             13.9133,
             "Austria",
             2019,
             "Human Capital"
            ],
            [
             10.1114,
             "Latvia",
             2019,
             "Human Capital"
            ],
            [
             15.6117,
             "Estonia",
             2019,
             "Human Capital"
            ],
            [
             14.3533,
             "Luxembourg",
             2019,
             "Human Capital"
            ],
            [
             11.2026,
             "Czech Rep.",
             2019,
             "Human Capital"
            ],
            [
             13.7622,
             "Malta",
             2019,
             "Human Capital"
            ],
            [
             15.4052,
             "United Kingdom",
             2019,
             "Human Capital"
            ],
            [
             8.80688,
             "Portugal",
             2019,
             "Human Capital"
            ],
            [
             7.77146,
             "Romania",
             2019,
             "Human Capital"
            ],
            [
             11.7536,
             "France",
             2019,
             "Human Capital"
            ],
            [
             10.5455,
             "Lithuania",
             2019,
             "Human Capital"
            ],
            [
             8.1871,
             "Greece",
             2019,
             "Human Capital"
            ],
            [
             10.5298,
             "Hungary",
             2019,
             "Human Capital"
            ],
            [
             11.9732,
             "Europe",
             2019,
             "Human Capital"
            ],
            [
             19.3848,
             "Finland",
             2019,
             "Human Capital"
            ],
            [
             11.705,
             "Croatia",
             2019,
             "Human Capital"
            ],
            [
             13.5395,
             "Ireland",
             2019,
             "Human Capital"
            ],
            [
             15.2873,
             "Denmark",
             2019,
             "Human Capital"
            ],
            [
             9.2114,
             "Poland",
             2019,
             "Human Capital"
            ],
            [
             8.66126,
             "Cyprus",
             2019,
             "Human Capital"
            ]
           ],
           "hovertemplate": "<b>%{hovertext}</b><br><br><extra></extra>",
           "hovertext": [
            8.007060000000001,
            15.4998,
            11.5829,
            11.1238,
            12.4039,
            13.6077,
            17.9074,
            11.0483,
            7.12805,
            13.9133,
            10.1114,
            15.6117,
            14.3533,
            11.2026,
            13.7622,
            15.4052,
            8.80688,
            7.77146,
            11.7536,
            10.5455,
            8.1871,
            10.5298,
            11.9732,
            19.3848,
            11.705,
            13.5395,
            15.2873,
            9.2114,
            8.66126
           ],
           "ids": [
            "Italy",
            "Netherlands",
            "Slovenia",
            "Spain",
            "Belgium",
            "Deutschland",
            "Sweden",
            "Slovakia",
            "Bulgaria",
            "Austria",
            "Latvia",
            "Estonia",
            "Luxembourg",
            "Czech Rep.",
            "Malta",
            "United Kingdom",
            "Portugal",
            "Romania",
            "France",
            "Lithuania",
            "Greece",
            "Hungary",
            "Europe",
            "Finland",
            "Croatia",
            "Ireland",
            "Denmark",
            "Poland",
            "Cyprus"
           ],
           "legendgroup": "Human Capital",
           "marker": {
            "color": "#FFA15A"
           },
           "name": "Human Capital",
           "offsetgroup": "Human Capital",
           "orientation": "v",
           "showlegend": true,
           "textposition": "auto",
           "type": "bar",
           "x": [
            "Italy",
            "Netherlands",
            "Slovenia",
            "Spain",
            "Belgium",
            "Deutschland",
            "Sweden",
            "Slovakia",
            "Bulgaria",
            "Austria",
            "Latvia",
            "Estonia",
            "Luxembourg",
            "Czech Rep.",
            "Malta",
            "United Kingdom",
            "Portugal",
            "Romania",
            "France",
            "Lithuania",
            "Greece",
            "Hungary",
            "Europe",
            "Finland",
            "Croatia",
            "Ireland",
            "Denmark",
            "Poland",
            "Cyprus"
           ],
           "xaxis": "x",
           "y": [
            8.007060000000001,
            15.4998,
            11.5829,
            11.1238,
            12.4039,
            13.6077,
            17.9074,
            11.0483,
            7.12805,
            13.9133,
            10.1114,
            15.6117,
            14.3533,
            11.2026,
            13.7622,
            15.4052,
            8.80688,
            7.77146,
            11.7536,
            10.5455,
            8.1871,
            10.5298,
            11.9732,
            19.3848,
            11.705,
            13.5395,
            15.2873,
            9.2114,
            8.66126
           ],
           "yaxis": "y"
          }
         ],
         "name": "2019"
        },
        {
         "data": [
          {
           "alignmentgroup": "True",
           "customdata": [
            [
             16.4551,
             "Denmark",
             2020,
             "Connectivity"
            ],
            [
             12.5581,
             "Slovenia",
             2020,
             "Connectivity"
            ],
            [
             14.8489,
             "Deutschland",
             2020,
             "Connectivity"
            ],
            [
             15.0807,
             "Netherlands",
             2020,
             "Connectivity"
            ],
            [
             8.34223,
             "Greece",
             2020,
             "Connectivity"
            ],
            [
             14.6796,
             "Malta",
             2020,
             "Connectivity"
            ],
            [
             11.2203,
             "Czech Rep.",
             2020,
             "Connectivity"
            ],
            [
             12.5146,
             "Europe",
             2020,
             "Connectivity"
            ],
            [
             13.4802,
             "Portugal",
             2020,
             "Connectivity"
            ],
            [
             9.6238,
             "Bulgaria",
             2020,
             "Connectivity"
            ],
            [
             10.2882,
             "Croatia",
             2020,
             "Connectivity"
            ],
            [
             9.614339999999999,
             "Cyprus",
             2020,
             "Connectivity"
            ],
            [
             12.964,
             "Estonia",
             2020,
             "Connectivity"
            ],
            [
             11.7886,
             "Austria",
             2020,
             "Connectivity"
            ],
            [
             14.7929,
             "Finland",
             2020,
             "Connectivity"
            ],
            [
             12.8358,
             "Poland",
             2020,
             "Connectivity"
            ],
            [
             11.4228,
             "Ireland",
             2020,
             "Connectivity"
            ],
            [
             14.9468,
             "Hungary",
             2020,
             "Connectivity"
            ],
            [
             12.4966,
             "Italy",
             2020,
             "Connectivity"
            ],
            [
             15.1985,
             "Spain",
             2020,
             "Connectivity"
            ],
            [
             14.0463,
             "Romania",
             2020,
             "Connectivity"
            ],
            [
             15.4403,
             "Latvia",
             2020,
             "Connectivity"
            ],
            [
             16.0923,
             "Sweden",
             2020,
             "Connectivity"
            ],
            [
             15.8372,
             "Luxembourg",
             2020,
             "Connectivity"
            ],
            [
             12.2205,
             "Lithuania",
             2020,
             "Connectivity"
            ],
            [
             13.0068,
             "Belgium",
             2020,
             "Connectivity"
            ],
            [
             11.8659,
             "Slovakia",
             2020,
             "Connectivity"
            ],
            [
             12.2045,
             "United Kingdom",
             2020,
             "Connectivity"
            ],
            [
             12.460999999999999,
             "France",
             2020,
             "Connectivity"
            ]
           ],
           "hovertemplate": "<b>%{hovertext}</b><br><br><extra></extra>",
           "hovertext": [
            16.4551,
            12.5581,
            14.8489,
            15.0807,
            8.34223,
            14.6796,
            11.2203,
            12.5146,
            13.4802,
            9.6238,
            10.2882,
            9.614339999999999,
            12.964,
            11.7886,
            14.7929,
            12.8358,
            11.4228,
            14.9468,
            12.4966,
            15.1985,
            14.0463,
            15.4403,
            16.0923,
            15.8372,
            12.2205,
            13.0068,
            11.8659,
            12.2045,
            12.460999999999999
           ],
           "ids": [
            "Denmark",
            "Slovenia",
            "Deutschland",
            "Netherlands",
            "Greece",
            "Malta",
            "Czech Rep.",
            "Europe",
            "Portugal",
            "Bulgaria",
            "Croatia",
            "Cyprus",
            "Estonia",
            "Austria",
            "Finland",
            "Poland",
            "Ireland",
            "Hungary",
            "Italy",
            "Spain",
            "Romania",
            "Latvia",
            "Sweden",
            "Luxembourg",
            "Lithuania",
            "Belgium",
            "Slovakia",
            "United Kingdom",
            "France"
           ],
           "legendgroup": "Connectivity",
           "marker": {
            "color": "#636efa"
           },
           "name": "Connectivity",
           "offsetgroup": "Connectivity",
           "orientation": "v",
           "showlegend": true,
           "textposition": "auto",
           "type": "bar",
           "x": [
            "Denmark",
            "Slovenia",
            "Deutschland",
            "Netherlands",
            "Greece",
            "Malta",
            "Czech Rep.",
            "Europe",
            "Portugal",
            "Bulgaria",
            "Croatia",
            "Cyprus",
            "Estonia",
            "Austria",
            "Finland",
            "Poland",
            "Ireland",
            "Hungary",
            "Italy",
            "Spain",
            "Romania",
            "Latvia",
            "Sweden",
            "Luxembourg",
            "Lithuania",
            "Belgium",
            "Slovakia",
            "United Kingdom",
            "France"
           ],
           "xaxis": "x",
           "y": [
            16.4551,
            12.5581,
            14.8489,
            15.0807,
            8.34223,
            14.6796,
            11.2203,
            12.5146,
            13.4802,
            9.6238,
            10.2882,
            9.614339999999999,
            12.964,
            11.7886,
            14.7929,
            12.8358,
            11.4228,
            14.9468,
            12.4966,
            15.1985,
            14.0463,
            15.4403,
            16.0923,
            15.8372,
            12.2205,
            13.0068,
            11.8659,
            12.2045,
            12.460999999999999
           ],
           "yaxis": "y"
          },
          {
           "alignmentgroup": "True",
           "customdata": [
            [
             12.7595,
             "Latvia",
             2020,
             "Digital Public Services"
            ],
            [
             9.35661,
             "Czech Rep.",
             2020,
             "Digital Public Services"
            ],
            [
             12.1441,
             "Netherlands",
             2020,
             "Digital Public Services"
            ],
            [
             10.8,
             "Europe",
             2020,
             "Digital Public Services"
            ],
            [
             13.0695,
             "Denmark",
             2020,
             "Digital Public Services"
            ],
            [
             11.2681,
             "Portugal",
             2020,
             "Digital Public Services"
            ],
            [
             11.5063,
             "France",
             2020,
             "Digital Public Services"
            ],
            [
             10.6158,
             "United Kingdom",
             2020,
             "Digital Public Services"
            ],
            [
             7.26127,
             "Romania",
             2020,
             "Digital Public Services"
            ],
            [
             7.72501,
             "Greece",
             2020,
             "Digital Public Services"
            ],
            [
             8.36315,
             "Croatia",
             2020,
             "Digital Public Services"
            ],
            [
             10.1218,
             "Italy",
             2020,
             "Digital Public Services"
            ],
            [
             11.0612,
             "Luxembourg",
             2020,
             "Digital Public Services"
            ],
            [
             12.0943,
             "Ireland",
             2020,
             "Digital Public Services"
            ],
            [
             10.1111,
             "Poland",
             2020,
             "Digital Public Services"
            ],
            [
             8.34183,
             "Slovakia",
             2020,
             "Digital Public Services"
            ],
            [
             9.95575,
             "Deutschland",
             2020,
             "Digital Public Services"
            ],
            [
             10.7597,
             "Belgium",
             2020,
             "Digital Public Services"
            ],
            [
             13.0913,
             "Spain",
             2020,
             "Digital Public Services"
            ],
            [
             10.3433,
             "Cyprus",
             2020,
             "Digital Public Services"
            ],
            [
             11.7193,
             "Malta",
             2020,
             "Digital Public Services"
            ],
            [
             9.26416,
             "Bulgaria",
             2020,
             "Digital Public Services"
            ],
            [
             8.66502,
             "Hungary",
             2020,
             "Digital Public Services"
            ],
            [
             10.6132,
             "Slovenia",
             2020,
             "Digital Public Services"
            ],
            [
             12.2169,
             "Lithuania",
             2020,
             "Digital Public Services"
            ],
            [
             12.1253,
             "Austria",
             2020,
             "Digital Public Services"
            ],
            [
             11.9012,
             "Sweden",
             2020,
             "Digital Public Services"
            ],
            [
             13.4001,
             "Estonia",
             2020,
             "Digital Public Services"
            ],
            [
             13.0492,
             "Finland",
             2020,
             "Digital Public Services"
            ]
           ],
           "hovertemplate": "<b>%{hovertext}</b><br><br><extra></extra>",
           "hovertext": [
            12.7595,
            9.35661,
            12.1441,
            10.8,
            13.0695,
            11.2681,
            11.5063,
            10.6158,
            7.26127,
            7.72501,
            8.36315,
            10.1218,
            11.0612,
            12.0943,
            10.1111,
            8.34183,
            9.95575,
            10.7597,
            13.0913,
            10.3433,
            11.7193,
            9.26416,
            8.66502,
            10.6132,
            12.2169,
            12.1253,
            11.9012,
            13.4001,
            13.0492
           ],
           "ids": [
            "Latvia",
            "Czech Rep.",
            "Netherlands",
            "Europe",
            "Denmark",
            "Portugal",
            "France",
            "United Kingdom",
            "Romania",
            "Greece",
            "Croatia",
            "Italy",
            "Luxembourg",
            "Ireland",
            "Poland",
            "Slovakia",
            "Deutschland",
            "Belgium",
            "Spain",
            "Cyprus",
            "Malta",
            "Bulgaria",
            "Hungary",
            "Slovenia",
            "Lithuania",
            "Austria",
            "Sweden",
            "Estonia",
            "Finland"
           ],
           "legendgroup": "Digital Public Services",
           "marker": {
            "color": "#EF553B"
           },
           "name": "Digital Public Services",
           "offsetgroup": "Digital Public Services",
           "orientation": "v",
           "showlegend": true,
           "textposition": "auto",
           "type": "bar",
           "x": [
            "Latvia",
            "Czech Rep.",
            "Netherlands",
            "Europe",
            "Denmark",
            "Portugal",
            "France",
            "United Kingdom",
            "Romania",
            "Greece",
            "Croatia",
            "Italy",
            "Luxembourg",
            "Ireland",
            "Poland",
            "Slovakia",
            "Deutschland",
            "Belgium",
            "Spain",
            "Cyprus",
            "Malta",
            "Bulgaria",
            "Hungary",
            "Slovenia",
            "Lithuania",
            "Austria",
            "Sweden",
            "Estonia",
            "Finland"
           ],
           "xaxis": "x",
           "y": [
            12.7595,
            9.35661,
            12.1441,
            10.8,
            13.0695,
            11.2681,
            11.5063,
            10.6158,
            7.26127,
            7.72501,
            8.36315,
            10.1218,
            11.0612,
            12.0943,
            10.1111,
            8.34183,
            9.95575,
            10.7597,
            13.0913,
            10.3433,
            11.7193,
            9.26416,
            8.66502,
            10.6132,
            12.2169,
            12.1253,
            11.9012,
            13.4001,
            13.0492
           ],
           "yaxis": "y"
          },
          {
           "alignmentgroup": "True",
           "customdata": [
            [
             8.12155,
             "Czech Rep.",
             2020,
             "Use of Internet Services"
            ],
            [
             8.09762,
             "Latvia",
             2020,
             "Use of Internet Services"
            ],
            [
             7.4458899999999995,
             "Poland",
             2020,
             "Use of Internet Services"
            ],
            [
             5.4973,
             "Bulgaria",
             2020,
             "Use of Internet Services"
            ],
            [
             8.102960000000001,
             "Austria",
             2020,
             "Use of Internet Services"
            ],
            [
             11.3931,
             "Sweden",
             2020,
             "Use of Internet Services"
            ],
            [
             9.31329,
             "Ireland",
             2020,
             "Use of Internet Services"
            ],
            [
             10.9968,
             "United Kingdom",
             2020,
             "Use of Internet Services"
            ],
            [
             8.827630000000001,
             "Luxembourg",
             2020,
             "Use of Internet Services"
            ],
            [
             7.75714,
             "Slovenia",
             2020,
             "Use of Internet Services"
            ],
            [
             11.4512,
             "Finland",
             2020,
             "Use of Internet Services"
            ],
            [
             7.95892,
             "France",
             2020,
             "Use of Internet Services"
            ],
            [
             8.59822,
             "Lithuania",
             2020,
             "Use of Internet Services"
            ],
            [
             6.91335,
             "Greece",
             2020,
             "Use of Internet Services"
            ],
            [
             8.70398,
             "Europe",
             2020,
             "Use of Internet Services"
            ],
            [
             9.88537,
             "Malta",
             2020,
             "Use of Internet Services"
            ],
            [
             9.23478,
             "Deutschland",
             2020,
             "Use of Internet Services"
            ],
            [
             8.17172,
             "Cyprus",
             2020,
             "Use of Internet Services"
            ],
            [
             8.32179,
             "Croatia",
             2020,
             "Use of Internet Services"
            ],
            [
             11.2805,
             "Netherlands",
             2020,
             "Use of Internet Services"
            ],
            [
             9.11638,
             "Spain",
             2020,
             "Use of Internet Services"
            ],
            [
             11.273,
             "Denmark",
             2020,
             "Use of Internet Services"
            ],
            [
             9.17408,
             "Belgium",
             2020,
             "Use of Internet Services"
            ],
            [
             8.00468,
             "Slovakia",
             2020,
             "Use of Internet Services"
            ],
            [
             5.38408,
             "Romania",
             2020,
             "Use of Internet Services"
            ],
            [
             6.67212,
             "Italy",
             2020,
             "Use of Internet Services"
            ],
            [
             8.384780000000001,
             "Hungary",
             2020,
             "Use of Internet Services"
            ],
            [
             7.213239999999999,
             "Portugal",
             2020,
             "Use of Internet Services"
            ],
            [
             9.812289999999999,
             "Estonia",
             2020,
             "Use of Internet Services"
            ]
           ],
           "hovertemplate": "<b>%{hovertext}</b><br><br><extra></extra>",
           "hovertext": [
            8.12155,
            8.09762,
            7.4458899999999995,
            5.4973,
            8.102960000000001,
            11.3931,
            9.31329,
            10.9968,
            8.827630000000001,
            7.75714,
            11.4512,
            7.95892,
            8.59822,
            6.91335,
            8.70398,
            9.88537,
            9.23478,
            8.17172,
            8.32179,
            11.2805,
            9.11638,
            11.273,
            9.17408,
            8.00468,
            5.38408,
            6.67212,
            8.384780000000001,
            7.213239999999999,
            9.812289999999999
           ],
           "ids": [
            "Czech Rep.",
            "Latvia",
            "Poland",
            "Bulgaria",
            "Austria",
            "Sweden",
            "Ireland",
            "United Kingdom",
            "Luxembourg",
            "Slovenia",
            "Finland",
            "France",
            "Lithuania",
            "Greece",
            "Europe",
            "Malta",
            "Deutschland",
            "Cyprus",
            "Croatia",
            "Netherlands",
            "Spain",
            "Denmark",
            "Belgium",
            "Slovakia",
            "Romania",
            "Italy",
            "Hungary",
            "Portugal",
            "Estonia"
           ],
           "legendgroup": "Use of Internet Services",
           "marker": {
            "color": "#00cc96"
           },
           "name": "Use of Internet Services",
           "offsetgroup": "Use of Internet Services",
           "orientation": "v",
           "showlegend": true,
           "textposition": "auto",
           "type": "bar",
           "x": [
            "Czech Rep.",
            "Latvia",
            "Poland",
            "Bulgaria",
            "Austria",
            "Sweden",
            "Ireland",
            "United Kingdom",
            "Luxembourg",
            "Slovenia",
            "Finland",
            "France",
            "Lithuania",
            "Greece",
            "Europe",
            "Malta",
            "Deutschland",
            "Cyprus",
            "Croatia",
            "Netherlands",
            "Spain",
            "Denmark",
            "Belgium",
            "Slovakia",
            "Romania",
            "Italy",
            "Hungary",
            "Portugal",
            "Estonia"
           ],
           "xaxis": "x",
           "y": [
            8.12155,
            8.09762,
            7.4458899999999995,
            5.4973,
            8.102960000000001,
            11.3931,
            9.31329,
            10.9968,
            8.827630000000001,
            7.75714,
            11.4512,
            7.95892,
            8.59822,
            6.91335,
            8.70398,
            9.88537,
            9.23478,
            8.17172,
            8.32179,
            11.2805,
            9.11638,
            11.273,
            9.17408,
            8.00468,
            5.38408,
            6.67212,
            8.384780000000001,
            7.213239999999999,
            9.812289999999999
           ],
           "yaxis": "y"
          },
          {
           "alignmentgroup": "True",
           "customdata": [
            [
             13.1739,
             "Belgium",
             2020,
             "Integration of Digital Technology"
            ],
            [
             8.18928,
             "Slovenia",
             2020,
             "Integration of Digital Technology"
            ],
            [
             13.1492,
             "Netherlands",
             2020,
             "Integration of Digital Technology"
            ],
            [
             14.8641,
             "Ireland",
             2020,
             "Integration of Digital Technology"
            ],
            [
             5.24851,
             "Poland",
             2020,
             "Integration of Digital Technology"
            ],
            [
             10.9807,
             "Malta",
             2020,
             "Integration of Digital Technology"
            ],
            [
             8.22989,
             "Estonia",
             2020,
             "Integration of Digital Technology"
            ],
            [
             12.4269,
             "Sweden",
             2020,
             "Integration of Digital Technology"
            ],
            [
             8.17436,
             "Portugal",
             2020,
             "Integration of Digital Technology"
            ],
            [
             6.51409,
             "Slovakia",
             2020,
             "Integration of Digital Technology"
            ],
            [
             6.245080000000001,
             "Italy",
             2020,
             "Integration of Digital Technology"
            ],
            [
             5.06139,
             "Hungary",
             2020,
             "Integration of Digital Technology"
            ],
            [
             8.29335,
             "Croatia",
             2020,
             "Integration of Digital Technology"
            ],
            [
             9.893839999999999,
             "Lithuania",
             2020,
             "Integration of Digital Technology"
            ],
            [
             5.63917,
             "Greece",
             2020,
             "Integration of Digital Technology"
            ],
            [
             8.27422,
             "Europe",
             2020,
             "Integration of Digital Technology"
            ],
            [
             3.57291,
             "Bulgaria",
             2020,
             "Integration of Digital Technology"
            ],
            [
             8.115160000000001,
             "Austria",
             2020,
             "Integration of Digital Technology"
            ],
            [
             9.91893,
             "Czech Rep.",
             2020,
             "Integration of Digital Technology"
            ],
            [
             4.98538,
             "Romania",
             2020,
             "Integration of Digital Technology"
            ],
            [
             5.66108,
             "Latvia",
             2020,
             "Integration of Digital Technology"
            ],
            [
             7.641939999999999,
             "Luxembourg",
             2020,
             "Integration of Digital Technology"
            ],
            [
             7.90631,
             "Deutschland",
             2020,
             "Integration of Digital Technology"
            ],
            [
             8.40954,
             "France",
             2020,
             "Integration of Digital Technology"
            ],
            [
             13.409,
             "Finland",
             2020,
             "Integration of Digital Technology"
            ],
            [
             13.0295,
             "Denmark",
             2020,
             "Integration of Digital Technology"
            ],
            [
             6.89687,
             "Cyprus",
             2020,
             "Integration of Digital Technology"
            ],
            [
             8.24311,
             "Spain",
             2020,
             "Integration of Digital Technology"
            ],
            [
             10.8377,
             "United Kingdom",
             2020,
             "Integration of Digital Technology"
            ]
           ],
           "hovertemplate": "<b>%{hovertext}</b><br><br><extra></extra>",
           "hovertext": [
            13.1739,
            8.18928,
            13.1492,
            14.8641,
            5.24851,
            10.9807,
            8.22989,
            12.4269,
            8.17436,
            6.51409,
            6.245080000000001,
            5.06139,
            8.29335,
            9.893839999999999,
            5.63917,
            8.27422,
            3.57291,
            8.115160000000001,
            9.91893,
            4.98538,
            5.66108,
            7.641939999999999,
            7.90631,
            8.40954,
            13.409,
            13.0295,
            6.89687,
            8.24311,
            10.8377
           ],
           "ids": [
            "Belgium",
            "Slovenia",
            "Netherlands",
            "Ireland",
            "Poland",
            "Malta",
            "Estonia",
            "Sweden",
            "Portugal",
            "Slovakia",
            "Italy",
            "Hungary",
            "Croatia",
            "Lithuania",
            "Greece",
            "Europe",
            "Bulgaria",
            "Austria",
            "Czech Rep.",
            "Romania",
            "Latvia",
            "Luxembourg",
            "Deutschland",
            "France",
            "Finland",
            "Denmark",
            "Cyprus",
            "Spain",
            "United Kingdom"
           ],
           "legendgroup": "Integration of Digital Technology",
           "marker": {
            "color": "#ab63fa"
           },
           "name": "Integration of Digital Technology",
           "offsetgroup": "Integration of Digital Technology",
           "orientation": "v",
           "showlegend": true,
           "textposition": "auto",
           "type": "bar",
           "x": [
            "Belgium",
            "Slovenia",
            "Netherlands",
            "Ireland",
            "Poland",
            "Malta",
            "Estonia",
            "Sweden",
            "Portugal",
            "Slovakia",
            "Italy",
            "Hungary",
            "Croatia",
            "Lithuania",
            "Greece",
            "Europe",
            "Bulgaria",
            "Austria",
            "Czech Rep.",
            "Romania",
            "Latvia",
            "Luxembourg",
            "Deutschland",
            "France",
            "Finland",
            "Denmark",
            "Cyprus",
            "Spain",
            "United Kingdom"
           ],
           "xaxis": "x",
           "y": [
            13.1739,
            8.18928,
            13.1492,
            14.8641,
            5.24851,
            10.9807,
            8.22989,
            12.4269,
            8.17436,
            6.51409,
            6.245080000000001,
            5.06139,
            8.29335,
            9.893839999999999,
            5.63917,
            8.27422,
            3.57291,
            8.115160000000001,
            9.91893,
            4.98538,
            5.66108,
            7.641939999999999,
            7.90631,
            8.40954,
            13.409,
            13.0295,
            6.89687,
            8.24311,
            10.8377
           ],
           "yaxis": "y"
          },
          {
           "alignmentgroup": "True",
           "customdata": [
            [
             16.0404,
             "Netherlands",
             2020,
             "Human Capital"
            ],
            [
             12.0872,
             "Slovenia",
             2020,
             "Human Capital"
            ],
            [
             11.8895,
             "Spain",
             2020,
             "Human Capital"
            ],
            [
             14.1047,
             "Deutschland",
             2020,
             "Human Capital"
            ],
            [
             15.4398,
             "Malta",
             2020,
             "Human Capital"
            ],
            [
             16.6647,
             "Estonia",
             2020,
             "Human Capital"
            ],
            [
             9.31793,
             "Poland",
             2020,
             "Human Capital"
            ],
            [
             11.8577,
             "France",
             2020,
             "Human Capital"
            ],
            [
             9.44128,
             "Portugal",
             2020,
             "Human Capital"
            ],
            [
             12.2886,
             "Croatia",
             2020,
             "Human Capital"
            ],
            [
             19.6105,
             "Finland",
             2020,
             "Human Capital"
            ],
            [
             10.4588,
             "Hungary",
             2020,
             "Human Capital"
            ],
            [
             8.113999999999999,
             "Italy",
             2020,
             "Human Capital"
            ],
            [
             15.3191,
             "Denmark",
             2020,
             "Human Capital"
            ],
            [
             14.1825,
             "Austria",
             2020,
             "Human Capital"
            ],
            [
             8.4789,
             "Bulgaria",
             2020,
             "Human Capital"
            ],
            [
             14.0997,
             "Ireland",
             2020,
             "Human Capital"
            ],
            [
             8.28947,
             "Romania",
             2020,
             "Human Capital"
            ],
            [
             10.4517,
             "Slovakia",
             2020,
             "Human Capital"
            ],
            [
             12.161,
             "Czech Rep.",
             2020,
             "Human Capital"
            ],
            [
             8.950660000000001,
             "Cyprus",
             2020,
             "Human Capital"
            ],
            [
             12.5969,
             "Belgium",
             2020,
             "Human Capital"
            ],
            [
             15.751,
             "United Kingdom",
             2020,
             "Human Capital"
            ],
            [
             14.5546,
             "Luxembourg",
             2020,
             "Human Capital"
            ],
            [
             12.3224,
             "Europe",
             2020,
             "Human Capital"
            ],
            [
             8.69778,
             "Greece",
             2020,
             "Human Capital"
            ],
            [
             10.9577,
             "Lithuania",
             2020,
             "Human Capital"
            ],
            [
             8.75522,
             "Latvia",
             2020,
             "Human Capital"
            ],
            [
             17.930999999999997,
             "Sweden",
             2020,
             "Human Capital"
            ]
           ],
           "hovertemplate": "<b>%{hovertext}</b><br><br><extra></extra>",
           "hovertext": [
            16.0404,
            12.0872,
            11.8895,
            14.1047,
            15.4398,
            16.6647,
            9.31793,
            11.8577,
            9.44128,
            12.2886,
            19.6105,
            10.4588,
            8.113999999999999,
            15.3191,
            14.1825,
            8.4789,
            14.0997,
            8.28947,
            10.4517,
            12.161,
            8.950660000000001,
            12.5969,
            15.751,
            14.5546,
            12.3224,
            8.69778,
            10.9577,
            8.75522,
            17.930999999999997
           ],
           "ids": [
            "Netherlands",
            "Slovenia",
            "Spain",
            "Deutschland",
            "Malta",
            "Estonia",
            "Poland",
            "France",
            "Portugal",
            "Croatia",
            "Finland",
            "Hungary",
            "Italy",
            "Denmark",
            "Austria",
            "Bulgaria",
            "Ireland",
            "Romania",
            "Slovakia",
            "Czech Rep.",
            "Cyprus",
            "Belgium",
            "United Kingdom",
            "Luxembourg",
            "Europe",
            "Greece",
            "Lithuania",
            "Latvia",
            "Sweden"
           ],
           "legendgroup": "Human Capital",
           "marker": {
            "color": "#FFA15A"
           },
           "name": "Human Capital",
           "offsetgroup": "Human Capital",
           "orientation": "v",
           "showlegend": true,
           "textposition": "auto",
           "type": "bar",
           "x": [
            "Netherlands",
            "Slovenia",
            "Spain",
            "Deutschland",
            "Malta",
            "Estonia",
            "Poland",
            "France",
            "Portugal",
            "Croatia",
            "Finland",
            "Hungary",
            "Italy",
            "Denmark",
            "Austria",
            "Bulgaria",
            "Ireland",
            "Romania",
            "Slovakia",
            "Czech Rep.",
            "Cyprus",
            "Belgium",
            "United Kingdom",
            "Luxembourg",
            "Europe",
            "Greece",
            "Lithuania",
            "Latvia",
            "Sweden"
           ],
           "xaxis": "x",
           "y": [
            16.0404,
            12.0872,
            11.8895,
            14.1047,
            15.4398,
            16.6647,
            9.31793,
            11.8577,
            9.44128,
            12.2886,
            19.6105,
            10.4588,
            8.113999999999999,
            15.3191,
            14.1825,
            8.4789,
            14.0997,
            8.28947,
            10.4517,
            12.161,
            8.950660000000001,
            12.5969,
            15.751,
            14.5546,
            12.3224,
            8.69778,
            10.9577,
            8.75522,
            17.930999999999997
           ],
           "yaxis": "y"
          }
         ],
         "name": "2020"
        }
       ],
       "layout": {
        "barmode": "relative",
        "height": 600,
        "hovermode": "x",
        "legend": {
         "title": {
          "text": "Indicators:"
         },
         "tracegroupgap": 0
        },
        "margin": {
         "b": 200,
         "l": 20,
         "r": 10,
         "t": 50
        },
        "showlegend": true,
        "sliders": [
         {
          "active": 0,
          "currentvalue": {
           "prefix": "Year: "
          },
          "len": 0.9,
          "pad": {
           "r": 40,
           "t": 130
          },
          "steps": [
           {
            "args": [
             [
              "2015"
             ],
             {
              "frame": {
               "duration": 0,
               "redraw": true
              },
              "fromcurrent": true,
              "mode": "immediate",
              "transition": {
               "duration": 0,
               "easing": "linear"
              }
             }
            ],
            "label": "2015",
            "method": "animate"
           },
           {
            "args": [
             [
              "2016"
             ],
             {
              "frame": {
               "duration": 0,
               "redraw": true
              },
              "fromcurrent": true,
              "mode": "immediate",
              "redraw": false,
              "transition": {
               "duration": 0,
               "easing": "linear"
              }
             }
            ],
            "label": "2016",
            "method": "animate"
           },
           {
            "args": [
             [
              "2017"
             ],
             {
              "frame": {
               "duration": 0,
               "redraw": true
              },
              "fromcurrent": true,
              "mode": "immediate",
              "transition": {
               "duration": 0,
               "easing": "linear"
              }
             }
            ],
            "label": "2017",
            "method": "animate"
           },
           {
            "args": [
             [
              "2018"
             ],
             {
              "frame": {
               "duration": 0,
               "redraw": true
              },
              "fromcurrent": true,
              "mode": "immediate",
              "transition": {
               "duration": 0,
               "easing": "linear"
              }
             }
            ],
            "label": "2018",
            "method": "animate"
           },
           {
            "args": [
             [
              "2019"
             ],
             {
              "frame": {
               "duration": 0,
               "redraw": true
              },
              "fromcurrent": true,
              "mode": "immediate",
              "transition": {
               "duration": 0,
               "easing": "linear"
              }
             }
            ],
            "label": "2019",
            "method": "animate"
           },
           {
            "args": [
             [
              "2020"
             ],
             {
              "frame": {
               "duration": 0,
               "redraw": true
              },
              "fromcurrent": true,
              "mode": "immediate",
              "transition": {
               "duration": 0,
               "easing": "linear"
              }
             }
            ],
            "label": "2020",
            "method": "animate"
           }
          ],
          "x": 0.1,
          "xanchor": "left",
          "y": 0,
          "yanchor": "top"
         }
        ],
        "template": {
         "data": {
          "bar": [
           {
            "error_x": {
             "color": "#2a3f5f"
            },
            "error_y": {
             "color": "#2a3f5f"
            },
            "marker": {
             "line": {
              "color": "#E5ECF6",
              "width": 0.5
             }
            },
            "type": "bar"
           }
          ],
          "barpolar": [
           {
            "marker": {
             "line": {
              "color": "#E5ECF6",
              "width": 0.5
             }
            },
            "type": "barpolar"
           }
          ],
          "carpet": [
           {
            "aaxis": {
             "endlinecolor": "#2a3f5f",
             "gridcolor": "white",
             "linecolor": "white",
             "minorgridcolor": "white",
             "startlinecolor": "#2a3f5f"
            },
            "baxis": {
             "endlinecolor": "#2a3f5f",
             "gridcolor": "white",
             "linecolor": "white",
             "minorgridcolor": "white",
             "startlinecolor": "#2a3f5f"
            },
            "type": "carpet"
           }
          ],
          "choropleth": [
           {
            "colorbar": {
             "outlinewidth": 0,
             "ticks": ""
            },
            "type": "choropleth"
           }
          ],
          "contour": [
           {
            "colorbar": {
             "outlinewidth": 0,
             "ticks": ""
            },
            "colorscale": [
             [
              0,
              "#0d0887"
             ],
             [
              0.1111111111111111,
              "#46039f"
             ],
             [
              0.2222222222222222,
              "#7201a8"
             ],
             [
              0.3333333333333333,
              "#9c179e"
             ],
             [
              0.4444444444444444,
              "#bd3786"
             ],
             [
              0.5555555555555556,
              "#d8576b"
             ],
             [
              0.6666666666666666,
              "#ed7953"
             ],
             [
              0.7777777777777778,
              "#fb9f3a"
             ],
             [
              0.8888888888888888,
              "#fdca26"
             ],
             [
              1,
              "#f0f921"
             ]
            ],
            "type": "contour"
           }
          ],
          "contourcarpet": [
           {
            "colorbar": {
             "outlinewidth": 0,
             "ticks": ""
            },
            "type": "contourcarpet"
           }
          ],
          "heatmap": [
           {
            "colorbar": {
             "outlinewidth": 0,
             "ticks": ""
            },
            "colorscale": [
             [
              0,
              "#0d0887"
             ],
             [
              0.1111111111111111,
              "#46039f"
             ],
             [
              0.2222222222222222,
              "#7201a8"
             ],
             [
              0.3333333333333333,
              "#9c179e"
             ],
             [
              0.4444444444444444,
              "#bd3786"
             ],
             [
              0.5555555555555556,
              "#d8576b"
             ],
             [
              0.6666666666666666,
              "#ed7953"
             ],
             [
              0.7777777777777778,
              "#fb9f3a"
             ],
             [
              0.8888888888888888,
              "#fdca26"
             ],
             [
              1,
              "#f0f921"
             ]
            ],
            "type": "heatmap"
           }
          ],
          "heatmapgl": [
           {
            "colorbar": {
             "outlinewidth": 0,
             "ticks": ""
            },
            "colorscale": [
             [
              0,
              "#0d0887"
             ],
             [
              0.1111111111111111,
              "#46039f"
             ],
             [
              0.2222222222222222,
              "#7201a8"
             ],
             [
              0.3333333333333333,
              "#9c179e"
             ],
             [
              0.4444444444444444,
              "#bd3786"
             ],
             [
              0.5555555555555556,
              "#d8576b"
             ],
             [
              0.6666666666666666,
              "#ed7953"
             ],
             [
              0.7777777777777778,
              "#fb9f3a"
             ],
             [
              0.8888888888888888,
              "#fdca26"
             ],
             [
              1,
              "#f0f921"
             ]
            ],
            "type": "heatmapgl"
           }
          ],
          "histogram": [
           {
            "marker": {
             "colorbar": {
              "outlinewidth": 0,
              "ticks": ""
             }
            },
            "type": "histogram"
           }
          ],
          "histogram2d": [
           {
            "colorbar": {
             "outlinewidth": 0,
             "ticks": ""
            },
            "colorscale": [
             [
              0,
              "#0d0887"
             ],
             [
              0.1111111111111111,
              "#46039f"
             ],
             [
              0.2222222222222222,
              "#7201a8"
             ],
             [
              0.3333333333333333,
              "#9c179e"
             ],
             [
              0.4444444444444444,
              "#bd3786"
             ],
             [
              0.5555555555555556,
              "#d8576b"
             ],
             [
              0.6666666666666666,
              "#ed7953"
             ],
             [
              0.7777777777777778,
              "#fb9f3a"
             ],
             [
              0.8888888888888888,
              "#fdca26"
             ],
             [
              1,
              "#f0f921"
             ]
            ],
            "type": "histogram2d"
           }
          ],
          "histogram2dcontour": [
           {
            "colorbar": {
             "outlinewidth": 0,
             "ticks": ""
            },
            "colorscale": [
             [
              0,
              "#0d0887"
             ],
             [
              0.1111111111111111,
              "#46039f"
             ],
             [
              0.2222222222222222,
              "#7201a8"
             ],
             [
              0.3333333333333333,
              "#9c179e"
             ],
             [
              0.4444444444444444,
              "#bd3786"
             ],
             [
              0.5555555555555556,
              "#d8576b"
             ],
             [
              0.6666666666666666,
              "#ed7953"
             ],
             [
              0.7777777777777778,
              "#fb9f3a"
             ],
             [
              0.8888888888888888,
              "#fdca26"
             ],
             [
              1,
              "#f0f921"
             ]
            ],
            "type": "histogram2dcontour"
           }
          ],
          "mesh3d": [
           {
            "colorbar": {
             "outlinewidth": 0,
             "ticks": ""
            },
            "type": "mesh3d"
           }
          ],
          "parcoords": [
           {
            "line": {
             "colorbar": {
              "outlinewidth": 0,
              "ticks": ""
             }
            },
            "type": "parcoords"
           }
          ],
          "pie": [
           {
            "automargin": true,
            "type": "pie"
           }
          ],
          "scatter": [
           {
            "marker": {
             "colorbar": {
              "outlinewidth": 0,
              "ticks": ""
             }
            },
            "type": "scatter"
           }
          ],
          "scatter3d": [
           {
            "line": {
             "colorbar": {
              "outlinewidth": 0,
              "ticks": ""
             }
            },
            "marker": {
             "colorbar": {
              "outlinewidth": 0,
              "ticks": ""
             }
            },
            "type": "scatter3d"
           }
          ],
          "scattercarpet": [
           {
            "marker": {
             "colorbar": {
              "outlinewidth": 0,
              "ticks": ""
             }
            },
            "type": "scattercarpet"
           }
          ],
          "scattergeo": [
           {
            "marker": {
             "colorbar": {
              "outlinewidth": 0,
              "ticks": ""
             }
            },
            "type": "scattergeo"
           }
          ],
          "scattergl": [
           {
            "marker": {
             "colorbar": {
              "outlinewidth": 0,
              "ticks": ""
             }
            },
            "type": "scattergl"
           }
          ],
          "scattermapbox": [
           {
            "marker": {
             "colorbar": {
              "outlinewidth": 0,
              "ticks": ""
             }
            },
            "type": "scattermapbox"
           }
          ],
          "scatterpolar": [
           {
            "marker": {
             "colorbar": {
              "outlinewidth": 0,
              "ticks": ""
             }
            },
            "type": "scatterpolar"
           }
          ],
          "scatterpolargl": [
           {
            "marker": {
             "colorbar": {
              "outlinewidth": 0,
              "ticks": ""
             }
            },
            "type": "scatterpolargl"
           }
          ],
          "scatterternary": [
           {
            "marker": {
             "colorbar": {
              "outlinewidth": 0,
              "ticks": ""
             }
            },
            "type": "scatterternary"
           }
          ],
          "surface": [
           {
            "colorbar": {
             "outlinewidth": 0,
             "ticks": ""
            },
            "colorscale": [
             [
              0,
              "#0d0887"
             ],
             [
              0.1111111111111111,
              "#46039f"
             ],
             [
              0.2222222222222222,
              "#7201a8"
             ],
             [
              0.3333333333333333,
              "#9c179e"
             ],
             [
              0.4444444444444444,
              "#bd3786"
             ],
             [
              0.5555555555555556,
              "#d8576b"
             ],
             [
              0.6666666666666666,
              "#ed7953"
             ],
             [
              0.7777777777777778,
              "#fb9f3a"
             ],
             [
              0.8888888888888888,
              "#fdca26"
             ],
             [
              1,
              "#f0f921"
             ]
            ],
            "type": "surface"
           }
          ],
          "table": [
           {
            "cells": {
             "fill": {
              "color": "#EBF0F8"
             },
             "line": {
              "color": "white"
             }
            },
            "header": {
             "fill": {
              "color": "#C8D4E3"
             },
             "line": {
              "color": "white"
             }
            },
            "type": "table"
           }
          ]
         },
         "layout": {
          "annotationdefaults": {
           "arrowcolor": "#2a3f5f",
           "arrowhead": 0,
           "arrowwidth": 1
          },
          "coloraxis": {
           "colorbar": {
            "outlinewidth": 0,
            "ticks": ""
           }
          },
          "colorscale": {
           "diverging": [
            [
             0,
             "#8e0152"
            ],
            [
             0.1,
             "#c51b7d"
            ],
            [
             0.2,
             "#de77ae"
            ],
            [
             0.3,
             "#f1b6da"
            ],
            [
             0.4,
             "#fde0ef"
            ],
            [
             0.5,
             "#f7f7f7"
            ],
            [
             0.6,
             "#e6f5d0"
            ],
            [
             0.7,
             "#b8e186"
            ],
            [
             0.8,
             "#7fbc41"
            ],
            [
             0.9,
             "#4d9221"
            ],
            [
             1,
             "#276419"
            ]
           ],
           "sequential": [
            [
             0,
             "#0d0887"
            ],
            [
             0.1111111111111111,
             "#46039f"
            ],
            [
             0.2222222222222222,
             "#7201a8"
            ],
            [
             0.3333333333333333,
             "#9c179e"
            ],
            [
             0.4444444444444444,
             "#bd3786"
            ],
            [
             0.5555555555555556,
             "#d8576b"
            ],
            [
             0.6666666666666666,
             "#ed7953"
            ],
            [
             0.7777777777777778,
             "#fb9f3a"
            ],
            [
             0.8888888888888888,
             "#fdca26"
            ],
            [
             1,
             "#f0f921"
            ]
           ],
           "sequentialminus": [
            [
             0,
             "#0d0887"
            ],
            [
             0.1111111111111111,
             "#46039f"
            ],
            [
             0.2222222222222222,
             "#7201a8"
            ],
            [
             0.3333333333333333,
             "#9c179e"
            ],
            [
             0.4444444444444444,
             "#bd3786"
            ],
            [
             0.5555555555555556,
             "#d8576b"
            ],
            [
             0.6666666666666666,
             "#ed7953"
            ],
            [
             0.7777777777777778,
             "#fb9f3a"
            ],
            [
             0.8888888888888888,
             "#fdca26"
            ],
            [
             1,
             "#f0f921"
            ]
           ]
          },
          "colorway": [
           "#636efa",
           "#EF553B",
           "#00cc96",
           "#ab63fa",
           "#FFA15A",
           "#19d3f3",
           "#FF6692",
           "#B6E880",
           "#FF97FF",
           "#FECB52"
          ],
          "font": {
           "color": "#2a3f5f"
          },
          "geo": {
           "bgcolor": "white",
           "lakecolor": "white",
           "landcolor": "#E5ECF6",
           "showlakes": true,
           "showland": true,
           "subunitcolor": "white"
          },
          "hoverlabel": {
           "align": "left"
          },
          "hovermode": "closest",
          "mapbox": {
           "style": "light"
          },
          "paper_bgcolor": "white",
          "plot_bgcolor": "#E5ECF6",
          "polar": {
           "angularaxis": {
            "gridcolor": "white",
            "linecolor": "white",
            "ticks": ""
           },
           "bgcolor": "#E5ECF6",
           "radialaxis": {
            "gridcolor": "white",
            "linecolor": "white",
            "ticks": ""
           }
          },
          "scene": {
           "xaxis": {
            "backgroundcolor": "#E5ECF6",
            "gridcolor": "white",
            "gridwidth": 2,
            "linecolor": "white",
            "showbackground": true,
            "ticks": "",
            "zerolinecolor": "white"
           },
           "yaxis": {
            "backgroundcolor": "#E5ECF6",
            "gridcolor": "white",
            "gridwidth": 2,
            "linecolor": "white",
            "showbackground": true,
            "ticks": "",
            "zerolinecolor": "white"
           },
           "zaxis": {
            "backgroundcolor": "#E5ECF6",
            "gridcolor": "white",
            "gridwidth": 2,
            "linecolor": "white",
            "showbackground": true,
            "ticks": "",
            "zerolinecolor": "white"
           }
          },
          "shapedefaults": {
           "line": {
            "color": "#2a3f5f"
           }
          },
          "ternary": {
           "aaxis": {
            "gridcolor": "white",
            "linecolor": "white",
            "ticks": ""
           },
           "baxis": {
            "gridcolor": "white",
            "linecolor": "white",
            "ticks": ""
           },
           "bgcolor": "#E5ECF6",
           "caxis": {
            "gridcolor": "white",
            "linecolor": "white",
            "ticks": ""
           }
          },
          "title": {
           "x": 0.05
          },
          "xaxis": {
           "automargin": true,
           "gridcolor": "white",
           "linecolor": "white",
           "ticks": "",
           "title": {
            "standoff": 15
           },
           "zerolinecolor": "white",
           "zerolinewidth": 2
          },
          "yaxis": {
           "automargin": true,
           "gridcolor": "white",
           "linecolor": "white",
           "ticks": "",
           "title": {
            "standoff": 15
           },
           "zerolinecolor": "white",
           "zerolinewidth": 2
          }
         }
        },
        "title": {
         "text": "Select a year and compare the countries"
        },
        "updatemenus": [
         {
          "buttons": [
           {
            "args": [
             null,
             {
              "frame": {
               "duration": 2000,
               "frame": 200,
               "redraw": true
              },
              "fromcurrent": true,
              "mode": "immediate",
              "transition": {
               "duration": 500,
               "easing": "linear"
              }
             }
            ],
            "label": "&#9654;",
            "method": "animate"
           },
           {
            "args": [
             [
              null
             ],
             {
              "frame": {
               "duration": 0,
               "redraw": true
              },
              "fromcurrent": true,
              "mode": "immediate",
              "transition": {
               "duration": 0,
               "easing": "linear"
              }
             }
            ],
            "label": "&#9724;",
            "method": "animate"
           }
          ],
          "direction": "left",
          "pad": {
           "r": 30,
           "t": 150
          },
          "showactive": false,
          "type": "buttons",
          "x": 0.1,
          "xanchor": "right",
          "y": 0,
          "yanchor": "top"
         }
        ],
        "width": 1200,
        "xaxis": {
         "anchor": "y",
         "categoryorder": "total descending",
         "domain": [
          0,
          1
         ],
         "showgrid": false,
         "tickangle": 60,
         "title": {
          "text": "Country"
         }
        },
        "yaxis": {
         "anchor": "x",
         "domain": [
          0,
          1
         ],
         "range": [
          0,
          80
         ],
         "title": {
          "text": "Value"
         }
        }
       }
      },
      "text/html": [
       "<div>\n",
       "        \n",
       "        \n",
       "            <div id=\"681b76db-6519-4edb-b7a7-aac53c33144f\" class=\"plotly-graph-div\" style=\"height:600px; width:1200px;\"></div>\n",
       "            <script type=\"text/javascript\">\n",
       "                require([\"plotly\"], function(Plotly) {\n",
       "                    window.PLOTLYENV=window.PLOTLYENV || {};\n",
       "                    \n",
       "                if (document.getElementById(\"681b76db-6519-4edb-b7a7-aac53c33144f\")) {\n",
       "                    Plotly.newPlot(\n",
       "                        '681b76db-6519-4edb-b7a7-aac53c33144f',\n",
       "                        [{\"alignmentgroup\": \"True\", \"customdata\": [[7.0647, \"Austria\", 2015, \"Connectivity\"], [6.959810000000001, \"Poland\", 2015, \"Connectivity\"], [7.78229, \"Europe\", 2015, \"Connectivity\"], [8.38408, \"Spain\", 2015, \"Connectivity\"], [10.0916, \"Netherlands\", 2015, \"Connectivity\"], [9.07057, \"Slovenia\", 2015, \"Connectivity\"], [8.92415, \"Deutschland\", 2015, \"Connectivity\"], [6.52572, \"Bulgaria\", 2015, \"Connectivity\"], [8.096, \"Czech Rep.\", 2015, \"Connectivity\"], [7.65813, \"France\", 2015, \"Connectivity\"], [9.91113, \"Finland\", 2015, \"Connectivity\"], [11.3794, \"Latvia\", 2015, \"Connectivity\"], [11.2773, \"Denmark\", 2015, \"Connectivity\"], [7.350219999999999, \"Hungary\", 2015, \"Connectivity\"], [6.5734699999999995, \"Ireland\", 2015, \"Connectivity\"], [11.1992, \"Sweden\", 2015, \"Connectivity\"], [8.58184, \"Lithuania\", 2015, \"Connectivity\"], [5.89582, \"Italy\", 2015, \"Connectivity\"], [8.18213, \"Malta\", 2015, \"Connectivity\"], [5.65107, \"Croatia\", 2015, \"Connectivity\"], [4.3609800000000005, \"Cyprus\", 2015, \"Connectivity\"], [7.71197, \"Portugal\", 2015, \"Connectivity\"], [4.73184, \"Greece\", 2015, \"Connectivity\"], [11.2743, \"Luxembourg\", 2015, \"Connectivity\"], [7.86075, \"Belgium\", 2015, \"Connectivity\"], [8.55669, \"United Kingdom\", 2015, \"Connectivity\"], [9.67203, \"Estonia\", 2015, \"Connectivity\"], [8.73385, \"Romania\", 2015, \"Connectivity\"], [7.22112, \"Slovakia\", 2015, \"Connectivity\"]], \"hovertemplate\": \"<b>%{hovertext}</b><br><br><extra></extra>\", \"hovertext\": [7.0647, 6.959810000000001, 7.78229, 8.38408, 10.0916, 9.07057, 8.92415, 6.52572, 8.096, 7.65813, 9.91113, 11.3794, 11.2773, 7.350219999999999, 6.5734699999999995, 11.1992, 8.58184, 5.89582, 8.18213, 5.65107, 4.3609800000000005, 7.71197, 4.73184, 11.2743, 7.86075, 8.55669, 9.67203, 8.73385, 7.22112], \"ids\": [\"Austria\", \"Poland\", \"Europe\", \"Spain\", \"Netherlands\", \"Slovenia\", \"Deutschland\", \"Bulgaria\", \"Czech Rep.\", \"France\", \"Finland\", \"Latvia\", \"Denmark\", \"Hungary\", \"Ireland\", \"Sweden\", \"Lithuania\", \"Italy\", \"Malta\", \"Croatia\", \"Cyprus\", \"Portugal\", \"Greece\", \"Luxembourg\", \"Belgium\", \"United Kingdom\", \"Estonia\", \"Romania\", \"Slovakia\"], \"legendgroup\": \"Connectivity\", \"marker\": {\"color\": \"#636efa\"}, \"name\": \"Connectivity\", \"offsetgroup\": \"Connectivity\", \"orientation\": \"v\", \"showlegend\": true, \"textposition\": \"auto\", \"type\": \"bar\", \"x\": [\"Austria\", \"Poland\", \"Europe\", \"Spain\", \"Netherlands\", \"Slovenia\", \"Deutschland\", \"Bulgaria\", \"Czech Rep.\", \"France\", \"Finland\", \"Latvia\", \"Denmark\", \"Hungary\", \"Ireland\", \"Sweden\", \"Lithuania\", \"Italy\", \"Malta\", \"Croatia\", \"Cyprus\", \"Portugal\", \"Greece\", \"Luxembourg\", \"Belgium\", \"United Kingdom\", \"Estonia\", \"Romania\", \"Slovakia\"], \"xaxis\": \"x\", \"y\": [7.0647, 6.959810000000001, 7.78229, 8.38408, 10.0916, 9.07057, 8.92415, 6.52572, 8.096, 7.65813, 9.91113, 11.3794, 11.2773, 7.350219999999999, 6.5734699999999995, 11.1992, 8.58184, 5.89582, 8.18213, 5.65107, 4.3609800000000005, 7.71197, 4.73184, 11.2743, 7.86075, 8.55669, 9.67203, 8.73385, 7.22112], \"yaxis\": \"y\"}, {\"alignmentgroup\": \"True\", \"customdata\": [[9.9463, \"Netherlands\", 2015, \"Digital Public Services\"], [11.1576, \"Denmark\", 2015, \"Digital Public Services\"], [10.8173, \"Finland\", 2015, \"Digital Public Services\"], [7.53211, \"Europe\", 2015, \"Digital Public Services\"], [10.1328, \"Portugal\", 2015, \"Digital Public Services\"], [4.66594, \"Romania\", 2015, \"Digital Public Services\"], [9.84623, \"Sweden\", 2015, \"Digital Public Services\"], [9.15099, \"Ireland\", 2015, \"Digital Public Services\"], [9.608460000000001, \"Spain\", 2015, \"Digital Public Services\"], [7.959739999999999, \"Poland\", 2015, \"Digital Public Services\"], [6.34576, \"Deutschland\", 2015, \"Digital Public Services\"], [6.90362, \"Slovenia\", 2015, \"Digital Public Services\"], [4.95589, \"Czech Rep.\", 2015, \"Digital Public Services\"], [8.98968, \"Austria\", 2015, \"Digital Public Services\"], [9.09689, \"Lithuania\", 2015, \"Digital Public Services\"], [6.869689999999999, \"France\", 2015, \"Digital Public Services\"], [4.590330000000001, \"Slovakia\", 2015, \"Digital Public Services\"], [7.32045, \"United Kingdom\", 2015, \"Digital Public Services\"], [11.5939, \"Estonia\", 2015, \"Digital Public Services\"], [6.23641, \"Luxembourg\", 2015, \"Digital Public Services\"], [10.6802, \"Malta\", 2015, \"Digital Public Services\"], [7.277419999999999, \"Cyprus\", 2015, \"Digital Public Services\"], [7.71922, \"Belgium\", 2015, \"Digital Public Services\"], [8.19661, \"Latvia\", 2015, \"Digital Public Services\"], [4.07108, \"Croatia\", 2015, \"Digital Public Services\"], [3.09321, \"Greece\", 2015, \"Digital Public Services\"], [4.23128, \"Hungary\", 2015, \"Digital Public Services\"], [6.90543, \"Italy\", 2015, \"Digital Public Services\"], [5.50959, \"Bulgaria\", 2015, \"Digital Public Services\"]], \"hovertemplate\": \"<b>%{hovertext}</b><br><br><extra></extra>\", \"hovertext\": [9.9463, 11.1576, 10.8173, 7.53211, 10.1328, 4.66594, 9.84623, 9.15099, 9.608460000000001, 7.959739999999999, 6.34576, 6.90362, 4.95589, 8.98968, 9.09689, 6.869689999999999, 4.590330000000001, 7.32045, 11.5939, 6.23641, 10.6802, 7.277419999999999, 7.71922, 8.19661, 4.07108, 3.09321, 4.23128, 6.90543, 5.50959], \"ids\": [\"Netherlands\", \"Denmark\", \"Finland\", \"Europe\", \"Portugal\", \"Romania\", \"Sweden\", \"Ireland\", \"Spain\", \"Poland\", \"Deutschland\", \"Slovenia\", \"Czech Rep.\", \"Austria\", \"Lithuania\", \"France\", \"Slovakia\", \"United Kingdom\", \"Estonia\", \"Luxembourg\", \"Malta\", \"Cyprus\", \"Belgium\", \"Latvia\", \"Croatia\", \"Greece\", \"Hungary\", \"Italy\", \"Bulgaria\"], \"legendgroup\": \"Digital Public Services\", \"marker\": {\"color\": \"#EF553B\"}, \"name\": \"Digital Public Services\", \"offsetgroup\": \"Digital Public Services\", \"orientation\": \"v\", \"showlegend\": true, \"textposition\": \"auto\", \"type\": \"bar\", \"x\": [\"Netherlands\", \"Denmark\", \"Finland\", \"Europe\", \"Portugal\", \"Romania\", \"Sweden\", \"Ireland\", \"Spain\", \"Poland\", \"Deutschland\", \"Slovenia\", \"Czech Rep.\", \"Austria\", \"Lithuania\", \"France\", \"Slovakia\", \"United Kingdom\", \"Estonia\", \"Luxembourg\", \"Malta\", \"Cyprus\", \"Belgium\", \"Latvia\", \"Croatia\", \"Greece\", \"Hungary\", \"Italy\", \"Bulgaria\"], \"xaxis\": \"x\", \"y\": [9.9463, 11.1576, 10.8173, 7.53211, 10.1328, 4.66594, 9.84623, 9.15099, 9.608460000000001, 7.959739999999999, 6.34576, 6.90362, 4.95589, 8.98968, 9.09689, 6.869689999999999, 4.590330000000001, 7.32045, 11.5939, 6.23641, 10.6802, 7.277419999999999, 7.71922, 8.19661, 4.07108, 3.09321, 4.23128, 6.90543, 5.50959], \"yaxis\": \"y\"}, {\"alignmentgroup\": \"True\", \"customdata\": [[5.6226199999999995, \"Cyprus\", 2015, \"Use of Internet Services\"], [6.39002, \"Czech Rep.\", 2015, \"Use of Internet Services\"], [7.15562, \"Malta\", 2015, \"Use of Internet Services\"], [6.75529, \"Latvia\", 2015, \"Use of Internet Services\"], [6.68507, \"France\", 2015, \"Use of Internet Services\"], [7.298839999999999, \"Deutschland\", 2015, \"Use of Internet Services\"], [9.46597, \"Finland\", 2015, \"Use of Internet Services\"], [7.22226, \"Lithuania\", 2015, \"Use of Internet Services\"], [4.901, \"Greece\", 2015, \"Use of Internet Services\"], [3.25604, \"Romania\", 2015, \"Use of Internet Services\"], [6.41774, \"Slovakia\", 2015, \"Use of Internet Services\"], [9.7598, \"Sweden\", 2015, \"Use of Internet Services\"], [9.79622, \"Denmark\", 2015, \"Use of Internet Services\"], [6.22316, \"Ireland\", 2015, \"Use of Internet Services\"], [8.93206, \"Netherlands\", 2015, \"Use of Internet Services\"], [6.5115099999999995, \"Slovenia\", 2015, \"Use of Internet Services\"], [6.715039999999999, \"Spain\", 2015, \"Use of Internet Services\"], [4.8125599999999995, \"Italy\", 2015, \"Use of Internet Services\"], [6.90422, \"Hungary\", 2015, \"Use of Internet Services\"], [5.88007, \"Croatia\", 2015, \"Use of Internet Services\"], [6.75127, \"Europe\", 2015, \"Use of Internet Services\"], [6.33007, \"Austria\", 2015, \"Use of Internet Services\"], [8.73296, \"Luxembourg\", 2015, \"Use of Internet Services\"], [8.50934, \"Estonia\", 2015, \"Use of Internet Services\"], [7.078410000000001, \"Belgium\", 2015, \"Use of Internet Services\"], [5.23077, \"Portugal\", 2015, \"Use of Internet Services\"], [8.7379, \"United Kingdom\", 2015, \"Use of Internet Services\"], [5.01313, \"Poland\", 2015, \"Use of Internet Services\"], [4.42656, \"Bulgaria\", 2015, \"Use of Internet Services\"]], \"hovertemplate\": \"<b>%{hovertext}</b><br><br><extra></extra>\", \"hovertext\": [5.6226199999999995, 6.39002, 7.15562, 6.75529, 6.68507, 7.298839999999999, 9.46597, 7.22226, 4.901, 3.25604, 6.41774, 9.7598, 9.79622, 6.22316, 8.93206, 6.5115099999999995, 6.715039999999999, 4.8125599999999995, 6.90422, 5.88007, 6.75127, 6.33007, 8.73296, 8.50934, 7.078410000000001, 5.23077, 8.7379, 5.01313, 4.42656], \"ids\": [\"Cyprus\", \"Czech Rep.\", \"Malta\", \"Latvia\", \"France\", \"Deutschland\", \"Finland\", \"Lithuania\", \"Greece\", \"Romania\", \"Slovakia\", \"Sweden\", \"Denmark\", \"Ireland\", \"Netherlands\", \"Slovenia\", \"Spain\", \"Italy\", \"Hungary\", \"Croatia\", \"Europe\", \"Austria\", \"Luxembourg\", \"Estonia\", \"Belgium\", \"Portugal\", \"United Kingdom\", \"Poland\", \"Bulgaria\"], \"legendgroup\": \"Use of Internet Services\", \"marker\": {\"color\": \"#00cc96\"}, \"name\": \"Use of Internet Services\", \"offsetgroup\": \"Use of Internet Services\", \"orientation\": \"v\", \"showlegend\": true, \"textposition\": \"auto\", \"type\": \"bar\", \"x\": [\"Cyprus\", \"Czech Rep.\", \"Malta\", \"Latvia\", \"France\", \"Deutschland\", \"Finland\", \"Lithuania\", \"Greece\", \"Romania\", \"Slovakia\", \"Sweden\", \"Denmark\", \"Ireland\", \"Netherlands\", \"Slovenia\", \"Spain\", \"Italy\", \"Hungary\", \"Croatia\", \"Europe\", \"Austria\", \"Luxembourg\", \"Estonia\", \"Belgium\", \"Portugal\", \"United Kingdom\", \"Poland\", \"Bulgaria\"], \"xaxis\": \"x\", \"y\": [5.6226199999999995, 6.39002, 7.15562, 6.75529, 6.68507, 7.298839999999999, 9.46597, 7.22226, 4.901, 3.25604, 6.41774, 9.7598, 9.79622, 6.22316, 8.93206, 6.5115099999999995, 6.715039999999999, 4.8125599999999995, 6.90422, 5.88007, 6.75127, 6.33007, 8.73296, 8.50934, 7.078410000000001, 5.23077, 8.7379, 5.01313, 4.42656], \"yaxis\": \"y\"}, {\"alignmentgroup\": \"True\", \"customdata\": [[8.676919999999999, \"Netherlands\", 2015, \"Integration of Digital Technology\"], [5.85388, \"Spain\", 2015, \"Integration of Digital Technology\"], [5.69643, \"Deutschland\", 2015, \"Integration of Digital Technology\"], [9.009319999999999, \"Sweden\", 2015, \"Integration of Digital Technology\"], [5.589169999999999, \"Slovakia\", 2015, \"Integration of Digital Technology\"], [8.426969999999999, \"Finland\", 2015, \"Integration of Digital Technology\"], [5.60393, \"Austria\", 2015, \"Integration of Digital Technology\"], [3.05672, \"Bulgaria\", 2015, \"Integration of Digital Technology\"], [5.18109, \"France\", 2015, \"Integration of Digital Technology\"], [9.59295, \"Denmark\", 2015, \"Integration of Digital Technology\"], [6.7355100000000006, \"Lithuania\", 2015, \"Integration of Digital Technology\"], [9.25737, \"Ireland\", 2015, \"Integration of Digital Technology\"], [3.45362, \"Poland\", 2015, \"Integration of Digital Technology\"], [4.9422, \"Estonia\", 2015, \"Integration of Digital Technology\"], [8.56758, \"Belgium\", 2015, \"Integration of Digital Technology\"], [5.38068, \"Luxembourg\", 2015, \"Integration of Digital Technology\"], [7.0004100000000005, \"United Kingdom\", 2015, \"Integration of Digital Technology\"], [3.10604, \"Latvia\", 2015, \"Integration of Digital Technology\"], [7.4405600000000005, \"Czech Rep.\", 2015, \"Integration of Digital Technology\"], [7.12971, \"Malta\", 2015, \"Integration of Digital Technology\"], [6.02412, \"Portugal\", 2015, \"Integration of Digital Technology\"], [4.99911, \"Cyprus\", 2015, \"Integration of Digital Technology\"], [5.3345, \"Slovenia\", 2015, \"Integration of Digital Technology\"], [4.4357, \"Italy\", 2015, \"Integration of Digital Technology\"], [7.14795, \"Croatia\", 2015, \"Integration of Digital Technology\"], [4.854769999999999, \"Greece\", 2015, \"Integration of Digital Technology\"], [5.8445800000000006, \"Europe\", 2015, \"Integration of Digital Technology\"], [3.59053, \"Hungary\", 2015, \"Integration of Digital Technology\"], [3.3450900000000003, \"Romania\", 2015, \"Integration of Digital Technology\"]], \"hovertemplate\": \"<b>%{hovertext}</b><br><br><extra></extra>\", \"hovertext\": [8.676919999999999, 5.85388, 5.69643, 9.009319999999999, 5.589169999999999, 8.426969999999999, 5.60393, 3.05672, 5.18109, 9.59295, 6.7355100000000006, 9.25737, 3.45362, 4.9422, 8.56758, 5.38068, 7.0004100000000005, 3.10604, 7.4405600000000005, 7.12971, 6.02412, 4.99911, 5.3345, 4.4357, 7.14795, 4.854769999999999, 5.8445800000000006, 3.59053, 3.3450900000000003], \"ids\": [\"Netherlands\", \"Spain\", \"Deutschland\", \"Sweden\", \"Slovakia\", \"Finland\", \"Austria\", \"Bulgaria\", \"France\", \"Denmark\", \"Lithuania\", \"Ireland\", \"Poland\", \"Estonia\", \"Belgium\", \"Luxembourg\", \"United Kingdom\", \"Latvia\", \"Czech Rep.\", \"Malta\", \"Portugal\", \"Cyprus\", \"Slovenia\", \"Italy\", \"Croatia\", \"Greece\", \"Europe\", \"Hungary\", \"Romania\"], \"legendgroup\": \"Integration of Digital Technology\", \"marker\": {\"color\": \"#ab63fa\"}, \"name\": \"Integration of Digital Technology\", \"offsetgroup\": \"Integration of Digital Technology\", \"orientation\": \"v\", \"showlegend\": true, \"textposition\": \"auto\", \"type\": \"bar\", \"x\": [\"Netherlands\", \"Spain\", \"Deutschland\", \"Sweden\", \"Slovakia\", \"Finland\", \"Austria\", \"Bulgaria\", \"France\", \"Denmark\", \"Lithuania\", \"Ireland\", \"Poland\", \"Estonia\", \"Belgium\", \"Luxembourg\", \"United Kingdom\", \"Latvia\", \"Czech Rep.\", \"Malta\", \"Portugal\", \"Cyprus\", \"Slovenia\", \"Italy\", \"Croatia\", \"Greece\", \"Europe\", \"Hungary\", \"Romania\"], \"xaxis\": \"x\", \"y\": [8.676919999999999, 5.85388, 5.69643, 9.009319999999999, 5.589169999999999, 8.426969999999999, 5.60393, 3.05672, 5.18109, 9.59295, 6.7355100000000006, 9.25737, 3.45362, 4.9422, 8.56758, 5.38068, 7.0004100000000005, 3.10604, 7.4405600000000005, 7.12971, 6.02412, 4.99911, 5.3345, 4.4357, 7.14795, 4.854769999999999, 5.8445800000000006, 3.59053, 3.3450900000000003], \"yaxis\": \"y\"}, {\"alignmentgroup\": \"True\", \"customdata\": [[12.5472, \"Austria\", 2015, \"Human Capital\"], [10.414000000000001, \"Slovenia\", 2015, \"Human Capital\"], [9.60926, \"Hungary\", 2015, \"Human Capital\"], [9.18325, \"Latvia\", 2015, \"Human Capital\"], [9.24162, \"Slovakia\", 2015, \"Human Capital\"], [8.388530000000001, \"Cyprus\", 2015, \"Human Capital\"], [11.8648, \"Ireland\", 2015, \"Human Capital\"], [7.91995, \"Poland\", 2015, \"Human Capital\"], [7.976789999999999, \"Portugal\", 2015, \"Human Capital\"], [8.55204, \"Greece\", 2015, \"Human Capital\"], [10.9983, \"Europe\", 2015, \"Human Capital\"], [7.701289999999999, \"Italy\", 2015, \"Human Capital\"], [10.2502, \"Croatia\", 2015, \"Human Capital\"], [13.9732, \"Estonia\", 2015, \"Human Capital\"], [13.34, \"Malta\", 2015, \"Human Capital\"], [6.86706, \"Romania\", 2015, \"Human Capital\"], [11.2147, \"Czech Rep.\", 2015, \"Human Capital\"], [15.3152, \"Sweden\", 2015, \"Human Capital\"], [15.1573, \"Denmark\", 2015, \"Human Capital\"], [7.29471, \"Bulgaria\", 2015, \"Human Capital\"], [18.0519, \"Finland\", 2015, \"Human Capital\"], [8.73623, \"Lithuania\", 2015, \"Human Capital\"], [11.0647, \"France\", 2015, \"Human Capital\"], [11.5957, \"Belgium\", 2015, \"Human Capital\"], [14.088, \"United Kingdom\", 2015, \"Human Capital\"], [12.8161, \"Deutschland\", 2015, \"Human Capital\"], [10.7992, \"Spain\", 2015, \"Human Capital\"], [13.5831, \"Netherlands\", 2015, \"Human Capital\"], [13.1423, \"Luxembourg\", 2015, \"Human Capital\"]], \"hovertemplate\": \"<b>%{hovertext}</b><br><br><extra></extra>\", \"hovertext\": [12.5472, 10.414000000000001, 9.60926, 9.18325, 9.24162, 8.388530000000001, 11.8648, 7.91995, 7.976789999999999, 8.55204, 10.9983, 7.701289999999999, 10.2502, 13.9732, 13.34, 6.86706, 11.2147, 15.3152, 15.1573, 7.29471, 18.0519, 8.73623, 11.0647, 11.5957, 14.088, 12.8161, 10.7992, 13.5831, 13.1423], \"ids\": [\"Austria\", \"Slovenia\", \"Hungary\", \"Latvia\", \"Slovakia\", \"Cyprus\", \"Ireland\", \"Poland\", \"Portugal\", \"Greece\", \"Europe\", \"Italy\", \"Croatia\", \"Estonia\", \"Malta\", \"Romania\", \"Czech Rep.\", \"Sweden\", \"Denmark\", \"Bulgaria\", \"Finland\", \"Lithuania\", \"France\", \"Belgium\", \"United Kingdom\", \"Deutschland\", \"Spain\", \"Netherlands\", \"Luxembourg\"], \"legendgroup\": \"Human Capital\", \"marker\": {\"color\": \"#FFA15A\"}, \"name\": \"Human Capital\", \"offsetgroup\": \"Human Capital\", \"orientation\": \"v\", \"showlegend\": true, \"textposition\": \"auto\", \"type\": \"bar\", \"x\": [\"Austria\", \"Slovenia\", \"Hungary\", \"Latvia\", \"Slovakia\", \"Cyprus\", \"Ireland\", \"Poland\", \"Portugal\", \"Greece\", \"Europe\", \"Italy\", \"Croatia\", \"Estonia\", \"Malta\", \"Romania\", \"Czech Rep.\", \"Sweden\", \"Denmark\", \"Bulgaria\", \"Finland\", \"Lithuania\", \"France\", \"Belgium\", \"United Kingdom\", \"Deutschland\", \"Spain\", \"Netherlands\", \"Luxembourg\"], \"xaxis\": \"x\", \"y\": [12.5472, 10.414000000000001, 9.60926, 9.18325, 9.24162, 8.388530000000001, 11.8648, 7.91995, 7.976789999999999, 8.55204, 10.9983, 7.701289999999999, 10.2502, 13.9732, 13.34, 6.86706, 11.2147, 15.3152, 15.1573, 7.29471, 18.0519, 8.73623, 11.0647, 11.5957, 14.088, 12.8161, 10.7992, 13.5831, 13.1423], \"yaxis\": \"y\"}],\n",
       "                        {\"barmode\": \"relative\", \"height\": 600, \"hovermode\": \"x\", \"legend\": {\"title\": {\"text\": \"Indicators:\"}, \"tracegroupgap\": 0}, \"margin\": {\"b\": 200, \"l\": 20, \"r\": 10, \"t\": 50}, \"showlegend\": true, \"sliders\": [{\"active\": 0, \"currentvalue\": {\"prefix\": \"Year: \"}, \"len\": 0.9, \"pad\": {\"r\": 40, \"t\": 130}, \"steps\": [{\"args\": [[\"2015\"], {\"frame\": {\"duration\": 0, \"redraw\": true}, \"fromcurrent\": true, \"mode\": \"immediate\", \"transition\": {\"duration\": 0, \"easing\": \"linear\"}}], \"label\": \"2015\", \"method\": \"animate\"}, {\"args\": [[\"2016\"], {\"frame\": {\"duration\": 0, \"redraw\": true}, \"fromcurrent\": true, \"mode\": \"immediate\", \"redraw\": false, \"transition\": {\"duration\": 0, \"easing\": \"linear\"}}], \"label\": \"2016\", \"method\": \"animate\"}, {\"args\": [[\"2017\"], {\"frame\": {\"duration\": 0, \"redraw\": true}, \"fromcurrent\": true, \"mode\": \"immediate\", \"transition\": {\"duration\": 0, \"easing\": \"linear\"}}], \"label\": \"2017\", \"method\": \"animate\"}, {\"args\": [[\"2018\"], {\"frame\": {\"duration\": 0, \"redraw\": true}, \"fromcurrent\": true, \"mode\": \"immediate\", \"transition\": {\"duration\": 0, \"easing\": \"linear\"}}], \"label\": \"2018\", \"method\": \"animate\"}, {\"args\": [[\"2019\"], {\"frame\": {\"duration\": 0, \"redraw\": true}, \"fromcurrent\": true, \"mode\": \"immediate\", \"transition\": {\"duration\": 0, \"easing\": \"linear\"}}], \"label\": \"2019\", \"method\": \"animate\"}, {\"args\": [[\"2020\"], {\"frame\": {\"duration\": 0, \"redraw\": true}, \"fromcurrent\": true, \"mode\": \"immediate\", \"transition\": {\"duration\": 0, \"easing\": \"linear\"}}], \"label\": \"2020\", \"method\": \"animate\"}], \"x\": 0.1, \"xanchor\": \"left\", \"y\": 0, \"yanchor\": \"top\"}], \"template\": {\"data\": {\"bar\": [{\"error_x\": {\"color\": \"#2a3f5f\"}, \"error_y\": {\"color\": \"#2a3f5f\"}, \"marker\": {\"line\": {\"color\": \"#E5ECF6\", \"width\": 0.5}}, \"type\": \"bar\"}], \"barpolar\": [{\"marker\": {\"line\": {\"color\": \"#E5ECF6\", \"width\": 0.5}}, \"type\": \"barpolar\"}], \"carpet\": [{\"aaxis\": {\"endlinecolor\": \"#2a3f5f\", \"gridcolor\": \"white\", \"linecolor\": \"white\", \"minorgridcolor\": \"white\", \"startlinecolor\": \"#2a3f5f\"}, \"baxis\": {\"endlinecolor\": \"#2a3f5f\", \"gridcolor\": \"white\", \"linecolor\": \"white\", \"minorgridcolor\": \"white\", \"startlinecolor\": \"#2a3f5f\"}, \"type\": \"carpet\"}], \"choropleth\": [{\"colorbar\": {\"outlinewidth\": 0, \"ticks\": \"\"}, \"type\": \"choropleth\"}], \"contour\": [{\"colorbar\": {\"outlinewidth\": 0, \"ticks\": \"\"}, \"colorscale\": [[0.0, \"#0d0887\"], [0.1111111111111111, \"#46039f\"], [0.2222222222222222, \"#7201a8\"], [0.3333333333333333, \"#9c179e\"], [0.4444444444444444, \"#bd3786\"], [0.5555555555555556, \"#d8576b\"], [0.6666666666666666, \"#ed7953\"], [0.7777777777777778, \"#fb9f3a\"], [0.8888888888888888, \"#fdca26\"], [1.0, \"#f0f921\"]], \"type\": \"contour\"}], \"contourcarpet\": [{\"colorbar\": {\"outlinewidth\": 0, \"ticks\": \"\"}, \"type\": \"contourcarpet\"}], \"heatmap\": [{\"colorbar\": {\"outlinewidth\": 0, \"ticks\": \"\"}, \"colorscale\": [[0.0, \"#0d0887\"], [0.1111111111111111, \"#46039f\"], [0.2222222222222222, \"#7201a8\"], [0.3333333333333333, \"#9c179e\"], [0.4444444444444444, \"#bd3786\"], [0.5555555555555556, \"#d8576b\"], [0.6666666666666666, \"#ed7953\"], [0.7777777777777778, \"#fb9f3a\"], [0.8888888888888888, \"#fdca26\"], [1.0, \"#f0f921\"]], \"type\": \"heatmap\"}], \"heatmapgl\": [{\"colorbar\": {\"outlinewidth\": 0, \"ticks\": \"\"}, \"colorscale\": [[0.0, \"#0d0887\"], [0.1111111111111111, \"#46039f\"], [0.2222222222222222, \"#7201a8\"], [0.3333333333333333, \"#9c179e\"], [0.4444444444444444, \"#bd3786\"], [0.5555555555555556, \"#d8576b\"], [0.6666666666666666, \"#ed7953\"], [0.7777777777777778, \"#fb9f3a\"], [0.8888888888888888, \"#fdca26\"], [1.0, \"#f0f921\"]], \"type\": \"heatmapgl\"}], \"histogram\": [{\"marker\": {\"colorbar\": {\"outlinewidth\": 0, \"ticks\": \"\"}}, \"type\": \"histogram\"}], \"histogram2d\": [{\"colorbar\": {\"outlinewidth\": 0, \"ticks\": \"\"}, \"colorscale\": [[0.0, \"#0d0887\"], [0.1111111111111111, \"#46039f\"], [0.2222222222222222, \"#7201a8\"], [0.3333333333333333, \"#9c179e\"], [0.4444444444444444, \"#bd3786\"], [0.5555555555555556, \"#d8576b\"], [0.6666666666666666, \"#ed7953\"], [0.7777777777777778, \"#fb9f3a\"], [0.8888888888888888, \"#fdca26\"], [1.0, \"#f0f921\"]], \"type\": \"histogram2d\"}], \"histogram2dcontour\": [{\"colorbar\": {\"outlinewidth\": 0, \"ticks\": \"\"}, \"colorscale\": [[0.0, \"#0d0887\"], [0.1111111111111111, \"#46039f\"], [0.2222222222222222, \"#7201a8\"], [0.3333333333333333, \"#9c179e\"], [0.4444444444444444, \"#bd3786\"], [0.5555555555555556, \"#d8576b\"], [0.6666666666666666, \"#ed7953\"], [0.7777777777777778, \"#fb9f3a\"], [0.8888888888888888, \"#fdca26\"], [1.0, \"#f0f921\"]], \"type\": \"histogram2dcontour\"}], \"mesh3d\": [{\"colorbar\": {\"outlinewidth\": 0, \"ticks\": \"\"}, \"type\": \"mesh3d\"}], \"parcoords\": [{\"line\": {\"colorbar\": {\"outlinewidth\": 0, \"ticks\": \"\"}}, \"type\": \"parcoords\"}], \"pie\": [{\"automargin\": true, \"type\": \"pie\"}], \"scatter\": [{\"marker\": {\"colorbar\": {\"outlinewidth\": 0, \"ticks\": \"\"}}, \"type\": \"scatter\"}], \"scatter3d\": [{\"line\": {\"colorbar\": {\"outlinewidth\": 0, \"ticks\": \"\"}}, \"marker\": {\"colorbar\": {\"outlinewidth\": 0, \"ticks\": \"\"}}, \"type\": \"scatter3d\"}], \"scattercarpet\": [{\"marker\": {\"colorbar\": {\"outlinewidth\": 0, \"ticks\": \"\"}}, \"type\": \"scattercarpet\"}], \"scattergeo\": [{\"marker\": {\"colorbar\": {\"outlinewidth\": 0, \"ticks\": \"\"}}, \"type\": \"scattergeo\"}], \"scattergl\": [{\"marker\": {\"colorbar\": {\"outlinewidth\": 0, \"ticks\": \"\"}}, \"type\": \"scattergl\"}], \"scattermapbox\": [{\"marker\": {\"colorbar\": {\"outlinewidth\": 0, \"ticks\": \"\"}}, \"type\": \"scattermapbox\"}], \"scatterpolar\": [{\"marker\": {\"colorbar\": {\"outlinewidth\": 0, \"ticks\": \"\"}}, \"type\": \"scatterpolar\"}], \"scatterpolargl\": [{\"marker\": {\"colorbar\": {\"outlinewidth\": 0, \"ticks\": \"\"}}, \"type\": \"scatterpolargl\"}], \"scatterternary\": [{\"marker\": {\"colorbar\": {\"outlinewidth\": 0, \"ticks\": \"\"}}, \"type\": \"scatterternary\"}], \"surface\": [{\"colorbar\": {\"outlinewidth\": 0, \"ticks\": \"\"}, \"colorscale\": [[0.0, \"#0d0887\"], [0.1111111111111111, \"#46039f\"], [0.2222222222222222, \"#7201a8\"], [0.3333333333333333, \"#9c179e\"], [0.4444444444444444, \"#bd3786\"], [0.5555555555555556, \"#d8576b\"], [0.6666666666666666, \"#ed7953\"], [0.7777777777777778, \"#fb9f3a\"], [0.8888888888888888, \"#fdca26\"], [1.0, \"#f0f921\"]], \"type\": \"surface\"}], \"table\": [{\"cells\": {\"fill\": {\"color\": \"#EBF0F8\"}, \"line\": {\"color\": \"white\"}}, \"header\": {\"fill\": {\"color\": \"#C8D4E3\"}, \"line\": {\"color\": \"white\"}}, \"type\": \"table\"}]}, \"layout\": {\"annotationdefaults\": {\"arrowcolor\": \"#2a3f5f\", \"arrowhead\": 0, \"arrowwidth\": 1}, \"coloraxis\": {\"colorbar\": {\"outlinewidth\": 0, \"ticks\": \"\"}}, \"colorscale\": {\"diverging\": [[0, \"#8e0152\"], [0.1, \"#c51b7d\"], [0.2, \"#de77ae\"], [0.3, \"#f1b6da\"], [0.4, \"#fde0ef\"], [0.5, \"#f7f7f7\"], [0.6, \"#e6f5d0\"], [0.7, \"#b8e186\"], [0.8, \"#7fbc41\"], [0.9, \"#4d9221\"], [1, \"#276419\"]], \"sequential\": [[0.0, \"#0d0887\"], [0.1111111111111111, \"#46039f\"], [0.2222222222222222, \"#7201a8\"], [0.3333333333333333, \"#9c179e\"], [0.4444444444444444, \"#bd3786\"], [0.5555555555555556, \"#d8576b\"], [0.6666666666666666, \"#ed7953\"], [0.7777777777777778, \"#fb9f3a\"], [0.8888888888888888, \"#fdca26\"], [1.0, \"#f0f921\"]], \"sequentialminus\": [[0.0, \"#0d0887\"], [0.1111111111111111, \"#46039f\"], [0.2222222222222222, \"#7201a8\"], [0.3333333333333333, \"#9c179e\"], [0.4444444444444444, \"#bd3786\"], [0.5555555555555556, \"#d8576b\"], [0.6666666666666666, \"#ed7953\"], [0.7777777777777778, \"#fb9f3a\"], [0.8888888888888888, \"#fdca26\"], [1.0, \"#f0f921\"]]}, \"colorway\": [\"#636efa\", \"#EF553B\", \"#00cc96\", \"#ab63fa\", \"#FFA15A\", \"#19d3f3\", \"#FF6692\", \"#B6E880\", \"#FF97FF\", \"#FECB52\"], \"font\": {\"color\": \"#2a3f5f\"}, \"geo\": {\"bgcolor\": \"white\", \"lakecolor\": \"white\", \"landcolor\": \"#E5ECF6\", \"showlakes\": true, \"showland\": true, \"subunitcolor\": \"white\"}, \"hoverlabel\": {\"align\": \"left\"}, \"hovermode\": \"closest\", \"mapbox\": {\"style\": \"light\"}, \"paper_bgcolor\": \"white\", \"plot_bgcolor\": \"#E5ECF6\", \"polar\": {\"angularaxis\": {\"gridcolor\": \"white\", \"linecolor\": \"white\", \"ticks\": \"\"}, \"bgcolor\": \"#E5ECF6\", \"radialaxis\": {\"gridcolor\": \"white\", \"linecolor\": \"white\", \"ticks\": \"\"}}, \"scene\": {\"xaxis\": {\"backgroundcolor\": \"#E5ECF6\", \"gridcolor\": \"white\", \"gridwidth\": 2, \"linecolor\": \"white\", \"showbackground\": true, \"ticks\": \"\", \"zerolinecolor\": \"white\"}, \"yaxis\": {\"backgroundcolor\": \"#E5ECF6\", \"gridcolor\": \"white\", \"gridwidth\": 2, \"linecolor\": \"white\", \"showbackground\": true, \"ticks\": \"\", \"zerolinecolor\": \"white\"}, \"zaxis\": {\"backgroundcolor\": \"#E5ECF6\", \"gridcolor\": \"white\", \"gridwidth\": 2, \"linecolor\": \"white\", \"showbackground\": true, \"ticks\": \"\", \"zerolinecolor\": \"white\"}}, \"shapedefaults\": {\"line\": {\"color\": \"#2a3f5f\"}}, \"ternary\": {\"aaxis\": {\"gridcolor\": \"white\", \"linecolor\": \"white\", \"ticks\": \"\"}, \"baxis\": {\"gridcolor\": \"white\", \"linecolor\": \"white\", \"ticks\": \"\"}, \"bgcolor\": \"#E5ECF6\", \"caxis\": {\"gridcolor\": \"white\", \"linecolor\": \"white\", \"ticks\": \"\"}}, \"title\": {\"x\": 0.05}, \"xaxis\": {\"automargin\": true, \"gridcolor\": \"white\", \"linecolor\": \"white\", \"ticks\": \"\", \"title\": {\"standoff\": 15}, \"zerolinecolor\": \"white\", \"zerolinewidth\": 2}, \"yaxis\": {\"automargin\": true, \"gridcolor\": \"white\", \"linecolor\": \"white\", \"ticks\": \"\", \"title\": {\"standoff\": 15}, \"zerolinecolor\": \"white\", \"zerolinewidth\": 2}}}, \"title\": {\"text\": \"Select a year and compare the countries\"}, \"updatemenus\": [{\"buttons\": [{\"args\": [null, {\"frame\": {\"duration\": 2000, \"frame\": 200, \"redraw\": true}, \"fromcurrent\": true, \"mode\": \"immediate\", \"transition\": {\"duration\": 500, \"easing\": \"linear\"}}], \"label\": \"&#9654;\", \"method\": \"animate\"}, {\"args\": [[null], {\"frame\": {\"duration\": 0, \"redraw\": true}, \"fromcurrent\": true, \"mode\": \"immediate\", \"transition\": {\"duration\": 0, \"easing\": \"linear\"}}], \"label\": \"&#9724;\", \"method\": \"animate\"}], \"direction\": \"left\", \"pad\": {\"r\": 30, \"t\": 150}, \"showactive\": false, \"type\": \"buttons\", \"x\": 0.1, \"xanchor\": \"right\", \"y\": 0, \"yanchor\": \"top\"}], \"width\": 1200, \"xaxis\": {\"anchor\": \"y\", \"categoryorder\": \"total descending\", \"domain\": [0.0, 1.0], \"showgrid\": false, \"tickangle\": 60, \"title\": {\"text\": \"Country\"}}, \"yaxis\": {\"anchor\": \"x\", \"domain\": [0.0, 1.0], \"range\": [0, 80], \"title\": {\"text\": \"Value\"}}},\n",
       "                        {\"responsive\": true}\n",
       "                    ).then(function(){\n",
       "                            Plotly.addFrames('681b76db-6519-4edb-b7a7-aac53c33144f', [{\"data\": [{\"alignmentgroup\": \"True\", \"customdata\": [[7.0647, \"Austria\", 2015, \"Connectivity\"], [6.959810000000001, \"Poland\", 2015, \"Connectivity\"], [7.78229, \"Europe\", 2015, \"Connectivity\"], [8.38408, \"Spain\", 2015, \"Connectivity\"], [10.0916, \"Netherlands\", 2015, \"Connectivity\"], [9.07057, \"Slovenia\", 2015, \"Connectivity\"], [8.92415, \"Deutschland\", 2015, \"Connectivity\"], [6.52572, \"Bulgaria\", 2015, \"Connectivity\"], [8.096, \"Czech Rep.\", 2015, \"Connectivity\"], [7.65813, \"France\", 2015, \"Connectivity\"], [9.91113, \"Finland\", 2015, \"Connectivity\"], [11.3794, \"Latvia\", 2015, \"Connectivity\"], [11.2773, \"Denmark\", 2015, \"Connectivity\"], [7.350219999999999, \"Hungary\", 2015, \"Connectivity\"], [6.5734699999999995, \"Ireland\", 2015, \"Connectivity\"], [11.1992, \"Sweden\", 2015, \"Connectivity\"], [8.58184, \"Lithuania\", 2015, \"Connectivity\"], [5.89582, \"Italy\", 2015, \"Connectivity\"], [8.18213, \"Malta\", 2015, \"Connectivity\"], [5.65107, \"Croatia\", 2015, \"Connectivity\"], [4.3609800000000005, \"Cyprus\", 2015, \"Connectivity\"], [7.71197, \"Portugal\", 2015, \"Connectivity\"], [4.73184, \"Greece\", 2015, \"Connectivity\"], [11.2743, \"Luxembourg\", 2015, \"Connectivity\"], [7.86075, \"Belgium\", 2015, \"Connectivity\"], [8.55669, \"United Kingdom\", 2015, \"Connectivity\"], [9.67203, \"Estonia\", 2015, \"Connectivity\"], [8.73385, \"Romania\", 2015, \"Connectivity\"], [7.22112, \"Slovakia\", 2015, \"Connectivity\"]], \"hovertemplate\": \"<b>%{hovertext}</b><br><br><extra></extra>\", \"hovertext\": [7.0647, 6.959810000000001, 7.78229, 8.38408, 10.0916, 9.07057, 8.92415, 6.52572, 8.096, 7.65813, 9.91113, 11.3794, 11.2773, 7.350219999999999, 6.5734699999999995, 11.1992, 8.58184, 5.89582, 8.18213, 5.65107, 4.3609800000000005, 7.71197, 4.73184, 11.2743, 7.86075, 8.55669, 9.67203, 8.73385, 7.22112], \"ids\": [\"Austria\", \"Poland\", \"Europe\", \"Spain\", \"Netherlands\", \"Slovenia\", \"Deutschland\", \"Bulgaria\", \"Czech Rep.\", \"France\", \"Finland\", \"Latvia\", \"Denmark\", \"Hungary\", \"Ireland\", \"Sweden\", \"Lithuania\", \"Italy\", \"Malta\", \"Croatia\", \"Cyprus\", \"Portugal\", \"Greece\", \"Luxembourg\", \"Belgium\", \"United Kingdom\", \"Estonia\", \"Romania\", \"Slovakia\"], \"legendgroup\": \"Connectivity\", \"marker\": {\"color\": \"#636efa\"}, \"name\": \"Connectivity\", \"offsetgroup\": \"Connectivity\", \"orientation\": \"v\", \"showlegend\": true, \"textposition\": \"auto\", \"x\": [\"Austria\", \"Poland\", \"Europe\", \"Spain\", \"Netherlands\", \"Slovenia\", \"Deutschland\", \"Bulgaria\", \"Czech Rep.\", \"France\", \"Finland\", \"Latvia\", \"Denmark\", \"Hungary\", \"Ireland\", \"Sweden\", \"Lithuania\", \"Italy\", \"Malta\", \"Croatia\", \"Cyprus\", \"Portugal\", \"Greece\", \"Luxembourg\", \"Belgium\", \"United Kingdom\", \"Estonia\", \"Romania\", \"Slovakia\"], \"xaxis\": \"x\", \"y\": [7.0647, 6.959810000000001, 7.78229, 8.38408, 10.0916, 9.07057, 8.92415, 6.52572, 8.096, 7.65813, 9.91113, 11.3794, 11.2773, 7.350219999999999, 6.5734699999999995, 11.1992, 8.58184, 5.89582, 8.18213, 5.65107, 4.3609800000000005, 7.71197, 4.73184, 11.2743, 7.86075, 8.55669, 9.67203, 8.73385, 7.22112], \"yaxis\": \"y\", \"type\": \"bar\"}, {\"alignmentgroup\": \"True\", \"customdata\": [[9.9463, \"Netherlands\", 2015, \"Digital Public Services\"], [11.1576, \"Denmark\", 2015, \"Digital Public Services\"], [10.8173, \"Finland\", 2015, \"Digital Public Services\"], [7.53211, \"Europe\", 2015, \"Digital Public Services\"], [10.1328, \"Portugal\", 2015, \"Digital Public Services\"], [4.66594, \"Romania\", 2015, \"Digital Public Services\"], [9.84623, \"Sweden\", 2015, \"Digital Public Services\"], [9.15099, \"Ireland\", 2015, \"Digital Public Services\"], [9.608460000000001, \"Spain\", 2015, \"Digital Public Services\"], [7.959739999999999, \"Poland\", 2015, \"Digital Public Services\"], [6.34576, \"Deutschland\", 2015, \"Digital Public Services\"], [6.90362, \"Slovenia\", 2015, \"Digital Public Services\"], [4.95589, \"Czech Rep.\", 2015, \"Digital Public Services\"], [8.98968, \"Austria\", 2015, \"Digital Public Services\"], [9.09689, \"Lithuania\", 2015, \"Digital Public Services\"], [6.869689999999999, \"France\", 2015, \"Digital Public Services\"], [4.590330000000001, \"Slovakia\", 2015, \"Digital Public Services\"], [7.32045, \"United Kingdom\", 2015, \"Digital Public Services\"], [11.5939, \"Estonia\", 2015, \"Digital Public Services\"], [6.23641, \"Luxembourg\", 2015, \"Digital Public Services\"], [10.6802, \"Malta\", 2015, \"Digital Public Services\"], [7.277419999999999, \"Cyprus\", 2015, \"Digital Public Services\"], [7.71922, \"Belgium\", 2015, \"Digital Public Services\"], [8.19661, \"Latvia\", 2015, \"Digital Public Services\"], [4.07108, \"Croatia\", 2015, \"Digital Public Services\"], [3.09321, \"Greece\", 2015, \"Digital Public Services\"], [4.23128, \"Hungary\", 2015, \"Digital Public Services\"], [6.90543, \"Italy\", 2015, \"Digital Public Services\"], [5.50959, \"Bulgaria\", 2015, \"Digital Public Services\"]], \"hovertemplate\": \"<b>%{hovertext}</b><br><br><extra></extra>\", \"hovertext\": [9.9463, 11.1576, 10.8173, 7.53211, 10.1328, 4.66594, 9.84623, 9.15099, 9.608460000000001, 7.959739999999999, 6.34576, 6.90362, 4.95589, 8.98968, 9.09689, 6.869689999999999, 4.590330000000001, 7.32045, 11.5939, 6.23641, 10.6802, 7.277419999999999, 7.71922, 8.19661, 4.07108, 3.09321, 4.23128, 6.90543, 5.50959], \"ids\": [\"Netherlands\", \"Denmark\", \"Finland\", \"Europe\", \"Portugal\", \"Romania\", \"Sweden\", \"Ireland\", \"Spain\", \"Poland\", \"Deutschland\", \"Slovenia\", \"Czech Rep.\", \"Austria\", \"Lithuania\", \"France\", \"Slovakia\", \"United Kingdom\", \"Estonia\", \"Luxembourg\", \"Malta\", \"Cyprus\", \"Belgium\", \"Latvia\", \"Croatia\", \"Greece\", \"Hungary\", \"Italy\", \"Bulgaria\"], \"legendgroup\": \"Digital Public Services\", \"marker\": {\"color\": \"#EF553B\"}, \"name\": \"Digital Public Services\", \"offsetgroup\": \"Digital Public Services\", \"orientation\": \"v\", \"showlegend\": true, \"textposition\": \"auto\", \"x\": [\"Netherlands\", \"Denmark\", \"Finland\", \"Europe\", \"Portugal\", \"Romania\", \"Sweden\", \"Ireland\", \"Spain\", \"Poland\", \"Deutschland\", \"Slovenia\", \"Czech Rep.\", \"Austria\", \"Lithuania\", \"France\", \"Slovakia\", \"United Kingdom\", \"Estonia\", \"Luxembourg\", \"Malta\", \"Cyprus\", \"Belgium\", \"Latvia\", \"Croatia\", \"Greece\", \"Hungary\", \"Italy\", \"Bulgaria\"], \"xaxis\": \"x\", \"y\": [9.9463, 11.1576, 10.8173, 7.53211, 10.1328, 4.66594, 9.84623, 9.15099, 9.608460000000001, 7.959739999999999, 6.34576, 6.90362, 4.95589, 8.98968, 9.09689, 6.869689999999999, 4.590330000000001, 7.32045, 11.5939, 6.23641, 10.6802, 7.277419999999999, 7.71922, 8.19661, 4.07108, 3.09321, 4.23128, 6.90543, 5.50959], \"yaxis\": \"y\", \"type\": \"bar\"}, {\"alignmentgroup\": \"True\", \"customdata\": [[5.6226199999999995, \"Cyprus\", 2015, \"Use of Internet Services\"], [6.39002, \"Czech Rep.\", 2015, \"Use of Internet Services\"], [7.15562, \"Malta\", 2015, \"Use of Internet Services\"], [6.75529, \"Latvia\", 2015, \"Use of Internet Services\"], [6.68507, \"France\", 2015, \"Use of Internet Services\"], [7.298839999999999, \"Deutschland\", 2015, \"Use of Internet Services\"], [9.46597, \"Finland\", 2015, \"Use of Internet Services\"], [7.22226, \"Lithuania\", 2015, \"Use of Internet Services\"], [4.901, \"Greece\", 2015, \"Use of Internet Services\"], [3.25604, \"Romania\", 2015, \"Use of Internet Services\"], [6.41774, \"Slovakia\", 2015, \"Use of Internet Services\"], [9.7598, \"Sweden\", 2015, \"Use of Internet Services\"], [9.79622, \"Denmark\", 2015, \"Use of Internet Services\"], [6.22316, \"Ireland\", 2015, \"Use of Internet Services\"], [8.93206, \"Netherlands\", 2015, \"Use of Internet Services\"], [6.5115099999999995, \"Slovenia\", 2015, \"Use of Internet Services\"], [6.715039999999999, \"Spain\", 2015, \"Use of Internet Services\"], [4.8125599999999995, \"Italy\", 2015, \"Use of Internet Services\"], [6.90422, \"Hungary\", 2015, \"Use of Internet Services\"], [5.88007, \"Croatia\", 2015, \"Use of Internet Services\"], [6.75127, \"Europe\", 2015, \"Use of Internet Services\"], [6.33007, \"Austria\", 2015, \"Use of Internet Services\"], [8.73296, \"Luxembourg\", 2015, \"Use of Internet Services\"], [8.50934, \"Estonia\", 2015, \"Use of Internet Services\"], [7.078410000000001, \"Belgium\", 2015, \"Use of Internet Services\"], [5.23077, \"Portugal\", 2015, \"Use of Internet Services\"], [8.7379, \"United Kingdom\", 2015, \"Use of Internet Services\"], [5.01313, \"Poland\", 2015, \"Use of Internet Services\"], [4.42656, \"Bulgaria\", 2015, \"Use of Internet Services\"]], \"hovertemplate\": \"<b>%{hovertext}</b><br><br><extra></extra>\", \"hovertext\": [5.6226199999999995, 6.39002, 7.15562, 6.75529, 6.68507, 7.298839999999999, 9.46597, 7.22226, 4.901, 3.25604, 6.41774, 9.7598, 9.79622, 6.22316, 8.93206, 6.5115099999999995, 6.715039999999999, 4.8125599999999995, 6.90422, 5.88007, 6.75127, 6.33007, 8.73296, 8.50934, 7.078410000000001, 5.23077, 8.7379, 5.01313, 4.42656], \"ids\": [\"Cyprus\", \"Czech Rep.\", \"Malta\", \"Latvia\", \"France\", \"Deutschland\", \"Finland\", \"Lithuania\", \"Greece\", \"Romania\", \"Slovakia\", \"Sweden\", \"Denmark\", \"Ireland\", \"Netherlands\", \"Slovenia\", \"Spain\", \"Italy\", \"Hungary\", \"Croatia\", \"Europe\", \"Austria\", \"Luxembourg\", \"Estonia\", \"Belgium\", \"Portugal\", \"United Kingdom\", \"Poland\", \"Bulgaria\"], \"legendgroup\": \"Use of Internet Services\", \"marker\": {\"color\": \"#00cc96\"}, \"name\": \"Use of Internet Services\", \"offsetgroup\": \"Use of Internet Services\", \"orientation\": \"v\", \"showlegend\": true, \"textposition\": \"auto\", \"x\": [\"Cyprus\", \"Czech Rep.\", \"Malta\", \"Latvia\", \"France\", \"Deutschland\", \"Finland\", \"Lithuania\", \"Greece\", \"Romania\", \"Slovakia\", \"Sweden\", \"Denmark\", \"Ireland\", \"Netherlands\", \"Slovenia\", \"Spain\", \"Italy\", \"Hungary\", \"Croatia\", \"Europe\", \"Austria\", \"Luxembourg\", \"Estonia\", \"Belgium\", \"Portugal\", \"United Kingdom\", \"Poland\", \"Bulgaria\"], \"xaxis\": \"x\", \"y\": [5.6226199999999995, 6.39002, 7.15562, 6.75529, 6.68507, 7.298839999999999, 9.46597, 7.22226, 4.901, 3.25604, 6.41774, 9.7598, 9.79622, 6.22316, 8.93206, 6.5115099999999995, 6.715039999999999, 4.8125599999999995, 6.90422, 5.88007, 6.75127, 6.33007, 8.73296, 8.50934, 7.078410000000001, 5.23077, 8.7379, 5.01313, 4.42656], \"yaxis\": \"y\", \"type\": \"bar\"}, {\"alignmentgroup\": \"True\", \"customdata\": [[8.676919999999999, \"Netherlands\", 2015, \"Integration of Digital Technology\"], [5.85388, \"Spain\", 2015, \"Integration of Digital Technology\"], [5.69643, \"Deutschland\", 2015, \"Integration of Digital Technology\"], [9.009319999999999, \"Sweden\", 2015, \"Integration of Digital Technology\"], [5.589169999999999, \"Slovakia\", 2015, \"Integration of Digital Technology\"], [8.426969999999999, \"Finland\", 2015, \"Integration of Digital Technology\"], [5.60393, \"Austria\", 2015, \"Integration of Digital Technology\"], [3.05672, \"Bulgaria\", 2015, \"Integration of Digital Technology\"], [5.18109, \"France\", 2015, \"Integration of Digital Technology\"], [9.59295, \"Denmark\", 2015, \"Integration of Digital Technology\"], [6.7355100000000006, \"Lithuania\", 2015, \"Integration of Digital Technology\"], [9.25737, \"Ireland\", 2015, \"Integration of Digital Technology\"], [3.45362, \"Poland\", 2015, \"Integration of Digital Technology\"], [4.9422, \"Estonia\", 2015, \"Integration of Digital Technology\"], [8.56758, \"Belgium\", 2015, \"Integration of Digital Technology\"], [5.38068, \"Luxembourg\", 2015, \"Integration of Digital Technology\"], [7.0004100000000005, \"United Kingdom\", 2015, \"Integration of Digital Technology\"], [3.10604, \"Latvia\", 2015, \"Integration of Digital Technology\"], [7.4405600000000005, \"Czech Rep.\", 2015, \"Integration of Digital Technology\"], [7.12971, \"Malta\", 2015, \"Integration of Digital Technology\"], [6.02412, \"Portugal\", 2015, \"Integration of Digital Technology\"], [4.99911, \"Cyprus\", 2015, \"Integration of Digital Technology\"], [5.3345, \"Slovenia\", 2015, \"Integration of Digital Technology\"], [4.4357, \"Italy\", 2015, \"Integration of Digital Technology\"], [7.14795, \"Croatia\", 2015, \"Integration of Digital Technology\"], [4.854769999999999, \"Greece\", 2015, \"Integration of Digital Technology\"], [5.8445800000000006, \"Europe\", 2015, \"Integration of Digital Technology\"], [3.59053, \"Hungary\", 2015, \"Integration of Digital Technology\"], [3.3450900000000003, \"Romania\", 2015, \"Integration of Digital Technology\"]], \"hovertemplate\": \"<b>%{hovertext}</b><br><br><extra></extra>\", \"hovertext\": [8.676919999999999, 5.85388, 5.69643, 9.009319999999999, 5.589169999999999, 8.426969999999999, 5.60393, 3.05672, 5.18109, 9.59295, 6.7355100000000006, 9.25737, 3.45362, 4.9422, 8.56758, 5.38068, 7.0004100000000005, 3.10604, 7.4405600000000005, 7.12971, 6.02412, 4.99911, 5.3345, 4.4357, 7.14795, 4.854769999999999, 5.8445800000000006, 3.59053, 3.3450900000000003], \"ids\": [\"Netherlands\", \"Spain\", \"Deutschland\", \"Sweden\", \"Slovakia\", \"Finland\", \"Austria\", \"Bulgaria\", \"France\", \"Denmark\", \"Lithuania\", \"Ireland\", \"Poland\", \"Estonia\", \"Belgium\", \"Luxembourg\", \"United Kingdom\", \"Latvia\", \"Czech Rep.\", \"Malta\", \"Portugal\", \"Cyprus\", \"Slovenia\", \"Italy\", \"Croatia\", \"Greece\", \"Europe\", \"Hungary\", \"Romania\"], \"legendgroup\": \"Integration of Digital Technology\", \"marker\": {\"color\": \"#ab63fa\"}, \"name\": \"Integration of Digital Technology\", \"offsetgroup\": \"Integration of Digital Technology\", \"orientation\": \"v\", \"showlegend\": true, \"textposition\": \"auto\", \"x\": [\"Netherlands\", \"Spain\", \"Deutschland\", \"Sweden\", \"Slovakia\", \"Finland\", \"Austria\", \"Bulgaria\", \"France\", \"Denmark\", \"Lithuania\", \"Ireland\", \"Poland\", \"Estonia\", \"Belgium\", \"Luxembourg\", \"United Kingdom\", \"Latvia\", \"Czech Rep.\", \"Malta\", \"Portugal\", \"Cyprus\", \"Slovenia\", \"Italy\", \"Croatia\", \"Greece\", \"Europe\", \"Hungary\", \"Romania\"], \"xaxis\": \"x\", \"y\": [8.676919999999999, 5.85388, 5.69643, 9.009319999999999, 5.589169999999999, 8.426969999999999, 5.60393, 3.05672, 5.18109, 9.59295, 6.7355100000000006, 9.25737, 3.45362, 4.9422, 8.56758, 5.38068, 7.0004100000000005, 3.10604, 7.4405600000000005, 7.12971, 6.02412, 4.99911, 5.3345, 4.4357, 7.14795, 4.854769999999999, 5.8445800000000006, 3.59053, 3.3450900000000003], \"yaxis\": \"y\", \"type\": \"bar\"}, {\"alignmentgroup\": \"True\", \"customdata\": [[12.5472, \"Austria\", 2015, \"Human Capital\"], [10.414000000000001, \"Slovenia\", 2015, \"Human Capital\"], [9.60926, \"Hungary\", 2015, \"Human Capital\"], [9.18325, \"Latvia\", 2015, \"Human Capital\"], [9.24162, \"Slovakia\", 2015, \"Human Capital\"], [8.388530000000001, \"Cyprus\", 2015, \"Human Capital\"], [11.8648, \"Ireland\", 2015, \"Human Capital\"], [7.91995, \"Poland\", 2015, \"Human Capital\"], [7.976789999999999, \"Portugal\", 2015, \"Human Capital\"], [8.55204, \"Greece\", 2015, \"Human Capital\"], [10.9983, \"Europe\", 2015, \"Human Capital\"], [7.701289999999999, \"Italy\", 2015, \"Human Capital\"], [10.2502, \"Croatia\", 2015, \"Human Capital\"], [13.9732, \"Estonia\", 2015, \"Human Capital\"], [13.34, \"Malta\", 2015, \"Human Capital\"], [6.86706, \"Romania\", 2015, \"Human Capital\"], [11.2147, \"Czech Rep.\", 2015, \"Human Capital\"], [15.3152, \"Sweden\", 2015, \"Human Capital\"], [15.1573, \"Denmark\", 2015, \"Human Capital\"], [7.29471, \"Bulgaria\", 2015, \"Human Capital\"], [18.0519, \"Finland\", 2015, \"Human Capital\"], [8.73623, \"Lithuania\", 2015, \"Human Capital\"], [11.0647, \"France\", 2015, \"Human Capital\"], [11.5957, \"Belgium\", 2015, \"Human Capital\"], [14.088, \"United Kingdom\", 2015, \"Human Capital\"], [12.8161, \"Deutschland\", 2015, \"Human Capital\"], [10.7992, \"Spain\", 2015, \"Human Capital\"], [13.5831, \"Netherlands\", 2015, \"Human Capital\"], [13.1423, \"Luxembourg\", 2015, \"Human Capital\"]], \"hovertemplate\": \"<b>%{hovertext}</b><br><br><extra></extra>\", \"hovertext\": [12.5472, 10.414000000000001, 9.60926, 9.18325, 9.24162, 8.388530000000001, 11.8648, 7.91995, 7.976789999999999, 8.55204, 10.9983, 7.701289999999999, 10.2502, 13.9732, 13.34, 6.86706, 11.2147, 15.3152, 15.1573, 7.29471, 18.0519, 8.73623, 11.0647, 11.5957, 14.088, 12.8161, 10.7992, 13.5831, 13.1423], \"ids\": [\"Austria\", \"Slovenia\", \"Hungary\", \"Latvia\", \"Slovakia\", \"Cyprus\", \"Ireland\", \"Poland\", \"Portugal\", \"Greece\", \"Europe\", \"Italy\", \"Croatia\", \"Estonia\", \"Malta\", \"Romania\", \"Czech Rep.\", \"Sweden\", \"Denmark\", \"Bulgaria\", \"Finland\", \"Lithuania\", \"France\", \"Belgium\", \"United Kingdom\", \"Deutschland\", \"Spain\", \"Netherlands\", \"Luxembourg\"], \"legendgroup\": \"Human Capital\", \"marker\": {\"color\": \"#FFA15A\"}, \"name\": \"Human Capital\", \"offsetgroup\": \"Human Capital\", \"orientation\": \"v\", \"showlegend\": true, \"textposition\": \"auto\", \"x\": [\"Austria\", \"Slovenia\", \"Hungary\", \"Latvia\", \"Slovakia\", \"Cyprus\", \"Ireland\", \"Poland\", \"Portugal\", \"Greece\", \"Europe\", \"Italy\", \"Croatia\", \"Estonia\", \"Malta\", \"Romania\", \"Czech Rep.\", \"Sweden\", \"Denmark\", \"Bulgaria\", \"Finland\", \"Lithuania\", \"France\", \"Belgium\", \"United Kingdom\", \"Deutschland\", \"Spain\", \"Netherlands\", \"Luxembourg\"], \"xaxis\": \"x\", \"y\": [12.5472, 10.414000000000001, 9.60926, 9.18325, 9.24162, 8.388530000000001, 11.8648, 7.91995, 7.976789999999999, 8.55204, 10.9983, 7.701289999999999, 10.2502, 13.9732, 13.34, 6.86706, 11.2147, 15.3152, 15.1573, 7.29471, 18.0519, 8.73623, 11.0647, 11.5957, 14.088, 12.8161, 10.7992, 13.5831, 13.1423], \"yaxis\": \"y\", \"type\": \"bar\"}], \"name\": \"2015\"}, {\"data\": [{\"alignmentgroup\": \"True\", \"customdata\": [[8.04293, \"France\", 2016, \"Connectivity\"], [9.3908, \"Spain\", 2016, \"Connectivity\"], [5.28291, \"Greece\", 2016, \"Connectivity\"], [8.521, \"Hungary\", 2016, \"Connectivity\"], [8.70171, \"Portugal\", 2016, \"Connectivity\"], [9.3144, \"Lithuania\", 2016, \"Connectivity\"], [11.5879, \"Sweden\", 2016, \"Connectivity\"], [7.38922, \"Bulgaria\", 2016, \"Connectivity\"], [7.9614199999999995, \"Austria\", 2016, \"Connectivity\"], [10.054, \"Romania\", 2016, \"Connectivity\"], [11.683, \"Denmark\", 2016, \"Connectivity\"], [6.00218, \"Cyprus\", 2016, \"Connectivity\"], [10.0877, \"Finland\", 2016, \"Connectivity\"], [8.5199, \"Europe\", 2016, \"Connectivity\"], [9.8273, \"Slovenia\", 2016, \"Connectivity\"], [7.45574, \"Ireland\", 2016, \"Connectivity\"], [8.56219, \"Belgium\", 2016, \"Connectivity\"], [10.7892, \"Estonia\", 2016, \"Connectivity\"], [12.2315, \"Luxembourg\", 2016, \"Connectivity\"], [8.75152, \"Malta\", 2016, \"Connectivity\"], [9.29168, \"United Kingdom\", 2016, \"Connectivity\"], [11.269, \"Netherlands\", 2016, \"Connectivity\"], [6.786860000000001, \"Italy\", 2016, \"Connectivity\"], [6.6798399999999996, \"Croatia\", 2016, \"Connectivity\"], [9.36607, \"Deutschland\", 2016, \"Connectivity\"], [7.65665, \"Poland\", 2016, \"Connectivity\"], [7.9615, \"Slovakia\", 2016, \"Connectivity\"], [12.4397, \"Latvia\", 2016, \"Connectivity\"], [8.67957, \"Czech Rep.\", 2016, \"Connectivity\"]], \"hovertemplate\": \"<b>%{hovertext}</b><br><br><extra></extra>\", \"hovertext\": [8.04293, 9.3908, 5.28291, 8.521, 8.70171, 9.3144, 11.5879, 7.38922, 7.9614199999999995, 10.054, 11.683, 6.00218, 10.0877, 8.5199, 9.8273, 7.45574, 8.56219, 10.7892, 12.2315, 8.75152, 9.29168, 11.269, 6.786860000000001, 6.6798399999999996, 9.36607, 7.65665, 7.9615, 12.4397, 8.67957], \"ids\": [\"France\", \"Spain\", \"Greece\", \"Hungary\", \"Portugal\", \"Lithuania\", \"Sweden\", \"Bulgaria\", \"Austria\", \"Romania\", \"Denmark\", \"Cyprus\", \"Finland\", \"Europe\", \"Slovenia\", \"Ireland\", \"Belgium\", \"Estonia\", \"Luxembourg\", \"Malta\", \"United Kingdom\", \"Netherlands\", \"Italy\", \"Croatia\", \"Deutschland\", \"Poland\", \"Slovakia\", \"Latvia\", \"Czech Rep.\"], \"legendgroup\": \"Connectivity\", \"marker\": {\"color\": \"#636efa\"}, \"name\": \"Connectivity\", \"offsetgroup\": \"Connectivity\", \"orientation\": \"v\", \"showlegend\": true, \"textposition\": \"auto\", \"x\": [\"France\", \"Spain\", \"Greece\", \"Hungary\", \"Portugal\", \"Lithuania\", \"Sweden\", \"Bulgaria\", \"Austria\", \"Romania\", \"Denmark\", \"Cyprus\", \"Finland\", \"Europe\", \"Slovenia\", \"Ireland\", \"Belgium\", \"Estonia\", \"Luxembourg\", \"Malta\", \"United Kingdom\", \"Netherlands\", \"Italy\", \"Croatia\", \"Deutschland\", \"Poland\", \"Slovakia\", \"Latvia\", \"Czech Rep.\"], \"xaxis\": \"x\", \"y\": [8.04293, 9.3908, 5.28291, 8.521, 8.70171, 9.3144, 11.5879, 7.38922, 7.9614199999999995, 10.054, 11.683, 6.00218, 10.0877, 8.5199, 9.8273, 7.45574, 8.56219, 10.7892, 12.2315, 8.75152, 9.29168, 11.269, 6.786860000000001, 6.6798399999999996, 9.36607, 7.65665, 7.9615, 12.4397, 8.67957], \"yaxis\": \"y\", \"type\": \"bar\"}, {\"alignmentgroup\": \"True\", \"customdata\": [[7.843389999999999, \"Slovenia\", 2016, \"Digital Public Services\"], [9.96632, \"Austria\", 2016, \"Digital Public Services\"], [4.3331800000000005, \"Hungary\", 2016, \"Digital Public Services\"], [5.7314, \"Croatia\", 2016, \"Digital Public Services\"], [4.04601, \"Greece\", 2016, \"Digital Public Services\"], [8.13097, \"Europe\", 2016, \"Digital Public Services\"], [10.4901, \"Netherlands\", 2016, \"Digital Public Services\"], [6.20368, \"Bulgaria\", 2016, \"Digital Public Services\"], [11.5573, \"Denmark\", 2016, \"Digital Public Services\"], [7.9875300000000005, \"Poland\", 2016, \"Digital Public Services\"], [9.45825, \"Ireland\", 2016, \"Digital Public Services\"], [7.36923, \"Italy\", 2016, \"Digital Public Services\"], [10.1228, \"Lithuania\", 2016, \"Digital Public Services\"], [9.98507, \"Spain\", 2016, \"Digital Public Services\"], [4.66144, \"Slovakia\", 2016, \"Digital Public Services\"], [8.59278, \"Belgium\", 2016, \"Digital Public Services\"], [8.21519, \"Cyprus\", 2016, \"Digital Public Services\"], [10.7141, \"Malta\", 2016, \"Digital Public Services\"], [7.39716, \"Deutschland\", 2016, \"Digital Public Services\"], [7.982589999999999, \"France\", 2016, \"Digital Public Services\"], [11.1308, \"Finland\", 2016, \"Digital Public Services\"], [5.63025, \"Czech Rep.\", 2016, \"Digital Public Services\"], [10.7337, \"Sweden\", 2016, \"Digital Public Services\"], [8.00073, \"United Kingdom\", 2016, \"Digital Public Services\"], [5.12475, \"Romania\", 2016, \"Digital Public Services\"], [6.73077, \"Luxembourg\", 2016, \"Digital Public Services\"], [9.24145, \"Latvia\", 2016, \"Digital Public Services\"], [12.0676, \"Estonia\", 2016, \"Digital Public Services\"], [10.2168, \"Portugal\", 2016, \"Digital Public Services\"]], \"hovertemplate\": \"<b>%{hovertext}</b><br><br><extra></extra>\", \"hovertext\": [7.843389999999999, 9.96632, 4.3331800000000005, 5.7314, 4.04601, 8.13097, 10.4901, 6.20368, 11.5573, 7.9875300000000005, 9.45825, 7.36923, 10.1228, 9.98507, 4.66144, 8.59278, 8.21519, 10.7141, 7.39716, 7.982589999999999, 11.1308, 5.63025, 10.7337, 8.00073, 5.12475, 6.73077, 9.24145, 12.0676, 10.2168], \"ids\": [\"Slovenia\", \"Austria\", \"Hungary\", \"Croatia\", \"Greece\", \"Europe\", \"Netherlands\", \"Bulgaria\", \"Denmark\", \"Poland\", \"Ireland\", \"Italy\", \"Lithuania\", \"Spain\", \"Slovakia\", \"Belgium\", \"Cyprus\", \"Malta\", \"Deutschland\", \"France\", \"Finland\", \"Czech Rep.\", \"Sweden\", \"United Kingdom\", \"Romania\", \"Luxembourg\", \"Latvia\", \"Estonia\", \"Portugal\"], \"legendgroup\": \"Digital Public Services\", \"marker\": {\"color\": \"#EF553B\"}, \"name\": \"Digital Public Services\", \"offsetgroup\": \"Digital Public Services\", \"orientation\": \"v\", \"showlegend\": true, \"textposition\": \"auto\", \"x\": [\"Slovenia\", \"Austria\", \"Hungary\", \"Croatia\", \"Greece\", \"Europe\", \"Netherlands\", \"Bulgaria\", \"Denmark\", \"Poland\", \"Ireland\", \"Italy\", \"Lithuania\", \"Spain\", \"Slovakia\", \"Belgium\", \"Cyprus\", \"Malta\", \"Deutschland\", \"France\", \"Finland\", \"Czech Rep.\", \"Sweden\", \"United Kingdom\", \"Romania\", \"Luxembourg\", \"Latvia\", \"Estonia\", \"Portugal\"], \"xaxis\": \"x\", \"y\": [7.843389999999999, 9.96632, 4.3331800000000005, 5.7314, 4.04601, 8.13097, 10.4901, 6.20368, 11.5573, 7.9875300000000005, 9.45825, 7.36923, 10.1228, 9.98507, 4.66144, 8.59278, 8.21519, 10.7141, 7.39716, 7.982589999999999, 11.1308, 5.63025, 10.7337, 8.00073, 5.12475, 6.73077, 9.24145, 12.0676, 10.2168], \"yaxis\": \"y\", \"type\": \"bar\"}, {\"alignmentgroup\": \"True\", \"customdata\": [[6.44895, \"Czech Rep.\", 2016, \"Use of Internet Services\"], [4.7099, \"Bulgaria\", 2016, \"Use of Internet Services\"], [6.31311, \"Slovakia\", 2016, \"Use of Internet Services\"], [3.90596, \"Romania\", 2016, \"Use of Internet Services\"], [6.63704, \"Austria\", 2016, \"Use of Internet Services\"], [6.893689999999999, \"Croatia\", 2016, \"Use of Internet Services\"], [8.00262, \"Malta\", 2016, \"Use of Internet Services\"], [5.9559, \"Cyprus\", 2016, \"Use of Internet Services\"], [9.02975, \"Netherlands\", 2016, \"Use of Internet Services\"], [9.98132, \"Denmark\", 2016, \"Use of Internet Services\"], [5.28095, \"Greece\", 2016, \"Use of Internet Services\"], [6.99938, \"Europe\", 2016, \"Use of Internet Services\"], [5.685630000000001, \"Portugal\", 2016, \"Use of Internet Services\"], [8.86777, \"Estonia\", 2016, \"Use of Internet Services\"], [6.38236, \"Ireland\", 2016, \"Use of Internet Services\"], [8.99819, \"United Kingdom\", 2016, \"Use of Internet Services\"], [5.18565, \"Poland\", 2016, \"Use of Internet Services\"], [7.71351, \"Deutschland\", 2016, \"Use of Internet Services\"], [7.24052, \"Latvia\", 2016, \"Use of Internet Services\"], [7.08427, \"Hungary\", 2016, \"Use of Internet Services\"], [9.246839999999999, \"Luxembourg\", 2016, \"Use of Internet Services\"], [6.02821, \"Slovenia\", 2016, \"Use of Internet Services\"], [6.955360000000001, \"Spain\", 2016, \"Use of Internet Services\"], [6.70262, \"France\", 2016, \"Use of Internet Services\"], [6.83149, \"Lithuania\", 2016, \"Use of Internet Services\"], [9.58601, \"Finland\", 2016, \"Use of Internet Services\"], [9.59623, \"Sweden\", 2016, \"Use of Internet Services\"], [4.9288099999999995, \"Italy\", 2016, \"Use of Internet Services\"], [7.54961, \"Belgium\", 2016, \"Use of Internet Services\"]], \"hovertemplate\": \"<b>%{hovertext}</b><br><br><extra></extra>\", \"hovertext\": [6.44895, 4.7099, 6.31311, 3.90596, 6.63704, 6.893689999999999, 8.00262, 5.9559, 9.02975, 9.98132, 5.28095, 6.99938, 5.685630000000001, 8.86777, 6.38236, 8.99819, 5.18565, 7.71351, 7.24052, 7.08427, 9.246839999999999, 6.02821, 6.955360000000001, 6.70262, 6.83149, 9.58601, 9.59623, 4.9288099999999995, 7.54961], \"ids\": [\"Czech Rep.\", \"Bulgaria\", \"Slovakia\", \"Romania\", \"Austria\", \"Croatia\", \"Malta\", \"Cyprus\", \"Netherlands\", \"Denmark\", \"Greece\", \"Europe\", \"Portugal\", \"Estonia\", \"Ireland\", \"United Kingdom\", \"Poland\", \"Deutschland\", \"Latvia\", \"Hungary\", \"Luxembourg\", \"Slovenia\", \"Spain\", \"France\", \"Lithuania\", \"Finland\", \"Sweden\", \"Italy\", \"Belgium\"], \"legendgroup\": \"Use of Internet Services\", \"marker\": {\"color\": \"#00cc96\"}, \"name\": \"Use of Internet Services\", \"offsetgroup\": \"Use of Internet Services\", \"orientation\": \"v\", \"showlegend\": true, \"textposition\": \"auto\", \"x\": [\"Czech Rep.\", \"Bulgaria\", \"Slovakia\", \"Romania\", \"Austria\", \"Croatia\", \"Malta\", \"Cyprus\", \"Netherlands\", \"Denmark\", \"Greece\", \"Europe\", \"Portugal\", \"Estonia\", \"Ireland\", \"United Kingdom\", \"Poland\", \"Deutschland\", \"Latvia\", \"Hungary\", \"Luxembourg\", \"Slovenia\", \"Spain\", \"France\", \"Lithuania\", \"Finland\", \"Sweden\", \"Italy\", \"Belgium\"], \"xaxis\": \"x\", \"y\": [6.44895, 4.7099, 6.31311, 3.90596, 6.63704, 6.893689999999999, 8.00262, 5.9559, 9.02975, 9.98132, 5.28095, 6.99938, 5.685630000000001, 8.86777, 6.38236, 8.99819, 5.18565, 7.71351, 7.24052, 7.08427, 9.246839999999999, 6.02821, 6.955360000000001, 6.70262, 6.83149, 9.58601, 9.59623, 4.9288099999999995, 7.54961], \"yaxis\": \"y\", \"type\": \"bar\"}, {\"alignmentgroup\": \"True\", \"customdata\": [[5.24535, \"Italy\", 2016, \"Integration of Digital Technology\"], [7.47485, \"Lithuania\", 2016, \"Integration of Digital Technology\"], [6.76501, \"Slovenia\", 2016, \"Integration of Digital Technology\"], [6.66063, \"France\", 2016, \"Integration of Digital Technology\"], [9.93634, \"Denmark\", 2016, \"Integration of Digital Technology\"], [11.3485, \"Ireland\", 2016, \"Integration of Digital Technology\"], [3.1932, \"Bulgaria\", 2016, \"Integration of Digital Technology\"], [10.0791, \"Netherlands\", 2016, \"Integration of Digital Technology\"], [6.03927, \"Austria\", 2016, \"Integration of Digital Technology\"], [6.171, \"Spain\", 2016, \"Integration of Digital Technology\"], [5.76933, \"Cyprus\", 2016, \"Integration of Digital Technology\"], [3.7452699999999997, \"Romania\", 2016, \"Integration of Digital Technology\"], [7.464919999999999, \"Czech Rep.\", 2016, \"Integration of Digital Technology\"], [9.118089999999999, \"Finland\", 2016, \"Integration of Digital Technology\"], [6.717039999999999, \"Croatia\", 2016, \"Integration of Digital Technology\"], [4.01658, \"Hungary\", 2016, \"Integration of Digital Technology\"], [8.12543, \"United Kingdom\", 2016, \"Integration of Digital Technology\"], [9.96224, \"Belgium\", 2016, \"Integration of Digital Technology\"], [6.6235, \"Europe\", 2016, \"Integration of Digital Technology\"], [5.69842, \"Estonia\", 2016, \"Integration of Digital Technology\"], [4.5892599999999995, \"Greece\", 2016, \"Integration of Digital Technology\"], [3.72171, \"Latvia\", 2016, \"Integration of Digital Technology\"], [9.83455, \"Sweden\", 2016, \"Integration of Digital Technology\"], [3.69049, \"Poland\", 2016, \"Integration of Digital Technology\"], [5.2870800000000004, \"Luxembourg\", 2016, \"Integration of Digital Technology\"], [7.45907, \"Portugal\", 2016, \"Integration of Digital Technology\"], [6.37691, \"Deutschland\", 2016, \"Integration of Digital Technology\"], [7.697210000000001, \"Malta\", 2016, \"Integration of Digital Technology\"], [6.1833599999999995, \"Slovakia\", 2016, \"Integration of Digital Technology\"]], \"hovertemplate\": \"<b>%{hovertext}</b><br><br><extra></extra>\", \"hovertext\": [5.24535, 7.47485, 6.76501, 6.66063, 9.93634, 11.3485, 3.1932, 10.0791, 6.03927, 6.171, 5.76933, 3.7452699999999997, 7.464919999999999, 9.118089999999999, 6.717039999999999, 4.01658, 8.12543, 9.96224, 6.6235, 5.69842, 4.5892599999999995, 3.72171, 9.83455, 3.69049, 5.2870800000000004, 7.45907, 6.37691, 7.697210000000001, 6.1833599999999995], \"ids\": [\"Italy\", \"Lithuania\", \"Slovenia\", \"France\", \"Denmark\", \"Ireland\", \"Bulgaria\", \"Netherlands\", \"Austria\", \"Spain\", \"Cyprus\", \"Romania\", \"Czech Rep.\", \"Finland\", \"Croatia\", \"Hungary\", \"United Kingdom\", \"Belgium\", \"Europe\", \"Estonia\", \"Greece\", \"Latvia\", \"Sweden\", \"Poland\", \"Luxembourg\", \"Portugal\", \"Deutschland\", \"Malta\", \"Slovakia\"], \"legendgroup\": \"Integration of Digital Technology\", \"marker\": {\"color\": \"#ab63fa\"}, \"name\": \"Integration of Digital Technology\", \"offsetgroup\": \"Integration of Digital Technology\", \"orientation\": \"v\", \"showlegend\": true, \"textposition\": \"auto\", \"x\": [\"Italy\", \"Lithuania\", \"Slovenia\", \"France\", \"Denmark\", \"Ireland\", \"Bulgaria\", \"Netherlands\", \"Austria\", \"Spain\", \"Cyprus\", \"Romania\", \"Czech Rep.\", \"Finland\", \"Croatia\", \"Hungary\", \"United Kingdom\", \"Belgium\", \"Europe\", \"Estonia\", \"Greece\", \"Latvia\", \"Sweden\", \"Poland\", \"Luxembourg\", \"Portugal\", \"Deutschland\", \"Malta\", \"Slovakia\"], \"xaxis\": \"x\", \"y\": [5.24535, 7.47485, 6.76501, 6.66063, 9.93634, 11.3485, 3.1932, 10.0791, 6.03927, 6.171, 5.76933, 3.7452699999999997, 7.464919999999999, 9.118089999999999, 6.717039999999999, 4.01658, 8.12543, 9.96224, 6.6235, 5.69842, 4.5892599999999995, 3.72171, 9.83455, 3.69049, 5.2870800000000004, 7.45907, 6.37691, 7.697210000000001, 6.1833599999999995], \"yaxis\": \"y\", \"type\": \"bar\"}, {\"alignmentgroup\": \"True\", \"customdata\": [[9.74277, \"Slovakia\", 2016, \"Human Capital\"], [10.867, \"France\", 2016, \"Human Capital\"], [15.5666, \"Sweden\", 2016, \"Human Capital\"], [11.1315, \"Europe\", 2016, \"Human Capital\"], [8.32975, \"Greece\", 2016, \"Human Capital\"], [11.7351, \"Belgium\", 2016, \"Human Capital\"], [13.9155, \"Estonia\", 2016, \"Human Capital\"], [13.363, \"Luxembourg\", 2016, \"Human Capital\"], [9.87278, \"Hungary\", 2016, \"Human Capital\"], [10.4143, \"Croatia\", 2016, \"Human Capital\"], [18.3585, \"Finland\", 2016, \"Human Capital\"], [8.76808, \"Lithuania\", 2016, \"Human Capital\"], [14.3399, \"United Kingdom\", 2016, \"Human Capital\"], [15.0626, \"Denmark\", 2016, \"Human Capital\"], [8.00569, \"Poland\", 2016, \"Human Capital\"], [11.1397, \"Czech Rep.\", 2016, \"Human Capital\"], [11.3716, \"Spain\", 2016, \"Human Capital\"], [13.8246, \"Netherlands\", 2016, \"Human Capital\"], [13.1446, \"Deutschland\", 2016, \"Human Capital\"], [11.9205, \"Ireland\", 2016, \"Human Capital\"], [10.7067, \"Slovenia\", 2016, \"Human Capital\"], [7.78954, \"Italy\", 2016, \"Human Capital\"], [13.9845, \"Malta\", 2016, \"Human Capital\"], [8.73376, \"Portugal\", 2016, \"Human Capital\"], [8.43621, \"Cyprus\", 2016, \"Human Capital\"], [12.5832, \"Austria\", 2016, \"Human Capital\"], [7.110939999999999, \"Bulgaria\", 2016, \"Human Capital\"], [9.45307, \"Latvia\", 2016, \"Human Capital\"], [6.88903, \"Romania\", 2016, \"Human Capital\"]], \"hovertemplate\": \"<b>%{hovertext}</b><br><br><extra></extra>\", \"hovertext\": [9.74277, 10.867, 15.5666, 11.1315, 8.32975, 11.7351, 13.9155, 13.363, 9.87278, 10.4143, 18.3585, 8.76808, 14.3399, 15.0626, 8.00569, 11.1397, 11.3716, 13.8246, 13.1446, 11.9205, 10.7067, 7.78954, 13.9845, 8.73376, 8.43621, 12.5832, 7.110939999999999, 9.45307, 6.88903], \"ids\": [\"Slovakia\", \"France\", \"Sweden\", \"Europe\", \"Greece\", \"Belgium\", \"Estonia\", \"Luxembourg\", \"Hungary\", \"Croatia\", \"Finland\", \"Lithuania\", \"United Kingdom\", \"Denmark\", \"Poland\", \"Czech Rep.\", \"Spain\", \"Netherlands\", \"Deutschland\", \"Ireland\", \"Slovenia\", \"Italy\", \"Malta\", \"Portugal\", \"Cyprus\", \"Austria\", \"Bulgaria\", \"Latvia\", \"Romania\"], \"legendgroup\": \"Human Capital\", \"marker\": {\"color\": \"#FFA15A\"}, \"name\": \"Human Capital\", \"offsetgroup\": \"Human Capital\", \"orientation\": \"v\", \"showlegend\": true, \"textposition\": \"auto\", \"x\": [\"Slovakia\", \"France\", \"Sweden\", \"Europe\", \"Greece\", \"Belgium\", \"Estonia\", \"Luxembourg\", \"Hungary\", \"Croatia\", \"Finland\", \"Lithuania\", \"United Kingdom\", \"Denmark\", \"Poland\", \"Czech Rep.\", \"Spain\", \"Netherlands\", \"Deutschland\", \"Ireland\", \"Slovenia\", \"Italy\", \"Malta\", \"Portugal\", \"Cyprus\", \"Austria\", \"Bulgaria\", \"Latvia\", \"Romania\"], \"xaxis\": \"x\", \"y\": [9.74277, 10.867, 15.5666, 11.1315, 8.32975, 11.7351, 13.9155, 13.363, 9.87278, 10.4143, 18.3585, 8.76808, 14.3399, 15.0626, 8.00569, 11.1397, 11.3716, 13.8246, 13.1446, 11.9205, 10.7067, 7.78954, 13.9845, 8.73376, 8.43621, 12.5832, 7.110939999999999, 9.45307, 6.88903], \"yaxis\": \"y\", \"type\": \"bar\"}], \"name\": \"2016\"}, {\"data\": [{\"alignmentgroup\": \"True\", \"customdata\": [[8.09246, \"Ireland\", 2017, \"Connectivity\"], [12.5615, \"Latvia\", 2017, \"Connectivity\"], [8.56495, \"Austria\", 2017, \"Connectivity\"], [9.34853, \"Hungary\", 2017, \"Connectivity\"], [9.39356, \"Belgium\", 2017, \"Connectivity\"], [13.2761, \"Luxembourg\", 2017, \"Connectivity\"], [9.7962, \"United Kingdom\", 2017, \"Connectivity\"], [12.2639, \"Sweden\", 2017, \"Connectivity\"], [8.80974, \"Poland\", 2017, \"Connectivity\"], [9.936860000000001, \"Lithuania\", 2017, \"Connectivity\"], [9.68783, \"Malta\", 2017, \"Connectivity\"], [9.018410000000001, \"Slovakia\", 2017, \"Connectivity\"], [10.7291, \"Romania\", 2017, \"Connectivity\"], [12.3536, \"Denmark\", 2017, \"Connectivity\"], [10.6036, \"Finland\", 2017, \"Connectivity\"], [5.86353, \"Greece\", 2017, \"Connectivity\"], [8.46599, \"Bulgaria\", 2017, \"Connectivity\"], [11.3625, \"Estonia\", 2017, \"Connectivity\"], [9.70383, \"Portugal\", 2017, \"Connectivity\"], [8.00891, \"Italy\", 2017, \"Connectivity\"], [11.9343, \"Netherlands\", 2017, \"Connectivity\"], [9.7305, \"Deutschland\", 2017, \"Connectivity\"], [6.822019999999999, \"Cyprus\", 2017, \"Connectivity\"], [10.6297, \"Spain\", 2017, \"Connectivity\"], [10.4567, \"Slovenia\", 2017, \"Connectivity\"], [8.98806, \"Czech Rep.\", 2017, \"Connectivity\"], [8.88166, \"France\", 2017, \"Connectivity\"], [9.27541, \"Europe\", 2017, \"Connectivity\"], [7.51693, \"Croatia\", 2017, \"Connectivity\"]], \"hovertemplate\": \"<b>%{hovertext}</b><br><br><extra></extra>\", \"hovertext\": [8.09246, 12.5615, 8.56495, 9.34853, 9.39356, 13.2761, 9.7962, 12.2639, 8.80974, 9.936860000000001, 9.68783, 9.018410000000001, 10.7291, 12.3536, 10.6036, 5.86353, 8.46599, 11.3625, 9.70383, 8.00891, 11.9343, 9.7305, 6.822019999999999, 10.6297, 10.4567, 8.98806, 8.88166, 9.27541, 7.51693], \"ids\": [\"Ireland\", \"Latvia\", \"Austria\", \"Hungary\", \"Belgium\", \"Luxembourg\", \"United Kingdom\", \"Sweden\", \"Poland\", \"Lithuania\", \"Malta\", \"Slovakia\", \"Romania\", \"Denmark\", \"Finland\", \"Greece\", \"Bulgaria\", \"Estonia\", \"Portugal\", \"Italy\", \"Netherlands\", \"Deutschland\", \"Cyprus\", \"Spain\", \"Slovenia\", \"Czech Rep.\", \"France\", \"Europe\", \"Croatia\"], \"legendgroup\": \"Connectivity\", \"marker\": {\"color\": \"#636efa\"}, \"name\": \"Connectivity\", \"offsetgroup\": \"Connectivity\", \"orientation\": \"v\", \"showlegend\": true, \"textposition\": \"auto\", \"x\": [\"Ireland\", \"Latvia\", \"Austria\", \"Hungary\", \"Belgium\", \"Luxembourg\", \"United Kingdom\", \"Sweden\", \"Poland\", \"Lithuania\", \"Malta\", \"Slovakia\", \"Romania\", \"Denmark\", \"Finland\", \"Greece\", \"Bulgaria\", \"Estonia\", \"Portugal\", \"Italy\", \"Netherlands\", \"Deutschland\", \"Cyprus\", \"Spain\", \"Slovenia\", \"Czech Rep.\", \"France\", \"Europe\", \"Croatia\"], \"xaxis\": \"x\", \"y\": [8.09246, 12.5615, 8.56495, 9.34853, 9.39356, 13.2761, 9.7962, 12.2639, 8.80974, 9.936860000000001, 9.68783, 9.018410000000001, 10.7291, 12.3536, 10.6036, 5.86353, 8.46599, 11.3625, 9.70383, 8.00891, 11.9343, 9.7305, 6.822019999999999, 10.6297, 10.4567, 8.98806, 8.88166, 9.27541, 7.51693], \"yaxis\": \"y\", \"type\": \"bar\"}, {\"alignmentgroup\": \"True\", \"customdata\": [[8.68626, \"Europe\", 2017, \"Digital Public Services\"], [8.13393, \"Poland\", 2017, \"Digital Public Services\"], [8.82518, \"France\", 2017, \"Digital Public Services\"], [11.317, \"Finland\", 2017, \"Digital Public Services\"], [7.94413, \"Deutschland\", 2017, \"Digital Public Services\"], [10.4648, \"Austria\", 2017, \"Digital Public Services\"], [10.4546, \"Spain\", 2017, \"Digital Public Services\"], [6.07955, \"Slovakia\", 2017, \"Digital Public Services\"], [7.9317, \"Slovenia\", 2017, \"Digital Public Services\"], [10.0023, \"Ireland\", 2017, \"Digital Public Services\"], [8.594619999999999, \"Cyprus\", 2017, \"Digital Public Services\"], [11.1792, \"Malta\", 2017, \"Digital Public Services\"], [7.19145, \"Czech Rep.\", 2017, \"Digital Public Services\"], [8.230310000000001, \"United Kingdom\", 2017, \"Digital Public Services\"], [7.37575, \"Luxembourg\", 2017, \"Digital Public Services\"], [5.28336, \"Hungary\", 2017, \"Digital Public Services\"], [8.611189999999999, \"Belgium\", 2017, \"Digital Public Services\"], [5.05756, \"Greece\", 2017, \"Digital Public Services\"], [10.6265, \"Netherlands\", 2017, \"Digital Public Services\"], [6.234719999999999, \"Croatia\", 2017, \"Digital Public Services\"], [11.8067, \"Denmark\", 2017, \"Digital Public Services\"], [6.73895, \"Bulgaria\", 2017, \"Digital Public Services\"], [7.58086, \"Italy\", 2017, \"Digital Public Services\"], [12.1075, \"Estonia\", 2017, \"Digital Public Services\"], [10.4988, \"Lithuania\", 2017, \"Digital Public Services\"], [10.9667, \"Sweden\", 2017, \"Digital Public Services\"], [10.2856, \"Latvia\", 2017, \"Digital Public Services\"], [5.56979, \"Romania\", 2017, \"Digital Public Services\"], [9.9763, \"Portugal\", 2017, \"Digital Public Services\"]], \"hovertemplate\": \"<b>%{hovertext}</b><br><br><extra></extra>\", \"hovertext\": [8.68626, 8.13393, 8.82518, 11.317, 7.94413, 10.4648, 10.4546, 6.07955, 7.9317, 10.0023, 8.594619999999999, 11.1792, 7.19145, 8.230310000000001, 7.37575, 5.28336, 8.611189999999999, 5.05756, 10.6265, 6.234719999999999, 11.8067, 6.73895, 7.58086, 12.1075, 10.4988, 10.9667, 10.2856, 5.56979, 9.9763], \"ids\": [\"Europe\", \"Poland\", \"France\", \"Finland\", \"Deutschland\", \"Austria\", \"Spain\", \"Slovakia\", \"Slovenia\", \"Ireland\", \"Cyprus\", \"Malta\", \"Czech Rep.\", \"United Kingdom\", \"Luxembourg\", \"Hungary\", \"Belgium\", \"Greece\", \"Netherlands\", \"Croatia\", \"Denmark\", \"Bulgaria\", \"Italy\", \"Estonia\", \"Lithuania\", \"Sweden\", \"Latvia\", \"Romania\", \"Portugal\"], \"legendgroup\": \"Digital Public Services\", \"marker\": {\"color\": \"#EF553B\"}, \"name\": \"Digital Public Services\", \"offsetgroup\": \"Digital Public Services\", \"orientation\": \"v\", \"showlegend\": true, \"textposition\": \"auto\", \"x\": [\"Europe\", \"Poland\", \"France\", \"Finland\", \"Deutschland\", \"Austria\", \"Spain\", \"Slovakia\", \"Slovenia\", \"Ireland\", \"Cyprus\", \"Malta\", \"Czech Rep.\", \"United Kingdom\", \"Luxembourg\", \"Hungary\", \"Belgium\", \"Greece\", \"Netherlands\", \"Croatia\", \"Denmark\", \"Bulgaria\", \"Italy\", \"Estonia\", \"Lithuania\", \"Sweden\", \"Latvia\", \"Romania\", \"Portugal\"], \"xaxis\": \"x\", \"y\": [8.68626, 8.13393, 8.82518, 11.317, 7.94413, 10.4648, 10.4546, 6.07955, 7.9317, 10.0023, 8.594619999999999, 11.1792, 7.19145, 8.230310000000001, 7.37575, 5.28336, 8.611189999999999, 5.05756, 10.6265, 6.234719999999999, 11.8067, 6.73895, 7.58086, 12.1075, 10.4988, 10.9667, 10.2856, 5.56979, 9.9763], \"yaxis\": \"y\", \"type\": \"bar\"}, {\"alignmentgroup\": \"True\", \"customdata\": [[7.0746199999999995, \"Slovakia\", 2017, \"Use of Internet Services\"], [8.06832, \"Malta\", 2017, \"Use of Internet Services\"], [3.9367199999999998, \"Romania\", 2017, \"Use of Internet Services\"], [6.3003599999999995, \"Slovenia\", 2017, \"Use of Internet Services\"], [6.0205400000000004, \"Poland\", 2017, \"Use of Internet Services\"], [6.68348, \"Cyprus\", 2017, \"Use of Internet Services\"], [9.83911, \"Netherlands\", 2017, \"Use of Internet Services\"], [9.78275, \"Finland\", 2017, \"Use of Internet Services\"], [7.00011, \"France\", 2017, \"Use of Internet Services\"], [7.97495, \"Deutschland\", 2017, \"Use of Internet Services\"], [6.927919999999999, \"Ireland\", 2017, \"Use of Internet Services\"], [4.63959, \"Bulgaria\", 2017, \"Use of Internet Services\"], [5.61615, \"Greece\", 2017, \"Use of Internet Services\"], [7.358110000000001, \"Europe\", 2017, \"Use of Internet Services\"], [8.92065, \"Estonia\", 2017, \"Use of Internet Services\"], [10.6749, \"Denmark\", 2017, \"Use of Internet Services\"], [6.01727, \"Portugal\", 2017, \"Use of Internet Services\"], [5.332000000000001, \"Italy\", 2017, \"Use of Internet Services\"], [10.2947, \"Sweden\", 2017, \"Use of Internet Services\"], [7.41621, \"Croatia\", 2017, \"Use of Internet Services\"], [6.7415199999999995, \"Czech Rep.\", 2017, \"Use of Internet Services\"], [7.324660000000001, \"Latvia\", 2017, \"Use of Internet Services\"], [7.2713399999999995, \"Hungary\", 2017, \"Use of Internet Services\"], [9.4976, \"Luxembourg\", 2017, \"Use of Internet Services\"], [7.277710000000001, \"Lithuania\", 2017, \"Use of Internet Services\"], [6.894760000000001, \"Austria\", 2017, \"Use of Internet Services\"], [7.33971, \"Spain\", 2017, \"Use of Internet Services\"], [9.3837, \"United Kingdom\", 2017, \"Use of Internet Services\"], [8.007810000000001, \"Belgium\", 2017, \"Use of Internet Services\"]], \"hovertemplate\": \"<b>%{hovertext}</b><br><br><extra></extra>\", \"hovertext\": [7.0746199999999995, 8.06832, 3.9367199999999998, 6.3003599999999995, 6.0205400000000004, 6.68348, 9.83911, 9.78275, 7.00011, 7.97495, 6.927919999999999, 4.63959, 5.61615, 7.358110000000001, 8.92065, 10.6749, 6.01727, 5.332000000000001, 10.2947, 7.41621, 6.7415199999999995, 7.324660000000001, 7.2713399999999995, 9.4976, 7.277710000000001, 6.894760000000001, 7.33971, 9.3837, 8.007810000000001], \"ids\": [\"Slovakia\", \"Malta\", \"Romania\", \"Slovenia\", \"Poland\", \"Cyprus\", \"Netherlands\", \"Finland\", \"France\", \"Deutschland\", \"Ireland\", \"Bulgaria\", \"Greece\", \"Europe\", \"Estonia\", \"Denmark\", \"Portugal\", \"Italy\", \"Sweden\", \"Croatia\", \"Czech Rep.\", \"Latvia\", \"Hungary\", \"Luxembourg\", \"Lithuania\", \"Austria\", \"Spain\", \"United Kingdom\", \"Belgium\"], \"legendgroup\": \"Use of Internet Services\", \"marker\": {\"color\": \"#00cc96\"}, \"name\": \"Use of Internet Services\", \"offsetgroup\": \"Use of Internet Services\", \"orientation\": \"v\", \"showlegend\": true, \"textposition\": \"auto\", \"x\": [\"Slovakia\", \"Malta\", \"Romania\", \"Slovenia\", \"Poland\", \"Cyprus\", \"Netherlands\", \"Finland\", \"France\", \"Deutschland\", \"Ireland\", \"Bulgaria\", \"Greece\", \"Europe\", \"Estonia\", \"Denmark\", \"Portugal\", \"Italy\", \"Sweden\", \"Croatia\", \"Czech Rep.\", \"Latvia\", \"Hungary\", \"Luxembourg\", \"Lithuania\", \"Austria\", \"Spain\", \"United Kingdom\", \"Belgium\"], \"xaxis\": \"x\", \"y\": [7.0746199999999995, 8.06832, 3.9367199999999998, 6.3003599999999995, 6.0205400000000004, 6.68348, 9.83911, 9.78275, 7.00011, 7.97495, 6.927919999999999, 4.63959, 5.61615, 7.358110000000001, 8.92065, 10.6749, 6.01727, 5.332000000000001, 10.2947, 7.41621, 6.7415199999999995, 7.324660000000001, 7.2713399999999995, 9.4976, 7.277710000000001, 6.894760000000001, 7.33971, 9.3837, 8.007810000000001], \"yaxis\": \"y\", \"type\": \"bar\"}, {\"alignmentgroup\": \"True\", \"customdata\": [[3.3140199999999997, \"Bulgaria\", 2017, \"Integration of Digital Technology\"], [11.0816, \"Denmark\", 2017, \"Integration of Digital Technology\"], [10.11, \"Finland\", 2017, \"Integration of Digital Technology\"], [12.0778, \"Ireland\", 2017, \"Integration of Digital Technology\"], [6.28298, \"Austria\", 2017, \"Integration of Digital Technology\"], [8.06484, \"Lithuania\", 2017, \"Integration of Digital Technology\"], [7.930960000000001, \"Portugal\", 2017, \"Integration of Digital Technology\"], [6.84375, \"Estonia\", 2017, \"Integration of Digital Technology\"], [6.16746, \"Luxembourg\", 2017, \"Integration of Digital Technology\"], [9.04071, \"United Kingdom\", 2017, \"Integration of Digital Technology\"], [8.65242, \"Malta\", 2017, \"Integration of Digital Technology\"], [3.92949, \"Poland\", 2017, \"Integration of Digital Technology\"], [7.143439999999999, \"Slovenia\", 2017, \"Integration of Digital Technology\"], [4.58327, \"Hungary\", 2017, \"Integration of Digital Technology\"], [7.13651, \"Europe\", 2017, \"Integration of Digital Technology\"], [10.5127, \"Sweden\", 2017, \"Integration of Digital Technology\"], [6.24406, \"Slovakia\", 2017, \"Integration of Digital Technology\"], [3.97421, \"Romania\", 2017, \"Integration of Digital Technology\"], [7.081639999999999, \"Spain\", 2017, \"Integration of Digital Technology\"], [6.68192, \"Deutschland\", 2017, \"Integration of Digital Technology\"], [10.8322, \"Netherlands\", 2017, \"Integration of Digital Technology\"], [6.0879, \"Cyprus\", 2017, \"Integration of Digital Technology\"], [11.064, \"Belgium\", 2017, \"Integration of Digital Technology\"], [3.9409300000000003, \"Latvia\", 2017, \"Integration of Digital Technology\"], [8.3926, \"Czech Rep.\", 2017, \"Integration of Digital Technology\"], [7.1706, \"France\", 2017, \"Integration of Digital Technology\"], [7.008260000000001, \"Croatia\", 2017, \"Integration of Digital Technology\"], [5.503480000000001, \"Italy\", 2017, \"Integration of Digital Technology\"], [5.49329, \"Greece\", 2017, \"Integration of Digital Technology\"]], \"hovertemplate\": \"<b>%{hovertext}</b><br><br><extra></extra>\", \"hovertext\": [3.3140199999999997, 11.0816, 10.11, 12.0778, 6.28298, 8.06484, 7.930960000000001, 6.84375, 6.16746, 9.04071, 8.65242, 3.92949, 7.143439999999999, 4.58327, 7.13651, 10.5127, 6.24406, 3.97421, 7.081639999999999, 6.68192, 10.8322, 6.0879, 11.064, 3.9409300000000003, 8.3926, 7.1706, 7.008260000000001, 5.503480000000001, 5.49329], \"ids\": [\"Bulgaria\", \"Denmark\", \"Finland\", \"Ireland\", \"Austria\", \"Lithuania\", \"Portugal\", \"Estonia\", \"Luxembourg\", \"United Kingdom\", \"Malta\", \"Poland\", \"Slovenia\", \"Hungary\", \"Europe\", \"Sweden\", \"Slovakia\", \"Romania\", \"Spain\", \"Deutschland\", \"Netherlands\", \"Cyprus\", \"Belgium\", \"Latvia\", \"Czech Rep.\", \"France\", \"Croatia\", \"Italy\", \"Greece\"], \"legendgroup\": \"Integration of Digital Technology\", \"marker\": {\"color\": \"#ab63fa\"}, \"name\": \"Integration of Digital Technology\", \"offsetgroup\": \"Integration of Digital Technology\", \"orientation\": \"v\", \"showlegend\": true, \"textposition\": \"auto\", \"x\": [\"Bulgaria\", \"Denmark\", \"Finland\", \"Ireland\", \"Austria\", \"Lithuania\", \"Portugal\", \"Estonia\", \"Luxembourg\", \"United Kingdom\", \"Malta\", \"Poland\", \"Slovenia\", \"Hungary\", \"Europe\", \"Sweden\", \"Slovakia\", \"Romania\", \"Spain\", \"Deutschland\", \"Netherlands\", \"Cyprus\", \"Belgium\", \"Latvia\", \"Czech Rep.\", \"France\", \"Croatia\", \"Italy\", \"Greece\"], \"xaxis\": \"x\", \"y\": [3.3140199999999997, 11.0816, 10.11, 12.0778, 6.28298, 8.06484, 7.930960000000001, 6.84375, 6.16746, 9.04071, 8.65242, 3.92949, 7.143439999999999, 4.58327, 7.13651, 10.5127, 6.24406, 3.97421, 7.081639999999999, 6.68192, 10.8322, 6.0879, 11.064, 3.9409300000000003, 8.3926, 7.1706, 7.008260000000001, 5.503480000000001, 5.49329], \"yaxis\": \"y\", \"type\": \"bar\"}, {\"alignmentgroup\": \"True\", \"customdata\": [[8.30112, \"Greece\", 2017, \"Human Capital\"], [13.2063, \"Deutschland\", 2017, \"Human Capital\"], [10.5602, \"Spain\", 2017, \"Human Capital\"], [14.4974, \"Netherlands\", 2017, \"Human Capital\"], [10.1544, \"Slovakia\", 2017, \"Human Capital\"], [11.5203, \"Slovenia\", 2017, \"Human Capital\"], [7.7835600000000005, \"Italy\", 2017, \"Human Capital\"], [10.3125, \"Hungary\", 2017, \"Human Capital\"], [11.8504, \"Belgium\", 2017, \"Human Capital\"], [11.3539, \"Europe\", 2017, \"Human Capital\"], [8.554689999999999, \"Cyprus\", 2017, \"Human Capital\"], [13.3078, \"Austria\", 2017, \"Human Capital\"], [11.7612, \"Ireland\", 2017, \"Human Capital\"], [8.62359, \"Poland\", 2017, \"Human Capital\"], [10.0275, \"Latvia\", 2017, \"Human Capital\"], [9.22834, \"Lithuania\", 2017, \"Human Capital\"], [15.8558, \"Sweden\", 2017, \"Human Capital\"], [11.2401, \"France\", 2017, \"Human Capital\"], [10.7035, \"Czech Rep.\", 2017, \"Human Capital\"], [18.6676, \"Finland\", 2017, \"Human Capital\"], [13.9654, \"Estonia\", 2017, \"Human Capital\"], [10.8112, \"Croatia\", 2017, \"Human Capital\"], [14.7625, \"United Kingdom\", 2017, \"Human Capital\"], [7.54426, \"Romania\", 2017, \"Human Capital\"], [14.2652, \"Malta\", 2017, \"Human Capital\"], [8.56166, \"Portugal\", 2017, \"Human Capital\"], [12.9202, \"Luxembourg\", 2017, \"Human Capital\"], [6.81628, \"Bulgaria\", 2017, \"Human Capital\"], [15.6225, \"Denmark\", 2017, \"Human Capital\"]], \"hovertemplate\": \"<b>%{hovertext}</b><br><br><extra></extra>\", \"hovertext\": [8.30112, 13.2063, 10.5602, 14.4974, 10.1544, 11.5203, 7.7835600000000005, 10.3125, 11.8504, 11.3539, 8.554689999999999, 13.3078, 11.7612, 8.62359, 10.0275, 9.22834, 15.8558, 11.2401, 10.7035, 18.6676, 13.9654, 10.8112, 14.7625, 7.54426, 14.2652, 8.56166, 12.9202, 6.81628, 15.6225], \"ids\": [\"Greece\", \"Deutschland\", \"Spain\", \"Netherlands\", \"Slovakia\", \"Slovenia\", \"Italy\", \"Hungary\", \"Belgium\", \"Europe\", \"Cyprus\", \"Austria\", \"Ireland\", \"Poland\", \"Latvia\", \"Lithuania\", \"Sweden\", \"France\", \"Czech Rep.\", \"Finland\", \"Estonia\", \"Croatia\", \"United Kingdom\", \"Romania\", \"Malta\", \"Portugal\", \"Luxembourg\", \"Bulgaria\", \"Denmark\"], \"legendgroup\": \"Human Capital\", \"marker\": {\"color\": \"#FFA15A\"}, \"name\": \"Human Capital\", \"offsetgroup\": \"Human Capital\", \"orientation\": \"v\", \"showlegend\": true, \"textposition\": \"auto\", \"x\": [\"Greece\", \"Deutschland\", \"Spain\", \"Netherlands\", \"Slovakia\", \"Slovenia\", \"Italy\", \"Hungary\", \"Belgium\", \"Europe\", \"Cyprus\", \"Austria\", \"Ireland\", \"Poland\", \"Latvia\", \"Lithuania\", \"Sweden\", \"France\", \"Czech Rep.\", \"Finland\", \"Estonia\", \"Croatia\", \"United Kingdom\", \"Romania\", \"Malta\", \"Portugal\", \"Luxembourg\", \"Bulgaria\", \"Denmark\"], \"xaxis\": \"x\", \"y\": [8.30112, 13.2063, 10.5602, 14.4974, 10.1544, 11.5203, 7.7835600000000005, 10.3125, 11.8504, 11.3539, 8.554689999999999, 13.3078, 11.7612, 8.62359, 10.0275, 9.22834, 15.8558, 11.2401, 10.7035, 18.6676, 13.9654, 10.8112, 14.7625, 7.54426, 14.2652, 8.56166, 12.9202, 6.81628, 15.6225], \"yaxis\": \"y\", \"type\": \"bar\"}], \"name\": \"2017\"}, {\"data\": [{\"alignmentgroup\": \"True\", \"customdata\": [[13.0627, \"Denmark\", 2018, \"Connectivity\"], [8.89374, \"Bulgaria\", 2018, \"Connectivity\"], [9.8546, \"Poland\", 2018, \"Connectivity\"], [10.286, \"Hungary\", 2018, \"Connectivity\"], [9.36298, \"Austria\", 2018, \"Connectivity\"], [11.7695, \"Estonia\", 2018, \"Connectivity\"], [8.98061, \"Ireland\", 2018, \"Connectivity\"], [11.0768, \"Portugal\", 2018, \"Connectivity\"], [12.2024, \"Romania\", 2018, \"Connectivity\"], [10.96, \"Slovenia\", 2018, \"Connectivity\"], [10.6042, \"Malta\", 2018, \"Connectivity\"], [10.8734, \"Lithuania\", 2018, \"Connectivity\"], [9.947460000000001, \"Belgium\", 2018, \"Connectivity\"], [13.3753, \"Sweden\", 2018, \"Connectivity\"], [13.8193, \"Luxembourg\", 2018, \"Connectivity\"], [8.762889999999999, \"Italy\", 2018, \"Connectivity\"], [10.2066, \"United Kingdom\", 2018, \"Connectivity\"], [8.03186, \"Croatia\", 2018, \"Connectivity\"], [7.51196, \"Cyprus\", 2018, \"Connectivity\"], [9.98109, \"Europe\", 2018, \"Connectivity\"], [12.4038, \"Netherlands\", 2018, \"Connectivity\"], [9.85144, \"Czech Rep.\", 2018, \"Connectivity\"], [13.254000000000001, \"Latvia\", 2018, \"Connectivity\"], [10.394, \"Finland\", 2018, \"Connectivity\"], [9.47888, \"Slovakia\", 2018, \"Connectivity\"], [6.491969999999999, \"Greece\", 2018, \"Connectivity\"], [10.1587, \"Deutschland\", 2018, \"Connectivity\"], [11.4875, \"Spain\", 2018, \"Connectivity\"], [9.607560000000001, \"France\", 2018, \"Connectivity\"]], \"hovertemplate\": \"<b>%{hovertext}</b><br><br><extra></extra>\", \"hovertext\": [13.0627, 8.89374, 9.8546, 10.286, 9.36298, 11.7695, 8.98061, 11.0768, 12.2024, 10.96, 10.6042, 10.8734, 9.947460000000001, 13.3753, 13.8193, 8.762889999999999, 10.2066, 8.03186, 7.51196, 9.98109, 12.4038, 9.85144, 13.254000000000001, 10.394, 9.47888, 6.491969999999999, 10.1587, 11.4875, 9.607560000000001], \"ids\": [\"Denmark\", \"Bulgaria\", \"Poland\", \"Hungary\", \"Austria\", \"Estonia\", \"Ireland\", \"Portugal\", \"Romania\", \"Slovenia\", \"Malta\", \"Lithuania\", \"Belgium\", \"Sweden\", \"Luxembourg\", \"Italy\", \"United Kingdom\", \"Croatia\", \"Cyprus\", \"Europe\", \"Netherlands\", \"Czech Rep.\", \"Latvia\", \"Finland\", \"Slovakia\", \"Greece\", \"Deutschland\", \"Spain\", \"France\"], \"legendgroup\": \"Connectivity\", \"marker\": {\"color\": \"#636efa\"}, \"name\": \"Connectivity\", \"offsetgroup\": \"Connectivity\", \"orientation\": \"v\", \"showlegend\": true, \"textposition\": \"auto\", \"x\": [\"Denmark\", \"Bulgaria\", \"Poland\", \"Hungary\", \"Austria\", \"Estonia\", \"Ireland\", \"Portugal\", \"Romania\", \"Slovenia\", \"Malta\", \"Lithuania\", \"Belgium\", \"Sweden\", \"Luxembourg\", \"Italy\", \"United Kingdom\", \"Croatia\", \"Cyprus\", \"Europe\", \"Netherlands\", \"Czech Rep.\", \"Latvia\", \"Finland\", \"Slovakia\", \"Greece\", \"Deutschland\", \"Spain\", \"France\"], \"xaxis\": \"x\", \"y\": [13.0627, 8.89374, 9.8546, 10.286, 9.36298, 11.7695, 8.98061, 11.0768, 12.2024, 10.96, 10.6042, 10.8734, 9.947460000000001, 13.3753, 13.8193, 8.762889999999999, 10.2066, 8.03186, 7.51196, 9.98109, 12.4038, 9.85144, 13.254000000000001, 10.394, 9.47888, 6.491969999999999, 10.1587, 11.4875, 9.607560000000001], \"yaxis\": \"y\", \"type\": \"bar\"}, {\"alignmentgroup\": \"True\", \"customdata\": [[11.4906, \"Spain\", 2018, \"Digital Public Services\"], [12.4471, \"Estonia\", 2018, \"Digital Public Services\"], [9.57715, \"France\", 2018, \"Digital Public Services\"], [11.7511, \"Finland\", 2018, \"Digital Public Services\"], [8.8024, \"Slovenia\", 2018, \"Digital Public Services\"], [10.8414, \"Austria\", 2018, \"Digital Public Services\"], [8.576989999999999, \"Luxembourg\", 2018, \"Digital Public Services\"], [10.6798, \"Ireland\", 2018, \"Digital Public Services\"], [8.45913, \"Deutschland\", 2018, \"Digital Public Services\"], [10.1174, \"Portugal\", 2018, \"Digital Public Services\"], [8.85187, \"United Kingdom\", 2018, \"Digital Public Services\"], [6.53924, \"Hungary\", 2018, \"Digital Public Services\"], [7.869910000000001, \"Bulgaria\", 2018, \"Digital Public Services\"], [8.11169, \"Italy\", 2018, \"Digital Public Services\"], [6.55885, \"Croatia\", 2018, \"Digital Public Services\"], [6.18349, \"Greece\", 2018, \"Digital Public Services\"], [11.995999999999999, \"Denmark\", 2018, \"Digital Public Services\"], [9.32072, \"Cyprus\", 2018, \"Digital Public Services\"], [7.195139999999999, \"Slovakia\", 2018, \"Digital Public Services\"], [8.11524, \"Czech Rep.\", 2018, \"Digital Public Services\"], [11.0246, \"Malta\", 2018, \"Digital Public Services\"], [8.23893, \"Poland\", 2018, \"Digital Public Services\"], [9.27712, \"Europe\", 2018, \"Digital Public Services\"], [11.2158, \"Sweden\", 2018, \"Digital Public Services\"], [9.35437, \"Belgium\", 2018, \"Digital Public Services\"], [11.4877, \"Lithuania\", 2018, \"Digital Public Services\"], [11.1727, \"Latvia\", 2018, \"Digital Public Services\"], [6.16326, \"Romania\", 2018, \"Digital Public Services\"], [11.198, \"Netherlands\", 2018, \"Digital Public Services\"]], \"hovertemplate\": \"<b>%{hovertext}</b><br><br><extra></extra>\", \"hovertext\": [11.4906, 12.4471, 9.57715, 11.7511, 8.8024, 10.8414, 8.576989999999999, 10.6798, 8.45913, 10.1174, 8.85187, 6.53924, 7.869910000000001, 8.11169, 6.55885, 6.18349, 11.995999999999999, 9.32072, 7.195139999999999, 8.11524, 11.0246, 8.23893, 9.27712, 11.2158, 9.35437, 11.4877, 11.1727, 6.16326, 11.198], \"ids\": [\"Spain\", \"Estonia\", \"France\", \"Finland\", \"Slovenia\", \"Austria\", \"Luxembourg\", \"Ireland\", \"Deutschland\", \"Portugal\", \"United Kingdom\", \"Hungary\", \"Bulgaria\", \"Italy\", \"Croatia\", \"Greece\", \"Denmark\", \"Cyprus\", \"Slovakia\", \"Czech Rep.\", \"Malta\", \"Poland\", \"Europe\", \"Sweden\", \"Belgium\", \"Lithuania\", \"Latvia\", \"Romania\", \"Netherlands\"], \"legendgroup\": \"Digital Public Services\", \"marker\": {\"color\": \"#EF553B\"}, \"name\": \"Digital Public Services\", \"offsetgroup\": \"Digital Public Services\", \"orientation\": \"v\", \"showlegend\": true, \"textposition\": \"auto\", \"x\": [\"Spain\", \"Estonia\", \"France\", \"Finland\", \"Slovenia\", \"Austria\", \"Luxembourg\", \"Ireland\", \"Deutschland\", \"Portugal\", \"United Kingdom\", \"Hungary\", \"Bulgaria\", \"Italy\", \"Croatia\", \"Greece\", \"Denmark\", \"Cyprus\", \"Slovakia\", \"Czech Rep.\", \"Malta\", \"Poland\", \"Europe\", \"Sweden\", \"Belgium\", \"Lithuania\", \"Latvia\", \"Romania\", \"Netherlands\"], \"xaxis\": \"x\", \"y\": [11.4906, 12.4471, 9.57715, 11.7511, 8.8024, 10.8414, 8.576989999999999, 10.6798, 8.45913, 10.1174, 8.85187, 6.53924, 7.869910000000001, 8.11169, 6.55885, 6.18349, 11.995999999999999, 9.32072, 7.195139999999999, 8.11524, 11.0246, 8.23893, 9.27712, 11.2158, 9.35437, 11.4877, 11.1727, 6.16326, 11.198], \"yaxis\": \"y\", \"type\": \"bar\"}, {\"alignmentgroup\": \"True\", \"customdata\": [[7.06865, \"Slovenia\", 2018, \"Use of Internet Services\"], [7.50208, \"Ireland\", 2018, \"Use of Internet Services\"], [4.726, \"Romania\", 2018, \"Use of Internet Services\"], [7.49558, \"Austria\", 2018, \"Use of Internet Services\"], [7.30883, \"Slovakia\", 2018, \"Use of Internet Services\"], [8.54256, \"Deutschland\", 2018, \"Use of Internet Services\"], [7.50529, \"Latvia\", 2018, \"Use of Internet Services\"], [6.32446, \"Poland\", 2018, \"Use of Internet Services\"], [7.1497, \"Czech Rep.\", 2018, \"Use of Internet Services\"], [5.10878, \"Bulgaria\", 2018, \"Use of Internet Services\"], [6.48555, \"Portugal\", 2018, \"Use of Internet Services\"], [10.9362, \"Denmark\", 2018, \"Use of Internet Services\"], [8.15123, \"Belgium\", 2018, \"Use of Internet Services\"], [9.22457, \"Estonia\", 2018, \"Use of Internet Services\"], [9.757610000000001, \"Luxembourg\", 2018, \"Use of Internet Services\"], [8.93845, \"Malta\", 2018, \"Use of Internet Services\"], [5.6164, \"Italy\", 2018, \"Use of Internet Services\"], [7.14998, \"Cyprus\", 2018, \"Use of Internet Services\"], [10.2163, \"Finland\", 2018, \"Use of Internet Services\"], [7.622669999999999, \"Lithuania\", 2018, \"Use of Internet Services\"], [7.81349, \"Spain\", 2018, \"Use of Internet Services\"], [7.41752, \"Hungary\", 2018, \"Use of Internet Services\"], [10.4046, \"Netherlands\", 2018, \"Use of Internet Services\"], [9.65558, \"United Kingdom\", 2018, \"Use of Internet Services\"], [11.0503, \"Sweden\", 2018, \"Use of Internet Services\"], [7.270060000000001, \"France\", 2018, \"Use of Internet Services\"], [7.76722, \"Europe\", 2018, \"Use of Internet Services\"], [5.89518, \"Greece\", 2018, \"Use of Internet Services\"], [7.3872, \"Croatia\", 2018, \"Use of Internet Services\"]], \"hovertemplate\": \"<b>%{hovertext}</b><br><br><extra></extra>\", \"hovertext\": [7.06865, 7.50208, 4.726, 7.49558, 7.30883, 8.54256, 7.50529, 6.32446, 7.1497, 5.10878, 6.48555, 10.9362, 8.15123, 9.22457, 9.757610000000001, 8.93845, 5.6164, 7.14998, 10.2163, 7.622669999999999, 7.81349, 7.41752, 10.4046, 9.65558, 11.0503, 7.270060000000001, 7.76722, 5.89518, 7.3872], \"ids\": [\"Slovenia\", \"Ireland\", \"Romania\", \"Austria\", \"Slovakia\", \"Deutschland\", \"Latvia\", \"Poland\", \"Czech Rep.\", \"Bulgaria\", \"Portugal\", \"Denmark\", \"Belgium\", \"Estonia\", \"Luxembourg\", \"Malta\", \"Italy\", \"Cyprus\", \"Finland\", \"Lithuania\", \"Spain\", \"Hungary\", \"Netherlands\", \"United Kingdom\", \"Sweden\", \"France\", \"Europe\", \"Greece\", \"Croatia\"], \"legendgroup\": \"Use of Internet Services\", \"marker\": {\"color\": \"#00cc96\"}, \"name\": \"Use of Internet Services\", \"offsetgroup\": \"Use of Internet Services\", \"orientation\": \"v\", \"showlegend\": true, \"textposition\": \"auto\", \"x\": [\"Slovenia\", \"Ireland\", \"Romania\", \"Austria\", \"Slovakia\", \"Deutschland\", \"Latvia\", \"Poland\", \"Czech Rep.\", \"Bulgaria\", \"Portugal\", \"Denmark\", \"Belgium\", \"Estonia\", \"Luxembourg\", \"Malta\", \"Italy\", \"Cyprus\", \"Finland\", \"Lithuania\", \"Spain\", \"Hungary\", \"Netherlands\", \"United Kingdom\", \"Sweden\", \"France\", \"Europe\", \"Greece\", \"Croatia\"], \"xaxis\": \"x\", \"y\": [7.06865, 7.50208, 4.726, 7.49558, 7.30883, 8.54256, 7.50529, 6.32446, 7.1497, 5.10878, 6.48555, 10.9362, 8.15123, 9.22457, 9.757610000000001, 8.93845, 5.6164, 7.14998, 10.2163, 7.622669999999999, 7.81349, 7.41752, 10.4046, 9.65558, 11.0503, 7.270060000000001, 7.76722, 5.89518, 7.3872], \"yaxis\": \"y\", \"type\": \"bar\"}, {\"alignmentgroup\": \"True\", \"customdata\": [[11.3341, \"Denmark\", 2018, \"Integration of Digital Technology\"], [6.981339999999999, \"Austria\", 2018, \"Integration of Digital Technology\"], [3.66546, \"Bulgaria\", 2018, \"Integration of Digital Technology\"], [8.42347, \"Malta\", 2018, \"Integration of Digital Technology\"], [11.2895, \"Belgium\", 2018, \"Integration of Digital Technology\"], [8.05894, \"Portugal\", 2018, \"Integration of Digital Technology\"], [9.55044, \"United Kingdom\", 2018, \"Integration of Digital Technology\"], [11.3777, \"Finland\", 2018, \"Integration of Digital Technology\"], [6.50546, \"Luxembourg\", 2018, \"Integration of Digital Technology\"], [11.5031, \"Netherlands\", 2018, \"Integration of Digital Technology\"], [7.49062, \"France\", 2018, \"Integration of Digital Technology\"], [9.18684, \"Lithuania\", 2018, \"Integration of Digital Technology\"], [10.8396, \"Sweden\", 2018, \"Integration of Digital Technology\"], [7.7211, \"Estonia\", 2018, \"Integration of Digital Technology\"], [7.64945, \"Slovenia\", 2018, \"Integration of Digital Technology\"], [6.31919, \"Cyprus\", 2018, \"Integration of Digital Technology\"], [8.22947, \"Spain\", 2018, \"Integration of Digital Technology\"], [7.34525, \"Croatia\", 2018, \"Integration of Digital Technology\"], [5.13786, \"Hungary\", 2018, \"Integration of Digital Technology\"], [5.8215699999999995, \"Italy\", 2018, \"Integration of Digital Technology\"], [4.9209, \"Latvia\", 2018, \"Integration of Digital Technology\"], [8.29673, \"Czech Rep.\", 2018, \"Integration of Digital Technology\"], [5.724, \"Greece\", 2018, \"Integration of Digital Technology\"], [4.19566, \"Poland\", 2018, \"Integration of Digital Technology\"], [7.558789999999999, \"Europe\", 2018, \"Integration of Digital Technology\"], [7.166980000000001, \"Deutschland\", 2018, \"Integration of Digital Technology\"], [7.160239999999999, \"Slovakia\", 2018, \"Integration of Digital Technology\"], [12.6899, \"Ireland\", 2018, \"Integration of Digital Technology\"], [4.16514, \"Romania\", 2018, \"Integration of Digital Technology\"]], \"hovertemplate\": \"<b>%{hovertext}</b><br><br><extra></extra>\", \"hovertext\": [11.3341, 6.981339999999999, 3.66546, 8.42347, 11.2895, 8.05894, 9.55044, 11.3777, 6.50546, 11.5031, 7.49062, 9.18684, 10.8396, 7.7211, 7.64945, 6.31919, 8.22947, 7.34525, 5.13786, 5.8215699999999995, 4.9209, 8.29673, 5.724, 4.19566, 7.558789999999999, 7.166980000000001, 7.160239999999999, 12.6899, 4.16514], \"ids\": [\"Denmark\", \"Austria\", \"Bulgaria\", \"Malta\", \"Belgium\", \"Portugal\", \"United Kingdom\", \"Finland\", \"Luxembourg\", \"Netherlands\", \"France\", \"Lithuania\", \"Sweden\", \"Estonia\", \"Slovenia\", \"Cyprus\", \"Spain\", \"Croatia\", \"Hungary\", \"Italy\", \"Latvia\", \"Czech Rep.\", \"Greece\", \"Poland\", \"Europe\", \"Deutschland\", \"Slovakia\", \"Ireland\", \"Romania\"], \"legendgroup\": \"Integration of Digital Technology\", \"marker\": {\"color\": \"#ab63fa\"}, \"name\": \"Integration of Digital Technology\", \"offsetgroup\": \"Integration of Digital Technology\", \"orientation\": \"v\", \"showlegend\": true, \"textposition\": \"auto\", \"x\": [\"Denmark\", \"Austria\", \"Bulgaria\", \"Malta\", \"Belgium\", \"Portugal\", \"United Kingdom\", \"Finland\", \"Luxembourg\", \"Netherlands\", \"France\", \"Lithuania\", \"Sweden\", \"Estonia\", \"Slovenia\", \"Cyprus\", \"Spain\", \"Croatia\", \"Hungary\", \"Italy\", \"Latvia\", \"Czech Rep.\", \"Greece\", \"Poland\", \"Europe\", \"Deutschland\", \"Slovakia\", \"Ireland\", \"Romania\"], \"xaxis\": \"x\", \"y\": [11.3341, 6.981339999999999, 3.66546, 8.42347, 11.2895, 8.05894, 9.55044, 11.3777, 6.50546, 11.5031, 7.49062, 9.18684, 10.8396, 7.7211, 7.64945, 6.31919, 8.22947, 7.34525, 5.13786, 5.8215699999999995, 4.9209, 8.29673, 5.724, 4.19566, 7.558789999999999, 7.166980000000001, 7.160239999999999, 12.6899, 4.16514], \"yaxis\": \"y\", \"type\": \"bar\"}, {\"alignmentgroup\": \"True\", \"customdata\": [[11.2133, \"Spain\", 2018, \"Human Capital\"], [15.2959, \"Netherlands\", 2018, \"Human Capital\"], [7.986000000000001, \"Greece\", 2018, \"Human Capital\"], [10.630999999999998, \"Hungary\", 2018, \"Human Capital\"], [11.46, \"Croatia\", 2018, \"Human Capital\"], [13.5489, \"Deutschland\", 2018, \"Human Capital\"], [11.4171, \"Slovenia\", 2018, \"Human Capital\"], [11.255, \"Czech Rep.\", 2018, \"Human Capital\"], [14.5846, \"Estonia\", 2018, \"Human Capital\"], [11.9016, \"Europe\", 2018, \"Human Capital\"], [7.89124, \"Italy\", 2018, \"Human Capital\"], [13.7792, \"Luxembourg\", 2018, \"Human Capital\"], [11.4057, \"Belgium\", 2018, \"Human Capital\"], [9.99704, \"Latvia\", 2018, \"Human Capital\"], [13.2564, \"Ireland\", 2018, \"Human Capital\"], [7.8659300000000005, \"Romania\", 2018, \"Human Capital\"], [15.1397, \"Denmark\", 2018, \"Human Capital\"], [15.2571, \"United Kingdom\", 2018, \"Human Capital\"], [10.7367, \"Slovakia\", 2018, \"Human Capital\"], [9.060080000000001, \"Portugal\", 2018, \"Human Capital\"], [11.7667, \"France\", 2018, \"Human Capital\"], [17.4854, \"Sweden\", 2018, \"Human Capital\"], [14.319, \"Malta\", 2018, \"Human Capital\"], [13.8416, \"Austria\", 2018, \"Human Capital\"], [10.1871, \"Lithuania\", 2018, \"Human Capital\"], [9.06212, \"Cyprus\", 2018, \"Human Capital\"], [9.05781, \"Poland\", 2018, \"Human Capital\"], [7.92651, \"Bulgaria\", 2018, \"Human Capital\"], [19.0364, \"Finland\", 2018, \"Human Capital\"]], \"hovertemplate\": \"<b>%{hovertext}</b><br><br><extra></extra>\", \"hovertext\": [11.2133, 15.2959, 7.986000000000001, 10.630999999999998, 11.46, 13.5489, 11.4171, 11.255, 14.5846, 11.9016, 7.89124, 13.7792, 11.4057, 9.99704, 13.2564, 7.8659300000000005, 15.1397, 15.2571, 10.7367, 9.060080000000001, 11.7667, 17.4854, 14.319, 13.8416, 10.1871, 9.06212, 9.05781, 7.92651, 19.0364], \"ids\": [\"Spain\", \"Netherlands\", \"Greece\", \"Hungary\", \"Croatia\", \"Deutschland\", \"Slovenia\", \"Czech Rep.\", \"Estonia\", \"Europe\", \"Italy\", \"Luxembourg\", \"Belgium\", \"Latvia\", \"Ireland\", \"Romania\", \"Denmark\", \"United Kingdom\", \"Slovakia\", \"Portugal\", \"France\", \"Sweden\", \"Malta\", \"Austria\", \"Lithuania\", \"Cyprus\", \"Poland\", \"Bulgaria\", \"Finland\"], \"legendgroup\": \"Human Capital\", \"marker\": {\"color\": \"#FFA15A\"}, \"name\": \"Human Capital\", \"offsetgroup\": \"Human Capital\", \"orientation\": \"v\", \"showlegend\": true, \"textposition\": \"auto\", \"x\": [\"Spain\", \"Netherlands\", \"Greece\", \"Hungary\", \"Croatia\", \"Deutschland\", \"Slovenia\", \"Czech Rep.\", \"Estonia\", \"Europe\", \"Italy\", \"Luxembourg\", \"Belgium\", \"Latvia\", \"Ireland\", \"Romania\", \"Denmark\", \"United Kingdom\", \"Slovakia\", \"Portugal\", \"France\", \"Sweden\", \"Malta\", \"Austria\", \"Lithuania\", \"Cyprus\", \"Poland\", \"Bulgaria\", \"Finland\"], \"xaxis\": \"x\", \"y\": [11.2133, 15.2959, 7.986000000000001, 10.630999999999998, 11.46, 13.5489, 11.4171, 11.255, 14.5846, 11.9016, 7.89124, 13.7792, 11.4057, 9.99704, 13.2564, 7.8659300000000005, 15.1397, 15.2571, 10.7367, 9.060080000000001, 11.7667, 17.4854, 14.319, 13.8416, 10.1871, 9.06212, 9.05781, 7.92651, 19.0364], \"yaxis\": \"y\", \"type\": \"bar\"}], \"name\": \"2018\"}, {\"data\": [{\"alignmentgroup\": \"True\", \"customdata\": [[14.2739, \"Luxembourg\", 2019, \"Connectivity\"], [11.9964, \"France\", 2019, \"Connectivity\"], [10.7078, \"United Kingdom\", 2019, \"Connectivity\"], [15.0147, \"Sweden\", 2019, \"Connectivity\"], [10.9627, \"Malta\", 2019, \"Connectivity\"], [9.98193, \"Belgium\", 2019, \"Connectivity\"], [14.7966, \"Denmark\", 2019, \"Connectivity\"], [10.6281, \"Ireland\", 2019, \"Connectivity\"], [11.4819, \"Hungary\", 2019, \"Connectivity\"], [12.0431, \"Italy\", 2019, \"Connectivity\"], [12.1378, \"Slovenia\", 2019, \"Connectivity\"], [10.7095, \"Poland\", 2019, \"Connectivity\"], [12.4861, \"Estonia\", 2019, \"Connectivity\"], [11.9143, \"Deutschland\", 2019, \"Connectivity\"], [12.6313, \"Netherlands\", 2019, \"Connectivity\"], [10.8636, \"Czech Rep.\", 2019, \"Connectivity\"], [14.9456, \"Latvia\", 2019, \"Connectivity\"], [9.910810000000001, \"Slovakia\", 2019, \"Connectivity\"], [11.5014, \"Lithuania\", 2019, \"Connectivity\"], [8.64476, \"Cyprus\", 2019, \"Connectivity\"], [9.30199, \"Croatia\", 2019, \"Connectivity\"], [7.37375, \"Greece\", 2019, \"Connectivity\"], [9.29255, \"Bulgaria\", 2019, \"Connectivity\"], [13.6365, \"Finland\", 2019, \"Connectivity\"], [11.1867, \"Europe\", 2019, \"Connectivity\"], [10.8698, \"Austria\", 2019, \"Connectivity\"], [12.5041, \"Romania\", 2019, \"Connectivity\"], [12.1013, \"Portugal\", 2019, \"Connectivity\"], [13.8499, \"Spain\", 2019, \"Connectivity\"]], \"hovertemplate\": \"<b>%{hovertext}</b><br><br><extra></extra>\", \"hovertext\": [14.2739, 11.9964, 10.7078, 15.0147, 10.9627, 9.98193, 14.7966, 10.6281, 11.4819, 12.0431, 12.1378, 10.7095, 12.4861, 11.9143, 12.6313, 10.8636, 14.9456, 9.910810000000001, 11.5014, 8.64476, 9.30199, 7.37375, 9.29255, 13.6365, 11.1867, 10.8698, 12.5041, 12.1013, 13.8499], \"ids\": [\"Luxembourg\", \"France\", \"United Kingdom\", \"Sweden\", \"Malta\", \"Belgium\", \"Denmark\", \"Ireland\", \"Hungary\", \"Italy\", \"Slovenia\", \"Poland\", \"Estonia\", \"Deutschland\", \"Netherlands\", \"Czech Rep.\", \"Latvia\", \"Slovakia\", \"Lithuania\", \"Cyprus\", \"Croatia\", \"Greece\", \"Bulgaria\", \"Finland\", \"Europe\", \"Austria\", \"Romania\", \"Portugal\", \"Spain\"], \"legendgroup\": \"Connectivity\", \"marker\": {\"color\": \"#636efa\"}, \"name\": \"Connectivity\", \"offsetgroup\": \"Connectivity\", \"orientation\": \"v\", \"showlegend\": true, \"textposition\": \"auto\", \"x\": [\"Luxembourg\", \"France\", \"United Kingdom\", \"Sweden\", \"Malta\", \"Belgium\", \"Denmark\", \"Ireland\", \"Hungary\", \"Italy\", \"Slovenia\", \"Poland\", \"Estonia\", \"Deutschland\", \"Netherlands\", \"Czech Rep.\", \"Latvia\", \"Slovakia\", \"Lithuania\", \"Cyprus\", \"Croatia\", \"Greece\", \"Bulgaria\", \"Finland\", \"Europe\", \"Austria\", \"Romania\", \"Portugal\", \"Spain\"], \"xaxis\": \"x\", \"y\": [14.2739, 11.9964, 10.7078, 15.0147, 10.9627, 9.98193, 14.7966, 10.6281, 11.4819, 12.0431, 12.1378, 10.7095, 12.4861, 11.9143, 12.6313, 10.8636, 14.9456, 9.910810000000001, 11.5014, 8.64476, 9.30199, 7.37375, 9.29255, 13.6365, 11.1867, 10.8698, 12.5041, 12.1013, 13.8499], \"yaxis\": \"y\", \"type\": \"bar\"}, {\"alignmentgroup\": \"True\", \"customdata\": [[8.98333, \"Czech Rep.\", 2019, \"Digital Public Services\"], [11.2849, \"Malta\", 2019, \"Digital Public Services\"], [11.9461, \"Netherlands\", 2019, \"Digital Public Services\"], [11.7185, \"Ireland\", 2019, \"Digital Public Services\"], [9.22891, \"Poland\", 2019, \"Digital Public Services\"], [9.67817, \"Slovenia\", 2019, \"Digital Public Services\"], [11.4431, \"Austria\", 2019, \"Digital Public Services\"], [10.0464, \"Europe\", 2019, \"Digital Public Services\"], [9.289069999999999, \"Italy\", 2019, \"Digital Public Services\"], [9.85138, \"Cyprus\", 2019, \"Digital Public Services\"], [9.73435, \"Luxembourg\", 2019, \"Digital Public Services\"], [11.9122, \"Lithuania\", 2019, \"Digital Public Services\"], [7.60798, \"Hungary\", 2019, \"Digital Public Services\"], [7.62195, \"Croatia\", 2019, \"Digital Public Services\"], [7.6103, \"Slovakia\", 2019, \"Digital Public Services\"], [12.0364, \"Latvia\", 2019, \"Digital Public Services\"], [11.6905, \"Sweden\", 2019, \"Digital Public Services\"], [12.2987, \"Finland\", 2019, \"Digital Public Services\"], [12.135, \"Spain\", 2019, \"Digital Public Services\"], [9.86558, \"Belgium\", 2019, \"Digital Public Services\"], [9.72463, \"United Kingdom\", 2019, \"Digital Public Services\"], [8.82722, \"Deutschland\", 2019, \"Digital Public Services\"], [10.389000000000001, \"France\", 2019, \"Digital Public Services\"], [12.4093, \"Denmark\", 2019, \"Digital Public Services\"], [6.966019999999999, \"Greece\", 2019, \"Digital Public Services\"], [8.470930000000001, \"Bulgaria\", 2019, \"Digital Public Services\"], [12.7446, \"Estonia\", 2019, \"Digital Public Services\"], [11.015999999999998, \"Portugal\", 2019, \"Digital Public Services\"], [6.74879, \"Romania\", 2019, \"Digital Public Services\"]], \"hovertemplate\": \"<b>%{hovertext}</b><br><br><extra></extra>\", \"hovertext\": [8.98333, 11.2849, 11.9461, 11.7185, 9.22891, 9.67817, 11.4431, 10.0464, 9.289069999999999, 9.85138, 9.73435, 11.9122, 7.60798, 7.62195, 7.6103, 12.0364, 11.6905, 12.2987, 12.135, 9.86558, 9.72463, 8.82722, 10.389000000000001, 12.4093, 6.966019999999999, 8.470930000000001, 12.7446, 11.015999999999998, 6.74879], \"ids\": [\"Czech Rep.\", \"Malta\", \"Netherlands\", \"Ireland\", \"Poland\", \"Slovenia\", \"Austria\", \"Europe\", \"Italy\", \"Cyprus\", \"Luxembourg\", \"Lithuania\", \"Hungary\", \"Croatia\", \"Slovakia\", \"Latvia\", \"Sweden\", \"Finland\", \"Spain\", \"Belgium\", \"United Kingdom\", \"Deutschland\", \"France\", \"Denmark\", \"Greece\", \"Bulgaria\", \"Estonia\", \"Portugal\", \"Romania\"], \"legendgroup\": \"Digital Public Services\", \"marker\": {\"color\": \"#EF553B\"}, \"name\": \"Digital Public Services\", \"offsetgroup\": \"Digital Public Services\", \"orientation\": \"v\", \"showlegend\": true, \"textposition\": \"auto\", \"x\": [\"Czech Rep.\", \"Malta\", \"Netherlands\", \"Ireland\", \"Poland\", \"Slovenia\", \"Austria\", \"Europe\", \"Italy\", \"Cyprus\", \"Luxembourg\", \"Lithuania\", \"Hungary\", \"Croatia\", \"Slovakia\", \"Latvia\", \"Sweden\", \"Finland\", \"Spain\", \"Belgium\", \"United Kingdom\", \"Deutschland\", \"France\", \"Denmark\", \"Greece\", \"Bulgaria\", \"Estonia\", \"Portugal\", \"Romania\"], \"xaxis\": \"x\", \"y\": [8.98333, 11.2849, 11.9461, 11.7185, 9.22891, 9.67817, 11.4431, 10.0464, 9.289069999999999, 9.85138, 9.73435, 11.9122, 7.60798, 7.62195, 7.6103, 12.0364, 11.6905, 12.2987, 12.135, 9.86558, 9.72463, 8.82722, 10.389000000000001, 12.4093, 6.966019999999999, 8.470930000000001, 12.7446, 11.015999999999998, 6.74879], \"yaxis\": \"y\", \"type\": \"bar\"}, {\"alignmentgroup\": \"True\", \"customdata\": [[7.59444, \"Cyprus\", 2019, \"Use of Internet Services\"], [9.46973, \"Estonia\", 2019, \"Use of Internet Services\"], [7.48538, \"France\", 2019, \"Use of Internet Services\"], [8.26719, \"Spain\", 2019, \"Use of Internet Services\"], [7.68998, \"Czech Rep.\", 2019, \"Use of Internet Services\"], [10.7724, \"Finland\", 2019, \"Use of Internet Services\"], [7.90497, \"Latvia\", 2019, \"Use of Internet Services\"], [6.25246, \"Italy\", 2019, \"Use of Internet Services\"], [10.995999999999999, \"Netherlands\", 2019, \"Use of Internet Services\"], [11.2871, \"Denmark\", 2019, \"Use of Internet Services\"], [7.46846, \"Slovenia\", 2019, \"Use of Internet Services\"], [8.00464, \"Croatia\", 2019, \"Use of Internet Services\"], [7.88162, \"Austria\", 2019, \"Use of Internet Services\"], [6.869160000000001, \"Poland\", 2019, \"Use of Internet Services\"], [9.35361, \"Malta\", 2019, \"Use of Internet Services\"], [7.696789999999999, \"Slovakia\", 2019, \"Use of Internet Services\"], [8.33084, \"Lithuania\", 2019, \"Use of Internet Services\"], [5.244759999999999, \"Romania\", 2019, \"Use of Internet Services\"], [7.67852, \"Hungary\", 2019, \"Use of Internet Services\"], [8.42495, \"Belgium\", 2019, \"Use of Internet Services\"], [11.2513, \"Sweden\", 2019, \"Use of Internet Services\"], [6.7854600000000005, \"Portugal\", 2019, \"Use of Internet Services\"], [8.632719999999999, \"Luxembourg\", 2019, \"Use of Internet Services\"], [10.3452, \"United Kingdom\", 2019, \"Use of Internet Services\"], [6.49859, \"Greece\", 2019, \"Use of Internet Services\"], [9.04382, \"Deutschland\", 2019, \"Use of Internet Services\"], [5.50705, \"Bulgaria\", 2019, \"Use of Internet Services\"], [8.25158, \"Europe\", 2019, \"Use of Internet Services\"], [8.31115, \"Ireland\", 2019, \"Use of Internet Services\"]], \"hovertemplate\": \"<b>%{hovertext}</b><br><br><extra></extra>\", \"hovertext\": [7.59444, 9.46973, 7.48538, 8.26719, 7.68998, 10.7724, 7.90497, 6.25246, 10.995999999999999, 11.2871, 7.46846, 8.00464, 7.88162, 6.869160000000001, 9.35361, 7.696789999999999, 8.33084, 5.244759999999999, 7.67852, 8.42495, 11.2513, 6.7854600000000005, 8.632719999999999, 10.3452, 6.49859, 9.04382, 5.50705, 8.25158, 8.31115], \"ids\": [\"Cyprus\", \"Estonia\", \"France\", \"Spain\", \"Czech Rep.\", \"Finland\", \"Latvia\", \"Italy\", \"Netherlands\", \"Denmark\", \"Slovenia\", \"Croatia\", \"Austria\", \"Poland\", \"Malta\", \"Slovakia\", \"Lithuania\", \"Romania\", \"Hungary\", \"Belgium\", \"Sweden\", \"Portugal\", \"Luxembourg\", \"United Kingdom\", \"Greece\", \"Deutschland\", \"Bulgaria\", \"Europe\", \"Ireland\"], \"legendgroup\": \"Use of Internet Services\", \"marker\": {\"color\": \"#00cc96\"}, \"name\": \"Use of Internet Services\", \"offsetgroup\": \"Use of Internet Services\", \"orientation\": \"v\", \"showlegend\": true, \"textposition\": \"auto\", \"x\": [\"Cyprus\", \"Estonia\", \"France\", \"Spain\", \"Czech Rep.\", \"Finland\", \"Latvia\", \"Italy\", \"Netherlands\", \"Denmark\", \"Slovenia\", \"Croatia\", \"Austria\", \"Poland\", \"Malta\", \"Slovakia\", \"Lithuania\", \"Romania\", \"Hungary\", \"Belgium\", \"Sweden\", \"Portugal\", \"Luxembourg\", \"United Kingdom\", \"Greece\", \"Deutschland\", \"Bulgaria\", \"Europe\", \"Ireland\"], \"xaxis\": \"x\", \"y\": [7.59444, 9.46973, 7.48538, 8.26719, 7.68998, 10.7724, 7.90497, 6.25246, 10.995999999999999, 11.2871, 7.46846, 8.00464, 7.88162, 6.869160000000001, 9.35361, 7.696789999999999, 8.33084, 5.244759999999999, 7.67852, 8.42495, 11.2513, 6.7854600000000005, 8.632719999999999, 10.3452, 6.49859, 9.04382, 5.50705, 8.25158, 8.31115], \"yaxis\": \"y\", \"type\": \"bar\"}, {\"alignmentgroup\": \"True\", \"customdata\": [[4.26419, \"Romania\", 2019, \"Integration of Digital Technology\"], [12.28, \"Belgium\", 2019, \"Integration of Digital Technology\"], [12.0295, \"Finland\", 2019, \"Integration of Digital Technology\"], [9.51275, \"Lithuania\", 2019, \"Integration of Digital Technology\"], [13.8237, \"Ireland\", 2019, \"Integration of Digital Technology\"], [12.2375, \"Denmark\", 2019, \"Integration of Digital Technology\"], [3.37848, \"Bulgaria\", 2019, \"Integration of Digital Technology\"], [4.94057, \"Latvia\", 2019, \"Integration of Digital Technology\"], [4.70142, \"Poland\", 2019, \"Integration of Digital Technology\"], [8.54251, \"Czech Rep.\", 2019, \"Integration of Digital Technology\"], [10.4031, \"United Kingdom\", 2019, \"Integration of Digital Technology\"], [7.96787, \"Estonia\", 2019, \"Integration of Digital Technology\"], [6.70158, \"Cyprus\", 2019, \"Integration of Digital Technology\"], [6.04896, \"Greece\", 2019, \"Integration of Digital Technology\"], [6.612419999999999, \"Slovakia\", 2019, \"Integration of Digital Technology\"], [8.256739999999999, \"Spain\", 2019, \"Integration of Digital Technology\"], [7.82335, \"Slovenia\", 2019, \"Integration of Digital Technology\"], [12.5225, \"Netherlands\", 2019, \"Integration of Digital Technology\"], [4.9701900000000006, \"Hungary\", 2019, \"Integration of Digital Technology\"], [6.00481, \"Italy\", 2019, \"Integration of Digital Technology\"], [7.8313, \"Deutschland\", 2019, \"Integration of Digital Technology\"], [7.705419999999999, \"Croatia\", 2019, \"Integration of Digital Technology\"], [6.95489, \"Austria\", 2019, \"Integration of Digital Technology\"], [7.95291, \"Europe\", 2019, \"Integration of Digital Technology\"], [8.28075, \"Portugal\", 2019, \"Integration of Digital Technology\"], [8.15121, \"France\", 2019, \"Integration of Digital Technology\"], [11.5879, \"Sweden\", 2019, \"Integration of Digital Technology\"], [9.92234, \"Malta\", 2019, \"Integration of Digital Technology\"], [7.48482, \"Luxembourg\", 2019, \"Integration of Digital Technology\"]], \"hovertemplate\": \"<b>%{hovertext}</b><br><br><extra></extra>\", \"hovertext\": [4.26419, 12.28, 12.0295, 9.51275, 13.8237, 12.2375, 3.37848, 4.94057, 4.70142, 8.54251, 10.4031, 7.96787, 6.70158, 6.04896, 6.612419999999999, 8.256739999999999, 7.82335, 12.5225, 4.9701900000000006, 6.00481, 7.8313, 7.705419999999999, 6.95489, 7.95291, 8.28075, 8.15121, 11.5879, 9.92234, 7.48482], \"ids\": [\"Romania\", \"Belgium\", \"Finland\", \"Lithuania\", \"Ireland\", \"Denmark\", \"Bulgaria\", \"Latvia\", \"Poland\", \"Czech Rep.\", \"United Kingdom\", \"Estonia\", \"Cyprus\", \"Greece\", \"Slovakia\", \"Spain\", \"Slovenia\", \"Netherlands\", \"Hungary\", \"Italy\", \"Deutschland\", \"Croatia\", \"Austria\", \"Europe\", \"Portugal\", \"France\", \"Sweden\", \"Malta\", \"Luxembourg\"], \"legendgroup\": \"Integration of Digital Technology\", \"marker\": {\"color\": \"#ab63fa\"}, \"name\": \"Integration of Digital Technology\", \"offsetgroup\": \"Integration of Digital Technology\", \"orientation\": \"v\", \"showlegend\": true, \"textposition\": \"auto\", \"x\": [\"Romania\", \"Belgium\", \"Finland\", \"Lithuania\", \"Ireland\", \"Denmark\", \"Bulgaria\", \"Latvia\", \"Poland\", \"Czech Rep.\", \"United Kingdom\", \"Estonia\", \"Cyprus\", \"Greece\", \"Slovakia\", \"Spain\", \"Slovenia\", \"Netherlands\", \"Hungary\", \"Italy\", \"Deutschland\", \"Croatia\", \"Austria\", \"Europe\", \"Portugal\", \"France\", \"Sweden\", \"Malta\", \"Luxembourg\"], \"xaxis\": \"x\", \"y\": [4.26419, 12.28, 12.0295, 9.51275, 13.8237, 12.2375, 3.37848, 4.94057, 4.70142, 8.54251, 10.4031, 7.96787, 6.70158, 6.04896, 6.612419999999999, 8.256739999999999, 7.82335, 12.5225, 4.9701900000000006, 6.00481, 7.8313, 7.705419999999999, 6.95489, 7.95291, 8.28075, 8.15121, 11.5879, 9.92234, 7.48482], \"yaxis\": \"y\", \"type\": \"bar\"}, {\"alignmentgroup\": \"True\", \"customdata\": [[8.007060000000001, \"Italy\", 2019, \"Human Capital\"], [15.4998, \"Netherlands\", 2019, \"Human Capital\"], [11.5829, \"Slovenia\", 2019, \"Human Capital\"], [11.1238, \"Spain\", 2019, \"Human Capital\"], [12.4039, \"Belgium\", 2019, \"Human Capital\"], [13.6077, \"Deutschland\", 2019, \"Human Capital\"], [17.9074, \"Sweden\", 2019, \"Human Capital\"], [11.0483, \"Slovakia\", 2019, \"Human Capital\"], [7.12805, \"Bulgaria\", 2019, \"Human Capital\"], [13.9133, \"Austria\", 2019, \"Human Capital\"], [10.1114, \"Latvia\", 2019, \"Human Capital\"], [15.6117, \"Estonia\", 2019, \"Human Capital\"], [14.3533, \"Luxembourg\", 2019, \"Human Capital\"], [11.2026, \"Czech Rep.\", 2019, \"Human Capital\"], [13.7622, \"Malta\", 2019, \"Human Capital\"], [15.4052, \"United Kingdom\", 2019, \"Human Capital\"], [8.80688, \"Portugal\", 2019, \"Human Capital\"], [7.77146, \"Romania\", 2019, \"Human Capital\"], [11.7536, \"France\", 2019, \"Human Capital\"], [10.5455, \"Lithuania\", 2019, \"Human Capital\"], [8.1871, \"Greece\", 2019, \"Human Capital\"], [10.5298, \"Hungary\", 2019, \"Human Capital\"], [11.9732, \"Europe\", 2019, \"Human Capital\"], [19.3848, \"Finland\", 2019, \"Human Capital\"], [11.705, \"Croatia\", 2019, \"Human Capital\"], [13.5395, \"Ireland\", 2019, \"Human Capital\"], [15.2873, \"Denmark\", 2019, \"Human Capital\"], [9.2114, \"Poland\", 2019, \"Human Capital\"], [8.66126, \"Cyprus\", 2019, \"Human Capital\"]], \"hovertemplate\": \"<b>%{hovertext}</b><br><br><extra></extra>\", \"hovertext\": [8.007060000000001, 15.4998, 11.5829, 11.1238, 12.4039, 13.6077, 17.9074, 11.0483, 7.12805, 13.9133, 10.1114, 15.6117, 14.3533, 11.2026, 13.7622, 15.4052, 8.80688, 7.77146, 11.7536, 10.5455, 8.1871, 10.5298, 11.9732, 19.3848, 11.705, 13.5395, 15.2873, 9.2114, 8.66126], \"ids\": [\"Italy\", \"Netherlands\", \"Slovenia\", \"Spain\", \"Belgium\", \"Deutschland\", \"Sweden\", \"Slovakia\", \"Bulgaria\", \"Austria\", \"Latvia\", \"Estonia\", \"Luxembourg\", \"Czech Rep.\", \"Malta\", \"United Kingdom\", \"Portugal\", \"Romania\", \"France\", \"Lithuania\", \"Greece\", \"Hungary\", \"Europe\", \"Finland\", \"Croatia\", \"Ireland\", \"Denmark\", \"Poland\", \"Cyprus\"], \"legendgroup\": \"Human Capital\", \"marker\": {\"color\": \"#FFA15A\"}, \"name\": \"Human Capital\", \"offsetgroup\": \"Human Capital\", \"orientation\": \"v\", \"showlegend\": true, \"textposition\": \"auto\", \"x\": [\"Italy\", \"Netherlands\", \"Slovenia\", \"Spain\", \"Belgium\", \"Deutschland\", \"Sweden\", \"Slovakia\", \"Bulgaria\", \"Austria\", \"Latvia\", \"Estonia\", \"Luxembourg\", \"Czech Rep.\", \"Malta\", \"United Kingdom\", \"Portugal\", \"Romania\", \"France\", \"Lithuania\", \"Greece\", \"Hungary\", \"Europe\", \"Finland\", \"Croatia\", \"Ireland\", \"Denmark\", \"Poland\", \"Cyprus\"], \"xaxis\": \"x\", \"y\": [8.007060000000001, 15.4998, 11.5829, 11.1238, 12.4039, 13.6077, 17.9074, 11.0483, 7.12805, 13.9133, 10.1114, 15.6117, 14.3533, 11.2026, 13.7622, 15.4052, 8.80688, 7.77146, 11.7536, 10.5455, 8.1871, 10.5298, 11.9732, 19.3848, 11.705, 13.5395, 15.2873, 9.2114, 8.66126], \"yaxis\": \"y\", \"type\": \"bar\"}], \"name\": \"2019\"}, {\"data\": [{\"alignmentgroup\": \"True\", \"customdata\": [[16.4551, \"Denmark\", 2020, \"Connectivity\"], [12.5581, \"Slovenia\", 2020, \"Connectivity\"], [14.8489, \"Deutschland\", 2020, \"Connectivity\"], [15.0807, \"Netherlands\", 2020, \"Connectivity\"], [8.34223, \"Greece\", 2020, \"Connectivity\"], [14.6796, \"Malta\", 2020, \"Connectivity\"], [11.2203, \"Czech Rep.\", 2020, \"Connectivity\"], [12.5146, \"Europe\", 2020, \"Connectivity\"], [13.4802, \"Portugal\", 2020, \"Connectivity\"], [9.6238, \"Bulgaria\", 2020, \"Connectivity\"], [10.2882, \"Croatia\", 2020, \"Connectivity\"], [9.614339999999999, \"Cyprus\", 2020, \"Connectivity\"], [12.964, \"Estonia\", 2020, \"Connectivity\"], [11.7886, \"Austria\", 2020, \"Connectivity\"], [14.7929, \"Finland\", 2020, \"Connectivity\"], [12.8358, \"Poland\", 2020, \"Connectivity\"], [11.4228, \"Ireland\", 2020, \"Connectivity\"], [14.9468, \"Hungary\", 2020, \"Connectivity\"], [12.4966, \"Italy\", 2020, \"Connectivity\"], [15.1985, \"Spain\", 2020, \"Connectivity\"], [14.0463, \"Romania\", 2020, \"Connectivity\"], [15.4403, \"Latvia\", 2020, \"Connectivity\"], [16.0923, \"Sweden\", 2020, \"Connectivity\"], [15.8372, \"Luxembourg\", 2020, \"Connectivity\"], [12.2205, \"Lithuania\", 2020, \"Connectivity\"], [13.0068, \"Belgium\", 2020, \"Connectivity\"], [11.8659, \"Slovakia\", 2020, \"Connectivity\"], [12.2045, \"United Kingdom\", 2020, \"Connectivity\"], [12.460999999999999, \"France\", 2020, \"Connectivity\"]], \"hovertemplate\": \"<b>%{hovertext}</b><br><br><extra></extra>\", \"hovertext\": [16.4551, 12.5581, 14.8489, 15.0807, 8.34223, 14.6796, 11.2203, 12.5146, 13.4802, 9.6238, 10.2882, 9.614339999999999, 12.964, 11.7886, 14.7929, 12.8358, 11.4228, 14.9468, 12.4966, 15.1985, 14.0463, 15.4403, 16.0923, 15.8372, 12.2205, 13.0068, 11.8659, 12.2045, 12.460999999999999], \"ids\": [\"Denmark\", \"Slovenia\", \"Deutschland\", \"Netherlands\", \"Greece\", \"Malta\", \"Czech Rep.\", \"Europe\", \"Portugal\", \"Bulgaria\", \"Croatia\", \"Cyprus\", \"Estonia\", \"Austria\", \"Finland\", \"Poland\", \"Ireland\", \"Hungary\", \"Italy\", \"Spain\", \"Romania\", \"Latvia\", \"Sweden\", \"Luxembourg\", \"Lithuania\", \"Belgium\", \"Slovakia\", \"United Kingdom\", \"France\"], \"legendgroup\": \"Connectivity\", \"marker\": {\"color\": \"#636efa\"}, \"name\": \"Connectivity\", \"offsetgroup\": \"Connectivity\", \"orientation\": \"v\", \"showlegend\": true, \"textposition\": \"auto\", \"x\": [\"Denmark\", \"Slovenia\", \"Deutschland\", \"Netherlands\", \"Greece\", \"Malta\", \"Czech Rep.\", \"Europe\", \"Portugal\", \"Bulgaria\", \"Croatia\", \"Cyprus\", \"Estonia\", \"Austria\", \"Finland\", \"Poland\", \"Ireland\", \"Hungary\", \"Italy\", \"Spain\", \"Romania\", \"Latvia\", \"Sweden\", \"Luxembourg\", \"Lithuania\", \"Belgium\", \"Slovakia\", \"United Kingdom\", \"France\"], \"xaxis\": \"x\", \"y\": [16.4551, 12.5581, 14.8489, 15.0807, 8.34223, 14.6796, 11.2203, 12.5146, 13.4802, 9.6238, 10.2882, 9.614339999999999, 12.964, 11.7886, 14.7929, 12.8358, 11.4228, 14.9468, 12.4966, 15.1985, 14.0463, 15.4403, 16.0923, 15.8372, 12.2205, 13.0068, 11.8659, 12.2045, 12.460999999999999], \"yaxis\": \"y\", \"type\": \"bar\"}, {\"alignmentgroup\": \"True\", \"customdata\": [[12.7595, \"Latvia\", 2020, \"Digital Public Services\"], [9.35661, \"Czech Rep.\", 2020, \"Digital Public Services\"], [12.1441, \"Netherlands\", 2020, \"Digital Public Services\"], [10.8, \"Europe\", 2020, \"Digital Public Services\"], [13.0695, \"Denmark\", 2020, \"Digital Public Services\"], [11.2681, \"Portugal\", 2020, \"Digital Public Services\"], [11.5063, \"France\", 2020, \"Digital Public Services\"], [10.6158, \"United Kingdom\", 2020, \"Digital Public Services\"], [7.26127, \"Romania\", 2020, \"Digital Public Services\"], [7.72501, \"Greece\", 2020, \"Digital Public Services\"], [8.36315, \"Croatia\", 2020, \"Digital Public Services\"], [10.1218, \"Italy\", 2020, \"Digital Public Services\"], [11.0612, \"Luxembourg\", 2020, \"Digital Public Services\"], [12.0943, \"Ireland\", 2020, \"Digital Public Services\"], [10.1111, \"Poland\", 2020, \"Digital Public Services\"], [8.34183, \"Slovakia\", 2020, \"Digital Public Services\"], [9.95575, \"Deutschland\", 2020, \"Digital Public Services\"], [10.7597, \"Belgium\", 2020, \"Digital Public Services\"], [13.0913, \"Spain\", 2020, \"Digital Public Services\"], [10.3433, \"Cyprus\", 2020, \"Digital Public Services\"], [11.7193, \"Malta\", 2020, \"Digital Public Services\"], [9.26416, \"Bulgaria\", 2020, \"Digital Public Services\"], [8.66502, \"Hungary\", 2020, \"Digital Public Services\"], [10.6132, \"Slovenia\", 2020, \"Digital Public Services\"], [12.2169, \"Lithuania\", 2020, \"Digital Public Services\"], [12.1253, \"Austria\", 2020, \"Digital Public Services\"], [11.9012, \"Sweden\", 2020, \"Digital Public Services\"], [13.4001, \"Estonia\", 2020, \"Digital Public Services\"], [13.0492, \"Finland\", 2020, \"Digital Public Services\"]], \"hovertemplate\": \"<b>%{hovertext}</b><br><br><extra></extra>\", \"hovertext\": [12.7595, 9.35661, 12.1441, 10.8, 13.0695, 11.2681, 11.5063, 10.6158, 7.26127, 7.72501, 8.36315, 10.1218, 11.0612, 12.0943, 10.1111, 8.34183, 9.95575, 10.7597, 13.0913, 10.3433, 11.7193, 9.26416, 8.66502, 10.6132, 12.2169, 12.1253, 11.9012, 13.4001, 13.0492], \"ids\": [\"Latvia\", \"Czech Rep.\", \"Netherlands\", \"Europe\", \"Denmark\", \"Portugal\", \"France\", \"United Kingdom\", \"Romania\", \"Greece\", \"Croatia\", \"Italy\", \"Luxembourg\", \"Ireland\", \"Poland\", \"Slovakia\", \"Deutschland\", \"Belgium\", \"Spain\", \"Cyprus\", \"Malta\", \"Bulgaria\", \"Hungary\", \"Slovenia\", \"Lithuania\", \"Austria\", \"Sweden\", \"Estonia\", \"Finland\"], \"legendgroup\": \"Digital Public Services\", \"marker\": {\"color\": \"#EF553B\"}, \"name\": \"Digital Public Services\", \"offsetgroup\": \"Digital Public Services\", \"orientation\": \"v\", \"showlegend\": true, \"textposition\": \"auto\", \"x\": [\"Latvia\", \"Czech Rep.\", \"Netherlands\", \"Europe\", \"Denmark\", \"Portugal\", \"France\", \"United Kingdom\", \"Romania\", \"Greece\", \"Croatia\", \"Italy\", \"Luxembourg\", \"Ireland\", \"Poland\", \"Slovakia\", \"Deutschland\", \"Belgium\", \"Spain\", \"Cyprus\", \"Malta\", \"Bulgaria\", \"Hungary\", \"Slovenia\", \"Lithuania\", \"Austria\", \"Sweden\", \"Estonia\", \"Finland\"], \"xaxis\": \"x\", \"y\": [12.7595, 9.35661, 12.1441, 10.8, 13.0695, 11.2681, 11.5063, 10.6158, 7.26127, 7.72501, 8.36315, 10.1218, 11.0612, 12.0943, 10.1111, 8.34183, 9.95575, 10.7597, 13.0913, 10.3433, 11.7193, 9.26416, 8.66502, 10.6132, 12.2169, 12.1253, 11.9012, 13.4001, 13.0492], \"yaxis\": \"y\", \"type\": \"bar\"}, {\"alignmentgroup\": \"True\", \"customdata\": [[8.12155, \"Czech Rep.\", 2020, \"Use of Internet Services\"], [8.09762, \"Latvia\", 2020, \"Use of Internet Services\"], [7.4458899999999995, \"Poland\", 2020, \"Use of Internet Services\"], [5.4973, \"Bulgaria\", 2020, \"Use of Internet Services\"], [8.102960000000001, \"Austria\", 2020, \"Use of Internet Services\"], [11.3931, \"Sweden\", 2020, \"Use of Internet Services\"], [9.31329, \"Ireland\", 2020, \"Use of Internet Services\"], [10.9968, \"United Kingdom\", 2020, \"Use of Internet Services\"], [8.827630000000001, \"Luxembourg\", 2020, \"Use of Internet Services\"], [7.75714, \"Slovenia\", 2020, \"Use of Internet Services\"], [11.4512, \"Finland\", 2020, \"Use of Internet Services\"], [7.95892, \"France\", 2020, \"Use of Internet Services\"], [8.59822, \"Lithuania\", 2020, \"Use of Internet Services\"], [6.91335, \"Greece\", 2020, \"Use of Internet Services\"], [8.70398, \"Europe\", 2020, \"Use of Internet Services\"], [9.88537, \"Malta\", 2020, \"Use of Internet Services\"], [9.23478, \"Deutschland\", 2020, \"Use of Internet Services\"], [8.17172, \"Cyprus\", 2020, \"Use of Internet Services\"], [8.32179, \"Croatia\", 2020, \"Use of Internet Services\"], [11.2805, \"Netherlands\", 2020, \"Use of Internet Services\"], [9.11638, \"Spain\", 2020, \"Use of Internet Services\"], [11.273, \"Denmark\", 2020, \"Use of Internet Services\"], [9.17408, \"Belgium\", 2020, \"Use of Internet Services\"], [8.00468, \"Slovakia\", 2020, \"Use of Internet Services\"], [5.38408, \"Romania\", 2020, \"Use of Internet Services\"], [6.67212, \"Italy\", 2020, \"Use of Internet Services\"], [8.384780000000001, \"Hungary\", 2020, \"Use of Internet Services\"], [7.213239999999999, \"Portugal\", 2020, \"Use of Internet Services\"], [9.812289999999999, \"Estonia\", 2020, \"Use of Internet Services\"]], \"hovertemplate\": \"<b>%{hovertext}</b><br><br><extra></extra>\", \"hovertext\": [8.12155, 8.09762, 7.4458899999999995, 5.4973, 8.102960000000001, 11.3931, 9.31329, 10.9968, 8.827630000000001, 7.75714, 11.4512, 7.95892, 8.59822, 6.91335, 8.70398, 9.88537, 9.23478, 8.17172, 8.32179, 11.2805, 9.11638, 11.273, 9.17408, 8.00468, 5.38408, 6.67212, 8.384780000000001, 7.213239999999999, 9.812289999999999], \"ids\": [\"Czech Rep.\", \"Latvia\", \"Poland\", \"Bulgaria\", \"Austria\", \"Sweden\", \"Ireland\", \"United Kingdom\", \"Luxembourg\", \"Slovenia\", \"Finland\", \"France\", \"Lithuania\", \"Greece\", \"Europe\", \"Malta\", \"Deutschland\", \"Cyprus\", \"Croatia\", \"Netherlands\", \"Spain\", \"Denmark\", \"Belgium\", \"Slovakia\", \"Romania\", \"Italy\", \"Hungary\", \"Portugal\", \"Estonia\"], \"legendgroup\": \"Use of Internet Services\", \"marker\": {\"color\": \"#00cc96\"}, \"name\": \"Use of Internet Services\", \"offsetgroup\": \"Use of Internet Services\", \"orientation\": \"v\", \"showlegend\": true, \"textposition\": \"auto\", \"x\": [\"Czech Rep.\", \"Latvia\", \"Poland\", \"Bulgaria\", \"Austria\", \"Sweden\", \"Ireland\", \"United Kingdom\", \"Luxembourg\", \"Slovenia\", \"Finland\", \"France\", \"Lithuania\", \"Greece\", \"Europe\", \"Malta\", \"Deutschland\", \"Cyprus\", \"Croatia\", \"Netherlands\", \"Spain\", \"Denmark\", \"Belgium\", \"Slovakia\", \"Romania\", \"Italy\", \"Hungary\", \"Portugal\", \"Estonia\"], \"xaxis\": \"x\", \"y\": [8.12155, 8.09762, 7.4458899999999995, 5.4973, 8.102960000000001, 11.3931, 9.31329, 10.9968, 8.827630000000001, 7.75714, 11.4512, 7.95892, 8.59822, 6.91335, 8.70398, 9.88537, 9.23478, 8.17172, 8.32179, 11.2805, 9.11638, 11.273, 9.17408, 8.00468, 5.38408, 6.67212, 8.384780000000001, 7.213239999999999, 9.812289999999999], \"yaxis\": \"y\", \"type\": \"bar\"}, {\"alignmentgroup\": \"True\", \"customdata\": [[13.1739, \"Belgium\", 2020, \"Integration of Digital Technology\"], [8.18928, \"Slovenia\", 2020, \"Integration of Digital Technology\"], [13.1492, \"Netherlands\", 2020, \"Integration of Digital Technology\"], [14.8641, \"Ireland\", 2020, \"Integration of Digital Technology\"], [5.24851, \"Poland\", 2020, \"Integration of Digital Technology\"], [10.9807, \"Malta\", 2020, \"Integration of Digital Technology\"], [8.22989, \"Estonia\", 2020, \"Integration of Digital Technology\"], [12.4269, \"Sweden\", 2020, \"Integration of Digital Technology\"], [8.17436, \"Portugal\", 2020, \"Integration of Digital Technology\"], [6.51409, \"Slovakia\", 2020, \"Integration of Digital Technology\"], [6.245080000000001, \"Italy\", 2020, \"Integration of Digital Technology\"], [5.06139, \"Hungary\", 2020, \"Integration of Digital Technology\"], [8.29335, \"Croatia\", 2020, \"Integration of Digital Technology\"], [9.893839999999999, \"Lithuania\", 2020, \"Integration of Digital Technology\"], [5.63917, \"Greece\", 2020, \"Integration of Digital Technology\"], [8.27422, \"Europe\", 2020, \"Integration of Digital Technology\"], [3.57291, \"Bulgaria\", 2020, \"Integration of Digital Technology\"], [8.115160000000001, \"Austria\", 2020, \"Integration of Digital Technology\"], [9.91893, \"Czech Rep.\", 2020, \"Integration of Digital Technology\"], [4.98538, \"Romania\", 2020, \"Integration of Digital Technology\"], [5.66108, \"Latvia\", 2020, \"Integration of Digital Technology\"], [7.641939999999999, \"Luxembourg\", 2020, \"Integration of Digital Technology\"], [7.90631, \"Deutschland\", 2020, \"Integration of Digital Technology\"], [8.40954, \"France\", 2020, \"Integration of Digital Technology\"], [13.409, \"Finland\", 2020, \"Integration of Digital Technology\"], [13.0295, \"Denmark\", 2020, \"Integration of Digital Technology\"], [6.89687, \"Cyprus\", 2020, \"Integration of Digital Technology\"], [8.24311, \"Spain\", 2020, \"Integration of Digital Technology\"], [10.8377, \"United Kingdom\", 2020, \"Integration of Digital Technology\"]], \"hovertemplate\": \"<b>%{hovertext}</b><br><br><extra></extra>\", \"hovertext\": [13.1739, 8.18928, 13.1492, 14.8641, 5.24851, 10.9807, 8.22989, 12.4269, 8.17436, 6.51409, 6.245080000000001, 5.06139, 8.29335, 9.893839999999999, 5.63917, 8.27422, 3.57291, 8.115160000000001, 9.91893, 4.98538, 5.66108, 7.641939999999999, 7.90631, 8.40954, 13.409, 13.0295, 6.89687, 8.24311, 10.8377], \"ids\": [\"Belgium\", \"Slovenia\", \"Netherlands\", \"Ireland\", \"Poland\", \"Malta\", \"Estonia\", \"Sweden\", \"Portugal\", \"Slovakia\", \"Italy\", \"Hungary\", \"Croatia\", \"Lithuania\", \"Greece\", \"Europe\", \"Bulgaria\", \"Austria\", \"Czech Rep.\", \"Romania\", \"Latvia\", \"Luxembourg\", \"Deutschland\", \"France\", \"Finland\", \"Denmark\", \"Cyprus\", \"Spain\", \"United Kingdom\"], \"legendgroup\": \"Integration of Digital Technology\", \"marker\": {\"color\": \"#ab63fa\"}, \"name\": \"Integration of Digital Technology\", \"offsetgroup\": \"Integration of Digital Technology\", \"orientation\": \"v\", \"showlegend\": true, \"textposition\": \"auto\", \"x\": [\"Belgium\", \"Slovenia\", \"Netherlands\", \"Ireland\", \"Poland\", \"Malta\", \"Estonia\", \"Sweden\", \"Portugal\", \"Slovakia\", \"Italy\", \"Hungary\", \"Croatia\", \"Lithuania\", \"Greece\", \"Europe\", \"Bulgaria\", \"Austria\", \"Czech Rep.\", \"Romania\", \"Latvia\", \"Luxembourg\", \"Deutschland\", \"France\", \"Finland\", \"Denmark\", \"Cyprus\", \"Spain\", \"United Kingdom\"], \"xaxis\": \"x\", \"y\": [13.1739, 8.18928, 13.1492, 14.8641, 5.24851, 10.9807, 8.22989, 12.4269, 8.17436, 6.51409, 6.245080000000001, 5.06139, 8.29335, 9.893839999999999, 5.63917, 8.27422, 3.57291, 8.115160000000001, 9.91893, 4.98538, 5.66108, 7.641939999999999, 7.90631, 8.40954, 13.409, 13.0295, 6.89687, 8.24311, 10.8377], \"yaxis\": \"y\", \"type\": \"bar\"}, {\"alignmentgroup\": \"True\", \"customdata\": [[16.0404, \"Netherlands\", 2020, \"Human Capital\"], [12.0872, \"Slovenia\", 2020, \"Human Capital\"], [11.8895, \"Spain\", 2020, \"Human Capital\"], [14.1047, \"Deutschland\", 2020, \"Human Capital\"], [15.4398, \"Malta\", 2020, \"Human Capital\"], [16.6647, \"Estonia\", 2020, \"Human Capital\"], [9.31793, \"Poland\", 2020, \"Human Capital\"], [11.8577, \"France\", 2020, \"Human Capital\"], [9.44128, \"Portugal\", 2020, \"Human Capital\"], [12.2886, \"Croatia\", 2020, \"Human Capital\"], [19.6105, \"Finland\", 2020, \"Human Capital\"], [10.4588, \"Hungary\", 2020, \"Human Capital\"], [8.113999999999999, \"Italy\", 2020, \"Human Capital\"], [15.3191, \"Denmark\", 2020, \"Human Capital\"], [14.1825, \"Austria\", 2020, \"Human Capital\"], [8.4789, \"Bulgaria\", 2020, \"Human Capital\"], [14.0997, \"Ireland\", 2020, \"Human Capital\"], [8.28947, \"Romania\", 2020, \"Human Capital\"], [10.4517, \"Slovakia\", 2020, \"Human Capital\"], [12.161, \"Czech Rep.\", 2020, \"Human Capital\"], [8.950660000000001, \"Cyprus\", 2020, \"Human Capital\"], [12.5969, \"Belgium\", 2020, \"Human Capital\"], [15.751, \"United Kingdom\", 2020, \"Human Capital\"], [14.5546, \"Luxembourg\", 2020, \"Human Capital\"], [12.3224, \"Europe\", 2020, \"Human Capital\"], [8.69778, \"Greece\", 2020, \"Human Capital\"], [10.9577, \"Lithuania\", 2020, \"Human Capital\"], [8.75522, \"Latvia\", 2020, \"Human Capital\"], [17.930999999999997, \"Sweden\", 2020, \"Human Capital\"]], \"hovertemplate\": \"<b>%{hovertext}</b><br><br><extra></extra>\", \"hovertext\": [16.0404, 12.0872, 11.8895, 14.1047, 15.4398, 16.6647, 9.31793, 11.8577, 9.44128, 12.2886, 19.6105, 10.4588, 8.113999999999999, 15.3191, 14.1825, 8.4789, 14.0997, 8.28947, 10.4517, 12.161, 8.950660000000001, 12.5969, 15.751, 14.5546, 12.3224, 8.69778, 10.9577, 8.75522, 17.930999999999997], \"ids\": [\"Netherlands\", \"Slovenia\", \"Spain\", \"Deutschland\", \"Malta\", \"Estonia\", \"Poland\", \"France\", \"Portugal\", \"Croatia\", \"Finland\", \"Hungary\", \"Italy\", \"Denmark\", \"Austria\", \"Bulgaria\", \"Ireland\", \"Romania\", \"Slovakia\", \"Czech Rep.\", \"Cyprus\", \"Belgium\", \"United Kingdom\", \"Luxembourg\", \"Europe\", \"Greece\", \"Lithuania\", \"Latvia\", \"Sweden\"], \"legendgroup\": \"Human Capital\", \"marker\": {\"color\": \"#FFA15A\"}, \"name\": \"Human Capital\", \"offsetgroup\": \"Human Capital\", \"orientation\": \"v\", \"showlegend\": true, \"textposition\": \"auto\", \"x\": [\"Netherlands\", \"Slovenia\", \"Spain\", \"Deutschland\", \"Malta\", \"Estonia\", \"Poland\", \"France\", \"Portugal\", \"Croatia\", \"Finland\", \"Hungary\", \"Italy\", \"Denmark\", \"Austria\", \"Bulgaria\", \"Ireland\", \"Romania\", \"Slovakia\", \"Czech Rep.\", \"Cyprus\", \"Belgium\", \"United Kingdom\", \"Luxembourg\", \"Europe\", \"Greece\", \"Lithuania\", \"Latvia\", \"Sweden\"], \"xaxis\": \"x\", \"y\": [16.0404, 12.0872, 11.8895, 14.1047, 15.4398, 16.6647, 9.31793, 11.8577, 9.44128, 12.2886, 19.6105, 10.4588, 8.113999999999999, 15.3191, 14.1825, 8.4789, 14.0997, 8.28947, 10.4517, 12.161, 8.950660000000001, 12.5969, 15.751, 14.5546, 12.3224, 8.69778, 10.9577, 8.75522, 17.930999999999997], \"yaxis\": \"y\", \"type\": \"bar\"}], \"name\": \"2020\"}]);\n",
       "                        }).then(function(){\n",
       "                            \n",
       "var gd = document.getElementById('681b76db-6519-4edb-b7a7-aac53c33144f');\n",
       "var x = new MutationObserver(function (mutations, observer) {{\n",
       "        var display = window.getComputedStyle(gd).display;\n",
       "        if (!display || display === 'none') {{\n",
       "            console.log([gd, 'removed!']);\n",
       "            Plotly.purge(gd);\n",
       "            observer.disconnect();\n",
       "        }}\n",
       "}});\n",
       "\n",
       "// Listen for the removal of the full notebook cells\n",
       "var notebookContainer = gd.closest('#notebook-container');\n",
       "if (notebookContainer) {{\n",
       "    x.observe(notebookContainer, {childList: true});\n",
       "}}\n",
       "\n",
       "// Listen for the clearing of the current output cell\n",
       "var outputEl = gd.closest('.output');\n",
       "if (outputEl) {{\n",
       "    x.observe(outputEl, {childList: true});\n",
       "}}\n",
       "\n",
       "                        })\n",
       "                };\n",
       "                });\n",
       "            </script>\n",
       "        </div>"
      ]
     },
     "metadata": {},
     "output_type": "display_data"
    }
   ],
   "source": [
    "import plotly.express as px\n",
    "desi = desi.sort_values('time_period')\n",
    "\n",
    "fig = px.bar(desi, x=\"ref_area\", y=\"value\", animation_frame=\"time_period\",\n",
    "         color=\"breakdown\", range_y=[0,80], barmode = 'relative', animation_group = 'ref_area',\n",
    "            hover_name = 'value', hover_data = {'value' : False, 'ref_area' : False, \"time_period\" : False, 'breakdown' : False })\n",
    "\n",
    "fig.update_layout(width = 1200, height = 600, title='Select a year and compare the countries',\n",
    "                  xaxis_title='Country',\n",
    "                  yaxis_title='Value',\n",
    "                  legend_title_text='Indicators:',\n",
    "                  showlegend=True,\n",
    "                  xaxis={'categoryorder':'total descending', 'tickangle' : 60, 'showgrid':False},\n",
    "                  margin=dict(l=20, r=10, t=50, b=200), hovermode=\"x\"\n",
    "                 )\n",
    "#fig.add_trace(go.Bar(desi.loc[desi['ref_area'] == 'Europe']))\n",
    "\n",
    "'''def update_trace(trace):\n",
    "    totx = []\n",
    "    toty = []\n",
    "\n",
    "\n",
    "    for a in range(5):\n",
    "        x = []\n",
    "        y = []\n",
    "        for id in trace.ids:\n",
    "            if id == \"Europe\":\n",
    "                x.append(3)\n",
    "                y.append(\"black\")\n",
    "            else:\n",
    "                x.append(0)\n",
    "                y.append(\"black\")\n",
    "        totx.append(x)\n",
    "        toty.append(y)\n",
    "\n",
    "\n",
    "    for i in range(5):\n",
    "        trace.marker.line.width = totx[i]\n",
    "        trace.marker.line.color = toty[i]\n",
    "'''\n",
    "\n",
    "fig['layout']['sliders'][0]['pad']=dict(r= 40, t= 130)\n",
    "fig['layout']['sliders'][0]['currentvalue']['prefix']= 'Year: '\n",
    "fig['layout']['sliders'][0]['steps'][1]['args'][1]['redraw']= False\n",
    "\n",
    "print(fig['layout']['sliders'])\n",
    "\n",
    "# animation button\n",
    "#fig[\"layout\"].pop(\"updatemenus\") # optional, drop animation buttons\n",
    "fig['layout']['updatemenus'][0]['pad']=dict(r= 30, t= 150)\n",
    "fig.layout.updatemenus[0].buttons[0].args[1][\"frame\"][\"duration\"] = 2000\n",
    "fig.layout.updatemenus[0].buttons[0].args[1][\"frame\"][\"frame\"] = 200\n",
    "\n",
    "#fig.update_traces(hovertemplate='%{y}%', overwrite=True)\n",
    "#fig.for_each_trace(lambda trace: update_trace(trace))\n",
    "\n",
    "fig.show()"
   ]
  },
  {
   "cell_type": "code",
   "execution_count": null,
   "metadata": {},
   "outputs": [],
   "source": [
    "desi.head()"
   ]
  },
  {
   "cell_type": "code",
   "execution_count": null,
   "metadata": {
    "scrolled": false
   },
   "outputs": [],
   "source": [
    "# PLOTLY\n",
    "fig2 = go.Figure()\n",
    "\n",
    "bds = desi['breakdown'].unique()\n",
    "desi = desi.sort_values('time_period')\n",
    "\n",
    "\n",
    "\n",
    "\n",
    "\n",
    "\n",
    "for bd in bds:\n",
    "    print(desi.loc[desi['breakdown'] == bd])\n",
    "    fig2.add_trace(go.Bar(\n",
    "        visible = False,\n",
    "        x=desi['ref_area'].unique(),\n",
    "        y=desi.loc[desi['breakdown'] == bd]['value'],\n",
    "        name=bd\n",
    "    ))\n",
    "        \n",
    "\n",
    "# Here we modify the tickangle of the xaxis, resulting in rotated labels.\n",
    "fig2.update_layout(width = 1200, height = 600, title='Select a year and compare the countries',\n",
    "                  xaxis_title='Country',\n",
    "                  yaxis_title='Value',\n",
    "                  legend_title_text='Indicators:',\n",
    "                  showlegend=True,\n",
    "                  xaxis={'categoryorder':'total descending', 'tickangle' : 60, 'showgrid':False},\n",
    "                  margin=dict(l=20, r=10, t=50, b=200), hovermode=\"x\", barmode = 'relative'\n",
    "                 )\n",
    "\n",
    "fig2.update_traces(hovertemplate='%{y}')\n",
    "\n",
    "\n",
    "\n",
    "fig2.show()"
   ]
  },
  {
   "cell_type": "code",
   "execution_count": 43,
   "metadata": {},
   "outputs": [],
   "source": [
    "fig.write_html(\"barchart.html\", auto_play = False)"
   ]
  },
  {
   "cell_type": "code",
   "execution_count": null,
   "metadata": {},
   "outputs": [],
   "source": []
  }
 ],
 "metadata": {
  "kernelspec": {
   "display_name": "Python 3",
   "language": "python",
   "name": "python3"
  },
  "language_info": {
   "codemirror_mode": {
    "name": "ipython",
    "version": 3
   },
   "file_extension": ".py",
   "mimetype": "text/x-python",
   "name": "python",
   "nbconvert_exporter": "python",
   "pygments_lexer": "ipython3",
   "version": "3.7.7"
  }
 },
 "nbformat": 4,
 "nbformat_minor": 2
}
