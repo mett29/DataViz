{
 "cells": [
  {
   "cell_type": "markdown",
   "metadata": {},
   "source": [
    "# Europe"
   ]
  },
  {
   "cell_type": "markdown",
   "metadata": {},
   "source": [
    "### Import Libraries"
   ]
  },
  {
   "cell_type": "code",
   "execution_count": null,
   "metadata": {},
   "outputs": [],
   "source": [
    "import pandas as pd\n",
    "import seaborn as sns\n",
    "import plotly.graph_objects as go\n",
    "from ipywidgets import widgets\n",
    "import numpy as np \n",
    "import seaborn as sns\n",
    "import geopandas as gpd\n",
    "import matplotlib.pyplot as plt\n",
    "from datetime import datetime\n",
    "\n",
    "%matplotlib inline"
   ]
  },
  {
   "cell_type": "markdown",
   "metadata": {},
   "source": [
    "## Key indicators"
   ]
  },
  {
   "cell_type": "markdown",
   "metadata": {},
   "source": [
    "**Source: [https://digital-agenda-data.eu/](https://digital-agenda-data.eu/)**\n",
    "\n",
    "### Key indicators used:\n",
    "1) Broadband take-up and coverage\n",
    "- Standard fixed broadband coverage/availability (bb_scov)\n",
    "- NGA broadband coverage/availability (bb_ngacov)\n",
    "- Households with a broadband connection (h_broad)\n",
    "- Households with fixed broadband connection (h_bbfix)\n",
    "\n",
    "2) Broadband speeds and prices\n",
    "- Share of fixed broadband subscriptions >= 100 Mbps (bb_speed100)\n",
    "- Households with no access to Internet at home, because the costs are too high (all households) (h_xcost)\n",
    "\n",
    "3) Mobile market\n",
    "- 4G mobile broadband coverage (total) (mbb_ltecov)\n",
    "\n",
    "4) Internet usage\n",
    "- Households with access to the Internet at home (h_iacc)\n",
    "- Individuals who have never used the internet (all individuals) (i_iux)\n",
    "\n",
    "5) Take up of internet services (all individuals)\n",
    "- Using online banking (i_iubk)\n",
    "- Uploading self-created content to be shared (i_iuupl)\n",
    "- Participating in social networks, over the internet, last 3 months (i_iusnet)\n",
    "- Looking for a job or sending a job application (i_iujob)\n",
    "- Doing an online course (i_iuolc)\n",
    "- Taking part in on-line consultations or voting to define civic or political issues (i_iuvote)\n",
    "\n",
    "6) eGovernment\n",
    "- Individuals interacting online with public authorities, last 12 months (i_iugov12)\n",
    "\n",
    "7) Digital skills\n",
    "- Individuals with at least basic digital skills (i_dsk_bab)\n",
    "- Science and technology graduates (st_grad)\n",
    "\n",
    "8) ICT Specialists\n",
    "- Individuals who have obtained ICT skills through formal educational institutions (i_skedu)\n",
    "\n",
    "9) Security and privacy\n",
    "- Individuals caught a virus or other computer infection resulting in loss of information or time (i_secvir1)\n",
    "- Security concerns kept individual from ordering or buying goods or services for private use (i_sbgood)"
   ]
  },
  {
   "cell_type": "markdown",
   "metadata": {},
   "source": [
    "### Preprocessing"
   ]
  },
  {
   "cell_type": "code",
   "execution_count": 2,
   "metadata": {},
   "outputs": [
    {
     "name": "stderr",
     "output_type": "stream",
     "text": [
      "C:\\Users\\Roncax\\AppData\\Roaming\\Python\\Python37\\site-packages\\IPython\\core\\interactiveshell.py:3049: DtypeWarning: Columns (1,6) have mixed types.Specify dtype option on import or set low_memory=False.\n",
      "  interactivity=interactivity, compiler=compiler, result=result)\n"
     ]
    }
   ],
   "source": [
    "key_indicators = pd.read_csv(\"data/digital-agenda-scoreboard-key-indicators.csv\")\n",
    "# Drop useless columns\n",
    "key_indicators = key_indicators.drop(['observation', 'flag', 'note'], axis=1)\n",
    "# Filter out some indicators\n",
    "my_indicators = ['bb_scov', 'bb_ngacov', 'h_broad', 'h_bbfix', 'bb_speed100', 'h_xcost', 'mbb_ltecov', 'h_iacc', 'i_iux', 'i_iubk', 'i_iuupl', 'i_iusnet', 'i_iujob', 'i_iuolc', 'i_iuvote', 'i_iugov12', 'i_dsk_s_bab', 'i_skedu', 'i_secvir1', 'i_sbgood']\n",
    "key_indicators = key_indicators[key_indicators['indicator'].isin(my_indicators)]\n",
    "# Map the indicators' codes to the corresponding name\n",
    "indicators_mapping = {'bb_scov' : 'Standard fixed broadband coverage/availability',\n",
    "           \"bb_ngacov\" : 'NGA broadband coverage/availability',\n",
    "           'h_broad' : 'Households with a broadband connection',\n",
    "           'h_bbfix' : 'Households with fixed broadband connection',\n",
    "           'bb_speed100' : 'Share of fixed broadband subscriptions >= 100 Mbps',\n",
    "           'h_xcost' : 'Households with no access to Internet at home, because the costs are too high',\n",
    "           'mbb_ltecov' : '4G mobile broadband coverage',\n",
    "           'h_iacc' : 'Households with access to the Internet at home',\n",
    "           'i_iux' : 'Individuals who have never used the internet (all individuals)',\n",
    "           'i_iubk' : 'Using online banking',\n",
    "           'i_iuupl' : 'Uploading self-created content to be shared',\n",
    "           'i_iusnet' : 'Participating in social networks, over the internet, last 3 months',\n",
    "           'i_iujob' : 'Looking for a job or sending a job application',\n",
    "           'i_iuolc' : 'Doing an online course',\n",
    "           'i_iuvote' : 'Taking part in on-line consultations or voting to define civic or political issues',\n",
    "           'i_iugov12' : 'Individuals interacting online with public authorities, last 12 months',\n",
    "           'i_dsk_s_bab' : 'Individuals with at least basic digital skills in Software domain',\n",
    "           'i_skedu' : 'Individuals who have obtained ICT skills through formal educational institutions',\n",
    "           'i_secvir1' : 'Individuals caught a virus or other computer infection resulting in loss of information or time',\n",
    "           'i_sbgood' : 'Security concerns kept individual from ordering or buying goods or services for private use',\n",
    "          }\n",
    "key_indicators['indicator'] = key_indicators['indicator'].replace(indicators_mapping)\n",
    "\n",
    "    \n",
    "# Mapping between 'ref_area' and the name of the country\n",
    "countries_mapping =  { 'EE' : 'Estonia',\n",
    "                        'EL' : 'Greece',\n",
    "                        'ES' : 'Spain',\n",
    "                        'FI' : 'Finland',\n",
    "                        'FR' : 'France',\n",
    "                        'HR' : 'Croatia',\n",
    "                        'HU' : 'Hungary',\n",
    "                        'IE' : 'Ireland',\n",
    "                        'IS' : 'Iceland',\n",
    "                        'DE' : 'Deutschland',\n",
    "                        'CZ' : 'Czech Rep.',\n",
    "                        'DK' : 'Denmark',\n",
    "                        'IT' : 'Italy',\n",
    "                        'LT' : 'Lithuania',\n",
    "                        'LU' : 'Luxembourg',\n",
    "                        'LV' : 'Latvia',\n",
    "                        'MT' : 'Malta',\n",
    "                        'NL' : 'Netherlands',\n",
    "                        'NO' : 'Norway',\n",
    "                        'PT' : 'Portugal',\n",
    "                        'PL' : 'Poland',\n",
    "                        'EU' : 'Europe',\n",
    "                        'RO' : 'Romania',\n",
    "                        'SE' : 'Sweden',\n",
    "                        'SI' : 'Slovenia',\n",
    "                        'SK' : 'Slovakia',\n",
    "                        'UK' : 'United Kingdom',\n",
    "                        'AT' : 'Austria',\n",
    "                        'BE' : 'Belgium',\n",
    "                        'BG' : 'Bulgaria',\n",
    "                        'CY' : 'Cyprus',\n",
    "                        'CH' : 'Switzerland'\n",
    "                     }\n",
    "key_indicators['ref_area'] = key_indicators['ref_area'].replace(countries_mapping)\n",
    "\n",
    "# Drop the index column\n",
    "key_indicators.reset_index(drop=True, inplace=True)\n",
    "\n",
    "# In some cases the types in 'time_period' are mixed ==> cast all to strings \n",
    "key_indicators['time_period'] = key_indicators['time_period'].apply(lambda j: str(j))\n",
    "key_indicators['time_period'] = key_indicators['time_period'].apply(lambda j: j[:4])\n",
    "def convert_to_date(j):\n",
    "   if len(j.split('-')) == 1:\n",
    "      return str(datetime.strptime(j, '%Y'))\n",
    "   elif len(j.split('-')) == 2:\n",
    "      return str(datetime.strptime(j, '%Y-%m'))\n",
    "   else:\n",
    "      return str(datetime.strptime(j, '%Y-%m-%d'))\n",
    "# key_indicators['time_period'] = key_indicators['time_period'].apply(lambda j: convert_to_date(j))"
   ]
  },
  {
   "cell_type": "code",
   "execution_count": 3,
   "metadata": {},
   "outputs": [],
   "source": [
    " labels = list(key_indicators['indicator'].unique())"
   ]
  },
  {
   "cell_type": "markdown",
   "metadata": {},
   "source": [
    "### Plot"
   ]
  },
  {
   "cell_type": "code",
   "execution_count": 4,
   "metadata": {},
   "outputs": [
    {
     "data": {
      "text/plain": [
       "array(['2019', '2011', '2012', '2013', '2014', '2017', '2018', '2015',\n",
       "       '2016', '2010', '2008', '2009', '2007', '2005', '2006', '2004',\n",
       "       '2003', '2002'], dtype=object)"
      ]
     },
     "execution_count": 4,
     "metadata": {},
     "output_type": "execute_result"
    }
   ],
   "source": [
    "#key_indicators['indicator'].unique()\n",
    "key_indicators['time_period'].unique()"
   ]
  },
  {
   "cell_type": "code",
   "execution_count": 5,
   "metadata": {},
   "outputs": [],
   "source": [
    "countries_list = [country for country in countries_mapping.values()]\n",
    "\n",
    "for country in countries_list:\n",
    "        # Check if there are multiple breakdowns: if so, keep only the 'total' one\n",
    "        if len(key_indicators['breakdown'].unique()) > 1:\n",
    "            if len(key_indicators['unit_measure'].unique()) > 1:\n",
    "                key_indicators = key_indicators.loc[(key_indicators['breakdown'].str.contains('total')) & (key_indicators['unit_measure'] == 'pc_ind')]\n",
    "            else:\n",
    "                key_indicators = key_indicators.loc[(data['breakdown'].str.contains('total'))]\n",
    "                \n",
    "#key_indicators.loc[key_indicators['time_period'] == '2019'].to_csv('indicators.csv')"
   ]
  },
  {
   "cell_type": "code",
   "execution_count": 6,
   "metadata": {},
   "outputs": [],
   "source": [
    "year1 = widgets.IntSlider(\n",
    "    value=2019,\n",
    "    min=2002,\n",
    "    max=2019,\n",
    "    step=1,\n",
    "    description='Year:',\n",
    "    continuous_update=True\n",
    ")\n",
    "\n",
    "year  = widgets.Dropdown(\n",
    "    options=list(key_indicators['time_period'].unique()),\n",
    "    value='2019',\n",
    "    description='Years: ',\n",
    ")\n",
    "\n",
    "\n",
    "container = widgets.HBox([year])\n",
    "\n",
    "indicators_menu = widgets.Dropdown(\n",
    "    options=list(key_indicators['indicator'].unique()),\n",
    "    value='Uploading self-created content to be shared',\n",
    "    description='Indicators: ',\n",
    ")\n",
    "\n",
    "trace1 = go.Bar(x=key_indicators['ref_area'], y = key_indicators['value'], opacity=0.75, textposition='auto')\n",
    "layout=go.Layout(\n",
    "                        title=dict(\n",
    "                            text='Europe digital divide key indicators'\n",
    "                        ),\n",
    "                        barmode='overlay',\n",
    "                        xaxis={'categoryorder':'total descending'}\n",
    "                    )\n",
    "g = go.FigureWidget(data=trace1,\n",
    "                    layout = layout\n",
    "                    )"
   ]
  },
  {
   "cell_type": "code",
   "execution_count": 7,
   "metadata": {},
   "outputs": [],
   "source": [
    "def response(change):\n",
    "    filter_list = [i and j for i, j in\n",
    "                    zip(key_indicators['time_period'] == year.value,\n",
    "                    key_indicators['indicator'] == indicators_menu.value)]\n",
    "    temp_df = key_indicators[filter_list]\n",
    "    x1 = temp_df['ref_area']\n",
    "    y1 = temp_df['value']\n",
    "    #x2 = temp_df['dep_delay']\n",
    "    with g.batch_update():\n",
    "        g.data[0].x = x1\n",
    "        g.data[0].y = y1\n",
    "        #g.data[1].x = x2\n",
    "        g.layout.barmode = 'overlay'\n",
    "        g.layout.xaxis.title = 'Area'\n",
    "        g.layout.yaxis.title = 'Percentage'\n",
    "\n",
    "\n",
    "indicators_menu.observe(response, names=\"value\")\n",
    "year.observe(response, names=\"value\")"
   ]
  },
  {
   "cell_type": "code",
   "execution_count": 8,
   "metadata": {},
   "outputs": [
    {
     "data": {
      "application/vnd.jupyter.widget-view+json": {
       "model_id": "5d310f6529d14415876d6ee58c20c7b8",
       "version_major": 2,
       "version_minor": 0
      },
      "text/plain": [
       "VBox(children=(HBox(children=(Dropdown(description='Years: ', options=('2019', '2018', '2004', '2005', '2003',…"
      ]
     },
     "metadata": {},
     "output_type": "display_data"
    }
   ],
   "source": [
    "container2 = widgets.HBox([indicators_menu])\n",
    "widgets.VBox([container,\n",
    "              container2,\n",
    "              g])"
   ]
  },
  {
   "cell_type": "markdown",
   "metadata": {},
   "source": [
    "## DESI"
   ]
  },
  {
   "cell_type": "markdown",
   "metadata": {},
   "source": [
    "**Source: [https://digital-agenda-data.eu/datasets/desi/](https://digital-agenda-data.eu/datasets/desi/)**\n",
    "\n",
    "### DESI indicators used:\n",
    "1) Broadband take-up and coverage\n",
    "- Standard fixed broadband coverage/availability (bb_scov)\n",
    "- NGA broadband coverage/availability (bb_ngacov)\n",
    "- Households with a broadband connection (h_broad)\n",
    "- Households with fixed broadband connection (h_bbfix)\n",
    "\n",
    "2) Broadband speeds and prices\n",
    "- Share of fixed broadband subscriptions >= 100 Mbps (bb_speed100)\n",
    "- Households with no access to Internet at home, because the costs are too high (all households) (h_xcost)\n",
    "\n",
    "3) Mobile market\n",
    "- 4G mobile broadband coverage (total) (mbb_ltecov)\n",
    "\n",
    "4) Internet usage\n",
    "- Households with access to the Internet at home (h_iacc)\n",
    "- Individuals who have never used the internet (all individuals) (i_iux)\n",
    "\n",
    "5) Take up of internet services (all individuals)\n",
    "- Using online banking (i_iubk)\n",
    "- Uploading self-created content to be shared (i_iuupl)\n",
    "- Participating in social networks, over the internet, last 3 months (i_iusnet)\n",
    "- Looking for a job or sending a job application (i_iujob)\n",
    "- Doing an online course (i_iuolc)\n",
    "- Taking part in on-line consultations or voting to define civic or political issues (i_iuvote)\n",
    "\n",
    "6) eGovernment\n",
    "- Individuals interacting online with public authorities, last 12 months (i_iugov12)\n",
    "\n",
    "7) Digital skills\n",
    "- Individuals with at least basic digital skills (i_dsk_bab)\n",
    "- Science and technology graduates (st_grad)\n",
    "\n",
    "8) ICT Specialists\n",
    "- Individuals who have obtained ICT skills through formal educational institutions (i_skedu)\n",
    "\n",
    "9) Security and privacy\n",
    "- Individuals caught a virus or other computer infection resulting in loss of information or time (i_secvir1)\n",
    "- Security concerns kept individual from ordering or buying goods or services for private use (i_sbgood)"
   ]
  },
  {
   "cell_type": "code",
   "execution_count": null,
   "metadata": {},
   "outputs": [],
   "source": [
    "desi = pd.read_csv(\"data/digital-agenda-scoreboard-key-indicators.csv\")\n",
    "# Drop useless columns\n",
    "desi = desi.drop(['observation', 'flag', 'note'], axis=1)\n",
    "# Filter out some indicators\n",
    "my_indicators = ['bb_scov', 'bb_ngacov', 'h_broad', 'h_bbfix', 'bb_speed100', 'h_xcost', 'mbb_ltecov', 'h_iacc', 'i_iux', 'i_iubk', 'i_iuupl', 'i_iusnet', 'i_iujob', 'i_iuolc', 'i_iuvote', 'i_iugov12', 'i_dsk_s_bab', 'i_skedu', 'i_secvir1', 'i_sbgood']\n",
    "desi = desi[key_indicators['indicator'].isin(my_indicators)]\n",
    "# Map the indicators' codes to the corresponding name\n",
    "indicators_mapping = {'bb_scov' : 'Standard fixed broadband coverage/availability',\n",
    "           \"bb_ngacov\" : 'NGA broadband coverage/availability',\n",
    "           'h_broad' : 'Households with a broadband connection',\n",
    "           'h_bbfix' : 'Households with fixed broadband connection',\n",
    "           'bb_speed100' : 'Share of fixed broadband subscriptions >= 100 Mbps',\n",
    "           'h_xcost' : 'Households with no access to Internet at home, because the costs are too high',\n",
    "           'mbb_ltecov' : '4G mobile broadband coverage',\n",
    "           'h_iacc' : 'Households with access to the Internet at home',\n",
    "           'i_iux' : 'Individuals who have never used the internet (all individuals)',\n",
    "           'i_iubk' : 'Using online banking',\n",
    "           'i_iuupl' : 'Uploading self-created content to be shared',\n",
    "           'i_iusnet' : 'Participating in social networks, over the internet, last 3 months',\n",
    "           'i_iujob' : 'Looking for a job or sending a job application',\n",
    "           'i_iuolc' : 'Doing an online course',\n",
    "           'i_iuvote' : 'Taking part in on-line consultations or voting to define civic or political issues',\n",
    "           'i_iugov12' : 'Individuals interacting online with public authorities, last 12 months',\n",
    "           'i_dsk_s_bab' : 'Individuals with at least basic digital skills in Software domain',\n",
    "           'i_skedu' : 'Individuals who have obtained ICT skills through formal educational institutions',\n",
    "           'i_secvir1' : 'Individuals caught a virus or other computer infection resulting in loss of information or time',\n",
    "           'i_sbgood' : 'Security concerns kept individual from ordering or buying goods or services for private use',\n",
    "          }\n",
    "desi['indicator'] = desi['indicator'].replace(indicators_mapping)\n",
    "\n",
    "    \n",
    "# Mapping between 'ref_area' and the name of the country\n",
    "countries_mapping =  { 'EE' : 'Estonia',\n",
    "                        'EL' : 'Greece',\n",
    "                        'ES' : 'Spain',\n",
    "                        'FI' : 'Finland',\n",
    "                        'FR' : 'France',\n",
    "                        'HR' : 'Croatia',\n",
    "                        'HU' : 'Hungary',\n",
    "                        'IE' : 'Ireland',\n",
    "                        'IS' : 'Iceland',\n",
    "                        'DE' : 'Deutschland',\n",
    "                        'CZ' : 'Czech Rep.',\n",
    "                        'DK' : 'Denmark',\n",
    "                        'IT' : 'Italy',\n",
    "                        'LT' : 'Lithuania',\n",
    "                        'LU' : 'Luxembourg',\n",
    "                        'LV' : 'Latvia',\n",
    "                        'MT' : 'Malta',\n",
    "                        'NL' : 'Netherlands',\n",
    "                        'NO' : 'Norway',\n",
    "                        'PT' : 'Portugal',\n",
    "                        'PL' : 'Poland',\n",
    "                        'EU' : 'Europe',\n",
    "                        'RO' : 'Romania',\n",
    "                        'SE' : 'Sweden',\n",
    "                        'SI' : 'Slovenia',\n",
    "                        'SK' : 'Slovakia',\n",
    "                        'UK' : 'United Kingdom',\n",
    "                        'AT' : 'Austria',\n",
    "                        'BE' : 'Belgium',\n",
    "                        'BG' : 'Bulgaria',\n",
    "                        'CY' : 'Cyprus',\n",
    "                        'CH' : 'Switzerland'\n",
    "                     }\n",
    "desi['ref_area'] = desi['ref_area'].replace(countries_mapping)\n",
    "\n",
    "# Drop the index column\n",
    "desi.reset_index(drop=True, inplace=True)\n",
    "\n",
    "# In some cases the types in 'time_period' are mixed ==> cast all to strings \n",
    "desi['time_period'] = desi['time_period'].apply(lambda j: str(j))\n",
    "desi['time_period'] = desi['time_period'].apply(lambda j: j[:4])\n",
    "def convert_to_date(j):\n",
    "   if len(j.split('-')) == 1:\n",
    "      return str(datetime.strptime(j, '%Y'))\n",
    "   elif len(j.split('-')) == 2:\n",
    "      return str(datetime.strptime(j, '%Y-%m'))\n",
    "   else:\n",
    "      return str(datetime.strptime(j, '%Y-%m-%d'))\n",
    "# desi['time_period'] = desi['time_period'].apply(lambda j: convert_to_date(j))"
   ]
  },
  {
   "cell_type": "code",
   "execution_count": null,
   "metadata": {},
   "outputs": [],
   "source": [
    "fig.write_html(\"barchart.html\")"
   ]
  }
 ],
 "metadata": {
  "kernelspec": {
   "display_name": "Python 3",
   "language": "python",
   "name": "python3"
  },
  "language_info": {
   "codemirror_mode": {
    "name": "ipython",
    "version": 3
   },
   "file_extension": ".py",
   "mimetype": "text/x-python",
   "name": "python",
   "nbconvert_exporter": "python",
   "pygments_lexer": "ipython3",
   "version": "3.7.7"
  }
 },
 "nbformat": 4,
 "nbformat_minor": 2
}
