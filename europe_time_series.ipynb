{
 "cells": [
  {
   "cell_type": "markdown",
   "metadata": {},
   "source": [
    "# Europe\n",
    "\n",
    "**Source: [https://digital-agenda-data.eu/](https://digital-agenda-data.eu/)**\n",
    "\n",
    "### Key indicators used:\n",
    "1) Broadband take-up and coverage\n",
    "- Standard fixed broadband coverage/availability (bb_scov)\n",
    "- NGA broadband coverage/availability (bb_ngacov)\n",
    "- Households with a broadband connection (h_broad)\n",
    "- Households with fixed broadband connection (h_bbfix)\n",
    "\n",
    "2) Broadband speeds and prices\n",
    "- Share of fixed broadband subscriptions >= 100 Mbps (bb_speed100)\n",
    "- Households with no access to Internet at home, because the costs are too high (all households) (h_xcost)\n",
    "\n",
    "3) Mobile market\n",
    "- 4G mobile broadband coverage (total) (mbb_ltecov)\n",
    "\n",
    "4) Internet usage\n",
    "- Households with access to the Internet at home (h_iacc)\n",
    "- Individuals who have never used the internet (all individuals) (i_iux)\n",
    "\n",
    "5) Take up of internet services (all individuals)\n",
    "- Using online banking (i_iubk)\n",
    "- Uploading self-created content to be shared (i_iuupl)\n",
    "- Participating in social networks, over the internet, last 3 months (i_iusnet)\n",
    "- Looking for a job or sending a job application (i_iujob)\n",
    "- Doing an online course (i_iuolc)\n",
    "- Taking part in on-line consultations or voting to define civic or political issues (i_iuvote)\n",
    "\n",
    "6) eGovernment\n",
    "- Individuals interacting online with public authorities, last 12 months (i_iugov12)\n",
    "\n",
    "7) Digital skills\n",
    "- Individuals with at least basic digital skills (i_dsk_bab)\n",
    "- Science and technology graduates (st_grad)\n",
    "\n",
    "8) ICT Specialists\n",
    "- Individuals who have obtained ICT skills through formal educational institutions (i_skedu)\n",
    "\n",
    "9) Security and privacy\n",
    "- Individuals caught a virus or other computer infection resulting in loss of information or time (i_secvir1)\n",
    "- Security concerns kept individual from ordering or buying goods or services for private use (i_sbgood)"
   ]
  },
  {
   "cell_type": "markdown",
   "metadata": {},
   "source": [
    "## Import libraries"
   ]
  },
  {
   "cell_type": "code",
   "execution_count": 1,
   "metadata": {},
   "outputs": [],
   "source": [
    "import pandas as pd\n",
    "import seaborn as sns\n",
    "import plotly.graph_objects as go\n",
    "from ipywidgets import widgets\n",
    "import numpy as np \n",
    "import seaborn as sns\n",
    "import geopandas as gpd\n",
    "import matplotlib.pyplot as plt\n",
    "from datetime import datetime\n",
    "\n",
    "%matplotlib inline"
   ]
  },
  {
   "cell_type": "markdown",
   "metadata": {},
   "source": [
    "## Preprocessing"
   ]
  },
  {
   "cell_type": "code",
   "execution_count": 2,
   "metadata": {},
   "outputs": [],
   "source": [
    "key_indicators = pd.read_csv(\"data/digital-agenda-scoreboard-key-indicators.csv\")\n",
    "# Drop useless columns\n",
    "key_indicators = key_indicators.drop(['observation', 'flag', 'note'], axis=1)\n",
    "# Filter out some indicators\n",
    "my_indicators = ['bb_scov', 'bb_ngacov', 'h_broad', 'h_bbfix', 'bb_speed100', 'h_xcost', 'mbb_ltecov', 'h_iacc', 'i_iux', 'i_iubk', 'i_iuupl', 'i_iusnet', 'i_iujob', 'i_iuolc', 'i_iuvote', 'i_iugov12', 'i_dsk_s_bab', 'i_skedu', 'i_secvir1', 'i_sbgood']\n",
    "key_indicators = key_indicators[key_indicators['indicator'].isin(my_indicators)]\n",
    "# Map the indicators' codes to the corresponding name\n",
    "indicators_mapping = {'bb_scov' : 'Standard fixed broadband coverage/availability',\n",
    "           \"bb_ngacov\" : 'NGA broadband coverage/availability',\n",
    "           'h_broad' : 'Households with a broadband connection',\n",
    "           'h_bbfix' : 'Households with fixed broadband connection',\n",
    "           'bb_speed100' : 'Share of fixed broadband subscriptions >= 100 Mbps',\n",
    "           'h_xcost' : 'Households with no access to Internet at home, because the costs are too high',\n",
    "           'mbb_ltecov' : '4G mobile broadband coverage',\n",
    "           'h_iacc' : 'Households with access to the Internet at home',\n",
    "           'i_iux' : 'Individuals who have never used the internet (all individuals)',\n",
    "           'i_iubk' : 'Using online banking',\n",
    "           'i_iuupl' : 'Uploading self-created content to be shared',\n",
    "           'i_iusnet' : 'Participating in social networks, over the internet, last 3 months',\n",
    "           'i_iujob' : 'Looking for a job or sending a job application',\n",
    "           'i_iuolc' : 'Doing an online course',\n",
    "           'i_iuvote' : 'Taking part in on-line consultations or voting to define civic or political issues',\n",
    "           'i_iugov12' : 'Individuals interacting online with public authorities, last 12 months',\n",
    "           'i_dsk_s_bab' : 'Individuals with at least basic digital skills in Software domain',\n",
    "           'i_skedu' : 'Individuals who have obtained ICT skills through formal educational institutions',\n",
    "           'i_secvir1' : 'Individuals caught a virus or other computer infection resulting in loss of information or time',\n",
    "           'i_sbgood' : 'Security concerns kept individual from ordering or buying goods or services for private use',\n",
    "          }\n",
    "key_indicators['indicator'] = key_indicators['indicator'].replace(indicators_mapping)\n",
    "\n",
    "# Associate the indicators with their corresponding number (i.e. the group)\n",
    "groups = {'1' : ['Standard fixed broadband coverage/availability',\n",
    "          'NGA broadband coverage/availability',\n",
    "          'Households with a broadband connection',\n",
    "          'Households with fixed broadband connection'],\n",
    "          '2' : ['Share of fixed broadband subscriptions >= 100 Mbps',\n",
    "          'Households with no access to Internet at home, because the costs are too high'],\n",
    "          '3' : ['4G mobile broadband coverage'],\n",
    "          '4' : ['Households with access to the Internet at home',\n",
    "          'Individuals who have never used the internet (all individuals)'],\n",
    "          '5' : ['Using online banking',\n",
    "          'Uploading self-created content to be shared',\n",
    "          'Participating in social networks, over the internet, last 3 months',\n",
    "          'Looking for a job or sending a job application',\n",
    "          'Doing an online course',\n",
    "          'Taking part in on-line consultations or voting to define civic or political issues'],\n",
    "          '6' : ['Individuals interacting online with public authorities, last 12 months'],\n",
    "          '7' : ['Individuals with at least basic digital skills in Software domain'],\n",
    "          '8' : ['Individuals who have obtained ICT skills through formal educational institutions'],\n",
    "          '9' : ['Individuals caught a virus or other computer infection resulting in loss of information or time',\n",
    "          'Security concerns kept individual from ordering or buying goods or services for private use']\n",
    "          }\n",
    "    \n",
    "# Mapping between 'ref_area' and the name of the country\n",
    "countries_mapping =  { 'EE' : 'Estonia',\n",
    "                        'EL' : 'Greece',\n",
    "                        'ES' : 'Spain',\n",
    "                        'FI' : 'Finland',\n",
    "                        'FR' : 'France',\n",
    "                        'HR' : 'Croatia',\n",
    "                        'HU' : 'Hungary',\n",
    "                        'IE' : 'Ireland',\n",
    "                        'IS' : 'Iceland',\n",
    "                        'DE' : 'Deutschland',\n",
    "                        'CZ' : 'Czech Rep.',\n",
    "                        'DK' : 'Denmark',\n",
    "                        'IT' : 'Italy',\n",
    "                        'LT' : 'Lithuania',\n",
    "                        'LU' : 'Luxembourg',\n",
    "                        'LV' : 'Latvia',\n",
    "                        'MT' : 'Malta',\n",
    "                        'NL' : 'Netherlands',\n",
    "                        'NO' : 'Norway',\n",
    "                        'PT' : 'Portugal',\n",
    "                        'PL' : 'Poland',\n",
    "                        'EU' : 'Europe',\n",
    "                        'RO' : 'Romania',\n",
    "                        'SE' : 'Sweden',\n",
    "                        'SI' : 'Slovenia',\n",
    "                        'SK' : 'Slovakia',\n",
    "                        'UK' : 'United Kingdom',\n",
    "                        'AT' : 'Austria',\n",
    "                        'BE' : 'Belgium',\n",
    "                        'BG' : 'Bulgaria',\n",
    "                        'CY' : 'Cyprus',\n",
    "                        'CH' : 'Switzerland'\n",
    "                     }\n",
    "key_indicators['ref_area'] = key_indicators['ref_area'].replace(countries_mapping)\n",
    "\n",
    "# Drop the index column\n",
    "key_indicators.reset_index(drop=True, inplace=True)\n",
    "\n",
    "# In some cases the types in 'time_period' are mixed ==> cast all to strings \n",
    "key_indicators['time_period'] = key_indicators['time_period'].apply(lambda j: str(j))\n",
    "def convert_to_date(j):\n",
    "   if len(j.split('-')) == 1:\n",
    "      return str(datetime.strptime(j, '%Y'))\n",
    "   elif len(j.split('-')) == 2:\n",
    "      return str(datetime.strptime(j, '%Y-%m'))\n",
    "   else:\n",
    "      return str(datetime.strptime(j, '%Y-%m-%d'))\n",
    "key_indicators['time_period'] = key_indicators['time_period'].apply(lambda j: convert_to_date(j))"
   ]
  },
  {
   "cell_type": "code",
   "execution_count": 34,
   "metadata": {
    "tags": []
   },
   "outputs": [
    {
     "output_type": "display_data",
     "data": {
      "text/plain": "VBox(children=(VBox(children=(VBox(children=(HTML(value='<h1>See the evolution of an indicator and compare cou…",
      "application/vnd.jupyter.widget-view+json": {
       "version_major": 2,
       "version_minor": 0,
       "model_id": "972b71be41794cdc918a3e009a549d72"
      }
     },
     "metadata": {}
    }
   ],
   "source": [
    "def generate_rgb_colors():\n",
    "    palette = sns.color_palette('Paired') + sns.color_palette('Spectral') + sns.color_palette('bright') + sns.color_palette('Dark2')\n",
    "    return palette\n",
    "\n",
    "options = ['Broadband take-up and coverage', 'Broadband speeds and prices', 'Mobile market', 'Internet usage', 'Take up of internet services', 'eGovernment', 'Digital skills', 'ICT Specialists', 'Security and privacy']\n",
    "countries_list = [country for country in countries_mapping.values()]\n",
    "\n",
    "indicators_group = widgets.Dropdown(options=options, value='Broadband take-up and coverage')\n",
    "# Get the group selected in the first dropdown\n",
    "selected_group = indicators_group.value\n",
    "# Retrieve the index from the 'options' list and the corresponding indicators\n",
    "index = options.index(selected_group) + 1\n",
    "corresponding_indicators = groups.get(str(index))\n",
    "# Put the retrieved indicators in the second dropdown\n",
    "indicators = widgets.Dropdown(options=corresponding_indicators)\n",
    "\n",
    "box_layout = widgets.Layout(margin='0px 0px 0px 80px')\n",
    "title_and_description = widgets.VBox([widgets.HTML('<h1>See the evolution of an indicator and compare countries</h1>'), widgets.HTML('<p>Click on the name of the countries in the legend in order to visualize the corresponding values in the graph.</p>')])\n",
    "controllers = widgets.HBox([widgets.Label('Indicator group:'), indicators_group, widgets.Label('Indicator:'), indicators])\n",
    "introduction = widgets.VBox([title_and_description, controllers], layout=box_layout)\n",
    "\n",
    "output = widgets.Output()\n",
    "\n",
    "@output.capture()\n",
    "def callback(change):\n",
    "    selected_group = indicators_group.value\n",
    "    index = options.index(selected_group) + 1\n",
    "    corresponding_indicators = groups.get(str(index))\n",
    "    indicators.options = corresponding_indicators\n",
    "# When the first dropdown changes, change the options in the second one\n",
    "indicators_group.observe(callback, 'value')\n",
    "\n",
    "# Callback to update the time series graph when the indicator changes\n",
    "@output.capture()\n",
    "def update_graph(change):\n",
    "    current_indicator = str(indicators.value)\n",
    "    fig.update_layout(title=current_indicator)\n",
    "    for index, country in enumerate(fig.data):\n",
    "        current_data = key_indicators.loc[(key_indicators['indicator'] == current_indicator) & (key_indicators['ref_area'] == country.name)]\n",
    "        # Check if there are multiple breakdowns: if so, keep only the 'total' one. Do the same for the 'unit_measure'.\n",
    "        # Note that this is not a general approach!\n",
    "        if len(current_data['breakdown'].unique()) > 1:\n",
    "            if len(current_data['unit_measure'].unique()) > 1:\n",
    "                current_data = current_data.loc[(current_data['breakdown'].str.contains('total')) & (current_data['unit_measure'] == 'pc_ind')]\n",
    "            else:\n",
    "                current_data = current_data.loc[(current_data['breakdown'].str.contains('total'))]\n",
    "        current_data = current_data.sort_values('time_period')\n",
    "        # Update the data in the graph\n",
    "        country.x = list(current_data['time_period'])\n",
    "        country.y = list(current_data['value'])\n",
    "\n",
    "indicators.observe(update_graph, 'value')\n",
    "\n",
    "# GET DATA FROM THE DF \n",
    "current_group = str(indicators_group.value)\n",
    "current_indicator = str(indicators.value)\n",
    "\n",
    "# Build Figure\n",
    "fig = go.FigureWidget()\n",
    "palette = generate_rgb_colors() # Obtain n different hex colors, where n is the number of countries\n",
    "for index, country in enumerate(countries_list):\n",
    "    current_data = key_indicators.loc[(key_indicators['indicator'] == current_indicator) & (key_indicators['ref_area'] == country)]\n",
    "    # Check if there are multiple breakdowns: if so, keep only the 'total' one\n",
    "    if len(current_data['breakdown'].unique()) > 1:\n",
    "        current_data = current_data.loc[current_data['breakdown'].str.contains('total')]\n",
    "    current_data = current_data.sort_values('time_period')\n",
    "    if (country == 'Italy') or (country == 'Europe'):\n",
    "        visible = True\n",
    "    else:\n",
    "        visible = 'legendonly'\n",
    "    fig.add_trace(go.Scatter(\n",
    "        x=list(current_data['time_period']),\n",
    "        y=list(current_data['value']),\n",
    "        name=country,\n",
    "        visible=visible,\n",
    "        mode='lines+markers+text',\n",
    "        textposition='bottom center',\n",
    "        text=country,\n",
    "        line=dict(color='rgb' + str(palette[index]), shape='spline', smoothing=1.3)))\n",
    "\n",
    "fig.update_layout(height=600, title=current_indicator,\n",
    "                xaxis_title='Year',\n",
    "                yaxis_title='Percentage',\n",
    "                legend_title_text='Countries',\n",
    "                showlegend=True)\n",
    "\n",
    "widgets.VBox([introduction, fig])"
   ]
  },
  {
   "cell_type": "markdown",
   "metadata": {},
   "source": [
    "## Experiment"
   ]
  },
  {
   "cell_type": "code",
   "execution_count": 12,
   "metadata": {},
   "outputs": [],
   "source": [
    " labels = ['Standard fixed broadband coverage/availability',\n",
    "          'NGA broadband coverage/availability',\n",
    "          'Households with a broadband connection',\n",
    "          'Households with fixed broadband connection',\n",
    "          'Share of fixed broadband subscriptions >= 100 Mbps',\n",
    "          'Households with no access to Internet at home, because the costs are too high',\n",
    "          '4G mobile broadband coverage',\n",
    "          'Households with access to the Internet at home',\n",
    "          'Individuals who have never used the internet (all individuals)',\n",
    "          'Using online banking',\n",
    "          'Uploading self-created content to be shared',\n",
    "          'Participating in social networks, over the internet, last 3 months',\n",
    "          'Looking for a job or sending a job application',\n",
    "          'Doing an online course',\n",
    "          'Taking part in on-line consultations or voting to define civic or political issues',\n",
    "          'Individuals interacting online with public authorities, last 12 months',\n",
    "          'Individuals with at least basic digital skills in Software domain',\n",
    "          'Individuals who have obtained ICT skills through formal educational institutions',\n",
    "          'Individuals caught a virus or other computer infection resulting in loss of information or time',\n",
    "          'Security concerns kept individual from ordering or buying goods or services for private use']"
   ]
  },
  {
   "cell_type": "code",
   "execution_count": 36,
   "metadata": {},
   "outputs": [
    {
     "output_type": "display_data",
     "data": {
      "application/vnd.plotly.v1+json": {
       "config": {
        "plotlyServerURL": "https://plot.ly"
       },
       "data": [
        {
         "line": {
          "color": "rgb(0.6509803921568628, 0.807843137254902, 0.8901960784313725)",
          "shape": "spline",
          "smoothing": 1
         },
         "mode": "lines+markers+text",
         "name": "Estonia",
         "text": "Estonia",
         "textposition": "bottom center",
         "type": "scatter",
         "uid": "c2a6b650-eeb2-4117-af04-98442af08449",
         "visible": "legendonly",
         "x": [
          "2011-01-01 00:00:00",
          "2012-01-01 00:00:00",
          "2013-01-01 00:00:00",
          "2014-01-01 00:00:00",
          "2015-01-01 00:00:00",
          "2016-01-01 00:00:00",
          "2017-01-01 00:00:00",
          "2019-01-01 00:00:00"
         ],
         "y": [
          0.8603870000000001,
          0.840996,
          0.850774,
          0.860477,
          0.86805,
          0.908856,
          0.894905,
          0.909415
         ]
        },
        {
         "line": {
          "color": "rgb(0.12156862745098039, 0.47058823529411764, 0.7058823529411765)",
          "shape": "spline",
          "smoothing": 1
         },
         "mode": "lines+markers+text",
         "name": "Greece",
         "text": "Greece",
         "textposition": "bottom center",
         "type": "scatter",
         "uid": "5e765298-0798-4d02-8e9b-691492d324af",
         "visible": "legendonly",
         "x": [
          "2011-01-01 00:00:00",
          "2012-01-01 00:00:00",
          "2013-01-01 00:00:00",
          "2014-01-01 00:00:00",
          "2015-01-01 00:00:00",
          "2016-01-01 00:00:00",
          "2017-01-01 00:00:00",
          "2019-01-01 00:00:00"
         ],
         "y": [
          0.985,
          0.9907090000000001,
          0.945,
          0.951,
          0.9540000000000001,
          "0.95635",
          0.961673,
          0.9947030000000001
         ]
        },
        {
         "line": {
          "color": "rgb(0.6980392156862745, 0.8745098039215686, 0.5411764705882353)",
          "shape": "spline",
          "smoothing": 1
         },
         "mode": "lines+markers+text",
         "name": "Spain",
         "text": "Spain",
         "textposition": "bottom center",
         "type": "scatter",
         "uid": "21e76f3a-c96a-4c28-896c-6d9dee23ab0c",
         "visible": "legendonly",
         "x": [
          "2011-01-01 00:00:00",
          "2012-01-01 00:00:00",
          "2013-01-01 00:00:00",
          "2014-01-01 00:00:00",
          "2015-01-01 00:00:00",
          "2016-01-01 00:00:00",
          "2017-01-01 00:00:00",
          "2019-01-01 00:00:00"
         ],
         "y": [
          0.963518,
          0.9507559999999999,
          0.965319,
          0.9508969999999999,
          0.950557,
          0.954959,
          0.9567260000000001,
          0.956385
         ]
        },
        {
         "line": {
          "color": "rgb(0.2, 0.6274509803921569, 0.17254901960784313)",
          "shape": "spline",
          "smoothing": 1
         },
         "mode": "lines+markers+text",
         "name": "Finland",
         "text": "Finland",
         "textposition": "bottom center",
         "type": "scatter",
         "uid": "521b21ba-b071-4fbe-8e4b-770191f5cd69",
         "visible": "legendonly",
         "x": [
          "2011-01-01 00:00:00",
          "2012-01-01 00:00:00",
          "2013-01-01 00:00:00",
          "2014-01-01 00:00:00",
          "2015-01-01 00:00:00",
          "2016-01-01 00:00:00",
          "2017-01-01 00:00:00",
          "2019-01-01 00:00:00"
         ],
         "y": [
          0.950457,
          0.9325110000000001,
          0.9670000000000001,
          0.969825,
          0.9698200000000001,
          0.97,
          0.9701270000000001,
          0.9053629999999999
         ]
        },
        {
         "line": {
          "color": "rgb(0.984313725490196, 0.6039215686274509, 0.6)",
          "shape": "spline",
          "smoothing": 1
         },
         "mode": "lines+markers+text",
         "name": "France",
         "text": "France",
         "textposition": "bottom center",
         "type": "scatter",
         "uid": "5fab10e5-c722-437d-bb3b-66055120533e",
         "visible": "legendonly",
         "x": [
          "2011-01-01 00:00:00",
          "2012-01-01 00:00:00",
          "2013-01-01 00:00:00",
          "2014-01-01 00:00:00",
          "2015-01-01 00:00:00",
          "2016-01-01 00:00:00",
          "2017-01-01 00:00:00",
          "2019-01-01 00:00:00"
         ],
         "y": [
          0.9939530000000001,
          0.99325,
          0.997016,
          0.997309,
          0.997556,
          0.9995149999999999,
          0.9999520000000001,
          0.9999540000000001
         ]
        },
        {
         "line": {
          "color": "rgb(0.8901960784313725, 0.10196078431372549, 0.10980392156862745)",
          "shape": "spline",
          "smoothing": 1
         },
         "mode": "lines+markers+text",
         "name": "Croatia",
         "text": "Croatia",
         "textposition": "bottom center",
         "type": "scatter",
         "uid": "a23800a6-24a4-468d-8e7b-2f18f0792413",
         "visible": "legendonly",
         "x": [
          "2011-01-01 00:00:00",
          "2012-01-01 00:00:00",
          "2013-01-01 00:00:00",
          "2014-01-01 00:00:00",
          "2015-01-01 00:00:00",
          "2016-01-01 00:00:00",
          "2017-01-01 00:00:00",
          "2019-01-01 00:00:00"
         ],
         "y": [
          null,
          0.9414520000000001,
          0.9605549999999999,
          0.965791,
          0.9686440000000001,
          "0.969799",
          0.99269,
          0.998749
         ]
        },
        {
         "line": {
          "color": "rgb(0.9921568627450981, 0.7490196078431373, 0.43529411764705883)",
          "shape": "spline",
          "smoothing": 1
         },
         "mode": "lines+markers+text",
         "name": "Hungary",
         "text": "Hungary",
         "textposition": "bottom center",
         "type": "scatter",
         "uid": "669c4a30-e34b-4b33-b17e-6b14b22d5b83",
         "visible": "legendonly",
         "x": [
          "2011-01-01 00:00:00",
          "2012-01-01 00:00:00",
          "2013-01-01 00:00:00",
          "2014-01-01 00:00:00",
          "2015-01-01 00:00:00",
          "2016-01-01 00:00:00",
          "2017-01-01 00:00:00",
          "2019-01-01 00:00:00"
         ],
         "y": [
          0.893943,
          0.9183549999999999,
          0.943543,
          0.943708,
          0.952418,
          "0.952439",
          0.9524590000000001,
          0.9547530000000001
         ]
        },
        {
         "line": {
          "color": "rgb(1.0, 0.4980392156862745, 0.0)",
          "shape": "spline",
          "smoothing": 1
         },
         "mode": "lines+markers+text",
         "name": "Ireland",
         "text": "Ireland",
         "textposition": "bottom center",
         "type": "scatter",
         "uid": "e2891476-1111-4a0f-bace-1cf45bbb0ddb",
         "visible": "legendonly",
         "x": [
          "2011-01-01 00:00:00",
          "2012-01-01 00:00:00",
          "2013-01-01 00:00:00",
          "2014-01-01 00:00:00",
          "2015-01-01 00:00:00",
          "2016-01-01 00:00:00",
          "2017-01-01 00:00:00",
          "2019-01-01 00:00:00"
         ],
         "y": [
          0.944895,
          0.97078,
          0.9625370000000001,
          0.96262,
          0.962684,
          0.962684,
          0.973601,
          0.978455
         ]
        },
        {
         "line": {
          "color": "rgb(0.792156862745098, 0.6980392156862745, 0.8392156862745098)",
          "shape": "spline",
          "smoothing": 1
         },
         "mode": "lines+markers+text",
         "name": "Iceland",
         "text": "Iceland",
         "textposition": "bottom center",
         "type": "scatter",
         "uid": "0bf34158-20a9-4623-a16b-2b0a9439dcc9",
         "visible": "legendonly",
         "x": [
          "2011-01-01 00:00:00",
          "2012-01-01 00:00:00",
          "2013-01-01 00:00:00",
          "2014-01-01 00:00:00",
          "2015-01-01 00:00:00",
          "2016-01-01 00:00:00",
          "2017-01-01 00:00:00",
          "2019-01-01 00:00:00"
         ],
         "y": [
          0.9441639999999999,
          0.9441639999999999,
          0.966,
          0.9516399999999999,
          0.9519569999999999,
          "0.956091",
          0.9665969999999999,
          0.995439
         ]
        },
        {
         "line": {
          "color": "rgb(0.41568627450980394, 0.23921568627450981, 0.6039215686274509)",
          "shape": "spline",
          "smoothing": 1
         },
         "mode": "lines+markers+text",
         "name": "Deutschland",
         "text": "Deutschland",
         "textposition": "bottom center",
         "type": "scatter",
         "uid": "3afe54f4-f442-4689-a274-1cb1c7f1603c",
         "visible": "legendonly",
         "x": [
          "2011-01-01 00:00:00",
          "2012-01-01 00:00:00",
          "2013-01-01 00:00:00",
          "2014-01-01 00:00:00",
          "2015-01-01 00:00:00",
          "2016-01-01 00:00:00",
          "2017-01-01 00:00:00",
          "2019-01-01 00:00:00"
         ],
         "y": [
          0.9570000000000001,
          0.966,
          0.966,
          0.97,
          0.9740000000000001,
          0.977,
          0.977,
          0.985507
         ]
        },
        {
         "line": {
          "color": "rgb(1.0, 1.0, 0.6)",
          "shape": "spline",
          "smoothing": 1
         },
         "mode": "lines+markers+text",
         "name": "Czech Rep.",
         "text": "Czech Rep.",
         "textposition": "bottom center",
         "type": "scatter",
         "uid": "95fddc50-6cfd-49c5-9df8-6b10cd13690c",
         "visible": "legendonly",
         "x": [
          "2011-01-01 00:00:00",
          "2012-01-01 00:00:00",
          "2013-01-01 00:00:00",
          "2014-01-01 00:00:00",
          "2015-01-01 00:00:00",
          "2016-01-01 00:00:00",
          "2017-01-01 00:00:00",
          "2019-01-01 00:00:00"
         ],
         "y": [
          0.945,
          0.9811719999999999,
          0.975,
          0.975,
          0.9755,
          "0.988838",
          0.984355,
          0.974289
         ]
        },
        {
         "line": {
          "color": "rgb(0.6941176470588235, 0.34901960784313724, 0.1568627450980392)",
          "shape": "spline",
          "smoothing": 1
         },
         "mode": "lines+markers+text",
         "name": "Denmark",
         "text": "Denmark",
         "textposition": "bottom center",
         "type": "scatter",
         "uid": "59e57ee8-c91d-42a0-ae8b-fcf0dbea9e04",
         "visible": "legendonly",
         "x": [
          "2011-01-01 00:00:00",
          "2012-01-01 00:00:00",
          "2013-01-01 00:00:00",
          "2014-01-01 00:00:00",
          "2015-01-01 00:00:00",
          "2016-01-01 00:00:00",
          "2017-01-01 00:00:00",
          "2019-01-01 00:00:00"
         ],
         "y": [
          0.99,
          0.9832700000000001,
          0.991142,
          0.9911040000000001,
          0.989978,
          "0.993185",
          0.995,
          0.99
         ]
        },
        {
         "line": {
          "color": "rgb(0.8853517877739331, 0.3190311418685121, 0.29042675893886966)",
          "shape": "spline",
          "smoothing": 1
         },
         "mode": "lines+markers+text",
         "name": "Italy",
         "text": "Italy",
         "textposition": "bottom center",
         "type": "scatter",
         "uid": "1472a22b-a330-4e0f-baf0-86e22aa7489c",
         "visible": true,
         "x": [
          "2011-01-01 00:00:00",
          "2012-01-01 00:00:00",
          "2013-01-01 00:00:00",
          "2014-01-01 00:00:00",
          "2015-01-01 00:00:00",
          "2016-01-01 00:00:00",
          "2017-01-01 00:00:00",
          "2019-01-01 00:00:00"
         ],
         "y": [
          0.985,
          0.984102,
          0.98766,
          0.99149,
          0.992692,
          0.992699,
          0.9934780000000001,
          0.9960129999999999
         ]
        },
        {
         "line": {
          "color": "rgb(0.9873125720876587, 0.6473663975394078, 0.3642445213379469)",
          "shape": "spline",
          "smoothing": 1
         },
         "mode": "lines+markers+text",
         "name": "Lithuania",
         "text": "Lithuania",
         "textposition": "bottom center",
         "type": "scatter",
         "uid": "5ec87ed1-5941-4c7e-b619-26f764fdd740",
         "visible": "legendonly",
         "x": [
          "2011-01-01 00:00:00",
          "2012-01-01 00:00:00",
          "2013-01-01 00:00:00",
          "2014-01-01 00:00:00",
          "2015-01-01 00:00:00",
          "2016-01-01 00:00:00",
          "2017-01-01 00:00:00",
          "2019-01-01 00:00:00"
         ],
         "y": [
          0.884,
          0.967881,
          0.7959999999999999,
          0.8009999999999999,
          0.8059999999999999,
          "0.8103",
          0.820157,
          0.850893
         ]
        },
        {
         "line": {
          "color": "rgb(0.9971549404075356, 0.9118031526336025, 0.6010765090349866)",
          "shape": "spline",
          "smoothing": 1
         },
         "mode": "lines+markers+text",
         "name": "Luxembourg",
         "text": "Luxembourg",
         "textposition": "bottom center",
         "type": "scatter",
         "uid": "bb9424c7-948c-4440-80b2-6b32811d9ba4",
         "visible": "legendonly",
         "x": [
          "2011-01-01 00:00:00",
          "2012-01-01 00:00:00",
          "2013-01-01 00:00:00",
          "2014-01-01 00:00:00",
          "2015-01-01 00:00:00",
          "2016-01-01 00:00:00",
          "2017-01-01 00:00:00",
          "2019-01-01 00:00:00"
         ],
         "y": [
          0.998,
          0.998782,
          0.999915,
          0.99984,
          0.99984,
          0.99984,
          0.99984,
          1
         ]
        },
        {
         "line": {
          "color": "rgb(0.9288735101883892, 0.9715494040753557, 0.6380622837370243)",
          "shape": "spline",
          "smoothing": 1
         },
         "mode": "lines+markers+text",
         "name": "Latvia",
         "text": "Latvia",
         "textposition": "bottom center",
         "type": "scatter",
         "uid": "3e965340-1fe8-4840-949a-40a9d06aa528",
         "visible": "legendonly",
         "x": [
          "2011-01-01 00:00:00",
          "2012-01-01 00:00:00",
          "2013-01-01 00:00:00",
          "2014-01-01 00:00:00",
          "2015-01-01 00:00:00",
          "2016-01-01 00:00:00",
          "2017-01-01 00:00:00",
          "2019-01-01 00:00:00"
         ],
         "y": [
          0.755166,
          0.8286319999999999,
          0.9164690000000001,
          0.919443,
          0.9250520000000001,
          "0.925998",
          0.928449,
          0.9403040000000001
         ]
        },
        {
         "line": {
          "color": "rgb(0.6334486735870821, 0.8521337946943485, 0.6436755094194541)",
          "shape": "spline",
          "smoothing": 1
         },
         "mode": "lines+markers+text",
         "name": "Malta",
         "text": "Malta",
         "textposition": "bottom center",
         "type": "scatter",
         "uid": "555cc1a9-7692-473c-8be8-8051954b8843",
         "visible": "legendonly",
         "x": [
          "2011-01-01 00:00:00",
          "2012-01-01 00:00:00",
          "2013-01-01 00:00:00",
          "2014-01-01 00:00:00",
          "2015-01-01 00:00:00",
          "2016-01-01 00:00:00",
          "2017-01-01 00:00:00",
          "2019-01-01 00:00:00"
         ],
         "y": [
          0.9990000000000001,
          0.9999959999999999,
          0.999768,
          1,
          1,
          "1",
          1,
          1
         ]
        },
        {
         "line": {
          "color": "rgb(0.2800461361014994, 0.6269896193771626, 0.7024221453287197)",
          "shape": "spline",
          "smoothing": 1
         },
         "mode": "lines+markers+text",
         "name": "Netherlands",
         "text": "Netherlands",
         "textposition": "bottom center",
         "type": "scatter",
         "uid": "a53bcd24-fb86-458d-b230-05c811ea64c4",
         "visible": "legendonly",
         "x": [
          "2011-01-01 00:00:00",
          "2012-01-01 00:00:00",
          "2013-01-01 00:00:00",
          "2014-01-01 00:00:00",
          "2015-01-01 00:00:00",
          "2016-01-01 00:00:00",
          "2017-01-01 00:00:00",
          "2019-01-01 00:00:00"
         ],
         "y": [
          1,
          1,
          0.999926,
          0.995,
          0.995,
          "0.995",
          0.995,
          0.995
         ]
        },
        {
         "line": {
          "color": "rgb(0.00784313725490196, 0.24313725490196078, 1.0)",
          "shape": "spline",
          "smoothing": 1
         },
         "mode": "lines+markers+text",
         "name": "Norway",
         "text": "Norway",
         "textposition": "bottom center",
         "type": "scatter",
         "uid": "e99f1621-57de-4cb0-8f86-dd8010a2526c",
         "visible": "legendonly",
         "x": [
          "2011-01-01 00:00:00",
          "2012-01-01 00:00:00",
          "2013-01-01 00:00:00",
          "2014-01-01 00:00:00",
          "2015-01-01 00:00:00",
          "2016-01-01 00:00:00",
          "2017-01-01 00:00:00",
          "2019-01-01 00:00:00"
         ],
         "y": [
          0.9590000000000001,
          0.9630719999999999,
          0.967461,
          0.951784,
          0.947342,
          0.9534530000000001,
          0.9440799999999999,
          0.986454
         ]
        },
        {
         "line": {
          "color": "rgb(1.0, 0.48627450980392156, 0.0)",
          "shape": "spline",
          "smoothing": 1
         },
         "mode": "lines+markers+text",
         "name": "Portugal",
         "text": "Portugal",
         "textposition": "bottom center",
         "type": "scatter",
         "uid": "35cb0e73-6036-42fc-ba04-dbb290f63726",
         "visible": "legendonly",
         "x": [
          "2011-01-01 00:00:00",
          "2012-01-01 00:00:00",
          "2013-01-01 00:00:00",
          "2014-01-01 00:00:00",
          "2015-01-01 00:00:00",
          "2016-01-01 00:00:00",
          "2017-01-01 00:00:00",
          "2019-01-01 00:00:00"
         ],
         "y": [
          0.995,
          0.9955430000000001,
          0.951,
          0.948,
          0.946,
          0.942961,
          0.9348629999999999,
          0.9486190000000001
         ]
        },
        {
         "line": {
          "color": "rgb(0.10196078431372549, 0.788235294117647, 0.2196078431372549)",
          "shape": "spline",
          "smoothing": 1
         },
         "mode": "lines+markers+text",
         "name": "Poland",
         "text": "Poland",
         "textposition": "bottom center",
         "type": "scatter",
         "uid": "916f27c7-d66d-4359-bc26-d343ba836ef2",
         "visible": "legendonly",
         "x": [
          "2011-01-01 00:00:00",
          "2012-01-01 00:00:00",
          "2013-01-01 00:00:00",
          "2014-01-01 00:00:00",
          "2015-01-01 00:00:00",
          "2016-01-01 00:00:00",
          "2017-01-01 00:00:00",
          "2019-01-01 00:00:00"
         ],
         "y": [
          0.653541,
          0.6905060000000001,
          0.7909999999999999,
          0.7959999999999999,
          0.802,
          0.8093060000000001,
          0.814616,
          0.8346389999999999
         ]
        },
        {
         "line": {
          "color": "rgb(0.9098039215686274, 0.0, 0.043137254901960784)",
          "shape": "spline",
          "smoothing": 1
         },
         "mode": "lines+markers+text",
         "name": "Europe",
         "text": "Europe",
         "textposition": "bottom center",
         "type": "scatter",
         "uid": "69eacc77-c60d-4ccc-80a9-d990b4625aee",
         "visible": true,
         "x": [
          "2011-01-01 00:00:00",
          "2012-01-01 00:00:00",
          "2014-01-01 00:00:00",
          "2015-01-01 00:00:00",
          "2016-01-01 00:00:00",
          "2017-01-01 00:00:00",
          "2019-01-01 00:00:00"
         ],
         "y": [
          0.946169,
          0.95475,
          "0.963734",
          "0.964928",
          "0.966662",
          0.967205,
          0.9706959999999999
         ]
        },
        {
         "line": {
          "color": "rgb(0.5450980392156862, 0.16862745098039217, 0.8862745098039215)",
          "shape": "spline",
          "smoothing": 1
         },
         "mode": "lines+markers+text",
         "name": "Romania",
         "text": "Romania",
         "textposition": "bottom center",
         "type": "scatter",
         "uid": "b722b1be-e34e-4660-9d50-ad265cfd35a2",
         "visible": "legendonly",
         "x": [
          "2011-01-01 00:00:00",
          "2012-01-01 00:00:00",
          "2013-01-01 00:00:00",
          "2014-01-01 00:00:00",
          "2015-01-01 00:00:00",
          "2016-01-01 00:00:00",
          "2017-01-01 00:00:00",
          "2019-01-01 00:00:00"
         ],
         "y": [
          0.868242,
          0.8597229999999999,
          0.8999540000000001,
          0.894135,
          0.887601,
          0.885992,
          0.881451,
          0.8735209999999999
         ]
        },
        {
         "line": {
          "color": "rgb(0.6235294117647059, 0.2823529411764706, 0.0)",
          "shape": "spline",
          "smoothing": 1
         },
         "mode": "lines+markers+text",
         "name": "Sweden",
         "text": "Sweden",
         "textposition": "bottom center",
         "type": "scatter",
         "uid": "8b8b0a2c-fe8e-41d9-b42b-825511fd10df",
         "visible": "legendonly",
         "x": [
          "2011-01-01 00:00:00",
          "2012-01-01 00:00:00",
          "2013-01-01 00:00:00",
          "2014-01-01 00:00:00",
          "2015-01-01 00:00:00",
          "2016-01-01 00:00:00",
          "2017-01-01 00:00:00",
          "2019-01-01 00:00:00"
         ],
         "y": [
          0.9805200000000001,
          0.985403,
          0.9902129999999999,
          0.989725,
          0.989725,
          0.9898290000000001,
          0.9850129999999999,
          0.973283
         ]
        },
        {
         "line": {
          "color": "rgb(0.9450980392156862, 0.2980392156862745, 0.7568627450980392)",
          "shape": "spline",
          "smoothing": 1
         },
         "mode": "lines+markers+text",
         "name": "Slovenia",
         "text": "Slovenia",
         "textposition": "bottom center",
         "type": "scatter",
         "uid": "9d72b34a-faa1-43b0-8b83-66aca3572d89",
         "visible": "legendonly",
         "x": [
          "2011-01-01 00:00:00",
          "2012-01-01 00:00:00",
          "2013-01-01 00:00:00",
          "2014-01-01 00:00:00",
          "2015-01-01 00:00:00",
          "2016-01-01 00:00:00",
          "2017-01-01 00:00:00",
          "2019-01-01 00:00:00"
         ],
         "y": [
          0.757616,
          0.8430489999999999,
          0.9518559999999999,
          0.9538540000000001,
          0.954551,
          0.9770559999999999,
          0.978,
          0.9874860000000001
         ]
        },
        {
         "line": {
          "color": "rgb(0.6392156862745098, 0.6392156862745098, 0.6392156862745098)",
          "shape": "spline",
          "smoothing": 1
         },
         "mode": "lines+markers+text",
         "name": "Slovakia",
         "text": "Slovakia",
         "textposition": "bottom center",
         "type": "scatter",
         "uid": "91f796fb-6911-454a-a02f-c0759daf8d20",
         "visible": "legendonly",
         "x": [
          "2011-01-01 00:00:00",
          "2012-01-01 00:00:00",
          "2013-01-01 00:00:00",
          "2014-01-01 00:00:00",
          "2015-01-01 00:00:00",
          "2016-01-01 00:00:00",
          "2017-01-01 00:00:00",
          "2019-01-01 00:00:00"
         ],
         "y": [
          0.75,
          0.752243,
          0.865167,
          0.86816,
          0.863289,
          "0.880195",
          0.882827,
          0.896904
         ]
        },
        {
         "line": {
          "color": "rgb(1.0, 0.7686274509803922, 0.0)",
          "shape": "spline",
          "smoothing": 1
         },
         "mode": "lines+markers+text",
         "name": "United Kingdom",
         "text": "United Kingdom",
         "textposition": "bottom center",
         "type": "scatter",
         "uid": "f8fe053e-1611-4582-a591-423705e39bd4",
         "visible": "legendonly",
         "x": [
          "2011-01-01 00:00:00",
          "2012-01-01 00:00:00",
          "2013-01-01 00:00:00",
          "2014-01-01 00:00:00",
          "2015-01-01 00:00:00",
          "2016-01-01 00:00:00",
          "2017-01-01 00:00:00",
          "2019-01-01 00:00:00"
         ],
         "y": [
          0.995609,
          0.9979620000000001,
          0.999776,
          0.9997799999999999,
          0.999777,
          0.9952,
          0.9990000000000001,
          1
         ]
        },
        {
         "line": {
          "color": "rgb(0.0, 0.8431372549019608, 1.0)",
          "shape": "spline",
          "smoothing": 1
         },
         "mode": "lines+markers+text",
         "name": "Austria",
         "text": "Austria",
         "textposition": "bottom center",
         "type": "scatter",
         "uid": "13c0df1d-1e83-44f3-b612-3a78f9a41b53",
         "visible": "legendonly",
         "x": [
          "2011-01-01 00:00:00",
          "2012-01-01 00:00:00",
          "2013-01-01 00:00:00",
          "2014-01-01 00:00:00",
          "2015-01-01 00:00:00",
          "2016-01-01 00:00:00",
          "2017-01-01 00:00:00",
          "2019-01-01 00:00:00"
         ],
         "y": [
          0.981834,
          0.9886719999999999,
          0.9912790000000001,
          0.9924959999999999,
          0.992497,
          0.9843360000000001,
          0.984492,
          0.9928620000000001
         ]
        },
        {
         "line": {
          "color": "rgb(0.10588235294117647, 0.6196078431372549, 0.4666666666666667)",
          "shape": "spline",
          "smoothing": 1
         },
         "mode": "lines+markers+text",
         "name": "Belgium",
         "text": "Belgium",
         "textposition": "bottom center",
         "type": "scatter",
         "uid": "945974dc-02a5-4d6e-bc77-38d0e2bf39e5",
         "visible": "legendonly",
         "x": [
          "2011-01-01 00:00:00",
          "2012-01-01 00:00:00",
          "2013-01-01 00:00:00",
          "2014-01-01 00:00:00",
          "2015-01-01 00:00:00",
          "2016-01-01 00:00:00",
          "2017-01-01 00:00:00",
          "2019-01-01 00:00:00"
         ],
         "y": [
          0.999655,
          0.9995629999999999,
          0.9993190000000001,
          0.99925,
          0.99925,
          "0.999269",
          0.99925,
          0.9997520000000001
         ]
        },
        {
         "line": {
          "color": "rgb(0.8509803921568627, 0.37254901960784315, 0.00784313725490196)",
          "shape": "spline",
          "smoothing": 1
         },
         "mode": "lines+markers+text",
         "name": "Bulgaria",
         "text": "Bulgaria",
         "textposition": "bottom center",
         "type": "scatter",
         "uid": "d5152f74-cc8a-418c-8754-4264e600c78b",
         "visible": "legendonly",
         "x": [
          "2011-01-01 00:00:00",
          "2012-01-01 00:00:00",
          "2013-01-01 00:00:00",
          "2014-01-01 00:00:00",
          "2015-01-01 00:00:00",
          "2016-01-01 00:00:00",
          "2017-01-01 00:00:00",
          "2019-01-01 00:00:00"
         ],
         "y": [
          0.8905379999999999,
          0.8963549999999999,
          0.9252,
          0.951097,
          0.951676,
          "0.95204",
          0.95204,
          0.955635
         ]
        },
        {
         "line": {
          "color": "rgb(0.4588235294117647, 0.4392156862745098, 0.7019607843137254)",
          "shape": "spline",
          "smoothing": 1
         },
         "mode": "lines+markers+text",
         "name": "Cyprus",
         "text": "Cyprus",
         "textposition": "bottom center",
         "type": "scatter",
         "uid": "7e516cea-9233-4c60-aac1-f651a910cacc",
         "visible": "legendonly",
         "x": [
          "2011-01-01 00:00:00",
          "2012-01-01 00:00:00",
          "2013-01-01 00:00:00",
          "2014-01-01 00:00:00",
          "2015-01-01 00:00:00",
          "2016-01-01 00:00:00",
          "2017-01-01 00:00:00",
          "2019-01-01 00:00:00"
         ],
         "y": [
          1,
          1,
          0.99995,
          0.99995,
          0.99995,
          0.99995,
          0.99995,
          1
         ]
        },
        {
         "line": {
          "color": "rgb(0.9058823529411765, 0.1607843137254902, 0.5411764705882353)",
          "shape": "spline",
          "smoothing": 1
         },
         "mode": "lines+markers+text",
         "name": "Switzerland",
         "text": "Switzerland",
         "textposition": "bottom center",
         "type": "scatter",
         "uid": "808da7b3-e374-44dc-ab8d-731891b51949",
         "visible": "legendonly",
         "x": [
          "2011-01-01 00:00:00",
          "2012-01-01 00:00:00",
          "2013-01-01 00:00:00",
          "2014-01-01 00:00:00",
          "2015-01-01 00:00:00",
          "2016-01-01 00:00:00",
          "2017-01-01 00:00:00",
          "2019-01-01 00:00:00"
         ],
         "y": [
          0.996872,
          0.998233,
          0.9975780000000001,
          0.99785,
          0.997648,
          "0.997658",
          0.9976430000000001,
          0.9977360000000001
         ]
        }
       ],
       "layout": {
        "height": 600,
        "legend": {
         "title": {
          "text": "Countries"
         }
        },
        "showlegend": true,
        "template": {
         "data": {
          "bar": [
           {
            "error_x": {
             "color": "#2a3f5f"
            },
            "error_y": {
             "color": "#2a3f5f"
            },
            "marker": {
             "line": {
              "color": "#E5ECF6",
              "width": 0.5
             }
            },
            "type": "bar"
           }
          ],
          "barpolar": [
           {
            "marker": {
             "line": {
              "color": "#E5ECF6",
              "width": 0.5
             }
            },
            "type": "barpolar"
           }
          ],
          "carpet": [
           {
            "aaxis": {
             "endlinecolor": "#2a3f5f",
             "gridcolor": "white",
             "linecolor": "white",
             "minorgridcolor": "white",
             "startlinecolor": "#2a3f5f"
            },
            "baxis": {
             "endlinecolor": "#2a3f5f",
             "gridcolor": "white",
             "linecolor": "white",
             "minorgridcolor": "white",
             "startlinecolor": "#2a3f5f"
            },
            "type": "carpet"
           }
          ],
          "choropleth": [
           {
            "colorbar": {
             "outlinewidth": 0,
             "ticks": ""
            },
            "type": "choropleth"
           }
          ],
          "contour": [
           {
            "colorbar": {
             "outlinewidth": 0,
             "ticks": ""
            },
            "colorscale": [
             [
              0,
              "#0d0887"
             ],
             [
              0.1111111111111111,
              "#46039f"
             ],
             [
              0.2222222222222222,
              "#7201a8"
             ],
             [
              0.3333333333333333,
              "#9c179e"
             ],
             [
              0.4444444444444444,
              "#bd3786"
             ],
             [
              0.5555555555555556,
              "#d8576b"
             ],
             [
              0.6666666666666666,
              "#ed7953"
             ],
             [
              0.7777777777777778,
              "#fb9f3a"
             ],
             [
              0.8888888888888888,
              "#fdca26"
             ],
             [
              1,
              "#f0f921"
             ]
            ],
            "type": "contour"
           }
          ],
          "contourcarpet": [
           {
            "colorbar": {
             "outlinewidth": 0,
             "ticks": ""
            },
            "type": "contourcarpet"
           }
          ],
          "heatmap": [
           {
            "colorbar": {
             "outlinewidth": 0,
             "ticks": ""
            },
            "colorscale": [
             [
              0,
              "#0d0887"
             ],
             [
              0.1111111111111111,
              "#46039f"
             ],
             [
              0.2222222222222222,
              "#7201a8"
             ],
             [
              0.3333333333333333,
              "#9c179e"
             ],
             [
              0.4444444444444444,
              "#bd3786"
             ],
             [
              0.5555555555555556,
              "#d8576b"
             ],
             [
              0.6666666666666666,
              "#ed7953"
             ],
             [
              0.7777777777777778,
              "#fb9f3a"
             ],
             [
              0.8888888888888888,
              "#fdca26"
             ],
             [
              1,
              "#f0f921"
             ]
            ],
            "type": "heatmap"
           }
          ],
          "heatmapgl": [
           {
            "colorbar": {
             "outlinewidth": 0,
             "ticks": ""
            },
            "colorscale": [
             [
              0,
              "#0d0887"
             ],
             [
              0.1111111111111111,
              "#46039f"
             ],
             [
              0.2222222222222222,
              "#7201a8"
             ],
             [
              0.3333333333333333,
              "#9c179e"
             ],
             [
              0.4444444444444444,
              "#bd3786"
             ],
             [
              0.5555555555555556,
              "#d8576b"
             ],
             [
              0.6666666666666666,
              "#ed7953"
             ],
             [
              0.7777777777777778,
              "#fb9f3a"
             ],
             [
              0.8888888888888888,
              "#fdca26"
             ],
             [
              1,
              "#f0f921"
             ]
            ],
            "type": "heatmapgl"
           }
          ],
          "histogram": [
           {
            "marker": {
             "colorbar": {
              "outlinewidth": 0,
              "ticks": ""
             }
            },
            "type": "histogram"
           }
          ],
          "histogram2d": [
           {
            "colorbar": {
             "outlinewidth": 0,
             "ticks": ""
            },
            "colorscale": [
             [
              0,
              "#0d0887"
             ],
             [
              0.1111111111111111,
              "#46039f"
             ],
             [
              0.2222222222222222,
              "#7201a8"
             ],
             [
              0.3333333333333333,
              "#9c179e"
             ],
             [
              0.4444444444444444,
              "#bd3786"
             ],
             [
              0.5555555555555556,
              "#d8576b"
             ],
             [
              0.6666666666666666,
              "#ed7953"
             ],
             [
              0.7777777777777778,
              "#fb9f3a"
             ],
             [
              0.8888888888888888,
              "#fdca26"
             ],
             [
              1,
              "#f0f921"
             ]
            ],
            "type": "histogram2d"
           }
          ],
          "histogram2dcontour": [
           {
            "colorbar": {
             "outlinewidth": 0,
             "ticks": ""
            },
            "colorscale": [
             [
              0,
              "#0d0887"
             ],
             [
              0.1111111111111111,
              "#46039f"
             ],
             [
              0.2222222222222222,
              "#7201a8"
             ],
             [
              0.3333333333333333,
              "#9c179e"
             ],
             [
              0.4444444444444444,
              "#bd3786"
             ],
             [
              0.5555555555555556,
              "#d8576b"
             ],
             [
              0.6666666666666666,
              "#ed7953"
             ],
             [
              0.7777777777777778,
              "#fb9f3a"
             ],
             [
              0.8888888888888888,
              "#fdca26"
             ],
             [
              1,
              "#f0f921"
             ]
            ],
            "type": "histogram2dcontour"
           }
          ],
          "mesh3d": [
           {
            "colorbar": {
             "outlinewidth": 0,
             "ticks": ""
            },
            "type": "mesh3d"
           }
          ],
          "parcoords": [
           {
            "line": {
             "colorbar": {
              "outlinewidth": 0,
              "ticks": ""
             }
            },
            "type": "parcoords"
           }
          ],
          "pie": [
           {
            "automargin": true,
            "type": "pie"
           }
          ],
          "scatter": [
           {
            "marker": {
             "colorbar": {
              "outlinewidth": 0,
              "ticks": ""
             }
            },
            "type": "scatter"
           }
          ],
          "scatter3d": [
           {
            "line": {
             "colorbar": {
              "outlinewidth": 0,
              "ticks": ""
             }
            },
            "marker": {
             "colorbar": {
              "outlinewidth": 0,
              "ticks": ""
             }
            },
            "type": "scatter3d"
           }
          ],
          "scattercarpet": [
           {
            "marker": {
             "colorbar": {
              "outlinewidth": 0,
              "ticks": ""
             }
            },
            "type": "scattercarpet"
           }
          ],
          "scattergeo": [
           {
            "marker": {
             "colorbar": {
              "outlinewidth": 0,
              "ticks": ""
             }
            },
            "type": "scattergeo"
           }
          ],
          "scattergl": [
           {
            "marker": {
             "colorbar": {
              "outlinewidth": 0,
              "ticks": ""
             }
            },
            "type": "scattergl"
           }
          ],
          "scattermapbox": [
           {
            "marker": {
             "colorbar": {
              "outlinewidth": 0,
              "ticks": ""
             }
            },
            "type": "scattermapbox"
           }
          ],
          "scatterpolar": [
           {
            "marker": {
             "colorbar": {
              "outlinewidth": 0,
              "ticks": ""
             }
            },
            "type": "scatterpolar"
           }
          ],
          "scatterpolargl": [
           {
            "marker": {
             "colorbar": {
              "outlinewidth": 0,
              "ticks": ""
             }
            },
            "type": "scatterpolargl"
           }
          ],
          "scatterternary": [
           {
            "marker": {
             "colorbar": {
              "outlinewidth": 0,
              "ticks": ""
             }
            },
            "type": "scatterternary"
           }
          ],
          "surface": [
           {
            "colorbar": {
             "outlinewidth": 0,
             "ticks": ""
            },
            "colorscale": [
             [
              0,
              "#0d0887"
             ],
             [
              0.1111111111111111,
              "#46039f"
             ],
             [
              0.2222222222222222,
              "#7201a8"
             ],
             [
              0.3333333333333333,
              "#9c179e"
             ],
             [
              0.4444444444444444,
              "#bd3786"
             ],
             [
              0.5555555555555556,
              "#d8576b"
             ],
             [
              0.6666666666666666,
              "#ed7953"
             ],
             [
              0.7777777777777778,
              "#fb9f3a"
             ],
             [
              0.8888888888888888,
              "#fdca26"
             ],
             [
              1,
              "#f0f921"
             ]
            ],
            "type": "surface"
           }
          ],
          "table": [
           {
            "cells": {
             "fill": {
              "color": "#EBF0F8"
             },
             "line": {
              "color": "white"
             }
            },
            "header": {
             "fill": {
              "color": "#C8D4E3"
             },
             "line": {
              "color": "white"
             }
            },
            "type": "table"
           }
          ]
         },
         "layout": {
          "annotationdefaults": {
           "arrowcolor": "#2a3f5f",
           "arrowhead": 0,
           "arrowwidth": 1
          },
          "coloraxis": {
           "colorbar": {
            "outlinewidth": 0,
            "ticks": ""
           }
          },
          "colorscale": {
           "diverging": [
            [
             0,
             "#8e0152"
            ],
            [
             0.1,
             "#c51b7d"
            ],
            [
             0.2,
             "#de77ae"
            ],
            [
             0.3,
             "#f1b6da"
            ],
            [
             0.4,
             "#fde0ef"
            ],
            [
             0.5,
             "#f7f7f7"
            ],
            [
             0.6,
             "#e6f5d0"
            ],
            [
             0.7,
             "#b8e186"
            ],
            [
             0.8,
             "#7fbc41"
            ],
            [
             0.9,
             "#4d9221"
            ],
            [
             1,
             "#276419"
            ]
           ],
           "sequential": [
            [
             0,
             "#0d0887"
            ],
            [
             0.1111111111111111,
             "#46039f"
            ],
            [
             0.2222222222222222,
             "#7201a8"
            ],
            [
             0.3333333333333333,
             "#9c179e"
            ],
            [
             0.4444444444444444,
             "#bd3786"
            ],
            [
             0.5555555555555556,
             "#d8576b"
            ],
            [
             0.6666666666666666,
             "#ed7953"
            ],
            [
             0.7777777777777778,
             "#fb9f3a"
            ],
            [
             0.8888888888888888,
             "#fdca26"
            ],
            [
             1,
             "#f0f921"
            ]
           ],
           "sequentialminus": [
            [
             0,
             "#0d0887"
            ],
            [
             0.1111111111111111,
             "#46039f"
            ],
            [
             0.2222222222222222,
             "#7201a8"
            ],
            [
             0.3333333333333333,
             "#9c179e"
            ],
            [
             0.4444444444444444,
             "#bd3786"
            ],
            [
             0.5555555555555556,
             "#d8576b"
            ],
            [
             0.6666666666666666,
             "#ed7953"
            ],
            [
             0.7777777777777778,
             "#fb9f3a"
            ],
            [
             0.8888888888888888,
             "#fdca26"
            ],
            [
             1,
             "#f0f921"
            ]
           ]
          },
          "colorway": [
           "#636efa",
           "#EF553B",
           "#00cc96",
           "#ab63fa",
           "#FFA15A",
           "#19d3f3",
           "#FF6692",
           "#B6E880",
           "#FF97FF",
           "#FECB52"
          ],
          "font": {
           "color": "#2a3f5f"
          },
          "geo": {
           "bgcolor": "white",
           "lakecolor": "white",
           "landcolor": "#E5ECF6",
           "showlakes": true,
           "showland": true,
           "subunitcolor": "white"
          },
          "hoverlabel": {
           "align": "left"
          },
          "hovermode": "closest",
          "mapbox": {
           "style": "light"
          },
          "paper_bgcolor": "white",
          "plot_bgcolor": "#E5ECF6",
          "polar": {
           "angularaxis": {
            "gridcolor": "white",
            "linecolor": "white",
            "ticks": ""
           },
           "bgcolor": "#E5ECF6",
           "radialaxis": {
            "gridcolor": "white",
            "linecolor": "white",
            "ticks": ""
           }
          },
          "scene": {
           "xaxis": {
            "backgroundcolor": "#E5ECF6",
            "gridcolor": "white",
            "gridwidth": 2,
            "linecolor": "white",
            "showbackground": true,
            "ticks": "",
            "zerolinecolor": "white"
           },
           "yaxis": {
            "backgroundcolor": "#E5ECF6",
            "gridcolor": "white",
            "gridwidth": 2,
            "linecolor": "white",
            "showbackground": true,
            "ticks": "",
            "zerolinecolor": "white"
           },
           "zaxis": {
            "backgroundcolor": "#E5ECF6",
            "gridcolor": "white",
            "gridwidth": 2,
            "linecolor": "white",
            "showbackground": true,
            "ticks": "",
            "zerolinecolor": "white"
           }
          },
          "shapedefaults": {
           "line": {
            "color": "#2a3f5f"
           }
          },
          "ternary": {
           "aaxis": {
            "gridcolor": "white",
            "linecolor": "white",
            "ticks": ""
           },
           "baxis": {
            "gridcolor": "white",
            "linecolor": "white",
            "ticks": ""
           },
           "bgcolor": "#E5ECF6",
           "caxis": {
            "gridcolor": "white",
            "linecolor": "white",
            "ticks": ""
           }
          },
          "title": {
           "x": 0.05
          },
          "xaxis": {
           "automargin": true,
           "gridcolor": "white",
           "linecolor": "white",
           "ticks": "",
           "title": {
            "standoff": 15
           },
           "zerolinecolor": "white",
           "zerolinewidth": 2
          },
          "yaxis": {
           "automargin": true,
           "gridcolor": "white",
           "linecolor": "white",
           "ticks": "",
           "title": {
            "standoff": 15
           },
           "zerolinecolor": "white",
           "zerolinewidth": 2
          }
         }
        },
        "title": {
         "text": "Select an indicator and compare countries"
        },
        "updatemenus": [
         {
          "active": 0,
          "buttons": [
           {
            "args": [
             {
              "x": [
               [
                "2011-01-01 00:00:00",
                "2012-01-01 00:00:00",
                "2013-01-01 00:00:00",
                "2014-01-01 00:00:00",
                "2015-01-01 00:00:00",
                "2016-01-01 00:00:00",
                "2017-01-01 00:00:00",
                "2019-01-01 00:00:00"
               ],
               [
                "2011-01-01 00:00:00",
                "2012-01-01 00:00:00",
                "2013-01-01 00:00:00",
                "2014-01-01 00:00:00",
                "2015-01-01 00:00:00",
                "2016-01-01 00:00:00",
                "2017-01-01 00:00:00",
                "2019-01-01 00:00:00"
               ],
               [
                "2011-01-01 00:00:00",
                "2012-01-01 00:00:00",
                "2013-01-01 00:00:00",
                "2014-01-01 00:00:00",
                "2015-01-01 00:00:00",
                "2016-01-01 00:00:00",
                "2017-01-01 00:00:00",
                "2019-01-01 00:00:00"
               ],
               [
                "2011-01-01 00:00:00",
                "2012-01-01 00:00:00",
                "2013-01-01 00:00:00",
                "2014-01-01 00:00:00",
                "2015-01-01 00:00:00",
                "2016-01-01 00:00:00",
                "2017-01-01 00:00:00",
                "2019-01-01 00:00:00"
               ],
               [
                "2011-01-01 00:00:00",
                "2012-01-01 00:00:00",
                "2013-01-01 00:00:00",
                "2014-01-01 00:00:00",
                "2015-01-01 00:00:00",
                "2016-01-01 00:00:00",
                "2017-01-01 00:00:00",
                "2019-01-01 00:00:00"
               ],
               [
                "2011-01-01 00:00:00",
                "2012-01-01 00:00:00",
                "2013-01-01 00:00:00",
                "2014-01-01 00:00:00",
                "2015-01-01 00:00:00",
                "2016-01-01 00:00:00",
                "2017-01-01 00:00:00",
                "2019-01-01 00:00:00"
               ],
               [
                "2011-01-01 00:00:00",
                "2012-01-01 00:00:00",
                "2013-01-01 00:00:00",
                "2014-01-01 00:00:00",
                "2015-01-01 00:00:00",
                "2016-01-01 00:00:00",
                "2017-01-01 00:00:00",
                "2019-01-01 00:00:00"
               ],
               [
                "2011-01-01 00:00:00",
                "2012-01-01 00:00:00",
                "2013-01-01 00:00:00",
                "2014-01-01 00:00:00",
                "2015-01-01 00:00:00",
                "2016-01-01 00:00:00",
                "2017-01-01 00:00:00",
                "2019-01-01 00:00:00"
               ],
               [
                "2011-01-01 00:00:00",
                "2012-01-01 00:00:00",
                "2013-01-01 00:00:00",
                "2014-01-01 00:00:00",
                "2015-01-01 00:00:00",
                "2016-01-01 00:00:00",
                "2017-01-01 00:00:00",
                "2019-01-01 00:00:00"
               ],
               [
                "2011-01-01 00:00:00",
                "2012-01-01 00:00:00",
                "2013-01-01 00:00:00",
                "2014-01-01 00:00:00",
                "2015-01-01 00:00:00",
                "2016-01-01 00:00:00",
                "2017-01-01 00:00:00",
                "2019-01-01 00:00:00"
               ],
               [
                "2011-01-01 00:00:00",
                "2012-01-01 00:00:00",
                "2013-01-01 00:00:00",
                "2014-01-01 00:00:00",
                "2015-01-01 00:00:00",
                "2016-01-01 00:00:00",
                "2017-01-01 00:00:00",
                "2019-01-01 00:00:00"
               ],
               [
                "2011-01-01 00:00:00",
                "2012-01-01 00:00:00",
                "2013-01-01 00:00:00",
                "2014-01-01 00:00:00",
                "2015-01-01 00:00:00",
                "2016-01-01 00:00:00",
                "2017-01-01 00:00:00",
                "2019-01-01 00:00:00"
               ],
               [
                "2011-01-01 00:00:00",
                "2012-01-01 00:00:00",
                "2013-01-01 00:00:00",
                "2014-01-01 00:00:00",
                "2015-01-01 00:00:00",
                "2016-01-01 00:00:00",
                "2017-01-01 00:00:00",
                "2019-01-01 00:00:00"
               ],
               [
                "2011-01-01 00:00:00",
                "2012-01-01 00:00:00",
                "2013-01-01 00:00:00",
                "2014-01-01 00:00:00",
                "2015-01-01 00:00:00",
                "2016-01-01 00:00:00",
                "2017-01-01 00:00:00",
                "2019-01-01 00:00:00"
               ],
               [
                "2011-01-01 00:00:00",
                "2012-01-01 00:00:00",
                "2013-01-01 00:00:00",
                "2014-01-01 00:00:00",
                "2015-01-01 00:00:00",
                "2016-01-01 00:00:00",
                "2017-01-01 00:00:00",
                "2019-01-01 00:00:00"
               ],
               [
                "2011-01-01 00:00:00",
                "2012-01-01 00:00:00",
                "2013-01-01 00:00:00",
                "2014-01-01 00:00:00",
                "2015-01-01 00:00:00",
                "2016-01-01 00:00:00",
                "2017-01-01 00:00:00",
                "2019-01-01 00:00:00"
               ],
               [
                "2011-01-01 00:00:00",
                "2012-01-01 00:00:00",
                "2013-01-01 00:00:00",
                "2014-01-01 00:00:00",
                "2015-01-01 00:00:00",
                "2016-01-01 00:00:00",
                "2017-01-01 00:00:00",
                "2019-01-01 00:00:00"
               ],
               [
                "2011-01-01 00:00:00",
                "2012-01-01 00:00:00",
                "2013-01-01 00:00:00",
                "2014-01-01 00:00:00",
                "2015-01-01 00:00:00",
                "2016-01-01 00:00:00",
                "2017-01-01 00:00:00",
                "2019-01-01 00:00:00"
               ],
               [
                "2011-01-01 00:00:00",
                "2012-01-01 00:00:00",
                "2013-01-01 00:00:00",
                "2014-01-01 00:00:00",
                "2015-01-01 00:00:00",
                "2016-01-01 00:00:00",
                "2017-01-01 00:00:00",
                "2019-01-01 00:00:00"
               ],
               [
                "2011-01-01 00:00:00",
                "2012-01-01 00:00:00",
                "2013-01-01 00:00:00",
                "2014-01-01 00:00:00",
                "2015-01-01 00:00:00",
                "2016-01-01 00:00:00",
                "2017-01-01 00:00:00",
                "2019-01-01 00:00:00"
               ],
               [
                "2011-01-01 00:00:00",
                "2012-01-01 00:00:00",
                "2013-01-01 00:00:00",
                "2014-01-01 00:00:00",
                "2015-01-01 00:00:00",
                "2016-01-01 00:00:00",
                "2017-01-01 00:00:00",
                "2019-01-01 00:00:00"
               ],
               [
                "2011-01-01 00:00:00",
                "2012-01-01 00:00:00",
                "2014-01-01 00:00:00",
                "2015-01-01 00:00:00",
                "2016-01-01 00:00:00",
                "2017-01-01 00:00:00",
                "2019-01-01 00:00:00"
               ],
               [
                "2011-01-01 00:00:00",
                "2012-01-01 00:00:00",
                "2013-01-01 00:00:00",
                "2014-01-01 00:00:00",
                "2015-01-01 00:00:00",
                "2016-01-01 00:00:00",
                "2017-01-01 00:00:00",
                "2019-01-01 00:00:00"
               ],
               [
                "2011-01-01 00:00:00",
                "2012-01-01 00:00:00",
                "2013-01-01 00:00:00",
                "2014-01-01 00:00:00",
                "2015-01-01 00:00:00",
                "2016-01-01 00:00:00",
                "2017-01-01 00:00:00",
                "2019-01-01 00:00:00"
               ],
               [
                "2011-01-01 00:00:00",
                "2012-01-01 00:00:00",
                "2013-01-01 00:00:00",
                "2014-01-01 00:00:00",
                "2015-01-01 00:00:00",
                "2016-01-01 00:00:00",
                "2017-01-01 00:00:00",
                "2019-01-01 00:00:00"
               ],
               [
                "2011-01-01 00:00:00",
                "2012-01-01 00:00:00",
                "2013-01-01 00:00:00",
                "2014-01-01 00:00:00",
                "2015-01-01 00:00:00",
                "2016-01-01 00:00:00",
                "2017-01-01 00:00:00",
                "2019-01-01 00:00:00"
               ],
               [
                "2011-01-01 00:00:00",
                "2012-01-01 00:00:00",
                "2013-01-01 00:00:00",
                "2014-01-01 00:00:00",
                "2015-01-01 00:00:00",
                "2016-01-01 00:00:00",
                "2017-01-01 00:00:00",
                "2019-01-01 00:00:00"
               ],
               [
                "2011-01-01 00:00:00",
                "2012-01-01 00:00:00",
                "2013-01-01 00:00:00",
                "2014-01-01 00:00:00",
                "2015-01-01 00:00:00",
                "2016-01-01 00:00:00",
                "2017-01-01 00:00:00",
                "2019-01-01 00:00:00"
               ],
               [
                "2011-01-01 00:00:00",
                "2012-01-01 00:00:00",
                "2013-01-01 00:00:00",
                "2014-01-01 00:00:00",
                "2015-01-01 00:00:00",
                "2016-01-01 00:00:00",
                "2017-01-01 00:00:00",
                "2019-01-01 00:00:00"
               ],
               [
                "2011-01-01 00:00:00",
                "2012-01-01 00:00:00",
                "2013-01-01 00:00:00",
                "2014-01-01 00:00:00",
                "2015-01-01 00:00:00",
                "2016-01-01 00:00:00",
                "2017-01-01 00:00:00",
                "2019-01-01 00:00:00"
               ],
               [
                "2011-01-01 00:00:00",
                "2012-01-01 00:00:00",
                "2013-01-01 00:00:00",
                "2014-01-01 00:00:00",
                "2015-01-01 00:00:00",
                "2016-01-01 00:00:00",
                "2017-01-01 00:00:00",
                "2019-01-01 00:00:00"
               ],
               [
                "2011-01-01 00:00:00",
                "2012-01-01 00:00:00",
                "2013-01-01 00:00:00",
                "2014-01-01 00:00:00",
                "2015-01-01 00:00:00",
                "2016-01-01 00:00:00",
                "2017-01-01 00:00:00",
                "2019-01-01 00:00:00"
               ]
              ],
              "y": [
               [
                0.8603870000000001,
                0.840996,
                0.850774,
                0.860477,
                0.86805,
                0.908856,
                0.894905,
                0.909415
               ],
               [
                0.985,
                0.9907090000000001,
                0.945,
                0.951,
                0.9540000000000001,
                "0.95635",
                0.961673,
                0.9947030000000001
               ],
               [
                0.963518,
                0.9507559999999999,
                0.965319,
                0.9508969999999999,
                0.950557,
                0.954959,
                0.9567260000000001,
                0.956385
               ],
               [
                0.950457,
                0.9325110000000001,
                0.9670000000000001,
                0.969825,
                0.9698200000000001,
                0.97,
                0.9701270000000001,
                0.9053629999999999
               ],
               [
                0.9939530000000001,
                0.99325,
                0.997016,
                0.997309,
                0.997556,
                0.9995149999999999,
                0.9999520000000001,
                0.9999540000000001
               ],
               [
                null,
                0.9414520000000001,
                0.9605549999999999,
                0.965791,
                0.9686440000000001,
                "0.969799",
                0.99269,
                0.998749
               ],
               [
                0.893943,
                0.9183549999999999,
                0.943543,
                0.943708,
                0.952418,
                "0.952439",
                0.9524590000000001,
                0.9547530000000001
               ],
               [
                0.944895,
                0.97078,
                0.9625370000000001,
                0.96262,
                0.962684,
                0.962684,
                0.973601,
                0.978455
               ],
               [
                0.9441639999999999,
                0.9441639999999999,
                0.966,
                0.9516399999999999,
                0.9519569999999999,
                "0.956091",
                0.9665969999999999,
                0.995439
               ],
               [
                0.9570000000000001,
                0.966,
                0.966,
                0.97,
                0.9740000000000001,
                0.977,
                0.977,
                0.985507
               ],
               [
                0.945,
                0.9811719999999999,
                0.975,
                0.975,
                0.9755,
                "0.988838",
                0.984355,
                0.974289
               ],
               [
                0.99,
                0.9832700000000001,
                0.991142,
                0.9911040000000001,
                0.989978,
                "0.993185",
                0.995,
                0.99
               ],
               [
                0.985,
                0.984102,
                0.98766,
                0.99149,
                0.992692,
                0.992699,
                0.9934780000000001,
                0.9960129999999999
               ],
               [
                0.884,
                0.967881,
                0.7959999999999999,
                0.8009999999999999,
                0.8059999999999999,
                "0.8103",
                0.820157,
                0.850893
               ],
               [
                0.998,
                0.998782,
                0.999915,
                0.99984,
                0.99984,
                0.99984,
                0.99984,
                1
               ],
               [
                0.755166,
                0.8286319999999999,
                0.9164690000000001,
                0.919443,
                0.9250520000000001,
                "0.925998",
                0.928449,
                0.9403040000000001
               ],
               [
                0.9990000000000001,
                0.9999959999999999,
                0.999768,
                1,
                1,
                "1",
                1,
                1
               ],
               [
                1,
                1,
                0.999926,
                0.995,
                0.995,
                "0.995",
                0.995,
                0.995
               ],
               [
                0.9590000000000001,
                0.9630719999999999,
                0.967461,
                0.951784,
                0.947342,
                0.9534530000000001,
                0.9440799999999999,
                0.986454
               ],
               [
                0.995,
                0.9955430000000001,
                0.951,
                0.948,
                0.946,
                0.942961,
                0.9348629999999999,
                0.9486190000000001
               ],
               [
                0.653541,
                0.6905060000000001,
                0.7909999999999999,
                0.7959999999999999,
                0.802,
                0.8093060000000001,
                0.814616,
                0.8346389999999999
               ],
               [
                0.946169,
                0.95475,
                "0.963734",
                "0.964928",
                "0.966662",
                0.967205,
                0.9706959999999999
               ],
               [
                0.868242,
                0.8597229999999999,
                0.8999540000000001,
                0.894135,
                0.887601,
                0.885992,
                0.881451,
                0.8735209999999999
               ],
               [
                0.9805200000000001,
                0.985403,
                0.9902129999999999,
                0.989725,
                0.989725,
                0.9898290000000001,
                0.9850129999999999,
                0.973283
               ],
               [
                0.757616,
                0.8430489999999999,
                0.9518559999999999,
                0.9538540000000001,
                0.954551,
                0.9770559999999999,
                0.978,
                0.9874860000000001
               ],
               [
                0.75,
                0.752243,
                0.865167,
                0.86816,
                0.863289,
                "0.880195",
                0.882827,
                0.896904
               ],
               [
                0.995609,
                0.9979620000000001,
                0.999776,
                0.9997799999999999,
                0.999777,
                0.9952,
                0.9990000000000001,
                1
               ],
               [
                0.981834,
                0.9886719999999999,
                0.9912790000000001,
                0.9924959999999999,
                0.992497,
                0.9843360000000001,
                0.984492,
                0.9928620000000001
               ],
               [
                0.999655,
                0.9995629999999999,
                0.9993190000000001,
                0.99925,
                0.99925,
                "0.999269",
                0.99925,
                0.9997520000000001
               ],
               [
                0.8905379999999999,
                0.8963549999999999,
                0.9252,
                0.951097,
                0.951676,
                "0.95204",
                0.95204,
                0.955635
               ],
               [
                1,
                1,
                0.99995,
                0.99995,
                0.99995,
                0.99995,
                0.99995,
                1
               ],
               [
                0.996872,
                0.998233,
                0.9975780000000001,
                0.99785,
                0.997648,
                "0.997658",
                0.9976430000000001,
                0.9977360000000001
               ]
              ]
             }
            ],
            "label": "Standard fixed broadband coverage/availability",
            "method": "update"
           },
           {
            "args": [
             {
              "x": [
               [
                "2011-01-01 00:00:00",
                "2012-01-01 00:00:00",
                "2013-01-01 00:00:00",
                "2014-01-01 00:00:00",
                "2015-01-01 00:00:00",
                "2016-01-01 00:00:00",
                "2017-01-01 00:00:00",
                "2019-01-01 00:00:00"
               ],
               [
                "2011-01-01 00:00:00",
                "2012-01-01 00:00:00",
                "2013-01-01 00:00:00",
                "2014-01-01 00:00:00",
                "2015-01-01 00:00:00",
                "2016-01-01 00:00:00",
                "2017-01-01 00:00:00",
                "2019-01-01 00:00:00"
               ],
               [
                "2011-01-01 00:00:00",
                "2012-01-01 00:00:00",
                "2013-01-01 00:00:00",
                "2014-01-01 00:00:00",
                "2015-01-01 00:00:00",
                "2016-01-01 00:00:00",
                "2017-01-01 00:00:00",
                "2019-01-01 00:00:00"
               ],
               [
                "2011-01-01 00:00:00",
                "2012-01-01 00:00:00",
                "2013-01-01 00:00:00",
                "2014-01-01 00:00:00",
                "2015-01-01 00:00:00",
                "2016-01-01 00:00:00",
                "2017-01-01 00:00:00",
                "2019-01-01 00:00:00"
               ],
               [
                "2011-01-01 00:00:00",
                "2012-01-01 00:00:00",
                "2013-01-01 00:00:00",
                "2014-01-01 00:00:00",
                "2015-01-01 00:00:00",
                "2016-01-01 00:00:00",
                "2017-01-01 00:00:00",
                "2019-01-01 00:00:00"
               ],
               [
                "2011-01-01 00:00:00",
                "2012-01-01 00:00:00",
                "2013-01-01 00:00:00",
                "2014-01-01 00:00:00",
                "2015-01-01 00:00:00",
                "2016-01-01 00:00:00",
                "2017-01-01 00:00:00",
                "2019-01-01 00:00:00"
               ],
               [
                "2011-01-01 00:00:00",
                "2012-01-01 00:00:00",
                "2013-01-01 00:00:00",
                "2014-01-01 00:00:00",
                "2015-01-01 00:00:00",
                "2016-01-01 00:00:00",
                "2017-01-01 00:00:00",
                "2019-01-01 00:00:00"
               ],
               [
                "2011-01-01 00:00:00",
                "2012-01-01 00:00:00",
                "2013-01-01 00:00:00",
                "2014-01-01 00:00:00",
                "2015-01-01 00:00:00",
                "2016-01-01 00:00:00",
                "2017-01-01 00:00:00",
                "2019-01-01 00:00:00"
               ],
               [
                "2011-01-01 00:00:00",
                "2012-01-01 00:00:00",
                "2013-01-01 00:00:00",
                "2014-01-01 00:00:00",
                "2015-01-01 00:00:00",
                "2016-01-01 00:00:00",
                "2017-01-01 00:00:00",
                "2019-01-01 00:00:00"
               ],
               [
                "2011-01-01 00:00:00",
                "2012-01-01 00:00:00",
                "2013-01-01 00:00:00",
                "2014-01-01 00:00:00",
                "2015-01-01 00:00:00",
                "2016-01-01 00:00:00",
                "2017-01-01 00:00:00",
                "2019-01-01 00:00:00"
               ],
               [
                "2011-01-01 00:00:00",
                "2012-01-01 00:00:00",
                "2013-01-01 00:00:00",
                "2014-01-01 00:00:00",
                "2015-01-01 00:00:00",
                "2016-01-01 00:00:00",
                "2017-01-01 00:00:00",
                "2019-01-01 00:00:00"
               ],
               [
                "2011-01-01 00:00:00",
                "2012-01-01 00:00:00",
                "2013-01-01 00:00:00",
                "2014-01-01 00:00:00",
                "2015-01-01 00:00:00",
                "2016-01-01 00:00:00",
                "2017-01-01 00:00:00",
                "2019-01-01 00:00:00"
               ],
               [
                "2011-01-01 00:00:00",
                "2012-01-01 00:00:00",
                "2013-01-01 00:00:00",
                "2014-01-01 00:00:00",
                "2015-01-01 00:00:00",
                "2016-01-01 00:00:00",
                "2017-01-01 00:00:00",
                "2019-01-01 00:00:00"
               ],
               [
                "2011-01-01 00:00:00",
                "2012-01-01 00:00:00",
                "2013-01-01 00:00:00",
                "2014-01-01 00:00:00",
                "2015-01-01 00:00:00",
                "2016-01-01 00:00:00",
                "2017-01-01 00:00:00",
                "2019-01-01 00:00:00"
               ],
               [
                "2011-01-01 00:00:00",
                "2012-01-01 00:00:00",
                "2013-01-01 00:00:00",
                "2014-01-01 00:00:00",
                "2015-01-01 00:00:00",
                "2016-01-01 00:00:00",
                "2017-01-01 00:00:00",
                "2019-01-01 00:00:00"
               ],
               [
                "2011-01-01 00:00:00",
                "2012-01-01 00:00:00",
                "2013-01-01 00:00:00",
                "2014-01-01 00:00:00",
                "2015-01-01 00:00:00",
                "2016-01-01 00:00:00",
                "2017-01-01 00:00:00",
                "2019-01-01 00:00:00"
               ],
               [
                "2011-01-01 00:00:00",
                "2012-01-01 00:00:00",
                "2013-01-01 00:00:00",
                "2014-01-01 00:00:00",
                "2015-01-01 00:00:00",
                "2016-01-01 00:00:00",
                "2017-01-01 00:00:00",
                "2019-01-01 00:00:00"
               ],
               [
                "2011-01-01 00:00:00",
                "2012-01-01 00:00:00",
                "2013-01-01 00:00:00",
                "2014-01-01 00:00:00",
                "2015-01-01 00:00:00",
                "2016-01-01 00:00:00",
                "2017-01-01 00:00:00",
                "2019-01-01 00:00:00"
               ],
               [
                "2011-01-01 00:00:00",
                "2012-01-01 00:00:00",
                "2013-01-01 00:00:00",
                "2014-01-01 00:00:00",
                "2015-01-01 00:00:00",
                "2016-01-01 00:00:00",
                "2017-01-01 00:00:00",
                "2019-01-01 00:00:00"
               ],
               [
                "2011-01-01 00:00:00",
                "2012-01-01 00:00:00",
                "2013-01-01 00:00:00",
                "2014-01-01 00:00:00",
                "2015-01-01 00:00:00",
                "2016-01-01 00:00:00",
                "2017-01-01 00:00:00",
                "2019-01-01 00:00:00"
               ],
               [
                "2011-01-01 00:00:00",
                "2012-01-01 00:00:00",
                "2013-01-01 00:00:00",
                "2014-01-01 00:00:00",
                "2015-01-01 00:00:00",
                "2016-01-01 00:00:00",
                "2017-01-01 00:00:00",
                "2019-01-01 00:00:00"
               ],
               [
                "2011-01-01 00:00:00",
                "2012-01-01 00:00:00",
                "2014-01-01 00:00:00",
                "2015-01-01 00:00:00",
                "2016-01-01 00:00:00",
                "2017-01-01 00:00:00",
                "2019-01-01 00:00:00"
               ],
               [
                "2011-01-01 00:00:00",
                "2012-01-01 00:00:00",
                "2013-01-01 00:00:00",
                "2014-01-01 00:00:00",
                "2015-01-01 00:00:00",
                "2016-01-01 00:00:00",
                "2017-01-01 00:00:00",
                "2019-01-01 00:00:00"
               ],
               [
                "2011-01-01 00:00:00",
                "2012-01-01 00:00:00",
                "2013-01-01 00:00:00",
                "2014-01-01 00:00:00",
                "2015-01-01 00:00:00",
                "2016-01-01 00:00:00",
                "2017-01-01 00:00:00",
                "2019-01-01 00:00:00"
               ],
               [
                "2011-01-01 00:00:00",
                "2012-01-01 00:00:00",
                "2013-01-01 00:00:00",
                "2014-01-01 00:00:00",
                "2015-01-01 00:00:00",
                "2016-01-01 00:00:00",
                "2017-01-01 00:00:00",
                "2019-01-01 00:00:00"
               ],
               [
                "2011-01-01 00:00:00",
                "2012-01-01 00:00:00",
                "2013-01-01 00:00:00",
                "2014-01-01 00:00:00",
                "2015-01-01 00:00:00",
                "2016-01-01 00:00:00",
                "2017-01-01 00:00:00",
                "2019-01-01 00:00:00"
               ],
               [
                "2011-01-01 00:00:00",
                "2012-01-01 00:00:00",
                "2013-01-01 00:00:00",
                "2014-01-01 00:00:00",
                "2015-01-01 00:00:00",
                "2016-01-01 00:00:00",
                "2017-01-01 00:00:00",
                "2019-01-01 00:00:00"
               ],
               [
                "2011-01-01 00:00:00",
                "2012-01-01 00:00:00",
                "2013-01-01 00:00:00",
                "2014-01-01 00:00:00",
                "2015-01-01 00:00:00",
                "2016-01-01 00:00:00",
                "2017-01-01 00:00:00",
                "2019-01-01 00:00:00"
               ],
               [
                "2011-01-01 00:00:00",
                "2012-01-01 00:00:00",
                "2013-01-01 00:00:00",
                "2014-01-01 00:00:00",
                "2015-01-01 00:00:00",
                "2016-01-01 00:00:00",
                "2017-01-01 00:00:00",
                "2019-01-01 00:00:00"
               ],
               [
                "2011-01-01 00:00:00",
                "2012-01-01 00:00:00",
                "2013-01-01 00:00:00",
                "2014-01-01 00:00:00",
                "2015-01-01 00:00:00",
                "2016-01-01 00:00:00",
                "2017-01-01 00:00:00",
                "2019-01-01 00:00:00"
               ],
               [
                "2011-01-01 00:00:00",
                "2012-01-01 00:00:00",
                "2013-01-01 00:00:00",
                "2014-01-01 00:00:00",
                "2015-01-01 00:00:00",
                "2016-01-01 00:00:00",
                "2017-01-01 00:00:00",
                "2019-01-01 00:00:00"
               ],
               [
                "2011-01-01 00:00:00",
                "2012-01-01 00:00:00",
                "2013-01-01 00:00:00",
                "2014-01-01 00:00:00",
                "2015-01-01 00:00:00",
                "2016-01-01 00:00:00",
                "2017-01-01 00:00:00",
                "2019-01-01 00:00:00"
               ]
              ],
              "y": [
               [
                0.520889,
                0.609525,
                0.626015,
                0.75074,
                0.781254,
                "0.791077",
                0.803945,
                0.8369139999999999
               ],
               [
                0.042,
                0.21890900000000002,
                0.26865700000000003,
                0.340107,
                0.36309,
                0.48474399999999995,
                0.5250060000000001,
                0.805998
               ],
               [
                0.560037,
                0.639,
                0.648645,
                0.732328,
                0.765943,
                0.8084100000000001,
                0.850291,
                0.898
               ],
               [
                0.639038,
                0.6548430000000001,
                0.721414,
                0.750893,
                0.746369,
                "0.734701",
                0.740531,
                0.75392
               ],
               [
                0.23154499999999997,
                0.24220100000000003,
                0.40947,
                0.42608199999999996,
                0.448007,
                "0.470129",
                0.518872,
                0.6206010000000001
               ],
               [
                null,
                0.19054300000000002,
                0.332547,
                0.474868,
                0.51965,
                0.599384,
                0.676003,
                0.856259
               ],
               [
                0.5280050000000001,
                0.5974470000000001,
                0.7565529999999999,
                0.755818,
                0.781516,
                0.8055260000000001,
                0.8274950000000001,
                0.895543
               ],
               [
                0.311619,
                0.42113500000000004,
                0.5402,
                0.7074090000000001,
                0.797299,
                "0.81599",
                0.927636,
                0.960326
               ],
               [
                0.445954,
                0.5413,
                0.60512,
                0.880548,
                0.892496,
                "0.940274",
                0.9578110000000001,
                0.9694149999999999
               ],
               [
                0.638,
                0.662,
                0.7475,
                0.8079999999999999,
                0.8135,
                "0.8175",
                0.841,
                0.92242
               ],
               [
                0.40299999999999997,
                0.493098,
                0.636516,
                0.68689,
                0.7285699999999999,
                "0.750825",
                0.886191,
                0.920636
               ],
               [
                0.619,
                0.731554,
                0.825792,
                0.9170389999999999,
                0.91704,
                "0.9326",
                0.9458,
                0.96
               ],
               [
                0.107,
                0.14044500000000001,
                0.208781,
                0.316776,
                0.40972600000000003,
                0.722804,
                0.8679040000000001,
                0.88895
               ],
               [
                0.622,
                0.8,
                0.48700000000000004,
                0.49200000000000005,
                0.496,
                "0.501",
                0.544077,
                0.694391
               ],
               [
                0.8520989999999999,
                0.938464,
                0.943104,
                0.944168,
                0.944019,
                "0.944206",
                0.945642,
                0.978
               ],
               [
                0.660466,
                0.78479,
                0.888459,
                0.8958149999999999,
                0.906883,
                "0.911169",
                0.9152309999999999,
                0.9308700000000001
               ],
               [
                0.987884,
                0.9990000000000001,
                0.9997389999999999,
                1,
                0.9999959999999999,
                "0.9995",
                0.9995,
                1
               ],
               [
                0.971234,
                0.984246,
                0.976368,
                0.984107,
                0.9825440000000001,
                0.9826010000000001,
                0.9828870000000001,
                0.9829479999999999
               ],
               [
                0.693621,
                0.6733,
                0.754165,
                0.779705,
                0.796061,
                "0.853403",
                0.8645149999999999,
                0.8929530000000001
               ],
               [
                0.745,
                0.777795,
                0.649,
                0.6579999999999999,
                0.664,
                "0.671228",
                0.717201,
                0.829992
               ],
               [
                0.367648,
                0.44482700000000003,
                0.521366,
                0.533665,
                0.6070949999999999,
                "0.610651",
                0.648,
                0.7592270000000001
               ],
               [
                0.48147399999999996,
                0.537289,
                "0.663069",
                "0.693544",
                0.7466229999999999,
                0.792651,
                0.8584629999999999
               ],
               [
                0.5742550000000001,
                0.62866,
                0.659285,
                0.692407,
                0.704142,
                "0.717053",
                0.739624,
                0.819826
               ],
               [
                0.5340699999999999,
                0.5660000000000001,
                0.711803,
                0.731761,
                0.731761,
                "0.751719",
                0.776863,
                0.850658
               ],
               [
                0.626754,
                0.714489,
                0.7806810000000001,
                0.802133,
                0.808175,
                0.815893,
                0.8320000000000001,
                0.8690760000000001
               ],
               [
                0.47176999999999997,
                0.510688,
                0.538151,
                0.5053979999999999,
                0.544443,
                "0.649479",
                0.701666,
                0.759728
               ],
               [
                0.583,
                0.702785,
                0.817714,
                0.8854569999999999,
                0.905425,
                "0.921244",
                0.941139,
                0.959664
               ],
               [
                0.644,
                0.695188,
                0.701921,
                0.74795,
                0.753163,
                "0.780838",
                0.8368129999999999,
                0.839952
               ],
               [
                0.968199,
                0.9713860000000001,
                0.968,
                0.975,
                0.98,
                "0.98442",
                0.9833559999999999,
                0.9908620000000001
               ],
               [
                0.593275,
                0.606735,
                0.677417,
                0.694022,
                0.717916,
                "0.741162",
                0.7456119999999999,
                0.770935
               ],
               [
                null,
                0.730692,
                0.764,
                0.7979999999999999,
                0.835,
                0.875,
                0.875,
                1
               ],
               [
                0.927163,
                0.9443090000000001,
                0.9788370000000001,
                0.9879469999999999,
                0.9893430000000001,
                0.9899709999999999,
                0.989535,
                0.9901719999999999
               ]
              ]
             }
            ],
            "label": "NGA broadband coverage/availability",
            "method": "update"
           },
           {
            "args": [
             {
              "x": [
               [
                "2004-01-01 00:00:00",
                "2005-01-01 00:00:00",
                "2006-01-01 00:00:00",
                "2007-01-01 00:00:00",
                "2008-01-01 00:00:00",
                "2009-01-01 00:00:00",
                "2010-01-01 00:00:00",
                "2011-01-01 00:00:00",
                "2012-01-01 00:00:00",
                "2013-01-01 00:00:00",
                "2014-01-01 00:00:00",
                "2015-01-01 00:00:00",
                "2017-01-01 00:00:00",
                "2019-01-01 00:00:00"
               ],
               [
                "2003-01-01 00:00:00",
                "2004-01-01 00:00:00",
                "2005-01-01 00:00:00",
                "2006-01-01 00:00:00",
                "2007-01-01 00:00:00",
                "2008-01-01 00:00:00",
                "2009-01-01 00:00:00",
                "2010-01-01 00:00:00",
                "2011-01-01 00:00:00",
                "2012-01-01 00:00:00",
                "2013-01-01 00:00:00",
                "2014-01-01 00:00:00",
                "2015-01-01 00:00:00",
                "2017-01-01 00:00:00",
                "2018-01-01 00:00:00",
                "2019-01-01 00:00:00"
               ],
               [
                "2004-01-01 00:00:00",
                "2005-01-01 00:00:00",
                "2006-01-01 00:00:00",
                "2007-01-01 00:00:00",
                "2008-01-01 00:00:00",
                "2009-01-01 00:00:00",
                "2010-01-01 00:00:00",
                "2011-01-01 00:00:00",
                "2012-01-01 00:00:00",
                "2013-01-01 00:00:00",
                "2014-01-01 00:00:00",
                "2015-01-01 00:00:00",
                "2017-01-01 00:00:00",
                "2018-01-01 00:00:00",
                "2019-01-01 00:00:00"
               ],
               [
                "2003-01-01 00:00:00",
                "2004-01-01 00:00:00",
                "2005-01-01 00:00:00",
                "2006-01-01 00:00:00",
                "2007-01-01 00:00:00",
                "2008-01-01 00:00:00",
                "2009-01-01 00:00:00",
                "2010-01-01 00:00:00",
                "2011-01-01 00:00:00",
                "2012-01-01 00:00:00",
                "2013-01-01 00:00:00",
                "2014-01-01 00:00:00",
                "2015-01-01 00:00:00",
                "2016-01-01 00:00:00",
                "2017-01-01 00:00:00",
                "2019-01-01 00:00:00"
               ],
               [
                "2006-01-01 00:00:00",
                "2007-01-01 00:00:00",
                "2008-01-01 00:00:00",
                "2009-01-01 00:00:00",
                "2010-01-01 00:00:00",
                "2011-01-01 00:00:00",
                "2012-01-01 00:00:00",
                "2013-01-01 00:00:00",
                "2014-01-01 00:00:00",
                "2015-01-01 00:00:00",
                "2016-01-01 00:00:00",
                "2017-01-01 00:00:00",
                "2019-01-01 00:00:00"
               ],
               [
                "2007-01-01 00:00:00",
                "2008-01-01 00:00:00",
                "2009-01-01 00:00:00",
                "2010-01-01 00:00:00",
                "2011-01-01 00:00:00",
                "2012-01-01 00:00:00",
                "2013-01-01 00:00:00",
                "2014-01-01 00:00:00",
                "2015-01-01 00:00:00",
                "2016-01-01 00:00:00",
                "2017-01-01 00:00:00",
                "2019-01-01 00:00:00"
               ],
               [
                "2004-01-01 00:00:00",
                "2005-01-01 00:00:00",
                "2006-01-01 00:00:00",
                "2007-01-01 00:00:00",
                "2008-01-01 00:00:00",
                "2009-01-01 00:00:00",
                "2010-01-01 00:00:00",
                "2011-01-01 00:00:00",
                "2012-01-01 00:00:00",
                "2013-01-01 00:00:00",
                "2014-01-01 00:00:00",
                "2015-01-01 00:00:00",
                "2016-01-01 00:00:00",
                "2017-01-01 00:00:00",
                "2019-01-01 00:00:00"
               ],
               [
                "2003-01-01 00:00:00",
                "2004-01-01 00:00:00",
                "2005-01-01 00:00:00",
                "2006-01-01 00:00:00",
                "2007-01-01 00:00:00",
                "2008-01-01 00:00:00",
                "2009-01-01 00:00:00",
                "2010-01-01 00:00:00",
                "2011-01-01 00:00:00",
                "2012-01-01 00:00:00",
                "2013-01-01 00:00:00",
                "2014-01-01 00:00:00",
                "2015-01-01 00:00:00",
                "2016-01-01 00:00:00",
                "2017-01-01 00:00:00",
                "2019-01-01 00:00:00"
               ],
               [
                "2004-01-01 00:00:00",
                "2005-01-01 00:00:00",
                "2006-01-01 00:00:00",
                "2007-01-01 00:00:00",
                "2008-01-01 00:00:00",
                "2009-01-01 00:00:00",
                "2010-01-01 00:00:00",
                "2011-01-01 00:00:00",
                "2012-01-01 00:00:00",
                "2013-01-01 00:00:00",
                "2014-01-01 00:00:00",
                "2017-01-01 00:00:00",
                "2018-01-01 00:00:00",
                "2019-01-01 00:00:00"
               ],
               [
                "2003-01-01 00:00:00",
                "2004-01-01 00:00:00",
                "2005-01-01 00:00:00",
                "2006-01-01 00:00:00",
                "2007-01-01 00:00:00",
                "2008-01-01 00:00:00",
                "2009-01-01 00:00:00",
                "2010-01-01 00:00:00",
                "2011-01-01 00:00:00",
                "2012-01-01 00:00:00",
                "2013-01-01 00:00:00",
                "2014-01-01 00:00:00",
                "2015-01-01 00:00:00",
                "2016-01-01 00:00:00",
                "2017-01-01 00:00:00",
                "2019-01-01 00:00:00"
               ],
               [
                "2003-01-01 00:00:00",
                "2004-01-01 00:00:00",
                "2005-01-01 00:00:00",
                "2006-01-01 00:00:00",
                "2007-01-01 00:00:00",
                "2008-01-01 00:00:00",
                "2009-01-01 00:00:00",
                "2010-01-01 00:00:00",
                "2011-01-01 00:00:00",
                "2012-01-01 00:00:00",
                "2013-01-01 00:00:00",
                "2014-01-01 00:00:00",
                "2015-01-01 00:00:00",
                "2016-01-01 00:00:00",
                "2017-01-01 00:00:00",
                "2018-01-01 00:00:00",
                "2019-01-01 00:00:00"
               ],
               [
                "2003-01-01 00:00:00",
                "2004-01-01 00:00:00",
                "2005-01-01 00:00:00",
                "2006-01-01 00:00:00",
                "2007-01-01 00:00:00",
                "2008-01-01 00:00:00",
                "2009-01-01 00:00:00",
                "2010-01-01 00:00:00",
                "2011-01-01 00:00:00",
                "2012-01-01 00:00:00",
                "2013-01-01 00:00:00",
                "2014-01-01 00:00:00",
                "2015-01-01 00:00:00",
                "2016-01-01 00:00:00",
                "2017-01-01 00:00:00",
                "2019-01-01 00:00:00"
               ],
               [
                "2005-01-01 00:00:00",
                "2006-01-01 00:00:00",
                "2007-01-01 00:00:00",
                "2008-01-01 00:00:00",
                "2009-01-01 00:00:00",
                "2010-01-01 00:00:00",
                "2011-01-01 00:00:00",
                "2012-01-01 00:00:00",
                "2013-01-01 00:00:00",
                "2014-01-01 00:00:00",
                "2015-01-01 00:00:00",
                "2016-01-01 00:00:00",
                "2017-01-01 00:00:00",
                "2018-01-01 00:00:00",
                "2019-01-01 00:00:00"
               ],
               [
                "2003-01-01 00:00:00",
                "2004-01-01 00:00:00",
                "2005-01-01 00:00:00",
                "2006-01-01 00:00:00",
                "2007-01-01 00:00:00",
                "2008-01-01 00:00:00",
                "2009-01-01 00:00:00",
                "2010-01-01 00:00:00",
                "2011-01-01 00:00:00",
                "2012-01-01 00:00:00",
                "2013-01-01 00:00:00",
                "2014-01-01 00:00:00",
                "2015-01-01 00:00:00",
                "2016-01-01 00:00:00",
                "2017-01-01 00:00:00",
                "2018-01-01 00:00:00",
                "2019-01-01 00:00:00"
               ],
               [
                "2003-01-01 00:00:00",
                "2004-01-01 00:00:00",
                "2005-01-01 00:00:00",
                "2006-01-01 00:00:00",
                "2007-01-01 00:00:00",
                "2008-01-01 00:00:00",
                "2009-01-01 00:00:00",
                "2010-01-01 00:00:00",
                "2011-01-01 00:00:00",
                "2012-01-01 00:00:00",
                "2013-01-01 00:00:00",
                "2014-01-01 00:00:00",
                "2015-01-01 00:00:00",
                "2016-01-01 00:00:00",
                "2017-01-01 00:00:00",
                "2019-01-01 00:00:00"
               ],
               [
                "2004-01-01 00:00:00",
                "2005-01-01 00:00:00",
                "2006-01-01 00:00:00",
                "2007-01-01 00:00:00",
                "2008-01-01 00:00:00",
                "2009-01-01 00:00:00",
                "2010-01-01 00:00:00",
                "2011-01-01 00:00:00",
                "2012-01-01 00:00:00",
                "2013-01-01 00:00:00",
                "2014-01-01 00:00:00",
                "2015-01-01 00:00:00",
                "2016-01-01 00:00:00",
                "2017-01-01 00:00:00",
                "2019-01-01 00:00:00"
               ],
               [
                "2005-01-01 00:00:00",
                "2006-01-01 00:00:00",
                "2007-01-01 00:00:00",
                "2008-01-01 00:00:00",
                "2009-01-01 00:00:00",
                "2010-01-01 00:00:00",
                "2011-01-01 00:00:00",
                "2012-01-01 00:00:00",
                "2013-01-01 00:00:00",
                "2014-01-01 00:00:00",
                "2015-01-01 00:00:00",
                "2016-01-01 00:00:00",
                "2017-01-01 00:00:00",
                "2019-01-01 00:00:00"
               ],
               [
                "2003-01-01 00:00:00",
                "2004-01-01 00:00:00",
                "2005-01-01 00:00:00",
                "2006-01-01 00:00:00",
                "2007-01-01 00:00:00",
                "2008-01-01 00:00:00",
                "2009-01-01 00:00:00",
                "2010-01-01 00:00:00",
                "2011-01-01 00:00:00",
                "2012-01-01 00:00:00",
                "2013-01-01 00:00:00",
                "2014-01-01 00:00:00",
                "2015-01-01 00:00:00",
                "2016-01-01 00:00:00",
                "2017-01-01 00:00:00",
                "2019-01-01 00:00:00"
               ],
               [
                "2003-01-01 00:00:00",
                "2004-01-01 00:00:00",
                "2005-01-01 00:00:00",
                "2006-01-01 00:00:00",
                "2007-01-01 00:00:00",
                "2008-01-01 00:00:00",
                "2009-01-01 00:00:00",
                "2010-01-01 00:00:00",
                "2011-01-01 00:00:00",
                "2012-01-01 00:00:00",
                "2013-01-01 00:00:00",
                "2014-01-01 00:00:00",
                "2015-01-01 00:00:00",
                "2016-01-01 00:00:00",
                "2017-01-01 00:00:00",
                "2019-01-01 00:00:00"
               ],
               [
                "2003-01-01 00:00:00",
                "2004-01-01 00:00:00",
                "2005-01-01 00:00:00",
                "2006-01-01 00:00:00",
                "2007-01-01 00:00:00",
                "2008-01-01 00:00:00",
                "2009-01-01 00:00:00",
                "2010-01-01 00:00:00",
                "2011-01-01 00:00:00",
                "2012-01-01 00:00:00",
                "2013-01-01 00:00:00",
                "2014-01-01 00:00:00",
                "2015-01-01 00:00:00",
                "2016-01-01 00:00:00",
                "2017-01-01 00:00:00",
                "2018-01-01 00:00:00",
                "2019-01-01 00:00:00"
               ],
               [
                "2004-01-01 00:00:00",
                "2005-01-01 00:00:00",
                "2006-01-01 00:00:00",
                "2007-01-01 00:00:00",
                "2008-01-01 00:00:00",
                "2009-01-01 00:00:00",
                "2010-01-01 00:00:00",
                "2011-01-01 00:00:00",
                "2012-01-01 00:00:00",
                "2013-01-01 00:00:00",
                "2014-01-01 00:00:00",
                "2015-01-01 00:00:00",
                "2016-01-01 00:00:00",
                "2017-01-01 00:00:00",
                "2019-01-01 00:00:00"
               ],
               [
                "2005-01-01 00:00:00",
                "2006-01-01 00:00:00",
                "2007-01-01 00:00:00",
                "2008-01-01 00:00:00",
                "2014-01-01 00:00:00",
                "2015-01-01 00:00:00",
                "2017-01-01 00:00:00",
                "2018-01-01 00:00:00",
                "2019-01-01 00:00:00"
               ],
               [
                "2006-01-01 00:00:00",
                "2007-01-01 00:00:00",
                "2008-01-01 00:00:00",
                "2009-01-01 00:00:00",
                "2010-01-01 00:00:00",
                "2011-01-01 00:00:00",
                "2012-01-01 00:00:00",
                "2013-01-01 00:00:00",
                "2014-01-01 00:00:00",
                "2015-01-01 00:00:00",
                "2016-01-01 00:00:00",
                "2017-01-01 00:00:00",
                "2018-01-01 00:00:00",
                "2019-01-01 00:00:00"
               ],
               [
                "2005-01-01 00:00:00",
                "2006-01-01 00:00:00",
                "2007-01-01 00:00:00",
                "2008-01-01 00:00:00",
                "2009-01-01 00:00:00",
                "2010-01-01 00:00:00",
                "2011-01-01 00:00:00",
                "2012-01-01 00:00:00",
                "2013-01-01 00:00:00",
                "2014-01-01 00:00:00",
                "2015-01-01 00:00:00",
                "2016-01-01 00:00:00",
                "2017-01-01 00:00:00",
                "2018-01-01 00:00:00",
                "2019-01-01 00:00:00"
               ],
               [
                "2004-01-01 00:00:00",
                "2005-01-01 00:00:00",
                "2006-01-01 00:00:00",
                "2007-01-01 00:00:00",
                "2008-01-01 00:00:00",
                "2009-01-01 00:00:00",
                "2010-01-01 00:00:00",
                "2011-01-01 00:00:00",
                "2012-01-01 00:00:00",
                "2013-01-01 00:00:00",
                "2014-01-01 00:00:00",
                "2015-01-01 00:00:00",
                "2016-01-01 00:00:00",
                "2017-01-01 00:00:00",
                "2018-01-01 00:00:00",
                "2019-01-01 00:00:00"
               ],
               [
                "2004-01-01 00:00:00",
                "2005-01-01 00:00:00",
                "2006-01-01 00:00:00",
                "2007-01-01 00:00:00",
                "2008-01-01 00:00:00",
                "2009-01-01 00:00:00",
                "2010-01-01 00:00:00",
                "2011-01-01 00:00:00",
                "2012-01-01 00:00:00",
                "2013-01-01 00:00:00",
                "2014-01-01 00:00:00",
                "2015-01-01 00:00:00",
                "2016-01-01 00:00:00",
                "2017-01-01 00:00:00",
                "2018-01-01 00:00:00",
                "2019-01-01 00:00:00"
               ],
               [
                "2003-01-01 00:00:00",
                "2004-01-01 00:00:00",
                "2005-01-01 00:00:00",
                "2006-01-01 00:00:00",
                "2007-01-01 00:00:00",
                "2008-01-01 00:00:00",
                "2009-01-01 00:00:00",
                "2010-01-01 00:00:00",
                "2011-01-01 00:00:00",
                "2012-01-01 00:00:00",
                "2013-01-01 00:00:00",
                "2014-01-01 00:00:00",
                "2015-01-01 00:00:00",
                "2016-01-01 00:00:00",
                "2017-01-01 00:00:00",
                "2018-01-01 00:00:00",
                "2019-01-01 00:00:00"
               ],
               [
                "2003-01-01 00:00:00",
                "2004-01-01 00:00:00",
                "2005-01-01 00:00:00",
                "2006-01-01 00:00:00",
                "2007-01-01 00:00:00",
                "2008-01-01 00:00:00",
                "2009-01-01 00:00:00",
                "2010-01-01 00:00:00",
                "2011-01-01 00:00:00",
                "2012-01-01 00:00:00",
                "2013-01-01 00:00:00",
                "2014-01-01 00:00:00",
                "2015-01-01 00:00:00",
                "2017-01-01 00:00:00",
                "2018-01-01 00:00:00",
                "2019-01-01 00:00:00"
               ],
               [
                "2005-01-01 00:00:00",
                "2006-01-01 00:00:00",
                "2007-01-01 00:00:00",
                "2008-01-01 00:00:00",
                "2009-01-01 00:00:00",
                "2010-01-01 00:00:00",
                "2011-01-01 00:00:00",
                "2012-01-01 00:00:00",
                "2013-01-01 00:00:00",
                "2014-01-01 00:00:00",
                "2015-01-01 00:00:00",
                "2016-01-01 00:00:00",
                "2017-01-01 00:00:00",
                "2018-01-01 00:00:00",
                "2019-01-01 00:00:00"
               ],
               [
                "2004-01-01 00:00:00",
                "2006-01-01 00:00:00",
                "2007-01-01 00:00:00",
                "2008-01-01 00:00:00",
                "2009-01-01 00:00:00",
                "2010-01-01 00:00:00",
                "2011-01-01 00:00:00",
                "2012-01-01 00:00:00",
                "2013-01-01 00:00:00",
                "2014-01-01 00:00:00",
                "2015-01-01 00:00:00",
                "2017-01-01 00:00:00",
                "2018-01-01 00:00:00",
                "2019-01-01 00:00:00"
               ],
               [
                "2004-01-01 00:00:00",
                "2005-01-01 00:00:00",
                "2006-01-01 00:00:00",
                "2007-01-01 00:00:00",
                "2008-01-01 00:00:00",
                "2009-01-01 00:00:00",
                "2010-01-01 00:00:00",
                "2011-01-01 00:00:00",
                "2012-01-01 00:00:00",
                "2013-01-01 00:00:00",
                "2014-01-01 00:00:00",
                "2015-01-01 00:00:00",
                "2017-01-01 00:00:00",
                "2018-01-01 00:00:00",
                "2019-01-01 00:00:00"
               ],
               []
              ],
              "y": [
               [
                0.20312,
                0.28409,
                0.36396100000000003,
                0.46817700000000007,
                0.537733,
                0.609001,
                0.636351,
                0.649389,
                0.7303810000000001,
                0.784193,
                0.812006,
                0.869123,
                0.873577,
                0.8999959999999999
               ],
               [
                0.005947999999999999,
                0.002318,
                0.006206000000000001,
                0.03837,
                0.07461,
                0.22458000000000003,
                0.331417,
                0.41181,
                0.453808,
                0.505042,
                0.550208,
                0.6466029999999999,
                0.670966,
                0.706434,
                "0.76125",
                0.780646
               ],
               [
                0.150454,
                0.20754099999999998,
                0.284993,
                0.382481,
                0.435725,
                0.503055,
                0.5614680000000001,
                0.607518,
                0.654722,
                0.688264,
                0.7301529999999999,
                0.778207,
                0.826833,
                "0.861152",
                0.911694
               ],
               [
                0.123714,
                0.21287199999999998,
                0.360883,
                0.528619,
                0.628782,
                0.6614439999999999,
                0.737382,
                0.758024,
                0.812968,
                0.8496870000000001,
                0.8799290000000001,
                0.8891600000000001,
                0.8952399999999999,
                0.9121,
                0.9340950000000001,
                0.930666
               ],
               [
                0.302603,
                0.48903900000000006,
                0.570997,
                0.627416,
                0.66391,
                0.699495,
                0.772335,
                0.7837430000000001,
                0.766883,
                0.760871,
                0.792876,
                0.791813,
                0.8283729999999999
               ],
               [
                0.234987,
                0.26849,
                0.394629,
                0.49090600000000006,
                0.56393,
                0.5983930000000001,
                0.636495,
                0.680462,
                0.758283,
                0.76872,
                0.759944,
                0.8052229999999999
               ],
               [
                0.057958,
                0.109393,
                0.21501599999999998,
                0.32449,
                0.408648,
                0.495201,
                0.505154,
                0.590572,
                0.66259,
                0.691979,
                0.7250260000000001,
                0.748645,
                0.7821279999999999,
                0.818854,
                0.8589459999999999
               ],
               [
                0.006162,
                0.028901,
                0.073916,
                0.130667,
                0.312158,
                0.429403,
                0.537193,
                0.575191,
                0.654253,
                0.6544270000000001,
                0.6699649999999999,
                0.7954899999999999,
                0.826867,
                0.8581409999999999,
                0.8804049999999999,
                0.899366
               ],
               [
                0.45437799999999995,
                0.63467,
                0.720759,
                0.7609899999999999,
                0.8324879999999999,
                0.867289,
                0.869647,
                0.924215,
                0.9274969999999999,
                0.954894,
                0.926736,
                0.961881,
                "0.970212",
                0.945558
               ],
               [
                0.093315,
                0.180065,
                0.232448,
                0.335357,
                0.49566400000000005,
                0.548585,
                0.645849,
                0.752013,
                0.775217,
                0.815248,
                0.847878,
                0.865778,
                0.878287,
                0.8959719999999999,
                0.916003,
                0.939261
               ],
               [
                0.014764,
                0.044505,
                0.050613,
                0.165827,
                0.280624,
                0.36405,
                0.488914,
                0.536004,
                0.634421,
                0.692857,
                0.693875,
                0.759137,
                0.7603800000000001,
                0.803188,
                0.8287610000000001,
                "0.857682",
                0.8699959999999999
               ],
               [
                0.250724,
                0.35815,
                0.51179,
                0.6325270000000001,
                0.695315,
                0.7407130000000001,
                0.760467,
                0.801021,
                0.8389129999999999,
                0.847714,
                0.871906,
                0.8541280000000001,
                0.841968,
                0.916026,
                0.921007,
                0.9253299999999999
               ],
               [
                0.129499,
                0.16223900000000002,
                0.252983,
                0.30788000000000004,
                0.390042,
                0.488642,
                0.516696,
                0.5507,
                0.6782819999999999,
                0.710569,
                0.742845,
                0.7713869999999999,
                0.79464,
                "0.828034",
                0.8372200000000001
               ],
               [
                0.016896,
                0.036814,
                0.11582200000000001,
                0.194129,
                0.341279,
                0.428626,
                0.49845900000000004,
                0.5356810000000001,
                0.556535,
                0.596024,
                0.640958,
                0.653717,
                0.67328,
                0.710244,
                0.7467189999999999,
                "0.778948",
                0.813552
               ],
               [
                0.07364,
                0.162677,
                0.334079,
                0.44087299999999996,
                0.577708,
                0.6100760000000001,
                0.71081,
                0.703294,
                0.677389,
                0.678661,
                0.6987949999999999,
                0.9268489999999999,
                0.9510049999999999,
                0.967759,
                0.970357,
                0.951973
               ],
               [
                0.053699000000000004,
                0.139319,
                0.225044,
                0.319235,
                0.39657600000000004,
                0.502337,
                0.5256460000000001,
                0.593778,
                0.672844,
                0.701288,
                0.730891,
                0.743762,
                0.750844,
                0.7649729999999999,
                "0.833024"
               ],
               [
                0.228696,
                0.406936,
                0.443536,
                0.554458,
                0.629371,
                0.692956,
                0.74922,
                0.7657649999999999,
                0.779929,
                0.797288,
                0.808125,
                0.8122729999999999,
                0.847708,
                "0.859093"
               ],
               [
                0.199657,
                0.312781,
                0.538705,
                0.66166,
                0.737695,
                0.7397090000000001,
                0.769742,
                0.795136,
                0.829317,
                0.844626,
                0.869064,
                0.943732,
                0.940049,
                0.954131,
                0.9779969999999999,
                "0.979224"
               ],
               [
                0.22894,
                0.300135,
                0.41435600000000006,
                0.570696,
                0.667168,
                0.729765,
                0.777683,
                0.825727,
                0.803452,
                0.858066,
                0.878282,
                0.878662,
                0.911018,
                0.961517,
                0.938499,
                "0.974362"
               ],
               [
                0.078724,
                0.122994,
                0.197212,
                0.24006799999999998,
                0.304211,
                0.393449,
                0.461581,
                0.5031640000000001,
                0.5660649999999999,
                0.597484,
                0.616197,
                0.6336689999999999,
                0.685405,
                0.729517,
                0.763632,
                0.769263,
                "0.77953"
               ],
               [
                0.082754,
                0.155868,
                0.21641999999999997,
                0.295569,
                0.37949099999999997,
                0.511428,
                0.568012,
                0.6111989999999999,
                0.669996,
                0.687824,
                0.7112390000000001,
                0.710026,
                0.757073,
                0.776367,
                "0.833001"
               ],
               [
                "0.230239",
                "0.303049",
                "0.421649",
                "0.482689",
                "0.782936",
                "0.798932",
                "0.847219",
                0.861482,
                0.885972
               ],
               [
                0.052177999999999995,
                0.079451,
                0.132953,
                0.236663,
                0.22830999999999999,
                0.307221,
                0.504189,
                0.563685,
                0.577092,
                0.653,
                0.7010569999999999,
                0.743664,
                0.78851,
                "0.818274"
               ],
               [
                0.401798,
                0.510102,
                0.666176,
                0.706515,
                0.7948930000000001,
                0.825623,
                0.855203,
                0.8700120000000001,
                null,
                0.8652549999999999,
                0.8295049999999999,
                0.886294,
                0.9307049999999999,
                0.913616,
                0.948412
               ],
               [
                0.101961,
                0.19420199999999999,
                0.335619,
                0.43645600000000007,
                0.497196,
                0.561491,
                0.620208,
                0.66955,
                0.733003,
                0.741924,
                0.75384,
                0.7759739999999999,
                0.784212,
                0.817369,
                0.866821,
                0.889611
               ],
               [
                0.035519,
                0.071164,
                0.114169,
                0.265023,
                0.3533,
                0.417274,
                0.493512,
                0.553284,
                0.720535,
                0.701813,
                0.764151,
                0.775993,
                0.781514,
                0.7891050000000001,
                0.7899010000000001,
                0.803562
               ],
               [
                0.10693699999999999,
                0.158172,
                0.31543899999999997,
                0.43922700000000003,
                0.567483,
                0.615147,
                0.69467,
                null,
                0.803639,
                0.8557950000000001,
                0.874423,
                0.881832,
                0.8994219999999999,
                0.919025,
                0.931399,
                0.948184,
                0.9584440000000001
               ],
               [
                0.102853,
                0.159235,
                0.231404,
                0.33116999999999996,
                0.461463,
                0.5449689999999999,
                0.5780270000000001,
                0.6370020000000001,
                0.719837,
                0.7740859999999999,
                0.797862,
                0.793764,
                0.809113,
                0.883804,
                "0.876856",
                0.8933450000000001
               ],
               [
                0.405604,
                0.48049899999999995,
                0.563886,
                0.603155,
                0.6339819999999999,
                0.699525,
                0.740032,
                0.746965,
                0.786488,
                0.814769,
                0.7922239999999999,
                0.8241219999999999,
                0.842533,
                "0.837276",
                0.8757290000000001
               ],
               [
                0.037476,
                0.101025,
                0.153968,
                0.207164,
                0.261169,
                0.260094,
                0.397967,
                0.507844,
                0.5361739999999999,
                0.564632,
                0.588396,
                0.668983,
                "0.714934",
                0.7494460000000001
               ],
               [
                0.023639,
                0.044926999999999995,
                0.12465999999999999,
                0.202272,
                0.32974699999999996,
                0.47496499999999997,
                0.506707,
                0.5550229999999999,
                0.616541,
                0.643582,
                0.685417,
                0.711608,
                0.790265,
                "0.856495",
                0.89439
               ],
               []
              ]
             }
            ],
            "label": "Households with a broadband connection",
            "method": "update"
           },
           {
            "args": [
             {
              "x": [
               [
                "2010-01-01 00:00:00",
                "2011-01-01 00:00:00",
                "2012-01-01 00:00:00",
                "2013-01-01 00:00:00",
                "2014-01-01 00:00:00",
                "2015-01-01 00:00:00",
                "2017-01-01 00:00:00",
                "2019-01-01 00:00:00"
               ],
               [
                "2010-01-01 00:00:00",
                "2011-01-01 00:00:00",
                "2012-01-01 00:00:00",
                "2013-01-01 00:00:00",
                "2014-01-01 00:00:00",
                "2015-01-01 00:00:00",
                "2017-01-01 00:00:00",
                "2018-01-01 00:00:00",
                "2019-01-01 00:00:00"
               ],
               [
                "2010-01-01 00:00:00",
                "2011-01-01 00:00:00",
                "2012-01-01 00:00:00",
                "2013-01-01 00:00:00",
                "2014-01-01 00:00:00",
                "2015-01-01 00:00:00",
                "2017-01-01 00:00:00",
                "2018-01-01 00:00:00",
                "2019-01-01 00:00:00"
               ],
               [
                "2010-01-01 00:00:00",
                "2011-01-01 00:00:00",
                "2012-01-01 00:00:00",
                "2013-01-01 00:00:00",
                "2014-01-01 00:00:00",
                "2015-01-01 00:00:00",
                "2016-01-01 00:00:00",
                "2017-01-01 00:00:00",
                "2019-01-01 00:00:00"
               ],
               [
                "2010-01-01 00:00:00",
                "2011-01-01 00:00:00",
                "2012-01-01 00:00:00",
                "2013-01-01 00:00:00",
                "2014-01-01 00:00:00",
                "2015-01-01 00:00:00",
                "2016-01-01 00:00:00",
                "2017-01-01 00:00:00",
                "2019-01-01 00:00:00"
               ],
               [
                "2010-01-01 00:00:00",
                "2011-01-01 00:00:00",
                "2012-01-01 00:00:00",
                "2013-01-01 00:00:00",
                "2014-01-01 00:00:00",
                "2015-01-01 00:00:00",
                "2016-01-01 00:00:00",
                "2017-01-01 00:00:00",
                "2019-01-01 00:00:00"
               ],
               [
                "2010-01-01 00:00:00",
                "2011-01-01 00:00:00",
                "2012-01-01 00:00:00",
                "2013-01-01 00:00:00",
                "2014-01-01 00:00:00",
                "2015-01-01 00:00:00",
                "2016-01-01 00:00:00",
                "2017-01-01 00:00:00",
                "2019-01-01 00:00:00"
               ],
               [
                "2010-01-01 00:00:00",
                "2011-01-01 00:00:00",
                "2012-01-01 00:00:00",
                "2013-01-01 00:00:00",
                "2014-01-01 00:00:00",
                "2015-01-01 00:00:00",
                "2016-01-01 00:00:00",
                "2017-01-01 00:00:00",
                "2018-01-01 00:00:00",
                "2019-01-01 00:00:00"
               ],
               [
                "2010-01-01 00:00:00",
                "2011-01-01 00:00:00",
                "2012-01-01 00:00:00",
                "2013-01-01 00:00:00",
                "2014-01-01 00:00:00",
                "2017-01-01 00:00:00",
                "2018-01-01 00:00:00",
                "2019-01-01 00:00:00"
               ],
               [
                "2010-01-01 00:00:00",
                "2011-01-01 00:00:00",
                "2012-01-01 00:00:00",
                "2013-01-01 00:00:00",
                "2014-01-01 00:00:00",
                "2015-01-01 00:00:00",
                "2016-01-01 00:00:00",
                "2017-01-01 00:00:00",
                "2019-01-01 00:00:00"
               ],
               [
                "2010-01-01 00:00:00",
                "2011-01-01 00:00:00",
                "2012-01-01 00:00:00",
                "2013-01-01 00:00:00",
                "2014-01-01 00:00:00",
                "2015-01-01 00:00:00",
                "2016-01-01 00:00:00",
                "2017-01-01 00:00:00",
                "2019-01-01 00:00:00"
               ],
               [
                "2010-01-01 00:00:00",
                "2011-01-01 00:00:00",
                "2012-01-01 00:00:00",
                "2013-01-01 00:00:00",
                "2014-01-01 00:00:00",
                "2015-01-01 00:00:00",
                "2016-01-01 00:00:00",
                "2017-01-01 00:00:00",
                "2019-01-01 00:00:00"
               ],
               [
                "2010-01-01 00:00:00",
                "2011-01-01 00:00:00",
                "2012-01-01 00:00:00",
                "2013-01-01 00:00:00",
                "2014-01-01 00:00:00",
                "2015-01-01 00:00:00",
                "2016-01-01 00:00:00",
                "2017-01-01 00:00:00",
                "2018-01-01 00:00:00",
                "2019-01-01 00:00:00"
               ],
               [
                "2010-01-01 00:00:00",
                "2011-01-01 00:00:00",
                "2012-01-01 00:00:00",
                "2013-01-01 00:00:00",
                "2014-01-01 00:00:00",
                "2015-01-01 00:00:00",
                "2016-01-01 00:00:00",
                "2017-01-01 00:00:00",
                "2018-01-01 00:00:00",
                "2019-01-01 00:00:00"
               ],
               [
                "2010-01-01 00:00:00",
                "2011-01-01 00:00:00",
                "2012-01-01 00:00:00",
                "2013-01-01 00:00:00",
                "2014-01-01 00:00:00",
                "2015-01-01 00:00:00",
                "2016-01-01 00:00:00",
                "2017-01-01 00:00:00",
                "2019-01-01 00:00:00"
               ],
               [
                "2010-01-01 00:00:00",
                "2011-01-01 00:00:00",
                "2012-01-01 00:00:00",
                "2013-01-01 00:00:00",
                "2014-01-01 00:00:00",
                "2015-01-01 00:00:00",
                "2016-01-01 00:00:00",
                "2017-01-01 00:00:00",
                "2019-01-01 00:00:00"
               ],
               [
                "2010-01-01 00:00:00",
                "2011-01-01 00:00:00",
                "2012-01-01 00:00:00",
                "2013-01-01 00:00:00",
                "2014-01-01 00:00:00",
                "2015-01-01 00:00:00",
                "2016-01-01 00:00:00",
                "2017-01-01 00:00:00",
                "2019-01-01 00:00:00"
               ],
               [
                "2010-01-01 00:00:00",
                "2011-01-01 00:00:00",
                "2012-01-01 00:00:00",
                "2013-01-01 00:00:00",
                "2014-01-01 00:00:00",
                "2015-01-01 00:00:00",
                "2016-01-01 00:00:00",
                "2017-01-01 00:00:00",
                "2019-01-01 00:00:00"
               ],
               [
                "2010-01-01 00:00:00",
                "2011-01-01 00:00:00",
                "2012-01-01 00:00:00",
                "2013-01-01 00:00:00",
                "2014-01-01 00:00:00",
                "2015-01-01 00:00:00",
                "2016-01-01 00:00:00",
                "2017-01-01 00:00:00",
                "2019-01-01 00:00:00"
               ],
               [
                "2010-01-01 00:00:00",
                "2011-01-01 00:00:00",
                "2012-01-01 00:00:00",
                "2013-01-01 00:00:00",
                "2014-01-01 00:00:00",
                "2015-01-01 00:00:00",
                "2016-01-01 00:00:00",
                "2017-01-01 00:00:00",
                "2018-01-01 00:00:00",
                "2019-01-01 00:00:00"
               ],
               [
                "2010-01-01 00:00:00",
                "2011-01-01 00:00:00",
                "2012-01-01 00:00:00",
                "2013-01-01 00:00:00",
                "2014-01-01 00:00:00",
                "2015-01-01 00:00:00",
                "2016-01-01 00:00:00",
                "2017-01-01 00:00:00",
                "2019-01-01 00:00:00"
               ],
               [
                "2014-01-01 00:00:00",
                "2015-01-01 00:00:00",
                "2017-01-01 00:00:00",
                "2018-01-01 00:00:00"
               ],
               [
                "2010-01-01 00:00:00",
                "2011-01-01 00:00:00",
                "2012-01-01 00:00:00",
                "2013-01-01 00:00:00",
                "2014-01-01 00:00:00",
                "2015-01-01 00:00:00",
                "2016-01-01 00:00:00",
                "2017-01-01 00:00:00",
                "2018-01-01 00:00:00",
                "2019-01-01 00:00:00"
               ],
               [
                "2010-01-01 00:00:00",
                "2011-01-01 00:00:00",
                "2012-01-01 00:00:00",
                "2013-01-01 00:00:00",
                "2014-01-01 00:00:00",
                "2015-01-01 00:00:00",
                "2016-01-01 00:00:00",
                "2017-01-01 00:00:00",
                "2018-01-01 00:00:00",
                "2019-01-01 00:00:00"
               ],
               [
                "2010-01-01 00:00:00",
                "2011-01-01 00:00:00",
                "2012-01-01 00:00:00",
                "2013-01-01 00:00:00",
                "2014-01-01 00:00:00",
                "2015-01-01 00:00:00",
                "2016-01-01 00:00:00",
                "2017-01-01 00:00:00",
                "2018-01-01 00:00:00",
                "2019-01-01 00:00:00"
               ],
               [
                "2010-01-01 00:00:00",
                "2011-01-01 00:00:00",
                "2012-01-01 00:00:00",
                "2013-01-01 00:00:00",
                "2014-01-01 00:00:00",
                "2015-01-01 00:00:00",
                "2016-01-01 00:00:00",
                "2017-01-01 00:00:00",
                "2018-01-01 00:00:00",
                "2019-01-01 00:00:00"
               ],
               [
                "2010-01-01 00:00:00",
                "2011-01-01 00:00:00",
                "2012-01-01 00:00:00",
                "2013-01-01 00:00:00",
                "2014-01-01 00:00:00",
                "2015-01-01 00:00:00",
                "2016-01-01 00:00:00",
                "2017-01-01 00:00:00",
                "2018-01-01 00:00:00",
                "2019-01-01 00:00:00"
               ],
               [
                "2010-01-01 00:00:00",
                "2011-01-01 00:00:00",
                "2012-01-01 00:00:00",
                "2013-01-01 00:00:00",
                "2014-01-01 00:00:00",
                "2015-01-01 00:00:00",
                "2017-01-01 00:00:00",
                "2018-01-01 00:00:00",
                "2019-01-01 00:00:00"
               ],
               [
                "2010-01-01 00:00:00",
                "2011-01-01 00:00:00",
                "2012-01-01 00:00:00",
                "2013-01-01 00:00:00",
                "2014-01-01 00:00:00",
                "2015-01-01 00:00:00",
                "2016-01-01 00:00:00",
                "2017-01-01 00:00:00",
                "2018-01-01 00:00:00",
                "2019-01-01 00:00:00"
               ],
               [
                "2010-01-01 00:00:00",
                "2011-01-01 00:00:00",
                "2012-01-01 00:00:00",
                "2013-01-01 00:00:00",
                "2014-01-01 00:00:00",
                "2015-01-01 00:00:00",
                "2017-01-01 00:00:00",
                "2018-01-01 00:00:00",
                "2019-01-01 00:00:00"
               ],
               [
                "2010-01-01 00:00:00",
                "2011-01-01 00:00:00",
                "2012-01-01 00:00:00",
                "2013-01-01 00:00:00",
                "2014-01-01 00:00:00",
                "2015-01-01 00:00:00",
                "2017-01-01 00:00:00",
                "2018-01-01 00:00:00",
                "2019-01-01 00:00:00"
               ],
               []
              ],
              "y": [
               [
                0.605731,
                0.6186119999999999,
                0.65985,
                0.688423,
                0.687333,
                0.770996,
                0.776396,
                0.8260790000000001
               ],
               [
                0.407616,
                0.44652700000000006,
                0.49570200000000003,
                0.541665,
                0.6322720000000001,
                0.656795,
                0.68681,
                "0.741565",
                0.758674
               ],
               [
                0.542205,
                0.5768949999999999,
                0.6100439999999999,
                0.62564,
                0.653315,
                0.6873239999999999,
                0.733152,
                "0.772685",
                0.779147
               ],
               [
                0.6067229999999999,
                0.5931029999999999,
                0.590249,
                0.590331,
                0.614352,
                0.585886,
                0.611154,
                0.566819,
                0.568541
               ],
               [
                0.65281,
                0.6848920000000001,
                0.755038,
                0.762084,
                0.73612,
                0.708388,
                0.724654,
                0.712908,
                0.705353
               ],
               [
                0.46585299999999996,
                0.540859,
                0.571393,
                0.610321,
                0.611816,
                0.703465,
                0.696651,
                0.701477,
                0.703541
               ],
               [
                0.48699,
                0.538353,
                0.617394,
                0.640051,
                0.6640689999999999,
                0.687067,
                0.7232810000000001,
                0.7763899999999999,
                0.818229
               ],
               [
                0.44773100000000005,
                0.512115,
                0.564606,
                0.596021,
                0.6153850000000001,
                0.6537850000000001,
                0.690488,
                0.743839,
                "0.729397",
                0.76165
               ],
               [
                0.838462,
                0.8791680000000001,
                0.870674,
                0.897075,
                0.8981290000000001,
                0.944744,
                "0.935643",
                0.9020100000000001
               ],
               [
                0.7214729999999999,
                0.741799,
                0.77803,
                0.811585,
                0.8317549999999999,
                0.8385870000000001,
                0.856028,
                0.8803719999999999,
                0.882706
               ],
               [
                0.522875,
                0.6164390000000001,
                0.665089,
                0.657341,
                0.759137,
                0.7603800000000001,
                0.706088,
                0.7336739999999999,
                0.7408100000000001
               ],
               [
                0.754931,
                0.784841,
                0.794212,
                0.812994,
                0.791964,
                0.769648,
                0.834565,
                0.856633,
                0.8470639999999999
               ],
               [
                0.40797100000000003,
                0.40181,
                0.420882,
                0.5031760000000001,
                0.511093,
                0.525529,
                0.552309,
                0.566616,
                "0.603424",
                0.608507
               ],
               [
                0.5246460000000001,
                0.538981,
                0.53232,
                0.579307,
                0.583804,
                0.597603,
                0.629867,
                0.6451399999999999,
                "0.638339",
                0.679565
               ],
               [
                0.693067,
                0.671305,
                0.670964,
                0.694764,
                0.9062540000000001,
                0.944749,
                0.956939,
                0.9402530000000001,
                "0.907489"
               ],
               [
                0.5113989999999999,
                0.537435,
                0.621854,
                0.619501,
                0.630562,
                0.647666,
                0.613095,
                0.636833,
                "0.63518"
               ],
               [
                0.679165,
                0.7389899999999999,
                0.7620359999999999,
                0.772889,
                0.783672,
                0.79624,
                0.7938810000000001,
                0.82855,
                "0.838503"
               ],
               [
                0.793864,
                0.771265,
                0.837455,
                null,
                null,
                0.9395110000000001,
                0.953578,
                0.976318,
                "0.978835"
               ],
               [
                0.767469,
                0.734571,
                0.777929,
                0.804951,
                0.796936,
                0.830092,
                0.937041,
                0.8975569999999999,
                "0.927912"
               ],
               [
                0.41186999999999996,
                0.47686300000000004,
                0.514208,
                0.5315770000000001,
                0.531734,
                0.613937,
                0.68407,
                0.720767,
                0.736486,
                "0.745775"
               ],
               [
                0.514081,
                0.551291,
                0.592873,
                0.606793,
                0.596734,
                0.573612,
                0.587167,
                0.6118359999999999,
                "0.623431"
               ],
               [
                "0.698824",
                "0.717476",
                "0.754723",
                0.76626
               ],
               [
                0.22499899999999998,
                0.301304,
                0.493501,
                0.553634,
                0.5440149999999999,
                0.603152,
                0.628483,
                0.668913,
                0.664496,
                0.656714
               ],
               [
                0.708943,
                0.72128,
                0.670317,
                0.679014,
                0.672284,
                0.680056,
                0.715796,
                0.782062,
                0.780095,
                0.8623270000000001
               ],
               [
                0.577025,
                0.63172,
                0.705583,
                0.7170489999999999,
                0.712938,
                0.746279,
                0.76946,
                0.765582,
                0.8472069999999999,
                0.8344889999999999
               ],
               [
                0.420918,
                0.463179,
                0.653984,
                0.631627,
                0.699303,
                0.715306,
                0.719426,
                0.6969310000000001,
                0.703617,
                0.7172810000000001
               ],
               [
                null,
                0.769162,
                0.8067949999999999,
                0.8333430000000001,
                0.8220360000000001,
                0.854166,
                0.868094,
                0.880123,
                0.925475,
                0.938341
               ],
               [
                0.48230100000000004,
                0.5700770000000001,
                0.595791,
                0.5882310000000001,
                0.638927,
                0.654008,
                0.708858,
                "0.693214",
                0.716183
               ],
               [
                0.6837989999999999,
                0.723564,
                0.730588,
                0.7770050000000001,
                0.8080430000000001,
                0.778361,
                0.801231,
                0.809692,
                "0.754165",
                0.794783
               ],
               [
                0.255411,
                0.394499,
                0.498838,
                0.523953,
                0.539906,
                0.554812,
                0.586854,
                "0.57948",
                0.577675
               ],
               [
                0.5060520000000001,
                0.545246,
                0.605422,
                0.630317,
                0.679752,
                0.6939890000000001,
                0.763586,
                "0.845105",
                0.871082
               ],
               []
              ]
             }
            ],
            "label": "Households with fixed broadband connection",
            "method": "update"
           },
           {
            "args": [
             {
              "x": [
               [
                "2011-12-01 00:00:00",
                "2012-06-01 00:00:00",
                "2012-12-01 00:00:00",
                "2013-06-01 00:00:00",
                "2013-12-01 00:00:00",
                "2014-06-01 00:00:00",
                "2014-12-01 00:00:00",
                "2015-06-01 00:00:00",
                "2016-12-01 00:00:00",
                "2017-06-01 00:00:00",
                "2017-12-01 00:00:00",
                "2018-06-01 00:00:00",
                "2018-12-01 00:00:00",
                "2019-06-01 00:00:00"
               ],
               [
                "2011-12-01 00:00:00",
                "2012-06-01 00:00:00",
                "2012-12-01 00:00:00",
                "2013-06-01 00:00:00",
                "2013-12-01 00:00:00",
                "2014-06-01 00:00:00",
                "2014-12-01 00:00:00",
                "2015-06-01 00:00:00",
                "2016-12-01 00:00:00",
                "2017-06-01 00:00:00",
                "2017-12-01 00:00:00",
                "2018-06-01 00:00:00",
                "2018-12-01 00:00:00",
                "2019-06-01 00:00:00"
               ],
               [
                "2011-12-01 00:00:00",
                "2012-06-01 00:00:00",
                "2012-12-01 00:00:00",
                "2013-06-01 00:00:00",
                "2013-12-01 00:00:00",
                "2014-06-01 00:00:00",
                "2014-12-01 00:00:00",
                "2015-06-01 00:00:00",
                "2016-12-01 00:00:00",
                "2017-06-01 00:00:00",
                "2017-12-01 00:00:00",
                "2018-06-01 00:00:00",
                "2018-12-01 00:00:00",
                "2019-06-01 00:00:00"
               ],
               [
                "2011-12-01 00:00:00",
                "2012-06-01 00:00:00",
                "2012-12-01 00:00:00",
                "2013-06-01 00:00:00",
                "2013-12-01 00:00:00",
                "2014-06-01 00:00:00",
                "2014-12-01 00:00:00",
                "2015-06-01 00:00:00",
                "2016-12-01 00:00:00",
                "2017-06-01 00:00:00",
                "2017-12-01 00:00:00",
                "2018-06-01 00:00:00",
                "2018-12-01 00:00:00",
                "2019-06-01 00:00:00"
               ],
               [
                "2011-12-01 00:00:00",
                "2012-06-01 00:00:00",
                "2012-12-01 00:00:00",
                "2013-06-01 00:00:00",
                "2013-12-01 00:00:00",
                "2014-06-01 00:00:00",
                "2014-12-01 00:00:00",
                "2015-06-01 00:00:00",
                "2016-12-01 00:00:00",
                "2017-06-01 00:00:00",
                "2017-12-01 00:00:00",
                "2018-06-01 00:00:00",
                "2018-12-01 00:00:00",
                "2019-06-01 00:00:00"
               ],
               [
                "2011-12-01 00:00:00",
                "2012-06-01 00:00:00",
                "2012-12-01 00:00:00",
                "2013-06-01 00:00:00",
                "2013-12-01 00:00:00",
                "2014-06-01 00:00:00",
                "2014-12-01 00:00:00",
                "2015-06-01 00:00:00",
                "2016-12-01 00:00:00",
                "2017-06-01 00:00:00",
                "2017-12-01 00:00:00",
                "2018-06-01 00:00:00",
                "2018-12-01 00:00:00",
                "2019-06-01 00:00:00"
               ],
               [
                "2011-12-01 00:00:00",
                "2012-06-01 00:00:00",
                "2012-12-01 00:00:00",
                "2013-06-01 00:00:00",
                "2013-12-01 00:00:00",
                "2014-06-01 00:00:00",
                "2014-12-01 00:00:00",
                "2015-06-01 00:00:00",
                "2016-12-01 00:00:00",
                "2017-06-01 00:00:00",
                "2017-12-01 00:00:00",
                "2018-06-01 00:00:00",
                "2018-12-01 00:00:00",
                "2019-06-01 00:00:00"
               ],
               [
                "2011-12-01 00:00:00",
                "2012-06-01 00:00:00",
                "2012-12-01 00:00:00",
                "2013-06-01 00:00:00",
                "2013-12-01 00:00:00",
                "2014-06-01 00:00:00",
                "2014-12-01 00:00:00",
                "2015-06-01 00:00:00",
                "2016-12-01 00:00:00",
                "2017-06-01 00:00:00",
                "2017-12-01 00:00:00",
                "2018-06-01 00:00:00",
                "2018-12-01 00:00:00",
                "2019-06-01 00:00:00"
               ],
               [],
               [
                "2011-12-01 00:00:00",
                "2012-06-01 00:00:00",
                "2012-12-01 00:00:00",
                "2013-06-01 00:00:00",
                "2013-12-01 00:00:00",
                "2014-06-01 00:00:00",
                "2014-12-01 00:00:00",
                "2015-06-01 00:00:00",
                "2016-12-01 00:00:00",
                "2017-06-01 00:00:00",
                "2017-12-01 00:00:00",
                "2018-06-01 00:00:00",
                "2018-12-01 00:00:00",
                "2019-06-01 00:00:00"
               ],
               [
                "2011-12-01 00:00:00",
                "2012-06-01 00:00:00",
                "2012-12-01 00:00:00",
                "2013-06-01 00:00:00",
                "2013-12-01 00:00:00",
                "2014-06-01 00:00:00",
                "2014-12-01 00:00:00",
                "2015-06-01 00:00:00",
                "2016-12-01 00:00:00",
                "2017-06-01 00:00:00",
                "2017-12-01 00:00:00",
                "2018-06-01 00:00:00",
                "2018-12-01 00:00:00",
                "2019-06-01 00:00:00"
               ],
               [
                "2011-12-01 00:00:00",
                "2012-06-01 00:00:00",
                "2012-12-01 00:00:00",
                "2013-06-01 00:00:00",
                "2013-12-01 00:00:00",
                "2014-06-01 00:00:00",
                "2014-12-01 00:00:00",
                "2015-06-01 00:00:00",
                "2016-12-01 00:00:00",
                "2017-06-01 00:00:00",
                "2017-12-01 00:00:00",
                "2018-06-01 00:00:00",
                "2018-12-01 00:00:00",
                "2019-06-01 00:00:00"
               ],
               [
                "2011-12-01 00:00:00",
                "2012-06-01 00:00:00",
                "2012-12-01 00:00:00",
                "2013-06-01 00:00:00",
                "2013-12-01 00:00:00",
                "2014-06-01 00:00:00",
                "2014-12-01 00:00:00",
                "2015-06-01 00:00:00",
                "2016-12-01 00:00:00",
                "2017-06-01 00:00:00",
                "2017-12-01 00:00:00",
                "2018-06-01 00:00:00",
                "2018-12-01 00:00:00",
                "2019-06-01 00:00:00"
               ],
               [
                "2011-12-01 00:00:00",
                "2012-06-01 00:00:00",
                "2012-12-01 00:00:00",
                "2013-06-01 00:00:00",
                "2013-12-01 00:00:00",
                "2014-06-01 00:00:00",
                "2014-12-01 00:00:00",
                "2015-06-01 00:00:00",
                "2016-12-01 00:00:00",
                "2017-06-01 00:00:00",
                "2017-12-01 00:00:00",
                "2018-06-01 00:00:00",
                "2018-12-01 00:00:00",
                "2019-06-01 00:00:00"
               ],
               [
                "2011-12-01 00:00:00",
                "2012-06-01 00:00:00",
                "2012-12-01 00:00:00",
                "2013-06-01 00:00:00",
                "2013-12-01 00:00:00",
                "2014-06-01 00:00:00",
                "2014-12-01 00:00:00",
                "2015-06-01 00:00:00",
                "2016-12-01 00:00:00",
                "2017-06-01 00:00:00",
                "2017-12-01 00:00:00",
                "2018-06-01 00:00:00",
                "2018-12-01 00:00:00",
                "2019-06-01 00:00:00"
               ],
               [
                "2011-12-01 00:00:00",
                "2012-06-01 00:00:00",
                "2012-12-01 00:00:00",
                "2013-06-01 00:00:00",
                "2013-12-01 00:00:00",
                "2014-06-01 00:00:00",
                "2014-12-01 00:00:00",
                "2015-06-01 00:00:00",
                "2016-12-01 00:00:00",
                "2017-06-01 00:00:00",
                "2017-12-01 00:00:00",
                "2018-06-01 00:00:00",
                "2018-12-01 00:00:00",
                "2019-06-01 00:00:00"
               ],
               [
                "2011-12-01 00:00:00",
                "2012-06-01 00:00:00",
                "2012-12-01 00:00:00",
                "2013-06-01 00:00:00",
                "2013-12-01 00:00:00",
                "2014-06-01 00:00:00",
                "2014-12-01 00:00:00",
                "2015-06-01 00:00:00",
                "2016-12-01 00:00:00",
                "2017-06-01 00:00:00",
                "2017-12-01 00:00:00",
                "2018-06-01 00:00:00",
                "2018-12-01 00:00:00",
                "2019-06-01 00:00:00"
               ],
               [
                "2011-12-01 00:00:00",
                "2012-06-01 00:00:00",
                "2012-12-01 00:00:00",
                "2013-06-01 00:00:00",
                "2013-12-01 00:00:00",
                "2014-06-01 00:00:00",
                "2014-12-01 00:00:00",
                "2015-06-01 00:00:00",
                "2016-12-01 00:00:00",
                "2017-06-01 00:00:00",
                "2017-12-01 00:00:00",
                "2018-06-01 00:00:00",
                "2018-12-01 00:00:00",
                "2019-06-01 00:00:00"
               ],
               [],
               [
                "2011-12-01 00:00:00",
                "2012-06-01 00:00:00",
                "2012-12-01 00:00:00",
                "2013-06-01 00:00:00",
                "2013-12-01 00:00:00",
                "2014-06-01 00:00:00",
                "2014-12-01 00:00:00",
                "2015-06-01 00:00:00",
                "2016-12-01 00:00:00",
                "2017-06-01 00:00:00",
                "2017-12-01 00:00:00",
                "2018-06-01 00:00:00",
                "2018-12-01 00:00:00",
                "2019-06-01 00:00:00"
               ],
               [
                "2011-12-01 00:00:00",
                "2012-06-01 00:00:00",
                "2012-12-01 00:00:00",
                "2013-06-01 00:00:00",
                "2013-12-01 00:00:00",
                "2014-06-01 00:00:00",
                "2014-12-01 00:00:00",
                "2015-06-01 00:00:00",
                "2016-12-01 00:00:00",
                "2017-06-01 00:00:00",
                "2017-12-01 00:00:00",
                "2018-06-01 00:00:00",
                "2018-12-01 00:00:00",
                "2019-06-01 00:00:00"
               ],
               [
                "2011-12-01 00:00:00",
                "2012-06-01 00:00:00",
                "2012-12-01 00:00:00",
                "2013-06-01 00:00:00",
                "2013-12-01 00:00:00",
                "2014-06-01 00:00:00",
                "2014-12-01 00:00:00",
                "2015-06-01 00:00:00",
                "2015-12-01 00:00:00",
                "2016-06-01 00:00:00",
                "2016-12-01 00:00:00",
                "2017-06-01 00:00:00",
                "2017-12-01 00:00:00",
                "2018-06-01 00:00:00",
                "2018-12-01 00:00:00",
                "2019-06-01 00:00:00"
               ],
               [
                "2011-12-01 00:00:00",
                "2012-06-01 00:00:00",
                "2012-12-01 00:00:00",
                "2013-06-01 00:00:00",
                "2013-12-01 00:00:00",
                "2014-06-01 00:00:00",
                "2014-12-01 00:00:00",
                "2015-06-01 00:00:00",
                "2016-12-01 00:00:00",
                "2017-06-01 00:00:00",
                "2017-12-01 00:00:00",
                "2018-06-01 00:00:00",
                "2018-12-01 00:00:00",
                "2019-06-01 00:00:00"
               ],
               [
                "2011-12-01 00:00:00",
                "2012-06-01 00:00:00",
                "2012-12-01 00:00:00",
                "2013-06-01 00:00:00",
                "2013-12-01 00:00:00",
                "2014-06-01 00:00:00",
                "2014-12-01 00:00:00",
                "2015-06-01 00:00:00",
                "2016-12-01 00:00:00",
                "2017-06-01 00:00:00",
                "2017-12-01 00:00:00",
                "2018-06-01 00:00:00",
                "2018-12-01 00:00:00",
                "2019-06-01 00:00:00"
               ],
               [
                "2011-12-01 00:00:00",
                "2012-06-01 00:00:00",
                "2012-12-01 00:00:00",
                "2013-06-01 00:00:00",
                "2013-12-01 00:00:00",
                "2014-06-01 00:00:00",
                "2014-12-01 00:00:00",
                "2015-06-01 00:00:00",
                "2016-12-01 00:00:00",
                "2017-06-01 00:00:00",
                "2017-12-01 00:00:00",
                "2018-06-01 00:00:00",
                "2018-12-01 00:00:00",
                "2019-06-01 00:00:00"
               ],
               [
                "2011-12-01 00:00:00",
                "2012-06-01 00:00:00",
                "2012-12-01 00:00:00",
                "2013-06-01 00:00:00",
                "2013-12-01 00:00:00",
                "2014-06-01 00:00:00",
                "2014-12-01 00:00:00",
                "2015-06-01 00:00:00",
                "2016-12-01 00:00:00",
                "2017-06-01 00:00:00",
                "2017-12-01 00:00:00",
                "2018-06-01 00:00:00",
                "2018-12-01 00:00:00",
                "2019-06-01 00:00:00"
               ],
               [
                "2011-12-01 00:00:00",
                "2012-06-01 00:00:00",
                "2012-12-01 00:00:00",
                "2013-06-01 00:00:00",
                "2013-12-01 00:00:00",
                "2014-06-01 00:00:00",
                "2014-12-01 00:00:00",
                "2015-06-01 00:00:00",
                "2016-12-01 00:00:00",
                "2017-06-01 00:00:00",
                "2017-12-01 00:00:00",
                "2018-06-01 00:00:00",
                "2018-12-01 00:00:00",
                "2019-06-01 00:00:00"
               ],
               [
                "2011-12-01 00:00:00",
                "2012-06-01 00:00:00",
                "2012-12-01 00:00:00",
                "2013-06-01 00:00:00",
                "2013-12-01 00:00:00",
                "2014-06-01 00:00:00",
                "2014-12-01 00:00:00",
                "2015-06-01 00:00:00",
                "2016-12-01 00:00:00",
                "2017-06-01 00:00:00",
                "2017-12-01 00:00:00",
                "2018-06-01 00:00:00",
                "2018-12-01 00:00:00",
                "2019-06-01 00:00:00"
               ],
               [
                "2011-12-01 00:00:00",
                "2012-06-01 00:00:00",
                "2012-12-01 00:00:00",
                "2013-06-01 00:00:00",
                "2013-12-01 00:00:00",
                "2014-06-01 00:00:00",
                "2014-12-01 00:00:00",
                "2015-06-01 00:00:00",
                "2016-12-01 00:00:00",
                "2017-06-01 00:00:00",
                "2017-12-01 00:00:00",
                "2018-06-01 00:00:00",
                "2018-12-01 00:00:00",
                "2019-06-01 00:00:00"
               ],
               [
                "2011-12-01 00:00:00",
                "2012-06-01 00:00:00",
                "2012-12-01 00:00:00",
                "2013-06-01 00:00:00",
                "2013-12-01 00:00:00",
                "2014-06-01 00:00:00",
                "2014-12-01 00:00:00",
                "2015-06-01 00:00:00",
                "2016-12-01 00:00:00",
                "2017-06-01 00:00:00",
                "2017-12-01 00:00:00",
                "2018-06-01 00:00:00",
                "2018-12-01 00:00:00",
                "2019-06-01 00:00:00"
               ],
               [
                "2011-12-01 00:00:00",
                "2012-06-01 00:00:00",
                "2012-12-01 00:00:00",
                "2013-06-01 00:00:00",
                "2013-12-01 00:00:00",
                "2014-06-01 00:00:00",
                "2014-12-01 00:00:00",
                "2015-06-01 00:00:00",
                "2016-12-01 00:00:00",
                "2017-06-01 00:00:00",
                "2017-12-01 00:00:00",
                "2018-06-01 00:00:00",
                "2018-12-01 00:00:00",
                "2019-06-01 00:00:00"
               ],
               []
              ],
              "y": [
               [
                0.0324808,
                0.03327480000000001,
                0.035387699999999994,
                0.036978,
                0.0394966,
                0.0435535,
                0.0527947,
                0.0651649,
                "0.115414",
                "0.115374",
                0.131943,
                0.13253,
                0.150667,
                0.17038699999999998
               ],
               [
                null,
                null,
                null,
                null,
                null,
                null,
                null,
                0.00011847299999999999,
                "0.000155739",
                0.000173867,
                0.000541519,
                0.00339916,
                0.00615265,
                0.011123899999999999
               ],
               [
                0.0188623,
                0.00547185,
                0.0188623,
                0.0351278,
                0.0588875,
                0.0809151,
                0.108449,
                0.13753800000000002,
                "0.243452",
                "0.240117",
                0.255877,
                0.389434,
                0.554125,
                0.678614
               ],
               [
                0.0560399,
                0.0746934,
                0.0985728,
                0.12726099999999999,
                0.15627,
                0.179561,
                0.203185,
                0.22888200000000003,
                "0.282886",
                "0.299181",
                0.319291,
                0.35597199999999996,
                0.361543,
                0.405789
               ],
               [
                null,
                0.0332852,
                0.0399589,
                0.0463931,
                0.053639099999999995,
                0.061834900000000005,
                0.07205360000000001,
                0.0838169,
                "0.126972",
                "0.145361",
                0.167484,
                0.188614,
                0.21877,
                0.246221
               ],
               [
                null,
                null,
                null,
                null,
                null,
                0.0000352275,
                0.0000315066,
                0.00189432,
                0.0135764,
                0.020108599999999997,
                0.053547800000000007,
                0.0647016,
                0.07567230000000001,
                0.08820499999999999
               ],
               [
                0.0150993,
                0.014699700000000001,
                0.015397399999999999,
                0.0217963,
                0.03918819999999999,
                0.048988,
                0.0640363,
                0.198496,
                "0.334364",
                "0.383485",
                0.476365,
                0.523137,
                0.574971,
                0.622021
               ],
               [
                0.00421353,
                0.0074960999999999995,
                0.0139368,
                0.041644400000000005,
                0.0747403,
                0.192162,
                0.20381300000000002,
                0.174812,
                0.219216,
                0.23633200000000001,
                0.263917,
                0.276003,
                0.299566,
                0.334276
               ],
               [],
               [
                0.00368568,
                0.00679999,
                0.0116145,
                0.018213,
                0.025662900000000002,
                0.0369675,
                0.051915300000000004,
                0.0644976,
                "0.110152",
                "0.126503",
                0.148215,
                0.172931,
                0.19881500000000002,
                0.233194
               ],
               [
                0.00663889,
                0.0147807,
                0.013111000000000001,
                0.0170152,
                0.03830580000000001,
                0.0450518,
                0.0507094,
                0.0872217,
                "0.204525",
                "0.212345",
                0.23665999999999998,
                0.241035,
                0.253352,
                0.274967
               ],
               [
                0.014581799999999999,
                0.00766785,
                0.0111489,
                0.015687100000000002,
                0.0168177,
                0.0178579,
                0.0321324,
                0.0929839,
                "0.169521",
                "0.216591",
                0.315345,
                0.345975,
                0.374772,
                0.40389400000000003
               ],
               [
                0.00007538010000000001,
                0.0000688492,
                0.0000597821,
                0.000108572,
                0.00384406,
                0.00431108,
                0.00473231,
                0.00965077,
                "0.0291326",
                "0.0847612",
                0.10808,
                0.14771800000000002,
                0.189419,
                0.22081900000000002
               ],
               [
                0.0939956,
                0.0990669,
                0.10069299999999999,
                0.100477,
                0.09556039999999999,
                0.106635,
                0.11089,
                0.170506,
                0.26811599999999997,
                0.419745,
                0.44000500000000003,
                0.457509,
                0.465316,
                0.470829
               ],
               [
                0.00139961,
                0.00416517,
                0.007717100000000001,
                0.00839129,
                0.0142179,
                0.054642899999999994,
                0.0742119,
                0.0888567,
                "0.189802",
                "0.238972",
                0.308084,
                0.380837,
                0.4318,
                0.494154
               ],
               [
                0.154497,
                0.13663499999999998,
                0.204998,
                0.206223,
                0.356166,
                0.378544,
                0.402025,
                0.421867,
                "0.492272",
                "0.549095",
                0.530207,
                0.532704,
                0.590194,
                0.600255
               ],
               [
                0.00489335,
                0.00631438,
                0.0063969,
                0.00672546,
                0.00678691,
                0.00844277,
                0.00705415,
                0.00965114,
                "0.0616546",
                "0.136471",
                0.200146,
                0.272744,
                0.33257600000000004,
                0.402013
               ],
               [
                0.0207302,
                0.028175400000000003,
                0.0409806,
                0.053997199999999995,
                0.09277619999999999,
                0.131241,
                0.160813,
                0.17504,
                0.322986,
                0.329496,
                0.32605300000000004,
                0.396516,
                0.395381,
                0.403858
               ],
               [],
               [
                0.013367799999999999,
                0.04679880000000001,
                0.10413399999999999,
                0.16430999999999998,
                0.187257,
                0.22640100000000002,
                0.222575,
                0.25455,
                0.42976499999999995,
                0.490868,
                0.631211,
                0.678165,
                0.716458,
                0.7485149999999999
               ],
               [
                0.00638424,
                0.00977355,
                0.010798700000000001,
                0.014568799999999998,
                0.0247233,
                0.031681799999999996,
                0.031681400000000005,
                0.08356419999999999,
                0.1755,
                0.21631399999999998,
                0.273696,
                0.381303,
                0.428717,
                0.442201
               ],
               [
                0.0161791,
                0.024669299999999998,
                0.0332593,
                0.0421054,
                0.0536692,
                0.06651889999999999,
                0.08656060000000002,
                "0.107555",
                "0.135723",
                "0.152986",
                0.177594,
                0.204154,
                0.22693200000000002,
                0.26255300000000004,
                0.300187,
                0.33308000000000004
               ],
               [
                0.16000599999999998,
                0.17191800000000002,
                0.1892,
                0.23115700000000003,
                0.24548899999999999,
                0.277661,
                0.46585600000000005,
                0.45956099999999994,
                "0.563293",
                0.654883,
                0.6570590000000001,
                0.682602,
                0.7156359999999999,
                0.741594
               ],
               [
                0.16395099999999999,
                0.17647100000000002,
                0.24602800000000002,
                0.272497,
                0.312677,
                0.33577199999999996,
                0.38374899999999995,
                0.415292,
                "0.591626",
                "0.607918",
                0.672064,
                0.711101,
                0.7351489999999999,
                0.762471
               ],
               [
                0.0161612,
                0.0246572,
                0.032145299999999995,
                0.036823400000000006,
                0.0406366,
                0.044338,
                0.0607873,
                0.0713877,
                0.152937,
                0.17561500000000002,
                0.155589,
                0.187698,
                0.20013599999999998,
                0.24614899999999998
               ],
               [
                0.0187287,
                0.030331,
                0.0343195,
                0.039058499999999996,
                0.0827495,
                0.0899602,
                0.0948585,
                0.100686,
                "0.126903",
                "0.138023",
                0.18325,
                0.1831,
                0.19128599999999998,
                0.202993
               ],
               [
                0.0005919969999999999,
                0.00354527,
                0.00938455,
                0.0124892,
                0.013474200000000002,
                0.028589499999999997,
                0.054925199999999993,
                0.0721164,
                0.136044,
                0.16780899999999999,
                0.170208,
                0.170645,
                0.187417,
                0.19961099999999998
               ],
               [
                0.00851,
                0.0194923,
                0.0178958,
                0.0173335,
                0.0212353,
                0.0208049,
                0.0342841,
                0.0356399,
                0.0449618,
                0.069703,
                0.0838873,
                0.102281,
                0.111755,
                0.404143
               ],
               [
                0.0756307,
                0.10307899999999999,
                0.12201400000000001,
                0.135191,
                0.132993,
                0.132993,
                0.139909,
                0.263177,
                "0.475209",
                "0.516618",
                0.523069,
                0.527751,
                0.5464600000000001,
                0.566347
               ],
               [
                0.00176734,
                0.0114214,
                0.0118455,
                0.0215912,
                0.0292821,
                0.0371288,
                0.048181199999999993,
                0.0551168,
                0.09419939999999999,
                0.11139,
                0.146285,
                0.167705,
                0.17986,
                0.19022999999999998
               ],
               [
                null,
                0.00038903699999999995,
                0.000544015,
                0.000606952,
                0.000607759,
                0.000627366,
                0.000718358,
                0.000744557,
                "0.00210067",
                "0.00289805",
                0.00647985,
                0.0210443,
                0.021674099999999998,
                0.027144799999999997
               ],
               []
              ]
             }
            ],
            "label": "Share of fixed broadband subscriptions >= 100 Mbps",
            "method": "update"
           },
           {
            "args": [
             {
              "x": [
               [
                "2011-01-01 00:00:00",
                "2012-01-01 00:00:00",
                "2013-01-01 00:00:00",
                "2014-01-01 00:00:00",
                "2015-01-01 00:00:00",
                "2017-01-01 00:00:00",
                "2019-01-01 00:00:00"
               ],
               [
                "2011-01-01 00:00:00",
                "2012-01-01 00:00:00",
                "2013-01-01 00:00:00",
                "2014-01-01 00:00:00",
                "2015-01-01 00:00:00",
                "2017-01-01 00:00:00",
                "2019-01-01 00:00:00"
               ],
               [
                "2011-01-01 00:00:00",
                "2012-01-01 00:00:00",
                "2013-01-01 00:00:00",
                "2014-01-01 00:00:00",
                "2015-01-01 00:00:00",
                "2017-01-01 00:00:00",
                "2019-01-01 00:00:00"
               ],
               [
                "2011-01-01 00:00:00",
                "2012-01-01 00:00:00",
                "2013-01-01 00:00:00",
                "2014-01-01 00:00:00",
                "2015-01-01 00:00:00",
                "2016-01-01 00:00:00",
                "2017-01-01 00:00:00",
                "2019-01-01 00:00:00"
               ],
               [
                "2011-01-01 00:00:00",
                "2012-01-01 00:00:00",
                "2013-01-01 00:00:00",
                "2014-01-01 00:00:00",
                "2015-01-01 00:00:00",
                "2016-01-01 00:00:00",
                "2017-01-01 00:00:00",
                "2019-01-01 00:00:00"
               ],
               [
                "2011-01-01 00:00:00",
                "2012-01-01 00:00:00",
                "2013-01-01 00:00:00",
                "2014-01-01 00:00:00",
                "2015-01-01 00:00:00",
                "2016-01-01 00:00:00",
                "2017-01-01 00:00:00",
                "2019-01-01 00:00:00"
               ],
               [
                "2011-01-01 00:00:00",
                "2012-01-01 00:00:00",
                "2013-01-01 00:00:00",
                "2014-01-01 00:00:00",
                "2015-01-01 00:00:00",
                "2016-01-01 00:00:00",
                "2017-01-01 00:00:00",
                "2019-01-01 00:00:00"
               ],
               [
                "2011-01-01 00:00:00",
                "2012-01-01 00:00:00",
                "2013-01-01 00:00:00",
                "2014-01-01 00:00:00",
                "2015-01-01 00:00:00",
                "2016-01-01 00:00:00",
                "2017-01-01 00:00:00",
                "2019-01-01 00:00:00"
               ],
               [
                "2011-01-01 00:00:00",
                "2012-01-01 00:00:00",
                "2013-01-01 00:00:00",
                "2014-01-01 00:00:00",
                "2017-01-01 00:00:00",
                "2019-01-01 00:00:00"
               ],
               [
                "2011-01-01 00:00:00",
                "2012-01-01 00:00:00",
                "2013-01-01 00:00:00",
                "2014-01-01 00:00:00",
                "2015-01-01 00:00:00",
                "2016-01-01 00:00:00",
                "2017-01-01 00:00:00",
                "2019-01-01 00:00:00"
               ],
               [
                "2011-01-01 00:00:00",
                "2012-01-01 00:00:00",
                "2013-01-01 00:00:00",
                "2014-01-01 00:00:00",
                "2015-01-01 00:00:00",
                "2016-01-01 00:00:00",
                "2017-01-01 00:00:00",
                "2019-01-01 00:00:00"
               ],
               [
                "2011-01-01 00:00:00",
                "2012-01-01 00:00:00",
                "2013-01-01 00:00:00",
                "2014-01-01 00:00:00",
                "2015-01-01 00:00:00",
                "2016-01-01 00:00:00",
                "2017-01-01 00:00:00",
                "2019-01-01 00:00:00"
               ],
               [
                "2011-01-01 00:00:00",
                "2012-01-01 00:00:00",
                "2013-01-01 00:00:00",
                "2014-01-01 00:00:00",
                "2015-01-01 00:00:00",
                "2016-01-01 00:00:00",
                "2017-01-01 00:00:00",
                "2019-01-01 00:00:00"
               ],
               [
                "2011-01-01 00:00:00",
                "2012-01-01 00:00:00",
                "2013-01-01 00:00:00",
                "2014-01-01 00:00:00",
                "2015-01-01 00:00:00",
                "2016-01-01 00:00:00",
                "2017-01-01 00:00:00",
                "2019-01-01 00:00:00"
               ],
               [
                "2011-01-01 00:00:00",
                "2012-01-01 00:00:00",
                "2013-01-01 00:00:00",
                "2014-01-01 00:00:00",
                "2015-01-01 00:00:00",
                "2016-01-01 00:00:00",
                "2017-01-01 00:00:00",
                "2019-01-01 00:00:00"
               ],
               [
                "2011-01-01 00:00:00",
                "2012-01-01 00:00:00",
                "2013-01-01 00:00:00",
                "2014-01-01 00:00:00",
                "2015-01-01 00:00:00",
                "2016-01-01 00:00:00",
                "2017-01-01 00:00:00",
                "2019-01-01 00:00:00"
               ],
               [
                "2011-01-01 00:00:00",
                "2012-01-01 00:00:00",
                "2013-01-01 00:00:00",
                "2014-01-01 00:00:00",
                "2015-01-01 00:00:00",
                "2016-01-01 00:00:00",
                "2017-01-01 00:00:00",
                "2019-01-01 00:00:00"
               ],
               [
                "2011-01-01 00:00:00",
                "2012-01-01 00:00:00",
                "2013-01-01 00:00:00",
                "2014-01-01 00:00:00",
                "2015-01-01 00:00:00",
                "2016-01-01 00:00:00",
                "2017-01-01 00:00:00",
                "2019-01-01 00:00:00"
               ],
               [
                "2011-01-01 00:00:00",
                "2012-01-01 00:00:00",
                "2013-01-01 00:00:00",
                "2014-01-01 00:00:00",
                "2015-01-01 00:00:00",
                "2016-01-01 00:00:00",
                "2017-01-01 00:00:00",
                "2019-01-01 00:00:00"
               ],
               [
                "2011-01-01 00:00:00",
                "2012-01-01 00:00:00",
                "2013-01-01 00:00:00",
                "2014-01-01 00:00:00",
                "2015-01-01 00:00:00",
                "2016-01-01 00:00:00",
                "2017-01-01 00:00:00",
                "2019-01-01 00:00:00"
               ],
               [
                "2011-01-01 00:00:00",
                "2012-01-01 00:00:00",
                "2013-01-01 00:00:00",
                "2014-01-01 00:00:00",
                "2015-01-01 00:00:00",
                "2016-01-01 00:00:00",
                "2017-01-01 00:00:00",
                "2019-01-01 00:00:00"
               ],
               [
                "2014-01-01 00:00:00",
                "2015-01-01 00:00:00",
                "2017-01-01 00:00:00"
               ],
               [
                "2011-01-01 00:00:00",
                "2012-01-01 00:00:00",
                "2013-01-01 00:00:00",
                "2014-01-01 00:00:00",
                "2015-01-01 00:00:00",
                "2016-01-01 00:00:00",
                "2017-01-01 00:00:00",
                "2019-01-01 00:00:00"
               ],
               [
                "2011-01-01 00:00:00",
                "2012-01-01 00:00:00",
                "2013-01-01 00:00:00",
                "2014-01-01 00:00:00",
                "2015-01-01 00:00:00",
                "2016-01-01 00:00:00",
                "2017-01-01 00:00:00",
                "2019-01-01 00:00:00"
               ],
               [
                "2011-01-01 00:00:00",
                "2012-01-01 00:00:00",
                "2013-01-01 00:00:00",
                "2014-01-01 00:00:00",
                "2015-01-01 00:00:00",
                "2016-01-01 00:00:00",
                "2017-01-01 00:00:00",
                "2019-01-01 00:00:00"
               ],
               [
                "2011-01-01 00:00:00",
                "2012-01-01 00:00:00",
                "2013-01-01 00:00:00",
                "2014-01-01 00:00:00",
                "2015-01-01 00:00:00",
                "2016-01-01 00:00:00",
                "2017-01-01 00:00:00",
                "2019-01-01 00:00:00"
               ],
               [
                "2011-01-01 00:00:00",
                "2012-01-01 00:00:00",
                "2013-01-01 00:00:00",
                "2014-01-01 00:00:00",
                "2015-01-01 00:00:00",
                "2016-01-01 00:00:00",
                "2017-01-01 00:00:00",
                "2019-01-01 00:00:00"
               ],
               [
                "2011-01-01 00:00:00",
                "2012-01-01 00:00:00",
                "2013-01-01 00:00:00",
                "2014-01-01 00:00:00",
                "2015-01-01 00:00:00",
                "2017-01-01 00:00:00",
                "2019-01-01 00:00:00"
               ],
               [
                "2011-01-01 00:00:00",
                "2012-01-01 00:00:00",
                "2013-01-01 00:00:00",
                "2014-01-01 00:00:00",
                "2015-01-01 00:00:00",
                "2016-01-01 00:00:00",
                "2017-01-01 00:00:00",
                "2019-01-01 00:00:00"
               ],
               [
                "2011-01-01 00:00:00",
                "2012-01-01 00:00:00",
                "2013-01-01 00:00:00",
                "2014-01-01 00:00:00",
                "2015-01-01 00:00:00",
                "2017-01-01 00:00:00",
                "2019-01-01 00:00:00"
               ],
               [
                "2011-01-01 00:00:00",
                "2012-01-01 00:00:00",
                "2013-01-01 00:00:00",
                "2014-01-01 00:00:00",
                "2015-01-01 00:00:00",
                "2017-01-01 00:00:00",
                "2019-01-01 00:00:00"
               ],
               []
              ],
              "y": [
               [
                0.200389,
                0.177169,
                0.137194,
                0.044594,
                0.030804,
                0.019506400000000004,
                0.00905685
               ],
               [
                0.080635,
                0.099189,
                0.10786400000000002,
                0.073765,
                0.075401,
                0.0614065,
                0.04193669999999999
               ],
               [
                0.10089,
                0.110312,
                0.114657,
                0.092017,
                0.070613,
                0.0587677,
                0.026604000000000003
               ],
               [
                0.052479,
                0.044798000000000004,
                0.036801,
                0.039356,
                0.027479000000000003,
                0.021978,
                0.0163497,
                0.026330400000000004
               ],
               [
                0.091735,
                0.08089500000000001,
                0.080812,
                0.07470399999999999,
                0.072615,
                0.06575399999999999,
                0.059176599999999996,
                0.045526800000000006
               ],
               [
                0.07673200000000001,
                0.11837400000000001,
                0.111926,
                0.09902799999999999,
                0.091179,
                0.116926,
                0.132802,
                0.0729841
               ],
               [
                0.197749,
                0.181144,
                0.160966,
                0.139343,
                0.146036,
                0.11938299999999999,
                0.10101,
                0.0688413
               ],
               [
                0.041791,
                0.038751999999999995,
                0.040855,
                0.031585,
                0.031014999999999997,
                0.020078,
                0.018987999999999998,
                0.0124182
               ],
               [
                0.018606,
                0.013428,
                0.012119,
                0.010029999999999999,
                0.00834292,
                0.00717255
               ],
               [
                0.056176,
                0.05313,
                0.044558,
                0.034766000000000005,
                0.033349000000000004,
                0.025037,
                0.0207143,
                0.019455
               ],
               [
                0.11311500000000001,
                0.101119,
                0.09118,
                0.074099,
                0.071631,
                0.055084,
                0.0419935,
                0.025212599999999998
               ],
               [
                0.012227,
                0.012088,
                0.006362,
                0.010759000000000001,
                0.009189,
                0.009849,
                0.00230151,
                0.00501831
               ],
               [
                0.07131699999999999,
                0.076769,
                null,
                0.060830999999999996,
                0.051903,
                0.045369,
                0.045247300000000004,
                0.0322644
               ],
               [
                0.085587,
                0.096278,
                0.0825,
                0.076253,
                0.089153,
                0.08923500000000001,
                0.0657725,
                0.040348699999999994
               ],
               [
                0.007412,
                0.005034,
                0.001485,
                0.00446,
                0.005314,
                0.001673,
                0.00338005,
                "0.00600335"
               ],
               [
                0.22748200000000002,
                0.105689,
                0.111279,
                0.089989,
                0.063831,
                0.058309,
                0.06549289999999999,
                "0.0373112"
               ],
               [
                0.10391800000000001,
                0.036194,
                0.013243000000000001,
                0.026001,
                0.026055000000000002,
                0.033828,
                0.024306499999999998,
                "0.0425297"
               ],
               [
                0.008381,
                0.012139,
                0.012019,
                0.007869,
                0.009937,
                0.009909999999999999,
                0.00472921,
                "0.00448516"
               ],
               [
                0.003034,
                0.008177,
                0.001745,
                0.006201,
                0.007227,
                0.003172,
                0.00585414,
                "0.00510974"
               ],
               [
                0.167062,
                0.174949,
                0.195491,
                0.159485,
                0.12831199999999998,
                0.107803,
                0.08637760000000001,
                "0.104775"
               ],
               [
                0.116601,
                0.10224,
                0.09691699999999999,
                0.08588,
                0.074519,
                0.064974,
                0.0556288,
                "0.0327459"
               ],
               [
                "0.063729",
                "0.056015",
                "0.0412815"
               ],
               [
                0.297742,
                0.22590500000000002,
                0.207882,
                0.198371,
                0.142459,
                0.113837,
                0.0869903,
                0.0451763
               ],
               [
                0.019025,
                0.019172,
                0.021265,
                0.026931999999999998,
                0.015446000000000001,
                0.017932,
                0.013711099999999999,
                0.00891132
               ],
               [
                0.1425,
                0.143946,
                0.130754,
                0.111627,
                0.072591,
                0.044456,
                0.0292597,
                0.023915799999999997
               ],
               [
                0.074046,
                0.070498,
                0.06524400000000001,
                0.04856,
                0.036894,
                0.039284,
                0.0311978,
                0.0408598
               ],
               [
                0.052137,
                0.03288,
                0.016464,
                0.0229,
                0.021034999999999998,
                0.01325,
                0.012880500000000001,
                0.0168613
               ],
               [
                0.032958999999999995,
                0.044943000000000004,
                0.03514,
                0.027842000000000002,
                0.021018000000000002,
                0.013306799999999999,
                0.0195677
               ],
               [
                0.082495,
                0.082419,
                0.062203999999999995,
                0.057061,
                0.061565999999999996,
                0.048586000000000004,
                0.039156300000000005,
                0.030823200000000002
               ],
               [
                0.17621199999999998,
                0.192754,
                0.18848299999999998,
                0.194083,
                0.155918,
                0.11547400000000001,
                0.08358489999999999
               ],
               [
                0.109036,
                0.11459200000000001,
                0.147266,
                0.095748,
                0.148422,
                0.0930919,
                0.05720359999999999
               ],
               []
              ]
             }
            ],
            "label": "Households with no access to Internet at home, because the costs are too high",
            "method": "update"
           },
           {
            "args": [
             {
              "x": [
               [
                "2011-01-01 00:00:00",
                "2012-01-01 00:00:00",
                "2013-01-01 00:00:00",
                "2014-01-01 00:00:00",
                "2015-01-01 00:00:00",
                "2016-01-01 00:00:00",
                "2017-01-01 00:00:00",
                "2019-01-01 00:00:00"
               ],
               [
                "2011-01-01 00:00:00",
                "2012-01-01 00:00:00",
                "2013-01-01 00:00:00",
                "2014-01-01 00:00:00",
                "2015-01-01 00:00:00",
                "2016-01-01 00:00:00",
                "2017-01-01 00:00:00",
                "2019-01-01 00:00:00"
               ],
               [
                "2011-01-01 00:00:00",
                "2012-01-01 00:00:00",
                "2013-01-01 00:00:00",
                "2014-01-01 00:00:00",
                "2015-01-01 00:00:00",
                "2016-01-01 00:00:00",
                "2017-01-01 00:00:00",
                "2019-01-01 00:00:00"
               ],
               [
                "2011-01-01 00:00:00",
                "2012-01-01 00:00:00",
                "2013-01-01 00:00:00",
                "2014-01-01 00:00:00",
                "2015-01-01 00:00:00",
                "2016-01-01 00:00:00",
                "2017-01-01 00:00:00",
                "2019-01-01 00:00:00"
               ],
               [
                "2011-01-01 00:00:00",
                "2012-01-01 00:00:00",
                "2013-01-01 00:00:00",
                "2014-01-01 00:00:00",
                "2015-01-01 00:00:00",
                "2016-01-01 00:00:00",
                "2017-01-01 00:00:00",
                "2019-01-01 00:00:00"
               ],
               [
                "2011-01-01 00:00:00",
                "2012-01-01 00:00:00",
                "2013-01-01 00:00:00",
                "2014-01-01 00:00:00",
                "2015-01-01 00:00:00",
                "2016-01-01 00:00:00",
                "2017-01-01 00:00:00",
                "2019-01-01 00:00:00"
               ],
               [
                "2011-01-01 00:00:00",
                "2012-01-01 00:00:00",
                "2013-01-01 00:00:00",
                "2014-01-01 00:00:00",
                "2015-01-01 00:00:00",
                "2016-01-01 00:00:00",
                "2017-01-01 00:00:00",
                "2019-01-01 00:00:00"
               ],
               [
                "2011-01-01 00:00:00",
                "2012-01-01 00:00:00",
                "2013-01-01 00:00:00",
                "2014-01-01 00:00:00",
                "2015-01-01 00:00:00",
                "2016-01-01 00:00:00",
                "2017-01-01 00:00:00",
                "2019-01-01 00:00:00"
               ],
               [
                "2011-01-01 00:00:00",
                "2012-01-01 00:00:00",
                "2013-01-01 00:00:00",
                "2014-01-01 00:00:00",
                "2015-01-01 00:00:00",
                "2016-01-01 00:00:00",
                "2017-01-01 00:00:00",
                "2019-01-01 00:00:00"
               ],
               [
                "2011-01-01 00:00:00",
                "2012-01-01 00:00:00",
                "2013-01-01 00:00:00",
                "2014-01-01 00:00:00",
                "2015-01-01 00:00:00",
                "2016-01-01 00:00:00",
                "2017-01-01 00:00:00",
                "2019-01-01 00:00:00"
               ],
               [
                "2011-01-01 00:00:00",
                "2012-01-01 00:00:00",
                "2013-01-01 00:00:00",
                "2014-01-01 00:00:00",
                "2015-01-01 00:00:00",
                "2016-01-01 00:00:00",
                "2017-01-01 00:00:00",
                "2019-01-01 00:00:00"
               ],
               [
                "2011-01-01 00:00:00",
                "2012-01-01 00:00:00",
                "2013-01-01 00:00:00",
                "2014-01-01 00:00:00",
                "2015-01-01 00:00:00",
                "2016-01-01 00:00:00",
                "2017-01-01 00:00:00",
                "2019-01-01 00:00:00"
               ],
               [
                "2011-01-01 00:00:00",
                "2012-01-01 00:00:00",
                "2013-01-01 00:00:00",
                "2014-01-01 00:00:00",
                "2015-01-01 00:00:00",
                "2016-01-01 00:00:00",
                "2017-01-01 00:00:00",
                "2019-01-01 00:00:00"
               ],
               [
                "2011-01-01 00:00:00",
                "2012-01-01 00:00:00",
                "2013-01-01 00:00:00",
                "2014-01-01 00:00:00",
                "2015-01-01 00:00:00",
                "2016-01-01 00:00:00",
                "2017-01-01 00:00:00",
                "2019-01-01 00:00:00"
               ],
               [
                "2011-01-01 00:00:00",
                "2012-01-01 00:00:00",
                "2013-01-01 00:00:00",
                "2014-01-01 00:00:00",
                "2015-01-01 00:00:00",
                "2016-01-01 00:00:00",
                "2017-01-01 00:00:00",
                "2019-01-01 00:00:00"
               ],
               [
                "2011-01-01 00:00:00",
                "2012-01-01 00:00:00",
                "2013-01-01 00:00:00",
                "2014-01-01 00:00:00",
                "2015-01-01 00:00:00",
                "2016-01-01 00:00:00",
                "2017-01-01 00:00:00",
                "2019-01-01 00:00:00"
               ],
               [
                "2011-01-01 00:00:00",
                "2012-01-01 00:00:00",
                "2013-01-01 00:00:00",
                "2014-01-01 00:00:00",
                "2015-01-01 00:00:00",
                "2016-01-01 00:00:00",
                "2017-01-01 00:00:00",
                "2019-01-01 00:00:00"
               ],
               [
                "2011-01-01 00:00:00",
                "2012-01-01 00:00:00",
                "2013-01-01 00:00:00",
                "2014-01-01 00:00:00",
                "2015-01-01 00:00:00",
                "2016-01-01 00:00:00",
                "2017-01-01 00:00:00",
                "2019-01-01 00:00:00"
               ],
               [
                "2011-01-01 00:00:00",
                "2012-01-01 00:00:00",
                "2013-01-01 00:00:00",
                "2014-01-01 00:00:00",
                "2015-01-01 00:00:00",
                "2016-01-01 00:00:00",
                "2017-01-01 00:00:00",
                "2019-01-01 00:00:00"
               ],
               [
                "2011-01-01 00:00:00",
                "2012-01-01 00:00:00",
                "2013-01-01 00:00:00",
                "2014-01-01 00:00:00",
                "2015-01-01 00:00:00",
                "2016-01-01 00:00:00",
                "2017-01-01 00:00:00",
                "2019-01-01 00:00:00"
               ],
               [
                "2011-01-01 00:00:00",
                "2012-01-01 00:00:00",
                "2013-01-01 00:00:00",
                "2014-01-01 00:00:00",
                "2015-01-01 00:00:00",
                "2016-01-01 00:00:00",
                "2017-01-01 00:00:00",
                "2019-01-01 00:00:00"
               ],
               [
                "2011-01-01 00:00:00",
                "2012-01-01 00:00:00",
                "2014-01-01 00:00:00",
                "2015-01-01 00:00:00",
                "2016-01-01 00:00:00",
                "2017-01-01 00:00:00",
                "2019-01-01 00:00:00"
               ],
               [
                "2011-01-01 00:00:00",
                "2012-01-01 00:00:00",
                "2013-01-01 00:00:00",
                "2014-01-01 00:00:00",
                "2015-01-01 00:00:00",
                "2016-01-01 00:00:00",
                "2017-01-01 00:00:00",
                "2019-01-01 00:00:00"
               ],
               [
                "2011-01-01 00:00:00",
                "2012-01-01 00:00:00",
                "2013-01-01 00:00:00",
                "2014-01-01 00:00:00",
                "2015-01-01 00:00:00",
                "2016-01-01 00:00:00",
                "2017-01-01 00:00:00",
                "2019-01-01 00:00:00"
               ],
               [
                "2011-01-01 00:00:00",
                "2012-01-01 00:00:00",
                "2013-01-01 00:00:00",
                "2014-01-01 00:00:00",
                "2015-01-01 00:00:00",
                "2016-01-01 00:00:00",
                "2017-01-01 00:00:00",
                "2019-01-01 00:00:00"
               ],
               [
                "2011-01-01 00:00:00",
                "2012-01-01 00:00:00",
                "2013-01-01 00:00:00",
                "2014-01-01 00:00:00",
                "2015-01-01 00:00:00",
                "2016-01-01 00:00:00",
                "2017-01-01 00:00:00",
                "2019-01-01 00:00:00"
               ],
               [
                "2011-01-01 00:00:00",
                "2012-01-01 00:00:00",
                "2013-01-01 00:00:00",
                "2014-01-01 00:00:00",
                "2015-01-01 00:00:00",
                "2016-01-01 00:00:00",
                "2017-01-01 00:00:00",
                "2019-01-01 00:00:00"
               ],
               [
                "2011-01-01 00:00:00",
                "2012-01-01 00:00:00",
                "2013-01-01 00:00:00",
                "2014-01-01 00:00:00",
                "2015-01-01 00:00:00",
                "2016-01-01 00:00:00",
                "2017-01-01 00:00:00",
                "2019-01-01 00:00:00"
               ],
               [
                "2011-01-01 00:00:00",
                "2012-01-01 00:00:00",
                "2013-01-01 00:00:00",
                "2014-01-01 00:00:00",
                "2015-01-01 00:00:00",
                "2016-01-01 00:00:00",
                "2017-01-01 00:00:00",
                "2019-01-01 00:00:00"
               ],
               [
                "2011-01-01 00:00:00",
                "2012-01-01 00:00:00",
                "2013-01-01 00:00:00",
                "2014-01-01 00:00:00",
                "2015-01-01 00:00:00",
                "2016-01-01 00:00:00",
                "2017-01-01 00:00:00",
                "2019-01-01 00:00:00"
               ],
               [
                "2011-01-01 00:00:00",
                "2012-01-01 00:00:00",
                "2013-01-01 00:00:00",
                "2014-01-01 00:00:00",
                "2015-01-01 00:00:00",
                "2016-01-01 00:00:00",
                "2017-01-01 00:00:00",
                "2019-01-01 00:00:00"
               ],
               [
                "2011-01-01 00:00:00",
                "2012-01-01 00:00:00",
                "2013-01-01 00:00:00",
                "2014-01-01 00:00:00",
                "2015-01-01 00:00:00",
                "2016-01-01 00:00:00",
                "2017-01-01 00:00:00",
                "2019-01-01 00:00:00"
               ]
              ],
              "y": [
               [
                0.699615,
                0.6999989999999999,
                0.85,
                0.792,
                0.843454,
                0.987693,
                0.9845459999999999,
                0.994175
               ],
               [
                null,
                0.423641,
                0.548183,
                0.702331,
                0.797004,
                0.9014120000000001,
                0.93979,
                0.9912479999999999
               ],
               [
                null,
                0.127745,
                0.471371,
                0.763467,
                0.790825,
                "0.94419",
                0.9722290000000001,
                0.9977159999999999
               ],
               [
                0.245,
                0.68461,
                0.855067,
                0.92058,
                0.921157,
                "0.999982",
                0.996361,
                0.999856
               ],
               [
                null,
                0.055056100000000004,
                0.6800970000000001,
                0.753847,
                0.7754220000000001,
                "0.938165",
                0.979923,
                0.9954459999999999
               ],
               [
                null,
                0.2503,
                0.244062,
                0.5813119999999999,
                0.68889,
                0.900999,
                0.9481069999999999,
                0.9934930000000001
               ],
               [
                null,
                0.354646,
                0.39142899999999997,
                0.73,
                0.950206,
                0.985993,
                0.992028,
                0.992078
               ],
               [
                null,
                null,
                0.35200000000000004,
                0.8695430000000001,
                0.9006559999999999,
                "0.967488",
                0.971578,
                0.99
               ],
               [
                null,
                null,
                0.477971,
                0.730863,
                0.858885,
                "0.968916",
                0.98562,
                0.99925
               ],
               [
                0.215,
                0.517,
                0.81,
                0.9209999999999999,
                0.94,
                "0.966",
                0.965,
                0.986089
               ],
               [
                null,
                0.0988465,
                0.1199,
                0.919381,
                0.9376620000000001,
                "0.994048",
                0.99406,
                0.9984040000000001
               ],
               [
                0.541,
                0.65,
                0.737384,
                0.99,
                0.99,
                "1",
                1,
                1
               ],
               [
                null,
                0.17,
                0.39299999999999996,
                0.77,
                0.896675,
                0.98236,
                0.986877,
                0.988764
               ],
               [
                0.121,
                0.18678699999999998,
                0.293476,
                0.799035,
                0.902392,
                0.9890000000000001,
                0.9908239999999999,
                0.9996370000000001
               ],
               [
                null,
                0.64,
                0.799044,
                0.960001,
                0.9622,
                0.981,
                0.986001,
                0.99785
               ],
               [
                0.024,
                0.21835700000000002,
                0.275,
                0.6500060000000001,
                0.8901870000000001,
                0.9297200000000001,
                0.984265,
                0.9995
               ],
               [
                null,
                null,
                0.3,
                0.67,
                0.72,
                "0.995",
                0.9990000000000001,
                1
               ],
               [
                null,
                null,
                0.904468,
                0.995653,
                0.99616,
                "0.993273",
                0.993511,
                0.9940000000000001
               ],
               [
                0.259,
                0.601982,
                0.676879,
                0.83,
                0.9962690000000001,
                "0.999559",
                0.99724,
                0.9990110000000001
               ],
               [
                null,
                0.8966299999999999,
                0.913063,
                0.9422659999999999,
                0.942602,
                0.987914,
                0.9888950000000001,
                0.997347
               ],
               [
                0.25,
                0.5,
                0.784,
                0.873,
                0.956,
                "0.999",
                0.9990000000000001,
                0.9990000000000001
               ],
               [
                0.0829779,
                0.269776,
                "0.807192",
                "0.870966",
                "0.960561",
                0.979563,
                0.99377
               ],
               [
                null,
                0.238798,
                0.250103,
                0.557612,
                0.661211,
                0.751962,
                0.935896,
                0.99106
               ],
               [
                0.481346,
                0.932579,
                0.9919469999999999,
                0.991662,
                0.991662,
                0.999948,
                0.999978,
                0.9999879999999999
               ],
               [
                null,
                0.127745,
                0.614355,
                0.876551,
                0.956584,
                "0.973896",
                0.985675,
                0.997007
               ],
               [
                null,
                0.00173565,
                0.24013600000000002,
                0.521655,
                0.612015,
                "0.903027",
                0.9628709999999999,
                0.9840000000000001
               ],
               [
                null,
                0.173058,
                0.63,
                0.84,
                0.8947809999999999,
                0.995,
                0.995,
                0.998707
               ],
               [
                0.188,
                0.234972,
                0.35,
                0.60056,
                0.8951020000000001,
                "0.989905",
                0.990075,
                0.9955780000000001
               ],
               [
                null,
                0.0811788,
                0.45559799999999995,
                0.678172,
                0.856042,
                "0.999355",
                0.9998739999999999,
                1
               ],
               [
                null,
                null,
                null,
                0.360518,
                0.48087799999999997,
                0.7652869999999999,
                0.9190729999999999,
                0.994793
               ],
               [
                null,
                null,
                null,
                null,
                0.6020979999999999,
                "0.7425",
                0.88,
                0.996
               ],
               [
                null,
                0.201512,
                0.677162,
                0.917618,
                0.9232870000000001,
                0.98335,
                0.998,
                0.9994299999999999
               ]
              ]
             }
            ],
            "label": "4G mobile broadband coverage",
            "method": "update"
           },
           {
            "args": [
             {
              "x": [
               [
                "2004-01-01 00:00:00",
                "2005-01-01 00:00:00",
                "2006-01-01 00:00:00",
                "2007-01-01 00:00:00",
                "2008-01-01 00:00:00",
                "2009-01-01 00:00:00",
                "2010-01-01 00:00:00",
                "2011-01-01 00:00:00",
                "2012-01-01 00:00:00",
                "2013-01-01 00:00:00",
                "2014-01-01 00:00:00",
                "2015-01-01 00:00:00",
                "2017-01-01 00:00:00",
                "2019-01-01 00:00:00"
               ],
               [
                "2002-01-01 00:00:00",
                "2003-01-01 00:00:00",
                "2004-01-01 00:00:00",
                "2005-01-01 00:00:00",
                "2006-01-01 00:00:00",
                "2007-01-01 00:00:00",
                "2008-01-01 00:00:00",
                "2009-01-01 00:00:00",
                "2010-01-01 00:00:00",
                "2011-01-01 00:00:00",
                "2012-01-01 00:00:00",
                "2013-01-01 00:00:00",
                "2014-01-01 00:00:00",
                "2015-01-01 00:00:00",
                "2017-01-01 00:00:00",
                "2018-01-01 00:00:00",
                "2019-01-01 00:00:00"
               ],
               [
                "2003-01-01 00:00:00",
                "2004-01-01 00:00:00",
                "2005-01-01 00:00:00",
                "2006-01-01 00:00:00",
                "2007-01-01 00:00:00",
                "2008-01-01 00:00:00",
                "2009-01-01 00:00:00",
                "2010-01-01 00:00:00",
                "2011-01-01 00:00:00",
                "2012-01-01 00:00:00",
                "2013-01-01 00:00:00",
                "2014-01-01 00:00:00",
                "2015-01-01 00:00:00",
                "2017-01-01 00:00:00",
                "2018-01-01 00:00:00",
                "2019-01-01 00:00:00"
               ],
               [
                "2002-01-01 00:00:00",
                "2003-01-01 00:00:00",
                "2004-01-01 00:00:00",
                "2005-01-01 00:00:00",
                "2006-01-01 00:00:00",
                "2007-01-01 00:00:00",
                "2008-01-01 00:00:00",
                "2009-01-01 00:00:00",
                "2010-01-01 00:00:00",
                "2011-01-01 00:00:00",
                "2012-01-01 00:00:00",
                "2013-01-01 00:00:00",
                "2014-01-01 00:00:00",
                "2015-01-01 00:00:00",
                "2016-01-01 00:00:00",
                "2017-01-01 00:00:00",
                "2019-01-01 00:00:00"
               ],
               [
                "2002-01-01 00:00:00",
                "2003-01-01 00:00:00",
                "2004-01-01 00:00:00",
                "2006-01-01 00:00:00",
                "2007-01-01 00:00:00",
                "2008-01-01 00:00:00",
                "2009-01-01 00:00:00",
                "2010-01-01 00:00:00",
                "2011-01-01 00:00:00",
                "2012-01-01 00:00:00",
                "2013-01-01 00:00:00",
                "2014-01-01 00:00:00",
                "2015-01-01 00:00:00",
                "2016-01-01 00:00:00",
                "2017-01-01 00:00:00",
                "2019-01-01 00:00:00"
               ],
               [
                "2007-01-01 00:00:00",
                "2008-01-01 00:00:00",
                "2009-01-01 00:00:00",
                "2010-01-01 00:00:00",
                "2011-01-01 00:00:00",
                "2012-01-01 00:00:00",
                "2013-01-01 00:00:00",
                "2014-01-01 00:00:00",
                "2015-01-01 00:00:00",
                "2016-01-01 00:00:00",
                "2017-01-01 00:00:00",
                "2019-01-01 00:00:00"
               ],
               [
                "2004-01-01 00:00:00",
                "2005-01-01 00:00:00",
                "2006-01-01 00:00:00",
                "2007-01-01 00:00:00",
                "2008-01-01 00:00:00",
                "2009-01-01 00:00:00",
                "2010-01-01 00:00:00",
                "2011-01-01 00:00:00",
                "2012-01-01 00:00:00",
                "2013-01-01 00:00:00",
                "2014-01-01 00:00:00",
                "2015-01-01 00:00:00",
                "2016-01-01 00:00:00",
                "2017-01-01 00:00:00",
                "2019-01-01 00:00:00"
               ],
               [
                "2003-01-01 00:00:00",
                "2004-01-01 00:00:00",
                "2005-01-01 00:00:00",
                "2006-01-01 00:00:00",
                "2007-01-01 00:00:00",
                "2008-01-01 00:00:00",
                "2009-01-01 00:00:00",
                "2010-01-01 00:00:00",
                "2011-01-01 00:00:00",
                "2012-01-01 00:00:00",
                "2013-01-01 00:00:00",
                "2014-01-01 00:00:00",
                "2015-01-01 00:00:00",
                "2016-01-01 00:00:00",
                "2017-01-01 00:00:00",
                "2019-01-01 00:00:00"
               ],
               [
                "2004-01-01 00:00:00",
                "2005-01-01 00:00:00",
                "2006-01-01 00:00:00",
                "2007-01-01 00:00:00",
                "2008-01-01 00:00:00",
                "2009-01-01 00:00:00",
                "2010-01-01 00:00:00",
                "2011-01-01 00:00:00",
                "2012-01-01 00:00:00",
                "2013-01-01 00:00:00",
                "2014-01-01 00:00:00",
                "2017-01-01 00:00:00",
                "2018-01-01 00:00:00",
                "2019-01-01 00:00:00"
               ],
               [
                "2002-01-01 00:00:00",
                "2003-01-01 00:00:00",
                "2004-01-01 00:00:00",
                "2005-01-01 00:00:00",
                "2006-01-01 00:00:00",
                "2007-01-01 00:00:00",
                "2008-01-01 00:00:00",
                "2009-01-01 00:00:00",
                "2010-01-01 00:00:00",
                "2011-01-01 00:00:00",
                "2012-01-01 00:00:00",
                "2013-01-01 00:00:00",
                "2014-01-01 00:00:00",
                "2015-01-01 00:00:00",
                "2016-01-01 00:00:00",
                "2017-01-01 00:00:00",
                "2019-01-01 00:00:00"
               ],
               [
                "2003-01-01 00:00:00",
                "2004-01-01 00:00:00",
                "2005-01-01 00:00:00",
                "2006-01-01 00:00:00",
                "2007-01-01 00:00:00",
                "2008-01-01 00:00:00",
                "2009-01-01 00:00:00",
                "2010-01-01 00:00:00",
                "2011-01-01 00:00:00",
                "2012-01-01 00:00:00",
                "2013-01-01 00:00:00",
                "2014-01-01 00:00:00",
                "2015-01-01 00:00:00",
                "2017-01-01 00:00:00",
                "2018-01-01 00:00:00",
                "2019-01-01 00:00:00"
               ],
               [
                "2002-01-01 00:00:00",
                "2003-01-01 00:00:00",
                "2004-01-01 00:00:00",
                "2005-01-01 00:00:00",
                "2006-01-01 00:00:00",
                "2007-01-01 00:00:00",
                "2008-01-01 00:00:00",
                "2009-01-01 00:00:00",
                "2010-01-01 00:00:00",
                "2011-01-01 00:00:00",
                "2012-01-01 00:00:00",
                "2013-01-01 00:00:00",
                "2014-01-01 00:00:00",
                "2015-01-01 00:00:00",
                "2016-01-01 00:00:00",
                "2017-01-01 00:00:00",
                "2019-01-01 00:00:00"
               ],
               [
                "2002-01-01 00:00:00",
                "2003-01-01 00:00:00",
                "2004-01-01 00:00:00",
                "2005-01-01 00:00:00",
                "2006-01-01 00:00:00",
                "2007-01-01 00:00:00",
                "2008-01-01 00:00:00",
                "2009-01-01 00:00:00",
                "2010-01-01 00:00:00",
                "2011-01-01 00:00:00",
                "2012-01-01 00:00:00",
                "2013-01-01 00:00:00",
                "2014-01-01 00:00:00",
                "2015-01-01 00:00:00",
                "2016-01-01 00:00:00",
                "2017-01-01 00:00:00",
                "2018-01-01 00:00:00",
                "2019-01-01 00:00:00"
               ],
               [
                "2002-01-01 00:00:00",
                "2003-01-01 00:00:00",
                "2004-01-01 00:00:00",
                "2005-01-01 00:00:00",
                "2006-01-01 00:00:00",
                "2007-01-01 00:00:00",
                "2008-01-01 00:00:00",
                "2009-01-01 00:00:00",
                "2010-01-01 00:00:00",
                "2011-01-01 00:00:00",
                "2012-01-01 00:00:00",
                "2013-01-01 00:00:00",
                "2014-01-01 00:00:00",
                "2015-01-01 00:00:00",
                "2016-01-01 00:00:00",
                "2017-01-01 00:00:00",
                "2018-01-01 00:00:00",
                "2019-01-01 00:00:00"
               ],
               [
                "2002-01-01 00:00:00",
                "2003-01-01 00:00:00",
                "2004-01-01 00:00:00",
                "2005-01-01 00:00:00",
                "2006-01-01 00:00:00",
                "2007-01-01 00:00:00",
                "2008-01-01 00:00:00",
                "2009-01-01 00:00:00",
                "2010-01-01 00:00:00",
                "2011-01-01 00:00:00",
                "2012-01-01 00:00:00",
                "2013-01-01 00:00:00",
                "2014-01-01 00:00:00",
                "2015-01-01 00:00:00",
                "2016-01-01 00:00:00",
                "2017-01-01 00:00:00",
                "2019-01-01 00:00:00"
               ],
               [
                "2002-01-01 00:00:00",
                "2004-01-01 00:00:00",
                "2005-01-01 00:00:00",
                "2006-01-01 00:00:00",
                "2007-01-01 00:00:00",
                "2008-01-01 00:00:00",
                "2009-01-01 00:00:00",
                "2010-01-01 00:00:00",
                "2011-01-01 00:00:00",
                "2012-01-01 00:00:00",
                "2013-01-01 00:00:00",
                "2014-01-01 00:00:00",
                "2015-01-01 00:00:00",
                "2016-01-01 00:00:00",
                "2017-01-01 00:00:00",
                "2019-01-01 00:00:00"
               ],
               [
                "2005-01-01 00:00:00",
                "2006-01-01 00:00:00",
                "2007-01-01 00:00:00",
                "2008-01-01 00:00:00",
                "2009-01-01 00:00:00",
                "2010-01-01 00:00:00",
                "2011-01-01 00:00:00",
                "2012-01-01 00:00:00",
                "2013-01-01 00:00:00",
                "2014-01-01 00:00:00",
                "2015-01-01 00:00:00",
                "2016-01-01 00:00:00",
                "2017-01-01 00:00:00",
                "2019-01-01 00:00:00"
               ],
               [
                "2002-01-01 00:00:00",
                "2003-01-01 00:00:00",
                "2004-01-01 00:00:00",
                "2005-01-01 00:00:00",
                "2006-01-01 00:00:00",
                "2007-01-01 00:00:00",
                "2008-01-01 00:00:00",
                "2009-01-01 00:00:00",
                "2010-01-01 00:00:00",
                "2011-01-01 00:00:00",
                "2012-01-01 00:00:00",
                "2013-01-01 00:00:00",
                "2014-01-01 00:00:00",
                "2015-01-01 00:00:00",
                "2016-01-01 00:00:00",
                "2017-01-01 00:00:00",
                "2019-01-01 00:00:00"
               ],
               [
                "2003-01-01 00:00:00",
                "2004-01-01 00:00:00",
                "2005-01-01 00:00:00",
                "2006-01-01 00:00:00",
                "2007-01-01 00:00:00",
                "2008-01-01 00:00:00",
                "2009-01-01 00:00:00",
                "2010-01-01 00:00:00",
                "2011-01-01 00:00:00",
                "2012-01-01 00:00:00",
                "2013-01-01 00:00:00",
                "2014-01-01 00:00:00",
                "2015-01-01 00:00:00",
                "2016-01-01 00:00:00",
                "2017-01-01 00:00:00",
                "2019-01-01 00:00:00"
               ],
               [
                "2002-01-01 00:00:00",
                "2003-01-01 00:00:00",
                "2004-01-01 00:00:00",
                "2005-01-01 00:00:00",
                "2006-01-01 00:00:00",
                "2007-01-01 00:00:00",
                "2008-01-01 00:00:00",
                "2009-01-01 00:00:00",
                "2010-01-01 00:00:00",
                "2011-01-01 00:00:00",
                "2012-01-01 00:00:00",
                "2013-01-01 00:00:00",
                "2014-01-01 00:00:00",
                "2015-01-01 00:00:00",
                "2016-01-01 00:00:00",
                "2017-01-01 00:00:00",
                "2018-01-01 00:00:00",
                "2019-01-01 00:00:00"
               ],
               [
                "2002-01-01 00:00:00",
                "2003-01-01 00:00:00",
                "2004-01-01 00:00:00",
                "2005-01-01 00:00:00",
                "2006-01-01 00:00:00",
                "2007-01-01 00:00:00",
                "2008-01-01 00:00:00",
                "2009-01-01 00:00:00",
                "2010-01-01 00:00:00",
                "2011-01-01 00:00:00",
                "2012-01-01 00:00:00",
                "2013-01-01 00:00:00",
                "2014-01-01 00:00:00",
                "2015-01-01 00:00:00",
                "2016-01-01 00:00:00",
                "2017-01-01 00:00:00",
                "2019-01-01 00:00:00"
               ],
               [
                "2005-01-01 00:00:00",
                "2006-01-01 00:00:00",
                "2007-01-01 00:00:00",
                "2008-01-01 00:00:00",
                "2014-01-01 00:00:00",
                "2015-01-01 00:00:00",
                "2017-01-01 00:00:00",
                "2018-01-01 00:00:00",
                "2019-01-01 00:00:00"
               ],
               [
                "2004-01-01 00:00:00",
                "2006-01-01 00:00:00",
                "2007-01-01 00:00:00",
                "2008-01-01 00:00:00",
                "2009-01-01 00:00:00",
                "2010-01-01 00:00:00",
                "2011-01-01 00:00:00",
                "2012-01-01 00:00:00",
                "2013-01-01 00:00:00",
                "2014-01-01 00:00:00",
                "2015-01-01 00:00:00",
                "2016-01-01 00:00:00",
                "2017-01-01 00:00:00",
                "2018-01-01 00:00:00",
                "2019-01-01 00:00:00"
               ],
               [
                "2005-01-01 00:00:00",
                "2006-01-01 00:00:00",
                "2007-01-01 00:00:00",
                "2008-01-01 00:00:00",
                "2009-01-01 00:00:00",
                "2010-01-01 00:00:00",
                "2011-01-01 00:00:00",
                "2012-01-01 00:00:00",
                "2013-01-01 00:00:00",
                "2014-01-01 00:00:00",
                "2015-01-01 00:00:00",
                "2016-01-01 00:00:00",
                "2017-01-01 00:00:00",
                "2018-01-01 00:00:00",
                "2019-01-01 00:00:00"
               ],
               [
                "2004-01-01 00:00:00",
                "2005-01-01 00:00:00",
                "2006-01-01 00:00:00",
                "2007-01-01 00:00:00",
                "2008-01-01 00:00:00",
                "2009-01-01 00:00:00",
                "2010-01-01 00:00:00",
                "2011-01-01 00:00:00",
                "2012-01-01 00:00:00",
                "2013-01-01 00:00:00",
                "2014-01-01 00:00:00",
                "2015-01-01 00:00:00",
                "2016-01-01 00:00:00",
                "2017-01-01 00:00:00",
                "2018-01-01 00:00:00",
                "2019-01-01 00:00:00"
               ],
               [
                "2004-01-01 00:00:00",
                "2005-01-01 00:00:00",
                "2006-01-01 00:00:00",
                "2007-01-01 00:00:00",
                "2008-01-01 00:00:00",
                "2009-01-01 00:00:00",
                "2010-01-01 00:00:00",
                "2011-01-01 00:00:00",
                "2012-01-01 00:00:00",
                "2013-01-01 00:00:00",
                "2014-01-01 00:00:00",
                "2015-01-01 00:00:00",
                "2016-01-01 00:00:00",
                "2017-01-01 00:00:00",
                "2018-01-01 00:00:00",
                "2019-01-01 00:00:00"
               ],
               [
                "2002-01-01 00:00:00",
                "2003-01-01 00:00:00",
                "2004-01-01 00:00:00",
                "2005-01-01 00:00:00",
                "2006-01-01 00:00:00",
                "2007-01-01 00:00:00",
                "2008-01-01 00:00:00",
                "2009-01-01 00:00:00",
                "2010-01-01 00:00:00",
                "2011-01-01 00:00:00",
                "2012-01-01 00:00:00",
                "2013-01-01 00:00:00",
                "2014-01-01 00:00:00",
                "2015-01-01 00:00:00",
                "2016-01-01 00:00:00",
                "2017-01-01 00:00:00",
                "2018-01-01 00:00:00",
                "2019-01-01 00:00:00"
               ],
               [
                "2002-01-01 00:00:00",
                "2003-01-01 00:00:00",
                "2004-01-01 00:00:00",
                "2005-01-01 00:00:00",
                "2006-01-01 00:00:00",
                "2007-01-01 00:00:00",
                "2008-01-01 00:00:00",
                "2009-01-01 00:00:00",
                "2010-01-01 00:00:00",
                "2011-01-01 00:00:00",
                "2012-01-01 00:00:00",
                "2013-01-01 00:00:00",
                "2014-01-01 00:00:00",
                "2015-01-01 00:00:00",
                "2017-01-01 00:00:00",
                "2018-01-01 00:00:00",
                "2019-01-01 00:00:00"
               ],
               [
                "2005-01-01 00:00:00",
                "2006-01-01 00:00:00",
                "2007-01-01 00:00:00",
                "2008-01-01 00:00:00",
                "2009-01-01 00:00:00",
                "2010-01-01 00:00:00",
                "2011-01-01 00:00:00",
                "2012-01-01 00:00:00",
                "2013-01-01 00:00:00",
                "2014-01-01 00:00:00",
                "2015-01-01 00:00:00",
                "2016-01-01 00:00:00",
                "2017-01-01 00:00:00",
                "2018-01-01 00:00:00",
                "2019-01-01 00:00:00"
               ],
               [
                "2004-01-01 00:00:00",
                "2006-01-01 00:00:00",
                "2007-01-01 00:00:00",
                "2008-01-01 00:00:00",
                "2009-01-01 00:00:00",
                "2010-01-01 00:00:00",
                "2011-01-01 00:00:00",
                "2012-01-01 00:00:00",
                "2013-01-01 00:00:00",
                "2014-01-01 00:00:00",
                "2015-01-01 00:00:00",
                "2017-01-01 00:00:00",
                "2018-01-01 00:00:00",
                "2019-01-01 00:00:00"
               ],
               [
                "2002-01-01 00:00:00",
                "2003-01-01 00:00:00",
                "2004-01-01 00:00:00",
                "2005-01-01 00:00:00",
                "2006-01-01 00:00:00",
                "2007-01-01 00:00:00",
                "2008-01-01 00:00:00",
                "2009-01-01 00:00:00",
                "2010-01-01 00:00:00",
                "2011-01-01 00:00:00",
                "2012-01-01 00:00:00",
                "2013-01-01 00:00:00",
                "2014-01-01 00:00:00",
                "2015-01-01 00:00:00",
                "2017-01-01 00:00:00",
                "2018-01-01 00:00:00",
                "2019-01-01 00:00:00"
               ],
               []
              ],
              "y": [
               [
                0.307618,
                0.36792600000000003,
                0.45178900000000005,
                0.522022,
                0.573505,
                0.6185069999999999,
                0.668903,
                0.693906,
                0.738201,
                0.7930590000000001,
                0.828959,
                0.87729,
                0.882652,
                0.904259
               ],
               [
                0.12151400000000001,
                0.163012,
                0.16544,
                0.21731199999999998,
                0.231227,
                0.253974,
                0.309631,
                0.380648,
                0.463512,
                0.501668,
                0.535817,
                0.563126,
                0.655507,
                0.680909,
                0.709576,
                "0.764933",
                0.785402
               ],
               [
                0.275453,
                0.336444,
                0.355086,
                0.380418,
                0.434838,
                0.49856000000000006,
                0.529288,
                0.578236,
                0.627077,
                0.6659069999999999,
                0.697292,
                0.743549,
                0.787489,
                0.8338620000000001,
                "0.863576",
                0.914376
               ],
               [
                0.442751,
                0.47355200000000003,
                0.509092,
                0.541405,
                0.647309,
                0.687837,
                0.723805,
                0.77776,
                0.805376,
                0.841569,
                0.867993,
                0.8923639999999999,
                0.898264,
                0.899316,
                0.9194899999999999,
                0.944197,
                0.9436129999999999
               ],
               [
                0.230379,
                0.309797,
                0.336095,
                0.409315,
                0.5504680000000001,
                0.623197,
                0.688683,
                0.736061,
                0.759151,
                0.8000430000000001,
                0.817192,
                0.829556,
                0.826207,
                0.858736,
                0.8641280000000001,
                0.9017270000000001
               ],
               [
                0.40586700000000003,
                0.45261,
                0.500416,
                0.564971,
                0.614082,
                0.664149,
                0.64576,
                0.683654,
                0.7670640000000001,
                0.7733979999999999,
                0.764545,
                0.8052229999999999
               ],
               [
                0.141824,
                0.221194,
                0.316452,
                0.37721,
                0.46628400000000003,
                0.534194,
                0.584144,
                0.632174,
                0.668127,
                0.696587,
                0.7306199999999999,
                0.756375,
                0.791842,
                0.8235110000000001,
                0.862009
               ],
               [
                0.355666,
                0.39731,
                0.47184499999999996,
                0.49953500000000006,
                0.572732,
                0.630467,
                0.6666989999999999,
                0.716895,
                0.781195,
                0.810867,
                0.823895,
                0.821681,
                0.848585,
                0.8691450000000001,
                0.883699,
                0.905917
               ],
               [
                0.805879,
                0.844141,
                0.8301799999999999,
                0.8369700000000001,
                0.8772559999999999,
                0.8959030000000001,
                0.920358,
                0.925945,
                0.946001,
                0.964134,
                0.9648200000000001,
                0.978642,
                "0.991818",
                0.9770120000000001
               ],
               [
                0.46143100000000004,
                0.540821,
                0.6000260000000001,
                0.616383,
                0.671077,
                0.706745,
                0.748754,
                0.79069,
                0.824875,
                0.832549,
                0.854999,
                0.8774700000000001,
                0.894741,
                0.902891,
                0.9213520000000001,
                0.9285709999999999,
                0.948293
               ],
               [
                0.147884,
                0.193675,
                0.19051700000000002,
                0.292505,
                0.351211,
                0.458625,
                0.541836,
                0.605179,
                0.666342,
                0.7255149999999999,
                0.726166,
                0.779899,
                0.7897529999999999,
                0.8323510000000001,
                "0.863574",
                0.8699959999999999
               ],
               [
                0.556387,
                0.641943,
                0.693631,
                0.749174,
                0.7872979999999999,
                0.7805439999999999,
                0.818811,
                0.82534,
                0.860984,
                0.9008280000000001,
                0.919976,
                0.927135,
                0.9312020000000001,
                0.9174,
                0.943436,
                0.970007,
                0.954343
               ],
               [
                0.337488,
                0.320839,
                0.341107,
                0.385781,
                0.400125,
                0.433831,
                0.46930200000000005,
                0.5348229999999999,
                0.589711,
                0.615733,
                0.629165,
                0.689144,
                0.726141,
                0.753897,
                0.7851,
                0.810244,
                "0.843384",
                0.851726
               ],
               [
                0.041000999999999996,
                0.061513,
                0.11601199999999999,
                0.157818,
                0.345131,
                0.44362299999999993,
                0.509361,
                0.600007,
                0.6057819999999999,
                0.60143,
                0.601151,
                0.647309,
                0.659725,
                0.682621,
                0.71748,
                0.7496510000000001,
                "0.783772",
                0.815188
               ],
               [
                0.398924,
                0.453892,
                0.586394,
                0.64578,
                0.701811,
                0.745531,
                0.8009029999999999,
                0.872017,
                0.902768,
                0.906208,
                0.9308,
                0.944593,
                0.9555680000000001,
                0.967802,
                0.97035,
                0.972252,
                0.951973
               ],
               [
                0.03,
                0.146534,
                0.305178,
                0.421979,
                0.505329,
                0.52808,
                0.580234,
                0.597746,
                0.6363840000000001,
                0.686762,
                0.715978,
                0.7338180000000001,
                0.759985,
                0.773423,
                0.7861130000000001,
                "0.854495"
               ],
               [
                0.40565100000000004,
                0.527821,
                0.53922,
                0.590021,
                0.644478,
                0.7044729999999999,
                0.752934,
                0.767048,
                0.780443,
                0.803234,
                0.810045,
                0.814135,
                0.847708,
                "0.860799"
               ],
               [
                0.58,
                0.605256,
                0.6498520000000001,
                0.7825979999999999,
                0.802646,
                0.8288760000000001,
                0.86077,
                0.897034,
                0.9089209999999999,
                0.936366,
                0.935476,
                0.9463360000000001,
                0.957808,
                0.9596600000000001,
                0.9666020000000001,
                0.982309,
                "0.98405"
               ],
               [
                0.604915,
                0.600888,
                0.6400640000000001,
                0.687942,
                0.775907,
                0.8397030000000001,
                0.85564,
                0.897907,
                0.922364,
                0.9269219999999999,
                0.942851,
                0.9306690000000001,
                0.966041,
                0.970455,
                0.966549,
                "0.983832"
               ],
               [
                0.15120999999999998,
                0.21687399999999998,
                0.261729,
                0.31458200000000003,
                0.351534,
                0.396097,
                0.46042700000000003,
                0.478904,
                0.537319,
                0.579695,
                0.610219,
                0.623417,
                0.648709,
                0.702348,
                0.740535,
                0.76935,
                0.794251,
                "0.809385"
               ],
               [
                0.11,
                0.14,
                0.260175,
                0.304417,
                0.359392,
                0.40979799999999994,
                0.47601899999999997,
                0.58592,
                0.6344029999999999,
                0.666376,
                0.704944,
                0.718962,
                0.7476010000000001,
                0.757829,
                0.804457,
                0.8187800000000001,
                "0.8675"
               ],
               [
                "0.483713",
                "0.490869",
                "0.546479",
                "0.601314",
                "0.809922",
                "0.825955",
                "0.868587",
                0.888033,
                0.904775
               ],
               [
                0.055769000000000006,
                0.142537,
                0.222456,
                0.295991,
                0.379486,
                0.421829,
                0.47442700000000004,
                0.537724,
                0.5807,
                0.605409,
                0.6770970000000001,
                0.723974,
                0.764465,
                0.808858,
                "0.836132"
               ],
               [
                0.7253229999999999,
                0.773896,
                0.785499,
                0.84441,
                0.859823,
                0.882959,
                0.906394,
                0.916917,
                0.9258850000000001,
                0.89569,
                0.910333,
                0.9380280000000001,
                0.9472729999999999,
                0.934191,
                0.9605959999999999
               ],
               [
                0.46861800000000003,
                0.482092,
                0.54355,
                0.5761229999999999,
                0.58886,
                0.639361,
                0.681288,
                0.725964,
                0.739378,
                0.756204,
                0.768,
                0.7764310000000001,
                0.784212,
                0.817369,
                0.866821,
                0.889611
               ],
               [
                0.23338000000000003,
                0.229744,
                0.265808,
                0.461124,
                0.583367,
                0.622313,
                0.674821,
                0.7078,
                0.754354,
                0.779076,
                0.78352,
                0.794791,
                0.805191,
                0.8132510000000001,
                0.808442,
                0.8219110000000001
               ],
               [
                0.49720299999999995,
                0.5511050000000001,
                0.55899,
                0.602317,
                0.6264109999999999,
                0.667177,
                0.711426,
                0.7669279999999999,
                0.796067,
                0.82701,
                0.8679600000000001,
                0.8844569999999999,
                0.903364,
                0.912516,
                0.934847,
                0.939917,
                0.948522,
                0.958457
               ],
               [
                0.334675,
                0.373673,
                0.446467,
                0.466887,
                0.522965,
                0.59623,
                0.6892,
                0.697507,
                0.728891,
                0.7544069999999999,
                0.792846,
                0.8086260000000001,
                0.809946,
                0.82416,
                0.8879239999999999,
                "0.887752",
                0.8990739999999999
               ],
               [
                0.501575,
                0.539597,
                0.60164,
                0.6362760000000001,
                0.6743520000000001,
                0.727371,
                0.7650779999999999,
                0.777137,
                0.800478,
                0.828041,
                0.81825,
                0.847857,
                0.859684,
                "0.872725",
                0.897301
               ],
               [
                0.096482,
                0.170093,
                0.189584,
                0.25294,
                0.295989,
                0.331104,
                0.44995100000000005,
                0.509182,
                0.537086,
                0.566515,
                0.591406,
                0.673259,
                "0.721327",
                0.750747
               ],
               [
                0.24,
                0.29,
                0.527706,
                0.317075,
                0.366747,
                0.389029,
                0.42918999999999996,
                0.527622,
                0.537127,
                0.573513,
                0.618168,
                0.6471210000000001,
                0.686442,
                0.712101,
                0.794132,
                "0.861709",
                0.896121
               ],
               []
              ]
             }
            ],
            "label": "Households with access to the Internet at home",
            "method": "update"
           },
           {
            "args": [
             {
              "x": [
               [
                "2005-01-01 00:00:00",
                "2006-01-01 00:00:00",
                "2007-01-01 00:00:00",
                "2008-01-01 00:00:00",
                "2009-01-01 00:00:00",
                "2010-01-01 00:00:00",
                "2011-01-01 00:00:00",
                "2012-01-01 00:00:00",
                "2013-01-01 00:00:00",
                "2014-01-01 00:00:00",
                "2015-01-01 00:00:00",
                "2016-01-01 00:00:00",
                "2017-01-01 00:00:00",
                "2019-01-01 00:00:00"
               ],
               [
                "2005-01-01 00:00:00",
                "2006-01-01 00:00:00",
                "2007-01-01 00:00:00",
                "2008-01-01 00:00:00",
                "2009-01-01 00:00:00",
                "2010-01-01 00:00:00",
                "2011-01-01 00:00:00",
                "2012-01-01 00:00:00",
                "2013-01-01 00:00:00",
                "2014-01-01 00:00:00",
                "2015-01-01 00:00:00",
                "2016-01-01 00:00:00",
                "2017-01-01 00:00:00",
                "2018-01-01 00:00:00",
                "2019-01-01 00:00:00"
               ],
               [
                "2005-01-01 00:00:00",
                "2006-01-01 00:00:00",
                "2007-01-01 00:00:00",
                "2008-01-01 00:00:00",
                "2009-01-01 00:00:00",
                "2010-01-01 00:00:00",
                "2011-01-01 00:00:00",
                "2012-01-01 00:00:00",
                "2013-01-01 00:00:00",
                "2014-01-01 00:00:00",
                "2015-01-01 00:00:00",
                "2016-01-01 00:00:00",
                "2017-01-01 00:00:00",
                "2018-01-01 00:00:00",
                "2019-01-01 00:00:00"
               ],
               [
                "2005-01-01 00:00:00",
                "2006-01-01 00:00:00",
                "2007-01-01 00:00:00",
                "2008-01-01 00:00:00",
                "2009-01-01 00:00:00",
                "2010-01-01 00:00:00",
                "2011-01-01 00:00:00",
                "2012-01-01 00:00:00",
                "2013-01-01 00:00:00",
                "2014-01-01 00:00:00",
                "2015-01-01 00:00:00",
                "2016-01-01 00:00:00",
                "2017-01-01 00:00:00",
                "2019-01-01 00:00:00"
               ],
               [
                "2006-01-01 00:00:00",
                "2007-01-01 00:00:00",
                "2008-01-01 00:00:00",
                "2009-01-01 00:00:00",
                "2010-01-01 00:00:00",
                "2011-01-01 00:00:00",
                "2012-01-01 00:00:00",
                "2013-01-01 00:00:00",
                "2014-01-01 00:00:00",
                "2015-01-01 00:00:00",
                "2016-01-01 00:00:00",
                "2017-01-01 00:00:00",
                "2019-01-01 00:00:00"
               ],
               [
                "2007-01-01 00:00:00",
                "2008-01-01 00:00:00",
                "2009-01-01 00:00:00",
                "2010-01-01 00:00:00",
                "2011-01-01 00:00:00",
                "2012-01-01 00:00:00",
                "2013-01-01 00:00:00",
                "2014-01-01 00:00:00",
                "2015-01-01 00:00:00",
                "2016-01-01 00:00:00",
                "2017-01-01 00:00:00",
                "2019-01-01 00:00:00"
               ],
               [
                "2005-01-01 00:00:00",
                "2006-01-01 00:00:00",
                "2007-01-01 00:00:00",
                "2008-01-01 00:00:00",
                "2009-01-01 00:00:00",
                "2010-01-01 00:00:00",
                "2011-01-01 00:00:00",
                "2012-01-01 00:00:00",
                "2013-01-01 00:00:00",
                "2014-01-01 00:00:00",
                "2015-01-01 00:00:00",
                "2016-01-01 00:00:00",
                "2017-01-01 00:00:00",
                "2019-01-01 00:00:00"
               ],
               [
                "2005-01-01 00:00:00",
                "2006-01-01 00:00:00",
                "2007-01-01 00:00:00",
                "2008-01-01 00:00:00",
                "2009-01-01 00:00:00",
                "2010-01-01 00:00:00",
                "2011-01-01 00:00:00",
                "2012-01-01 00:00:00",
                "2013-01-01 00:00:00",
                "2014-01-01 00:00:00",
                "2015-01-01 00:00:00",
                "2016-01-01 00:00:00",
                "2017-01-01 00:00:00",
                "2018-01-01 00:00:00",
                "2019-01-01 00:00:00"
               ],
               [
                "2005-01-01 00:00:00",
                "2006-01-01 00:00:00",
                "2007-01-01 00:00:00",
                "2008-01-01 00:00:00",
                "2009-01-01 00:00:00",
                "2010-01-01 00:00:00",
                "2011-01-01 00:00:00",
                "2012-01-01 00:00:00",
                "2013-01-01 00:00:00",
                "2014-01-01 00:00:00",
                "2017-01-01 00:00:00",
                "2018-01-01 00:00:00",
                "2019-01-01 00:00:00"
               ],
               [
                "2005-01-01 00:00:00",
                "2006-01-01 00:00:00",
                "2007-01-01 00:00:00",
                "2008-01-01 00:00:00",
                "2009-01-01 00:00:00",
                "2010-01-01 00:00:00",
                "2011-01-01 00:00:00",
                "2012-01-01 00:00:00",
                "2013-01-01 00:00:00",
                "2014-01-01 00:00:00",
                "2015-01-01 00:00:00",
                "2016-01-01 00:00:00",
                "2017-01-01 00:00:00",
                "2019-01-01 00:00:00"
               ],
               [
                "2005-01-01 00:00:00",
                "2006-01-01 00:00:00",
                "2007-01-01 00:00:00",
                "2008-01-01 00:00:00",
                "2009-01-01 00:00:00",
                "2010-01-01 00:00:00",
                "2011-01-01 00:00:00",
                "2012-01-01 00:00:00",
                "2013-01-01 00:00:00",
                "2014-01-01 00:00:00",
                "2015-01-01 00:00:00",
                "2016-01-01 00:00:00",
                "2017-01-01 00:00:00",
                "2018-01-01 00:00:00",
                "2019-01-01 00:00:00"
               ],
               [
                "2005-01-01 00:00:00",
                "2006-01-01 00:00:00",
                "2007-01-01 00:00:00",
                "2008-01-01 00:00:00",
                "2009-01-01 00:00:00",
                "2010-01-01 00:00:00",
                "2011-01-01 00:00:00",
                "2012-01-01 00:00:00",
                "2013-01-01 00:00:00",
                "2014-01-01 00:00:00",
                "2015-01-01 00:00:00",
                "2016-01-01 00:00:00",
                "2017-01-01 00:00:00",
                "2019-01-01 00:00:00"
               ],
               [
                "2005-01-01 00:00:00",
                "2006-01-01 00:00:00",
                "2007-01-01 00:00:00",
                "2008-01-01 00:00:00",
                "2009-01-01 00:00:00",
                "2010-01-01 00:00:00",
                "2011-01-01 00:00:00",
                "2012-01-01 00:00:00",
                "2013-01-01 00:00:00",
                "2014-01-01 00:00:00",
                "2015-01-01 00:00:00",
                "2016-01-01 00:00:00",
                "2017-01-01 00:00:00",
                "2018-01-01 00:00:00",
                "2019-01-01 00:00:00"
               ],
               [
                "2005-01-01 00:00:00",
                "2006-01-01 00:00:00",
                "2007-01-01 00:00:00",
                "2008-01-01 00:00:00",
                "2009-01-01 00:00:00",
                "2010-01-01 00:00:00",
                "2011-01-01 00:00:00",
                "2012-01-01 00:00:00",
                "2013-01-01 00:00:00",
                "2014-01-01 00:00:00",
                "2015-01-01 00:00:00",
                "2016-01-01 00:00:00",
                "2017-01-01 00:00:00",
                "2018-01-01 00:00:00",
                "2019-01-01 00:00:00"
               ],
               [
                "2005-01-01 00:00:00",
                "2006-01-01 00:00:00",
                "2007-01-01 00:00:00",
                "2008-01-01 00:00:00",
                "2009-01-01 00:00:00",
                "2010-01-01 00:00:00",
                "2011-01-01 00:00:00",
                "2012-01-01 00:00:00",
                "2013-01-01 00:00:00",
                "2014-01-01 00:00:00",
                "2015-01-01 00:00:00",
                "2016-01-01 00:00:00",
                "2017-01-01 00:00:00",
                "2019-01-01 00:00:00"
               ],
               [
                "2005-01-01 00:00:00",
                "2006-01-01 00:00:00",
                "2007-01-01 00:00:00",
                "2008-01-01 00:00:00",
                "2009-01-01 00:00:00",
                "2010-01-01 00:00:00",
                "2011-01-01 00:00:00",
                "2012-01-01 00:00:00",
                "2013-01-01 00:00:00",
                "2014-01-01 00:00:00",
                "2015-01-01 00:00:00",
                "2016-01-01 00:00:00",
                "2017-01-01 00:00:00",
                "2019-01-01 00:00:00"
               ],
               [
                "2005-01-01 00:00:00",
                "2006-01-01 00:00:00",
                "2007-01-01 00:00:00",
                "2008-01-01 00:00:00",
                "2009-01-01 00:00:00",
                "2010-01-01 00:00:00",
                "2011-01-01 00:00:00",
                "2012-01-01 00:00:00",
                "2013-01-01 00:00:00",
                "2014-01-01 00:00:00",
                "2015-01-01 00:00:00",
                "2016-01-01 00:00:00",
                "2017-01-01 00:00:00",
                "2019-01-01 00:00:00"
               ],
               [
                "2005-01-01 00:00:00",
                "2006-01-01 00:00:00",
                "2007-01-01 00:00:00",
                "2008-01-01 00:00:00",
                "2009-01-01 00:00:00",
                "2010-01-01 00:00:00",
                "2011-01-01 00:00:00",
                "2012-01-01 00:00:00",
                "2013-01-01 00:00:00",
                "2014-01-01 00:00:00",
                "2015-01-01 00:00:00",
                "2016-01-01 00:00:00",
                "2017-01-01 00:00:00",
                "2019-01-01 00:00:00"
               ],
               [
                "2005-01-01 00:00:00",
                "2006-01-01 00:00:00",
                "2007-01-01 00:00:00",
                "2008-01-01 00:00:00",
                "2009-01-01 00:00:00",
                "2010-01-01 00:00:00",
                "2011-01-01 00:00:00",
                "2012-01-01 00:00:00",
                "2013-01-01 00:00:00",
                "2014-01-01 00:00:00",
                "2015-01-01 00:00:00",
                "2016-01-01 00:00:00",
                "2017-01-01 00:00:00",
                "2019-01-01 00:00:00"
               ],
               [
                "2005-01-01 00:00:00",
                "2006-01-01 00:00:00",
                "2007-01-01 00:00:00",
                "2008-01-01 00:00:00",
                "2009-01-01 00:00:00",
                "2010-01-01 00:00:00",
                "2011-01-01 00:00:00",
                "2012-01-01 00:00:00",
                "2013-01-01 00:00:00",
                "2014-01-01 00:00:00",
                "2015-01-01 00:00:00",
                "2016-01-01 00:00:00",
                "2018-01-01 00:00:00",
                "2019-01-01 00:00:00"
               ],
               [
                "2005-01-01 00:00:00",
                "2006-01-01 00:00:00",
                "2007-01-01 00:00:00",
                "2008-01-01 00:00:00",
                "2009-01-01 00:00:00",
                "2010-01-01 00:00:00",
                "2011-01-01 00:00:00",
                "2012-01-01 00:00:00",
                "2013-01-01 00:00:00",
                "2014-01-01 00:00:00",
                "2015-01-01 00:00:00",
                "2016-01-01 00:00:00",
                "2017-01-01 00:00:00",
                "2019-01-01 00:00:00"
               ],
               [
                "2005-01-01 00:00:00",
                "2006-01-01 00:00:00",
                "2007-01-01 00:00:00",
                "2008-01-01 00:00:00",
                "2014-01-01 00:00:00",
                "2015-01-01 00:00:00",
                "2017-01-01 00:00:00",
                "2018-01-01 00:00:00",
                "2019-01-01 00:00:00"
               ],
               [
                "2006-01-01 00:00:00",
                "2007-01-01 00:00:00",
                "2008-01-01 00:00:00",
                "2009-01-01 00:00:00",
                "2010-01-01 00:00:00",
                "2011-01-01 00:00:00",
                "2012-01-01 00:00:00",
                "2013-01-01 00:00:00",
                "2014-01-01 00:00:00",
                "2015-01-01 00:00:00",
                "2016-01-01 00:00:00",
                "2018-01-01 00:00:00",
                "2019-01-01 00:00:00"
               ],
               [
                "2005-01-01 00:00:00",
                "2006-01-01 00:00:00",
                "2007-01-01 00:00:00",
                "2008-01-01 00:00:00",
                "2009-01-01 00:00:00",
                "2010-01-01 00:00:00",
                "2011-01-01 00:00:00",
                "2012-01-01 00:00:00",
                "2013-01-01 00:00:00",
                "2014-01-01 00:00:00",
                "2015-01-01 00:00:00",
                "2016-01-01 00:00:00",
                "2018-01-01 00:00:00",
                "2019-01-01 00:00:00"
               ],
               [
                "2005-01-01 00:00:00",
                "2006-01-01 00:00:00",
                "2007-01-01 00:00:00",
                "2008-01-01 00:00:00",
                "2009-01-01 00:00:00",
                "2010-01-01 00:00:00",
                "2011-01-01 00:00:00",
                "2012-01-01 00:00:00",
                "2013-01-01 00:00:00",
                "2014-01-01 00:00:00",
                "2015-01-01 00:00:00",
                "2016-01-01 00:00:00",
                "2018-01-01 00:00:00",
                "2019-01-01 00:00:00"
               ],
               [
                "2005-01-01 00:00:00",
                "2006-01-01 00:00:00",
                "2007-01-01 00:00:00",
                "2008-01-01 00:00:00",
                "2009-01-01 00:00:00",
                "2010-01-01 00:00:00",
                "2011-01-01 00:00:00",
                "2012-01-01 00:00:00",
                "2013-01-01 00:00:00",
                "2014-01-01 00:00:00",
                "2015-01-01 00:00:00",
                "2016-01-01 00:00:00",
                "2018-01-01 00:00:00",
                "2019-01-01 00:00:00"
               ],
               [
                "2005-01-01 00:00:00",
                "2006-01-01 00:00:00",
                "2007-01-01 00:00:00",
                "2008-01-01 00:00:00",
                "2009-01-01 00:00:00",
                "2010-01-01 00:00:00",
                "2011-01-01 00:00:00",
                "2012-01-01 00:00:00",
                "2013-01-01 00:00:00",
                "2014-01-01 00:00:00",
                "2015-01-01 00:00:00",
                "2016-01-01 00:00:00",
                "2018-01-01 00:00:00",
                "2019-01-01 00:00:00"
               ],
               [
                "2005-01-01 00:00:00",
                "2006-01-01 00:00:00",
                "2007-01-01 00:00:00",
                "2008-01-01 00:00:00",
                "2009-01-01 00:00:00",
                "2010-01-01 00:00:00",
                "2011-01-01 00:00:00",
                "2012-01-01 00:00:00",
                "2014-01-01 00:00:00",
                "2015-01-01 00:00:00",
                "2016-01-01 00:00:00",
                "2017-01-01 00:00:00",
                "2018-01-01 00:00:00",
                "2019-01-01 00:00:00"
               ],
               [
                "2005-01-01 00:00:00",
                "2006-01-01 00:00:00",
                "2007-01-01 00:00:00",
                "2008-01-01 00:00:00",
                "2009-01-01 00:00:00",
                "2010-01-01 00:00:00",
                "2011-01-01 00:00:00",
                "2012-01-01 00:00:00",
                "2014-01-01 00:00:00",
                "2015-01-01 00:00:00",
                "2016-01-01 00:00:00",
                "2017-01-01 00:00:00",
                "2018-01-01 00:00:00",
                "2019-01-01 00:00:00"
               ],
               [
                "2006-01-01 00:00:00",
                "2007-01-01 00:00:00",
                "2008-01-01 00:00:00",
                "2009-01-01 00:00:00",
                "2010-01-01 00:00:00",
                "2011-01-01 00:00:00",
                "2012-01-01 00:00:00",
                "2014-01-01 00:00:00",
                "2015-01-01 00:00:00",
                "2016-01-01 00:00:00",
                "2017-01-01 00:00:00",
                "2018-01-01 00:00:00",
                "2019-01-01 00:00:00"
               ],
               [
                "2005-01-01 00:00:00",
                "2006-01-01 00:00:00",
                "2007-01-01 00:00:00",
                "2008-01-01 00:00:00",
                "2009-01-01 00:00:00",
                "2010-01-01 00:00:00",
                "2011-01-01 00:00:00",
                "2012-01-01 00:00:00",
                "2014-01-01 00:00:00",
                "2015-01-01 00:00:00",
                "2016-01-01 00:00:00",
                "2017-01-01 00:00:00",
                "2018-01-01 00:00:00",
                "2019-01-01 00:00:00"
               ],
               []
              ],
              "y": [
               [
                0.367703,
                0.345983,
                0.322333,
                0.262753,
                0.261298,
                0.222646,
                0.204683,
                0.196568,
                0.16409300000000002,
                0.123733,
                0.090544,
                "0.099707",
                0.0932618,
                0.0724983
               ],
               [
                0.727799,
                0.65065,
                0.6168279999999999,
                0.557686,
                0.5344399999999999,
                0.5248729999999999,
                0.447676,
                0.419196,
                0.363035,
                0.32912199999999997,
                0.29975,
                "0.284175",
                0.283315,
                "0.25044",
                0.221521
               ],
               [
                0.495961,
                0.477337,
                0.431908,
                0.389314,
                0.362636,
                0.318924,
                0.29487800000000003,
                0.268387,
                0.243579,
                0.21430100000000002,
                0.19028599999999998,
                "0.173175",
                0.14005399999999998,
                "0.127458",
                0.08371410000000001
               ],
               [
                0.23057800000000003,
                0.175486,
                0.167126,
                0.133939,
                0.14566099999999998,
                0.106031,
                0.088884,
                0.073746,
                0.061186000000000004,
                0.055215999999999994,
                0.054680999999999993,
                0.043352,
                0.050634500000000006,
                0.0321858
               ],
               [
                0.45682700000000004,
                0.335196,
                0.26103899999999997,
                0.251486,
                0.202776,
                0.178308,
                0.15093800000000002,
                0.139837,
                0.121108,
                0.10771199999999999,
                0.098005,
                0.0996968,
                0.0667553
               ],
               [
                0.555786,
                0.540046,
                0.46706499999999995,
                0.42129300000000003,
                0.386469,
                0.345147,
                0.28571799999999997,
                0.277169,
                0.262475,
                0.23444299999999998,
                0.283828,
                0.183119
               ],
               [
                0.601498,
                0.521259,
                0.460388,
                0.382759,
                0.371303,
                0.331011,
                0.286244,
                0.261499,
                0.24389499999999997,
                0.22090500000000002,
                0.211654,
                0.188737,
                0.17043599999999998,
                0.142473
               ],
               [
                0.550552,
                0.416103,
                0.34989899999999996,
                0.31851199999999996,
                0.303847,
                0.27219899999999997,
                0.21244200000000002,
                0.179424,
                0.17613499999999999,
                0.162583,
                0.164701,
                0.14866,
                0.15854400000000002,
                "0.155023",
                0.0865224
               ],
               [
                0.105778,
                0.094062,
                0.079374,
                0.076912,
                0.058107000000000006,
                0.048773000000000004,
                0.042046,
                0.031098,
                0.027923000000000003,
                0.013584,
                0.011485299999999999,
                "0.00601357",
                0.00427821
               ],
               [
                0.28838800000000003,
                0.262094,
                0.231883,
                0.2034,
                0.19228699999999999,
                0.165516,
                0.158358,
                0.146503,
                0.129906,
                0.110001,
                0.09676699999999999,
                0.079872,
                0.0736904,
                0.0465184
               ],
               [
                0.627016,
                0.491029,
                0.45507299999999995,
                0.329063,
                0.32615700000000003,
                0.276604,
                0.238273,
                0.18237,
                0.174029,
                0.156887,
                0.133686,
                0.13148800000000002,
                0.11131700000000001,
                "0.0972016",
                0.09277560000000001
               ],
               [
                0.14355,
                0.10456900000000001,
                0.122695,
                0.12468199999999999,
                0.11448900000000001,
                0.093363,
                0.07244400000000001,
                0.058121000000000006,
                0.035445,
                0.026194,
                0.027906999999999998,
                0.024390000000000002,
                0.0203101,
                0.018645
               ],
               [
                0.617758,
                0.5920479999999999,
                0.540188,
                0.500816,
                0.454759,
                0.411526,
                0.38578,
                0.371774,
                0.34401,
                0.315105,
                0.278971,
                0.24700300000000003,
                0.223188,
                "0.186176",
                0.168297
               ],
               [
                0.61449,
                0.541043,
                0.48675799999999997,
                0.427109,
                0.382151,
                0.354541,
                0.342557,
                0.30990100000000004,
                0.287426,
                0.250188,
                0.245673,
                0.217538,
                0.19294,
                "0.165368",
                0.151114
               ],
               [
                0.288837,
                0.268504,
                0.200558,
                0.163225,
                0.114878,
                0.08217999999999999,
                0.0813,
                0.062045,
                0.046610000000000006,
                0.040451,
                0.021806,
                0.018634,
                0.0217226,
                "0.0287933"
               ],
               [
                0.510695,
                0.44509799999999994,
                0.390753,
                0.335841,
                0.314749,
                0.288796,
                0.266144,
                0.24208600000000002,
                0.220869,
                0.206405,
                0.181785,
                0.174077,
                0.158269,
                "0.115877"
               ],
               [
                0.5656,
                0.580418,
                0.511128,
                0.48928699999999997,
                0.39676999999999996,
                0.359125,
                0.297123,
                0.289528,
                0.27665100000000004,
                0.24106799999999998,
                0.210736,
                0.20575900000000003,
                0.178498,
                "0.128837"
               ],
               [
                0.17892,
                0.159975,
                0.125653,
                0.114451,
                0.09647599999999999,
                0.08157400000000001,
                0.069689,
                0.057758000000000004,
                0.048836000000000004,
                0.049481,
                "0.044412",
                0.046466,
                0.029555599999999998,
                "0.0242887"
               ],
               [
                0.150041,
                0.166096,
                0.10936199999999999,
                0.078309,
                0.064088,
                0.05229400000000001,
                0.046306,
                0.038380000000000004,
                0.031412999999999996,
                0.026907,
                "0.014575",
                0.016597999999999998,
                0.011093,
                "0.00815016"
               ],
               [
                0.626007,
                0.597162,
                0.556182,
                0.543813,
                0.504725,
                0.455128,
                0.405034,
                0.344493,
                0.330902,
                0.304573,
                "0.278612",
                0.257892,
                0.227834,
                "0.219699"
               ],
               [
                0.5776680000000001,
                0.521252,
                0.47837799999999997,
                0.437474,
                0.38569699999999996,
                0.350734,
                0.327125,
                0.323711,
                0.319737,
                0.281065,
                "0.270804",
                0.22271799999999997,
                0.196203,
                "0.154835"
               ],
               [
                "0.431664",
                "0.425568",
                "0.374361",
                "0.330774",
                "0.180765",
                "0.164418",
                "0.129408",
                0.112524,
                0.09452189999999999
               ],
               [
                0.740058,
                0.691855,
                0.64084,
                0.624846,
                0.572008,
                0.54214,
                0.477332,
                0.423709,
                0.38601599999999997,
                "0.31798",
                0.30292399999999997,
                0.21223499999999998,
                0.17657899999999999
               ],
               [
                0.115674,
                0.095239,
                0.147912,
                0.086373,
                0.07346,
                0.067702,
                0.046192000000000004,
                0.054401,
                0.037321,
                0.055001,
                "0.045219",
                0.025349,
                0.0431035,
                0.0181016
               ],
               [
                0.476602,
                0.43486800000000003,
                0.394563,
                0.397908,
                0.330011,
                0.284474,
                0.290956,
                0.27982199999999996,
                0.225881,
                0.240583,
                "0.221288",
                0.218998,
                0.160175,
                0.129976
               ],
               [
                0.416621,
                0.408697,
                0.350054,
                0.246238,
                0.219014,
                0.174887,
                0.195352,
                0.176766,
                0.152479,
                0.14601,
                "0.162579",
                0.150677,
                0.133482,
                0.11707200000000001
               ],
               [
                0.282075,
                0.29012899999999997,
                0.22103000000000003,
                0.189091,
                0.148081,
                0.126685,
                0.11229700000000001,
                0.101114,
                0.079903,
                0.055322,
                "0.061488",
                0.038535,
                0.043080900000000005,
                0.0317215
               ],
               [
                0.399624,
                0.338414,
                0.280915,
                0.248187,
                0.250907,
                0.23143699999999998,
                0.184872,
                0.174596,
                0.15124400000000002,
                0.13426400000000002,
                "0.129892",
                0.09631289999999999,
                "0.09897",
                0.0993979
               ],
               [
                0.38655900000000004,
                0.337372,
                0.28534499999999996,
                0.264777,
                0.203184,
                0.175526,
                0.141075,
                0.153656,
                0.129241,
                0.126404,
                0.1123,
                0.0983994,
                "0.0862301",
                0.0693649
               ],
               [
                0.706492,
                0.64553,
                0.5703050000000001,
                0.529343,
                0.512324,
                0.458108,
                0.420288,
                0.37071,
                0.347154,
                "0.333234",
                0.302869,
                "0.266753",
                0.244864
               ],
               [
                0.641831,
                0.615283,
                0.564226,
                0.5430550000000001,
                0.480008,
                0.44947299999999996,
                0.40724299999999997,
                0.363322,
                0.27971799999999997,
                0.260042,
                "0.232026",
                0.177924,
                "0.146994",
                0.134074
               ],
               []
              ]
             }
            ],
            "label": "Individuals who have never used the internet (all individuals)",
            "method": "update"
           },
           {
            "args": [
             {
              "x": [
               [
                "2004-01-01 00:00:00",
                "2005-01-01 00:00:00",
                "2006-01-01 00:00:00",
                "2007-01-01 00:00:00",
                "2008-01-01 00:00:00",
                "2009-01-01 00:00:00",
                "2010-01-01 00:00:00",
                "2011-01-01 00:00:00",
                "2012-01-01 00:00:00",
                "2013-01-01 00:00:00",
                "2014-01-01 00:00:00",
                "2015-01-01 00:00:00",
                "2016-01-01 00:00:00",
                "2017-01-01 00:00:00",
                "2019-01-01 00:00:00"
               ],
               [
                "2003-01-01 00:00:00",
                "2004-01-01 00:00:00",
                "2005-01-01 00:00:00",
                "2006-01-01 00:00:00",
                "2007-01-01 00:00:00",
                "2008-01-01 00:00:00",
                "2009-01-01 00:00:00",
                "2010-01-01 00:00:00",
                "2011-01-01 00:00:00",
                "2012-01-01 00:00:00",
                "2013-01-01 00:00:00",
                "2014-01-01 00:00:00",
                "2015-01-01 00:00:00",
                "2016-01-01 00:00:00",
                "2017-01-01 00:00:00",
                "2018-01-01 00:00:00",
                "2019-01-01 00:00:00"
               ],
               [
                "2003-01-01 00:00:00",
                "2004-01-01 00:00:00",
                "2005-01-01 00:00:00",
                "2006-01-01 00:00:00",
                "2007-01-01 00:00:00",
                "2008-01-01 00:00:00",
                "2009-01-01 00:00:00",
                "2010-01-01 00:00:00",
                "2011-01-01 00:00:00",
                "2012-01-01 00:00:00",
                "2013-01-01 00:00:00",
                "2014-01-01 00:00:00",
                "2015-01-01 00:00:00",
                "2016-01-01 00:00:00",
                "2017-01-01 00:00:00",
                "2018-01-01 00:00:00",
                "2019-01-01 00:00:00"
               ],
               [
                "2003-01-01 00:00:00",
                "2004-01-01 00:00:00",
                "2005-01-01 00:00:00",
                "2006-01-01 00:00:00",
                "2007-01-01 00:00:00",
                "2008-01-01 00:00:00",
                "2009-01-01 00:00:00",
                "2010-01-01 00:00:00",
                "2011-01-01 00:00:00",
                "2012-01-01 00:00:00",
                "2013-01-01 00:00:00",
                "2014-01-01 00:00:00",
                "2015-01-01 00:00:00",
                "2016-01-01 00:00:00",
                "2017-01-01 00:00:00",
                "2019-01-01 00:00:00"
               ],
               [
                "2006-01-01 00:00:00",
                "2007-01-01 00:00:00",
                "2008-01-01 00:00:00",
                "2009-01-01 00:00:00",
                "2010-01-01 00:00:00",
                "2011-01-01 00:00:00",
                "2012-01-01 00:00:00",
                "2013-01-01 00:00:00",
                "2014-01-01 00:00:00",
                "2015-01-01 00:00:00",
                "2016-01-01 00:00:00",
                "2017-01-01 00:00:00",
                "2019-01-01 00:00:00"
               ],
               [
                "2007-01-01 00:00:00",
                "2008-01-01 00:00:00",
                "2009-01-01 00:00:00",
                "2010-01-01 00:00:00",
                "2011-01-01 00:00:00",
                "2012-01-01 00:00:00",
                "2013-01-01 00:00:00",
                "2014-01-01 00:00:00",
                "2015-01-01 00:00:00",
                "2016-01-01 00:00:00",
                "2017-01-01 00:00:00",
                "2019-01-01 00:00:00"
               ],
               [
                "2004-01-01 00:00:00",
                "2005-01-01 00:00:00",
                "2006-01-01 00:00:00",
                "2007-01-01 00:00:00",
                "2008-01-01 00:00:00",
                "2009-01-01 00:00:00",
                "2010-01-01 00:00:00",
                "2011-01-01 00:00:00",
                "2012-01-01 00:00:00",
                "2013-01-01 00:00:00",
                "2014-01-01 00:00:00",
                "2015-01-01 00:00:00",
                "2016-01-01 00:00:00",
                "2017-01-01 00:00:00",
                "2019-01-01 00:00:00"
               ],
               [
                "2003-01-01 00:00:00",
                "2004-01-01 00:00:00",
                "2005-01-01 00:00:00",
                "2006-01-01 00:00:00",
                "2007-01-01 00:00:00",
                "2008-01-01 00:00:00",
                "2009-01-01 00:00:00",
                "2010-01-01 00:00:00",
                "2011-01-01 00:00:00",
                "2012-01-01 00:00:00",
                "2013-01-01 00:00:00",
                "2014-01-01 00:00:00",
                "2015-01-01 00:00:00",
                "2016-01-01 00:00:00",
                "2017-01-01 00:00:00",
                "2019-01-01 00:00:00"
               ],
               [
                "2003-01-01 00:00:00",
                "2004-01-01 00:00:00",
                "2005-01-01 00:00:00",
                "2006-01-01 00:00:00",
                "2007-01-01 00:00:00",
                "2008-01-01 00:00:00",
                "2009-01-01 00:00:00",
                "2010-01-01 00:00:00",
                "2011-01-01 00:00:00",
                "2012-01-01 00:00:00",
                "2013-01-01 00:00:00",
                "2014-01-01 00:00:00",
                "2017-01-01 00:00:00",
                "2018-01-01 00:00:00",
                "2019-01-01 00:00:00"
               ],
               [
                "2003-01-01 00:00:00",
                "2004-01-01 00:00:00",
                "2005-01-01 00:00:00",
                "2006-01-01 00:00:00",
                "2007-01-01 00:00:00",
                "2008-01-01 00:00:00",
                "2009-01-01 00:00:00",
                "2010-01-01 00:00:00",
                "2011-01-01 00:00:00",
                "2012-01-01 00:00:00",
                "2013-01-01 00:00:00",
                "2014-01-01 00:00:00",
                "2015-01-01 00:00:00",
                "2016-01-01 00:00:00",
                "2017-01-01 00:00:00",
                "2019-01-01 00:00:00"
               ],
               [
                "2003-01-01 00:00:00",
                "2004-01-01 00:00:00",
                "2005-01-01 00:00:00",
                "2006-01-01 00:00:00",
                "2007-01-01 00:00:00",
                "2008-01-01 00:00:00",
                "2009-01-01 00:00:00",
                "2010-01-01 00:00:00",
                "2011-01-01 00:00:00",
                "2012-01-01 00:00:00",
                "2013-01-01 00:00:00",
                "2014-01-01 00:00:00",
                "2015-01-01 00:00:00",
                "2016-01-01 00:00:00",
                "2017-01-01 00:00:00",
                "2018-01-01 00:00:00",
                "2019-01-01 00:00:00"
               ],
               [
                "2003-01-01 00:00:00",
                "2004-01-01 00:00:00",
                "2005-01-01 00:00:00",
                "2006-01-01 00:00:00",
                "2007-01-01 00:00:00",
                "2008-01-01 00:00:00",
                "2009-01-01 00:00:00",
                "2010-01-01 00:00:00",
                "2011-01-01 00:00:00",
                "2012-01-01 00:00:00",
                "2013-01-01 00:00:00",
                "2014-01-01 00:00:00",
                "2015-01-01 00:00:00",
                "2016-01-01 00:00:00",
                "2017-01-01 00:00:00",
                "2019-01-01 00:00:00"
               ],
               [
                "2005-01-01 00:00:00",
                "2006-01-01 00:00:00",
                "2007-01-01 00:00:00",
                "2008-01-01 00:00:00",
                "2009-01-01 00:00:00",
                "2010-01-01 00:00:00",
                "2011-01-01 00:00:00",
                "2012-01-01 00:00:00",
                "2013-01-01 00:00:00",
                "2014-01-01 00:00:00",
                "2015-01-01 00:00:00",
                "2016-01-01 00:00:00",
                "2017-01-01 00:00:00",
                "2018-01-01 00:00:00",
                "2019-01-01 00:00:00"
               ],
               [
                "2003-01-01 00:00:00",
                "2004-01-01 00:00:00",
                "2005-01-01 00:00:00",
                "2006-01-01 00:00:00",
                "2007-01-01 00:00:00",
                "2008-01-01 00:00:00",
                "2009-01-01 00:00:00",
                "2010-01-01 00:00:00",
                "2011-01-01 00:00:00",
                "2012-01-01 00:00:00",
                "2013-01-01 00:00:00",
                "2014-01-01 00:00:00",
                "2015-01-01 00:00:00",
                "2016-01-01 00:00:00",
                "2017-01-01 00:00:00",
                "2018-01-01 00:00:00",
                "2019-01-01 00:00:00"
               ],
               [
                "2003-01-01 00:00:00",
                "2004-01-01 00:00:00",
                "2005-01-01 00:00:00",
                "2006-01-01 00:00:00",
                "2007-01-01 00:00:00",
                "2008-01-01 00:00:00",
                "2009-01-01 00:00:00",
                "2010-01-01 00:00:00",
                "2011-01-01 00:00:00",
                "2012-01-01 00:00:00",
                "2013-01-01 00:00:00",
                "2014-01-01 00:00:00",
                "2015-01-01 00:00:00",
                "2016-01-01 00:00:00",
                "2017-01-01 00:00:00",
                "2019-01-01 00:00:00"
               ],
               [
                "2004-01-01 00:00:00",
                "2005-01-01 00:00:00",
                "2006-01-01 00:00:00",
                "2007-01-01 00:00:00",
                "2008-01-01 00:00:00",
                "2009-01-01 00:00:00",
                "2010-01-01 00:00:00",
                "2011-01-01 00:00:00",
                "2012-01-01 00:00:00",
                "2013-01-01 00:00:00",
                "2014-01-01 00:00:00",
                "2015-01-01 00:00:00",
                "2016-01-01 00:00:00",
                "2017-01-01 00:00:00",
                "2019-01-01 00:00:00"
               ],
               [
                "2005-01-01 00:00:00",
                "2006-01-01 00:00:00",
                "2007-01-01 00:00:00",
                "2008-01-01 00:00:00",
                "2009-01-01 00:00:00",
                "2010-01-01 00:00:00",
                "2011-01-01 00:00:00",
                "2012-01-01 00:00:00",
                "2013-01-01 00:00:00",
                "2014-01-01 00:00:00",
                "2015-01-01 00:00:00",
                "2016-01-01 00:00:00",
                "2017-01-01 00:00:00",
                "2019-01-01 00:00:00"
               ],
               [
                "2005-01-01 00:00:00",
                "2006-01-01 00:00:00",
                "2007-01-01 00:00:00",
                "2008-01-01 00:00:00",
                "2009-01-01 00:00:00",
                "2010-01-01 00:00:00",
                "2011-01-01 00:00:00",
                "2012-01-01 00:00:00",
                "2013-01-01 00:00:00",
                "2014-01-01 00:00:00",
                "2015-01-01 00:00:00",
                "2016-01-01 00:00:00",
                "2017-01-01 00:00:00",
                "2019-01-01 00:00:00"
               ],
               [
                "2003-01-01 00:00:00",
                "2004-01-01 00:00:00",
                "2005-01-01 00:00:00",
                "2006-01-01 00:00:00",
                "2007-01-01 00:00:00",
                "2008-01-01 00:00:00",
                "2009-01-01 00:00:00",
                "2010-01-01 00:00:00",
                "2011-01-01 00:00:00",
                "2012-01-01 00:00:00",
                "2013-01-01 00:00:00",
                "2014-01-01 00:00:00",
                "2015-01-01 00:00:00",
                "2016-01-01 00:00:00",
                "2017-01-01 00:00:00",
                "2019-01-01 00:00:00"
               ],
               [
                "2003-01-01 00:00:00",
                "2004-01-01 00:00:00",
                "2005-01-01 00:00:00",
                "2006-01-01 00:00:00",
                "2007-01-01 00:00:00",
                "2008-01-01 00:00:00",
                "2009-01-01 00:00:00",
                "2010-01-01 00:00:00",
                "2011-01-01 00:00:00",
                "2012-01-01 00:00:00",
                "2013-01-01 00:00:00",
                "2014-01-01 00:00:00",
                "2015-01-01 00:00:00",
                "2016-01-01 00:00:00",
                "2017-01-01 00:00:00",
                "2018-01-01 00:00:00",
                "2019-01-01 00:00:00"
               ],
               [
                "2004-01-01 00:00:00",
                "2005-01-01 00:00:00",
                "2006-01-01 00:00:00",
                "2007-01-01 00:00:00",
                "2008-01-01 00:00:00",
                "2009-01-01 00:00:00",
                "2010-01-01 00:00:00",
                "2011-01-01 00:00:00",
                "2012-01-01 00:00:00",
                "2013-01-01 00:00:00",
                "2014-01-01 00:00:00",
                "2015-01-01 00:00:00",
                "2016-01-01 00:00:00",
                "2017-01-01 00:00:00",
                "2019-01-01 00:00:00"
               ],
               [
                "2005-01-01 00:00:00",
                "2006-01-01 00:00:00",
                "2007-01-01 00:00:00",
                "2008-01-01 00:00:00",
                "2014-01-01 00:00:00",
                "2015-01-01 00:00:00",
                "2017-01-01 00:00:00",
                "2018-01-01 00:00:00",
                "2019-01-01 00:00:00"
               ],
               [
                "2004-01-01 00:00:00",
                "2006-01-01 00:00:00",
                "2007-01-01 00:00:00",
                "2008-01-01 00:00:00",
                "2009-01-01 00:00:00",
                "2010-01-01 00:00:00",
                "2011-01-01 00:00:00",
                "2012-01-01 00:00:00",
                "2013-01-01 00:00:00",
                "2014-01-01 00:00:00",
                "2015-01-01 00:00:00",
                "2016-01-01 00:00:00",
                "2018-01-01 00:00:00",
                "2019-01-01 00:00:00"
               ],
               [
                "2003-01-01 00:00:00",
                "2004-01-01 00:00:00",
                "2005-01-01 00:00:00",
                "2006-01-01 00:00:00",
                "2007-01-01 00:00:00",
                "2008-01-01 00:00:00",
                "2009-01-01 00:00:00",
                "2010-01-01 00:00:00",
                "2011-01-01 00:00:00",
                "2012-01-01 00:00:00",
                "2013-01-01 00:00:00",
                "2014-01-01 00:00:00",
                "2015-01-01 00:00:00",
                "2016-01-01 00:00:00",
                "2018-01-01 00:00:00",
                "2019-01-01 00:00:00"
               ],
               [
                "2004-01-01 00:00:00",
                "2005-01-01 00:00:00",
                "2006-01-01 00:00:00",
                "2007-01-01 00:00:00",
                "2008-01-01 00:00:00",
                "2009-01-01 00:00:00",
                "2010-01-01 00:00:00",
                "2011-01-01 00:00:00",
                "2012-01-01 00:00:00",
                "2013-01-01 00:00:00",
                "2014-01-01 00:00:00",
                "2015-01-01 00:00:00",
                "2016-01-01 00:00:00",
                "2018-01-01 00:00:00",
                "2019-01-01 00:00:00"
               ],
               [
                "2004-01-01 00:00:00",
                "2005-01-01 00:00:00",
                "2006-01-01 00:00:00",
                "2007-01-01 00:00:00",
                "2008-01-01 00:00:00",
                "2009-01-01 00:00:00",
                "2010-01-01 00:00:00",
                "2011-01-01 00:00:00",
                "2012-01-01 00:00:00",
                "2013-01-01 00:00:00",
                "2014-01-01 00:00:00",
                "2015-01-01 00:00:00",
                "2016-01-01 00:00:00",
                "2018-01-01 00:00:00",
                "2019-01-01 00:00:00"
               ],
               [
                "2003-01-01 00:00:00",
                "2004-01-01 00:00:00",
                "2005-01-01 00:00:00",
                "2006-01-01 00:00:00",
                "2007-01-01 00:00:00",
                "2008-01-01 00:00:00",
                "2009-01-01 00:00:00",
                "2010-01-01 00:00:00",
                "2012-01-01 00:00:00",
                "2013-01-01 00:00:00",
                "2014-01-01 00:00:00",
                "2015-01-01 00:00:00",
                "2016-01-01 00:00:00",
                "2018-01-01 00:00:00",
                "2019-01-01 00:00:00"
               ],
               [
                "2003-01-01 00:00:00",
                "2004-01-01 00:00:00",
                "2005-01-01 00:00:00",
                "2006-01-01 00:00:00",
                "2007-01-01 00:00:00",
                "2008-01-01 00:00:00",
                "2009-01-01 00:00:00",
                "2010-01-01 00:00:00",
                "2011-01-01 00:00:00",
                "2012-01-01 00:00:00",
                "2013-01-01 00:00:00",
                "2014-01-01 00:00:00",
                "2015-01-01 00:00:00",
                "2016-01-01 00:00:00",
                "2017-01-01 00:00:00",
                "2018-01-01 00:00:00",
                "2019-01-01 00:00:00"
               ],
               [
                "2005-01-01 00:00:00",
                "2006-01-01 00:00:00",
                "2007-01-01 00:00:00",
                "2008-01-01 00:00:00",
                "2009-01-01 00:00:00",
                "2010-01-01 00:00:00",
                "2011-01-01 00:00:00",
                "2012-01-01 00:00:00",
                "2013-01-01 00:00:00",
                "2014-01-01 00:00:00",
                "2015-01-01 00:00:00",
                "2016-01-01 00:00:00",
                "2017-01-01 00:00:00",
                "2018-01-01 00:00:00",
                "2019-01-01 00:00:00"
               ],
               [
                "2004-01-01 00:00:00",
                "2006-01-01 00:00:00",
                "2007-01-01 00:00:00",
                "2008-01-01 00:00:00",
                "2009-01-01 00:00:00",
                "2010-01-01 00:00:00",
                "2011-01-01 00:00:00",
                "2012-01-01 00:00:00",
                "2013-01-01 00:00:00",
                "2014-01-01 00:00:00",
                "2015-01-01 00:00:00",
                "2016-01-01 00:00:00",
                "2017-01-01 00:00:00",
                "2018-01-01 00:00:00",
                "2019-01-01 00:00:00"
               ],
               [
                "2004-01-01 00:00:00",
                "2005-01-01 00:00:00",
                "2006-01-01 00:00:00",
                "2007-01-01 00:00:00",
                "2008-01-01 00:00:00",
                "2009-01-01 00:00:00",
                "2010-01-01 00:00:00",
                "2011-01-01 00:00:00",
                "2012-01-01 00:00:00",
                "2013-01-01 00:00:00",
                "2014-01-01 00:00:00",
                "2015-01-01 00:00:00",
                "2016-01-01 00:00:00",
                "2017-01-01 00:00:00",
                "2018-01-01 00:00:00",
                "2019-01-01 00:00:00"
               ],
               []
              ],
              "y": [
               [
                0.35030700000000004,
                0.43853400000000003,
                0.481567,
                0.525936,
                0.552044,
                0.616255,
                0.651095,
                0.675854,
                0.6806260000000001,
                0.722159,
                0.765624,
                0.806728,
                "0.78586",
                0.792283,
                0.80719
               ],
               [
                0.013429,
                0.012975,
                0.013653,
                0.02461,
                0.039032,
                0.050574,
                0.053824000000000004,
                0.057067999999999994,
                0.08595599999999999,
                0.091305,
                0.107217,
                0.131443,
                0.13869700000000001,
                "0.191595",
                0.251218,
                "0.272785",
                0.305145
               ],
               [
                0.09929299999999999,
                0.120227,
                0.136476,
                0.147931,
                0.158894,
                0.189699,
                0.22559099999999999,
                0.259918,
                0.274131,
                0.30838000000000004,
                0.32907,
                0.374242,
                0.393728,
                "0.431479",
                0.461768,
                "0.486614",
                0.548817
               ],
               [
                0.43403800000000003,
                0.503141,
                0.5625720000000001,
                0.6282409999999999,
                0.6645449999999999,
                0.715441,
                0.718673,
                0.763736,
                0.791991,
                0.8196690000000001,
                0.843967,
                0.8560700000000001,
                0.8567520000000001,
                0.8641469999999999,
                0.874125,
                0.9071809999999999
               ],
               [
                0.180583,
                0.342699,
                0.40084200000000003,
                0.433095,
                0.504777,
                0.508977,
                0.5403720000000001,
                0.575608,
                0.575952,
                0.582791,
                0.593557,
                0.620078,
                0.655465
               ],
               [
                0.09032000000000001,
                0.133795,
                0.164204,
                0.202522,
                0.203484,
                0.20684,
                0.23322600000000002,
                0.191354,
                0.32896,
                0.383331,
                0.332993,
                0.46461800000000003
               ],
               [
                0.026638,
                0.057847,
                0.0813,
                0.11423599999999999,
                0.133049,
                0.156093,
                0.191645,
                0.210234,
                0.256307,
                0.268971,
                0.305217,
                0.338012,
                0.352561,
                0.376994,
                0.46701000000000004
               ],
               [
                0.080687,
                0.104799,
                0.12670499999999998,
                0.205636,
                0.24594499999999997,
                0.28018200000000004,
                0.301282,
                0.335456,
                0.325777,
                0.42730200000000007,
                0.455795,
                0.48111499999999996,
                0.514668,
                0.523409,
                0.576381,
                0.673902
               ],
               [
                0.47676,
                0.535906,
                0.609233,
                0.667568,
                0.722359,
                0.676085,
                0.723561,
                0.771015,
                0.804277,
                0.8624700000000001,
                0.867397,
                0.9139809999999999,
                0.9302040000000001,
                "0.942876",
                0.9425889999999999
               ],
               [
                0.20652199999999998,
                0.264248,
                null,
                0.31736,
                0.354528,
                0.38244,
                0.4089,
                0.426559,
                0.452517,
                0.450651,
                0.471233,
                0.48762799999999995,
                0.509821,
                0.529658,
                0.5556300000000001,
                0.611025
               ],
               [
                0.033668000000000003,
                0.048826999999999995,
                0.051553999999999996,
                0.097229,
                0.115443,
                0.144986,
                0.18455,
                0.22522199999999998,
                0.296354,
                0.345377,
                0.41493199999999997,
                0.46046800000000004,
                0.484422,
                0.513601,
                0.565515,
                "0.624208",
                0.6796449999999999
               ],
               [
                0.37516,
                0.448862,
                0.486781,
                0.5716180000000001,
                0.568037,
                0.6144310000000001,
                0.660985,
                0.705389,
                0.749678,
                0.793508,
                0.8246209999999999,
                0.8428129999999999,
                0.8488709999999999,
                0.8786459999999999,
                0.8977200000000001,
                0.90779
               ],
               [
                0.076356,
                0.08945299999999999,
                0.118797,
                0.132258,
                0.15933,
                0.175783,
                0.197321,
                0.206573,
                0.21715399999999999,
                0.260708,
                0.280565,
                0.289586,
                0.308313,
                "0.338344",
                0.363091
               ],
               [
                0.034868,
                0.067423,
                0.102728,
                0.147256,
                0.20959899999999998,
                0.27166599999999996,
                0.323921,
                0.368429,
                0.40147,
                0.42702399999999996,
                0.464221,
                0.535678,
                0.501634,
                0.541991,
                0.561886,
                "0.606213",
                0.647275
               ],
               [
                0.232568,
                0.345543,
                0.371194,
                0.408294,
                0.456147,
                0.48431899999999994,
                0.5374770000000001,
                0.563603,
                0.585753,
                0.634574,
                0.629301,
                0.66508,
                0.6509729999999999,
                0.70909,
                0.764204,
                "0.705965"
               ],
               [
                0.11714100000000001,
                0.155978,
                0.221282,
                0.278441,
                0.386263,
                0.421943,
                0.47458999999999996,
                0.531501,
                0.47136000000000006,
                0.548895,
                0.567634,
                0.643217,
                0.620831,
                0.61187,
                "0.715811"
               ],
               [
                0.159877,
                0.160083,
                0.21845,
                0.252012,
                0.322547,
                0.376769,
                0.42045,
                0.41098900000000005,
                0.43240100000000004,
                0.44978199999999996,
                0.474889,
                0.470321,
                0.50013,
                "0.538763"
               ],
               [
                0.49622799999999995,
                0.58727,
                0.650591,
                0.685978,
                0.732352,
                0.7730670000000001,
                0.790281,
                0.8031159999999999,
                0.8200879999999999,
                0.834268,
                0.845325,
                0.846907,
                0.88912,
                "0.906284"
               ],
               [
                0.48601400000000006,
                0.545165,
                0.618733,
                0.665141,
                0.708118,
                0.749901,
                0.772397,
                0.8347969999999999,
                0.851245,
                0.864353,
                0.868088,
                0.892332,
                0.9036719999999999,
                0.912266,
                0.9233690000000001,
                "0.95233"
               ],
               [
                0.060829999999999995,
                0.075972,
                0.084088,
                0.097902,
                0.116658,
                0.135853,
                0.170002,
                0.19477,
                0.22335,
                0.246206,
                0.22620300000000002,
                0.252702,
                0.282161,
                0.28874299999999997,
                0.31290300000000004,
                0.38548499999999997,
                "0.419467"
               ],
               [
                0.040327999999999996,
                0.05878,
                0.09124700000000001,
                0.127931,
                0.171344,
                0.212364,
                0.253051,
                0.274638,
                0.31955,
                0.32011100000000003,
                0.325875,
                0.31201100000000004,
                0.391123,
                0.397654,
                "0.47268"
               ],
               [
                "0.19384",
                "0.207663",
                "0.252716",
                "0.288131",
                "0.440991",
                "0.455263",
                "0.513451",
                0.542766,
                0.57509
               ],
               [
                0.0040490000000000005,
                0.006294,
                0.016853,
                0.019891,
                0.023472,
                0.033032,
                0.035082999999999996,
                0.034523000000000005,
                0.042964999999999996,
                0.041638,
                0.053353,
                0.050571,
                0.0686627,
                "0.0835878"
               ],
               [
                0.38346199999999997,
                0.403013,
                0.506677,
                0.569222,
                0.566894,
                0.645306,
                0.706804,
                0.750096,
                0.778872,
                0.792048,
                0.818133,
                0.816625,
                0.79638,
                0.8318969999999999,
                0.838593,
                0.844717
               ],
               [
                0.08634299999999999,
                0.11528,
                0.16122,
                0.191338,
                0.209774,
                0.244704,
                0.285325,
                0.309732,
                0.28078200000000003,
                0.323146,
                0.322806,
                0.33661399999999997,
                0.352206,
                0.419245,
                0.47131000000000006
               ],
               [
                0.101104,
                0.101128,
                0.125876,
                0.151901,
                0.244344,
                0.2631,
                0.328185,
                0.338519,
                0.395398,
                0.387396,
                0.405901,
                0.372707,
                0.45370900000000003,
                0.498036,
                0.547708
               ],
               [
                0.22330100000000003,
                0.224433,
                0.268966,
                0.277623,
                0.321766,
                0.376416,
                0.448504,
                0.45477,
                0.5155109999999999,
                0.540212,
                0.56845,
                0.58382,
                0.641616,
                0.738823,
                0.77704
               ],
               [
                0.125123,
                0.18282400000000001,
                0.22016599999999997,
                0.271687,
                0.297466,
                0.337357,
                0.346057,
                0.37946399999999997,
                0.43941800000000003,
                0.453466,
                0.48604899999999995,
                0.47952,
                0.510279,
                "0.533403",
                0.574939,
                "0.584083",
                0.627778
               ],
               [
                0.23408299999999999,
                0.283556,
                0.347646,
                0.393306,
                0.460312,
                0.510278,
                0.543389,
                0.557659,
                0.578268,
                0.6124390000000001,
                0.622757,
                0.644818,
                0.666299,
                "0.687425",
                0.71182
               ],
               [
                0.005703,
                0.013397,
                0.016564,
                0.015156000000000001,
                0.018392,
                0.024833,
                0.031967,
                0.036087,
                0.045737,
                0.047022,
                0.053483,
                "0.044047",
                0.0548553,
                "0.0737045",
                0.0857286
               ],
               [
                0.040824,
                0.056538,
                0.060603,
                0.119288,
                0.114454,
                0.154276,
                0.174827,
                0.203442,
                0.209615,
                0.232573,
                0.24204,
                0.204735,
                "0.277183",
                0.275876,
                "0.332806",
                0.405361
               ],
               []
              ]
             }
            ],
            "label": "Using online banking",
            "method": "update"
           },
           {
            "args": [
             {
              "x": [
               [
                "2008-01-01 00:00:00",
                "2009-01-01 00:00:00",
                "2010-01-01 00:00:00",
                "2012-01-01 00:00:00",
                "2014-01-01 00:00:00",
                "2015-01-01 00:00:00",
                "2016-01-01 00:00:00",
                "2017-01-01 00:00:00",
                "2019-01-01 00:00:00"
               ],
               [
                "2008-01-01 00:00:00",
                "2009-01-01 00:00:00",
                "2010-01-01 00:00:00",
                "2012-01-01 00:00:00",
                "2014-01-01 00:00:00",
                "2015-01-01 00:00:00",
                "2016-01-01 00:00:00",
                "2017-01-01 00:00:00",
                "2019-01-01 00:00:00"
               ],
               [
                "2008-01-01 00:00:00",
                "2009-01-01 00:00:00",
                "2010-01-01 00:00:00",
                "2012-01-01 00:00:00",
                "2014-01-01 00:00:00",
                "2015-01-01 00:00:00",
                "2016-01-01 00:00:00",
                "2017-01-01 00:00:00",
                "2019-01-01 00:00:00"
               ],
               [
                "2008-01-01 00:00:00",
                "2009-01-01 00:00:00",
                "2010-01-01 00:00:00",
                "2012-01-01 00:00:00",
                "2014-01-01 00:00:00",
                "2015-01-01 00:00:00",
                "2016-01-01 00:00:00",
                "2017-01-01 00:00:00",
                "2019-01-01 00:00:00"
               ],
               [
                "2008-01-01 00:00:00",
                "2009-01-01 00:00:00",
                "2010-01-01 00:00:00",
                "2012-01-01 00:00:00",
                "2014-01-01 00:00:00",
                "2015-01-01 00:00:00",
                "2016-01-01 00:00:00",
                "2017-01-01 00:00:00",
                "2019-01-01 00:00:00"
               ],
               [
                "2008-01-01 00:00:00",
                "2009-01-01 00:00:00",
                "2010-01-01 00:00:00",
                "2012-01-01 00:00:00",
                "2014-01-01 00:00:00",
                "2015-01-01 00:00:00",
                "2016-01-01 00:00:00",
                "2017-01-01 00:00:00",
                "2019-01-01 00:00:00"
               ],
               [
                "2008-01-01 00:00:00",
                "2009-01-01 00:00:00",
                "2010-01-01 00:00:00",
                "2012-01-01 00:00:00",
                "2014-01-01 00:00:00",
                "2015-01-01 00:00:00",
                "2016-01-01 00:00:00",
                "2017-01-01 00:00:00",
                "2019-01-01 00:00:00"
               ],
               [
                "2008-01-01 00:00:00",
                "2009-01-01 00:00:00",
                "2010-01-01 00:00:00",
                "2012-01-01 00:00:00",
                "2014-01-01 00:00:00",
                "2015-01-01 00:00:00",
                "2016-01-01 00:00:00",
                "2017-01-01 00:00:00",
                "2019-01-01 00:00:00"
               ],
               [
                "2008-01-01 00:00:00",
                "2009-01-01 00:00:00",
                "2010-01-01 00:00:00",
                "2012-01-01 00:00:00",
                "2014-01-01 00:00:00",
                "2017-01-01 00:00:00",
                "2019-01-01 00:00:00"
               ],
               [
                "2008-01-01 00:00:00",
                "2009-01-01 00:00:00",
                "2010-01-01 00:00:00",
                "2012-01-01 00:00:00",
                "2014-01-01 00:00:00",
                "2015-01-01 00:00:00",
                "2016-01-01 00:00:00",
                "2017-01-01 00:00:00",
                "2019-01-01 00:00:00"
               ],
               [
                "2008-01-01 00:00:00",
                "2009-01-01 00:00:00",
                "2010-01-01 00:00:00",
                "2012-01-01 00:00:00",
                "2014-01-01 00:00:00",
                "2015-01-01 00:00:00",
                "2016-01-01 00:00:00",
                "2017-01-01 00:00:00",
                "2019-01-01 00:00:00"
               ],
               [
                "2008-01-01 00:00:00",
                "2009-01-01 00:00:00",
                "2010-01-01 00:00:00",
                "2012-01-01 00:00:00",
                "2014-01-01 00:00:00",
                "2015-01-01 00:00:00",
                "2016-01-01 00:00:00",
                "2017-01-01 00:00:00",
                "2019-01-01 00:00:00"
               ],
               [
                "2008-01-01 00:00:00",
                "2009-01-01 00:00:00",
                "2010-01-01 00:00:00",
                "2012-01-01 00:00:00",
                "2014-01-01 00:00:00",
                "2015-01-01 00:00:00",
                "2016-01-01 00:00:00",
                "2017-01-01 00:00:00",
                "2019-01-01 00:00:00"
               ],
               [
                "2008-01-01 00:00:00",
                "2009-01-01 00:00:00",
                "2010-01-01 00:00:00",
                "2012-01-01 00:00:00",
                "2014-01-01 00:00:00",
                "2015-01-01 00:00:00",
                "2016-01-01 00:00:00",
                "2017-01-01 00:00:00",
                "2019-01-01 00:00:00"
               ],
               [
                "2008-01-01 00:00:00",
                "2009-01-01 00:00:00",
                "2010-01-01 00:00:00",
                "2012-01-01 00:00:00",
                "2014-01-01 00:00:00",
                "2015-01-01 00:00:00",
                "2016-01-01 00:00:00",
                "2017-01-01 00:00:00",
                "2019-01-01 00:00:00"
               ],
               [
                "2008-01-01 00:00:00",
                "2009-01-01 00:00:00",
                "2010-01-01 00:00:00",
                "2012-01-01 00:00:00",
                "2014-01-01 00:00:00",
                "2015-01-01 00:00:00",
                "2016-01-01 00:00:00",
                "2017-01-01 00:00:00",
                "2019-01-01 00:00:00"
               ],
               [
                "2008-01-01 00:00:00",
                "2009-01-01 00:00:00",
                "2010-01-01 00:00:00",
                "2012-01-01 00:00:00",
                "2014-01-01 00:00:00",
                "2015-01-01 00:00:00",
                "2016-01-01 00:00:00",
                "2017-01-01 00:00:00",
                "2019-01-01 00:00:00"
               ],
               [
                "2008-01-01 00:00:00",
                "2009-01-01 00:00:00",
                "2010-01-01 00:00:00",
                "2012-01-01 00:00:00",
                "2014-01-01 00:00:00",
                "2015-01-01 00:00:00",
                "2016-01-01 00:00:00",
                "2017-01-01 00:00:00",
                "2019-01-01 00:00:00"
               ],
               [
                "2008-01-01 00:00:00",
                "2009-01-01 00:00:00",
                "2010-01-01 00:00:00",
                "2012-01-01 00:00:00",
                "2014-01-01 00:00:00",
                "2015-01-01 00:00:00",
                "2016-01-01 00:00:00",
                "2017-01-01 00:00:00",
                "2019-01-01 00:00:00"
               ],
               [
                "2008-01-01 00:00:00",
                "2009-01-01 00:00:00",
                "2010-01-01 00:00:00",
                "2012-01-01 00:00:00",
                "2014-01-01 00:00:00",
                "2015-01-01 00:00:00",
                "2016-01-01 00:00:00",
                "2019-01-01 00:00:00"
               ],
               [
                "2008-01-01 00:00:00",
                "2009-01-01 00:00:00",
                "2010-01-01 00:00:00",
                "2012-01-01 00:00:00",
                "2014-01-01 00:00:00",
                "2015-01-01 00:00:00",
                "2016-01-01 00:00:00",
                "2017-01-01 00:00:00",
                "2019-01-01 00:00:00"
               ],
               [
                "2008-01-01 00:00:00",
                "2014-01-01 00:00:00",
                "2015-01-01 00:00:00",
                "2017-01-01 00:00:00"
               ],
               [
                "2008-01-01 00:00:00",
                "2009-01-01 00:00:00",
                "2010-01-01 00:00:00",
                "2012-01-01 00:00:00",
                "2014-01-01 00:00:00",
                "2015-01-01 00:00:00",
                "2016-01-01 00:00:00",
                "2019-01-01 00:00:00"
               ],
               [
                "2008-01-01 00:00:00",
                "2009-01-01 00:00:00",
                "2010-01-01 00:00:00",
                "2012-01-01 00:00:00",
                "2014-01-01 00:00:00",
                "2015-01-01 00:00:00",
                "2016-01-01 00:00:00",
                "2019-01-01 00:00:00"
               ],
               [
                "2008-01-01 00:00:00",
                "2009-01-01 00:00:00",
                "2010-01-01 00:00:00",
                "2012-01-01 00:00:00",
                "2014-01-01 00:00:00",
                "2015-01-01 00:00:00",
                "2016-01-01 00:00:00",
                "2019-01-01 00:00:00"
               ],
               [
                "2008-01-01 00:00:00",
                "2009-01-01 00:00:00",
                "2010-01-01 00:00:00",
                "2012-01-01 00:00:00",
                "2014-01-01 00:00:00",
                "2015-01-01 00:00:00",
                "2016-01-01 00:00:00",
                "2019-01-01 00:00:00"
               ],
               [
                "2008-01-01 00:00:00",
                "2009-01-01 00:00:00",
                "2010-01-01 00:00:00",
                "2012-01-01 00:00:00",
                "2014-01-01 00:00:00",
                "2015-01-01 00:00:00",
                "2016-01-01 00:00:00",
                "2019-01-01 00:00:00"
               ],
               [
                "2008-01-01 00:00:00",
                "2009-01-01 00:00:00",
                "2010-01-01 00:00:00",
                "2012-01-01 00:00:00",
                "2014-01-01 00:00:00",
                "2015-01-01 00:00:00",
                "2016-01-01 00:00:00",
                "2017-01-01 00:00:00",
                "2019-01-01 00:00:00"
               ],
               [
                "2008-01-01 00:00:00",
                "2009-01-01 00:00:00",
                "2010-01-01 00:00:00",
                "2012-01-01 00:00:00",
                "2014-01-01 00:00:00",
                "2015-01-01 00:00:00",
                "2016-01-01 00:00:00",
                "2017-01-01 00:00:00",
                "2019-01-01 00:00:00"
               ],
               [
                "2008-01-01 00:00:00",
                "2009-01-01 00:00:00",
                "2010-01-01 00:00:00",
                "2012-01-01 00:00:00",
                "2014-01-01 00:00:00",
                "2015-01-01 00:00:00",
                "2016-01-01 00:00:00",
                "2017-01-01 00:00:00",
                "2019-01-01 00:00:00"
               ],
               [
                "2008-01-01 00:00:00",
                "2009-01-01 00:00:00",
                "2010-01-01 00:00:00",
                "2012-01-01 00:00:00",
                "2014-01-01 00:00:00",
                "2015-01-01 00:00:00",
                "2016-01-01 00:00:00",
                "2017-01-01 00:00:00",
                "2019-01-01 00:00:00"
               ],
               []
              ],
              "y": [
               [
                0.216023,
                0.299849,
                0.318479,
                0.30988899999999997,
                0.256416,
                0.379105,
                "0.290209",
                0.379046,
                0.361235
               ],
               [
                0.044627999999999994,
                0.08713,
                0.095817,
                0.179817,
                0.21650100000000003,
                0.23246999999999998,
                "0.241332",
                0.323449,
                0.34944200000000003
               ],
               [
                0.08183700000000001,
                0.18820699999999999,
                0.230026,
                0.317443,
                0.351197,
                0.323876,
                "0.308965",
                0.35722600000000004,
                0.313417
               ],
               [
                0.093828,
                0.183563,
                0.15127100000000002,
                0.304478,
                0.384387,
                0.26623800000000003,
                0.24533600000000003,
                0.280016,
                0.268854
               ],
               [
                0.17188399999999998,
                0.23142100000000002,
                0.264721,
                0.289173,
                null,
                0.24318499999999998,
                0.23284899999999997,
                0.261067,
                0.229897
               ],
               [
                0.060739,
                0.20602800000000002,
                0.10504300000000001,
                0.31354899999999997,
                0.144738,
                0.18313800000000002,
                0.190218,
                0.24599200000000002,
                0.30663
               ],
               [
                0.16658699999999999,
                0.28273200000000004,
                0.334521,
                0.370123,
                0.36769,
                0.423512,
                0.361033,
                0.411631,
                0.28097300000000003
               ],
               [
                0.078262,
                0.125631,
                0.139577,
                0.288613,
                0.347064,
                0.346038,
                0.369581,
                0.395964,
                0.37253200000000003
               ],
               [
                0.199704,
                0.43178599999999995,
                0.41362899999999997,
                0.5844239999999999,
                0.563203,
                0.68302,
                0.643334
               ],
               [
                0.144802,
                0.233398,
                0.217719,
                0.23790100000000003,
                0.232233,
                0.300658,
                0.20684899999999998,
                0.302938,
                0.354096
               ],
               [
                0.019918,
                0.050996,
                0.063919,
                0.000824,
                0.152862,
                0.188342,
                0.33211599999999997,
                0.353057,
                0.413857
               ],
               [
                0.13547599999999999,
                0.33057,
                0.37281,
                0.432404,
                0.5115350000000001,
                0.5097229999999999,
                0.42230500000000004,
                0.501999,
                0.522005
               ],
               [
                0.065328,
                0.16886800000000002,
                0.187372,
                0.179952,
                0.21406,
                0.217417,
                0.223437,
                0.2191,
                0.224921
               ],
               [
                0.075937,
                0.25344099999999997,
                0.280058,
                0.299479,
                0.352618,
                0.325723,
                0.374585,
                0.369141,
                0.34122199999999997
               ],
               [
                0.150196,
                0.379823,
                0.350088,
                0.303952,
                0.269239,
                0.46930299999999997,
                0.435593,
                0.47611899999999996,
                "0.328173"
               ],
               [
                0.193419,
                0.338012,
                0.384521,
                0.320833,
                0.289238,
                0.281156,
                0.286967,
                0.31645300000000004,
                "0.244131"
               ],
               [
                0.053159000000000005,
                0.09481,
                0.116273,
                0.102357,
                0.244633,
                0.344488,
                0.28626,
                0.500934,
                "0.326964"
               ],
               [
                0.189046,
                0.261312,
                0.266325,
                0.47706099999999996,
                0.49855200000000005,
                "0.472016",
                0.45975200000000005,
                0.517138,
                "0.529129"
               ],
               [
                0.11736500000000001,
                0.242367,
                0.265359,
                0.266388,
                0.298709,
                "0.347069",
                0.26960700000000004,
                0.377156,
                "0.436968"
               ],
               [
                0.070642,
                0.12326300000000001,
                0.20575,
                0.327845,
                0.3756,
                "0.422298",
                0.403469,
                "0.394269"
               ],
               [
                0.071125,
                0.107847,
                0.112698,
                0.147029,
                0.124675,
                "0.124544",
                0.153081,
                0.223137,
                "0.210697"
               ],
               [
                "0.114387",
                "0.259495",
                "0.290074",
                "0.331127"
               ],
               [
                0.054275,
                0.142569,
                0.15448599999999998,
                0.145277,
                0.13807,
                "0.206881",
                0.18337699999999998,
                0.147714
               ],
               [
                0.14791300000000002,
                0.212009,
                0.275905,
                0.341649,
                0.425033,
                "0.377769",
                0.309262,
                0.37497600000000003
               ],
               [
                0.099201,
                0.228692,
                0.286575,
                0.22763699999999998,
                0.27053,
                "0.272723",
                0.248696,
                0.30043200000000003
               ],
               [
                0.044768,
                0.07293,
                0.09246900000000001,
                0.20876399999999998,
                0.176963,
                "0.0587",
                0.173974,
                0.202979
               ],
               [
                0.18541,
                0.331599,
                0.317693,
                0.384983,
                0.23501100000000003,
                "0.454043",
                0.5053890000000001,
                0.377805
               ],
               [
                0.075822,
                0.16667200000000001,
                0.196301,
                0.24925999999999998,
                0.209517,
                0.289221,
                "0.193251",
                0.229066,
                0.213063
               ],
               [
                0.054640999999999995,
                0.17791099999999999,
                0.178533,
                0.204372,
                0.22171999999999997,
                0.21764099999999997,
                0.251776,
                0.21714699999999998,
                0.22832600000000003
               ],
               [
                0.025689,
                0.080697,
                0.12218699999999999,
                0.15878699999999998,
                0.194771,
                0.206096,
                "0.211824",
                0.29081999999999997,
                0.195997
               ],
               [
                0.059471,
                0.173031,
                0.191327,
                0.292031,
                0.425237,
                0.405918,
                "0.457631",
                0.5412399999999999,
                0.389317
               ],
               []
              ]
             }
            ],
            "label": "Uploading self-created content to be shared",
            "method": "update"
           },
           {
            "args": [
             {
              "x": [
               [
                "2011-01-01 00:00:00",
                "2013-01-01 00:00:00",
                "2014-01-01 00:00:00",
                "2015-01-01 00:00:00",
                "2016-01-01 00:00:00",
                "2017-01-01 00:00:00",
                "2019-01-01 00:00:00"
               ],
               [
                "2011-01-01 00:00:00",
                "2013-01-01 00:00:00",
                "2014-01-01 00:00:00",
                "2015-01-01 00:00:00",
                "2016-01-01 00:00:00",
                "2017-01-01 00:00:00",
                "2018-01-01 00:00:00",
                "2019-01-01 00:00:00"
               ],
               [
                "2011-01-01 00:00:00",
                "2013-01-01 00:00:00",
                "2014-01-01 00:00:00",
                "2015-01-01 00:00:00",
                "2016-01-01 00:00:00",
                "2017-01-01 00:00:00",
                "2019-01-01 00:00:00"
               ],
               [
                "2011-01-01 00:00:00",
                "2013-01-01 00:00:00",
                "2014-01-01 00:00:00",
                "2015-01-01 00:00:00",
                "2016-01-01 00:00:00",
                "2017-01-01 00:00:00",
                "2019-01-01 00:00:00"
               ],
               [
                "2011-01-01 00:00:00",
                "2013-01-01 00:00:00",
                "2014-01-01 00:00:00",
                "2015-01-01 00:00:00",
                "2016-01-01 00:00:00",
                "2017-01-01 00:00:00",
                "2019-01-01 00:00:00"
               ],
               [
                "2011-01-01 00:00:00",
                "2013-01-01 00:00:00",
                "2014-01-01 00:00:00",
                "2015-01-01 00:00:00",
                "2016-01-01 00:00:00",
                "2017-01-01 00:00:00",
                "2019-01-01 00:00:00"
               ],
               [
                "2011-01-01 00:00:00",
                "2013-01-01 00:00:00",
                "2014-01-01 00:00:00",
                "2015-01-01 00:00:00",
                "2016-01-01 00:00:00",
                "2017-01-01 00:00:00",
                "2019-01-01 00:00:00"
               ],
               [
                "2011-01-01 00:00:00",
                "2013-01-01 00:00:00",
                "2014-01-01 00:00:00",
                "2015-01-01 00:00:00",
                "2016-01-01 00:00:00",
                "2017-01-01 00:00:00",
                "2018-01-01 00:00:00",
                "2019-01-01 00:00:00"
               ],
               [
                "2011-01-01 00:00:00",
                "2013-01-01 00:00:00",
                "2014-01-01 00:00:00",
                "2017-01-01 00:00:00",
                "2018-01-01 00:00:00",
                "2019-01-01 00:00:00"
               ],
               [
                "2011-01-01 00:00:00",
                "2013-01-01 00:00:00",
                "2014-01-01 00:00:00",
                "2015-01-01 00:00:00",
                "2016-01-01 00:00:00",
                "2017-01-01 00:00:00",
                "2019-01-01 00:00:00"
               ],
               [
                "2011-01-01 00:00:00",
                "2013-01-01 00:00:00",
                "2014-01-01 00:00:00",
                "2015-01-01 00:00:00",
                "2016-01-01 00:00:00",
                "2017-01-01 00:00:00",
                "2019-01-01 00:00:00"
               ],
               [
                "2011-01-01 00:00:00",
                "2013-01-01 00:00:00",
                "2014-01-01 00:00:00",
                "2015-01-01 00:00:00",
                "2016-01-01 00:00:00",
                "2017-01-01 00:00:00",
                "2019-01-01 00:00:00"
               ],
               [
                "2011-01-01 00:00:00",
                "2013-01-01 00:00:00",
                "2014-01-01 00:00:00",
                "2015-01-01 00:00:00",
                "2016-01-01 00:00:00",
                "2017-01-01 00:00:00",
                "2018-01-01 00:00:00",
                "2019-01-01 00:00:00"
               ],
               [
                "2011-01-01 00:00:00",
                "2013-01-01 00:00:00",
                "2014-01-01 00:00:00",
                "2015-01-01 00:00:00",
                "2016-01-01 00:00:00",
                "2017-01-01 00:00:00",
                "2018-01-01 00:00:00",
                "2019-01-01 00:00:00"
               ],
               [
                "2011-01-01 00:00:00",
                "2013-01-01 00:00:00",
                "2014-01-01 00:00:00",
                "2015-01-01 00:00:00",
                "2016-01-01 00:00:00",
                "2017-01-01 00:00:00",
                "2019-01-01 00:00:00"
               ],
               [
                "2011-01-01 00:00:00",
                "2013-01-01 00:00:00",
                "2014-01-01 00:00:00",
                "2015-01-01 00:00:00",
                "2016-01-01 00:00:00",
                "2017-01-01 00:00:00",
                "2019-01-01 00:00:00"
               ],
               [
                "2011-01-01 00:00:00",
                "2013-01-01 00:00:00",
                "2014-01-01 00:00:00",
                "2015-01-01 00:00:00",
                "2016-01-01 00:00:00",
                "2017-01-01 00:00:00",
                "2019-01-01 00:00:00"
               ],
               [
                "2011-01-01 00:00:00",
                "2013-01-01 00:00:00",
                "2014-01-01 00:00:00",
                "2015-01-01 00:00:00",
                "2016-01-01 00:00:00",
                "2017-01-01 00:00:00",
                "2019-01-01 00:00:00"
               ],
               [
                "2011-01-01 00:00:00",
                "2013-01-01 00:00:00",
                "2014-01-01 00:00:00",
                "2015-01-01 00:00:00",
                "2016-01-01 00:00:00",
                "2017-01-01 00:00:00",
                "2019-01-01 00:00:00"
               ],
               [
                "2011-01-01 00:00:00",
                "2013-01-01 00:00:00",
                "2014-01-01 00:00:00",
                "2015-01-01 00:00:00",
                "2016-01-01 00:00:00",
                "2018-01-01 00:00:00",
                "2019-01-01 00:00:00"
               ],
               [
                "2011-01-01 00:00:00",
                "2013-01-01 00:00:00",
                "2014-01-01 00:00:00",
                "2015-01-01 00:00:00",
                "2016-01-01 00:00:00",
                "2017-01-01 00:00:00",
                "2018-01-01 00:00:00",
                "2019-01-01 00:00:00"
               ],
               [
                "2014-01-01 00:00:00",
                "2015-01-01 00:00:00",
                "2017-01-01 00:00:00",
                "2018-01-01 00:00:00"
               ],
               [
                "2011-01-01 00:00:00",
                "2013-01-01 00:00:00",
                "2014-01-01 00:00:00",
                "2015-01-01 00:00:00",
                "2016-01-01 00:00:00",
                "2018-01-01 00:00:00",
                "2019-01-01 00:00:00"
               ],
               [
                "2011-01-01 00:00:00",
                "2013-01-01 00:00:00",
                "2014-01-01 00:00:00",
                "2015-01-01 00:00:00",
                "2016-01-01 00:00:00",
                "2018-01-01 00:00:00",
                "2019-01-01 00:00:00"
               ],
               [
                "2011-01-01 00:00:00",
                "2013-01-01 00:00:00",
                "2014-01-01 00:00:00",
                "2015-01-01 00:00:00",
                "2016-01-01 00:00:00",
                "2018-01-01 00:00:00",
                "2019-01-01 00:00:00"
               ],
               [
                "2011-01-01 00:00:00",
                "2013-01-01 00:00:00",
                "2014-01-01 00:00:00",
                "2015-01-01 00:00:00",
                "2016-01-01 00:00:00",
                "2018-01-01 00:00:00",
                "2019-01-01 00:00:00"
               ],
               [
                "2011-01-01 00:00:00",
                "2013-01-01 00:00:00",
                "2014-01-01 00:00:00",
                "2015-01-01 00:00:00",
                "2016-01-01 00:00:00",
                "2018-01-01 00:00:00",
                "2019-01-01 00:00:00"
               ],
               [
                "2011-01-01 00:00:00",
                "2014-01-01 00:00:00",
                "2015-01-01 00:00:00",
                "2016-01-01 00:00:00",
                "2017-01-01 00:00:00",
                "2018-01-01 00:00:00",
                "2019-01-01 00:00:00"
               ],
               [
                "2011-01-01 00:00:00",
                "2014-01-01 00:00:00",
                "2015-01-01 00:00:00",
                "2016-01-01 00:00:00",
                "2017-01-01 00:00:00",
                "2018-01-01 00:00:00",
                "2019-01-01 00:00:00"
               ],
               [
                "2011-01-01 00:00:00",
                "2014-01-01 00:00:00",
                "2015-01-01 00:00:00",
                "2016-01-01 00:00:00",
                "2017-01-01 00:00:00",
                "2018-01-01 00:00:00",
                "2019-01-01 00:00:00"
               ],
               [
                "2011-01-01 00:00:00",
                "2014-01-01 00:00:00",
                "2015-01-01 00:00:00",
                "2016-01-01 00:00:00",
                "2017-01-01 00:00:00",
                "2018-01-01 00:00:00",
                "2019-01-01 00:00:00"
               ],
               []
              ],
              "y": [
               [
                0.365173,
                0.488225,
                0.506386,
                0.558327,
                "0.574505",
                0.603107,
                0.6513770000000001
               ],
               [
                0.28063299999999997,
                0.361139,
                0.406543,
                0.43907399999999996,
                "0.466536",
                0.49974799999999997,
                "0.530288",
                0.5669310000000001
               ],
               [
                0.346503,
                0.459211,
                0.511141,
                0.509339,
                "0.537916",
                0.571704,
                0.586082
               ],
               [
                0.446409,
                0.513127,
                0.555595,
                0.581733,
                0.616567,
                0.660081,
                0.666808
               ],
               [
                0.355466,
                0.37753400000000004,
                0.385306,
                0.377211,
                0.398532,
                0.4281,
                0.423241
               ],
               [
                0.320176,
                0.37844099999999997,
                0.404403,
                0.44596800000000003,
                0.503851,
                0.47250299999999995,
                0.578792
               ],
               [
                0.507602,
                0.564353,
                0.600247,
                0.60746,
                0.656155,
                0.6456850000000001,
                0.68857
               ],
               [
                0.402661,
                0.475117,
                0.504337,
                0.5255,
                0.578896,
                0.588622,
                "0.601287",
                0.635774
               ],
               [
                0.7173189999999999,
                0.7888430000000001,
                0.8273010000000001,
                0.8946290000000001,
                "0.908674",
                0.916501
               ],
               [
                0.419074,
                0.4209,
                0.423339,
                0.569576,
                0.503304,
                0.505898,
                0.525029
               ],
               [
                0.26656399999999997,
                0.362964,
                0.399814,
                0.406414,
                0.450514,
                0.483454,
                0.589498
               ],
               [
                0.553609,
                0.636009,
                0.664924,
                0.648605,
                0.743667,
                0.754951,
                0.807628
               ],
               [
                0.263086,
                0.316313,
                0.362063,
                0.38051,
                0.415425,
                0.433593,
                "0.464781",
                0.422954
               ],
               [
                0.354121,
                0.435996,
                0.47017299999999995,
                0.46270200000000006,
                0.5034390000000001,
                0.535473,
                "0.5795",
                0.605712
               ],
               [
                0.45927700000000005,
                0.566807,
                0.604907,
                0.682761,
                0.6704869999999999,
                0.680815,
                "0.62511"
               ],
               [
                0.5508,
                0.544465,
                0.527355,
                0.575047,
                0.570714,
                0.598973,
                "0.646621"
               ],
               [
                0.44551599999999997,
                0.509342,
                0.5311739999999999,
                0.600833,
                0.640437,
                0.703707,
                "0.706609"
               ],
               [
                0.45696400000000004,
                0.550419,
                0.5860449999999999,
                "0.593317",
                0.61828,
                0.6655770000000001,
                "0.669051"
               ],
               [
                0.589566,
                0.675796,
                0.706666,
                "0.732163",
                0.76159,
                0.8258340000000001,
                "0.863136"
               ],
               [
                0.31513,
                0.436759,
                0.467574,
                "0.480594",
                0.521718,
                0.591795,
                "0.60401"
               ],
               [
                0.356625,
                0.352932,
                0.36801100000000003,
                "0.413953",
                0.44199499999999997,
                0.48017299999999996,
                0.498672,
                "0.530387"
               ],
               [
                "0.456191",
                "0.499871",
                "0.542606",
                0.557611
               ],
               [
                0.250665,
                0.334201,
                0.36251300000000003,
                "0.436435",
                0.442859,
                0.607667,
                0.6017560000000001
               ],
               [
                0.53561,
                0.56721,
                0.651829,
                "0.624758",
                0.701527,
                0.703607,
                0.7222109999999999
               ],
               [
                0.319643,
                0.382818,
                0.41816899999999996,
                "0.373724",
                0.383101,
                0.48814399999999997,
                0.520853
               ],
               [
                0.4781,
                0.48597399999999996,
                0.503727,
                "0.536374",
                0.5698979999999999,
                0.598371,
                0.5924470000000001
               ],
               [
                0.496809,
                0.581228,
                0.598219,
                "0.656565",
                0.687546,
                0.697498,
                0.731259
               ],
               [
                0.352769,
                0.442429,
                0.453259,
                "0.490236",
                0.51186,
                "0.531718",
                0.555547
               ],
               [
                0.39528800000000003,
                0.5243359999999999,
                0.667183,
                0.693078,
                0.72023,
                "0.726036",
                0.755255
               ],
               [
                0.300135,
                0.39565700000000004,
                0.421526,
                "0.450348",
                0.49946199999999996,
                "0.513617",
                0.52853
               ],
               [
                0.33466799999999997,
                0.5010399999999999,
                0.5403859999999999,
                "0.599658",
                0.630414,
                "0.689588",
                0.717164
               ],
               []
              ]
             }
            ],
            "label": "Participating in social networks, over the internet, last 3 months",
            "method": "update"
           },
           {
            "args": [
             {
              "x": [
               [
                "2004-01-01 00:00:00",
                "2005-01-01 00:00:00",
                "2006-01-01 00:00:00",
                "2007-01-01 00:00:00",
                "2008-01-01 00:00:00",
                "2009-01-01 00:00:00",
                "2010-01-01 00:00:00",
                "2011-01-01 00:00:00",
                "2013-01-01 00:00:00",
                "2015-01-01 00:00:00",
                "2017-01-01 00:00:00",
                "2019-01-01 00:00:00"
               ],
               [
                "2004-01-01 00:00:00",
                "2005-01-01 00:00:00",
                "2006-01-01 00:00:00",
                "2007-01-01 00:00:00",
                "2008-01-01 00:00:00",
                "2009-01-01 00:00:00",
                "2010-01-01 00:00:00",
                "2011-01-01 00:00:00",
                "2013-01-01 00:00:00",
                "2015-01-01 00:00:00",
                "2017-01-01 00:00:00",
                "2019-01-01 00:00:00"
               ],
               [
                "2007-01-01 00:00:00",
                "2008-01-01 00:00:00",
                "2009-01-01 00:00:00",
                "2010-01-01 00:00:00",
                "2011-01-01 00:00:00",
                "2013-01-01 00:00:00",
                "2015-01-01 00:00:00",
                "2017-01-01 00:00:00",
                "2019-01-01 00:00:00"
               ],
               [
                "2004-01-01 00:00:00",
                "2005-01-01 00:00:00",
                "2006-01-01 00:00:00",
                "2007-01-01 00:00:00",
                "2008-01-01 00:00:00",
                "2009-01-01 00:00:00",
                "2010-01-01 00:00:00",
                "2011-01-01 00:00:00",
                "2013-01-01 00:00:00",
                "2015-01-01 00:00:00",
                "2017-01-01 00:00:00",
                "2019-01-01 00:00:00"
               ],
               [
                "2006-01-01 00:00:00",
                "2007-01-01 00:00:00",
                "2008-01-01 00:00:00",
                "2009-01-01 00:00:00",
                "2010-01-01 00:00:00",
                "2011-01-01 00:00:00",
                "2013-01-01 00:00:00",
                "2015-01-01 00:00:00",
                "2017-01-01 00:00:00",
                "2019-01-01 00:00:00"
               ],
               [
                "2007-01-01 00:00:00",
                "2008-01-01 00:00:00",
                "2009-01-01 00:00:00",
                "2010-01-01 00:00:00",
                "2011-01-01 00:00:00",
                "2013-01-01 00:00:00",
                "2015-01-01 00:00:00",
                "2017-01-01 00:00:00",
                "2019-01-01 00:00:00"
               ],
               [
                "2004-01-01 00:00:00",
                "2005-01-01 00:00:00",
                "2006-01-01 00:00:00",
                "2007-01-01 00:00:00",
                "2008-01-01 00:00:00",
                "2009-01-01 00:00:00",
                "2010-01-01 00:00:00",
                "2011-01-01 00:00:00",
                "2013-01-01 00:00:00",
                "2015-01-01 00:00:00",
                "2017-01-01 00:00:00",
                "2019-01-01 00:00:00"
               ],
               [
                "2004-01-01 00:00:00",
                "2005-01-01 00:00:00",
                "2006-01-01 00:00:00",
                "2007-01-01 00:00:00",
                "2008-01-01 00:00:00",
                "2009-01-01 00:00:00",
                "2010-01-01 00:00:00",
                "2011-01-01 00:00:00",
                "2013-01-01 00:00:00",
                "2015-01-01 00:00:00",
                "2017-01-01 00:00:00",
                "2019-01-01 00:00:00"
               ],
               [
                "2004-01-01 00:00:00",
                "2005-01-01 00:00:00",
                "2006-01-01 00:00:00",
                "2007-01-01 00:00:00",
                "2008-01-01 00:00:00",
                "2009-01-01 00:00:00",
                "2010-01-01 00:00:00",
                "2011-01-01 00:00:00",
                "2013-01-01 00:00:00",
                "2017-01-01 00:00:00",
                "2019-01-01 00:00:00"
               ],
               [
                "2004-01-01 00:00:00",
                "2005-01-01 00:00:00",
                "2006-01-01 00:00:00",
                "2007-01-01 00:00:00",
                "2008-01-01 00:00:00",
                "2009-01-01 00:00:00",
                "2010-01-01 00:00:00",
                "2011-01-01 00:00:00",
                "2013-01-01 00:00:00",
                "2015-01-01 00:00:00",
                "2017-01-01 00:00:00",
                "2019-01-01 00:00:00"
               ],
               [
                "2004-01-01 00:00:00",
                "2005-01-01 00:00:00",
                "2006-01-01 00:00:00",
                "2007-01-01 00:00:00",
                "2008-01-01 00:00:00",
                "2009-01-01 00:00:00",
                "2010-01-01 00:00:00",
                "2011-01-01 00:00:00",
                "2013-01-01 00:00:00",
                "2015-01-01 00:00:00",
                "2017-01-01 00:00:00",
                "2019-01-01 00:00:00"
               ],
               [
                "2004-01-01 00:00:00",
                "2005-01-01 00:00:00",
                "2006-01-01 00:00:00",
                "2007-01-01 00:00:00",
                "2008-01-01 00:00:00",
                "2009-01-01 00:00:00",
                "2010-01-01 00:00:00",
                "2011-01-01 00:00:00",
                "2013-01-01 00:00:00",
                "2015-01-01 00:00:00",
                "2017-01-01 00:00:00",
                "2019-01-01 00:00:00"
               ],
               [
                "2005-01-01 00:00:00",
                "2006-01-01 00:00:00",
                "2007-01-01 00:00:00",
                "2008-01-01 00:00:00",
                "2009-01-01 00:00:00",
                "2010-01-01 00:00:00",
                "2011-01-01 00:00:00",
                "2013-01-01 00:00:00",
                "2015-01-01 00:00:00",
                "2017-01-01 00:00:00",
                "2019-01-01 00:00:00"
               ],
               [
                "2004-01-01 00:00:00",
                "2005-01-01 00:00:00",
                "2006-01-01 00:00:00",
                "2007-01-01 00:00:00",
                "2008-01-01 00:00:00",
                "2009-01-01 00:00:00",
                "2010-01-01 00:00:00",
                "2011-01-01 00:00:00",
                "2013-01-01 00:00:00",
                "2015-01-01 00:00:00",
                "2017-01-01 00:00:00",
                "2019-01-01 00:00:00"
               ],
               [
                "2004-01-01 00:00:00",
                "2005-01-01 00:00:00",
                "2006-01-01 00:00:00",
                "2007-01-01 00:00:00",
                "2008-01-01 00:00:00",
                "2009-01-01 00:00:00",
                "2010-01-01 00:00:00",
                "2011-01-01 00:00:00",
                "2013-01-01 00:00:00",
                "2015-01-01 00:00:00",
                "2017-01-01 00:00:00",
                "2019-01-01 00:00:00"
               ],
               [
                "2004-01-01 00:00:00",
                "2005-01-01 00:00:00",
                "2006-01-01 00:00:00",
                "2007-01-01 00:00:00",
                "2008-01-01 00:00:00",
                "2009-01-01 00:00:00",
                "2010-01-01 00:00:00",
                "2011-01-01 00:00:00",
                "2013-01-01 00:00:00",
                "2015-01-01 00:00:00",
                "2017-01-01 00:00:00",
                "2019-01-01 00:00:00"
               ],
               [
                "2005-01-01 00:00:00",
                "2006-01-01 00:00:00",
                "2007-01-01 00:00:00",
                "2008-01-01 00:00:00",
                "2009-01-01 00:00:00",
                "2010-01-01 00:00:00",
                "2011-01-01 00:00:00",
                "2013-01-01 00:00:00",
                "2015-01-01 00:00:00",
                "2017-01-01 00:00:00",
                "2019-01-01 00:00:00"
               ],
               [
                "2005-01-01 00:00:00",
                "2006-01-01 00:00:00",
                "2007-01-01 00:00:00",
                "2008-01-01 00:00:00",
                "2009-01-01 00:00:00",
                "2010-01-01 00:00:00",
                "2011-01-01 00:00:00",
                "2013-01-01 00:00:00",
                "2015-01-01 00:00:00",
                "2017-01-01 00:00:00",
                "2019-01-01 00:00:00"
               ],
               [
                "2004-01-01 00:00:00",
                "2005-01-01 00:00:00",
                "2006-01-01 00:00:00",
                "2007-01-01 00:00:00",
                "2008-01-01 00:00:00",
                "2009-01-01 00:00:00",
                "2010-01-01 00:00:00",
                "2011-01-01 00:00:00",
                "2013-01-01 00:00:00",
                "2015-01-01 00:00:00",
                "2017-01-01 00:00:00",
                "2019-01-01 00:00:00"
               ],
               [
                "2004-01-01 00:00:00",
                "2005-01-01 00:00:00",
                "2006-01-01 00:00:00",
                "2007-01-01 00:00:00",
                "2008-01-01 00:00:00",
                "2009-01-01 00:00:00",
                "2010-01-01 00:00:00",
                "2011-01-01 00:00:00",
                "2013-01-01 00:00:00",
                "2015-01-01 00:00:00",
                "2017-01-01 00:00:00",
                "2019-01-01 00:00:00"
               ],
               [
                "2004-01-01 00:00:00",
                "2005-01-01 00:00:00",
                "2006-01-01 00:00:00",
                "2007-01-01 00:00:00",
                "2008-01-01 00:00:00",
                "2009-01-01 00:00:00",
                "2010-01-01 00:00:00",
                "2011-01-01 00:00:00",
                "2013-01-01 00:00:00",
                "2015-01-01 00:00:00",
                "2017-01-01 00:00:00",
                "2019-01-01 00:00:00"
               ],
               [
                "2005-01-01 00:00:00",
                "2006-01-01 00:00:00",
                "2007-01-01 00:00:00",
                "2008-01-01 00:00:00",
                "2015-01-01 00:00:00",
                "2017-01-01 00:00:00",
                "2019-01-01 00:00:00"
               ],
               [
                "2004-01-01 00:00:00",
                "2006-01-01 00:00:00",
                "2007-01-01 00:00:00",
                "2008-01-01 00:00:00",
                "2009-01-01 00:00:00",
                "2010-01-01 00:00:00",
                "2011-01-01 00:00:00",
                "2013-01-01 00:00:00",
                "2015-01-01 00:00:00",
                "2019-01-01 00:00:00"
               ],
               [
                "2004-01-01 00:00:00",
                "2005-01-01 00:00:00",
                "2006-01-01 00:00:00",
                "2007-01-01 00:00:00",
                "2008-01-01 00:00:00",
                "2009-01-01 00:00:00",
                "2010-01-01 00:00:00",
                "2011-01-01 00:00:00",
                "2013-01-01 00:00:00",
                "2015-01-01 00:00:00",
                "2019-01-01 00:00:00"
               ],
               [
                "2004-01-01 00:00:00",
                "2005-01-01 00:00:00",
                "2006-01-01 00:00:00",
                "2007-01-01 00:00:00",
                "2008-01-01 00:00:00",
                "2009-01-01 00:00:00",
                "2010-01-01 00:00:00",
                "2011-01-01 00:00:00",
                "2013-01-01 00:00:00",
                "2015-01-01 00:00:00",
                "2019-01-01 00:00:00"
               ],
               [
                "2004-01-01 00:00:00",
                "2005-01-01 00:00:00",
                "2006-01-01 00:00:00",
                "2007-01-01 00:00:00",
                "2008-01-01 00:00:00",
                "2009-01-01 00:00:00",
                "2010-01-01 00:00:00",
                "2011-01-01 00:00:00",
                "2013-01-01 00:00:00",
                "2015-01-01 00:00:00",
                "2019-01-01 00:00:00"
               ],
               [
                "2004-01-01 00:00:00",
                "2005-01-01 00:00:00",
                "2006-01-01 00:00:00",
                "2007-01-01 00:00:00",
                "2008-01-01 00:00:00",
                "2009-01-01 00:00:00",
                "2010-01-01 00:00:00",
                "2011-01-01 00:00:00",
                "2013-01-01 00:00:00",
                "2015-01-01 00:00:00",
                "2019-01-01 00:00:00"
               ],
               [
                "2004-01-01 00:00:00",
                "2005-01-01 00:00:00",
                "2006-01-01 00:00:00",
                "2007-01-01 00:00:00",
                "2008-01-01 00:00:00",
                "2009-01-01 00:00:00",
                "2010-01-01 00:00:00",
                "2011-01-01 00:00:00",
                "2015-01-01 00:00:00",
                "2017-01-01 00:00:00",
                "2019-01-01 00:00:00"
               ],
               [
                "2005-01-01 00:00:00",
                "2006-01-01 00:00:00",
                "2007-01-01 00:00:00",
                "2008-01-01 00:00:00",
                "2009-01-01 00:00:00",
                "2010-01-01 00:00:00",
                "2011-01-01 00:00:00",
                "2015-01-01 00:00:00",
                "2017-01-01 00:00:00",
                "2019-01-01 00:00:00"
               ],
               [
                "2004-01-01 00:00:00",
                "2006-01-01 00:00:00",
                "2007-01-01 00:00:00",
                "2008-01-01 00:00:00",
                "2009-01-01 00:00:00",
                "2010-01-01 00:00:00",
                "2011-01-01 00:00:00",
                "2015-01-01 00:00:00",
                "2017-01-01 00:00:00",
                "2019-01-01 00:00:00"
               ],
               [
                "2004-01-01 00:00:00",
                "2005-01-01 00:00:00",
                "2006-01-01 00:00:00",
                "2007-01-01 00:00:00",
                "2008-01-01 00:00:00",
                "2009-01-01 00:00:00",
                "2010-01-01 00:00:00",
                "2011-01-01 00:00:00",
                "2015-01-01 00:00:00",
                "2017-01-01 00:00:00",
                "2019-01-01 00:00:00"
               ],
               []
              ],
              "y": [
               [
                0.120125,
                0.182846,
                0.168854,
                0.130687,
                0.151392,
                0.220902,
                0.25235799999999997,
                0.247865,
                0.202764,
                0.219671,
                0.20380399999999999,
                0.20584000000000002
               ],
               [
                0.016013,
                0.021925,
                0.042212,
                0.046008,
                0.054067,
                0.05512,
                0.060787,
                0.129109,
                0.15983499999999998,
                0.177845,
                0.153435,
                0.128725
               ],
               [
                0.101565,
                0.123171,
                0.166702,
                0.16161199999999998,
                0.169682,
                0.196196,
                0.202253,
                0.193806,
                0.182387
               ],
               [
                0.220793,
                0.24212899999999998,
                0.264546,
                0.26365700000000003,
                0.264013,
                0.240461,
                0.273737,
                0.267905,
                0.265336,
                0.26761399999999996,
                0.292425,
                0.320466
               ],
               [
                0.062736,
                0.12366400000000001,
                0.169994,
                0.132056,
                0.158471,
                0.149549,
                0.17751,
                0.165926,
                0.16206600000000002,
                0.17436
               ],
               [
                0.081865,
                0.11039700000000001,
                0.142907,
                0.168883,
                0.19835999999999998,
                0.152832,
                0.163745,
                0.130672,
                0.14305
               ],
               [
                0.0626,
                0.097565,
                0.118622,
                0.126992,
                0.141221,
                0.178634,
                0.204268,
                0.200355,
                0.179472,
                0.167658,
                0.139309,
                0.14843800000000001
               ],
               [
                0.032768,
                0.023658000000000002,
                0.06015499999999999,
                0.069855,
                0.093961,
                0.135794,
                0.144741,
                0.195797,
                0.170549,
                0.13908099999999998,
                0.1163,
                0.17455299999999999
               ],
               [
                0.156186,
                0.158163,
                0.17411600000000002,
                0.158327,
                0.136739,
                0.1745,
                0.212033,
                0.26334,
                0.265106,
                0.217721,
                0.197551
               ],
               [
                0.13930499999999998,
                null,
                0.168499,
                0.169675,
                0.16008699999999998,
                0.178271,
                0.165552,
                0.1818,
                0.18073399999999998,
                0.189743,
                0.182649,
                0.171816
               ],
               [
                0.025453,
                0.023781,
                0.043441,
                0.037864999999999996,
                0.047942,
                0.079299,
                0.077586,
                0.072693,
                0.057664,
                0.052389,
                0.0540111,
                0.0608641
               ],
               [
                0.163044,
                0.187916,
                0.203337,
                0.25590999999999997,
                0.23255100000000004,
                0.273246,
                0.28723899999999997,
                0.268977,
                0.22364299999999998,
                0.364718,
                0.235091,
                0.370573
               ],
               [
                0.053719,
                0.061596000000000005,
                0.071937,
                0.06980700000000001,
                0.092797,
                0.10082200000000001,
                0.119125,
                0.134624,
                0.124242,
                0.13172799999999998,
                0.13636800000000002
               ],
               [
                0.044388,
                0.06588300000000001,
                0.094651,
                0.100734,
                0.104459,
                0.15145,
                0.151016,
                0.135434,
                0.12224600000000001,
                0.122449,
                0.12579200000000001,
                0.157164
               ],
               [
                0.11080799999999999,
                0.11510899999999999,
                0.10928099999999999,
                0.144674,
                0.11854400000000001,
                0.125926,
                0.129741,
                0.14563399999999999,
                0.184442,
                0.195864,
                0.187624,
                "0.200226"
               ],
               [
                0.088184,
                0.09652899999999999,
                0.113151,
                0.094933,
                0.15946400000000002,
                0.24524899999999997,
                0.24876500000000001,
                0.27045399999999997,
                0.169684,
                0.15146800000000002,
                0.16028599999999998,
                "0.13875"
               ],
               [
                0.050238,
                0.075427,
                0.102486,
                0.102797,
                0.144092,
                0.146004,
                0.199535,
                0.200941,
                0.23047800000000002,
                0.212902,
                "0.18167"
               ],
               [
                0.164502,
                0.185333,
                0.187507,
                0.165938,
                0.17083800000000002,
                0.189152,
                0.186424,
                0.20516900000000002,
                0.24116100000000001,
                0.246335,
                "0.25135"
               ],
               [
                0.163644,
                0.182823,
                0.21863400000000002,
                0.221629,
                0.223832,
                0.22137300000000001,
                0.218904,
                0.29603,
                0.26771999999999996,
                0.289242,
                0.258092,
                "0.262347"
               ],
               [
                0.032633999999999996,
                0.039570999999999995,
                0.051028,
                0.064866,
                0.080505,
                0.101141,
                0.100866,
                0.110375,
                0.143784,
                0.143723,
                0.144732,
                "0.147323"
               ],
               [
                0.050283,
                0.046276,
                0.071853,
                0.071848,
                0.081595,
                0.09052400000000001,
                0.10406900000000001,
                0.11492000000000001,
                0.11221500000000001,
                0.098727,
                0.11626600000000001,
                "0.0877633"
               ],
               [
                "0.097816",
                "0.107803",
                "0.115338",
                "0.128797",
                "0.171879",
                "0.168077",
                0.16777
               ],
               [
                0.011537,
                0.025769999999999998,
                0.026888,
                0.027483999999999998,
                0.047208,
                0.067115,
                0.088386,
                0.07606900000000001,
                0.064542,
                0.0478588
               ],
               [
                0.155912,
                0.22529899999999997,
                0.243608,
                0.181231,
                0.21812600000000001,
                0.221525,
                0.252117,
                0.259158,
                0.288439,
                0.26238,
                0.304732
               ],
               [
                0.055915,
                0.067969,
                0.092675,
                0.11389,
                0.09740499999999999,
                0.122358,
                0.139019,
                0.13759100000000002,
                0.15809600000000001,
                0.13005899999999998,
                0.134082
               ],
               [
                0.112375,
                0.108305,
                0.103834,
                0.11061800000000001,
                0.12951400000000002,
                0.162412,
                0.164385,
                0.177265,
                0.131149,
                0.10269400000000001,
                0.14607699999999998
               ],
               [
                0.14133099999999998,
                0.15631,
                0.160726,
                0.154277,
                0.197615,
                0.24981,
                0.22134299999999998,
                0.26172199999999995,
                0.258841,
                0.255404,
                0.246416
               ],
               [
                0.041719,
                0.062154999999999995,
                0.085788,
                0.080063,
                0.089919,
                0.10376600000000001,
                0.107976,
                0.20519899999999996,
                0.127642,
                0.11769500000000001,
                0.114728
               ],
               [
                0.078573,
                0.0903,
                0.07904,
                0.081479,
                0.134865,
                0.128921,
                0.141631,
                0.18241,
                0.152045,
                0.12213299999999999
               ],
               [
                0.031272,
                0.044274,
                0.050872,
                0.065455,
                0.087051,
                0.093816,
                0.117164,
                0.107668,
                0.0659877,
                0.07183439999999999
               ],
               [
                0.028201999999999998,
                0.025292,
                0.045145,
                0.046375,
                0.036863,
                0.053127,
                0.05732,
                0.070069,
                0.133026,
                0.134597,
                0.139664
               ],
               []
              ]
             }
            ],
            "label": "Looking for a job or sending a job application",
            "method": "update"
           },
           {
            "args": [
             {
              "x": [
               [
                "2007-01-01 00:00:00",
                "2008-01-01 00:00:00",
                "2009-01-01 00:00:00",
                "2010-01-01 00:00:00",
                "2011-01-01 00:00:00",
                "2013-01-01 00:00:00",
                "2015-01-01 00:00:00",
                "2016-01-01 00:00:00",
                "2017-01-01 00:00:00",
                "2019-01-01 00:00:00"
               ],
               [
                "2007-01-01 00:00:00",
                "2008-01-01 00:00:00",
                "2009-01-01 00:00:00",
                "2010-01-01 00:00:00",
                "2011-01-01 00:00:00",
                "2013-01-01 00:00:00",
                "2015-01-01 00:00:00",
                "2016-01-01 00:00:00",
                "2017-01-01 00:00:00",
                "2019-01-01 00:00:00"
               ],
               [
                "2007-01-01 00:00:00",
                "2008-01-01 00:00:00",
                "2009-01-01 00:00:00",
                "2010-01-01 00:00:00",
                "2011-01-01 00:00:00",
                "2013-01-01 00:00:00",
                "2015-01-01 00:00:00",
                "2016-01-01 00:00:00",
                "2017-01-01 00:00:00",
                "2019-01-01 00:00:00"
               ],
               [
                "2007-01-01 00:00:00",
                "2008-01-01 00:00:00",
                "2009-01-01 00:00:00",
                "2010-01-01 00:00:00",
                "2011-01-01 00:00:00",
                "2013-01-01 00:00:00",
                "2015-01-01 00:00:00",
                "2016-01-01 00:00:00",
                "2017-01-01 00:00:00",
                "2019-01-01 00:00:00"
               ],
               [
                "2007-01-01 00:00:00",
                "2008-01-01 00:00:00",
                "2009-01-01 00:00:00",
                "2010-01-01 00:00:00",
                "2011-01-01 00:00:00",
                "2013-01-01 00:00:00",
                "2015-01-01 00:00:00",
                "2016-01-01 00:00:00",
                "2017-01-01 00:00:00",
                "2019-01-01 00:00:00"
               ],
               [
                "2007-01-01 00:00:00",
                "2008-01-01 00:00:00",
                "2009-01-01 00:00:00",
                "2010-01-01 00:00:00",
                "2011-01-01 00:00:00",
                "2013-01-01 00:00:00",
                "2015-01-01 00:00:00",
                "2016-01-01 00:00:00",
                "2017-01-01 00:00:00",
                "2019-01-01 00:00:00"
               ],
               [
                "2007-01-01 00:00:00",
                "2008-01-01 00:00:00",
                "2009-01-01 00:00:00",
                "2010-01-01 00:00:00",
                "2011-01-01 00:00:00",
                "2013-01-01 00:00:00",
                "2015-01-01 00:00:00",
                "2016-01-01 00:00:00",
                "2017-01-01 00:00:00",
                "2019-01-01 00:00:00"
               ],
               [
                "2007-01-01 00:00:00",
                "2008-01-01 00:00:00",
                "2009-01-01 00:00:00",
                "2010-01-01 00:00:00",
                "2011-01-01 00:00:00",
                "2013-01-01 00:00:00",
                "2015-01-01 00:00:00",
                "2016-01-01 00:00:00",
                "2017-01-01 00:00:00",
                "2019-01-01 00:00:00"
               ],
               [
                "2007-01-01 00:00:00",
                "2008-01-01 00:00:00",
                "2009-01-01 00:00:00",
                "2010-01-01 00:00:00",
                "2011-01-01 00:00:00",
                "2013-01-01 00:00:00",
                "2017-01-01 00:00:00",
                "2019-01-01 00:00:00"
               ],
               [
                "2007-01-01 00:00:00",
                "2008-01-01 00:00:00",
                "2009-01-01 00:00:00",
                "2010-01-01 00:00:00",
                "2011-01-01 00:00:00",
                "2013-01-01 00:00:00",
                "2015-01-01 00:00:00",
                "2016-01-01 00:00:00",
                "2017-01-01 00:00:00",
                "2019-01-01 00:00:00"
               ],
               [
                "2007-01-01 00:00:00",
                "2008-01-01 00:00:00",
                "2009-01-01 00:00:00",
                "2010-01-01 00:00:00",
                "2011-01-01 00:00:00",
                "2013-01-01 00:00:00",
                "2015-01-01 00:00:00",
                "2016-01-01 00:00:00",
                "2017-01-01 00:00:00",
                "2019-01-01 00:00:00"
               ],
               [
                "2007-01-01 00:00:00",
                "2008-01-01 00:00:00",
                "2009-01-01 00:00:00",
                "2010-01-01 00:00:00",
                "2011-01-01 00:00:00",
                "2013-01-01 00:00:00",
                "2015-01-01 00:00:00",
                "2017-01-01 00:00:00",
                "2019-01-01 00:00:00"
               ],
               [
                "2007-01-01 00:00:00",
                "2008-01-01 00:00:00",
                "2009-01-01 00:00:00",
                "2010-01-01 00:00:00",
                "2011-01-01 00:00:00",
                "2013-01-01 00:00:00",
                "2015-01-01 00:00:00",
                "2016-01-01 00:00:00",
                "2017-01-01 00:00:00",
                "2019-01-01 00:00:00"
               ],
               [
                "2007-01-01 00:00:00",
                "2008-01-01 00:00:00",
                "2009-01-01 00:00:00",
                "2010-01-01 00:00:00",
                "2011-01-01 00:00:00",
                "2013-01-01 00:00:00",
                "2015-01-01 00:00:00",
                "2016-01-01 00:00:00",
                "2017-01-01 00:00:00",
                "2019-01-01 00:00:00"
               ],
               [
                "2007-01-01 00:00:00",
                "2008-01-01 00:00:00",
                "2009-01-01 00:00:00",
                "2010-01-01 00:00:00",
                "2011-01-01 00:00:00",
                "2013-01-01 00:00:00",
                "2015-01-01 00:00:00",
                "2016-01-01 00:00:00",
                "2017-01-01 00:00:00",
                "2019-01-01 00:00:00"
               ],
               [
                "2007-01-01 00:00:00",
                "2008-01-01 00:00:00",
                "2009-01-01 00:00:00",
                "2010-01-01 00:00:00",
                "2011-01-01 00:00:00",
                "2013-01-01 00:00:00",
                "2015-01-01 00:00:00",
                "2016-01-01 00:00:00",
                "2017-01-01 00:00:00",
                "2019-01-01 00:00:00"
               ],
               [
                "2007-01-01 00:00:00",
                "2008-01-01 00:00:00",
                "2009-01-01 00:00:00",
                "2010-01-01 00:00:00",
                "2011-01-01 00:00:00",
                "2013-01-01 00:00:00",
                "2015-01-01 00:00:00",
                "2016-01-01 00:00:00",
                "2017-01-01 00:00:00",
                "2019-01-01 00:00:00"
               ],
               [
                "2007-01-01 00:00:00",
                "2008-01-01 00:00:00",
                "2009-01-01 00:00:00",
                "2010-01-01 00:00:00",
                "2011-01-01 00:00:00",
                "2013-01-01 00:00:00",
                "2015-01-01 00:00:00",
                "2016-01-01 00:00:00",
                "2017-01-01 00:00:00",
                "2019-01-01 00:00:00"
               ],
               [
                "2007-01-01 00:00:00",
                "2008-01-01 00:00:00",
                "2009-01-01 00:00:00",
                "2010-01-01 00:00:00",
                "2011-01-01 00:00:00",
                "2013-01-01 00:00:00",
                "2015-01-01 00:00:00",
                "2016-01-01 00:00:00",
                "2017-01-01 00:00:00",
                "2019-01-01 00:00:00"
               ],
               [
                "2007-01-01 00:00:00",
                "2008-01-01 00:00:00",
                "2009-01-01 00:00:00",
                "2010-01-01 00:00:00",
                "2011-01-01 00:00:00",
                "2013-01-01 00:00:00",
                "2015-01-01 00:00:00",
                "2016-01-01 00:00:00",
                "2017-01-01 00:00:00",
                "2019-01-01 00:00:00"
               ],
               [
                "2007-01-01 00:00:00",
                "2008-01-01 00:00:00",
                "2009-01-01 00:00:00",
                "2010-01-01 00:00:00",
                "2011-01-01 00:00:00",
                "2015-01-01 00:00:00",
                "2016-01-01 00:00:00",
                "2017-01-01 00:00:00",
                "2019-01-01 00:00:00"
               ],
               [
                "2007-01-01 00:00:00",
                "2008-01-01 00:00:00",
                "2015-01-01 00:00:00",
                "2017-01-01 00:00:00",
                "2019-01-01 00:00:00"
               ],
               [
                "2007-01-01 00:00:00",
                "2008-01-01 00:00:00",
                "2009-01-01 00:00:00",
                "2010-01-01 00:00:00",
                "2011-01-01 00:00:00",
                "2013-01-01 00:00:00",
                "2015-01-01 00:00:00",
                "2016-01-01 00:00:00",
                "2019-01-01 00:00:00"
               ],
               [
                "2007-01-01 00:00:00",
                "2008-01-01 00:00:00",
                "2009-01-01 00:00:00",
                "2010-01-01 00:00:00",
                "2011-01-01 00:00:00",
                "2013-01-01 00:00:00",
                "2015-01-01 00:00:00",
                "2016-01-01 00:00:00",
                "2019-01-01 00:00:00"
               ],
               [
                "2007-01-01 00:00:00",
                "2008-01-01 00:00:00",
                "2009-01-01 00:00:00",
                "2010-01-01 00:00:00",
                "2011-01-01 00:00:00",
                "2013-01-01 00:00:00",
                "2015-01-01 00:00:00",
                "2016-01-01 00:00:00",
                "2019-01-01 00:00:00"
               ],
               [
                "2007-01-01 00:00:00",
                "2008-01-01 00:00:00",
                "2009-01-01 00:00:00",
                "2010-01-01 00:00:00",
                "2011-01-01 00:00:00",
                "2013-01-01 00:00:00",
                "2015-01-01 00:00:00",
                "2016-01-01 00:00:00",
                "2019-01-01 00:00:00"
               ],
               [
                "2007-01-01 00:00:00",
                "2008-01-01 00:00:00",
                "2009-01-01 00:00:00",
                "2010-01-01 00:00:00",
                "2011-01-01 00:00:00",
                "2013-01-01 00:00:00",
                "2015-01-01 00:00:00",
                "2016-01-01 00:00:00",
                "2019-01-01 00:00:00"
               ],
               [
                "2007-01-01 00:00:00",
                "2008-01-01 00:00:00",
                "2009-01-01 00:00:00",
                "2010-01-01 00:00:00",
                "2011-01-01 00:00:00",
                "2015-01-01 00:00:00",
                "2016-01-01 00:00:00",
                "2017-01-01 00:00:00",
                "2019-01-01 00:00:00"
               ],
               [
                "2007-01-01 00:00:00",
                "2008-01-01 00:00:00",
                "2009-01-01 00:00:00",
                "2010-01-01 00:00:00",
                "2011-01-01 00:00:00",
                "2015-01-01 00:00:00",
                "2016-01-01 00:00:00",
                "2017-01-01 00:00:00",
                "2019-01-01 00:00:00"
               ],
               [
                "2007-01-01 00:00:00",
                "2008-01-01 00:00:00",
                "2009-01-01 00:00:00",
                "2010-01-01 00:00:00",
                "2011-01-01 00:00:00",
                "2015-01-01 00:00:00",
                "2016-01-01 00:00:00",
                "2017-01-01 00:00:00",
                "2019-01-01 00:00:00"
               ],
               [
                "2007-01-01 00:00:00",
                "2008-01-01 00:00:00",
                "2009-01-01 00:00:00",
                "2010-01-01 00:00:00",
                "2011-01-01 00:00:00",
                "2015-01-01 00:00:00",
                "2016-01-01 00:00:00",
                "2017-01-01 00:00:00",
                "2019-01-01 00:00:00"
               ],
               []
              ],
              "y": [
               [
                0.067,
                0.053021000000000006,
                0.061438,
                0.064575,
                0.059284,
                0.05778200000000001,
                0.086526,
                "0.084024",
                0.11073699999999999,
                0.139466
               ],
               [
                0.022782,
                0.015449000000000001,
                0.018599,
                0.021103999999999998,
                0.044166000000000004,
                0.042109,
                0.051398,
                "0.054009",
                0.0498221,
                0.0564638
               ],
               [
                0.044795,
                0.05736599999999999,
                0.071638,
                0.079195,
                0.08680800000000001,
                0.091806,
                0.10573199999999999,
                "0.106948",
                0.124797,
                0.148391
               ],
               [
                0.127969,
                0.13877,
                0.13035,
                0.13658399999999998,
                0.141309,
                0.146739,
                0.129485,
                0.143218,
                0.158475,
                0.21204299999999998
               ],
               [
                0.019906999999999998,
                0.035526,
                0.036448,
                0.047006,
                0.048555,
                0.06436,
                0.049457,
                0.049895999999999996,
                0.059675,
                0.0750961
               ],
               [
                0.012912,
                0.012763,
                0.021582,
                0.013156000000000001,
                0.01807,
                0.049492,
                0.027957,
                0.052188,
                0.024557299999999997,
                0.050651800000000004
               ],
               [
                0.022705,
                0.024714,
                0.02358,
                0.030543,
                0.050383,
                0.042274,
                0.028541000000000004,
                0.037025,
                0.0403566,
                0.0559389
               ],
               [
                0.027732999999999997,
                0.0309,
                0.051056,
                0.052462,
                0.050336,
                0.04542,
                0.042045,
                0.046146,
                0.0442324,
                0.125364
               ],
               [
                0.088809,
                0.12558699999999998,
                0.098974,
                0.090963,
                0.10336300000000001,
                0.116448,
                0.197247,
                0.198213
               ],
               [
                0.024769,
                0.024433,
                0.032757,
                0.030513,
                0.042994,
                0.041986,
                0.041171,
                0.045092,
                0.0579744,
                0.0791153
               ],
               [
                0.012218999999999999,
                0.016911000000000002,
                0.013543000000000001,
                0.013281999999999999,
                0.029886000000000003,
                0.026226,
                0.027998000000000002,
                0.028484,
                0.032450599999999996,
                0.061639
               ],
               [
                0.037632,
                0.033339,
                0.044925,
                0.050363,
                0.072403,
                0.064447,
                0.07369099999999999,
                0.0864532,
                0.119131
               ],
               [
                0.016768,
                0.022963,
                0.031225,
                0.032066000000000004,
                0.038761000000000004,
                0.043919,
                0.039374,
                0.047746,
                0.053588699999999996,
                0.0713567
               ],
               [
                0.054949,
                0.042336,
                0.080751,
                0.07795099999999999,
                0.096785,
                0.10540699999999999,
                0.053907000000000004,
                0.066059,
                0.07048869999999999,
                0.07395399999999999
               ],
               [
                0.029588,
                0.0451,
                0.06448200000000001,
                0.054438,
                0.058751,
                0.08270599999999999,
                0.09693600000000001,
                0.093113,
                0.0934073,
                "0.102483"
               ],
               [
                0.055292999999999995,
                0.07915,
                0.065024,
                0.050210000000000005,
                0.048645999999999995,
                0.02925,
                0.038882,
                0.039069,
                0.0389704,
                "0.0441819"
               ],
               [
                0.033503,
                0.021566,
                0.036945,
                0.053828999999999995,
                0.057229999999999996,
                0.045239999999999995,
                0.046897,
                0.033974000000000004,
                0.0608707,
                "0.115179"
               ],
               [
                0.03435,
                0.03743,
                0.045170999999999996,
                0.048924,
                0.045235000000000004,
                0.066195,
                0.079579,
                0.09498200000000001,
                0.10347,
                "0.134656"
               ],
               [
                0.039399,
                0.06105599999999999,
                0.048813999999999996,
                0.052435,
                0.066097,
                0.10154500000000001,
                0.097815,
                0.11842899999999999,
                0.13864300000000002,
                "0.156636"
               ],
               [
                0.010659,
                0.018882,
                0.024469,
                0.01999,
                0.025268000000000002,
                0.026971,
                0.044315,
                0.039302,
                0.0461305,
                "0.0579451"
               ],
               [
                null,
                0.015203,
                0.013026,
                0.020668000000000002,
                0.024443,
                0.025988,
                0.037361,
                0.0383144,
                "0.0538081"
               ],
               [
                "0.026436",
                "0.03157",
                "0.057897",
                "0.0734655",
                0.0973782
               ],
               [
                0.010988,
                0.013687999999999999,
                0.032049,
                0.039131,
                0.050269,
                0.036535000000000005,
                0.041389999999999996,
                0.026468000000000002,
                0.030238099999999997
               ],
               [
                0.025608,
                0.029506,
                0.042109,
                0.06930599999999999,
                0.050183,
                0.062559,
                0.065026,
                0.080984,
                0.183083
               ],
               [
                0.019745,
                0.029257,
                0.032024000000000004,
                0.04117,
                0.051570000000000005,
                0.037919,
                0.031632,
                0.028612000000000002,
                0.054412300000000004
               ],
               [
                0.0053289999999999995,
                0.00965,
                0.009959,
                0.012824,
                0.01414,
                0.042373,
                0.029552,
                0.033176,
                0.050330900000000005
               ],
               [
                0.047556,
                0.05069,
                0.066414,
                0.065434,
                0.060342999999999994,
                0.09850199999999999,
                0.109626,
                0.12415699999999999,
                0.186881
               ],
               [
                0.011222,
                null,
                0.013255000000000001,
                0.020262,
                0.026204,
                0.040645999999999995,
                "0.041404",
                0.0473969,
                0.0804441
               ],
               [
                0.021621,
                0.027466,
                0.036925,
                0.04022,
                0.033317,
                0.064492,
                0.089056,
                0.07898089999999999,
                0.09327560000000001
               ],
               [
                0.006474,
                0.008254000000000001,
                0.008740000000000001,
                0.018719,
                0.020334,
                0.027395999999999997,
                "0.016946",
                0.019652700000000002,
                0.0230483
               ],
               [
                0.01396,
                0.010995,
                0.014028,
                0.011395,
                0.019675,
                0.030101,
                "0.033201",
                0.0445514,
                0.0567038
               ],
               []
              ]
             }
            ],
            "label": "Doing an online course",
            "method": "update"
           },
           {
            "args": [
             {
              "x": [
               [
                "2011-01-01 00:00:00",
                "2013-01-01 00:00:00",
                "2015-01-01 00:00:00",
                "2017-01-01 00:00:00",
                "2019-01-01 00:00:00"
               ],
               [
                "2011-01-01 00:00:00",
                "2013-01-01 00:00:00",
                "2015-01-01 00:00:00",
                "2017-01-01 00:00:00",
                "2019-01-01 00:00:00"
               ],
               [
                "2011-01-01 00:00:00",
                "2013-01-01 00:00:00",
                "2015-01-01 00:00:00",
                "2017-01-01 00:00:00",
                "2019-01-01 00:00:00"
               ],
               [
                "2011-01-01 00:00:00",
                "2013-01-01 00:00:00",
                "2015-01-01 00:00:00",
                "2017-01-01 00:00:00",
                "2019-01-01 00:00:00"
               ],
               [
                "2011-01-01 00:00:00",
                "2013-01-01 00:00:00",
                "2015-01-01 00:00:00",
                "2017-01-01 00:00:00",
                "2019-01-01 00:00:00"
               ],
               [
                "2011-01-01 00:00:00",
                "2013-01-01 00:00:00",
                "2015-01-01 00:00:00",
                "2017-01-01 00:00:00",
                "2019-01-01 00:00:00"
               ],
               [
                "2011-01-01 00:00:00",
                "2013-01-01 00:00:00",
                "2015-01-01 00:00:00",
                "2017-01-01 00:00:00",
                "2019-01-01 00:00:00"
               ],
               [
                "2011-01-01 00:00:00",
                "2013-01-01 00:00:00",
                "2015-01-01 00:00:00",
                "2017-01-01 00:00:00",
                "2019-01-01 00:00:00"
               ],
               [
                "2011-01-01 00:00:00",
                "2013-01-01 00:00:00",
                "2017-01-01 00:00:00",
                "2019-01-01 00:00:00"
               ],
               [
                "2011-01-01 00:00:00",
                "2013-01-01 00:00:00",
                "2015-01-01 00:00:00",
                "2017-01-01 00:00:00",
                "2019-01-01 00:00:00"
               ],
               [
                "2011-01-01 00:00:00",
                "2013-01-01 00:00:00",
                "2015-01-01 00:00:00",
                "2017-01-01 00:00:00",
                "2019-01-01 00:00:00"
               ],
               [
                "2011-01-01 00:00:00",
                "2013-01-01 00:00:00",
                "2015-01-01 00:00:00",
                "2017-01-01 00:00:00",
                "2019-01-01 00:00:00"
               ],
               [
                "2011-01-01 00:00:00",
                "2013-01-01 00:00:00",
                "2015-01-01 00:00:00",
                "2017-01-01 00:00:00",
                "2019-01-01 00:00:00"
               ],
               [
                "2011-01-01 00:00:00",
                "2013-01-01 00:00:00",
                "2015-01-01 00:00:00",
                "2017-01-01 00:00:00",
                "2019-01-01 00:00:00"
               ],
               [
                "2011-01-01 00:00:00",
                "2013-01-01 00:00:00",
                "2015-01-01 00:00:00",
                "2017-01-01 00:00:00",
                "2019-01-01 00:00:00"
               ],
               [
                "2011-01-01 00:00:00",
                "2013-01-01 00:00:00",
                "2015-01-01 00:00:00",
                "2017-01-01 00:00:00",
                "2019-01-01 00:00:00"
               ],
               [
                "2011-01-01 00:00:00",
                "2013-01-01 00:00:00",
                "2015-01-01 00:00:00",
                "2017-01-01 00:00:00",
                "2019-01-01 00:00:00"
               ],
               [
                "2011-01-01 00:00:00",
                "2013-01-01 00:00:00",
                "2015-01-01 00:00:00",
                "2017-01-01 00:00:00",
                "2019-01-01 00:00:00"
               ],
               [
                "2011-01-01 00:00:00",
                "2013-01-01 00:00:00",
                "2015-01-01 00:00:00",
                "2017-01-01 00:00:00",
                "2019-01-01 00:00:00"
               ],
               [
                "2011-01-01 00:00:00",
                "2013-01-01 00:00:00",
                "2015-01-01 00:00:00",
                "2019-01-01 00:00:00"
               ],
               [
                "2011-01-01 00:00:00",
                "2013-01-01 00:00:00",
                "2015-01-01 00:00:00",
                "2017-01-01 00:00:00",
                "2019-01-01 00:00:00"
               ],
               [
                "2015-01-01 00:00:00",
                "2017-01-01 00:00:00"
               ],
               [
                "2011-01-01 00:00:00",
                "2013-01-01 00:00:00",
                "2015-01-01 00:00:00",
                "2019-01-01 00:00:00"
               ],
               [
                "2011-01-01 00:00:00",
                "2013-01-01 00:00:00",
                "2015-01-01 00:00:00",
                "2019-01-01 00:00:00"
               ],
               [
                "2011-01-01 00:00:00",
                "2013-01-01 00:00:00",
                "2015-01-01 00:00:00",
                "2019-01-01 00:00:00"
               ],
               [
                "2011-01-01 00:00:00",
                "2013-01-01 00:00:00",
                "2015-01-01 00:00:00",
                "2019-01-01 00:00:00"
               ],
               [
                "2011-01-01 00:00:00",
                "2013-01-01 00:00:00",
                "2015-01-01 00:00:00",
                "2019-01-01 00:00:00"
               ],
               [
                "2011-01-01 00:00:00",
                "2015-01-01 00:00:00",
                "2017-01-01 00:00:00",
                "2019-01-01 00:00:00"
               ],
               [
                "2011-01-01 00:00:00",
                "2015-01-01 00:00:00",
                "2017-01-01 00:00:00",
                "2019-01-01 00:00:00"
               ],
               [
                "2011-01-01 00:00:00",
                "2015-01-01 00:00:00",
                "2017-01-01 00:00:00",
                "2019-01-01 00:00:00"
               ],
               [
                "2011-01-01 00:00:00",
                "2015-01-01 00:00:00",
                "2017-01-01 00:00:00",
                "2019-01-01 00:00:00"
               ],
               []
              ],
              "y": [
               [
                0.088147,
                0.064519,
                0.11316199999999998,
                0.0831717,
                0.259853
               ],
               [
                0.049427,
                0.05355700000000001,
                0.051224,
                0.036092599999999996,
                0.0289019
               ],
               [
                0.066981,
                0.099824,
                0.09764099999999999,
                0.112196,
                0.10885999999999998
               ],
               [
                0.12011400000000001,
                0.186866,
                0.145562,
                0.12884400000000001,
                0.149035
               ],
               [
                0.069605,
                0.1036,
                0.059807000000000006,
                0.0740734,
                0.0908164
               ],
               [
                0.062673,
                0.071153,
                0.086534,
                0.0732698,
                0.102719
               ],
               [
                0.033583,
                0.028551,
                0.024286000000000002,
                0.0333857,
                0.0500198
               ],
               [
                0.039606999999999996,
                0.034983999999999994,
                0.033109,
                0.0449788,
                0.06672410000000001
               ],
               [
                0.315715,
                0.25228,
                0.259908,
                0.263125
               ],
               [
                0.11168499999999999,
                0.10568,
                0.130717,
                0.121295,
                0.168241
               ],
               [
                0.043019999999999996,
                0.030593000000000002,
                0.048963,
                0.025503599999999998,
                0.0592965
               ],
               [
                0.116808,
                0.11495899999999999,
                0.132198,
                0.13517,
                0.149999
               ],
               [
                0.052173000000000004,
                0.064353,
                0.058528,
                0.0605349,
                0.066444
               ],
               [
                0.086368,
                0.061849,
                0.051346,
                0.089357,
                0.102188
               ],
               [
                0.13118,
                0.12921300000000002,
                0.176879,
                0.319941,
                "0.164333"
               ],
               [
                0.12046400000000002,
                0.042743,
                0.034907,
                0.0491092,
                "0.0622749"
               ],
               [
                0.10841400000000001,
                0.093718,
                0.122767,
                0.17363699999999999,
                "0.15504"
               ],
               [
                0.25561799999999996,
                0.069089,
                "0.067018",
                0.0939802,
                "0.0868145"
               ],
               [
                0.127327,
                0.095837,
                "0.08461",
                0.0938023,
                "0.117991"
               ],
               [
                0.08265700000000001,
                0.068752,
                "0.098798",
                "0.115682"
               ],
               [
                0.022471,
                0.021831,
                "0.024311",
                0.0417717,
                "0.0555772"
               ],
               [
                "0.075762",
                "0.085943"
               ],
               [
                0.026144999999999998,
                0.017641,
                "0.020661",
                0.030940600000000002
               ],
               [
                0.120597,
                0.13602,
                "0.119063",
                0.127683
               ],
               [
                0.053092999999999994,
                0.076046,
                "0.046516",
                0.0469783
               ],
               [
                0.020057,
                0.032744,
                "0.016967",
                0.0467539
               ],
               [
                0.06325599999999999,
                0.078321,
                "0.089996",
                0.153797
               ],
               [
                0.079664,
                0.07178999999999999,
                0.0664701,
                0.0934201
               ],
               [
                0.021668,
                0.048530000000000004,
                0.054817700000000004,
                0.052056399999999996
               ],
               [
                0.027176,
                0.029798,
                0.025973200000000002,
                0.0354381
               ],
               [
                0.018751,
                0.021069,
                0.020321900000000004,
                0.041719599999999996
               ],
               []
              ]
             }
            ],
            "label": "Taking part in on-line consultations or voting to define civic or political issues",
            "method": "update"
           },
           {
            "args": [
             {
              "x": [
               [
                "2008-01-01 00:00:00",
                "2009-01-01 00:00:00",
                "2010-01-01 00:00:00",
                "2011-01-01 00:00:00",
                "2012-01-01 00:00:00",
                "2013-01-01 00:00:00",
                "2014-01-01 00:00:00",
                "2015-01-01 00:00:00",
                "2016-01-01 00:00:00",
                "2017-01-01 00:00:00",
                "2019-01-01 00:00:00"
               ],
               [
                "2008-01-01 00:00:00",
                "2009-01-01 00:00:00",
                "2010-01-01 00:00:00",
                "2011-01-01 00:00:00",
                "2012-01-01 00:00:00",
                "2013-01-01 00:00:00",
                "2014-01-01 00:00:00",
                "2015-01-01 00:00:00",
                "2016-01-01 00:00:00",
                "2017-01-01 00:00:00",
                "2018-01-01 00:00:00",
                "2019-01-01 00:00:00"
               ],
               [
                "2008-01-01 00:00:00",
                "2009-01-01 00:00:00",
                "2010-01-01 00:00:00",
                "2011-01-01 00:00:00",
                "2012-01-01 00:00:00",
                "2013-01-01 00:00:00",
                "2014-01-01 00:00:00",
                "2015-01-01 00:00:00",
                "2016-01-01 00:00:00",
                "2017-01-01 00:00:00",
                "2019-01-01 00:00:00"
               ],
               [
                "2008-01-01 00:00:00",
                "2009-01-01 00:00:00",
                "2010-01-01 00:00:00",
                "2011-01-01 00:00:00",
                "2012-01-01 00:00:00",
                "2013-01-01 00:00:00",
                "2014-01-01 00:00:00",
                "2015-01-01 00:00:00",
                "2016-01-01 00:00:00",
                "2017-01-01 00:00:00",
                "2019-01-01 00:00:00"
               ],
               [
                "2008-01-01 00:00:00",
                "2009-01-01 00:00:00",
                "2010-01-01 00:00:00",
                "2011-01-01 00:00:00",
                "2012-01-01 00:00:00",
                "2013-01-01 00:00:00",
                "2014-01-01 00:00:00",
                "2015-01-01 00:00:00",
                "2016-01-01 00:00:00",
                "2017-01-01 00:00:00",
                "2019-01-01 00:00:00"
               ],
               [
                "2008-01-01 00:00:00",
                "2009-01-01 00:00:00",
                "2010-01-01 00:00:00",
                "2011-01-01 00:00:00",
                "2012-01-01 00:00:00",
                "2013-01-01 00:00:00",
                "2014-01-01 00:00:00",
                "2015-01-01 00:00:00",
                "2016-01-01 00:00:00",
                "2017-01-01 00:00:00",
                "2019-01-01 00:00:00"
               ],
               [
                "2008-01-01 00:00:00",
                "2009-01-01 00:00:00",
                "2010-01-01 00:00:00",
                "2011-01-01 00:00:00",
                "2012-01-01 00:00:00",
                "2013-01-01 00:00:00",
                "2014-01-01 00:00:00",
                "2015-01-01 00:00:00",
                "2016-01-01 00:00:00",
                "2017-01-01 00:00:00",
                "2019-01-01 00:00:00"
               ],
               [
                "2008-01-01 00:00:00",
                "2009-01-01 00:00:00",
                "2010-01-01 00:00:00",
                "2011-01-01 00:00:00",
                "2012-01-01 00:00:00",
                "2013-01-01 00:00:00",
                "2014-01-01 00:00:00",
                "2015-01-01 00:00:00",
                "2016-01-01 00:00:00",
                "2017-01-01 00:00:00",
                "2018-01-01 00:00:00",
                "2019-01-01 00:00:00"
               ],
               [
                "2008-01-01 00:00:00",
                "2009-01-01 00:00:00",
                "2010-01-01 00:00:00",
                "2011-01-01 00:00:00",
                "2012-01-01 00:00:00",
                "2013-01-01 00:00:00",
                "2014-01-01 00:00:00",
                "2017-01-01 00:00:00",
                "2018-01-01 00:00:00",
                "2019-01-01 00:00:00"
               ],
               [
                "2008-01-01 00:00:00",
                "2009-01-01 00:00:00",
                "2010-01-01 00:00:00",
                "2011-01-01 00:00:00",
                "2012-01-01 00:00:00",
                "2013-01-01 00:00:00",
                "2014-01-01 00:00:00",
                "2015-01-01 00:00:00",
                "2016-01-01 00:00:00",
                "2017-01-01 00:00:00",
                "2019-01-01 00:00:00"
               ],
               [
                "2008-01-01 00:00:00",
                "2009-01-01 00:00:00",
                "2010-01-01 00:00:00",
                "2011-01-01 00:00:00",
                "2012-01-01 00:00:00",
                "2013-01-01 00:00:00",
                "2014-01-01 00:00:00",
                "2015-01-01 00:00:00",
                "2016-01-01 00:00:00",
                "2017-01-01 00:00:00",
                "2019-01-01 00:00:00"
               ],
               [
                "2008-01-01 00:00:00",
                "2009-01-01 00:00:00",
                "2010-01-01 00:00:00",
                "2011-01-01 00:00:00",
                "2012-01-01 00:00:00",
                "2013-01-01 00:00:00",
                "2014-01-01 00:00:00",
                "2015-01-01 00:00:00",
                "2016-01-01 00:00:00",
                "2017-01-01 00:00:00",
                "2019-01-01 00:00:00"
               ],
               [
                "2008-01-01 00:00:00",
                "2009-01-01 00:00:00",
                "2010-01-01 00:00:00",
                "2011-01-01 00:00:00",
                "2012-01-01 00:00:00",
                "2013-01-01 00:00:00",
                "2014-01-01 00:00:00",
                "2015-01-01 00:00:00",
                "2016-01-01 00:00:00",
                "2017-01-01 00:00:00",
                "2018-01-01 00:00:00",
                "2019-01-01 00:00:00"
               ],
               [
                "2008-01-01 00:00:00",
                "2009-01-01 00:00:00",
                "2010-01-01 00:00:00",
                "2011-01-01 00:00:00",
                "2012-01-01 00:00:00",
                "2013-01-01 00:00:00",
                "2014-01-01 00:00:00",
                "2015-01-01 00:00:00",
                "2016-01-01 00:00:00",
                "2017-01-01 00:00:00",
                "2018-01-01 00:00:00",
                "2019-01-01 00:00:00"
               ],
               [
                "2008-01-01 00:00:00",
                "2009-01-01 00:00:00",
                "2010-01-01 00:00:00",
                "2011-01-01 00:00:00",
                "2012-01-01 00:00:00",
                "2013-01-01 00:00:00",
                "2014-01-01 00:00:00",
                "2015-01-01 00:00:00",
                "2016-01-01 00:00:00",
                "2017-01-01 00:00:00",
                "2019-01-01 00:00:00"
               ],
               [
                "2008-01-01 00:00:00",
                "2009-01-01 00:00:00",
                "2010-01-01 00:00:00",
                "2011-01-01 00:00:00",
                "2012-01-01 00:00:00",
                "2013-01-01 00:00:00",
                "2014-01-01 00:00:00",
                "2015-01-01 00:00:00",
                "2016-01-01 00:00:00",
                "2017-01-01 00:00:00",
                "2019-01-01 00:00:00"
               ],
               [
                "2008-01-01 00:00:00",
                "2009-01-01 00:00:00",
                "2010-01-01 00:00:00",
                "2011-01-01 00:00:00",
                "2012-01-01 00:00:00",
                "2013-01-01 00:00:00",
                "2014-01-01 00:00:00",
                "2015-01-01 00:00:00",
                "2016-01-01 00:00:00",
                "2017-01-01 00:00:00",
                "2019-01-01 00:00:00"
               ],
               [
                "2008-01-01 00:00:00",
                "2009-01-01 00:00:00",
                "2010-01-01 00:00:00",
                "2011-01-01 00:00:00",
                "2012-01-01 00:00:00",
                "2013-01-01 00:00:00",
                "2014-01-01 00:00:00",
                "2015-01-01 00:00:00",
                "2016-01-01 00:00:00",
                "2017-01-01 00:00:00",
                "2019-01-01 00:00:00"
               ],
               [
                "2008-01-01 00:00:00",
                "2009-01-01 00:00:00",
                "2010-01-01 00:00:00",
                "2011-01-01 00:00:00",
                "2012-01-01 00:00:00",
                "2013-01-01 00:00:00",
                "2014-01-01 00:00:00",
                "2015-01-01 00:00:00",
                "2016-01-01 00:00:00",
                "2017-01-01 00:00:00",
                "2019-01-01 00:00:00"
               ],
               [
                "2008-01-01 00:00:00",
                "2009-01-01 00:00:00",
                "2010-01-01 00:00:00",
                "2011-01-01 00:00:00",
                "2012-01-01 00:00:00",
                "2013-01-01 00:00:00",
                "2014-01-01 00:00:00",
                "2015-01-01 00:00:00",
                "2016-01-01 00:00:00",
                "2017-01-01 00:00:00",
                "2018-01-01 00:00:00",
                "2019-01-01 00:00:00"
               ],
               [
                "2008-01-01 00:00:00",
                "2009-01-01 00:00:00",
                "2010-01-01 00:00:00",
                "2011-01-01 00:00:00",
                "2012-01-01 00:00:00",
                "2013-01-01 00:00:00",
                "2014-01-01 00:00:00",
                "2015-01-01 00:00:00",
                "2016-01-01 00:00:00",
                "2017-01-01 00:00:00",
                "2018-01-01 00:00:00",
                "2019-01-01 00:00:00"
               ],
               [
                "2008-01-01 00:00:00",
                "2014-01-01 00:00:00",
                "2015-01-01 00:00:00",
                "2017-01-01 00:00:00",
                "2018-01-01 00:00:00"
               ],
               [
                "2008-01-01 00:00:00",
                "2009-01-01 00:00:00",
                "2010-01-01 00:00:00",
                "2011-01-01 00:00:00",
                "2012-01-01 00:00:00",
                "2013-01-01 00:00:00",
                "2014-01-01 00:00:00",
                "2015-01-01 00:00:00",
                "2016-01-01 00:00:00",
                "2018-01-01 00:00:00",
                "2019-01-01 00:00:00"
               ],
               [
                "2008-01-01 00:00:00",
                "2009-01-01 00:00:00",
                "2010-01-01 00:00:00",
                "2011-01-01 00:00:00",
                "2012-01-01 00:00:00",
                "2013-01-01 00:00:00",
                "2014-01-01 00:00:00",
                "2015-01-01 00:00:00",
                "2016-01-01 00:00:00",
                "2018-01-01 00:00:00",
                "2019-01-01 00:00:00"
               ],
               [
                "2008-01-01 00:00:00",
                "2009-01-01 00:00:00",
                "2010-01-01 00:00:00",
                "2011-01-01 00:00:00",
                "2012-01-01 00:00:00",
                "2013-01-01 00:00:00",
                "2014-01-01 00:00:00",
                "2015-01-01 00:00:00",
                "2016-01-01 00:00:00",
                "2018-01-01 00:00:00",
                "2019-01-01 00:00:00"
               ],
               [
                "2008-01-01 00:00:00",
                "2009-01-01 00:00:00",
                "2010-01-01 00:00:00",
                "2011-01-01 00:00:00",
                "2012-01-01 00:00:00",
                "2013-01-01 00:00:00",
                "2014-01-01 00:00:00",
                "2015-01-01 00:00:00",
                "2016-01-01 00:00:00",
                "2018-01-01 00:00:00",
                "2019-01-01 00:00:00"
               ],
               [
                "2008-01-01 00:00:00",
                "2009-01-01 00:00:00",
                "2010-01-01 00:00:00",
                "2011-01-01 00:00:00",
                "2012-01-01 00:00:00",
                "2013-01-01 00:00:00",
                "2014-01-01 00:00:00",
                "2015-01-01 00:00:00",
                "2016-01-01 00:00:00",
                "2018-01-01 00:00:00",
                "2019-01-01 00:00:00"
               ],
               [
                "2008-01-01 00:00:00",
                "2009-01-01 00:00:00",
                "2010-01-01 00:00:00",
                "2011-01-01 00:00:00",
                "2012-01-01 00:00:00",
                "2013-01-01 00:00:00",
                "2014-01-01 00:00:00",
                "2015-01-01 00:00:00",
                "2016-01-01 00:00:00",
                "2017-01-01 00:00:00",
                "2018-01-01 00:00:00",
                "2019-01-01 00:00:00"
               ],
               [
                "2008-01-01 00:00:00",
                "2009-01-01 00:00:00",
                "2010-01-01 00:00:00",
                "2011-01-01 00:00:00",
                "2012-01-01 00:00:00",
                "2013-01-01 00:00:00",
                "2014-01-01 00:00:00",
                "2015-01-01 00:00:00",
                "2016-01-01 00:00:00",
                "2017-01-01 00:00:00",
                "2018-01-01 00:00:00",
                "2019-01-01 00:00:00"
               ],
               [
                "2008-01-01 00:00:00",
                "2009-01-01 00:00:00",
                "2010-01-01 00:00:00",
                "2011-01-01 00:00:00",
                "2012-01-01 00:00:00",
                "2013-01-01 00:00:00",
                "2014-01-01 00:00:00",
                "2015-01-01 00:00:00",
                "2016-01-01 00:00:00",
                "2017-01-01 00:00:00",
                "2018-01-01 00:00:00",
                "2019-01-01 00:00:00"
               ],
               [
                "2008-01-01 00:00:00",
                "2009-01-01 00:00:00",
                "2010-01-01 00:00:00",
                "2011-01-01 00:00:00",
                "2012-01-01 00:00:00",
                "2013-01-01 00:00:00",
                "2014-01-01 00:00:00",
                "2015-01-01 00:00:00",
                "2016-01-01 00:00:00",
                "2017-01-01 00:00:00",
                "2018-01-01 00:00:00",
                "2019-01-01 00:00:00"
               ],
               []
              ],
              "y": [
               [
                0.370665,
                0.46370100000000003,
                0.50008,
                0.530416,
                0.543288,
                0.483925,
                0.5069819999999999,
                0.812796,
                "0.769263",
                0.779844,
                0.8001560000000001
               ],
               [
                0.127165,
                0.144002,
                0.15782000000000002,
                0.268268,
                0.342652,
                0.355891,
                0.45123100000000005,
                0.46402600000000005,
                "0.48889",
                0.47353100000000004,
                "0.497453",
                0.52094
               ],
               [
                0.312718,
                0.34063699999999997,
                0.38461100000000004,
                0.382742,
                0.43771899999999997,
                0.436921,
                0.48995200000000005,
                0.493762,
                "0.501407",
                0.523512,
                0.576411
               ],
               [
                0.624911,
                0.641994,
                0.675446,
                0.6803020000000001,
                0.695663,
                0.693485,
                0.801847,
                0.785669,
                0.816125,
                0.8296899999999999,
                0.8729540000000001
               ],
               [
                0.48100699999999996,
                0.473383,
                0.5726289999999999,
                0.568276,
                0.614384,
                0.602142,
                0.637656,
                0.6280180000000001,
                0.658601,
                0.679222,
                0.747242
               ],
               [
                0.15553599999999998,
                0.17047,
                0.194151,
                0.17396199999999998,
                0.257019,
                0.248504,
                0.319355,
                0.350672,
                0.36178299999999997,
                0.321956,
                0.330377
               ],
               [
                0.28129099999999996,
                0.302709,
                0.343199,
                0.37650900000000004,
                0.42277200000000004,
                0.371529,
                0.487166,
                0.42211800000000005,
                0.48208199999999995,
                0.471311,
                0.527943
               ],
               [
                0.34152899999999997,
                0.368435,
                0.368014,
                0.440597,
                0.49342600000000003,
                0.452347,
                0.5145430000000001,
                0.49805600000000005,
                0.517682,
                0.553407,
                "0.536824",
                0.610978
               ],
               [
                0.738116,
                0.804659,
                0.822732,
                0.840908,
                0.8561989999999999,
                0.814702,
                0.849874,
                0.852548,
                "0.905166",
                0.8922889999999999
               ],
               [
                0.44491499999999995,
                0.480858,
                0.499041,
                0.49992700000000007,
                0.5109560000000001,
                0.490787,
                0.5265880000000001,
                0.532704,
                0.545748,
                0.534724,
                0.5909770000000001
               ],
               [
                0.191215,
                0.2637,
                0.22898400000000002,
                0.42199,
                0.30759699999999995,
                0.29258,
                0.370786,
                0.323252,
                0.358952,
                0.45596000000000003,
                0.537766
               ],
               [
                0.494437,
                0.727164,
                0.783375,
                0.8081149999999999,
                0.8274,
                0.8526530000000001,
                0.8444209999999999,
                0.880819,
                0.883222,
                0.8921370000000001,
                0.916709
               ],
               [
                0.197981,
                0.20804099999999998,
                0.22699999999999998,
                0.221831,
                0.191174,
                0.206296,
                0.229819,
                0.23982699999999998,
                0.240994,
                0.245563,
                "0.242755",
                0.23408099999999998
               ],
               [
                0.224779,
                0.216244,
                0.24225700000000003,
                0.293506,
                0.359138,
                0.33603,
                0.41466899999999995,
                0.43704899999999997,
                0.44885,
                0.48401099999999997,
                "0.507818",
                0.547333
               ],
               [
                0.60344,
                0.6608930000000001,
                0.67409,
                0.602908,
                0.614494,
                0.561457,
                0.667844,
                0.7028979999999999,
                0.763877,
                0.751266,
                "0.60142"
               ],
               [
                0.20484000000000002,
                0.297215,
                0.39947699999999997,
                0.413095,
                0.472509,
                0.354071,
                0.535445,
                0.521303,
                0.6945100000000001,
                0.685064,
                "0.695723"
               ],
               [
                0.25305300000000003,
                0.337831,
                0.37390100000000004,
                0.37245300000000003,
                0.409114,
                0.317977,
                0.407008,
                0.42473900000000003,
                0.448085,
                0.45793,
                "0.50041"
               ],
               [
                0.605448,
                0.610297,
                0.636372,
                0.623413,
                0.6682020000000001,
                0.7851020000000001,
                0.753441,
                0.748851,
                0.760999,
                0.791155,
                "0.812052"
               ],
               [
                0.718648,
                0.7386020000000001,
                0.7646109999999999,
                0.777515,
                0.776914,
                0.761079,
                0.819428,
                0.8134359999999999,
                0.847174,
                0.84088,
                "0.867176"
               ],
               [
                0.185979,
                0.210995,
                0.260683,
                0.365108,
                0.38850300000000004,
                0.376645,
                0.413919,
                0.431119,
                0.446841,
                0.459838,
                0.41569300000000003,
                "0.409813"
               ],
               [
                0.21652800000000003,
                0.2465,
                0.28067,
                0.27560999999999997,
                0.31586,
                0.226458,
                0.26865500000000003,
                0.265679,
                0.302243,
                0.308139,
                0.354946,
                "0.404464"
               ],
               [
                "0.352213",
                "0.466918",
                "0.462128",
                "0.487962",
                0.522939
               ],
               [
                null,
                0.06962,
                0.083146,
                0.072153,
                0.307692,
                0.049303,
                0.101925,
                0.107725,
                0.090681,
                0.0934817,
                0.11651900000000001
               ],
               [
                0.588073,
                0.646139,
                0.6828390000000001,
                0.735588,
                0.782161,
                0.7811,
                0.810228,
                0.727713,
                0.7787970000000001,
                0.8322940000000001,
                0.8598040000000001
               ],
               [
                0.346219,
                0.35480900000000004,
                0.443351,
                0.45637,
                0.480541,
                0.515361,
                0.529371,
                0.452117,
                0.453564,
                0.5397529999999999,
                0.530449
               ],
               [
                0.395546,
                0.376274,
                0.504794,
                0.48226,
                0.423967,
                0.327176,
                0.570546,
                0.507173,
                0.479412,
                0.5127619999999999,
                0.589522
               ],
               [
                0.396043,
                0.479633,
                0.48143400000000003,
                0.396463,
                0.43264300000000006,
                0.409217,
                0.51364,
                0.49017299999999997,
                0.526177,
                0.590465,
                0.6299100000000001
               ],
               [
                0.512252,
                0.488515,
                0.510458,
                0.512893,
                0.528274,
                0.536259,
                0.58633,
                0.567484,
                "0.599848",
                0.619779,
                "0.661221",
                0.6973550000000001
               ],
               [
                0.262371,
                0.40623200000000004,
                0.452737,
                0.472516,
                0.497666,
                0.496119,
                0.5506310000000001,
                0.521393,
                0.549014,
                0.551383,
                "0.564484",
                0.58605
               ],
               [
                0.09969700000000001,
                0.114425,
                0.242429,
                0.254254,
                0.26642,
                0.225746,
                0.21017800000000003,
                0.17844300000000002,
                "0.185952",
                0.206679,
                "0.222473",
                0.254323
               ],
               [
                0.179347,
                0.244565,
                0.253919,
                0.291781,
                0.298636,
                0.30189499999999997,
                0.41448599999999997,
                0.336876,
                "0.383845",
                0.423034,
                "0.41661",
                0.502632
               ],
               []
              ]
             }
            ],
            "label": "Individuals interacting online with public authorities, last 12 months",
            "method": "update"
           },
           {
            "args": [
             {
              "x": [
               [
                "2016-01-01 00:00:00",
                "2017-01-01 00:00:00",
                "2019-01-01 00:00:00"
               ],
               [
                "2016-01-01 00:00:00",
                "2017-01-01 00:00:00",
                "2019-01-01 00:00:00"
               ],
               [
                "2016-01-01 00:00:00",
                "2017-01-01 00:00:00",
                "2019-01-01 00:00:00"
               ],
               [
                "2016-01-01 00:00:00",
                "2017-01-01 00:00:00",
                "2019-01-01 00:00:00"
               ],
               [
                "2016-01-01 00:00:00",
                "2017-01-01 00:00:00",
                "2019-01-01 00:00:00"
               ],
               [
                "2016-01-01 00:00:00",
                "2017-01-01 00:00:00",
                "2019-01-01 00:00:00"
               ],
               [
                "2016-01-01 00:00:00",
                "2017-01-01 00:00:00",
                "2019-01-01 00:00:00"
               ],
               [
                "2016-01-01 00:00:00",
                "2017-01-01 00:00:00",
                "2019-01-01 00:00:00"
               ],
               [
                "2017-01-01 00:00:00",
                "2019-01-01 00:00:00"
               ],
               [
                "2016-01-01 00:00:00",
                "2017-01-01 00:00:00",
                "2019-01-01 00:00:00"
               ],
               [
                "2016-01-01 00:00:00",
                "2017-01-01 00:00:00",
                "2019-01-01 00:00:00"
               ],
               [
                "2016-01-01 00:00:00",
                "2017-01-01 00:00:00",
                "2019-01-01 00:00:00"
               ],
               [
                "2016-01-01 00:00:00",
                "2019-01-01 00:00:00"
               ],
               [
                "2016-01-01 00:00:00",
                "2017-01-01 00:00:00",
                "2019-01-01 00:00:00"
               ],
               [
                "2016-01-01 00:00:00",
                "2017-01-01 00:00:00",
                "2019-01-01 00:00:00"
               ],
               [
                "2016-01-01 00:00:00",
                "2017-01-01 00:00:00",
                "2019-01-01 00:00:00"
               ],
               [
                "2016-01-01 00:00:00",
                "2017-01-01 00:00:00",
                "2019-01-01 00:00:00"
               ],
               [
                "2016-01-01 00:00:00",
                "2017-01-01 00:00:00",
                "2019-01-01 00:00:00"
               ],
               [
                "2016-01-01 00:00:00",
                "2017-01-01 00:00:00",
                "2019-01-01 00:00:00"
               ],
               [
                "2016-01-01 00:00:00",
                "2017-01-01 00:00:00",
                "2019-01-01 00:00:00"
               ],
               [
                "2016-01-01 00:00:00",
                "2017-01-01 00:00:00",
                "2019-01-01 00:00:00"
               ],
               [
                "2015-01-01 00:00:00",
                "2016-01-01 00:00:00",
                "2017-01-01 00:00:00",
                "2019-01-01 00:00:00"
               ],
               [
                "2016-01-01 00:00:00",
                "2017-01-01 00:00:00",
                "2019-01-01 00:00:00"
               ],
               [
                "2016-01-01 00:00:00",
                "2017-01-01 00:00:00",
                "2019-01-01 00:00:00"
               ],
               [
                "2016-01-01 00:00:00",
                "2017-01-01 00:00:00",
                "2019-01-01 00:00:00"
               ],
               [
                "2016-01-01 00:00:00",
                "2017-01-01 00:00:00",
                "2019-01-01 00:00:00"
               ],
               [
                "2016-01-01 00:00:00",
                "2017-01-01 00:00:00",
                "2019-01-01 00:00:00"
               ],
               [
                "2016-01-01 00:00:00",
                "2017-01-01 00:00:00",
                "2019-01-01 00:00:00"
               ],
               [
                "2016-01-01 00:00:00",
                "2017-01-01 00:00:00",
                "2019-01-01 00:00:00"
               ],
               [
                "2016-01-01 00:00:00",
                "2017-01-01 00:00:00",
                "2019-01-01 00:00:00"
               ],
               [
                "2016-01-01 00:00:00",
                "2017-01-01 00:00:00",
                "2019-01-01 00:00:00"
               ],
               []
              ],
              "y": [
               [
                0.610156,
                "0.614669",
                0.62459
               ],
               [
                0.533857,
                "0.521442",
                0.5590109999999999
               ],
               [
                0.564032,
                "0.57878",
                0.592823
               ],
               [
                0.7556430000000001,
                "0.761769",
                0.770457
               ],
               [
                0.589134,
                "0.602584",
                0.600563
               ],
               [
                0.584773,
                "0.440848",
                0.560195
               ],
               [
                0.541272,
                "0.520821",
                0.5062270000000001
               ],
               [
                0.459618,
                "0.494382",
                0.548449
               ],
               [
                0.8664290000000001,
                0.861841
               ],
               [
                0.6990850000000001,
                "0.701581",
                0.717547
               ],
               [
                0.566142,
                "0.624436",
                0.641662
               ],
               [
                0.788733,
                "0.723203",
                0.7036180000000001
               ],
               [
                0.48408900000000005,
                0.4536
               ],
               [
                0.541263,
                "0.569952",
                0.580262
               ],
               [
                0.8836510000000001,
                "0.871485",
                0.678475
               ],
               [
                0.519845,
                "0.489032",
                0.438928
               ],
               [
                0.519116,
                "0.572306",
                0.575014
               ],
               [
                0.777454,
                "0.804372",
                0.800646
               ],
               [
                0.755858,
                "0.781043",
                0.8306520000000001
               ],
               [
                0.519274,
                "0.546358",
                0.550091
               ],
               [
                0.471366,
                "0.488367",
                0.46089300000000005
               ],
               [
                0.586911,
                0.590808,
                0.5999760000000001,
                0.605709
               ],
               [
                0.29543200000000003,
                "0.315217",
                0.350749
               ],
               [
                0.6972010000000001,
                "0.782983",
                0.735274
               ],
               [
                0.571574,
                "0.569246",
                0.5864560000000001
               ],
               [
                0.57168,
                "0.628726",
                0.5556399999999999
               ],
               [
                0.707681,
                "0.729189",
                0.754836
               ],
               [
                0.689934,
                "0.71131",
                0.685025
               ],
               [
                0.640506,
                "0.630079",
                0.622441
               ],
               [
                0.283144,
                "0.309284",
                0.308958
               ],
               [
                0.46352299999999996,
                "0.543614",
                0.46289300000000005
               ],
               []
              ]
             }
            ],
            "label": "Individuals with at least basic digital skills in Software domain",
            "method": "update"
           },
           {
            "args": [
             {
              "x": [
               [
                "2006-01-01 00:00:00",
                "2007-01-01 00:00:00",
                "2011-01-01 00:00:00"
               ],
               [
                "2005-01-01 00:00:00",
                "2006-01-01 00:00:00",
                "2007-01-01 00:00:00",
                "2011-01-01 00:00:00"
               ],
               [
                "2006-01-01 00:00:00",
                "2007-01-01 00:00:00",
                "2011-01-01 00:00:00"
               ],
               [
                "2005-01-01 00:00:00",
                "2006-01-01 00:00:00",
                "2007-01-01 00:00:00",
                "2011-01-01 00:00:00"
               ],
               [
                "2006-01-01 00:00:00",
                "2007-01-01 00:00:00",
                "2011-01-01 00:00:00"
               ],
               [
                "2007-01-01 00:00:00",
                "2011-01-01 00:00:00"
               ],
               [
                "2005-01-01 00:00:00",
                "2006-01-01 00:00:00",
                "2007-01-01 00:00:00",
                "2011-01-01 00:00:00"
               ],
               [
                "2006-01-01 00:00:00",
                "2007-01-01 00:00:00",
                "2011-01-01 00:00:00"
               ],
               [
                "2005-01-01 00:00:00",
                "2006-01-01 00:00:00",
                "2007-01-01 00:00:00",
                "2011-01-01 00:00:00"
               ],
               [
                "2005-01-01 00:00:00",
                "2006-01-01 00:00:00",
                "2007-01-01 00:00:00",
                "2011-01-01 00:00:00"
               ],
               [
                "2006-01-01 00:00:00",
                "2007-01-01 00:00:00",
                "2011-01-01 00:00:00"
               ],
               [
                "2006-01-01 00:00:00",
                "2007-01-01 00:00:00",
                "2011-01-01 00:00:00"
               ],
               [
                "2005-01-01 00:00:00",
                "2006-01-01 00:00:00",
                "2007-01-01 00:00:00",
                "2011-01-01 00:00:00"
               ],
               [
                "2005-01-01 00:00:00",
                "2006-01-01 00:00:00",
                "2007-01-01 00:00:00",
                "2011-01-01 00:00:00"
               ],
               [
                "2005-01-01 00:00:00",
                "2006-01-01 00:00:00",
                "2007-01-01 00:00:00",
                "2011-01-01 00:00:00"
               ],
               [
                "2005-01-01 00:00:00",
                "2006-01-01 00:00:00",
                "2007-01-01 00:00:00",
                "2011-01-01 00:00:00"
               ],
               [
                "2005-01-01 00:00:00",
                "2006-01-01 00:00:00",
                "2007-01-01 00:00:00",
                "2011-01-01 00:00:00"
               ],
               [
                "2005-01-01 00:00:00",
                "2006-01-01 00:00:00",
                "2007-01-01 00:00:00",
                "2011-01-01 00:00:00"
               ],
               [
                "2005-01-01 00:00:00",
                "2006-01-01 00:00:00",
                "2007-01-01 00:00:00",
                "2011-01-01 00:00:00"
               ],
               [
                "2005-01-01 00:00:00",
                "2006-01-01 00:00:00",
                "2007-01-01 00:00:00",
                "2011-01-01 00:00:00"
               ],
               [
                "2005-01-01 00:00:00",
                "2006-01-01 00:00:00",
                "2007-01-01 00:00:00",
                "2011-01-01 00:00:00"
               ],
               [
                "2005-01-01 00:00:00",
                "2006-01-01 00:00:00",
                "2007-01-01 00:00:00"
               ],
               [
                "2006-01-01 00:00:00",
                "2007-01-01 00:00:00",
                "2011-01-01 00:00:00"
               ],
               [
                "2005-01-01 00:00:00",
                "2006-01-01 00:00:00",
                "2007-01-01 00:00:00",
                "2011-01-01 00:00:00"
               ],
               [
                "2005-01-01 00:00:00",
                "2006-01-01 00:00:00",
                "2007-01-01 00:00:00",
                "2011-01-01 00:00:00"
               ],
               [
                "2005-01-01 00:00:00",
                "2006-01-01 00:00:00",
                "2007-01-01 00:00:00",
                "2011-01-01 00:00:00"
               ],
               [],
               [
                "2006-01-01 00:00:00",
                "2007-01-01 00:00:00",
                "2011-01-01 00:00:00"
               ],
               [
                "2006-01-01 00:00:00",
                "2007-01-01 00:00:00",
                "2011-01-01 00:00:00"
               ],
               [
                "2006-01-01 00:00:00",
                "2007-01-01 00:00:00",
                "2011-01-01 00:00:00"
               ],
               [
                "2005-01-01 00:00:00",
                "2006-01-01 00:00:00",
                "2007-01-01 00:00:00",
                "2011-01-01 00:00:00"
               ],
               []
              ],
              "y": [
               [
                0.276042,
                0.295049,
                0.356842
               ],
               [
                0.144763,
                0.169177,
                0.166417,
                0.218389
               ],
               [
                0.186796,
                0.198708,
                0.204557
               ],
               [
                0.294498,
                0.250678,
                0.265477,
                0.387477
               ],
               [
                0.18010299999999999,
                0.22042899999999999,
                0.320361
               ],
               [
                0.13231099999999998,
                0.208983
               ],
               [
                0.192856,
                0.24380100000000002,
                0.261847,
                0.30556300000000003
               ],
               [
                0.25374800000000003,
                0.236422,
                0.272063
               ],
               [
                0.342985,
                0.367001,
                0.44511000000000006,
                0.505326
               ],
               [
                0.221676,
                0.274077,
                0.271307,
                0.284507
               ],
               [
                0.207771,
                0.223706,
                0.308136
               ],
               [
                0.266845,
                0.26411799999999996,
                0.318037
               ],
               [
                0.11490299999999999,
                0.121959,
                0.138561,
                0.16101300000000002
               ],
               [
                0.215656,
                0.25804,
                0.278383,
                0.33360700000000004
               ],
               [
                0.262701,
                0.252913,
                0.26777,
                0.34886999999999996
               ],
               [
                0.234737,
                0.24041500000000002,
                0.29383200000000004,
                0.33839400000000003
               ],
               [
                0.16280899999999998,
                0.177398,
                0.186832,
                0.276472
               ],
               [
                0.17745999999999998,
                0.182516,
                0.15975599999999998,
                0.261457
               ],
               [
                0.26758899999999997,
                0.248092,
                0.219241,
                0.197829
               ],
               [
                0.165123,
                0.180861,
                0.21655100000000002,
                0.252716
               ],
               [
                0.23409899999999997,
                0.24201399999999998,
                0.245508,
                0.294527
               ],
               [
                "0.204024",
                "0.208426",
                "0.219727"
               ],
               [
                0.1279,
                0.134037,
                0.168722
               ],
               [
                0.225268,
                0.218651,
                0.32266,
                0.39973600000000004
               ],
               [
                0.244114,
                0.27166999999999997,
                0.280064,
                0.309167
               ],
               [
                0.24186,
                0.255981,
                0.274595,
                0.38582
               ],
               [],
               [
                0.2202,
                0.251922,
                0.320369
               ],
               [
                0.190198,
                0.201752,
                0.317364
               ],
               [
                0.156396,
                0.137888,
                0.196858
               ],
               [
                0.258818,
                0.251155,
                0.252772,
                0.360653
               ],
               []
              ]
             }
            ],
            "label": "Individuals who have obtained ICT skills through formal educational institutions",
            "method": "update"
           },
           {
            "args": [
             {
              "x": [
               [
                "2015-01-01 00:00:00",
                "2019-01-01 00:00:00"
               ],
               [
                "2015-01-01 00:00:00",
                "2019-01-01 00:00:00"
               ],
               [
                "2015-01-01 00:00:00",
                "2019-01-01 00:00:00"
               ],
               [
                "2015-01-01 00:00:00",
                "2019-01-01 00:00:00"
               ],
               [
                "2015-01-01 00:00:00",
                "2019-01-01 00:00:00"
               ],
               [
                "2015-01-01 00:00:00",
                "2019-01-01 00:00:00"
               ],
               [
                "2015-01-01 00:00:00",
                "2019-01-01 00:00:00"
               ],
               [
                "2015-01-01 00:00:00",
                "2019-01-01 00:00:00"
               ],
               [
                "2019-01-01 00:00:00"
               ],
               [
                "2015-01-01 00:00:00",
                "2019-01-01 00:00:00"
               ],
               [
                "2015-01-01 00:00:00",
                "2019-01-01 00:00:00"
               ],
               [
                "2015-01-01 00:00:00",
                "2019-01-01 00:00:00"
               ],
               [
                "2015-01-01 00:00:00",
                "2019-01-01 00:00:00"
               ],
               [
                "2015-01-01 00:00:00",
                "2019-01-01 00:00:00"
               ],
               [
                "2015-01-01 00:00:00",
                "2019-01-01 00:00:00"
               ],
               [
                "2015-01-01 00:00:00",
                "2019-01-01 00:00:00"
               ],
               [
                "2015-01-01 00:00:00",
                "2019-01-01 00:00:00"
               ],
               [
                "2015-01-01 00:00:00",
                "2019-01-01 00:00:00"
               ],
               [
                "2015-01-01 00:00:00",
                "2019-01-01 00:00:00"
               ],
               [
                "2015-01-01 00:00:00",
                "2019-01-01 00:00:00"
               ],
               [
                "2015-01-01 00:00:00",
                "2019-01-01 00:00:00"
               ],
               [
                "2015-01-01 00:00:00"
               ],
               [
                "2015-01-01 00:00:00",
                "2019-01-01 00:00:00"
               ],
               [
                "2015-01-01 00:00:00",
                "2019-01-01 00:00:00"
               ],
               [
                "2015-01-01 00:00:00",
                "2019-01-01 00:00:00"
               ],
               [
                "2015-01-01 00:00:00",
                "2019-01-01 00:00:00"
               ],
               [
                "2010-01-01 00:00:00",
                "2015-01-01 00:00:00",
                "2019-01-01 00:00:00"
               ],
               [
                "2015-01-01 00:00:00",
                "2019-01-01 00:00:00"
               ],
               [
                "2015-01-01 00:00:00",
                "2019-01-01 00:00:00"
               ],
               [
                "2015-01-01 00:00:00",
                "2019-01-01 00:00:00"
               ],
               [
                "2015-01-01 00:00:00",
                "2019-01-01 00:00:00"
               ],
               []
              ],
              "y": [
               [
                "0.230141",
                0.0270635
               ],
               [
                "0.168032",
                0.0238114
               ],
               [
                "0.195582",
                0.0243531
               ],
               [
                "0.131963",
                0.023800799999999997
               ],
               [
                "0.2532",
                0.0280907
               ],
               [
                "0.292861",
                0.047925999999999996
               ],
               [
                "0.270553",
                0.0927798
               ],
               [
                "0.09191",
                0.016016
               ],
               [
                0.03695
               ],
               [
                "0.125231",
                0.0112221
               ],
               [
                "0.067358",
                0.030529400000000005
               ],
               [
                "0.223972",
                0.018010400000000003
               ],
               [
                "0.164166",
                0.017752200000000003
               ],
               [
                "0.138754",
                0.00642968
               ],
               [
                "0.224519",
                "0.0535483"
               ],
               [
                "0.133776",
                "0.00744872"
               ],
               [
                "0.221831",
                "0.0402856"
               ],
               [
                "0.055746",
                "0.0148249"
               ],
               [
                "0.123567",
                "0.0205497"
               ],
               [
                "0.232399",
                "0.0291346"
               ],
               [
                "0.171941",
                "0.00708158"
               ],
               [
                "0.169417"
               ],
               [
                null,
                null
               ],
               [
                "0.172584",
                0.022794400000000003
               ],
               [
                "0.119123",
                0.0131983
               ],
               [
                "0.073443",
                0.06272219999999999
               ],
               [
                "0.264997",
                "0.16221",
                0.0200288
               ],
               [
                "0.122514",
                0.00634738
               ],
               [
                "0.169496",
                0.0124195
               ],
               [
                "0.166204",
                0.039700400000000004
               ],
               [
                "0.103476",
                0.00443022
               ],
               []
              ]
             }
            ],
            "label": "Individuals caught a virus or other computer infection resulting in loss of information or time",
            "method": "update"
           },
           {
            "args": [
             {
              "x": [
               [
                "2015-01-01 00:00:00",
                "2019-01-01 00:00:00"
               ],
               [
                "2015-01-01 00:00:00",
                "2019-01-01 00:00:00"
               ],
               [
                "2015-01-01 00:00:00",
                "2019-01-01 00:00:00"
               ],
               [
                "2015-01-01 00:00:00",
                "2019-01-01 00:00:00"
               ],
               [
                "2015-01-01 00:00:00",
                "2019-01-01 00:00:00"
               ],
               [
                "2015-01-01 00:00:00",
                "2019-01-01 00:00:00"
               ],
               [
                "2015-01-01 00:00:00",
                "2019-01-01 00:00:00"
               ],
               [
                "2015-01-01 00:00:00",
                "2019-01-01 00:00:00"
               ],
               [
                "2019-01-01 00:00:00"
               ],
               [
                "2015-01-01 00:00:00",
                "2019-01-01 00:00:00"
               ],
               [
                "2015-01-01 00:00:00",
                "2019-01-01 00:00:00"
               ],
               [
                "2015-01-01 00:00:00",
                "2019-01-01 00:00:00"
               ],
               [
                "2015-01-01 00:00:00",
                "2019-01-01 00:00:00"
               ],
               [
                "2015-01-01 00:00:00",
                "2019-01-01 00:00:00"
               ],
               [
                "2015-01-01 00:00:00",
                "2019-01-01 00:00:00"
               ],
               [
                "2015-01-01 00:00:00",
                "2019-01-01 00:00:00"
               ],
               [
                "2015-01-01 00:00:00",
                "2019-01-01 00:00:00"
               ],
               [
                "2015-01-01 00:00:00",
                "2019-01-01 00:00:00"
               ],
               [
                "2015-01-01 00:00:00",
                "2019-01-01 00:00:00"
               ],
               [
                "2015-01-01 00:00:00",
                "2019-01-01 00:00:00"
               ],
               [
                "2015-01-01 00:00:00",
                "2019-01-01 00:00:00"
               ],
               [
                "2015-01-01 00:00:00"
               ],
               [
                "2015-01-01 00:00:00",
                "2019-01-01 00:00:00"
               ],
               [
                "2015-01-01 00:00:00",
                "2019-01-01 00:00:00"
               ],
               [
                "2015-01-01 00:00:00",
                "2019-01-01 00:00:00"
               ],
               [
                "2015-01-01 00:00:00",
                "2019-01-01 00:00:00"
               ],
               [
                "2010-01-01 00:00:00",
                "2015-01-01 00:00:00",
                "2019-01-01 00:00:00"
               ],
               [
                "2015-01-01 00:00:00",
                "2019-01-01 00:00:00"
               ],
               [
                "2015-01-01 00:00:00",
                "2019-01-01 00:00:00"
               ],
               [
                "2015-01-01 00:00:00",
                "2019-01-01 00:00:00"
               ],
               [
                "2015-01-01 00:00:00",
                "2019-01-01 00:00:00"
               ],
               []
              ],
              "y": [
               [
                "0.158046",
                0.187203
               ],
               [
                "0.104791",
                0.0929778
               ],
               [
                "0.220093",
                0.23771799999999998
               ],
               [
                "0.244474",
                0.247396
               ],
               [
                "0.255388",
                0.300576
               ],
               [
                "0.100814",
                0.063552
               ],
               [
                "0.086898",
                0.0803687
               ],
               [
                "0.109332",
                0.156049
               ],
               [
                0.249042
               ],
               [
                "0.093107",
                0.133794
               ],
               [
                "0.042719",
                0.113774
               ],
               [
                "0.214573",
                0.15198499999999998
               ],
               [
                "0.168364",
                0.107228
               ],
               [
                "0.045773",
                0.058068100000000004
               ],
               [
                "0.155967",
                "0.0751069"
               ],
               [
                "0.221613",
                "0.0867558"
               ],
               [
                "0.192341",
                "0.190783"
               ],
               [
                "0.19343",
                "0.205497"
               ],
               [
                "0.264799",
                "0.187163"
               ],
               [
                "0.207015",
                "0.197836"
               ],
               [
                "0.046941",
                "0.0709998"
               ],
               [
                "0.153343"
               ],
               [
                "0.21877",
                0.08994400000000001
               ],
               [
                "0.312205",
                0.250566
               ],
               [
                "0.17897",
                0.212452
               ],
               [
                "0.073567",
                0.134799
               ],
               [
                "0.138796",
                "0.106071",
                0.12498800000000002
               ],
               [
                "0.157188",
                0.19689700000000002
               ],
               [
                "0.175611",
                0.147035
               ],
               [
                "0.111714",
                0.0285931
               ],
               [
                "0.06836",
                0.172079
               ],
               []
              ]
             }
            ],
            "label": "Security concerns kept individual from ordering or buying goods or services for private use",
            "method": "update"
           }
          ],
          "showactive": true,
          "x": 1.1,
          "xanchor": "right",
          "y": 1.17,
          "yanchor": "top"
         }
        ],
        "width": 1200,
        "xaxis": {
         "title": {
          "text": "Year"
         }
        },
        "yaxis": {
         "title": {
          "text": "Percentage"
         }
        }
       }
      }
     },
     "metadata": {}
    }
   ],
   "source": [
    "countries_list = [country for country in countries_mapping.values()]\n",
    "\n",
    "# Get the x,y data of all the countries given a label\n",
    "def get_data(label):\n",
    "    x_data = []\n",
    "    y_data = []\n",
    "    for country in countries_list:\n",
    "        data = key_indicators.loc[(key_indicators['indicator'] == label) & (key_indicators['ref_area'] == country)]\n",
    "        # Check if there are multiple breakdowns: if so, keep only the 'total' one\n",
    "        if len(data['breakdown'].unique()) > 1:\n",
    "            if len(data['unit_measure'].unique()) > 1:\n",
    "                data = data.loc[(data['breakdown'].str.contains('total')) & (data['unit_measure'] == 'pc_ind')]\n",
    "            else:\n",
    "                data = data.loc[(data['breakdown'].str.contains('total'))]\n",
    "        data = data.sort_values('time_period')\n",
    "        x_data.append(list(data['time_period']))\n",
    "        y_data.append(list(data['value']))\n",
    "    return x_data, y_data\n",
    "\n",
    "current_indicator = labels[0]\n",
    "\n",
    "# Build Figure\n",
    "fig = go.FigureWidget()\n",
    "palette = generate_rgb_colors() # Obtain n different hex colors, where n is the number of countries\n",
    "\n",
    "for index, country in enumerate(countries_list):\n",
    "    current_data = key_indicators.loc[(key_indicators['indicator'] == current_indicator) & (key_indicators['ref_area'] == country)]\n",
    "    # Check if there are multiple breakdowns: if so, keep only the 'total' one\n",
    "    if len(current_data['breakdown'].unique()) > 1:\n",
    "        current_data = current_data.loc[current_data['breakdown'].str.contains('total')]\n",
    "    current_data = current_data.sort_values('time_period')\n",
    "    if (country == 'Italy') or (country == 'Europe'):\n",
    "        visible = True\n",
    "    else:\n",
    "        visible = 'legendonly'\n",
    "    fig.add_trace(go.Scatter(\n",
    "        x=list(current_data['time_period']),\n",
    "        y=list(current_data['value']),\n",
    "        name=country,\n",
    "        visible=visible,\n",
    "        mode='lines+markers+text',\n",
    "        textposition='bottom center',\n",
    "        text=country,\n",
    "        line=dict(color='rgb' + str(palette[index]), shape='spline', smoothing=1.0)))\n",
    "\n",
    "# Create one button for each label\n",
    "buttons = []\n",
    "for index, label in enumerate(labels):\n",
    "    x_data, y_data = get_data(label)\n",
    "    btn = dict(label=label, method='update', args=[{'x': x_data, 'y': y_data}])\n",
    "    buttons.append(btn)\n",
    "\n",
    "\n",
    "fig.update_layout(width=1200, height=600, title='Select an indicator and compare countries',\n",
    "                  xaxis_title='Year',\n",
    "                  yaxis_title='Percentage',\n",
    "                  legend_title_text='Countries',\n",
    "                  showlegend=True,\n",
    "                  updatemenus=[\n",
    "                    dict(active=0, buttons=buttons, xanchor='right', yanchor='top', showactive=True, x=1.1, y=1.17)\n",
    "                  ])\n",
    "\n",
    "fig.show()"
   ]
  },
  {
   "cell_type": "code",
   "execution_count": 37,
   "metadata": {},
   "outputs": [],
   "source": [
    "fig.write_html(\"time_series.html\")"
   ]
  }
 ],
 "metadata": {
  "kernelspec": {
   "display_name": "Python 3",
   "language": "python",
   "name": "python3"
  },
  "language_info": {
   "codemirror_mode": {
    "name": "ipython",
    "version": 3
   },
   "file_extension": ".py",
   "mimetype": "text/x-python",
   "name": "python",
   "nbconvert_exporter": "python",
   "pygments_lexer": "ipython3",
   "version": "3.6.9-final"
  },
  "widgets": {
   "application/vnd.jupyter.widget-state+json": {
    "state": {
     "01eab46ad0c440789e46e3f06f312993": {
      "model_module": "@jupyter-widgets/controls",
      "model_module_version": "1.5.0",
      "model_name": "DescriptionStyleModel",
      "state": {
       "description_width": ""
      }
     },
     "27a2286233a54d85bdc4016f7cb0ab7c": {
      "model_module": "@jupyter-widgets/controls",
      "model_module_version": "1.5.0",
      "model_name": "VBoxModel",
      "state": {
       "children": [
        "IPY_MODEL_34bcef4ff1e447478f14a77e59682795",
        "IPY_MODEL_4374687d020c4475867f705261718bf4"
       ],
       "layout": "IPY_MODEL_f1cd3bd5c5224a8db0629a91c4c9663f"
      }
     },
     "283112ed666f4477b28e11174621c31b": {
      "model_module": "@jupyter-widgets/controls",
      "model_module_version": "1.5.0",
      "model_name": "VBoxModel",
      "state": {
       "children": [
        "IPY_MODEL_4ae274f288654d6694686c23e1641384",
        "IPY_MODEL_c28c9bbdd22a489b88564f4e0de2da00"
       ],
       "layout": "IPY_MODEL_95b357ab4ac54acda413ed5668c51e06"
      }
     },
     "2fb7a337541b4eecbade4b76e5c5040d": {
      "model_module": "@jupyter-widgets/base",
      "model_module_version": "1.2.0",
      "model_name": "LayoutModel",
      "state": {}
     },
     "34bcef4ff1e447478f14a77e59682795": {
      "model_module": "@jupyter-widgets/controls",
      "model_module_version": "1.5.0",
      "model_name": "HTMLModel",
      "state": {
       "layout": "IPY_MODEL_7f3427ba8b674be7a044174652283678",
       "style": "IPY_MODEL_5c7e3bc827a74a8fb5195ac129db6df2",
       "value": "<h1>See the evolution of an indicator and compare countries</h1>"
      }
     },
     "35dc2f2ffd4843d0baa99759d7be5407": {
      "model_module": "@jupyter-widgets/base",
      "model_module_version": "1.2.0",
      "model_name": "LayoutModel",
      "state": {}
     },
     "379da9059597437c8b1185bc908eb709": {
      "model_module": "@jupyter-widgets/controls",
      "model_module_version": "1.5.0",
      "model_name": "DescriptionStyleModel",
      "state": {
       "description_width": ""
      }
     },
     "39490bbc84e14c8bbcb8bbf6f59a58eb": {
      "model_module": "@jupyter-widgets/controls",
      "model_module_version": "1.5.0",
      "model_name": "HTMLModel",
      "state": {
       "layout": "IPY_MODEL_cb33fa6c0fe34ad18fa6db4d779da639",
       "style": "IPY_MODEL_51c5b31aea0e4593a0a96ff361ef5d1b",
       "value": "<h1>See the evolution of an indicator and compare countries</h1>"
      }
     },
     "3b3a541a752c49d4997a692f99524cdb": {
      "model_module": "@jupyter-widgets/output",
      "model_module_version": "1.0.0",
      "model_name": "OutputModel",
      "state": {
       "layout": "IPY_MODEL_80484455650a4a43a66d21d3f3472f04"
      }
     },
     "429b95f7cb50413eb2faae14aac2ba7e": {
      "model_module": "@jupyter-widgets/controls",
      "model_module_version": "1.5.0",
      "model_name": "LabelModel",
      "state": {
       "layout": "IPY_MODEL_ee18c6e29d4a48b8b0e9f3bcfdeace53",
       "style": "IPY_MODEL_e5a3e483fde545adbf8b3c74bf17222e",
       "value": "Indicator group:"
      }
     },
     "4373b138e1c143fa84393c4b40b0dacc": {
      "model_module": "@jupyter-widgets/controls",
      "model_module_version": "1.5.0",
      "model_name": "DropdownModel",
      "state": {
       "_options_labels": [
        "Share of fixed broadband subscriptions >= 100 Mbps",
        "Households with no access to Internet at home, because the costs are too high"
       ],
       "index": 0,
       "layout": "IPY_MODEL_7033f79a6f9145408c9976a6868a349e",
       "style": "IPY_MODEL_7179226a49ca41c28a297335eda8ed1a"
      }
     },
     "4374687d020c4475867f705261718bf4": {
      "model_module": "@jupyter-widgets/controls",
      "model_module_version": "1.5.0",
      "model_name": "HTMLModel",
      "state": {
       "layout": "IPY_MODEL_8236b2d422d94a389aa606760585f065",
       "style": "IPY_MODEL_567d05f7ddef455eaa571f80cc89d544",
       "value": "<p>Click on the name of the countries in the legend in order to visualize the corresponding values in the graph.</p>"
      }
     },
     "4484b82162a5434f9f7d0cafd1603772": {
      "model_module": "@jupyter-widgets/base",
      "model_module_version": "1.2.0",
      "model_name": "LayoutModel",
      "state": {}
     },
     "4ae274f288654d6694686c23e1641384": {
      "model_module": "@jupyter-widgets/controls",
      "model_module_version": "1.5.0",
      "model_name": "VBoxModel",
      "state": {
       "children": [
        "IPY_MODEL_39490bbc84e14c8bbcb8bbf6f59a58eb",
        "IPY_MODEL_fbe46a5cbeec4a098ff6a84bd0549fa6"
       ],
       "layout": "IPY_MODEL_e528d57a059344f8b4008031b11630d2"
      }
     },
     "4d5e59c6fa5c43848fc48ad5d825678c": {
      "model_module": "@jupyter-widgets/base",
      "model_module_version": "1.2.0",
      "model_name": "LayoutModel",
      "state": {}
     },
     "51c5b31aea0e4593a0a96ff361ef5d1b": {
      "model_module": "@jupyter-widgets/controls",
      "model_module_version": "1.5.0",
      "model_name": "DescriptionStyleModel",
      "state": {
       "description_width": ""
      }
     },
     "525ce44d492b451dbaa03e9d98a643eb": {
      "model_module": "@jupyter-widgets/base",
      "model_module_version": "1.2.0",
      "model_name": "LayoutModel",
      "state": {}
     },
     "567d05f7ddef455eaa571f80cc89d544": {
      "model_module": "@jupyter-widgets/controls",
      "model_module_version": "1.5.0",
      "model_name": "DescriptionStyleModel",
      "state": {
       "description_width": ""
      }
     },
     "5c7e3bc827a74a8fb5195ac129db6df2": {
      "model_module": "@jupyter-widgets/controls",
      "model_module_version": "1.5.0",
      "model_name": "DescriptionStyleModel",
      "state": {
       "description_width": ""
      }
     },
     "5e55de44d8f6422ebf77537f28b105e2": {
      "model_module": "@jupyter-widgets/base",
      "model_module_version": "1.2.0",
      "model_name": "LayoutModel",
      "state": {
       "margin": "0px 0px 0px 80px"
      }
     },
     "6b7a9f3f794b4412b3a8707fff16b8cc": {
      "model_module": "@jupyter-widgets/controls",
      "model_module_version": "1.5.0",
      "model_name": "VBoxModel",
      "state": {
       "children": [
        "IPY_MODEL_283112ed666f4477b28e11174621c31b",
        "IPY_MODEL_e1ce05a0b5cd4107b8d415ba66a3c30b"
       ],
       "layout": "IPY_MODEL_cb7f820282a745c99db7d2a159b96d4a"
      }
     },
     "6d2c0c2a9e0c47e187b0bfcc26663b51": {
      "model_module": "plotlywidget",
      "model_module_version": "^4.9.0",
      "model_name": "FigureModel",
      "state": {
       "_config": {
        "plotlyServerURL": "https://plot.ly"
       },
       "_data": [
        {
         "line": {
          "shape": "spline",
          "smoothing": 1.3
         },
         "name": "Estonia",
         "type": "scatter",
         "uid": "512b2653-0302-4b16-beaf-cdcc5860dddd",
         "visible": true,
         "x": [
          "2011-01-01 00:00:00",
          "2012-01-01 00:00:00",
          "2013-01-01 00:00:00",
          "2014-01-01 00:00:00",
          "2015-01-01 00:00:00",
          "2016-01-01 00:00:00",
          "2017-01-01 00:00:00",
          "2019-01-01 00:00:00"
         ],
         "y": [
          0.8603870000000001,
          0.840996,
          0.850774,
          0.860477,
          0.86805,
          0.908856,
          0.894905,
          0.909415
         ]
        },
        {
         "line": {
          "shape": "spline",
          "smoothing": 1.3
         },
         "name": "Greece",
         "type": "scatter",
         "uid": "ff699715-2532-492a-a7a5-bb4a6201aa80",
         "visible": "legendonly",
         "x": [
          "2011-01-01 00:00:00",
          "2012-01-01 00:00:00",
          "2013-01-01 00:00:00",
          "2014-01-01 00:00:00",
          "2015-01-01 00:00:00",
          "2016-01-01 00:00:00",
          "2017-01-01 00:00:00",
          "2019-01-01 00:00:00"
         ],
         "y": [
          0.985,
          0.9907090000000001,
          0.945,
          0.951,
          0.9540000000000001,
          "0.95635",
          0.961673,
          0.9947030000000001
         ]
        },
        {
         "line": {
          "shape": "spline",
          "smoothing": 1.3
         },
         "name": "Spain",
         "type": "scatter",
         "uid": "b5212839-33c1-4ad2-bb10-558aa3ffc753",
         "visible": "legendonly",
         "x": [
          "2011-01-01 00:00:00",
          "2012-01-01 00:00:00",
          "2013-01-01 00:00:00",
          "2014-01-01 00:00:00",
          "2015-01-01 00:00:00",
          "2016-01-01 00:00:00",
          "2017-01-01 00:00:00",
          "2019-01-01 00:00:00"
         ],
         "y": [
          0.963518,
          0.9507559999999999,
          0.965319,
          0.9508969999999999,
          0.950557,
          0.954959,
          0.9567260000000001,
          0.956385
         ]
        },
        {
         "line": {
          "shape": "spline",
          "smoothing": 1.3
         },
         "name": "Finland",
         "type": "scatter",
         "uid": "851700ce-28cc-4bc8-ae06-48ace53ecac9",
         "visible": "legendonly",
         "x": [
          "2011-01-01 00:00:00",
          "2012-01-01 00:00:00",
          "2013-01-01 00:00:00",
          "2014-01-01 00:00:00",
          "2015-01-01 00:00:00",
          "2016-01-01 00:00:00",
          "2017-01-01 00:00:00",
          "2019-01-01 00:00:00"
         ],
         "y": [
          0.950457,
          0.9325110000000001,
          0.9670000000000001,
          0.969825,
          0.9698200000000001,
          0.97,
          0.9701270000000001,
          0.9053629999999999
         ]
        },
        {
         "line": {
          "shape": "spline",
          "smoothing": 1.3
         },
         "name": "France",
         "type": "scatter",
         "uid": "c92d47a9-e0f7-4f0c-b15a-ad2702057269",
         "visible": "legendonly",
         "x": [
          "2011-01-01 00:00:00",
          "2012-01-01 00:00:00",
          "2013-01-01 00:00:00",
          "2014-01-01 00:00:00",
          "2015-01-01 00:00:00",
          "2016-01-01 00:00:00",
          "2017-01-01 00:00:00",
          "2019-01-01 00:00:00"
         ],
         "y": [
          0.9939530000000001,
          0.99325,
          0.997016,
          0.997309,
          0.997556,
          0.9995149999999999,
          0.9999520000000001,
          0.9999540000000001
         ]
        },
        {
         "line": {
          "shape": "spline",
          "smoothing": 1.3
         },
         "name": "Croatia",
         "type": "scatter",
         "uid": "e7afc9ba-a971-4cc0-95c5-e1e56ede80e4",
         "visible": "legendonly",
         "x": [
          "2011-01-01 00:00:00",
          "2012-01-01 00:00:00",
          "2013-01-01 00:00:00",
          "2014-01-01 00:00:00",
          "2015-01-01 00:00:00",
          "2016-01-01 00:00:00",
          "2017-01-01 00:00:00",
          "2019-01-01 00:00:00"
         ],
         "y": [
          "nan",
          0.9414520000000001,
          0.9605549999999999,
          0.965791,
          0.9686440000000001,
          "0.969799",
          0.99269,
          0.998749
         ]
        },
        {
         "line": {
          "shape": "spline",
          "smoothing": 1.3
         },
         "name": "Hungary",
         "type": "scatter",
         "uid": "64ee89a4-1c64-462f-8879-1d4741232ec5",
         "visible": "legendonly",
         "x": [
          "2011-01-01 00:00:00",
          "2012-01-01 00:00:00",
          "2013-01-01 00:00:00",
          "2014-01-01 00:00:00",
          "2015-01-01 00:00:00",
          "2016-01-01 00:00:00",
          "2017-01-01 00:00:00",
          "2019-01-01 00:00:00"
         ],
         "y": [
          0.893943,
          0.9183549999999999,
          0.943543,
          0.943708,
          0.952418,
          "0.952439",
          0.9524590000000001,
          0.9547530000000001
         ]
        },
        {
         "line": {
          "color": "rgb(1.0, 0.4980392156862745, 0.0)",
          "shape": "spline",
          "smoothing": 1.3
         },
         "name": "Ireland",
         "type": "scatter",
         "uid": "fd7865f5-65cc-4e3a-b753-4bbe2c8555e5",
         "visible": "legendonly",
         "x": [
          "2011-01-01 00:00:00",
          "2012-01-01 00:00:00",
          "2013-01-01 00:00:00",
          "2014-01-01 00:00:00",
          "2015-01-01 00:00:00",
          "2016-01-01 00:00:00",
          "2017-01-01 00:00:00",
          "2019-01-01 00:00:00"
         ],
         "y": [
          0.944895,
          0.97078,
          0.9625370000000001,
          0.96262,
          0.962684,
          0.962684,
          0.973601,
          0.978455
         ]
        },
        {
         "line": {
          "shape": "spline",
          "smoothing": 1.3
         },
         "name": "Iceland",
         "type": "scatter",
         "uid": "2ac680fa-578b-4599-a017-635bf64754ea",
         "visible": "legendonly",
         "x": [
          "2011-01-01 00:00:00",
          "2012-01-01 00:00:00",
          "2013-01-01 00:00:00",
          "2014-01-01 00:00:00",
          "2015-01-01 00:00:00",
          "2016-01-01 00:00:00",
          "2017-01-01 00:00:00",
          "2019-01-01 00:00:00"
         ],
         "y": [
          0.9441639999999999,
          0.9441639999999999,
          0.966,
          0.9516399999999999,
          0.9519569999999999,
          "0.956091",
          0.9665969999999999,
          0.995439
         ]
        },
        {
         "line": {
          "shape": "spline",
          "smoothing": 1.3
         },
         "name": "Deutschland",
         "type": "scatter",
         "uid": "1b375541-33eb-479b-a462-109a54bee34e",
         "visible": "legendonly",
         "x": [
          "2011-01-01 00:00:00",
          "2012-01-01 00:00:00",
          "2013-01-01 00:00:00",
          "2014-01-01 00:00:00",
          "2015-01-01 00:00:00",
          "2016-01-01 00:00:00",
          "2017-01-01 00:00:00",
          "2019-01-01 00:00:00"
         ],
         "y": [
          0.9570000000000001,
          0.966,
          0.966,
          0.97,
          0.9740000000000001,
          0.977,
          0.977,
          0.985507
         ]
        },
        {
         "line": {
          "color": "rgb(1.0, 1.0, 0.6)",
          "shape": "spline",
          "smoothing": 1.3
         },
         "name": "Czech Rep.",
         "type": "scatter",
         "uid": "8a35ccbf-0b5d-41af-ba22-61689a4b595d",
         "visible": "legendonly",
         "x": [
          "2011-01-01 00:00:00",
          "2012-01-01 00:00:00",
          "2013-01-01 00:00:00",
          "2014-01-01 00:00:00",
          "2015-01-01 00:00:00",
          "2016-01-01 00:00:00",
          "2017-01-01 00:00:00",
          "2019-01-01 00:00:00"
         ],
         "y": [
          0.945,
          0.9811719999999999,
          0.975,
          0.975,
          0.9755,
          "0.988838",
          0.984355,
          0.974289
         ]
        },
        {
         "line": {
          "shape": "spline",
          "smoothing": 1.3
         },
         "name": "Denmark",
         "type": "scatter",
         "uid": "d07c4899-2fac-44b3-a65e-e86106b62c25",
         "visible": "legendonly",
         "x": [
          "2011-01-01 00:00:00",
          "2012-01-01 00:00:00",
          "2013-01-01 00:00:00",
          "2014-01-01 00:00:00",
          "2015-01-01 00:00:00",
          "2016-01-01 00:00:00",
          "2017-01-01 00:00:00",
          "2019-01-01 00:00:00"
         ],
         "y": [
          0.99,
          0.9832700000000001,
          0.991142,
          0.9911040000000001,
          0.989978,
          "0.993185",
          0.995,
          0.99
         ]
        },
        {
         "line": {
          "color": "rgb(0.00784313725490196, 0.24313725490196078, 1.0)",
          "shape": "spline",
          "smoothing": 1.3
         },
         "name": "Italy",
         "type": "scatter",
         "uid": "63f419d5-e5d6-443d-866f-7d9a4005d106",
         "visible": "legendonly",
         "x": [
          "2011-01-01 00:00:00",
          "2012-01-01 00:00:00",
          "2013-01-01 00:00:00",
          "2014-01-01 00:00:00",
          "2015-01-01 00:00:00",
          "2016-01-01 00:00:00",
          "2017-01-01 00:00:00",
          "2019-01-01 00:00:00"
         ],
         "y": [
          0.985,
          0.984102,
          0.98766,
          0.99149,
          0.992692,
          0.992699,
          0.9934780000000001,
          0.9960129999999999
         ]
        },
        {
         "line": {
          "color": "rgb(1.0, 0.48627450980392156, 0.0)",
          "shape": "spline",
          "smoothing": 1.3
         },
         "name": "Lithuania",
         "type": "scatter",
         "uid": "1cfb83d4-d918-4b80-a258-0b8704f25120",
         "visible": "legendonly",
         "x": [
          "2011-01-01 00:00:00",
          "2012-01-01 00:00:00",
          "2013-01-01 00:00:00",
          "2014-01-01 00:00:00",
          "2015-01-01 00:00:00",
          "2016-01-01 00:00:00",
          "2017-01-01 00:00:00",
          "2019-01-01 00:00:00"
         ],
         "y": [
          0.884,
          0.967881,
          0.7959999999999999,
          0.8009999999999999,
          0.8059999999999999,
          "0.8103",
          0.820157,
          0.850893
         ]
        },
        {
         "line": {
          "shape": "spline",
          "smoothing": 1.3
         },
         "name": "Luxembourg",
         "type": "scatter",
         "uid": "7c1824a4-8e5f-43d4-b4b3-cffb71bbe12b",
         "visible": "legendonly",
         "x": [
          "2011-01-01 00:00:00",
          "2012-01-01 00:00:00",
          "2013-01-01 00:00:00",
          "2014-01-01 00:00:00",
          "2015-01-01 00:00:00",
          "2016-01-01 00:00:00",
          "2017-01-01 00:00:00",
          "2019-01-01 00:00:00"
         ],
         "y": [
          0.998,
          0.998782,
          0.999915,
          0.99984,
          0.99984,
          0.99984,
          0.99984,
          1
         ]
        },
        {
         "line": {
          "shape": "spline",
          "smoothing": 1.3
         },
         "name": "Latvia",
         "type": "scatter",
         "uid": "0a0827c4-32a3-4400-8d42-eaf2e94ddcf9",
         "visible": "legendonly",
         "x": [
          "2011-01-01 00:00:00",
          "2012-01-01 00:00:00",
          "2013-01-01 00:00:00",
          "2014-01-01 00:00:00",
          "2015-01-01 00:00:00",
          "2016-01-01 00:00:00",
          "2017-01-01 00:00:00",
          "2019-01-01 00:00:00"
         ],
         "y": [
          0.755166,
          0.8286319999999999,
          0.9164690000000001,
          0.919443,
          0.9250520000000001,
          "0.925998",
          0.928449,
          0.9403040000000001
         ]
        },
        {
         "line": {
          "shape": "spline",
          "smoothing": 1.3
         },
         "name": "Malta",
         "type": "scatter",
         "uid": "497c9812-44b3-4730-a749-2ea1ca8baed6",
         "visible": "legendonly",
         "x": [
          "2011-01-01 00:00:00",
          "2012-01-01 00:00:00",
          "2013-01-01 00:00:00",
          "2014-01-01 00:00:00",
          "2015-01-01 00:00:00",
          "2016-01-01 00:00:00",
          "2017-01-01 00:00:00",
          "2019-01-01 00:00:00"
         ],
         "y": [
          0.9990000000000001,
          0.9999959999999999,
          0.999768,
          1,
          1,
          "1",
          1,
          1
         ]
        },
        {
         "line": {
          "shape": "spline",
          "smoothing": 1.3
         },
         "name": "Netherlands",
         "type": "scatter",
         "uid": "2dee9176-3570-496f-b737-0dec1c7a6a72",
         "visible": "legendonly",
         "x": [
          "2011-01-01 00:00:00",
          "2012-01-01 00:00:00",
          "2013-01-01 00:00:00",
          "2014-01-01 00:00:00",
          "2015-01-01 00:00:00",
          "2016-01-01 00:00:00",
          "2017-01-01 00:00:00",
          "2019-01-01 00:00:00"
         ],
         "y": [
          1,
          1,
          0.999926,
          0.995,
          0.995,
          "0.995",
          0.995,
          0.995
         ]
        },
        {
         "line": {
          "shape": "spline",
          "smoothing": 1.3
         },
         "name": "Norway",
         "type": "scatter",
         "uid": "f027c2dc-7d5b-42f5-9d0b-1f2d71784979",
         "visible": "legendonly",
         "x": [
          "2011-01-01 00:00:00",
          "2012-01-01 00:00:00",
          "2013-01-01 00:00:00",
          "2014-01-01 00:00:00",
          "2015-01-01 00:00:00",
          "2016-01-01 00:00:00",
          "2017-01-01 00:00:00",
          "2019-01-01 00:00:00"
         ],
         "y": [
          0.9590000000000001,
          0.9630719999999999,
          0.967461,
          0.951784,
          0.947342,
          0.9534530000000001,
          0.9440799999999999,
          0.986454
         ]
        },
        {
         "line": {
          "shape": "spline",
          "smoothing": 1.3
         },
         "name": "Portugal",
         "type": "scatter",
         "uid": "5a6c9391-bdd7-4096-b21f-2b3a50272db4",
         "visible": "legendonly",
         "x": [
          "2011-01-01 00:00:00",
          "2012-01-01 00:00:00",
          "2013-01-01 00:00:00",
          "2014-01-01 00:00:00",
          "2015-01-01 00:00:00",
          "2016-01-01 00:00:00",
          "2017-01-01 00:00:00",
          "2019-01-01 00:00:00"
         ],
         "y": [
          0.995,
          0.9955430000000001,
          0.951,
          0.948,
          0.946,
          0.942961,
          0.9348629999999999,
          0.9486190000000001
         ]
        },
        {
         "line": {
          "color": "rgb(1.0, 0.7686274509803922, 0.0)",
          "shape": "spline",
          "smoothing": 1.3
         },
         "name": "Poland",
         "type": "scatter",
         "uid": "1486d0be-6e4a-4b87-8694-5110a3cbf19a",
         "visible": "legendonly",
         "x": [
          "2011-01-01 00:00:00",
          "2012-01-01 00:00:00",
          "2013-01-01 00:00:00",
          "2014-01-01 00:00:00",
          "2015-01-01 00:00:00",
          "2016-01-01 00:00:00",
          "2017-01-01 00:00:00",
          "2019-01-01 00:00:00"
         ],
         "y": [
          0.653541,
          0.6905060000000001,
          0.7909999999999999,
          0.7959999999999999,
          0.802,
          0.8093060000000001,
          0.814616,
          0.8346389999999999
         ]
        },
        {
         "line": {
          "color": "rgb(0.0, 0.8431372549019608, 1.0)",
          "shape": "spline",
          "smoothing": 1.3
         },
         "name": "Europe",
         "type": "scatter",
         "uid": "191fd4b8-b2a2-4c2f-96d1-92d304d9a122",
         "visible": "legendonly",
         "x": [
          "2011-01-01 00:00:00",
          "2012-01-01 00:00:00",
          "2014-01-01 00:00:00",
          "2015-01-01 00:00:00",
          "2016-01-01 00:00:00",
          "2017-01-01 00:00:00",
          "2019-01-01 00:00:00"
         ],
         "y": [
          0.946169,
          0.95475,
          "0.963734",
          "0.964928",
          "0.966662",
          0.967205,
          0.9706959999999999
         ]
        },
        {
         "line": {
          "shape": "spline",
          "smoothing": 1.3
         },
         "name": "Romania",
         "type": "scatter",
         "uid": "04ee5957-cb43-46b6-95ed-ed91a32ebe32",
         "visible": "legendonly",
         "x": [
          "2011-01-01 00:00:00",
          "2012-01-01 00:00:00",
          "2013-01-01 00:00:00",
          "2014-01-01 00:00:00",
          "2015-01-01 00:00:00",
          "2016-01-01 00:00:00",
          "2017-01-01 00:00:00",
          "2019-01-01 00:00:00"
         ],
         "y": [
          0.868242,
          0.8597229999999999,
          0.8999540000000001,
          0.894135,
          0.887601,
          0.885992,
          0.881451,
          0.8735209999999999
         ]
        },
        {
         "line": {
          "shape": "spline",
          "smoothing": 1.3
         },
         "name": "Sweden",
         "type": "scatter",
         "uid": "46a8b9d9-c268-4617-a664-0193399d750f",
         "visible": "legendonly",
         "x": [
          "2011-01-01 00:00:00",
          "2012-01-01 00:00:00",
          "2013-01-01 00:00:00",
          "2014-01-01 00:00:00",
          "2015-01-01 00:00:00",
          "2016-01-01 00:00:00",
          "2017-01-01 00:00:00",
          "2019-01-01 00:00:00"
         ],
         "y": [
          0.9805200000000001,
          0.985403,
          0.9902129999999999,
          0.989725,
          0.989725,
          0.9898290000000001,
          0.9850129999999999,
          0.973283
         ]
        },
        {
         "line": {
          "shape": "spline",
          "smoothing": 1.3
         },
         "name": "Slovenia",
         "type": "scatter",
         "uid": "756f9f8d-35d5-48a7-a4f5-05e320b33945",
         "visible": "legendonly",
         "x": [
          "2011-01-01 00:00:00",
          "2012-01-01 00:00:00",
          "2013-01-01 00:00:00",
          "2014-01-01 00:00:00",
          "2015-01-01 00:00:00",
          "2016-01-01 00:00:00",
          "2017-01-01 00:00:00",
          "2019-01-01 00:00:00"
         ],
         "y": [
          0.757616,
          0.8430489999999999,
          0.9518559999999999,
          0.9538540000000001,
          0.954551,
          0.9770559999999999,
          0.978,
          0.9874860000000001
         ]
        },
        {
         "line": {
          "shape": "spline",
          "smoothing": 1.3
         },
         "name": "Slovakia",
         "type": "scatter",
         "uid": "c33d9e44-5b5e-4184-afb9-627cc0ca407e",
         "visible": "legendonly",
         "x": [
          "2011-01-01 00:00:00",
          "2012-01-01 00:00:00",
          "2013-01-01 00:00:00",
          "2014-01-01 00:00:00",
          "2015-01-01 00:00:00",
          "2016-01-01 00:00:00",
          "2017-01-01 00:00:00",
          "2019-01-01 00:00:00"
         ],
         "y": [
          0.75,
          0.752243,
          0.865167,
          0.86816,
          0.863289,
          "0.880195",
          0.882827,
          0.896904
         ]
        },
        {
         "line": {
          "shape": "spline",
          "smoothing": 1.3
         },
         "name": "United Kingdom",
         "type": "scatter",
         "uid": "f856c9fa-a950-4fca-b29a-8bd764f3a543",
         "visible": "legendonly",
         "x": [
          "2011-01-01 00:00:00",
          "2012-01-01 00:00:00",
          "2013-01-01 00:00:00",
          "2014-01-01 00:00:00",
          "2015-01-01 00:00:00",
          "2016-01-01 00:00:00",
          "2017-01-01 00:00:00",
          "2019-01-01 00:00:00"
         ],
         "y": [
          0.995609,
          0.9979620000000001,
          0.999776,
          0.9997799999999999,
          0.999777,
          0.9952,
          0.9990000000000001,
          1
         ]
        },
        {
         "line": {
          "shape": "spline",
          "smoothing": 1.3
         },
         "name": "Austria",
         "type": "scatter",
         "uid": "a852589d-fb28-4a76-82d8-c959c2fad129",
         "visible": "legendonly",
         "x": [
          "2011-01-01 00:00:00",
          "2012-01-01 00:00:00",
          "2013-01-01 00:00:00",
          "2014-01-01 00:00:00",
          "2015-01-01 00:00:00",
          "2016-01-01 00:00:00",
          "2017-01-01 00:00:00",
          "2019-01-01 00:00:00"
         ],
         "y": [
          0.981834,
          0.9886719999999999,
          0.9912790000000001,
          0.9924959999999999,
          0.992497,
          0.9843360000000001,
          0.984492,
          0.9928620000000001
         ]
        },
        {
         "line": {
          "shape": "spline",
          "smoothing": 1.3
         },
         "name": "Belgium",
         "type": "scatter",
         "uid": "3a6b8a77-816a-47a0-89e4-a07c672eaf28",
         "visible": "legendonly",
         "x": [
          "2011-01-01 00:00:00",
          "2012-01-01 00:00:00",
          "2013-01-01 00:00:00",
          "2014-01-01 00:00:00",
          "2015-01-01 00:00:00",
          "2016-01-01 00:00:00",
          "2017-01-01 00:00:00",
          "2019-01-01 00:00:00"
         ],
         "y": [
          0.999655,
          0.9995629999999999,
          0.9993190000000001,
          0.99925,
          0.99925,
          "0.999269",
          0.99925,
          0.9997520000000001
         ]
        },
        {
         "line": {
          "shape": "spline",
          "smoothing": 1.3
         },
         "name": "Bulgaria",
         "type": "scatter",
         "uid": "cd5eae00-bc2f-4af6-b580-022f7933e030",
         "visible": "legendonly",
         "x": [
          "2011-01-01 00:00:00",
          "2012-01-01 00:00:00",
          "2013-01-01 00:00:00",
          "2014-01-01 00:00:00",
          "2015-01-01 00:00:00",
          "2016-01-01 00:00:00",
          "2017-01-01 00:00:00",
          "2019-01-01 00:00:00"
         ],
         "y": [
          0.8905379999999999,
          0.8963549999999999,
          0.9252,
          0.951097,
          0.951676,
          "0.95204",
          0.95204,
          0.955635
         ]
        },
        {
         "line": {
          "shape": "spline",
          "smoothing": 1.3
         },
         "name": "Cyprus",
         "type": "scatter",
         "uid": "0a5c8cef-666f-482e-9677-b33cbb6ac23c",
         "visible": "legendonly",
         "x": [
          "2011-01-01 00:00:00",
          "2012-01-01 00:00:00",
          "2013-01-01 00:00:00",
          "2014-01-01 00:00:00",
          "2015-01-01 00:00:00",
          "2016-01-01 00:00:00",
          "2017-01-01 00:00:00",
          "2019-01-01 00:00:00"
         ],
         "y": [
          1,
          1,
          0.99995,
          0.99995,
          0.99995,
          0.99995,
          0.99995,
          1
         ]
        },
        {
         "line": {
          "shape": "spline",
          "smoothing": 1.3
         },
         "name": "Switzerland",
         "type": "scatter",
         "uid": "651cf384-ba22-4d71-9abf-4a2d088d2dd6",
         "visible": "legendonly",
         "x": [
          "2011-01-01 00:00:00",
          "2012-01-01 00:00:00",
          "2013-01-01 00:00:00",
          "2014-01-01 00:00:00",
          "2015-01-01 00:00:00",
          "2016-01-01 00:00:00",
          "2017-01-01 00:00:00",
          "2019-01-01 00:00:00"
         ],
         "y": [
          0.996872,
          0.998233,
          0.9975780000000001,
          0.99785,
          0.997648,
          "0.997658",
          0.9976430000000001,
          0.9977360000000001
         ]
        }
       ],
       "_js2py_update": {},
       "_last_layout_edit_id": 39,
       "_last_trace_edit_id": 38,
       "_layout": {
        "autosize": true,
        "height": 600,
        "legend": {
         "title": {
          "text": "Countries"
         }
        },
        "showlegend": true,
        "template": {
         "data": {
          "bar": [
           {
            "error_x": {
             "color": "#2a3f5f"
            },
            "error_y": {
             "color": "#2a3f5f"
            },
            "marker": {
             "line": {
              "color": "#E5ECF6",
              "width": 0.5
             }
            },
            "type": "bar"
           }
          ],
          "barpolar": [
           {
            "marker": {
             "line": {
              "color": "#E5ECF6",
              "width": 0.5
             }
            },
            "type": "barpolar"
           }
          ],
          "carpet": [
           {
            "aaxis": {
             "endlinecolor": "#2a3f5f",
             "gridcolor": "white",
             "linecolor": "white",
             "minorgridcolor": "white",
             "startlinecolor": "#2a3f5f"
            },
            "baxis": {
             "endlinecolor": "#2a3f5f",
             "gridcolor": "white",
             "linecolor": "white",
             "minorgridcolor": "white",
             "startlinecolor": "#2a3f5f"
            },
            "type": "carpet"
           }
          ],
          "choropleth": [
           {
            "colorbar": {
             "outlinewidth": 0,
             "ticks": ""
            },
            "type": "choropleth"
           }
          ],
          "contour": [
           {
            "colorbar": {
             "outlinewidth": 0,
             "ticks": ""
            },
            "colorscale": [
             [
              0,
              "#0d0887"
             ],
             [
              0.1111111111111111,
              "#46039f"
             ],
             [
              0.2222222222222222,
              "#7201a8"
             ],
             [
              0.3333333333333333,
              "#9c179e"
             ],
             [
              0.4444444444444444,
              "#bd3786"
             ],
             [
              0.5555555555555556,
              "#d8576b"
             ],
             [
              0.6666666666666666,
              "#ed7953"
             ],
             [
              0.7777777777777778,
              "#fb9f3a"
             ],
             [
              0.8888888888888888,
              "#fdca26"
             ],
             [
              1,
              "#f0f921"
             ]
            ],
            "type": "contour"
           }
          ],
          "contourcarpet": [
           {
            "colorbar": {
             "outlinewidth": 0,
             "ticks": ""
            },
            "type": "contourcarpet"
           }
          ],
          "heatmap": [
           {
            "colorbar": {
             "outlinewidth": 0,
             "ticks": ""
            },
            "colorscale": [
             [
              0,
              "#0d0887"
             ],
             [
              0.1111111111111111,
              "#46039f"
             ],
             [
              0.2222222222222222,
              "#7201a8"
             ],
             [
              0.3333333333333333,
              "#9c179e"
             ],
             [
              0.4444444444444444,
              "#bd3786"
             ],
             [
              0.5555555555555556,
              "#d8576b"
             ],
             [
              0.6666666666666666,
              "#ed7953"
             ],
             [
              0.7777777777777778,
              "#fb9f3a"
             ],
             [
              0.8888888888888888,
              "#fdca26"
             ],
             [
              1,
              "#f0f921"
             ]
            ],
            "type": "heatmap"
           }
          ],
          "heatmapgl": [
           {
            "colorbar": {
             "outlinewidth": 0,
             "ticks": ""
            },
            "colorscale": [
             [
              0,
              "#0d0887"
             ],
             [
              0.1111111111111111,
              "#46039f"
             ],
             [
              0.2222222222222222,
              "#7201a8"
             ],
             [
              0.3333333333333333,
              "#9c179e"
             ],
             [
              0.4444444444444444,
              "#bd3786"
             ],
             [
              0.5555555555555556,
              "#d8576b"
             ],
             [
              0.6666666666666666,
              "#ed7953"
             ],
             [
              0.7777777777777778,
              "#fb9f3a"
             ],
             [
              0.8888888888888888,
              "#fdca26"
             ],
             [
              1,
              "#f0f921"
             ]
            ],
            "type": "heatmapgl"
           }
          ],
          "histogram": [
           {
            "marker": {
             "colorbar": {
              "outlinewidth": 0,
              "ticks": ""
             }
            },
            "type": "histogram"
           }
          ],
          "histogram2d": [
           {
            "colorbar": {
             "outlinewidth": 0,
             "ticks": ""
            },
            "colorscale": [
             [
              0,
              "#0d0887"
             ],
             [
              0.1111111111111111,
              "#46039f"
             ],
             [
              0.2222222222222222,
              "#7201a8"
             ],
             [
              0.3333333333333333,
              "#9c179e"
             ],
             [
              0.4444444444444444,
              "#bd3786"
             ],
             [
              0.5555555555555556,
              "#d8576b"
             ],
             [
              0.6666666666666666,
              "#ed7953"
             ],
             [
              0.7777777777777778,
              "#fb9f3a"
             ],
             [
              0.8888888888888888,
              "#fdca26"
             ],
             [
              1,
              "#f0f921"
             ]
            ],
            "type": "histogram2d"
           }
          ],
          "histogram2dcontour": [
           {
            "colorbar": {
             "outlinewidth": 0,
             "ticks": ""
            },
            "colorscale": [
             [
              0,
              "#0d0887"
             ],
             [
              0.1111111111111111,
              "#46039f"
             ],
             [
              0.2222222222222222,
              "#7201a8"
             ],
             [
              0.3333333333333333,
              "#9c179e"
             ],
             [
              0.4444444444444444,
              "#bd3786"
             ],
             [
              0.5555555555555556,
              "#d8576b"
             ],
             [
              0.6666666666666666,
              "#ed7953"
             ],
             [
              0.7777777777777778,
              "#fb9f3a"
             ],
             [
              0.8888888888888888,
              "#fdca26"
             ],
             [
              1,
              "#f0f921"
             ]
            ],
            "type": "histogram2dcontour"
           }
          ],
          "mesh3d": [
           {
            "colorbar": {
             "outlinewidth": 0,
             "ticks": ""
            },
            "type": "mesh3d"
           }
          ],
          "parcoords": [
           {
            "line": {
             "colorbar": {
              "outlinewidth": 0,
              "ticks": ""
             }
            },
            "type": "parcoords"
           }
          ],
          "pie": [
           {
            "automargin": true,
            "type": "pie"
           }
          ],
          "scatter": [
           {
            "marker": {
             "colorbar": {
              "outlinewidth": 0,
              "ticks": ""
             }
            },
            "type": "scatter"
           }
          ],
          "scatter3d": [
           {
            "line": {
             "colorbar": {
              "outlinewidth": 0,
              "ticks": ""
             }
            },
            "marker": {
             "colorbar": {
              "outlinewidth": 0,
              "ticks": ""
             }
            },
            "type": "scatter3d"
           }
          ],
          "scattercarpet": [
           {
            "marker": {
             "colorbar": {
              "outlinewidth": 0,
              "ticks": ""
             }
            },
            "type": "scattercarpet"
           }
          ],
          "scattergeo": [
           {
            "marker": {
             "colorbar": {
              "outlinewidth": 0,
              "ticks": ""
             }
            },
            "type": "scattergeo"
           }
          ],
          "scattergl": [
           {
            "marker": {
             "colorbar": {
              "outlinewidth": 0,
              "ticks": ""
             }
            },
            "type": "scattergl"
           }
          ],
          "scattermapbox": [
           {
            "marker": {
             "colorbar": {
              "outlinewidth": 0,
              "ticks": ""
             }
            },
            "type": "scattermapbox"
           }
          ],
          "scatterpolar": [
           {
            "marker": {
             "colorbar": {
              "outlinewidth": 0,
              "ticks": ""
             }
            },
            "type": "scatterpolar"
           }
          ],
          "scatterpolargl": [
           {
            "marker": {
             "colorbar": {
              "outlinewidth": 0,
              "ticks": ""
             }
            },
            "type": "scatterpolargl"
           }
          ],
          "scatterternary": [
           {
            "marker": {
             "colorbar": {
              "outlinewidth": 0,
              "ticks": ""
             }
            },
            "type": "scatterternary"
           }
          ],
          "surface": [
           {
            "colorbar": {
             "outlinewidth": 0,
             "ticks": ""
            },
            "colorscale": [
             [
              0,
              "#0d0887"
             ],
             [
              0.1111111111111111,
              "#46039f"
             ],
             [
              0.2222222222222222,
              "#7201a8"
             ],
             [
              0.3333333333333333,
              "#9c179e"
             ],
             [
              0.4444444444444444,
              "#bd3786"
             ],
             [
              0.5555555555555556,
              "#d8576b"
             ],
             [
              0.6666666666666666,
              "#ed7953"
             ],
             [
              0.7777777777777778,
              "#fb9f3a"
             ],
             [
              0.8888888888888888,
              "#fdca26"
             ],
             [
              1,
              "#f0f921"
             ]
            ],
            "type": "surface"
           }
          ],
          "table": [
           {
            "cells": {
             "fill": {
              "color": "#EBF0F8"
             },
             "line": {
              "color": "white"
             }
            },
            "header": {
             "fill": {
              "color": "#C8D4E3"
             },
             "line": {
              "color": "white"
             }
            },
            "type": "table"
           }
          ]
         },
         "layout": {
          "annotationdefaults": {
           "arrowcolor": "#2a3f5f",
           "arrowhead": 0,
           "arrowwidth": 1
          },
          "coloraxis": {
           "colorbar": {
            "outlinewidth": 0,
            "ticks": ""
           }
          },
          "colorscale": {
           "diverging": [
            [
             0,
             "#8e0152"
            ],
            [
             0.1,
             "#c51b7d"
            ],
            [
             0.2,
             "#de77ae"
            ],
            [
             0.3,
             "#f1b6da"
            ],
            [
             0.4,
             "#fde0ef"
            ],
            [
             0.5,
             "#f7f7f7"
            ],
            [
             0.6,
             "#e6f5d0"
            ],
            [
             0.7,
             "#b8e186"
            ],
            [
             0.8,
             "#7fbc41"
            ],
            [
             0.9,
             "#4d9221"
            ],
            [
             1,
             "#276419"
            ]
           ],
           "sequential": [
            [
             0,
             "#0d0887"
            ],
            [
             0.1111111111111111,
             "#46039f"
            ],
            [
             0.2222222222222222,
             "#7201a8"
            ],
            [
             0.3333333333333333,
             "#9c179e"
            ],
            [
             0.4444444444444444,
             "#bd3786"
            ],
            [
             0.5555555555555556,
             "#d8576b"
            ],
            [
             0.6666666666666666,
             "#ed7953"
            ],
            [
             0.7777777777777778,
             "#fb9f3a"
            ],
            [
             0.8888888888888888,
             "#fdca26"
            ],
            [
             1,
             "#f0f921"
            ]
           ],
           "sequentialminus": [
            [
             0,
             "#0d0887"
            ],
            [
             0.1111111111111111,
             "#46039f"
            ],
            [
             0.2222222222222222,
             "#7201a8"
            ],
            [
             0.3333333333333333,
             "#9c179e"
            ],
            [
             0.4444444444444444,
             "#bd3786"
            ],
            [
             0.5555555555555556,
             "#d8576b"
            ],
            [
             0.6666666666666666,
             "#ed7953"
            ],
            [
             0.7777777777777778,
             "#fb9f3a"
            ],
            [
             0.8888888888888888,
             "#fdca26"
            ],
            [
             1,
             "#f0f921"
            ]
           ]
          },
          "colorway": [
           "#636efa",
           "#EF553B",
           "#00cc96",
           "#ab63fa",
           "#FFA15A",
           "#19d3f3",
           "#FF6692",
           "#B6E880",
           "#FF97FF",
           "#FECB52"
          ],
          "font": {
           "color": "#2a3f5f"
          },
          "geo": {
           "bgcolor": "white",
           "lakecolor": "white",
           "landcolor": "#E5ECF6",
           "showlakes": true,
           "showland": true,
           "subunitcolor": "white"
          },
          "hoverlabel": {
           "align": "left"
          },
          "hovermode": "closest",
          "mapbox": {
           "style": "light"
          },
          "paper_bgcolor": "white",
          "plot_bgcolor": "#E5ECF6",
          "polar": {
           "angularaxis": {
            "gridcolor": "white",
            "linecolor": "white",
            "ticks": ""
           },
           "bgcolor": "#E5ECF6",
           "radialaxis": {
            "gridcolor": "white",
            "linecolor": "white",
            "ticks": ""
           }
          },
          "scene": {
           "xaxis": {
            "backgroundcolor": "#E5ECF6",
            "gridcolor": "white",
            "gridwidth": 2,
            "linecolor": "white",
            "showbackground": true,
            "ticks": "",
            "zerolinecolor": "white"
           },
           "yaxis": {
            "backgroundcolor": "#E5ECF6",
            "gridcolor": "white",
            "gridwidth": 2,
            "linecolor": "white",
            "showbackground": true,
            "ticks": "",
            "zerolinecolor": "white"
           },
           "zaxis": {
            "backgroundcolor": "#E5ECF6",
            "gridcolor": "white",
            "gridwidth": 2,
            "linecolor": "white",
            "showbackground": true,
            "ticks": "",
            "zerolinecolor": "white"
           }
          },
          "shapedefaults": {
           "line": {
            "color": "#2a3f5f"
           }
          },
          "ternary": {
           "aaxis": {
            "gridcolor": "white",
            "linecolor": "white",
            "ticks": ""
           },
           "baxis": {
            "gridcolor": "white",
            "linecolor": "white",
            "ticks": ""
           },
           "bgcolor": "#E5ECF6",
           "caxis": {
            "gridcolor": "white",
            "linecolor": "white",
            "ticks": ""
           }
          },
          "title": {
           "x": 0.05
          },
          "xaxis": {
           "automargin": true,
           "gridcolor": "white",
           "linecolor": "white",
           "ticks": "",
           "title": {
            "standoff": 15
           },
           "zerolinecolor": "white",
           "zerolinewidth": 2
          },
          "yaxis": {
           "automargin": true,
           "gridcolor": "white",
           "linecolor": "white",
           "ticks": "",
           "title": {
            "standoff": 15
           },
           "zerolinecolor": "white",
           "zerolinewidth": 2
          }
         }
        },
        "title": {
         "text": "Standard fixed broadband coverage/availability"
        },
        "xaxis": {
         "title": {
          "text": "Year"
         }
        },
        "yaxis": {
         "title": {
          "text": "Percentage"
         }
        }
       },
       "_py2js_animate": {},
       "_py2js_deleteTraces": {},
       "_py2js_moveTraces": {},
       "_py2js_removeLayoutProps": {},
       "_view_count": 1
      }
     },
     "6e6edb4be612428eade65fb9c44a305c": {
      "model_module": "@jupyter-widgets/controls",
      "model_module_version": "1.5.0",
      "model_name": "LabelModel",
      "state": {
       "layout": "IPY_MODEL_e66964c3598c45afbf03442d5b8fd91e",
       "style": "IPY_MODEL_fb84d4f7b99d4253a546d2b4694020c3",
       "value": "Indicator group:"
      }
     },
     "7033f79a6f9145408c9976a6868a349e": {
      "model_module": "@jupyter-widgets/base",
      "model_module_version": "1.2.0",
      "model_name": "LayoutModel",
      "state": {}
     },
     "7179226a49ca41c28a297335eda8ed1a": {
      "model_module": "@jupyter-widgets/controls",
      "model_module_version": "1.5.0",
      "model_name": "DescriptionStyleModel",
      "state": {
       "description_width": ""
      }
     },
     "7311dd2ae39442d6b1da666694fe64b9": {
      "model_module": "@jupyter-widgets/base",
      "model_module_version": "1.2.0",
      "model_name": "LayoutModel",
      "state": {}
     },
     "73a707d97b254b9d9597917b8db1649e": {
      "model_module": "@jupyter-widgets/controls",
      "model_module_version": "1.5.0",
      "model_name": "DescriptionStyleModel",
      "state": {
       "description_width": ""
      }
     },
     "77ac2fea1cf94885a99d4f0035581bac": {
      "model_module": "@jupyter-widgets/base",
      "model_module_version": "1.2.0",
      "model_name": "LayoutModel",
      "state": {}
     },
     "783d141ae0ab44a9b7752c57458daa0b": {
      "model_module": "@jupyter-widgets/output",
      "model_module_version": "1.0.0",
      "model_name": "OutputModel",
      "state": {
       "layout": "IPY_MODEL_77ac2fea1cf94885a99d4f0035581bac"
      }
     },
     "7991647f33c54de9b0a094796045a3e7": {
      "model_module": "@jupyter-widgets/controls",
      "model_module_version": "1.5.0",
      "model_name": "LabelModel",
      "state": {
       "layout": "IPY_MODEL_35dc2f2ffd4843d0baa99759d7be5407",
       "style": "IPY_MODEL_c4f1c648105046ccb7bafa17ed6b391b",
       "value": "Indicator:"
      }
     },
     "7d1f2ddebf6940d4be87c565f8e47b37": {
      "model_module": "@jupyter-widgets/controls",
      "model_module_version": "1.5.0",
      "model_name": "HBoxModel",
      "state": {
       "children": [
        "IPY_MODEL_6e6edb4be612428eade65fb9c44a305c",
        "IPY_MODEL_a3bd77678d5b49a98071a1fd2b583a0d",
        "IPY_MODEL_ffb2953e778d46128e1873d907df4f4c",
        "IPY_MODEL_9deb7fb6560342f0b4f39c5f1b61d22b"
       ],
       "layout": "IPY_MODEL_525ce44d492b451dbaa03e9d98a643eb"
      }
     },
     "7f3427ba8b674be7a044174652283678": {
      "model_module": "@jupyter-widgets/base",
      "model_module_version": "1.2.0",
      "model_name": "LayoutModel",
      "state": {}
     },
     "80484455650a4a43a66d21d3f3472f04": {
      "model_module": "@jupyter-widgets/base",
      "model_module_version": "1.2.0",
      "model_name": "LayoutModel",
      "state": {}
     },
     "8236b2d422d94a389aa606760585f065": {
      "model_module": "@jupyter-widgets/base",
      "model_module_version": "1.2.0",
      "model_name": "LayoutModel",
      "state": {}
     },
     "82796e1e16984b7f8a77ac2aefd6dd99": {
      "model_module": "@jupyter-widgets/base",
      "model_module_version": "1.2.0",
      "model_name": "LayoutModel",
      "state": {}
     },
     "8764d2bf5b5b4d2c977ea1427c1b55c1": {
      "model_module": "@jupyter-widgets/controls",
      "model_module_version": "1.5.0",
      "model_name": "DescriptionStyleModel",
      "state": {
       "description_width": ""
      }
     },
     "8fff5c84d1f6447599cf4957ef1996a9": {
      "model_module": "@jupyter-widgets/base",
      "model_module_version": "1.2.0",
      "model_name": "LayoutModel",
      "state": {}
     },
     "95b357ab4ac54acda413ed5668c51e06": {
      "model_module": "@jupyter-widgets/base",
      "model_module_version": "1.2.0",
      "model_name": "LayoutModel",
      "state": {
       "margin": "0px 0px 0px 80px"
      }
     },
     "98103ec8f0f547a18a22004a21635f5d": {
      "model_module": "@jupyter-widgets/controls",
      "model_module_version": "1.5.0",
      "model_name": "VBoxModel",
      "state": {
       "children": [
        "IPY_MODEL_d1ae3bd75e1b4bdd94d16e73ca0d4b10",
        "IPY_MODEL_6d2c0c2a9e0c47e187b0bfcc26663b51"
       ],
       "layout": "IPY_MODEL_4d5e59c6fa5c43848fc48ad5d825678c"
      }
     },
     "9deb7fb6560342f0b4f39c5f1b61d22b": {
      "model_module": "@jupyter-widgets/controls",
      "model_module_version": "1.5.0",
      "model_name": "DropdownModel",
      "state": {
       "_options_labels": [
        "Standard fixed broadband coverage/availability",
        "NGA broadband coverage/availability",
        "Households with a broadband connection",
        "Households with fixed broadband connection"
       ],
       "index": 0,
       "layout": "IPY_MODEL_d816d167e4c24710b9c1181d8b7de3e5",
       "style": "IPY_MODEL_73a707d97b254b9d9597917b8db1649e"
      }
     },
     "a3bd77678d5b49a98071a1fd2b583a0d": {
      "model_module": "@jupyter-widgets/controls",
      "model_module_version": "1.5.0",
      "model_name": "DropdownModel",
      "state": {
       "_options_labels": [
        "Broadband take-up and coverage",
        "Broadband speeds and prices",
        "Mobile market",
        "Internet usage",
        "Take up of internet services",
        "eGovernment",
        "Digital skills",
        "ICT Specialists",
        "Security and privacy"
       ],
       "index": 0,
       "layout": "IPY_MODEL_2fb7a337541b4eecbade4b76e5c5040d",
       "style": "IPY_MODEL_8764d2bf5b5b4d2c977ea1427c1b55c1"
      }
     },
     "c28c9bbdd22a489b88564f4e0de2da00": {
      "model_module": "@jupyter-widgets/controls",
      "model_module_version": "1.5.0",
      "model_name": "HBoxModel",
      "state": {
       "children": [
        "IPY_MODEL_429b95f7cb50413eb2faae14aac2ba7e",
        "IPY_MODEL_de404e3cb83a469db1e5a0738a2b385a",
        "IPY_MODEL_7991647f33c54de9b0a094796045a3e7",
        "IPY_MODEL_4373b138e1c143fa84393c4b40b0dacc"
       ],
       "layout": "IPY_MODEL_4484b82162a5434f9f7d0cafd1603772"
      }
     },
     "c4f1c648105046ccb7bafa17ed6b391b": {
      "model_module": "@jupyter-widgets/controls",
      "model_module_version": "1.5.0",
      "model_name": "DescriptionStyleModel",
      "state": {
       "description_width": ""
      }
     },
     "cb33fa6c0fe34ad18fa6db4d779da639": {
      "model_module": "@jupyter-widgets/base",
      "model_module_version": "1.2.0",
      "model_name": "LayoutModel",
      "state": {}
     },
     "cb7f820282a745c99db7d2a159b96d4a": {
      "model_module": "@jupyter-widgets/base",
      "model_module_version": "1.2.0",
      "model_name": "LayoutModel",
      "state": {}
     },
     "d1ae3bd75e1b4bdd94d16e73ca0d4b10": {
      "model_module": "@jupyter-widgets/controls",
      "model_module_version": "1.5.0",
      "model_name": "VBoxModel",
      "state": {
       "children": [
        "IPY_MODEL_27a2286233a54d85bdc4016f7cb0ab7c",
        "IPY_MODEL_7d1f2ddebf6940d4be87c565f8e47b37"
       ],
       "layout": "IPY_MODEL_5e55de44d8f6422ebf77537f28b105e2"
      }
     },
     "d816d167e4c24710b9c1181d8b7de3e5": {
      "model_module": "@jupyter-widgets/base",
      "model_module_version": "1.2.0",
      "model_name": "LayoutModel",
      "state": {}
     },
     "de404e3cb83a469db1e5a0738a2b385a": {
      "model_module": "@jupyter-widgets/controls",
      "model_module_version": "1.5.0",
      "model_name": "DropdownModel",
      "state": {
       "_options_labels": [
        "Broadband take-up and coverage",
        "Broadband speeds and prices",
        "Mobile market",
        "Internet usage",
        "Take up of internet services",
        "eGovernment",
        "Digital skills",
        "ICT Specialists",
        "Security and privacy"
       ],
       "index": 1,
       "layout": "IPY_MODEL_82796e1e16984b7f8a77ac2aefd6dd99",
       "style": "IPY_MODEL_01eab46ad0c440789e46e3f06f312993"
      }
     },
     "e1ce05a0b5cd4107b8d415ba66a3c30b": {
      "model_module": "plotlywidget",
      "model_module_version": "^4.9.0",
      "model_name": "FigureModel",
      "state": {
       "_config": {
        "plotlyServerURL": "https://plot.ly"
       },
       "_data": [
        {
         "line": {
          "shape": "spline",
          "smoothing": 1.3
         },
         "name": "Estonia",
         "type": "scatter",
         "uid": "0034fb77-1c32-4ddd-83df-98d71f0066ee",
         "visible": true,
         "x": [
          "2011-12-01 00:00:00",
          "2012-06-01 00:00:00",
          "2012-12-01 00:00:00",
          "2013-06-01 00:00:00",
          "2013-12-01 00:00:00",
          "2014-06-01 00:00:00",
          "2014-12-01 00:00:00",
          "2015-06-01 00:00:00",
          "2016-12-01 00:00:00",
          "2017-06-01 00:00:00",
          "2017-12-01 00:00:00",
          "2018-06-01 00:00:00",
          "2018-12-01 00:00:00",
          "2019-06-01 00:00:00"
         ],
         "y": [
          0.0324808,
          0.03327480000000001,
          0.035387699999999994,
          0.036978,
          0.0394966,
          0.0435535,
          0.0527947,
          0.0651649,
          "0.115414",
          "0.115374",
          0.131943,
          0.13253,
          0.150667,
          0.17038699999999998
         ]
        },
        {
         "line": {
          "shape": "spline",
          "smoothing": 1.3
         },
         "name": "Greece",
         "type": "scatter",
         "uid": "06aea31c-0844-4aa1-b18f-27adf1b3e86b",
         "visible": "legendonly",
         "x": [
          "2011-12-01 00:00:00",
          "2012-06-01 00:00:00",
          "2012-12-01 00:00:00",
          "2013-06-01 00:00:00",
          "2013-12-01 00:00:00",
          "2014-06-01 00:00:00",
          "2014-12-01 00:00:00",
          "2015-06-01 00:00:00",
          "2016-12-01 00:00:00",
          "2017-06-01 00:00:00",
          "2017-12-01 00:00:00",
          "2018-06-01 00:00:00",
          "2018-12-01 00:00:00",
          "2019-06-01 00:00:00"
         ],
         "y": [
          "nan",
          "nan",
          "nan",
          "nan",
          "nan",
          "nan",
          "nan",
          0.00011847299999999999,
          "0.000155739",
          0.000173867,
          0.000541519,
          0.00339916,
          0.00615265,
          0.011123899999999999
         ]
        },
        {
         "line": {
          "shape": "spline",
          "smoothing": 1.3
         },
         "name": "Spain",
         "type": "scatter",
         "uid": "756b809c-eb38-4c27-aa36-a62c55afaa68",
         "visible": "legendonly",
         "x": [
          "2011-12-01 00:00:00",
          "2012-06-01 00:00:00",
          "2012-12-01 00:00:00",
          "2013-06-01 00:00:00",
          "2013-12-01 00:00:00",
          "2014-06-01 00:00:00",
          "2014-12-01 00:00:00",
          "2015-06-01 00:00:00",
          "2016-12-01 00:00:00",
          "2017-06-01 00:00:00",
          "2017-12-01 00:00:00",
          "2018-06-01 00:00:00",
          "2018-12-01 00:00:00",
          "2019-06-01 00:00:00"
         ],
         "y": [
          0.0188623,
          0.00547185,
          0.0188623,
          0.0351278,
          0.0588875,
          0.0809151,
          0.108449,
          0.13753800000000002,
          "0.243452",
          "0.240117",
          0.255877,
          0.389434,
          0.554125,
          0.678614
         ]
        },
        {
         "line": {
          "shape": "spline",
          "smoothing": 1.3
         },
         "name": "Finland",
         "type": "scatter",
         "uid": "45de9269-ab84-476c-a025-351f6f0ce8be",
         "visible": "legendonly",
         "x": [
          "2011-12-01 00:00:00",
          "2012-06-01 00:00:00",
          "2012-12-01 00:00:00",
          "2013-06-01 00:00:00",
          "2013-12-01 00:00:00",
          "2014-06-01 00:00:00",
          "2014-12-01 00:00:00",
          "2015-06-01 00:00:00",
          "2016-12-01 00:00:00",
          "2017-06-01 00:00:00",
          "2017-12-01 00:00:00",
          "2018-06-01 00:00:00",
          "2018-12-01 00:00:00",
          "2019-06-01 00:00:00"
         ],
         "y": [
          0.0560399,
          0.0746934,
          0.0985728,
          0.12726099999999999,
          0.15627,
          0.179561,
          0.203185,
          0.22888200000000003,
          "0.282886",
          "0.299181",
          0.319291,
          0.35597199999999996,
          0.361543,
          0.405789
         ]
        },
        {
         "line": {
          "shape": "spline",
          "smoothing": 1.3
         },
         "name": "France",
         "type": "scatter",
         "uid": "b80ef891-0d03-4ed3-8281-63d03b9a7a59",
         "visible": "legendonly",
         "x": [
          "2011-12-01 00:00:00",
          "2012-06-01 00:00:00",
          "2012-12-01 00:00:00",
          "2013-06-01 00:00:00",
          "2013-12-01 00:00:00",
          "2014-06-01 00:00:00",
          "2014-12-01 00:00:00",
          "2015-06-01 00:00:00",
          "2016-12-01 00:00:00",
          "2017-06-01 00:00:00",
          "2017-12-01 00:00:00",
          "2018-06-01 00:00:00",
          "2018-12-01 00:00:00",
          "2019-06-01 00:00:00"
         ],
         "y": [
          "nan",
          0.0332852,
          0.0399589,
          0.0463931,
          0.053639099999999995,
          0.061834900000000005,
          0.07205360000000001,
          0.0838169,
          "0.126972",
          "0.145361",
          0.167484,
          0.188614,
          0.21877,
          0.246221
         ]
        },
        {
         "line": {
          "shape": "spline",
          "smoothing": 1.3
         },
         "name": "Croatia",
         "type": "scatter",
         "uid": "8c982475-0deb-4264-8c0c-16ef8af75c62",
         "visible": "legendonly",
         "x": [
          "2011-12-01 00:00:00",
          "2012-06-01 00:00:00",
          "2012-12-01 00:00:00",
          "2013-06-01 00:00:00",
          "2013-12-01 00:00:00",
          "2014-06-01 00:00:00",
          "2014-12-01 00:00:00",
          "2015-06-01 00:00:00",
          "2016-12-01 00:00:00",
          "2017-06-01 00:00:00",
          "2017-12-01 00:00:00",
          "2018-06-01 00:00:00",
          "2018-12-01 00:00:00",
          "2019-06-01 00:00:00"
         ],
         "y": [
          "nan",
          "nan",
          "nan",
          "nan",
          "nan",
          0.0000352275,
          0.0000315066,
          0.00189432,
          0.0135764,
          0.020108599999999997,
          0.053547800000000007,
          0.0647016,
          0.07567230000000001,
          0.08820499999999999
         ]
        },
        {
         "line": {
          "shape": "spline",
          "smoothing": 1.3
         },
         "name": "Hungary",
         "type": "scatter",
         "uid": "850a40ea-9d51-4c25-991e-d9a934ff133c",
         "visible": "legendonly",
         "x": [
          "2011-12-01 00:00:00",
          "2012-06-01 00:00:00",
          "2012-12-01 00:00:00",
          "2013-06-01 00:00:00",
          "2013-12-01 00:00:00",
          "2014-06-01 00:00:00",
          "2014-12-01 00:00:00",
          "2015-06-01 00:00:00",
          "2016-12-01 00:00:00",
          "2017-06-01 00:00:00",
          "2017-12-01 00:00:00",
          "2018-06-01 00:00:00",
          "2018-12-01 00:00:00",
          "2019-06-01 00:00:00"
         ],
         "y": [
          0.0150993,
          0.014699700000000001,
          0.015397399999999999,
          0.0217963,
          0.03918819999999999,
          0.048988,
          0.0640363,
          0.198496,
          "0.334364",
          "0.383485",
          0.476365,
          0.523137,
          0.574971,
          0.622021
         ]
        },
        {
         "line": {
          "color": "rgb(1.0, 0.4980392156862745, 0.0)",
          "shape": "spline",
          "smoothing": 1.3
         },
         "name": "Ireland",
         "type": "scatter",
         "uid": "22bf5b07-7558-4697-bd52-58cfc54c0521",
         "visible": "legendonly",
         "x": [
          "2011-12-01 00:00:00",
          "2012-06-01 00:00:00",
          "2012-12-01 00:00:00",
          "2013-06-01 00:00:00",
          "2013-12-01 00:00:00",
          "2014-06-01 00:00:00",
          "2014-12-01 00:00:00",
          "2015-06-01 00:00:00",
          "2016-12-01 00:00:00",
          "2017-06-01 00:00:00",
          "2017-12-01 00:00:00",
          "2018-06-01 00:00:00",
          "2018-12-01 00:00:00",
          "2019-06-01 00:00:00"
         ],
         "y": [
          0.00421353,
          0.0074960999999999995,
          0.0139368,
          0.041644400000000005,
          0.0747403,
          0.192162,
          0.20381300000000002,
          0.174812,
          0.219216,
          0.23633200000000001,
          0.263917,
          0.276003,
          0.299566,
          0.334276
         ]
        },
        {
         "line": {
          "shape": "spline",
          "smoothing": 1.3
         },
         "name": "Iceland",
         "type": "scatter",
         "uid": "4a43ccd3-ad02-4c34-94d7-8e6480114750",
         "visible": "legendonly",
         "x": [],
         "y": []
        },
        {
         "line": {
          "shape": "spline",
          "smoothing": 1.3
         },
         "name": "Deutschland",
         "type": "scatter",
         "uid": "883d3837-0c67-483e-b1e6-2994135bd228",
         "visible": "legendonly",
         "x": [
          "2011-12-01 00:00:00",
          "2012-06-01 00:00:00",
          "2012-12-01 00:00:00",
          "2013-06-01 00:00:00",
          "2013-12-01 00:00:00",
          "2014-06-01 00:00:00",
          "2014-12-01 00:00:00",
          "2015-06-01 00:00:00",
          "2016-12-01 00:00:00",
          "2017-06-01 00:00:00",
          "2017-12-01 00:00:00",
          "2018-06-01 00:00:00",
          "2018-12-01 00:00:00",
          "2019-06-01 00:00:00"
         ],
         "y": [
          0.00368568,
          0.00679999,
          0.0116145,
          0.018213,
          0.025662900000000002,
          0.0369675,
          0.051915300000000004,
          0.0644976,
          "0.110152",
          "0.126503",
          0.148215,
          0.172931,
          0.19881500000000002,
          0.233194
         ]
        },
        {
         "line": {
          "color": "rgb(1.0, 1.0, 0.6)",
          "shape": "spline",
          "smoothing": 1.3
         },
         "name": "Czech Rep.",
         "type": "scatter",
         "uid": "d8312abb-7059-4d40-b104-529e107f7938",
         "visible": "legendonly",
         "x": [
          "2011-12-01 00:00:00",
          "2012-06-01 00:00:00",
          "2012-12-01 00:00:00",
          "2013-06-01 00:00:00",
          "2013-12-01 00:00:00",
          "2014-06-01 00:00:00",
          "2014-12-01 00:00:00",
          "2015-06-01 00:00:00",
          "2016-12-01 00:00:00",
          "2017-06-01 00:00:00",
          "2017-12-01 00:00:00",
          "2018-06-01 00:00:00",
          "2018-12-01 00:00:00",
          "2019-06-01 00:00:00"
         ],
         "y": [
          0.00663889,
          0.0147807,
          0.013111000000000001,
          0.0170152,
          0.03830580000000001,
          0.0450518,
          0.0507094,
          0.0872217,
          "0.204525",
          "0.212345",
          0.23665999999999998,
          0.241035,
          0.253352,
          0.274967
         ]
        },
        {
         "line": {
          "shape": "spline",
          "smoothing": 1.3
         },
         "name": "Denmark",
         "type": "scatter",
         "uid": "b877319a-10fc-4022-ae5d-30846bcb2308",
         "visible": "legendonly",
         "x": [
          "2011-12-01 00:00:00",
          "2012-06-01 00:00:00",
          "2012-12-01 00:00:00",
          "2013-06-01 00:00:00",
          "2013-12-01 00:00:00",
          "2014-06-01 00:00:00",
          "2014-12-01 00:00:00",
          "2015-06-01 00:00:00",
          "2016-12-01 00:00:00",
          "2017-06-01 00:00:00",
          "2017-12-01 00:00:00",
          "2018-06-01 00:00:00",
          "2018-12-01 00:00:00",
          "2019-06-01 00:00:00"
         ],
         "y": [
          0.014581799999999999,
          0.00766785,
          0.0111489,
          0.015687100000000002,
          0.0168177,
          0.0178579,
          0.0321324,
          0.0929839,
          "0.169521",
          "0.216591",
          0.315345,
          0.345975,
          0.374772,
          0.40389400000000003
         ]
        },
        {
         "line": {
          "color": "rgb(0.00784313725490196, 0.24313725490196078, 1.0)",
          "shape": "spline",
          "smoothing": 1.3
         },
         "name": "Italy",
         "type": "scatter",
         "uid": "21648c6b-daa0-4971-99b7-69bbced26a20",
         "visible": true,
         "x": [
          "2011-12-01 00:00:00",
          "2012-06-01 00:00:00",
          "2012-12-01 00:00:00",
          "2013-06-01 00:00:00",
          "2013-12-01 00:00:00",
          "2014-06-01 00:00:00",
          "2014-12-01 00:00:00",
          "2015-06-01 00:00:00",
          "2016-12-01 00:00:00",
          "2017-06-01 00:00:00",
          "2017-12-01 00:00:00",
          "2018-06-01 00:00:00",
          "2018-12-01 00:00:00",
          "2019-06-01 00:00:00"
         ],
         "y": [
          0.00007538010000000001,
          0.0000688492,
          0.0000597821,
          0.000108572,
          0.00384406,
          0.00431108,
          0.00473231,
          0.00965077,
          "0.0291326",
          "0.0847612",
          0.10808,
          0.14771800000000002,
          0.189419,
          0.22081900000000002
         ]
        },
        {
         "line": {
          "color": "rgb(1.0, 0.48627450980392156, 0.0)",
          "shape": "spline",
          "smoothing": 1.3
         },
         "name": "Lithuania",
         "type": "scatter",
         "uid": "bc4c80af-6d78-4bd8-a2f7-5bfc7120e604",
         "visible": "legendonly",
         "x": [
          "2011-12-01 00:00:00",
          "2012-06-01 00:00:00",
          "2012-12-01 00:00:00",
          "2013-06-01 00:00:00",
          "2013-12-01 00:00:00",
          "2014-06-01 00:00:00",
          "2014-12-01 00:00:00",
          "2015-06-01 00:00:00",
          "2016-12-01 00:00:00",
          "2017-06-01 00:00:00",
          "2017-12-01 00:00:00",
          "2018-06-01 00:00:00",
          "2018-12-01 00:00:00",
          "2019-06-01 00:00:00"
         ],
         "y": [
          0.0939956,
          0.0990669,
          0.10069299999999999,
          0.100477,
          0.09556039999999999,
          0.106635,
          0.11089,
          0.170506,
          0.26811599999999997,
          0.419745,
          0.44000500000000003,
          0.457509,
          0.465316,
          0.470829
         ]
        },
        {
         "line": {
          "shape": "spline",
          "smoothing": 1.3
         },
         "name": "Luxembourg",
         "type": "scatter",
         "uid": "d3de4a52-90a9-4fe5-ba98-915ea0b68042",
         "visible": "legendonly",
         "x": [
          "2011-12-01 00:00:00",
          "2012-06-01 00:00:00",
          "2012-12-01 00:00:00",
          "2013-06-01 00:00:00",
          "2013-12-01 00:00:00",
          "2014-06-01 00:00:00",
          "2014-12-01 00:00:00",
          "2015-06-01 00:00:00",
          "2016-12-01 00:00:00",
          "2017-06-01 00:00:00",
          "2017-12-01 00:00:00",
          "2018-06-01 00:00:00",
          "2018-12-01 00:00:00",
          "2019-06-01 00:00:00"
         ],
         "y": [
          0.00139961,
          0.00416517,
          0.007717100000000001,
          0.00839129,
          0.0142179,
          0.054642899999999994,
          0.0742119,
          0.0888567,
          "0.189802",
          "0.238972",
          0.308084,
          0.380837,
          0.4318,
          0.494154
         ]
        },
        {
         "line": {
          "shape": "spline",
          "smoothing": 1.3
         },
         "name": "Latvia",
         "type": "scatter",
         "uid": "fa2d6b55-ce18-4fbf-9cfb-3b1d63ef8726",
         "visible": "legendonly",
         "x": [
          "2011-12-01 00:00:00",
          "2012-06-01 00:00:00",
          "2012-12-01 00:00:00",
          "2013-06-01 00:00:00",
          "2013-12-01 00:00:00",
          "2014-06-01 00:00:00",
          "2014-12-01 00:00:00",
          "2015-06-01 00:00:00",
          "2016-12-01 00:00:00",
          "2017-06-01 00:00:00",
          "2017-12-01 00:00:00",
          "2018-06-01 00:00:00",
          "2018-12-01 00:00:00",
          "2019-06-01 00:00:00"
         ],
         "y": [
          0.154497,
          0.13663499999999998,
          0.204998,
          0.206223,
          0.356166,
          0.378544,
          0.402025,
          0.421867,
          "0.492272",
          "0.549095",
          0.530207,
          0.532704,
          0.590194,
          0.600255
         ]
        },
        {
         "line": {
          "shape": "spline",
          "smoothing": 1.3
         },
         "name": "Malta",
         "type": "scatter",
         "uid": "c16dd630-df51-41f4-a982-70fd19eb87a1",
         "visible": "legendonly",
         "x": [
          "2011-12-01 00:00:00",
          "2012-06-01 00:00:00",
          "2012-12-01 00:00:00",
          "2013-06-01 00:00:00",
          "2013-12-01 00:00:00",
          "2014-06-01 00:00:00",
          "2014-12-01 00:00:00",
          "2015-06-01 00:00:00",
          "2016-12-01 00:00:00",
          "2017-06-01 00:00:00",
          "2017-12-01 00:00:00",
          "2018-06-01 00:00:00",
          "2018-12-01 00:00:00",
          "2019-06-01 00:00:00"
         ],
         "y": [
          0.00489335,
          0.00631438,
          0.0063969,
          0.00672546,
          0.00678691,
          0.00844277,
          0.00705415,
          0.00965114,
          "0.0616546",
          "0.136471",
          0.200146,
          0.272744,
          0.33257600000000004,
          0.402013
         ]
        },
        {
         "line": {
          "shape": "spline",
          "smoothing": 1.3
         },
         "name": "Netherlands",
         "type": "scatter",
         "uid": "fd232ed2-ab59-415e-b4ab-4f6985847980",
         "visible": "legendonly",
         "x": [
          "2011-12-01 00:00:00",
          "2012-06-01 00:00:00",
          "2012-12-01 00:00:00",
          "2013-06-01 00:00:00",
          "2013-12-01 00:00:00",
          "2014-06-01 00:00:00",
          "2014-12-01 00:00:00",
          "2015-06-01 00:00:00",
          "2016-12-01 00:00:00",
          "2017-06-01 00:00:00",
          "2017-12-01 00:00:00",
          "2018-06-01 00:00:00",
          "2018-12-01 00:00:00",
          "2019-06-01 00:00:00"
         ],
         "y": [
          0.0207302,
          0.028175400000000003,
          0.0409806,
          0.053997199999999995,
          0.09277619999999999,
          0.131241,
          0.160813,
          0.17504,
          0.322986,
          0.329496,
          0.32605300000000004,
          0.396516,
          0.395381,
          0.403858
         ]
        },
        {
         "line": {
          "shape": "spline",
          "smoothing": 1.3
         },
         "name": "Norway",
         "type": "scatter",
         "uid": "560e5cbf-333a-4e69-b206-bb911be5bbca",
         "visible": "legendonly",
         "x": [],
         "y": []
        },
        {
         "line": {
          "shape": "spline",
          "smoothing": 1.3
         },
         "name": "Portugal",
         "type": "scatter",
         "uid": "f0fcca31-f532-456c-99cd-c890ceaf1949",
         "visible": "legendonly",
         "x": [
          "2011-12-01 00:00:00",
          "2012-06-01 00:00:00",
          "2012-12-01 00:00:00",
          "2013-06-01 00:00:00",
          "2013-12-01 00:00:00",
          "2014-06-01 00:00:00",
          "2014-12-01 00:00:00",
          "2015-06-01 00:00:00",
          "2016-12-01 00:00:00",
          "2017-06-01 00:00:00",
          "2017-12-01 00:00:00",
          "2018-06-01 00:00:00",
          "2018-12-01 00:00:00",
          "2019-06-01 00:00:00"
         ],
         "y": [
          0.013367799999999999,
          0.04679880000000001,
          0.10413399999999999,
          0.16430999999999998,
          0.187257,
          0.22640100000000002,
          0.222575,
          0.25455,
          0.42976499999999995,
          0.490868,
          0.631211,
          0.678165,
          0.716458,
          0.7485149999999999
         ]
        },
        {
         "line": {
          "color": "rgb(1.0, 0.7686274509803922, 0.0)",
          "shape": "spline",
          "smoothing": 1.3
         },
         "name": "Poland",
         "type": "scatter",
         "uid": "5fe02db3-05c9-48e0-9ab6-ef483648cbad",
         "visible": "legendonly",
         "x": [
          "2011-12-01 00:00:00",
          "2012-06-01 00:00:00",
          "2012-12-01 00:00:00",
          "2013-06-01 00:00:00",
          "2013-12-01 00:00:00",
          "2014-06-01 00:00:00",
          "2014-12-01 00:00:00",
          "2015-06-01 00:00:00",
          "2016-12-01 00:00:00",
          "2017-06-01 00:00:00",
          "2017-12-01 00:00:00",
          "2018-06-01 00:00:00",
          "2018-12-01 00:00:00",
          "2019-06-01 00:00:00"
         ],
         "y": [
          0.00638424,
          0.00977355,
          0.010798700000000001,
          0.014568799999999998,
          0.0247233,
          0.031681799999999996,
          0.031681400000000005,
          0.08356419999999999,
          0.1755,
          0.21631399999999998,
          0.273696,
          0.381303,
          0.428717,
          0.442201
         ]
        },
        {
         "line": {
          "color": "rgb(0.0, 0.8431372549019608, 1.0)",
          "shape": "spline",
          "smoothing": 1.3
         },
         "name": "Europe",
         "type": "scatter",
         "uid": "9141f0e4-a731-4053-9ec8-9df2b8eaedf2",
         "visible": "legendonly",
         "x": [
          "2011-12-01 00:00:00",
          "2012-06-01 00:00:00",
          "2012-12-01 00:00:00",
          "2013-06-01 00:00:00",
          "2013-12-01 00:00:00",
          "2014-06-01 00:00:00",
          "2014-12-01 00:00:00",
          "2015-06-01 00:00:00",
          "2015-12-01 00:00:00",
          "2016-06-01 00:00:00",
          "2016-12-01 00:00:00",
          "2017-06-01 00:00:00",
          "2017-12-01 00:00:00",
          "2018-06-01 00:00:00",
          "2018-12-01 00:00:00",
          "2019-06-01 00:00:00"
         ],
         "y": [
          0.0161791,
          0.024669299999999998,
          0.0332593,
          0.0421054,
          0.0536692,
          0.06651889999999999,
          0.08656060000000002,
          "0.107555",
          "0.135723",
          "0.152986",
          0.177594,
          0.204154,
          0.22693200000000002,
          0.26255300000000004,
          0.300187,
          0.33308000000000004
         ]
        },
        {
         "line": {
          "shape": "spline",
          "smoothing": 1.3
         },
         "name": "Romania",
         "type": "scatter",
         "uid": "0226e3c7-a2b8-49f9-9e99-701d27618d63",
         "visible": "legendonly",
         "x": [
          "2011-12-01 00:00:00",
          "2012-06-01 00:00:00",
          "2012-12-01 00:00:00",
          "2013-06-01 00:00:00",
          "2013-12-01 00:00:00",
          "2014-06-01 00:00:00",
          "2014-12-01 00:00:00",
          "2015-06-01 00:00:00",
          "2016-12-01 00:00:00",
          "2017-06-01 00:00:00",
          "2017-12-01 00:00:00",
          "2018-06-01 00:00:00",
          "2018-12-01 00:00:00",
          "2019-06-01 00:00:00"
         ],
         "y": [
          0.16000599999999998,
          0.17191800000000002,
          0.1892,
          0.23115700000000003,
          0.24548899999999999,
          0.277661,
          0.46585600000000005,
          0.45956099999999994,
          "0.563293",
          0.654883,
          0.6570590000000001,
          0.682602,
          0.7156359999999999,
          0.741594
         ]
        },
        {
         "line": {
          "shape": "spline",
          "smoothing": 1.3
         },
         "name": "Sweden",
         "type": "scatter",
         "uid": "b7ebeb56-a6a9-4291-a8d5-8810e566777d",
         "visible": "legendonly",
         "x": [
          "2011-12-01 00:00:00",
          "2012-06-01 00:00:00",
          "2012-12-01 00:00:00",
          "2013-06-01 00:00:00",
          "2013-12-01 00:00:00",
          "2014-06-01 00:00:00",
          "2014-12-01 00:00:00",
          "2015-06-01 00:00:00",
          "2016-12-01 00:00:00",
          "2017-06-01 00:00:00",
          "2017-12-01 00:00:00",
          "2018-06-01 00:00:00",
          "2018-12-01 00:00:00",
          "2019-06-01 00:00:00"
         ],
         "y": [
          0.16395099999999999,
          0.17647100000000002,
          0.24602800000000002,
          0.272497,
          0.312677,
          0.33577199999999996,
          0.38374899999999995,
          0.415292,
          "0.591626",
          "0.607918",
          0.672064,
          0.711101,
          0.7351489999999999,
          0.762471
         ]
        },
        {
         "line": {
          "shape": "spline",
          "smoothing": 1.3
         },
         "name": "Slovenia",
         "type": "scatter",
         "uid": "8be01d4a-95d6-4367-b8d5-af55086c41cb",
         "visible": "legendonly",
         "x": [
          "2011-12-01 00:00:00",
          "2012-06-01 00:00:00",
          "2012-12-01 00:00:00",
          "2013-06-01 00:00:00",
          "2013-12-01 00:00:00",
          "2014-06-01 00:00:00",
          "2014-12-01 00:00:00",
          "2015-06-01 00:00:00",
          "2016-12-01 00:00:00",
          "2017-06-01 00:00:00",
          "2017-12-01 00:00:00",
          "2018-06-01 00:00:00",
          "2018-12-01 00:00:00",
          "2019-06-01 00:00:00"
         ],
         "y": [
          0.0161612,
          0.0246572,
          0.032145299999999995,
          0.036823400000000006,
          0.0406366,
          0.044338,
          0.0607873,
          0.0713877,
          0.152937,
          0.17561500000000002,
          0.155589,
          0.187698,
          0.20013599999999998,
          0.24614899999999998
         ]
        },
        {
         "line": {
          "shape": "spline",
          "smoothing": 1.3
         },
         "name": "Slovakia",
         "type": "scatter",
         "uid": "70c3d097-e2cc-4ad5-9888-e4f2361475ee",
         "visible": "legendonly",
         "x": [
          "2011-12-01 00:00:00",
          "2012-06-01 00:00:00",
          "2012-12-01 00:00:00",
          "2013-06-01 00:00:00",
          "2013-12-01 00:00:00",
          "2014-06-01 00:00:00",
          "2014-12-01 00:00:00",
          "2015-06-01 00:00:00",
          "2016-12-01 00:00:00",
          "2017-06-01 00:00:00",
          "2017-12-01 00:00:00",
          "2018-06-01 00:00:00",
          "2018-12-01 00:00:00",
          "2019-06-01 00:00:00"
         ],
         "y": [
          0.0187287,
          0.030331,
          0.0343195,
          0.039058499999999996,
          0.0827495,
          0.0899602,
          0.0948585,
          0.100686,
          "0.126903",
          "0.138023",
          0.18325,
          0.1831,
          0.19128599999999998,
          0.202993
         ]
        },
        {
         "line": {
          "shape": "spline",
          "smoothing": 1.3
         },
         "name": "United Kingdom",
         "type": "scatter",
         "uid": "8c8d7dc2-8bc9-42a3-8157-6e6fd930b1bd",
         "visible": "legendonly",
         "x": [
          "2011-12-01 00:00:00",
          "2012-06-01 00:00:00",
          "2012-12-01 00:00:00",
          "2013-06-01 00:00:00",
          "2013-12-01 00:00:00",
          "2014-06-01 00:00:00",
          "2014-12-01 00:00:00",
          "2015-06-01 00:00:00",
          "2016-12-01 00:00:00",
          "2017-06-01 00:00:00",
          "2017-12-01 00:00:00",
          "2018-06-01 00:00:00",
          "2018-12-01 00:00:00",
          "2019-06-01 00:00:00"
         ],
         "y": [
          0.0005919969999999999,
          0.00354527,
          0.00938455,
          0.0124892,
          0.013474200000000002,
          0.028589499999999997,
          0.054925199999999993,
          0.0721164,
          0.136044,
          0.16780899999999999,
          0.170208,
          0.170645,
          0.187417,
          0.19961099999999998
         ]
        },
        {
         "line": {
          "shape": "spline",
          "smoothing": 1.3
         },
         "name": "Austria",
         "type": "scatter",
         "uid": "00cffd61-4b97-462a-9df4-902a54cabbcb",
         "visible": "legendonly",
         "x": [
          "2011-12-01 00:00:00",
          "2012-06-01 00:00:00",
          "2012-12-01 00:00:00",
          "2013-06-01 00:00:00",
          "2013-12-01 00:00:00",
          "2014-06-01 00:00:00",
          "2014-12-01 00:00:00",
          "2015-06-01 00:00:00",
          "2016-12-01 00:00:00",
          "2017-06-01 00:00:00",
          "2017-12-01 00:00:00",
          "2018-06-01 00:00:00",
          "2018-12-01 00:00:00",
          "2019-06-01 00:00:00"
         ],
         "y": [
          0.00851,
          0.0194923,
          0.0178958,
          0.0173335,
          0.0212353,
          0.0208049,
          0.0342841,
          0.0356399,
          0.0449618,
          0.069703,
          0.0838873,
          0.102281,
          0.111755,
          0.404143
         ]
        },
        {
         "line": {
          "shape": "spline",
          "smoothing": 1.3
         },
         "name": "Belgium",
         "type": "scatter",
         "uid": "eb868517-2d22-44a5-9eb8-80c90b2dcbae",
         "visible": "legendonly",
         "x": [
          "2011-12-01 00:00:00",
          "2012-06-01 00:00:00",
          "2012-12-01 00:00:00",
          "2013-06-01 00:00:00",
          "2013-12-01 00:00:00",
          "2014-06-01 00:00:00",
          "2014-12-01 00:00:00",
          "2015-06-01 00:00:00",
          "2016-12-01 00:00:00",
          "2017-06-01 00:00:00",
          "2017-12-01 00:00:00",
          "2018-06-01 00:00:00",
          "2018-12-01 00:00:00",
          "2019-06-01 00:00:00"
         ],
         "y": [
          0.0756307,
          0.10307899999999999,
          0.12201400000000001,
          0.135191,
          0.132993,
          0.132993,
          0.139909,
          0.263177,
          "0.475209",
          "0.516618",
          0.523069,
          0.527751,
          0.5464600000000001,
          0.566347
         ]
        },
        {
         "line": {
          "shape": "spline",
          "smoothing": 1.3
         },
         "name": "Bulgaria",
         "type": "scatter",
         "uid": "b60703ca-c48c-4f05-8a3a-56c444af5e0e",
         "visible": "legendonly",
         "x": [
          "2011-12-01 00:00:00",
          "2012-06-01 00:00:00",
          "2012-12-01 00:00:00",
          "2013-06-01 00:00:00",
          "2013-12-01 00:00:00",
          "2014-06-01 00:00:00",
          "2014-12-01 00:00:00",
          "2015-06-01 00:00:00",
          "2016-12-01 00:00:00",
          "2017-06-01 00:00:00",
          "2017-12-01 00:00:00",
          "2018-06-01 00:00:00",
          "2018-12-01 00:00:00",
          "2019-06-01 00:00:00"
         ],
         "y": [
          0.00176734,
          0.0114214,
          0.0118455,
          0.0215912,
          0.0292821,
          0.0371288,
          0.048181199999999993,
          0.0551168,
          0.09419939999999999,
          0.11139,
          0.146285,
          0.167705,
          0.17986,
          0.19022999999999998
         ]
        },
        {
         "line": {
          "shape": "spline",
          "smoothing": 1.3
         },
         "name": "Cyprus",
         "type": "scatter",
         "uid": "07e8f4be-9aba-4778-a67f-71aa01178f2c",
         "visible": "legendonly",
         "x": [
          "2011-12-01 00:00:00",
          "2012-06-01 00:00:00",
          "2012-12-01 00:00:00",
          "2013-06-01 00:00:00",
          "2013-12-01 00:00:00",
          "2014-06-01 00:00:00",
          "2014-12-01 00:00:00",
          "2015-06-01 00:00:00",
          "2016-12-01 00:00:00",
          "2017-06-01 00:00:00",
          "2017-12-01 00:00:00",
          "2018-06-01 00:00:00",
          "2018-12-01 00:00:00",
          "2019-06-01 00:00:00"
         ],
         "y": [
          "nan",
          0.00038903699999999995,
          0.000544015,
          0.000606952,
          0.000607759,
          0.000627366,
          0.000718358,
          0.000744557,
          "0.00210067",
          "0.00289805",
          0.00647985,
          0.0210443,
          0.021674099999999998,
          0.027144799999999997
         ]
        },
        {
         "line": {
          "shape": "spline",
          "smoothing": 1.3
         },
         "name": "Switzerland",
         "type": "scatter",
         "uid": "684f9505-71e1-42d0-bc9a-9ee95bb9b6c1",
         "visible": "legendonly",
         "x": [],
         "y": []
        }
       ],
       "_js2py_update": {},
       "_last_layout_edit_id": 134,
       "_last_trace_edit_id": 133,
       "_layout": {
        "autosize": true,
        "height": 600,
        "legend": {
         "title": {
          "text": "Countries"
         }
        },
        "showlegend": true,
        "template": {
         "data": {
          "bar": [
           {
            "error_x": {
             "color": "#2a3f5f"
            },
            "error_y": {
             "color": "#2a3f5f"
            },
            "marker": {
             "line": {
              "color": "#E5ECF6",
              "width": 0.5
             }
            },
            "type": "bar"
           }
          ],
          "barpolar": [
           {
            "marker": {
             "line": {
              "color": "#E5ECF6",
              "width": 0.5
             }
            },
            "type": "barpolar"
           }
          ],
          "carpet": [
           {
            "aaxis": {
             "endlinecolor": "#2a3f5f",
             "gridcolor": "white",
             "linecolor": "white",
             "minorgridcolor": "white",
             "startlinecolor": "#2a3f5f"
            },
            "baxis": {
             "endlinecolor": "#2a3f5f",
             "gridcolor": "white",
             "linecolor": "white",
             "minorgridcolor": "white",
             "startlinecolor": "#2a3f5f"
            },
            "type": "carpet"
           }
          ],
          "choropleth": [
           {
            "colorbar": {
             "outlinewidth": 0,
             "ticks": ""
            },
            "type": "choropleth"
           }
          ],
          "contour": [
           {
            "colorbar": {
             "outlinewidth": 0,
             "ticks": ""
            },
            "colorscale": [
             [
              0,
              "#0d0887"
             ],
             [
              0.1111111111111111,
              "#46039f"
             ],
             [
              0.2222222222222222,
              "#7201a8"
             ],
             [
              0.3333333333333333,
              "#9c179e"
             ],
             [
              0.4444444444444444,
              "#bd3786"
             ],
             [
              0.5555555555555556,
              "#d8576b"
             ],
             [
              0.6666666666666666,
              "#ed7953"
             ],
             [
              0.7777777777777778,
              "#fb9f3a"
             ],
             [
              0.8888888888888888,
              "#fdca26"
             ],
             [
              1,
              "#f0f921"
             ]
            ],
            "type": "contour"
           }
          ],
          "contourcarpet": [
           {
            "colorbar": {
             "outlinewidth": 0,
             "ticks": ""
            },
            "type": "contourcarpet"
           }
          ],
          "heatmap": [
           {
            "colorbar": {
             "outlinewidth": 0,
             "ticks": ""
            },
            "colorscale": [
             [
              0,
              "#0d0887"
             ],
             [
              0.1111111111111111,
              "#46039f"
             ],
             [
              0.2222222222222222,
              "#7201a8"
             ],
             [
              0.3333333333333333,
              "#9c179e"
             ],
             [
              0.4444444444444444,
              "#bd3786"
             ],
             [
              0.5555555555555556,
              "#d8576b"
             ],
             [
              0.6666666666666666,
              "#ed7953"
             ],
             [
              0.7777777777777778,
              "#fb9f3a"
             ],
             [
              0.8888888888888888,
              "#fdca26"
             ],
             [
              1,
              "#f0f921"
             ]
            ],
            "type": "heatmap"
           }
          ],
          "heatmapgl": [
           {
            "colorbar": {
             "outlinewidth": 0,
             "ticks": ""
            },
            "colorscale": [
             [
              0,
              "#0d0887"
             ],
             [
              0.1111111111111111,
              "#46039f"
             ],
             [
              0.2222222222222222,
              "#7201a8"
             ],
             [
              0.3333333333333333,
              "#9c179e"
             ],
             [
              0.4444444444444444,
              "#bd3786"
             ],
             [
              0.5555555555555556,
              "#d8576b"
             ],
             [
              0.6666666666666666,
              "#ed7953"
             ],
             [
              0.7777777777777778,
              "#fb9f3a"
             ],
             [
              0.8888888888888888,
              "#fdca26"
             ],
             [
              1,
              "#f0f921"
             ]
            ],
            "type": "heatmapgl"
           }
          ],
          "histogram": [
           {
            "marker": {
             "colorbar": {
              "outlinewidth": 0,
              "ticks": ""
             }
            },
            "type": "histogram"
           }
          ],
          "histogram2d": [
           {
            "colorbar": {
             "outlinewidth": 0,
             "ticks": ""
            },
            "colorscale": [
             [
              0,
              "#0d0887"
             ],
             [
              0.1111111111111111,
              "#46039f"
             ],
             [
              0.2222222222222222,
              "#7201a8"
             ],
             [
              0.3333333333333333,
              "#9c179e"
             ],
             [
              0.4444444444444444,
              "#bd3786"
             ],
             [
              0.5555555555555556,
              "#d8576b"
             ],
             [
              0.6666666666666666,
              "#ed7953"
             ],
             [
              0.7777777777777778,
              "#fb9f3a"
             ],
             [
              0.8888888888888888,
              "#fdca26"
             ],
             [
              1,
              "#f0f921"
             ]
            ],
            "type": "histogram2d"
           }
          ],
          "histogram2dcontour": [
           {
            "colorbar": {
             "outlinewidth": 0,
             "ticks": ""
            },
            "colorscale": [
             [
              0,
              "#0d0887"
             ],
             [
              0.1111111111111111,
              "#46039f"
             ],
             [
              0.2222222222222222,
              "#7201a8"
             ],
             [
              0.3333333333333333,
              "#9c179e"
             ],
             [
              0.4444444444444444,
              "#bd3786"
             ],
             [
              0.5555555555555556,
              "#d8576b"
             ],
             [
              0.6666666666666666,
              "#ed7953"
             ],
             [
              0.7777777777777778,
              "#fb9f3a"
             ],
             [
              0.8888888888888888,
              "#fdca26"
             ],
             [
              1,
              "#f0f921"
             ]
            ],
            "type": "histogram2dcontour"
           }
          ],
          "mesh3d": [
           {
            "colorbar": {
             "outlinewidth": 0,
             "ticks": ""
            },
            "type": "mesh3d"
           }
          ],
          "parcoords": [
           {
            "line": {
             "colorbar": {
              "outlinewidth": 0,
              "ticks": ""
             }
            },
            "type": "parcoords"
           }
          ],
          "pie": [
           {
            "automargin": true,
            "type": "pie"
           }
          ],
          "scatter": [
           {
            "marker": {
             "colorbar": {
              "outlinewidth": 0,
              "ticks": ""
             }
            },
            "type": "scatter"
           }
          ],
          "scatter3d": [
           {
            "line": {
             "colorbar": {
              "outlinewidth": 0,
              "ticks": ""
             }
            },
            "marker": {
             "colorbar": {
              "outlinewidth": 0,
              "ticks": ""
             }
            },
            "type": "scatter3d"
           }
          ],
          "scattercarpet": [
           {
            "marker": {
             "colorbar": {
              "outlinewidth": 0,
              "ticks": ""
             }
            },
            "type": "scattercarpet"
           }
          ],
          "scattergeo": [
           {
            "marker": {
             "colorbar": {
              "outlinewidth": 0,
              "ticks": ""
             }
            },
            "type": "scattergeo"
           }
          ],
          "scattergl": [
           {
            "marker": {
             "colorbar": {
              "outlinewidth": 0,
              "ticks": ""
             }
            },
            "type": "scattergl"
           }
          ],
          "scattermapbox": [
           {
            "marker": {
             "colorbar": {
              "outlinewidth": 0,
              "ticks": ""
             }
            },
            "type": "scattermapbox"
           }
          ],
          "scatterpolar": [
           {
            "marker": {
             "colorbar": {
              "outlinewidth": 0,
              "ticks": ""
             }
            },
            "type": "scatterpolar"
           }
          ],
          "scatterpolargl": [
           {
            "marker": {
             "colorbar": {
              "outlinewidth": 0,
              "ticks": ""
             }
            },
            "type": "scatterpolargl"
           }
          ],
          "scatterternary": [
           {
            "marker": {
             "colorbar": {
              "outlinewidth": 0,
              "ticks": ""
             }
            },
            "type": "scatterternary"
           }
          ],
          "surface": [
           {
            "colorbar": {
             "outlinewidth": 0,
             "ticks": ""
            },
            "colorscale": [
             [
              0,
              "#0d0887"
             ],
             [
              0.1111111111111111,
              "#46039f"
             ],
             [
              0.2222222222222222,
              "#7201a8"
             ],
             [
              0.3333333333333333,
              "#9c179e"
             ],
             [
              0.4444444444444444,
              "#bd3786"
             ],
             [
              0.5555555555555556,
              "#d8576b"
             ],
             [
              0.6666666666666666,
              "#ed7953"
             ],
             [
              0.7777777777777778,
              "#fb9f3a"
             ],
             [
              0.8888888888888888,
              "#fdca26"
             ],
             [
              1,
              "#f0f921"
             ]
            ],
            "type": "surface"
           }
          ],
          "table": [
           {
            "cells": {
             "fill": {
              "color": "#EBF0F8"
             },
             "line": {
              "color": "white"
             }
            },
            "header": {
             "fill": {
              "color": "#C8D4E3"
             },
             "line": {
              "color": "white"
             }
            },
            "type": "table"
           }
          ]
         },
         "layout": {
          "annotationdefaults": {
           "arrowcolor": "#2a3f5f",
           "arrowhead": 0,
           "arrowwidth": 1
          },
          "coloraxis": {
           "colorbar": {
            "outlinewidth": 0,
            "ticks": ""
           }
          },
          "colorscale": {
           "diverging": [
            [
             0,
             "#8e0152"
            ],
            [
             0.1,
             "#c51b7d"
            ],
            [
             0.2,
             "#de77ae"
            ],
            [
             0.3,
             "#f1b6da"
            ],
            [
             0.4,
             "#fde0ef"
            ],
            [
             0.5,
             "#f7f7f7"
            ],
            [
             0.6,
             "#e6f5d0"
            ],
            [
             0.7,
             "#b8e186"
            ],
            [
             0.8,
             "#7fbc41"
            ],
            [
             0.9,
             "#4d9221"
            ],
            [
             1,
             "#276419"
            ]
           ],
           "sequential": [
            [
             0,
             "#0d0887"
            ],
            [
             0.1111111111111111,
             "#46039f"
            ],
            [
             0.2222222222222222,
             "#7201a8"
            ],
            [
             0.3333333333333333,
             "#9c179e"
            ],
            [
             0.4444444444444444,
             "#bd3786"
            ],
            [
             0.5555555555555556,
             "#d8576b"
            ],
            [
             0.6666666666666666,
             "#ed7953"
            ],
            [
             0.7777777777777778,
             "#fb9f3a"
            ],
            [
             0.8888888888888888,
             "#fdca26"
            ],
            [
             1,
             "#f0f921"
            ]
           ],
           "sequentialminus": [
            [
             0,
             "#0d0887"
            ],
            [
             0.1111111111111111,
             "#46039f"
            ],
            [
             0.2222222222222222,
             "#7201a8"
            ],
            [
             0.3333333333333333,
             "#9c179e"
            ],
            [
             0.4444444444444444,
             "#bd3786"
            ],
            [
             0.5555555555555556,
             "#d8576b"
            ],
            [
             0.6666666666666666,
             "#ed7953"
            ],
            [
             0.7777777777777778,
             "#fb9f3a"
            ],
            [
             0.8888888888888888,
             "#fdca26"
            ],
            [
             1,
             "#f0f921"
            ]
           ]
          },
          "colorway": [
           "#636efa",
           "#EF553B",
           "#00cc96",
           "#ab63fa",
           "#FFA15A",
           "#19d3f3",
           "#FF6692",
           "#B6E880",
           "#FF97FF",
           "#FECB52"
          ],
          "font": {
           "color": "#2a3f5f"
          },
          "geo": {
           "bgcolor": "white",
           "lakecolor": "white",
           "landcolor": "#E5ECF6",
           "showlakes": true,
           "showland": true,
           "subunitcolor": "white"
          },
          "hoverlabel": {
           "align": "left"
          },
          "hovermode": "closest",
          "mapbox": {
           "style": "light"
          },
          "paper_bgcolor": "white",
          "plot_bgcolor": "#E5ECF6",
          "polar": {
           "angularaxis": {
            "gridcolor": "white",
            "linecolor": "white",
            "ticks": ""
           },
           "bgcolor": "#E5ECF6",
           "radialaxis": {
            "gridcolor": "white",
            "linecolor": "white",
            "ticks": ""
           }
          },
          "scene": {
           "xaxis": {
            "backgroundcolor": "#E5ECF6",
            "gridcolor": "white",
            "gridwidth": 2,
            "linecolor": "white",
            "showbackground": true,
            "ticks": "",
            "zerolinecolor": "white"
           },
           "yaxis": {
            "backgroundcolor": "#E5ECF6",
            "gridcolor": "white",
            "gridwidth": 2,
            "linecolor": "white",
            "showbackground": true,
            "ticks": "",
            "zerolinecolor": "white"
           },
           "zaxis": {
            "backgroundcolor": "#E5ECF6",
            "gridcolor": "white",
            "gridwidth": 2,
            "linecolor": "white",
            "showbackground": true,
            "ticks": "",
            "zerolinecolor": "white"
           }
          },
          "shapedefaults": {
           "line": {
            "color": "#2a3f5f"
           }
          },
          "ternary": {
           "aaxis": {
            "gridcolor": "white",
            "linecolor": "white",
            "ticks": ""
           },
           "baxis": {
            "gridcolor": "white",
            "linecolor": "white",
            "ticks": ""
           },
           "bgcolor": "#E5ECF6",
           "caxis": {
            "gridcolor": "white",
            "linecolor": "white",
            "ticks": ""
           }
          },
          "title": {
           "x": 0.05
          },
          "xaxis": {
           "automargin": true,
           "gridcolor": "white",
           "linecolor": "white",
           "ticks": "",
           "title": {
            "standoff": 15
           },
           "zerolinecolor": "white",
           "zerolinewidth": 2
          },
          "yaxis": {
           "automargin": true,
           "gridcolor": "white",
           "linecolor": "white",
           "ticks": "",
           "title": {
            "standoff": 15
           },
           "zerolinecolor": "white",
           "zerolinewidth": 2
          }
         }
        },
        "title": {
         "text": "Share of fixed broadband subscriptions >= 100 Mbps"
        },
        "xaxis": {
         "title": {
          "text": "Year"
         }
        },
        "yaxis": {
         "title": {
          "text": "Percentage"
         }
        }
       },
       "_py2js_animate": {},
       "_py2js_deleteTraces": {},
       "_py2js_moveTraces": {},
       "_py2js_removeLayoutProps": {},
       "_view_count": 1
      }
     },
     "e528d57a059344f8b4008031b11630d2": {
      "model_module": "@jupyter-widgets/base",
      "model_module_version": "1.2.0",
      "model_name": "LayoutModel",
      "state": {}
     },
     "e5a3e483fde545adbf8b3c74bf17222e": {
      "model_module": "@jupyter-widgets/controls",
      "model_module_version": "1.5.0",
      "model_name": "DescriptionStyleModel",
      "state": {
       "description_width": ""
      }
     },
     "e66964c3598c45afbf03442d5b8fd91e": {
      "model_module": "@jupyter-widgets/base",
      "model_module_version": "1.2.0",
      "model_name": "LayoutModel",
      "state": {}
     },
     "ee18c6e29d4a48b8b0e9f3bcfdeace53": {
      "model_module": "@jupyter-widgets/base",
      "model_module_version": "1.2.0",
      "model_name": "LayoutModel",
      "state": {}
     },
     "f1cd3bd5c5224a8db0629a91c4c9663f": {
      "model_module": "@jupyter-widgets/base",
      "model_module_version": "1.2.0",
      "model_name": "LayoutModel",
      "state": {}
     },
     "f364daca58e340a4bb3a31377b9b549f": {
      "model_module": "@jupyter-widgets/controls",
      "model_module_version": "1.5.0",
      "model_name": "DescriptionStyleModel",
      "state": {
       "description_width": ""
      }
     },
     "fb84d4f7b99d4253a546d2b4694020c3": {
      "model_module": "@jupyter-widgets/controls",
      "model_module_version": "1.5.0",
      "model_name": "DescriptionStyleModel",
      "state": {
       "description_width": ""
      }
     },
     "fbe46a5cbeec4a098ff6a84bd0549fa6": {
      "model_module": "@jupyter-widgets/controls",
      "model_module_version": "1.5.0",
      "model_name": "HTMLModel",
      "state": {
       "layout": "IPY_MODEL_7311dd2ae39442d6b1da666694fe64b9",
       "style": "IPY_MODEL_379da9059597437c8b1185bc908eb709",
       "value": "<p>Click on the name of the countries in the legend in order to visualize the corresponding values in the graph.</p>"
      }
     },
     "ffb2953e778d46128e1873d907df4f4c": {
      "model_module": "@jupyter-widgets/controls",
      "model_module_version": "1.5.0",
      "model_name": "LabelModel",
      "state": {
       "layout": "IPY_MODEL_8fff5c84d1f6447599cf4957ef1996a9",
       "style": "IPY_MODEL_f364daca58e340a4bb3a31377b9b549f",
       "value": "Indicator:"
      }
     }
    },
    "version_major": 2,
    "version_minor": 0
   }
  }
 },
 "nbformat": 4,
 "nbformat_minor": 4
}