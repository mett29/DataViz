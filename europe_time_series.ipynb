{
 "cells": [
  {
   "cell_type": "markdown",
   "metadata": {},
   "source": [
    "# Europe\n",
    "\n",
    "**Source: [https://digital-agenda-data.eu/](https://digital-agenda-data.eu/)**\n",
    "\n",
    "### Key indicators used:\n",
    "1) Broadband take-up and coverage\n",
    "- Standard fixed broadband coverage/availability (bb_scov)\n",
    "- NGA broadband coverage/availability (bb_ngacov)\n",
    "- Households with a broadband connection (h_broad)\n",
    "- Households with fixed broadband connection (h_bbfix)\n",
    "\n",
    "2) Broadband speeds and prices\n",
    "- Share of fixed broadband subscriptions >= 100 Mbps (bb_speed100)\n",
    "- Households with no access to Internet at home, because the costs are too high (all households) (h_xcost)\n",
    "\n",
    "3) Mobile market\n",
    "- 4G mobile broadband coverage (total) (mbb_ltecov)\n",
    "\n",
    "4) Internet usage\n",
    "- Households with access to the Internet at home (h_iacc)\n",
    "- Individuals who have never used the internet (all individuals) (i_iux)\n",
    "\n",
    "5) Take up of internet services (all individuals)\n",
    "- Using online banking (i_iubk)\n",
    "- Uploading self-created content to be shared (i_iuupl)\n",
    "- Participating in social networks, over the internet, last 3 months (i_iusnet)\n",
    "- Looking for a job or sending a job application (i_iujob)\n",
    "- Doing an online course (i_iuolc)\n",
    "- Taking part in on-line consultations or voting to define civic or political issues (i_iuvote)\n",
    "\n",
    "6) eGovernment\n",
    "- Individuals interacting online with public authorities, last 12 months (i_iugov12)\n",
    "\n",
    "7) Digital skills\n",
    "- Individuals with at least basic digital skills (i_dsk_bab)\n",
    "\n",
    "8) ICT Specialists\n",
    "- Individuals who have obtained ICT skills through formal educational institutions (i_skedu)"
   ]
  },
  {
   "cell_type": "markdown",
   "metadata": {},
   "source": [
    "## Import libraries"
   ]
  },
  {
   "cell_type": "code",
   "execution_count": 1,
   "metadata": {},
   "outputs": [],
   "source": [
    "import pandas as pd\n",
    "import seaborn as sns\n",
    "import plotly.graph_objects as go\n",
    "from ipywidgets import widgets\n",
    "import numpy as np \n",
    "import seaborn as sns\n",
    "import geopandas as gpd\n",
    "import matplotlib.pyplot as plt\n",
    "from datetime import datetime\n",
    "\n",
    "%matplotlib inline"
   ]
  },
  {
   "cell_type": "markdown",
   "metadata": {},
   "source": [
    "## Preprocessing"
   ]
  },
  {
   "cell_type": "code",
   "execution_count": 42,
   "metadata": {},
   "outputs": [],
   "source": [
    "key_indicators = pd.read_csv(\"data/digital-agenda-scoreboard-key-indicators.csv\")\n",
    "# Drop useless columns\n",
    "key_indicators = key_indicators.drop(['observation', 'flag', 'note'], axis=1)\n",
    "# Filter out some indicators\n",
    "my_indicators = ['bb_scov', 'bb_ngacov', 'h_broad', 'h_bbfix', 'bb_speed100', 'h_xcost', 'mbb_ltecov', 'h_iacc', 'i_iux', 'i_iubk', 'i_iuupl', 'i_iusnet', 'i_iujob', 'i_iuolc', 'i_iuvote', 'i_iugov12', 'i_dsk_s_bab', 'i_skedu']\n",
    "key_indicators = key_indicators[key_indicators['indicator'].isin(my_indicators)]\n",
    "# Map the indicators' codes to the corresponding name\n",
    "indicators_mapping = {'bb_scov' : 'Standard fixed broadband coverage/availability',\n",
    "           \"bb_ngacov\" : 'NGA broadband coverage/availability',\n",
    "           'h_broad' : 'Households with a broadband connection',\n",
    "           'h_bbfix' : 'Households with fixed broadband connection',\n",
    "           'bb_speed100' : 'Share of fixed broadband subscriptions >= 100 Mbps',\n",
    "           'h_xcost' : 'Households with no access to Internet at home, because the costs are too high',\n",
    "           'mbb_ltecov' : '4G mobile broadband coverage',\n",
    "           'h_iacc' : 'Households with access to the Internet at home',\n",
    "           'i_iux' : 'Individuals who have never used the internet',\n",
    "           'i_iubk' : 'Individuals using online banking',\n",
    "           'i_iuupl' : 'Individuals uploading self-created content to be shared',\n",
    "           'i_iusnet' : 'Individuals participating in social networks, over the internet, last 3 months',\n",
    "           'i_iujob' : 'Individuals looking for a job or sending a job application',\n",
    "           'i_iuolc' : 'Individuals doing an online course',\n",
    "           'i_iuvote' : 'Individuals taking part in on-line consultations or voting to define civic or political issues',\n",
    "           'i_iugov12' : 'Individuals interacting online with public authorities, last 12 months',\n",
    "           'i_dsk_s_bab' : 'Individuals with at least basic digital skills in Software domain',\n",
    "           'i_skedu' : 'Individuals who have obtained ICT skills through formal educational institutions',\n",
    "          }\n",
    "key_indicators['indicator'] = key_indicators['indicator'].replace(indicators_mapping)\n",
    "\n",
    "# Associate the indicators with their corresponding number (i.e. the group)\n",
    "groups = {'1' : ['Standard fixed broadband coverage/availability',\n",
    "          'NGA broadband coverage/availability',\n",
    "          'Households with a broadband connection',\n",
    "          'Households with fixed broadband connection'],\n",
    "          '2' : ['Share of fixed broadband subscriptions >= 100 Mbps',\n",
    "          'Households with no access to Internet at home, because the costs are too high'],\n",
    "          '3' : ['4G mobile broadband coverage'],\n",
    "          '4' : ['Households with access to the Internet at home',\n",
    "          'Individuals who have never used the internet'],\n",
    "          '5' : ['Individuals using online banking',\n",
    "          'Individuals uploading self-created content to be shared',\n",
    "          'Individuals participating in social networks, over the internet, last 3 months',\n",
    "          'Individuals looking for a job or sending a job application',\n",
    "          'Individuals doing an online course',\n",
    "          'Individuals taking part in on-line consultations or voting to define civic or political issues'],\n",
    "          '6' : ['Individuals interacting online with public authorities, last 12 months'],\n",
    "          '7' : ['Individuals with at least basic digital skills in Software domain'],\n",
    "          '8' : ['Individuals who have obtained ICT skills through formal educational institutions']\n",
    "          }\n",
    "    \n",
    "# Mapping between 'ref_area' and the name of the country\n",
    "countries_mapping =  { 'EE' : 'Estonia',\n",
    "                        'EL' : 'Greece',\n",
    "                        'ES' : 'Spain',\n",
    "                        'FI' : 'Finland',\n",
    "                        'FR' : 'France',\n",
    "                        'HR' : 'Croatia',\n",
    "                        'HU' : 'Hungary',\n",
    "                        'IE' : 'Ireland',\n",
    "                        'IS' : 'Iceland',\n",
    "                        'DE' : 'Deutschland',\n",
    "                        'CZ' : 'Czech Rep.',\n",
    "                        'DK' : 'Denmark',\n",
    "                        'IT' : 'Italy',\n",
    "                        'LT' : 'Lithuania',\n",
    "                        'LU' : 'Luxembourg',\n",
    "                        'LV' : 'Latvia',\n",
    "                        'MT' : 'Malta',\n",
    "                        'NL' : 'Netherlands',\n",
    "                        'NO' : 'Norway',\n",
    "                        'PT' : 'Portugal',\n",
    "                        'PL' : 'Poland',\n",
    "                        'EU' : 'Europe',\n",
    "                        'RO' : 'Romania',\n",
    "                        'SE' : 'Sweden',\n",
    "                        'SI' : 'Slovenia',\n",
    "                        'SK' : 'Slovakia',\n",
    "                        'UK' : 'United Kingdom',\n",
    "                        'AT' : 'Austria',\n",
    "                        'BE' : 'Belgium',\n",
    "                        'BG' : 'Bulgaria',\n",
    "                        'CY' : 'Cyprus',\n",
    "                        'CH' : 'Switzerland'\n",
    "                     }\n",
    "key_indicators['ref_area'] = key_indicators['ref_area'].replace(countries_mapping)\n",
    "\n",
    "# Drop the index column\n",
    "key_indicators.reset_index(drop=True, inplace=True)\n",
    "\n",
    "# In some cases the types in 'time_period' are mixed ==> cast all to strings \n",
    "key_indicators['time_period'] = key_indicators['time_period'].apply(lambda j: str(j))\n",
    "def convert_to_date(j):\n",
    "   if len(j.split('-')) == 1:\n",
    "      return str(datetime.strptime(j, '%Y'))\n",
    "   elif len(j.split('-')) == 2:\n",
    "      return str(datetime.strptime(j, '%Y-%m'))\n",
    "   else:\n",
    "      return str(datetime.strptime(j, '%Y-%m-%d'))\n",
    "key_indicators['time_period'] = key_indicators['time_period'].apply(lambda j: convert_to_date(j))"
   ]
  },
  {
   "cell_type": "code",
   "execution_count": 39,
   "metadata": {
    "tags": []
   },
   "outputs": [
    {
     "output_type": "display_data",
     "data": {
      "text/plain": "VBox(children=(VBox(children=(VBox(children=(HTML(value='<h1>See the evolution of an indicator and compare cou…",
      "application/vnd.jupyter.widget-view+json": {
       "version_major": 2,
       "version_minor": 0,
       "model_id": "f5a45f2402464f5e93d3ddf033bc882e"
      }
     },
     "metadata": {}
    }
   ],
   "source": [
    "def generate_rgb_colors():\n",
    "    palette = sns.color_palette('Paired') + sns.color_palette('Spectral') + sns.color_palette('bright') + sns.color_palette('Dark2')\n",
    "    return palette\n",
    "\n",
    "options = ['Broadband take-up and coverage', 'Broadband speeds and prices', 'Mobile market', 'Internet usage', 'Take up of internet services', 'eGovernment', 'Digital skills', 'ICT Specialists']\n",
    "countries_list = [country for country in countries_mapping.values()]\n",
    "\n",
    "indicators_group = widgets.Dropdown(options=options, value='Broadband take-up and coverage')\n",
    "# Get the group selected in the first dropdown\n",
    "selected_group = indicators_group.value\n",
    "# Retrieve the index from the 'options' list and the corresponding indicators\n",
    "index = options.index(selected_group) + 1\n",
    "corresponding_indicators = groups.get(str(index))\n",
    "# Put the retrieved indicators in the second dropdown\n",
    "indicators = widgets.Dropdown(options=corresponding_indicators)\n",
    "\n",
    "box_layout = widgets.Layout(margin='0px 0px 0px 80px')\n",
    "title_and_description = widgets.VBox([widgets.HTML('<h1>See the evolution of an indicator and compare countries</h1>'), widgets.HTML('<p>Click on the name of the countries in the legend in order to visualize the corresponding values in the graph.</p>')])\n",
    "controllers = widgets.HBox([widgets.Label('Indicator group:'), indicators_group, widgets.Label('Indicator:'), indicators])\n",
    "introduction = widgets.VBox([title_and_description, controllers], layout=box_layout)\n",
    "\n",
    "output = widgets.Output()\n",
    "\n",
    "@output.capture()\n",
    "def callback(change):\n",
    "    selected_group = indicators_group.value\n",
    "    index = options.index(selected_group) + 1\n",
    "    corresponding_indicators = groups.get(str(index))\n",
    "    indicators.options = corresponding_indicators\n",
    "# When the first dropdown changes, change the options in the second one\n",
    "indicators_group.observe(callback, 'value')\n",
    "\n",
    "# Callback to update the time series graph when the indicator changes\n",
    "@output.capture()\n",
    "def update_graph(change):\n",
    "    current_indicator = str(indicators.value)\n",
    "    fig.update_layout(title=current_indicator)\n",
    "    for index, country in enumerate(fig.data):\n",
    "        current_data = key_indicators.loc[(key_indicators['indicator'] == current_indicator) & (key_indicators['ref_area'] == country.name)]\n",
    "        # Check if there are multiple breakdowns: if so, keep only the 'total' one. Do the same for the 'unit_measure'.\n",
    "        # Note that this is not a general approach!\n",
    "        if len(current_data['breakdown'].unique()) > 1:\n",
    "            if len(current_data['unit_measure'].unique()) > 1:\n",
    "                current_data = current_data.loc[(current_data['breakdown'].str.contains('total')) & (current_data['unit_measure'] == 'pc_ind')]\n",
    "            else:\n",
    "                current_data = current_data.loc[(current_data['breakdown'].str.contains('total'))]\n",
    "        current_data = current_data.sort_values('time_period')\n",
    "        # Update the data in the graph\n",
    "        country.x = list(current_data['time_period'])\n",
    "        country.y = list(current_data['value'])\n",
    "\n",
    "indicators.observe(update_graph, 'value')\n",
    "\n",
    "# GET DATA FROM THE DF \n",
    "current_group = str(indicators_group.value)\n",
    "current_indicator = str(indicators.value)\n",
    "\n",
    "# Build Figure\n",
    "fig = go.FigureWidget()\n",
    "palette = generate_rgb_colors() # Obtain n different hex colors, where n is the number of countries\n",
    "for index, country in enumerate(countries_list):\n",
    "    current_data = key_indicators.loc[(key_indicators['indicator'] == current_indicator) & (key_indicators['ref_area'] == country)]\n",
    "    # Check if there are multiple breakdowns: if so, keep only the 'total' one\n",
    "    if len(current_data['breakdown'].unique()) > 1:\n",
    "        current_data = current_data.loc[current_data['breakdown'].str.contains('total')]\n",
    "    current_data = current_data.sort_values('time_period')\n",
    "    if (country == 'Italy') or (country == 'Europe'):\n",
    "        visible = True\n",
    "    else:\n",
    "        visible = 'legendonly'\n",
    "    fig.add_trace(go.Scatter(\n",
    "        x=list(current_data['time_period']),\n",
    "        y=list(current_data['value']),\n",
    "        name=country,\n",
    "        visible=visible,\n",
    "        mode='lines+markers+text',\n",
    "        textposition='bottom center',\n",
    "        text=country,\n",
    "        line=dict(color='rgb' + str(palette[index]), shape='spline', smoothing=1.3)))\n",
    "\n",
    "fig.update_layout(height=600, title=current_indicator,\n",
    "                xaxis_title='Year',\n",
    "                yaxis_title='Percentage',\n",
    "                legend_title_text='Countries',\n",
    "                showlegend=True)\n",
    "\n",
    "widgets.VBox([introduction, fig])"
   ]
  },
  {
   "cell_type": "markdown",
   "metadata": {},
   "source": [
    "## Experiment"
   ]
  },
  {
   "cell_type": "code",
   "execution_count": 44,
   "metadata": {},
   "outputs": [
    {
     "output_type": "execute_result",
     "data": {
      "text/plain": [
       "           time_period ref_area  \\\n",
       "0  2019-01-01 00:00:00  Estonia   \n",
       "1  2019-01-01 00:00:00  Estonia   \n",
       "2  2019-01-01 00:00:00  Estonia   \n",
       "3  2019-01-01 00:00:00  Estonia   \n",
       "4  2019-01-01 00:00:00  Estonia   \n",
       "\n",
       "                                           indicator  breakdown unit_measure  \\\n",
       "0  Individuals participating in social networks, ...  cb_eu_for       pc_ind   \n",
       "1  Individuals participating in social networks, ...  cb_eu_for   pc_ind_iu3   \n",
       "2  Individuals uploading self-created content to ...  cb_eu_for       pc_ind   \n",
       "3  Individuals uploading self-created content to ...  cb_eu_for   pc_ind_iu3   \n",
       "4  Individuals taking part in on-line consultatio...  cb_eu_for       pc_ind   \n",
       "\n",
       "     value  \n",
       "0  69.9007  \n",
       "1  75.9500  \n",
       "2  45.1348  \n",
       "3  49.0408  \n",
       "4  19.3373  "
      ],
      "text/html": "<div>\n<style scoped>\n    .dataframe tbody tr th:only-of-type {\n        vertical-align: middle;\n    }\n\n    .dataframe tbody tr th {\n        vertical-align: top;\n    }\n\n    .dataframe thead th {\n        text-align: right;\n    }\n</style>\n<table border=\"1\" class=\"dataframe\">\n  <thead>\n    <tr style=\"text-align: right;\">\n      <th></th>\n      <th>time_period</th>\n      <th>ref_area</th>\n      <th>indicator</th>\n      <th>breakdown</th>\n      <th>unit_measure</th>\n      <th>value</th>\n    </tr>\n  </thead>\n  <tbody>\n    <tr>\n      <th>0</th>\n      <td>2019-01-01 00:00:00</td>\n      <td>Estonia</td>\n      <td>Individuals participating in social networks, ...</td>\n      <td>cb_eu_for</td>\n      <td>pc_ind</td>\n      <td>69.9007</td>\n    </tr>\n    <tr>\n      <th>1</th>\n      <td>2019-01-01 00:00:00</td>\n      <td>Estonia</td>\n      <td>Individuals participating in social networks, ...</td>\n      <td>cb_eu_for</td>\n      <td>pc_ind_iu3</td>\n      <td>75.9500</td>\n    </tr>\n    <tr>\n      <th>2</th>\n      <td>2019-01-01 00:00:00</td>\n      <td>Estonia</td>\n      <td>Individuals uploading self-created content to ...</td>\n      <td>cb_eu_for</td>\n      <td>pc_ind</td>\n      <td>45.1348</td>\n    </tr>\n    <tr>\n      <th>3</th>\n      <td>2019-01-01 00:00:00</td>\n      <td>Estonia</td>\n      <td>Individuals uploading self-created content to ...</td>\n      <td>cb_eu_for</td>\n      <td>pc_ind_iu3</td>\n      <td>49.0408</td>\n    </tr>\n    <tr>\n      <th>4</th>\n      <td>2019-01-01 00:00:00</td>\n      <td>Estonia</td>\n      <td>Individuals taking part in on-line consultatio...</td>\n      <td>cb_eu_for</td>\n      <td>pc_ind</td>\n      <td>19.3373</td>\n    </tr>\n  </tbody>\n</table>\n</div>"
     },
     "metadata": {},
     "execution_count": 44
    }
   ],
   "source": [
    "# Since some values in 'value' column are strings, convert them into float\n",
    "key_indicators[\"value\"] = key_indicators[\"value\"].astype(float)\n",
    "# Multiply by 100 to have a percentage\n",
    "key_indicators['value'] = key_indicators['value'] * 100\n",
    "key_indicators.head()"
   ]
  },
  {
   "cell_type": "code",
   "execution_count": 46,
   "metadata": {},
   "outputs": [],
   "source": [
    " labels = ['Standard fixed broadband coverage/availability',\n",
    "          'NGA broadband coverage/availability',\n",
    "          'Households with a broadband connection',\n",
    "          'Households with fixed broadband connection',\n",
    "          'Share of fixed broadband subscriptions >= 100 Mbps',\n",
    "          'Households with no access to Internet at home, because the costs are too high',\n",
    "          '4G mobile broadband coverage',\n",
    "          'Households with access to the Internet at home',\n",
    "          'Individuals who have never used the internet',\n",
    "          'Individuals using online banking',\n",
    "          'Individuals uploading self-created content to be shared',\n",
    "          'Individuals participating in social networks, over the internet, last 3 months',\n",
    "          'Individuals looking for a job or sending a job application',\n",
    "          'Individuals doing an online course',\n",
    "          'Individuals taking part in on-line consultations or voting to define civic or political issues',\n",
    "          'Individuals interacting online with public authorities, last 12 months',\n",
    "          'Individuals with at least basic digital skills in Software domain',\n",
    "          'Individuals who have obtained ICT skills through formal educational institutions']"
   ]
  },
  {
   "cell_type": "code",
   "execution_count": 47,
   "metadata": {
    "tags": []
   },
   "outputs": [
    {
     "output_type": "display_data",
     "data": {
      "application/vnd.plotly.v1+json": {
       "config": {
        "plotlyServerURL": "https://plot.ly"
       },
       "data": [
        {
         "line": {
          "color": "rgb(0.6509803921568628, 0.807843137254902, 0.8901960784313725)",
          "shape": "spline",
          "smoothing": 1
         },
         "mode": "lines+markers+text",
         "name": "Estonia",
         "text": "Estonia",
         "textposition": "bottom center",
         "type": "scatter",
         "uid": "ccfebce3-550d-476c-8681-4ba11fa567fe",
         "visible": "legendonly",
         "x": [
          "2011-01-01 00:00:00",
          "2012-01-01 00:00:00",
          "2013-01-01 00:00:00",
          "2014-01-01 00:00:00",
          "2015-01-01 00:00:00",
          "2016-01-01 00:00:00",
          "2017-01-01 00:00:00",
          "2019-01-01 00:00:00"
         ],
         "y": [
          86.0387,
          84.0996,
          85.0774,
          86.0477,
          86.80499999999999,
          90.8856,
          89.4905,
          90.94149999999999
         ]
        },
        {
         "line": {
          "color": "rgb(0.12156862745098039, 0.47058823529411764, 0.7058823529411765)",
          "shape": "spline",
          "smoothing": 1
         },
         "mode": "lines+markers+text",
         "name": "Greece",
         "text": "Greece",
         "textposition": "bottom center",
         "type": "scatter",
         "uid": "1d04eaa4-d1e2-4164-b716-4aa7f795da06",
         "visible": "legendonly",
         "x": [
          "2011-01-01 00:00:00",
          "2012-01-01 00:00:00",
          "2013-01-01 00:00:00",
          "2014-01-01 00:00:00",
          "2015-01-01 00:00:00",
          "2016-01-01 00:00:00",
          "2017-01-01 00:00:00",
          "2019-01-01 00:00:00"
         ],
         "y": [
          98.5,
          99.07090000000001,
          94.5,
          95.1,
          95.4,
          95.635,
          96.1673,
          99.47030000000001
         ]
        },
        {
         "line": {
          "color": "rgb(0.6980392156862745, 0.8745098039215686, 0.5411764705882353)",
          "shape": "spline",
          "smoothing": 1
         },
         "mode": "lines+markers+text",
         "name": "Spain",
         "text": "Spain",
         "textposition": "bottom center",
         "type": "scatter",
         "uid": "b3222542-90da-4d1d-b92f-ea13787df692",
         "visible": "legendonly",
         "x": [
          "2011-01-01 00:00:00",
          "2012-01-01 00:00:00",
          "2013-01-01 00:00:00",
          "2014-01-01 00:00:00",
          "2015-01-01 00:00:00",
          "2016-01-01 00:00:00",
          "2017-01-01 00:00:00",
          "2019-01-01 00:00:00"
         ],
         "y": [
          96.3518,
          95.0756,
          96.53190000000001,
          95.0897,
          95.0557,
          95.4959,
          95.6726,
          95.63850000000001
         ]
        },
        {
         "line": {
          "color": "rgb(0.2, 0.6274509803921569, 0.17254901960784313)",
          "shape": "spline",
          "smoothing": 1
         },
         "mode": "lines+markers+text",
         "name": "Finland",
         "text": "Finland",
         "textposition": "bottom center",
         "type": "scatter",
         "uid": "7df6c31a-b322-4310-8256-b4331a87f189",
         "visible": "legendonly",
         "x": [
          "2011-01-01 00:00:00",
          "2012-01-01 00:00:00",
          "2013-01-01 00:00:00",
          "2014-01-01 00:00:00",
          "2015-01-01 00:00:00",
          "2016-01-01 00:00:00",
          "2017-01-01 00:00:00",
          "2019-01-01 00:00:00"
         ],
         "y": [
          95.0457,
          93.25110000000001,
          96.7,
          96.9825,
          96.98200000000001,
          97,
          97.01270000000001,
          90.5363
         ]
        },
        {
         "line": {
          "color": "rgb(0.984313725490196, 0.6039215686274509, 0.6)",
          "shape": "spline",
          "smoothing": 1
         },
         "mode": "lines+markers+text",
         "name": "France",
         "text": "France",
         "textposition": "bottom center",
         "type": "scatter",
         "uid": "0d303a88-916c-4ffa-8bd0-cd596b68daa8",
         "visible": "legendonly",
         "x": [
          "2011-01-01 00:00:00",
          "2012-01-01 00:00:00",
          "2013-01-01 00:00:00",
          "2014-01-01 00:00:00",
          "2015-01-01 00:00:00",
          "2016-01-01 00:00:00",
          "2017-01-01 00:00:00",
          "2019-01-01 00:00:00"
         ],
         "y": [
          99.3953,
          99.325,
          99.7016,
          99.7309,
          99.7556,
          99.9515,
          99.99520000000001,
          99.99540000000002
         ]
        },
        {
         "line": {
          "color": "rgb(0.8901960784313725, 0.10196078431372549, 0.10980392156862745)",
          "shape": "spline",
          "smoothing": 1
         },
         "mode": "lines+markers+text",
         "name": "Croatia",
         "text": "Croatia",
         "textposition": "bottom center",
         "type": "scatter",
         "uid": "ba9e0eaa-4ead-4626-96eb-69c4e73165c2",
         "visible": "legendonly",
         "x": [
          "2011-01-01 00:00:00",
          "2012-01-01 00:00:00",
          "2013-01-01 00:00:00",
          "2014-01-01 00:00:00",
          "2015-01-01 00:00:00",
          "2016-01-01 00:00:00",
          "2017-01-01 00:00:00",
          "2019-01-01 00:00:00"
         ],
         "y": [
          null,
          94.1452,
          96.0555,
          96.5791,
          96.8644,
          96.9799,
          99.26899999999999,
          99.8749
         ]
        },
        {
         "line": {
          "color": "rgb(0.9921568627450981, 0.7490196078431373, 0.43529411764705883)",
          "shape": "spline",
          "smoothing": 1
         },
         "mode": "lines+markers+text",
         "name": "Hungary",
         "text": "Hungary",
         "textposition": "bottom center",
         "type": "scatter",
         "uid": "979e7ac3-fe12-4573-8445-615a20a90215",
         "visible": "legendonly",
         "x": [
          "2011-01-01 00:00:00",
          "2012-01-01 00:00:00",
          "2013-01-01 00:00:00",
          "2014-01-01 00:00:00",
          "2015-01-01 00:00:00",
          "2016-01-01 00:00:00",
          "2017-01-01 00:00:00",
          "2019-01-01 00:00:00"
         ],
         "y": [
          89.3943,
          91.8355,
          94.3543,
          94.3708,
          95.2418,
          95.2439,
          95.2459,
          95.4753
         ]
        },
        {
         "line": {
          "color": "rgb(1.0, 0.4980392156862745, 0.0)",
          "shape": "spline",
          "smoothing": 1
         },
         "mode": "lines+markers+text",
         "name": "Ireland",
         "text": "Ireland",
         "textposition": "bottom center",
         "type": "scatter",
         "uid": "ede1cd5e-bbea-483b-9525-77681d517494",
         "visible": "legendonly",
         "x": [
          "2011-01-01 00:00:00",
          "2012-01-01 00:00:00",
          "2013-01-01 00:00:00",
          "2014-01-01 00:00:00",
          "2015-01-01 00:00:00",
          "2016-01-01 00:00:00",
          "2017-01-01 00:00:00",
          "2019-01-01 00:00:00"
         ],
         "y": [
          94.4895,
          97.078,
          96.25370000000001,
          96.262,
          96.2684,
          96.2684,
          97.3601,
          97.8455
         ]
        },
        {
         "line": {
          "color": "rgb(0.792156862745098, 0.6980392156862745, 0.8392156862745098)",
          "shape": "spline",
          "smoothing": 1
         },
         "mode": "lines+markers+text",
         "name": "Iceland",
         "text": "Iceland",
         "textposition": "bottom center",
         "type": "scatter",
         "uid": "60234eed-7a34-4051-8ef2-cefed5a05d46",
         "visible": "legendonly",
         "x": [
          "2011-01-01 00:00:00",
          "2012-01-01 00:00:00",
          "2013-01-01 00:00:00",
          "2014-01-01 00:00:00",
          "2015-01-01 00:00:00",
          "2016-01-01 00:00:00",
          "2017-01-01 00:00:00",
          "2019-01-01 00:00:00"
         ],
         "y": [
          94.4164,
          94.4164,
          96.6,
          95.16399999999999,
          95.19569999999999,
          95.6091,
          96.65969999999999,
          99.5439
         ]
        },
        {
         "line": {
          "color": "rgb(0.41568627450980394, 0.23921568627450981, 0.6039215686274509)",
          "shape": "spline",
          "smoothing": 1
         },
         "mode": "lines+markers+text",
         "name": "Deutschland",
         "text": "Deutschland",
         "textposition": "bottom center",
         "type": "scatter",
         "uid": "5bc0b2b7-c314-44f4-9b5c-7aee8b93653a",
         "visible": "legendonly",
         "x": [
          "2011-01-01 00:00:00",
          "2012-01-01 00:00:00",
          "2013-01-01 00:00:00",
          "2014-01-01 00:00:00",
          "2015-01-01 00:00:00",
          "2016-01-01 00:00:00",
          "2017-01-01 00:00:00",
          "2019-01-01 00:00:00"
         ],
         "y": [
          95.7,
          96.6,
          96.6,
          97,
          97.4,
          97.7,
          97.7,
          98.5507
         ]
        },
        {
         "line": {
          "color": "rgb(1.0, 1.0, 0.6)",
          "shape": "spline",
          "smoothing": 1
         },
         "mode": "lines+markers+text",
         "name": "Czech Rep.",
         "text": "Czech Rep.",
         "textposition": "bottom center",
         "type": "scatter",
         "uid": "b7e70932-812d-44e7-b602-906fa8f4eac4",
         "visible": "legendonly",
         "x": [
          "2011-01-01 00:00:00",
          "2012-01-01 00:00:00",
          "2013-01-01 00:00:00",
          "2014-01-01 00:00:00",
          "2015-01-01 00:00:00",
          "2016-01-01 00:00:00",
          "2017-01-01 00:00:00",
          "2019-01-01 00:00:00"
         ],
         "y": [
          94.5,
          98.1172,
          97.5,
          97.5,
          97.55,
          98.8838,
          98.4355,
          97.4289
         ]
        },
        {
         "line": {
          "color": "rgb(0.6941176470588235, 0.34901960784313724, 0.1568627450980392)",
          "shape": "spline",
          "smoothing": 1
         },
         "mode": "lines+markers+text",
         "name": "Denmark",
         "text": "Denmark",
         "textposition": "bottom center",
         "type": "scatter",
         "uid": "29ca2529-9c9a-4ff9-a4c4-044bc7550313",
         "visible": "legendonly",
         "x": [
          "2011-01-01 00:00:00",
          "2012-01-01 00:00:00",
          "2013-01-01 00:00:00",
          "2014-01-01 00:00:00",
          "2015-01-01 00:00:00",
          "2016-01-01 00:00:00",
          "2017-01-01 00:00:00",
          "2019-01-01 00:00:00"
         ],
         "y": [
          99,
          98.32700000000001,
          99.1142,
          99.11040000000001,
          98.9978,
          99.3185,
          99.5,
          99
         ]
        },
        {
         "line": {
          "color": "rgb(0.8853517877739331, 0.3190311418685121, 0.29042675893886966)",
          "shape": "spline",
          "smoothing": 1
         },
         "mode": "lines+markers+text",
         "name": "Italy",
         "text": "Italy",
         "textposition": "bottom center",
         "type": "scatter",
         "uid": "d33af684-379b-4fc6-97c6-b9ad1d692ad5",
         "visible": true,
         "x": [
          "2011-01-01 00:00:00",
          "2012-01-01 00:00:00",
          "2013-01-01 00:00:00",
          "2014-01-01 00:00:00",
          "2015-01-01 00:00:00",
          "2016-01-01 00:00:00",
          "2017-01-01 00:00:00",
          "2019-01-01 00:00:00"
         ],
         "y": [
          98.5,
          98.4102,
          98.76599999999999,
          99.149,
          99.2692,
          99.2699,
          99.3478,
          99.6013
         ]
        },
        {
         "line": {
          "color": "rgb(0.9873125720876587, 0.6473663975394078, 0.3642445213379469)",
          "shape": "spline",
          "smoothing": 1
         },
         "mode": "lines+markers+text",
         "name": "Lithuania",
         "text": "Lithuania",
         "textposition": "bottom center",
         "type": "scatter",
         "uid": "3f42434c-4797-42ae-b0fa-875b8f621a4a",
         "visible": "legendonly",
         "x": [
          "2011-01-01 00:00:00",
          "2012-01-01 00:00:00",
          "2013-01-01 00:00:00",
          "2014-01-01 00:00:00",
          "2015-01-01 00:00:00",
          "2016-01-01 00:00:00",
          "2017-01-01 00:00:00",
          "2019-01-01 00:00:00"
         ],
         "y": [
          88.4,
          96.7881,
          79.6,
          80.1,
          80.6,
          81.03,
          82.01570000000001,
          85.0893
         ]
        },
        {
         "line": {
          "color": "rgb(0.9971549404075356, 0.9118031526336025, 0.6010765090349866)",
          "shape": "spline",
          "smoothing": 1
         },
         "mode": "lines+markers+text",
         "name": "Luxembourg",
         "text": "Luxembourg",
         "textposition": "bottom center",
         "type": "scatter",
         "uid": "7c033b57-e1a8-426e-a630-f8b310843840",
         "visible": "legendonly",
         "x": [
          "2011-01-01 00:00:00",
          "2012-01-01 00:00:00",
          "2013-01-01 00:00:00",
          "2014-01-01 00:00:00",
          "2015-01-01 00:00:00",
          "2016-01-01 00:00:00",
          "2017-01-01 00:00:00",
          "2019-01-01 00:00:00"
         ],
         "y": [
          99.8,
          99.87819999999999,
          99.9915,
          99.984,
          99.984,
          99.984,
          99.984,
          100
         ]
        },
        {
         "line": {
          "color": "rgb(0.9288735101883892, 0.9715494040753557, 0.6380622837370243)",
          "shape": "spline",
          "smoothing": 1
         },
         "mode": "lines+markers+text",
         "name": "Latvia",
         "text": "Latvia",
         "textposition": "bottom center",
         "type": "scatter",
         "uid": "3785b8b3-21f0-47e8-aa66-51439be5647c",
         "visible": "legendonly",
         "x": [
          "2011-01-01 00:00:00",
          "2012-01-01 00:00:00",
          "2013-01-01 00:00:00",
          "2014-01-01 00:00:00",
          "2015-01-01 00:00:00",
          "2016-01-01 00:00:00",
          "2017-01-01 00:00:00",
          "2019-01-01 00:00:00"
         ],
         "y": [
          75.5166,
          82.86319999999999,
          91.6469,
          91.9443,
          92.50520000000002,
          92.5998,
          92.8449,
          94.03040000000001
         ]
        },
        {
         "line": {
          "color": "rgb(0.6334486735870821, 0.8521337946943485, 0.6436755094194541)",
          "shape": "spline",
          "smoothing": 1
         },
         "mode": "lines+markers+text",
         "name": "Malta",
         "text": "Malta",
         "textposition": "bottom center",
         "type": "scatter",
         "uid": "9117f15a-f82b-445a-b484-072c34070bd3",
         "visible": "legendonly",
         "x": [
          "2011-01-01 00:00:00",
          "2012-01-01 00:00:00",
          "2013-01-01 00:00:00",
          "2014-01-01 00:00:00",
          "2015-01-01 00:00:00",
          "2016-01-01 00:00:00",
          "2017-01-01 00:00:00",
          "2019-01-01 00:00:00"
         ],
         "y": [
          99.9,
          99.99959999999999,
          99.9768,
          100,
          100,
          100,
          100,
          100
         ]
        },
        {
         "line": {
          "color": "rgb(0.2800461361014994, 0.6269896193771626, 0.7024221453287197)",
          "shape": "spline",
          "smoothing": 1
         },
         "mode": "lines+markers+text",
         "name": "Netherlands",
         "text": "Netherlands",
         "textposition": "bottom center",
         "type": "scatter",
         "uid": "b7eb6b77-603b-4842-97e7-c7d07181b777",
         "visible": "legendonly",
         "x": [
          "2011-01-01 00:00:00",
          "2012-01-01 00:00:00",
          "2013-01-01 00:00:00",
          "2014-01-01 00:00:00",
          "2015-01-01 00:00:00",
          "2016-01-01 00:00:00",
          "2017-01-01 00:00:00",
          "2019-01-01 00:00:00"
         ],
         "y": [
          100,
          100,
          99.9926,
          99.5,
          99.5,
          99.5,
          99.5,
          99.5
         ]
        },
        {
         "line": {
          "color": "rgb(0.00784313725490196, 0.24313725490196078, 1.0)",
          "shape": "spline",
          "smoothing": 1
         },
         "mode": "lines+markers+text",
         "name": "Norway",
         "text": "Norway",
         "textposition": "bottom center",
         "type": "scatter",
         "uid": "d19f918a-8834-487b-a89e-0b250f543293",
         "visible": "legendonly",
         "x": [
          "2011-01-01 00:00:00",
          "2012-01-01 00:00:00",
          "2013-01-01 00:00:00",
          "2014-01-01 00:00:00",
          "2015-01-01 00:00:00",
          "2016-01-01 00:00:00",
          "2017-01-01 00:00:00",
          "2019-01-01 00:00:00"
         ],
         "y": [
          95.9,
          96.3072,
          96.7461,
          95.1784,
          94.7342,
          95.34530000000001,
          94.40799999999999,
          98.64540000000001
         ]
        },
        {
         "line": {
          "color": "rgb(1.0, 0.48627450980392156, 0.0)",
          "shape": "spline",
          "smoothing": 1
         },
         "mode": "lines+markers+text",
         "name": "Portugal",
         "text": "Portugal",
         "textposition": "bottom center",
         "type": "scatter",
         "uid": "f1e0e2ed-7e2b-47a1-b937-7cc9e61c2172",
         "visible": "legendonly",
         "x": [
          "2011-01-01 00:00:00",
          "2012-01-01 00:00:00",
          "2013-01-01 00:00:00",
          "2014-01-01 00:00:00",
          "2015-01-01 00:00:00",
          "2016-01-01 00:00:00",
          "2017-01-01 00:00:00",
          "2019-01-01 00:00:00"
         ],
         "y": [
          99.5,
          99.55430000000001,
          95.1,
          94.8,
          94.6,
          94.29610000000001,
          93.48629999999999,
          94.8619
         ]
        },
        {
         "line": {
          "color": "rgb(0.10196078431372549, 0.788235294117647, 0.2196078431372549)",
          "shape": "spline",
          "smoothing": 1
         },
         "mode": "lines+markers+text",
         "name": "Poland",
         "text": "Poland",
         "textposition": "bottom center",
         "type": "scatter",
         "uid": "babae0f0-b897-4ba8-8e1e-3204733cf6ac",
         "visible": "legendonly",
         "x": [
          "2011-01-01 00:00:00",
          "2012-01-01 00:00:00",
          "2013-01-01 00:00:00",
          "2014-01-01 00:00:00",
          "2015-01-01 00:00:00",
          "2016-01-01 00:00:00",
          "2017-01-01 00:00:00",
          "2019-01-01 00:00:00"
         ],
         "y": [
          65.3541,
          69.0506,
          79.1,
          79.6,
          80.2,
          80.93060000000001,
          81.4616,
          83.4639
         ]
        },
        {
         "line": {
          "color": "rgb(0.9098039215686274, 0.0, 0.043137254901960784)",
          "shape": "spline",
          "smoothing": 1
         },
         "mode": "lines+markers+text",
         "name": "Europe",
         "text": "Europe",
         "textposition": "bottom center",
         "type": "scatter",
         "uid": "c43e9fcd-b7b7-4b0c-8be1-dd3797518693",
         "visible": true,
         "x": [
          "2011-01-01 00:00:00",
          "2012-01-01 00:00:00",
          "2014-01-01 00:00:00",
          "2015-01-01 00:00:00",
          "2016-01-01 00:00:00",
          "2017-01-01 00:00:00",
          "2019-01-01 00:00:00"
         ],
         "y": [
          94.6169,
          95.475,
          96.3734,
          96.4928,
          96.6662,
          96.7205,
          97.0696
         ]
        },
        {
         "line": {
          "color": "rgb(0.5450980392156862, 0.16862745098039217, 0.8862745098039215)",
          "shape": "spline",
          "smoothing": 1
         },
         "mode": "lines+markers+text",
         "name": "Romania",
         "text": "Romania",
         "textposition": "bottom center",
         "type": "scatter",
         "uid": "25795160-233c-49ea-8ad1-177d7a1ac4f0",
         "visible": "legendonly",
         "x": [
          "2011-01-01 00:00:00",
          "2012-01-01 00:00:00",
          "2013-01-01 00:00:00",
          "2014-01-01 00:00:00",
          "2015-01-01 00:00:00",
          "2016-01-01 00:00:00",
          "2017-01-01 00:00:00",
          "2019-01-01 00:00:00"
         ],
         "y": [
          86.82419999999999,
          85.97229999999999,
          89.99540000000002,
          89.4135,
          88.7601,
          88.5992,
          88.1451,
          87.3521
         ]
        },
        {
         "line": {
          "color": "rgb(0.6235294117647059, 0.2823529411764706, 0.0)",
          "shape": "spline",
          "smoothing": 1
         },
         "mode": "lines+markers+text",
         "name": "Sweden",
         "text": "Sweden",
         "textposition": "bottom center",
         "type": "scatter",
         "uid": "02839f04-babb-4b7f-b15b-eb94669c511a",
         "visible": "legendonly",
         "x": [
          "2011-01-01 00:00:00",
          "2012-01-01 00:00:00",
          "2013-01-01 00:00:00",
          "2014-01-01 00:00:00",
          "2015-01-01 00:00:00",
          "2016-01-01 00:00:00",
          "2017-01-01 00:00:00",
          "2019-01-01 00:00:00"
         ],
         "y": [
          98.052,
          98.5403,
          99.0213,
          98.9725,
          98.9725,
          98.9829,
          98.50129999999999,
          97.3283
         ]
        },
        {
         "line": {
          "color": "rgb(0.9450980392156862, 0.2980392156862745, 0.7568627450980392)",
          "shape": "spline",
          "smoothing": 1
         },
         "mode": "lines+markers+text",
         "name": "Slovenia",
         "text": "Slovenia",
         "textposition": "bottom center",
         "type": "scatter",
         "uid": "25401730-889c-4f96-9776-dae6f3d12337",
         "visible": "legendonly",
         "x": [
          "2011-01-01 00:00:00",
          "2012-01-01 00:00:00",
          "2013-01-01 00:00:00",
          "2014-01-01 00:00:00",
          "2015-01-01 00:00:00",
          "2016-01-01 00:00:00",
          "2017-01-01 00:00:00",
          "2019-01-01 00:00:00"
         ],
         "y": [
          75.7616,
          84.30489999999999,
          95.1856,
          95.3854,
          95.4551,
          97.70559999999999,
          97.8,
          98.74860000000001
         ]
        },
        {
         "line": {
          "color": "rgb(0.6392156862745098, 0.6392156862745098, 0.6392156862745098)",
          "shape": "spline",
          "smoothing": 1
         },
         "mode": "lines+markers+text",
         "name": "Slovakia",
         "text": "Slovakia",
         "textposition": "bottom center",
         "type": "scatter",
         "uid": "b5f9d1e0-2ddf-43b3-8659-7c6e2085acb3",
         "visible": "legendonly",
         "x": [
          "2011-01-01 00:00:00",
          "2012-01-01 00:00:00",
          "2013-01-01 00:00:00",
          "2014-01-01 00:00:00",
          "2015-01-01 00:00:00",
          "2016-01-01 00:00:00",
          "2017-01-01 00:00:00",
          "2019-01-01 00:00:00"
         ],
         "y": [
          75,
          75.2243,
          86.5167,
          86.816,
          86.3289,
          88.0195,
          88.2827,
          89.6904
         ]
        },
        {
         "line": {
          "color": "rgb(1.0, 0.7686274509803922, 0.0)",
          "shape": "spline",
          "smoothing": 1
         },
         "mode": "lines+markers+text",
         "name": "United Kingdom",
         "text": "United Kingdom",
         "textposition": "bottom center",
         "type": "scatter",
         "uid": "66385e25-164a-4871-9707-8a36e9e3f1c8",
         "visible": "legendonly",
         "x": [
          "2011-01-01 00:00:00",
          "2012-01-01 00:00:00",
          "2013-01-01 00:00:00",
          "2014-01-01 00:00:00",
          "2015-01-01 00:00:00",
          "2016-01-01 00:00:00",
          "2017-01-01 00:00:00",
          "2019-01-01 00:00:00"
         ],
         "y": [
          99.5609,
          99.79620000000001,
          99.9776,
          99.978,
          99.9777,
          99.52,
          99.9,
          100
         ]
        },
        {
         "line": {
          "color": "rgb(0.0, 0.8431372549019608, 1.0)",
          "shape": "spline",
          "smoothing": 1
         },
         "mode": "lines+markers+text",
         "name": "Austria",
         "text": "Austria",
         "textposition": "bottom center",
         "type": "scatter",
         "uid": "1dbf42ed-aac1-48da-8078-0c505d0340ef",
         "visible": "legendonly",
         "x": [
          "2011-01-01 00:00:00",
          "2012-01-01 00:00:00",
          "2013-01-01 00:00:00",
          "2014-01-01 00:00:00",
          "2015-01-01 00:00:00",
          "2016-01-01 00:00:00",
          "2017-01-01 00:00:00",
          "2019-01-01 00:00:00"
         ],
         "y": [
          98.18339999999999,
          98.86719999999998,
          99.12790000000001,
          99.24959999999999,
          99.24969999999999,
          98.43360000000001,
          98.4492,
          99.28620000000001
         ]
        },
        {
         "line": {
          "color": "rgb(0.10588235294117647, 0.6196078431372549, 0.4666666666666667)",
          "shape": "spline",
          "smoothing": 1
         },
         "mode": "lines+markers+text",
         "name": "Belgium",
         "text": "Belgium",
         "textposition": "bottom center",
         "type": "scatter",
         "uid": "0507a531-2d01-4792-b1f4-a9b2f1965483",
         "visible": "legendonly",
         "x": [
          "2011-01-01 00:00:00",
          "2012-01-01 00:00:00",
          "2013-01-01 00:00:00",
          "2014-01-01 00:00:00",
          "2015-01-01 00:00:00",
          "2016-01-01 00:00:00",
          "2017-01-01 00:00:00",
          "2019-01-01 00:00:00"
         ],
         "y": [
          99.96549999999999,
          99.95629999999998,
          99.93190000000001,
          99.925,
          99.925,
          99.92689999999999,
          99.925,
          99.97520000000002
         ]
        },
        {
         "line": {
          "color": "rgb(0.8509803921568627, 0.37254901960784315, 0.00784313725490196)",
          "shape": "spline",
          "smoothing": 1
         },
         "mode": "lines+markers+text",
         "name": "Bulgaria",
         "text": "Bulgaria",
         "textposition": "bottom center",
         "type": "scatter",
         "uid": "70ff77ed-6b5a-4184-85e5-ea45824ee82d",
         "visible": "legendonly",
         "x": [
          "2011-01-01 00:00:00",
          "2012-01-01 00:00:00",
          "2013-01-01 00:00:00",
          "2014-01-01 00:00:00",
          "2015-01-01 00:00:00",
          "2016-01-01 00:00:00",
          "2017-01-01 00:00:00",
          "2019-01-01 00:00:00"
         ],
         "y": [
          89.0538,
          89.6355,
          92.52,
          95.1097,
          95.1676,
          95.204,
          95.204,
          95.5635
         ]
        },
        {
         "line": {
          "color": "rgb(0.4588235294117647, 0.4392156862745098, 0.7019607843137254)",
          "shape": "spline",
          "smoothing": 1
         },
         "mode": "lines+markers+text",
         "name": "Cyprus",
         "text": "Cyprus",
         "textposition": "bottom center",
         "type": "scatter",
         "uid": "2aee2c7b-a24c-4f37-ab6e-879823bdec05",
         "visible": "legendonly",
         "x": [
          "2011-01-01 00:00:00",
          "2012-01-01 00:00:00",
          "2013-01-01 00:00:00",
          "2014-01-01 00:00:00",
          "2015-01-01 00:00:00",
          "2016-01-01 00:00:00",
          "2017-01-01 00:00:00",
          "2019-01-01 00:00:00"
         ],
         "y": [
          100,
          100,
          99.995,
          99.995,
          99.995,
          99.995,
          99.995,
          100
         ]
        },
        {
         "line": {
          "color": "rgb(0.9058823529411765, 0.1607843137254902, 0.5411764705882353)",
          "shape": "spline",
          "smoothing": 1
         },
         "mode": "lines+markers+text",
         "name": "Switzerland",
         "text": "Switzerland",
         "textposition": "bottom center",
         "type": "scatter",
         "uid": "7f0d3f21-c698-4031-bc05-3b9979d91d9d",
         "visible": "legendonly",
         "x": [
          "2011-01-01 00:00:00",
          "2012-01-01 00:00:00",
          "2013-01-01 00:00:00",
          "2014-01-01 00:00:00",
          "2015-01-01 00:00:00",
          "2016-01-01 00:00:00",
          "2017-01-01 00:00:00",
          "2019-01-01 00:00:00"
         ],
         "y": [
          99.6872,
          99.8233,
          99.7578,
          99.785,
          99.7648,
          99.7658,
          99.7643,
          99.7736
         ]
        }
       ],
       "layout": {
        "height": 600,
        "legend": {
         "title": {
          "text": "Countries"
         }
        },
        "showlegend": true,
        "template": {
         "data": {
          "bar": [
           {
            "error_x": {
             "color": "#2a3f5f"
            },
            "error_y": {
             "color": "#2a3f5f"
            },
            "marker": {
             "line": {
              "color": "#E5ECF6",
              "width": 0.5
             }
            },
            "type": "bar"
           }
          ],
          "barpolar": [
           {
            "marker": {
             "line": {
              "color": "#E5ECF6",
              "width": 0.5
             }
            },
            "type": "barpolar"
           }
          ],
          "carpet": [
           {
            "aaxis": {
             "endlinecolor": "#2a3f5f",
             "gridcolor": "white",
             "linecolor": "white",
             "minorgridcolor": "white",
             "startlinecolor": "#2a3f5f"
            },
            "baxis": {
             "endlinecolor": "#2a3f5f",
             "gridcolor": "white",
             "linecolor": "white",
             "minorgridcolor": "white",
             "startlinecolor": "#2a3f5f"
            },
            "type": "carpet"
           }
          ],
          "choropleth": [
           {
            "colorbar": {
             "outlinewidth": 0,
             "ticks": ""
            },
            "type": "choropleth"
           }
          ],
          "contour": [
           {
            "colorbar": {
             "outlinewidth": 0,
             "ticks": ""
            },
            "colorscale": [
             [
              0,
              "#0d0887"
             ],
             [
              0.1111111111111111,
              "#46039f"
             ],
             [
              0.2222222222222222,
              "#7201a8"
             ],
             [
              0.3333333333333333,
              "#9c179e"
             ],
             [
              0.4444444444444444,
              "#bd3786"
             ],
             [
              0.5555555555555556,
              "#d8576b"
             ],
             [
              0.6666666666666666,
              "#ed7953"
             ],
             [
              0.7777777777777778,
              "#fb9f3a"
             ],
             [
              0.8888888888888888,
              "#fdca26"
             ],
             [
              1,
              "#f0f921"
             ]
            ],
            "type": "contour"
           }
          ],
          "contourcarpet": [
           {
            "colorbar": {
             "outlinewidth": 0,
             "ticks": ""
            },
            "type": "contourcarpet"
           }
          ],
          "heatmap": [
           {
            "colorbar": {
             "outlinewidth": 0,
             "ticks": ""
            },
            "colorscale": [
             [
              0,
              "#0d0887"
             ],
             [
              0.1111111111111111,
              "#46039f"
             ],
             [
              0.2222222222222222,
              "#7201a8"
             ],
             [
              0.3333333333333333,
              "#9c179e"
             ],
             [
              0.4444444444444444,
              "#bd3786"
             ],
             [
              0.5555555555555556,
              "#d8576b"
             ],
             [
              0.6666666666666666,
              "#ed7953"
             ],
             [
              0.7777777777777778,
              "#fb9f3a"
             ],
             [
              0.8888888888888888,
              "#fdca26"
             ],
             [
              1,
              "#f0f921"
             ]
            ],
            "type": "heatmap"
           }
          ],
          "heatmapgl": [
           {
            "colorbar": {
             "outlinewidth": 0,
             "ticks": ""
            },
            "colorscale": [
             [
              0,
              "#0d0887"
             ],
             [
              0.1111111111111111,
              "#46039f"
             ],
             [
              0.2222222222222222,
              "#7201a8"
             ],
             [
              0.3333333333333333,
              "#9c179e"
             ],
             [
              0.4444444444444444,
              "#bd3786"
             ],
             [
              0.5555555555555556,
              "#d8576b"
             ],
             [
              0.6666666666666666,
              "#ed7953"
             ],
             [
              0.7777777777777778,
              "#fb9f3a"
             ],
             [
              0.8888888888888888,
              "#fdca26"
             ],
             [
              1,
              "#f0f921"
             ]
            ],
            "type": "heatmapgl"
           }
          ],
          "histogram": [
           {
            "marker": {
             "colorbar": {
              "outlinewidth": 0,
              "ticks": ""
             }
            },
            "type": "histogram"
           }
          ],
          "histogram2d": [
           {
            "colorbar": {
             "outlinewidth": 0,
             "ticks": ""
            },
            "colorscale": [
             [
              0,
              "#0d0887"
             ],
             [
              0.1111111111111111,
              "#46039f"
             ],
             [
              0.2222222222222222,
              "#7201a8"
             ],
             [
              0.3333333333333333,
              "#9c179e"
             ],
             [
              0.4444444444444444,
              "#bd3786"
             ],
             [
              0.5555555555555556,
              "#d8576b"
             ],
             [
              0.6666666666666666,
              "#ed7953"
             ],
             [
              0.7777777777777778,
              "#fb9f3a"
             ],
             [
              0.8888888888888888,
              "#fdca26"
             ],
             [
              1,
              "#f0f921"
             ]
            ],
            "type": "histogram2d"
           }
          ],
          "histogram2dcontour": [
           {
            "colorbar": {
             "outlinewidth": 0,
             "ticks": ""
            },
            "colorscale": [
             [
              0,
              "#0d0887"
             ],
             [
              0.1111111111111111,
              "#46039f"
             ],
             [
              0.2222222222222222,
              "#7201a8"
             ],
             [
              0.3333333333333333,
              "#9c179e"
             ],
             [
              0.4444444444444444,
              "#bd3786"
             ],
             [
              0.5555555555555556,
              "#d8576b"
             ],
             [
              0.6666666666666666,
              "#ed7953"
             ],
             [
              0.7777777777777778,
              "#fb9f3a"
             ],
             [
              0.8888888888888888,
              "#fdca26"
             ],
             [
              1,
              "#f0f921"
             ]
            ],
            "type": "histogram2dcontour"
           }
          ],
          "mesh3d": [
           {
            "colorbar": {
             "outlinewidth": 0,
             "ticks": ""
            },
            "type": "mesh3d"
           }
          ],
          "parcoords": [
           {
            "line": {
             "colorbar": {
              "outlinewidth": 0,
              "ticks": ""
             }
            },
            "type": "parcoords"
           }
          ],
          "pie": [
           {
            "automargin": true,
            "type": "pie"
           }
          ],
          "scatter": [
           {
            "marker": {
             "colorbar": {
              "outlinewidth": 0,
              "ticks": ""
             }
            },
            "type": "scatter"
           }
          ],
          "scatter3d": [
           {
            "line": {
             "colorbar": {
              "outlinewidth": 0,
              "ticks": ""
             }
            },
            "marker": {
             "colorbar": {
              "outlinewidth": 0,
              "ticks": ""
             }
            },
            "type": "scatter3d"
           }
          ],
          "scattercarpet": [
           {
            "marker": {
             "colorbar": {
              "outlinewidth": 0,
              "ticks": ""
             }
            },
            "type": "scattercarpet"
           }
          ],
          "scattergeo": [
           {
            "marker": {
             "colorbar": {
              "outlinewidth": 0,
              "ticks": ""
             }
            },
            "type": "scattergeo"
           }
          ],
          "scattergl": [
           {
            "marker": {
             "colorbar": {
              "outlinewidth": 0,
              "ticks": ""
             }
            },
            "type": "scattergl"
           }
          ],
          "scattermapbox": [
           {
            "marker": {
             "colorbar": {
              "outlinewidth": 0,
              "ticks": ""
             }
            },
            "type": "scattermapbox"
           }
          ],
          "scatterpolar": [
           {
            "marker": {
             "colorbar": {
              "outlinewidth": 0,
              "ticks": ""
             }
            },
            "type": "scatterpolar"
           }
          ],
          "scatterpolargl": [
           {
            "marker": {
             "colorbar": {
              "outlinewidth": 0,
              "ticks": ""
             }
            },
            "type": "scatterpolargl"
           }
          ],
          "scatterternary": [
           {
            "marker": {
             "colorbar": {
              "outlinewidth": 0,
              "ticks": ""
             }
            },
            "type": "scatterternary"
           }
          ],
          "surface": [
           {
            "colorbar": {
             "outlinewidth": 0,
             "ticks": ""
            },
            "colorscale": [
             [
              0,
              "#0d0887"
             ],
             [
              0.1111111111111111,
              "#46039f"
             ],
             [
              0.2222222222222222,
              "#7201a8"
             ],
             [
              0.3333333333333333,
              "#9c179e"
             ],
             [
              0.4444444444444444,
              "#bd3786"
             ],
             [
              0.5555555555555556,
              "#d8576b"
             ],
             [
              0.6666666666666666,
              "#ed7953"
             ],
             [
              0.7777777777777778,
              "#fb9f3a"
             ],
             [
              0.8888888888888888,
              "#fdca26"
             ],
             [
              1,
              "#f0f921"
             ]
            ],
            "type": "surface"
           }
          ],
          "table": [
           {
            "cells": {
             "fill": {
              "color": "#EBF0F8"
             },
             "line": {
              "color": "white"
             }
            },
            "header": {
             "fill": {
              "color": "#C8D4E3"
             },
             "line": {
              "color": "white"
             }
            },
            "type": "table"
           }
          ]
         },
         "layout": {
          "annotationdefaults": {
           "arrowcolor": "#2a3f5f",
           "arrowhead": 0,
           "arrowwidth": 1
          },
          "coloraxis": {
           "colorbar": {
            "outlinewidth": 0,
            "ticks": ""
           }
          },
          "colorscale": {
           "diverging": [
            [
             0,
             "#8e0152"
            ],
            [
             0.1,
             "#c51b7d"
            ],
            [
             0.2,
             "#de77ae"
            ],
            [
             0.3,
             "#f1b6da"
            ],
            [
             0.4,
             "#fde0ef"
            ],
            [
             0.5,
             "#f7f7f7"
            ],
            [
             0.6,
             "#e6f5d0"
            ],
            [
             0.7,
             "#b8e186"
            ],
            [
             0.8,
             "#7fbc41"
            ],
            [
             0.9,
             "#4d9221"
            ],
            [
             1,
             "#276419"
            ]
           ],
           "sequential": [
            [
             0,
             "#0d0887"
            ],
            [
             0.1111111111111111,
             "#46039f"
            ],
            [
             0.2222222222222222,
             "#7201a8"
            ],
            [
             0.3333333333333333,
             "#9c179e"
            ],
            [
             0.4444444444444444,
             "#bd3786"
            ],
            [
             0.5555555555555556,
             "#d8576b"
            ],
            [
             0.6666666666666666,
             "#ed7953"
            ],
            [
             0.7777777777777778,
             "#fb9f3a"
            ],
            [
             0.8888888888888888,
             "#fdca26"
            ],
            [
             1,
             "#f0f921"
            ]
           ],
           "sequentialminus": [
            [
             0,
             "#0d0887"
            ],
            [
             0.1111111111111111,
             "#46039f"
            ],
            [
             0.2222222222222222,
             "#7201a8"
            ],
            [
             0.3333333333333333,
             "#9c179e"
            ],
            [
             0.4444444444444444,
             "#bd3786"
            ],
            [
             0.5555555555555556,
             "#d8576b"
            ],
            [
             0.6666666666666666,
             "#ed7953"
            ],
            [
             0.7777777777777778,
             "#fb9f3a"
            ],
            [
             0.8888888888888888,
             "#fdca26"
            ],
            [
             1,
             "#f0f921"
            ]
           ]
          },
          "colorway": [
           "#636efa",
           "#EF553B",
           "#00cc96",
           "#ab63fa",
           "#FFA15A",
           "#19d3f3",
           "#FF6692",
           "#B6E880",
           "#FF97FF",
           "#FECB52"
          ],
          "font": {
           "color": "#2a3f5f"
          },
          "geo": {
           "bgcolor": "white",
           "lakecolor": "white",
           "landcolor": "#E5ECF6",
           "showlakes": true,
           "showland": true,
           "subunitcolor": "white"
          },
          "hoverlabel": {
           "align": "left"
          },
          "hovermode": "closest",
          "mapbox": {
           "style": "light"
          },
          "paper_bgcolor": "white",
          "plot_bgcolor": "#E5ECF6",
          "polar": {
           "angularaxis": {
            "gridcolor": "white",
            "linecolor": "white",
            "ticks": ""
           },
           "bgcolor": "#E5ECF6",
           "radialaxis": {
            "gridcolor": "white",
            "linecolor": "white",
            "ticks": ""
           }
          },
          "scene": {
           "xaxis": {
            "backgroundcolor": "#E5ECF6",
            "gridcolor": "white",
            "gridwidth": 2,
            "linecolor": "white",
            "showbackground": true,
            "ticks": "",
            "zerolinecolor": "white"
           },
           "yaxis": {
            "backgroundcolor": "#E5ECF6",
            "gridcolor": "white",
            "gridwidth": 2,
            "linecolor": "white",
            "showbackground": true,
            "ticks": "",
            "zerolinecolor": "white"
           },
           "zaxis": {
            "backgroundcolor": "#E5ECF6",
            "gridcolor": "white",
            "gridwidth": 2,
            "linecolor": "white",
            "showbackground": true,
            "ticks": "",
            "zerolinecolor": "white"
           }
          },
          "shapedefaults": {
           "line": {
            "color": "#2a3f5f"
           }
          },
          "ternary": {
           "aaxis": {
            "gridcolor": "white",
            "linecolor": "white",
            "ticks": ""
           },
           "baxis": {
            "gridcolor": "white",
            "linecolor": "white",
            "ticks": ""
           },
           "bgcolor": "#E5ECF6",
           "caxis": {
            "gridcolor": "white",
            "linecolor": "white",
            "ticks": ""
           }
          },
          "title": {
           "x": 0.05
          },
          "xaxis": {
           "automargin": true,
           "gridcolor": "white",
           "linecolor": "white",
           "ticks": "",
           "title": {
            "standoff": 15
           },
           "zerolinecolor": "white",
           "zerolinewidth": 2
          },
          "yaxis": {
           "automargin": true,
           "gridcolor": "white",
           "linecolor": "white",
           "ticks": "",
           "title": {
            "standoff": 15
           },
           "zerolinecolor": "white",
           "zerolinewidth": 2
          }
         }
        },
        "title": {
         "text": "Select an indicator and compare countries"
        },
        "updatemenus": [
         {
          "active": 0,
          "buttons": [
           {
            "args": [
             {
              "x": [
               [
                "2011-01-01 00:00:00",
                "2012-01-01 00:00:00",
                "2013-01-01 00:00:00",
                "2014-01-01 00:00:00",
                "2015-01-01 00:00:00",
                "2016-01-01 00:00:00",
                "2017-01-01 00:00:00",
                "2019-01-01 00:00:00"
               ],
               [
                "2011-01-01 00:00:00",
                "2012-01-01 00:00:00",
                "2013-01-01 00:00:00",
                "2014-01-01 00:00:00",
                "2015-01-01 00:00:00",
                "2016-01-01 00:00:00",
                "2017-01-01 00:00:00",
                "2019-01-01 00:00:00"
               ],
               [
                "2011-01-01 00:00:00",
                "2012-01-01 00:00:00",
                "2013-01-01 00:00:00",
                "2014-01-01 00:00:00",
                "2015-01-01 00:00:00",
                "2016-01-01 00:00:00",
                "2017-01-01 00:00:00",
                "2019-01-01 00:00:00"
               ],
               [
                "2011-01-01 00:00:00",
                "2012-01-01 00:00:00",
                "2013-01-01 00:00:00",
                "2014-01-01 00:00:00",
                "2015-01-01 00:00:00",
                "2016-01-01 00:00:00",
                "2017-01-01 00:00:00",
                "2019-01-01 00:00:00"
               ],
               [
                "2011-01-01 00:00:00",
                "2012-01-01 00:00:00",
                "2013-01-01 00:00:00",
                "2014-01-01 00:00:00",
                "2015-01-01 00:00:00",
                "2016-01-01 00:00:00",
                "2017-01-01 00:00:00",
                "2019-01-01 00:00:00"
               ],
               [
                "2011-01-01 00:00:00",
                "2012-01-01 00:00:00",
                "2013-01-01 00:00:00",
                "2014-01-01 00:00:00",
                "2015-01-01 00:00:00",
                "2016-01-01 00:00:00",
                "2017-01-01 00:00:00",
                "2019-01-01 00:00:00"
               ],
               [
                "2011-01-01 00:00:00",
                "2012-01-01 00:00:00",
                "2013-01-01 00:00:00",
                "2014-01-01 00:00:00",
                "2015-01-01 00:00:00",
                "2016-01-01 00:00:00",
                "2017-01-01 00:00:00",
                "2019-01-01 00:00:00"
               ],
               [
                "2011-01-01 00:00:00",
                "2012-01-01 00:00:00",
                "2013-01-01 00:00:00",
                "2014-01-01 00:00:00",
                "2015-01-01 00:00:00",
                "2016-01-01 00:00:00",
                "2017-01-01 00:00:00",
                "2019-01-01 00:00:00"
               ],
               [
                "2011-01-01 00:00:00",
                "2012-01-01 00:00:00",
                "2013-01-01 00:00:00",
                "2014-01-01 00:00:00",
                "2015-01-01 00:00:00",
                "2016-01-01 00:00:00",
                "2017-01-01 00:00:00",
                "2019-01-01 00:00:00"
               ],
               [
                "2011-01-01 00:00:00",
                "2012-01-01 00:00:00",
                "2013-01-01 00:00:00",
                "2014-01-01 00:00:00",
                "2015-01-01 00:00:00",
                "2016-01-01 00:00:00",
                "2017-01-01 00:00:00",
                "2019-01-01 00:00:00"
               ],
               [
                "2011-01-01 00:00:00",
                "2012-01-01 00:00:00",
                "2013-01-01 00:00:00",
                "2014-01-01 00:00:00",
                "2015-01-01 00:00:00",
                "2016-01-01 00:00:00",
                "2017-01-01 00:00:00",
                "2019-01-01 00:00:00"
               ],
               [
                "2011-01-01 00:00:00",
                "2012-01-01 00:00:00",
                "2013-01-01 00:00:00",
                "2014-01-01 00:00:00",
                "2015-01-01 00:00:00",
                "2016-01-01 00:00:00",
                "2017-01-01 00:00:00",
                "2019-01-01 00:00:00"
               ],
               [
                "2011-01-01 00:00:00",
                "2012-01-01 00:00:00",
                "2013-01-01 00:00:00",
                "2014-01-01 00:00:00",
                "2015-01-01 00:00:00",
                "2016-01-01 00:00:00",
                "2017-01-01 00:00:00",
                "2019-01-01 00:00:00"
               ],
               [
                "2011-01-01 00:00:00",
                "2012-01-01 00:00:00",
                "2013-01-01 00:00:00",
                "2014-01-01 00:00:00",
                "2015-01-01 00:00:00",
                "2016-01-01 00:00:00",
                "2017-01-01 00:00:00",
                "2019-01-01 00:00:00"
               ],
               [
                "2011-01-01 00:00:00",
                "2012-01-01 00:00:00",
                "2013-01-01 00:00:00",
                "2014-01-01 00:00:00",
                "2015-01-01 00:00:00",
                "2016-01-01 00:00:00",
                "2017-01-01 00:00:00",
                "2019-01-01 00:00:00"
               ],
               [
                "2011-01-01 00:00:00",
                "2012-01-01 00:00:00",
                "2013-01-01 00:00:00",
                "2014-01-01 00:00:00",
                "2015-01-01 00:00:00",
                "2016-01-01 00:00:00",
                "2017-01-01 00:00:00",
                "2019-01-01 00:00:00"
               ],
               [
                "2011-01-01 00:00:00",
                "2012-01-01 00:00:00",
                "2013-01-01 00:00:00",
                "2014-01-01 00:00:00",
                "2015-01-01 00:00:00",
                "2016-01-01 00:00:00",
                "2017-01-01 00:00:00",
                "2019-01-01 00:00:00"
               ],
               [
                "2011-01-01 00:00:00",
                "2012-01-01 00:00:00",
                "2013-01-01 00:00:00",
                "2014-01-01 00:00:00",
                "2015-01-01 00:00:00",
                "2016-01-01 00:00:00",
                "2017-01-01 00:00:00",
                "2019-01-01 00:00:00"
               ],
               [
                "2011-01-01 00:00:00",
                "2012-01-01 00:00:00",
                "2013-01-01 00:00:00",
                "2014-01-01 00:00:00",
                "2015-01-01 00:00:00",
                "2016-01-01 00:00:00",
                "2017-01-01 00:00:00",
                "2019-01-01 00:00:00"
               ],
               [
                "2011-01-01 00:00:00",
                "2012-01-01 00:00:00",
                "2013-01-01 00:00:00",
                "2014-01-01 00:00:00",
                "2015-01-01 00:00:00",
                "2016-01-01 00:00:00",
                "2017-01-01 00:00:00",
                "2019-01-01 00:00:00"
               ],
               [
                "2011-01-01 00:00:00",
                "2012-01-01 00:00:00",
                "2013-01-01 00:00:00",
                "2014-01-01 00:00:00",
                "2015-01-01 00:00:00",
                "2016-01-01 00:00:00",
                "2017-01-01 00:00:00",
                "2019-01-01 00:00:00"
               ],
               [
                "2011-01-01 00:00:00",
                "2012-01-01 00:00:00",
                "2014-01-01 00:00:00",
                "2015-01-01 00:00:00",
                "2016-01-01 00:00:00",
                "2017-01-01 00:00:00",
                "2019-01-01 00:00:00"
               ],
               [
                "2011-01-01 00:00:00",
                "2012-01-01 00:00:00",
                "2013-01-01 00:00:00",
                "2014-01-01 00:00:00",
                "2015-01-01 00:00:00",
                "2016-01-01 00:00:00",
                "2017-01-01 00:00:00",
                "2019-01-01 00:00:00"
               ],
               [
                "2011-01-01 00:00:00",
                "2012-01-01 00:00:00",
                "2013-01-01 00:00:00",
                "2014-01-01 00:00:00",
                "2015-01-01 00:00:00",
                "2016-01-01 00:00:00",
                "2017-01-01 00:00:00",
                "2019-01-01 00:00:00"
               ],
               [
                "2011-01-01 00:00:00",
                "2012-01-01 00:00:00",
                "2013-01-01 00:00:00",
                "2014-01-01 00:00:00",
                "2015-01-01 00:00:00",
                "2016-01-01 00:00:00",
                "2017-01-01 00:00:00",
                "2019-01-01 00:00:00"
               ],
               [
                "2011-01-01 00:00:00",
                "2012-01-01 00:00:00",
                "2013-01-01 00:00:00",
                "2014-01-01 00:00:00",
                "2015-01-01 00:00:00",
                "2016-01-01 00:00:00",
                "2017-01-01 00:00:00",
                "2019-01-01 00:00:00"
               ],
               [
                "2011-01-01 00:00:00",
                "2012-01-01 00:00:00",
                "2013-01-01 00:00:00",
                "2014-01-01 00:00:00",
                "2015-01-01 00:00:00",
                "2016-01-01 00:00:00",
                "2017-01-01 00:00:00",
                "2019-01-01 00:00:00"
               ],
               [
                "2011-01-01 00:00:00",
                "2012-01-01 00:00:00",
                "2013-01-01 00:00:00",
                "2014-01-01 00:00:00",
                "2015-01-01 00:00:00",
                "2016-01-01 00:00:00",
                "2017-01-01 00:00:00",
                "2019-01-01 00:00:00"
               ],
               [
                "2011-01-01 00:00:00",
                "2012-01-01 00:00:00",
                "2013-01-01 00:00:00",
                "2014-01-01 00:00:00",
                "2015-01-01 00:00:00",
                "2016-01-01 00:00:00",
                "2017-01-01 00:00:00",
                "2019-01-01 00:00:00"
               ],
               [
                "2011-01-01 00:00:00",
                "2012-01-01 00:00:00",
                "2013-01-01 00:00:00",
                "2014-01-01 00:00:00",
                "2015-01-01 00:00:00",
                "2016-01-01 00:00:00",
                "2017-01-01 00:00:00",
                "2019-01-01 00:00:00"
               ],
               [
                "2011-01-01 00:00:00",
                "2012-01-01 00:00:00",
                "2013-01-01 00:00:00",
                "2014-01-01 00:00:00",
                "2015-01-01 00:00:00",
                "2016-01-01 00:00:00",
                "2017-01-01 00:00:00",
                "2019-01-01 00:00:00"
               ],
               [
                "2011-01-01 00:00:00",
                "2012-01-01 00:00:00",
                "2013-01-01 00:00:00",
                "2014-01-01 00:00:00",
                "2015-01-01 00:00:00",
                "2016-01-01 00:00:00",
                "2017-01-01 00:00:00",
                "2019-01-01 00:00:00"
               ]
              ],
              "y": [
               [
                86.0387,
                84.0996,
                85.0774,
                86.0477,
                86.80499999999999,
                90.8856,
                89.4905,
                90.94149999999999
               ],
               [
                98.5,
                99.07090000000001,
                94.5,
                95.1,
                95.4,
                95.635,
                96.1673,
                99.47030000000001
               ],
               [
                96.3518,
                95.0756,
                96.53190000000001,
                95.0897,
                95.0557,
                95.4959,
                95.6726,
                95.63850000000001
               ],
               [
                95.0457,
                93.25110000000001,
                96.7,
                96.9825,
                96.98200000000001,
                97,
                97.01270000000001,
                90.5363
               ],
               [
                99.3953,
                99.325,
                99.7016,
                99.7309,
                99.7556,
                99.9515,
                99.99520000000001,
                99.99540000000002
               ],
               [
                null,
                94.1452,
                96.0555,
                96.5791,
                96.8644,
                96.9799,
                99.26899999999999,
                99.8749
               ],
               [
                89.3943,
                91.8355,
                94.3543,
                94.3708,
                95.2418,
                95.2439,
                95.2459,
                95.4753
               ],
               [
                94.4895,
                97.078,
                96.25370000000001,
                96.262,
                96.2684,
                96.2684,
                97.3601,
                97.8455
               ],
               [
                94.4164,
                94.4164,
                96.6,
                95.16399999999999,
                95.19569999999999,
                95.6091,
                96.65969999999999,
                99.5439
               ],
               [
                95.7,
                96.6,
                96.6,
                97,
                97.4,
                97.7,
                97.7,
                98.5507
               ],
               [
                94.5,
                98.1172,
                97.5,
                97.5,
                97.55,
                98.8838,
                98.4355,
                97.4289
               ],
               [
                99,
                98.32700000000001,
                99.1142,
                99.11040000000001,
                98.9978,
                99.3185,
                99.5,
                99
               ],
               [
                98.5,
                98.4102,
                98.76599999999999,
                99.149,
                99.2692,
                99.2699,
                99.3478,
                99.6013
               ],
               [
                88.4,
                96.7881,
                79.6,
                80.1,
                80.6,
                81.03,
                82.01570000000001,
                85.0893
               ],
               [
                99.8,
                99.87819999999999,
                99.9915,
                99.984,
                99.984,
                99.984,
                99.984,
                100
               ],
               [
                75.5166,
                82.86319999999999,
                91.6469,
                91.9443,
                92.50520000000002,
                92.5998,
                92.8449,
                94.03040000000001
               ],
               [
                99.9,
                99.99959999999999,
                99.9768,
                100,
                100,
                100,
                100,
                100
               ],
               [
                100,
                100,
                99.9926,
                99.5,
                99.5,
                99.5,
                99.5,
                99.5
               ],
               [
                95.9,
                96.3072,
                96.7461,
                95.1784,
                94.7342,
                95.34530000000001,
                94.40799999999999,
                98.64540000000001
               ],
               [
                99.5,
                99.55430000000001,
                95.1,
                94.8,
                94.6,
                94.29610000000001,
                93.48629999999999,
                94.8619
               ],
               [
                65.3541,
                69.0506,
                79.1,
                79.6,
                80.2,
                80.93060000000001,
                81.4616,
                83.4639
               ],
               [
                94.6169,
                95.475,
                96.3734,
                96.4928,
                96.6662,
                96.7205,
                97.0696
               ],
               [
                86.82419999999999,
                85.97229999999999,
                89.99540000000002,
                89.4135,
                88.7601,
                88.5992,
                88.1451,
                87.3521
               ],
               [
                98.052,
                98.5403,
                99.0213,
                98.9725,
                98.9725,
                98.9829,
                98.50129999999999,
                97.3283
               ],
               [
                75.7616,
                84.30489999999999,
                95.1856,
                95.3854,
                95.4551,
                97.70559999999999,
                97.8,
                98.74860000000001
               ],
               [
                75,
                75.2243,
                86.5167,
                86.816,
                86.3289,
                88.0195,
                88.2827,
                89.6904
               ],
               [
                99.5609,
                99.79620000000001,
                99.9776,
                99.978,
                99.9777,
                99.52,
                99.9,
                100
               ],
               [
                98.18339999999999,
                98.86719999999998,
                99.12790000000001,
                99.24959999999999,
                99.24969999999999,
                98.43360000000001,
                98.4492,
                99.28620000000001
               ],
               [
                99.96549999999999,
                99.95629999999998,
                99.93190000000001,
                99.925,
                99.925,
                99.92689999999999,
                99.925,
                99.97520000000002
               ],
               [
                89.0538,
                89.6355,
                92.52,
                95.1097,
                95.1676,
                95.204,
                95.204,
                95.5635
               ],
               [
                100,
                100,
                99.995,
                99.995,
                99.995,
                99.995,
                99.995,
                100
               ],
               [
                99.6872,
                99.8233,
                99.7578,
                99.785,
                99.7648,
                99.7658,
                99.7643,
                99.7736
               ]
              ]
             }
            ],
            "label": "Standard fixed broadband coverage/availability",
            "method": "update"
           },
           {
            "args": [
             {
              "x": [
               [
                "2011-01-01 00:00:00",
                "2012-01-01 00:00:00",
                "2013-01-01 00:00:00",
                "2014-01-01 00:00:00",
                "2015-01-01 00:00:00",
                "2016-01-01 00:00:00",
                "2017-01-01 00:00:00",
                "2019-01-01 00:00:00"
               ],
               [
                "2011-01-01 00:00:00",
                "2012-01-01 00:00:00",
                "2013-01-01 00:00:00",
                "2014-01-01 00:00:00",
                "2015-01-01 00:00:00",
                "2016-01-01 00:00:00",
                "2017-01-01 00:00:00",
                "2019-01-01 00:00:00"
               ],
               [
                "2011-01-01 00:00:00",
                "2012-01-01 00:00:00",
                "2013-01-01 00:00:00",
                "2014-01-01 00:00:00",
                "2015-01-01 00:00:00",
                "2016-01-01 00:00:00",
                "2017-01-01 00:00:00",
                "2019-01-01 00:00:00"
               ],
               [
                "2011-01-01 00:00:00",
                "2012-01-01 00:00:00",
                "2013-01-01 00:00:00",
                "2014-01-01 00:00:00",
                "2015-01-01 00:00:00",
                "2016-01-01 00:00:00",
                "2017-01-01 00:00:00",
                "2019-01-01 00:00:00"
               ],
               [
                "2011-01-01 00:00:00",
                "2012-01-01 00:00:00",
                "2013-01-01 00:00:00",
                "2014-01-01 00:00:00",
                "2015-01-01 00:00:00",
                "2016-01-01 00:00:00",
                "2017-01-01 00:00:00",
                "2019-01-01 00:00:00"
               ],
               [
                "2011-01-01 00:00:00",
                "2012-01-01 00:00:00",
                "2013-01-01 00:00:00",
                "2014-01-01 00:00:00",
                "2015-01-01 00:00:00",
                "2016-01-01 00:00:00",
                "2017-01-01 00:00:00",
                "2019-01-01 00:00:00"
               ],
               [
                "2011-01-01 00:00:00",
                "2012-01-01 00:00:00",
                "2013-01-01 00:00:00",
                "2014-01-01 00:00:00",
                "2015-01-01 00:00:00",
                "2016-01-01 00:00:00",
                "2017-01-01 00:00:00",
                "2019-01-01 00:00:00"
               ],
               [
                "2011-01-01 00:00:00",
                "2012-01-01 00:00:00",
                "2013-01-01 00:00:00",
                "2014-01-01 00:00:00",
                "2015-01-01 00:00:00",
                "2016-01-01 00:00:00",
                "2017-01-01 00:00:00",
                "2019-01-01 00:00:00"
               ],
               [
                "2011-01-01 00:00:00",
                "2012-01-01 00:00:00",
                "2013-01-01 00:00:00",
                "2014-01-01 00:00:00",
                "2015-01-01 00:00:00",
                "2016-01-01 00:00:00",
                "2017-01-01 00:00:00",
                "2019-01-01 00:00:00"
               ],
               [
                "2011-01-01 00:00:00",
                "2012-01-01 00:00:00",
                "2013-01-01 00:00:00",
                "2014-01-01 00:00:00",
                "2015-01-01 00:00:00",
                "2016-01-01 00:00:00",
                "2017-01-01 00:00:00",
                "2019-01-01 00:00:00"
               ],
               [
                "2011-01-01 00:00:00",
                "2012-01-01 00:00:00",
                "2013-01-01 00:00:00",
                "2014-01-01 00:00:00",
                "2015-01-01 00:00:00",
                "2016-01-01 00:00:00",
                "2017-01-01 00:00:00",
                "2019-01-01 00:00:00"
               ],
               [
                "2011-01-01 00:00:00",
                "2012-01-01 00:00:00",
                "2013-01-01 00:00:00",
                "2014-01-01 00:00:00",
                "2015-01-01 00:00:00",
                "2016-01-01 00:00:00",
                "2017-01-01 00:00:00",
                "2019-01-01 00:00:00"
               ],
               [
                "2011-01-01 00:00:00",
                "2012-01-01 00:00:00",
                "2013-01-01 00:00:00",
                "2014-01-01 00:00:00",
                "2015-01-01 00:00:00",
                "2016-01-01 00:00:00",
                "2017-01-01 00:00:00",
                "2019-01-01 00:00:00"
               ],
               [
                "2011-01-01 00:00:00",
                "2012-01-01 00:00:00",
                "2013-01-01 00:00:00",
                "2014-01-01 00:00:00",
                "2015-01-01 00:00:00",
                "2016-01-01 00:00:00",
                "2017-01-01 00:00:00",
                "2019-01-01 00:00:00"
               ],
               [
                "2011-01-01 00:00:00",
                "2012-01-01 00:00:00",
                "2013-01-01 00:00:00",
                "2014-01-01 00:00:00",
                "2015-01-01 00:00:00",
                "2016-01-01 00:00:00",
                "2017-01-01 00:00:00",
                "2019-01-01 00:00:00"
               ],
               [
                "2011-01-01 00:00:00",
                "2012-01-01 00:00:00",
                "2013-01-01 00:00:00",
                "2014-01-01 00:00:00",
                "2015-01-01 00:00:00",
                "2016-01-01 00:00:00",
                "2017-01-01 00:00:00",
                "2019-01-01 00:00:00"
               ],
               [
                "2011-01-01 00:00:00",
                "2012-01-01 00:00:00",
                "2013-01-01 00:00:00",
                "2014-01-01 00:00:00",
                "2015-01-01 00:00:00",
                "2016-01-01 00:00:00",
                "2017-01-01 00:00:00",
                "2019-01-01 00:00:00"
               ],
               [
                "2011-01-01 00:00:00",
                "2012-01-01 00:00:00",
                "2013-01-01 00:00:00",
                "2014-01-01 00:00:00",
                "2015-01-01 00:00:00",
                "2016-01-01 00:00:00",
                "2017-01-01 00:00:00",
                "2019-01-01 00:00:00"
               ],
               [
                "2011-01-01 00:00:00",
                "2012-01-01 00:00:00",
                "2013-01-01 00:00:00",
                "2014-01-01 00:00:00",
                "2015-01-01 00:00:00",
                "2016-01-01 00:00:00",
                "2017-01-01 00:00:00",
                "2019-01-01 00:00:00"
               ],
               [
                "2011-01-01 00:00:00",
                "2012-01-01 00:00:00",
                "2013-01-01 00:00:00",
                "2014-01-01 00:00:00",
                "2015-01-01 00:00:00",
                "2016-01-01 00:00:00",
                "2017-01-01 00:00:00",
                "2019-01-01 00:00:00"
               ],
               [
                "2011-01-01 00:00:00",
                "2012-01-01 00:00:00",
                "2013-01-01 00:00:00",
                "2014-01-01 00:00:00",
                "2015-01-01 00:00:00",
                "2016-01-01 00:00:00",
                "2017-01-01 00:00:00",
                "2019-01-01 00:00:00"
               ],
               [
                "2011-01-01 00:00:00",
                "2012-01-01 00:00:00",
                "2014-01-01 00:00:00",
                "2015-01-01 00:00:00",
                "2016-01-01 00:00:00",
                "2017-01-01 00:00:00",
                "2019-01-01 00:00:00"
               ],
               [
                "2011-01-01 00:00:00",
                "2012-01-01 00:00:00",
                "2013-01-01 00:00:00",
                "2014-01-01 00:00:00",
                "2015-01-01 00:00:00",
                "2016-01-01 00:00:00",
                "2017-01-01 00:00:00",
                "2019-01-01 00:00:00"
               ],
               [
                "2011-01-01 00:00:00",
                "2012-01-01 00:00:00",
                "2013-01-01 00:00:00",
                "2014-01-01 00:00:00",
                "2015-01-01 00:00:00",
                "2016-01-01 00:00:00",
                "2017-01-01 00:00:00",
                "2019-01-01 00:00:00"
               ],
               [
                "2011-01-01 00:00:00",
                "2012-01-01 00:00:00",
                "2013-01-01 00:00:00",
                "2014-01-01 00:00:00",
                "2015-01-01 00:00:00",
                "2016-01-01 00:00:00",
                "2017-01-01 00:00:00",
                "2019-01-01 00:00:00"
               ],
               [
                "2011-01-01 00:00:00",
                "2012-01-01 00:00:00",
                "2013-01-01 00:00:00",
                "2014-01-01 00:00:00",
                "2015-01-01 00:00:00",
                "2016-01-01 00:00:00",
                "2017-01-01 00:00:00",
                "2019-01-01 00:00:00"
               ],
               [
                "2011-01-01 00:00:00",
                "2012-01-01 00:00:00",
                "2013-01-01 00:00:00",
                "2014-01-01 00:00:00",
                "2015-01-01 00:00:00",
                "2016-01-01 00:00:00",
                "2017-01-01 00:00:00",
                "2019-01-01 00:00:00"
               ],
               [
                "2011-01-01 00:00:00",
                "2012-01-01 00:00:00",
                "2013-01-01 00:00:00",
                "2014-01-01 00:00:00",
                "2015-01-01 00:00:00",
                "2016-01-01 00:00:00",
                "2017-01-01 00:00:00",
                "2019-01-01 00:00:00"
               ],
               [
                "2011-01-01 00:00:00",
                "2012-01-01 00:00:00",
                "2013-01-01 00:00:00",
                "2014-01-01 00:00:00",
                "2015-01-01 00:00:00",
                "2016-01-01 00:00:00",
                "2017-01-01 00:00:00",
                "2019-01-01 00:00:00"
               ],
               [
                "2011-01-01 00:00:00",
                "2012-01-01 00:00:00",
                "2013-01-01 00:00:00",
                "2014-01-01 00:00:00",
                "2015-01-01 00:00:00",
                "2016-01-01 00:00:00",
                "2017-01-01 00:00:00",
                "2019-01-01 00:00:00"
               ],
               [
                "2011-01-01 00:00:00",
                "2012-01-01 00:00:00",
                "2013-01-01 00:00:00",
                "2014-01-01 00:00:00",
                "2015-01-01 00:00:00",
                "2016-01-01 00:00:00",
                "2017-01-01 00:00:00",
                "2019-01-01 00:00:00"
               ],
               [
                "2011-01-01 00:00:00",
                "2012-01-01 00:00:00",
                "2013-01-01 00:00:00",
                "2014-01-01 00:00:00",
                "2015-01-01 00:00:00",
                "2016-01-01 00:00:00",
                "2017-01-01 00:00:00",
                "2019-01-01 00:00:00"
               ]
              ],
              "y": [
               [
                52.0889,
                60.9525,
                62.6015,
                75.074,
                78.1254,
                79.10770000000001,
                80.39450000000001,
                83.69139999999999
               ],
               [
                4.2,
                21.890900000000002,
                26.865700000000004,
                34.0107,
                36.309000000000005,
                48.474399999999996,
                52.500600000000006,
                80.5998
               ],
               [
                56.0037,
                63.9,
                64.8645,
                73.2328,
                76.5943,
                80.84100000000001,
                85.0291,
                89.8
               ],
               [
                63.9038,
                65.4843,
                72.1414,
                75.08930000000001,
                74.6369,
                73.4701,
                74.0531,
                75.39200000000001
               ],
               [
                23.1545,
                24.220100000000002,
                40.947,
                42.6082,
                44.8007,
                47.0129,
                51.8872,
                62.060100000000006
               ],
               [
                null,
                19.0543,
                33.2547,
                47.4868,
                51.964999999999996,
                59.9384,
                67.6003,
                85.6259
               ],
               [
                52.80050000000001,
                59.74470000000001,
                75.6553,
                75.5818,
                78.1516,
                80.55260000000001,
                82.74950000000001,
                89.5543
               ],
               [
                31.1619,
                42.1135,
                54.02,
                70.74090000000001,
                79.7299,
                81.599,
                92.7636,
                96.0326
               ],
               [
                44.595400000000005,
                54.13,
                60.512,
                88.0548,
                89.2496,
                94.0274,
                95.78110000000001,
                96.94149999999999
               ],
               [
                63.800000000000004,
                66.2,
                74.75,
                80.8,
                81.35,
                81.75,
                84.1,
                92.242
               ],
               [
                40.3,
                49.309799999999996,
                63.651599999999995,
                68.689,
                72.857,
                75.0825,
                88.61909999999999,
                92.06360000000001
               ],
               [
                61.9,
                73.1554,
                82.5792,
                91.70389999999999,
                91.704,
                93.26,
                94.58,
                96
               ],
               [
                10.7,
                14.044500000000001,
                20.8781,
                31.6776,
                40.9726,
                72.2804,
                86.7904,
                88.895
               ],
               [
                62.2,
                80,
                48.7,
                49.2,
                49.6,
                50.1,
                54.407700000000006,
                69.4391
               ],
               [
                85.20989999999999,
                93.8464,
                94.3104,
                94.4168,
                94.40190000000001,
                94.4206,
                94.5642,
                97.8
               ],
               [
                66.0466,
                78.479,
                88.8459,
                89.58149999999999,
                90.6883,
                91.1169,
                91.52309999999999,
                93.087
               ],
               [
                98.7884,
                99.9,
                99.97389999999999,
                100,
                99.99959999999999,
                99.95,
                99.95,
                100
               ],
               [
                97.1234,
                98.4246,
                97.63680000000001,
                98.41069999999999,
                98.2544,
                98.26010000000001,
                98.2887,
                98.2948
               ],
               [
                69.3621,
                67.33,
                75.4165,
                77.9705,
                79.6061,
                85.3403,
                86.4515,
                89.29530000000001
               ],
               [
                74.5,
                77.7795,
                64.9,
                65.8,
                66.4,
                67.1228,
                71.7201,
                82.9992
               ],
               [
                36.764799999999994,
                44.4827,
                52.1366,
                53.366499999999995,
                60.70949999999999,
                61.06510000000001,
                64.8,
                75.9227
               ],
               [
                48.1474,
                53.7289,
                66.3069,
                69.3544,
                74.66229999999999,
                79.2651,
                85.84629999999999
               ],
               [
                57.42550000000001,
                62.866,
                65.9285,
                69.2407,
                70.41420000000001,
                71.70530000000001,
                73.96239999999999,
                81.9826
               ],
               [
                53.407,
                56.60000000000001,
                71.1803,
                73.1761,
                73.1761,
                75.17190000000001,
                77.6863,
                85.0658
               ],
               [
                62.6754,
                71.44890000000001,
                78.0681,
                80.2133,
                80.8175,
                81.5893,
                83.2,
                86.9076
               ],
               [
                47.177,
                51.0688,
                53.8151,
                50.53979999999999,
                54.4443,
                64.9479,
                70.1666,
                75.97279999999999
               ],
               [
                58.3,
                70.2785,
                81.7714,
                88.5457,
                90.5425,
                92.1244,
                94.1139,
                95.9664
               ],
               [
                64.4,
                69.5188,
                70.1921,
                74.795,
                75.3163,
                78.0838,
                83.6813,
                83.9952
               ],
               [
                96.8199,
                97.13860000000001,
                96.8,
                97.5,
                98,
                98.442,
                98.33559999999999,
                99.08620000000002
               ],
               [
                59.3275,
                60.673500000000004,
                67.74170000000001,
                69.40220000000001,
                71.7916,
                74.11619999999999,
                74.5612,
                77.0935
               ],
               [
                null,
                73.0692,
                76.4,
                79.8,
                83.5,
                87.5,
                87.5,
                100
               ],
               [
                92.71629999999999,
                94.43090000000001,
                97.8837,
                98.79469999999999,
                98.93430000000001,
                98.99709999999999,
                98.9535,
                99.01719999999999
               ]
              ]
             }
            ],
            "label": "NGA broadband coverage/availability",
            "method": "update"
           },
           {
            "args": [
             {
              "x": [
               [
                "2004-01-01 00:00:00",
                "2005-01-01 00:00:00",
                "2006-01-01 00:00:00",
                "2007-01-01 00:00:00",
                "2008-01-01 00:00:00",
                "2009-01-01 00:00:00",
                "2010-01-01 00:00:00",
                "2011-01-01 00:00:00",
                "2012-01-01 00:00:00",
                "2013-01-01 00:00:00",
                "2014-01-01 00:00:00",
                "2015-01-01 00:00:00",
                "2017-01-01 00:00:00",
                "2019-01-01 00:00:00"
               ],
               [
                "2003-01-01 00:00:00",
                "2004-01-01 00:00:00",
                "2005-01-01 00:00:00",
                "2006-01-01 00:00:00",
                "2007-01-01 00:00:00",
                "2008-01-01 00:00:00",
                "2009-01-01 00:00:00",
                "2010-01-01 00:00:00",
                "2011-01-01 00:00:00",
                "2012-01-01 00:00:00",
                "2013-01-01 00:00:00",
                "2014-01-01 00:00:00",
                "2015-01-01 00:00:00",
                "2017-01-01 00:00:00",
                "2018-01-01 00:00:00",
                "2019-01-01 00:00:00"
               ],
               [
                "2004-01-01 00:00:00",
                "2005-01-01 00:00:00",
                "2006-01-01 00:00:00",
                "2007-01-01 00:00:00",
                "2008-01-01 00:00:00",
                "2009-01-01 00:00:00",
                "2010-01-01 00:00:00",
                "2011-01-01 00:00:00",
                "2012-01-01 00:00:00",
                "2013-01-01 00:00:00",
                "2014-01-01 00:00:00",
                "2015-01-01 00:00:00",
                "2017-01-01 00:00:00",
                "2018-01-01 00:00:00",
                "2019-01-01 00:00:00"
               ],
               [
                "2003-01-01 00:00:00",
                "2004-01-01 00:00:00",
                "2005-01-01 00:00:00",
                "2006-01-01 00:00:00",
                "2007-01-01 00:00:00",
                "2008-01-01 00:00:00",
                "2009-01-01 00:00:00",
                "2010-01-01 00:00:00",
                "2011-01-01 00:00:00",
                "2012-01-01 00:00:00",
                "2013-01-01 00:00:00",
                "2014-01-01 00:00:00",
                "2015-01-01 00:00:00",
                "2016-01-01 00:00:00",
                "2017-01-01 00:00:00",
                "2019-01-01 00:00:00"
               ],
               [
                "2006-01-01 00:00:00",
                "2007-01-01 00:00:00",
                "2008-01-01 00:00:00",
                "2009-01-01 00:00:00",
                "2010-01-01 00:00:00",
                "2011-01-01 00:00:00",
                "2012-01-01 00:00:00",
                "2013-01-01 00:00:00",
                "2014-01-01 00:00:00",
                "2015-01-01 00:00:00",
                "2016-01-01 00:00:00",
                "2017-01-01 00:00:00",
                "2019-01-01 00:00:00"
               ],
               [
                "2007-01-01 00:00:00",
                "2008-01-01 00:00:00",
                "2009-01-01 00:00:00",
                "2010-01-01 00:00:00",
                "2011-01-01 00:00:00",
                "2012-01-01 00:00:00",
                "2013-01-01 00:00:00",
                "2014-01-01 00:00:00",
                "2015-01-01 00:00:00",
                "2016-01-01 00:00:00",
                "2017-01-01 00:00:00",
                "2019-01-01 00:00:00"
               ],
               [
                "2004-01-01 00:00:00",
                "2005-01-01 00:00:00",
                "2006-01-01 00:00:00",
                "2007-01-01 00:00:00",
                "2008-01-01 00:00:00",
                "2009-01-01 00:00:00",
                "2010-01-01 00:00:00",
                "2011-01-01 00:00:00",
                "2012-01-01 00:00:00",
                "2013-01-01 00:00:00",
                "2014-01-01 00:00:00",
                "2015-01-01 00:00:00",
                "2016-01-01 00:00:00",
                "2017-01-01 00:00:00",
                "2019-01-01 00:00:00"
               ],
               [
                "2003-01-01 00:00:00",
                "2004-01-01 00:00:00",
                "2005-01-01 00:00:00",
                "2006-01-01 00:00:00",
                "2007-01-01 00:00:00",
                "2008-01-01 00:00:00",
                "2009-01-01 00:00:00",
                "2010-01-01 00:00:00",
                "2011-01-01 00:00:00",
                "2012-01-01 00:00:00",
                "2013-01-01 00:00:00",
                "2014-01-01 00:00:00",
                "2015-01-01 00:00:00",
                "2016-01-01 00:00:00",
                "2017-01-01 00:00:00",
                "2019-01-01 00:00:00"
               ],
               [
                "2004-01-01 00:00:00",
                "2005-01-01 00:00:00",
                "2006-01-01 00:00:00",
                "2007-01-01 00:00:00",
                "2008-01-01 00:00:00",
                "2009-01-01 00:00:00",
                "2010-01-01 00:00:00",
                "2011-01-01 00:00:00",
                "2012-01-01 00:00:00",
                "2013-01-01 00:00:00",
                "2014-01-01 00:00:00",
                "2017-01-01 00:00:00",
                "2018-01-01 00:00:00",
                "2019-01-01 00:00:00"
               ],
               [
                "2003-01-01 00:00:00",
                "2004-01-01 00:00:00",
                "2005-01-01 00:00:00",
                "2006-01-01 00:00:00",
                "2007-01-01 00:00:00",
                "2008-01-01 00:00:00",
                "2009-01-01 00:00:00",
                "2010-01-01 00:00:00",
                "2011-01-01 00:00:00",
                "2012-01-01 00:00:00",
                "2013-01-01 00:00:00",
                "2014-01-01 00:00:00",
                "2015-01-01 00:00:00",
                "2016-01-01 00:00:00",
                "2017-01-01 00:00:00",
                "2019-01-01 00:00:00"
               ],
               [
                "2003-01-01 00:00:00",
                "2004-01-01 00:00:00",
                "2005-01-01 00:00:00",
                "2006-01-01 00:00:00",
                "2007-01-01 00:00:00",
                "2008-01-01 00:00:00",
                "2009-01-01 00:00:00",
                "2010-01-01 00:00:00",
                "2011-01-01 00:00:00",
                "2012-01-01 00:00:00",
                "2013-01-01 00:00:00",
                "2014-01-01 00:00:00",
                "2015-01-01 00:00:00",
                "2016-01-01 00:00:00",
                "2017-01-01 00:00:00",
                "2018-01-01 00:00:00",
                "2019-01-01 00:00:00"
               ],
               [
                "2003-01-01 00:00:00",
                "2004-01-01 00:00:00",
                "2005-01-01 00:00:00",
                "2006-01-01 00:00:00",
                "2007-01-01 00:00:00",
                "2008-01-01 00:00:00",
                "2009-01-01 00:00:00",
                "2010-01-01 00:00:00",
                "2011-01-01 00:00:00",
                "2012-01-01 00:00:00",
                "2013-01-01 00:00:00",
                "2014-01-01 00:00:00",
                "2015-01-01 00:00:00",
                "2016-01-01 00:00:00",
                "2017-01-01 00:00:00",
                "2019-01-01 00:00:00"
               ],
               [
                "2005-01-01 00:00:00",
                "2006-01-01 00:00:00",
                "2007-01-01 00:00:00",
                "2008-01-01 00:00:00",
                "2009-01-01 00:00:00",
                "2010-01-01 00:00:00",
                "2011-01-01 00:00:00",
                "2012-01-01 00:00:00",
                "2013-01-01 00:00:00",
                "2014-01-01 00:00:00",
                "2015-01-01 00:00:00",
                "2016-01-01 00:00:00",
                "2017-01-01 00:00:00",
                "2018-01-01 00:00:00",
                "2019-01-01 00:00:00"
               ],
               [
                "2003-01-01 00:00:00",
                "2004-01-01 00:00:00",
                "2005-01-01 00:00:00",
                "2006-01-01 00:00:00",
                "2007-01-01 00:00:00",
                "2008-01-01 00:00:00",
                "2009-01-01 00:00:00",
                "2010-01-01 00:00:00",
                "2011-01-01 00:00:00",
                "2012-01-01 00:00:00",
                "2013-01-01 00:00:00",
                "2014-01-01 00:00:00",
                "2015-01-01 00:00:00",
                "2016-01-01 00:00:00",
                "2017-01-01 00:00:00",
                "2018-01-01 00:00:00",
                "2019-01-01 00:00:00"
               ],
               [
                "2003-01-01 00:00:00",
                "2004-01-01 00:00:00",
                "2005-01-01 00:00:00",
                "2006-01-01 00:00:00",
                "2007-01-01 00:00:00",
                "2008-01-01 00:00:00",
                "2009-01-01 00:00:00",
                "2010-01-01 00:00:00",
                "2011-01-01 00:00:00",
                "2012-01-01 00:00:00",
                "2013-01-01 00:00:00",
                "2014-01-01 00:00:00",
                "2015-01-01 00:00:00",
                "2016-01-01 00:00:00",
                "2017-01-01 00:00:00",
                "2019-01-01 00:00:00"
               ],
               [
                "2004-01-01 00:00:00",
                "2005-01-01 00:00:00",
                "2006-01-01 00:00:00",
                "2007-01-01 00:00:00",
                "2008-01-01 00:00:00",
                "2009-01-01 00:00:00",
                "2010-01-01 00:00:00",
                "2011-01-01 00:00:00",
                "2012-01-01 00:00:00",
                "2013-01-01 00:00:00",
                "2014-01-01 00:00:00",
                "2015-01-01 00:00:00",
                "2016-01-01 00:00:00",
                "2017-01-01 00:00:00",
                "2019-01-01 00:00:00"
               ],
               [
                "2005-01-01 00:00:00",
                "2006-01-01 00:00:00",
                "2007-01-01 00:00:00",
                "2008-01-01 00:00:00",
                "2009-01-01 00:00:00",
                "2010-01-01 00:00:00",
                "2011-01-01 00:00:00",
                "2012-01-01 00:00:00",
                "2013-01-01 00:00:00",
                "2014-01-01 00:00:00",
                "2015-01-01 00:00:00",
                "2016-01-01 00:00:00",
                "2017-01-01 00:00:00",
                "2019-01-01 00:00:00"
               ],
               [
                "2003-01-01 00:00:00",
                "2004-01-01 00:00:00",
                "2005-01-01 00:00:00",
                "2006-01-01 00:00:00",
                "2007-01-01 00:00:00",
                "2008-01-01 00:00:00",
                "2009-01-01 00:00:00",
                "2010-01-01 00:00:00",
                "2011-01-01 00:00:00",
                "2012-01-01 00:00:00",
                "2013-01-01 00:00:00",
                "2014-01-01 00:00:00",
                "2015-01-01 00:00:00",
                "2016-01-01 00:00:00",
                "2017-01-01 00:00:00",
                "2019-01-01 00:00:00"
               ],
               [
                "2003-01-01 00:00:00",
                "2004-01-01 00:00:00",
                "2005-01-01 00:00:00",
                "2006-01-01 00:00:00",
                "2007-01-01 00:00:00",
                "2008-01-01 00:00:00",
                "2009-01-01 00:00:00",
                "2010-01-01 00:00:00",
                "2011-01-01 00:00:00",
                "2012-01-01 00:00:00",
                "2013-01-01 00:00:00",
                "2014-01-01 00:00:00",
                "2015-01-01 00:00:00",
                "2016-01-01 00:00:00",
                "2017-01-01 00:00:00",
                "2019-01-01 00:00:00"
               ],
               [
                "2003-01-01 00:00:00",
                "2004-01-01 00:00:00",
                "2005-01-01 00:00:00",
                "2006-01-01 00:00:00",
                "2007-01-01 00:00:00",
                "2008-01-01 00:00:00",
                "2009-01-01 00:00:00",
                "2010-01-01 00:00:00",
                "2011-01-01 00:00:00",
                "2012-01-01 00:00:00",
                "2013-01-01 00:00:00",
                "2014-01-01 00:00:00",
                "2015-01-01 00:00:00",
                "2016-01-01 00:00:00",
                "2017-01-01 00:00:00",
                "2018-01-01 00:00:00",
                "2019-01-01 00:00:00"
               ],
               [
                "2004-01-01 00:00:00",
                "2005-01-01 00:00:00",
                "2006-01-01 00:00:00",
                "2007-01-01 00:00:00",
                "2008-01-01 00:00:00",
                "2009-01-01 00:00:00",
                "2010-01-01 00:00:00",
                "2011-01-01 00:00:00",
                "2012-01-01 00:00:00",
                "2013-01-01 00:00:00",
                "2014-01-01 00:00:00",
                "2015-01-01 00:00:00",
                "2016-01-01 00:00:00",
                "2017-01-01 00:00:00",
                "2019-01-01 00:00:00"
               ],
               [
                "2005-01-01 00:00:00",
                "2006-01-01 00:00:00",
                "2007-01-01 00:00:00",
                "2008-01-01 00:00:00",
                "2014-01-01 00:00:00",
                "2015-01-01 00:00:00",
                "2017-01-01 00:00:00",
                "2018-01-01 00:00:00",
                "2019-01-01 00:00:00"
               ],
               [
                "2006-01-01 00:00:00",
                "2007-01-01 00:00:00",
                "2008-01-01 00:00:00",
                "2009-01-01 00:00:00",
                "2010-01-01 00:00:00",
                "2011-01-01 00:00:00",
                "2012-01-01 00:00:00",
                "2013-01-01 00:00:00",
                "2014-01-01 00:00:00",
                "2015-01-01 00:00:00",
                "2016-01-01 00:00:00",
                "2017-01-01 00:00:00",
                "2018-01-01 00:00:00",
                "2019-01-01 00:00:00"
               ],
               [
                "2005-01-01 00:00:00",
                "2006-01-01 00:00:00",
                "2007-01-01 00:00:00",
                "2008-01-01 00:00:00",
                "2009-01-01 00:00:00",
                "2010-01-01 00:00:00",
                "2011-01-01 00:00:00",
                "2012-01-01 00:00:00",
                "2013-01-01 00:00:00",
                "2014-01-01 00:00:00",
                "2015-01-01 00:00:00",
                "2016-01-01 00:00:00",
                "2017-01-01 00:00:00",
                "2018-01-01 00:00:00",
                "2019-01-01 00:00:00"
               ],
               [
                "2004-01-01 00:00:00",
                "2005-01-01 00:00:00",
                "2006-01-01 00:00:00",
                "2007-01-01 00:00:00",
                "2008-01-01 00:00:00",
                "2009-01-01 00:00:00",
                "2010-01-01 00:00:00",
                "2011-01-01 00:00:00",
                "2012-01-01 00:00:00",
                "2013-01-01 00:00:00",
                "2014-01-01 00:00:00",
                "2015-01-01 00:00:00",
                "2016-01-01 00:00:00",
                "2017-01-01 00:00:00",
                "2018-01-01 00:00:00",
                "2019-01-01 00:00:00"
               ],
               [
                "2004-01-01 00:00:00",
                "2005-01-01 00:00:00",
                "2006-01-01 00:00:00",
                "2007-01-01 00:00:00",
                "2008-01-01 00:00:00",
                "2009-01-01 00:00:00",
                "2010-01-01 00:00:00",
                "2011-01-01 00:00:00",
                "2012-01-01 00:00:00",
                "2013-01-01 00:00:00",
                "2014-01-01 00:00:00",
                "2015-01-01 00:00:00",
                "2016-01-01 00:00:00",
                "2017-01-01 00:00:00",
                "2018-01-01 00:00:00",
                "2019-01-01 00:00:00"
               ],
               [
                "2003-01-01 00:00:00",
                "2004-01-01 00:00:00",
                "2005-01-01 00:00:00",
                "2006-01-01 00:00:00",
                "2007-01-01 00:00:00",
                "2008-01-01 00:00:00",
                "2009-01-01 00:00:00",
                "2010-01-01 00:00:00",
                "2011-01-01 00:00:00",
                "2012-01-01 00:00:00",
                "2013-01-01 00:00:00",
                "2014-01-01 00:00:00",
                "2015-01-01 00:00:00",
                "2016-01-01 00:00:00",
                "2017-01-01 00:00:00",
                "2018-01-01 00:00:00",
                "2019-01-01 00:00:00"
               ],
               [
                "2003-01-01 00:00:00",
                "2004-01-01 00:00:00",
                "2005-01-01 00:00:00",
                "2006-01-01 00:00:00",
                "2007-01-01 00:00:00",
                "2008-01-01 00:00:00",
                "2009-01-01 00:00:00",
                "2010-01-01 00:00:00",
                "2011-01-01 00:00:00",
                "2012-01-01 00:00:00",
                "2013-01-01 00:00:00",
                "2014-01-01 00:00:00",
                "2015-01-01 00:00:00",
                "2017-01-01 00:00:00",
                "2018-01-01 00:00:00",
                "2019-01-01 00:00:00"
               ],
               [
                "2005-01-01 00:00:00",
                "2006-01-01 00:00:00",
                "2007-01-01 00:00:00",
                "2008-01-01 00:00:00",
                "2009-01-01 00:00:00",
                "2010-01-01 00:00:00",
                "2011-01-01 00:00:00",
                "2012-01-01 00:00:00",
                "2013-01-01 00:00:00",
                "2014-01-01 00:00:00",
                "2015-01-01 00:00:00",
                "2016-01-01 00:00:00",
                "2017-01-01 00:00:00",
                "2018-01-01 00:00:00",
                "2019-01-01 00:00:00"
               ],
               [
                "2004-01-01 00:00:00",
                "2006-01-01 00:00:00",
                "2007-01-01 00:00:00",
                "2008-01-01 00:00:00",
                "2009-01-01 00:00:00",
                "2010-01-01 00:00:00",
                "2011-01-01 00:00:00",
                "2012-01-01 00:00:00",
                "2013-01-01 00:00:00",
                "2014-01-01 00:00:00",
                "2015-01-01 00:00:00",
                "2017-01-01 00:00:00",
                "2018-01-01 00:00:00",
                "2019-01-01 00:00:00"
               ],
               [
                "2004-01-01 00:00:00",
                "2005-01-01 00:00:00",
                "2006-01-01 00:00:00",
                "2007-01-01 00:00:00",
                "2008-01-01 00:00:00",
                "2009-01-01 00:00:00",
                "2010-01-01 00:00:00",
                "2011-01-01 00:00:00",
                "2012-01-01 00:00:00",
                "2013-01-01 00:00:00",
                "2014-01-01 00:00:00",
                "2015-01-01 00:00:00",
                "2017-01-01 00:00:00",
                "2018-01-01 00:00:00",
                "2019-01-01 00:00:00"
               ],
               []
              ],
              "y": [
               [
                20.312,
                28.409000000000002,
                36.396100000000004,
                46.81770000000001,
                53.7733,
                60.9001,
                63.6351,
                64.9389,
                73.0381,
                78.4193,
                81.2006,
                86.9123,
                87.35770000000001,
                89.99959999999999
               ],
               [
                0.5947999999999999,
                0.2318,
                0.6206,
                3.837,
                7.460999999999999,
                22.458000000000002,
                33.1417,
                41.181,
                45.3808,
                50.5042,
                55.0208,
                64.66029999999999,
                67.0966,
                70.6434,
                76.125,
                78.0646
               ],
               [
                15.0454,
                20.754099999999998,
                28.499299999999998,
                38.2481,
                43.5725,
                50.3055,
                56.146800000000006,
                60.7518,
                65.4722,
                68.82639999999999,
                73.0153,
                77.8207,
                82.6833,
                86.1152,
                91.1694
               ],
               [
                12.371400000000001,
                21.2872,
                36.088300000000004,
                52.86189999999999,
                62.87819999999999,
                66.14439999999999,
                73.73819999999999,
                75.8024,
                81.2968,
                84.96870000000001,
                87.9929,
                88.91600000000001,
                89.52399999999999,
                91.21000000000001,
                93.40950000000001,
                93.0666
               ],
               [
                30.2603,
                48.90390000000001,
                57.0997,
                62.7416,
                66.391,
                69.9495,
                77.23349999999999,
                78.3743,
                76.6883,
                76.08709999999999,
                79.2876,
                79.1813,
                82.83729999999998
               ],
               [
                23.4987,
                26.849,
                39.4629,
                49.09060000000001,
                56.393,
                59.83930000000001,
                63.6495,
                68.0462,
                75.8283,
                76.872,
                75.9944,
                80.52229999999999
               ],
               [
                5.7958,
                10.939300000000001,
                21.5016,
                32.449,
                40.8648,
                49.5201,
                50.5154,
                59.0572,
                66.259,
                69.1979,
                72.5026,
                74.8645,
                78.21279999999999,
                81.8854,
                85.89459999999998
               ],
               [
                0.6162,
                2.8901,
                7.3915999999999995,
                13.0667,
                31.215799999999998,
                42.9403,
                53.719300000000004,
                57.5191,
                65.4253,
                65.4427,
                66.9965,
                79.54899999999999,
                82.6867,
                85.8141,
                88.0405,
                89.9366
               ],
               [
                45.437799999999996,
                63.467,
                72.0759,
                76.09899999999999,
                83.24879999999999,
                86.7289,
                86.9647,
                92.4215,
                92.74969999999999,
                95.4894,
                92.6736,
                96.18809999999999,
                97.0212,
                94.5558
               ],
               [
                9.3315,
                18.0065,
                23.244799999999998,
                33.5357,
                49.5664,
                54.8585,
                64.5849,
                75.2013,
                77.52170000000001,
                81.5248,
                84.7878,
                86.57780000000001,
                87.8287,
                89.59719999999999,
                91.6003,
                93.9261
               ],
               [
                1.4764,
                4.4505,
                5.0613,
                16.5827,
                28.062399999999997,
                36.405,
                48.891400000000004,
                53.6004,
                63.4421,
                69.28569999999999,
                69.3875,
                75.91369999999999,
                76.03800000000001,
                80.3188,
                82.87610000000001,
                85.76820000000001,
                86.99959999999999
               ],
               [
                25.072400000000002,
                35.815000000000005,
                51.178999999999995,
                63.252700000000004,
                69.53150000000001,
                74.07130000000001,
                76.0467,
                80.1021,
                83.89129999999999,
                84.7714,
                87.19059999999999,
                85.4128,
                84.19680000000001,
                91.6026,
                92.1007,
                92.53299999999999
               ],
               [
                12.9499,
                16.2239,
                25.2983,
                30.788000000000004,
                39.0042,
                48.864200000000004,
                51.6696,
                55.06999999999999,
                67.8282,
                71.0569,
                74.2845,
                77.1387,
                79.464,
                82.80340000000001,
                83.72200000000001
               ],
               [
                1.6896000000000002,
                3.6814,
                11.5822,
                19.4129,
                34.1279,
                42.8626,
                49.84590000000001,
                53.56810000000001,
                55.6535,
                59.6024,
                64.0958,
                65.3717,
                67.328,
                71.0244,
                74.6719,
                77.8948,
                81.35520000000001
               ],
               [
                7.364,
                16.267699999999998,
                33.4079,
                44.0873,
                57.7708,
                61.007600000000004,
                71.081,
                70.32939999999999,
                67.7389,
                67.86609999999999,
                69.8795,
                92.6849,
                95.10049999999998,
                96.77590000000001,
                97.0357,
                95.1973
               ],
               [
                5.3699,
                13.9319,
                22.5044,
                31.9235,
                39.6576,
                50.233700000000006,
                52.564600000000006,
                59.3778,
                67.2844,
                70.1288,
                73.0891,
                74.3762,
                75.0844,
                76.4973,
                83.3024
               ],
               [
                22.869600000000002,
                40.6936,
                44.3536,
                55.4458,
                62.9371,
                69.29560000000001,
                74.922,
                76.5765,
                77.99289999999999,
                79.7288,
                80.8125,
                81.22729999999999,
                84.77080000000001,
                85.9093
               ],
               [
                19.965700000000002,
                31.2781,
                53.8705,
                66.166,
                73.7695,
                73.9709,
                76.97420000000001,
                79.5136,
                82.93169999999999,
                84.4626,
                86.90639999999999,
                94.3732,
                94.0049,
                95.4131,
                97.79969999999999,
                97.9224
               ],
               [
                22.894000000000002,
                30.013499999999997,
                41.43560000000001,
                57.0696,
                66.71679999999999,
                72.9765,
                77.7683,
                82.5727,
                80.3452,
                85.8066,
                87.8282,
                87.8662,
                91.1018,
                96.15169999999999,
                93.84989999999999,
                97.4362
               ],
               [
                7.8724,
                12.2994,
                19.7212,
                24.0068,
                30.421100000000003,
                39.3449,
                46.158100000000005,
                50.31640000000001,
                56.60649999999999,
                59.748400000000004,
                61.6197,
                63.366899999999994,
                68.54050000000001,
                72.9517,
                76.36319999999999,
                76.9263,
                77.95299999999999
               ],
               [
                8.2754,
                15.5868,
                21.641999999999996,
                29.556900000000002,
                37.949099999999994,
                51.1428,
                56.801199999999994,
                61.119899999999994,
                66.9996,
                68.7824,
                71.1239,
                71.0026,
                75.7073,
                77.6367,
                83.3001
               ],
               [
                23.0239,
                30.3049,
                42.1649,
                48.268899999999995,
                78.2936,
                79.8932,
                84.7219,
                86.1482,
                88.5972
               ],
               [
                5.2177999999999995,
                7.945099999999999,
                13.2953,
                23.6663,
                22.831,
                30.7221,
                50.4189,
                56.3685,
                57.7092,
                65.3,
                70.1057,
                74.3664,
                78.851,
                81.8274
               ],
               [
                40.1798,
                51.010200000000005,
                66.6176,
                70.6515,
                79.48930000000001,
                82.5623,
                85.5203,
                87.00120000000001,
                null,
                86.5255,
                82.95049999999999,
                88.6294,
                93.0705,
                91.3616,
                94.8412
               ],
               [
                10.1961,
                19.420199999999998,
                33.5619,
                43.64560000000001,
                49.7196,
                56.1491,
                62.0208,
                66.955,
                73.3003,
                74.1924,
                75.384,
                77.5974,
                78.4212,
                81.7369,
                86.68209999999999,
                88.9611
               ],
               [
                3.5519000000000003,
                7.1164000000000005,
                11.4169,
                26.5023,
                35.33,
                41.727399999999996,
                49.3512,
                55.3284,
                72.0535,
                70.18130000000001,
                76.4151,
                77.5993,
                78.15140000000001,
                78.9105,
                78.99010000000001,
                80.3562
               ],
               [
                10.6937,
                15.817200000000001,
                31.543899999999997,
                43.922700000000006,
                56.74829999999999,
                61.5147,
                69.467,
                null,
                80.3639,
                85.57950000000001,
                87.44229999999999,
                88.1832,
                89.9422,
                91.9025,
                93.1399,
                94.8184,
                95.84440000000001
               ],
               [
                10.2853,
                15.923499999999999,
                23.1404,
                33.117,
                46.146300000000004,
                54.49689999999999,
                57.80270000000001,
                63.70020000000001,
                71.9837,
                77.40859999999999,
                79.7862,
                79.3764,
                80.9113,
                88.38040000000001,
                87.6856,
                89.3345
               ],
               [
                40.5604,
                48.049899999999994,
                56.3886,
                60.3155,
                63.398199999999996,
                69.9525,
                74.0032,
                74.6965,
                78.6488,
                81.4769,
                79.2224,
                82.41219999999998,
                84.2533,
                83.7276,
                87.5729
               ],
               [
                3.7476000000000003,
                10.102500000000001,
                15.396799999999999,
                20.7164,
                26.116899999999998,
                26.0094,
                39.7967,
                50.7844,
                53.61739999999999,
                56.4632,
                58.839600000000004,
                66.8983,
                71.4934,
                74.94460000000001
               ],
               [
                2.3639,
                4.492699999999999,
                12.466,
                20.2272,
                32.9747,
                47.4965,
                50.670700000000004,
                55.50229999999999,
                61.6541,
                64.3582,
                68.5417,
                71.1608,
                79.0265,
                85.6495,
                89.43900000000001
               ],
               []
              ]
             }
            ],
            "label": "Households with a broadband connection",
            "method": "update"
           },
           {
            "args": [
             {
              "x": [
               [
                "2010-01-01 00:00:00",
                "2011-01-01 00:00:00",
                "2012-01-01 00:00:00",
                "2013-01-01 00:00:00",
                "2014-01-01 00:00:00",
                "2015-01-01 00:00:00",
                "2017-01-01 00:00:00",
                "2019-01-01 00:00:00"
               ],
               [
                "2010-01-01 00:00:00",
                "2011-01-01 00:00:00",
                "2012-01-01 00:00:00",
                "2013-01-01 00:00:00",
                "2014-01-01 00:00:00",
                "2015-01-01 00:00:00",
                "2017-01-01 00:00:00",
                "2018-01-01 00:00:00",
                "2019-01-01 00:00:00"
               ],
               [
                "2010-01-01 00:00:00",
                "2011-01-01 00:00:00",
                "2012-01-01 00:00:00",
                "2013-01-01 00:00:00",
                "2014-01-01 00:00:00",
                "2015-01-01 00:00:00",
                "2017-01-01 00:00:00",
                "2018-01-01 00:00:00",
                "2019-01-01 00:00:00"
               ],
               [
                "2010-01-01 00:00:00",
                "2011-01-01 00:00:00",
                "2012-01-01 00:00:00",
                "2013-01-01 00:00:00",
                "2014-01-01 00:00:00",
                "2015-01-01 00:00:00",
                "2016-01-01 00:00:00",
                "2017-01-01 00:00:00",
                "2019-01-01 00:00:00"
               ],
               [
                "2010-01-01 00:00:00",
                "2011-01-01 00:00:00",
                "2012-01-01 00:00:00",
                "2013-01-01 00:00:00",
                "2014-01-01 00:00:00",
                "2015-01-01 00:00:00",
                "2016-01-01 00:00:00",
                "2017-01-01 00:00:00",
                "2019-01-01 00:00:00"
               ],
               [
                "2010-01-01 00:00:00",
                "2011-01-01 00:00:00",
                "2012-01-01 00:00:00",
                "2013-01-01 00:00:00",
                "2014-01-01 00:00:00",
                "2015-01-01 00:00:00",
                "2016-01-01 00:00:00",
                "2017-01-01 00:00:00",
                "2019-01-01 00:00:00"
               ],
               [
                "2010-01-01 00:00:00",
                "2011-01-01 00:00:00",
                "2012-01-01 00:00:00",
                "2013-01-01 00:00:00",
                "2014-01-01 00:00:00",
                "2015-01-01 00:00:00",
                "2016-01-01 00:00:00",
                "2017-01-01 00:00:00",
                "2019-01-01 00:00:00"
               ],
               [
                "2010-01-01 00:00:00",
                "2011-01-01 00:00:00",
                "2012-01-01 00:00:00",
                "2013-01-01 00:00:00",
                "2014-01-01 00:00:00",
                "2015-01-01 00:00:00",
                "2016-01-01 00:00:00",
                "2017-01-01 00:00:00",
                "2018-01-01 00:00:00",
                "2019-01-01 00:00:00"
               ],
               [
                "2010-01-01 00:00:00",
                "2011-01-01 00:00:00",
                "2012-01-01 00:00:00",
                "2013-01-01 00:00:00",
                "2014-01-01 00:00:00",
                "2017-01-01 00:00:00",
                "2018-01-01 00:00:00",
                "2019-01-01 00:00:00"
               ],
               [
                "2010-01-01 00:00:00",
                "2011-01-01 00:00:00",
                "2012-01-01 00:00:00",
                "2013-01-01 00:00:00",
                "2014-01-01 00:00:00",
                "2015-01-01 00:00:00",
                "2016-01-01 00:00:00",
                "2017-01-01 00:00:00",
                "2019-01-01 00:00:00"
               ],
               [
                "2010-01-01 00:00:00",
                "2011-01-01 00:00:00",
                "2012-01-01 00:00:00",
                "2013-01-01 00:00:00",
                "2014-01-01 00:00:00",
                "2015-01-01 00:00:00",
                "2016-01-01 00:00:00",
                "2017-01-01 00:00:00",
                "2019-01-01 00:00:00"
               ],
               [
                "2010-01-01 00:00:00",
                "2011-01-01 00:00:00",
                "2012-01-01 00:00:00",
                "2013-01-01 00:00:00",
                "2014-01-01 00:00:00",
                "2015-01-01 00:00:00",
                "2016-01-01 00:00:00",
                "2017-01-01 00:00:00",
                "2019-01-01 00:00:00"
               ],
               [
                "2010-01-01 00:00:00",
                "2011-01-01 00:00:00",
                "2012-01-01 00:00:00",
                "2013-01-01 00:00:00",
                "2014-01-01 00:00:00",
                "2015-01-01 00:00:00",
                "2016-01-01 00:00:00",
                "2017-01-01 00:00:00",
                "2018-01-01 00:00:00",
                "2019-01-01 00:00:00"
               ],
               [
                "2010-01-01 00:00:00",
                "2011-01-01 00:00:00",
                "2012-01-01 00:00:00",
                "2013-01-01 00:00:00",
                "2014-01-01 00:00:00",
                "2015-01-01 00:00:00",
                "2016-01-01 00:00:00",
                "2017-01-01 00:00:00",
                "2018-01-01 00:00:00",
                "2019-01-01 00:00:00"
               ],
               [
                "2010-01-01 00:00:00",
                "2011-01-01 00:00:00",
                "2012-01-01 00:00:00",
                "2013-01-01 00:00:00",
                "2014-01-01 00:00:00",
                "2015-01-01 00:00:00",
                "2016-01-01 00:00:00",
                "2017-01-01 00:00:00",
                "2019-01-01 00:00:00"
               ],
               [
                "2010-01-01 00:00:00",
                "2011-01-01 00:00:00",
                "2012-01-01 00:00:00",
                "2013-01-01 00:00:00",
                "2014-01-01 00:00:00",
                "2015-01-01 00:00:00",
                "2016-01-01 00:00:00",
                "2017-01-01 00:00:00",
                "2019-01-01 00:00:00"
               ],
               [
                "2010-01-01 00:00:00",
                "2011-01-01 00:00:00",
                "2012-01-01 00:00:00",
                "2013-01-01 00:00:00",
                "2014-01-01 00:00:00",
                "2015-01-01 00:00:00",
                "2016-01-01 00:00:00",
                "2017-01-01 00:00:00",
                "2019-01-01 00:00:00"
               ],
               [
                "2010-01-01 00:00:00",
                "2011-01-01 00:00:00",
                "2012-01-01 00:00:00",
                "2013-01-01 00:00:00",
                "2014-01-01 00:00:00",
                "2015-01-01 00:00:00",
                "2016-01-01 00:00:00",
                "2017-01-01 00:00:00",
                "2019-01-01 00:00:00"
               ],
               [
                "2010-01-01 00:00:00",
                "2011-01-01 00:00:00",
                "2012-01-01 00:00:00",
                "2013-01-01 00:00:00",
                "2014-01-01 00:00:00",
                "2015-01-01 00:00:00",
                "2016-01-01 00:00:00",
                "2017-01-01 00:00:00",
                "2019-01-01 00:00:00"
               ],
               [
                "2010-01-01 00:00:00",
                "2011-01-01 00:00:00",
                "2012-01-01 00:00:00",
                "2013-01-01 00:00:00",
                "2014-01-01 00:00:00",
                "2015-01-01 00:00:00",
                "2016-01-01 00:00:00",
                "2017-01-01 00:00:00",
                "2018-01-01 00:00:00",
                "2019-01-01 00:00:00"
               ],
               [
                "2010-01-01 00:00:00",
                "2011-01-01 00:00:00",
                "2012-01-01 00:00:00",
                "2013-01-01 00:00:00",
                "2014-01-01 00:00:00",
                "2015-01-01 00:00:00",
                "2016-01-01 00:00:00",
                "2017-01-01 00:00:00",
                "2019-01-01 00:00:00"
               ],
               [
                "2014-01-01 00:00:00",
                "2015-01-01 00:00:00",
                "2017-01-01 00:00:00",
                "2018-01-01 00:00:00"
               ],
               [
                "2010-01-01 00:00:00",
                "2011-01-01 00:00:00",
                "2012-01-01 00:00:00",
                "2013-01-01 00:00:00",
                "2014-01-01 00:00:00",
                "2015-01-01 00:00:00",
                "2016-01-01 00:00:00",
                "2017-01-01 00:00:00",
                "2018-01-01 00:00:00",
                "2019-01-01 00:00:00"
               ],
               [
                "2010-01-01 00:00:00",
                "2011-01-01 00:00:00",
                "2012-01-01 00:00:00",
                "2013-01-01 00:00:00",
                "2014-01-01 00:00:00",
                "2015-01-01 00:00:00",
                "2016-01-01 00:00:00",
                "2017-01-01 00:00:00",
                "2018-01-01 00:00:00",
                "2019-01-01 00:00:00"
               ],
               [
                "2010-01-01 00:00:00",
                "2011-01-01 00:00:00",
                "2012-01-01 00:00:00",
                "2013-01-01 00:00:00",
                "2014-01-01 00:00:00",
                "2015-01-01 00:00:00",
                "2016-01-01 00:00:00",
                "2017-01-01 00:00:00",
                "2018-01-01 00:00:00",
                "2019-01-01 00:00:00"
               ],
               [
                "2010-01-01 00:00:00",
                "2011-01-01 00:00:00",
                "2012-01-01 00:00:00",
                "2013-01-01 00:00:00",
                "2014-01-01 00:00:00",
                "2015-01-01 00:00:00",
                "2016-01-01 00:00:00",
                "2017-01-01 00:00:00",
                "2018-01-01 00:00:00",
                "2019-01-01 00:00:00"
               ],
               [
                "2010-01-01 00:00:00",
                "2011-01-01 00:00:00",
                "2012-01-01 00:00:00",
                "2013-01-01 00:00:00",
                "2014-01-01 00:00:00",
                "2015-01-01 00:00:00",
                "2016-01-01 00:00:00",
                "2017-01-01 00:00:00",
                "2018-01-01 00:00:00",
                "2019-01-01 00:00:00"
               ],
               [
                "2010-01-01 00:00:00",
                "2011-01-01 00:00:00",
                "2012-01-01 00:00:00",
                "2013-01-01 00:00:00",
                "2014-01-01 00:00:00",
                "2015-01-01 00:00:00",
                "2017-01-01 00:00:00",
                "2018-01-01 00:00:00",
                "2019-01-01 00:00:00"
               ],
               [
                "2010-01-01 00:00:00",
                "2011-01-01 00:00:00",
                "2012-01-01 00:00:00",
                "2013-01-01 00:00:00",
                "2014-01-01 00:00:00",
                "2015-01-01 00:00:00",
                "2016-01-01 00:00:00",
                "2017-01-01 00:00:00",
                "2018-01-01 00:00:00",
                "2019-01-01 00:00:00"
               ],
               [
                "2010-01-01 00:00:00",
                "2011-01-01 00:00:00",
                "2012-01-01 00:00:00",
                "2013-01-01 00:00:00",
                "2014-01-01 00:00:00",
                "2015-01-01 00:00:00",
                "2017-01-01 00:00:00",
                "2018-01-01 00:00:00",
                "2019-01-01 00:00:00"
               ],
               [
                "2010-01-01 00:00:00",
                "2011-01-01 00:00:00",
                "2012-01-01 00:00:00",
                "2013-01-01 00:00:00",
                "2014-01-01 00:00:00",
                "2015-01-01 00:00:00",
                "2017-01-01 00:00:00",
                "2018-01-01 00:00:00",
                "2019-01-01 00:00:00"
               ],
               []
              ],
              "y": [
               [
                60.573100000000004,
                61.8612,
                65.985,
                68.8423,
                68.7333,
                77.0996,
                77.6396,
                82.60790000000001
               ],
               [
                40.7616,
                44.6527,
                49.5702,
                54.16649999999999,
                63.2272,
                65.6795,
                68.681,
                74.15650000000001,
                75.86739999999999
               ],
               [
                54.2205,
                57.689499999999995,
                61.00439999999999,
                62.564,
                65.33149999999999,
                68.7324,
                73.3152,
                77.26849999999999,
                77.91470000000001
               ],
               [
                60.67229999999999,
                59.31029999999999,
                59.0249,
                59.033100000000005,
                61.4352,
                58.5886,
                61.115399999999994,
                56.6819,
                56.854099999999995
               ],
               [
                65.281,
                68.48920000000001,
                75.5038,
                76.2084,
                73.612,
                70.8388,
                72.4654,
                71.2908,
                70.5353
               ],
               [
                46.5853,
                54.085899999999995,
                57.139300000000006,
                61.0321,
                61.1816,
                70.3465,
                69.6651,
                70.1477,
                70.3541
               ],
               [
                48.699,
                53.8353,
                61.7394,
                64.0051,
                66.4069,
                68.7067,
                72.3281,
                77.639,
                81.8229
               ],
               [
                44.77310000000001,
                51.2115,
                56.46060000000001,
                59.6021,
                61.538500000000006,
                65.3785,
                69.0488,
                74.3839,
                72.9397,
                76.165
               ],
               [
                83.84620000000001,
                87.91680000000001,
                87.06739999999999,
                89.7075,
                89.81290000000001,
                94.4744,
                93.5643,
                90.20100000000001
               ],
               [
                72.14729999999999,
                74.1799,
                77.803,
                81.1585,
                83.17549999999999,
                83.85870000000001,
                85.6028,
                88.0372,
                88.2706
               ],
               [
                52.287499999999994,
                61.64390000000001,
                66.50890000000001,
                65.7341,
                75.91369999999999,
                76.03800000000001,
                70.6088,
                73.36739999999999,
                74.081
               ],
               [
                75.4931,
                78.4841,
                79.4212,
                81.2994,
                79.1964,
                76.9648,
                83.4565,
                85.66329999999999,
                84.70639999999999
               ],
               [
                40.7971,
                40.181,
                42.0882,
                50.317600000000006,
                51.109300000000005,
                52.5529,
                55.230900000000005,
                56.6616,
                60.3424,
                60.8507
               ],
               [
                52.464600000000004,
                53.89810000000001,
                53.232,
                57.9307,
                58.3804,
                59.7603,
                62.9867,
                64.514,
                63.8339,
                67.95649999999999
               ],
               [
                69.30669999999999,
                67.1305,
                67.0964,
                69.4764,
                90.62540000000001,
                94.47489999999999,
                95.6939,
                94.02530000000002,
                90.74889999999999
               ],
               [
                51.1399,
                53.7435,
                62.1854,
                61.9501,
                63.0562,
                64.7666,
                61.30949999999999,
                63.683299999999996,
                63.517999999999994
               ],
               [
                67.9165,
                73.89899999999999,
                76.2036,
                77.2889,
                78.3672,
                79.624,
                79.38810000000001,
                82.855,
                83.8503
               ],
               [
                79.3864,
                77.1265,
                83.74549999999999,
                null,
                null,
                93.95110000000001,
                95.3578,
                97.6318,
                97.8835
               ],
               [
                76.7469,
                73.4571,
                77.7929,
                80.4951,
                79.6936,
                83.0092,
                93.7041,
                89.75569999999999,
                92.79119999999999
               ],
               [
                41.187,
                47.6863,
                51.4208,
                53.157700000000006,
                53.1734,
                61.393699999999995,
                68.407,
                72.0767,
                73.6486,
                74.5775
               ],
               [
                51.408100000000005,
                55.129099999999994,
                59.2873,
                60.679300000000005,
                59.6734,
                57.361200000000004,
                58.7167,
                61.18359999999999,
                62.34309999999999
               ],
               [
                69.8824,
                71.7476,
                75.4723,
                76.626
               ],
               [
                22.499899999999997,
                30.1304,
                49.350100000000005,
                55.3634,
                54.40149999999999,
                60.315200000000004,
                62.8483,
                66.8913,
                66.4496,
                65.6714
               ],
               [
                70.8943,
                72.128,
                67.0317,
                67.9014,
                67.2284,
                68.0056,
                71.5796,
                78.20620000000001,
                78.0095,
                86.23270000000001
               ],
               [
                57.7025,
                63.172,
                70.5583,
                71.7049,
                71.29379999999999,
                74.6279,
                76.946,
                76.5582,
                84.7207,
                83.4489
               ],
               [
                42.0918,
                46.3179,
                65.3984,
                63.16270000000001,
                69.9303,
                71.53059999999999,
                71.9426,
                69.6931,
                70.3617,
                71.72810000000001
               ],
               [
                null,
                76.9162,
                80.67949999999999,
                83.3343,
                82.20360000000001,
                85.4166,
                86.8094,
                88.0123,
                92.5475,
                93.83409999999999
               ],
               [
                48.2301,
                57.00770000000001,
                59.5791,
                58.823100000000004,
                63.892700000000005,
                65.4008,
                70.8858,
                69.3214,
                71.6183
               ],
               [
                68.37989999999999,
                72.3564,
                73.0588,
                77.7005,
                80.80430000000001,
                77.8361,
                80.12310000000001,
                80.9692,
                75.4165,
                79.4783
               ],
               [
                25.5411,
                39.4499,
                49.8838,
                52.3953,
                53.9906,
                55.481199999999994,
                58.6854,
                57.948,
                57.767500000000005
               ],
               [
                50.6052,
                54.5246,
                60.5422,
                63.0317,
                67.9752,
                69.39890000000001,
                76.3586,
                84.5105,
                87.1082
               ],
               []
              ]
             }
            ],
            "label": "Households with fixed broadband connection",
            "method": "update"
           },
           {
            "args": [
             {
              "x": [
               [
                "2011-12-01 00:00:00",
                "2012-06-01 00:00:00",
                "2012-12-01 00:00:00",
                "2013-06-01 00:00:00",
                "2013-12-01 00:00:00",
                "2014-06-01 00:00:00",
                "2014-12-01 00:00:00",
                "2015-06-01 00:00:00",
                "2016-12-01 00:00:00",
                "2017-06-01 00:00:00",
                "2017-12-01 00:00:00",
                "2018-06-01 00:00:00",
                "2018-12-01 00:00:00",
                "2019-06-01 00:00:00"
               ],
               [
                "2011-12-01 00:00:00",
                "2012-06-01 00:00:00",
                "2012-12-01 00:00:00",
                "2013-06-01 00:00:00",
                "2013-12-01 00:00:00",
                "2014-06-01 00:00:00",
                "2014-12-01 00:00:00",
                "2015-06-01 00:00:00",
                "2016-12-01 00:00:00",
                "2017-06-01 00:00:00",
                "2017-12-01 00:00:00",
                "2018-06-01 00:00:00",
                "2018-12-01 00:00:00",
                "2019-06-01 00:00:00"
               ],
               [
                "2011-12-01 00:00:00",
                "2012-06-01 00:00:00",
                "2012-12-01 00:00:00",
                "2013-06-01 00:00:00",
                "2013-12-01 00:00:00",
                "2014-06-01 00:00:00",
                "2014-12-01 00:00:00",
                "2015-06-01 00:00:00",
                "2016-12-01 00:00:00",
                "2017-06-01 00:00:00",
                "2017-12-01 00:00:00",
                "2018-06-01 00:00:00",
                "2018-12-01 00:00:00",
                "2019-06-01 00:00:00"
               ],
               [
                "2011-12-01 00:00:00",
                "2012-06-01 00:00:00",
                "2012-12-01 00:00:00",
                "2013-06-01 00:00:00",
                "2013-12-01 00:00:00",
                "2014-06-01 00:00:00",
                "2014-12-01 00:00:00",
                "2015-06-01 00:00:00",
                "2016-12-01 00:00:00",
                "2017-06-01 00:00:00",
                "2017-12-01 00:00:00",
                "2018-06-01 00:00:00",
                "2018-12-01 00:00:00",
                "2019-06-01 00:00:00"
               ],
               [
                "2011-12-01 00:00:00",
                "2012-06-01 00:00:00",
                "2012-12-01 00:00:00",
                "2013-06-01 00:00:00",
                "2013-12-01 00:00:00",
                "2014-06-01 00:00:00",
                "2014-12-01 00:00:00",
                "2015-06-01 00:00:00",
                "2016-12-01 00:00:00",
                "2017-06-01 00:00:00",
                "2017-12-01 00:00:00",
                "2018-06-01 00:00:00",
                "2018-12-01 00:00:00",
                "2019-06-01 00:00:00"
               ],
               [
                "2011-12-01 00:00:00",
                "2012-06-01 00:00:00",
                "2012-12-01 00:00:00",
                "2013-06-01 00:00:00",
                "2013-12-01 00:00:00",
                "2014-06-01 00:00:00",
                "2014-12-01 00:00:00",
                "2015-06-01 00:00:00",
                "2016-12-01 00:00:00",
                "2017-06-01 00:00:00",
                "2017-12-01 00:00:00",
                "2018-06-01 00:00:00",
                "2018-12-01 00:00:00",
                "2019-06-01 00:00:00"
               ],
               [
                "2011-12-01 00:00:00",
                "2012-06-01 00:00:00",
                "2012-12-01 00:00:00",
                "2013-06-01 00:00:00",
                "2013-12-01 00:00:00",
                "2014-06-01 00:00:00",
                "2014-12-01 00:00:00",
                "2015-06-01 00:00:00",
                "2016-12-01 00:00:00",
                "2017-06-01 00:00:00",
                "2017-12-01 00:00:00",
                "2018-06-01 00:00:00",
                "2018-12-01 00:00:00",
                "2019-06-01 00:00:00"
               ],
               [
                "2011-12-01 00:00:00",
                "2012-06-01 00:00:00",
                "2012-12-01 00:00:00",
                "2013-06-01 00:00:00",
                "2013-12-01 00:00:00",
                "2014-06-01 00:00:00",
                "2014-12-01 00:00:00",
                "2015-06-01 00:00:00",
                "2016-12-01 00:00:00",
                "2017-06-01 00:00:00",
                "2017-12-01 00:00:00",
                "2018-06-01 00:00:00",
                "2018-12-01 00:00:00",
                "2019-06-01 00:00:00"
               ],
               [],
               [
                "2011-12-01 00:00:00",
                "2012-06-01 00:00:00",
                "2012-12-01 00:00:00",
                "2013-06-01 00:00:00",
                "2013-12-01 00:00:00",
                "2014-06-01 00:00:00",
                "2014-12-01 00:00:00",
                "2015-06-01 00:00:00",
                "2016-12-01 00:00:00",
                "2017-06-01 00:00:00",
                "2017-12-01 00:00:00",
                "2018-06-01 00:00:00",
                "2018-12-01 00:00:00",
                "2019-06-01 00:00:00"
               ],
               [
                "2011-12-01 00:00:00",
                "2012-06-01 00:00:00",
                "2012-12-01 00:00:00",
                "2013-06-01 00:00:00",
                "2013-12-01 00:00:00",
                "2014-06-01 00:00:00",
                "2014-12-01 00:00:00",
                "2015-06-01 00:00:00",
                "2016-12-01 00:00:00",
                "2017-06-01 00:00:00",
                "2017-12-01 00:00:00",
                "2018-06-01 00:00:00",
                "2018-12-01 00:00:00",
                "2019-06-01 00:00:00"
               ],
               [
                "2011-12-01 00:00:00",
                "2012-06-01 00:00:00",
                "2012-12-01 00:00:00",
                "2013-06-01 00:00:00",
                "2013-12-01 00:00:00",
                "2014-06-01 00:00:00",
                "2014-12-01 00:00:00",
                "2015-06-01 00:00:00",
                "2016-12-01 00:00:00",
                "2017-06-01 00:00:00",
                "2017-12-01 00:00:00",
                "2018-06-01 00:00:00",
                "2018-12-01 00:00:00",
                "2019-06-01 00:00:00"
               ],
               [
                "2011-12-01 00:00:00",
                "2012-06-01 00:00:00",
                "2012-12-01 00:00:00",
                "2013-06-01 00:00:00",
                "2013-12-01 00:00:00",
                "2014-06-01 00:00:00",
                "2014-12-01 00:00:00",
                "2015-06-01 00:00:00",
                "2016-12-01 00:00:00",
                "2017-06-01 00:00:00",
                "2017-12-01 00:00:00",
                "2018-06-01 00:00:00",
                "2018-12-01 00:00:00",
                "2019-06-01 00:00:00"
               ],
               [
                "2011-12-01 00:00:00",
                "2012-06-01 00:00:00",
                "2012-12-01 00:00:00",
                "2013-06-01 00:00:00",
                "2013-12-01 00:00:00",
                "2014-06-01 00:00:00",
                "2014-12-01 00:00:00",
                "2015-06-01 00:00:00",
                "2016-12-01 00:00:00",
                "2017-06-01 00:00:00",
                "2017-12-01 00:00:00",
                "2018-06-01 00:00:00",
                "2018-12-01 00:00:00",
                "2019-06-01 00:00:00"
               ],
               [
                "2011-12-01 00:00:00",
                "2012-06-01 00:00:00",
                "2012-12-01 00:00:00",
                "2013-06-01 00:00:00",
                "2013-12-01 00:00:00",
                "2014-06-01 00:00:00",
                "2014-12-01 00:00:00",
                "2015-06-01 00:00:00",
                "2016-12-01 00:00:00",
                "2017-06-01 00:00:00",
                "2017-12-01 00:00:00",
                "2018-06-01 00:00:00",
                "2018-12-01 00:00:00",
                "2019-06-01 00:00:00"
               ],
               [
                "2011-12-01 00:00:00",
                "2012-06-01 00:00:00",
                "2012-12-01 00:00:00",
                "2013-06-01 00:00:00",
                "2013-12-01 00:00:00",
                "2014-06-01 00:00:00",
                "2014-12-01 00:00:00",
                "2015-06-01 00:00:00",
                "2016-12-01 00:00:00",
                "2017-06-01 00:00:00",
                "2017-12-01 00:00:00",
                "2018-06-01 00:00:00",
                "2018-12-01 00:00:00",
                "2019-06-01 00:00:00"
               ],
               [
                "2011-12-01 00:00:00",
                "2012-06-01 00:00:00",
                "2012-12-01 00:00:00",
                "2013-06-01 00:00:00",
                "2013-12-01 00:00:00",
                "2014-06-01 00:00:00",
                "2014-12-01 00:00:00",
                "2015-06-01 00:00:00",
                "2016-12-01 00:00:00",
                "2017-06-01 00:00:00",
                "2017-12-01 00:00:00",
                "2018-06-01 00:00:00",
                "2018-12-01 00:00:00",
                "2019-06-01 00:00:00"
               ],
               [
                "2011-12-01 00:00:00",
                "2012-06-01 00:00:00",
                "2012-12-01 00:00:00",
                "2013-06-01 00:00:00",
                "2013-12-01 00:00:00",
                "2014-06-01 00:00:00",
                "2014-12-01 00:00:00",
                "2015-06-01 00:00:00",
                "2016-12-01 00:00:00",
                "2017-06-01 00:00:00",
                "2017-12-01 00:00:00",
                "2018-06-01 00:00:00",
                "2018-12-01 00:00:00",
                "2019-06-01 00:00:00"
               ],
               [],
               [
                "2011-12-01 00:00:00",
                "2012-06-01 00:00:00",
                "2012-12-01 00:00:00",
                "2013-06-01 00:00:00",
                "2013-12-01 00:00:00",
                "2014-06-01 00:00:00",
                "2014-12-01 00:00:00",
                "2015-06-01 00:00:00",
                "2016-12-01 00:00:00",
                "2017-06-01 00:00:00",
                "2017-12-01 00:00:00",
                "2018-06-01 00:00:00",
                "2018-12-01 00:00:00",
                "2019-06-01 00:00:00"
               ],
               [
                "2011-12-01 00:00:00",
                "2012-06-01 00:00:00",
                "2012-12-01 00:00:00",
                "2013-06-01 00:00:00",
                "2013-12-01 00:00:00",
                "2014-06-01 00:00:00",
                "2014-12-01 00:00:00",
                "2015-06-01 00:00:00",
                "2016-12-01 00:00:00",
                "2017-06-01 00:00:00",
                "2017-12-01 00:00:00",
                "2018-06-01 00:00:00",
                "2018-12-01 00:00:00",
                "2019-06-01 00:00:00"
               ],
               [
                "2011-12-01 00:00:00",
                "2012-06-01 00:00:00",
                "2012-12-01 00:00:00",
                "2013-06-01 00:00:00",
                "2013-12-01 00:00:00",
                "2014-06-01 00:00:00",
                "2014-12-01 00:00:00",
                "2015-06-01 00:00:00",
                "2015-12-01 00:00:00",
                "2016-06-01 00:00:00",
                "2016-12-01 00:00:00",
                "2017-06-01 00:00:00",
                "2017-12-01 00:00:00",
                "2018-06-01 00:00:00",
                "2018-12-01 00:00:00",
                "2019-06-01 00:00:00"
               ],
               [
                "2011-12-01 00:00:00",
                "2012-06-01 00:00:00",
                "2012-12-01 00:00:00",
                "2013-06-01 00:00:00",
                "2013-12-01 00:00:00",
                "2014-06-01 00:00:00",
                "2014-12-01 00:00:00",
                "2015-06-01 00:00:00",
                "2016-12-01 00:00:00",
                "2017-06-01 00:00:00",
                "2017-12-01 00:00:00",
                "2018-06-01 00:00:00",
                "2018-12-01 00:00:00",
                "2019-06-01 00:00:00"
               ],
               [
                "2011-12-01 00:00:00",
                "2012-06-01 00:00:00",
                "2012-12-01 00:00:00",
                "2013-06-01 00:00:00",
                "2013-12-01 00:00:00",
                "2014-06-01 00:00:00",
                "2014-12-01 00:00:00",
                "2015-06-01 00:00:00",
                "2016-12-01 00:00:00",
                "2017-06-01 00:00:00",
                "2017-12-01 00:00:00",
                "2018-06-01 00:00:00",
                "2018-12-01 00:00:00",
                "2019-06-01 00:00:00"
               ],
               [
                "2011-12-01 00:00:00",
                "2012-06-01 00:00:00",
                "2012-12-01 00:00:00",
                "2013-06-01 00:00:00",
                "2013-12-01 00:00:00",
                "2014-06-01 00:00:00",
                "2014-12-01 00:00:00",
                "2015-06-01 00:00:00",
                "2016-12-01 00:00:00",
                "2017-06-01 00:00:00",
                "2017-12-01 00:00:00",
                "2018-06-01 00:00:00",
                "2018-12-01 00:00:00",
                "2019-06-01 00:00:00"
               ],
               [
                "2011-12-01 00:00:00",
                "2012-06-01 00:00:00",
                "2012-12-01 00:00:00",
                "2013-06-01 00:00:00",
                "2013-12-01 00:00:00",
                "2014-06-01 00:00:00",
                "2014-12-01 00:00:00",
                "2015-06-01 00:00:00",
                "2016-12-01 00:00:00",
                "2017-06-01 00:00:00",
                "2017-12-01 00:00:00",
                "2018-06-01 00:00:00",
                "2018-12-01 00:00:00",
                "2019-06-01 00:00:00"
               ],
               [
                "2011-12-01 00:00:00",
                "2012-06-01 00:00:00",
                "2012-12-01 00:00:00",
                "2013-06-01 00:00:00",
                "2013-12-01 00:00:00",
                "2014-06-01 00:00:00",
                "2014-12-01 00:00:00",
                "2015-06-01 00:00:00",
                "2016-12-01 00:00:00",
                "2017-06-01 00:00:00",
                "2017-12-01 00:00:00",
                "2018-06-01 00:00:00",
                "2018-12-01 00:00:00",
                "2019-06-01 00:00:00"
               ],
               [
                "2011-12-01 00:00:00",
                "2012-06-01 00:00:00",
                "2012-12-01 00:00:00",
                "2013-06-01 00:00:00",
                "2013-12-01 00:00:00",
                "2014-06-01 00:00:00",
                "2014-12-01 00:00:00",
                "2015-06-01 00:00:00",
                "2016-12-01 00:00:00",
                "2017-06-01 00:00:00",
                "2017-12-01 00:00:00",
                "2018-06-01 00:00:00",
                "2018-12-01 00:00:00",
                "2019-06-01 00:00:00"
               ],
               [
                "2011-12-01 00:00:00",
                "2012-06-01 00:00:00",
                "2012-12-01 00:00:00",
                "2013-06-01 00:00:00",
                "2013-12-01 00:00:00",
                "2014-06-01 00:00:00",
                "2014-12-01 00:00:00",
                "2015-06-01 00:00:00",
                "2016-12-01 00:00:00",
                "2017-06-01 00:00:00",
                "2017-12-01 00:00:00",
                "2018-06-01 00:00:00",
                "2018-12-01 00:00:00",
                "2019-06-01 00:00:00"
               ],
               [
                "2011-12-01 00:00:00",
                "2012-06-01 00:00:00",
                "2012-12-01 00:00:00",
                "2013-06-01 00:00:00",
                "2013-12-01 00:00:00",
                "2014-06-01 00:00:00",
                "2014-12-01 00:00:00",
                "2015-06-01 00:00:00",
                "2016-12-01 00:00:00",
                "2017-06-01 00:00:00",
                "2017-12-01 00:00:00",
                "2018-06-01 00:00:00",
                "2018-12-01 00:00:00",
                "2019-06-01 00:00:00"
               ],
               [
                "2011-12-01 00:00:00",
                "2012-06-01 00:00:00",
                "2012-12-01 00:00:00",
                "2013-06-01 00:00:00",
                "2013-12-01 00:00:00",
                "2014-06-01 00:00:00",
                "2014-12-01 00:00:00",
                "2015-06-01 00:00:00",
                "2016-12-01 00:00:00",
                "2017-06-01 00:00:00",
                "2017-12-01 00:00:00",
                "2018-06-01 00:00:00",
                "2018-12-01 00:00:00",
                "2019-06-01 00:00:00"
               ],
               []
              ],
              "y": [
               [
                3.24808,
                3.327480000000001,
                3.5387699999999995,
                3.6977999999999995,
                3.94966,
                4.3553500000000005,
                5.27947,
                6.51649,
                11.5414,
                11.5374,
                13.1943,
                13.253,
                15.066699999999999,
                17.0387
               ],
               [
                null,
                null,
                null,
                null,
                null,
                null,
                null,
                0.011847299999999998,
                0.015573900000000002,
                0.017386699999999998,
                0.054151899999999996,
                0.339916,
                0.615265,
                1.11239
               ],
               [
                1.8862299999999999,
                0.547185,
                1.8862299999999999,
                3.5127800000000002,
                5.88875,
                8.09151,
                10.8449,
                13.753800000000002,
                24.3452,
                24.0117,
                25.5877,
                38.9434,
                55.412499999999994,
                67.8614
               ],
               [
                5.60399,
                7.469339999999999,
                9.85728,
                12.726099999999999,
                15.626999999999999,
                17.9561,
                20.3185,
                22.888200000000005,
                28.288600000000002,
                29.9181,
                31.9291,
                35.597199999999994,
                36.1543,
                40.578900000000004
               ],
               [
                null,
                3.32852,
                3.9958899999999997,
                4.63931,
                5.36391,
                6.183490000000001,
                7.205360000000001,
                8.38169,
                12.6972,
                14.5361,
                16.7484,
                18.8614,
                21.877,
                24.6221
               ],
               [
                null,
                null,
                null,
                null,
                null,
                0.0035227500000000003,
                0.00315066,
                0.189432,
                1.35764,
                2.0108599999999996,
                5.354780000000001,
                6.47016,
                7.567230000000001,
                8.8205
               ],
               [
                1.50993,
                1.4699700000000002,
                1.5397399999999999,
                2.17963,
                3.9188199999999993,
                4.8988,
                6.403630000000001,
                19.849600000000002,
                33.4364,
                38.3485,
                47.6365,
                52.3137,
                57.4971,
                62.2021
               ],
               [
                0.421353,
                0.74961,
                1.3936799999999998,
                4.164440000000001,
                7.47403,
                19.2162,
                20.381300000000003,
                17.4812,
                21.921599999999998,
                23.633200000000002,
                26.3917,
                27.6003,
                29.9566,
                33.4276
               ],
               [],
               [
                0.368568,
                0.679999,
                1.1614499999999999,
                1.8213,
                2.5662900000000004,
                3.69675,
                5.19153,
                6.44976,
                11.0152,
                12.6503,
                14.821500000000002,
                17.2931,
                19.881500000000003,
                23.3194
               ],
               [
                0.663889,
                1.47807,
                1.3111000000000002,
                1.7015200000000001,
                3.8305800000000008,
                4.50518,
                5.07094,
                8.72217,
                20.4525,
                21.2345,
                23.665999999999997,
                24.1035,
                25.3352,
                27.4967
               ],
               [
                1.4581799999999998,
                0.766785,
                1.11489,
                1.5687100000000003,
                1.6817700000000002,
                1.78579,
                3.21324,
                9.29839,
                16.9521,
                21.659100000000002,
                31.534499999999998,
                34.5975,
                37.477199999999996,
                40.3894
               ],
               [
                0.00753801,
                0.00688492,
                0.005978209999999999,
                0.010857200000000001,
                0.38440599999999997,
                0.431108,
                0.473231,
                0.965077,
                2.91326,
                8.47612,
                10.808,
                14.771800000000002,
                18.9419,
                22.0819
               ],
               [
                9.39956,
                9.90669,
                10.069299999999998,
                10.047699999999999,
                9.55604,
                10.663499999999999,
                11.089,
                17.0506,
                26.811599999999995,
                41.9745,
                44.0005,
                45.7509,
                46.5316,
                47.0829
               ],
               [
                0.139961,
                0.416517,
                0.7717100000000001,
                0.8391289999999999,
                1.42179,
                5.464289999999999,
                7.421189999999999,
                8.88567,
                18.9802,
                23.897199999999998,
                30.808400000000002,
                38.0837,
                43.18,
                49.4154
               ],
               [
                15.4497,
                13.663499999999997,
                20.4998,
                20.6223,
                35.6166,
                37.8544,
                40.2025,
                42.1867,
                49.227199999999996,
                54.9095,
                53.0207,
                53.270399999999995,
                59.0194,
                60.0255
               ],
               [
                0.489335,
                0.6314379999999999,
                0.63969,
                0.672546,
                0.678691,
                0.844277,
                0.705415,
                0.965114,
                6.1654599999999995,
                13.647100000000002,
                20.014599999999998,
                27.2744,
                33.257600000000004,
                40.2013
               ],
               [
                2.07302,
                2.81754,
                4.09806,
                5.399719999999999,
                9.277619999999999,
                13.1241,
                16.081300000000002,
                17.504,
                32.2986,
                32.949600000000004,
                32.60530000000001,
                39.651599999999995,
                39.5381,
                40.385799999999996
               ],
               [],
               [
                1.3367799999999999,
                4.679880000000001,
                10.4134,
                16.430999999999997,
                18.7257,
                22.6401,
                22.2575,
                25.455,
                42.976499999999994,
                49.086800000000004,
                63.1211,
                67.8165,
                71.64580000000001,
                74.85149999999999
               ],
               [
                0.638424,
                0.9773550000000001,
                1.07987,
                1.4568799999999997,
                2.47233,
                3.1681799999999996,
                3.1681400000000006,
                8.35642,
                17.549999999999997,
                21.6314,
                27.3696,
                38.1303,
                42.871700000000004,
                44.2201
               ],
               [
                1.6179099999999997,
                2.4669299999999996,
                3.32593,
                4.21054,
                5.36692,
                6.651889999999999,
                8.656060000000002,
                10.7555,
                13.5723,
                15.2986,
                17.7594,
                20.4154,
                22.6932,
                26.255300000000005,
                30.0187,
                33.30800000000001
               ],
               [
                16.0006,
                17.1918,
                18.92,
                23.115700000000004,
                24.5489,
                27.766099999999998,
                46.58560000000001,
                45.95609999999999,
                56.3293,
                65.4883,
                65.7059,
                68.2602,
                71.5636,
                74.15939999999999
               ],
               [
                16.3951,
                17.647100000000002,
                24.602800000000002,
                27.249699999999997,
                31.267699999999998,
                33.5772,
                38.3749,
                41.5292,
                59.1626,
                60.791799999999995,
                67.2064,
                71.1101,
                73.5149,
                76.2471
               ],
               [
                1.61612,
                2.46572,
                3.2145299999999994,
                3.682340000000001,
                4.0636600000000005,
                4.433800000000001,
                6.07873,
                7.13877,
                15.2937,
                17.561500000000002,
                15.558900000000001,
                18.7698,
                20.013599999999997,
                24.6149
               ],
               [
                1.87287,
                3.0331,
                3.4319500000000005,
                3.9058499999999996,
                8.27495,
                8.99602,
                9.48585,
                10.0686,
                12.690299999999999,
                13.8023,
                18.325,
                18.310000000000002,
                19.1286,
                20.299300000000002
               ],
               [
                0.059199699999999994,
                0.35452700000000004,
                0.938455,
                1.24892,
                1.3474200000000003,
                2.8589499999999997,
                5.492519999999999,
                7.21164,
                13.6044,
                16.7809,
                17.0208,
                17.0645,
                18.7417,
                19.9611
               ],
               [
                0.851,
                1.94923,
                1.78958,
                1.7333500000000002,
                2.1235299999999997,
                2.08049,
                3.42841,
                3.5639900000000004,
                4.496180000000001,
                6.9703,
                8.388729999999999,
                10.2281,
                11.1755,
                40.4143
               ],
               [
                7.56307,
                10.307899999999998,
                12.201400000000001,
                13.5191,
                13.2993,
                13.2993,
                13.9909,
                26.3177,
                47.5209,
                51.6618,
                52.3069,
                52.775099999999995,
                54.64600000000001,
                56.6347
               ],
               [
                0.176734,
                1.14214,
                1.18455,
                2.15912,
                2.92821,
                3.71288,
                4.8181199999999995,
                5.51168,
                9.419939999999999,
                11.139000000000001,
                14.628499999999999,
                16.7705,
                17.986,
                19.023
               ],
               [
                null,
                0.03890369999999999,
                0.0544015,
                0.060695200000000005,
                0.0607759,
                0.0627366,
                0.0718358,
                0.0744557,
                0.21006699999999998,
                0.28980500000000003,
                0.6479849999999999,
                2.10443,
                2.16741,
                2.7144799999999996
               ],
               []
              ]
             }
            ],
            "label": "Share of fixed broadband subscriptions >= 100 Mbps",
            "method": "update"
           },
           {
            "args": [
             {
              "x": [
               [
                "2011-01-01 00:00:00",
                "2012-01-01 00:00:00",
                "2013-01-01 00:00:00",
                "2014-01-01 00:00:00",
                "2015-01-01 00:00:00",
                "2017-01-01 00:00:00",
                "2019-01-01 00:00:00"
               ],
               [
                "2011-01-01 00:00:00",
                "2012-01-01 00:00:00",
                "2013-01-01 00:00:00",
                "2014-01-01 00:00:00",
                "2015-01-01 00:00:00",
                "2017-01-01 00:00:00",
                "2019-01-01 00:00:00"
               ],
               [
                "2011-01-01 00:00:00",
                "2012-01-01 00:00:00",
                "2013-01-01 00:00:00",
                "2014-01-01 00:00:00",
                "2015-01-01 00:00:00",
                "2017-01-01 00:00:00",
                "2019-01-01 00:00:00"
               ],
               [
                "2011-01-01 00:00:00",
                "2012-01-01 00:00:00",
                "2013-01-01 00:00:00",
                "2014-01-01 00:00:00",
                "2015-01-01 00:00:00",
                "2016-01-01 00:00:00",
                "2017-01-01 00:00:00",
                "2019-01-01 00:00:00"
               ],
               [
                "2011-01-01 00:00:00",
                "2012-01-01 00:00:00",
                "2013-01-01 00:00:00",
                "2014-01-01 00:00:00",
                "2015-01-01 00:00:00",
                "2016-01-01 00:00:00",
                "2017-01-01 00:00:00",
                "2019-01-01 00:00:00"
               ],
               [
                "2011-01-01 00:00:00",
                "2012-01-01 00:00:00",
                "2013-01-01 00:00:00",
                "2014-01-01 00:00:00",
                "2015-01-01 00:00:00",
                "2016-01-01 00:00:00",
                "2017-01-01 00:00:00",
                "2019-01-01 00:00:00"
               ],
               [
                "2011-01-01 00:00:00",
                "2012-01-01 00:00:00",
                "2013-01-01 00:00:00",
                "2014-01-01 00:00:00",
                "2015-01-01 00:00:00",
                "2016-01-01 00:00:00",
                "2017-01-01 00:00:00",
                "2019-01-01 00:00:00"
               ],
               [
                "2011-01-01 00:00:00",
                "2012-01-01 00:00:00",
                "2013-01-01 00:00:00",
                "2014-01-01 00:00:00",
                "2015-01-01 00:00:00",
                "2016-01-01 00:00:00",
                "2017-01-01 00:00:00",
                "2019-01-01 00:00:00"
               ],
               [
                "2011-01-01 00:00:00",
                "2012-01-01 00:00:00",
                "2013-01-01 00:00:00",
                "2014-01-01 00:00:00",
                "2017-01-01 00:00:00",
                "2019-01-01 00:00:00"
               ],
               [
                "2011-01-01 00:00:00",
                "2012-01-01 00:00:00",
                "2013-01-01 00:00:00",
                "2014-01-01 00:00:00",
                "2015-01-01 00:00:00",
                "2016-01-01 00:00:00",
                "2017-01-01 00:00:00",
                "2019-01-01 00:00:00"
               ],
               [
                "2011-01-01 00:00:00",
                "2012-01-01 00:00:00",
                "2013-01-01 00:00:00",
                "2014-01-01 00:00:00",
                "2015-01-01 00:00:00",
                "2016-01-01 00:00:00",
                "2017-01-01 00:00:00",
                "2019-01-01 00:00:00"
               ],
               [
                "2011-01-01 00:00:00",
                "2012-01-01 00:00:00",
                "2013-01-01 00:00:00",
                "2014-01-01 00:00:00",
                "2015-01-01 00:00:00",
                "2016-01-01 00:00:00",
                "2017-01-01 00:00:00",
                "2019-01-01 00:00:00"
               ],
               [
                "2011-01-01 00:00:00",
                "2012-01-01 00:00:00",
                "2013-01-01 00:00:00",
                "2014-01-01 00:00:00",
                "2015-01-01 00:00:00",
                "2016-01-01 00:00:00",
                "2017-01-01 00:00:00",
                "2019-01-01 00:00:00"
               ],
               [
                "2011-01-01 00:00:00",
                "2012-01-01 00:00:00",
                "2013-01-01 00:00:00",
                "2014-01-01 00:00:00",
                "2015-01-01 00:00:00",
                "2016-01-01 00:00:00",
                "2017-01-01 00:00:00",
                "2019-01-01 00:00:00"
               ],
               [
                "2011-01-01 00:00:00",
                "2012-01-01 00:00:00",
                "2013-01-01 00:00:00",
                "2014-01-01 00:00:00",
                "2015-01-01 00:00:00",
                "2016-01-01 00:00:00",
                "2017-01-01 00:00:00",
                "2019-01-01 00:00:00"
               ],
               [
                "2011-01-01 00:00:00",
                "2012-01-01 00:00:00",
                "2013-01-01 00:00:00",
                "2014-01-01 00:00:00",
                "2015-01-01 00:00:00",
                "2016-01-01 00:00:00",
                "2017-01-01 00:00:00",
                "2019-01-01 00:00:00"
               ],
               [
                "2011-01-01 00:00:00",
                "2012-01-01 00:00:00",
                "2013-01-01 00:00:00",
                "2014-01-01 00:00:00",
                "2015-01-01 00:00:00",
                "2016-01-01 00:00:00",
                "2017-01-01 00:00:00",
                "2019-01-01 00:00:00"
               ],
               [
                "2011-01-01 00:00:00",
                "2012-01-01 00:00:00",
                "2013-01-01 00:00:00",
                "2014-01-01 00:00:00",
                "2015-01-01 00:00:00",
                "2016-01-01 00:00:00",
                "2017-01-01 00:00:00",
                "2019-01-01 00:00:00"
               ],
               [
                "2011-01-01 00:00:00",
                "2012-01-01 00:00:00",
                "2013-01-01 00:00:00",
                "2014-01-01 00:00:00",
                "2015-01-01 00:00:00",
                "2016-01-01 00:00:00",
                "2017-01-01 00:00:00",
                "2019-01-01 00:00:00"
               ],
               [
                "2011-01-01 00:00:00",
                "2012-01-01 00:00:00",
                "2013-01-01 00:00:00",
                "2014-01-01 00:00:00",
                "2015-01-01 00:00:00",
                "2016-01-01 00:00:00",
                "2017-01-01 00:00:00",
                "2019-01-01 00:00:00"
               ],
               [
                "2011-01-01 00:00:00",
                "2012-01-01 00:00:00",
                "2013-01-01 00:00:00",
                "2014-01-01 00:00:00",
                "2015-01-01 00:00:00",
                "2016-01-01 00:00:00",
                "2017-01-01 00:00:00",
                "2019-01-01 00:00:00"
               ],
               [
                "2014-01-01 00:00:00",
                "2015-01-01 00:00:00",
                "2017-01-01 00:00:00"
               ],
               [
                "2011-01-01 00:00:00",
                "2012-01-01 00:00:00",
                "2013-01-01 00:00:00",
                "2014-01-01 00:00:00",
                "2015-01-01 00:00:00",
                "2016-01-01 00:00:00",
                "2017-01-01 00:00:00",
                "2019-01-01 00:00:00"
               ],
               [
                "2011-01-01 00:00:00",
                "2012-01-01 00:00:00",
                "2013-01-01 00:00:00",
                "2014-01-01 00:00:00",
                "2015-01-01 00:00:00",
                "2016-01-01 00:00:00",
                "2017-01-01 00:00:00",
                "2019-01-01 00:00:00"
               ],
               [
                "2011-01-01 00:00:00",
                "2012-01-01 00:00:00",
                "2013-01-01 00:00:00",
                "2014-01-01 00:00:00",
                "2015-01-01 00:00:00",
                "2016-01-01 00:00:00",
                "2017-01-01 00:00:00",
                "2019-01-01 00:00:00"
               ],
               [
                "2011-01-01 00:00:00",
                "2012-01-01 00:00:00",
                "2013-01-01 00:00:00",
                "2014-01-01 00:00:00",
                "2015-01-01 00:00:00",
                "2016-01-01 00:00:00",
                "2017-01-01 00:00:00",
                "2019-01-01 00:00:00"
               ],
               [
                "2011-01-01 00:00:00",
                "2012-01-01 00:00:00",
                "2013-01-01 00:00:00",
                "2014-01-01 00:00:00",
                "2015-01-01 00:00:00",
                "2016-01-01 00:00:00",
                "2017-01-01 00:00:00",
                "2019-01-01 00:00:00"
               ],
               [
                "2011-01-01 00:00:00",
                "2012-01-01 00:00:00",
                "2013-01-01 00:00:00",
                "2014-01-01 00:00:00",
                "2015-01-01 00:00:00",
                "2017-01-01 00:00:00",
                "2019-01-01 00:00:00"
               ],
               [
                "2011-01-01 00:00:00",
                "2012-01-01 00:00:00",
                "2013-01-01 00:00:00",
                "2014-01-01 00:00:00",
                "2015-01-01 00:00:00",
                "2016-01-01 00:00:00",
                "2017-01-01 00:00:00",
                "2019-01-01 00:00:00"
               ],
               [
                "2011-01-01 00:00:00",
                "2012-01-01 00:00:00",
                "2013-01-01 00:00:00",
                "2014-01-01 00:00:00",
                "2015-01-01 00:00:00",
                "2017-01-01 00:00:00",
                "2019-01-01 00:00:00"
               ],
               [
                "2011-01-01 00:00:00",
                "2012-01-01 00:00:00",
                "2013-01-01 00:00:00",
                "2014-01-01 00:00:00",
                "2015-01-01 00:00:00",
                "2017-01-01 00:00:00",
                "2019-01-01 00:00:00"
               ],
               []
              ],
              "y": [
               [
                20.0389,
                17.7169,
                13.7194,
                4.4594000000000005,
                3.0804,
                1.9506400000000004,
                0.905685
               ],
               [
                8.0635,
                9.9189,
                10.786400000000002,
                7.3765,
                7.5401,
                6.14065,
                4.193669999999999
               ],
               [
                10.088999999999999,
                11.0312,
                11.4657,
                9.2017,
                7.061299999999999,
                5.87677,
                2.6604
               ],
               [
                5.2479,
                4.479800000000001,
                3.6801,
                3.9356,
                2.7479000000000005,
                2.1978,
                1.6349700000000003,
                2.6330400000000003
               ],
               [
                9.173499999999999,
                8.089500000000001,
                8.081199999999999,
                7.4704,
                7.2615,
                6.575399999999999,
                5.91766,
                4.5526800000000005
               ],
               [
                7.6732000000000005,
                11.8374,
                11.1926,
                9.9028,
                9.117899999999999,
                11.6926,
                13.2802,
                7.29841
               ],
               [
                19.774900000000002,
                18.1144,
                16.0966,
                13.9343,
                14.6036,
                11.938299999999998,
                10.101,
                6.884129999999999
               ],
               [
                4.1791,
                3.8751999999999995,
                4.085500000000001,
                3.1585,
                3.1014999999999997,
                2.0078,
                1.8987999999999998,
                1.2418200000000001
               ],
               [
                1.8606,
                1.3428,
                1.2119,
                1.003,
                0.834292,
                0.717255
               ],
               [
                5.6175999999999995,
                5.313,
                4.4558,
                3.4766000000000004,
                3.3349,
                2.5037,
                2.0714300000000003,
                1.9455
               ],
               [
                11.3115,
                10.1119,
                9.118,
                7.4098999999999995,
                7.1631,
                5.5084,
                4.19935,
                2.52126
               ],
               [
                1.2227,
                1.2087999999999999,
                0.6362,
                1.0759,
                0.9188999999999999,
                0.9849,
                0.23015100000000002,
                0.501831
               ],
               [
                7.1316999999999995,
                7.676900000000001,
                null,
                6.0831,
                5.1903,
                4.5369,
                4.524730000000001,
                3.2264399999999998
               ],
               [
                8.5587,
                9.6278,
                8.25,
                7.6253,
                8.9153,
                8.9235,
                6.577249999999999,
                4.03487
               ],
               [
                0.7412,
                0.5034000000000001,
                0.1485,
                0.44600000000000006,
                0.5314,
                0.1673,
                0.338005,
                0.6003350000000001
               ],
               [
                22.7482,
                10.568900000000001,
                11.1279,
                8.9989,
                6.3831,
                5.8309,
                6.549289999999999,
                3.73112
               ],
               [
                10.391800000000002,
                3.6193999999999997,
                1.3243,
                2.6001,
                2.6055,
                3.3827999999999996,
                2.43065,
                4.2529699999999995
               ],
               [
                0.8381,
                1.2139,
                1.2019,
                0.7868999999999999,
                0.9936999999999999,
                0.9909999999999999,
                0.47292100000000004,
                0.448516
               ],
               [
                0.3034,
                0.8177,
                0.1745,
                0.6201,
                0.7227,
                0.3172,
                0.585414,
                0.5109739999999999
               ],
               [
                16.7062,
                17.494899999999998,
                19.5491,
                15.9485,
                12.831199999999999,
                10.7803,
                8.637760000000002,
                10.4775
               ],
               [
                11.6601,
                10.224,
                9.691699999999999,
                8.588,
                7.4519,
                6.497400000000001,
                5.56288,
                3.2745900000000003
               ],
               [
                6.3729,
                5.601500000000001,
                4.12815
               ],
               [
                29.7742,
                22.590500000000002,
                20.7882,
                19.8371,
                14.2459,
                11.3837,
                8.69903,
                4.5176300000000005
               ],
               [
                1.9025,
                1.9172000000000002,
                2.1265,
                2.6931999999999996,
                1.5446000000000002,
                1.7932,
                1.3711099999999998,
                0.891132
               ],
               [
                14.249999999999998,
                14.394599999999999,
                13.0754,
                11.162700000000001,
                7.2591,
                4.445600000000001,
                2.92597,
                2.39158
               ],
               [
                7.4046,
                7.0498,
                6.524400000000001,
                4.856,
                3.6894000000000005,
                3.9284,
                3.11978,
                4.08598
               ],
               [
                5.2137,
                3.288,
                1.6463999999999999,
                2.29,
                2.1035,
                1.325,
                1.2880500000000001,
                1.68613
               ],
               [
                3.2958999999999996,
                4.4943,
                3.514,
                2.7842000000000002,
                2.1018000000000003,
                1.3306799999999999,
                1.9567700000000001
               ],
               [
                8.2495,
                8.241900000000001,
                6.2204,
                5.7061,
                6.156599999999999,
                4.8586,
                3.9156300000000006,
                3.08232
               ],
               [
                17.621199999999998,
                19.2754,
                18.8483,
                19.4083,
                15.5918,
                11.547400000000001,
                8.35849
               ],
               [
                10.903599999999999,
                11.459200000000001,
                14.726600000000001,
                9.5748,
                14.8422,
                9.309190000000001,
                5.7203599999999994
               ],
               []
              ]
             }
            ],
            "label": "Households with no access to Internet at home, because the costs are too high",
            "method": "update"
           },
           {
            "args": [
             {
              "x": [
               [
                "2011-01-01 00:00:00",
                "2012-01-01 00:00:00",
                "2013-01-01 00:00:00",
                "2014-01-01 00:00:00",
                "2015-01-01 00:00:00",
                "2016-01-01 00:00:00",
                "2017-01-01 00:00:00",
                "2019-01-01 00:00:00"
               ],
               [
                "2011-01-01 00:00:00",
                "2012-01-01 00:00:00",
                "2013-01-01 00:00:00",
                "2014-01-01 00:00:00",
                "2015-01-01 00:00:00",
                "2016-01-01 00:00:00",
                "2017-01-01 00:00:00",
                "2019-01-01 00:00:00"
               ],
               [
                "2011-01-01 00:00:00",
                "2012-01-01 00:00:00",
                "2013-01-01 00:00:00",
                "2014-01-01 00:00:00",
                "2015-01-01 00:00:00",
                "2016-01-01 00:00:00",
                "2017-01-01 00:00:00",
                "2019-01-01 00:00:00"
               ],
               [
                "2011-01-01 00:00:00",
                "2012-01-01 00:00:00",
                "2013-01-01 00:00:00",
                "2014-01-01 00:00:00",
                "2015-01-01 00:00:00",
                "2016-01-01 00:00:00",
                "2017-01-01 00:00:00",
                "2019-01-01 00:00:00"
               ],
               [
                "2011-01-01 00:00:00",
                "2012-01-01 00:00:00",
                "2013-01-01 00:00:00",
                "2014-01-01 00:00:00",
                "2015-01-01 00:00:00",
                "2016-01-01 00:00:00",
                "2017-01-01 00:00:00",
                "2019-01-01 00:00:00"
               ],
               [
                "2011-01-01 00:00:00",
                "2012-01-01 00:00:00",
                "2013-01-01 00:00:00",
                "2014-01-01 00:00:00",
                "2015-01-01 00:00:00",
                "2016-01-01 00:00:00",
                "2017-01-01 00:00:00",
                "2019-01-01 00:00:00"
               ],
               [
                "2011-01-01 00:00:00",
                "2012-01-01 00:00:00",
                "2013-01-01 00:00:00",
                "2014-01-01 00:00:00",
                "2015-01-01 00:00:00",
                "2016-01-01 00:00:00",
                "2017-01-01 00:00:00",
                "2019-01-01 00:00:00"
               ],
               [
                "2011-01-01 00:00:00",
                "2012-01-01 00:00:00",
                "2013-01-01 00:00:00",
                "2014-01-01 00:00:00",
                "2015-01-01 00:00:00",
                "2016-01-01 00:00:00",
                "2017-01-01 00:00:00",
                "2019-01-01 00:00:00"
               ],
               [
                "2011-01-01 00:00:00",
                "2012-01-01 00:00:00",
                "2013-01-01 00:00:00",
                "2014-01-01 00:00:00",
                "2015-01-01 00:00:00",
                "2016-01-01 00:00:00",
                "2017-01-01 00:00:00",
                "2019-01-01 00:00:00"
               ],
               [
                "2011-01-01 00:00:00",
                "2012-01-01 00:00:00",
                "2013-01-01 00:00:00",
                "2014-01-01 00:00:00",
                "2015-01-01 00:00:00",
                "2016-01-01 00:00:00",
                "2017-01-01 00:00:00",
                "2019-01-01 00:00:00"
               ],
               [
                "2011-01-01 00:00:00",
                "2012-01-01 00:00:00",
                "2013-01-01 00:00:00",
                "2014-01-01 00:00:00",
                "2015-01-01 00:00:00",
                "2016-01-01 00:00:00",
                "2017-01-01 00:00:00",
                "2019-01-01 00:00:00"
               ],
               [
                "2011-01-01 00:00:00",
                "2012-01-01 00:00:00",
                "2013-01-01 00:00:00",
                "2014-01-01 00:00:00",
                "2015-01-01 00:00:00",
                "2016-01-01 00:00:00",
                "2017-01-01 00:00:00",
                "2019-01-01 00:00:00"
               ],
               [
                "2011-01-01 00:00:00",
                "2012-01-01 00:00:00",
                "2013-01-01 00:00:00",
                "2014-01-01 00:00:00",
                "2015-01-01 00:00:00",
                "2016-01-01 00:00:00",
                "2017-01-01 00:00:00",
                "2019-01-01 00:00:00"
               ],
               [
                "2011-01-01 00:00:00",
                "2012-01-01 00:00:00",
                "2013-01-01 00:00:00",
                "2014-01-01 00:00:00",
                "2015-01-01 00:00:00",
                "2016-01-01 00:00:00",
                "2017-01-01 00:00:00",
                "2019-01-01 00:00:00"
               ],
               [
                "2011-01-01 00:00:00",
                "2012-01-01 00:00:00",
                "2013-01-01 00:00:00",
                "2014-01-01 00:00:00",
                "2015-01-01 00:00:00",
                "2016-01-01 00:00:00",
                "2017-01-01 00:00:00",
                "2019-01-01 00:00:00"
               ],
               [
                "2011-01-01 00:00:00",
                "2012-01-01 00:00:00",
                "2013-01-01 00:00:00",
                "2014-01-01 00:00:00",
                "2015-01-01 00:00:00",
                "2016-01-01 00:00:00",
                "2017-01-01 00:00:00",
                "2019-01-01 00:00:00"
               ],
               [
                "2011-01-01 00:00:00",
                "2012-01-01 00:00:00",
                "2013-01-01 00:00:00",
                "2014-01-01 00:00:00",
                "2015-01-01 00:00:00",
                "2016-01-01 00:00:00",
                "2017-01-01 00:00:00",
                "2019-01-01 00:00:00"
               ],
               [
                "2011-01-01 00:00:00",
                "2012-01-01 00:00:00",
                "2013-01-01 00:00:00",
                "2014-01-01 00:00:00",
                "2015-01-01 00:00:00",
                "2016-01-01 00:00:00",
                "2017-01-01 00:00:00",
                "2019-01-01 00:00:00"
               ],
               [
                "2011-01-01 00:00:00",
                "2012-01-01 00:00:00",
                "2013-01-01 00:00:00",
                "2014-01-01 00:00:00",
                "2015-01-01 00:00:00",
                "2016-01-01 00:00:00",
                "2017-01-01 00:00:00",
                "2019-01-01 00:00:00"
               ],
               [
                "2011-01-01 00:00:00",
                "2012-01-01 00:00:00",
                "2013-01-01 00:00:00",
                "2014-01-01 00:00:00",
                "2015-01-01 00:00:00",
                "2016-01-01 00:00:00",
                "2017-01-01 00:00:00",
                "2019-01-01 00:00:00"
               ],
               [
                "2011-01-01 00:00:00",
                "2012-01-01 00:00:00",
                "2013-01-01 00:00:00",
                "2014-01-01 00:00:00",
                "2015-01-01 00:00:00",
                "2016-01-01 00:00:00",
                "2017-01-01 00:00:00",
                "2019-01-01 00:00:00"
               ],
               [
                "2011-01-01 00:00:00",
                "2012-01-01 00:00:00",
                "2014-01-01 00:00:00",
                "2015-01-01 00:00:00",
                "2016-01-01 00:00:00",
                "2017-01-01 00:00:00",
                "2019-01-01 00:00:00"
               ],
               [
                "2011-01-01 00:00:00",
                "2012-01-01 00:00:00",
                "2013-01-01 00:00:00",
                "2014-01-01 00:00:00",
                "2015-01-01 00:00:00",
                "2016-01-01 00:00:00",
                "2017-01-01 00:00:00",
                "2019-01-01 00:00:00"
               ],
               [
                "2011-01-01 00:00:00",
                "2012-01-01 00:00:00",
                "2013-01-01 00:00:00",
                "2014-01-01 00:00:00",
                "2015-01-01 00:00:00",
                "2016-01-01 00:00:00",
                "2017-01-01 00:00:00",
                "2019-01-01 00:00:00"
               ],
               [
                "2011-01-01 00:00:00",
                "2012-01-01 00:00:00",
                "2013-01-01 00:00:00",
                "2014-01-01 00:00:00",
                "2015-01-01 00:00:00",
                "2016-01-01 00:00:00",
                "2017-01-01 00:00:00",
                "2019-01-01 00:00:00"
               ],
               [
                "2011-01-01 00:00:00",
                "2012-01-01 00:00:00",
                "2013-01-01 00:00:00",
                "2014-01-01 00:00:00",
                "2015-01-01 00:00:00",
                "2016-01-01 00:00:00",
                "2017-01-01 00:00:00",
                "2019-01-01 00:00:00"
               ],
               [
                "2011-01-01 00:00:00",
                "2012-01-01 00:00:00",
                "2013-01-01 00:00:00",
                "2014-01-01 00:00:00",
                "2015-01-01 00:00:00",
                "2016-01-01 00:00:00",
                "2017-01-01 00:00:00",
                "2019-01-01 00:00:00"
               ],
               [
                "2011-01-01 00:00:00",
                "2012-01-01 00:00:00",
                "2013-01-01 00:00:00",
                "2014-01-01 00:00:00",
                "2015-01-01 00:00:00",
                "2016-01-01 00:00:00",
                "2017-01-01 00:00:00",
                "2019-01-01 00:00:00"
               ],
               [
                "2011-01-01 00:00:00",
                "2012-01-01 00:00:00",
                "2013-01-01 00:00:00",
                "2014-01-01 00:00:00",
                "2015-01-01 00:00:00",
                "2016-01-01 00:00:00",
                "2017-01-01 00:00:00",
                "2019-01-01 00:00:00"
               ],
               [
                "2011-01-01 00:00:00",
                "2012-01-01 00:00:00",
                "2013-01-01 00:00:00",
                "2014-01-01 00:00:00",
                "2015-01-01 00:00:00",
                "2016-01-01 00:00:00",
                "2017-01-01 00:00:00",
                "2019-01-01 00:00:00"
               ],
               [
                "2011-01-01 00:00:00",
                "2012-01-01 00:00:00",
                "2013-01-01 00:00:00",
                "2014-01-01 00:00:00",
                "2015-01-01 00:00:00",
                "2016-01-01 00:00:00",
                "2017-01-01 00:00:00",
                "2019-01-01 00:00:00"
               ],
               [
                "2011-01-01 00:00:00",
                "2012-01-01 00:00:00",
                "2013-01-01 00:00:00",
                "2014-01-01 00:00:00",
                "2015-01-01 00:00:00",
                "2016-01-01 00:00:00",
                "2017-01-01 00:00:00",
                "2019-01-01 00:00:00"
               ]
              ],
              "y": [
               [
                69.9615,
                69.9999,
                85,
                79.2,
                84.3454,
                98.7693,
                98.4546,
                99.4175
               ],
               [
                null,
                42.3641,
                54.8183,
                70.23310000000001,
                79.7004,
                90.14120000000001,
                93.979,
                99.1248
               ],
               [
                null,
                12.7745,
                47.1371,
                76.3467,
                79.0825,
                94.419,
                97.22290000000001,
                99.77159999999999
               ],
               [
                24.5,
                68.461,
                85.5067,
                92.05799999999999,
                92.1157,
                99.9982,
                99.6361,
                99.98559999999999
               ],
               [
                null,
                5.505610000000001,
                68.00970000000001,
                75.38470000000001,
                77.54220000000001,
                93.8165,
                97.9923,
                99.54459999999999
               ],
               [
                null,
                25.03,
                24.4062,
                58.13119999999999,
                68.889,
                90.0999,
                94.8107,
                99.34930000000001
               ],
               [
                null,
                35.464600000000004,
                39.1429,
                73,
                95.0206,
                98.5993,
                99.2028,
                99.2078
               ],
               [
                null,
                null,
                35.2,
                86.9543,
                90.06559999999999,
                96.7488,
                97.15780000000001,
                99
               ],
               [
                null,
                null,
                47.7971,
                73.08630000000001,
                85.88850000000001,
                96.8916,
                98.56200000000001,
                99.925
               ],
               [
                21.5,
                51.7,
                81,
                92.1,
                94,
                96.6,
                96.5,
                98.6089
               ],
               [
                null,
                9.88465,
                11.99,
                91.9381,
                93.76620000000001,
                99.40480000000001,
                99.406,
                99.8404
               ],
               [
                54.1,
                65,
                73.7384,
                99,
                99,
                100,
                100,
                100
               ],
               [
                null,
                17,
                39.3,
                77,
                89.6675,
                98.236,
                98.6877,
                98.8764
               ],
               [
                12.1,
                18.6787,
                29.3476,
                79.90350000000001,
                90.2392,
                98.9,
                99.08239999999999,
                99.96370000000002
               ],
               [
                null,
                64,
                79.9044,
                96.0001,
                96.22,
                98.1,
                98.6001,
                99.785
               ],
               [
                2.4,
                21.835700000000003,
                27.500000000000004,
                65.0006,
                89.01870000000001,
                92.97200000000001,
                98.42649999999999,
                99.95
               ],
               [
                null,
                null,
                30,
                67,
                72,
                99.5,
                99.9,
                100
               ],
               [
                null,
                null,
                90.44680000000001,
                99.56530000000001,
                99.616,
                99.3273,
                99.3511,
                99.4
               ],
               [
                25.900000000000002,
                60.1982,
                67.6879,
                83,
                99.6269,
                99.9559,
                99.724,
                99.90110000000001
               ],
               [
                null,
                89.663,
                91.3063,
                94.22659999999999,
                94.26020000000001,
                98.7914,
                98.88950000000001,
                99.7347
               ],
               [
                25,
                50,
                78.4,
                87.3,
                95.6,
                99.9,
                99.9,
                99.9
               ],
               [
                8.297789999999999,
                26.977600000000002,
                80.7192,
                87.0966,
                96.0561,
                97.9563,
                99.37700000000001
               ],
               [
                null,
                23.8798,
                25.0103,
                55.7612,
                66.1211,
                75.1962,
                93.58959999999999,
                99.10600000000001
               ],
               [
                48.1346,
                93.2579,
                99.1947,
                99.1662,
                99.1662,
                99.9948,
                99.9978,
                99.99879999999999
               ],
               [
                null,
                12.7745,
                61.4355,
                87.65509999999999,
                95.6584,
                97.3896,
                98.5675,
                99.7007
               ],
               [
                null,
                0.173565,
                24.0136,
                52.165499999999994,
                61.201499999999996,
                90.3027,
                96.2871,
                98.4
               ],
               [
                null,
                17.305799999999998,
                63,
                84,
                89.4781,
                99.5,
                99.5,
                99.8707
               ],
               [
                18.8,
                23.4972,
                35,
                60.056,
                89.51020000000001,
                98.9905,
                99.00750000000001,
                99.55780000000001
               ],
               [
                null,
                8.11788,
                45.559799999999996,
                67.8172,
                85.60419999999999,
                99.9355,
                99.9874,
                100
               ],
               [
                null,
                null,
                null,
                36.0518,
                48.087799999999994,
                76.5287,
                91.90729999999999,
                99.47930000000001
               ],
               [
                null,
                null,
                null,
                null,
                60.209799999999994,
                74.25,
                88,
                99.6
               ],
               [
                null,
                20.1512,
                67.7162,
                91.76180000000001,
                92.32870000000001,
                98.335,
                99.8,
                99.943
               ]
              ]
             }
            ],
            "label": "4G mobile broadband coverage",
            "method": "update"
           },
           {
            "args": [
             {
              "x": [
               [
                "2004-01-01 00:00:00",
                "2005-01-01 00:00:00",
                "2006-01-01 00:00:00",
                "2007-01-01 00:00:00",
                "2008-01-01 00:00:00",
                "2009-01-01 00:00:00",
                "2010-01-01 00:00:00",
                "2011-01-01 00:00:00",
                "2012-01-01 00:00:00",
                "2013-01-01 00:00:00",
                "2014-01-01 00:00:00",
                "2015-01-01 00:00:00",
                "2017-01-01 00:00:00",
                "2019-01-01 00:00:00"
               ],
               [
                "2002-01-01 00:00:00",
                "2003-01-01 00:00:00",
                "2004-01-01 00:00:00",
                "2005-01-01 00:00:00",
                "2006-01-01 00:00:00",
                "2007-01-01 00:00:00",
                "2008-01-01 00:00:00",
                "2009-01-01 00:00:00",
                "2010-01-01 00:00:00",
                "2011-01-01 00:00:00",
                "2012-01-01 00:00:00",
                "2013-01-01 00:00:00",
                "2014-01-01 00:00:00",
                "2015-01-01 00:00:00",
                "2017-01-01 00:00:00",
                "2018-01-01 00:00:00",
                "2019-01-01 00:00:00"
               ],
               [
                "2003-01-01 00:00:00",
                "2004-01-01 00:00:00",
                "2005-01-01 00:00:00",
                "2006-01-01 00:00:00",
                "2007-01-01 00:00:00",
                "2008-01-01 00:00:00",
                "2009-01-01 00:00:00",
                "2010-01-01 00:00:00",
                "2011-01-01 00:00:00",
                "2012-01-01 00:00:00",
                "2013-01-01 00:00:00",
                "2014-01-01 00:00:00",
                "2015-01-01 00:00:00",
                "2017-01-01 00:00:00",
                "2018-01-01 00:00:00",
                "2019-01-01 00:00:00"
               ],
               [
                "2002-01-01 00:00:00",
                "2003-01-01 00:00:00",
                "2004-01-01 00:00:00",
                "2005-01-01 00:00:00",
                "2006-01-01 00:00:00",
                "2007-01-01 00:00:00",
                "2008-01-01 00:00:00",
                "2009-01-01 00:00:00",
                "2010-01-01 00:00:00",
                "2011-01-01 00:00:00",
                "2012-01-01 00:00:00",
                "2013-01-01 00:00:00",
                "2014-01-01 00:00:00",
                "2015-01-01 00:00:00",
                "2016-01-01 00:00:00",
                "2017-01-01 00:00:00",
                "2019-01-01 00:00:00"
               ],
               [
                "2002-01-01 00:00:00",
                "2003-01-01 00:00:00",
                "2004-01-01 00:00:00",
                "2006-01-01 00:00:00",
                "2007-01-01 00:00:00",
                "2008-01-01 00:00:00",
                "2009-01-01 00:00:00",
                "2010-01-01 00:00:00",
                "2011-01-01 00:00:00",
                "2012-01-01 00:00:00",
                "2013-01-01 00:00:00",
                "2014-01-01 00:00:00",
                "2015-01-01 00:00:00",
                "2016-01-01 00:00:00",
                "2017-01-01 00:00:00",
                "2019-01-01 00:00:00"
               ],
               [
                "2007-01-01 00:00:00",
                "2008-01-01 00:00:00",
                "2009-01-01 00:00:00",
                "2010-01-01 00:00:00",
                "2011-01-01 00:00:00",
                "2012-01-01 00:00:00",
                "2013-01-01 00:00:00",
                "2014-01-01 00:00:00",
                "2015-01-01 00:00:00",
                "2016-01-01 00:00:00",
                "2017-01-01 00:00:00",
                "2019-01-01 00:00:00"
               ],
               [
                "2004-01-01 00:00:00",
                "2005-01-01 00:00:00",
                "2006-01-01 00:00:00",
                "2007-01-01 00:00:00",
                "2008-01-01 00:00:00",
                "2009-01-01 00:00:00",
                "2010-01-01 00:00:00",
                "2011-01-01 00:00:00",
                "2012-01-01 00:00:00",
                "2013-01-01 00:00:00",
                "2014-01-01 00:00:00",
                "2015-01-01 00:00:00",
                "2016-01-01 00:00:00",
                "2017-01-01 00:00:00",
                "2019-01-01 00:00:00"
               ],
               [
                "2003-01-01 00:00:00",
                "2004-01-01 00:00:00",
                "2005-01-01 00:00:00",
                "2006-01-01 00:00:00",
                "2007-01-01 00:00:00",
                "2008-01-01 00:00:00",
                "2009-01-01 00:00:00",
                "2010-01-01 00:00:00",
                "2011-01-01 00:00:00",
                "2012-01-01 00:00:00",
                "2013-01-01 00:00:00",
                "2014-01-01 00:00:00",
                "2015-01-01 00:00:00",
                "2016-01-01 00:00:00",
                "2017-01-01 00:00:00",
                "2019-01-01 00:00:00"
               ],
               [
                "2004-01-01 00:00:00",
                "2005-01-01 00:00:00",
                "2006-01-01 00:00:00",
                "2007-01-01 00:00:00",
                "2008-01-01 00:00:00",
                "2009-01-01 00:00:00",
                "2010-01-01 00:00:00",
                "2011-01-01 00:00:00",
                "2012-01-01 00:00:00",
                "2013-01-01 00:00:00",
                "2014-01-01 00:00:00",
                "2017-01-01 00:00:00",
                "2018-01-01 00:00:00",
                "2019-01-01 00:00:00"
               ],
               [
                "2002-01-01 00:00:00",
                "2003-01-01 00:00:00",
                "2004-01-01 00:00:00",
                "2005-01-01 00:00:00",
                "2006-01-01 00:00:00",
                "2007-01-01 00:00:00",
                "2008-01-01 00:00:00",
                "2009-01-01 00:00:00",
                "2010-01-01 00:00:00",
                "2011-01-01 00:00:00",
                "2012-01-01 00:00:00",
                "2013-01-01 00:00:00",
                "2014-01-01 00:00:00",
                "2015-01-01 00:00:00",
                "2016-01-01 00:00:00",
                "2017-01-01 00:00:00",
                "2019-01-01 00:00:00"
               ],
               [
                "2003-01-01 00:00:00",
                "2004-01-01 00:00:00",
                "2005-01-01 00:00:00",
                "2006-01-01 00:00:00",
                "2007-01-01 00:00:00",
                "2008-01-01 00:00:00",
                "2009-01-01 00:00:00",
                "2010-01-01 00:00:00",
                "2011-01-01 00:00:00",
                "2012-01-01 00:00:00",
                "2013-01-01 00:00:00",
                "2014-01-01 00:00:00",
                "2015-01-01 00:00:00",
                "2017-01-01 00:00:00",
                "2018-01-01 00:00:00",
                "2019-01-01 00:00:00"
               ],
               [
                "2002-01-01 00:00:00",
                "2003-01-01 00:00:00",
                "2004-01-01 00:00:00",
                "2005-01-01 00:00:00",
                "2006-01-01 00:00:00",
                "2007-01-01 00:00:00",
                "2008-01-01 00:00:00",
                "2009-01-01 00:00:00",
                "2010-01-01 00:00:00",
                "2011-01-01 00:00:00",
                "2012-01-01 00:00:00",
                "2013-01-01 00:00:00",
                "2014-01-01 00:00:00",
                "2015-01-01 00:00:00",
                "2016-01-01 00:00:00",
                "2017-01-01 00:00:00",
                "2019-01-01 00:00:00"
               ],
               [
                "2002-01-01 00:00:00",
                "2003-01-01 00:00:00",
                "2004-01-01 00:00:00",
                "2005-01-01 00:00:00",
                "2006-01-01 00:00:00",
                "2007-01-01 00:00:00",
                "2008-01-01 00:00:00",
                "2009-01-01 00:00:00",
                "2010-01-01 00:00:00",
                "2011-01-01 00:00:00",
                "2012-01-01 00:00:00",
                "2013-01-01 00:00:00",
                "2014-01-01 00:00:00",
                "2015-01-01 00:00:00",
                "2016-01-01 00:00:00",
                "2017-01-01 00:00:00",
                "2018-01-01 00:00:00",
                "2019-01-01 00:00:00"
               ],
               [
                "2002-01-01 00:00:00",
                "2003-01-01 00:00:00",
                "2004-01-01 00:00:00",
                "2005-01-01 00:00:00",
                "2006-01-01 00:00:00",
                "2007-01-01 00:00:00",
                "2008-01-01 00:00:00",
                "2009-01-01 00:00:00",
                "2010-01-01 00:00:00",
                "2011-01-01 00:00:00",
                "2012-01-01 00:00:00",
                "2013-01-01 00:00:00",
                "2014-01-01 00:00:00",
                "2015-01-01 00:00:00",
                "2016-01-01 00:00:00",
                "2017-01-01 00:00:00",
                "2018-01-01 00:00:00",
                "2019-01-01 00:00:00"
               ],
               [
                "2002-01-01 00:00:00",
                "2003-01-01 00:00:00",
                "2004-01-01 00:00:00",
                "2005-01-01 00:00:00",
                "2006-01-01 00:00:00",
                "2007-01-01 00:00:00",
                "2008-01-01 00:00:00",
                "2009-01-01 00:00:00",
                "2010-01-01 00:00:00",
                "2011-01-01 00:00:00",
                "2012-01-01 00:00:00",
                "2013-01-01 00:00:00",
                "2014-01-01 00:00:00",
                "2015-01-01 00:00:00",
                "2016-01-01 00:00:00",
                "2017-01-01 00:00:00",
                "2019-01-01 00:00:00"
               ],
               [
                "2002-01-01 00:00:00",
                "2004-01-01 00:00:00",
                "2005-01-01 00:00:00",
                "2006-01-01 00:00:00",
                "2007-01-01 00:00:00",
                "2008-01-01 00:00:00",
                "2009-01-01 00:00:00",
                "2010-01-01 00:00:00",
                "2011-01-01 00:00:00",
                "2012-01-01 00:00:00",
                "2013-01-01 00:00:00",
                "2014-01-01 00:00:00",
                "2015-01-01 00:00:00",
                "2016-01-01 00:00:00",
                "2017-01-01 00:00:00",
                "2019-01-01 00:00:00"
               ],
               [
                "2005-01-01 00:00:00",
                "2006-01-01 00:00:00",
                "2007-01-01 00:00:00",
                "2008-01-01 00:00:00",
                "2009-01-01 00:00:00",
                "2010-01-01 00:00:00",
                "2011-01-01 00:00:00",
                "2012-01-01 00:00:00",
                "2013-01-01 00:00:00",
                "2014-01-01 00:00:00",
                "2015-01-01 00:00:00",
                "2016-01-01 00:00:00",
                "2017-01-01 00:00:00",
                "2019-01-01 00:00:00"
               ],
               [
                "2002-01-01 00:00:00",
                "2003-01-01 00:00:00",
                "2004-01-01 00:00:00",
                "2005-01-01 00:00:00",
                "2006-01-01 00:00:00",
                "2007-01-01 00:00:00",
                "2008-01-01 00:00:00",
                "2009-01-01 00:00:00",
                "2010-01-01 00:00:00",
                "2011-01-01 00:00:00",
                "2012-01-01 00:00:00",
                "2013-01-01 00:00:00",
                "2014-01-01 00:00:00",
                "2015-01-01 00:00:00",
                "2016-01-01 00:00:00",
                "2017-01-01 00:00:00",
                "2019-01-01 00:00:00"
               ],
               [
                "2003-01-01 00:00:00",
                "2004-01-01 00:00:00",
                "2005-01-01 00:00:00",
                "2006-01-01 00:00:00",
                "2007-01-01 00:00:00",
                "2008-01-01 00:00:00",
                "2009-01-01 00:00:00",
                "2010-01-01 00:00:00",
                "2011-01-01 00:00:00",
                "2012-01-01 00:00:00",
                "2013-01-01 00:00:00",
                "2014-01-01 00:00:00",
                "2015-01-01 00:00:00",
                "2016-01-01 00:00:00",
                "2017-01-01 00:00:00",
                "2019-01-01 00:00:00"
               ],
               [
                "2002-01-01 00:00:00",
                "2003-01-01 00:00:00",
                "2004-01-01 00:00:00",
                "2005-01-01 00:00:00",
                "2006-01-01 00:00:00",
                "2007-01-01 00:00:00",
                "2008-01-01 00:00:00",
                "2009-01-01 00:00:00",
                "2010-01-01 00:00:00",
                "2011-01-01 00:00:00",
                "2012-01-01 00:00:00",
                "2013-01-01 00:00:00",
                "2014-01-01 00:00:00",
                "2015-01-01 00:00:00",
                "2016-01-01 00:00:00",
                "2017-01-01 00:00:00",
                "2018-01-01 00:00:00",
                "2019-01-01 00:00:00"
               ],
               [
                "2002-01-01 00:00:00",
                "2003-01-01 00:00:00",
                "2004-01-01 00:00:00",
                "2005-01-01 00:00:00",
                "2006-01-01 00:00:00",
                "2007-01-01 00:00:00",
                "2008-01-01 00:00:00",
                "2009-01-01 00:00:00",
                "2010-01-01 00:00:00",
                "2011-01-01 00:00:00",
                "2012-01-01 00:00:00",
                "2013-01-01 00:00:00",
                "2014-01-01 00:00:00",
                "2015-01-01 00:00:00",
                "2016-01-01 00:00:00",
                "2017-01-01 00:00:00",
                "2019-01-01 00:00:00"
               ],
               [
                "2005-01-01 00:00:00",
                "2006-01-01 00:00:00",
                "2007-01-01 00:00:00",
                "2008-01-01 00:00:00",
                "2014-01-01 00:00:00",
                "2015-01-01 00:00:00",
                "2017-01-01 00:00:00",
                "2018-01-01 00:00:00",
                "2019-01-01 00:00:00"
               ],
               [
                "2004-01-01 00:00:00",
                "2006-01-01 00:00:00",
                "2007-01-01 00:00:00",
                "2008-01-01 00:00:00",
                "2009-01-01 00:00:00",
                "2010-01-01 00:00:00",
                "2011-01-01 00:00:00",
                "2012-01-01 00:00:00",
                "2013-01-01 00:00:00",
                "2014-01-01 00:00:00",
                "2015-01-01 00:00:00",
                "2016-01-01 00:00:00",
                "2017-01-01 00:00:00",
                "2018-01-01 00:00:00",
                "2019-01-01 00:00:00"
               ],
               [
                "2005-01-01 00:00:00",
                "2006-01-01 00:00:00",
                "2007-01-01 00:00:00",
                "2008-01-01 00:00:00",
                "2009-01-01 00:00:00",
                "2010-01-01 00:00:00",
                "2011-01-01 00:00:00",
                "2012-01-01 00:00:00",
                "2013-01-01 00:00:00",
                "2014-01-01 00:00:00",
                "2015-01-01 00:00:00",
                "2016-01-01 00:00:00",
                "2017-01-01 00:00:00",
                "2018-01-01 00:00:00",
                "2019-01-01 00:00:00"
               ],
               [
                "2004-01-01 00:00:00",
                "2005-01-01 00:00:00",
                "2006-01-01 00:00:00",
                "2007-01-01 00:00:00",
                "2008-01-01 00:00:00",
                "2009-01-01 00:00:00",
                "2010-01-01 00:00:00",
                "2011-01-01 00:00:00",
                "2012-01-01 00:00:00",
                "2013-01-01 00:00:00",
                "2014-01-01 00:00:00",
                "2015-01-01 00:00:00",
                "2016-01-01 00:00:00",
                "2017-01-01 00:00:00",
                "2018-01-01 00:00:00",
                "2019-01-01 00:00:00"
               ],
               [
                "2004-01-01 00:00:00",
                "2005-01-01 00:00:00",
                "2006-01-01 00:00:00",
                "2007-01-01 00:00:00",
                "2008-01-01 00:00:00",
                "2009-01-01 00:00:00",
                "2010-01-01 00:00:00",
                "2011-01-01 00:00:00",
                "2012-01-01 00:00:00",
                "2013-01-01 00:00:00",
                "2014-01-01 00:00:00",
                "2015-01-01 00:00:00",
                "2016-01-01 00:00:00",
                "2017-01-01 00:00:00",
                "2018-01-01 00:00:00",
                "2019-01-01 00:00:00"
               ],
               [
                "2002-01-01 00:00:00",
                "2003-01-01 00:00:00",
                "2004-01-01 00:00:00",
                "2005-01-01 00:00:00",
                "2006-01-01 00:00:00",
                "2007-01-01 00:00:00",
                "2008-01-01 00:00:00",
                "2009-01-01 00:00:00",
                "2010-01-01 00:00:00",
                "2011-01-01 00:00:00",
                "2012-01-01 00:00:00",
                "2013-01-01 00:00:00",
                "2014-01-01 00:00:00",
                "2015-01-01 00:00:00",
                "2016-01-01 00:00:00",
                "2017-01-01 00:00:00",
                "2018-01-01 00:00:00",
                "2019-01-01 00:00:00"
               ],
               [
                "2002-01-01 00:00:00",
                "2003-01-01 00:00:00",
                "2004-01-01 00:00:00",
                "2005-01-01 00:00:00",
                "2006-01-01 00:00:00",
                "2007-01-01 00:00:00",
                "2008-01-01 00:00:00",
                "2009-01-01 00:00:00",
                "2010-01-01 00:00:00",
                "2011-01-01 00:00:00",
                "2012-01-01 00:00:00",
                "2013-01-01 00:00:00",
                "2014-01-01 00:00:00",
                "2015-01-01 00:00:00",
                "2017-01-01 00:00:00",
                "2018-01-01 00:00:00",
                "2019-01-01 00:00:00"
               ],
               [
                "2005-01-01 00:00:00",
                "2006-01-01 00:00:00",
                "2007-01-01 00:00:00",
                "2008-01-01 00:00:00",
                "2009-01-01 00:00:00",
                "2010-01-01 00:00:00",
                "2011-01-01 00:00:00",
                "2012-01-01 00:00:00",
                "2013-01-01 00:00:00",
                "2014-01-01 00:00:00",
                "2015-01-01 00:00:00",
                "2016-01-01 00:00:00",
                "2017-01-01 00:00:00",
                "2018-01-01 00:00:00",
                "2019-01-01 00:00:00"
               ],
               [
                "2004-01-01 00:00:00",
                "2006-01-01 00:00:00",
                "2007-01-01 00:00:00",
                "2008-01-01 00:00:00",
                "2009-01-01 00:00:00",
                "2010-01-01 00:00:00",
                "2011-01-01 00:00:00",
                "2012-01-01 00:00:00",
                "2013-01-01 00:00:00",
                "2014-01-01 00:00:00",
                "2015-01-01 00:00:00",
                "2017-01-01 00:00:00",
                "2018-01-01 00:00:00",
                "2019-01-01 00:00:00"
               ],
               [
                "2002-01-01 00:00:00",
                "2003-01-01 00:00:00",
                "2004-01-01 00:00:00",
                "2005-01-01 00:00:00",
                "2006-01-01 00:00:00",
                "2007-01-01 00:00:00",
                "2008-01-01 00:00:00",
                "2009-01-01 00:00:00",
                "2010-01-01 00:00:00",
                "2011-01-01 00:00:00",
                "2012-01-01 00:00:00",
                "2013-01-01 00:00:00",
                "2014-01-01 00:00:00",
                "2015-01-01 00:00:00",
                "2017-01-01 00:00:00",
                "2018-01-01 00:00:00",
                "2019-01-01 00:00:00"
               ],
               []
              ],
              "y": [
               [
                30.7618,
                36.7926,
                45.178900000000006,
                52.2022,
                57.350500000000004,
                61.85069999999999,
                66.8903,
                69.3906,
                73.8201,
                79.30590000000001,
                82.8959,
                87.729,
                88.2652,
                90.4259
               ],
               [
                12.1514,
                16.301199999999998,
                16.544,
                21.731199999999998,
                23.1227,
                25.397399999999998,
                30.963099999999997,
                38.0648,
                46.3512,
                50.1668,
                53.5817,
                56.3126,
                65.55069999999999,
                68.0909,
                70.9576,
                76.49329999999999,
                78.5402
               ],
               [
                27.5453,
                33.644400000000005,
                35.5086,
                38.041799999999995,
                43.4838,
                49.85600000000001,
                52.928799999999995,
                57.8236,
                62.7077,
                66.5907,
                69.7292,
                74.3549,
                78.7489,
                83.38620000000002,
                86.3576,
                91.4376
               ],
               [
                44.2751,
                47.3552,
                50.9092,
                54.1405,
                64.7309,
                68.78370000000001,
                72.3805,
                77.776,
                80.5376,
                84.15690000000001,
                86.7993,
                89.23639999999999,
                89.82639999999999,
                89.9316,
                91.949,
                94.41969999999999,
                94.36129999999999
               ],
               [
                23.0379,
                30.979699999999998,
                33.6095,
                40.9315,
                55.046800000000005,
                62.3197,
                68.8683,
                73.6061,
                75.9151,
                80.0043,
                81.7192,
                82.95559999999999,
                82.6207,
                85.87360000000001,
                86.41280000000002,
                90.1727
               ],
               [
                40.5867,
                45.261,
                50.041599999999995,
                56.4971,
                61.4082,
                66.4149,
                64.576,
                68.3654,
                76.7064,
                77.3398,
                76.4545,
                80.52229999999999
               ],
               [
                14.182400000000001,
                22.1194,
                31.645200000000003,
                37.721,
                46.628400000000006,
                53.419399999999996,
                58.4144,
                63.2174,
                66.8127,
                69.6587,
                73.062,
                75.6375,
                79.1842,
                82.35110000000002,
                86.2009
               ],
               [
                35.5666,
                39.731,
                47.18449999999999,
                49.953500000000005,
                57.2732,
                63.0467,
                66.6699,
                71.6895,
                78.1195,
                81.08670000000001,
                82.3895,
                82.1681,
                84.8585,
                86.9145,
                88.3699,
                90.5917
               ],
               [
                80.5879,
                84.4141,
                83.01799999999999,
                83.69700000000002,
                87.72559999999999,
                89.59030000000001,
                92.0358,
                92.5945,
                94.6001,
                96.41340000000001,
                96.48200000000001,
                97.8642,
                99.1818,
                97.70120000000001
               ],
               [
                46.143100000000004,
                54.0821,
                60.00260000000001,
                61.6383,
                67.10770000000001,
                70.6745,
                74.8754,
                79.069,
                82.4875,
                83.25489999999999,
                85.4999,
                87.74700000000001,
                89.4741,
                90.2891,
                92.13520000000001,
                92.85709999999999,
                94.8293
               ],
               [
                14.7884,
                19.3675,
                19.0517,
                29.250500000000002,
                35.1211,
                45.8625,
                54.1836,
                60.517900000000004,
                66.63419999999999,
                72.55149999999999,
                72.61659999999999,
                77.9899,
                78.97529999999999,
                83.2351,
                86.3574,
                86.99959999999999
               ],
               [
                55.6387,
                64.1943,
                69.3631,
                74.9174,
                78.7298,
                78.05439999999999,
                81.88109999999999,
                82.53399999999999,
                86.0984,
                90.0828,
                91.9976,
                92.71350000000001,
                93.12020000000001,
                91.74,
                94.34360000000001,
                97.0007,
                95.43430000000001
               ],
               [
                33.7488,
                32.0839,
                34.1107,
                38.5781,
                40.0125,
                43.3831,
                46.930200000000006,
                53.482299999999995,
                58.9711,
                61.573299999999996,
                62.9165,
                68.9144,
                72.61410000000001,
                75.3897,
                78.51,
                81.0244,
                84.33840000000001,
                85.1726
               ],
               [
                4.100099999999999,
                6.1513,
                11.601199999999999,
                15.7818,
                34.5131,
                44.36229999999999,
                50.936099999999996,
                60.000699999999995,
                60.578199999999995,
                60.143,
                60.1151,
                64.7309,
                65.9725,
                68.2621,
                71.748,
                74.9651,
                78.3772,
                81.5188
               ],
               [
                39.8924,
                45.3892,
                58.639399999999995,
                64.578,
                70.1811,
                74.5531,
                80.09029999999998,
                87.2017,
                90.27680000000001,
                90.6208,
                93.08,
                94.4593,
                95.55680000000001,
                96.78020000000001,
                97.03500000000001,
                97.2252,
                95.1973
               ],
               [
                3,
                14.6534,
                30.5178,
                42.1979,
                50.532900000000005,
                52.808,
                58.0234,
                59.7746,
                63.638400000000004,
                68.6762,
                71.5978,
                73.38180000000001,
                75.9985,
                77.3423,
                78.6113,
                85.4495
               ],
               [
                40.5651,
                52.7821,
                53.922000000000004,
                59.0021,
                64.4478,
                70.44729999999998,
                75.2934,
                76.70479999999999,
                78.04429999999999,
                80.3234,
                81.00450000000001,
                81.4135,
                84.77080000000001,
                86.0799
               ],
               [
                57.99999999999999,
                60.525600000000004,
                64.9852,
                78.25979999999998,
                80.2646,
                82.8876,
                86.077,
                89.7034,
                90.89209999999999,
                93.6366,
                93.5476,
                94.6336,
                95.7808,
                95.96600000000001,
                96.6602,
                98.2309,
                98.405
               ],
               [
                60.491499999999995,
                60.0888,
                64.00640000000001,
                68.7942,
                77.5907,
                83.97030000000001,
                85.564,
                89.7907,
                92.2364,
                92.69219999999999,
                94.2851,
                93.0669,
                96.6041,
                97.04549999999999,
                96.6549,
                98.3832
               ],
               [
                15.120999999999999,
                21.687399999999997,
                26.1729,
                31.4582,
                35.153400000000005,
                39.6097,
                46.0427,
                47.8904,
                53.731899999999996,
                57.9695,
                61.021899999999995,
                62.3417,
                64.87089999999999,
                70.23479999999999,
                74.0535,
                76.935,
                79.4251,
                80.9385
               ],
               [
                11,
                14.000000000000002,
                26.0175,
                30.4417,
                35.9392,
                40.9798,
                47.6019,
                58.592,
                63.44029999999999,
                66.63759999999999,
                70.4944,
                71.8962,
                74.76010000000001,
                75.7829,
                80.4457,
                81.878,
                86.75
               ],
               [
                48.3713,
                49.0869,
                54.64790000000001,
                60.1314,
                80.9922,
                82.5955,
                86.8587,
                88.8033,
                90.4775
               ],
               [
                5.5769,
                14.2537,
                22.2456,
                29.5991,
                37.9486,
                42.182900000000004,
                47.4427,
                53.7724,
                58.07,
                60.5409,
                67.70970000000001,
                72.3974,
                76.4465,
                80.8858,
                83.61319999999999
               ],
               [
                72.53229999999999,
                77.3896,
                78.5499,
                84.441,
                85.9823,
                88.2959,
                90.63940000000001,
                91.6917,
                92.58850000000001,
                89.569,
                91.0333,
                93.8028,
                94.72729999999999,
                93.4191,
                96.05959999999999
               ],
               [
                46.8618,
                48.2092,
                54.355,
                57.61229999999999,
                58.886,
                63.936099999999996,
                68.1288,
                72.5964,
                73.9378,
                75.6204,
                76.8,
                77.6431,
                78.4212,
                81.7369,
                86.68209999999999,
                88.9611
               ],
               [
                23.338000000000005,
                22.9744,
                26.5808,
                46.1124,
                58.33669999999999,
                62.2313,
                67.4821,
                70.78,
                75.4354,
                77.9076,
                78.352,
                79.4791,
                80.5191,
                81.3251,
                80.8442,
                82.1911
               ],
               [
                49.720299999999995,
                55.11050000000001,
                55.899,
                60.2317,
                62.641099999999994,
                66.71770000000001,
                71.1426,
                76.69279999999999,
                79.6067,
                82.70100000000001,
                86.796,
                88.44569999999999,
                90.3364,
                91.2516,
                93.4847,
                93.9917,
                94.8522,
                95.8457
               ],
               [
                33.4675,
                37.3673,
                44.6467,
                46.6887,
                52.2965,
                59.623000000000005,
                68.92,
                69.7507,
                72.8891,
                75.44069999999999,
                79.28460000000001,
                80.8626,
                80.9946,
                82.416,
                88.79239999999999,
                88.7752,
                89.9074
               ],
               [
                50.1575,
                53.9597,
                60.163999999999994,
                63.62760000000001,
                67.43520000000001,
                72.7371,
                76.50779999999999,
                77.7137,
                80.0478,
                82.8041,
                81.825,
                84.78569999999999,
                85.9684,
                87.2725,
                89.73010000000001
               ],
               [
                9.6482,
                17.0093,
                18.9584,
                25.294,
                29.5989,
                33.1104,
                44.99510000000001,
                50.9182,
                53.7086,
                56.6515,
                59.1406,
                67.3259,
                72.1327,
                75.0747
               ],
               [
                24,
                28.999999999999996,
                52.7706,
                31.7075,
                36.6747,
                38.9029,
                42.919,
                52.76220000000001,
                53.712700000000005,
                57.3513,
                61.81680000000001,
                64.7121,
                68.6442,
                71.2101,
                79.41319999999999,
                86.17089999999999,
                89.6121
               ],
               []
              ]
             }
            ],
            "label": "Households with access to the Internet at home",
            "method": "update"
           },
           {
            "args": [
             {
              "x": [
               [
                "2005-01-01 00:00:00",
                "2006-01-01 00:00:00",
                "2007-01-01 00:00:00",
                "2008-01-01 00:00:00",
                "2009-01-01 00:00:00",
                "2010-01-01 00:00:00",
                "2011-01-01 00:00:00",
                "2012-01-01 00:00:00",
                "2013-01-01 00:00:00",
                "2014-01-01 00:00:00",
                "2015-01-01 00:00:00",
                "2016-01-01 00:00:00",
                "2017-01-01 00:00:00",
                "2019-01-01 00:00:00"
               ],
               [
                "2005-01-01 00:00:00",
                "2006-01-01 00:00:00",
                "2007-01-01 00:00:00",
                "2008-01-01 00:00:00",
                "2009-01-01 00:00:00",
                "2010-01-01 00:00:00",
                "2011-01-01 00:00:00",
                "2012-01-01 00:00:00",
                "2013-01-01 00:00:00",
                "2014-01-01 00:00:00",
                "2015-01-01 00:00:00",
                "2016-01-01 00:00:00",
                "2017-01-01 00:00:00",
                "2018-01-01 00:00:00",
                "2019-01-01 00:00:00"
               ],
               [
                "2005-01-01 00:00:00",
                "2006-01-01 00:00:00",
                "2007-01-01 00:00:00",
                "2008-01-01 00:00:00",
                "2009-01-01 00:00:00",
                "2010-01-01 00:00:00",
                "2011-01-01 00:00:00",
                "2012-01-01 00:00:00",
                "2013-01-01 00:00:00",
                "2014-01-01 00:00:00",
                "2015-01-01 00:00:00",
                "2016-01-01 00:00:00",
                "2017-01-01 00:00:00",
                "2018-01-01 00:00:00",
                "2019-01-01 00:00:00"
               ],
               [
                "2005-01-01 00:00:00",
                "2006-01-01 00:00:00",
                "2007-01-01 00:00:00",
                "2008-01-01 00:00:00",
                "2009-01-01 00:00:00",
                "2010-01-01 00:00:00",
                "2011-01-01 00:00:00",
                "2012-01-01 00:00:00",
                "2013-01-01 00:00:00",
                "2014-01-01 00:00:00",
                "2015-01-01 00:00:00",
                "2016-01-01 00:00:00",
                "2017-01-01 00:00:00",
                "2019-01-01 00:00:00"
               ],
               [
                "2006-01-01 00:00:00",
                "2007-01-01 00:00:00",
                "2008-01-01 00:00:00",
                "2009-01-01 00:00:00",
                "2010-01-01 00:00:00",
                "2011-01-01 00:00:00",
                "2012-01-01 00:00:00",
                "2013-01-01 00:00:00",
                "2014-01-01 00:00:00",
                "2015-01-01 00:00:00",
                "2016-01-01 00:00:00",
                "2017-01-01 00:00:00",
                "2019-01-01 00:00:00"
               ],
               [
                "2007-01-01 00:00:00",
                "2008-01-01 00:00:00",
                "2009-01-01 00:00:00",
                "2010-01-01 00:00:00",
                "2011-01-01 00:00:00",
                "2012-01-01 00:00:00",
                "2013-01-01 00:00:00",
                "2014-01-01 00:00:00",
                "2015-01-01 00:00:00",
                "2016-01-01 00:00:00",
                "2017-01-01 00:00:00",
                "2019-01-01 00:00:00"
               ],
               [
                "2005-01-01 00:00:00",
                "2006-01-01 00:00:00",
                "2007-01-01 00:00:00",
                "2008-01-01 00:00:00",
                "2009-01-01 00:00:00",
                "2010-01-01 00:00:00",
                "2011-01-01 00:00:00",
                "2012-01-01 00:00:00",
                "2013-01-01 00:00:00",
                "2014-01-01 00:00:00",
                "2015-01-01 00:00:00",
                "2016-01-01 00:00:00",
                "2017-01-01 00:00:00",
                "2019-01-01 00:00:00"
               ],
               [
                "2005-01-01 00:00:00",
                "2006-01-01 00:00:00",
                "2007-01-01 00:00:00",
                "2008-01-01 00:00:00",
                "2009-01-01 00:00:00",
                "2010-01-01 00:00:00",
                "2011-01-01 00:00:00",
                "2012-01-01 00:00:00",
                "2013-01-01 00:00:00",
                "2014-01-01 00:00:00",
                "2015-01-01 00:00:00",
                "2016-01-01 00:00:00",
                "2017-01-01 00:00:00",
                "2018-01-01 00:00:00",
                "2019-01-01 00:00:00"
               ],
               [
                "2005-01-01 00:00:00",
                "2006-01-01 00:00:00",
                "2007-01-01 00:00:00",
                "2008-01-01 00:00:00",
                "2009-01-01 00:00:00",
                "2010-01-01 00:00:00",
                "2011-01-01 00:00:00",
                "2012-01-01 00:00:00",
                "2013-01-01 00:00:00",
                "2014-01-01 00:00:00",
                "2017-01-01 00:00:00",
                "2018-01-01 00:00:00",
                "2019-01-01 00:00:00"
               ],
               [
                "2005-01-01 00:00:00",
                "2006-01-01 00:00:00",
                "2007-01-01 00:00:00",
                "2008-01-01 00:00:00",
                "2009-01-01 00:00:00",
                "2010-01-01 00:00:00",
                "2011-01-01 00:00:00",
                "2012-01-01 00:00:00",
                "2013-01-01 00:00:00",
                "2014-01-01 00:00:00",
                "2015-01-01 00:00:00",
                "2016-01-01 00:00:00",
                "2017-01-01 00:00:00",
                "2019-01-01 00:00:00"
               ],
               [
                "2005-01-01 00:00:00",
                "2006-01-01 00:00:00",
                "2007-01-01 00:00:00",
                "2008-01-01 00:00:00",
                "2009-01-01 00:00:00",
                "2010-01-01 00:00:00",
                "2011-01-01 00:00:00",
                "2012-01-01 00:00:00",
                "2013-01-01 00:00:00",
                "2014-01-01 00:00:00",
                "2015-01-01 00:00:00",
                "2016-01-01 00:00:00",
                "2017-01-01 00:00:00",
                "2018-01-01 00:00:00",
                "2019-01-01 00:00:00"
               ],
               [
                "2005-01-01 00:00:00",
                "2006-01-01 00:00:00",
                "2007-01-01 00:00:00",
                "2008-01-01 00:00:00",
                "2009-01-01 00:00:00",
                "2010-01-01 00:00:00",
                "2011-01-01 00:00:00",
                "2012-01-01 00:00:00",
                "2013-01-01 00:00:00",
                "2014-01-01 00:00:00",
                "2015-01-01 00:00:00",
                "2016-01-01 00:00:00",
                "2017-01-01 00:00:00",
                "2019-01-01 00:00:00"
               ],
               [
                "2005-01-01 00:00:00",
                "2006-01-01 00:00:00",
                "2007-01-01 00:00:00",
                "2008-01-01 00:00:00",
                "2009-01-01 00:00:00",
                "2010-01-01 00:00:00",
                "2011-01-01 00:00:00",
                "2012-01-01 00:00:00",
                "2013-01-01 00:00:00",
                "2014-01-01 00:00:00",
                "2015-01-01 00:00:00",
                "2016-01-01 00:00:00",
                "2017-01-01 00:00:00",
                "2018-01-01 00:00:00",
                "2019-01-01 00:00:00"
               ],
               [
                "2005-01-01 00:00:00",
                "2006-01-01 00:00:00",
                "2007-01-01 00:00:00",
                "2008-01-01 00:00:00",
                "2009-01-01 00:00:00",
                "2010-01-01 00:00:00",
                "2011-01-01 00:00:00",
                "2012-01-01 00:00:00",
                "2013-01-01 00:00:00",
                "2014-01-01 00:00:00",
                "2015-01-01 00:00:00",
                "2016-01-01 00:00:00",
                "2017-01-01 00:00:00",
                "2018-01-01 00:00:00",
                "2019-01-01 00:00:00"
               ],
               [
                "2005-01-01 00:00:00",
                "2006-01-01 00:00:00",
                "2007-01-01 00:00:00",
                "2008-01-01 00:00:00",
                "2009-01-01 00:00:00",
                "2010-01-01 00:00:00",
                "2011-01-01 00:00:00",
                "2012-01-01 00:00:00",
                "2013-01-01 00:00:00",
                "2014-01-01 00:00:00",
                "2015-01-01 00:00:00",
                "2016-01-01 00:00:00",
                "2017-01-01 00:00:00",
                "2019-01-01 00:00:00"
               ],
               [
                "2005-01-01 00:00:00",
                "2006-01-01 00:00:00",
                "2007-01-01 00:00:00",
                "2008-01-01 00:00:00",
                "2009-01-01 00:00:00",
                "2010-01-01 00:00:00",
                "2011-01-01 00:00:00",
                "2012-01-01 00:00:00",
                "2013-01-01 00:00:00",
                "2014-01-01 00:00:00",
                "2015-01-01 00:00:00",
                "2016-01-01 00:00:00",
                "2017-01-01 00:00:00",
                "2019-01-01 00:00:00"
               ],
               [
                "2005-01-01 00:00:00",
                "2006-01-01 00:00:00",
                "2007-01-01 00:00:00",
                "2008-01-01 00:00:00",
                "2009-01-01 00:00:00",
                "2010-01-01 00:00:00",
                "2011-01-01 00:00:00",
                "2012-01-01 00:00:00",
                "2013-01-01 00:00:00",
                "2014-01-01 00:00:00",
                "2015-01-01 00:00:00",
                "2016-01-01 00:00:00",
                "2017-01-01 00:00:00",
                "2019-01-01 00:00:00"
               ],
               [
                "2005-01-01 00:00:00",
                "2006-01-01 00:00:00",
                "2007-01-01 00:00:00",
                "2008-01-01 00:00:00",
                "2009-01-01 00:00:00",
                "2010-01-01 00:00:00",
                "2011-01-01 00:00:00",
                "2012-01-01 00:00:00",
                "2013-01-01 00:00:00",
                "2014-01-01 00:00:00",
                "2015-01-01 00:00:00",
                "2016-01-01 00:00:00",
                "2017-01-01 00:00:00",
                "2019-01-01 00:00:00"
               ],
               [
                "2005-01-01 00:00:00",
                "2006-01-01 00:00:00",
                "2007-01-01 00:00:00",
                "2008-01-01 00:00:00",
                "2009-01-01 00:00:00",
                "2010-01-01 00:00:00",
                "2011-01-01 00:00:00",
                "2012-01-01 00:00:00",
                "2013-01-01 00:00:00",
                "2014-01-01 00:00:00",
                "2015-01-01 00:00:00",
                "2016-01-01 00:00:00",
                "2017-01-01 00:00:00",
                "2019-01-01 00:00:00"
               ],
               [
                "2005-01-01 00:00:00",
                "2006-01-01 00:00:00",
                "2007-01-01 00:00:00",
                "2008-01-01 00:00:00",
                "2009-01-01 00:00:00",
                "2010-01-01 00:00:00",
                "2011-01-01 00:00:00",
                "2012-01-01 00:00:00",
                "2013-01-01 00:00:00",
                "2014-01-01 00:00:00",
                "2015-01-01 00:00:00",
                "2016-01-01 00:00:00",
                "2018-01-01 00:00:00",
                "2019-01-01 00:00:00"
               ],
               [
                "2005-01-01 00:00:00",
                "2006-01-01 00:00:00",
                "2007-01-01 00:00:00",
                "2008-01-01 00:00:00",
                "2009-01-01 00:00:00",
                "2010-01-01 00:00:00",
                "2011-01-01 00:00:00",
                "2012-01-01 00:00:00",
                "2013-01-01 00:00:00",
                "2014-01-01 00:00:00",
                "2015-01-01 00:00:00",
                "2016-01-01 00:00:00",
                "2017-01-01 00:00:00",
                "2019-01-01 00:00:00"
               ],
               [
                "2005-01-01 00:00:00",
                "2006-01-01 00:00:00",
                "2007-01-01 00:00:00",
                "2008-01-01 00:00:00",
                "2014-01-01 00:00:00",
                "2015-01-01 00:00:00",
                "2017-01-01 00:00:00",
                "2018-01-01 00:00:00",
                "2019-01-01 00:00:00"
               ],
               [
                "2006-01-01 00:00:00",
                "2007-01-01 00:00:00",
                "2008-01-01 00:00:00",
                "2009-01-01 00:00:00",
                "2010-01-01 00:00:00",
                "2011-01-01 00:00:00",
                "2012-01-01 00:00:00",
                "2013-01-01 00:00:00",
                "2014-01-01 00:00:00",
                "2015-01-01 00:00:00",
                "2016-01-01 00:00:00",
                "2018-01-01 00:00:00",
                "2019-01-01 00:00:00"
               ],
               [
                "2005-01-01 00:00:00",
                "2006-01-01 00:00:00",
                "2007-01-01 00:00:00",
                "2008-01-01 00:00:00",
                "2009-01-01 00:00:00",
                "2010-01-01 00:00:00",
                "2011-01-01 00:00:00",
                "2012-01-01 00:00:00",
                "2013-01-01 00:00:00",
                "2014-01-01 00:00:00",
                "2015-01-01 00:00:00",
                "2016-01-01 00:00:00",
                "2018-01-01 00:00:00",
                "2019-01-01 00:00:00"
               ],
               [
                "2005-01-01 00:00:00",
                "2006-01-01 00:00:00",
                "2007-01-01 00:00:00",
                "2008-01-01 00:00:00",
                "2009-01-01 00:00:00",
                "2010-01-01 00:00:00",
                "2011-01-01 00:00:00",
                "2012-01-01 00:00:00",
                "2013-01-01 00:00:00",
                "2014-01-01 00:00:00",
                "2015-01-01 00:00:00",
                "2016-01-01 00:00:00",
                "2018-01-01 00:00:00",
                "2019-01-01 00:00:00"
               ],
               [
                "2005-01-01 00:00:00",
                "2006-01-01 00:00:00",
                "2007-01-01 00:00:00",
                "2008-01-01 00:00:00",
                "2009-01-01 00:00:00",
                "2010-01-01 00:00:00",
                "2011-01-01 00:00:00",
                "2012-01-01 00:00:00",
                "2013-01-01 00:00:00",
                "2014-01-01 00:00:00",
                "2015-01-01 00:00:00",
                "2016-01-01 00:00:00",
                "2018-01-01 00:00:00",
                "2019-01-01 00:00:00"
               ],
               [
                "2005-01-01 00:00:00",
                "2006-01-01 00:00:00",
                "2007-01-01 00:00:00",
                "2008-01-01 00:00:00",
                "2009-01-01 00:00:00",
                "2010-01-01 00:00:00",
                "2011-01-01 00:00:00",
                "2012-01-01 00:00:00",
                "2013-01-01 00:00:00",
                "2014-01-01 00:00:00",
                "2015-01-01 00:00:00",
                "2016-01-01 00:00:00",
                "2018-01-01 00:00:00",
                "2019-01-01 00:00:00"
               ],
               [
                "2005-01-01 00:00:00",
                "2006-01-01 00:00:00",
                "2007-01-01 00:00:00",
                "2008-01-01 00:00:00",
                "2009-01-01 00:00:00",
                "2010-01-01 00:00:00",
                "2011-01-01 00:00:00",
                "2012-01-01 00:00:00",
                "2014-01-01 00:00:00",
                "2015-01-01 00:00:00",
                "2016-01-01 00:00:00",
                "2017-01-01 00:00:00",
                "2018-01-01 00:00:00",
                "2019-01-01 00:00:00"
               ],
               [
                "2005-01-01 00:00:00",
                "2006-01-01 00:00:00",
                "2007-01-01 00:00:00",
                "2008-01-01 00:00:00",
                "2009-01-01 00:00:00",
                "2010-01-01 00:00:00",
                "2011-01-01 00:00:00",
                "2012-01-01 00:00:00",
                "2014-01-01 00:00:00",
                "2015-01-01 00:00:00",
                "2016-01-01 00:00:00",
                "2017-01-01 00:00:00",
                "2018-01-01 00:00:00",
                "2019-01-01 00:00:00"
               ],
               [
                "2006-01-01 00:00:00",
                "2007-01-01 00:00:00",
                "2008-01-01 00:00:00",
                "2009-01-01 00:00:00",
                "2010-01-01 00:00:00",
                "2011-01-01 00:00:00",
                "2012-01-01 00:00:00",
                "2014-01-01 00:00:00",
                "2015-01-01 00:00:00",
                "2016-01-01 00:00:00",
                "2017-01-01 00:00:00",
                "2018-01-01 00:00:00",
                "2019-01-01 00:00:00"
               ],
               [
                "2005-01-01 00:00:00",
                "2006-01-01 00:00:00",
                "2007-01-01 00:00:00",
                "2008-01-01 00:00:00",
                "2009-01-01 00:00:00",
                "2010-01-01 00:00:00",
                "2011-01-01 00:00:00",
                "2012-01-01 00:00:00",
                "2014-01-01 00:00:00",
                "2015-01-01 00:00:00",
                "2016-01-01 00:00:00",
                "2017-01-01 00:00:00",
                "2018-01-01 00:00:00",
                "2019-01-01 00:00:00"
               ],
               []
              ],
              "y": [
               [
                36.7703,
                34.5983,
                32.2333,
                26.2753,
                26.129799999999996,
                22.2646,
                20.4683,
                19.6568,
                16.4093,
                12.3733,
                9.0544,
                9.9707,
                9.32618,
                7.24983
               ],
               [
                72.7799,
                65.065,
                61.68279999999999,
                55.7686,
                53.44399999999999,
                52.48729999999999,
                44.7676,
                41.9196,
                36.3035,
                32.9122,
                29.975,
                28.4175,
                28.3315,
                25.044,
                22.1521
               ],
               [
                49.5961,
                47.7337,
                43.1908,
                38.9314,
                36.263600000000004,
                31.8924,
                29.487800000000004,
                26.8387,
                24.3579,
                21.430100000000003,
                19.028599999999997,
                17.3175,
                14.005399999999998,
                12.7458,
                8.371410000000001
               ],
               [
                23.057800000000004,
                17.5486,
                16.7126,
                13.3939,
                14.566099999999999,
                10.6031,
                8.8884,
                7.374600000000001,
                6.118600000000001,
                5.521599999999999,
                5.4681,
                4.3352,
                5.0634500000000005,
                3.21858
               ],
               [
                45.682700000000004,
                33.5196,
                26.103899999999996,
                25.1486,
                20.2776,
                17.8308,
                15.093800000000002,
                13.983699999999999,
                12.1108,
                10.771199999999999,
                9.8005,
                9.96968,
                6.67553
               ],
               [
                55.5786,
                54.0046,
                46.7065,
                42.1293,
                38.6469,
                34.5147,
                28.571799999999996,
                27.7169,
                26.247500000000002,
                23.4443,
                28.382800000000003,
                18.3119
               ],
               [
                60.1498,
                52.1259,
                46.0388,
                38.2759,
                37.1303,
                33.1011,
                28.6244,
                26.1499,
                24.389499999999998,
                22.090500000000002,
                21.1654,
                18.8737,
                17.043599999999998,
                14.2473
               ],
               [
                55.055200000000006,
                41.6103,
                34.9899,
                31.851199999999995,
                30.3847,
                27.219899999999996,
                21.244200000000003,
                17.9424,
                17.6135,
                16.258300000000002,
                16.4701,
                14.865999999999998,
                15.854400000000002,
                15.5023,
                8.652239999999999
               ],
               [
                10.5778,
                9.4062,
                7.9374,
                7.691199999999999,
                5.810700000000001,
                4.8773,
                4.2046,
                3.1098,
                2.7923000000000004,
                1.3584,
                1.1485299999999998,
                0.601357,
                0.427821
               ],
               [
                28.838800000000003,
                26.2094,
                23.1883,
                20.34,
                19.2287,
                16.5516,
                15.835799999999999,
                14.6503,
                12.990599999999999,
                11.0001,
                9.676699999999999,
                7.9872,
                7.36904,
                4.65184
               ],
               [
                62.7016,
                49.1029,
                45.507299999999994,
                32.9063,
                32.615700000000004,
                27.660400000000003,
                23.8273,
                18.237000000000002,
                17.4029,
                15.6887,
                13.3686,
                13.148800000000001,
                11.131700000000002,
                9.72016,
                9.277560000000001
               ],
               [
                14.355,
                10.456900000000001,
                12.2695,
                12.4682,
                11.4489,
                9.3363,
                7.244400000000001,
                5.812100000000001,
                3.5444999999999998,
                2.6193999999999997,
                2.7906999999999997,
                2.439,
                2.03101,
                1.8644999999999998
               ],
               [
                61.775800000000004,
                59.20479999999999,
                54.0188,
                50.0816,
                45.4759,
                41.1526,
                38.578,
                37.1774,
                34.400999999999996,
                31.510500000000004,
                27.897100000000002,
                24.700300000000002,
                22.3188,
                18.6176,
                16.8297
               ],
               [
                61.449,
                54.1043,
                48.675799999999995,
                42.7109,
                38.2151,
                35.4541,
                34.2557,
                30.990100000000005,
                28.742600000000003,
                25.018800000000002,
                24.5673,
                21.753800000000002,
                19.294,
                16.5368,
                15.1114
               ],
               [
                28.8837,
                26.8504,
                20.055799999999998,
                16.3225,
                11.4878,
                8.217999999999998,
                8.129999999999999,
                6.2045,
                4.6610000000000005,
                4.0451,
                2.1806,
                1.8634000000000002,
                2.17226,
                2.87933
               ],
               [
                51.0695,
                44.50979999999999,
                39.0753,
                33.5841,
                31.4749,
                28.8796,
                26.6144,
                24.208600000000004,
                22.0869,
                20.6405,
                18.1785,
                17.407700000000002,
                15.826899999999998,
                11.5877
               ],
               [
                56.56,
                58.0418,
                51.1128,
                48.9287,
                39.67699999999999,
                35.9125,
                29.712300000000003,
                28.9528,
                27.665100000000002,
                24.106799999999996,
                21.0736,
                20.575900000000004,
                17.8498,
                12.883700000000001
               ],
               [
                17.892,
                15.9975,
                12.565299999999999,
                11.4451,
                9.647599999999999,
                8.1574,
                6.9689,
                5.7758,
                4.8836,
                4.9481,
                4.4412,
                4.6466,
                2.9555599999999997,
                2.42887
               ],
               [
                15.004100000000001,
                16.6096,
                10.9362,
                7.830900000000001,
                6.4088,
                5.229400000000001,
                4.6306,
                3.8380000000000005,
                3.1412999999999998,
                2.6907,
                1.4575,
                1.6597999999999997,
                1.1093,
                0.815016
               ],
               [
                62.600699999999996,
                59.7162,
                55.618199999999995,
                54.381299999999996,
                50.4725,
                45.5128,
                40.5034,
                34.4493,
                33.090199999999996,
                30.457299999999996,
                27.861200000000004,
                25.7892,
                22.7834,
                21.9699
               ],
               [
                57.7668,
                52.12520000000001,
                47.837799999999994,
                43.7474,
                38.5697,
                35.0734,
                32.7125,
                32.371100000000006,
                31.9737,
                28.1065,
                27.080399999999997,
                22.2718,
                19.6203,
                15.4835
               ],
               [
                43.166399999999996,
                42.5568,
                37.4361,
                33.077400000000004,
                18.0765,
                16.4418,
                12.9408,
                11.2524,
                9.45219
               ],
               [
                74.0058,
                69.1855,
                64.084,
                62.4846,
                57.200799999999994,
                54.214,
                47.7332,
                42.3709,
                38.6016,
                31.798,
                30.292399999999997,
                21.223499999999998,
                17.657899999999998
               ],
               [
                11.5674,
                9.523900000000001,
                14.791199999999998,
                8.6373,
                7.346,
                6.7702,
                4.6192,
                5.4401,
                3.7321,
                5.5001,
                4.5219000000000005,
                2.5349,
                4.310350000000001,
                1.81016
               ],
               [
                47.6602,
                43.4868,
                39.4563,
                39.7908,
                33.0011,
                28.447400000000002,
                29.095599999999997,
                27.982199999999995,
                22.5881,
                24.0583,
                22.128800000000002,
                21.8998,
                16.017500000000002,
                12.9976
               ],
               [
                41.6621,
                40.869699999999995,
                35.005399999999995,
                24.623800000000003,
                21.9014,
                17.488699999999998,
                19.5352,
                17.6766,
                15.2479,
                14.601,
                16.2579,
                15.0677,
                13.348199999999999,
                11.7072
               ],
               [
                28.207500000000003,
                29.0129,
                22.103,
                18.909100000000002,
                14.8081,
                12.6685,
                11.229700000000001,
                10.1114,
                7.9903,
                5.5322000000000005,
                6.1488000000000005,
                3.8535,
                4.308090000000001,
                3.17215
               ],
               [
                39.962399999999995,
                33.8414,
                28.091500000000003,
                24.8187,
                25.0907,
                23.1437,
                18.4872,
                17.459600000000002,
                15.124400000000001,
                13.426400000000003,
                12.9892,
                9.63129,
                9.897,
                9.93979
               ],
               [
                38.6559,
                33.7372,
                28.534499999999994,
                26.4777,
                20.3184,
                17.552599999999998,
                14.1075,
                15.365599999999999,
                12.9241,
                12.6404,
                11.23,
                9.83994,
                8.62301,
                6.936489999999999
               ],
               [
                70.64920000000001,
                64.55300000000001,
                57.0305,
                52.9343,
                51.2324,
                45.8108,
                42.0288,
                37.071,
                34.7154,
                33.3234,
                30.2869,
                26.6753,
                24.4864
               ],
               [
                64.18310000000001,
                61.5283,
                56.4226,
                54.30550000000001,
                48.0008,
                44.9473,
                40.7243,
                36.3322,
                27.971799999999998,
                26.0042,
                23.2026,
                17.7924,
                14.6994,
                13.407399999999999
               ],
               []
              ]
             }
            ],
            "label": "Individuals who have never used the internet",
            "method": "update"
           },
           {
            "args": [
             {
              "x": [
               [
                "2004-01-01 00:00:00",
                "2005-01-01 00:00:00",
                "2006-01-01 00:00:00",
                "2007-01-01 00:00:00",
                "2008-01-01 00:00:00",
                "2009-01-01 00:00:00",
                "2010-01-01 00:00:00",
                "2011-01-01 00:00:00",
                "2012-01-01 00:00:00",
                "2013-01-01 00:00:00",
                "2014-01-01 00:00:00",
                "2015-01-01 00:00:00",
                "2016-01-01 00:00:00",
                "2017-01-01 00:00:00",
                "2019-01-01 00:00:00"
               ],
               [
                "2003-01-01 00:00:00",
                "2004-01-01 00:00:00",
                "2005-01-01 00:00:00",
                "2006-01-01 00:00:00",
                "2007-01-01 00:00:00",
                "2008-01-01 00:00:00",
                "2009-01-01 00:00:00",
                "2010-01-01 00:00:00",
                "2011-01-01 00:00:00",
                "2012-01-01 00:00:00",
                "2013-01-01 00:00:00",
                "2014-01-01 00:00:00",
                "2015-01-01 00:00:00",
                "2016-01-01 00:00:00",
                "2017-01-01 00:00:00",
                "2018-01-01 00:00:00",
                "2019-01-01 00:00:00"
               ],
               [
                "2003-01-01 00:00:00",
                "2004-01-01 00:00:00",
                "2005-01-01 00:00:00",
                "2006-01-01 00:00:00",
                "2007-01-01 00:00:00",
                "2008-01-01 00:00:00",
                "2009-01-01 00:00:00",
                "2010-01-01 00:00:00",
                "2011-01-01 00:00:00",
                "2012-01-01 00:00:00",
                "2013-01-01 00:00:00",
                "2014-01-01 00:00:00",
                "2015-01-01 00:00:00",
                "2016-01-01 00:00:00",
                "2017-01-01 00:00:00",
                "2018-01-01 00:00:00",
                "2019-01-01 00:00:00"
               ],
               [
                "2003-01-01 00:00:00",
                "2004-01-01 00:00:00",
                "2005-01-01 00:00:00",
                "2006-01-01 00:00:00",
                "2007-01-01 00:00:00",
                "2008-01-01 00:00:00",
                "2009-01-01 00:00:00",
                "2010-01-01 00:00:00",
                "2011-01-01 00:00:00",
                "2012-01-01 00:00:00",
                "2013-01-01 00:00:00",
                "2014-01-01 00:00:00",
                "2015-01-01 00:00:00",
                "2016-01-01 00:00:00",
                "2017-01-01 00:00:00",
                "2019-01-01 00:00:00"
               ],
               [
                "2006-01-01 00:00:00",
                "2007-01-01 00:00:00",
                "2008-01-01 00:00:00",
                "2009-01-01 00:00:00",
                "2010-01-01 00:00:00",
                "2011-01-01 00:00:00",
                "2012-01-01 00:00:00",
                "2013-01-01 00:00:00",
                "2014-01-01 00:00:00",
                "2015-01-01 00:00:00",
                "2016-01-01 00:00:00",
                "2017-01-01 00:00:00",
                "2019-01-01 00:00:00"
               ],
               [
                "2007-01-01 00:00:00",
                "2008-01-01 00:00:00",
                "2009-01-01 00:00:00",
                "2010-01-01 00:00:00",
                "2011-01-01 00:00:00",
                "2012-01-01 00:00:00",
                "2013-01-01 00:00:00",
                "2014-01-01 00:00:00",
                "2015-01-01 00:00:00",
                "2016-01-01 00:00:00",
                "2017-01-01 00:00:00",
                "2019-01-01 00:00:00"
               ],
               [
                "2004-01-01 00:00:00",
                "2005-01-01 00:00:00",
                "2006-01-01 00:00:00",
                "2007-01-01 00:00:00",
                "2008-01-01 00:00:00",
                "2009-01-01 00:00:00",
                "2010-01-01 00:00:00",
                "2011-01-01 00:00:00",
                "2012-01-01 00:00:00",
                "2013-01-01 00:00:00",
                "2014-01-01 00:00:00",
                "2015-01-01 00:00:00",
                "2016-01-01 00:00:00",
                "2017-01-01 00:00:00",
                "2019-01-01 00:00:00"
               ],
               [
                "2003-01-01 00:00:00",
                "2004-01-01 00:00:00",
                "2005-01-01 00:00:00",
                "2006-01-01 00:00:00",
                "2007-01-01 00:00:00",
                "2008-01-01 00:00:00",
                "2009-01-01 00:00:00",
                "2010-01-01 00:00:00",
                "2011-01-01 00:00:00",
                "2012-01-01 00:00:00",
                "2013-01-01 00:00:00",
                "2014-01-01 00:00:00",
                "2015-01-01 00:00:00",
                "2016-01-01 00:00:00",
                "2017-01-01 00:00:00",
                "2019-01-01 00:00:00"
               ],
               [
                "2003-01-01 00:00:00",
                "2004-01-01 00:00:00",
                "2005-01-01 00:00:00",
                "2006-01-01 00:00:00",
                "2007-01-01 00:00:00",
                "2008-01-01 00:00:00",
                "2009-01-01 00:00:00",
                "2010-01-01 00:00:00",
                "2011-01-01 00:00:00",
                "2012-01-01 00:00:00",
                "2013-01-01 00:00:00",
                "2014-01-01 00:00:00",
                "2017-01-01 00:00:00",
                "2018-01-01 00:00:00",
                "2019-01-01 00:00:00"
               ],
               [
                "2003-01-01 00:00:00",
                "2004-01-01 00:00:00",
                "2005-01-01 00:00:00",
                "2006-01-01 00:00:00",
                "2007-01-01 00:00:00",
                "2008-01-01 00:00:00",
                "2009-01-01 00:00:00",
                "2010-01-01 00:00:00",
                "2011-01-01 00:00:00",
                "2012-01-01 00:00:00",
                "2013-01-01 00:00:00",
                "2014-01-01 00:00:00",
                "2015-01-01 00:00:00",
                "2016-01-01 00:00:00",
                "2017-01-01 00:00:00",
                "2019-01-01 00:00:00"
               ],
               [
                "2003-01-01 00:00:00",
                "2004-01-01 00:00:00",
                "2005-01-01 00:00:00",
                "2006-01-01 00:00:00",
                "2007-01-01 00:00:00",
                "2008-01-01 00:00:00",
                "2009-01-01 00:00:00",
                "2010-01-01 00:00:00",
                "2011-01-01 00:00:00",
                "2012-01-01 00:00:00",
                "2013-01-01 00:00:00",
                "2014-01-01 00:00:00",
                "2015-01-01 00:00:00",
                "2016-01-01 00:00:00",
                "2017-01-01 00:00:00",
                "2018-01-01 00:00:00",
                "2019-01-01 00:00:00"
               ],
               [
                "2003-01-01 00:00:00",
                "2004-01-01 00:00:00",
                "2005-01-01 00:00:00",
                "2006-01-01 00:00:00",
                "2007-01-01 00:00:00",
                "2008-01-01 00:00:00",
                "2009-01-01 00:00:00",
                "2010-01-01 00:00:00",
                "2011-01-01 00:00:00",
                "2012-01-01 00:00:00",
                "2013-01-01 00:00:00",
                "2014-01-01 00:00:00",
                "2015-01-01 00:00:00",
                "2016-01-01 00:00:00",
                "2017-01-01 00:00:00",
                "2019-01-01 00:00:00"
               ],
               [
                "2005-01-01 00:00:00",
                "2006-01-01 00:00:00",
                "2007-01-01 00:00:00",
                "2008-01-01 00:00:00",
                "2009-01-01 00:00:00",
                "2010-01-01 00:00:00",
                "2011-01-01 00:00:00",
                "2012-01-01 00:00:00",
                "2013-01-01 00:00:00",
                "2014-01-01 00:00:00",
                "2015-01-01 00:00:00",
                "2016-01-01 00:00:00",
                "2017-01-01 00:00:00",
                "2018-01-01 00:00:00",
                "2019-01-01 00:00:00"
               ],
               [
                "2003-01-01 00:00:00",
                "2004-01-01 00:00:00",
                "2005-01-01 00:00:00",
                "2006-01-01 00:00:00",
                "2007-01-01 00:00:00",
                "2008-01-01 00:00:00",
                "2009-01-01 00:00:00",
                "2010-01-01 00:00:00",
                "2011-01-01 00:00:00",
                "2012-01-01 00:00:00",
                "2013-01-01 00:00:00",
                "2014-01-01 00:00:00",
                "2015-01-01 00:00:00",
                "2016-01-01 00:00:00",
                "2017-01-01 00:00:00",
                "2018-01-01 00:00:00",
                "2019-01-01 00:00:00"
               ],
               [
                "2003-01-01 00:00:00",
                "2004-01-01 00:00:00",
                "2005-01-01 00:00:00",
                "2006-01-01 00:00:00",
                "2007-01-01 00:00:00",
                "2008-01-01 00:00:00",
                "2009-01-01 00:00:00",
                "2010-01-01 00:00:00",
                "2011-01-01 00:00:00",
                "2012-01-01 00:00:00",
                "2013-01-01 00:00:00",
                "2014-01-01 00:00:00",
                "2015-01-01 00:00:00",
                "2016-01-01 00:00:00",
                "2017-01-01 00:00:00",
                "2019-01-01 00:00:00"
               ],
               [
                "2004-01-01 00:00:00",
                "2005-01-01 00:00:00",
                "2006-01-01 00:00:00",
                "2007-01-01 00:00:00",
                "2008-01-01 00:00:00",
                "2009-01-01 00:00:00",
                "2010-01-01 00:00:00",
                "2011-01-01 00:00:00",
                "2012-01-01 00:00:00",
                "2013-01-01 00:00:00",
                "2014-01-01 00:00:00",
                "2015-01-01 00:00:00",
                "2016-01-01 00:00:00",
                "2017-01-01 00:00:00",
                "2019-01-01 00:00:00"
               ],
               [
                "2005-01-01 00:00:00",
                "2006-01-01 00:00:00",
                "2007-01-01 00:00:00",
                "2008-01-01 00:00:00",
                "2009-01-01 00:00:00",
                "2010-01-01 00:00:00",
                "2011-01-01 00:00:00",
                "2012-01-01 00:00:00",
                "2013-01-01 00:00:00",
                "2014-01-01 00:00:00",
                "2015-01-01 00:00:00",
                "2016-01-01 00:00:00",
                "2017-01-01 00:00:00",
                "2019-01-01 00:00:00"
               ],
               [
                "2005-01-01 00:00:00",
                "2006-01-01 00:00:00",
                "2007-01-01 00:00:00",
                "2008-01-01 00:00:00",
                "2009-01-01 00:00:00",
                "2010-01-01 00:00:00",
                "2011-01-01 00:00:00",
                "2012-01-01 00:00:00",
                "2013-01-01 00:00:00",
                "2014-01-01 00:00:00",
                "2015-01-01 00:00:00",
                "2016-01-01 00:00:00",
                "2017-01-01 00:00:00",
                "2019-01-01 00:00:00"
               ],
               [
                "2003-01-01 00:00:00",
                "2004-01-01 00:00:00",
                "2005-01-01 00:00:00",
                "2006-01-01 00:00:00",
                "2007-01-01 00:00:00",
                "2008-01-01 00:00:00",
                "2009-01-01 00:00:00",
                "2010-01-01 00:00:00",
                "2011-01-01 00:00:00",
                "2012-01-01 00:00:00",
                "2013-01-01 00:00:00",
                "2014-01-01 00:00:00",
                "2015-01-01 00:00:00",
                "2016-01-01 00:00:00",
                "2017-01-01 00:00:00",
                "2019-01-01 00:00:00"
               ],
               [
                "2003-01-01 00:00:00",
                "2004-01-01 00:00:00",
                "2005-01-01 00:00:00",
                "2006-01-01 00:00:00",
                "2007-01-01 00:00:00",
                "2008-01-01 00:00:00",
                "2009-01-01 00:00:00",
                "2010-01-01 00:00:00",
                "2011-01-01 00:00:00",
                "2012-01-01 00:00:00",
                "2013-01-01 00:00:00",
                "2014-01-01 00:00:00",
                "2015-01-01 00:00:00",
                "2016-01-01 00:00:00",
                "2017-01-01 00:00:00",
                "2018-01-01 00:00:00",
                "2019-01-01 00:00:00"
               ],
               [
                "2004-01-01 00:00:00",
                "2005-01-01 00:00:00",
                "2006-01-01 00:00:00",
                "2007-01-01 00:00:00",
                "2008-01-01 00:00:00",
                "2009-01-01 00:00:00",
                "2010-01-01 00:00:00",
                "2011-01-01 00:00:00",
                "2012-01-01 00:00:00",
                "2013-01-01 00:00:00",
                "2014-01-01 00:00:00",
                "2015-01-01 00:00:00",
                "2016-01-01 00:00:00",
                "2017-01-01 00:00:00",
                "2019-01-01 00:00:00"
               ],
               [
                "2005-01-01 00:00:00",
                "2006-01-01 00:00:00",
                "2007-01-01 00:00:00",
                "2008-01-01 00:00:00",
                "2014-01-01 00:00:00",
                "2015-01-01 00:00:00",
                "2017-01-01 00:00:00",
                "2018-01-01 00:00:00",
                "2019-01-01 00:00:00"
               ],
               [
                "2004-01-01 00:00:00",
                "2006-01-01 00:00:00",
                "2007-01-01 00:00:00",
                "2008-01-01 00:00:00",
                "2009-01-01 00:00:00",
                "2010-01-01 00:00:00",
                "2011-01-01 00:00:00",
                "2012-01-01 00:00:00",
                "2013-01-01 00:00:00",
                "2014-01-01 00:00:00",
                "2015-01-01 00:00:00",
                "2016-01-01 00:00:00",
                "2018-01-01 00:00:00",
                "2019-01-01 00:00:00"
               ],
               [
                "2003-01-01 00:00:00",
                "2004-01-01 00:00:00",
                "2005-01-01 00:00:00",
                "2006-01-01 00:00:00",
                "2007-01-01 00:00:00",
                "2008-01-01 00:00:00",
                "2009-01-01 00:00:00",
                "2010-01-01 00:00:00",
                "2011-01-01 00:00:00",
                "2012-01-01 00:00:00",
                "2013-01-01 00:00:00",
                "2014-01-01 00:00:00",
                "2015-01-01 00:00:00",
                "2016-01-01 00:00:00",
                "2018-01-01 00:00:00",
                "2019-01-01 00:00:00"
               ],
               [
                "2004-01-01 00:00:00",
                "2005-01-01 00:00:00",
                "2006-01-01 00:00:00",
                "2007-01-01 00:00:00",
                "2008-01-01 00:00:00",
                "2009-01-01 00:00:00",
                "2010-01-01 00:00:00",
                "2011-01-01 00:00:00",
                "2012-01-01 00:00:00",
                "2013-01-01 00:00:00",
                "2014-01-01 00:00:00",
                "2015-01-01 00:00:00",
                "2016-01-01 00:00:00",
                "2018-01-01 00:00:00",
                "2019-01-01 00:00:00"
               ],
               [
                "2004-01-01 00:00:00",
                "2005-01-01 00:00:00",
                "2006-01-01 00:00:00",
                "2007-01-01 00:00:00",
                "2008-01-01 00:00:00",
                "2009-01-01 00:00:00",
                "2010-01-01 00:00:00",
                "2011-01-01 00:00:00",
                "2012-01-01 00:00:00",
                "2013-01-01 00:00:00",
                "2014-01-01 00:00:00",
                "2015-01-01 00:00:00",
                "2016-01-01 00:00:00",
                "2018-01-01 00:00:00",
                "2019-01-01 00:00:00"
               ],
               [
                "2003-01-01 00:00:00",
                "2004-01-01 00:00:00",
                "2005-01-01 00:00:00",
                "2006-01-01 00:00:00",
                "2007-01-01 00:00:00",
                "2008-01-01 00:00:00",
                "2009-01-01 00:00:00",
                "2010-01-01 00:00:00",
                "2012-01-01 00:00:00",
                "2013-01-01 00:00:00",
                "2014-01-01 00:00:00",
                "2015-01-01 00:00:00",
                "2016-01-01 00:00:00",
                "2018-01-01 00:00:00",
                "2019-01-01 00:00:00"
               ],
               [
                "2003-01-01 00:00:00",
                "2004-01-01 00:00:00",
                "2005-01-01 00:00:00",
                "2006-01-01 00:00:00",
                "2007-01-01 00:00:00",
                "2008-01-01 00:00:00",
                "2009-01-01 00:00:00",
                "2010-01-01 00:00:00",
                "2011-01-01 00:00:00",
                "2012-01-01 00:00:00",
                "2013-01-01 00:00:00",
                "2014-01-01 00:00:00",
                "2015-01-01 00:00:00",
                "2016-01-01 00:00:00",
                "2017-01-01 00:00:00",
                "2018-01-01 00:00:00",
                "2019-01-01 00:00:00"
               ],
               [
                "2005-01-01 00:00:00",
                "2006-01-01 00:00:00",
                "2007-01-01 00:00:00",
                "2008-01-01 00:00:00",
                "2009-01-01 00:00:00",
                "2010-01-01 00:00:00",
                "2011-01-01 00:00:00",
                "2012-01-01 00:00:00",
                "2013-01-01 00:00:00",
                "2014-01-01 00:00:00",
                "2015-01-01 00:00:00",
                "2016-01-01 00:00:00",
                "2017-01-01 00:00:00",
                "2018-01-01 00:00:00",
                "2019-01-01 00:00:00"
               ],
               [
                "2004-01-01 00:00:00",
                "2006-01-01 00:00:00",
                "2007-01-01 00:00:00",
                "2008-01-01 00:00:00",
                "2009-01-01 00:00:00",
                "2010-01-01 00:00:00",
                "2011-01-01 00:00:00",
                "2012-01-01 00:00:00",
                "2013-01-01 00:00:00",
                "2014-01-01 00:00:00",
                "2015-01-01 00:00:00",
                "2016-01-01 00:00:00",
                "2017-01-01 00:00:00",
                "2018-01-01 00:00:00",
                "2019-01-01 00:00:00"
               ],
               [
                "2004-01-01 00:00:00",
                "2005-01-01 00:00:00",
                "2006-01-01 00:00:00",
                "2007-01-01 00:00:00",
                "2008-01-01 00:00:00",
                "2009-01-01 00:00:00",
                "2010-01-01 00:00:00",
                "2011-01-01 00:00:00",
                "2012-01-01 00:00:00",
                "2013-01-01 00:00:00",
                "2014-01-01 00:00:00",
                "2015-01-01 00:00:00",
                "2016-01-01 00:00:00",
                "2017-01-01 00:00:00",
                "2018-01-01 00:00:00",
                "2019-01-01 00:00:00"
               ],
               []
              ],
              "y": [
               [
                35.0307,
                43.8534,
                48.1567,
                52.593599999999995,
                55.2044,
                61.6255,
                65.1095,
                67.58539999999999,
                68.0626,
                72.2159,
                76.5624,
                80.6728,
                78.586,
                79.22829999999999,
                80.719
               ],
               [
                1.3429,
                1.2975,
                1.3653,
                2.461,
                3.9031999999999996,
                5.0574,
                5.3824000000000005,
                5.706799999999999,
                8.5956,
                9.1305,
                10.7217,
                13.144300000000001,
                13.869700000000002,
                19.159499999999998,
                25.1218,
                27.2785,
                30.514499999999998
               ],
               [
                9.9293,
                12.0227,
                13.647599999999999,
                14.7931,
                15.8894,
                18.9699,
                22.559099999999997,
                25.991799999999998,
                27.4131,
                30.838000000000005,
                32.907,
                37.4242,
                39.372800000000005,
                43.1479,
                46.1768,
                48.6614,
                54.8817
               ],
               [
                43.403800000000004,
                50.314099999999996,
                56.257200000000005,
                62.824099999999994,
                66.4545,
                71.5441,
                71.8673,
                76.3736,
                79.1991,
                81.96690000000001,
                84.3967,
                85.60700000000001,
                85.6752,
                86.41469999999998,
                87.41250000000001,
                90.71809999999999
               ],
               [
                18.0583,
                34.2699,
                40.0842,
                43.3095,
                50.477700000000006,
                50.8977,
                54.037200000000006,
                57.5608,
                57.595200000000006,
                58.27909999999999,
                59.3557,
                62.0078,
                65.5465
               ],
               [
                9.032000000000002,
                13.3795,
                16.420399999999997,
                20.252200000000002,
                20.348399999999998,
                20.684,
                23.3226,
                19.1354,
                32.896,
                38.333099999999995,
                33.299299999999995,
                46.461800000000004
               ],
               [
                2.6637999999999997,
                5.7847,
                8.129999999999999,
                11.423599999999999,
                13.3049,
                15.609300000000001,
                19.1645,
                21.0234,
                25.6307,
                26.897100000000002,
                30.521700000000003,
                33.801199999999994,
                35.2561,
                37.6994,
                46.701
               ],
               [
                8.0687,
                10.4799,
                12.670499999999999,
                20.5636,
                24.594499999999996,
                28.018200000000004,
                30.1282,
                33.5456,
                32.5777,
                42.73020000000001,
                45.5795,
                48.11149999999999,
                51.4668,
                52.340900000000005,
                57.6381,
                67.3902
               ],
               [
                47.676,
                53.5906,
                60.923300000000005,
                66.7568,
                72.2359,
                67.6085,
                72.3561,
                77.1015,
                80.4277,
                86.24700000000001,
                86.7397,
                91.3981,
                93.02040000000001,
                94.2876,
                94.25889999999998
               ],
               [
                20.652199999999997,
                26.424799999999998,
                null,
                31.735999999999997,
                35.4528,
                38.244,
                40.89,
                42.6559,
                45.2517,
                45.0651,
                47.1233,
                48.7628,
                50.982099999999996,
                52.965799999999994,
                55.56300000000001,
                61.102500000000006
               ],
               [
                3.3668000000000005,
                4.8827,
                5.155399999999999,
                9.7229,
                11.5443,
                14.4986,
                18.455,
                22.522199999999998,
                29.6354,
                34.5377,
                41.493199999999995,
                46.046800000000005,
                48.4422,
                51.360099999999996,
                56.5515,
                62.4208,
                67.9645
               ],
               [
                37.516,
                44.886199999999995,
                48.6781,
                57.16180000000001,
                56.8037,
                61.44310000000001,
                66.0985,
                70.5389,
                74.9678,
                79.35079999999999,
                82.46209999999999,
                84.28129999999999,
                84.88709999999999,
                87.8646,
                89.772,
                90.779
               ],
               [
                7.635599999999999,
                8.9453,
                11.8797,
                13.2258,
                15.933,
                17.5783,
                19.7321,
                20.6573,
                21.7154,
                26.0708,
                28.0565,
                28.9586,
                30.8313,
                33.834399999999995,
                36.3091
               ],
               [
                3.4868,
                6.742299999999999,
                10.2728,
                14.7256,
                20.959899999999998,
                27.166599999999995,
                32.3921,
                36.8429,
                40.147,
                42.7024,
                46.4221,
                53.5678,
                50.1634,
                54.1991,
                56.1886,
                60.6213,
                64.7275
               ],
               [
                23.2568,
                34.5543,
                37.1194,
                40.8294,
                45.6147,
                48.43189999999999,
                53.74770000000001,
                56.360299999999995,
                58.5753,
                63.4574,
                62.9301,
                66.508,
                65.09729999999999,
                70.909,
                76.4204,
                70.59649999999999
               ],
               [
                11.7141,
                15.597800000000001,
                22.1282,
                27.8441,
                38.6263,
                42.1943,
                47.458999999999996,
                53.1501,
                47.136,
                54.889500000000005,
                56.7634,
                64.3217,
                62.0831,
                61.187000000000005,
                71.58109999999999
               ],
               [
                15.987699999999998,
                16.008300000000002,
                21.845,
                25.2012,
                32.2547,
                37.6769,
                42.045,
                41.09890000000001,
                43.240100000000005,
                44.978199999999994,
                47.4889,
                47.0321,
                50.013,
                53.8763
               ],
               [
                49.6228,
                58.727,
                65.0591,
                68.59779999999999,
                73.2352,
                77.3067,
                79.0281,
                80.3116,
                82.0088,
                83.4268,
                84.5325,
                84.69069999999999,
                88.912,
                90.6284
               ],
               [
                48.601400000000005,
                54.5165,
                61.8733,
                66.5141,
                70.8118,
                74.9901,
                77.2397,
                83.4797,
                85.1245,
                86.4353,
                86.80879999999999,
                89.2332,
                90.3672,
                91.2266,
                92.33690000000001,
                95.233
               ],
               [
                6.082999999999999,
                7.5972,
                8.4088,
                9.7902,
                11.665799999999999,
                13.5853,
                17.0002,
                19.477,
                22.335,
                24.6206,
                22.6203,
                25.2702,
                28.2161,
                28.874299999999998,
                31.290300000000006,
                38.5485,
                41.9467
               ],
               [
                4.0328,
                5.878,
                9.1247,
                12.793099999999999,
                17.1344,
                21.2364,
                25.305100000000003,
                27.4638,
                31.955,
                32.011100000000006,
                32.587500000000006,
                31.201100000000004,
                39.1123,
                39.7654,
                47.268
               ],
               [
                19.384,
                20.766299999999998,
                25.2716,
                28.813100000000002,
                44.0991,
                45.5263,
                51.3451,
                54.276599999999995,
                57.509
               ],
               [
                0.40490000000000004,
                0.6294,
                1.6853,
                1.9890999999999999,
                2.3472,
                3.3032,
                3.5082999999999998,
                3.4523000000000006,
                4.2965,
                4.1638,
                5.3353,
                5.0571,
                6.866269999999999,
                8.358780000000001
               ],
               [
                38.346199999999996,
                40.3013,
                50.6677,
                56.922200000000004,
                56.6894,
                64.5306,
                70.68039999999999,
                75.00959999999999,
                77.8872,
                79.20479999999999,
                81.8133,
                81.66250000000001,
                79.63799999999999,
                83.18969999999999,
                83.8593,
                84.4717
               ],
               [
                8.6343,
                11.527999999999999,
                16.122,
                19.1338,
                20.9774,
                24.4704,
                28.5325,
                30.973200000000002,
                28.078200000000002,
                32.3146,
                32.2806,
                33.6614,
                35.220600000000005,
                41.924499999999995,
                47.13100000000001
               ],
               [
                10.1104,
                10.1128,
                12.587599999999998,
                15.190100000000001,
                24.4344,
                26.31,
                32.8185,
                33.8519,
                39.5398,
                38.7396,
                40.5901,
                37.2707,
                45.370900000000006,
                49.803599999999996,
                54.770799999999994
               ],
               [
                22.3301,
                22.4433,
                26.8966,
                27.7623,
                32.1766,
                37.6416,
                44.8504,
                45.477000000000004,
                51.55109999999999,
                54.0212,
                56.845,
                58.382,
                64.16159999999999,
                73.8823,
                77.704
               ],
               [
                12.512300000000002,
                18.282400000000003,
                22.016599999999997,
                27.1687,
                29.7466,
                33.7357,
                34.6057,
                37.9464,
                43.9418,
                45.346599999999995,
                48.604899999999994,
                47.952,
                51.0279,
                53.3403,
                57.4939,
                58.408300000000004,
                62.77779999999999
               ],
               [
                23.408299999999997,
                28.3556,
                34.7646,
                39.3306,
                46.0312,
                51.0278,
                54.3389,
                55.7659,
                57.8268,
                61.243900000000004,
                62.2757,
                64.4818,
                66.62989999999999,
                68.74249999999999,
                71.182
               ],
               [
                0.5703,
                1.3397,
                1.6563999999999999,
                1.5156,
                1.8392,
                2.4833000000000003,
                3.1967000000000003,
                3.6087000000000002,
                4.5737,
                4.7022,
                5.3483,
                4.4047,
                5.485530000000001,
                7.370450000000001,
                8.57286
               ],
               [
                4.0824,
                5.6537999999999995,
                6.0603,
                11.9288,
                11.4454,
                15.4276,
                17.4827,
                20.3442,
                20.9615,
                23.2573,
                24.204,
                20.4735,
                27.718300000000003,
                27.587600000000002,
                33.2806,
                40.536100000000005
               ],
               []
              ]
             }
            ],
            "label": "Individuals using online banking",
            "method": "update"
           },
           {
            "args": [
             {
              "x": [
               [
                "2008-01-01 00:00:00",
                "2009-01-01 00:00:00",
                "2010-01-01 00:00:00",
                "2012-01-01 00:00:00",
                "2014-01-01 00:00:00",
                "2015-01-01 00:00:00",
                "2016-01-01 00:00:00",
                "2017-01-01 00:00:00",
                "2019-01-01 00:00:00"
               ],
               [
                "2008-01-01 00:00:00",
                "2009-01-01 00:00:00",
                "2010-01-01 00:00:00",
                "2012-01-01 00:00:00",
                "2014-01-01 00:00:00",
                "2015-01-01 00:00:00",
                "2016-01-01 00:00:00",
                "2017-01-01 00:00:00",
                "2019-01-01 00:00:00"
               ],
               [
                "2008-01-01 00:00:00",
                "2009-01-01 00:00:00",
                "2010-01-01 00:00:00",
                "2012-01-01 00:00:00",
                "2014-01-01 00:00:00",
                "2015-01-01 00:00:00",
                "2016-01-01 00:00:00",
                "2017-01-01 00:00:00",
                "2019-01-01 00:00:00"
               ],
               [
                "2008-01-01 00:00:00",
                "2009-01-01 00:00:00",
                "2010-01-01 00:00:00",
                "2012-01-01 00:00:00",
                "2014-01-01 00:00:00",
                "2015-01-01 00:00:00",
                "2016-01-01 00:00:00",
                "2017-01-01 00:00:00",
                "2019-01-01 00:00:00"
               ],
               [
                "2008-01-01 00:00:00",
                "2009-01-01 00:00:00",
                "2010-01-01 00:00:00",
                "2012-01-01 00:00:00",
                "2014-01-01 00:00:00",
                "2015-01-01 00:00:00",
                "2016-01-01 00:00:00",
                "2017-01-01 00:00:00",
                "2019-01-01 00:00:00"
               ],
               [
                "2008-01-01 00:00:00",
                "2009-01-01 00:00:00",
                "2010-01-01 00:00:00",
                "2012-01-01 00:00:00",
                "2014-01-01 00:00:00",
                "2015-01-01 00:00:00",
                "2016-01-01 00:00:00",
                "2017-01-01 00:00:00",
                "2019-01-01 00:00:00"
               ],
               [
                "2008-01-01 00:00:00",
                "2009-01-01 00:00:00",
                "2010-01-01 00:00:00",
                "2012-01-01 00:00:00",
                "2014-01-01 00:00:00",
                "2015-01-01 00:00:00",
                "2016-01-01 00:00:00",
                "2017-01-01 00:00:00",
                "2019-01-01 00:00:00"
               ],
               [
                "2008-01-01 00:00:00",
                "2009-01-01 00:00:00",
                "2010-01-01 00:00:00",
                "2012-01-01 00:00:00",
                "2014-01-01 00:00:00",
                "2015-01-01 00:00:00",
                "2016-01-01 00:00:00",
                "2017-01-01 00:00:00",
                "2019-01-01 00:00:00"
               ],
               [
                "2008-01-01 00:00:00",
                "2009-01-01 00:00:00",
                "2010-01-01 00:00:00",
                "2012-01-01 00:00:00",
                "2014-01-01 00:00:00",
                "2017-01-01 00:00:00",
                "2019-01-01 00:00:00"
               ],
               [
                "2008-01-01 00:00:00",
                "2009-01-01 00:00:00",
                "2010-01-01 00:00:00",
                "2012-01-01 00:00:00",
                "2014-01-01 00:00:00",
                "2015-01-01 00:00:00",
                "2016-01-01 00:00:00",
                "2017-01-01 00:00:00",
                "2019-01-01 00:00:00"
               ],
               [
                "2008-01-01 00:00:00",
                "2009-01-01 00:00:00",
                "2010-01-01 00:00:00",
                "2012-01-01 00:00:00",
                "2014-01-01 00:00:00",
                "2015-01-01 00:00:00",
                "2016-01-01 00:00:00",
                "2017-01-01 00:00:00",
                "2019-01-01 00:00:00"
               ],
               [
                "2008-01-01 00:00:00",
                "2009-01-01 00:00:00",
                "2010-01-01 00:00:00",
                "2012-01-01 00:00:00",
                "2014-01-01 00:00:00",
                "2015-01-01 00:00:00",
                "2016-01-01 00:00:00",
                "2017-01-01 00:00:00",
                "2019-01-01 00:00:00"
               ],
               [
                "2008-01-01 00:00:00",
                "2009-01-01 00:00:00",
                "2010-01-01 00:00:00",
                "2012-01-01 00:00:00",
                "2014-01-01 00:00:00",
                "2015-01-01 00:00:00",
                "2016-01-01 00:00:00",
                "2017-01-01 00:00:00",
                "2019-01-01 00:00:00"
               ],
               [
                "2008-01-01 00:00:00",
                "2009-01-01 00:00:00",
                "2010-01-01 00:00:00",
                "2012-01-01 00:00:00",
                "2014-01-01 00:00:00",
                "2015-01-01 00:00:00",
                "2016-01-01 00:00:00",
                "2017-01-01 00:00:00",
                "2019-01-01 00:00:00"
               ],
               [
                "2008-01-01 00:00:00",
                "2009-01-01 00:00:00",
                "2010-01-01 00:00:00",
                "2012-01-01 00:00:00",
                "2014-01-01 00:00:00",
                "2015-01-01 00:00:00",
                "2016-01-01 00:00:00",
                "2017-01-01 00:00:00",
                "2019-01-01 00:00:00"
               ],
               [
                "2008-01-01 00:00:00",
                "2009-01-01 00:00:00",
                "2010-01-01 00:00:00",
                "2012-01-01 00:00:00",
                "2014-01-01 00:00:00",
                "2015-01-01 00:00:00",
                "2016-01-01 00:00:00",
                "2017-01-01 00:00:00",
                "2019-01-01 00:00:00"
               ],
               [
                "2008-01-01 00:00:00",
                "2009-01-01 00:00:00",
                "2010-01-01 00:00:00",
                "2012-01-01 00:00:00",
                "2014-01-01 00:00:00",
                "2015-01-01 00:00:00",
                "2016-01-01 00:00:00",
                "2017-01-01 00:00:00",
                "2019-01-01 00:00:00"
               ],
               [
                "2008-01-01 00:00:00",
                "2009-01-01 00:00:00",
                "2010-01-01 00:00:00",
                "2012-01-01 00:00:00",
                "2014-01-01 00:00:00",
                "2015-01-01 00:00:00",
                "2016-01-01 00:00:00",
                "2017-01-01 00:00:00",
                "2019-01-01 00:00:00"
               ],
               [
                "2008-01-01 00:00:00",
                "2009-01-01 00:00:00",
                "2010-01-01 00:00:00",
                "2012-01-01 00:00:00",
                "2014-01-01 00:00:00",
                "2015-01-01 00:00:00",
                "2016-01-01 00:00:00",
                "2017-01-01 00:00:00",
                "2019-01-01 00:00:00"
               ],
               [
                "2008-01-01 00:00:00",
                "2009-01-01 00:00:00",
                "2010-01-01 00:00:00",
                "2012-01-01 00:00:00",
                "2014-01-01 00:00:00",
                "2015-01-01 00:00:00",
                "2016-01-01 00:00:00",
                "2019-01-01 00:00:00"
               ],
               [
                "2008-01-01 00:00:00",
                "2009-01-01 00:00:00",
                "2010-01-01 00:00:00",
                "2012-01-01 00:00:00",
                "2014-01-01 00:00:00",
                "2015-01-01 00:00:00",
                "2016-01-01 00:00:00",
                "2017-01-01 00:00:00",
                "2019-01-01 00:00:00"
               ],
               [
                "2008-01-01 00:00:00",
                "2014-01-01 00:00:00",
                "2015-01-01 00:00:00",
                "2017-01-01 00:00:00"
               ],
               [
                "2008-01-01 00:00:00",
                "2009-01-01 00:00:00",
                "2010-01-01 00:00:00",
                "2012-01-01 00:00:00",
                "2014-01-01 00:00:00",
                "2015-01-01 00:00:00",
                "2016-01-01 00:00:00",
                "2019-01-01 00:00:00"
               ],
               [
                "2008-01-01 00:00:00",
                "2009-01-01 00:00:00",
                "2010-01-01 00:00:00",
                "2012-01-01 00:00:00",
                "2014-01-01 00:00:00",
                "2015-01-01 00:00:00",
                "2016-01-01 00:00:00",
                "2019-01-01 00:00:00"
               ],
               [
                "2008-01-01 00:00:00",
                "2009-01-01 00:00:00",
                "2010-01-01 00:00:00",
                "2012-01-01 00:00:00",
                "2014-01-01 00:00:00",
                "2015-01-01 00:00:00",
                "2016-01-01 00:00:00",
                "2019-01-01 00:00:00"
               ],
               [
                "2008-01-01 00:00:00",
                "2009-01-01 00:00:00",
                "2010-01-01 00:00:00",
                "2012-01-01 00:00:00",
                "2014-01-01 00:00:00",
                "2015-01-01 00:00:00",
                "2016-01-01 00:00:00",
                "2019-01-01 00:00:00"
               ],
               [
                "2008-01-01 00:00:00",
                "2009-01-01 00:00:00",
                "2010-01-01 00:00:00",
                "2012-01-01 00:00:00",
                "2014-01-01 00:00:00",
                "2015-01-01 00:00:00",
                "2016-01-01 00:00:00",
                "2019-01-01 00:00:00"
               ],
               [
                "2008-01-01 00:00:00",
                "2009-01-01 00:00:00",
                "2010-01-01 00:00:00",
                "2012-01-01 00:00:00",
                "2014-01-01 00:00:00",
                "2015-01-01 00:00:00",
                "2016-01-01 00:00:00",
                "2017-01-01 00:00:00",
                "2019-01-01 00:00:00"
               ],
               [
                "2008-01-01 00:00:00",
                "2009-01-01 00:00:00",
                "2010-01-01 00:00:00",
                "2012-01-01 00:00:00",
                "2014-01-01 00:00:00",
                "2015-01-01 00:00:00",
                "2016-01-01 00:00:00",
                "2017-01-01 00:00:00",
                "2019-01-01 00:00:00"
               ],
               [
                "2008-01-01 00:00:00",
                "2009-01-01 00:00:00",
                "2010-01-01 00:00:00",
                "2012-01-01 00:00:00",
                "2014-01-01 00:00:00",
                "2015-01-01 00:00:00",
                "2016-01-01 00:00:00",
                "2017-01-01 00:00:00",
                "2019-01-01 00:00:00"
               ],
               [
                "2008-01-01 00:00:00",
                "2009-01-01 00:00:00",
                "2010-01-01 00:00:00",
                "2012-01-01 00:00:00",
                "2014-01-01 00:00:00",
                "2015-01-01 00:00:00",
                "2016-01-01 00:00:00",
                "2017-01-01 00:00:00",
                "2019-01-01 00:00:00"
               ],
               []
              ],
              "y": [
               [
                21.6023,
                29.984899999999996,
                31.847900000000003,
                30.988899999999997,
                25.641599999999997,
                37.9105,
                29.0209,
                37.9046,
                36.1235
               ],
               [
                4.4628,
                8.713,
                9.5817,
                17.9817,
                21.650100000000002,
                23.247,
                24.1332,
                32.344899999999996,
                34.9442
               ],
               [
                8.1837,
                18.8207,
                23.0026,
                31.7443,
                35.119699999999995,
                32.3876,
                30.8965,
                35.72260000000001,
                31.3417
               ],
               [
                9.3828,
                18.3563,
                15.127100000000002,
                30.4478,
                38.4387,
                26.623800000000003,
                24.533600000000003,
                28.0016,
                26.885399999999997
               ],
               [
                17.188399999999998,
                23.142100000000003,
                26.472099999999998,
                28.9173,
                null,
                24.3185,
                23.284899999999997,
                26.1067,
                22.9897
               ],
               [
                6.0739,
                20.602800000000002,
                10.5043,
                31.354899999999997,
                14.4738,
                18.3138,
                19.0218,
                24.599200000000003,
                30.663
               ],
               [
                16.6587,
                28.273200000000003,
                33.4521,
                37.012299999999996,
                36.769,
                42.3512,
                36.1033,
                41.1631,
                28.097300000000004
               ],
               [
                7.8262,
                12.563099999999999,
                13.9577,
                28.8613,
                34.706399999999995,
                34.6038,
                36.9581,
                39.596399999999996,
                37.2532
               ],
               [
                19.970399999999998,
                43.178599999999996,
                41.362899999999996,
                58.44239999999999,
                56.3203,
                68.30199999999999,
                64.3334
               ],
               [
                14.480199999999998,
                23.3398,
                21.7719,
                23.790100000000002,
                23.2233,
                30.0658,
                20.6849,
                30.293799999999997,
                35.409600000000005
               ],
               [
                1.9918000000000002,
                5.0996,
                6.391900000000001,
                0.0824,
                15.2862,
                18.834200000000003,
                33.2116,
                35.3057,
                41.3857
               ],
               [
                13.5476,
                33.056999999999995,
                37.281,
                43.2404,
                51.15350000000001,
                50.97229999999999,
                42.230500000000006,
                50.1999,
                52.200500000000005
               ],
               [
                6.5328,
                16.8868,
                18.7372,
                17.9952,
                21.406,
                21.7417,
                22.3437,
                21.91,
                22.4921
               ],
               [
                7.5937,
                25.344099999999997,
                28.005799999999997,
                29.9479,
                35.2618,
                32.5723,
                37.4585,
                36.9141,
                34.1222
               ],
               [
                15.0196,
                37.9823,
                35.0088,
                30.3952,
                26.9239,
                46.930299999999995,
                43.5593,
                47.6119,
                32.817299999999996
               ],
               [
                19.341900000000003,
                33.801199999999994,
                38.4521,
                32.0833,
                28.9238,
                28.1156,
                28.696700000000003,
                31.645300000000002,
                24.4131
               ],
               [
                5.3159,
                9.481,
                11.6273,
                10.2357,
                24.4633,
                34.4488,
                28.626,
                50.0934,
                32.6964
               ],
               [
                18.9046,
                26.1312,
                26.632499999999997,
                47.70609999999999,
                49.8552,
                47.2016,
                45.97520000000001,
                51.7138,
                52.91289999999999
               ],
               [
                11.736500000000001,
                24.2367,
                26.5359,
                26.6388,
                29.8709,
                34.706900000000005,
                26.960700000000003,
                37.7156,
                43.6968
               ],
               [
                7.0642,
                12.326300000000002,
                20.575,
                32.7845,
                37.56,
                42.2298,
                40.346900000000005,
                39.426899999999996
               ],
               [
                7.112499999999999,
                10.784699999999999,
                11.2698,
                14.7029,
                12.4675,
                12.4544,
                15.3081,
                22.3137,
                21.0697
               ],
               [
                11.4387,
                25.949499999999997,
                29.0074,
                33.112700000000004
               ],
               [
                5.427499999999999,
                14.2569,
                15.448599999999999,
                14.5277,
                13.807,
                20.688100000000002,
                18.337699999999998,
                14.771400000000002
               ],
               [
                14.791300000000001,
                21.2009,
                27.590500000000002,
                34.164899999999996,
                42.503299999999996,
                37.776900000000005,
                30.926199999999998,
                37.497600000000006
               ],
               [
                9.9201,
                22.8692,
                28.657500000000002,
                22.763699999999996,
                27.053,
                27.272299999999998,
                24.8696,
                30.043200000000002
               ],
               [
                4.4768,
                7.292999999999999,
                9.2469,
                20.876399999999997,
                17.6963,
                5.87,
                17.397399999999998,
                20.2979
               ],
               [
                18.541,
                33.1599,
                31.7693,
                38.4983,
                23.5011,
                45.4043,
                50.53890000000001,
                37.7805
               ],
               [
                7.5822,
                16.6672,
                19.6301,
                24.926,
                20.951700000000002,
                28.9221,
                19.3251,
                22.906599999999997,
                21.3063
               ],
               [
                5.464099999999999,
                17.7911,
                17.8533,
                20.4372,
                22.171999999999997,
                21.7641,
                25.177599999999998,
                21.714699999999997,
                22.832600000000003
               ],
               [
                2.5689,
                8.069700000000001,
                12.218699999999998,
                15.878699999999998,
                19.4771,
                20.6096,
                21.1824,
                29.081999999999997,
                19.599700000000002
               ],
               [
                5.947100000000001,
                17.3031,
                19.1327,
                29.2031,
                42.5237,
                40.5918,
                45.7631,
                54.123999999999995,
                38.9317
               ],
               []
              ]
             }
            ],
            "label": "Individuals uploading self-created content to be shared",
            "method": "update"
           },
           {
            "args": [
             {
              "x": [
               [
                "2011-01-01 00:00:00",
                "2013-01-01 00:00:00",
                "2014-01-01 00:00:00",
                "2015-01-01 00:00:00",
                "2016-01-01 00:00:00",
                "2017-01-01 00:00:00",
                "2019-01-01 00:00:00"
               ],
               [
                "2011-01-01 00:00:00",
                "2013-01-01 00:00:00",
                "2014-01-01 00:00:00",
                "2015-01-01 00:00:00",
                "2016-01-01 00:00:00",
                "2017-01-01 00:00:00",
                "2018-01-01 00:00:00",
                "2019-01-01 00:00:00"
               ],
               [
                "2011-01-01 00:00:00",
                "2013-01-01 00:00:00",
                "2014-01-01 00:00:00",
                "2015-01-01 00:00:00",
                "2016-01-01 00:00:00",
                "2017-01-01 00:00:00",
                "2019-01-01 00:00:00"
               ],
               [
                "2011-01-01 00:00:00",
                "2013-01-01 00:00:00",
                "2014-01-01 00:00:00",
                "2015-01-01 00:00:00",
                "2016-01-01 00:00:00",
                "2017-01-01 00:00:00",
                "2019-01-01 00:00:00"
               ],
               [
                "2011-01-01 00:00:00",
                "2013-01-01 00:00:00",
                "2014-01-01 00:00:00",
                "2015-01-01 00:00:00",
                "2016-01-01 00:00:00",
                "2017-01-01 00:00:00",
                "2019-01-01 00:00:00"
               ],
               [
                "2011-01-01 00:00:00",
                "2013-01-01 00:00:00",
                "2014-01-01 00:00:00",
                "2015-01-01 00:00:00",
                "2016-01-01 00:00:00",
                "2017-01-01 00:00:00",
                "2019-01-01 00:00:00"
               ],
               [
                "2011-01-01 00:00:00",
                "2013-01-01 00:00:00",
                "2014-01-01 00:00:00",
                "2015-01-01 00:00:00",
                "2016-01-01 00:00:00",
                "2017-01-01 00:00:00",
                "2019-01-01 00:00:00"
               ],
               [
                "2011-01-01 00:00:00",
                "2013-01-01 00:00:00",
                "2014-01-01 00:00:00",
                "2015-01-01 00:00:00",
                "2016-01-01 00:00:00",
                "2017-01-01 00:00:00",
                "2018-01-01 00:00:00",
                "2019-01-01 00:00:00"
               ],
               [
                "2011-01-01 00:00:00",
                "2013-01-01 00:00:00",
                "2014-01-01 00:00:00",
                "2017-01-01 00:00:00",
                "2018-01-01 00:00:00",
                "2019-01-01 00:00:00"
               ],
               [
                "2011-01-01 00:00:00",
                "2013-01-01 00:00:00",
                "2014-01-01 00:00:00",
                "2015-01-01 00:00:00",
                "2016-01-01 00:00:00",
                "2017-01-01 00:00:00",
                "2019-01-01 00:00:00"
               ],
               [
                "2011-01-01 00:00:00",
                "2013-01-01 00:00:00",
                "2014-01-01 00:00:00",
                "2015-01-01 00:00:00",
                "2016-01-01 00:00:00",
                "2017-01-01 00:00:00",
                "2019-01-01 00:00:00"
               ],
               [
                "2011-01-01 00:00:00",
                "2013-01-01 00:00:00",
                "2014-01-01 00:00:00",
                "2015-01-01 00:00:00",
                "2016-01-01 00:00:00",
                "2017-01-01 00:00:00",
                "2019-01-01 00:00:00"
               ],
               [
                "2011-01-01 00:00:00",
                "2013-01-01 00:00:00",
                "2014-01-01 00:00:00",
                "2015-01-01 00:00:00",
                "2016-01-01 00:00:00",
                "2017-01-01 00:00:00",
                "2018-01-01 00:00:00",
                "2019-01-01 00:00:00"
               ],
               [
                "2011-01-01 00:00:00",
                "2013-01-01 00:00:00",
                "2014-01-01 00:00:00",
                "2015-01-01 00:00:00",
                "2016-01-01 00:00:00",
                "2017-01-01 00:00:00",
                "2018-01-01 00:00:00",
                "2019-01-01 00:00:00"
               ],
               [
                "2011-01-01 00:00:00",
                "2013-01-01 00:00:00",
                "2014-01-01 00:00:00",
                "2015-01-01 00:00:00",
                "2016-01-01 00:00:00",
                "2017-01-01 00:00:00",
                "2019-01-01 00:00:00"
               ],
               [
                "2011-01-01 00:00:00",
                "2013-01-01 00:00:00",
                "2014-01-01 00:00:00",
                "2015-01-01 00:00:00",
                "2016-01-01 00:00:00",
                "2017-01-01 00:00:00",
                "2019-01-01 00:00:00"
               ],
               [
                "2011-01-01 00:00:00",
                "2013-01-01 00:00:00",
                "2014-01-01 00:00:00",
                "2015-01-01 00:00:00",
                "2016-01-01 00:00:00",
                "2017-01-01 00:00:00",
                "2019-01-01 00:00:00"
               ],
               [
                "2011-01-01 00:00:00",
                "2013-01-01 00:00:00",
                "2014-01-01 00:00:00",
                "2015-01-01 00:00:00",
                "2016-01-01 00:00:00",
                "2017-01-01 00:00:00",
                "2019-01-01 00:00:00"
               ],
               [
                "2011-01-01 00:00:00",
                "2013-01-01 00:00:00",
                "2014-01-01 00:00:00",
                "2015-01-01 00:00:00",
                "2016-01-01 00:00:00",
                "2017-01-01 00:00:00",
                "2019-01-01 00:00:00"
               ],
               [
                "2011-01-01 00:00:00",
                "2013-01-01 00:00:00",
                "2014-01-01 00:00:00",
                "2015-01-01 00:00:00",
                "2016-01-01 00:00:00",
                "2018-01-01 00:00:00",
                "2019-01-01 00:00:00"
               ],
               [
                "2011-01-01 00:00:00",
                "2013-01-01 00:00:00",
                "2014-01-01 00:00:00",
                "2015-01-01 00:00:00",
                "2016-01-01 00:00:00",
                "2017-01-01 00:00:00",
                "2018-01-01 00:00:00",
                "2019-01-01 00:00:00"
               ],
               [
                "2014-01-01 00:00:00",
                "2015-01-01 00:00:00",
                "2017-01-01 00:00:00",
                "2018-01-01 00:00:00"
               ],
               [
                "2011-01-01 00:00:00",
                "2013-01-01 00:00:00",
                "2014-01-01 00:00:00",
                "2015-01-01 00:00:00",
                "2016-01-01 00:00:00",
                "2018-01-01 00:00:00",
                "2019-01-01 00:00:00"
               ],
               [
                "2011-01-01 00:00:00",
                "2013-01-01 00:00:00",
                "2014-01-01 00:00:00",
                "2015-01-01 00:00:00",
                "2016-01-01 00:00:00",
                "2018-01-01 00:00:00",
                "2019-01-01 00:00:00"
               ],
               [
                "2011-01-01 00:00:00",
                "2013-01-01 00:00:00",
                "2014-01-01 00:00:00",
                "2015-01-01 00:00:00",
                "2016-01-01 00:00:00",
                "2018-01-01 00:00:00",
                "2019-01-01 00:00:00"
               ],
               [
                "2011-01-01 00:00:00",
                "2013-01-01 00:00:00",
                "2014-01-01 00:00:00",
                "2015-01-01 00:00:00",
                "2016-01-01 00:00:00",
                "2018-01-01 00:00:00",
                "2019-01-01 00:00:00"
               ],
               [
                "2011-01-01 00:00:00",
                "2013-01-01 00:00:00",
                "2014-01-01 00:00:00",
                "2015-01-01 00:00:00",
                "2016-01-01 00:00:00",
                "2018-01-01 00:00:00",
                "2019-01-01 00:00:00"
               ],
               [
                "2011-01-01 00:00:00",
                "2014-01-01 00:00:00",
                "2015-01-01 00:00:00",
                "2016-01-01 00:00:00",
                "2017-01-01 00:00:00",
                "2018-01-01 00:00:00",
                "2019-01-01 00:00:00"
               ],
               [
                "2011-01-01 00:00:00",
                "2014-01-01 00:00:00",
                "2015-01-01 00:00:00",
                "2016-01-01 00:00:00",
                "2017-01-01 00:00:00",
                "2018-01-01 00:00:00",
                "2019-01-01 00:00:00"
               ],
               [
                "2011-01-01 00:00:00",
                "2014-01-01 00:00:00",
                "2015-01-01 00:00:00",
                "2016-01-01 00:00:00",
                "2017-01-01 00:00:00",
                "2018-01-01 00:00:00",
                "2019-01-01 00:00:00"
               ],
               [
                "2011-01-01 00:00:00",
                "2014-01-01 00:00:00",
                "2015-01-01 00:00:00",
                "2016-01-01 00:00:00",
                "2017-01-01 00:00:00",
                "2018-01-01 00:00:00",
                "2019-01-01 00:00:00"
               ],
               []
              ],
              "y": [
               [
                36.517300000000006,
                48.822500000000005,
                50.6386,
                55.8327,
                57.450500000000005,
                60.3107,
                65.13770000000001
               ],
               [
                28.063299999999998,
                36.1139,
                40.6543,
                43.907399999999996,
                46.6536,
                49.974799999999995,
                53.0288,
                56.69310000000001
               ],
               [
                34.6503,
                45.921099999999996,
                51.11409999999999,
                50.9339,
                53.791599999999995,
                57.1704,
                58.6082
               ],
               [
                44.6409,
                51.3127,
                55.55949999999999,
                58.1733,
                61.6567,
                66.0081,
                66.68079999999999
               ],
               [
                35.5466,
                37.753400000000006,
                38.5306,
                37.7211,
                39.8532,
                42.809999999999995,
                42.3241
               ],
               [
                32.0176,
                37.8441,
                40.4403,
                44.5968,
                50.38510000000001,
                47.250299999999996,
                57.8792
               ],
               [
                50.7602,
                56.4353,
                60.024699999999996,
                60.746,
                65.6155,
                64.5685,
                68.857
               ],
               [
                40.2661,
                47.511700000000005,
                50.4337,
                52.55,
                57.889599999999994,
                58.8622,
                60.1287,
                63.5774
               ],
               [
                71.7319,
                78.88430000000001,
                82.73010000000001,
                89.46290000000002,
                90.8674,
                91.6501
               ],
               [
                41.9074,
                42.089999999999996,
                42.3339,
                56.9576,
                50.3304,
                50.5898,
                52.5029
               ],
               [
                26.656399999999998,
                36.2964,
                39.9814,
                40.6414,
                45.0514,
                48.3454,
                58.949799999999996
               ],
               [
                55.3609,
                63.6009,
                66.49239999999999,
                64.8605,
                74.3667,
                75.49510000000001,
                80.7628
               ],
               [
                26.3086,
                31.6313,
                36.2063,
                38.051,
                41.5425,
                43.3593,
                46.4781,
                42.2954
               ],
               [
                35.4121,
                43.5996,
                47.01729999999999,
                46.2702,
                50.343900000000005,
                53.5473,
                57.95,
                60.571200000000005
               ],
               [
                45.9277,
                56.680699999999995,
                60.4907,
                68.2761,
                67.0487,
                68.08149999999999,
                62.511
               ],
               [
                55.08,
                54.4465,
                52.7355,
                57.5047,
                57.071400000000004,
                59.8973,
                64.6621
               ],
               [
                44.55159999999999,
                50.9342,
                53.11739999999999,
                60.083299999999994,
                64.0437,
                70.3707,
                70.6609
               ],
               [
                45.696400000000004,
                55.0419,
                58.604499999999994,
                59.3317,
                61.828,
                66.55770000000001,
                66.90509999999999
               ],
               [
                58.9566,
                67.5796,
                70.6666,
                73.2163,
                76.15899999999999,
                82.58340000000001,
                86.31360000000001
               ],
               [
                31.513,
                43.6759,
                46.7574,
                48.059400000000004,
                52.171800000000005,
                59.1795,
                60.401
               ],
               [
                35.6625,
                35.2932,
                36.801100000000005,
                41.3953,
                44.1995,
                48.0173,
                49.8672,
                53.038700000000006
               ],
               [
                45.6191,
                49.9871,
                54.260600000000004,
                55.7611
               ],
               [
                25.0665,
                33.420100000000005,
                36.2513,
                43.6435,
                44.2859,
                60.76669999999999,
                60.17560000000001
               ],
               [
                53.561,
                56.721,
                65.1829,
                62.47580000000001,
                70.1527,
                70.3607,
                72.22109999999999
               ],
               [
                31.9643,
                38.2818,
                41.8169,
                37.3724,
                38.310100000000006,
                48.8144,
                52.085300000000004
               ],
               [
                47.81,
                48.59739999999999,
                50.3727,
                53.6374,
                56.98979999999999,
                59.8371,
                59.24470000000001
               ],
               [
                49.6809,
                58.1228,
                59.82189999999999,
                65.6565,
                68.7546,
                69.7498,
                73.1259
               ],
               [
                35.2769,
                44.2429,
                45.325900000000004,
                49.0236,
                51.186,
                53.171800000000005,
                55.554700000000004
               ],
               [
                39.528800000000004,
                52.43359999999999,
                66.7183,
                69.3078,
                72.02300000000001,
                72.6036,
                75.5255
               ],
               [
                30.013499999999997,
                39.56570000000001,
                42.1526,
                45.034800000000004,
                49.9462,
                51.3617,
                52.85300000000001
               ],
               [
                33.4668,
                50.10399999999999,
                54.038599999999995,
                59.9658,
                63.0414,
                68.9588,
                71.71640000000001
               ],
               []
              ]
             }
            ],
            "label": "Individuals participating in social networks, over the internet, last 3 months",
            "method": "update"
           },
           {
            "args": [
             {
              "x": [
               [
                "2004-01-01 00:00:00",
                "2005-01-01 00:00:00",
                "2006-01-01 00:00:00",
                "2007-01-01 00:00:00",
                "2008-01-01 00:00:00",
                "2009-01-01 00:00:00",
                "2010-01-01 00:00:00",
                "2011-01-01 00:00:00",
                "2013-01-01 00:00:00",
                "2015-01-01 00:00:00",
                "2017-01-01 00:00:00",
                "2019-01-01 00:00:00"
               ],
               [
                "2004-01-01 00:00:00",
                "2005-01-01 00:00:00",
                "2006-01-01 00:00:00",
                "2007-01-01 00:00:00",
                "2008-01-01 00:00:00",
                "2009-01-01 00:00:00",
                "2010-01-01 00:00:00",
                "2011-01-01 00:00:00",
                "2013-01-01 00:00:00",
                "2015-01-01 00:00:00",
                "2017-01-01 00:00:00",
                "2019-01-01 00:00:00"
               ],
               [
                "2007-01-01 00:00:00",
                "2008-01-01 00:00:00",
                "2009-01-01 00:00:00",
                "2010-01-01 00:00:00",
                "2011-01-01 00:00:00",
                "2013-01-01 00:00:00",
                "2015-01-01 00:00:00",
                "2017-01-01 00:00:00",
                "2019-01-01 00:00:00"
               ],
               [
                "2004-01-01 00:00:00",
                "2005-01-01 00:00:00",
                "2006-01-01 00:00:00",
                "2007-01-01 00:00:00",
                "2008-01-01 00:00:00",
                "2009-01-01 00:00:00",
                "2010-01-01 00:00:00",
                "2011-01-01 00:00:00",
                "2013-01-01 00:00:00",
                "2015-01-01 00:00:00",
                "2017-01-01 00:00:00",
                "2019-01-01 00:00:00"
               ],
               [
                "2006-01-01 00:00:00",
                "2007-01-01 00:00:00",
                "2008-01-01 00:00:00",
                "2009-01-01 00:00:00",
                "2010-01-01 00:00:00",
                "2011-01-01 00:00:00",
                "2013-01-01 00:00:00",
                "2015-01-01 00:00:00",
                "2017-01-01 00:00:00",
                "2019-01-01 00:00:00"
               ],
               [
                "2007-01-01 00:00:00",
                "2008-01-01 00:00:00",
                "2009-01-01 00:00:00",
                "2010-01-01 00:00:00",
                "2011-01-01 00:00:00",
                "2013-01-01 00:00:00",
                "2015-01-01 00:00:00",
                "2017-01-01 00:00:00",
                "2019-01-01 00:00:00"
               ],
               [
                "2004-01-01 00:00:00",
                "2005-01-01 00:00:00",
                "2006-01-01 00:00:00",
                "2007-01-01 00:00:00",
                "2008-01-01 00:00:00",
                "2009-01-01 00:00:00",
                "2010-01-01 00:00:00",
                "2011-01-01 00:00:00",
                "2013-01-01 00:00:00",
                "2015-01-01 00:00:00",
                "2017-01-01 00:00:00",
                "2019-01-01 00:00:00"
               ],
               [
                "2004-01-01 00:00:00",
                "2005-01-01 00:00:00",
                "2006-01-01 00:00:00",
                "2007-01-01 00:00:00",
                "2008-01-01 00:00:00",
                "2009-01-01 00:00:00",
                "2010-01-01 00:00:00",
                "2011-01-01 00:00:00",
                "2013-01-01 00:00:00",
                "2015-01-01 00:00:00",
                "2017-01-01 00:00:00",
                "2019-01-01 00:00:00"
               ],
               [
                "2004-01-01 00:00:00",
                "2005-01-01 00:00:00",
                "2006-01-01 00:00:00",
                "2007-01-01 00:00:00",
                "2008-01-01 00:00:00",
                "2009-01-01 00:00:00",
                "2010-01-01 00:00:00",
                "2011-01-01 00:00:00",
                "2013-01-01 00:00:00",
                "2017-01-01 00:00:00",
                "2019-01-01 00:00:00"
               ],
               [
                "2004-01-01 00:00:00",
                "2005-01-01 00:00:00",
                "2006-01-01 00:00:00",
                "2007-01-01 00:00:00",
                "2008-01-01 00:00:00",
                "2009-01-01 00:00:00",
                "2010-01-01 00:00:00",
                "2011-01-01 00:00:00",
                "2013-01-01 00:00:00",
                "2015-01-01 00:00:00",
                "2017-01-01 00:00:00",
                "2019-01-01 00:00:00"
               ],
               [
                "2004-01-01 00:00:00",
                "2005-01-01 00:00:00",
                "2006-01-01 00:00:00",
                "2007-01-01 00:00:00",
                "2008-01-01 00:00:00",
                "2009-01-01 00:00:00",
                "2010-01-01 00:00:00",
                "2011-01-01 00:00:00",
                "2013-01-01 00:00:00",
                "2015-01-01 00:00:00",
                "2017-01-01 00:00:00",
                "2019-01-01 00:00:00"
               ],
               [
                "2004-01-01 00:00:00",
                "2005-01-01 00:00:00",
                "2006-01-01 00:00:00",
                "2007-01-01 00:00:00",
                "2008-01-01 00:00:00",
                "2009-01-01 00:00:00",
                "2010-01-01 00:00:00",
                "2011-01-01 00:00:00",
                "2013-01-01 00:00:00",
                "2015-01-01 00:00:00",
                "2017-01-01 00:00:00",
                "2019-01-01 00:00:00"
               ],
               [
                "2005-01-01 00:00:00",
                "2006-01-01 00:00:00",
                "2007-01-01 00:00:00",
                "2008-01-01 00:00:00",
                "2009-01-01 00:00:00",
                "2010-01-01 00:00:00",
                "2011-01-01 00:00:00",
                "2013-01-01 00:00:00",
                "2015-01-01 00:00:00",
                "2017-01-01 00:00:00",
                "2019-01-01 00:00:00"
               ],
               [
                "2004-01-01 00:00:00",
                "2005-01-01 00:00:00",
                "2006-01-01 00:00:00",
                "2007-01-01 00:00:00",
                "2008-01-01 00:00:00",
                "2009-01-01 00:00:00",
                "2010-01-01 00:00:00",
                "2011-01-01 00:00:00",
                "2013-01-01 00:00:00",
                "2015-01-01 00:00:00",
                "2017-01-01 00:00:00",
                "2019-01-01 00:00:00"
               ],
               [
                "2004-01-01 00:00:00",
                "2005-01-01 00:00:00",
                "2006-01-01 00:00:00",
                "2007-01-01 00:00:00",
                "2008-01-01 00:00:00",
                "2009-01-01 00:00:00",
                "2010-01-01 00:00:00",
                "2011-01-01 00:00:00",
                "2013-01-01 00:00:00",
                "2015-01-01 00:00:00",
                "2017-01-01 00:00:00",
                "2019-01-01 00:00:00"
               ],
               [
                "2004-01-01 00:00:00",
                "2005-01-01 00:00:00",
                "2006-01-01 00:00:00",
                "2007-01-01 00:00:00",
                "2008-01-01 00:00:00",
                "2009-01-01 00:00:00",
                "2010-01-01 00:00:00",
                "2011-01-01 00:00:00",
                "2013-01-01 00:00:00",
                "2015-01-01 00:00:00",
                "2017-01-01 00:00:00",
                "2019-01-01 00:00:00"
               ],
               [
                "2005-01-01 00:00:00",
                "2006-01-01 00:00:00",
                "2007-01-01 00:00:00",
                "2008-01-01 00:00:00",
                "2009-01-01 00:00:00",
                "2010-01-01 00:00:00",
                "2011-01-01 00:00:00",
                "2013-01-01 00:00:00",
                "2015-01-01 00:00:00",
                "2017-01-01 00:00:00",
                "2019-01-01 00:00:00"
               ],
               [
                "2005-01-01 00:00:00",
                "2006-01-01 00:00:00",
                "2007-01-01 00:00:00",
                "2008-01-01 00:00:00",
                "2009-01-01 00:00:00",
                "2010-01-01 00:00:00",
                "2011-01-01 00:00:00",
                "2013-01-01 00:00:00",
                "2015-01-01 00:00:00",
                "2017-01-01 00:00:00",
                "2019-01-01 00:00:00"
               ],
               [
                "2004-01-01 00:00:00",
                "2005-01-01 00:00:00",
                "2006-01-01 00:00:00",
                "2007-01-01 00:00:00",
                "2008-01-01 00:00:00",
                "2009-01-01 00:00:00",
                "2010-01-01 00:00:00",
                "2011-01-01 00:00:00",
                "2013-01-01 00:00:00",
                "2015-01-01 00:00:00",
                "2017-01-01 00:00:00",
                "2019-01-01 00:00:00"
               ],
               [
                "2004-01-01 00:00:00",
                "2005-01-01 00:00:00",
                "2006-01-01 00:00:00",
                "2007-01-01 00:00:00",
                "2008-01-01 00:00:00",
                "2009-01-01 00:00:00",
                "2010-01-01 00:00:00",
                "2011-01-01 00:00:00",
                "2013-01-01 00:00:00",
                "2015-01-01 00:00:00",
                "2017-01-01 00:00:00",
                "2019-01-01 00:00:00"
               ],
               [
                "2004-01-01 00:00:00",
                "2005-01-01 00:00:00",
                "2006-01-01 00:00:00",
                "2007-01-01 00:00:00",
                "2008-01-01 00:00:00",
                "2009-01-01 00:00:00",
                "2010-01-01 00:00:00",
                "2011-01-01 00:00:00",
                "2013-01-01 00:00:00",
                "2015-01-01 00:00:00",
                "2017-01-01 00:00:00",
                "2019-01-01 00:00:00"
               ],
               [
                "2005-01-01 00:00:00",
                "2006-01-01 00:00:00",
                "2007-01-01 00:00:00",
                "2008-01-01 00:00:00",
                "2015-01-01 00:00:00",
                "2017-01-01 00:00:00",
                "2019-01-01 00:00:00"
               ],
               [
                "2004-01-01 00:00:00",
                "2006-01-01 00:00:00",
                "2007-01-01 00:00:00",
                "2008-01-01 00:00:00",
                "2009-01-01 00:00:00",
                "2010-01-01 00:00:00",
                "2011-01-01 00:00:00",
                "2013-01-01 00:00:00",
                "2015-01-01 00:00:00",
                "2019-01-01 00:00:00"
               ],
               [
                "2004-01-01 00:00:00",
                "2005-01-01 00:00:00",
                "2006-01-01 00:00:00",
                "2007-01-01 00:00:00",
                "2008-01-01 00:00:00",
                "2009-01-01 00:00:00",
                "2010-01-01 00:00:00",
                "2011-01-01 00:00:00",
                "2013-01-01 00:00:00",
                "2015-01-01 00:00:00",
                "2019-01-01 00:00:00"
               ],
               [
                "2004-01-01 00:00:00",
                "2005-01-01 00:00:00",
                "2006-01-01 00:00:00",
                "2007-01-01 00:00:00",
                "2008-01-01 00:00:00",
                "2009-01-01 00:00:00",
                "2010-01-01 00:00:00",
                "2011-01-01 00:00:00",
                "2013-01-01 00:00:00",
                "2015-01-01 00:00:00",
                "2019-01-01 00:00:00"
               ],
               [
                "2004-01-01 00:00:00",
                "2005-01-01 00:00:00",
                "2006-01-01 00:00:00",
                "2007-01-01 00:00:00",
                "2008-01-01 00:00:00",
                "2009-01-01 00:00:00",
                "2010-01-01 00:00:00",
                "2011-01-01 00:00:00",
                "2013-01-01 00:00:00",
                "2015-01-01 00:00:00",
                "2019-01-01 00:00:00"
               ],
               [
                "2004-01-01 00:00:00",
                "2005-01-01 00:00:00",
                "2006-01-01 00:00:00",
                "2007-01-01 00:00:00",
                "2008-01-01 00:00:00",
                "2009-01-01 00:00:00",
                "2010-01-01 00:00:00",
                "2011-01-01 00:00:00",
                "2013-01-01 00:00:00",
                "2015-01-01 00:00:00",
                "2019-01-01 00:00:00"
               ],
               [
                "2004-01-01 00:00:00",
                "2005-01-01 00:00:00",
                "2006-01-01 00:00:00",
                "2007-01-01 00:00:00",
                "2008-01-01 00:00:00",
                "2009-01-01 00:00:00",
                "2010-01-01 00:00:00",
                "2011-01-01 00:00:00",
                "2015-01-01 00:00:00",
                "2017-01-01 00:00:00",
                "2019-01-01 00:00:00"
               ],
               [
                "2005-01-01 00:00:00",
                "2006-01-01 00:00:00",
                "2007-01-01 00:00:00",
                "2008-01-01 00:00:00",
                "2009-01-01 00:00:00",
                "2010-01-01 00:00:00",
                "2011-01-01 00:00:00",
                "2015-01-01 00:00:00",
                "2017-01-01 00:00:00",
                "2019-01-01 00:00:00"
               ],
               [
                "2004-01-01 00:00:00",
                "2006-01-01 00:00:00",
                "2007-01-01 00:00:00",
                "2008-01-01 00:00:00",
                "2009-01-01 00:00:00",
                "2010-01-01 00:00:00",
                "2011-01-01 00:00:00",
                "2015-01-01 00:00:00",
                "2017-01-01 00:00:00",
                "2019-01-01 00:00:00"
               ],
               [
                "2004-01-01 00:00:00",
                "2005-01-01 00:00:00",
                "2006-01-01 00:00:00",
                "2007-01-01 00:00:00",
                "2008-01-01 00:00:00",
                "2009-01-01 00:00:00",
                "2010-01-01 00:00:00",
                "2011-01-01 00:00:00",
                "2015-01-01 00:00:00",
                "2017-01-01 00:00:00",
                "2019-01-01 00:00:00"
               ],
               []
              ],
              "y": [
               [
                12.0125,
                18.2846,
                16.8854,
                13.0687,
                15.1392,
                22.0902,
                25.235799999999998,
                24.7865,
                20.2764,
                21.967100000000002,
                20.380399999999998,
                20.584000000000003
               ],
               [
                1.6013,
                2.1925,
                4.2212,
                4.6008000000000004,
                5.4067,
                5.5120000000000005,
                6.0787,
                12.9109,
                15.983499999999998,
                17.7845,
                15.343499999999999,
                12.8725
               ],
               [
                10.1565,
                12.3171,
                16.670199999999998,
                16.161199999999997,
                16.9682,
                19.619600000000002,
                20.225299999999997,
                19.3806,
                18.238699999999998
               ],
               [
                22.0793,
                24.212899999999998,
                26.4546,
                26.365700000000004,
                26.4013,
                24.0461,
                27.3737,
                26.7905,
                26.5336,
                26.761399999999995,
                29.2425,
                32.0466
               ],
               [
                6.2736,
                12.3664,
                16.9994,
                13.2056,
                15.8471,
                14.954899999999999,
                17.751,
                16.592599999999997,
                16.2066,
                17.436
               ],
               [
                8.186499999999999,
                11.039700000000002,
                14.290700000000001,
                16.8883,
                19.836,
                15.283199999999999,
                16.3745,
                13.067200000000001,
                14.305000000000001
               ],
               [
                6.260000000000001,
                9.756499999999999,
                11.862200000000001,
                12.6992,
                14.122100000000001,
                17.8634,
                20.4268,
                20.0355,
                17.9472,
                16.7658,
                13.9309,
                14.843800000000002
               ],
               [
                3.2767999999999997,
                2.3658,
                6.015499999999999,
                6.9855,
                9.3961,
                13.5794,
                14.4741,
                19.5797,
                17.0549,
                13.908099999999997,
                11.63,
                17.455299999999998
               ],
               [
                15.618599999999999,
                15.8163,
                17.411600000000004,
                15.832699999999999,
                13.6739,
                17.45,
                21.2033,
                26.334000000000003,
                26.5106,
                21.7721,
                19.7551
               ],
               [
                13.930499999999999,
                null,
                16.8499,
                16.967499999999998,
                16.008699999999997,
                17.8271,
                16.5552,
                18.18,
                18.0734,
                18.9743,
                18.2649,
                17.1816
               ],
               [
                2.5453,
                2.3781,
                4.3441,
                3.7864999999999998,
                4.7942,
                7.929899999999999,
                7.7586,
                7.269299999999999,
                5.7664,
                5.2389,
                5.40111,
                6.08641
               ],
               [
                16.3044,
                18.7916,
                20.3337,
                25.590999999999998,
                23.255100000000002,
                27.3246,
                28.723899999999997,
                26.8977,
                22.364299999999997,
                36.4718,
                23.5091,
                37.0573
               ],
               [
                5.3719,
                6.1596,
                7.1937,
                6.980700000000001,
                9.2797,
                10.0822,
                11.9125,
                13.462399999999999,
                12.4242,
                13.172799999999999,
                13.636800000000001
               ],
               [
                4.4388,
                6.588300000000001,
                9.4651,
                10.073400000000001,
                10.4459,
                15.145,
                15.101600000000001,
                13.5434,
                12.2246,
                12.2449,
                12.579200000000002,
                15.7164
               ],
               [
                11.080799999999998,
                11.5109,
                10.928099999999999,
                14.4674,
                11.854400000000002,
                12.592600000000001,
                12.9741,
                14.563399999999998,
                18.4442,
                19.5864,
                18.7624,
                20.022599999999997
               ],
               [
                8.8184,
                9.652899999999999,
                11.315100000000001,
                9.4933,
                15.946400000000002,
                24.524899999999995,
                24.8765,
                27.045399999999997,
                16.9684,
                15.146800000000002,
                16.028599999999997,
                13.875000000000002
               ],
               [
                5.0238,
                7.542699999999999,
                10.2486,
                10.2797,
                14.4092,
                14.600399999999999,
                19.9535,
                20.0941,
                23.047800000000002,
                21.290200000000002,
                18.167
               ],
               [
                16.450200000000002,
                18.5333,
                18.750700000000002,
                16.5938,
                17.0838,
                18.9152,
                18.642400000000002,
                20.516900000000003,
                24.116100000000003,
                24.6335,
                25.135
               ],
               [
                16.3644,
                18.282300000000003,
                21.863400000000002,
                22.1629,
                22.3832,
                22.1373,
                21.8904,
                29.603,
                26.771999999999995,
                28.9242,
                25.809199999999997,
                26.2347
               ],
               [
                3.2634,
                3.9570999999999996,
                5.102799999999999,
                6.486599999999999,
                8.0505,
                10.114099999999999,
                10.086599999999999,
                11.0375,
                14.3784,
                14.3723,
                14.4732,
                14.7323
               ],
               [
                5.0283,
                4.6276,
                7.1853,
                7.184799999999999,
                8.1595,
                9.0524,
                10.4069,
                11.492,
                11.2215,
                9.8727,
                11.626600000000002,
                8.77633
               ],
               [
                9.7816,
                10.7803,
                11.5338,
                12.8797,
                17.1879,
                16.8077,
                16.777
               ],
               [
                1.1537,
                2.577,
                2.6888,
                2.7483999999999997,
                4.7208,
                6.711499999999999,
                8.838600000000001,
                7.606900000000001,
                6.4542,
                4.78588
               ],
               [
                15.591199999999999,
                22.529899999999998,
                24.360799999999998,
                18.1231,
                21.8126,
                22.1525,
                25.211699999999997,
                25.9158,
                28.8439,
                26.238,
                30.4732
               ],
               [
                5.5915,
                6.7969,
                9.2675,
                11.389000000000001,
                9.740499999999999,
                12.2358,
                13.901900000000001,
                13.759100000000002,
                15.809600000000001,
                13.005899999999999,
                13.4082
               ],
               [
                11.2375,
                10.8305,
                10.3834,
                11.061800000000002,
                12.951400000000001,
                16.2412,
                16.4385,
                17.7265,
                13.114899999999999,
                10.269400000000001,
                14.607699999999998
               ],
               [
                14.133099999999999,
                15.631,
                16.0726,
                15.4277,
                19.7615,
                24.981,
                22.1343,
                26.172199999999997,
                25.8841,
                25.5404,
                24.6416
               ],
               [
                4.1719,
                6.2155,
                8.578800000000001,
                8.0063,
                8.9919,
                10.376600000000002,
                10.797600000000001,
                20.519899999999996,
                12.7642,
                11.7695,
                11.4728
               ],
               [
                7.8573,
                9.030000000000001,
                7.904,
                8.1479,
                13.486500000000001,
                12.892100000000001,
                14.1631,
                18.241,
                15.204500000000001,
                12.213299999999998
               ],
               [
                3.1272,
                4.4274000000000004,
                5.0872,
                6.5455,
                8.7051,
                9.381599999999999,
                11.7164,
                10.7668,
                6.59877,
                7.183439999999999
               ],
               [
                2.8202,
                2.5292,
                4.5145,
                4.6375,
                3.6863,
                5.3127,
                5.732,
                7.006900000000001,
                13.3026,
                13.4597,
                13.9664
               ],
               []
              ]
             }
            ],
            "label": "Individuals looking for a job or sending a job application",
            "method": "update"
           },
           {
            "args": [
             {
              "x": [
               [
                "2007-01-01 00:00:00",
                "2008-01-01 00:00:00",
                "2009-01-01 00:00:00",
                "2010-01-01 00:00:00",
                "2011-01-01 00:00:00",
                "2013-01-01 00:00:00",
                "2015-01-01 00:00:00",
                "2016-01-01 00:00:00",
                "2017-01-01 00:00:00",
                "2019-01-01 00:00:00"
               ],
               [
                "2007-01-01 00:00:00",
                "2008-01-01 00:00:00",
                "2009-01-01 00:00:00",
                "2010-01-01 00:00:00",
                "2011-01-01 00:00:00",
                "2013-01-01 00:00:00",
                "2015-01-01 00:00:00",
                "2016-01-01 00:00:00",
                "2017-01-01 00:00:00",
                "2019-01-01 00:00:00"
               ],
               [
                "2007-01-01 00:00:00",
                "2008-01-01 00:00:00",
                "2009-01-01 00:00:00",
                "2010-01-01 00:00:00",
                "2011-01-01 00:00:00",
                "2013-01-01 00:00:00",
                "2015-01-01 00:00:00",
                "2016-01-01 00:00:00",
                "2017-01-01 00:00:00",
                "2019-01-01 00:00:00"
               ],
               [
                "2007-01-01 00:00:00",
                "2008-01-01 00:00:00",
                "2009-01-01 00:00:00",
                "2010-01-01 00:00:00",
                "2011-01-01 00:00:00",
                "2013-01-01 00:00:00",
                "2015-01-01 00:00:00",
                "2016-01-01 00:00:00",
                "2017-01-01 00:00:00",
                "2019-01-01 00:00:00"
               ],
               [
                "2007-01-01 00:00:00",
                "2008-01-01 00:00:00",
                "2009-01-01 00:00:00",
                "2010-01-01 00:00:00",
                "2011-01-01 00:00:00",
                "2013-01-01 00:00:00",
                "2015-01-01 00:00:00",
                "2016-01-01 00:00:00",
                "2017-01-01 00:00:00",
                "2019-01-01 00:00:00"
               ],
               [
                "2007-01-01 00:00:00",
                "2008-01-01 00:00:00",
                "2009-01-01 00:00:00",
                "2010-01-01 00:00:00",
                "2011-01-01 00:00:00",
                "2013-01-01 00:00:00",
                "2015-01-01 00:00:00",
                "2016-01-01 00:00:00",
                "2017-01-01 00:00:00",
                "2019-01-01 00:00:00"
               ],
               [
                "2007-01-01 00:00:00",
                "2008-01-01 00:00:00",
                "2009-01-01 00:00:00",
                "2010-01-01 00:00:00",
                "2011-01-01 00:00:00",
                "2013-01-01 00:00:00",
                "2015-01-01 00:00:00",
                "2016-01-01 00:00:00",
                "2017-01-01 00:00:00",
                "2019-01-01 00:00:00"
               ],
               [
                "2007-01-01 00:00:00",
                "2008-01-01 00:00:00",
                "2009-01-01 00:00:00",
                "2010-01-01 00:00:00",
                "2011-01-01 00:00:00",
                "2013-01-01 00:00:00",
                "2015-01-01 00:00:00",
                "2016-01-01 00:00:00",
                "2017-01-01 00:00:00",
                "2019-01-01 00:00:00"
               ],
               [
                "2007-01-01 00:00:00",
                "2008-01-01 00:00:00",
                "2009-01-01 00:00:00",
                "2010-01-01 00:00:00",
                "2011-01-01 00:00:00",
                "2013-01-01 00:00:00",
                "2017-01-01 00:00:00",
                "2019-01-01 00:00:00"
               ],
               [
                "2007-01-01 00:00:00",
                "2008-01-01 00:00:00",
                "2009-01-01 00:00:00",
                "2010-01-01 00:00:00",
                "2011-01-01 00:00:00",
                "2013-01-01 00:00:00",
                "2015-01-01 00:00:00",
                "2016-01-01 00:00:00",
                "2017-01-01 00:00:00",
                "2019-01-01 00:00:00"
               ],
               [
                "2007-01-01 00:00:00",
                "2008-01-01 00:00:00",
                "2009-01-01 00:00:00",
                "2010-01-01 00:00:00",
                "2011-01-01 00:00:00",
                "2013-01-01 00:00:00",
                "2015-01-01 00:00:00",
                "2016-01-01 00:00:00",
                "2017-01-01 00:00:00",
                "2019-01-01 00:00:00"
               ],
               [
                "2007-01-01 00:00:00",
                "2008-01-01 00:00:00",
                "2009-01-01 00:00:00",
                "2010-01-01 00:00:00",
                "2011-01-01 00:00:00",
                "2013-01-01 00:00:00",
                "2015-01-01 00:00:00",
                "2017-01-01 00:00:00",
                "2019-01-01 00:00:00"
               ],
               [
                "2007-01-01 00:00:00",
                "2008-01-01 00:00:00",
                "2009-01-01 00:00:00",
                "2010-01-01 00:00:00",
                "2011-01-01 00:00:00",
                "2013-01-01 00:00:00",
                "2015-01-01 00:00:00",
                "2016-01-01 00:00:00",
                "2017-01-01 00:00:00",
                "2019-01-01 00:00:00"
               ],
               [
                "2007-01-01 00:00:00",
                "2008-01-01 00:00:00",
                "2009-01-01 00:00:00",
                "2010-01-01 00:00:00",
                "2011-01-01 00:00:00",
                "2013-01-01 00:00:00",
                "2015-01-01 00:00:00",
                "2016-01-01 00:00:00",
                "2017-01-01 00:00:00",
                "2019-01-01 00:00:00"
               ],
               [
                "2007-01-01 00:00:00",
                "2008-01-01 00:00:00",
                "2009-01-01 00:00:00",
                "2010-01-01 00:00:00",
                "2011-01-01 00:00:00",
                "2013-01-01 00:00:00",
                "2015-01-01 00:00:00",
                "2016-01-01 00:00:00",
                "2017-01-01 00:00:00",
                "2019-01-01 00:00:00"
               ],
               [
                "2007-01-01 00:00:00",
                "2008-01-01 00:00:00",
                "2009-01-01 00:00:00",
                "2010-01-01 00:00:00",
                "2011-01-01 00:00:00",
                "2013-01-01 00:00:00",
                "2015-01-01 00:00:00",
                "2016-01-01 00:00:00",
                "2017-01-01 00:00:00",
                "2019-01-01 00:00:00"
               ],
               [
                "2007-01-01 00:00:00",
                "2008-01-01 00:00:00",
                "2009-01-01 00:00:00",
                "2010-01-01 00:00:00",
                "2011-01-01 00:00:00",
                "2013-01-01 00:00:00",
                "2015-01-01 00:00:00",
                "2016-01-01 00:00:00",
                "2017-01-01 00:00:00",
                "2019-01-01 00:00:00"
               ],
               [
                "2007-01-01 00:00:00",
                "2008-01-01 00:00:00",
                "2009-01-01 00:00:00",
                "2010-01-01 00:00:00",
                "2011-01-01 00:00:00",
                "2013-01-01 00:00:00",
                "2015-01-01 00:00:00",
                "2016-01-01 00:00:00",
                "2017-01-01 00:00:00",
                "2019-01-01 00:00:00"
               ],
               [
                "2007-01-01 00:00:00",
                "2008-01-01 00:00:00",
                "2009-01-01 00:00:00",
                "2010-01-01 00:00:00",
                "2011-01-01 00:00:00",
                "2013-01-01 00:00:00",
                "2015-01-01 00:00:00",
                "2016-01-01 00:00:00",
                "2017-01-01 00:00:00",
                "2019-01-01 00:00:00"
               ],
               [
                "2007-01-01 00:00:00",
                "2008-01-01 00:00:00",
                "2009-01-01 00:00:00",
                "2010-01-01 00:00:00",
                "2011-01-01 00:00:00",
                "2013-01-01 00:00:00",
                "2015-01-01 00:00:00",
                "2016-01-01 00:00:00",
                "2017-01-01 00:00:00",
                "2019-01-01 00:00:00"
               ],
               [
                "2007-01-01 00:00:00",
                "2008-01-01 00:00:00",
                "2009-01-01 00:00:00",
                "2010-01-01 00:00:00",
                "2011-01-01 00:00:00",
                "2015-01-01 00:00:00",
                "2016-01-01 00:00:00",
                "2017-01-01 00:00:00",
                "2019-01-01 00:00:00"
               ],
               [
                "2007-01-01 00:00:00",
                "2008-01-01 00:00:00",
                "2015-01-01 00:00:00",
                "2017-01-01 00:00:00",
                "2019-01-01 00:00:00"
               ],
               [
                "2007-01-01 00:00:00",
                "2008-01-01 00:00:00",
                "2009-01-01 00:00:00",
                "2010-01-01 00:00:00",
                "2011-01-01 00:00:00",
                "2013-01-01 00:00:00",
                "2015-01-01 00:00:00",
                "2016-01-01 00:00:00",
                "2019-01-01 00:00:00"
               ],
               [
                "2007-01-01 00:00:00",
                "2008-01-01 00:00:00",
                "2009-01-01 00:00:00",
                "2010-01-01 00:00:00",
                "2011-01-01 00:00:00",
                "2013-01-01 00:00:00",
                "2015-01-01 00:00:00",
                "2016-01-01 00:00:00",
                "2019-01-01 00:00:00"
               ],
               [
                "2007-01-01 00:00:00",
                "2008-01-01 00:00:00",
                "2009-01-01 00:00:00",
                "2010-01-01 00:00:00",
                "2011-01-01 00:00:00",
                "2013-01-01 00:00:00",
                "2015-01-01 00:00:00",
                "2016-01-01 00:00:00",
                "2019-01-01 00:00:00"
               ],
               [
                "2007-01-01 00:00:00",
                "2008-01-01 00:00:00",
                "2009-01-01 00:00:00",
                "2010-01-01 00:00:00",
                "2011-01-01 00:00:00",
                "2013-01-01 00:00:00",
                "2015-01-01 00:00:00",
                "2016-01-01 00:00:00",
                "2019-01-01 00:00:00"
               ],
               [
                "2007-01-01 00:00:00",
                "2008-01-01 00:00:00",
                "2009-01-01 00:00:00",
                "2010-01-01 00:00:00",
                "2011-01-01 00:00:00",
                "2013-01-01 00:00:00",
                "2015-01-01 00:00:00",
                "2016-01-01 00:00:00",
                "2019-01-01 00:00:00"
               ],
               [
                "2007-01-01 00:00:00",
                "2008-01-01 00:00:00",
                "2009-01-01 00:00:00",
                "2010-01-01 00:00:00",
                "2011-01-01 00:00:00",
                "2015-01-01 00:00:00",
                "2016-01-01 00:00:00",
                "2017-01-01 00:00:00",
                "2019-01-01 00:00:00"
               ],
               [
                "2007-01-01 00:00:00",
                "2008-01-01 00:00:00",
                "2009-01-01 00:00:00",
                "2010-01-01 00:00:00",
                "2011-01-01 00:00:00",
                "2015-01-01 00:00:00",
                "2016-01-01 00:00:00",
                "2017-01-01 00:00:00",
                "2019-01-01 00:00:00"
               ],
               [
                "2007-01-01 00:00:00",
                "2008-01-01 00:00:00",
                "2009-01-01 00:00:00",
                "2010-01-01 00:00:00",
                "2011-01-01 00:00:00",
                "2015-01-01 00:00:00",
                "2016-01-01 00:00:00",
                "2017-01-01 00:00:00",
                "2019-01-01 00:00:00"
               ],
               [
                "2007-01-01 00:00:00",
                "2008-01-01 00:00:00",
                "2009-01-01 00:00:00",
                "2010-01-01 00:00:00",
                "2011-01-01 00:00:00",
                "2015-01-01 00:00:00",
                "2016-01-01 00:00:00",
                "2017-01-01 00:00:00",
                "2019-01-01 00:00:00"
               ],
               []
              ],
              "y": [
               [
                6.7,
                5.3021,
                6.1438,
                6.4575,
                5.9284,
                5.778200000000001,
                8.652600000000001,
                8.4024,
                11.073699999999999,
                13.9466
               ],
               [
                2.2782,
                1.5449000000000002,
                1.8599,
                2.1104,
                4.416600000000001,
                4.2109,
                5.1398,
                5.4009,
                4.98221,
                5.64638
               ],
               [
                4.4795,
                5.736599999999999,
                7.163799999999999,
                7.9195,
                8.680800000000001,
                9.1806,
                10.5732,
                10.6948,
                12.479700000000001,
                14.8391
               ],
               [
                12.7969,
                13.877,
                13.035,
                13.658399999999999,
                14.130899999999999,
                14.673900000000001,
                12.9485,
                14.321800000000001,
                15.8475,
                21.204299999999996
               ],
               [
                1.9906999999999997,
                3.5526,
                3.6448,
                4.7006,
                4.8555,
                6.436,
                4.9457,
                4.989599999999999,
                5.9675,
                7.50961
               ],
               [
                1.2912,
                1.2763,
                2.1582,
                1.3156,
                1.807,
                4.9492,
                2.7957,
                5.2188,
                2.4557299999999995,
                5.065180000000001
               ],
               [
                2.2704999999999997,
                2.4714,
                2.358,
                3.0543,
                5.0383,
                4.2274,
                2.8541000000000003,
                3.7025,
                4.03566,
                5.59389
               ],
               [
                2.7733,
                3.09,
                5.1056,
                5.2462,
                5.0336,
                4.542,
                4.2044999999999995,
                4.6146,
                4.42324,
                12.5364
               ],
               [
                8.8809,
                12.558699999999998,
                9.897400000000001,
                9.0963,
                10.336300000000001,
                11.6448,
                19.724700000000002,
                19.8213
               ],
               [
                2.4769,
                2.4433,
                3.2757,
                3.0513,
                4.2993999999999994,
                4.1986,
                4.1171,
                4.5092,
                5.79744,
                7.91153
               ],
               [
                1.2219,
                1.6911000000000003,
                1.3543,
                1.3281999999999998,
                2.9886000000000004,
                2.6226,
                2.7998000000000003,
                2.8484,
                3.2450599999999996,
                6.1639
               ],
               [
                3.7632,
                3.3339,
                4.4925,
                5.0363,
                7.2402999999999995,
                6.4447,
                7.3690999999999995,
                8.64532,
                11.9131
               ],
               [
                1.6768,
                2.2963,
                3.1225,
                3.2066000000000003,
                3.8761000000000005,
                4.3919,
                3.9374,
                4.7745999999999995,
                5.35887,
                7.135669999999999
               ],
               [
                5.4948999999999995,
                4.2336,
                8.0751,
                7.7951,
                9.6785,
                10.5407,
                5.390700000000001,
                6.605900000000001,
                7.048869999999999,
                7.3953999999999995
               ],
               [
                2.9588,
                4.51,
                6.448200000000001,
                5.4438,
                5.8751,
                8.270599999999998,
                9.6936,
                9.3113,
                9.34073,
                10.2483
               ],
               [
                5.529299999999999,
                7.915,
                6.5024,
                5.021000000000001,
                4.864599999999999,
                2.9250000000000003,
                3.8882,
                3.9069,
                3.89704,
                4.41819
               ],
               [
                3.3503,
                2.1565999999999996,
                3.6944999999999997,
                5.382899999999999,
                5.723,
                4.523999999999999,
                4.6897,
                3.3974,
                6.08707,
                11.517900000000001
               ],
               [
                3.435,
                3.743,
                4.517099999999999,
                4.8924,
                4.5235,
                6.6195,
                7.9578999999999995,
                9.4982,
                10.347000000000001,
                13.4656
               ],
               [
                3.9399,
                6.105599999999999,
                4.881399999999999,
                5.2435,
                6.6097,
                10.1545,
                9.7815,
                11.842899999999998,
                13.864300000000002,
                15.663599999999999
               ],
               [
                1.0659,
                1.8881999999999999,
                2.4469000000000003,
                1.999,
                2.5268,
                2.6971,
                4.4315,
                3.9301999999999997,
                4.613049999999999,
                5.79451
               ],
               [
                null,
                1.5203,
                1.3026,
                2.0668,
                2.4443,
                2.5988,
                3.7361,
                3.8314399999999997,
                5.380809999999999
               ],
               [
                2.6436,
                3.157,
                5.7897,
                7.346550000000001,
                9.73782
               ],
               [
                1.0988,
                1.3687999999999998,
                3.2049000000000003,
                3.9131,
                5.0269,
                3.6535000000000006,
                4.138999999999999,
                2.6468000000000003,
                3.0238099999999997
               ],
               [
                2.5608,
                2.9506,
                4.2109,
                6.930599999999999,
                5.0183,
                6.2559000000000005,
                6.5026,
                8.0984,
                18.3083
               ],
               [
                1.9745,
                2.9257,
                3.2024000000000004,
                4.117,
                5.157,
                3.7919,
                3.1632000000000002,
                2.8612,
                5.44123
               ],
               [
                0.5328999999999999,
                0.9650000000000001,
                0.9959000000000001,
                1.2824,
                1.414,
                4.2373,
                2.9552,
                3.3175999999999997,
                5.0330900000000005
               ],
               [
                4.7556,
                5.069,
                6.6414,
                6.543400000000001,
                6.034299999999999,
                9.8502,
                10.9626,
                12.4157,
                18.6881
               ],
               [
                1.1221999999999999,
                null,
                1.3255000000000001,
                2.0262,
                2.6204,
                4.0645999999999995,
                4.1404000000000005,
                4.7396899999999995,
                8.044410000000001
               ],
               [
                2.1621,
                2.7466,
                3.6925,
                4.022,
                3.3317,
                6.449199999999999,
                8.9056,
                7.898089999999999,
                9.327560000000002
               ],
               [
                0.6474,
                0.8254000000000001,
                0.8740000000000001,
                1.8719,
                2.0334000000000003,
                2.7396,
                1.6945999999999999,
                1.9652700000000003,
                2.30483
               ],
               [
                1.396,
                1.0995,
                1.4028,
                1.1395,
                1.9675000000000002,
                3.0101,
                3.3201,
                4.45514,
                5.67038
               ],
               []
              ]
             }
            ],
            "label": "Individuals doing an online course",
            "method": "update"
           },
           {
            "args": [
             {
              "x": [
               [
                "2011-01-01 00:00:00",
                "2013-01-01 00:00:00",
                "2015-01-01 00:00:00",
                "2017-01-01 00:00:00",
                "2019-01-01 00:00:00"
               ],
               [
                "2011-01-01 00:00:00",
                "2013-01-01 00:00:00",
                "2015-01-01 00:00:00",
                "2017-01-01 00:00:00",
                "2019-01-01 00:00:00"
               ],
               [
                "2011-01-01 00:00:00",
                "2013-01-01 00:00:00",
                "2015-01-01 00:00:00",
                "2017-01-01 00:00:00",
                "2019-01-01 00:00:00"
               ],
               [
                "2011-01-01 00:00:00",
                "2013-01-01 00:00:00",
                "2015-01-01 00:00:00",
                "2017-01-01 00:00:00",
                "2019-01-01 00:00:00"
               ],
               [
                "2011-01-01 00:00:00",
                "2013-01-01 00:00:00",
                "2015-01-01 00:00:00",
                "2017-01-01 00:00:00",
                "2019-01-01 00:00:00"
               ],
               [
                "2011-01-01 00:00:00",
                "2013-01-01 00:00:00",
                "2015-01-01 00:00:00",
                "2017-01-01 00:00:00",
                "2019-01-01 00:00:00"
               ],
               [
                "2011-01-01 00:00:00",
                "2013-01-01 00:00:00",
                "2015-01-01 00:00:00",
                "2017-01-01 00:00:00",
                "2019-01-01 00:00:00"
               ],
               [
                "2011-01-01 00:00:00",
                "2013-01-01 00:00:00",
                "2015-01-01 00:00:00",
                "2017-01-01 00:00:00",
                "2019-01-01 00:00:00"
               ],
               [
                "2011-01-01 00:00:00",
                "2013-01-01 00:00:00",
                "2017-01-01 00:00:00",
                "2019-01-01 00:00:00"
               ],
               [
                "2011-01-01 00:00:00",
                "2013-01-01 00:00:00",
                "2015-01-01 00:00:00",
                "2017-01-01 00:00:00",
                "2019-01-01 00:00:00"
               ],
               [
                "2011-01-01 00:00:00",
                "2013-01-01 00:00:00",
                "2015-01-01 00:00:00",
                "2017-01-01 00:00:00",
                "2019-01-01 00:00:00"
               ],
               [
                "2011-01-01 00:00:00",
                "2013-01-01 00:00:00",
                "2015-01-01 00:00:00",
                "2017-01-01 00:00:00",
                "2019-01-01 00:00:00"
               ],
               [
                "2011-01-01 00:00:00",
                "2013-01-01 00:00:00",
                "2015-01-01 00:00:00",
                "2017-01-01 00:00:00",
                "2019-01-01 00:00:00"
               ],
               [
                "2011-01-01 00:00:00",
                "2013-01-01 00:00:00",
                "2015-01-01 00:00:00",
                "2017-01-01 00:00:00",
                "2019-01-01 00:00:00"
               ],
               [
                "2011-01-01 00:00:00",
                "2013-01-01 00:00:00",
                "2015-01-01 00:00:00",
                "2017-01-01 00:00:00",
                "2019-01-01 00:00:00"
               ],
               [
                "2011-01-01 00:00:00",
                "2013-01-01 00:00:00",
                "2015-01-01 00:00:00",
                "2017-01-01 00:00:00",
                "2019-01-01 00:00:00"
               ],
               [
                "2011-01-01 00:00:00",
                "2013-01-01 00:00:00",
                "2015-01-01 00:00:00",
                "2017-01-01 00:00:00",
                "2019-01-01 00:00:00"
               ],
               [
                "2011-01-01 00:00:00",
                "2013-01-01 00:00:00",
                "2015-01-01 00:00:00",
                "2017-01-01 00:00:00",
                "2019-01-01 00:00:00"
               ],
               [
                "2011-01-01 00:00:00",
                "2013-01-01 00:00:00",
                "2015-01-01 00:00:00",
                "2017-01-01 00:00:00",
                "2019-01-01 00:00:00"
               ],
               [
                "2011-01-01 00:00:00",
                "2013-01-01 00:00:00",
                "2015-01-01 00:00:00",
                "2019-01-01 00:00:00"
               ],
               [
                "2011-01-01 00:00:00",
                "2013-01-01 00:00:00",
                "2015-01-01 00:00:00",
                "2017-01-01 00:00:00",
                "2019-01-01 00:00:00"
               ],
               [
                "2015-01-01 00:00:00",
                "2017-01-01 00:00:00"
               ],
               [
                "2011-01-01 00:00:00",
                "2013-01-01 00:00:00",
                "2015-01-01 00:00:00",
                "2019-01-01 00:00:00"
               ],
               [
                "2011-01-01 00:00:00",
                "2013-01-01 00:00:00",
                "2015-01-01 00:00:00",
                "2019-01-01 00:00:00"
               ],
               [
                "2011-01-01 00:00:00",
                "2013-01-01 00:00:00",
                "2015-01-01 00:00:00",
                "2019-01-01 00:00:00"
               ],
               [
                "2011-01-01 00:00:00",
                "2013-01-01 00:00:00",
                "2015-01-01 00:00:00",
                "2019-01-01 00:00:00"
               ],
               [
                "2011-01-01 00:00:00",
                "2013-01-01 00:00:00",
                "2015-01-01 00:00:00",
                "2019-01-01 00:00:00"
               ],
               [
                "2011-01-01 00:00:00",
                "2015-01-01 00:00:00",
                "2017-01-01 00:00:00",
                "2019-01-01 00:00:00"
               ],
               [
                "2011-01-01 00:00:00",
                "2015-01-01 00:00:00",
                "2017-01-01 00:00:00",
                "2019-01-01 00:00:00"
               ],
               [
                "2011-01-01 00:00:00",
                "2015-01-01 00:00:00",
                "2017-01-01 00:00:00",
                "2019-01-01 00:00:00"
               ],
               [
                "2011-01-01 00:00:00",
                "2015-01-01 00:00:00",
                "2017-01-01 00:00:00",
                "2019-01-01 00:00:00"
               ],
               []
              ],
              "y": [
               [
                8.8147,
                6.451900000000001,
                11.316199999999998,
                8.31717,
                25.9853
               ],
               [
                4.9427,
                5.355700000000001,
                5.1224,
                3.6092599999999995,
                2.89019
               ],
               [
                6.6981,
                9.9824,
                9.7641,
                11.2196,
                10.886
               ],
               [
                12.011400000000002,
                18.686600000000002,
                14.5562,
                12.884400000000001,
                14.9035
               ],
               [
                6.9605,
                10.36,
                5.980700000000001,
                7.40734,
                9.08164
               ],
               [
                6.2673000000000005,
                7.1152999999999995,
                8.6534,
                7.32698,
                10.2719
               ],
               [
                3.3583000000000003,
                2.8551,
                2.4286000000000003,
                3.33857,
                5.0019800000000005
               ],
               [
                3.9606999999999997,
                3.4983999999999993,
                3.3109,
                4.49788,
                6.672410000000001
               ],
               [
                31.571500000000004,
                25.228,
                25.990799999999997,
                26.3125
               ],
               [
                11.1685,
                10.568,
                13.0717,
                12.1295,
                16.8241
               ],
               [
                4.302,
                3.0593000000000004,
                4.8963,
                2.55036,
                5.9296500000000005
               ],
               [
                11.6808,
                11.495899999999999,
                13.219800000000001,
                13.517000000000001,
                14.9999
               ],
               [
                5.217300000000001,
                6.4353,
                5.852799999999999,
                6.05349,
                6.6444
               ],
               [
                8.636800000000001,
                6.1849,
                5.134600000000001,
                8.9357,
                10.2188
               ],
               [
                13.117999999999999,
                12.921300000000002,
                17.6879,
                31.994099999999996,
                16.4333
               ],
               [
                12.046400000000002,
                4.2743,
                3.4907,
                4.91092,
                6.22749
               ],
               [
                10.8414,
                9.3718,
                12.2767,
                17.363699999999998,
                15.504000000000001
               ],
               [
                25.561799999999995,
                6.9089,
                6.7017999999999995,
                9.39802,
                8.68145
               ],
               [
                12.7327,
                9.5837,
                8.461,
                9.380230000000001,
                11.7991
               ],
               [
                8.2657,
                6.8751999999999995,
                9.8798,
                11.5682
               ],
               [
                2.2471,
                2.1831,
                2.4311,
                4.17717,
                5.55772
               ],
               [
                7.5762,
                8.5943
               ],
               [
                2.6144999999999996,
                1.7641,
                2.0661,
                3.0940600000000003
               ],
               [
                12.0597,
                13.602,
                11.9063,
                12.7683
               ],
               [
                5.3092999999999995,
                7.6046000000000005,
                4.6516,
                4.69783
               ],
               [
                2.0057,
                3.2744000000000004,
                1.6966999999999999,
                4.67539
               ],
               [
                6.3256,
                7.8321000000000005,
                8.999600000000001,
                15.3797
               ],
               [
                7.9664,
                7.178999999999999,
                6.647010000000001,
                9.34201
               ],
               [
                2.1668,
                4.853000000000001,
                5.48177,
                5.20564
               ],
               [
                2.7176,
                2.9798,
                2.5973200000000003,
                3.54381
               ],
               [
                1.8751,
                2.1069,
                2.0321900000000004,
                4.1719599999999994
               ],
               []
              ]
             }
            ],
            "label": "Individuals taking part in on-line consultations or voting to define civic or political issues",
            "method": "update"
           },
           {
            "args": [
             {
              "x": [
               [
                "2008-01-01 00:00:00",
                "2009-01-01 00:00:00",
                "2010-01-01 00:00:00",
                "2011-01-01 00:00:00",
                "2012-01-01 00:00:00",
                "2013-01-01 00:00:00",
                "2014-01-01 00:00:00",
                "2015-01-01 00:00:00",
                "2016-01-01 00:00:00",
                "2017-01-01 00:00:00",
                "2019-01-01 00:00:00"
               ],
               [
                "2008-01-01 00:00:00",
                "2009-01-01 00:00:00",
                "2010-01-01 00:00:00",
                "2011-01-01 00:00:00",
                "2012-01-01 00:00:00",
                "2013-01-01 00:00:00",
                "2014-01-01 00:00:00",
                "2015-01-01 00:00:00",
                "2016-01-01 00:00:00",
                "2017-01-01 00:00:00",
                "2018-01-01 00:00:00",
                "2019-01-01 00:00:00"
               ],
               [
                "2008-01-01 00:00:00",
                "2009-01-01 00:00:00",
                "2010-01-01 00:00:00",
                "2011-01-01 00:00:00",
                "2012-01-01 00:00:00",
                "2013-01-01 00:00:00",
                "2014-01-01 00:00:00",
                "2015-01-01 00:00:00",
                "2016-01-01 00:00:00",
                "2017-01-01 00:00:00",
                "2019-01-01 00:00:00"
               ],
               [
                "2008-01-01 00:00:00",
                "2009-01-01 00:00:00",
                "2010-01-01 00:00:00",
                "2011-01-01 00:00:00",
                "2012-01-01 00:00:00",
                "2013-01-01 00:00:00",
                "2014-01-01 00:00:00",
                "2015-01-01 00:00:00",
                "2016-01-01 00:00:00",
                "2017-01-01 00:00:00",
                "2019-01-01 00:00:00"
               ],
               [
                "2008-01-01 00:00:00",
                "2009-01-01 00:00:00",
                "2010-01-01 00:00:00",
                "2011-01-01 00:00:00",
                "2012-01-01 00:00:00",
                "2013-01-01 00:00:00",
                "2014-01-01 00:00:00",
                "2015-01-01 00:00:00",
                "2016-01-01 00:00:00",
                "2017-01-01 00:00:00",
                "2019-01-01 00:00:00"
               ],
               [
                "2008-01-01 00:00:00",
                "2009-01-01 00:00:00",
                "2010-01-01 00:00:00",
                "2011-01-01 00:00:00",
                "2012-01-01 00:00:00",
                "2013-01-01 00:00:00",
                "2014-01-01 00:00:00",
                "2015-01-01 00:00:00",
                "2016-01-01 00:00:00",
                "2017-01-01 00:00:00",
                "2019-01-01 00:00:00"
               ],
               [
                "2008-01-01 00:00:00",
                "2009-01-01 00:00:00",
                "2010-01-01 00:00:00",
                "2011-01-01 00:00:00",
                "2012-01-01 00:00:00",
                "2013-01-01 00:00:00",
                "2014-01-01 00:00:00",
                "2015-01-01 00:00:00",
                "2016-01-01 00:00:00",
                "2017-01-01 00:00:00",
                "2019-01-01 00:00:00"
               ],
               [
                "2008-01-01 00:00:00",
                "2009-01-01 00:00:00",
                "2010-01-01 00:00:00",
                "2011-01-01 00:00:00",
                "2012-01-01 00:00:00",
                "2013-01-01 00:00:00",
                "2014-01-01 00:00:00",
                "2015-01-01 00:00:00",
                "2016-01-01 00:00:00",
                "2017-01-01 00:00:00",
                "2018-01-01 00:00:00",
                "2019-01-01 00:00:00"
               ],
               [
                "2008-01-01 00:00:00",
                "2009-01-01 00:00:00",
                "2010-01-01 00:00:00",
                "2011-01-01 00:00:00",
                "2012-01-01 00:00:00",
                "2013-01-01 00:00:00",
                "2014-01-01 00:00:00",
                "2017-01-01 00:00:00",
                "2018-01-01 00:00:00",
                "2019-01-01 00:00:00"
               ],
               [
                "2008-01-01 00:00:00",
                "2009-01-01 00:00:00",
                "2010-01-01 00:00:00",
                "2011-01-01 00:00:00",
                "2012-01-01 00:00:00",
                "2013-01-01 00:00:00",
                "2014-01-01 00:00:00",
                "2015-01-01 00:00:00",
                "2016-01-01 00:00:00",
                "2017-01-01 00:00:00",
                "2019-01-01 00:00:00"
               ],
               [
                "2008-01-01 00:00:00",
                "2009-01-01 00:00:00",
                "2010-01-01 00:00:00",
                "2011-01-01 00:00:00",
                "2012-01-01 00:00:00",
                "2013-01-01 00:00:00",
                "2014-01-01 00:00:00",
                "2015-01-01 00:00:00",
                "2016-01-01 00:00:00",
                "2017-01-01 00:00:00",
                "2019-01-01 00:00:00"
               ],
               [
                "2008-01-01 00:00:00",
                "2009-01-01 00:00:00",
                "2010-01-01 00:00:00",
                "2011-01-01 00:00:00",
                "2012-01-01 00:00:00",
                "2013-01-01 00:00:00",
                "2014-01-01 00:00:00",
                "2015-01-01 00:00:00",
                "2016-01-01 00:00:00",
                "2017-01-01 00:00:00",
                "2019-01-01 00:00:00"
               ],
               [
                "2008-01-01 00:00:00",
                "2009-01-01 00:00:00",
                "2010-01-01 00:00:00",
                "2011-01-01 00:00:00",
                "2012-01-01 00:00:00",
                "2013-01-01 00:00:00",
                "2014-01-01 00:00:00",
                "2015-01-01 00:00:00",
                "2016-01-01 00:00:00",
                "2017-01-01 00:00:00",
                "2018-01-01 00:00:00",
                "2019-01-01 00:00:00"
               ],
               [
                "2008-01-01 00:00:00",
                "2009-01-01 00:00:00",
                "2010-01-01 00:00:00",
                "2011-01-01 00:00:00",
                "2012-01-01 00:00:00",
                "2013-01-01 00:00:00",
                "2014-01-01 00:00:00",
                "2015-01-01 00:00:00",
                "2016-01-01 00:00:00",
                "2017-01-01 00:00:00",
                "2018-01-01 00:00:00",
                "2019-01-01 00:00:00"
               ],
               [
                "2008-01-01 00:00:00",
                "2009-01-01 00:00:00",
                "2010-01-01 00:00:00",
                "2011-01-01 00:00:00",
                "2012-01-01 00:00:00",
                "2013-01-01 00:00:00",
                "2014-01-01 00:00:00",
                "2015-01-01 00:00:00",
                "2016-01-01 00:00:00",
                "2017-01-01 00:00:00",
                "2019-01-01 00:00:00"
               ],
               [
                "2008-01-01 00:00:00",
                "2009-01-01 00:00:00",
                "2010-01-01 00:00:00",
                "2011-01-01 00:00:00",
                "2012-01-01 00:00:00",
                "2013-01-01 00:00:00",
                "2014-01-01 00:00:00",
                "2015-01-01 00:00:00",
                "2016-01-01 00:00:00",
                "2017-01-01 00:00:00",
                "2019-01-01 00:00:00"
               ],
               [
                "2008-01-01 00:00:00",
                "2009-01-01 00:00:00",
                "2010-01-01 00:00:00",
                "2011-01-01 00:00:00",
                "2012-01-01 00:00:00",
                "2013-01-01 00:00:00",
                "2014-01-01 00:00:00",
                "2015-01-01 00:00:00",
                "2016-01-01 00:00:00",
                "2017-01-01 00:00:00",
                "2019-01-01 00:00:00"
               ],
               [
                "2008-01-01 00:00:00",
                "2009-01-01 00:00:00",
                "2010-01-01 00:00:00",
                "2011-01-01 00:00:00",
                "2012-01-01 00:00:00",
                "2013-01-01 00:00:00",
                "2014-01-01 00:00:00",
                "2015-01-01 00:00:00",
                "2016-01-01 00:00:00",
                "2017-01-01 00:00:00",
                "2019-01-01 00:00:00"
               ],
               [
                "2008-01-01 00:00:00",
                "2009-01-01 00:00:00",
                "2010-01-01 00:00:00",
                "2011-01-01 00:00:00",
                "2012-01-01 00:00:00",
                "2013-01-01 00:00:00",
                "2014-01-01 00:00:00",
                "2015-01-01 00:00:00",
                "2016-01-01 00:00:00",
                "2017-01-01 00:00:00",
                "2019-01-01 00:00:00"
               ],
               [
                "2008-01-01 00:00:00",
                "2009-01-01 00:00:00",
                "2010-01-01 00:00:00",
                "2011-01-01 00:00:00",
                "2012-01-01 00:00:00",
                "2013-01-01 00:00:00",
                "2014-01-01 00:00:00",
                "2015-01-01 00:00:00",
                "2016-01-01 00:00:00",
                "2017-01-01 00:00:00",
                "2018-01-01 00:00:00",
                "2019-01-01 00:00:00"
               ],
               [
                "2008-01-01 00:00:00",
                "2009-01-01 00:00:00",
                "2010-01-01 00:00:00",
                "2011-01-01 00:00:00",
                "2012-01-01 00:00:00",
                "2013-01-01 00:00:00",
                "2014-01-01 00:00:00",
                "2015-01-01 00:00:00",
                "2016-01-01 00:00:00",
                "2017-01-01 00:00:00",
                "2018-01-01 00:00:00",
                "2019-01-01 00:00:00"
               ],
               [
                "2008-01-01 00:00:00",
                "2014-01-01 00:00:00",
                "2015-01-01 00:00:00",
                "2017-01-01 00:00:00",
                "2018-01-01 00:00:00"
               ],
               [
                "2008-01-01 00:00:00",
                "2009-01-01 00:00:00",
                "2010-01-01 00:00:00",
                "2011-01-01 00:00:00",
                "2012-01-01 00:00:00",
                "2013-01-01 00:00:00",
                "2014-01-01 00:00:00",
                "2015-01-01 00:00:00",
                "2016-01-01 00:00:00",
                "2018-01-01 00:00:00",
                "2019-01-01 00:00:00"
               ],
               [
                "2008-01-01 00:00:00",
                "2009-01-01 00:00:00",
                "2010-01-01 00:00:00",
                "2011-01-01 00:00:00",
                "2012-01-01 00:00:00",
                "2013-01-01 00:00:00",
                "2014-01-01 00:00:00",
                "2015-01-01 00:00:00",
                "2016-01-01 00:00:00",
                "2018-01-01 00:00:00",
                "2019-01-01 00:00:00"
               ],
               [
                "2008-01-01 00:00:00",
                "2009-01-01 00:00:00",
                "2010-01-01 00:00:00",
                "2011-01-01 00:00:00",
                "2012-01-01 00:00:00",
                "2013-01-01 00:00:00",
                "2014-01-01 00:00:00",
                "2015-01-01 00:00:00",
                "2016-01-01 00:00:00",
                "2018-01-01 00:00:00",
                "2019-01-01 00:00:00"
               ],
               [
                "2008-01-01 00:00:00",
                "2009-01-01 00:00:00",
                "2010-01-01 00:00:00",
                "2011-01-01 00:00:00",
                "2012-01-01 00:00:00",
                "2013-01-01 00:00:00",
                "2014-01-01 00:00:00",
                "2015-01-01 00:00:00",
                "2016-01-01 00:00:00",
                "2018-01-01 00:00:00",
                "2019-01-01 00:00:00"
               ],
               [
                "2008-01-01 00:00:00",
                "2009-01-01 00:00:00",
                "2010-01-01 00:00:00",
                "2011-01-01 00:00:00",
                "2012-01-01 00:00:00",
                "2013-01-01 00:00:00",
                "2014-01-01 00:00:00",
                "2015-01-01 00:00:00",
                "2016-01-01 00:00:00",
                "2018-01-01 00:00:00",
                "2019-01-01 00:00:00"
               ],
               [
                "2008-01-01 00:00:00",
                "2009-01-01 00:00:00",
                "2010-01-01 00:00:00",
                "2011-01-01 00:00:00",
                "2012-01-01 00:00:00",
                "2013-01-01 00:00:00",
                "2014-01-01 00:00:00",
                "2015-01-01 00:00:00",
                "2016-01-01 00:00:00",
                "2017-01-01 00:00:00",
                "2018-01-01 00:00:00",
                "2019-01-01 00:00:00"
               ],
               [
                "2008-01-01 00:00:00",
                "2009-01-01 00:00:00",
                "2010-01-01 00:00:00",
                "2011-01-01 00:00:00",
                "2012-01-01 00:00:00",
                "2013-01-01 00:00:00",
                "2014-01-01 00:00:00",
                "2015-01-01 00:00:00",
                "2016-01-01 00:00:00",
                "2017-01-01 00:00:00",
                "2018-01-01 00:00:00",
                "2019-01-01 00:00:00"
               ],
               [
                "2008-01-01 00:00:00",
                "2009-01-01 00:00:00",
                "2010-01-01 00:00:00",
                "2011-01-01 00:00:00",
                "2012-01-01 00:00:00",
                "2013-01-01 00:00:00",
                "2014-01-01 00:00:00",
                "2015-01-01 00:00:00",
                "2016-01-01 00:00:00",
                "2017-01-01 00:00:00",
                "2018-01-01 00:00:00",
                "2019-01-01 00:00:00"
               ],
               [
                "2008-01-01 00:00:00",
                "2009-01-01 00:00:00",
                "2010-01-01 00:00:00",
                "2011-01-01 00:00:00",
                "2012-01-01 00:00:00",
                "2013-01-01 00:00:00",
                "2014-01-01 00:00:00",
                "2015-01-01 00:00:00",
                "2016-01-01 00:00:00",
                "2017-01-01 00:00:00",
                "2018-01-01 00:00:00",
                "2019-01-01 00:00:00"
               ],
               []
              ],
              "y": [
               [
                37.066500000000005,
                46.3701,
                50.007999999999996,
                53.0416,
                54.3288,
                48.3925,
                50.69819999999999,
                81.2796,
                76.9263,
                77.9844,
                80.0156
               ],
               [
                12.7165,
                14.4002,
                15.782000000000002,
                26.826800000000002,
                34.2652,
                35.5891,
                45.12310000000001,
                46.40260000000001,
                48.888999999999996,
                47.353100000000005,
                49.7453,
                52.093999999999994
               ],
               [
                31.2718,
                34.0637,
                38.4611,
                38.2742,
                43.771899999999995,
                43.6921,
                48.995200000000004,
                49.3762,
                50.1407,
                52.3512,
                57.6411
               ],
               [
                62.4911,
                64.1994,
                67.5446,
                68.03020000000001,
                69.5663,
                69.3485,
                80.18469999999999,
                78.56689999999999,
                81.6125,
                82.969,
                87.29540000000001
               ],
               [
                48.100699999999996,
                47.3383,
                57.262899999999995,
                56.827600000000004,
                61.4384,
                60.2142,
                63.7656,
                62.80180000000001,
                65.8601,
                67.9222,
                74.7242
               ],
               [
                15.553599999999998,
                17.047,
                19.4151,
                17.396199999999997,
                25.7019,
                24.8504,
                31.9355,
                35.0672,
                36.17829999999999,
                32.1956,
                33.0377
               ],
               [
                28.129099999999994,
                30.2709,
                34.3199,
                37.65090000000001,
                42.2772,
                37.1529,
                48.7166,
                42.211800000000004,
                48.2082,
                47.131099999999996,
                52.79430000000001
               ],
               [
                34.152899999999995,
                36.8435,
                36.8014,
                44.0597,
                49.342600000000004,
                45.2347,
                51.45430000000001,
                49.805600000000005,
                51.7682,
                55.3407,
                53.682399999999994,
                61.0978
               ],
               [
                73.8116,
                80.4659,
                82.2732,
                84.0908,
                85.61989999999999,
                81.4702,
                84.98740000000001,
                85.2548,
                90.5166,
                89.22889999999998
               ],
               [
                44.491499999999995,
                48.0858,
                49.9041,
                49.992700000000006,
                51.095600000000005,
                49.0787,
                52.65880000000001,
                53.270399999999995,
                54.5748,
                53.4724,
                59.09770000000001
               ],
               [
                19.1215,
                26.369999999999997,
                22.898400000000002,
                42.199,
                30.759699999999995,
                29.258,
                37.0786,
                32.325199999999995,
                35.8952,
                45.596000000000004,
                53.776599999999995
               ],
               [
                49.4437,
                72.71640000000001,
                78.3375,
                80.8115,
                82.74000000000001,
                85.26530000000001,
                84.44209999999998,
                88.0819,
                88.3222,
                89.2137,
                91.6709
               ],
               [
                19.798099999999998,
                20.8041,
                22.7,
                22.1831,
                19.1174,
                20.6296,
                22.9819,
                23.982699999999998,
                24.099400000000003,
                24.5563,
                24.2755,
                23.408099999999997
               ],
               [
                22.4779,
                21.624399999999998,
                24.225700000000003,
                29.3506,
                35.9138,
                33.603,
                41.466899999999995,
                43.704899999999995,
                44.885000000000005,
                48.4011,
                50.7818,
                54.73329999999999
               ],
               [
                60.343999999999994,
                66.08930000000001,
                67.40899999999999,
                60.2908,
                61.4494,
                56.1457,
                66.7844,
                70.28979999999999,
                76.38770000000001,
                75.1266,
                60.141999999999996
               ],
               [
                20.484,
                29.7215,
                39.9477,
                41.3095,
                47.2509,
                35.4071,
                53.54449999999999,
                52.1303,
                69.45100000000001,
                68.5064,
                69.5723
               ],
               [
                25.305300000000003,
                33.7831,
                37.390100000000004,
                37.2453,
                40.9114,
                31.797700000000003,
                40.7008,
                42.4739,
                44.8085,
                45.793,
                50.041000000000004
               ],
               [
                60.544799999999995,
                61.0297,
                63.63720000000001,
                62.3413,
                66.82020000000001,
                78.51020000000001,
                75.3441,
                74.88510000000001,
                76.09989999999999,
                79.11550000000001,
                81.2052
               ],
               [
                71.8648,
                73.8602,
                76.46109999999999,
                77.7515,
                77.6914,
                76.1079,
                81.9428,
                81.3436,
                84.7174,
                84.088,
                86.71759999999999
               ],
               [
                18.5979,
                21.0995,
                26.0683,
                36.510799999999996,
                38.850300000000004,
                37.664500000000004,
                41.3919,
                43.1119,
                44.6841,
                45.9838,
                41.569300000000005,
                40.9813
               ],
               [
                21.652800000000003,
                24.65,
                28.066999999999997,
                27.560999999999996,
                31.586,
                22.645799999999998,
                26.865500000000004,
                26.5679,
                30.2243,
                30.8139,
                35.4946,
                40.4464
               ],
               [
                35.2213,
                46.6918,
                46.2128,
                48.7962,
                52.29390000000001
               ],
               [
                null,
                6.962,
                8.3146,
                7.215299999999999,
                30.7692,
                4.9303,
                10.1925,
                10.7725,
                9.0681,
                9.34817,
                11.651900000000001
               ],
               [
                58.8073,
                64.6139,
                68.2839,
                73.5588,
                78.2161,
                78.11,
                81.02279999999999,
                72.77130000000001,
                77.87970000000001,
                83.22940000000001,
                85.98040000000002
               ],
               [
                34.6219,
                35.480900000000005,
                44.3351,
                45.637,
                48.0541,
                51.5361,
                52.9371,
                45.2117,
                45.3564,
                53.97529999999999,
                53.0449
               ],
               [
                39.5546,
                37.6274,
                50.4794,
                48.226,
                42.396699999999996,
                32.717600000000004,
                57.0546,
                50.7173,
                47.9412,
                51.276199999999996,
                58.9522
               ],
               [
                39.604299999999995,
                47.9633,
                48.1434,
                39.646300000000004,
                43.264300000000006,
                40.9217,
                51.364,
                49.0173,
                52.6177,
                59.0465,
                62.99100000000001
               ],
               [
                51.2252,
                48.851499999999994,
                51.0458,
                51.289300000000004,
                52.827400000000004,
                53.6259,
                58.633,
                56.7484,
                59.98480000000001,
                61.9779,
                66.12209999999999,
                69.7355
               ],
               [
                26.2371,
                40.623200000000004,
                45.2737,
                47.251599999999996,
                49.7666,
                49.6119,
                55.063100000000006,
                52.1393,
                54.9014,
                55.138299999999994,
                56.4484,
                58.605
               ],
               [
                9.969700000000001,
                11.442499999999999,
                24.2429,
                25.425399999999996,
                26.642,
                22.5746,
                21.017800000000005,
                17.8443,
                18.595200000000002,
                20.6679,
                22.2473,
                25.4323
               ],
               [
                17.9347,
                24.456500000000002,
                25.3919,
                29.1781,
                29.8636,
                30.189499999999995,
                41.4486,
                33.6876,
                38.3845,
                42.3034,
                41.661,
                50.2632
               ],
               []
              ]
             }
            ],
            "label": "Individuals interacting online with public authorities, last 12 months",
            "method": "update"
           },
           {
            "args": [
             {
              "x": [
               [
                "2016-01-01 00:00:00",
                "2017-01-01 00:00:00",
                "2019-01-01 00:00:00"
               ],
               [
                "2016-01-01 00:00:00",
                "2017-01-01 00:00:00",
                "2019-01-01 00:00:00"
               ],
               [
                "2016-01-01 00:00:00",
                "2017-01-01 00:00:00",
                "2019-01-01 00:00:00"
               ],
               [
                "2016-01-01 00:00:00",
                "2017-01-01 00:00:00",
                "2019-01-01 00:00:00"
               ],
               [
                "2016-01-01 00:00:00",
                "2017-01-01 00:00:00",
                "2019-01-01 00:00:00"
               ],
               [
                "2016-01-01 00:00:00",
                "2017-01-01 00:00:00",
                "2019-01-01 00:00:00"
               ],
               [
                "2016-01-01 00:00:00",
                "2017-01-01 00:00:00",
                "2019-01-01 00:00:00"
               ],
               [
                "2016-01-01 00:00:00",
                "2017-01-01 00:00:00",
                "2019-01-01 00:00:00"
               ],
               [
                "2017-01-01 00:00:00",
                "2019-01-01 00:00:00"
               ],
               [
                "2016-01-01 00:00:00",
                "2017-01-01 00:00:00",
                "2019-01-01 00:00:00"
               ],
               [
                "2016-01-01 00:00:00",
                "2017-01-01 00:00:00",
                "2019-01-01 00:00:00"
               ],
               [
                "2016-01-01 00:00:00",
                "2017-01-01 00:00:00",
                "2019-01-01 00:00:00"
               ],
               [
                "2016-01-01 00:00:00",
                "2019-01-01 00:00:00"
               ],
               [
                "2016-01-01 00:00:00",
                "2017-01-01 00:00:00",
                "2019-01-01 00:00:00"
               ],
               [
                "2016-01-01 00:00:00",
                "2017-01-01 00:00:00",
                "2019-01-01 00:00:00"
               ],
               [
                "2016-01-01 00:00:00",
                "2017-01-01 00:00:00",
                "2019-01-01 00:00:00"
               ],
               [
                "2016-01-01 00:00:00",
                "2017-01-01 00:00:00",
                "2019-01-01 00:00:00"
               ],
               [
                "2016-01-01 00:00:00",
                "2017-01-01 00:00:00",
                "2019-01-01 00:00:00"
               ],
               [
                "2016-01-01 00:00:00",
                "2017-01-01 00:00:00",
                "2019-01-01 00:00:00"
               ],
               [
                "2016-01-01 00:00:00",
                "2017-01-01 00:00:00",
                "2019-01-01 00:00:00"
               ],
               [
                "2016-01-01 00:00:00",
                "2017-01-01 00:00:00",
                "2019-01-01 00:00:00"
               ],
               [
                "2015-01-01 00:00:00",
                "2016-01-01 00:00:00",
                "2017-01-01 00:00:00",
                "2019-01-01 00:00:00"
               ],
               [
                "2016-01-01 00:00:00",
                "2017-01-01 00:00:00",
                "2019-01-01 00:00:00"
               ],
               [
                "2016-01-01 00:00:00",
                "2017-01-01 00:00:00",
                "2019-01-01 00:00:00"
               ],
               [
                "2016-01-01 00:00:00",
                "2017-01-01 00:00:00",
                "2019-01-01 00:00:00"
               ],
               [
                "2016-01-01 00:00:00",
                "2017-01-01 00:00:00",
                "2019-01-01 00:00:00"
               ],
               [
                "2016-01-01 00:00:00",
                "2017-01-01 00:00:00",
                "2019-01-01 00:00:00"
               ],
               [
                "2016-01-01 00:00:00",
                "2017-01-01 00:00:00",
                "2019-01-01 00:00:00"
               ],
               [
                "2016-01-01 00:00:00",
                "2017-01-01 00:00:00",
                "2019-01-01 00:00:00"
               ],
               [
                "2016-01-01 00:00:00",
                "2017-01-01 00:00:00",
                "2019-01-01 00:00:00"
               ],
               [
                "2016-01-01 00:00:00",
                "2017-01-01 00:00:00",
                "2019-01-01 00:00:00"
               ],
               []
              ],
              "y": [
               [
                61.015600000000006,
                61.4669,
                62.458999999999996
               ],
               [
                53.3857,
                52.1442,
                55.90109999999999
               ],
               [
                56.4032,
                57.87799999999999,
                59.2823
               ],
               [
                75.5643,
                76.1769,
                77.0457
               ],
               [
                58.9134,
                60.2584,
                60.05629999999999
               ],
               [
                58.4773,
                44.0848,
                56.0195
               ],
               [
                54.127199999999995,
                52.0821,
                50.62270000000001
               ],
               [
                45.961800000000004,
                49.4382,
                54.844899999999996
               ],
               [
                86.64290000000001,
                86.1841
               ],
               [
                69.9085,
                70.1581,
                71.7547
               ],
               [
                56.614200000000004,
                62.443599999999996,
                64.16619999999999
               ],
               [
                78.8733,
                72.3203,
                70.3618
               ],
               [
                48.4089,
                45.36
               ],
               [
                54.12630000000001,
                56.995200000000004,
                58.026199999999996
               ],
               [
                88.36510000000001,
                87.1485,
                67.84750000000001
               ],
               [
                51.9845,
                48.903200000000005,
                43.8928
               ],
               [
                51.9116,
                57.230599999999995,
                57.501400000000004
               ],
               [
                77.7454,
                80.4372,
                80.0646
               ],
               [
                75.5858,
                78.10430000000001,
                83.0652
               ],
               [
                51.9274,
                54.6358,
                55.0091
               ],
               [
                47.1366,
                48.8367,
                46.08930000000001
               ],
               [
                58.6911,
                59.080799999999996,
                59.997600000000006,
                60.57090000000001
               ],
               [
                29.543200000000002,
                31.521700000000003,
                35.0749
               ],
               [
                69.7201,
                78.2983,
                73.5274
               ],
               [
                57.1574,
                56.924600000000005,
                58.64560000000001
               ],
               [
                57.168,
                62.8726,
                55.56399999999999
               ],
               [
                70.7681,
                72.9189,
                75.4836
               ],
               [
                68.99340000000001,
                71.131,
                68.5025
               ],
               [
                64.0506,
                63.00789999999999,
                62.2441
               ],
               [
                28.3144,
                30.9284,
                30.8958
               ],
               [
                46.3523,
                54.3614,
                46.289300000000004
               ],
               []
              ]
             }
            ],
            "label": "Individuals with at least basic digital skills in Software domain",
            "method": "update"
           },
           {
            "args": [
             {
              "x": [
               [
                "2006-01-01 00:00:00",
                "2007-01-01 00:00:00",
                "2011-01-01 00:00:00"
               ],
               [
                "2005-01-01 00:00:00",
                "2006-01-01 00:00:00",
                "2007-01-01 00:00:00",
                "2011-01-01 00:00:00"
               ],
               [
                "2006-01-01 00:00:00",
                "2007-01-01 00:00:00",
                "2011-01-01 00:00:00"
               ],
               [
                "2005-01-01 00:00:00",
                "2006-01-01 00:00:00",
                "2007-01-01 00:00:00",
                "2011-01-01 00:00:00"
               ],
               [
                "2006-01-01 00:00:00",
                "2007-01-01 00:00:00",
                "2011-01-01 00:00:00"
               ],
               [
                "2007-01-01 00:00:00",
                "2011-01-01 00:00:00"
               ],
               [
                "2005-01-01 00:00:00",
                "2006-01-01 00:00:00",
                "2007-01-01 00:00:00",
                "2011-01-01 00:00:00"
               ],
               [
                "2006-01-01 00:00:00",
                "2007-01-01 00:00:00",
                "2011-01-01 00:00:00"
               ],
               [
                "2005-01-01 00:00:00",
                "2006-01-01 00:00:00",
                "2007-01-01 00:00:00",
                "2011-01-01 00:00:00"
               ],
               [
                "2005-01-01 00:00:00",
                "2006-01-01 00:00:00",
                "2007-01-01 00:00:00",
                "2011-01-01 00:00:00"
               ],
               [
                "2006-01-01 00:00:00",
                "2007-01-01 00:00:00",
                "2011-01-01 00:00:00"
               ],
               [
                "2006-01-01 00:00:00",
                "2007-01-01 00:00:00",
                "2011-01-01 00:00:00"
               ],
               [
                "2005-01-01 00:00:00",
                "2006-01-01 00:00:00",
                "2007-01-01 00:00:00",
                "2011-01-01 00:00:00"
               ],
               [
                "2005-01-01 00:00:00",
                "2006-01-01 00:00:00",
                "2007-01-01 00:00:00",
                "2011-01-01 00:00:00"
               ],
               [
                "2005-01-01 00:00:00",
                "2006-01-01 00:00:00",
                "2007-01-01 00:00:00",
                "2011-01-01 00:00:00"
               ],
               [
                "2005-01-01 00:00:00",
                "2006-01-01 00:00:00",
                "2007-01-01 00:00:00",
                "2011-01-01 00:00:00"
               ],
               [
                "2005-01-01 00:00:00",
                "2006-01-01 00:00:00",
                "2007-01-01 00:00:00",
                "2011-01-01 00:00:00"
               ],
               [
                "2005-01-01 00:00:00",
                "2006-01-01 00:00:00",
                "2007-01-01 00:00:00",
                "2011-01-01 00:00:00"
               ],
               [
                "2005-01-01 00:00:00",
                "2006-01-01 00:00:00",
                "2007-01-01 00:00:00",
                "2011-01-01 00:00:00"
               ],
               [
                "2005-01-01 00:00:00",
                "2006-01-01 00:00:00",
                "2007-01-01 00:00:00",
                "2011-01-01 00:00:00"
               ],
               [
                "2005-01-01 00:00:00",
                "2006-01-01 00:00:00",
                "2007-01-01 00:00:00",
                "2011-01-01 00:00:00"
               ],
               [
                "2005-01-01 00:00:00",
                "2006-01-01 00:00:00",
                "2007-01-01 00:00:00"
               ],
               [
                "2006-01-01 00:00:00",
                "2007-01-01 00:00:00",
                "2011-01-01 00:00:00"
               ],
               [
                "2005-01-01 00:00:00",
                "2006-01-01 00:00:00",
                "2007-01-01 00:00:00",
                "2011-01-01 00:00:00"
               ],
               [
                "2005-01-01 00:00:00",
                "2006-01-01 00:00:00",
                "2007-01-01 00:00:00",
                "2011-01-01 00:00:00"
               ],
               [
                "2005-01-01 00:00:00",
                "2006-01-01 00:00:00",
                "2007-01-01 00:00:00",
                "2011-01-01 00:00:00"
               ],
               [],
               [
                "2006-01-01 00:00:00",
                "2007-01-01 00:00:00",
                "2011-01-01 00:00:00"
               ],
               [
                "2006-01-01 00:00:00",
                "2007-01-01 00:00:00",
                "2011-01-01 00:00:00"
               ],
               [
                "2006-01-01 00:00:00",
                "2007-01-01 00:00:00",
                "2011-01-01 00:00:00"
               ],
               [
                "2005-01-01 00:00:00",
                "2006-01-01 00:00:00",
                "2007-01-01 00:00:00",
                "2011-01-01 00:00:00"
               ],
               []
              ],
              "y": [
               [
                27.604200000000002,
                29.5049,
                35.6842
               ],
               [
                14.4763,
                16.9177,
                16.6417,
                21.8389
               ],
               [
                18.6796,
                19.8708,
                20.4557
               ],
               [
                29.4498,
                25.067800000000002,
                26.547700000000003,
                38.7477
               ],
               [
                18.010299999999997,
                22.0429,
                32.0361
               ],
               [
                13.231099999999998,
                20.8983
               ],
               [
                19.2856,
                24.380100000000002,
                26.1847,
                30.556300000000004
               ],
               [
                25.374800000000004,
                23.6422,
                27.2063
               ],
               [
                34.2985,
                36.7001,
                44.511,
                50.5326
               ],
               [
                22.1676,
                27.407700000000002,
                27.1307,
                28.4507
               ],
               [
                20.7771,
                22.3706,
                30.8136
               ],
               [
                26.6845,
                26.411799999999996,
                31.803700000000003
               ],
               [
                11.4903,
                12.1959,
                13.8561,
                16.101300000000002
               ],
               [
                21.5656,
                25.804,
                27.8383,
                33.3607
               ],
               [
                26.270100000000003,
                25.2913,
                26.777,
                34.88699999999999
               ],
               [
                23.4737,
                24.041500000000003,
                29.383200000000002,
                33.839400000000005
               ],
               [
                16.2809,
                17.7398,
                18.6832,
                27.647199999999998
               ],
               [
                17.746,
                18.2516,
                15.975599999999998,
                26.145699999999998
               ],
               [
                26.758899999999997,
                24.8092,
                21.9241,
                19.7829
               ],
               [
                16.5123,
                18.0861,
                21.6551,
                25.2716
               ],
               [
                23.409899999999997,
                24.2014,
                24.5508,
                29.4527
               ],
               [
                20.4024,
                20.8426,
                21.9727
               ],
               [
                12.790000000000001,
                13.403699999999999,
                16.8722
               ],
               [
                22.526799999999998,
                21.8651,
                32.266,
                39.973600000000005
               ],
               [
                24.4114,
                27.166999999999998,
                28.0064,
                30.916700000000002
               ],
               [
                24.186,
                25.598100000000002,
                27.4595,
                38.582
               ],
               [],
               [
                22.02,
                25.1922,
                32.0369
               ],
               [
                19.0198,
                20.1752,
                31.736399999999996
               ],
               [
                15.639600000000002,
                13.788800000000002,
                19.6858
               ],
               [
                25.8818,
                25.1155,
                25.2772,
                36.0653
               ],
               []
              ]
             }
            ],
            "label": "Individuals who have obtained ICT skills through formal educational institutions",
            "method": "update"
           }
          ],
          "showactive": true,
          "x": 1.1,
          "xanchor": "right",
          "y": 1.17,
          "yanchor": "top"
         }
        ],
        "width": 1200,
        "xaxis": {
         "title": {
          "text": "Year"
         }
        },
        "yaxis": {
         "rangemode": "tozero",
         "title": {
          "text": "Percentage"
         }
        }
       }
      }
     },
     "metadata": {}
    }
   ],
   "source": [
    "countries_list = [country for country in countries_mapping.values()]\n",
    "\n",
    "# Get the x,y data of all the countries given a label\n",
    "def get_data(label):\n",
    "    x_data = []\n",
    "    y_data = []\n",
    "    for country in countries_list:\n",
    "        data = key_indicators.loc[(key_indicators['indicator'] == label) & (key_indicators['ref_area'] == country)]\n",
    "        # Check if there are multiple breakdowns: if so, keep only the 'total' one\n",
    "        if len(data['breakdown'].unique()) > 1:\n",
    "            if len(data['unit_measure'].unique()) > 1:\n",
    "                data = data.loc[(data['breakdown'].str.contains('total')) & (data['unit_measure'] == 'pc_ind')]\n",
    "            else:\n",
    "                data = data.loc[(data['breakdown'].str.contains('total'))]\n",
    "        data = data.sort_values('time_period')\n",
    "        x_data.append(list(data['time_period']))\n",
    "        y_data.append(list(data['value']))\n",
    "    return x_data, y_data\n",
    "\n",
    "current_indicator = labels[0]\n",
    "\n",
    "# Build Figure\n",
    "fig = go.FigureWidget()\n",
    "palette = generate_rgb_colors() # Obtain n different hex colors, where n is the number of countries\n",
    "\n",
    "for index, country in enumerate(countries_list):\n",
    "    current_data = key_indicators.loc[(key_indicators['indicator'] == current_indicator) & (key_indicators['ref_area'] == country)]\n",
    "    # Check if there are multiple breakdowns: if so, keep only the 'total' one\n",
    "    if len(current_data['breakdown'].unique()) > 1:\n",
    "        current_data = current_data.loc[current_data['breakdown'].str.contains('total')]\n",
    "    current_data = current_data.sort_values('time_period')\n",
    "    if (country == 'Italy') or (country == 'Europe'):\n",
    "        visible = True\n",
    "    else:\n",
    "        visible = 'legendonly'\n",
    "    fig.add_trace(go.Scatter(\n",
    "        x=list(current_data['time_period']),\n",
    "        y=list(current_data['value']),\n",
    "        name=country,\n",
    "        visible=visible,\n",
    "        mode='lines+markers+text',\n",
    "        textposition='bottom center',\n",
    "        text=country,\n",
    "        line=dict(color='rgb' + str(palette[index]), shape='spline', smoothing=1.0)))\n",
    "\n",
    "# Create one button for each label\n",
    "buttons = []\n",
    "for index, label in enumerate(labels):\n",
    "    x_data, y_data = get_data(label)\n",
    "    btn = dict(label=label, method='update', args=[{'x': x_data, 'y': y_data}])\n",
    "    buttons.append(btn)\n",
    "\n",
    "\n",
    "fig.update_layout(width=1200, height=600, title='Select an indicator and compare countries',\n",
    "                  xaxis_title='Year',\n",
    "                  yaxis_title='Percentage',\n",
    "                  legend_title_text='Countries',\n",
    "                  showlegend=True,\n",
    "                  updatemenus=[\n",
    "                    dict(active=0, buttons=buttons, xanchor='right', yanchor='top', showactive=True, x=1.1, y=1.17)\n",
    "                  ])\n",
    "\n",
    "fig.update_yaxes(rangemode=\"tozero\")\n",
    "\n",
    "fig.show()"
   ]
  },
  {
   "cell_type": "code",
   "execution_count": 48,
   "metadata": {},
   "outputs": [],
   "source": [
    "fig.write_html(\"time_series.html\")"
   ]
  }
 ],
 "metadata": {
  "kernelspec": {
   "display_name": "Python 3",
   "language": "python",
   "name": "python3"
  },
  "language_info": {
   "codemirror_mode": {
    "name": "ipython",
    "version": 3
   },
   "file_extension": ".py",
   "mimetype": "text/x-python",
   "name": "python",
   "nbconvert_exporter": "python",
   "pygments_lexer": "ipython3",
   "version": "3.6.9-final"
  },
  "widgets": {
   "application/vnd.jupyter.widget-state+json": {
    "state": {
     "01eab46ad0c440789e46e3f06f312993": {
      "model_module": "@jupyter-widgets/controls",
      "model_module_version": "1.5.0",
      "model_name": "DescriptionStyleModel",
      "state": {
       "description_width": ""
      }
     },
     "27a2286233a54d85bdc4016f7cb0ab7c": {
      "model_module": "@jupyter-widgets/controls",
      "model_module_version": "1.5.0",
      "model_name": "VBoxModel",
      "state": {
       "children": [
        "IPY_MODEL_34bcef4ff1e447478f14a77e59682795",
        "IPY_MODEL_4374687d020c4475867f705261718bf4"
       ],
       "layout": "IPY_MODEL_f1cd3bd5c5224a8db0629a91c4c9663f"
      }
     },
     "283112ed666f4477b28e11174621c31b": {
      "model_module": "@jupyter-widgets/controls",
      "model_module_version": "1.5.0",
      "model_name": "VBoxModel",
      "state": {
       "children": [
        "IPY_MODEL_4ae274f288654d6694686c23e1641384",
        "IPY_MODEL_c28c9bbdd22a489b88564f4e0de2da00"
       ],
       "layout": "IPY_MODEL_95b357ab4ac54acda413ed5668c51e06"
      }
     },
     "2fb7a337541b4eecbade4b76e5c5040d": {
      "model_module": "@jupyter-widgets/base",
      "model_module_version": "1.2.0",
      "model_name": "LayoutModel",
      "state": {}
     },
     "34bcef4ff1e447478f14a77e59682795": {
      "model_module": "@jupyter-widgets/controls",
      "model_module_version": "1.5.0",
      "model_name": "HTMLModel",
      "state": {
       "layout": "IPY_MODEL_7f3427ba8b674be7a044174652283678",
       "style": "IPY_MODEL_5c7e3bc827a74a8fb5195ac129db6df2",
       "value": "<h1>See the evolution of an indicator and compare countries</h1>"
      }
     },
     "35dc2f2ffd4843d0baa99759d7be5407": {
      "model_module": "@jupyter-widgets/base",
      "model_module_version": "1.2.0",
      "model_name": "LayoutModel",
      "state": {}
     },
     "379da9059597437c8b1185bc908eb709": {
      "model_module": "@jupyter-widgets/controls",
      "model_module_version": "1.5.0",
      "model_name": "DescriptionStyleModel",
      "state": {
       "description_width": ""
      }
     },
     "39490bbc84e14c8bbcb8bbf6f59a58eb": {
      "model_module": "@jupyter-widgets/controls",
      "model_module_version": "1.5.0",
      "model_name": "HTMLModel",
      "state": {
       "layout": "IPY_MODEL_cb33fa6c0fe34ad18fa6db4d779da639",
       "style": "IPY_MODEL_51c5b31aea0e4593a0a96ff361ef5d1b",
       "value": "<h1>See the evolution of an indicator and compare countries</h1>"
      }
     },
     "3b3a541a752c49d4997a692f99524cdb": {
      "model_module": "@jupyter-widgets/output",
      "model_module_version": "1.0.0",
      "model_name": "OutputModel",
      "state": {
       "layout": "IPY_MODEL_80484455650a4a43a66d21d3f3472f04"
      }
     },
     "429b95f7cb50413eb2faae14aac2ba7e": {
      "model_module": "@jupyter-widgets/controls",
      "model_module_version": "1.5.0",
      "model_name": "LabelModel",
      "state": {
       "layout": "IPY_MODEL_ee18c6e29d4a48b8b0e9f3bcfdeace53",
       "style": "IPY_MODEL_e5a3e483fde545adbf8b3c74bf17222e",
       "value": "Indicator group:"
      }
     },
     "4373b138e1c143fa84393c4b40b0dacc": {
      "model_module": "@jupyter-widgets/controls",
      "model_module_version": "1.5.0",
      "model_name": "DropdownModel",
      "state": {
       "_options_labels": [
        "Share of fixed broadband subscriptions >= 100 Mbps",
        "Households with no access to Internet at home, because the costs are too high"
       ],
       "index": 0,
       "layout": "IPY_MODEL_7033f79a6f9145408c9976a6868a349e",
       "style": "IPY_MODEL_7179226a49ca41c28a297335eda8ed1a"
      }
     },
     "4374687d020c4475867f705261718bf4": {
      "model_module": "@jupyter-widgets/controls",
      "model_module_version": "1.5.0",
      "model_name": "HTMLModel",
      "state": {
       "layout": "IPY_MODEL_8236b2d422d94a389aa606760585f065",
       "style": "IPY_MODEL_567d05f7ddef455eaa571f80cc89d544",
       "value": "<p>Click on the name of the countries in the legend in order to visualize the corresponding values in the graph.</p>"
      }
     },
     "4484b82162a5434f9f7d0cafd1603772": {
      "model_module": "@jupyter-widgets/base",
      "model_module_version": "1.2.0",
      "model_name": "LayoutModel",
      "state": {}
     },
     "4ae274f288654d6694686c23e1641384": {
      "model_module": "@jupyter-widgets/controls",
      "model_module_version": "1.5.0",
      "model_name": "VBoxModel",
      "state": {
       "children": [
        "IPY_MODEL_39490bbc84e14c8bbcb8bbf6f59a58eb",
        "IPY_MODEL_fbe46a5cbeec4a098ff6a84bd0549fa6"
       ],
       "layout": "IPY_MODEL_e528d57a059344f8b4008031b11630d2"
      }
     },
     "4d5e59c6fa5c43848fc48ad5d825678c": {
      "model_module": "@jupyter-widgets/base",
      "model_module_version": "1.2.0",
      "model_name": "LayoutModel",
      "state": {}
     },
     "51c5b31aea0e4593a0a96ff361ef5d1b": {
      "model_module": "@jupyter-widgets/controls",
      "model_module_version": "1.5.0",
      "model_name": "DescriptionStyleModel",
      "state": {
       "description_width": ""
      }
     },
     "525ce44d492b451dbaa03e9d98a643eb": {
      "model_module": "@jupyter-widgets/base",
      "model_module_version": "1.2.0",
      "model_name": "LayoutModel",
      "state": {}
     },
     "567d05f7ddef455eaa571f80cc89d544": {
      "model_module": "@jupyter-widgets/controls",
      "model_module_version": "1.5.0",
      "model_name": "DescriptionStyleModel",
      "state": {
       "description_width": ""
      }
     },
     "5c7e3bc827a74a8fb5195ac129db6df2": {
      "model_module": "@jupyter-widgets/controls",
      "model_module_version": "1.5.0",
      "model_name": "DescriptionStyleModel",
      "state": {
       "description_width": ""
      }
     },
     "5e55de44d8f6422ebf77537f28b105e2": {
      "model_module": "@jupyter-widgets/base",
      "model_module_version": "1.2.0",
      "model_name": "LayoutModel",
      "state": {
       "margin": "0px 0px 0px 80px"
      }
     },
     "6b7a9f3f794b4412b3a8707fff16b8cc": {
      "model_module": "@jupyter-widgets/controls",
      "model_module_version": "1.5.0",
      "model_name": "VBoxModel",
      "state": {
       "children": [
        "IPY_MODEL_283112ed666f4477b28e11174621c31b",
        "IPY_MODEL_e1ce05a0b5cd4107b8d415ba66a3c30b"
       ],
       "layout": "IPY_MODEL_cb7f820282a745c99db7d2a159b96d4a"
      }
     },
     "6d2c0c2a9e0c47e187b0bfcc26663b51": {
      "model_module": "plotlywidget",
      "model_module_version": "^4.9.0",
      "model_name": "FigureModel",
      "state": {
       "_config": {
        "plotlyServerURL": "https://plot.ly"
       },
       "_data": [
        {
         "line": {
          "shape": "spline",
          "smoothing": 1.3
         },
         "name": "Estonia",
         "type": "scatter",
         "uid": "512b2653-0302-4b16-beaf-cdcc5860dddd",
         "visible": true,
         "x": [
          "2011-01-01 00:00:00",
          "2012-01-01 00:00:00",
          "2013-01-01 00:00:00",
          "2014-01-01 00:00:00",
          "2015-01-01 00:00:00",
          "2016-01-01 00:00:00",
          "2017-01-01 00:00:00",
          "2019-01-01 00:00:00"
         ],
         "y": [
          0.8603870000000001,
          0.840996,
          0.850774,
          0.860477,
          0.86805,
          0.908856,
          0.894905,
          0.909415
         ]
        },
        {
         "line": {
          "shape": "spline",
          "smoothing": 1.3
         },
         "name": "Greece",
         "type": "scatter",
         "uid": "ff699715-2532-492a-a7a5-bb4a6201aa80",
         "visible": "legendonly",
         "x": [
          "2011-01-01 00:00:00",
          "2012-01-01 00:00:00",
          "2013-01-01 00:00:00",
          "2014-01-01 00:00:00",
          "2015-01-01 00:00:00",
          "2016-01-01 00:00:00",
          "2017-01-01 00:00:00",
          "2019-01-01 00:00:00"
         ],
         "y": [
          0.985,
          0.9907090000000001,
          0.945,
          0.951,
          0.9540000000000001,
          "0.95635",
          0.961673,
          0.9947030000000001
         ]
        },
        {
         "line": {
          "shape": "spline",
          "smoothing": 1.3
         },
         "name": "Spain",
         "type": "scatter",
         "uid": "b5212839-33c1-4ad2-bb10-558aa3ffc753",
         "visible": "legendonly",
         "x": [
          "2011-01-01 00:00:00",
          "2012-01-01 00:00:00",
          "2013-01-01 00:00:00",
          "2014-01-01 00:00:00",
          "2015-01-01 00:00:00",
          "2016-01-01 00:00:00",
          "2017-01-01 00:00:00",
          "2019-01-01 00:00:00"
         ],
         "y": [
          0.963518,
          0.9507559999999999,
          0.965319,
          0.9508969999999999,
          0.950557,
          0.954959,
          0.9567260000000001,
          0.956385
         ]
        },
        {
         "line": {
          "shape": "spline",
          "smoothing": 1.3
         },
         "name": "Finland",
         "type": "scatter",
         "uid": "851700ce-28cc-4bc8-ae06-48ace53ecac9",
         "visible": "legendonly",
         "x": [
          "2011-01-01 00:00:00",
          "2012-01-01 00:00:00",
          "2013-01-01 00:00:00",
          "2014-01-01 00:00:00",
          "2015-01-01 00:00:00",
          "2016-01-01 00:00:00",
          "2017-01-01 00:00:00",
          "2019-01-01 00:00:00"
         ],
         "y": [
          0.950457,
          0.9325110000000001,
          0.9670000000000001,
          0.969825,
          0.9698200000000001,
          0.97,
          0.9701270000000001,
          0.9053629999999999
         ]
        },
        {
         "line": {
          "shape": "spline",
          "smoothing": 1.3
         },
         "name": "France",
         "type": "scatter",
         "uid": "c92d47a9-e0f7-4f0c-b15a-ad2702057269",
         "visible": "legendonly",
         "x": [
          "2011-01-01 00:00:00",
          "2012-01-01 00:00:00",
          "2013-01-01 00:00:00",
          "2014-01-01 00:00:00",
          "2015-01-01 00:00:00",
          "2016-01-01 00:00:00",
          "2017-01-01 00:00:00",
          "2019-01-01 00:00:00"
         ],
         "y": [
          0.9939530000000001,
          0.99325,
          0.997016,
          0.997309,
          0.997556,
          0.9995149999999999,
          0.9999520000000001,
          0.9999540000000001
         ]
        },
        {
         "line": {
          "shape": "spline",
          "smoothing": 1.3
         },
         "name": "Croatia",
         "type": "scatter",
         "uid": "e7afc9ba-a971-4cc0-95c5-e1e56ede80e4",
         "visible": "legendonly",
         "x": [
          "2011-01-01 00:00:00",
          "2012-01-01 00:00:00",
          "2013-01-01 00:00:00",
          "2014-01-01 00:00:00",
          "2015-01-01 00:00:00",
          "2016-01-01 00:00:00",
          "2017-01-01 00:00:00",
          "2019-01-01 00:00:00"
         ],
         "y": [
          "nan",
          0.9414520000000001,
          0.9605549999999999,
          0.965791,
          0.9686440000000001,
          "0.969799",
          0.99269,
          0.998749
         ]
        },
        {
         "line": {
          "shape": "spline",
          "smoothing": 1.3
         },
         "name": "Hungary",
         "type": "scatter",
         "uid": "64ee89a4-1c64-462f-8879-1d4741232ec5",
         "visible": "legendonly",
         "x": [
          "2011-01-01 00:00:00",
          "2012-01-01 00:00:00",
          "2013-01-01 00:00:00",
          "2014-01-01 00:00:00",
          "2015-01-01 00:00:00",
          "2016-01-01 00:00:00",
          "2017-01-01 00:00:00",
          "2019-01-01 00:00:00"
         ],
         "y": [
          0.893943,
          0.9183549999999999,
          0.943543,
          0.943708,
          0.952418,
          "0.952439",
          0.9524590000000001,
          0.9547530000000001
         ]
        },
        {
         "line": {
          "color": "rgb(1.0, 0.4980392156862745, 0.0)",
          "shape": "spline",
          "smoothing": 1.3
         },
         "name": "Ireland",
         "type": "scatter",
         "uid": "fd7865f5-65cc-4e3a-b753-4bbe2c8555e5",
         "visible": "legendonly",
         "x": [
          "2011-01-01 00:00:00",
          "2012-01-01 00:00:00",
          "2013-01-01 00:00:00",
          "2014-01-01 00:00:00",
          "2015-01-01 00:00:00",
          "2016-01-01 00:00:00",
          "2017-01-01 00:00:00",
          "2019-01-01 00:00:00"
         ],
         "y": [
          0.944895,
          0.97078,
          0.9625370000000001,
          0.96262,
          0.962684,
          0.962684,
          0.973601,
          0.978455
         ]
        },
        {
         "line": {
          "shape": "spline",
          "smoothing": 1.3
         },
         "name": "Iceland",
         "type": "scatter",
         "uid": "2ac680fa-578b-4599-a017-635bf64754ea",
         "visible": "legendonly",
         "x": [
          "2011-01-01 00:00:00",
          "2012-01-01 00:00:00",
          "2013-01-01 00:00:00",
          "2014-01-01 00:00:00",
          "2015-01-01 00:00:00",
          "2016-01-01 00:00:00",
          "2017-01-01 00:00:00",
          "2019-01-01 00:00:00"
         ],
         "y": [
          0.9441639999999999,
          0.9441639999999999,
          0.966,
          0.9516399999999999,
          0.9519569999999999,
          "0.956091",
          0.9665969999999999,
          0.995439
         ]
        },
        {
         "line": {
          "shape": "spline",
          "smoothing": 1.3
         },
         "name": "Deutschland",
         "type": "scatter",
         "uid": "1b375541-33eb-479b-a462-109a54bee34e",
         "visible": "legendonly",
         "x": [
          "2011-01-01 00:00:00",
          "2012-01-01 00:00:00",
          "2013-01-01 00:00:00",
          "2014-01-01 00:00:00",
          "2015-01-01 00:00:00",
          "2016-01-01 00:00:00",
          "2017-01-01 00:00:00",
          "2019-01-01 00:00:00"
         ],
         "y": [
          0.9570000000000001,
          0.966,
          0.966,
          0.97,
          0.9740000000000001,
          0.977,
          0.977,
          0.985507
         ]
        },
        {
         "line": {
          "color": "rgb(1.0, 1.0, 0.6)",
          "shape": "spline",
          "smoothing": 1.3
         },
         "name": "Czech Rep.",
         "type": "scatter",
         "uid": "8a35ccbf-0b5d-41af-ba22-61689a4b595d",
         "visible": "legendonly",
         "x": [
          "2011-01-01 00:00:00",
          "2012-01-01 00:00:00",
          "2013-01-01 00:00:00",
          "2014-01-01 00:00:00",
          "2015-01-01 00:00:00",
          "2016-01-01 00:00:00",
          "2017-01-01 00:00:00",
          "2019-01-01 00:00:00"
         ],
         "y": [
          0.945,
          0.9811719999999999,
          0.975,
          0.975,
          0.9755,
          "0.988838",
          0.984355,
          0.974289
         ]
        },
        {
         "line": {
          "shape": "spline",
          "smoothing": 1.3
         },
         "name": "Denmark",
         "type": "scatter",
         "uid": "d07c4899-2fac-44b3-a65e-e86106b62c25",
         "visible": "legendonly",
         "x": [
          "2011-01-01 00:00:00",
          "2012-01-01 00:00:00",
          "2013-01-01 00:00:00",
          "2014-01-01 00:00:00",
          "2015-01-01 00:00:00",
          "2016-01-01 00:00:00",
          "2017-01-01 00:00:00",
          "2019-01-01 00:00:00"
         ],
         "y": [
          0.99,
          0.9832700000000001,
          0.991142,
          0.9911040000000001,
          0.989978,
          "0.993185",
          0.995,
          0.99
         ]
        },
        {
         "line": {
          "color": "rgb(0.00784313725490196, 0.24313725490196078, 1.0)",
          "shape": "spline",
          "smoothing": 1.3
         },
         "name": "Italy",
         "type": "scatter",
         "uid": "63f419d5-e5d6-443d-866f-7d9a4005d106",
         "visible": "legendonly",
         "x": [
          "2011-01-01 00:00:00",
          "2012-01-01 00:00:00",
          "2013-01-01 00:00:00",
          "2014-01-01 00:00:00",
          "2015-01-01 00:00:00",
          "2016-01-01 00:00:00",
          "2017-01-01 00:00:00",
          "2019-01-01 00:00:00"
         ],
         "y": [
          0.985,
          0.984102,
          0.98766,
          0.99149,
          0.992692,
          0.992699,
          0.9934780000000001,
          0.9960129999999999
         ]
        },
        {
         "line": {
          "color": "rgb(1.0, 0.48627450980392156, 0.0)",
          "shape": "spline",
          "smoothing": 1.3
         },
         "name": "Lithuania",
         "type": "scatter",
         "uid": "1cfb83d4-d918-4b80-a258-0b8704f25120",
         "visible": "legendonly",
         "x": [
          "2011-01-01 00:00:00",
          "2012-01-01 00:00:00",
          "2013-01-01 00:00:00",
          "2014-01-01 00:00:00",
          "2015-01-01 00:00:00",
          "2016-01-01 00:00:00",
          "2017-01-01 00:00:00",
          "2019-01-01 00:00:00"
         ],
         "y": [
          0.884,
          0.967881,
          0.7959999999999999,
          0.8009999999999999,
          0.8059999999999999,
          "0.8103",
          0.820157,
          0.850893
         ]
        },
        {
         "line": {
          "shape": "spline",
          "smoothing": 1.3
         },
         "name": "Luxembourg",
         "type": "scatter",
         "uid": "7c1824a4-8e5f-43d4-b4b3-cffb71bbe12b",
         "visible": "legendonly",
         "x": [
          "2011-01-01 00:00:00",
          "2012-01-01 00:00:00",
          "2013-01-01 00:00:00",
          "2014-01-01 00:00:00",
          "2015-01-01 00:00:00",
          "2016-01-01 00:00:00",
          "2017-01-01 00:00:00",
          "2019-01-01 00:00:00"
         ],
         "y": [
          0.998,
          0.998782,
          0.999915,
          0.99984,
          0.99984,
          0.99984,
          0.99984,
          1
         ]
        },
        {
         "line": {
          "shape": "spline",
          "smoothing": 1.3
         },
         "name": "Latvia",
         "type": "scatter",
         "uid": "0a0827c4-32a3-4400-8d42-eaf2e94ddcf9",
         "visible": "legendonly",
         "x": [
          "2011-01-01 00:00:00",
          "2012-01-01 00:00:00",
          "2013-01-01 00:00:00",
          "2014-01-01 00:00:00",
          "2015-01-01 00:00:00",
          "2016-01-01 00:00:00",
          "2017-01-01 00:00:00",
          "2019-01-01 00:00:00"
         ],
         "y": [
          0.755166,
          0.8286319999999999,
          0.9164690000000001,
          0.919443,
          0.9250520000000001,
          "0.925998",
          0.928449,
          0.9403040000000001
         ]
        },
        {
         "line": {
          "shape": "spline",
          "smoothing": 1.3
         },
         "name": "Malta",
         "type": "scatter",
         "uid": "497c9812-44b3-4730-a749-2ea1ca8baed6",
         "visible": "legendonly",
         "x": [
          "2011-01-01 00:00:00",
          "2012-01-01 00:00:00",
          "2013-01-01 00:00:00",
          "2014-01-01 00:00:00",
          "2015-01-01 00:00:00",
          "2016-01-01 00:00:00",
          "2017-01-01 00:00:00",
          "2019-01-01 00:00:00"
         ],
         "y": [
          0.9990000000000001,
          0.9999959999999999,
          0.999768,
          1,
          1,
          "1",
          1,
          1
         ]
        },
        {
         "line": {
          "shape": "spline",
          "smoothing": 1.3
         },
         "name": "Netherlands",
         "type": "scatter",
         "uid": "2dee9176-3570-496f-b737-0dec1c7a6a72",
         "visible": "legendonly",
         "x": [
          "2011-01-01 00:00:00",
          "2012-01-01 00:00:00",
          "2013-01-01 00:00:00",
          "2014-01-01 00:00:00",
          "2015-01-01 00:00:00",
          "2016-01-01 00:00:00",
          "2017-01-01 00:00:00",
          "2019-01-01 00:00:00"
         ],
         "y": [
          1,
          1,
          0.999926,
          0.995,
          0.995,
          "0.995",
          0.995,
          0.995
         ]
        },
        {
         "line": {
          "shape": "spline",
          "smoothing": 1.3
         },
         "name": "Norway",
         "type": "scatter",
         "uid": "f027c2dc-7d5b-42f5-9d0b-1f2d71784979",
         "visible": "legendonly",
         "x": [
          "2011-01-01 00:00:00",
          "2012-01-01 00:00:00",
          "2013-01-01 00:00:00",
          "2014-01-01 00:00:00",
          "2015-01-01 00:00:00",
          "2016-01-01 00:00:00",
          "2017-01-01 00:00:00",
          "2019-01-01 00:00:00"
         ],
         "y": [
          0.9590000000000001,
          0.9630719999999999,
          0.967461,
          0.951784,
          0.947342,
          0.9534530000000001,
          0.9440799999999999,
          0.986454
         ]
        },
        {
         "line": {
          "shape": "spline",
          "smoothing": 1.3
         },
         "name": "Portugal",
         "type": "scatter",
         "uid": "5a6c9391-bdd7-4096-b21f-2b3a50272db4",
         "visible": "legendonly",
         "x": [
          "2011-01-01 00:00:00",
          "2012-01-01 00:00:00",
          "2013-01-01 00:00:00",
          "2014-01-01 00:00:00",
          "2015-01-01 00:00:00",
          "2016-01-01 00:00:00",
          "2017-01-01 00:00:00",
          "2019-01-01 00:00:00"
         ],
         "y": [
          0.995,
          0.9955430000000001,
          0.951,
          0.948,
          0.946,
          0.942961,
          0.9348629999999999,
          0.9486190000000001
         ]
        },
        {
         "line": {
          "color": "rgb(1.0, 0.7686274509803922, 0.0)",
          "shape": "spline",
          "smoothing": 1.3
         },
         "name": "Poland",
         "type": "scatter",
         "uid": "1486d0be-6e4a-4b87-8694-5110a3cbf19a",
         "visible": "legendonly",
         "x": [
          "2011-01-01 00:00:00",
          "2012-01-01 00:00:00",
          "2013-01-01 00:00:00",
          "2014-01-01 00:00:00",
          "2015-01-01 00:00:00",
          "2016-01-01 00:00:00",
          "2017-01-01 00:00:00",
          "2019-01-01 00:00:00"
         ],
         "y": [
          0.653541,
          0.6905060000000001,
          0.7909999999999999,
          0.7959999999999999,
          0.802,
          0.8093060000000001,
          0.814616,
          0.8346389999999999
         ]
        },
        {
         "line": {
          "color": "rgb(0.0, 0.8431372549019608, 1.0)",
          "shape": "spline",
          "smoothing": 1.3
         },
         "name": "Europe",
         "type": "scatter",
         "uid": "191fd4b8-b2a2-4c2f-96d1-92d304d9a122",
         "visible": "legendonly",
         "x": [
          "2011-01-01 00:00:00",
          "2012-01-01 00:00:00",
          "2014-01-01 00:00:00",
          "2015-01-01 00:00:00",
          "2016-01-01 00:00:00",
          "2017-01-01 00:00:00",
          "2019-01-01 00:00:00"
         ],
         "y": [
          0.946169,
          0.95475,
          "0.963734",
          "0.964928",
          "0.966662",
          0.967205,
          0.9706959999999999
         ]
        },
        {
         "line": {
          "shape": "spline",
          "smoothing": 1.3
         },
         "name": "Romania",
         "type": "scatter",
         "uid": "04ee5957-cb43-46b6-95ed-ed91a32ebe32",
         "visible": "legendonly",
         "x": [
          "2011-01-01 00:00:00",
          "2012-01-01 00:00:00",
          "2013-01-01 00:00:00",
          "2014-01-01 00:00:00",
          "2015-01-01 00:00:00",
          "2016-01-01 00:00:00",
          "2017-01-01 00:00:00",
          "2019-01-01 00:00:00"
         ],
         "y": [
          0.868242,
          0.8597229999999999,
          0.8999540000000001,
          0.894135,
          0.887601,
          0.885992,
          0.881451,
          0.8735209999999999
         ]
        },
        {
         "line": {
          "shape": "spline",
          "smoothing": 1.3
         },
         "name": "Sweden",
         "type": "scatter",
         "uid": "46a8b9d9-c268-4617-a664-0193399d750f",
         "visible": "legendonly",
         "x": [
          "2011-01-01 00:00:00",
          "2012-01-01 00:00:00",
          "2013-01-01 00:00:00",
          "2014-01-01 00:00:00",
          "2015-01-01 00:00:00",
          "2016-01-01 00:00:00",
          "2017-01-01 00:00:00",
          "2019-01-01 00:00:00"
         ],
         "y": [
          0.9805200000000001,
          0.985403,
          0.9902129999999999,
          0.989725,
          0.989725,
          0.9898290000000001,
          0.9850129999999999,
          0.973283
         ]
        },
        {
         "line": {
          "shape": "spline",
          "smoothing": 1.3
         },
         "name": "Slovenia",
         "type": "scatter",
         "uid": "756f9f8d-35d5-48a7-a4f5-05e320b33945",
         "visible": "legendonly",
         "x": [
          "2011-01-01 00:00:00",
          "2012-01-01 00:00:00",
          "2013-01-01 00:00:00",
          "2014-01-01 00:00:00",
          "2015-01-01 00:00:00",
          "2016-01-01 00:00:00",
          "2017-01-01 00:00:00",
          "2019-01-01 00:00:00"
         ],
         "y": [
          0.757616,
          0.8430489999999999,
          0.9518559999999999,
          0.9538540000000001,
          0.954551,
          0.9770559999999999,
          0.978,
          0.9874860000000001
         ]
        },
        {
         "line": {
          "shape": "spline",
          "smoothing": 1.3
         },
         "name": "Slovakia",
         "type": "scatter",
         "uid": "c33d9e44-5b5e-4184-afb9-627cc0ca407e",
         "visible": "legendonly",
         "x": [
          "2011-01-01 00:00:00",
          "2012-01-01 00:00:00",
          "2013-01-01 00:00:00",
          "2014-01-01 00:00:00",
          "2015-01-01 00:00:00",
          "2016-01-01 00:00:00",
          "2017-01-01 00:00:00",
          "2019-01-01 00:00:00"
         ],
         "y": [
          0.75,
          0.752243,
          0.865167,
          0.86816,
          0.863289,
          "0.880195",
          0.882827,
          0.896904
         ]
        },
        {
         "line": {
          "shape": "spline",
          "smoothing": 1.3
         },
         "name": "United Kingdom",
         "type": "scatter",
         "uid": "f856c9fa-a950-4fca-b29a-8bd764f3a543",
         "visible": "legendonly",
         "x": [
          "2011-01-01 00:00:00",
          "2012-01-01 00:00:00",
          "2013-01-01 00:00:00",
          "2014-01-01 00:00:00",
          "2015-01-01 00:00:00",
          "2016-01-01 00:00:00",
          "2017-01-01 00:00:00",
          "2019-01-01 00:00:00"
         ],
         "y": [
          0.995609,
          0.9979620000000001,
          0.999776,
          0.9997799999999999,
          0.999777,
          0.9952,
          0.9990000000000001,
          1
         ]
        },
        {
         "line": {
          "shape": "spline",
          "smoothing": 1.3
         },
         "name": "Austria",
         "type": "scatter",
         "uid": "a852589d-fb28-4a76-82d8-c959c2fad129",
         "visible": "legendonly",
         "x": [
          "2011-01-01 00:00:00",
          "2012-01-01 00:00:00",
          "2013-01-01 00:00:00",
          "2014-01-01 00:00:00",
          "2015-01-01 00:00:00",
          "2016-01-01 00:00:00",
          "2017-01-01 00:00:00",
          "2019-01-01 00:00:00"
         ],
         "y": [
          0.981834,
          0.9886719999999999,
          0.9912790000000001,
          0.9924959999999999,
          0.992497,
          0.9843360000000001,
          0.984492,
          0.9928620000000001
         ]
        },
        {
         "line": {
          "shape": "spline",
          "smoothing": 1.3
         },
         "name": "Belgium",
         "type": "scatter",
         "uid": "3a6b8a77-816a-47a0-89e4-a07c672eaf28",
         "visible": "legendonly",
         "x": [
          "2011-01-01 00:00:00",
          "2012-01-01 00:00:00",
          "2013-01-01 00:00:00",
          "2014-01-01 00:00:00",
          "2015-01-01 00:00:00",
          "2016-01-01 00:00:00",
          "2017-01-01 00:00:00",
          "2019-01-01 00:00:00"
         ],
         "y": [
          0.999655,
          0.9995629999999999,
          0.9993190000000001,
          0.99925,
          0.99925,
          "0.999269",
          0.99925,
          0.9997520000000001
         ]
        },
        {
         "line": {
          "shape": "spline",
          "smoothing": 1.3
         },
         "name": "Bulgaria",
         "type": "scatter",
         "uid": "cd5eae00-bc2f-4af6-b580-022f7933e030",
         "visible": "legendonly",
         "x": [
          "2011-01-01 00:00:00",
          "2012-01-01 00:00:00",
          "2013-01-01 00:00:00",
          "2014-01-01 00:00:00",
          "2015-01-01 00:00:00",
          "2016-01-01 00:00:00",
          "2017-01-01 00:00:00",
          "2019-01-01 00:00:00"
         ],
         "y": [
          0.8905379999999999,
          0.8963549999999999,
          0.9252,
          0.951097,
          0.951676,
          "0.95204",
          0.95204,
          0.955635
         ]
        },
        {
         "line": {
          "shape": "spline",
          "smoothing": 1.3
         },
         "name": "Cyprus",
         "type": "scatter",
         "uid": "0a5c8cef-666f-482e-9677-b33cbb6ac23c",
         "visible": "legendonly",
         "x": [
          "2011-01-01 00:00:00",
          "2012-01-01 00:00:00",
          "2013-01-01 00:00:00",
          "2014-01-01 00:00:00",
          "2015-01-01 00:00:00",
          "2016-01-01 00:00:00",
          "2017-01-01 00:00:00",
          "2019-01-01 00:00:00"
         ],
         "y": [
          1,
          1,
          0.99995,
          0.99995,
          0.99995,
          0.99995,
          0.99995,
          1
         ]
        },
        {
         "line": {
          "shape": "spline",
          "smoothing": 1.3
         },
         "name": "Switzerland",
         "type": "scatter",
         "uid": "651cf384-ba22-4d71-9abf-4a2d088d2dd6",
         "visible": "legendonly",
         "x": [
          "2011-01-01 00:00:00",
          "2012-01-01 00:00:00",
          "2013-01-01 00:00:00",
          "2014-01-01 00:00:00",
          "2015-01-01 00:00:00",
          "2016-01-01 00:00:00",
          "2017-01-01 00:00:00",
          "2019-01-01 00:00:00"
         ],
         "y": [
          0.996872,
          0.998233,
          0.9975780000000001,
          0.99785,
          0.997648,
          "0.997658",
          0.9976430000000001,
          0.9977360000000001
         ]
        }
       ],
       "_js2py_update": {},
       "_last_layout_edit_id": 39,
       "_last_trace_edit_id": 38,
       "_layout": {
        "autosize": true,
        "height": 600,
        "legend": {
         "title": {
          "text": "Countries"
         }
        },
        "showlegend": true,
        "template": {
         "data": {
          "bar": [
           {
            "error_x": {
             "color": "#2a3f5f"
            },
            "error_y": {
             "color": "#2a3f5f"
            },
            "marker": {
             "line": {
              "color": "#E5ECF6",
              "width": 0.5
             }
            },
            "type": "bar"
           }
          ],
          "barpolar": [
           {
            "marker": {
             "line": {
              "color": "#E5ECF6",
              "width": 0.5
             }
            },
            "type": "barpolar"
           }
          ],
          "carpet": [
           {
            "aaxis": {
             "endlinecolor": "#2a3f5f",
             "gridcolor": "white",
             "linecolor": "white",
             "minorgridcolor": "white",
             "startlinecolor": "#2a3f5f"
            },
            "baxis": {
             "endlinecolor": "#2a3f5f",
             "gridcolor": "white",
             "linecolor": "white",
             "minorgridcolor": "white",
             "startlinecolor": "#2a3f5f"
            },
            "type": "carpet"
           }
          ],
          "choropleth": [
           {
            "colorbar": {
             "outlinewidth": 0,
             "ticks": ""
            },
            "type": "choropleth"
           }
          ],
          "contour": [
           {
            "colorbar": {
             "outlinewidth": 0,
             "ticks": ""
            },
            "colorscale": [
             [
              0,
              "#0d0887"
             ],
             [
              0.1111111111111111,
              "#46039f"
             ],
             [
              0.2222222222222222,
              "#7201a8"
             ],
             [
              0.3333333333333333,
              "#9c179e"
             ],
             [
              0.4444444444444444,
              "#bd3786"
             ],
             [
              0.5555555555555556,
              "#d8576b"
             ],
             [
              0.6666666666666666,
              "#ed7953"
             ],
             [
              0.7777777777777778,
              "#fb9f3a"
             ],
             [
              0.8888888888888888,
              "#fdca26"
             ],
             [
              1,
              "#f0f921"
             ]
            ],
            "type": "contour"
           }
          ],
          "contourcarpet": [
           {
            "colorbar": {
             "outlinewidth": 0,
             "ticks": ""
            },
            "type": "contourcarpet"
           }
          ],
          "heatmap": [
           {
            "colorbar": {
             "outlinewidth": 0,
             "ticks": ""
            },
            "colorscale": [
             [
              0,
              "#0d0887"
             ],
             [
              0.1111111111111111,
              "#46039f"
             ],
             [
              0.2222222222222222,
              "#7201a8"
             ],
             [
              0.3333333333333333,
              "#9c179e"
             ],
             [
              0.4444444444444444,
              "#bd3786"
             ],
             [
              0.5555555555555556,
              "#d8576b"
             ],
             [
              0.6666666666666666,
              "#ed7953"
             ],
             [
              0.7777777777777778,
              "#fb9f3a"
             ],
             [
              0.8888888888888888,
              "#fdca26"
             ],
             [
              1,
              "#f0f921"
             ]
            ],
            "type": "heatmap"
           }
          ],
          "heatmapgl": [
           {
            "colorbar": {
             "outlinewidth": 0,
             "ticks": ""
            },
            "colorscale": [
             [
              0,
              "#0d0887"
             ],
             [
              0.1111111111111111,
              "#46039f"
             ],
             [
              0.2222222222222222,
              "#7201a8"
             ],
             [
              0.3333333333333333,
              "#9c179e"
             ],
             [
              0.4444444444444444,
              "#bd3786"
             ],
             [
              0.5555555555555556,
              "#d8576b"
             ],
             [
              0.6666666666666666,
              "#ed7953"
             ],
             [
              0.7777777777777778,
              "#fb9f3a"
             ],
             [
              0.8888888888888888,
              "#fdca26"
             ],
             [
              1,
              "#f0f921"
             ]
            ],
            "type": "heatmapgl"
           }
          ],
          "histogram": [
           {
            "marker": {
             "colorbar": {
              "outlinewidth": 0,
              "ticks": ""
             }
            },
            "type": "histogram"
           }
          ],
          "histogram2d": [
           {
            "colorbar": {
             "outlinewidth": 0,
             "ticks": ""
            },
            "colorscale": [
             [
              0,
              "#0d0887"
             ],
             [
              0.1111111111111111,
              "#46039f"
             ],
             [
              0.2222222222222222,
              "#7201a8"
             ],
             [
              0.3333333333333333,
              "#9c179e"
             ],
             [
              0.4444444444444444,
              "#bd3786"
             ],
             [
              0.5555555555555556,
              "#d8576b"
             ],
             [
              0.6666666666666666,
              "#ed7953"
             ],
             [
              0.7777777777777778,
              "#fb9f3a"
             ],
             [
              0.8888888888888888,
              "#fdca26"
             ],
             [
              1,
              "#f0f921"
             ]
            ],
            "type": "histogram2d"
           }
          ],
          "histogram2dcontour": [
           {
            "colorbar": {
             "outlinewidth": 0,
             "ticks": ""
            },
            "colorscale": [
             [
              0,
              "#0d0887"
             ],
             [
              0.1111111111111111,
              "#46039f"
             ],
             [
              0.2222222222222222,
              "#7201a8"
             ],
             [
              0.3333333333333333,
              "#9c179e"
             ],
             [
              0.4444444444444444,
              "#bd3786"
             ],
             [
              0.5555555555555556,
              "#d8576b"
             ],
             [
              0.6666666666666666,
              "#ed7953"
             ],
             [
              0.7777777777777778,
              "#fb9f3a"
             ],
             [
              0.8888888888888888,
              "#fdca26"
             ],
             [
              1,
              "#f0f921"
             ]
            ],
            "type": "histogram2dcontour"
           }
          ],
          "mesh3d": [
           {
            "colorbar": {
             "outlinewidth": 0,
             "ticks": ""
            },
            "type": "mesh3d"
           }
          ],
          "parcoords": [
           {
            "line": {
             "colorbar": {
              "outlinewidth": 0,
              "ticks": ""
             }
            },
            "type": "parcoords"
           }
          ],
          "pie": [
           {
            "automargin": true,
            "type": "pie"
           }
          ],
          "scatter": [
           {
            "marker": {
             "colorbar": {
              "outlinewidth": 0,
              "ticks": ""
             }
            },
            "type": "scatter"
           }
          ],
          "scatter3d": [
           {
            "line": {
             "colorbar": {
              "outlinewidth": 0,
              "ticks": ""
             }
            },
            "marker": {
             "colorbar": {
              "outlinewidth": 0,
              "ticks": ""
             }
            },
            "type": "scatter3d"
           }
          ],
          "scattercarpet": [
           {
            "marker": {
             "colorbar": {
              "outlinewidth": 0,
              "ticks": ""
             }
            },
            "type": "scattercarpet"
           }
          ],
          "scattergeo": [
           {
            "marker": {
             "colorbar": {
              "outlinewidth": 0,
              "ticks": ""
             }
            },
            "type": "scattergeo"
           }
          ],
          "scattergl": [
           {
            "marker": {
             "colorbar": {
              "outlinewidth": 0,
              "ticks": ""
             }
            },
            "type": "scattergl"
           }
          ],
          "scattermapbox": [
           {
            "marker": {
             "colorbar": {
              "outlinewidth": 0,
              "ticks": ""
             }
            },
            "type": "scattermapbox"
           }
          ],
          "scatterpolar": [
           {
            "marker": {
             "colorbar": {
              "outlinewidth": 0,
              "ticks": ""
             }
            },
            "type": "scatterpolar"
           }
          ],
          "scatterpolargl": [
           {
            "marker": {
             "colorbar": {
              "outlinewidth": 0,
              "ticks": ""
             }
            },
            "type": "scatterpolargl"
           }
          ],
          "scatterternary": [
           {
            "marker": {
             "colorbar": {
              "outlinewidth": 0,
              "ticks": ""
             }
            },
            "type": "scatterternary"
           }
          ],
          "surface": [
           {
            "colorbar": {
             "outlinewidth": 0,
             "ticks": ""
            },
            "colorscale": [
             [
              0,
              "#0d0887"
             ],
             [
              0.1111111111111111,
              "#46039f"
             ],
             [
              0.2222222222222222,
              "#7201a8"
             ],
             [
              0.3333333333333333,
              "#9c179e"
             ],
             [
              0.4444444444444444,
              "#bd3786"
             ],
             [
              0.5555555555555556,
              "#d8576b"
             ],
             [
              0.6666666666666666,
              "#ed7953"
             ],
             [
              0.7777777777777778,
              "#fb9f3a"
             ],
             [
              0.8888888888888888,
              "#fdca26"
             ],
             [
              1,
              "#f0f921"
             ]
            ],
            "type": "surface"
           }
          ],
          "table": [
           {
            "cells": {
             "fill": {
              "color": "#EBF0F8"
             },
             "line": {
              "color": "white"
             }
            },
            "header": {
             "fill": {
              "color": "#C8D4E3"
             },
             "line": {
              "color": "white"
             }
            },
            "type": "table"
           }
          ]
         },
         "layout": {
          "annotationdefaults": {
           "arrowcolor": "#2a3f5f",
           "arrowhead": 0,
           "arrowwidth": 1
          },
          "coloraxis": {
           "colorbar": {
            "outlinewidth": 0,
            "ticks": ""
           }
          },
          "colorscale": {
           "diverging": [
            [
             0,
             "#8e0152"
            ],
            [
             0.1,
             "#c51b7d"
            ],
            [
             0.2,
             "#de77ae"
            ],
            [
             0.3,
             "#f1b6da"
            ],
            [
             0.4,
             "#fde0ef"
            ],
            [
             0.5,
             "#f7f7f7"
            ],
            [
             0.6,
             "#e6f5d0"
            ],
            [
             0.7,
             "#b8e186"
            ],
            [
             0.8,
             "#7fbc41"
            ],
            [
             0.9,
             "#4d9221"
            ],
            [
             1,
             "#276419"
            ]
           ],
           "sequential": [
            [
             0,
             "#0d0887"
            ],
            [
             0.1111111111111111,
             "#46039f"
            ],
            [
             0.2222222222222222,
             "#7201a8"
            ],
            [
             0.3333333333333333,
             "#9c179e"
            ],
            [
             0.4444444444444444,
             "#bd3786"
            ],
            [
             0.5555555555555556,
             "#d8576b"
            ],
            [
             0.6666666666666666,
             "#ed7953"
            ],
            [
             0.7777777777777778,
             "#fb9f3a"
            ],
            [
             0.8888888888888888,
             "#fdca26"
            ],
            [
             1,
             "#f0f921"
            ]
           ],
           "sequentialminus": [
            [
             0,
             "#0d0887"
            ],
            [
             0.1111111111111111,
             "#46039f"
            ],
            [
             0.2222222222222222,
             "#7201a8"
            ],
            [
             0.3333333333333333,
             "#9c179e"
            ],
            [
             0.4444444444444444,
             "#bd3786"
            ],
            [
             0.5555555555555556,
             "#d8576b"
            ],
            [
             0.6666666666666666,
             "#ed7953"
            ],
            [
             0.7777777777777778,
             "#fb9f3a"
            ],
            [
             0.8888888888888888,
             "#fdca26"
            ],
            [
             1,
             "#f0f921"
            ]
           ]
          },
          "colorway": [
           "#636efa",
           "#EF553B",
           "#00cc96",
           "#ab63fa",
           "#FFA15A",
           "#19d3f3",
           "#FF6692",
           "#B6E880",
           "#FF97FF",
           "#FECB52"
          ],
          "font": {
           "color": "#2a3f5f"
          },
          "geo": {
           "bgcolor": "white",
           "lakecolor": "white",
           "landcolor": "#E5ECF6",
           "showlakes": true,
           "showland": true,
           "subunitcolor": "white"
          },
          "hoverlabel": {
           "align": "left"
          },
          "hovermode": "closest",
          "mapbox": {
           "style": "light"
          },
          "paper_bgcolor": "white",
          "plot_bgcolor": "#E5ECF6",
          "polar": {
           "angularaxis": {
            "gridcolor": "white",
            "linecolor": "white",
            "ticks": ""
           },
           "bgcolor": "#E5ECF6",
           "radialaxis": {
            "gridcolor": "white",
            "linecolor": "white",
            "ticks": ""
           }
          },
          "scene": {
           "xaxis": {
            "backgroundcolor": "#E5ECF6",
            "gridcolor": "white",
            "gridwidth": 2,
            "linecolor": "white",
            "showbackground": true,
            "ticks": "",
            "zerolinecolor": "white"
           },
           "yaxis": {
            "backgroundcolor": "#E5ECF6",
            "gridcolor": "white",
            "gridwidth": 2,
            "linecolor": "white",
            "showbackground": true,
            "ticks": "",
            "zerolinecolor": "white"
           },
           "zaxis": {
            "backgroundcolor": "#E5ECF6",
            "gridcolor": "white",
            "gridwidth": 2,
            "linecolor": "white",
            "showbackground": true,
            "ticks": "",
            "zerolinecolor": "white"
           }
          },
          "shapedefaults": {
           "line": {
            "color": "#2a3f5f"
           }
          },
          "ternary": {
           "aaxis": {
            "gridcolor": "white",
            "linecolor": "white",
            "ticks": ""
           },
           "baxis": {
            "gridcolor": "white",
            "linecolor": "white",
            "ticks": ""
           },
           "bgcolor": "#E5ECF6",
           "caxis": {
            "gridcolor": "white",
            "linecolor": "white",
            "ticks": ""
           }
          },
          "title": {
           "x": 0.05
          },
          "xaxis": {
           "automargin": true,
           "gridcolor": "white",
           "linecolor": "white",
           "ticks": "",
           "title": {
            "standoff": 15
           },
           "zerolinecolor": "white",
           "zerolinewidth": 2
          },
          "yaxis": {
           "automargin": true,
           "gridcolor": "white",
           "linecolor": "white",
           "ticks": "",
           "title": {
            "standoff": 15
           },
           "zerolinecolor": "white",
           "zerolinewidth": 2
          }
         }
        },
        "title": {
         "text": "Standard fixed broadband coverage/availability"
        },
        "xaxis": {
         "title": {
          "text": "Year"
         }
        },
        "yaxis": {
         "title": {
          "text": "Percentage"
         }
        }
       },
       "_py2js_animate": {},
       "_py2js_deleteTraces": {},
       "_py2js_moveTraces": {},
       "_py2js_removeLayoutProps": {},
       "_view_count": 1
      }
     },
     "6e6edb4be612428eade65fb9c44a305c": {
      "model_module": "@jupyter-widgets/controls",
      "model_module_version": "1.5.0",
      "model_name": "LabelModel",
      "state": {
       "layout": "IPY_MODEL_e66964c3598c45afbf03442d5b8fd91e",
       "style": "IPY_MODEL_fb84d4f7b99d4253a546d2b4694020c3",
       "value": "Indicator group:"
      }
     },
     "7033f79a6f9145408c9976a6868a349e": {
      "model_module": "@jupyter-widgets/base",
      "model_module_version": "1.2.0",
      "model_name": "LayoutModel",
      "state": {}
     },
     "7179226a49ca41c28a297335eda8ed1a": {
      "model_module": "@jupyter-widgets/controls",
      "model_module_version": "1.5.0",
      "model_name": "DescriptionStyleModel",
      "state": {
       "description_width": ""
      }
     },
     "7311dd2ae39442d6b1da666694fe64b9": {
      "model_module": "@jupyter-widgets/base",
      "model_module_version": "1.2.0",
      "model_name": "LayoutModel",
      "state": {}
     },
     "73a707d97b254b9d9597917b8db1649e": {
      "model_module": "@jupyter-widgets/controls",
      "model_module_version": "1.5.0",
      "model_name": "DescriptionStyleModel",
      "state": {
       "description_width": ""
      }
     },
     "77ac2fea1cf94885a99d4f0035581bac": {
      "model_module": "@jupyter-widgets/base",
      "model_module_version": "1.2.0",
      "model_name": "LayoutModel",
      "state": {}
     },
     "783d141ae0ab44a9b7752c57458daa0b": {
      "model_module": "@jupyter-widgets/output",
      "model_module_version": "1.0.0",
      "model_name": "OutputModel",
      "state": {
       "layout": "IPY_MODEL_77ac2fea1cf94885a99d4f0035581bac"
      }
     },
     "7991647f33c54de9b0a094796045a3e7": {
      "model_module": "@jupyter-widgets/controls",
      "model_module_version": "1.5.0",
      "model_name": "LabelModel",
      "state": {
       "layout": "IPY_MODEL_35dc2f2ffd4843d0baa99759d7be5407",
       "style": "IPY_MODEL_c4f1c648105046ccb7bafa17ed6b391b",
       "value": "Indicator:"
      }
     },
     "7d1f2ddebf6940d4be87c565f8e47b37": {
      "model_module": "@jupyter-widgets/controls",
      "model_module_version": "1.5.0",
      "model_name": "HBoxModel",
      "state": {
       "children": [
        "IPY_MODEL_6e6edb4be612428eade65fb9c44a305c",
        "IPY_MODEL_a3bd77678d5b49a98071a1fd2b583a0d",
        "IPY_MODEL_ffb2953e778d46128e1873d907df4f4c",
        "IPY_MODEL_9deb7fb6560342f0b4f39c5f1b61d22b"
       ],
       "layout": "IPY_MODEL_525ce44d492b451dbaa03e9d98a643eb"
      }
     },
     "7f3427ba8b674be7a044174652283678": {
      "model_module": "@jupyter-widgets/base",
      "model_module_version": "1.2.0",
      "model_name": "LayoutModel",
      "state": {}
     },
     "80484455650a4a43a66d21d3f3472f04": {
      "model_module": "@jupyter-widgets/base",
      "model_module_version": "1.2.0",
      "model_name": "LayoutModel",
      "state": {}
     },
     "8236b2d422d94a389aa606760585f065": {
      "model_module": "@jupyter-widgets/base",
      "model_module_version": "1.2.0",
      "model_name": "LayoutModel",
      "state": {}
     },
     "82796e1e16984b7f8a77ac2aefd6dd99": {
      "model_module": "@jupyter-widgets/base",
      "model_module_version": "1.2.0",
      "model_name": "LayoutModel",
      "state": {}
     },
     "8764d2bf5b5b4d2c977ea1427c1b55c1": {
      "model_module": "@jupyter-widgets/controls",
      "model_module_version": "1.5.0",
      "model_name": "DescriptionStyleModel",
      "state": {
       "description_width": ""
      }
     },
     "8fff5c84d1f6447599cf4957ef1996a9": {
      "model_module": "@jupyter-widgets/base",
      "model_module_version": "1.2.0",
      "model_name": "LayoutModel",
      "state": {}
     },
     "95b357ab4ac54acda413ed5668c51e06": {
      "model_module": "@jupyter-widgets/base",
      "model_module_version": "1.2.0",
      "model_name": "LayoutModel",
      "state": {
       "margin": "0px 0px 0px 80px"
      }
     },
     "98103ec8f0f547a18a22004a21635f5d": {
      "model_module": "@jupyter-widgets/controls",
      "model_module_version": "1.5.0",
      "model_name": "VBoxModel",
      "state": {
       "children": [
        "IPY_MODEL_d1ae3bd75e1b4bdd94d16e73ca0d4b10",
        "IPY_MODEL_6d2c0c2a9e0c47e187b0bfcc26663b51"
       ],
       "layout": "IPY_MODEL_4d5e59c6fa5c43848fc48ad5d825678c"
      }
     },
     "9deb7fb6560342f0b4f39c5f1b61d22b": {
      "model_module": "@jupyter-widgets/controls",
      "model_module_version": "1.5.0",
      "model_name": "DropdownModel",
      "state": {
       "_options_labels": [
        "Standard fixed broadband coverage/availability",
        "NGA broadband coverage/availability",
        "Households with a broadband connection",
        "Households with fixed broadband connection"
       ],
       "index": 0,
       "layout": "IPY_MODEL_d816d167e4c24710b9c1181d8b7de3e5",
       "style": "IPY_MODEL_73a707d97b254b9d9597917b8db1649e"
      }
     },
     "a3bd77678d5b49a98071a1fd2b583a0d": {
      "model_module": "@jupyter-widgets/controls",
      "model_module_version": "1.5.0",
      "model_name": "DropdownModel",
      "state": {
       "_options_labels": [
        "Broadband take-up and coverage",
        "Broadband speeds and prices",
        "Mobile market",
        "Internet usage",
        "Take up of internet services",
        "eGovernment",
        "Digital skills",
        "ICT Specialists",
        "Security and privacy"
       ],
       "index": 0,
       "layout": "IPY_MODEL_2fb7a337541b4eecbade4b76e5c5040d",
       "style": "IPY_MODEL_8764d2bf5b5b4d2c977ea1427c1b55c1"
      }
     },
     "c28c9bbdd22a489b88564f4e0de2da00": {
      "model_module": "@jupyter-widgets/controls",
      "model_module_version": "1.5.0",
      "model_name": "HBoxModel",
      "state": {
       "children": [
        "IPY_MODEL_429b95f7cb50413eb2faae14aac2ba7e",
        "IPY_MODEL_de404e3cb83a469db1e5a0738a2b385a",
        "IPY_MODEL_7991647f33c54de9b0a094796045a3e7",
        "IPY_MODEL_4373b138e1c143fa84393c4b40b0dacc"
       ],
       "layout": "IPY_MODEL_4484b82162a5434f9f7d0cafd1603772"
      }
     },
     "c4f1c648105046ccb7bafa17ed6b391b": {
      "model_module": "@jupyter-widgets/controls",
      "model_module_version": "1.5.0",
      "model_name": "DescriptionStyleModel",
      "state": {
       "description_width": ""
      }
     },
     "cb33fa6c0fe34ad18fa6db4d779da639": {
      "model_module": "@jupyter-widgets/base",
      "model_module_version": "1.2.0",
      "model_name": "LayoutModel",
      "state": {}
     },
     "cb7f820282a745c99db7d2a159b96d4a": {
      "model_module": "@jupyter-widgets/base",
      "model_module_version": "1.2.0",
      "model_name": "LayoutModel",
      "state": {}
     },
     "d1ae3bd75e1b4bdd94d16e73ca0d4b10": {
      "model_module": "@jupyter-widgets/controls",
      "model_module_version": "1.5.0",
      "model_name": "VBoxModel",
      "state": {
       "children": [
        "IPY_MODEL_27a2286233a54d85bdc4016f7cb0ab7c",
        "IPY_MODEL_7d1f2ddebf6940d4be87c565f8e47b37"
       ],
       "layout": "IPY_MODEL_5e55de44d8f6422ebf77537f28b105e2"
      }
     },
     "d816d167e4c24710b9c1181d8b7de3e5": {
      "model_module": "@jupyter-widgets/base",
      "model_module_version": "1.2.0",
      "model_name": "LayoutModel",
      "state": {}
     },
     "de404e3cb83a469db1e5a0738a2b385a": {
      "model_module": "@jupyter-widgets/controls",
      "model_module_version": "1.5.0",
      "model_name": "DropdownModel",
      "state": {
       "_options_labels": [
        "Broadband take-up and coverage",
        "Broadband speeds and prices",
        "Mobile market",
        "Internet usage",
        "Take up of internet services",
        "eGovernment",
        "Digital skills",
        "ICT Specialists",
        "Security and privacy"
       ],
       "index": 1,
       "layout": "IPY_MODEL_82796e1e16984b7f8a77ac2aefd6dd99",
       "style": "IPY_MODEL_01eab46ad0c440789e46e3f06f312993"
      }
     },
     "e1ce05a0b5cd4107b8d415ba66a3c30b": {
      "model_module": "plotlywidget",
      "model_module_version": "^4.9.0",
      "model_name": "FigureModel",
      "state": {
       "_config": {
        "plotlyServerURL": "https://plot.ly"
       },
       "_data": [
        {
         "line": {
          "shape": "spline",
          "smoothing": 1.3
         },
         "name": "Estonia",
         "type": "scatter",
         "uid": "0034fb77-1c32-4ddd-83df-98d71f0066ee",
         "visible": true,
         "x": [
          "2011-12-01 00:00:00",
          "2012-06-01 00:00:00",
          "2012-12-01 00:00:00",
          "2013-06-01 00:00:00",
          "2013-12-01 00:00:00",
          "2014-06-01 00:00:00",
          "2014-12-01 00:00:00",
          "2015-06-01 00:00:00",
          "2016-12-01 00:00:00",
          "2017-06-01 00:00:00",
          "2017-12-01 00:00:00",
          "2018-06-01 00:00:00",
          "2018-12-01 00:00:00",
          "2019-06-01 00:00:00"
         ],
         "y": [
          0.0324808,
          0.03327480000000001,
          0.035387699999999994,
          0.036978,
          0.0394966,
          0.0435535,
          0.0527947,
          0.0651649,
          "0.115414",
          "0.115374",
          0.131943,
          0.13253,
          0.150667,
          0.17038699999999998
         ]
        },
        {
         "line": {
          "shape": "spline",
          "smoothing": 1.3
         },
         "name": "Greece",
         "type": "scatter",
         "uid": "06aea31c-0844-4aa1-b18f-27adf1b3e86b",
         "visible": "legendonly",
         "x": [
          "2011-12-01 00:00:00",
          "2012-06-01 00:00:00",
          "2012-12-01 00:00:00",
          "2013-06-01 00:00:00",
          "2013-12-01 00:00:00",
          "2014-06-01 00:00:00",
          "2014-12-01 00:00:00",
          "2015-06-01 00:00:00",
          "2016-12-01 00:00:00",
          "2017-06-01 00:00:00",
          "2017-12-01 00:00:00",
          "2018-06-01 00:00:00",
          "2018-12-01 00:00:00",
          "2019-06-01 00:00:00"
         ],
         "y": [
          "nan",
          "nan",
          "nan",
          "nan",
          "nan",
          "nan",
          "nan",
          0.00011847299999999999,
          "0.000155739",
          0.000173867,
          0.000541519,
          0.00339916,
          0.00615265,
          0.011123899999999999
         ]
        },
        {
         "line": {
          "shape": "spline",
          "smoothing": 1.3
         },
         "name": "Spain",
         "type": "scatter",
         "uid": "756b809c-eb38-4c27-aa36-a62c55afaa68",
         "visible": "legendonly",
         "x": [
          "2011-12-01 00:00:00",
          "2012-06-01 00:00:00",
          "2012-12-01 00:00:00",
          "2013-06-01 00:00:00",
          "2013-12-01 00:00:00",
          "2014-06-01 00:00:00",
          "2014-12-01 00:00:00",
          "2015-06-01 00:00:00",
          "2016-12-01 00:00:00",
          "2017-06-01 00:00:00",
          "2017-12-01 00:00:00",
          "2018-06-01 00:00:00",
          "2018-12-01 00:00:00",
          "2019-06-01 00:00:00"
         ],
         "y": [
          0.0188623,
          0.00547185,
          0.0188623,
          0.0351278,
          0.0588875,
          0.0809151,
          0.108449,
          0.13753800000000002,
          "0.243452",
          "0.240117",
          0.255877,
          0.389434,
          0.554125,
          0.678614
         ]
        },
        {
         "line": {
          "shape": "spline",
          "smoothing": 1.3
         },
         "name": "Finland",
         "type": "scatter",
         "uid": "45de9269-ab84-476c-a025-351f6f0ce8be",
         "visible": "legendonly",
         "x": [
          "2011-12-01 00:00:00",
          "2012-06-01 00:00:00",
          "2012-12-01 00:00:00",
          "2013-06-01 00:00:00",
          "2013-12-01 00:00:00",
          "2014-06-01 00:00:00",
          "2014-12-01 00:00:00",
          "2015-06-01 00:00:00",
          "2016-12-01 00:00:00",
          "2017-06-01 00:00:00",
          "2017-12-01 00:00:00",
          "2018-06-01 00:00:00",
          "2018-12-01 00:00:00",
          "2019-06-01 00:00:00"
         ],
         "y": [
          0.0560399,
          0.0746934,
          0.0985728,
          0.12726099999999999,
          0.15627,
          0.179561,
          0.203185,
          0.22888200000000003,
          "0.282886",
          "0.299181",
          0.319291,
          0.35597199999999996,
          0.361543,
          0.405789
         ]
        },
        {
         "line": {
          "shape": "spline",
          "smoothing": 1.3
         },
         "name": "France",
         "type": "scatter",
         "uid": "b80ef891-0d03-4ed3-8281-63d03b9a7a59",
         "visible": "legendonly",
         "x": [
          "2011-12-01 00:00:00",
          "2012-06-01 00:00:00",
          "2012-12-01 00:00:00",
          "2013-06-01 00:00:00",
          "2013-12-01 00:00:00",
          "2014-06-01 00:00:00",
          "2014-12-01 00:00:00",
          "2015-06-01 00:00:00",
          "2016-12-01 00:00:00",
          "2017-06-01 00:00:00",
          "2017-12-01 00:00:00",
          "2018-06-01 00:00:00",
          "2018-12-01 00:00:00",
          "2019-06-01 00:00:00"
         ],
         "y": [
          "nan",
          0.0332852,
          0.0399589,
          0.0463931,
          0.053639099999999995,
          0.061834900000000005,
          0.07205360000000001,
          0.0838169,
          "0.126972",
          "0.145361",
          0.167484,
          0.188614,
          0.21877,
          0.246221
         ]
        },
        {
         "line": {
          "shape": "spline",
          "smoothing": 1.3
         },
         "name": "Croatia",
         "type": "scatter",
         "uid": "8c982475-0deb-4264-8c0c-16ef8af75c62",
         "visible": "legendonly",
         "x": [
          "2011-12-01 00:00:00",
          "2012-06-01 00:00:00",
          "2012-12-01 00:00:00",
          "2013-06-01 00:00:00",
          "2013-12-01 00:00:00",
          "2014-06-01 00:00:00",
          "2014-12-01 00:00:00",
          "2015-06-01 00:00:00",
          "2016-12-01 00:00:00",
          "2017-06-01 00:00:00",
          "2017-12-01 00:00:00",
          "2018-06-01 00:00:00",
          "2018-12-01 00:00:00",
          "2019-06-01 00:00:00"
         ],
         "y": [
          "nan",
          "nan",
          "nan",
          "nan",
          "nan",
          0.0000352275,
          0.0000315066,
          0.00189432,
          0.0135764,
          0.020108599999999997,
          0.053547800000000007,
          0.0647016,
          0.07567230000000001,
          0.08820499999999999
         ]
        },
        {
         "line": {
          "shape": "spline",
          "smoothing": 1.3
         },
         "name": "Hungary",
         "type": "scatter",
         "uid": "850a40ea-9d51-4c25-991e-d9a934ff133c",
         "visible": "legendonly",
         "x": [
          "2011-12-01 00:00:00",
          "2012-06-01 00:00:00",
          "2012-12-01 00:00:00",
          "2013-06-01 00:00:00",
          "2013-12-01 00:00:00",
          "2014-06-01 00:00:00",
          "2014-12-01 00:00:00",
          "2015-06-01 00:00:00",
          "2016-12-01 00:00:00",
          "2017-06-01 00:00:00",
          "2017-12-01 00:00:00",
          "2018-06-01 00:00:00",
          "2018-12-01 00:00:00",
          "2019-06-01 00:00:00"
         ],
         "y": [
          0.0150993,
          0.014699700000000001,
          0.015397399999999999,
          0.0217963,
          0.03918819999999999,
          0.048988,
          0.0640363,
          0.198496,
          "0.334364",
          "0.383485",
          0.476365,
          0.523137,
          0.574971,
          0.622021
         ]
        },
        {
         "line": {
          "color": "rgb(1.0, 0.4980392156862745, 0.0)",
          "shape": "spline",
          "smoothing": 1.3
         },
         "name": "Ireland",
         "type": "scatter",
         "uid": "22bf5b07-7558-4697-bd52-58cfc54c0521",
         "visible": "legendonly",
         "x": [
          "2011-12-01 00:00:00",
          "2012-06-01 00:00:00",
          "2012-12-01 00:00:00",
          "2013-06-01 00:00:00",
          "2013-12-01 00:00:00",
          "2014-06-01 00:00:00",
          "2014-12-01 00:00:00",
          "2015-06-01 00:00:00",
          "2016-12-01 00:00:00",
          "2017-06-01 00:00:00",
          "2017-12-01 00:00:00",
          "2018-06-01 00:00:00",
          "2018-12-01 00:00:00",
          "2019-06-01 00:00:00"
         ],
         "y": [
          0.00421353,
          0.0074960999999999995,
          0.0139368,
          0.041644400000000005,
          0.0747403,
          0.192162,
          0.20381300000000002,
          0.174812,
          0.219216,
          0.23633200000000001,
          0.263917,
          0.276003,
          0.299566,
          0.334276
         ]
        },
        {
         "line": {
          "shape": "spline",
          "smoothing": 1.3
         },
         "name": "Iceland",
         "type": "scatter",
         "uid": "4a43ccd3-ad02-4c34-94d7-8e6480114750",
         "visible": "legendonly",
         "x": [],
         "y": []
        },
        {
         "line": {
          "shape": "spline",
          "smoothing": 1.3
         },
         "name": "Deutschland",
         "type": "scatter",
         "uid": "883d3837-0c67-483e-b1e6-2994135bd228",
         "visible": "legendonly",
         "x": [
          "2011-12-01 00:00:00",
          "2012-06-01 00:00:00",
          "2012-12-01 00:00:00",
          "2013-06-01 00:00:00",
          "2013-12-01 00:00:00",
          "2014-06-01 00:00:00",
          "2014-12-01 00:00:00",
          "2015-06-01 00:00:00",
          "2016-12-01 00:00:00",
          "2017-06-01 00:00:00",
          "2017-12-01 00:00:00",
          "2018-06-01 00:00:00",
          "2018-12-01 00:00:00",
          "2019-06-01 00:00:00"
         ],
         "y": [
          0.00368568,
          0.00679999,
          0.0116145,
          0.018213,
          0.025662900000000002,
          0.0369675,
          0.051915300000000004,
          0.0644976,
          "0.110152",
          "0.126503",
          0.148215,
          0.172931,
          0.19881500000000002,
          0.233194
         ]
        },
        {
         "line": {
          "color": "rgb(1.0, 1.0, 0.6)",
          "shape": "spline",
          "smoothing": 1.3
         },
         "name": "Czech Rep.",
         "type": "scatter",
         "uid": "d8312abb-7059-4d40-b104-529e107f7938",
         "visible": "legendonly",
         "x": [
          "2011-12-01 00:00:00",
          "2012-06-01 00:00:00",
          "2012-12-01 00:00:00",
          "2013-06-01 00:00:00",
          "2013-12-01 00:00:00",
          "2014-06-01 00:00:00",
          "2014-12-01 00:00:00",
          "2015-06-01 00:00:00",
          "2016-12-01 00:00:00",
          "2017-06-01 00:00:00",
          "2017-12-01 00:00:00",
          "2018-06-01 00:00:00",
          "2018-12-01 00:00:00",
          "2019-06-01 00:00:00"
         ],
         "y": [
          0.00663889,
          0.0147807,
          0.013111000000000001,
          0.0170152,
          0.03830580000000001,
          0.0450518,
          0.0507094,
          0.0872217,
          "0.204525",
          "0.212345",
          0.23665999999999998,
          0.241035,
          0.253352,
          0.274967
         ]
        },
        {
         "line": {
          "shape": "spline",
          "smoothing": 1.3
         },
         "name": "Denmark",
         "type": "scatter",
         "uid": "b877319a-10fc-4022-ae5d-30846bcb2308",
         "visible": "legendonly",
         "x": [
          "2011-12-01 00:00:00",
          "2012-06-01 00:00:00",
          "2012-12-01 00:00:00",
          "2013-06-01 00:00:00",
          "2013-12-01 00:00:00",
          "2014-06-01 00:00:00",
          "2014-12-01 00:00:00",
          "2015-06-01 00:00:00",
          "2016-12-01 00:00:00",
          "2017-06-01 00:00:00",
          "2017-12-01 00:00:00",
          "2018-06-01 00:00:00",
          "2018-12-01 00:00:00",
          "2019-06-01 00:00:00"
         ],
         "y": [
          0.014581799999999999,
          0.00766785,
          0.0111489,
          0.015687100000000002,
          0.0168177,
          0.0178579,
          0.0321324,
          0.0929839,
          "0.169521",
          "0.216591",
          0.315345,
          0.345975,
          0.374772,
          0.40389400000000003
         ]
        },
        {
         "line": {
          "color": "rgb(0.00784313725490196, 0.24313725490196078, 1.0)",
          "shape": "spline",
          "smoothing": 1.3
         },
         "name": "Italy",
         "type": "scatter",
         "uid": "21648c6b-daa0-4971-99b7-69bbced26a20",
         "visible": true,
         "x": [
          "2011-12-01 00:00:00",
          "2012-06-01 00:00:00",
          "2012-12-01 00:00:00",
          "2013-06-01 00:00:00",
          "2013-12-01 00:00:00",
          "2014-06-01 00:00:00",
          "2014-12-01 00:00:00",
          "2015-06-01 00:00:00",
          "2016-12-01 00:00:00",
          "2017-06-01 00:00:00",
          "2017-12-01 00:00:00",
          "2018-06-01 00:00:00",
          "2018-12-01 00:00:00",
          "2019-06-01 00:00:00"
         ],
         "y": [
          0.00007538010000000001,
          0.0000688492,
          0.0000597821,
          0.000108572,
          0.00384406,
          0.00431108,
          0.00473231,
          0.00965077,
          "0.0291326",
          "0.0847612",
          0.10808,
          0.14771800000000002,
          0.189419,
          0.22081900000000002
         ]
        },
        {
         "line": {
          "color": "rgb(1.0, 0.48627450980392156, 0.0)",
          "shape": "spline",
          "smoothing": 1.3
         },
         "name": "Lithuania",
         "type": "scatter",
         "uid": "bc4c80af-6d78-4bd8-a2f7-5bfc7120e604",
         "visible": "legendonly",
         "x": [
          "2011-12-01 00:00:00",
          "2012-06-01 00:00:00",
          "2012-12-01 00:00:00",
          "2013-06-01 00:00:00",
          "2013-12-01 00:00:00",
          "2014-06-01 00:00:00",
          "2014-12-01 00:00:00",
          "2015-06-01 00:00:00",
          "2016-12-01 00:00:00",
          "2017-06-01 00:00:00",
          "2017-12-01 00:00:00",
          "2018-06-01 00:00:00",
          "2018-12-01 00:00:00",
          "2019-06-01 00:00:00"
         ],
         "y": [
          0.0939956,
          0.0990669,
          0.10069299999999999,
          0.100477,
          0.09556039999999999,
          0.106635,
          0.11089,
          0.170506,
          0.26811599999999997,
          0.419745,
          0.44000500000000003,
          0.457509,
          0.465316,
          0.470829
         ]
        },
        {
         "line": {
          "shape": "spline",
          "smoothing": 1.3
         },
         "name": "Luxembourg",
         "type": "scatter",
         "uid": "d3de4a52-90a9-4fe5-ba98-915ea0b68042",
         "visible": "legendonly",
         "x": [
          "2011-12-01 00:00:00",
          "2012-06-01 00:00:00",
          "2012-12-01 00:00:00",
          "2013-06-01 00:00:00",
          "2013-12-01 00:00:00",
          "2014-06-01 00:00:00",
          "2014-12-01 00:00:00",
          "2015-06-01 00:00:00",
          "2016-12-01 00:00:00",
          "2017-06-01 00:00:00",
          "2017-12-01 00:00:00",
          "2018-06-01 00:00:00",
          "2018-12-01 00:00:00",
          "2019-06-01 00:00:00"
         ],
         "y": [
          0.00139961,
          0.00416517,
          0.007717100000000001,
          0.00839129,
          0.0142179,
          0.054642899999999994,
          0.0742119,
          0.0888567,
          "0.189802",
          "0.238972",
          0.308084,
          0.380837,
          0.4318,
          0.494154
         ]
        },
        {
         "line": {
          "shape": "spline",
          "smoothing": 1.3
         },
         "name": "Latvia",
         "type": "scatter",
         "uid": "fa2d6b55-ce18-4fbf-9cfb-3b1d63ef8726",
         "visible": "legendonly",
         "x": [
          "2011-12-01 00:00:00",
          "2012-06-01 00:00:00",
          "2012-12-01 00:00:00",
          "2013-06-01 00:00:00",
          "2013-12-01 00:00:00",
          "2014-06-01 00:00:00",
          "2014-12-01 00:00:00",
          "2015-06-01 00:00:00",
          "2016-12-01 00:00:00",
          "2017-06-01 00:00:00",
          "2017-12-01 00:00:00",
          "2018-06-01 00:00:00",
          "2018-12-01 00:00:00",
          "2019-06-01 00:00:00"
         ],
         "y": [
          0.154497,
          0.13663499999999998,
          0.204998,
          0.206223,
          0.356166,
          0.378544,
          0.402025,
          0.421867,
          "0.492272",
          "0.549095",
          0.530207,
          0.532704,
          0.590194,
          0.600255
         ]
        },
        {
         "line": {
          "shape": "spline",
          "smoothing": 1.3
         },
         "name": "Malta",
         "type": "scatter",
         "uid": "c16dd630-df51-41f4-a982-70fd19eb87a1",
         "visible": "legendonly",
         "x": [
          "2011-12-01 00:00:00",
          "2012-06-01 00:00:00",
          "2012-12-01 00:00:00",
          "2013-06-01 00:00:00",
          "2013-12-01 00:00:00",
          "2014-06-01 00:00:00",
          "2014-12-01 00:00:00",
          "2015-06-01 00:00:00",
          "2016-12-01 00:00:00",
          "2017-06-01 00:00:00",
          "2017-12-01 00:00:00",
          "2018-06-01 00:00:00",
          "2018-12-01 00:00:00",
          "2019-06-01 00:00:00"
         ],
         "y": [
          0.00489335,
          0.00631438,
          0.0063969,
          0.00672546,
          0.00678691,
          0.00844277,
          0.00705415,
          0.00965114,
          "0.0616546",
          "0.136471",
          0.200146,
          0.272744,
          0.33257600000000004,
          0.402013
         ]
        },
        {
         "line": {
          "shape": "spline",
          "smoothing": 1.3
         },
         "name": "Netherlands",
         "type": "scatter",
         "uid": "fd232ed2-ab59-415e-b4ab-4f6985847980",
         "visible": "legendonly",
         "x": [
          "2011-12-01 00:00:00",
          "2012-06-01 00:00:00",
          "2012-12-01 00:00:00",
          "2013-06-01 00:00:00",
          "2013-12-01 00:00:00",
          "2014-06-01 00:00:00",
          "2014-12-01 00:00:00",
          "2015-06-01 00:00:00",
          "2016-12-01 00:00:00",
          "2017-06-01 00:00:00",
          "2017-12-01 00:00:00",
          "2018-06-01 00:00:00",
          "2018-12-01 00:00:00",
          "2019-06-01 00:00:00"
         ],
         "y": [
          0.0207302,
          0.028175400000000003,
          0.0409806,
          0.053997199999999995,
          0.09277619999999999,
          0.131241,
          0.160813,
          0.17504,
          0.322986,
          0.329496,
          0.32605300000000004,
          0.396516,
          0.395381,
          0.403858
         ]
        },
        {
         "line": {
          "shape": "spline",
          "smoothing": 1.3
         },
         "name": "Norway",
         "type": "scatter",
         "uid": "560e5cbf-333a-4e69-b206-bb911be5bbca",
         "visible": "legendonly",
         "x": [],
         "y": []
        },
        {
         "line": {
          "shape": "spline",
          "smoothing": 1.3
         },
         "name": "Portugal",
         "type": "scatter",
         "uid": "f0fcca31-f532-456c-99cd-c890ceaf1949",
         "visible": "legendonly",
         "x": [
          "2011-12-01 00:00:00",
          "2012-06-01 00:00:00",
          "2012-12-01 00:00:00",
          "2013-06-01 00:00:00",
          "2013-12-01 00:00:00",
          "2014-06-01 00:00:00",
          "2014-12-01 00:00:00",
          "2015-06-01 00:00:00",
          "2016-12-01 00:00:00",
          "2017-06-01 00:00:00",
          "2017-12-01 00:00:00",
          "2018-06-01 00:00:00",
          "2018-12-01 00:00:00",
          "2019-06-01 00:00:00"
         ],
         "y": [
          0.013367799999999999,
          0.04679880000000001,
          0.10413399999999999,
          0.16430999999999998,
          0.187257,
          0.22640100000000002,
          0.222575,
          0.25455,
          0.42976499999999995,
          0.490868,
          0.631211,
          0.678165,
          0.716458,
          0.7485149999999999
         ]
        },
        {
         "line": {
          "color": "rgb(1.0, 0.7686274509803922, 0.0)",
          "shape": "spline",
          "smoothing": 1.3
         },
         "name": "Poland",
         "type": "scatter",
         "uid": "5fe02db3-05c9-48e0-9ab6-ef483648cbad",
         "visible": "legendonly",
         "x": [
          "2011-12-01 00:00:00",
          "2012-06-01 00:00:00",
          "2012-12-01 00:00:00",
          "2013-06-01 00:00:00",
          "2013-12-01 00:00:00",
          "2014-06-01 00:00:00",
          "2014-12-01 00:00:00",
          "2015-06-01 00:00:00",
          "2016-12-01 00:00:00",
          "2017-06-01 00:00:00",
          "2017-12-01 00:00:00",
          "2018-06-01 00:00:00",
          "2018-12-01 00:00:00",
          "2019-06-01 00:00:00"
         ],
         "y": [
          0.00638424,
          0.00977355,
          0.010798700000000001,
          0.014568799999999998,
          0.0247233,
          0.031681799999999996,
          0.031681400000000005,
          0.08356419999999999,
          0.1755,
          0.21631399999999998,
          0.273696,
          0.381303,
          0.428717,
          0.442201
         ]
        },
        {
         "line": {
          "color": "rgb(0.0, 0.8431372549019608, 1.0)",
          "shape": "spline",
          "smoothing": 1.3
         },
         "name": "Europe",
         "type": "scatter",
         "uid": "9141f0e4-a731-4053-9ec8-9df2b8eaedf2",
         "visible": "legendonly",
         "x": [
          "2011-12-01 00:00:00",
          "2012-06-01 00:00:00",
          "2012-12-01 00:00:00",
          "2013-06-01 00:00:00",
          "2013-12-01 00:00:00",
          "2014-06-01 00:00:00",
          "2014-12-01 00:00:00",
          "2015-06-01 00:00:00",
          "2015-12-01 00:00:00",
          "2016-06-01 00:00:00",
          "2016-12-01 00:00:00",
          "2017-06-01 00:00:00",
          "2017-12-01 00:00:00",
          "2018-06-01 00:00:00",
          "2018-12-01 00:00:00",
          "2019-06-01 00:00:00"
         ],
         "y": [
          0.0161791,
          0.024669299999999998,
          0.0332593,
          0.0421054,
          0.0536692,
          0.06651889999999999,
          0.08656060000000002,
          "0.107555",
          "0.135723",
          "0.152986",
          0.177594,
          0.204154,
          0.22693200000000002,
          0.26255300000000004,
          0.300187,
          0.33308000000000004
         ]
        },
        {
         "line": {
          "shape": "spline",
          "smoothing": 1.3
         },
         "name": "Romania",
         "type": "scatter",
         "uid": "0226e3c7-a2b8-49f9-9e99-701d27618d63",
         "visible": "legendonly",
         "x": [
          "2011-12-01 00:00:00",
          "2012-06-01 00:00:00",
          "2012-12-01 00:00:00",
          "2013-06-01 00:00:00",
          "2013-12-01 00:00:00",
          "2014-06-01 00:00:00",
          "2014-12-01 00:00:00",
          "2015-06-01 00:00:00",
          "2016-12-01 00:00:00",
          "2017-06-01 00:00:00",
          "2017-12-01 00:00:00",
          "2018-06-01 00:00:00",
          "2018-12-01 00:00:00",
          "2019-06-01 00:00:00"
         ],
         "y": [
          0.16000599999999998,
          0.17191800000000002,
          0.1892,
          0.23115700000000003,
          0.24548899999999999,
          0.277661,
          0.46585600000000005,
          0.45956099999999994,
          "0.563293",
          0.654883,
          0.6570590000000001,
          0.682602,
          0.7156359999999999,
          0.741594
         ]
        },
        {
         "line": {
          "shape": "spline",
          "smoothing": 1.3
         },
         "name": "Sweden",
         "type": "scatter",
         "uid": "b7ebeb56-a6a9-4291-a8d5-8810e566777d",
         "visible": "legendonly",
         "x": [
          "2011-12-01 00:00:00",
          "2012-06-01 00:00:00",
          "2012-12-01 00:00:00",
          "2013-06-01 00:00:00",
          "2013-12-01 00:00:00",
          "2014-06-01 00:00:00",
          "2014-12-01 00:00:00",
          "2015-06-01 00:00:00",
          "2016-12-01 00:00:00",
          "2017-06-01 00:00:00",
          "2017-12-01 00:00:00",
          "2018-06-01 00:00:00",
          "2018-12-01 00:00:00",
          "2019-06-01 00:00:00"
         ],
         "y": [
          0.16395099999999999,
          0.17647100000000002,
          0.24602800000000002,
          0.272497,
          0.312677,
          0.33577199999999996,
          0.38374899999999995,
          0.415292,
          "0.591626",
          "0.607918",
          0.672064,
          0.711101,
          0.7351489999999999,
          0.762471
         ]
        },
        {
         "line": {
          "shape": "spline",
          "smoothing": 1.3
         },
         "name": "Slovenia",
         "type": "scatter",
         "uid": "8be01d4a-95d6-4367-b8d5-af55086c41cb",
         "visible": "legendonly",
         "x": [
          "2011-12-01 00:00:00",
          "2012-06-01 00:00:00",
          "2012-12-01 00:00:00",
          "2013-06-01 00:00:00",
          "2013-12-01 00:00:00",
          "2014-06-01 00:00:00",
          "2014-12-01 00:00:00",
          "2015-06-01 00:00:00",
          "2016-12-01 00:00:00",
          "2017-06-01 00:00:00",
          "2017-12-01 00:00:00",
          "2018-06-01 00:00:00",
          "2018-12-01 00:00:00",
          "2019-06-01 00:00:00"
         ],
         "y": [
          0.0161612,
          0.0246572,
          0.032145299999999995,
          0.036823400000000006,
          0.0406366,
          0.044338,
          0.0607873,
          0.0713877,
          0.152937,
          0.17561500000000002,
          0.155589,
          0.187698,
          0.20013599999999998,
          0.24614899999999998
         ]
        },
        {
         "line": {
          "shape": "spline",
          "smoothing": 1.3
         },
         "name": "Slovakia",
         "type": "scatter",
         "uid": "70c3d097-e2cc-4ad5-9888-e4f2361475ee",
         "visible": "legendonly",
         "x": [
          "2011-12-01 00:00:00",
          "2012-06-01 00:00:00",
          "2012-12-01 00:00:00",
          "2013-06-01 00:00:00",
          "2013-12-01 00:00:00",
          "2014-06-01 00:00:00",
          "2014-12-01 00:00:00",
          "2015-06-01 00:00:00",
          "2016-12-01 00:00:00",
          "2017-06-01 00:00:00",
          "2017-12-01 00:00:00",
          "2018-06-01 00:00:00",
          "2018-12-01 00:00:00",
          "2019-06-01 00:00:00"
         ],
         "y": [
          0.0187287,
          0.030331,
          0.0343195,
          0.039058499999999996,
          0.0827495,
          0.0899602,
          0.0948585,
          0.100686,
          "0.126903",
          "0.138023",
          0.18325,
          0.1831,
          0.19128599999999998,
          0.202993
         ]
        },
        {
         "line": {
          "shape": "spline",
          "smoothing": 1.3
         },
         "name": "United Kingdom",
         "type": "scatter",
         "uid": "8c8d7dc2-8bc9-42a3-8157-6e6fd930b1bd",
         "visible": "legendonly",
         "x": [
          "2011-12-01 00:00:00",
          "2012-06-01 00:00:00",
          "2012-12-01 00:00:00",
          "2013-06-01 00:00:00",
          "2013-12-01 00:00:00",
          "2014-06-01 00:00:00",
          "2014-12-01 00:00:00",
          "2015-06-01 00:00:00",
          "2016-12-01 00:00:00",
          "2017-06-01 00:00:00",
          "2017-12-01 00:00:00",
          "2018-06-01 00:00:00",
          "2018-12-01 00:00:00",
          "2019-06-01 00:00:00"
         ],
         "y": [
          0.0005919969999999999,
          0.00354527,
          0.00938455,
          0.0124892,
          0.013474200000000002,
          0.028589499999999997,
          0.054925199999999993,
          0.0721164,
          0.136044,
          0.16780899999999999,
          0.170208,
          0.170645,
          0.187417,
          0.19961099999999998
         ]
        },
        {
         "line": {
          "shape": "spline",
          "smoothing": 1.3
         },
         "name": "Austria",
         "type": "scatter",
         "uid": "00cffd61-4b97-462a-9df4-902a54cabbcb",
         "visible": "legendonly",
         "x": [
          "2011-12-01 00:00:00",
          "2012-06-01 00:00:00",
          "2012-12-01 00:00:00",
          "2013-06-01 00:00:00",
          "2013-12-01 00:00:00",
          "2014-06-01 00:00:00",
          "2014-12-01 00:00:00",
          "2015-06-01 00:00:00",
          "2016-12-01 00:00:00",
          "2017-06-01 00:00:00",
          "2017-12-01 00:00:00",
          "2018-06-01 00:00:00",
          "2018-12-01 00:00:00",
          "2019-06-01 00:00:00"
         ],
         "y": [
          0.00851,
          0.0194923,
          0.0178958,
          0.0173335,
          0.0212353,
          0.0208049,
          0.0342841,
          0.0356399,
          0.0449618,
          0.069703,
          0.0838873,
          0.102281,
          0.111755,
          0.404143
         ]
        },
        {
         "line": {
          "shape": "spline",
          "smoothing": 1.3
         },
         "name": "Belgium",
         "type": "scatter",
         "uid": "eb868517-2d22-44a5-9eb8-80c90b2dcbae",
         "visible": "legendonly",
         "x": [
          "2011-12-01 00:00:00",
          "2012-06-01 00:00:00",
          "2012-12-01 00:00:00",
          "2013-06-01 00:00:00",
          "2013-12-01 00:00:00",
          "2014-06-01 00:00:00",
          "2014-12-01 00:00:00",
          "2015-06-01 00:00:00",
          "2016-12-01 00:00:00",
          "2017-06-01 00:00:00",
          "2017-12-01 00:00:00",
          "2018-06-01 00:00:00",
          "2018-12-01 00:00:00",
          "2019-06-01 00:00:00"
         ],
         "y": [
          0.0756307,
          0.10307899999999999,
          0.12201400000000001,
          0.135191,
          0.132993,
          0.132993,
          0.139909,
          0.263177,
          "0.475209",
          "0.516618",
          0.523069,
          0.527751,
          0.5464600000000001,
          0.566347
         ]
        },
        {
         "line": {
          "shape": "spline",
          "smoothing": 1.3
         },
         "name": "Bulgaria",
         "type": "scatter",
         "uid": "b60703ca-c48c-4f05-8a3a-56c444af5e0e",
         "visible": "legendonly",
         "x": [
          "2011-12-01 00:00:00",
          "2012-06-01 00:00:00",
          "2012-12-01 00:00:00",
          "2013-06-01 00:00:00",
          "2013-12-01 00:00:00",
          "2014-06-01 00:00:00",
          "2014-12-01 00:00:00",
          "2015-06-01 00:00:00",
          "2016-12-01 00:00:00",
          "2017-06-01 00:00:00",
          "2017-12-01 00:00:00",
          "2018-06-01 00:00:00",
          "2018-12-01 00:00:00",
          "2019-06-01 00:00:00"
         ],
         "y": [
          0.00176734,
          0.0114214,
          0.0118455,
          0.0215912,
          0.0292821,
          0.0371288,
          0.048181199999999993,
          0.0551168,
          0.09419939999999999,
          0.11139,
          0.146285,
          0.167705,
          0.17986,
          0.19022999999999998
         ]
        },
        {
         "line": {
          "shape": "spline",
          "smoothing": 1.3
         },
         "name": "Cyprus",
         "type": "scatter",
         "uid": "07e8f4be-9aba-4778-a67f-71aa01178f2c",
         "visible": "legendonly",
         "x": [
          "2011-12-01 00:00:00",
          "2012-06-01 00:00:00",
          "2012-12-01 00:00:00",
          "2013-06-01 00:00:00",
          "2013-12-01 00:00:00",
          "2014-06-01 00:00:00",
          "2014-12-01 00:00:00",
          "2015-06-01 00:00:00",
          "2016-12-01 00:00:00",
          "2017-06-01 00:00:00",
          "2017-12-01 00:00:00",
          "2018-06-01 00:00:00",
          "2018-12-01 00:00:00",
          "2019-06-01 00:00:00"
         ],
         "y": [
          "nan",
          0.00038903699999999995,
          0.000544015,
          0.000606952,
          0.000607759,
          0.000627366,
          0.000718358,
          0.000744557,
          "0.00210067",
          "0.00289805",
          0.00647985,
          0.0210443,
          0.021674099999999998,
          0.027144799999999997
         ]
        },
        {
         "line": {
          "shape": "spline",
          "smoothing": 1.3
         },
         "name": "Switzerland",
         "type": "scatter",
         "uid": "684f9505-71e1-42d0-bc9a-9ee95bb9b6c1",
         "visible": "legendonly",
         "x": [],
         "y": []
        }
       ],
       "_js2py_update": {},
       "_last_layout_edit_id": 134,
       "_last_trace_edit_id": 133,
       "_layout": {
        "autosize": true,
        "height": 600,
        "legend": {
         "title": {
          "text": "Countries"
         }
        },
        "showlegend": true,
        "template": {
         "data": {
          "bar": [
           {
            "error_x": {
             "color": "#2a3f5f"
            },
            "error_y": {
             "color": "#2a3f5f"
            },
            "marker": {
             "line": {
              "color": "#E5ECF6",
              "width": 0.5
             }
            },
            "type": "bar"
           }
          ],
          "barpolar": [
           {
            "marker": {
             "line": {
              "color": "#E5ECF6",
              "width": 0.5
             }
            },
            "type": "barpolar"
           }
          ],
          "carpet": [
           {
            "aaxis": {
             "endlinecolor": "#2a3f5f",
             "gridcolor": "white",
             "linecolor": "white",
             "minorgridcolor": "white",
             "startlinecolor": "#2a3f5f"
            },
            "baxis": {
             "endlinecolor": "#2a3f5f",
             "gridcolor": "white",
             "linecolor": "white",
             "minorgridcolor": "white",
             "startlinecolor": "#2a3f5f"
            },
            "type": "carpet"
           }
          ],
          "choropleth": [
           {
            "colorbar": {
             "outlinewidth": 0,
             "ticks": ""
            },
            "type": "choropleth"
           }
          ],
          "contour": [
           {
            "colorbar": {
             "outlinewidth": 0,
             "ticks": ""
            },
            "colorscale": [
             [
              0,
              "#0d0887"
             ],
             [
              0.1111111111111111,
              "#46039f"
             ],
             [
              0.2222222222222222,
              "#7201a8"
             ],
             [
              0.3333333333333333,
              "#9c179e"
             ],
             [
              0.4444444444444444,
              "#bd3786"
             ],
             [
              0.5555555555555556,
              "#d8576b"
             ],
             [
              0.6666666666666666,
              "#ed7953"
             ],
             [
              0.7777777777777778,
              "#fb9f3a"
             ],
             [
              0.8888888888888888,
              "#fdca26"
             ],
             [
              1,
              "#f0f921"
             ]
            ],
            "type": "contour"
           }
          ],
          "contourcarpet": [
           {
            "colorbar": {
             "outlinewidth": 0,
             "ticks": ""
            },
            "type": "contourcarpet"
           }
          ],
          "heatmap": [
           {
            "colorbar": {
             "outlinewidth": 0,
             "ticks": ""
            },
            "colorscale": [
             [
              0,
              "#0d0887"
             ],
             [
              0.1111111111111111,
              "#46039f"
             ],
             [
              0.2222222222222222,
              "#7201a8"
             ],
             [
              0.3333333333333333,
              "#9c179e"
             ],
             [
              0.4444444444444444,
              "#bd3786"
             ],
             [
              0.5555555555555556,
              "#d8576b"
             ],
             [
              0.6666666666666666,
              "#ed7953"
             ],
             [
              0.7777777777777778,
              "#fb9f3a"
             ],
             [
              0.8888888888888888,
              "#fdca26"
             ],
             [
              1,
              "#f0f921"
             ]
            ],
            "type": "heatmap"
           }
          ],
          "heatmapgl": [
           {
            "colorbar": {
             "outlinewidth": 0,
             "ticks": ""
            },
            "colorscale": [
             [
              0,
              "#0d0887"
             ],
             [
              0.1111111111111111,
              "#46039f"
             ],
             [
              0.2222222222222222,
              "#7201a8"
             ],
             [
              0.3333333333333333,
              "#9c179e"
             ],
             [
              0.4444444444444444,
              "#bd3786"
             ],
             [
              0.5555555555555556,
              "#d8576b"
             ],
             [
              0.6666666666666666,
              "#ed7953"
             ],
             [
              0.7777777777777778,
              "#fb9f3a"
             ],
             [
              0.8888888888888888,
              "#fdca26"
             ],
             [
              1,
              "#f0f921"
             ]
            ],
            "type": "heatmapgl"
           }
          ],
          "histogram": [
           {
            "marker": {
             "colorbar": {
              "outlinewidth": 0,
              "ticks": ""
             }
            },
            "type": "histogram"
           }
          ],
          "histogram2d": [
           {
            "colorbar": {
             "outlinewidth": 0,
             "ticks": ""
            },
            "colorscale": [
             [
              0,
              "#0d0887"
             ],
             [
              0.1111111111111111,
              "#46039f"
             ],
             [
              0.2222222222222222,
              "#7201a8"
             ],
             [
              0.3333333333333333,
              "#9c179e"
             ],
             [
              0.4444444444444444,
              "#bd3786"
             ],
             [
              0.5555555555555556,
              "#d8576b"
             ],
             [
              0.6666666666666666,
              "#ed7953"
             ],
             [
              0.7777777777777778,
              "#fb9f3a"
             ],
             [
              0.8888888888888888,
              "#fdca26"
             ],
             [
              1,
              "#f0f921"
             ]
            ],
            "type": "histogram2d"
           }
          ],
          "histogram2dcontour": [
           {
            "colorbar": {
             "outlinewidth": 0,
             "ticks": ""
            },
            "colorscale": [
             [
              0,
              "#0d0887"
             ],
             [
              0.1111111111111111,
              "#46039f"
             ],
             [
              0.2222222222222222,
              "#7201a8"
             ],
             [
              0.3333333333333333,
              "#9c179e"
             ],
             [
              0.4444444444444444,
              "#bd3786"
             ],
             [
              0.5555555555555556,
              "#d8576b"
             ],
             [
              0.6666666666666666,
              "#ed7953"
             ],
             [
              0.7777777777777778,
              "#fb9f3a"
             ],
             [
              0.8888888888888888,
              "#fdca26"
             ],
             [
              1,
              "#f0f921"
             ]
            ],
            "type": "histogram2dcontour"
           }
          ],
          "mesh3d": [
           {
            "colorbar": {
             "outlinewidth": 0,
             "ticks": ""
            },
            "type": "mesh3d"
           }
          ],
          "parcoords": [
           {
            "line": {
             "colorbar": {
              "outlinewidth": 0,
              "ticks": ""
             }
            },
            "type": "parcoords"
           }
          ],
          "pie": [
           {
            "automargin": true,
            "type": "pie"
           }
          ],
          "scatter": [
           {
            "marker": {
             "colorbar": {
              "outlinewidth": 0,
              "ticks": ""
             }
            },
            "type": "scatter"
           }
          ],
          "scatter3d": [
           {
            "line": {
             "colorbar": {
              "outlinewidth": 0,
              "ticks": ""
             }
            },
            "marker": {
             "colorbar": {
              "outlinewidth": 0,
              "ticks": ""
             }
            },
            "type": "scatter3d"
           }
          ],
          "scattercarpet": [
           {
            "marker": {
             "colorbar": {
              "outlinewidth": 0,
              "ticks": ""
             }
            },
            "type": "scattercarpet"
           }
          ],
          "scattergeo": [
           {
            "marker": {
             "colorbar": {
              "outlinewidth": 0,
              "ticks": ""
             }
            },
            "type": "scattergeo"
           }
          ],
          "scattergl": [
           {
            "marker": {
             "colorbar": {
              "outlinewidth": 0,
              "ticks": ""
             }
            },
            "type": "scattergl"
           }
          ],
          "scattermapbox": [
           {
            "marker": {
             "colorbar": {
              "outlinewidth": 0,
              "ticks": ""
             }
            },
            "type": "scattermapbox"
           }
          ],
          "scatterpolar": [
           {
            "marker": {
             "colorbar": {
              "outlinewidth": 0,
              "ticks": ""
             }
            },
            "type": "scatterpolar"
           }
          ],
          "scatterpolargl": [
           {
            "marker": {
             "colorbar": {
              "outlinewidth": 0,
              "ticks": ""
             }
            },
            "type": "scatterpolargl"
           }
          ],
          "scatterternary": [
           {
            "marker": {
             "colorbar": {
              "outlinewidth": 0,
              "ticks": ""
             }
            },
            "type": "scatterternary"
           }
          ],
          "surface": [
           {
            "colorbar": {
             "outlinewidth": 0,
             "ticks": ""
            },
            "colorscale": [
             [
              0,
              "#0d0887"
             ],
             [
              0.1111111111111111,
              "#46039f"
             ],
             [
              0.2222222222222222,
              "#7201a8"
             ],
             [
              0.3333333333333333,
              "#9c179e"
             ],
             [
              0.4444444444444444,
              "#bd3786"
             ],
             [
              0.5555555555555556,
              "#d8576b"
             ],
             [
              0.6666666666666666,
              "#ed7953"
             ],
             [
              0.7777777777777778,
              "#fb9f3a"
             ],
             [
              0.8888888888888888,
              "#fdca26"
             ],
             [
              1,
              "#f0f921"
             ]
            ],
            "type": "surface"
           }
          ],
          "table": [
           {
            "cells": {
             "fill": {
              "color": "#EBF0F8"
             },
             "line": {
              "color": "white"
             }
            },
            "header": {
             "fill": {
              "color": "#C8D4E3"
             },
             "line": {
              "color": "white"
             }
            },
            "type": "table"
           }
          ]
         },
         "layout": {
          "annotationdefaults": {
           "arrowcolor": "#2a3f5f",
           "arrowhead": 0,
           "arrowwidth": 1
          },
          "coloraxis": {
           "colorbar": {
            "outlinewidth": 0,
            "ticks": ""
           }
          },
          "colorscale": {
           "diverging": [
            [
             0,
             "#8e0152"
            ],
            [
             0.1,
             "#c51b7d"
            ],
            [
             0.2,
             "#de77ae"
            ],
            [
             0.3,
             "#f1b6da"
            ],
            [
             0.4,
             "#fde0ef"
            ],
            [
             0.5,
             "#f7f7f7"
            ],
            [
             0.6,
             "#e6f5d0"
            ],
            [
             0.7,
             "#b8e186"
            ],
            [
             0.8,
             "#7fbc41"
            ],
            [
             0.9,
             "#4d9221"
            ],
            [
             1,
             "#276419"
            ]
           ],
           "sequential": [
            [
             0,
             "#0d0887"
            ],
            [
             0.1111111111111111,
             "#46039f"
            ],
            [
             0.2222222222222222,
             "#7201a8"
            ],
            [
             0.3333333333333333,
             "#9c179e"
            ],
            [
             0.4444444444444444,
             "#bd3786"
            ],
            [
             0.5555555555555556,
             "#d8576b"
            ],
            [
             0.6666666666666666,
             "#ed7953"
            ],
            [
             0.7777777777777778,
             "#fb9f3a"
            ],
            [
             0.8888888888888888,
             "#fdca26"
            ],
            [
             1,
             "#f0f921"
            ]
           ],
           "sequentialminus": [
            [
             0,
             "#0d0887"
            ],
            [
             0.1111111111111111,
             "#46039f"
            ],
            [
             0.2222222222222222,
             "#7201a8"
            ],
            [
             0.3333333333333333,
             "#9c179e"
            ],
            [
             0.4444444444444444,
             "#bd3786"
            ],
            [
             0.5555555555555556,
             "#d8576b"
            ],
            [
             0.6666666666666666,
             "#ed7953"
            ],
            [
             0.7777777777777778,
             "#fb9f3a"
            ],
            [
             0.8888888888888888,
             "#fdca26"
            ],
            [
             1,
             "#f0f921"
            ]
           ]
          },
          "colorway": [
           "#636efa",
           "#EF553B",
           "#00cc96",
           "#ab63fa",
           "#FFA15A",
           "#19d3f3",
           "#FF6692",
           "#B6E880",
           "#FF97FF",
           "#FECB52"
          ],
          "font": {
           "color": "#2a3f5f"
          },
          "geo": {
           "bgcolor": "white",
           "lakecolor": "white",
           "landcolor": "#E5ECF6",
           "showlakes": true,
           "showland": true,
           "subunitcolor": "white"
          },
          "hoverlabel": {
           "align": "left"
          },
          "hovermode": "closest",
          "mapbox": {
           "style": "light"
          },
          "paper_bgcolor": "white",
          "plot_bgcolor": "#E5ECF6",
          "polar": {
           "angularaxis": {
            "gridcolor": "white",
            "linecolor": "white",
            "ticks": ""
           },
           "bgcolor": "#E5ECF6",
           "radialaxis": {
            "gridcolor": "white",
            "linecolor": "white",
            "ticks": ""
           }
          },
          "scene": {
           "xaxis": {
            "backgroundcolor": "#E5ECF6",
            "gridcolor": "white",
            "gridwidth": 2,
            "linecolor": "white",
            "showbackground": true,
            "ticks": "",
            "zerolinecolor": "white"
           },
           "yaxis": {
            "backgroundcolor": "#E5ECF6",
            "gridcolor": "white",
            "gridwidth": 2,
            "linecolor": "white",
            "showbackground": true,
            "ticks": "",
            "zerolinecolor": "white"
           },
           "zaxis": {
            "backgroundcolor": "#E5ECF6",
            "gridcolor": "white",
            "gridwidth": 2,
            "linecolor": "white",
            "showbackground": true,
            "ticks": "",
            "zerolinecolor": "white"
           }
          },
          "shapedefaults": {
           "line": {
            "color": "#2a3f5f"
           }
          },
          "ternary": {
           "aaxis": {
            "gridcolor": "white",
            "linecolor": "white",
            "ticks": ""
           },
           "baxis": {
            "gridcolor": "white",
            "linecolor": "white",
            "ticks": ""
           },
           "bgcolor": "#E5ECF6",
           "caxis": {
            "gridcolor": "white",
            "linecolor": "white",
            "ticks": ""
           }
          },
          "title": {
           "x": 0.05
          },
          "xaxis": {
           "automargin": true,
           "gridcolor": "white",
           "linecolor": "white",
           "ticks": "",
           "title": {
            "standoff": 15
           },
           "zerolinecolor": "white",
           "zerolinewidth": 2
          },
          "yaxis": {
           "automargin": true,
           "gridcolor": "white",
           "linecolor": "white",
           "ticks": "",
           "title": {
            "standoff": 15
           },
           "zerolinecolor": "white",
           "zerolinewidth": 2
          }
         }
        },
        "title": {
         "text": "Share of fixed broadband subscriptions >= 100 Mbps"
        },
        "xaxis": {
         "title": {
          "text": "Year"
         }
        },
        "yaxis": {
         "title": {
          "text": "Percentage"
         }
        }
       },
       "_py2js_animate": {},
       "_py2js_deleteTraces": {},
       "_py2js_moveTraces": {},
       "_py2js_removeLayoutProps": {},
       "_view_count": 1
      }
     },
     "e528d57a059344f8b4008031b11630d2": {
      "model_module": "@jupyter-widgets/base",
      "model_module_version": "1.2.0",
      "model_name": "LayoutModel",
      "state": {}
     },
     "e5a3e483fde545adbf8b3c74bf17222e": {
      "model_module": "@jupyter-widgets/controls",
      "model_module_version": "1.5.0",
      "model_name": "DescriptionStyleModel",
      "state": {
       "description_width": ""
      }
     },
     "e66964c3598c45afbf03442d5b8fd91e": {
      "model_module": "@jupyter-widgets/base",
      "model_module_version": "1.2.0",
      "model_name": "LayoutModel",
      "state": {}
     },
     "ee18c6e29d4a48b8b0e9f3bcfdeace53": {
      "model_module": "@jupyter-widgets/base",
      "model_module_version": "1.2.0",
      "model_name": "LayoutModel",
      "state": {}
     },
     "f1cd3bd5c5224a8db0629a91c4c9663f": {
      "model_module": "@jupyter-widgets/base",
      "model_module_version": "1.2.0",
      "model_name": "LayoutModel",
      "state": {}
     },
     "f364daca58e340a4bb3a31377b9b549f": {
      "model_module": "@jupyter-widgets/controls",
      "model_module_version": "1.5.0",
      "model_name": "DescriptionStyleModel",
      "state": {
       "description_width": ""
      }
     },
     "fb84d4f7b99d4253a546d2b4694020c3": {
      "model_module": "@jupyter-widgets/controls",
      "model_module_version": "1.5.0",
      "model_name": "DescriptionStyleModel",
      "state": {
       "description_width": ""
      }
     },
     "fbe46a5cbeec4a098ff6a84bd0549fa6": {
      "model_module": "@jupyter-widgets/controls",
      "model_module_version": "1.5.0",
      "model_name": "HTMLModel",
      "state": {
       "layout": "IPY_MODEL_7311dd2ae39442d6b1da666694fe64b9",
       "style": "IPY_MODEL_379da9059597437c8b1185bc908eb709",
       "value": "<p>Click on the name of the countries in the legend in order to visualize the corresponding values in the graph.</p>"
      }
     },
     "ffb2953e778d46128e1873d907df4f4c": {
      "model_module": "@jupyter-widgets/controls",
      "model_module_version": "1.5.0",
      "model_name": "LabelModel",
      "state": {
       "layout": "IPY_MODEL_8fff5c84d1f6447599cf4957ef1996a9",
       "style": "IPY_MODEL_f364daca58e340a4bb3a31377b9b549f",
       "value": "Indicator:"
      }
     }
    },
    "version_major": 2,
    "version_minor": 0
   }
  }
 },
 "nbformat": 4,
 "nbformat_minor": 4
}