{
 "cells": [
  {
   "cell_type": "markdown",
   "metadata": {},
   "source": [
    "# Europe\n",
    "\n",
    "**Source: [https://digital-agenda-data.eu/](https://digital-agenda-data.eu/)**\n",
    "\n",
    "### Key indicators used:\n",
    "1) Broadband take-up and coverage\n",
    "- Standard fixed broadband coverage/availability (bb_scov)\n",
    "- NGA broadband coverage/availability (bb_ngacov)\n",
    "- Households with a broadband connection (h_broad)\n",
    "- Households with fixed broadband connection (h_bbfix)\n",
    "\n",
    "2) Broadband speeds and prices\n",
    "- Share of fixed broadband subscriptions >= 100 Mbps (bb_speed100)\n",
    "- Households with no access to Internet at home, because the costs are too high (all households) (h_xcost)\n",
    "\n",
    "3) Mobile market\n",
    "- 4G mobile broadband coverage (total) (mbb_ltecov)\n",
    "\n",
    "4) Internet usage\n",
    "- Households with access to the Internet at home (h_iacc)\n",
    "- Individuals who have never used the internet (all individuals) (i_iux)\n",
    "\n",
    "5) Take up of internet services (all individuals)\n",
    "- Using online banking (i_iubk)\n",
    "- Uploading self-created content to be shared (i_iuupl)\n",
    "- Participating in social networks, over the internet, last 3 months (i_iusnet)\n",
    "- Looking for a job or sending a job application (i_iujob)\n",
    "- Doing an online course (i_iuolc)\n",
    "- Taking part in on-line consultations or voting to define civic or political issues (i_iuvote)\n",
    "\n",
    "6) eGovernment\n",
    "- Individuals interacting online with public authorities, last 12 months (i_iugov12)\n",
    "\n",
    "7) Digital skills\n",
    "- Individuals with at least basic digital skills (i_dsk_bab)\n",
    "- Science and technology graduates (st_grad)\n",
    "\n",
    "8) ICT Specialists\n",
    "- Individuals who have obtained ICT skills through formal educational institutions (i_skedu)\n",
    "\n",
    "9) Security and privacy\n",
    "- Individuals caught a virus or other computer infection resulting in loss of information or time (i_secvir1)\n",
    "- Security concerns kept individual from ordering or buying goods or services for private use (i_sbgood)"
   ]
  },
  {
   "cell_type": "markdown",
   "metadata": {},
   "source": [
    "## Import libraries"
   ]
  },
  {
   "cell_type": "code",
   "execution_count": 1,
   "metadata": {},
   "outputs": [],
   "source": [
    "import pandas as pd\n",
    "import seaborn as sns\n",
    "import plotly.express as px\n",
    "import plotly.graph_objects as go\n",
    "import dash_core_components as dcc\n",
    "from ipywidgets import widgets\n",
    "import numpy as np \n",
    "import seaborn as sns\n",
    "import geopandas as gpd\n",
    "import matplotlib.pyplot as plt\n",
    "import matplotlib.colors as colors\n",
    "from matplotlib import cm\n",
    "from datetime import datetime\n",
    "\n",
    "%matplotlib inline"
   ]
  },
  {
   "cell_type": "markdown",
   "metadata": {},
   "source": [
    "## Preprocessing"
   ]
  },
  {
   "cell_type": "code",
   "execution_count": 2,
   "metadata": {},
   "outputs": [
    {
     "name": "stderr",
     "output_type": "stream",
     "text": [
      "D:\\Anaconda3\\lib\\site-packages\\IPython\\core\\interactiveshell.py:3058: DtypeWarning:\n",
      "\n",
      "Columns (1,6) have mixed types. Specify dtype option on import or set low_memory=False.\n",
      "\n"
     ]
    }
   ],
   "source": [
    "key_indicators = pd.read_csv(\"data/digital-agenda-scoreboard-key-indicators.csv\")\n",
    "# Drop useless columns\n",
    "key_indicators = key_indicators.drop(['observation', 'flag', 'note'], axis=1)\n",
    "# Filter out some indicators\n",
    "my_indicators = ['bb_scov', 'bb_ngacov', 'h_broad', 'h_bbfix', 'bb_speed100', 'h_xcost', 'mbb_ltecov', 'h_iacc', 'i_iux', 'i_iubk', 'i_iuupl', 'i_iusnet', 'i_iujob', 'i_iuolc', 'i_iuvote', 'i_iugov12', 'i_dsk_s_bab', 'i_skedu', 'i_secvir1', 'i_sbgood']\n",
    "key_indicators = key_indicators[key_indicators['indicator'].isin(my_indicators)]\n",
    "# Map the indicators' codes to the corresponding name\n",
    "indicators_mapping = {'bb_scov' : 'Standard fixed broadband coverage/availability',\n",
    "           \"bb_ngacov\" : 'NGA broadband coverage/availability',\n",
    "           'h_broad' : 'Households with a broadband connection',\n",
    "           'h_bbfix' : 'Households with fixed broadband connection',\n",
    "           'bb_speed100' : 'Share of fixed broadband subscriptions >= 100 Mbps',\n",
    "           'h_xcost' : 'Households with no access to Internet at home, because the costs are too high',\n",
    "           'mbb_ltecov' : '4G mobile broadband coverage',\n",
    "           'h_iacc' : 'Households with access to the Internet at home',\n",
    "           'i_iux' : 'Individuals who have never used the internet (all individuals)',\n",
    "           'i_iubk' : 'Using online banking',\n",
    "           'i_iuupl' : 'Uploading self-created content to be shared',\n",
    "           'i_iusnet' : 'Participating in social networks, over the internet, last 3 months',\n",
    "           'i_iujob' : 'Looking for a job or sending a job application',\n",
    "           'i_iuolc' : 'Doing an online course',\n",
    "           'i_iuvote' : 'Taking part in on-line consultations or voting to define civic or political issues',\n",
    "           'i_iugov12' : 'Individuals interacting online with public authorities, last 12 months',\n",
    "           'i_dsk_s_bab' : 'Individuals with at least basic digital skills in Software domain',\n",
    "           'i_skedu' : 'Individuals who have obtained ICT skills through formal educational institutions',\n",
    "           'i_secvir1' : 'Individuals caught a virus or other computer infection resulting in loss of information or time',\n",
    "           'i_sbgood' : 'Security concerns kept individual from ordering or buying goods or services for private use',\n",
    "          }\n",
    "key_indicators['indicator'] = key_indicators['indicator'].replace(indicators_mapping)\n",
    "\n",
    "# Associate the indicators with their corresponding number (i.e. the group)\n",
    "groups = {'1' : ['Standard fixed broadband coverage/availability',\n",
    "          'NGA broadband coverage/availability',\n",
    "          'Households with a broadband connection',\n",
    "          'Households with fixed broadband connection'],\n",
    "          '2' : ['Share of fixed broadband subscriptions >= 100 Mbps',\n",
    "          'Households with no access to Internet at home, because the costs are too high'],\n",
    "          '3' : ['4G mobile broadband coverage'],\n",
    "          '4' : ['Households with access to the Internet at home',\n",
    "          'Individuals who have never used the internet (all individuals)'],\n",
    "          '5' : ['Using online banking',\n",
    "          'Uploading self-created content to be shared',\n",
    "          'Participating in social networks, over the internet, last 3 months',\n",
    "          'Looking for a job or sending a job application',\n",
    "          'Doing an online course',\n",
    "          'Taking part in on-line consultations or voting to define civic or political issues'],\n",
    "          '6' : ['Individuals interacting online with public authorities, last 12 months'],\n",
    "          '7' : ['Individuals with at least basic digital skills in Software domain'],\n",
    "          '8' : ['Individuals who have obtained ICT skills through formal educational institutions'],\n",
    "          '9' : ['Individuals caught a virus or other computer infection resulting in loss of information or time',\n",
    "          'Security concerns kept individual from ordering or buying goods or services for private use']\n",
    "          }\n",
    "    \n",
    "# Mapping between 'ref_area' and the name of the country\n",
    "countries_mapping =  { 'EE' : 'Estonia',\n",
    "                        'EL' : 'Greece',\n",
    "                        'ES' : 'Spain',\n",
    "                        'FI' : 'Finland',\n",
    "                        'FR' : 'France',\n",
    "                        'HR' : 'Croatia',\n",
    "                        'HU' : 'Hungary',\n",
    "                        'IE' : 'Ireland',\n",
    "                        'IS' : 'Iceland',\n",
    "                        'DE' : 'Deutschland',\n",
    "                        'CZ' : 'Czech Rep.',\n",
    "                        'DK' : 'Denmark',\n",
    "                        'IT' : 'Italy',\n",
    "                        'LT' : 'Lithuania',\n",
    "                        'LU' : 'Luxembourg',\n",
    "                        'LV' : 'Latvia',\n",
    "                        'MT' : 'Malta',\n",
    "                        'NL' : 'Netherlands',\n",
    "                        'NO' : 'Norway',\n",
    "                        'PT' : 'Portugal',\n",
    "                        'PL' : 'Poland',\n",
    "                        'EU' : 'Europe',\n",
    "                        'RO' : 'Romania',\n",
    "                        'SE' : 'Sweden',\n",
    "                        'SI' : 'Slovenia',\n",
    "                        'SK' : 'Slovakia',\n",
    "                        'UK' : 'United Kingdom',\n",
    "                        'AT' : 'Austria',\n",
    "                        'BE' : 'Belgium',\n",
    "                        'BG' : 'Bulgaria',\n",
    "                        'CY' : 'Cyprus',\n",
    "                        'CH' : 'Switzerland'\n",
    "                     }\n",
    "key_indicators['ref_area'] = key_indicators['ref_area'].replace(countries_mapping)\n",
    "\n",
    "# Drop the index column\n",
    "key_indicators.reset_index(drop=True, inplace=True)\n",
    "\n",
    "# In some cases the types in 'time_period' are mixed ==> cast all to strings \n",
    "key_indicators['time_period'] = key_indicators['time_period'].apply(lambda j: str(j))\n",
    "def convert_to_date(j):\n",
    "   if len(j.split('-')) == 1:\n",
    "      return str(datetime.strptime(j, '%Y'))\n",
    "   elif len(j.split('-')) == 2:\n",
    "      return str(datetime.strptime(j, '%Y-%m'))\n",
    "   else:\n",
    "      return str(datetime.strptime(j, '%Y-%m-%d'))\n",
    "key_indicators['time_period'] = key_indicators['time_period'].apply(lambda j: convert_to_date(j))"
   ]
  },
  {
   "cell_type": "code",
   "execution_count": 252,
   "metadata": {},
   "outputs": [
    {
     "data": {
      "text/plain": [
       "\" df = key_indicators.loc[(key_indicators['indicator'] == 'Individuals with at least basic digital skills in Communication domain') & (key_indicators['ref_area'] == 'Italy')]\\ndf = df.loc[df['breakdown'].str.contains('total')]\\ndf.head(30) \""
      ]
     },
     "execution_count": 252,
     "metadata": {},
     "output_type": "execute_result"
    }
   ],
   "source": [
    "\"\"\" df = key_indicators.loc[(key_indicators['indicator'] == 'Individuals with at least basic digital skills in Communication domain') & (key_indicators['ref_area'] == 'Italy')]\n",
    "df = df.loc[df['breakdown'].str.contains('total')]\n",
    "df.head(30) \"\"\""
   ]
  },
  {
   "cell_type": "code",
   "execution_count": 3,
   "metadata": {
    "tags": []
   },
   "outputs": [
    {
     "data": {
      "application/vnd.jupyter.widget-view+json": {
       "model_id": "98103ec8f0f547a18a22004a21635f5d",
       "version_major": 2,
       "version_minor": 0
      },
      "text/plain": [
       "VBox(children=(VBox(children=(VBox(children=(HTML(value='<h1>See the evolution of an indicator and compare cou…"
      ]
     },
     "metadata": {},
     "output_type": "display_data"
    }
   ],
   "source": [
    "def generate_rgb_colors():\n",
    "    palette = sns.color_palette('Paired') + sns.color_palette('bright') + sns.color_palette('Spectral') + sns.color_palette('Dark2')\n",
    "    return palette\n",
    "\n",
    "options = ['Broadband take-up and coverage', 'Broadband speeds and prices', 'Mobile market', 'Internet usage', 'Take up of internet services', 'eGovernment', 'Digital skills', 'ICT Specialists', 'Security and privacy']\n",
    "countries_list = [country for country in countries_mapping.values()]\n",
    "\n",
    "indicators_group = widgets.Dropdown(options=options, value='Broadband take-up and coverage')\n",
    "# Get the group selected in the first dropdown\n",
    "selected_group = indicators_group.value\n",
    "# Retrieve the index from the 'options' list and the corresponding indicators\n",
    "index = options.index(selected_group) + 1\n",
    "corresponding_indicators = groups.get(str(index))\n",
    "# Put the retrieved indicators in the second dropdown\n",
    "indicators = widgets.Dropdown(options=corresponding_indicators)\n",
    "\n",
    "box_layout = widgets.Layout(margin='0px 0px 0px 80px')\n",
    "title_and_description = widgets.VBox([widgets.HTML('<h1>See the evolution of an indicator and compare countries</h1>'), widgets.HTML('<p>Click on the name of the countries in the legend in order to visualize the corresponding values in the graph.</p>')])\n",
    "controllers = widgets.HBox([widgets.Label(value='Indicator group:'), indicators_group, widgets.Label('Indicator:'), indicators])\n",
    "introduction = widgets.VBox([title_and_description, controllers], layout=box_layout)\n",
    "\n",
    "output = widgets.Output()\n",
    "\n",
    "@output.capture()\n",
    "def callback(change):\n",
    "    selected_group = indicators_group.value\n",
    "    index = options.index(selected_group) + 1\n",
    "    corresponding_indicators = groups.get(str(index))\n",
    "    indicators.options = corresponding_indicators\n",
    "# When the first dropdown changes, change the options in the second one\n",
    "indicators_group.observe(callback, 'value')\n",
    "\n",
    "# Callback to update the time series graph when the indicator changes\n",
    "@output.capture()\n",
    "def update_graph(change):\n",
    "    current_indicator = str(indicators.value)\n",
    "    fig.update_layout(title=current_indicator)\n",
    "    for index, country in enumerate(fig.data):\n",
    "        current_data = key_indicators.loc[(key_indicators['indicator'] == current_indicator) & (key_indicators['ref_area'] == country.name)]\n",
    "        # Check if there are multiple breakdowns: if so, keep only the 'total' one. Do the same for the 'unit_measure'.\n",
    "        # Note that this is not a general approach!\n",
    "        if len(current_data['breakdown'].unique()) > 1:\n",
    "            if len(current_data['unit_measure'].unique()) > 1:\n",
    "                current_data = current_data.loc[(current_data['breakdown'].str.contains('total')) & (current_data['unit_measure'] == 'pc_ind')]\n",
    "            else:\n",
    "                current_data = current_data.loc[(current_data['breakdown'].str.contains('total'))]\n",
    "        current_data = current_data.sort_values('time_period')\n",
    "        # Update the data in the graph\n",
    "        country.x = list(current_data['time_period'])\n",
    "        country.y = list(current_data['value'])\n",
    "\n",
    "indicators.observe(update_graph, 'value')\n",
    "\n",
    "# GET DATA FROM THE DF \n",
    "current_group = str(indicators_group.value)\n",
    "current_indicator = str(indicators.value)\n",
    "\n",
    "# Build Figure\n",
    "fig = go.FigureWidget()\n",
    "palette = generate_rgb_colors() # Obtain n different hex colors, where n is the number of countries\n",
    "for index, country in enumerate(countries_list):\n",
    "    current_data = key_indicators.loc[(key_indicators['indicator'] == current_indicator) & (key_indicators['ref_area'] == country)]\n",
    "    # Check if there are multiple breakdowns: if so, keep only the 'total' one\n",
    "    if len(current_data['breakdown'].unique()) > 1:\n",
    "        current_data = current_data.loc[current_data['breakdown'].str.contains('total')]\n",
    "    current_data = current_data.sort_values('time_period')\n",
    "    fig.add_trace(go.Scatter(x=list(current_data['time_period']), y=list(current_data['value']), name=country, visible='legendonly', line=dict(color='rgb' + str(palette[index]), shape='spline', smoothing=1.3)))\n",
    "fig.update_layout(height=600, title=current_indicator,\n",
    "                xaxis_title='Year',\n",
    "                yaxis_title='Percentage',\n",
    "                legend_title_text='Countries',\n",
    "                showlegend=True)\n",
    "\n",
    "widgets.VBox([introduction, fig])"
   ]
  }
 ],
 "metadata": {
  "kernelspec": {
   "display_name": "Python 3",
   "language": "python",
   "name": "python3"
  },
  "language_info": {
   "codemirror_mode": {
    "name": "ipython",
    "version": 3
   },
   "file_extension": ".py",
   "mimetype": "text/x-python",
   "name": "python",
   "nbconvert_exporter": "python",
   "pygments_lexer": "ipython3",
   "version": "3.6.9"
  },
  "widgets": {
   "application/vnd.jupyter.widget-state+json": {
    "state": {
     "01eab46ad0c440789e46e3f06f312993": {
      "model_module": "@jupyter-widgets/controls",
      "model_module_version": "1.5.0",
      "model_name": "DescriptionStyleModel",
      "state": {
       "description_width": ""
      }
     },
     "27a2286233a54d85bdc4016f7cb0ab7c": {
      "model_module": "@jupyter-widgets/controls",
      "model_module_version": "1.5.0",
      "model_name": "VBoxModel",
      "state": {
       "children": [
        "IPY_MODEL_34bcef4ff1e447478f14a77e59682795",
        "IPY_MODEL_4374687d020c4475867f705261718bf4"
       ],
       "layout": "IPY_MODEL_f1cd3bd5c5224a8db0629a91c4c9663f"
      }
     },
     "283112ed666f4477b28e11174621c31b": {
      "model_module": "@jupyter-widgets/controls",
      "model_module_version": "1.5.0",
      "model_name": "VBoxModel",
      "state": {
       "children": [
        "IPY_MODEL_4ae274f288654d6694686c23e1641384",
        "IPY_MODEL_c28c9bbdd22a489b88564f4e0de2da00"
       ],
       "layout": "IPY_MODEL_95b357ab4ac54acda413ed5668c51e06"
      }
     },
     "2fb7a337541b4eecbade4b76e5c5040d": {
      "model_module": "@jupyter-widgets/base",
      "model_module_version": "1.2.0",
      "model_name": "LayoutModel",
      "state": {}
     },
     "34bcef4ff1e447478f14a77e59682795": {
      "model_module": "@jupyter-widgets/controls",
      "model_module_version": "1.5.0",
      "model_name": "HTMLModel",
      "state": {
       "layout": "IPY_MODEL_7f3427ba8b674be7a044174652283678",
       "style": "IPY_MODEL_5c7e3bc827a74a8fb5195ac129db6df2",
       "value": "<h1>See the evolution of an indicator and compare countries</h1>"
      }
     },
     "35dc2f2ffd4843d0baa99759d7be5407": {
      "model_module": "@jupyter-widgets/base",
      "model_module_version": "1.2.0",
      "model_name": "LayoutModel",
      "state": {}
     },
     "379da9059597437c8b1185bc908eb709": {
      "model_module": "@jupyter-widgets/controls",
      "model_module_version": "1.5.0",
      "model_name": "DescriptionStyleModel",
      "state": {
       "description_width": ""
      }
     },
     "39490bbc84e14c8bbcb8bbf6f59a58eb": {
      "model_module": "@jupyter-widgets/controls",
      "model_module_version": "1.5.0",
      "model_name": "HTMLModel",
      "state": {
       "layout": "IPY_MODEL_cb33fa6c0fe34ad18fa6db4d779da639",
       "style": "IPY_MODEL_51c5b31aea0e4593a0a96ff361ef5d1b",
       "value": "<h1>See the evolution of an indicator and compare countries</h1>"
      }
     },
     "3b3a541a752c49d4997a692f99524cdb": {
      "model_module": "@jupyter-widgets/output",
      "model_module_version": "1.0.0",
      "model_name": "OutputModel",
      "state": {
       "layout": "IPY_MODEL_80484455650a4a43a66d21d3f3472f04"
      }
     },
     "429b95f7cb50413eb2faae14aac2ba7e": {
      "model_module": "@jupyter-widgets/controls",
      "model_module_version": "1.5.0",
      "model_name": "LabelModel",
      "state": {
       "layout": "IPY_MODEL_ee18c6e29d4a48b8b0e9f3bcfdeace53",
       "style": "IPY_MODEL_e5a3e483fde545adbf8b3c74bf17222e",
       "value": "Indicator group:"
      }
     },
     "4373b138e1c143fa84393c4b40b0dacc": {
      "model_module": "@jupyter-widgets/controls",
      "model_module_version": "1.5.0",
      "model_name": "DropdownModel",
      "state": {
       "_options_labels": [
        "Share of fixed broadband subscriptions >= 100 Mbps",
        "Households with no access to Internet at home, because the costs are too high"
       ],
       "index": 0,
       "layout": "IPY_MODEL_7033f79a6f9145408c9976a6868a349e",
       "style": "IPY_MODEL_7179226a49ca41c28a297335eda8ed1a"
      }
     },
     "4374687d020c4475867f705261718bf4": {
      "model_module": "@jupyter-widgets/controls",
      "model_module_version": "1.5.0",
      "model_name": "HTMLModel",
      "state": {
       "layout": "IPY_MODEL_8236b2d422d94a389aa606760585f065",
       "style": "IPY_MODEL_567d05f7ddef455eaa571f80cc89d544",
       "value": "<p>Click on the name of the countries in the legend in order to visualize the corresponding values in the graph.</p>"
      }
     },
     "4484b82162a5434f9f7d0cafd1603772": {
      "model_module": "@jupyter-widgets/base",
      "model_module_version": "1.2.0",
      "model_name": "LayoutModel",
      "state": {}
     },
     "4ae274f288654d6694686c23e1641384": {
      "model_module": "@jupyter-widgets/controls",
      "model_module_version": "1.5.0",
      "model_name": "VBoxModel",
      "state": {
       "children": [
        "IPY_MODEL_39490bbc84e14c8bbcb8bbf6f59a58eb",
        "IPY_MODEL_fbe46a5cbeec4a098ff6a84bd0549fa6"
       ],
       "layout": "IPY_MODEL_e528d57a059344f8b4008031b11630d2"
      }
     },
     "4d5e59c6fa5c43848fc48ad5d825678c": {
      "model_module": "@jupyter-widgets/base",
      "model_module_version": "1.2.0",
      "model_name": "LayoutModel",
      "state": {}
     },
     "51c5b31aea0e4593a0a96ff361ef5d1b": {
      "model_module": "@jupyter-widgets/controls",
      "model_module_version": "1.5.0",
      "model_name": "DescriptionStyleModel",
      "state": {
       "description_width": ""
      }
     },
     "525ce44d492b451dbaa03e9d98a643eb": {
      "model_module": "@jupyter-widgets/base",
      "model_module_version": "1.2.0",
      "model_name": "LayoutModel",
      "state": {}
     },
     "567d05f7ddef455eaa571f80cc89d544": {
      "model_module": "@jupyter-widgets/controls",
      "model_module_version": "1.5.0",
      "model_name": "DescriptionStyleModel",
      "state": {
       "description_width": ""
      }
     },
     "5c7e3bc827a74a8fb5195ac129db6df2": {
      "model_module": "@jupyter-widgets/controls",
      "model_module_version": "1.5.0",
      "model_name": "DescriptionStyleModel",
      "state": {
       "description_width": ""
      }
     },
     "5e55de44d8f6422ebf77537f28b105e2": {
      "model_module": "@jupyter-widgets/base",
      "model_module_version": "1.2.0",
      "model_name": "LayoutModel",
      "state": {
       "margin": "0px 0px 0px 80px"
      }
     },
     "6b7a9f3f794b4412b3a8707fff16b8cc": {
      "model_module": "@jupyter-widgets/controls",
      "model_module_version": "1.5.0",
      "model_name": "VBoxModel",
      "state": {
       "children": [
        "IPY_MODEL_283112ed666f4477b28e11174621c31b",
        "IPY_MODEL_e1ce05a0b5cd4107b8d415ba66a3c30b"
       ],
       "layout": "IPY_MODEL_cb7f820282a745c99db7d2a159b96d4a"
      }
     },
     "6d2c0c2a9e0c47e187b0bfcc26663b51": {
      "model_module": "plotlywidget",
      "model_module_version": "^4.9.0",
      "model_name": "FigureModel",
      "state": {
       "_config": {
        "plotlyServerURL": "https://plot.ly"
       },
       "_data": [
        {
         "line": {
          "shape": "spline",
          "smoothing": 1.3
         },
         "name": "Estonia",
         "type": "scatter",
         "uid": "512b2653-0302-4b16-beaf-cdcc5860dddd",
         "visible": true,
         "x": [
          "2011-01-01 00:00:00",
          "2012-01-01 00:00:00",
          "2013-01-01 00:00:00",
          "2014-01-01 00:00:00",
          "2015-01-01 00:00:00",
          "2016-01-01 00:00:00",
          "2017-01-01 00:00:00",
          "2019-01-01 00:00:00"
         ],
         "y": [
          0.8603870000000001,
          0.840996,
          0.850774,
          0.860477,
          0.86805,
          0.908856,
          0.894905,
          0.909415
         ]
        },
        {
         "line": {
          "shape": "spline",
          "smoothing": 1.3
         },
         "name": "Greece",
         "type": "scatter",
         "uid": "ff699715-2532-492a-a7a5-bb4a6201aa80",
         "visible": "legendonly",
         "x": [
          "2011-01-01 00:00:00",
          "2012-01-01 00:00:00",
          "2013-01-01 00:00:00",
          "2014-01-01 00:00:00",
          "2015-01-01 00:00:00",
          "2016-01-01 00:00:00",
          "2017-01-01 00:00:00",
          "2019-01-01 00:00:00"
         ],
         "y": [
          0.985,
          0.9907090000000001,
          0.945,
          0.951,
          0.9540000000000001,
          "0.95635",
          0.961673,
          0.9947030000000001
         ]
        },
        {
         "line": {
          "shape": "spline",
          "smoothing": 1.3
         },
         "name": "Spain",
         "type": "scatter",
         "uid": "b5212839-33c1-4ad2-bb10-558aa3ffc753",
         "visible": "legendonly",
         "x": [
          "2011-01-01 00:00:00",
          "2012-01-01 00:00:00",
          "2013-01-01 00:00:00",
          "2014-01-01 00:00:00",
          "2015-01-01 00:00:00",
          "2016-01-01 00:00:00",
          "2017-01-01 00:00:00",
          "2019-01-01 00:00:00"
         ],
         "y": [
          0.963518,
          0.9507559999999999,
          0.965319,
          0.9508969999999999,
          0.950557,
          0.954959,
          0.9567260000000001,
          0.956385
         ]
        },
        {
         "line": {
          "shape": "spline",
          "smoothing": 1.3
         },
         "name": "Finland",
         "type": "scatter",
         "uid": "851700ce-28cc-4bc8-ae06-48ace53ecac9",
         "visible": "legendonly",
         "x": [
          "2011-01-01 00:00:00",
          "2012-01-01 00:00:00",
          "2013-01-01 00:00:00",
          "2014-01-01 00:00:00",
          "2015-01-01 00:00:00",
          "2016-01-01 00:00:00",
          "2017-01-01 00:00:00",
          "2019-01-01 00:00:00"
         ],
         "y": [
          0.950457,
          0.9325110000000001,
          0.9670000000000001,
          0.969825,
          0.9698200000000001,
          0.97,
          0.9701270000000001,
          0.9053629999999999
         ]
        },
        {
         "line": {
          "shape": "spline",
          "smoothing": 1.3
         },
         "name": "France",
         "type": "scatter",
         "uid": "c92d47a9-e0f7-4f0c-b15a-ad2702057269",
         "visible": "legendonly",
         "x": [
          "2011-01-01 00:00:00",
          "2012-01-01 00:00:00",
          "2013-01-01 00:00:00",
          "2014-01-01 00:00:00",
          "2015-01-01 00:00:00",
          "2016-01-01 00:00:00",
          "2017-01-01 00:00:00",
          "2019-01-01 00:00:00"
         ],
         "y": [
          0.9939530000000001,
          0.99325,
          0.997016,
          0.997309,
          0.997556,
          0.9995149999999999,
          0.9999520000000001,
          0.9999540000000001
         ]
        },
        {
         "line": {
          "shape": "spline",
          "smoothing": 1.3
         },
         "name": "Croatia",
         "type": "scatter",
         "uid": "e7afc9ba-a971-4cc0-95c5-e1e56ede80e4",
         "visible": "legendonly",
         "x": [
          "2011-01-01 00:00:00",
          "2012-01-01 00:00:00",
          "2013-01-01 00:00:00",
          "2014-01-01 00:00:00",
          "2015-01-01 00:00:00",
          "2016-01-01 00:00:00",
          "2017-01-01 00:00:00",
          "2019-01-01 00:00:00"
         ],
         "y": [
          "nan",
          0.9414520000000001,
          0.9605549999999999,
          0.965791,
          0.9686440000000001,
          "0.969799",
          0.99269,
          0.998749
         ]
        },
        {
         "line": {
          "shape": "spline",
          "smoothing": 1.3
         },
         "name": "Hungary",
         "type": "scatter",
         "uid": "64ee89a4-1c64-462f-8879-1d4741232ec5",
         "visible": "legendonly",
         "x": [
          "2011-01-01 00:00:00",
          "2012-01-01 00:00:00",
          "2013-01-01 00:00:00",
          "2014-01-01 00:00:00",
          "2015-01-01 00:00:00",
          "2016-01-01 00:00:00",
          "2017-01-01 00:00:00",
          "2019-01-01 00:00:00"
         ],
         "y": [
          0.893943,
          0.9183549999999999,
          0.943543,
          0.943708,
          0.952418,
          "0.952439",
          0.9524590000000001,
          0.9547530000000001
         ]
        },
        {
         "line": {
          "color": "rgb(1.0, 0.4980392156862745, 0.0)",
          "shape": "spline",
          "smoothing": 1.3
         },
         "name": "Ireland",
         "type": "scatter",
         "uid": "fd7865f5-65cc-4e3a-b753-4bbe2c8555e5",
         "visible": "legendonly",
         "x": [
          "2011-01-01 00:00:00",
          "2012-01-01 00:00:00",
          "2013-01-01 00:00:00",
          "2014-01-01 00:00:00",
          "2015-01-01 00:00:00",
          "2016-01-01 00:00:00",
          "2017-01-01 00:00:00",
          "2019-01-01 00:00:00"
         ],
         "y": [
          0.944895,
          0.97078,
          0.9625370000000001,
          0.96262,
          0.962684,
          0.962684,
          0.973601,
          0.978455
         ]
        },
        {
         "line": {
          "shape": "spline",
          "smoothing": 1.3
         },
         "name": "Iceland",
         "type": "scatter",
         "uid": "2ac680fa-578b-4599-a017-635bf64754ea",
         "visible": "legendonly",
         "x": [
          "2011-01-01 00:00:00",
          "2012-01-01 00:00:00",
          "2013-01-01 00:00:00",
          "2014-01-01 00:00:00",
          "2015-01-01 00:00:00",
          "2016-01-01 00:00:00",
          "2017-01-01 00:00:00",
          "2019-01-01 00:00:00"
         ],
         "y": [
          0.9441639999999999,
          0.9441639999999999,
          0.966,
          0.9516399999999999,
          0.9519569999999999,
          "0.956091",
          0.9665969999999999,
          0.995439
         ]
        },
        {
         "line": {
          "shape": "spline",
          "smoothing": 1.3
         },
         "name": "Deutschland",
         "type": "scatter",
         "uid": "1b375541-33eb-479b-a462-109a54bee34e",
         "visible": "legendonly",
         "x": [
          "2011-01-01 00:00:00",
          "2012-01-01 00:00:00",
          "2013-01-01 00:00:00",
          "2014-01-01 00:00:00",
          "2015-01-01 00:00:00",
          "2016-01-01 00:00:00",
          "2017-01-01 00:00:00",
          "2019-01-01 00:00:00"
         ],
         "y": [
          0.9570000000000001,
          0.966,
          0.966,
          0.97,
          0.9740000000000001,
          0.977,
          0.977,
          0.985507
         ]
        },
        {
         "line": {
          "color": "rgb(1.0, 1.0, 0.6)",
          "shape": "spline",
          "smoothing": 1.3
         },
         "name": "Czech Rep.",
         "type": "scatter",
         "uid": "8a35ccbf-0b5d-41af-ba22-61689a4b595d",
         "visible": "legendonly",
         "x": [
          "2011-01-01 00:00:00",
          "2012-01-01 00:00:00",
          "2013-01-01 00:00:00",
          "2014-01-01 00:00:00",
          "2015-01-01 00:00:00",
          "2016-01-01 00:00:00",
          "2017-01-01 00:00:00",
          "2019-01-01 00:00:00"
         ],
         "y": [
          0.945,
          0.9811719999999999,
          0.975,
          0.975,
          0.9755,
          "0.988838",
          0.984355,
          0.974289
         ]
        },
        {
         "line": {
          "shape": "spline",
          "smoothing": 1.3
         },
         "name": "Denmark",
         "type": "scatter",
         "uid": "d07c4899-2fac-44b3-a65e-e86106b62c25",
         "visible": "legendonly",
         "x": [
          "2011-01-01 00:00:00",
          "2012-01-01 00:00:00",
          "2013-01-01 00:00:00",
          "2014-01-01 00:00:00",
          "2015-01-01 00:00:00",
          "2016-01-01 00:00:00",
          "2017-01-01 00:00:00",
          "2019-01-01 00:00:00"
         ],
         "y": [
          0.99,
          0.9832700000000001,
          0.991142,
          0.9911040000000001,
          0.989978,
          "0.993185",
          0.995,
          0.99
         ]
        },
        {
         "line": {
          "color": "rgb(0.00784313725490196, 0.24313725490196078, 1.0)",
          "shape": "spline",
          "smoothing": 1.3
         },
         "name": "Italy",
         "type": "scatter",
         "uid": "63f419d5-e5d6-443d-866f-7d9a4005d106",
         "visible": "legendonly",
         "x": [
          "2011-01-01 00:00:00",
          "2012-01-01 00:00:00",
          "2013-01-01 00:00:00",
          "2014-01-01 00:00:00",
          "2015-01-01 00:00:00",
          "2016-01-01 00:00:00",
          "2017-01-01 00:00:00",
          "2019-01-01 00:00:00"
         ],
         "y": [
          0.985,
          0.984102,
          0.98766,
          0.99149,
          0.992692,
          0.992699,
          0.9934780000000001,
          0.9960129999999999
         ]
        },
        {
         "line": {
          "color": "rgb(1.0, 0.48627450980392156, 0.0)",
          "shape": "spline",
          "smoothing": 1.3
         },
         "name": "Lithuania",
         "type": "scatter",
         "uid": "1cfb83d4-d918-4b80-a258-0b8704f25120",
         "visible": "legendonly",
         "x": [
          "2011-01-01 00:00:00",
          "2012-01-01 00:00:00",
          "2013-01-01 00:00:00",
          "2014-01-01 00:00:00",
          "2015-01-01 00:00:00",
          "2016-01-01 00:00:00",
          "2017-01-01 00:00:00",
          "2019-01-01 00:00:00"
         ],
         "y": [
          0.884,
          0.967881,
          0.7959999999999999,
          0.8009999999999999,
          0.8059999999999999,
          "0.8103",
          0.820157,
          0.850893
         ]
        },
        {
         "line": {
          "shape": "spline",
          "smoothing": 1.3
         },
         "name": "Luxembourg",
         "type": "scatter",
         "uid": "7c1824a4-8e5f-43d4-b4b3-cffb71bbe12b",
         "visible": "legendonly",
         "x": [
          "2011-01-01 00:00:00",
          "2012-01-01 00:00:00",
          "2013-01-01 00:00:00",
          "2014-01-01 00:00:00",
          "2015-01-01 00:00:00",
          "2016-01-01 00:00:00",
          "2017-01-01 00:00:00",
          "2019-01-01 00:00:00"
         ],
         "y": [
          0.998,
          0.998782,
          0.999915,
          0.99984,
          0.99984,
          0.99984,
          0.99984,
          1
         ]
        },
        {
         "line": {
          "shape": "spline",
          "smoothing": 1.3
         },
         "name": "Latvia",
         "type": "scatter",
         "uid": "0a0827c4-32a3-4400-8d42-eaf2e94ddcf9",
         "visible": "legendonly",
         "x": [
          "2011-01-01 00:00:00",
          "2012-01-01 00:00:00",
          "2013-01-01 00:00:00",
          "2014-01-01 00:00:00",
          "2015-01-01 00:00:00",
          "2016-01-01 00:00:00",
          "2017-01-01 00:00:00",
          "2019-01-01 00:00:00"
         ],
         "y": [
          0.755166,
          0.8286319999999999,
          0.9164690000000001,
          0.919443,
          0.9250520000000001,
          "0.925998",
          0.928449,
          0.9403040000000001
         ]
        },
        {
         "line": {
          "shape": "spline",
          "smoothing": 1.3
         },
         "name": "Malta",
         "type": "scatter",
         "uid": "497c9812-44b3-4730-a749-2ea1ca8baed6",
         "visible": "legendonly",
         "x": [
          "2011-01-01 00:00:00",
          "2012-01-01 00:00:00",
          "2013-01-01 00:00:00",
          "2014-01-01 00:00:00",
          "2015-01-01 00:00:00",
          "2016-01-01 00:00:00",
          "2017-01-01 00:00:00",
          "2019-01-01 00:00:00"
         ],
         "y": [
          0.9990000000000001,
          0.9999959999999999,
          0.999768,
          1,
          1,
          "1",
          1,
          1
         ]
        },
        {
         "line": {
          "shape": "spline",
          "smoothing": 1.3
         },
         "name": "Netherlands",
         "type": "scatter",
         "uid": "2dee9176-3570-496f-b737-0dec1c7a6a72",
         "visible": "legendonly",
         "x": [
          "2011-01-01 00:00:00",
          "2012-01-01 00:00:00",
          "2013-01-01 00:00:00",
          "2014-01-01 00:00:00",
          "2015-01-01 00:00:00",
          "2016-01-01 00:00:00",
          "2017-01-01 00:00:00",
          "2019-01-01 00:00:00"
         ],
         "y": [
          1,
          1,
          0.999926,
          0.995,
          0.995,
          "0.995",
          0.995,
          0.995
         ]
        },
        {
         "line": {
          "shape": "spline",
          "smoothing": 1.3
         },
         "name": "Norway",
         "type": "scatter",
         "uid": "f027c2dc-7d5b-42f5-9d0b-1f2d71784979",
         "visible": "legendonly",
         "x": [
          "2011-01-01 00:00:00",
          "2012-01-01 00:00:00",
          "2013-01-01 00:00:00",
          "2014-01-01 00:00:00",
          "2015-01-01 00:00:00",
          "2016-01-01 00:00:00",
          "2017-01-01 00:00:00",
          "2019-01-01 00:00:00"
         ],
         "y": [
          0.9590000000000001,
          0.9630719999999999,
          0.967461,
          0.951784,
          0.947342,
          0.9534530000000001,
          0.9440799999999999,
          0.986454
         ]
        },
        {
         "line": {
          "shape": "spline",
          "smoothing": 1.3
         },
         "name": "Portugal",
         "type": "scatter",
         "uid": "5a6c9391-bdd7-4096-b21f-2b3a50272db4",
         "visible": "legendonly",
         "x": [
          "2011-01-01 00:00:00",
          "2012-01-01 00:00:00",
          "2013-01-01 00:00:00",
          "2014-01-01 00:00:00",
          "2015-01-01 00:00:00",
          "2016-01-01 00:00:00",
          "2017-01-01 00:00:00",
          "2019-01-01 00:00:00"
         ],
         "y": [
          0.995,
          0.9955430000000001,
          0.951,
          0.948,
          0.946,
          0.942961,
          0.9348629999999999,
          0.9486190000000001
         ]
        },
        {
         "line": {
          "color": "rgb(1.0, 0.7686274509803922, 0.0)",
          "shape": "spline",
          "smoothing": 1.3
         },
         "name": "Poland",
         "type": "scatter",
         "uid": "1486d0be-6e4a-4b87-8694-5110a3cbf19a",
         "visible": "legendonly",
         "x": [
          "2011-01-01 00:00:00",
          "2012-01-01 00:00:00",
          "2013-01-01 00:00:00",
          "2014-01-01 00:00:00",
          "2015-01-01 00:00:00",
          "2016-01-01 00:00:00",
          "2017-01-01 00:00:00",
          "2019-01-01 00:00:00"
         ],
         "y": [
          0.653541,
          0.6905060000000001,
          0.7909999999999999,
          0.7959999999999999,
          0.802,
          0.8093060000000001,
          0.814616,
          0.8346389999999999
         ]
        },
        {
         "line": {
          "color": "rgb(0.0, 0.8431372549019608, 1.0)",
          "shape": "spline",
          "smoothing": 1.3
         },
         "name": "Europe",
         "type": "scatter",
         "uid": "191fd4b8-b2a2-4c2f-96d1-92d304d9a122",
         "visible": "legendonly",
         "x": [
          "2011-01-01 00:00:00",
          "2012-01-01 00:00:00",
          "2014-01-01 00:00:00",
          "2015-01-01 00:00:00",
          "2016-01-01 00:00:00",
          "2017-01-01 00:00:00",
          "2019-01-01 00:00:00"
         ],
         "y": [
          0.946169,
          0.95475,
          "0.963734",
          "0.964928",
          "0.966662",
          0.967205,
          0.9706959999999999
         ]
        },
        {
         "line": {
          "shape": "spline",
          "smoothing": 1.3
         },
         "name": "Romania",
         "type": "scatter",
         "uid": "04ee5957-cb43-46b6-95ed-ed91a32ebe32",
         "visible": "legendonly",
         "x": [
          "2011-01-01 00:00:00",
          "2012-01-01 00:00:00",
          "2013-01-01 00:00:00",
          "2014-01-01 00:00:00",
          "2015-01-01 00:00:00",
          "2016-01-01 00:00:00",
          "2017-01-01 00:00:00",
          "2019-01-01 00:00:00"
         ],
         "y": [
          0.868242,
          0.8597229999999999,
          0.8999540000000001,
          0.894135,
          0.887601,
          0.885992,
          0.881451,
          0.8735209999999999
         ]
        },
        {
         "line": {
          "shape": "spline",
          "smoothing": 1.3
         },
         "name": "Sweden",
         "type": "scatter",
         "uid": "46a8b9d9-c268-4617-a664-0193399d750f",
         "visible": "legendonly",
         "x": [
          "2011-01-01 00:00:00",
          "2012-01-01 00:00:00",
          "2013-01-01 00:00:00",
          "2014-01-01 00:00:00",
          "2015-01-01 00:00:00",
          "2016-01-01 00:00:00",
          "2017-01-01 00:00:00",
          "2019-01-01 00:00:00"
         ],
         "y": [
          0.9805200000000001,
          0.985403,
          0.9902129999999999,
          0.989725,
          0.989725,
          0.9898290000000001,
          0.9850129999999999,
          0.973283
         ]
        },
        {
         "line": {
          "shape": "spline",
          "smoothing": 1.3
         },
         "name": "Slovenia",
         "type": "scatter",
         "uid": "756f9f8d-35d5-48a7-a4f5-05e320b33945",
         "visible": "legendonly",
         "x": [
          "2011-01-01 00:00:00",
          "2012-01-01 00:00:00",
          "2013-01-01 00:00:00",
          "2014-01-01 00:00:00",
          "2015-01-01 00:00:00",
          "2016-01-01 00:00:00",
          "2017-01-01 00:00:00",
          "2019-01-01 00:00:00"
         ],
         "y": [
          0.757616,
          0.8430489999999999,
          0.9518559999999999,
          0.9538540000000001,
          0.954551,
          0.9770559999999999,
          0.978,
          0.9874860000000001
         ]
        },
        {
         "line": {
          "shape": "spline",
          "smoothing": 1.3
         },
         "name": "Slovakia",
         "type": "scatter",
         "uid": "c33d9e44-5b5e-4184-afb9-627cc0ca407e",
         "visible": "legendonly",
         "x": [
          "2011-01-01 00:00:00",
          "2012-01-01 00:00:00",
          "2013-01-01 00:00:00",
          "2014-01-01 00:00:00",
          "2015-01-01 00:00:00",
          "2016-01-01 00:00:00",
          "2017-01-01 00:00:00",
          "2019-01-01 00:00:00"
         ],
         "y": [
          0.75,
          0.752243,
          0.865167,
          0.86816,
          0.863289,
          "0.880195",
          0.882827,
          0.896904
         ]
        },
        {
         "line": {
          "shape": "spline",
          "smoothing": 1.3
         },
         "name": "United Kingdom",
         "type": "scatter",
         "uid": "f856c9fa-a950-4fca-b29a-8bd764f3a543",
         "visible": "legendonly",
         "x": [
          "2011-01-01 00:00:00",
          "2012-01-01 00:00:00",
          "2013-01-01 00:00:00",
          "2014-01-01 00:00:00",
          "2015-01-01 00:00:00",
          "2016-01-01 00:00:00",
          "2017-01-01 00:00:00",
          "2019-01-01 00:00:00"
         ],
         "y": [
          0.995609,
          0.9979620000000001,
          0.999776,
          0.9997799999999999,
          0.999777,
          0.9952,
          0.9990000000000001,
          1
         ]
        },
        {
         "line": {
          "shape": "spline",
          "smoothing": 1.3
         },
         "name": "Austria",
         "type": "scatter",
         "uid": "a852589d-fb28-4a76-82d8-c959c2fad129",
         "visible": "legendonly",
         "x": [
          "2011-01-01 00:00:00",
          "2012-01-01 00:00:00",
          "2013-01-01 00:00:00",
          "2014-01-01 00:00:00",
          "2015-01-01 00:00:00",
          "2016-01-01 00:00:00",
          "2017-01-01 00:00:00",
          "2019-01-01 00:00:00"
         ],
         "y": [
          0.981834,
          0.9886719999999999,
          0.9912790000000001,
          0.9924959999999999,
          0.992497,
          0.9843360000000001,
          0.984492,
          0.9928620000000001
         ]
        },
        {
         "line": {
          "shape": "spline",
          "smoothing": 1.3
         },
         "name": "Belgium",
         "type": "scatter",
         "uid": "3a6b8a77-816a-47a0-89e4-a07c672eaf28",
         "visible": "legendonly",
         "x": [
          "2011-01-01 00:00:00",
          "2012-01-01 00:00:00",
          "2013-01-01 00:00:00",
          "2014-01-01 00:00:00",
          "2015-01-01 00:00:00",
          "2016-01-01 00:00:00",
          "2017-01-01 00:00:00",
          "2019-01-01 00:00:00"
         ],
         "y": [
          0.999655,
          0.9995629999999999,
          0.9993190000000001,
          0.99925,
          0.99925,
          "0.999269",
          0.99925,
          0.9997520000000001
         ]
        },
        {
         "line": {
          "shape": "spline",
          "smoothing": 1.3
         },
         "name": "Bulgaria",
         "type": "scatter",
         "uid": "cd5eae00-bc2f-4af6-b580-022f7933e030",
         "visible": "legendonly",
         "x": [
          "2011-01-01 00:00:00",
          "2012-01-01 00:00:00",
          "2013-01-01 00:00:00",
          "2014-01-01 00:00:00",
          "2015-01-01 00:00:00",
          "2016-01-01 00:00:00",
          "2017-01-01 00:00:00",
          "2019-01-01 00:00:00"
         ],
         "y": [
          0.8905379999999999,
          0.8963549999999999,
          0.9252,
          0.951097,
          0.951676,
          "0.95204",
          0.95204,
          0.955635
         ]
        },
        {
         "line": {
          "shape": "spline",
          "smoothing": 1.3
         },
         "name": "Cyprus",
         "type": "scatter",
         "uid": "0a5c8cef-666f-482e-9677-b33cbb6ac23c",
         "visible": "legendonly",
         "x": [
          "2011-01-01 00:00:00",
          "2012-01-01 00:00:00",
          "2013-01-01 00:00:00",
          "2014-01-01 00:00:00",
          "2015-01-01 00:00:00",
          "2016-01-01 00:00:00",
          "2017-01-01 00:00:00",
          "2019-01-01 00:00:00"
         ],
         "y": [
          1,
          1,
          0.99995,
          0.99995,
          0.99995,
          0.99995,
          0.99995,
          1
         ]
        },
        {
         "line": {
          "shape": "spline",
          "smoothing": 1.3
         },
         "name": "Switzerland",
         "type": "scatter",
         "uid": "651cf384-ba22-4d71-9abf-4a2d088d2dd6",
         "visible": "legendonly",
         "x": [
          "2011-01-01 00:00:00",
          "2012-01-01 00:00:00",
          "2013-01-01 00:00:00",
          "2014-01-01 00:00:00",
          "2015-01-01 00:00:00",
          "2016-01-01 00:00:00",
          "2017-01-01 00:00:00",
          "2019-01-01 00:00:00"
         ],
         "y": [
          0.996872,
          0.998233,
          0.9975780000000001,
          0.99785,
          0.997648,
          "0.997658",
          0.9976430000000001,
          0.9977360000000001
         ]
        }
       ],
       "_js2py_update": {},
       "_last_layout_edit_id": 39,
       "_last_trace_edit_id": 38,
       "_layout": {
        "autosize": true,
        "height": 600,
        "legend": {
         "title": {
          "text": "Countries"
         }
        },
        "showlegend": true,
        "template": {
         "data": {
          "bar": [
           {
            "error_x": {
             "color": "#2a3f5f"
            },
            "error_y": {
             "color": "#2a3f5f"
            },
            "marker": {
             "line": {
              "color": "#E5ECF6",
              "width": 0.5
             }
            },
            "type": "bar"
           }
          ],
          "barpolar": [
           {
            "marker": {
             "line": {
              "color": "#E5ECF6",
              "width": 0.5
             }
            },
            "type": "barpolar"
           }
          ],
          "carpet": [
           {
            "aaxis": {
             "endlinecolor": "#2a3f5f",
             "gridcolor": "white",
             "linecolor": "white",
             "minorgridcolor": "white",
             "startlinecolor": "#2a3f5f"
            },
            "baxis": {
             "endlinecolor": "#2a3f5f",
             "gridcolor": "white",
             "linecolor": "white",
             "minorgridcolor": "white",
             "startlinecolor": "#2a3f5f"
            },
            "type": "carpet"
           }
          ],
          "choropleth": [
           {
            "colorbar": {
             "outlinewidth": 0,
             "ticks": ""
            },
            "type": "choropleth"
           }
          ],
          "contour": [
           {
            "colorbar": {
             "outlinewidth": 0,
             "ticks": ""
            },
            "colorscale": [
             [
              0,
              "#0d0887"
             ],
             [
              0.1111111111111111,
              "#46039f"
             ],
             [
              0.2222222222222222,
              "#7201a8"
             ],
             [
              0.3333333333333333,
              "#9c179e"
             ],
             [
              0.4444444444444444,
              "#bd3786"
             ],
             [
              0.5555555555555556,
              "#d8576b"
             ],
             [
              0.6666666666666666,
              "#ed7953"
             ],
             [
              0.7777777777777778,
              "#fb9f3a"
             ],
             [
              0.8888888888888888,
              "#fdca26"
             ],
             [
              1,
              "#f0f921"
             ]
            ],
            "type": "contour"
           }
          ],
          "contourcarpet": [
           {
            "colorbar": {
             "outlinewidth": 0,
             "ticks": ""
            },
            "type": "contourcarpet"
           }
          ],
          "heatmap": [
           {
            "colorbar": {
             "outlinewidth": 0,
             "ticks": ""
            },
            "colorscale": [
             [
              0,
              "#0d0887"
             ],
             [
              0.1111111111111111,
              "#46039f"
             ],
             [
              0.2222222222222222,
              "#7201a8"
             ],
             [
              0.3333333333333333,
              "#9c179e"
             ],
             [
              0.4444444444444444,
              "#bd3786"
             ],
             [
              0.5555555555555556,
              "#d8576b"
             ],
             [
              0.6666666666666666,
              "#ed7953"
             ],
             [
              0.7777777777777778,
              "#fb9f3a"
             ],
             [
              0.8888888888888888,
              "#fdca26"
             ],
             [
              1,
              "#f0f921"
             ]
            ],
            "type": "heatmap"
           }
          ],
          "heatmapgl": [
           {
            "colorbar": {
             "outlinewidth": 0,
             "ticks": ""
            },
            "colorscale": [
             [
              0,
              "#0d0887"
             ],
             [
              0.1111111111111111,
              "#46039f"
             ],
             [
              0.2222222222222222,
              "#7201a8"
             ],
             [
              0.3333333333333333,
              "#9c179e"
             ],
             [
              0.4444444444444444,
              "#bd3786"
             ],
             [
              0.5555555555555556,
              "#d8576b"
             ],
             [
              0.6666666666666666,
              "#ed7953"
             ],
             [
              0.7777777777777778,
              "#fb9f3a"
             ],
             [
              0.8888888888888888,
              "#fdca26"
             ],
             [
              1,
              "#f0f921"
             ]
            ],
            "type": "heatmapgl"
           }
          ],
          "histogram": [
           {
            "marker": {
             "colorbar": {
              "outlinewidth": 0,
              "ticks": ""
             }
            },
            "type": "histogram"
           }
          ],
          "histogram2d": [
           {
            "colorbar": {
             "outlinewidth": 0,
             "ticks": ""
            },
            "colorscale": [
             [
              0,
              "#0d0887"
             ],
             [
              0.1111111111111111,
              "#46039f"
             ],
             [
              0.2222222222222222,
              "#7201a8"
             ],
             [
              0.3333333333333333,
              "#9c179e"
             ],
             [
              0.4444444444444444,
              "#bd3786"
             ],
             [
              0.5555555555555556,
              "#d8576b"
             ],
             [
              0.6666666666666666,
              "#ed7953"
             ],
             [
              0.7777777777777778,
              "#fb9f3a"
             ],
             [
              0.8888888888888888,
              "#fdca26"
             ],
             [
              1,
              "#f0f921"
             ]
            ],
            "type": "histogram2d"
           }
          ],
          "histogram2dcontour": [
           {
            "colorbar": {
             "outlinewidth": 0,
             "ticks": ""
            },
            "colorscale": [
             [
              0,
              "#0d0887"
             ],
             [
              0.1111111111111111,
              "#46039f"
             ],
             [
              0.2222222222222222,
              "#7201a8"
             ],
             [
              0.3333333333333333,
              "#9c179e"
             ],
             [
              0.4444444444444444,
              "#bd3786"
             ],
             [
              0.5555555555555556,
              "#d8576b"
             ],
             [
              0.6666666666666666,
              "#ed7953"
             ],
             [
              0.7777777777777778,
              "#fb9f3a"
             ],
             [
              0.8888888888888888,
              "#fdca26"
             ],
             [
              1,
              "#f0f921"
             ]
            ],
            "type": "histogram2dcontour"
           }
          ],
          "mesh3d": [
           {
            "colorbar": {
             "outlinewidth": 0,
             "ticks": ""
            },
            "type": "mesh3d"
           }
          ],
          "parcoords": [
           {
            "line": {
             "colorbar": {
              "outlinewidth": 0,
              "ticks": ""
             }
            },
            "type": "parcoords"
           }
          ],
          "pie": [
           {
            "automargin": true,
            "type": "pie"
           }
          ],
          "scatter": [
           {
            "marker": {
             "colorbar": {
              "outlinewidth": 0,
              "ticks": ""
             }
            },
            "type": "scatter"
           }
          ],
          "scatter3d": [
           {
            "line": {
             "colorbar": {
              "outlinewidth": 0,
              "ticks": ""
             }
            },
            "marker": {
             "colorbar": {
              "outlinewidth": 0,
              "ticks": ""
             }
            },
            "type": "scatter3d"
           }
          ],
          "scattercarpet": [
           {
            "marker": {
             "colorbar": {
              "outlinewidth": 0,
              "ticks": ""
             }
            },
            "type": "scattercarpet"
           }
          ],
          "scattergeo": [
           {
            "marker": {
             "colorbar": {
              "outlinewidth": 0,
              "ticks": ""
             }
            },
            "type": "scattergeo"
           }
          ],
          "scattergl": [
           {
            "marker": {
             "colorbar": {
              "outlinewidth": 0,
              "ticks": ""
             }
            },
            "type": "scattergl"
           }
          ],
          "scattermapbox": [
           {
            "marker": {
             "colorbar": {
              "outlinewidth": 0,
              "ticks": ""
             }
            },
            "type": "scattermapbox"
           }
          ],
          "scatterpolar": [
           {
            "marker": {
             "colorbar": {
              "outlinewidth": 0,
              "ticks": ""
             }
            },
            "type": "scatterpolar"
           }
          ],
          "scatterpolargl": [
           {
            "marker": {
             "colorbar": {
              "outlinewidth": 0,
              "ticks": ""
             }
            },
            "type": "scatterpolargl"
           }
          ],
          "scatterternary": [
           {
            "marker": {
             "colorbar": {
              "outlinewidth": 0,
              "ticks": ""
             }
            },
            "type": "scatterternary"
           }
          ],
          "surface": [
           {
            "colorbar": {
             "outlinewidth": 0,
             "ticks": ""
            },
            "colorscale": [
             [
              0,
              "#0d0887"
             ],
             [
              0.1111111111111111,
              "#46039f"
             ],
             [
              0.2222222222222222,
              "#7201a8"
             ],
             [
              0.3333333333333333,
              "#9c179e"
             ],
             [
              0.4444444444444444,
              "#bd3786"
             ],
             [
              0.5555555555555556,
              "#d8576b"
             ],
             [
              0.6666666666666666,
              "#ed7953"
             ],
             [
              0.7777777777777778,
              "#fb9f3a"
             ],
             [
              0.8888888888888888,
              "#fdca26"
             ],
             [
              1,
              "#f0f921"
             ]
            ],
            "type": "surface"
           }
          ],
          "table": [
           {
            "cells": {
             "fill": {
              "color": "#EBF0F8"
             },
             "line": {
              "color": "white"
             }
            },
            "header": {
             "fill": {
              "color": "#C8D4E3"
             },
             "line": {
              "color": "white"
             }
            },
            "type": "table"
           }
          ]
         },
         "layout": {
          "annotationdefaults": {
           "arrowcolor": "#2a3f5f",
           "arrowhead": 0,
           "arrowwidth": 1
          },
          "coloraxis": {
           "colorbar": {
            "outlinewidth": 0,
            "ticks": ""
           }
          },
          "colorscale": {
           "diverging": [
            [
             0,
             "#8e0152"
            ],
            [
             0.1,
             "#c51b7d"
            ],
            [
             0.2,
             "#de77ae"
            ],
            [
             0.3,
             "#f1b6da"
            ],
            [
             0.4,
             "#fde0ef"
            ],
            [
             0.5,
             "#f7f7f7"
            ],
            [
             0.6,
             "#e6f5d0"
            ],
            [
             0.7,
             "#b8e186"
            ],
            [
             0.8,
             "#7fbc41"
            ],
            [
             0.9,
             "#4d9221"
            ],
            [
             1,
             "#276419"
            ]
           ],
           "sequential": [
            [
             0,
             "#0d0887"
            ],
            [
             0.1111111111111111,
             "#46039f"
            ],
            [
             0.2222222222222222,
             "#7201a8"
            ],
            [
             0.3333333333333333,
             "#9c179e"
            ],
            [
             0.4444444444444444,
             "#bd3786"
            ],
            [
             0.5555555555555556,
             "#d8576b"
            ],
            [
             0.6666666666666666,
             "#ed7953"
            ],
            [
             0.7777777777777778,
             "#fb9f3a"
            ],
            [
             0.8888888888888888,
             "#fdca26"
            ],
            [
             1,
             "#f0f921"
            ]
           ],
           "sequentialminus": [
            [
             0,
             "#0d0887"
            ],
            [
             0.1111111111111111,
             "#46039f"
            ],
            [
             0.2222222222222222,
             "#7201a8"
            ],
            [
             0.3333333333333333,
             "#9c179e"
            ],
            [
             0.4444444444444444,
             "#bd3786"
            ],
            [
             0.5555555555555556,
             "#d8576b"
            ],
            [
             0.6666666666666666,
             "#ed7953"
            ],
            [
             0.7777777777777778,
             "#fb9f3a"
            ],
            [
             0.8888888888888888,
             "#fdca26"
            ],
            [
             1,
             "#f0f921"
            ]
           ]
          },
          "colorway": [
           "#636efa",
           "#EF553B",
           "#00cc96",
           "#ab63fa",
           "#FFA15A",
           "#19d3f3",
           "#FF6692",
           "#B6E880",
           "#FF97FF",
           "#FECB52"
          ],
          "font": {
           "color": "#2a3f5f"
          },
          "geo": {
           "bgcolor": "white",
           "lakecolor": "white",
           "landcolor": "#E5ECF6",
           "showlakes": true,
           "showland": true,
           "subunitcolor": "white"
          },
          "hoverlabel": {
           "align": "left"
          },
          "hovermode": "closest",
          "mapbox": {
           "style": "light"
          },
          "paper_bgcolor": "white",
          "plot_bgcolor": "#E5ECF6",
          "polar": {
           "angularaxis": {
            "gridcolor": "white",
            "linecolor": "white",
            "ticks": ""
           },
           "bgcolor": "#E5ECF6",
           "radialaxis": {
            "gridcolor": "white",
            "linecolor": "white",
            "ticks": ""
           }
          },
          "scene": {
           "xaxis": {
            "backgroundcolor": "#E5ECF6",
            "gridcolor": "white",
            "gridwidth": 2,
            "linecolor": "white",
            "showbackground": true,
            "ticks": "",
            "zerolinecolor": "white"
           },
           "yaxis": {
            "backgroundcolor": "#E5ECF6",
            "gridcolor": "white",
            "gridwidth": 2,
            "linecolor": "white",
            "showbackground": true,
            "ticks": "",
            "zerolinecolor": "white"
           },
           "zaxis": {
            "backgroundcolor": "#E5ECF6",
            "gridcolor": "white",
            "gridwidth": 2,
            "linecolor": "white",
            "showbackground": true,
            "ticks": "",
            "zerolinecolor": "white"
           }
          },
          "shapedefaults": {
           "line": {
            "color": "#2a3f5f"
           }
          },
          "ternary": {
           "aaxis": {
            "gridcolor": "white",
            "linecolor": "white",
            "ticks": ""
           },
           "baxis": {
            "gridcolor": "white",
            "linecolor": "white",
            "ticks": ""
           },
           "bgcolor": "#E5ECF6",
           "caxis": {
            "gridcolor": "white",
            "linecolor": "white",
            "ticks": ""
           }
          },
          "title": {
           "x": 0.05
          },
          "xaxis": {
           "automargin": true,
           "gridcolor": "white",
           "linecolor": "white",
           "ticks": "",
           "title": {
            "standoff": 15
           },
           "zerolinecolor": "white",
           "zerolinewidth": 2
          },
          "yaxis": {
           "automargin": true,
           "gridcolor": "white",
           "linecolor": "white",
           "ticks": "",
           "title": {
            "standoff": 15
           },
           "zerolinecolor": "white",
           "zerolinewidth": 2
          }
         }
        },
        "title": {
         "text": "Standard fixed broadband coverage/availability"
        },
        "xaxis": {
         "title": {
          "text": "Year"
         }
        },
        "yaxis": {
         "title": {
          "text": "Percentage"
         }
        }
       },
       "_py2js_animate": {},
       "_py2js_deleteTraces": {},
       "_py2js_moveTraces": {},
       "_py2js_removeLayoutProps": {},
       "_view_count": 1
      }
     },
     "6e6edb4be612428eade65fb9c44a305c": {
      "model_module": "@jupyter-widgets/controls",
      "model_module_version": "1.5.0",
      "model_name": "LabelModel",
      "state": {
       "layout": "IPY_MODEL_e66964c3598c45afbf03442d5b8fd91e",
       "style": "IPY_MODEL_fb84d4f7b99d4253a546d2b4694020c3",
       "value": "Indicator group:"
      }
     },
     "7033f79a6f9145408c9976a6868a349e": {
      "model_module": "@jupyter-widgets/base",
      "model_module_version": "1.2.0",
      "model_name": "LayoutModel",
      "state": {}
     },
     "7179226a49ca41c28a297335eda8ed1a": {
      "model_module": "@jupyter-widgets/controls",
      "model_module_version": "1.5.0",
      "model_name": "DescriptionStyleModel",
      "state": {
       "description_width": ""
      }
     },
     "7311dd2ae39442d6b1da666694fe64b9": {
      "model_module": "@jupyter-widgets/base",
      "model_module_version": "1.2.0",
      "model_name": "LayoutModel",
      "state": {}
     },
     "73a707d97b254b9d9597917b8db1649e": {
      "model_module": "@jupyter-widgets/controls",
      "model_module_version": "1.5.0",
      "model_name": "DescriptionStyleModel",
      "state": {
       "description_width": ""
      }
     },
     "77ac2fea1cf94885a99d4f0035581bac": {
      "model_module": "@jupyter-widgets/base",
      "model_module_version": "1.2.0",
      "model_name": "LayoutModel",
      "state": {}
     },
     "783d141ae0ab44a9b7752c57458daa0b": {
      "model_module": "@jupyter-widgets/output",
      "model_module_version": "1.0.0",
      "model_name": "OutputModel",
      "state": {
       "layout": "IPY_MODEL_77ac2fea1cf94885a99d4f0035581bac"
      }
     },
     "7991647f33c54de9b0a094796045a3e7": {
      "model_module": "@jupyter-widgets/controls",
      "model_module_version": "1.5.0",
      "model_name": "LabelModel",
      "state": {
       "layout": "IPY_MODEL_35dc2f2ffd4843d0baa99759d7be5407",
       "style": "IPY_MODEL_c4f1c648105046ccb7bafa17ed6b391b",
       "value": "Indicator:"
      }
     },
     "7d1f2ddebf6940d4be87c565f8e47b37": {
      "model_module": "@jupyter-widgets/controls",
      "model_module_version": "1.5.0",
      "model_name": "HBoxModel",
      "state": {
       "children": [
        "IPY_MODEL_6e6edb4be612428eade65fb9c44a305c",
        "IPY_MODEL_a3bd77678d5b49a98071a1fd2b583a0d",
        "IPY_MODEL_ffb2953e778d46128e1873d907df4f4c",
        "IPY_MODEL_9deb7fb6560342f0b4f39c5f1b61d22b"
       ],
       "layout": "IPY_MODEL_525ce44d492b451dbaa03e9d98a643eb"
      }
     },
     "7f3427ba8b674be7a044174652283678": {
      "model_module": "@jupyter-widgets/base",
      "model_module_version": "1.2.0",
      "model_name": "LayoutModel",
      "state": {}
     },
     "80484455650a4a43a66d21d3f3472f04": {
      "model_module": "@jupyter-widgets/base",
      "model_module_version": "1.2.0",
      "model_name": "LayoutModel",
      "state": {}
     },
     "8236b2d422d94a389aa606760585f065": {
      "model_module": "@jupyter-widgets/base",
      "model_module_version": "1.2.0",
      "model_name": "LayoutModel",
      "state": {}
     },
     "82796e1e16984b7f8a77ac2aefd6dd99": {
      "model_module": "@jupyter-widgets/base",
      "model_module_version": "1.2.0",
      "model_name": "LayoutModel",
      "state": {}
     },
     "8764d2bf5b5b4d2c977ea1427c1b55c1": {
      "model_module": "@jupyter-widgets/controls",
      "model_module_version": "1.5.0",
      "model_name": "DescriptionStyleModel",
      "state": {
       "description_width": ""
      }
     },
     "8fff5c84d1f6447599cf4957ef1996a9": {
      "model_module": "@jupyter-widgets/base",
      "model_module_version": "1.2.0",
      "model_name": "LayoutModel",
      "state": {}
     },
     "95b357ab4ac54acda413ed5668c51e06": {
      "model_module": "@jupyter-widgets/base",
      "model_module_version": "1.2.0",
      "model_name": "LayoutModel",
      "state": {
       "margin": "0px 0px 0px 80px"
      }
     },
     "98103ec8f0f547a18a22004a21635f5d": {
      "model_module": "@jupyter-widgets/controls",
      "model_module_version": "1.5.0",
      "model_name": "VBoxModel",
      "state": {
       "children": [
        "IPY_MODEL_d1ae3bd75e1b4bdd94d16e73ca0d4b10",
        "IPY_MODEL_6d2c0c2a9e0c47e187b0bfcc26663b51"
       ],
       "layout": "IPY_MODEL_4d5e59c6fa5c43848fc48ad5d825678c"
      }
     },
     "9deb7fb6560342f0b4f39c5f1b61d22b": {
      "model_module": "@jupyter-widgets/controls",
      "model_module_version": "1.5.0",
      "model_name": "DropdownModel",
      "state": {
       "_options_labels": [
        "Standard fixed broadband coverage/availability",
        "NGA broadband coverage/availability",
        "Households with a broadband connection",
        "Households with fixed broadband connection"
       ],
       "index": 0,
       "layout": "IPY_MODEL_d816d167e4c24710b9c1181d8b7de3e5",
       "style": "IPY_MODEL_73a707d97b254b9d9597917b8db1649e"
      }
     },
     "a3bd77678d5b49a98071a1fd2b583a0d": {
      "model_module": "@jupyter-widgets/controls",
      "model_module_version": "1.5.0",
      "model_name": "DropdownModel",
      "state": {
       "_options_labels": [
        "Broadband take-up and coverage",
        "Broadband speeds and prices",
        "Mobile market",
        "Internet usage",
        "Take up of internet services",
        "eGovernment",
        "Digital skills",
        "ICT Specialists",
        "Security and privacy"
       ],
       "index": 0,
       "layout": "IPY_MODEL_2fb7a337541b4eecbade4b76e5c5040d",
       "style": "IPY_MODEL_8764d2bf5b5b4d2c977ea1427c1b55c1"
      }
     },
     "c28c9bbdd22a489b88564f4e0de2da00": {
      "model_module": "@jupyter-widgets/controls",
      "model_module_version": "1.5.0",
      "model_name": "HBoxModel",
      "state": {
       "children": [
        "IPY_MODEL_429b95f7cb50413eb2faae14aac2ba7e",
        "IPY_MODEL_de404e3cb83a469db1e5a0738a2b385a",
        "IPY_MODEL_7991647f33c54de9b0a094796045a3e7",
        "IPY_MODEL_4373b138e1c143fa84393c4b40b0dacc"
       ],
       "layout": "IPY_MODEL_4484b82162a5434f9f7d0cafd1603772"
      }
     },
     "c4f1c648105046ccb7bafa17ed6b391b": {
      "model_module": "@jupyter-widgets/controls",
      "model_module_version": "1.5.0",
      "model_name": "DescriptionStyleModel",
      "state": {
       "description_width": ""
      }
     },
     "cb33fa6c0fe34ad18fa6db4d779da639": {
      "model_module": "@jupyter-widgets/base",
      "model_module_version": "1.2.0",
      "model_name": "LayoutModel",
      "state": {}
     },
     "cb7f820282a745c99db7d2a159b96d4a": {
      "model_module": "@jupyter-widgets/base",
      "model_module_version": "1.2.0",
      "model_name": "LayoutModel",
      "state": {}
     },
     "d1ae3bd75e1b4bdd94d16e73ca0d4b10": {
      "model_module": "@jupyter-widgets/controls",
      "model_module_version": "1.5.0",
      "model_name": "VBoxModel",
      "state": {
       "children": [
        "IPY_MODEL_27a2286233a54d85bdc4016f7cb0ab7c",
        "IPY_MODEL_7d1f2ddebf6940d4be87c565f8e47b37"
       ],
       "layout": "IPY_MODEL_5e55de44d8f6422ebf77537f28b105e2"
      }
     },
     "d816d167e4c24710b9c1181d8b7de3e5": {
      "model_module": "@jupyter-widgets/base",
      "model_module_version": "1.2.0",
      "model_name": "LayoutModel",
      "state": {}
     },
     "de404e3cb83a469db1e5a0738a2b385a": {
      "model_module": "@jupyter-widgets/controls",
      "model_module_version": "1.5.0",
      "model_name": "DropdownModel",
      "state": {
       "_options_labels": [
        "Broadband take-up and coverage",
        "Broadband speeds and prices",
        "Mobile market",
        "Internet usage",
        "Take up of internet services",
        "eGovernment",
        "Digital skills",
        "ICT Specialists",
        "Security and privacy"
       ],
       "index": 1,
       "layout": "IPY_MODEL_82796e1e16984b7f8a77ac2aefd6dd99",
       "style": "IPY_MODEL_01eab46ad0c440789e46e3f06f312993"
      }
     },
     "e1ce05a0b5cd4107b8d415ba66a3c30b": {
      "model_module": "plotlywidget",
      "model_module_version": "^4.9.0",
      "model_name": "FigureModel",
      "state": {
       "_config": {
        "plotlyServerURL": "https://plot.ly"
       },
       "_data": [
        {
         "line": {
          "shape": "spline",
          "smoothing": 1.3
         },
         "name": "Estonia",
         "type": "scatter",
         "uid": "0034fb77-1c32-4ddd-83df-98d71f0066ee",
         "visible": true,
         "x": [
          "2011-12-01 00:00:00",
          "2012-06-01 00:00:00",
          "2012-12-01 00:00:00",
          "2013-06-01 00:00:00",
          "2013-12-01 00:00:00",
          "2014-06-01 00:00:00",
          "2014-12-01 00:00:00",
          "2015-06-01 00:00:00",
          "2016-12-01 00:00:00",
          "2017-06-01 00:00:00",
          "2017-12-01 00:00:00",
          "2018-06-01 00:00:00",
          "2018-12-01 00:00:00",
          "2019-06-01 00:00:00"
         ],
         "y": [
          0.0324808,
          0.03327480000000001,
          0.035387699999999994,
          0.036978,
          0.0394966,
          0.0435535,
          0.0527947,
          0.0651649,
          "0.115414",
          "0.115374",
          0.131943,
          0.13253,
          0.150667,
          0.17038699999999998
         ]
        },
        {
         "line": {
          "shape": "spline",
          "smoothing": 1.3
         },
         "name": "Greece",
         "type": "scatter",
         "uid": "06aea31c-0844-4aa1-b18f-27adf1b3e86b",
         "visible": "legendonly",
         "x": [
          "2011-12-01 00:00:00",
          "2012-06-01 00:00:00",
          "2012-12-01 00:00:00",
          "2013-06-01 00:00:00",
          "2013-12-01 00:00:00",
          "2014-06-01 00:00:00",
          "2014-12-01 00:00:00",
          "2015-06-01 00:00:00",
          "2016-12-01 00:00:00",
          "2017-06-01 00:00:00",
          "2017-12-01 00:00:00",
          "2018-06-01 00:00:00",
          "2018-12-01 00:00:00",
          "2019-06-01 00:00:00"
         ],
         "y": [
          "nan",
          "nan",
          "nan",
          "nan",
          "nan",
          "nan",
          "nan",
          0.00011847299999999999,
          "0.000155739",
          0.000173867,
          0.000541519,
          0.00339916,
          0.00615265,
          0.011123899999999999
         ]
        },
        {
         "line": {
          "shape": "spline",
          "smoothing": 1.3
         },
         "name": "Spain",
         "type": "scatter",
         "uid": "756b809c-eb38-4c27-aa36-a62c55afaa68",
         "visible": "legendonly",
         "x": [
          "2011-12-01 00:00:00",
          "2012-06-01 00:00:00",
          "2012-12-01 00:00:00",
          "2013-06-01 00:00:00",
          "2013-12-01 00:00:00",
          "2014-06-01 00:00:00",
          "2014-12-01 00:00:00",
          "2015-06-01 00:00:00",
          "2016-12-01 00:00:00",
          "2017-06-01 00:00:00",
          "2017-12-01 00:00:00",
          "2018-06-01 00:00:00",
          "2018-12-01 00:00:00",
          "2019-06-01 00:00:00"
         ],
         "y": [
          0.0188623,
          0.00547185,
          0.0188623,
          0.0351278,
          0.0588875,
          0.0809151,
          0.108449,
          0.13753800000000002,
          "0.243452",
          "0.240117",
          0.255877,
          0.389434,
          0.554125,
          0.678614
         ]
        },
        {
         "line": {
          "shape": "spline",
          "smoothing": 1.3
         },
         "name": "Finland",
         "type": "scatter",
         "uid": "45de9269-ab84-476c-a025-351f6f0ce8be",
         "visible": "legendonly",
         "x": [
          "2011-12-01 00:00:00",
          "2012-06-01 00:00:00",
          "2012-12-01 00:00:00",
          "2013-06-01 00:00:00",
          "2013-12-01 00:00:00",
          "2014-06-01 00:00:00",
          "2014-12-01 00:00:00",
          "2015-06-01 00:00:00",
          "2016-12-01 00:00:00",
          "2017-06-01 00:00:00",
          "2017-12-01 00:00:00",
          "2018-06-01 00:00:00",
          "2018-12-01 00:00:00",
          "2019-06-01 00:00:00"
         ],
         "y": [
          0.0560399,
          0.0746934,
          0.0985728,
          0.12726099999999999,
          0.15627,
          0.179561,
          0.203185,
          0.22888200000000003,
          "0.282886",
          "0.299181",
          0.319291,
          0.35597199999999996,
          0.361543,
          0.405789
         ]
        },
        {
         "line": {
          "shape": "spline",
          "smoothing": 1.3
         },
         "name": "France",
         "type": "scatter",
         "uid": "b80ef891-0d03-4ed3-8281-63d03b9a7a59",
         "visible": "legendonly",
         "x": [
          "2011-12-01 00:00:00",
          "2012-06-01 00:00:00",
          "2012-12-01 00:00:00",
          "2013-06-01 00:00:00",
          "2013-12-01 00:00:00",
          "2014-06-01 00:00:00",
          "2014-12-01 00:00:00",
          "2015-06-01 00:00:00",
          "2016-12-01 00:00:00",
          "2017-06-01 00:00:00",
          "2017-12-01 00:00:00",
          "2018-06-01 00:00:00",
          "2018-12-01 00:00:00",
          "2019-06-01 00:00:00"
         ],
         "y": [
          "nan",
          0.0332852,
          0.0399589,
          0.0463931,
          0.053639099999999995,
          0.061834900000000005,
          0.07205360000000001,
          0.0838169,
          "0.126972",
          "0.145361",
          0.167484,
          0.188614,
          0.21877,
          0.246221
         ]
        },
        {
         "line": {
          "shape": "spline",
          "smoothing": 1.3
         },
         "name": "Croatia",
         "type": "scatter",
         "uid": "8c982475-0deb-4264-8c0c-16ef8af75c62",
         "visible": "legendonly",
         "x": [
          "2011-12-01 00:00:00",
          "2012-06-01 00:00:00",
          "2012-12-01 00:00:00",
          "2013-06-01 00:00:00",
          "2013-12-01 00:00:00",
          "2014-06-01 00:00:00",
          "2014-12-01 00:00:00",
          "2015-06-01 00:00:00",
          "2016-12-01 00:00:00",
          "2017-06-01 00:00:00",
          "2017-12-01 00:00:00",
          "2018-06-01 00:00:00",
          "2018-12-01 00:00:00",
          "2019-06-01 00:00:00"
         ],
         "y": [
          "nan",
          "nan",
          "nan",
          "nan",
          "nan",
          3.52275e-05,
          3.15066e-05,
          0.00189432,
          0.0135764,
          0.020108599999999997,
          0.053547800000000007,
          0.0647016,
          0.07567230000000001,
          0.08820499999999999
         ]
        },
        {
         "line": {
          "shape": "spline",
          "smoothing": 1.3
         },
         "name": "Hungary",
         "type": "scatter",
         "uid": "850a40ea-9d51-4c25-991e-d9a934ff133c",
         "visible": "legendonly",
         "x": [
          "2011-12-01 00:00:00",
          "2012-06-01 00:00:00",
          "2012-12-01 00:00:00",
          "2013-06-01 00:00:00",
          "2013-12-01 00:00:00",
          "2014-06-01 00:00:00",
          "2014-12-01 00:00:00",
          "2015-06-01 00:00:00",
          "2016-12-01 00:00:00",
          "2017-06-01 00:00:00",
          "2017-12-01 00:00:00",
          "2018-06-01 00:00:00",
          "2018-12-01 00:00:00",
          "2019-06-01 00:00:00"
         ],
         "y": [
          0.0150993,
          0.014699700000000001,
          0.015397399999999999,
          0.0217963,
          0.03918819999999999,
          0.048988,
          0.0640363,
          0.198496,
          "0.334364",
          "0.383485",
          0.476365,
          0.523137,
          0.574971,
          0.622021
         ]
        },
        {
         "line": {
          "color": "rgb(1.0, 0.4980392156862745, 0.0)",
          "shape": "spline",
          "smoothing": 1.3
         },
         "name": "Ireland",
         "type": "scatter",
         "uid": "22bf5b07-7558-4697-bd52-58cfc54c0521",
         "visible": "legendonly",
         "x": [
          "2011-12-01 00:00:00",
          "2012-06-01 00:00:00",
          "2012-12-01 00:00:00",
          "2013-06-01 00:00:00",
          "2013-12-01 00:00:00",
          "2014-06-01 00:00:00",
          "2014-12-01 00:00:00",
          "2015-06-01 00:00:00",
          "2016-12-01 00:00:00",
          "2017-06-01 00:00:00",
          "2017-12-01 00:00:00",
          "2018-06-01 00:00:00",
          "2018-12-01 00:00:00",
          "2019-06-01 00:00:00"
         ],
         "y": [
          0.00421353,
          0.0074960999999999995,
          0.0139368,
          0.041644400000000005,
          0.0747403,
          0.192162,
          0.20381300000000002,
          0.174812,
          0.219216,
          0.23633200000000001,
          0.263917,
          0.276003,
          0.299566,
          0.334276
         ]
        },
        {
         "line": {
          "shape": "spline",
          "smoothing": 1.3
         },
         "name": "Iceland",
         "type": "scatter",
         "uid": "4a43ccd3-ad02-4c34-94d7-8e6480114750",
         "visible": "legendonly",
         "x": [],
         "y": []
        },
        {
         "line": {
          "shape": "spline",
          "smoothing": 1.3
         },
         "name": "Deutschland",
         "type": "scatter",
         "uid": "883d3837-0c67-483e-b1e6-2994135bd228",
         "visible": "legendonly",
         "x": [
          "2011-12-01 00:00:00",
          "2012-06-01 00:00:00",
          "2012-12-01 00:00:00",
          "2013-06-01 00:00:00",
          "2013-12-01 00:00:00",
          "2014-06-01 00:00:00",
          "2014-12-01 00:00:00",
          "2015-06-01 00:00:00",
          "2016-12-01 00:00:00",
          "2017-06-01 00:00:00",
          "2017-12-01 00:00:00",
          "2018-06-01 00:00:00",
          "2018-12-01 00:00:00",
          "2019-06-01 00:00:00"
         ],
         "y": [
          0.00368568,
          0.00679999,
          0.0116145,
          0.018213,
          0.025662900000000002,
          0.0369675,
          0.051915300000000004,
          0.0644976,
          "0.110152",
          "0.126503",
          0.148215,
          0.172931,
          0.19881500000000002,
          0.233194
         ]
        },
        {
         "line": {
          "color": "rgb(1.0, 1.0, 0.6)",
          "shape": "spline",
          "smoothing": 1.3
         },
         "name": "Czech Rep.",
         "type": "scatter",
         "uid": "d8312abb-7059-4d40-b104-529e107f7938",
         "visible": "legendonly",
         "x": [
          "2011-12-01 00:00:00",
          "2012-06-01 00:00:00",
          "2012-12-01 00:00:00",
          "2013-06-01 00:00:00",
          "2013-12-01 00:00:00",
          "2014-06-01 00:00:00",
          "2014-12-01 00:00:00",
          "2015-06-01 00:00:00",
          "2016-12-01 00:00:00",
          "2017-06-01 00:00:00",
          "2017-12-01 00:00:00",
          "2018-06-01 00:00:00",
          "2018-12-01 00:00:00",
          "2019-06-01 00:00:00"
         ],
         "y": [
          0.00663889,
          0.0147807,
          0.013111000000000001,
          0.0170152,
          0.03830580000000001,
          0.0450518,
          0.0507094,
          0.0872217,
          "0.204525",
          "0.212345",
          0.23665999999999998,
          0.241035,
          0.253352,
          0.274967
         ]
        },
        {
         "line": {
          "shape": "spline",
          "smoothing": 1.3
         },
         "name": "Denmark",
         "type": "scatter",
         "uid": "b877319a-10fc-4022-ae5d-30846bcb2308",
         "visible": "legendonly",
         "x": [
          "2011-12-01 00:00:00",
          "2012-06-01 00:00:00",
          "2012-12-01 00:00:00",
          "2013-06-01 00:00:00",
          "2013-12-01 00:00:00",
          "2014-06-01 00:00:00",
          "2014-12-01 00:00:00",
          "2015-06-01 00:00:00",
          "2016-12-01 00:00:00",
          "2017-06-01 00:00:00",
          "2017-12-01 00:00:00",
          "2018-06-01 00:00:00",
          "2018-12-01 00:00:00",
          "2019-06-01 00:00:00"
         ],
         "y": [
          0.014581799999999999,
          0.00766785,
          0.0111489,
          0.015687100000000002,
          0.0168177,
          0.0178579,
          0.0321324,
          0.0929839,
          "0.169521",
          "0.216591",
          0.315345,
          0.345975,
          0.374772,
          0.40389400000000003
         ]
        },
        {
         "line": {
          "color": "rgb(0.00784313725490196, 0.24313725490196078, 1.0)",
          "shape": "spline",
          "smoothing": 1.3
         },
         "name": "Italy",
         "type": "scatter",
         "uid": "21648c6b-daa0-4971-99b7-69bbced26a20",
         "visible": true,
         "x": [
          "2011-12-01 00:00:00",
          "2012-06-01 00:00:00",
          "2012-12-01 00:00:00",
          "2013-06-01 00:00:00",
          "2013-12-01 00:00:00",
          "2014-06-01 00:00:00",
          "2014-12-01 00:00:00",
          "2015-06-01 00:00:00",
          "2016-12-01 00:00:00",
          "2017-06-01 00:00:00",
          "2017-12-01 00:00:00",
          "2018-06-01 00:00:00",
          "2018-12-01 00:00:00",
          "2019-06-01 00:00:00"
         ],
         "y": [
          7.538010000000001e-05,
          6.88492e-05,
          5.97821e-05,
          0.000108572,
          0.00384406,
          0.00431108,
          0.00473231,
          0.00965077,
          "0.0291326",
          "0.0847612",
          0.10808,
          0.14771800000000002,
          0.189419,
          0.22081900000000002
         ]
        },
        {
         "line": {
          "color": "rgb(1.0, 0.48627450980392156, 0.0)",
          "shape": "spline",
          "smoothing": 1.3
         },
         "name": "Lithuania",
         "type": "scatter",
         "uid": "bc4c80af-6d78-4bd8-a2f7-5bfc7120e604",
         "visible": "legendonly",
         "x": [
          "2011-12-01 00:00:00",
          "2012-06-01 00:00:00",
          "2012-12-01 00:00:00",
          "2013-06-01 00:00:00",
          "2013-12-01 00:00:00",
          "2014-06-01 00:00:00",
          "2014-12-01 00:00:00",
          "2015-06-01 00:00:00",
          "2016-12-01 00:00:00",
          "2017-06-01 00:00:00",
          "2017-12-01 00:00:00",
          "2018-06-01 00:00:00",
          "2018-12-01 00:00:00",
          "2019-06-01 00:00:00"
         ],
         "y": [
          0.0939956,
          0.0990669,
          0.10069299999999999,
          0.100477,
          0.09556039999999999,
          0.106635,
          0.11089,
          0.170506,
          0.26811599999999997,
          0.419745,
          0.44000500000000003,
          0.457509,
          0.465316,
          0.470829
         ]
        },
        {
         "line": {
          "shape": "spline",
          "smoothing": 1.3
         },
         "name": "Luxembourg",
         "type": "scatter",
         "uid": "d3de4a52-90a9-4fe5-ba98-915ea0b68042",
         "visible": "legendonly",
         "x": [
          "2011-12-01 00:00:00",
          "2012-06-01 00:00:00",
          "2012-12-01 00:00:00",
          "2013-06-01 00:00:00",
          "2013-12-01 00:00:00",
          "2014-06-01 00:00:00",
          "2014-12-01 00:00:00",
          "2015-06-01 00:00:00",
          "2016-12-01 00:00:00",
          "2017-06-01 00:00:00",
          "2017-12-01 00:00:00",
          "2018-06-01 00:00:00",
          "2018-12-01 00:00:00",
          "2019-06-01 00:00:00"
         ],
         "y": [
          0.00139961,
          0.00416517,
          0.007717100000000001,
          0.00839129,
          0.0142179,
          0.054642899999999994,
          0.0742119,
          0.0888567,
          "0.189802",
          "0.238972",
          0.308084,
          0.380837,
          0.4318,
          0.494154
         ]
        },
        {
         "line": {
          "shape": "spline",
          "smoothing": 1.3
         },
         "name": "Latvia",
         "type": "scatter",
         "uid": "fa2d6b55-ce18-4fbf-9cfb-3b1d63ef8726",
         "visible": "legendonly",
         "x": [
          "2011-12-01 00:00:00",
          "2012-06-01 00:00:00",
          "2012-12-01 00:00:00",
          "2013-06-01 00:00:00",
          "2013-12-01 00:00:00",
          "2014-06-01 00:00:00",
          "2014-12-01 00:00:00",
          "2015-06-01 00:00:00",
          "2016-12-01 00:00:00",
          "2017-06-01 00:00:00",
          "2017-12-01 00:00:00",
          "2018-06-01 00:00:00",
          "2018-12-01 00:00:00",
          "2019-06-01 00:00:00"
         ],
         "y": [
          0.154497,
          0.13663499999999998,
          0.204998,
          0.206223,
          0.356166,
          0.378544,
          0.402025,
          0.421867,
          "0.492272",
          "0.549095",
          0.530207,
          0.532704,
          0.590194,
          0.600255
         ]
        },
        {
         "line": {
          "shape": "spline",
          "smoothing": 1.3
         },
         "name": "Malta",
         "type": "scatter",
         "uid": "c16dd630-df51-41f4-a982-70fd19eb87a1",
         "visible": "legendonly",
         "x": [
          "2011-12-01 00:00:00",
          "2012-06-01 00:00:00",
          "2012-12-01 00:00:00",
          "2013-06-01 00:00:00",
          "2013-12-01 00:00:00",
          "2014-06-01 00:00:00",
          "2014-12-01 00:00:00",
          "2015-06-01 00:00:00",
          "2016-12-01 00:00:00",
          "2017-06-01 00:00:00",
          "2017-12-01 00:00:00",
          "2018-06-01 00:00:00",
          "2018-12-01 00:00:00",
          "2019-06-01 00:00:00"
         ],
         "y": [
          0.00489335,
          0.00631438,
          0.0063969,
          0.00672546,
          0.00678691,
          0.00844277,
          0.00705415,
          0.00965114,
          "0.0616546",
          "0.136471",
          0.200146,
          0.272744,
          0.33257600000000004,
          0.402013
         ]
        },
        {
         "line": {
          "shape": "spline",
          "smoothing": 1.3
         },
         "name": "Netherlands",
         "type": "scatter",
         "uid": "fd232ed2-ab59-415e-b4ab-4f6985847980",
         "visible": "legendonly",
         "x": [
          "2011-12-01 00:00:00",
          "2012-06-01 00:00:00",
          "2012-12-01 00:00:00",
          "2013-06-01 00:00:00",
          "2013-12-01 00:00:00",
          "2014-06-01 00:00:00",
          "2014-12-01 00:00:00",
          "2015-06-01 00:00:00",
          "2016-12-01 00:00:00",
          "2017-06-01 00:00:00",
          "2017-12-01 00:00:00",
          "2018-06-01 00:00:00",
          "2018-12-01 00:00:00",
          "2019-06-01 00:00:00"
         ],
         "y": [
          0.0207302,
          0.028175400000000003,
          0.0409806,
          0.053997199999999995,
          0.09277619999999999,
          0.131241,
          0.160813,
          0.17504,
          0.322986,
          0.329496,
          0.32605300000000004,
          0.396516,
          0.395381,
          0.403858
         ]
        },
        {
         "line": {
          "shape": "spline",
          "smoothing": 1.3
         },
         "name": "Norway",
         "type": "scatter",
         "uid": "560e5cbf-333a-4e69-b206-bb911be5bbca",
         "visible": "legendonly",
         "x": [],
         "y": []
        },
        {
         "line": {
          "shape": "spline",
          "smoothing": 1.3
         },
         "name": "Portugal",
         "type": "scatter",
         "uid": "f0fcca31-f532-456c-99cd-c890ceaf1949",
         "visible": "legendonly",
         "x": [
          "2011-12-01 00:00:00",
          "2012-06-01 00:00:00",
          "2012-12-01 00:00:00",
          "2013-06-01 00:00:00",
          "2013-12-01 00:00:00",
          "2014-06-01 00:00:00",
          "2014-12-01 00:00:00",
          "2015-06-01 00:00:00",
          "2016-12-01 00:00:00",
          "2017-06-01 00:00:00",
          "2017-12-01 00:00:00",
          "2018-06-01 00:00:00",
          "2018-12-01 00:00:00",
          "2019-06-01 00:00:00"
         ],
         "y": [
          0.013367799999999999,
          0.04679880000000001,
          0.10413399999999999,
          0.16430999999999998,
          0.187257,
          0.22640100000000002,
          0.222575,
          0.25455,
          0.42976499999999995,
          0.490868,
          0.631211,
          0.678165,
          0.716458,
          0.7485149999999999
         ]
        },
        {
         "line": {
          "color": "rgb(1.0, 0.7686274509803922, 0.0)",
          "shape": "spline",
          "smoothing": 1.3
         },
         "name": "Poland",
         "type": "scatter",
         "uid": "5fe02db3-05c9-48e0-9ab6-ef483648cbad",
         "visible": "legendonly",
         "x": [
          "2011-12-01 00:00:00",
          "2012-06-01 00:00:00",
          "2012-12-01 00:00:00",
          "2013-06-01 00:00:00",
          "2013-12-01 00:00:00",
          "2014-06-01 00:00:00",
          "2014-12-01 00:00:00",
          "2015-06-01 00:00:00",
          "2016-12-01 00:00:00",
          "2017-06-01 00:00:00",
          "2017-12-01 00:00:00",
          "2018-06-01 00:00:00",
          "2018-12-01 00:00:00",
          "2019-06-01 00:00:00"
         ],
         "y": [
          0.00638424,
          0.00977355,
          0.010798700000000001,
          0.014568799999999998,
          0.0247233,
          0.031681799999999996,
          0.031681400000000005,
          0.08356419999999999,
          0.1755,
          0.21631399999999998,
          0.273696,
          0.381303,
          0.428717,
          0.442201
         ]
        },
        {
         "line": {
          "color": "rgb(0.0, 0.8431372549019608, 1.0)",
          "shape": "spline",
          "smoothing": 1.3
         },
         "name": "Europe",
         "type": "scatter",
         "uid": "9141f0e4-a731-4053-9ec8-9df2b8eaedf2",
         "visible": "legendonly",
         "x": [
          "2011-12-01 00:00:00",
          "2012-06-01 00:00:00",
          "2012-12-01 00:00:00",
          "2013-06-01 00:00:00",
          "2013-12-01 00:00:00",
          "2014-06-01 00:00:00",
          "2014-12-01 00:00:00",
          "2015-06-01 00:00:00",
          "2015-12-01 00:00:00",
          "2016-06-01 00:00:00",
          "2016-12-01 00:00:00",
          "2017-06-01 00:00:00",
          "2017-12-01 00:00:00",
          "2018-06-01 00:00:00",
          "2018-12-01 00:00:00",
          "2019-06-01 00:00:00"
         ],
         "y": [
          0.0161791,
          0.024669299999999998,
          0.0332593,
          0.0421054,
          0.0536692,
          0.06651889999999999,
          0.08656060000000002,
          "0.107555",
          "0.135723",
          "0.152986",
          0.177594,
          0.204154,
          0.22693200000000002,
          0.26255300000000004,
          0.300187,
          0.33308000000000004
         ]
        },
        {
         "line": {
          "shape": "spline",
          "smoothing": 1.3
         },
         "name": "Romania",
         "type": "scatter",
         "uid": "0226e3c7-a2b8-49f9-9e99-701d27618d63",
         "visible": "legendonly",
         "x": [
          "2011-12-01 00:00:00",
          "2012-06-01 00:00:00",
          "2012-12-01 00:00:00",
          "2013-06-01 00:00:00",
          "2013-12-01 00:00:00",
          "2014-06-01 00:00:00",
          "2014-12-01 00:00:00",
          "2015-06-01 00:00:00",
          "2016-12-01 00:00:00",
          "2017-06-01 00:00:00",
          "2017-12-01 00:00:00",
          "2018-06-01 00:00:00",
          "2018-12-01 00:00:00",
          "2019-06-01 00:00:00"
         ],
         "y": [
          0.16000599999999998,
          0.17191800000000002,
          0.1892,
          0.23115700000000003,
          0.24548899999999999,
          0.277661,
          0.46585600000000005,
          0.45956099999999994,
          "0.563293",
          0.654883,
          0.6570590000000001,
          0.682602,
          0.7156359999999999,
          0.741594
         ]
        },
        {
         "line": {
          "shape": "spline",
          "smoothing": 1.3
         },
         "name": "Sweden",
         "type": "scatter",
         "uid": "b7ebeb56-a6a9-4291-a8d5-8810e566777d",
         "visible": "legendonly",
         "x": [
          "2011-12-01 00:00:00",
          "2012-06-01 00:00:00",
          "2012-12-01 00:00:00",
          "2013-06-01 00:00:00",
          "2013-12-01 00:00:00",
          "2014-06-01 00:00:00",
          "2014-12-01 00:00:00",
          "2015-06-01 00:00:00",
          "2016-12-01 00:00:00",
          "2017-06-01 00:00:00",
          "2017-12-01 00:00:00",
          "2018-06-01 00:00:00",
          "2018-12-01 00:00:00",
          "2019-06-01 00:00:00"
         ],
         "y": [
          0.16395099999999999,
          0.17647100000000002,
          0.24602800000000002,
          0.272497,
          0.312677,
          0.33577199999999996,
          0.38374899999999995,
          0.415292,
          "0.591626",
          "0.607918",
          0.672064,
          0.711101,
          0.7351489999999999,
          0.762471
         ]
        },
        {
         "line": {
          "shape": "spline",
          "smoothing": 1.3
         },
         "name": "Slovenia",
         "type": "scatter",
         "uid": "8be01d4a-95d6-4367-b8d5-af55086c41cb",
         "visible": "legendonly",
         "x": [
          "2011-12-01 00:00:00",
          "2012-06-01 00:00:00",
          "2012-12-01 00:00:00",
          "2013-06-01 00:00:00",
          "2013-12-01 00:00:00",
          "2014-06-01 00:00:00",
          "2014-12-01 00:00:00",
          "2015-06-01 00:00:00",
          "2016-12-01 00:00:00",
          "2017-06-01 00:00:00",
          "2017-12-01 00:00:00",
          "2018-06-01 00:00:00",
          "2018-12-01 00:00:00",
          "2019-06-01 00:00:00"
         ],
         "y": [
          0.0161612,
          0.0246572,
          0.032145299999999995,
          0.036823400000000006,
          0.0406366,
          0.044338,
          0.0607873,
          0.0713877,
          0.152937,
          0.17561500000000002,
          0.155589,
          0.187698,
          0.20013599999999998,
          0.24614899999999998
         ]
        },
        {
         "line": {
          "shape": "spline",
          "smoothing": 1.3
         },
         "name": "Slovakia",
         "type": "scatter",
         "uid": "70c3d097-e2cc-4ad5-9888-e4f2361475ee",
         "visible": "legendonly",
         "x": [
          "2011-12-01 00:00:00",
          "2012-06-01 00:00:00",
          "2012-12-01 00:00:00",
          "2013-06-01 00:00:00",
          "2013-12-01 00:00:00",
          "2014-06-01 00:00:00",
          "2014-12-01 00:00:00",
          "2015-06-01 00:00:00",
          "2016-12-01 00:00:00",
          "2017-06-01 00:00:00",
          "2017-12-01 00:00:00",
          "2018-06-01 00:00:00",
          "2018-12-01 00:00:00",
          "2019-06-01 00:00:00"
         ],
         "y": [
          0.0187287,
          0.030331,
          0.0343195,
          0.039058499999999996,
          0.0827495,
          0.0899602,
          0.0948585,
          0.100686,
          "0.126903",
          "0.138023",
          0.18325,
          0.1831,
          0.19128599999999998,
          0.202993
         ]
        },
        {
         "line": {
          "shape": "spline",
          "smoothing": 1.3
         },
         "name": "United Kingdom",
         "type": "scatter",
         "uid": "8c8d7dc2-8bc9-42a3-8157-6e6fd930b1bd",
         "visible": "legendonly",
         "x": [
          "2011-12-01 00:00:00",
          "2012-06-01 00:00:00",
          "2012-12-01 00:00:00",
          "2013-06-01 00:00:00",
          "2013-12-01 00:00:00",
          "2014-06-01 00:00:00",
          "2014-12-01 00:00:00",
          "2015-06-01 00:00:00",
          "2016-12-01 00:00:00",
          "2017-06-01 00:00:00",
          "2017-12-01 00:00:00",
          "2018-06-01 00:00:00",
          "2018-12-01 00:00:00",
          "2019-06-01 00:00:00"
         ],
         "y": [
          0.0005919969999999999,
          0.00354527,
          0.00938455,
          0.0124892,
          0.013474200000000002,
          0.028589499999999997,
          0.054925199999999993,
          0.0721164,
          0.136044,
          0.16780899999999999,
          0.170208,
          0.170645,
          0.187417,
          0.19961099999999998
         ]
        },
        {
         "line": {
          "shape": "spline",
          "smoothing": 1.3
         },
         "name": "Austria",
         "type": "scatter",
         "uid": "00cffd61-4b97-462a-9df4-902a54cabbcb",
         "visible": "legendonly",
         "x": [
          "2011-12-01 00:00:00",
          "2012-06-01 00:00:00",
          "2012-12-01 00:00:00",
          "2013-06-01 00:00:00",
          "2013-12-01 00:00:00",
          "2014-06-01 00:00:00",
          "2014-12-01 00:00:00",
          "2015-06-01 00:00:00",
          "2016-12-01 00:00:00",
          "2017-06-01 00:00:00",
          "2017-12-01 00:00:00",
          "2018-06-01 00:00:00",
          "2018-12-01 00:00:00",
          "2019-06-01 00:00:00"
         ],
         "y": [
          0.00851,
          0.0194923,
          0.0178958,
          0.0173335,
          0.0212353,
          0.0208049,
          0.0342841,
          0.0356399,
          0.0449618,
          0.069703,
          0.0838873,
          0.102281,
          0.111755,
          0.404143
         ]
        },
        {
         "line": {
          "shape": "spline",
          "smoothing": 1.3
         },
         "name": "Belgium",
         "type": "scatter",
         "uid": "eb868517-2d22-44a5-9eb8-80c90b2dcbae",
         "visible": "legendonly",
         "x": [
          "2011-12-01 00:00:00",
          "2012-06-01 00:00:00",
          "2012-12-01 00:00:00",
          "2013-06-01 00:00:00",
          "2013-12-01 00:00:00",
          "2014-06-01 00:00:00",
          "2014-12-01 00:00:00",
          "2015-06-01 00:00:00",
          "2016-12-01 00:00:00",
          "2017-06-01 00:00:00",
          "2017-12-01 00:00:00",
          "2018-06-01 00:00:00",
          "2018-12-01 00:00:00",
          "2019-06-01 00:00:00"
         ],
         "y": [
          0.0756307,
          0.10307899999999999,
          0.12201400000000001,
          0.135191,
          0.132993,
          0.132993,
          0.139909,
          0.263177,
          "0.475209",
          "0.516618",
          0.523069,
          0.527751,
          0.5464600000000001,
          0.566347
         ]
        },
        {
         "line": {
          "shape": "spline",
          "smoothing": 1.3
         },
         "name": "Bulgaria",
         "type": "scatter",
         "uid": "b60703ca-c48c-4f05-8a3a-56c444af5e0e",
         "visible": "legendonly",
         "x": [
          "2011-12-01 00:00:00",
          "2012-06-01 00:00:00",
          "2012-12-01 00:00:00",
          "2013-06-01 00:00:00",
          "2013-12-01 00:00:00",
          "2014-06-01 00:00:00",
          "2014-12-01 00:00:00",
          "2015-06-01 00:00:00",
          "2016-12-01 00:00:00",
          "2017-06-01 00:00:00",
          "2017-12-01 00:00:00",
          "2018-06-01 00:00:00",
          "2018-12-01 00:00:00",
          "2019-06-01 00:00:00"
         ],
         "y": [
          0.00176734,
          0.0114214,
          0.0118455,
          0.0215912,
          0.0292821,
          0.0371288,
          0.048181199999999993,
          0.0551168,
          0.09419939999999999,
          0.11139,
          0.146285,
          0.167705,
          0.17986,
          0.19022999999999998
         ]
        },
        {
         "line": {
          "shape": "spline",
          "smoothing": 1.3
         },
         "name": "Cyprus",
         "type": "scatter",
         "uid": "07e8f4be-9aba-4778-a67f-71aa01178f2c",
         "visible": "legendonly",
         "x": [
          "2011-12-01 00:00:00",
          "2012-06-01 00:00:00",
          "2012-12-01 00:00:00",
          "2013-06-01 00:00:00",
          "2013-12-01 00:00:00",
          "2014-06-01 00:00:00",
          "2014-12-01 00:00:00",
          "2015-06-01 00:00:00",
          "2016-12-01 00:00:00",
          "2017-06-01 00:00:00",
          "2017-12-01 00:00:00",
          "2018-06-01 00:00:00",
          "2018-12-01 00:00:00",
          "2019-06-01 00:00:00"
         ],
         "y": [
          "nan",
          0.00038903699999999995,
          0.000544015,
          0.000606952,
          0.000607759,
          0.000627366,
          0.000718358,
          0.000744557,
          "0.00210067",
          "0.00289805",
          0.00647985,
          0.0210443,
          0.021674099999999998,
          0.027144799999999997
         ]
        },
        {
         "line": {
          "shape": "spline",
          "smoothing": 1.3
         },
         "name": "Switzerland",
         "type": "scatter",
         "uid": "684f9505-71e1-42d0-bc9a-9ee95bb9b6c1",
         "visible": "legendonly",
         "x": [],
         "y": []
        }
       ],
       "_js2py_update": {},
       "_last_layout_edit_id": 134,
       "_last_trace_edit_id": 133,
       "_layout": {
        "autosize": true,
        "height": 600,
        "legend": {
         "title": {
          "text": "Countries"
         }
        },
        "showlegend": true,
        "template": {
         "data": {
          "bar": [
           {
            "error_x": {
             "color": "#2a3f5f"
            },
            "error_y": {
             "color": "#2a3f5f"
            },
            "marker": {
             "line": {
              "color": "#E5ECF6",
              "width": 0.5
             }
            },
            "type": "bar"
           }
          ],
          "barpolar": [
           {
            "marker": {
             "line": {
              "color": "#E5ECF6",
              "width": 0.5
             }
            },
            "type": "barpolar"
           }
          ],
          "carpet": [
           {
            "aaxis": {
             "endlinecolor": "#2a3f5f",
             "gridcolor": "white",
             "linecolor": "white",
             "minorgridcolor": "white",
             "startlinecolor": "#2a3f5f"
            },
            "baxis": {
             "endlinecolor": "#2a3f5f",
             "gridcolor": "white",
             "linecolor": "white",
             "minorgridcolor": "white",
             "startlinecolor": "#2a3f5f"
            },
            "type": "carpet"
           }
          ],
          "choropleth": [
           {
            "colorbar": {
             "outlinewidth": 0,
             "ticks": ""
            },
            "type": "choropleth"
           }
          ],
          "contour": [
           {
            "colorbar": {
             "outlinewidth": 0,
             "ticks": ""
            },
            "colorscale": [
             [
              0,
              "#0d0887"
             ],
             [
              0.1111111111111111,
              "#46039f"
             ],
             [
              0.2222222222222222,
              "#7201a8"
             ],
             [
              0.3333333333333333,
              "#9c179e"
             ],
             [
              0.4444444444444444,
              "#bd3786"
             ],
             [
              0.5555555555555556,
              "#d8576b"
             ],
             [
              0.6666666666666666,
              "#ed7953"
             ],
             [
              0.7777777777777778,
              "#fb9f3a"
             ],
             [
              0.8888888888888888,
              "#fdca26"
             ],
             [
              1,
              "#f0f921"
             ]
            ],
            "type": "contour"
           }
          ],
          "contourcarpet": [
           {
            "colorbar": {
             "outlinewidth": 0,
             "ticks": ""
            },
            "type": "contourcarpet"
           }
          ],
          "heatmap": [
           {
            "colorbar": {
             "outlinewidth": 0,
             "ticks": ""
            },
            "colorscale": [
             [
              0,
              "#0d0887"
             ],
             [
              0.1111111111111111,
              "#46039f"
             ],
             [
              0.2222222222222222,
              "#7201a8"
             ],
             [
              0.3333333333333333,
              "#9c179e"
             ],
             [
              0.4444444444444444,
              "#bd3786"
             ],
             [
              0.5555555555555556,
              "#d8576b"
             ],
             [
              0.6666666666666666,
              "#ed7953"
             ],
             [
              0.7777777777777778,
              "#fb9f3a"
             ],
             [
              0.8888888888888888,
              "#fdca26"
             ],
             [
              1,
              "#f0f921"
             ]
            ],
            "type": "heatmap"
           }
          ],
          "heatmapgl": [
           {
            "colorbar": {
             "outlinewidth": 0,
             "ticks": ""
            },
            "colorscale": [
             [
              0,
              "#0d0887"
             ],
             [
              0.1111111111111111,
              "#46039f"
             ],
             [
              0.2222222222222222,
              "#7201a8"
             ],
             [
              0.3333333333333333,
              "#9c179e"
             ],
             [
              0.4444444444444444,
              "#bd3786"
             ],
             [
              0.5555555555555556,
              "#d8576b"
             ],
             [
              0.6666666666666666,
              "#ed7953"
             ],
             [
              0.7777777777777778,
              "#fb9f3a"
             ],
             [
              0.8888888888888888,
              "#fdca26"
             ],
             [
              1,
              "#f0f921"
             ]
            ],
            "type": "heatmapgl"
           }
          ],
          "histogram": [
           {
            "marker": {
             "colorbar": {
              "outlinewidth": 0,
              "ticks": ""
             }
            },
            "type": "histogram"
           }
          ],
          "histogram2d": [
           {
            "colorbar": {
             "outlinewidth": 0,
             "ticks": ""
            },
            "colorscale": [
             [
              0,
              "#0d0887"
             ],
             [
              0.1111111111111111,
              "#46039f"
             ],
             [
              0.2222222222222222,
              "#7201a8"
             ],
             [
              0.3333333333333333,
              "#9c179e"
             ],
             [
              0.4444444444444444,
              "#bd3786"
             ],
             [
              0.5555555555555556,
              "#d8576b"
             ],
             [
              0.6666666666666666,
              "#ed7953"
             ],
             [
              0.7777777777777778,
              "#fb9f3a"
             ],
             [
              0.8888888888888888,
              "#fdca26"
             ],
             [
              1,
              "#f0f921"
             ]
            ],
            "type": "histogram2d"
           }
          ],
          "histogram2dcontour": [
           {
            "colorbar": {
             "outlinewidth": 0,
             "ticks": ""
            },
            "colorscale": [
             [
              0,
              "#0d0887"
             ],
             [
              0.1111111111111111,
              "#46039f"
             ],
             [
              0.2222222222222222,
              "#7201a8"
             ],
             [
              0.3333333333333333,
              "#9c179e"
             ],
             [
              0.4444444444444444,
              "#bd3786"
             ],
             [
              0.5555555555555556,
              "#d8576b"
             ],
             [
              0.6666666666666666,
              "#ed7953"
             ],
             [
              0.7777777777777778,
              "#fb9f3a"
             ],
             [
              0.8888888888888888,
              "#fdca26"
             ],
             [
              1,
              "#f0f921"
             ]
            ],
            "type": "histogram2dcontour"
           }
          ],
          "mesh3d": [
           {
            "colorbar": {
             "outlinewidth": 0,
             "ticks": ""
            },
            "type": "mesh3d"
           }
          ],
          "parcoords": [
           {
            "line": {
             "colorbar": {
              "outlinewidth": 0,
              "ticks": ""
             }
            },
            "type": "parcoords"
           }
          ],
          "pie": [
           {
            "automargin": true,
            "type": "pie"
           }
          ],
          "scatter": [
           {
            "marker": {
             "colorbar": {
              "outlinewidth": 0,
              "ticks": ""
             }
            },
            "type": "scatter"
           }
          ],
          "scatter3d": [
           {
            "line": {
             "colorbar": {
              "outlinewidth": 0,
              "ticks": ""
             }
            },
            "marker": {
             "colorbar": {
              "outlinewidth": 0,
              "ticks": ""
             }
            },
            "type": "scatter3d"
           }
          ],
          "scattercarpet": [
           {
            "marker": {
             "colorbar": {
              "outlinewidth": 0,
              "ticks": ""
             }
            },
            "type": "scattercarpet"
           }
          ],
          "scattergeo": [
           {
            "marker": {
             "colorbar": {
              "outlinewidth": 0,
              "ticks": ""
             }
            },
            "type": "scattergeo"
           }
          ],
          "scattergl": [
           {
            "marker": {
             "colorbar": {
              "outlinewidth": 0,
              "ticks": ""
             }
            },
            "type": "scattergl"
           }
          ],
          "scattermapbox": [
           {
            "marker": {
             "colorbar": {
              "outlinewidth": 0,
              "ticks": ""
             }
            },
            "type": "scattermapbox"
           }
          ],
          "scatterpolar": [
           {
            "marker": {
             "colorbar": {
              "outlinewidth": 0,
              "ticks": ""
             }
            },
            "type": "scatterpolar"
           }
          ],
          "scatterpolargl": [
           {
            "marker": {
             "colorbar": {
              "outlinewidth": 0,
              "ticks": ""
             }
            },
            "type": "scatterpolargl"
           }
          ],
          "scatterternary": [
           {
            "marker": {
             "colorbar": {
              "outlinewidth": 0,
              "ticks": ""
             }
            },
            "type": "scatterternary"
           }
          ],
          "surface": [
           {
            "colorbar": {
             "outlinewidth": 0,
             "ticks": ""
            },
            "colorscale": [
             [
              0,
              "#0d0887"
             ],
             [
              0.1111111111111111,
              "#46039f"
             ],
             [
              0.2222222222222222,
              "#7201a8"
             ],
             [
              0.3333333333333333,
              "#9c179e"
             ],
             [
              0.4444444444444444,
              "#bd3786"
             ],
             [
              0.5555555555555556,
              "#d8576b"
             ],
             [
              0.6666666666666666,
              "#ed7953"
             ],
             [
              0.7777777777777778,
              "#fb9f3a"
             ],
             [
              0.8888888888888888,
              "#fdca26"
             ],
             [
              1,
              "#f0f921"
             ]
            ],
            "type": "surface"
           }
          ],
          "table": [
           {
            "cells": {
             "fill": {
              "color": "#EBF0F8"
             },
             "line": {
              "color": "white"
             }
            },
            "header": {
             "fill": {
              "color": "#C8D4E3"
             },
             "line": {
              "color": "white"
             }
            },
            "type": "table"
           }
          ]
         },
         "layout": {
          "annotationdefaults": {
           "arrowcolor": "#2a3f5f",
           "arrowhead": 0,
           "arrowwidth": 1
          },
          "coloraxis": {
           "colorbar": {
            "outlinewidth": 0,
            "ticks": ""
           }
          },
          "colorscale": {
           "diverging": [
            [
             0,
             "#8e0152"
            ],
            [
             0.1,
             "#c51b7d"
            ],
            [
             0.2,
             "#de77ae"
            ],
            [
             0.3,
             "#f1b6da"
            ],
            [
             0.4,
             "#fde0ef"
            ],
            [
             0.5,
             "#f7f7f7"
            ],
            [
             0.6,
             "#e6f5d0"
            ],
            [
             0.7,
             "#b8e186"
            ],
            [
             0.8,
             "#7fbc41"
            ],
            [
             0.9,
             "#4d9221"
            ],
            [
             1,
             "#276419"
            ]
           ],
           "sequential": [
            [
             0,
             "#0d0887"
            ],
            [
             0.1111111111111111,
             "#46039f"
            ],
            [
             0.2222222222222222,
             "#7201a8"
            ],
            [
             0.3333333333333333,
             "#9c179e"
            ],
            [
             0.4444444444444444,
             "#bd3786"
            ],
            [
             0.5555555555555556,
             "#d8576b"
            ],
            [
             0.6666666666666666,
             "#ed7953"
            ],
            [
             0.7777777777777778,
             "#fb9f3a"
            ],
            [
             0.8888888888888888,
             "#fdca26"
            ],
            [
             1,
             "#f0f921"
            ]
           ],
           "sequentialminus": [
            [
             0,
             "#0d0887"
            ],
            [
             0.1111111111111111,
             "#46039f"
            ],
            [
             0.2222222222222222,
             "#7201a8"
            ],
            [
             0.3333333333333333,
             "#9c179e"
            ],
            [
             0.4444444444444444,
             "#bd3786"
            ],
            [
             0.5555555555555556,
             "#d8576b"
            ],
            [
             0.6666666666666666,
             "#ed7953"
            ],
            [
             0.7777777777777778,
             "#fb9f3a"
            ],
            [
             0.8888888888888888,
             "#fdca26"
            ],
            [
             1,
             "#f0f921"
            ]
           ]
          },
          "colorway": [
           "#636efa",
           "#EF553B",
           "#00cc96",
           "#ab63fa",
           "#FFA15A",
           "#19d3f3",
           "#FF6692",
           "#B6E880",
           "#FF97FF",
           "#FECB52"
          ],
          "font": {
           "color": "#2a3f5f"
          },
          "geo": {
           "bgcolor": "white",
           "lakecolor": "white",
           "landcolor": "#E5ECF6",
           "showlakes": true,
           "showland": true,
           "subunitcolor": "white"
          },
          "hoverlabel": {
           "align": "left"
          },
          "hovermode": "closest",
          "mapbox": {
           "style": "light"
          },
          "paper_bgcolor": "white",
          "plot_bgcolor": "#E5ECF6",
          "polar": {
           "angularaxis": {
            "gridcolor": "white",
            "linecolor": "white",
            "ticks": ""
           },
           "bgcolor": "#E5ECF6",
           "radialaxis": {
            "gridcolor": "white",
            "linecolor": "white",
            "ticks": ""
           }
          },
          "scene": {
           "xaxis": {
            "backgroundcolor": "#E5ECF6",
            "gridcolor": "white",
            "gridwidth": 2,
            "linecolor": "white",
            "showbackground": true,
            "ticks": "",
            "zerolinecolor": "white"
           },
           "yaxis": {
            "backgroundcolor": "#E5ECF6",
            "gridcolor": "white",
            "gridwidth": 2,
            "linecolor": "white",
            "showbackground": true,
            "ticks": "",
            "zerolinecolor": "white"
           },
           "zaxis": {
            "backgroundcolor": "#E5ECF6",
            "gridcolor": "white",
            "gridwidth": 2,
            "linecolor": "white",
            "showbackground": true,
            "ticks": "",
            "zerolinecolor": "white"
           }
          },
          "shapedefaults": {
           "line": {
            "color": "#2a3f5f"
           }
          },
          "ternary": {
           "aaxis": {
            "gridcolor": "white",
            "linecolor": "white",
            "ticks": ""
           },
           "baxis": {
            "gridcolor": "white",
            "linecolor": "white",
            "ticks": ""
           },
           "bgcolor": "#E5ECF6",
           "caxis": {
            "gridcolor": "white",
            "linecolor": "white",
            "ticks": ""
           }
          },
          "title": {
           "x": 0.05
          },
          "xaxis": {
           "automargin": true,
           "gridcolor": "white",
           "linecolor": "white",
           "ticks": "",
           "title": {
            "standoff": 15
           },
           "zerolinecolor": "white",
           "zerolinewidth": 2
          },
          "yaxis": {
           "automargin": true,
           "gridcolor": "white",
           "linecolor": "white",
           "ticks": "",
           "title": {
            "standoff": 15
           },
           "zerolinecolor": "white",
           "zerolinewidth": 2
          }
         }
        },
        "title": {
         "text": "Share of fixed broadband subscriptions >= 100 Mbps"
        },
        "xaxis": {
         "title": {
          "text": "Year"
         }
        },
        "yaxis": {
         "title": {
          "text": "Percentage"
         }
        }
       },
       "_py2js_animate": {},
       "_py2js_deleteTraces": {},
       "_py2js_moveTraces": {},
       "_py2js_removeLayoutProps": {},
       "_view_count": 1
      }
     },
     "e528d57a059344f8b4008031b11630d2": {
      "model_module": "@jupyter-widgets/base",
      "model_module_version": "1.2.0",
      "model_name": "LayoutModel",
      "state": {}
     },
     "e5a3e483fde545adbf8b3c74bf17222e": {
      "model_module": "@jupyter-widgets/controls",
      "model_module_version": "1.5.0",
      "model_name": "DescriptionStyleModel",
      "state": {
       "description_width": ""
      }
     },
     "e66964c3598c45afbf03442d5b8fd91e": {
      "model_module": "@jupyter-widgets/base",
      "model_module_version": "1.2.0",
      "model_name": "LayoutModel",
      "state": {}
     },
     "ee18c6e29d4a48b8b0e9f3bcfdeace53": {
      "model_module": "@jupyter-widgets/base",
      "model_module_version": "1.2.0",
      "model_name": "LayoutModel",
      "state": {}
     },
     "f1cd3bd5c5224a8db0629a91c4c9663f": {
      "model_module": "@jupyter-widgets/base",
      "model_module_version": "1.2.0",
      "model_name": "LayoutModel",
      "state": {}
     },
     "f364daca58e340a4bb3a31377b9b549f": {
      "model_module": "@jupyter-widgets/controls",
      "model_module_version": "1.5.0",
      "model_name": "DescriptionStyleModel",
      "state": {
       "description_width": ""
      }
     },
     "fb84d4f7b99d4253a546d2b4694020c3": {
      "model_module": "@jupyter-widgets/controls",
      "model_module_version": "1.5.0",
      "model_name": "DescriptionStyleModel",
      "state": {
       "description_width": ""
      }
     },
     "fbe46a5cbeec4a098ff6a84bd0549fa6": {
      "model_module": "@jupyter-widgets/controls",
      "model_module_version": "1.5.0",
      "model_name": "HTMLModel",
      "state": {
       "layout": "IPY_MODEL_7311dd2ae39442d6b1da666694fe64b9",
       "style": "IPY_MODEL_379da9059597437c8b1185bc908eb709",
       "value": "<p>Click on the name of the countries in the legend in order to visualize the corresponding values in the graph.</p>"
      }
     },
     "ffb2953e778d46128e1873d907df4f4c": {
      "model_module": "@jupyter-widgets/controls",
      "model_module_version": "1.5.0",
      "model_name": "LabelModel",
      "state": {
       "layout": "IPY_MODEL_8fff5c84d1f6447599cf4957ef1996a9",
       "style": "IPY_MODEL_f364daca58e340a4bb3a31377b9b549f",
       "value": "Indicator:"
      }
     }
    },
    "version_major": 2,
    "version_minor": 0
   }
  }
 },
 "nbformat": 4,
 "nbformat_minor": 4
}
